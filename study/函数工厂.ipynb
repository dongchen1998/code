{
 "cells": [
  {
   "cell_type": "code",
   "execution_count": 5,
   "metadata": {},
   "outputs": [],
   "source": [
    "def plus(a, b):\n",
    "    return a + b\n",
    "\n",
    "def subtract(a, b):\n",
    "    return a - b\n",
    "\n",
    "def multiply(a, b):\n",
    "    return a * b\n",
    "\n",
    "def divide(a, b):\n",
    "    if b == 0:\n",
    "        raise ValueError('b can not be zero')\n",
    "    return a / b"
   ]
  },
  {
   "cell_type": "markdown",
   "metadata": {},
   "source": [
    "常规模式（臃肿）"
   ]
  },
  {
   "cell_type": "code",
   "execution_count": 4,
   "metadata": {},
   "outputs": [],
   "source": [
    "# def cal(a, b, how):\n",
    "#     if how == 1:\n",
    "#         return plus(a, b)\n",
    "#     elif how == 2:\n",
    "#         return subtract(a, b)\n",
    "#     elif how == 3:\n",
    "#         return multiply(a, b)\n",
    "#     elif how == 4:\n",
    "#         return divide(a, b)\n",
    "#     else:\n",
    "#         raise ValueError('how should be 1, 2, 3 or 4')\n",
    "\n",
    "# cal(1, 2, 1)"
   ]
  },
  {
   "cell_type": "markdown",
   "metadata": {},
   "source": [
    "函数工厂"
   ]
  },
  {
   "cell_type": "code",
   "execution_count": 1,
   "metadata": {},
   "outputs": [
    {
     "ename": "NameError",
     "evalue": "name 'plus' is not defined",
     "output_type": "error",
     "traceback": [
      "\u001b[0;31m---------------------------------------------------------------------------\u001b[0m",
      "\u001b[0;31mNameError\u001b[0m                                 Traceback (most recent call last)",
      "Cell \u001b[0;32mIn[1], line 2\u001b[0m\n\u001b[1;32m      1\u001b[0m func_map \u001b[39m=\u001b[39m {\n\u001b[0;32m----> 2\u001b[0m     \u001b[39m\"\u001b[39m\u001b[39mplus\u001b[39m\u001b[39m\"\u001b[39m: plus,\n\u001b[1;32m      3\u001b[0m     \u001b[39m\"\u001b[39m\u001b[39msubtract\u001b[39m\u001b[39m\"\u001b[39m: subtract,\n\u001b[1;32m      4\u001b[0m     \u001b[39m\"\u001b[39m\u001b[39mmultiply\u001b[39m\u001b[39m\"\u001b[39m: multiply,\n\u001b[1;32m      5\u001b[0m     \u001b[39m\"\u001b[39m\u001b[39mdivide\u001b[39m\u001b[39m\"\u001b[39m: divide,\n\u001b[1;32m      6\u001b[0m }\n\u001b[1;32m      8\u001b[0m \u001b[39mdef\u001b[39;00m \u001b[39mcal\u001b[39m(a, b, how):\n\u001b[1;32m      9\u001b[0m     \u001b[39mif\u001b[39;00m how \u001b[39min\u001b[39;00m func_map:\n",
      "\u001b[0;31mNameError\u001b[0m: name 'plus' is not defined"
     ]
    }
   ],
   "source": [
    "func_map = {\n",
    "    \"plus\": plus,\n",
    "    \"subtract\": subtract,\n",
    "    \"multiply\": multiply,\n",
    "    \"divide\": divide,\n",
    "}\n",
    "\n",
    "def cal(a, b, how):\n",
    "    if how in func_map:\n",
    "        return func_map[how](a, b)\n",
    "    else:\n",
    "        raise ValueError('how should be in {}'.format(func_map.keys()))\n",
    "\n",
    "\n",
    "cal(1, 2, 'plus')"
   ]
  }
 ],
 "metadata": {
  "kernelspec": {
   "display_name": "demo",
   "language": "python",
   "name": "python3"
  },
  "language_info": {
   "codemirror_mode": {
    "name": "ipython",
    "version": 3
   },
   "file_extension": ".py",
   "mimetype": "text/x-python",
   "name": "python",
   "nbconvert_exporter": "python",
   "pygments_lexer": "ipython3",
   "version": "3.9.0"
  },
  "orig_nbformat": 4
 },
 "nbformat": 4,
 "nbformat_minor": 2
}
