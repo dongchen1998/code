{
 "cells": [
  {
   "cell_type": "code",
   "execution_count": 6,
   "metadata": {},
   "outputs": [],
   "source": [
    "import plotly.graph_objects as go\n",
    "import numpy as np\n",
    "import pandas as pd"
   ]
  },
  {
   "cell_type": "code",
   "execution_count": 7,
   "metadata": {},
   "outputs": [],
   "source": [
    "def draw_3d_rbas(z_data, o2_bound, substrate_bound, number, out_fig_file):\n",
    "\n",
    "    # 创建Plotly布局\n",
    "    layout = go.Layout(template='none', plot_bgcolor='lightyellow')\n",
    "    \n",
    "    # 定义X轴和Y轴的数据范围\n",
    "    exlist = list(np.linspace(1, substrate_bound, number))\n",
    "    exlisto2 = list(np.linspace(1, o2_bound, number))\n",
    "\n",
    "    # 创建三维曲面图\n",
    "    fig = go.Figure(data=[go.Surface(y=exlist, x=exlisto2, z=z_data.values)], layout=layout)\n",
    "\n",
    "    # 更新图表布局和样式\n",
    "    fig.update_layout(scene=dict(\n",
    "        xaxis=dict(range=[0, o2_bound + 0.2], tickfont=dict(size=18, family='Times New Roman'), \n",
    "                   backgroundcolor=\"lightyellow\", \n",
    "                   title=dict(text=\"<b>O2 uptake rates<br>(mmol/gDW/h)</b>\", font=dict(size=18, family='Times New Roman'))),\n",
    "        yaxis=dict(range=[0, substrate_bound + 0.2], tickfont=dict(size=18, family='Times New Roman'), \n",
    "                   backgroundcolor=\"lightgreen\", \n",
    "                   title=dict(text=\"<b>Glucose uptake rates<br>(mmol/gDW/h)</b>\", font=dict(size=18, family='Times New Roman'))),\n",
    "        zaxis=dict(range=[0, 0.8], tickfont=dict(size=18, family='Times New Roman'), \n",
    "                   backgroundcolor=\"lightgreen\", gridcolor=\"grey\", \n",
    "                   title=dict(text=\"<b>Growth rates<br>(1/h)</b>\", font=dict(size=18, family='Times New Roman')))))\n",
    "\n",
    "    fig.update_traces(contours_z=dict(usecolormap=True, highlightcolor=\"lightyellow\", project_z=True))\n",
    "    fig.update_layout(coloraxis_colorbar=dict(len=0.6, tickfont=dict(size=18, family='Times New Roman')))\n",
    "    fig.update_layout(autosize=False, scene_camera_eye=dict(x=-0.4, y=-2.1, z=0.4),\n",
    "                      width=1000, height=1000, margin=dict(l=20, r=20, b=20, t=20))\n",
    "    fig.update_scenes(yaxis_tickangle=0, xaxis_tickangle=0)\n",
    "    fig = go.Figure(data=[go.Surface(y=exlist, x=exlisto2, z=z_data.values, colorscale='Viridis')], layout=layout)\n",
    "\n",
    "\n",
    "    # 保存图表为图像文件\n",
    "    fig.write_image(out_fig_file)\n",
    "\n",
    "    # 保存为HTML文件\n",
    "    fig.write_html(out_fig_file + '.html')\n",
    "\n",
    "    return fig"
   ]
  }
 ],
 "metadata": {
  "kernelspec": {
   "display_name": "code",
   "language": "python",
   "name": "python3"
  },
  "language_info": {
   "codemirror_mode": {
    "name": "ipython",
    "version": 3
   },
   "file_extension": ".py",
   "mimetype": "text/x-python",
   "name": "python",
   "nbconvert_exporter": "python",
   "pygments_lexer": "ipython3",
   "version": "3.10.0"
  }
 },
 "nbformat": 4,
 "nbformat_minor": 2
}
