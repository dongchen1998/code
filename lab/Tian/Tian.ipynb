{
 "cells": [
  {
   "cell_type": "code",
   "execution_count": 1,
   "metadata": {},
   "outputs": [
    {
     "data": {
      "text/html": [
       "<div>\n",
       "<style scoped>\n",
       "    .dataframe tbody tr th:only-of-type {\n",
       "        vertical-align: middle;\n",
       "    }\n",
       "\n",
       "    .dataframe tbody tr th {\n",
       "        vertical-align: top;\n",
       "    }\n",
       "\n",
       "    .dataframe thead th {\n",
       "        text-align: right;\n",
       "    }\n",
       "</style>\n",
       "<table border=\"1\" class=\"dataframe\">\n",
       "  <thead>\n",
       "    <tr style=\"text-align: right;\">\n",
       "      <th></th>\n",
       "      <th>PMID</th>\n",
       "      <th>Author</th>\n",
       "      <th>Title</th>\n",
       "      <th>Abstract</th>\n",
       "      <th>Journal</th>\n",
       "      <th>Institution</th>\n",
       "      <th>Country</th>\n",
       "      <th>DOI</th>\n",
       "      <th>Publication Year</th>\n",
       "    </tr>\n",
       "  </thead>\n",
       "  <tbody>\n",
       "    <tr>\n",
       "      <th>0</th>\n",
       "      <td>25724976</td>\n",
       "      <td>['Taha, Mohamed', 'Shahsavari, Esmaeil', 'Al-H...</td>\n",
       "      <td>Enhanced biological straw saccharification thr...</td>\n",
       "      <td>Lignocellulosic waste (LCW) is an abundant, lo...</td>\n",
       "      <td>Applied biochemistry and biotechnology</td>\n",
       "      <td>Centre for Environmental Sustainability and Re...</td>\n",
       "      <td>Australia</td>\n",
       "      <td>10.1007/s12010-015-1539-9</td>\n",
       "      <td>2015</td>\n",
       "    </tr>\n",
       "    <tr>\n",
       "      <th>1</th>\n",
       "      <td>35847290</td>\n",
       "      <td>['Padhi, Sidhant Satya Prakash', 'Jimenez Bart...</td>\n",
       "      <td>Role of Surface Enhancement in the Enzymatic C...</td>\n",
       "      <td>Lignosulfonate (LS), one of the byproducts of ...</td>\n",
       "      <td>ACS omega</td>\n",
       "      <td>Wood Kplus - Competence Center for Wood Compos...</td>\n",
       "      <td>Australia</td>\n",
       "      <td>10.1021/acsomega.2c02421</td>\n",
       "      <td>2022</td>\n",
       "    </tr>\n",
       "    <tr>\n",
       "      <th>2</th>\n",
       "      <td>29317354</td>\n",
       "      <td>['Huber, Daniela', 'Bleymaier, Klaus', 'Pellis...</td>\n",
       "      <td>Laccase catalyzed elimination of morphine from...</td>\n",
       "      <td>Pharmaceuticals contaminate the environment fo...</td>\n",
       "      <td>New biotechnology</td>\n",
       "      <td>Institute of Environmental Biotechnology, Univ...</td>\n",
       "      <td>Australia</td>\n",
       "      <td>10.1016/j.nbt.2018.01.003</td>\n",
       "      <td>2018</td>\n",
       "    </tr>\n",
       "    <tr>\n",
       "      <th>3</th>\n",
       "      <td>28935560</td>\n",
       "      <td>['Huber, Daniela', 'Grzelak, Adrianna', 'Bauma...</td>\n",
       "      <td>Anti-inflammatory and anti-oxidant properties ...</td>\n",
       "      <td>A bioactive O-carboxymethyl chitosan (CMCS) hy...</td>\n",
       "      <td>New biotechnology</td>\n",
       "      <td>Institute of Environmental Biotechnology, Univ...</td>\n",
       "      <td>Australia</td>\n",
       "      <td>10.1016/j.nbt.2017.09.004</td>\n",
       "      <td>2018</td>\n",
       "    </tr>\n",
       "    <tr>\n",
       "      <th>4</th>\n",
       "      <td>30974557</td>\n",
       "      <td>['Huber, Daniela', 'Pellis, Alessandro', 'Daxb...</td>\n",
       "      <td>Polymerization of Various Lignins via Immobili...</td>\n",
       "      <td>Enzymatic polymerization of lignin is an envir...</td>\n",
       "      <td>Polymers</td>\n",
       "      <td>Institute of Environmental Biotechnology, Univ...</td>\n",
       "      <td>Australia</td>\n",
       "      <td>10.3390/polym8080280</td>\n",
       "      <td>2016</td>\n",
       "    </tr>\n",
       "  </tbody>\n",
       "</table>\n",
       "</div>"
      ],
      "text/plain": [
       "       PMID                                             Author   \n",
       "0  25724976  ['Taha, Mohamed', 'Shahsavari, Esmaeil', 'Al-H...  \\\n",
       "1  35847290  ['Padhi, Sidhant Satya Prakash', 'Jimenez Bart...   \n",
       "2  29317354  ['Huber, Daniela', 'Bleymaier, Klaus', 'Pellis...   \n",
       "3  28935560  ['Huber, Daniela', 'Grzelak, Adrianna', 'Bauma...   \n",
       "4  30974557  ['Huber, Daniela', 'Pellis, Alessandro', 'Daxb...   \n",
       "\n",
       "                                               Title   \n",
       "0  Enhanced biological straw saccharification thr...  \\\n",
       "1  Role of Surface Enhancement in the Enzymatic C...   \n",
       "2  Laccase catalyzed elimination of morphine from...   \n",
       "3  Anti-inflammatory and anti-oxidant properties ...   \n",
       "4  Polymerization of Various Lignins via Immobili...   \n",
       "\n",
       "                                            Abstract   \n",
       "0  Lignocellulosic waste (LCW) is an abundant, lo...  \\\n",
       "1  Lignosulfonate (LS), one of the byproducts of ...   \n",
       "2  Pharmaceuticals contaminate the environment fo...   \n",
       "3  A bioactive O-carboxymethyl chitosan (CMCS) hy...   \n",
       "4  Enzymatic polymerization of lignin is an envir...   \n",
       "\n",
       "                                  Journal   \n",
       "0  Applied biochemistry and biotechnology  \\\n",
       "1                               ACS omega   \n",
       "2                       New biotechnology   \n",
       "3                       New biotechnology   \n",
       "4                                Polymers   \n",
       "\n",
       "                                         Institution    Country   \n",
       "0  Centre for Environmental Sustainability and Re...  Australia  \\\n",
       "1  Wood Kplus - Competence Center for Wood Compos...  Australia   \n",
       "2  Institute of Environmental Biotechnology, Univ...  Australia   \n",
       "3  Institute of Environmental Biotechnology, Univ...  Australia   \n",
       "4  Institute of Environmental Biotechnology, Univ...  Australia   \n",
       "\n",
       "                         DOI  Publication Year  \n",
       "0  10.1007/s12010-015-1539-9              2015  \n",
       "1   10.1021/acsomega.2c02421              2022  \n",
       "2  10.1016/j.nbt.2018.01.003              2018  \n",
       "3  10.1016/j.nbt.2017.09.004              2018  \n",
       "4       10.3390/polym8080280              2016  "
      ]
     },
     "execution_count": 1,
     "metadata": {},
     "output_type": "execute_result"
    }
   ],
   "source": [
    "import pandas as pd\n",
    "\n",
    "# 读取mtd/code/Get_Paper_info/Tian/Mt 文章分布.xlsx\n",
    "df = pd.read_excel('Mt 文章分布.xlsx')\n",
    "df.head()"
   ]
  },
  {
   "cell_type": "code",
   "execution_count": 6,
   "metadata": {},
   "outputs": [],
   "source": [
    "# 计算Country列词频\n",
    "df['Country'].value_counts()\n",
    "\n",
    "# 将词频保存为excel文件\n",
    "df['Country'].value_counts().to_excel('Mt_Country.xlsx')"
   ]
  },
  {
   "cell_type": "code",
   "execution_count": 4,
   "metadata": {},
   "outputs": [
    {
     "data": {
      "text/plain": [
       "203"
      ]
     },
     "execution_count": 4,
     "metadata": {},
     "output_type": "execute_result"
    }
   ],
   "source": [
    "# 计算Country列词频率之和\n",
    "df['Country'].value_counts().sum()"
   ]
  }
 ],
 "metadata": {
  "kernelspec": {
   "display_name": "demo",
   "language": "python",
   "name": "python3"
  },
  "language_info": {
   "codemirror_mode": {
    "name": "ipython",
    "version": 3
   },
   "file_extension": ".py",
   "mimetype": "text/x-python",
   "name": "python",
   "nbconvert_exporter": "python",
   "pygments_lexer": "ipython3",
   "version": "3.9.0"
  },
  "orig_nbformat": 4
 },
 "nbformat": 4,
 "nbformat_minor": 2
}
