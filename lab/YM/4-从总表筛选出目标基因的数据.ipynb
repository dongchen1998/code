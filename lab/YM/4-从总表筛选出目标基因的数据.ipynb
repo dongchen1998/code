{
 "cells": [
  {
   "cell_type": "code",
   "execution_count": 2,
   "metadata": {},
   "outputs": [],
   "source": [
    "import pandas as pd"
   ]
  },
  {
   "cell_type": "code",
   "execution_count": 3,
   "metadata": {},
   "outputs": [
    {
     "name": "stdout",
     "output_type": "stream",
     "text": [
      "Filtered data has been saved to 'filtered_gene_data.csv'\n"
     ]
    }
   ],
   "source": [
    "# 读取gene_list.txt文件中的基因列表\n",
    "# with open('Mt_gene.txt', 'r') as file:\n",
    "with open('Mt_gene.txt', 'r') as file:\n",
    "    gene_list = [line.strip() for line in file.readlines()]\n",
    "\n",
    "# 读取CSV文件\n",
    "data = pd.read_csv('Mt_Counts.csv')\n",
    "\n",
    "# 提取包含在基因列表中的行\n",
    "filtered_data = data[data['Geneid'].isin(gene_list)]\n",
    "\n",
    "# 将过滤后的数据保存到新的CSV文件中\n",
    "filtered_data.to_csv('Mt_Counts_autohagy.csv', index=False)\n",
    "\n",
    "print(\"Filtered data has been saved to 'filtered_gene_data.csv'\")"
   ]
  },
  {
   "cell_type": "code",
   "execution_count": 5,
   "metadata": {},
   "outputs": [],
   "source": [
    "# # 读取Mt_gene.txt\n",
    "# gene_list = pd.read_csv('Nc_gene.txt', header=None)\n",
    "\n",
    "# # 检查是否有重复的基因，并输出具体的重复基因\n",
    "# duplicated_genes = gene_list[gene_list.duplicated()]\n",
    "# print(\"Duplicated genes are: \\n\", duplicated_genes)\n"
   ]
  },
  {
   "cell_type": "code",
   "execution_count": 8,
   "metadata": {},
   "outputs": [
    {
     "name": "stdout",
     "output_type": "stream",
     "text": [
      "There are 894 columns in the data.\n"
     ]
    }
   ],
   "source": [
    "# 读取Nc_Counts_Auto.csv,输出有多少列\n",
    "data = pd.read_csv('Nc_Counts_Auto.csv')\n",
    "print(\"There are {} columns in the data.\".format(len(data.columns)))"
   ]
  },
  {
   "cell_type": "code",
   "execution_count": 7,
   "metadata": {},
   "outputs": [],
   "source": [
    "# 读取Mt_Counts_Auto.csv,删除掉第二列到第五列\n",
    "data = pd.read_csv('Mt_Counts_Auto.csv')\n",
    "data.drop(data.columns[1:5], axis=1, inplace=True)\n",
    "data.to_csv('Mt_Counts_Auto.csv', index=False)"
   ]
  }
 ],
 "metadata": {
  "kernelspec": {
   "display_name": "base",
   "language": "python",
   "name": "python3"
  },
  "language_info": {
   "codemirror_mode": {
    "name": "ipython",
    "version": 3
   },
   "file_extension": ".py",
   "mimetype": "text/x-python",
   "name": "python",
   "nbconvert_exporter": "python",
   "pygments_lexer": "ipython3",
   "version": "3.10.13"
  }
 },
 "nbformat": 4,
 "nbformat_minor": 2
}
