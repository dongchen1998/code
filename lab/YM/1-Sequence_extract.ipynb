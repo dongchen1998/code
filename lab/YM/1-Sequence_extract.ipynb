{
 "cells": [
  {
   "cell_type": "code",
   "execution_count": 4,
   "metadata": {},
   "outputs": [],
   "source": [
    "import re\n",
    "import pandas as pd\n",
    "\n",
    "fungi_name = 'Saccharomyces_cerevisiae_S288C'\n",
    "# 获得核酸序列\n",
    "genes = []\n",
    "with open(fungi_name + \"/genome/cds_from_genomic.fna\") as f:\n",
    "    gene = {}\n",
    "    for line in f:\n",
    "        if line.startswith(\">\"):\n",
    "            if gene:\n",
    "                genes.append(gene)\n",
    "            # gene = {\"locus_tag\": \"\", \"ano\": \"\", \"sequence\": \"\"}\n",
    "            gene = {\"gene\": \"\", \"sequence\": \"\"} \n",
    "            # gene[\"ano\"] = line.strip()\n",
    "            gene[\"gene\"] = re.search(r\"locus_tag=(\\w+)\", line).group(1)\n",
    "            gene[\"protein_id\"] = re.search(r\"protein_id=(\\w+\\.\\d+)\", line).group(1)\n",
    "            gene[\"ncbi_gene_id\"] = re.search(r\"GeneID:(\\d+)\", line).group(1)\n",
    "        else:\n",
    "            gene[\"sequence\"] += line.strip()\n",
    "\n",
    "    # 添加最后一个基因\n",
    "    if gene:\n",
    "        genes.append(gene)\n",
    "\n",
    "# 将列表转换为pandas DataFrame并保存为tsv文件\n",
    "df = pd.DataFrame(genes, columns=[\"gene\",'protein_id','ncbi_gene_id',\"sequence\"])\n",
    "df.to_csv(\"Nucleic_acid_sequence.csv\", sep=\",\", index=False)"
   ]
  },
  {
   "cell_type": "code",
   "execution_count": 3,
   "metadata": {},
   "outputs": [],
   "source": [
    "from Bio import SeqIO\n",
    "import pandas as pd\n",
    "\n",
    "# 获得氨基酸序列\n",
    "fasta_file = fungi_name + \"/genome/protein.faa\"\n",
    "\n",
    "data = []\n",
    "for record in SeqIO.parse(fasta_file, \"fasta\"):\n",
    "    protein_id = record.id\n",
    "    # protein_id = protein_id.split(\".\")[0]\n",
    "\n",
    "    protein_desc = record.description.split(\" \", maxsplit=1)[1].split(\" [\")[0]\n",
    "    species = record.description.split(\"[\")[1].split(\"]\")[0].strip()\n",
    "           \n",
    "    sequence = str(record.seq)\n",
    "    data.append((protein_id, protein_desc,species, sequence))\n",
    "\n",
    "df = pd.DataFrame(data, columns=[\"Protein ID\", \"Protein Description\", \"Species\", \"Sequence\"])\n",
    "\n",
    "df.to_csv(\"Amino_acid_sequence.csv\", sep=',', index=False)"
   ]
  }
 ],
 "metadata": {
  "kernelspec": {
   "display_name": "mtd",
   "language": "python",
   "name": "python3"
  },
  "language_info": {
   "codemirror_mode": {
    "name": "ipython",
    "version": 3
   },
   "file_extension": ".py",
   "mimetype": "text/x-python",
   "name": "python",
   "nbconvert_exporter": "python",
   "pygments_lexer": "ipython3",
   "version": "3.9.0"
  },
  "orig_nbformat": 4
 },
 "nbformat": 4,
 "nbformat_minor": 2
}
