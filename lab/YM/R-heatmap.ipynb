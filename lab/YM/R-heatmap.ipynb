{
 "cells": [
  {
   "cell_type": "code",
   "execution_count": 2,
   "metadata": {
    "vscode": {
     "languageId": "r"
    }
   },
   "outputs": [],
   "source": [
    "library(d3heatmap)"
   ]
  },
  {
   "cell_type": "code",
   "execution_count": null,
   "metadata": {
    "vscode": {
     "languageId": "r"
    }
   },
   "outputs": [],
   "source": [
    "# 读取数据\n",
    "df = read.csv(\"./Mt_Counts_autophagy.csv\", header = TRUE, sep = \",\")\n",
    "\n",
    "# df不保留第二列\n",
    "df = df[,-2]\n",
    "df"
   ]
  },
  {
   "cell_type": "code",
   "execution_count": 7,
   "metadata": {
    "vscode": {
     "languageId": "r"
    }
   },
   "outputs": [
    {
     "ename": "ERROR",
     "evalue": "Error in d3heatmap(df, scale = \"column\", colors = \"RdYlBu\", dendrogram = \"none\", : could not find function \"d3heatmap\"\n",
     "output_type": "error",
     "traceback": [
      "Error in d3heatmap(df, scale = \"column\", colors = \"RdYlBu\", dendrogram = \"none\", : could not find function \"d3heatmap\"\nTraceback:\n"
     ]
    }
   ],
   "source": [
    "# 用d3heatmap画热图\n",
    "d3heatmap(df, scale = \"column\", colors = \"RdYlBu\", dendrogram = \"none\", \n",
    "          main = \"Mt_Counts_autophagy\", fontsize_row = 8, fontsize_col = 8, \n",
    "          xlab = \"Samples\", ylab = \"Genes\", width = 800, height = 800)"
   ]
  }
 ],
 "metadata": {
  "kernelspec": {
   "display_name": "R",
   "language": "R",
   "name": "ir"
  },
  "language_info": {
   "codemirror_mode": "r",
   "file_extension": ".r",
   "mimetype": "text/x-r-source",
   "name": "R",
   "pygments_lexer": "r",
   "version": "4.3.1"
  }
 },
 "nbformat": 4,
 "nbformat_minor": 2
}
