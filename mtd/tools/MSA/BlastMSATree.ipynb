{
 "cells": [
  {
   "cell_type": "code",
   "execution_count": 6,
   "metadata": {},
   "outputs": [],
   "source": [
    "import re\n",
    "import sys\n",
    "import time\n",
    "import os\n",
    "import argparse\n",
    "import pandas as pd\n",
    "import subprocess\n",
    "from subprocess import Popen, PIPE"
   ]
  },
  {
   "cell_type": "code",
   "execution_count": 7,
   "metadata": {},
   "outputs": [
    {
     "name": "stdout",
     "output_type": "stream",
     "text": [
      "/Users/dongjiacheng/Desktop/code/mtd/tools/\n",
      "/Users/dongjiacheng/Desktop/code/mtd/tools/blast\n",
      "/Users/dongjiacheng/Desktop/code/mtd/tools/blast/db_prot\n",
      "/Users/dongjiacheng/Desktop/code/mtd/tools/MSA\n"
     ]
    }
   ],
   "source": [
    "# 设置工作目录\n",
    "workdir = '/Users/dongjiacheng/Desktop/code/mtd/tools/'\n",
    "workdir_db_prot = os.path.join(workdir,'blast','db_prot')\n",
    "workdir_msa = os.path.join(workdir,'MSA')"
   ]
  },
  {
   "cell_type": "code",
   "execution_count": 8,
   "metadata": {},
   "outputs": [],
   "source": [
    "def blastp(blast_input_txt, blast_output, db_prot, evalue):\n",
    "    \"\"\"\n",
    "    Description: 根据输入序列信息，对蛋白库进行blastp比对，得到比对结果\n",
    "    Args:\n",
    "        blast_input_txt: 输入txt文件\n",
    "        blast_output: 输出txt文件\n",
    "        db_prot: 菌种数据库\n",
    "        evalue: evalue值\n",
    "\n",
    "    # blasp -query input.txt -out output.txt -db db_prot -outfmt 6 -evalue 1e-6\n",
    "    \"\"\"\n",
    "    cmd =f'blastp -query {blast_input_txt} -out {blast_output} -db {db_prot} -outfmt 6 -evalue {evalue}'\n",
    "    p = Popen(cmd, shell=True, stdout=PIPE, stderr=PIPE)\n",
    "    returncode = p.wait() #状态码\n",
    "    stdout, stderr = p.communicate()\n",
    "    if stderr:\n",
    "        return stderr.decode('utf-8')\n",
    "    return stdout.decode('utf-8')"
   ]
  },
  {
   "cell_type": "code",
   "execution_count": 9,
   "metadata": {},
   "outputs": [
    {
     "data": {
      "text/plain": [
       "''"
      ]
     },
     "execution_count": 9,
     "metadata": {},
     "output_type": "execute_result"
    }
   ],
   "source": [
    "# 运行blastp\n",
    "blastp('blast_input.txt', \n",
    "       'blast_output.txt', \n",
    "       '/Users/dongjiacheng/Desktop/code/mtd/tools/blast/db_prot/Mt-Nc' , \n",
    "       1e-6)"
   ]
  },
  {
   "cell_type": "code",
   "execution_count": 10,
   "metadata": {},
   "outputs": [],
   "source": [
    "\"\"\"\n",
    "让用户得到匹配到的蛋白的序列\n",
    "1. 从记录了所有菌种蛋白id与序列对应关系的表中根据蛋白id，提取对应序列\n",
    "2. 将输入的序列与提取的序列合并为一个文件，记录为fasta格式\n",
    "\"\"\"\n",
    "\n",
    "def get_sequences_for_blast(seq_file):\n",
    "    \"\"\"获得blast比对到的蛋白序列，并与输入序列合并为一个文件\n",
    "    Args:\n",
    "        df_blast: blast比对结果\n",
    "        df_all_fungi_seq: 记录了所有菌种蛋白id与序列对应关系的表\n",
    "        seq_file: 输出文件名\n",
    "    Returns:\n",
    "        None    \n",
    "    \"\"\"\n",
    "    # 读取blast比对结果\n",
    "    df_blast_path = os.path.join(workdir_msa, 'blast_output.txt')\n",
    "    df_blast = pd.read_csv(df_blast_path, sep='\\t', header=None)\n",
    "    df_blast.columns = ['query_id', 'subject_id', 'pct_identity', 'aln_length', 'mismatches',\n",
    "                    'gap_opens', 'q_start', 'q_end', 's_start', 's_end', 'evalue', 'bit_score']\n",
    "    \n",
    "    # 读取记录了所有菌种蛋白id与序列对应关系的表\n",
    "    df_all_fungi_seq_path = os.path.join(workdir_msa, 'All_Fungi.tsv')\n",
    "    df_all_fungi_seq = pd.read_csv(df_all_fungi_seq_path, sep='\\t')\n",
    "\n",
    "    # 数据匹配\n",
    "    merged_df = pd.merge(df_blast, df_all_fungi_seq, left_on='subject_id', right_on='Protein ID', how='inner')\n",
    "    fasta_sequences = \"\"\n",
    "\n",
    "    # 将blast_input.txt中的序列写入到fasta_sequences中\n",
    "    with open('blast_input.txt', 'r') as file:\n",
    "        for line in file:\n",
    "            line = line.strip()\n",
    "            if line.startswith('>'):\n",
    "                fasta_sequences += \"{}\\n\".format(line)\n",
    "            else:\n",
    "                fasta_sequences += \"{}\\n\".format(line)\n",
    "\n",
    "    # 将数据写入FASTA格式\n",
    "    for index, row in merged_df.iterrows():\n",
    "        fasta_sequences += \">{}\\n{}\\n\".format(row['Protein ID'], row['Sequence'])\n",
    "        # fasta_sequences += \">{}-{}\\n{}\\n\".format(row['Protein ID'], row['Species'], row['Sequence']) # 添加了菌种名\n",
    "\n",
    "    # 写入文件\n",
    "    try:\n",
    "        with open(seq_file, 'w') as file:\n",
    "            file.write(fasta_sequences)\n",
    "    except Exception as e:\n",
    "        print(\"Error writing file:\", str(e))\n",
    "        sys.exit(1)\n",
    "\n",
    "\n",
    "get_sequences_for_blast('1.GetSeq.fasta')"
   ]
  },
  {
   "cell_type": "code",
   "execution_count": 9,
   "metadata": {},
   "outputs": [],
   "source": [
    "def kalign(input_fasta, output_fasta):\n",
    "    \"\"\"使用kalign对序列进行比对\n",
    "    Args:\n",
    "        input_fasta: 输入fasta文件\n",
    "        output_fasta: 输出fasta文件\n",
    "    Returns:\n",
    "        None\n",
    "    # kalign -i input.fasta -o output.fasta\n",
    "    \"\"\"\n",
    "    cmd = \"kalign -i {} -o {}\".format(input_fasta, output_fasta)\n",
    "    subprocess.call(cmd, shell=True)\n",
    "    \n",
    "# # mafft对齐\n",
    "# def mafft(extract_output, mafft_output):\n",
    "#     cmd =  \"mafft --auto {} > {}\".format(extract_output, mafft_output)\n",
    "#     os.system(cmd)"
   ]
  },
  {
   "cell_type": "code",
   "execution_count": 5,
   "metadata": {},
   "outputs": [
    {
     "name": "stderr",
     "output_type": "stream",
     "text": [
      "/bin/sh: FastTree: command not found\n"
     ]
    }
   ],
   "source": [
    "# fasttree对蛋白序列\n",
    "def fasttree(model, aligned_fasta, fasttree_prot_output):  \n",
    "    \"\"\"使用fasttree对蛋白序列进行进化树构建\n",
    "    Args:\n",
    "        aligned_fasta: 输入fasta文件\n",
    "        fasttree_prot_output: 输出文件\n",
    "        model: 模型\n",
    "    Returns:\n",
    "        None\n",
    "    \n",
    "    # FastTree -out output.nwk input.fasta\n",
    "    # FastTree -out output.nwk -lg input.fasta\n",
    "    # FastTree -out output.nwk -wag input.fasta\n",
    "    \"\"\"\n",
    "    # 如果model为空，则使用默认的JTT模型\n",
    "    if model == \"jtt\":\n",
    "        cmd = \"FastTree -out {} {}\".format(fasttree_prot_output, aligned_fasta)\n",
    "    else:\n",
    "        cmd = \"FastTree -out {} -{} {}\".format(fasttree_prot_output, model, aligned_fasta)\n",
    "    subprocess.call(cmd, shell=True)\n",
    "\n",
    "# 调用fasttree_prot\n",
    "fasttree('./2.AlignmentSeq.fasta', '3.tree.nwk', 'jtt')"
   ]
  }
 ],
 "metadata": {
  "kernelspec": {
   "display_name": "Python 3.9.13 ('mtd': conda)",
   "language": "python",
   "name": "python3"
  },
  "language_info": {
   "codemirror_mode": {
    "name": "ipython",
    "version": 3
   },
   "file_extension": ".py",
   "mimetype": "text/x-python",
   "name": "python",
   "nbconvert_exporter": "python",
   "pygments_lexer": "ipython3",
   "version": "3.10.13"
  },
  "orig_nbformat": 4,
  "vscode": {
   "interpreter": {
    "hash": "bda32a8112424f3b296a1d7c8725876d835906b3601dc2479fc8e073b6a34787"
   }
  }
 },
 "nbformat": 4,
 "nbformat_minor": 2
}
