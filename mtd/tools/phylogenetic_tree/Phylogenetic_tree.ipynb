{
 "cells": [
  {
   "cell_type": "code",
   "execution_count": 21,
   "metadata": {},
   "outputs": [],
   "source": [
    "import re,sys,time,os,sh,time,json\n",
    "import argparse\n",
    "import pandas as pd"
   ]
  },
  {
   "cell_type": "code",
   "execution_count": 22,
   "metadata": {},
   "outputs": [],
   "source": [
    "# 设置工作目录\n",
    "workdir = os.path.join('/home/dongjc/work/mtd/tools/') \n",
    "workdir_blast = os.path.join(workdir,'blast')\n",
    "# print(workdir_blast)"
   ]
  },
  {
   "cell_type": "code",
   "execution_count": 24,
   "metadata": {},
   "outputs": [],
   "source": [
    "# 构建的蛋白库路径\n",
    "mt_prot_db = os.path.join(workdir_blast,' db_prot/Myceliophthora_thermophila_ATCC_42464')\n",
    "nc_prot_db = os.path.join(workdir_blast, 'db_prot/Neurospora_crassa_OR74A') \n",
    "all_prot_db = os.path.join(workdir_blast, 'db_prot/All_species')\n",
    "\n",
    "# 比对嗜热毁丝霉蛋白序列\n",
    "def blast_prot(blast_input_path, blast_output_path, db_prot,  evalue):\n",
    "    \"\"\"\n",
    "    Description: 比对嗜热毁丝霉蛋白序列\n",
    "    Args:\n",
    "        blast_input_path: 输入文件路径\n",
    "        blast_output_path: 输出文件路径\n",
    "        db_prot: 菌种数据库\n",
    "        evalue: evalue值\n",
    "    \"\"\"\n",
    "    try:\n",
    "        if not os.path.exists(blast_input_path):\n",
    "            raise Exception(\"Error: The input blast file does not exist. Please check again.\")\n",
    "        \n",
    "        cmd = \"blastp -query {} -out {} -db {} -outfmt 6 -evalue {}\".format(blast_input_path, blast_output_path, db_prot, evalue)\n",
    "\n",
    "        # os.system(\"blastp -query \"+blast_input_path+\" -db \"+ species_db_prot+\" \"+ blast_output_path +\" -outfmt 6 -out -evalue 1e-6\")\n",
    "        os.system(cmd)\n",
    "    \n",
    "    except Exception as e:\n",
    "        print(e)\n",
    "        sys.exit(1)"
   ]
  },
  {
   "cell_type": "code",
   "execution_count": 25,
   "metadata": {},
   "outputs": [],
   "source": [
    "blast_prot('blast_input.txt', 'blast_output.txt', all_prot_db, 1e-6)"
   ]
  },
  {
   "cell_type": "code",
   "execution_count": 27,
   "metadata": {},
   "outputs": [
    {
     "data": {
      "text/html": [
       "<div>\n",
       "<style scoped>\n",
       "    .dataframe tbody tr th:only-of-type {\n",
       "        vertical-align: middle;\n",
       "    }\n",
       "\n",
       "    .dataframe tbody tr th {\n",
       "        vertical-align: top;\n",
       "    }\n",
       "\n",
       "    .dataframe thead th {\n",
       "        text-align: right;\n",
       "    }\n",
       "</style>\n",
       "<table border=\"1\" class=\"dataframe\">\n",
       "  <thead>\n",
       "    <tr style=\"text-align: right;\">\n",
       "      <th></th>\n",
       "      <th>query_id</th>\n",
       "      <th>subject_id</th>\n",
       "      <th>pct_identity</th>\n",
       "      <th>aln_length</th>\n",
       "      <th>mismatches</th>\n",
       "      <th>gap_opens</th>\n",
       "      <th>q_start</th>\n",
       "      <th>q_end</th>\n",
       "      <th>s_start</th>\n",
       "      <th>s_end</th>\n",
       "      <th>evalue</th>\n",
       "      <th>bit_score</th>\n",
       "    </tr>\n",
       "  </thead>\n",
       "  <tbody>\n",
       "    <tr>\n",
       "      <th>0</th>\n",
       "      <td>NP_013214.1-YLR113W-HOG1</td>\n",
       "      <td>XP_003665798.1</td>\n",
       "      <td>82.000</td>\n",
       "      <td>350</td>\n",
       "      <td>62</td>\n",
       "      <td>1</td>\n",
       "      <td>6</td>\n",
       "      <td>354</td>\n",
       "      <td>3</td>\n",
       "      <td>352</td>\n",
       "      <td>0.000000e+00</td>\n",
       "      <td>622.0</td>\n",
       "    </tr>\n",
       "    <tr>\n",
       "      <th>1</th>\n",
       "      <td>NP_013214.1-YLR113W-HOG1</td>\n",
       "      <td>XP_962163.2</td>\n",
       "      <td>82.759</td>\n",
       "      <td>348</td>\n",
       "      <td>59</td>\n",
       "      <td>1</td>\n",
       "      <td>6</td>\n",
       "      <td>353</td>\n",
       "      <td>3</td>\n",
       "      <td>349</td>\n",
       "      <td>0.000000e+00</td>\n",
       "      <td>619.0</td>\n",
       "    </tr>\n",
       "    <tr>\n",
       "      <th>2</th>\n",
       "      <td>NP_013214.1-YLR113W-HOG1</td>\n",
       "      <td>XP_011395162.1</td>\n",
       "      <td>47.198</td>\n",
       "      <td>339</td>\n",
       "      <td>164</td>\n",
       "      <td>4</td>\n",
       "      <td>17</td>\n",
       "      <td>341</td>\n",
       "      <td>14</td>\n",
       "      <td>351</td>\n",
       "      <td>1.940000e-101</td>\n",
       "      <td>305.0</td>\n",
       "    </tr>\n",
       "    <tr>\n",
       "      <th>3</th>\n",
       "      <td>NP_013214.1-YLR113W-HOG1</td>\n",
       "      <td>XP_011395161.1</td>\n",
       "      <td>47.198</td>\n",
       "      <td>339</td>\n",
       "      <td>164</td>\n",
       "      <td>4</td>\n",
       "      <td>17</td>\n",
       "      <td>341</td>\n",
       "      <td>14</td>\n",
       "      <td>351</td>\n",
       "      <td>1.940000e-101</td>\n",
       "      <td>305.0</td>\n",
       "    </tr>\n",
       "    <tr>\n",
       "      <th>4</th>\n",
       "      <td>NP_013214.1-YLR113W-HOG1</td>\n",
       "      <td>XP_003665446.1</td>\n",
       "      <td>47.198</td>\n",
       "      <td>339</td>\n",
       "      <td>164</td>\n",
       "      <td>4</td>\n",
       "      <td>17</td>\n",
       "      <td>341</td>\n",
       "      <td>15</td>\n",
       "      <td>352</td>\n",
       "      <td>3.020000e-101</td>\n",
       "      <td>305.0</td>\n",
       "    </tr>\n",
       "  </tbody>\n",
       "</table>\n",
       "</div>"
      ],
      "text/plain": [
       "                   query_id      subject_id  pct_identity  aln_length   \n",
       "0  NP_013214.1-YLR113W-HOG1  XP_003665798.1        82.000         350  \\\n",
       "1  NP_013214.1-YLR113W-HOG1     XP_962163.2        82.759         348   \n",
       "2  NP_013214.1-YLR113W-HOG1  XP_011395162.1        47.198         339   \n",
       "3  NP_013214.1-YLR113W-HOG1  XP_011395161.1        47.198         339   \n",
       "4  NP_013214.1-YLR113W-HOG1  XP_003665446.1        47.198         339   \n",
       "\n",
       "   mismatches  gap_opens  q_start  q_end  s_start  s_end         evalue   \n",
       "0          62          1        6    354        3    352   0.000000e+00  \\\n",
       "1          59          1        6    353        3    349   0.000000e+00   \n",
       "2         164          4       17    341       14    351  1.940000e-101   \n",
       "3         164          4       17    341       14    351  1.940000e-101   \n",
       "4         164          4       17    341       15    352  3.020000e-101   \n",
       "\n",
       "   bit_score  \n",
       "0      622.0  \n",
       "1      619.0  \n",
       "2      305.0  \n",
       "3      305.0  \n",
       "4      305.0  "
      ]
     },
     "execution_count": 27,
     "metadata": {},
     "output_type": "execute_result"
    }
   ],
   "source": [
    "df_blast = pd.read_csv('blast_output.txt', sep='\\t', header=None)\n",
    "df_blast.columns = ['query_id', 'subject_id', 'pct_identity', 'aln_length', 'mismatches', 'gap_opens', 'q_start', 'q_end', 's_start', 's_end', 'evalue', 'bit_score']\n",
    "df_blast.head()"
   ]
  },
  {
   "cell_type": "code",
   "execution_count": null,
   "metadata": {},
   "outputs": [],
   "source": [
    "# 提取标识符(蛋白ID)\n",
    "ae_list = list(df_blast.iloc[:, 1])\n",
    "\n",
    "# 正则定义\n",
    "regular = '>(.*?)\\s' \n",
    "\n",
    "# 提取同源序列后合并成fasta文件的地址\n",
    "extract_output_path = os.path.join(workdir, 'extract_output.fasta')"
   ]
  },
  {
   "cell_type": "code",
   "execution_count": null,
   "metadata": {},
   "outputs": [],
   "source": [
    "# 根据标识符，从菌种蛋白序列中提取相关序列，合并到一个新的fasta\n",
    "def read_prot_sequences(species_prot, extract_output_path):\n",
    "\n",
    "    if os.path.exists(species_prot) == False:\n",
    "        print(\"Error: The input file does not exist. Please check again.\")\n",
    "        sys.exit(1)\n",
    "        \n",
    "    with open(species_prot, 'r') as f:\n",
    "        fasta = f.readlines() \n",
    "        fasta_dict = {}\n",
    "\n",
    "        for line in fasta:\n",
    "            if line.startswith('>'):\n",
    "                name = line  \n",
    "                fasta_dict[name] = ''  \n",
    "                continue\n",
    "            fasta_dict[name] += line\n",
    "   \n",
    "    count = 0\n",
    "    sequence = []\n",
    "\n",
    "    for ano,sequences in fasta_dict.items():\n",
    "        for ae in ae_list:\n",
    "            ae_name = re.search(regular, ano).group(1)  #  re.search匹配，group获取匹配的内容\n",
    "            if ae == ae_name:\n",
    "                sequence.append([ano, sequences])\n",
    "                count += 1\n",
    "\n",
    "    with open(extract_output_path, 'w') as r:\n",
    "        for line in sequence:\n",
    "            r.writelines(line)\n",
    "        \n",
    "    return sequence"
   ]
  },
  {
   "cell_type": "code",
   "execution_count": null,
   "metadata": {},
   "outputs": [],
   "source": [
    "# 匹配所有的菌种蛋白序列，提取序列并合并\n",
    "merger_output = read_prot_sequences(mt_prot_db, 'extract_output.fasta')"
   ]
  },
  {
   "cell_type": "code",
   "execution_count": null,
   "metadata": {},
   "outputs": [],
   "source": [
    "# mafft对齐完输出的文件地址\n",
    "mafft_output_path = os.path.join(workdir + \"output/mafft.fasta\")"
   ]
  },
  {
   "cell_type": "code",
   "execution_count": null,
   "metadata": {},
   "outputs": [],
   "source": [
    "# mafft对齐\n",
    "def mafft(extract_output, mafft_output):\n",
    "\n",
    "    if os.path.exists(extract_output) == False:\n",
    "        print(\"Error: The input file does not exist. Please check again.\")\n",
    "        sys.exit(1)\n",
    "\n",
    "    os.system(\"mafft --auto \"+extract_output+\" > \"+mafft_output)"
   ]
  },
  {
   "cell_type": "code",
   "execution_count": null,
   "metadata": {},
   "outputs": [],
   "source": [
    "# 对齐\n",
    "mafft_output = mafft(extract_output_path, mafft_output_path)"
   ]
  },
  {
   "cell_type": "code",
   "execution_count": null,
   "metadata": {},
   "outputs": [],
   "source": [
    "# fasttree运行完输出的文件地址\n",
    "fasttree_prot_output_path = os.path.join(workdir + \"output/prot_output.tre\")\n",
    "fasttree_nucl_output_path = os.path.join(workdir + \"output/nucl_output.tre\")"
   ]
  },
  {
   "cell_type": "code",
   "execution_count": null,
   "metadata": {},
   "outputs": [],
   "source": [
    "# fasttree对核酸序列\n",
    "def fasttree_nucl(mafft_output):\n",
    "\n",
    "    if os.path.exists(mafft_output) == False:\n",
    "        print(\"Error: The input file does not exist. Please check again.\")\n",
    "        sys.exit(1)\n",
    "\n",
    "    os.system(\"FastTree -nt -gtr -gamma \"+mafft_output+\" > \"+fasttree_nucl_output_path)"
   ]
  },
  {
   "cell_type": "code",
   "execution_count": null,
   "metadata": {},
   "outputs": [],
   "source": [
    "# fasttree对蛋白序列\n",
    "def fasttree_prot(mafft_output):\n",
    "\n",
    "    if os.path.exists(mafft_output) == False:\n",
    "        print(\"Error: The input file does not exist. Please check again.\")\n",
    "        sys.exit(1)\n",
    "\n",
    "    os.system(\"FastTree \"+mafft_output+\" > \"+fasttree_prot_output_path)"
   ]
  },
  {
   "cell_type": "code",
   "execution_count": null,
   "metadata": {},
   "outputs": [],
   "source": [
    "fasttree_prot_output = fasttree_prot(mafft_output_path)"
   ]
  }
 ],
 "metadata": {
  "kernelspec": {
   "display_name": "Python 3.9.13 ('mtd': conda)",
   "language": "python",
   "name": "python3"
  },
  "language_info": {
   "codemirror_mode": {
    "name": "ipython",
    "version": 3
   },
   "file_extension": ".py",
   "mimetype": "text/x-python",
   "name": "python",
   "nbconvert_exporter": "python",
   "pygments_lexer": "ipython3",
   "version": "3.9.0"
  },
  "orig_nbformat": 4,
  "vscode": {
   "interpreter": {
    "hash": "bda32a8112424f3b296a1d7c8725876d835906b3601dc2479fc8e073b6a34787"
   }
  }
 },
 "nbformat": 4,
 "nbformat_minor": 2
}
