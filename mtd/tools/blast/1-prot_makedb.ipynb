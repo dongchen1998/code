{
 "cells": [
  {
   "cell_type": "code",
   "execution_count": 1,
   "metadata": {},
   "outputs": [
    {
     "name": "stdout",
     "output_type": "stream",
     "text": [
      "\n",
      "\n",
      "Building a new DB, current time: 09/15/2023 18:21:24\n",
      "New DB name:   /home/dongjc/work/mtd/tools/blast/db_prot/Neurospora_crassa_OR74A\n",
      "New DB title:  proteins/Neurospora_crassa_OR74A.faa\n",
      "Sequence type: Protein\n",
      "Keep MBits: T\n",
      "Maximum file size: 3000000000B\n",
      "Adding sequences from FASTA; added 10812 sequences in 0.156728 seconds.\n",
      "\n",
      "\n",
      "\n",
      "\n",
      "Building a new DB, current time: 09/15/2023 18:21:26\n",
      "New DB name:   /home/dongjc/work/mtd/tools/blast/db_prot/Myceliophthora_thermophila_ATCC_42464\n",
      "New DB title:  proteins/Myceliophthora_thermophila_ATCC_42464.faa\n",
      "Sequence type: Protein\n",
      "Deleted existing Protein BLAST database named /home/dongjc/work/mtd/tools/blast/db_prot/Myceliophthora_thermophila_ATCC_42464\n",
      "Keep MBits: T\n",
      "Maximum file size: 3000000000B\n",
      "Adding sequences from FASTA; added 9097 sequences in 0.168545 seconds.\n",
      "\n",
      "\n"
     ]
    }
   ],
   "source": [
    "import os\n",
    "\n",
    "\"\"\"\n",
    "主要参数说明：\n",
    "-in：待格式化的序列文件\n",
    "-dbtype：数据库类型，prot或nucl\n",
    "-out：数据库名\n",
    "\n",
    "-parse_seqids 参数的作用是指定 Blast 数据库中序列 ID 的解析方式\n",
    "    源基因组文件中的序列ID格式不含描述信息,全部是访问ID。这时需要使用 -parse_seqids 来保留原始ID。\n",
    "    源文件中的序列ID中包含空格,如果不用这个参数,makeblastdb会错误分割ID。\n",
    "    需要保留序列ID的全部信息作为访问ID,而非只提取部分作为访问ID。\n",
    "    希望手动配置序列ID的解析方式,不使用 makeblastdb 的默认分割方式。\n",
    "    输出的Blast结果中希望显示完整的序列ID信息。\n",
    "\"\"\"\n",
    "\n",
    "files = os.listdir(\"/home/dongjc/work/mtd/tools/blast/proteins\")\n",
    "for genome in files:\n",
    "    db_name = genome.strip(\".faa\")  # faa是蛋白序列文件\n",
    "    mdb = f\"./bin/makeblastdb -in proteins/{db_name}.faa -dbtype prot -out db_prot/{db_name}\"  # 建库\n",
    "    os.system(mdb)\n"
   ]
  }
 ],
 "metadata": {
  "kernelspec": {
   "display_name": "demo",
   "language": "python",
   "name": "python3"
  },
  "language_info": {
   "codemirror_mode": {
    "name": "ipython",
    "version": 3
   },
   "file_extension": ".py",
   "mimetype": "text/x-python",
   "name": "python",
   "nbconvert_exporter": "python",
   "pygments_lexer": "ipython3",
   "version": "3.9.0"
  },
  "orig_nbformat": 4
 },
 "nbformat": 4,
 "nbformat_minor": 2
}
