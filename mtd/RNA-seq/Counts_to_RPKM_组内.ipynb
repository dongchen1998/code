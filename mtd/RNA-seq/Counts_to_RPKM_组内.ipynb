{
 "cells": [
  {
   "cell_type": "code",
   "execution_count": 1,
   "metadata": {},
   "outputs": [],
   "source": [
    "import pandas as pd\n",
    "import numpy as np\n",
    "import os\n",
    "\n",
    "\n",
    "def rpkm(data):\n",
    "    columns = data.columns  # 存表的列名\n",
    "    table = data.iloc[:, :6]  # 读取前6列\n",
    "\n",
    "    for i in range(data.shape[1] - 6):\n",
    "        reads = data.iloc[:, i + 6]\n",
    "        total_counts = reads.sum() / 1000000\n",
    "        RPM = reads / total_counts\n",
    "        fpkm_result = RPM * 1000 / (data[\"Length\"])  # Length是表中的某一列，是基因的长度\n",
    "        table = pd.concat([table, fpkm_result], axis=1)\n",
    "\n",
    "    table.columns = columns\n",
    "    return table\n",
    "\n",
    "\n",
    "def txt_to_csv(filepath):\n",
    "    filepath = os.path.abspath(filepath)  # 将相对路径转换为绝对路径\n",
    "    df = pd.read_csv(filepath, sep=\"\\t\", skiprows=1)  # 从第二行开始读取数据\n",
    "    output_filepath = os.path.splitext(filepath)[0] + \".csv\"  # 使用 os.path.splitext() 获取文件名和扩展名\n",
    "    df.to_csv(output_filepath, sep=\",\", index=False)\n",
    "\n",
    "\n",
    "def csv_to_excel(filepath):\n",
    "    filepath = os.path.abspath(filepath)  # 将相对路径转换为绝对路径\n",
    "    df = pd.read_csv(filepath, sep=\",\")\n",
    "    output_filepath = os.path.splitext(filepath)[0] + \".xlsx\"\n",
    "    df.to_excel(output_filepath, index=False)\n",
    "\n",
    "\n",
    "def convert_all_files(filepath):\n",
    "    filepath = os.path.abspath(filepath)  # 将相对路径转换为绝对路径\n",
    "    for file in os.listdir(filepath):\n",
    "        if file.endswith('.txt'):\n",
    "            txt_to_csv(os.path.join(filepath, file))\n",
    "\n",
    "    return 'Done!'"
   ]
  },
  {
   "cell_type": "code",
   "execution_count": 7,
   "metadata": {},
   "outputs": [],
   "source": [
    "def txt_to_csv(filepath):\n",
    "    filepath = os.path.abspath(filepath)  # 将相对路径转换为绝对路径\n",
    "    df = pd.read_csv(filepath, sep=\"\\t\", skiprows=1)  # 从第二行开始读取数据\n",
    "    output_filepath = os.path.splitext(filepath)[0] + \".csv\"  # 使用 os.path.splitext() 获取文件名和扩展名\n",
    "    df.to_csv(output_filepath, sep=\",\", index=False)\n",
    "\n",
    "\n",
    "def csv_to_excel(filepath):\n",
    "    filepath = os.path.abspath(filepath)  # 将相对路径转换为绝对路径\n",
    "    df = pd.read_csv(filepath, sep=\",\")\n",
    "    output_filepath = os.path.splitext(filepath)[0] + \".xlsx\"\n",
    "    df.to_excel(output_filepath, index=False)"
   ]
  },
  {
   "cell_type": "markdown",
   "metadata": {},
   "source": [
    "帮他们分析，一般服务器上出的内容是一个txt文件。\n",
    "1. 将txt转为csv，则是count表\n",
    "2. 将csv转为excel，则是计算了RPKM值"
   ]
  },
  {
   "cell_type": "code",
   "execution_count": 2,
   "metadata": {},
   "outputs": [],
   "source": [
    "path = './LQ/ZMY/P3/'\n",
    "# path = './An/Add/'\n",
    "# path = './LQ/ZMY/第二批/'"
   ]
  },
  {
   "cell_type": "code",
   "execution_count": 3,
   "metadata": {},
   "outputs": [],
   "source": [
    "txt_to_csv(path + 'raw_count.txt')"
   ]
  },
  {
   "cell_type": "code",
   "execution_count": 4,
   "metadata": {},
   "outputs": [
    {
     "name": "stdout",
     "output_type": "stream",
     "text": [
      "raw_count.csv Done!\n"
     ]
    }
   ],
   "source": [
    "# 将path路径下的所有csv文件，计算RPKM，并转换为xlsx文件\n",
    "for file_name in os.listdir(path):\n",
    "    if file_name.endswith('.csv'):\n",
    "        file_path = os.path.join(path, file_name)\n",
    "        data = pd.read_csv(file_path,sep=',')\n",
    "        data = rpkm(data)\n",
    "        data = data.rename(columns=lambda x: x.replace(\".bam\",\"\").replace('\"',''))\n",
    "        data = data.round(2)\n",
    "        data.to_excel(file_path[:-4] + '-FPKM.xlsx', index=False)\n",
    "        print(file_name + ' Done!')"
   ]
  },
  {
   "cell_type": "code",
   "execution_count": 5,
   "metadata": {},
   "outputs": [],
   "source": [
    "csv_to_excel('./LQ/LDD/Counts.csv')"
   ]
  }
 ],
 "metadata": {
  "kernelspec": {
   "display_name": "code",
   "language": "python",
   "name": "python3"
  },
  "language_info": {
   "codemirror_mode": {
    "name": "ipython",
    "version": 3
   },
   "file_extension": ".py",
   "mimetype": "text/x-python",
   "name": "python",
   "nbconvert_exporter": "python",
   "pygments_lexer": "ipython3",
   "version": "3.10.0"
  },
  "orig_nbformat": 4,
  "vscode": {
   "interpreter": {
    "hash": "c3d95d76b6129e1d94786a4741a564730b26c468655b76be3100adc56a57df93"
   }
  }
 },
 "nbformat": 4,
 "nbformat_minor": 2
}
