{
 "cells": [
  {
   "cell_type": "code",
   "execution_count": 6,
   "id": "f7f0127b",
   "metadata": {},
   "outputs": [],
   "source": [
    "import os\n",
    "import pandas as pd\n",
    "\n",
    "\n",
    "def txt_to_tsv(filepath):\n",
    "    filepath = os.path.abspath(filepath)  # 将相对路径转换为绝对路径\n",
    "    df = pd.read_csv(filepath, sep='\\t')\n",
    "    output_filepath = os.path.splitext(filepath)[0] + '.tsv'  # 使用 os.path.splitext() 获取文件名和扩展名\n",
    "    df.to_csv(output_filepath, sep='\\t', index=False)\n",
    "\n",
    "\n",
    "def txt_to_csv(filepath):\n",
    "    filepath = os.path.abspath(filepath)  # 将相对路径转换为绝对路径\n",
    "    df = pd.read_csv(filepath, sep='\\t')\n",
    "    output_filepath = os.path.splitext(filepath)[0] + '.csv'  # 使用 os.path.splitext() 获取文件名和扩展名\n",
    "    df.to_csv(output_filepath, sep=',', index=False)\n",
    "\n",
    "\n",
    "def tsv_to_txt(filepath):\n",
    "    filepath = os.path.abspath(filepath)  # 将相对路径转换为绝对路径\n",
    "    df = pd.read_csv(filepath, sep='\\t')\n",
    "    output_filepath = os.path.splitext(filepath)[0] + '.txt'  # 使用 os.path.splitext() 获取文件名和扩展名\n",
    "    df.to_csv(output_filepath, sep='\\t', index=False)\n",
    "\n",
    "\n",
    "def tsv_to_csv(filepath):\n",
    "    filepath = os.path.abspath(filepath)  # 将相对路径转换为绝对路径\n",
    "    df = pd.read_csv(filepath, sep='\\t')\n",
    "    output_filepath = os.path.splitext(filepath)[0] + '.csv'  # 使用 os.path.splitext() 获取文件名和扩展名\n",
    "    df.to_csv(output_filepath, sep=',', index=False)\n",
    "\n",
    "\n",
    "def tsv_to_excel(filepath):\n",
    "    filepath = os.path.abspath(filepath)  # 将相对路径转换为绝对路径\n",
    "    df = pd.read_csv(filepath, sep='\\t')\n",
    "    output_filepath = os.path.splitext(filepath)[0] + '.xlsx'  # 使用 os.path.splitext() 获取文件名和扩展名\n",
    "    df.to_excel(output_filepath, index=False)\n",
    "\n",
    "\n",
    "def csv_to_txt(filepath):\n",
    "    filepath = os.path.abspath(filepath)  # 将相对路径转换为绝对路径\n",
    "    df = pd.read_csv(filepath, sep=',')\n",
    "    output_filepath = os.path.splitext(filepath)[0] + '.txt'  # 使用 os.path.splitext() 获取文件名和扩展名\n",
    "    df.to_csv(output_filepath, sep='\\t', index=False)\n",
    "\n",
    "\n",
    "def csv_to_tsv(filepath):\n",
    "    filepath = os.path.abspath(filepath)  # 将相对路径转换为绝对路径\n",
    "    df = pd.read_csv(filepath, sep=',')\n",
    "    output_filepath = os.path.splitext(filepath)[0] + '.tsv'  # 使用 os.path.splitext() 获取文件名和扩展名\n",
    "    df.to_csv(output_filepath, sep='\\t', index=False)\n",
    "\n",
    "\n",
    "def csv_to_excel(filepath):\n",
    "    filepath = os.path.abspath(filepath)  # 将相对路径转换为绝对路径\n",
    "    df = pd.read_csv(filepath, sep=',')\n",
    "    output_filepath = os.path.splitext(filepath)[0] + '.xlsx'  # 使用 os.path.splitext() 获取文件名和扩展名\n",
    "    df.to_excel(output_filepath, index=False)\n",
    "\n",
    "\n",
    "def excel_to_csv(filepath):\n",
    "    filepath = os.path.abspath(filepath)  # 将相对路径转换为绝对路径\n",
    "    df = pd.read_excel(filepath)\n",
    "    output_filepath = os.path.splitext(filepath)[0] + '.csv'  # 使用 os.path.splitext() 获取文件名和扩展名\n",
    "    df.to_csv(output_filepath, index=False)\n",
    "\n",
    "\n",
    "def excel_to_tsv(filepath):\n",
    "    filepath = os.path.abspath(filepath)  # 将相对路径转换为绝对路径\n",
    "    df = pd.read_excel(filepath)\n",
    "    output_filepath = os.path.splitext(filepath)[0] + '.tsv'  # 使用 os.path.splitext() 获取文件名和扩展名\n",
    "    df.to_csv(output_filepath, sep='\\t', index=False)\n",
    "\n",
    "\n",
    "def excel_to_txt(filepath):\n",
    "    filepath = os.path.abspath(filepath)\n",
    "    df = pd.read_excel(filepath)\n",
    "    output_filepath = os.path.splitext(filepath)[0] + '.txt'\n",
    "    df.to_csv(output_filepath, sep='\\t', index=False)\n",
    "\n",
    "\n",
    "\n",
    "txt_to_csv('./Count_1.txt')"
   ]
  },
  {
   "cell_type": "code",
   "execution_count": 2,
   "id": "c13e0117",
   "metadata": {},
   "outputs": [
    {
     "data": {
      "text/plain": [
       "'Done!'"
      ]
     },
     "execution_count": 2,
     "metadata": {},
     "output_type": "execute_result"
    }
   ],
   "source": [
    "# 将文件夹下的所有文件转换为指定格式\n",
    "def convert_all_files(filepath):\n",
    "    filepath = os.path.abspath(filepath)  # 将相对路径转换为绝对路径\n",
    "    for file in os.listdir(filepath):\n",
    "        if file.endswith('.csv'):\n",
    "            csv_to_txt(os.path.join(filepath, file))\n",
    "\n",
    "    return 'Done!'\n",
    "    \n",
    "convert_all_files('./')"
   ]
  }
 ],
 "metadata": {
  "kernelspec": {
   "display_name": "code",
   "language": "python",
   "name": "python3"
  },
  "language_info": {
   "codemirror_mode": {
    "name": "ipython",
    "version": 3
   },
   "file_extension": ".py",
   "mimetype": "text/x-python",
   "name": "python",
   "nbconvert_exporter": "python",
   "pygments_lexer": "ipython3",
   "version": "3.10.0"
  },
  "latex_envs": {
   "LaTeX_envs_menu_present": true,
   "autoclose": false,
   "autocomplete": true,
   "bibliofile": "biblio.bib",
   "cite_by": "apalike",
   "current_citInitial": 1,
   "eqLabelWithNumbers": true,
   "eqNumInitial": 1,
   "hotkeys": {
    "equation": "Ctrl-E",
    "itemize": "Ctrl-I"
   },
   "labels_anchors": false,
   "latex_user_defs": false,
   "report_style_numbering": false,
   "user_envs_cfg": false
  },
  "toc": {
   "base_numbering": 1,
   "nav_menu": {},
   "number_sections": true,
   "sideBar": true,
   "skip_h1_title": false,
   "title_cell": "Table of Contents",
   "title_sidebar": "Contents",
   "toc_cell": false,
   "toc_position": {},
   "toc_section_display": true,
   "toc_window_display": false
  },
  "vscode": {
   "interpreter": {
    "hash": "c3d95d76b6129e1d94786a4741a564730b26c468655b76be3100adc56a57df93"
   }
  }
 },
 "nbformat": 4,
 "nbformat_minor": 5
}
