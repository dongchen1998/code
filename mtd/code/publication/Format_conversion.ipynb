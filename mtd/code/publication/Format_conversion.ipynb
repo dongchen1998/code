{
 "cells": [
  {
   "cell_type": "code",
   "execution_count": 1,
   "id": "f7f0127b",
   "metadata": {},
   "outputs": [],
   "source": [
    "import os\n",
    "import pandas as pd\n",
    "\n",
    "\n",
    "def txt_to_tsv(filepath):\n",
    "    filepath = os.path.abspath(filepath)  # 将相对路径转换为绝对路径\n",
    "    df = pd.read_csv(filepath, sep='\\t')\n",
    "    output_filepath = os.path.splitext(filepath)[0] + '.tsv'  # 使用 os.path.splitext() 获取文件名和扩展名\n",
    "    df.to_csv(output_filepath, sep='\\t', index=False)\n",
    "\n",
    "\n",
    "def txt_to_csv(filepath):\n",
    "    filepath = os.path.abspath(filepath)  # 将相对路径转换为绝对路径\n",
    "    df = pd.read_csv(filepath, sep='\\t')\n",
    "    output_filepath = os.path.splitext(filepath)[0] + '.csv'  # 使用 os.path.splitext() 获取文件名和扩展名\n",
    "    df.to_csv(output_filepath, sep=',', index=False)\n",
    "\n",
    "\n",
    "def tsv_to_txt(filepath):\n",
    "    filepath = os.path.abspath(filepath)  # 将相对路径转换为绝对路径\n",
    "    df = pd.read_csv(filepath, sep='\\t')\n",
    "    output_filepath = os.path.splitext(filepath)[0] + '.txt'  # 使用 os.path.splitext() 获取文件名和扩展名\n",
    "    df.to_csv(output_filepath, sep='\\t', index=False)\n",
    "\n",
    "\n",
    "def tsv_to_csv(filepath):\n",
    "    filepath = os.path.abspath(filepath)  # 将相对路径转换为绝对路径\n",
    "    df = pd.read_csv(filepath, sep='\\t')\n",
    "    output_filepath = os.path.splitext(filepath)[0] + '.csv'  # 使用 os.path.splitext() 获取文件名和扩展名\n",
    "    df.to_csv(output_filepath, sep=',', index=False)\n",
    "\n",
    "\n",
    "def tsv_to_excel(filepath):\n",
    "    filepath = os.path.abspath(filepath)  # 将相对路径转换为绝对路径\n",
    "    df = pd.read_csv(filepath, sep='\\t')\n",
    "    output_filepath = os.path.splitext(filepath)[0] + '.xlsx'  # 使用 os.path.splitext() 获取文件名和扩展名\n",
    "    df.to_excel(output_filepath, index=False)\n",
    "\n",
    "\n",
    "def csv_to_txt(filepath):\n",
    "    filepath = os.path.abspath(filepath)  # 将相对路径转换为绝对路径\n",
    "    df = pd.read_csv(filepath, sep=',')\n",
    "    output_filepath = os.path.splitext(filepath)[0] + '.txt'  # 使用 os.path.splitext() 获取文件名和扩展名\n",
    "    df.to_csv(output_filepath, sep='\\t', index=False)\n",
    "\n",
    "\n",
    "def csv_to_tsv(filepath):\n",
    "    filepath = os.path.abspath(filepath)  # 将相对路径转换为绝对路径\n",
    "    df = pd.read_csv(filepath, sep=',')\n",
    "    output_filepath = os.path.splitext(filepath)[0] + '.tsv'  # 使用 os.path.splitext() 获取文件名和扩展名\n",
    "    df.to_csv(output_filepath, sep='\\t', index=False)\n",
    "\n",
    "\n",
    "def csv_to_excel(filepath):\n",
    "    filepath = os.path.abspath(filepath)  # 将相对路径转换为绝对路径\n",
    "    df = pd.read_csv(filepath, sep=',')\n",
    "    output_filepath = os.path.splitext(filepath)[0] + '.xlsx'  # 使用 os.path.splitext() 获取文件名和扩展名\n",
    "    df.to_excel(output_filepath, index=False)\n",
    "\n",
    "\n",
    "def excel_to_csv(filepath):\n",
    "    filepath = os.path.abspath(filepath)  # 将相对路径转换为绝对路径\n",
    "    df = pd.read_excel(filepath)\n",
    "    output_filepath = os.path.splitext(filepath)[0] + '.csv'  # 使用 os.path.splitext() 获取文件名和扩展名\n",
    "    df.to_csv(output_filepath, index=False)\n",
    "\n",
    "\n",
    "def excel_to_tsv(filepath):\n",
    "    filepath = os.path.abspath(filepath)  # 将相对路径转换为绝对路径\n",
    "    df = pd.read_excel(filepath)\n",
    "    output_filepath = os.path.splitext(filepath)[0] + '.tsv'  # 使用 os.path.splitext() 获取文件名和扩展名\n",
    "    df.to_csv(output_filepath, sep='\\t', index=False)\n",
    "\n",
    "\n",
    "def excel_to_txt(filepath):\n",
    "    filepath = os.path.abspath(filepath)\n",
    "    df = pd.read_excel(filepath)\n",
    "    output_filepath = os.path.splitext(filepath)[0] + '.txt'\n",
    "    df.to_csv(output_filepath, sep='\\t', index=False)\n",
    "\n",
    "\n",
    "\n",
    "csv_to_tsv('./Mt_keywords_counts_year.csv')"
   ]
  },
  {
   "cell_type": "code",
   "execution_count": 1,
   "id": "c13e0117",
   "metadata": {},
   "outputs": [
    {
     "ename": "NameError",
     "evalue": "name 'os' is not defined",
     "output_type": "error",
     "traceback": [
      "\u001b[0;31m---------------------------------------------------------------------------\u001b[0m",
      "\u001b[0;31mNameError\u001b[0m                                 Traceback (most recent call last)",
      "Cell \u001b[0;32mIn[1], line 10\u001b[0m\n\u001b[1;32m      6\u001b[0m             csv_to_txt(os\u001b[38;5;241m.\u001b[39mpath\u001b[38;5;241m.\u001b[39mjoin(filepath, file))\n\u001b[1;32m      8\u001b[0m     \u001b[38;5;28;01mreturn\u001b[39;00m \u001b[38;5;124m'\u001b[39m\u001b[38;5;124mDone!\u001b[39m\u001b[38;5;124m'\u001b[39m\n\u001b[0;32m---> 10\u001b[0m \u001b[43mconvert_all_files\u001b[49m\u001b[43m(\u001b[49m\u001b[38;5;124;43m'\u001b[39;49m\u001b[38;5;124;43m./\u001b[39;49m\u001b[38;5;124;43m'\u001b[39;49m\u001b[43m)\u001b[49m\n",
      "Cell \u001b[0;32mIn[1], line 3\u001b[0m, in \u001b[0;36mconvert_all_files\u001b[0;34m(filepath)\u001b[0m\n\u001b[1;32m      2\u001b[0m \u001b[38;5;28;01mdef\u001b[39;00m \u001b[38;5;21mconvert_all_files\u001b[39m(filepath):\n\u001b[0;32m----> 3\u001b[0m     filepath \u001b[38;5;241m=\u001b[39m \u001b[43mos\u001b[49m\u001b[38;5;241m.\u001b[39mpath\u001b[38;5;241m.\u001b[39mabspath(filepath)  \u001b[38;5;66;03m# 将相对路径转换为绝对路径\u001b[39;00m\n\u001b[1;32m      4\u001b[0m     \u001b[38;5;28;01mfor\u001b[39;00m file \u001b[38;5;129;01min\u001b[39;00m os\u001b[38;5;241m.\u001b[39mlistdir(filepath):\n\u001b[1;32m      5\u001b[0m         \u001b[38;5;28;01mif\u001b[39;00m file\u001b[38;5;241m.\u001b[39mendswith(\u001b[38;5;124m'\u001b[39m\u001b[38;5;124m.csv\u001b[39m\u001b[38;5;124m'\u001b[39m):\n",
      "\u001b[0;31mNameError\u001b[0m: name 'os' is not defined"
     ]
    }
   ],
   "source": [
    "# 将文件夹下的所有文件转换为指定格式\n",
    "def convert_all_files(filepath):\n",
    "    filepath = os.path.abspath(filepath)  # 将相对路径转换为绝对路径\n",
    "    for file in os.listdir(filepath):\n",
    "        if file.endswith('.csv'):\n",
    "            csv_to_txt(os.path.join(filepath, file))\n",
    "\n",
    "    return 'Done!'\n",
    "    \n",
    "convert_all_files('./')"
   ]
  }
 ],
 "metadata": {
  "kernelspec": {
   "display_name": "code",
   "language": "python",
   "name": "python3"
  },
  "language_info": {
   "codemirror_mode": {
    "name": "ipython",
    "version": 3
   },
   "file_extension": ".py",
   "mimetype": "text/x-python",
   "name": "python",
   "nbconvert_exporter": "python",
   "pygments_lexer": "ipython3",
   "version": "3.10.0"
  },
  "latex_envs": {
   "LaTeX_envs_menu_present": true,
   "autoclose": false,
   "autocomplete": true,
   "bibliofile": "biblio.bib",
   "cite_by": "apalike",
   "current_citInitial": 1,
   "eqLabelWithNumbers": true,
   "eqNumInitial": 1,
   "hotkeys": {
    "equation": "Ctrl-E",
    "itemize": "Ctrl-I"
   },
   "labels_anchors": false,
   "latex_user_defs": false,
   "report_style_numbering": false,
   "user_envs_cfg": false
  },
  "toc": {
   "base_numbering": 1,
   "nav_menu": {},
   "number_sections": true,
   "sideBar": true,
   "skip_h1_title": false,
   "title_cell": "Table of Contents",
   "title_sidebar": "Contents",
   "toc_cell": false,
   "toc_position": {},
   "toc_section_display": true,
   "toc_window_display": false
  },
  "vscode": {
   "interpreter": {
    "hash": "c3d95d76b6129e1d94786a4741a564730b26c468655b76be3100adc56a57df93"
   }
  }
 },
 "nbformat": 4,
 "nbformat_minor": 5
}
