{
 "cells": [
  {
   "cell_type": "code",
   "execution_count": 12,
   "metadata": {},
   "outputs": [],
   "source": [
    "import numpy as np\n",
    "import pandas as pd\n",
    "import plotly.express as px\n",
    "from plotly.offline import plot\n",
    "from plotly.utils import PlotlyJSONEncoder\n",
    "import matplotlib.pyplot as plt\n",
    "from scipy.cluster.hierarchy import dendrogram, linkage\n",
    "import dash_bio\n",
    "\n",
    "\n",
    "# 加载数据\n",
    "df = pd.read_csv('./Gene_Expression_Matrix.csv',sep=',').copy()"
   ]
  },
  {
   "cell_type": "markdown",
   "metadata": {},
   "source": [
    "### dush-bio \n",
    "- 没啥用"
   ]
  },
  {
   "cell_type": "code",
   "execution_count": 13,
   "metadata": {},
   "outputs": [
    {
     "data": {
      "application/vnd.plotly.v1+json": {
       "config": {
        "plotlyServerURL": "https://plot.ly"
       },
       "data": [
        {
         "hoverinfo": "y+name",
         "line": {
          "width": 0.5
         },
         "marker": {
          "color": "rgb(0,116,217)"
         },
         "mode": "lines",
         "name": "Col Cluster 0",
         "type": "scatter",
         "x": [
          65.9375,
          65.9375,
          199.66796875,
          199.66796875
         ],
         "xaxis": "x3",
         "y": [
          296.2629946517115,
          635.7199923708549,
          635.7199923708549,
          507.49047419631444
         ],
         "yaxis": "y3"
        },
        {
         "hoverinfo": "y+name",
         "line": {
          "width": 0.5
         },
         "marker": {
          "color": "rgb(0,116,217)"
         },
         "mode": "lines",
         "name": "Col Cluster 1",
         "type": "scatter",
         "x": [
          5,
          5,
          15,
          15
         ],
         "xaxis": "x3",
         "y": [
          0,
          60.22314588262558,
          60.22314588262558,
          0
         ],
         "yaxis": "y3"
        },
        {
         "hoverinfo": "y+name",
         "line": {
          "width": 0.5
         },
         "marker": {
          "color": "rgb(0,116,217)"
         },
         "mode": "lines",
         "name": "Col Cluster 2",
         "type": "scatter",
         "x": [
          10,
          10,
          30,
          30
         ],
         "xaxis": "x3",
         "y": [
          60.22314588262558,
          151.9576029687228,
          151.9576029687228,
          112.43243837967759
         ],
         "yaxis": "y3"
        },
        {
         "hoverinfo": "y+name",
         "line": {
          "width": 0.5
         },
         "marker": {
          "color": "rgb(0,116,217)"
         },
         "mode": "lines",
         "name": "Col Cluster 3",
         "type": "scatter",
         "x": [
          20,
          20,
          111.875,
          111.875
         ],
         "xaxis": "x3",
         "y": [
          151.9576029687228,
          296.2629946517115,
          296.2629946517115,
          200.30986870346652
         ],
         "yaxis": "y3"
        },
        {
         "hoverinfo": "y+name",
         "line": {
          "width": 0.5
         },
         "marker": {
          "color": "rgb(0,116,217)"
         },
         "mode": "lines",
         "name": "Col Cluster 4",
         "type": "scatter",
         "x": [
          25,
          25,
          35,
          35
         ],
         "xaxis": "x3",
         "y": [
          0,
          112.43243837967759,
          112.43243837967759,
          0
         ],
         "yaxis": "y3"
        },
        {
         "hoverinfo": "y+name",
         "line": {
          "width": 0.5
         },
         "marker": {
          "color": "rgb(0,116,217)"
         },
         "mode": "lines",
         "name": "Col Cluster 5",
         "type": "scatter",
         "x": [
          45,
          45,
          62.5,
          62.5
         ],
         "xaxis": "x3",
         "y": [
          0,
          93.9276636566672,
          93.9276636566672,
          45.149566996816255
         ],
         "yaxis": "y3"
        },
        {
         "hoverinfo": "y+name",
         "line": {
          "width": 0.5
         },
         "marker": {
          "color": "rgb(0,116,217)"
         },
         "mode": "lines",
         "name": "Col Cluster 6",
         "type": "scatter",
         "x": [
          53.75,
          53.75,
          106.25,
          106.25
         ],
         "xaxis": "x3",
         "y": [
          93.9276636566672,
          145.94880951895428,
          145.94880951895428,
          119.99794248236091
         ],
         "yaxis": "y3"
        },
        {
         "hoverinfo": "y+name",
         "line": {
          "width": 0.5
         },
         "marker": {
          "color": "rgb(0,116,217)"
         },
         "mode": "lines",
         "name": "Col Cluster 7",
         "type": "scatter",
         "x": [
          55,
          55,
          70,
          70
         ],
         "xaxis": "x3",
         "y": [
          0,
          45.149566996816255,
          45.149566996816255,
          0
         ],
         "yaxis": "y3"
        },
        {
         "hoverinfo": "y+name",
         "line": {
          "width": 0.5
         },
         "marker": {
          "color": "rgb(0,116,217)"
         },
         "mode": "lines",
         "name": "Col Cluster 8",
         "type": "scatter",
         "x": [
          65,
          65,
          75,
          75
         ],
         "xaxis": "x3",
         "y": [
          0,
          0,
          0,
          0
         ],
         "yaxis": "y3"
        },
        {
         "hoverinfo": "y+name",
         "line": {
          "width": 0.5
         },
         "marker": {
          "color": "rgb(0,116,217)"
         },
         "mode": "lines",
         "name": "Col Cluster 9",
         "type": "scatter",
         "x": [
          80,
          80,
          143.75,
          143.75
         ],
         "xaxis": "x3",
         "y": [
          145.94880951895428,
          200.30986870346652,
          200.30986870346652,
          176.8279285067831
         ],
         "yaxis": "y3"
        },
        {
         "hoverinfo": "y+name",
         "line": {
          "width": 0.5
         },
         "marker": {
          "color": "rgb(0,116,217)"
         },
         "mode": "lines",
         "name": "Col Cluster 10",
         "type": "scatter",
         "x": [
          85,
          85,
          100,
          100
         ],
         "xaxis": "x3",
         "y": [
          0,
          91.74124208882283,
          91.74124208882283,
          70.96778564954666
         ],
         "yaxis": "y3"
        },
        {
         "hoverinfo": "y+name",
         "line": {
          "width": 0.5
         },
         "marker": {
          "color": "rgb(0,116,217)"
         },
         "mode": "lines",
         "name": "Col Cluster 11",
         "type": "scatter",
         "x": [
          92.5,
          92.5,
          120,
          120
         ],
         "xaxis": "x3",
         "y": [
          91.74124208882283,
          119.99794248236091,
          119.99794248236091,
          99.67517243526596
         ],
         "yaxis": "y3"
        },
        {
         "hoverinfo": "y+name",
         "line": {
          "width": 0.5
         },
         "marker": {
          "color": "rgb(0,116,217)"
         },
         "mode": "lines",
         "name": "Col Cluster 12",
         "type": "scatter",
         "x": [
          95,
          95,
          105,
          105
         ],
         "xaxis": "x3",
         "y": [
          0,
          70.96778564954666,
          70.96778564954666,
          0
         ],
         "yaxis": "y3"
        },
        {
         "hoverinfo": "y+name",
         "line": {
          "width": 0.5
         },
         "marker": {
          "color": "rgb(0,116,217)"
         },
         "mode": "lines",
         "name": "Col Cluster 13",
         "type": "scatter",
         "x": [
          115,
          115,
          125,
          125
         ],
         "xaxis": "x3",
         "y": [
          0,
          99.67517243526596,
          99.67517243526596,
          0
         ],
         "yaxis": "y3"
        },
        {
         "hoverinfo": "y+name",
         "line": {
          "width": 0.5
         },
         "marker": {
          "color": "rgb(0,116,217)"
         },
         "mode": "lines",
         "name": "Col Cluster 14",
         "type": "scatter",
         "x": [
          135,
          135,
          152.5,
          152.5
         ],
         "xaxis": "x3",
         "y": [
          0,
          176.8279285067831,
          176.8279285067831,
          112.1218618289939
         ],
         "yaxis": "y3"
        },
        {
         "hoverinfo": "y+name",
         "line": {
          "width": 0.5
         },
         "marker": {
          "color": "rgb(0,116,217)"
         },
         "mode": "lines",
         "name": "Col Cluster 15",
         "type": "scatter",
         "x": [
          145,
          145,
          160,
          160
         ],
         "xaxis": "x3",
         "y": [
          0,
          112.1218618289939,
          112.1218618289939,
          106.4727406428519
         ],
         "yaxis": "y3"
        },
        {
         "hoverinfo": "y+name",
         "line": {
          "width": 0.5
         },
         "marker": {
          "color": "rgb(0,116,217)"
         },
         "mode": "lines",
         "name": "Col Cluster 16",
         "type": "scatter",
         "x": [
          155,
          155,
          165,
          165
         ],
         "xaxis": "x3",
         "y": [
          0,
          106.4727406428519,
          106.4727406428519,
          0
         ],
         "yaxis": "y3"
        },
        {
         "hoverinfo": "y+name",
         "line": {
          "width": 0.5
         },
         "marker": {
          "color": "rgb(0,116,217)"
         },
         "mode": "lines",
         "name": "Col Cluster 17",
         "type": "scatter",
         "x": [
          175,
          175,
          224.3359375,
          224.3359375
         ],
         "xaxis": "x3",
         "y": [
          0,
          507.49047419631444,
          507.49047419631444,
          431.9071461552819
         ],
         "yaxis": "y3"
        },
        {
         "hoverinfo": "y+name",
         "line": {
          "width": 0.5
         },
         "marker": {
          "color": "rgb(0,116,217)"
         },
         "mode": "lines",
         "name": "Col Cluster 18",
         "type": "scatter",
         "x": [
          185,
          185,
          263.671875,
          263.671875
         ],
         "xaxis": "x3",
         "y": [
          0,
          431.9071461552819,
          431.9071461552819,
          380.21950568060015
         ],
         "yaxis": "y3"
        },
        {
         "hoverinfo": "y+name",
         "line": {
          "width": 0.5
         },
         "marker": {
          "color": "rgb(0,116,217)"
         },
         "mode": "lines",
         "name": "Col Cluster 19",
         "type": "scatter",
         "x": [
          195,
          195,
          205,
          205
         ],
         "xaxis": "x3",
         "y": [
          0,
          114.30728410735684,
          114.30728410735684,
          0
         ],
         "yaxis": "y3"
        },
        {
         "hoverinfo": "y+name",
         "line": {
          "width": 0.5
         },
         "marker": {
          "color": "rgb(0,116,217)"
         },
         "mode": "lines",
         "name": "Col Cluster 20",
         "type": "scatter",
         "x": [
          200,
          200,
          222.5,
          222.5
         ],
         "xaxis": "x3",
         "y": [
          114.30728410735684,
          244.0991757462528,
          244.0991757462528,
          183.46399019971196
         ],
         "yaxis": "y3"
        },
        {
         "hoverinfo": "y+name",
         "line": {
          "width": 0.5
         },
         "marker": {
          "color": "rgb(0,116,217)"
         },
         "mode": "lines",
         "name": "Col Cluster 21",
         "type": "scatter",
         "x": [
          211.25,
          211.25,
          316.09375,
          316.09375
         ],
         "xaxis": "x3",
         "y": [
          244.0991757462528,
          380.21950568060015,
          380.21950568060015,
          351.162048490437
         ],
         "yaxis": "y3"
        },
        {
         "hoverinfo": "y+name",
         "line": {
          "width": 0.5
         },
         "marker": {
          "color": "rgb(0,116,217)"
         },
         "mode": "lines",
         "name": "Col Cluster 22",
         "type": "scatter",
         "x": [
          215,
          215,
          230,
          230
         ],
         "xaxis": "x3",
         "y": [
          0,
          183.46399019971196,
          183.46399019971196,
          91.62883007001672
         ],
         "yaxis": "y3"
        },
        {
         "hoverinfo": "y+name",
         "line": {
          "width": 0.5
         },
         "marker": {
          "color": "rgb(0,116,217)"
         },
         "mode": "lines",
         "name": "Col Cluster 23",
         "type": "scatter",
         "x": [
          225,
          225,
          235,
          235
         ],
         "xaxis": "x3",
         "y": [
          0,
          91.62883007001672,
          91.62883007001672,
          0
         ],
         "yaxis": "y3"
        },
        {
         "hoverinfo": "y+name",
         "line": {
          "width": 0.5
         },
         "marker": {
          "color": "rgb(0,116,217)"
         },
         "mode": "lines",
         "name": "Col Cluster 24",
         "type": "scatter",
         "x": [
          245,
          245,
          260,
          260
         ],
         "xaxis": "x3",
         "y": [
          0,
          100.48792066711302,
          100.48792066711302,
          73.2870575204108
         ],
         "yaxis": "y3"
        },
        {
         "hoverinfo": "y+name",
         "line": {
          "width": 0.5
         },
         "marker": {
          "color": "rgb(0,116,217)"
         },
         "mode": "lines",
         "name": "Col Cluster 25",
         "type": "scatter",
         "x": [
          252.5,
          252.5,
          282.5,
          282.5
         ],
         "xaxis": "x3",
         "y": [
          100.48792066711302,
          191.3157074053252,
          191.3157074053252,
          136.13418710963091
         ],
         "yaxis": "y3"
        },
        {
         "hoverinfo": "y+name",
         "line": {
          "width": 0.5
         },
         "marker": {
          "color": "rgb(0,116,217)"
         },
         "mode": "lines",
         "name": "Col Cluster 26",
         "type": "scatter",
         "x": [
          255,
          255,
          265,
          265
         ],
         "xaxis": "x3",
         "y": [
          0,
          73.2870575204108,
          73.2870575204108,
          0
         ],
         "yaxis": "y3"
        },
        {
         "hoverinfo": "y+name",
         "line": {
          "width": 0.5
         },
         "marker": {
          "color": "rgb(0,116,217)"
         },
         "mode": "lines",
         "name": "Col Cluster 27",
         "type": "scatter",
         "x": [
          267.5,
          267.5,
          310,
          310
         ],
         "xaxis": "x3",
         "y": [
          191.3157074053252,
          238.63997129567375,
          238.63997129567375,
          205.76386125848236
         ],
         "yaxis": "y3"
        },
        {
         "hoverinfo": "y+name",
         "line": {
          "width": 0.5
         },
         "marker": {
          "color": "rgb(0,116,217)"
         },
         "mode": "lines",
         "name": "Col Cluster 28",
         "type": "scatter",
         "x": [
          275,
          275,
          290,
          290
         ],
         "xaxis": "x3",
         "y": [
          0,
          136.13418710963091,
          136.13418710963091,
          102.05935184979376
         ],
         "yaxis": "y3"
        },
        {
         "hoverinfo": "y+name",
         "line": {
          "width": 0.5
         },
         "marker": {
          "color": "rgb(0,116,217)"
         },
         "mode": "lines",
         "name": "Col Cluster 29",
         "type": "scatter",
         "x": [
          285,
          285,
          295,
          295
         ],
         "xaxis": "x3",
         "y": [
          0,
          102.05935184979376,
          102.05935184979376,
          0
         ],
         "yaxis": "y3"
        },
        {
         "hoverinfo": "y+name",
         "line": {
          "width": 0.5
         },
         "marker": {
          "color": "rgb(0,116,217)"
         },
         "mode": "lines",
         "name": "Col Cluster 30",
         "type": "scatter",
         "x": [
          288.75,
          288.75,
          343.4375,
          343.4375
         ],
         "xaxis": "x3",
         "y": [
          238.63997129567375,
          351.162048490437,
          351.162048490437,
          323.15147222316665
         ],
         "yaxis": "y3"
        },
        {
         "hoverinfo": "y+name",
         "line": {
          "width": 0.5
         },
         "marker": {
          "color": "rgb(0,116,217)"
         },
         "mode": "lines",
         "name": "Col Cluster 31",
         "type": "scatter",
         "x": [
          305,
          305,
          315,
          315
         ],
         "xaxis": "x3",
         "y": [
          0,
          205.76386125848236,
          205.76386125848236,
          0
         ],
         "yaxis": "y3"
        },
        {
         "hoverinfo": "y+name",
         "line": {
          "width": 0.5
         },
         "marker": {
          "color": "rgb(0,116,217)"
         },
         "mode": "lines",
         "name": "Col Cluster 32",
         "type": "scatter",
         "x": [
          325,
          325,
          361.875,
          361.875
         ],
         "xaxis": "x3",
         "y": [
          0,
          323.15147222316665,
          323.15147222316665,
          249.07742711855684
         ],
         "yaxis": "y3"
        },
        {
         "hoverinfo": "y+name",
         "line": {
          "width": 0.5
         },
         "marker": {
          "color": "rgb(0,116,217)"
         },
         "mode": "lines",
         "name": "Col Cluster 33",
         "type": "scatter",
         "x": [
          335,
          335,
          345,
          345
         ],
         "xaxis": "x3",
         "y": [
          0,
          136.50400104026255,
          136.50400104026255,
          0
         ],
         "yaxis": "y3"
        },
        {
         "hoverinfo": "y+name",
         "line": {
          "width": 0.5
         },
         "marker": {
          "color": "rgb(0,116,217)"
         },
         "mode": "lines",
         "name": "Col Cluster 34",
         "type": "scatter",
         "x": [
          340,
          340,
          383.75,
          383.75
         ],
         "xaxis": "x3",
         "y": [
          136.50400104026255,
          249.07742711855684,
          249.07742711855684,
          185.93288654780787
         ],
         "yaxis": "y3"
        },
        {
         "hoverinfo": "y+name",
         "line": {
          "width": 0.5
         },
         "marker": {
          "color": "rgb(0,116,217)"
         },
         "mode": "lines",
         "name": "Col Cluster 35",
         "type": "scatter",
         "x": [
          355,
          355,
          370,
          370
         ],
         "xaxis": "x3",
         "y": [
          0,
          132.72686691096118,
          132.72686691096118,
          110.71451259884586
         ],
         "yaxis": "y3"
        },
        {
         "hoverinfo": "y+name",
         "line": {
          "width": 0.5
         },
         "marker": {
          "color": "rgb(0,116,217)"
         },
         "mode": "lines",
         "name": "Col Cluster 36",
         "type": "scatter",
         "x": [
          362.5,
          362.5,
          405,
          405
         ],
         "xaxis": "x3",
         "y": [
          132.72686691096118,
          185.93288654780787,
          185.93288654780787,
          168.70202162392718
         ],
         "yaxis": "y3"
        },
        {
         "hoverinfo": "y+name",
         "line": {
          "width": 0.5
         },
         "marker": {
          "color": "rgb(0,116,217)"
         },
         "mode": "lines",
         "name": "Col Cluster 37",
         "type": "scatter",
         "x": [
          365,
          365,
          375,
          375
         ],
         "xaxis": "x3",
         "y": [
          0,
          110.71451259884586,
          110.71451259884586,
          0
         ],
         "yaxis": "y3"
        },
        {
         "hoverinfo": "y+name",
         "line": {
          "width": 0.5
         },
         "marker": {
          "color": "rgb(0,116,217)"
         },
         "mode": "lines",
         "name": "Col Cluster 38",
         "type": "scatter",
         "x": [
          385,
          385,
          395,
          395
         ],
         "xaxis": "x3",
         "y": [
          0,
          0,
          0,
          0
         ],
         "yaxis": "y3"
        },
        {
         "hoverinfo": "y+name",
         "line": {
          "width": 0.5
         },
         "marker": {
          "color": "rgb(0,116,217)"
         },
         "mode": "lines",
         "name": "Col Cluster 39",
         "type": "scatter",
         "x": [
          390,
          390,
          420,
          420
         ],
         "xaxis": "x3",
         "y": [
          0,
          168.70202162392718,
          168.70202162392718,
          133.63029596614683
         ],
         "yaxis": "y3"
        },
        {
         "hoverinfo": "y+name",
         "line": {
          "width": 0.5
         },
         "marker": {
          "color": "rgb(0,116,217)"
         },
         "mode": "lines",
         "name": "Col Cluster 40",
         "type": "scatter",
         "x": [
          405,
          405,
          415,
          415
         ],
         "xaxis": "x3",
         "y": [
          0,
          91.45945823150277,
          91.45945823150277,
          0
         ],
         "yaxis": "y3"
        },
        {
         "hoverinfo": "y+name",
         "line": {
          "width": 0.5
         },
         "marker": {
          "color": "rgb(0,116,217)"
         },
         "mode": "lines",
         "name": "Col Cluster 41",
         "type": "scatter",
         "x": [
          410,
          410,
          430,
          430
         ],
         "xaxis": "x3",
         "y": [
          91.45945823150277,
          133.63029596614683,
          133.63029596614683,
          112.0572581317248
         ],
         "yaxis": "y3"
        },
        {
         "hoverinfo": "y+name",
         "line": {
          "width": 0.5
         },
         "marker": {
          "color": "rgb(0,116,217)"
         },
         "mode": "lines",
         "name": "Col Cluster 42",
         "type": "scatter",
         "x": [
          425,
          425,
          435,
          435
         ],
         "xaxis": "x3",
         "y": [
          0,
          112.0572581317248,
          112.0572581317248,
          0
         ],
         "yaxis": "y3"
        },
        {
         "hoverinfo": "x+name",
         "line": {
          "width": 0.5
         },
         "marker": {
          "color": "rgb(0,116,217)"
         },
         "mode": "lines",
         "name": "Row Cluster 0",
         "type": "scatter",
         "x": [
          0,
          -539.0350125919466,
          -539.0350125919466,
          0
         ],
         "xaxis": "x9",
         "y": [
          15,
          15,
          25,
          25
         ],
         "yaxis": "y9"
        },
        {
         "hoverinfo": "x+name",
         "line": {
          "width": 0.5
         },
         "marker": {
          "color": "rgb(0,116,217)"
         },
         "mode": "lines",
         "name": "Row Cluster 1",
         "type": "scatter",
         "x": [
          0,
          -315.1232265320981,
          -315.1232265320981,
          0
         ],
         "xaxis": "x9",
         "y": [
          285,
          285,
          295,
          295
         ],
         "yaxis": "y9"
        },
        {
         "hoverinfo": "x+name",
         "line": {
          "width": 0.5
         },
         "marker": {
          "color": "rgb(0,116,217)"
         },
         "mode": "lines",
         "name": "Row Cluster 2",
         "type": "scatter",
         "x": [
          0,
          -256.2164091154195,
          -256.2164091154195,
          0
         ],
         "xaxis": "x9",
         "y": [
          265,
          265,
          275,
          275
         ],
         "yaxis": "y9"
        },
        {
         "hoverinfo": "x+name",
         "line": {
          "width": 0.5
         },
         "marker": {
          "color": "rgb(0,116,217)"
         },
         "mode": "lines",
         "name": "Row Cluster 3",
         "type": "scatter",
         "x": [
          -300.66471625383645,
          -406.26910539690317,
          -406.26910539690317,
          -315.1232265320981
         ],
         "xaxis": "x9",
         "y": [
          260,
          260,
          290,
          290
         ],
         "yaxis": "y9"
        },
        {
         "hoverinfo": "x+name",
         "line": {
          "width": 0.5
         },
         "marker": {
          "color": "rgb(0,116,217)"
         },
         "mode": "lines",
         "name": "Row Cluster 4",
         "type": "scatter",
         "x": [
          -185.10166557867598,
          -300.66471625383645,
          -300.66471625383645,
          -256.2164091154195
         ],
         "xaxis": "x9",
         "y": [
          250,
          250,
          270,
          270
         ],
         "yaxis": "y9"
        },
        {
         "hoverinfo": "x+name",
         "line": {
          "width": 0.5
         },
         "marker": {
          "color": "rgb(0,116,217)"
         },
         "mode": "lines",
         "name": "Row Cluster 5",
         "type": "scatter",
         "x": [
          0,
          -185.10166557867598,
          -185.10166557867598,
          0
         ],
         "xaxis": "x9",
         "y": [
          245,
          245,
          255,
          255
         ],
         "yaxis": "y9"
        },
        {
         "hoverinfo": "x+name",
         "line": {
          "width": 0.5
         },
         "marker": {
          "color": "rgb(0,116,217)"
         },
         "mode": "lines",
         "name": "Row Cluster 6",
         "type": "scatter",
         "x": [
          0,
          -155.55137897170826,
          -155.55137897170826,
          0
         ],
         "xaxis": "x9",
         "y": [
          225,
          225,
          235,
          235
         ],
         "yaxis": "y9"
        },
        {
         "hoverinfo": "x+name",
         "line": {
          "width": 0.5
         },
         "marker": {
          "color": "rgb(0,116,217)"
         },
         "mode": "lines",
         "name": "Row Cluster 7",
         "type": "scatter",
         "x": [
          -260.86849253982365,
          -466.7184452108145,
          -466.7184452108145,
          -406.26910539690317
         ],
         "xaxis": "x9",
         "y": [
          216.25,
          216.25,
          275,
          275
         ],
         "yaxis": "y9"
        },
        {
         "hoverinfo": "x+name",
         "line": {
          "width": 0.5
         },
         "marker": {
          "color": "rgb(0,116,217)"
         },
         "mode": "lines",
         "name": "Row Cluster 8",
         "type": "scatter",
         "x": [
          0,
          -98.98194128223591,
          -98.98194128223591,
          0
         ],
         "xaxis": "x9",
         "y": [
          205,
          205,
          215,
          215
         ],
         "yaxis": "y9"
        },
        {
         "hoverinfo": "x+name",
         "line": {
          "width": 0.5
         },
         "marker": {
          "color": "rgb(0,116,217)"
         },
         "mode": "lines",
         "name": "Row Cluster 9",
         "type": "scatter",
         "x": [
          -128.11938299882652,
          -260.86849253982365,
          -260.86849253982365,
          -155.55137897170826
         ],
         "xaxis": "x9",
         "y": [
          202.5,
          202.5,
          230,
          230
         ],
         "yaxis": "y9"
        },
        {
         "hoverinfo": "x+name",
         "line": {
          "width": 0.5
         },
         "marker": {
          "color": "rgb(0,116,217)"
         },
         "mode": "lines",
         "name": "Row Cluster 10",
         "type": "scatter",
         "x": [
          0,
          -128.11938299882652,
          -128.11938299882652,
          -98.98194128223591
         ],
         "xaxis": "x9",
         "y": [
          195,
          195,
          210,
          210
         ],
         "yaxis": "y9"
        },
        {
         "hoverinfo": "x+name",
         "line": {
          "width": 0.5
         },
         "marker": {
          "color": "rgb(0,116,217)"
         },
         "mode": "lines",
         "name": "Row Cluster 11",
         "type": "scatter",
         "x": [
          0,
          -300.9008888321867,
          -300.9008888321867,
          0
         ],
         "xaxis": "x9",
         "y": [
          175,
          175,
          185,
          185
         ],
         "yaxis": "y9"
        },
        {
         "hoverinfo": "x+name",
         "line": {
          "width": 0.5
         },
         "marker": {
          "color": "rgb(0,116,217)"
         },
         "mode": "lines",
         "name": "Row Cluster 12",
         "type": "scatter",
         "x": [
          -418.12874321194414,
          -642.3030217117151,
          -642.3030217117151,
          -466.7184452108145
         ],
         "xaxis": "x9",
         "y": [
          170,
          170,
          245.625,
          245.625
         ],
         "yaxis": "y9"
        },
        {
         "hoverinfo": "x+name",
         "line": {
          "width": 0.5
         },
         "marker": {
          "color": "rgb(0,116,217)"
         },
         "mode": "lines",
         "name": "Row Cluster 13",
         "type": "scatter",
         "x": [
          -229.13699112103222,
          -418.12874321194414,
          -418.12874321194414,
          -300.9008888321867
         ],
         "xaxis": "x9",
         "y": [
          160,
          160,
          180,
          180
         ],
         "yaxis": "y9"
        },
        {
         "hoverinfo": "x+name",
         "line": {
          "width": 0.5
         },
         "marker": {
          "color": "rgb(0,116,217)"
         },
         "mode": "lines",
         "name": "Row Cluster 14",
         "type": "scatter",
         "x": [
          0,
          -229.13699112103222,
          -229.13699112103222,
          0
         ],
         "xaxis": "x9",
         "y": [
          155,
          155,
          165,
          165
         ],
         "yaxis": "y9"
        },
        {
         "hoverinfo": "x+name",
         "line": {
          "width": 0.5
         },
         "marker": {
          "color": "rgb(0,116,217)"
         },
         "mode": "lines",
         "name": "Row Cluster 15",
         "type": "scatter",
         "x": [
          0,
          -57.51624640047366,
          -57.51624640047366,
          0
         ],
         "xaxis": "x9",
         "y": [
          135,
          135,
          145,
          145
         ],
         "yaxis": "y9"
        },
        {
         "hoverinfo": "x+name",
         "line": {
          "width": 0.5
         },
         "marker": {
          "color": "rgb(0,116,217)"
         },
         "mode": "lines",
         "name": "Row Cluster 16",
         "type": "scatter",
         "x": [
          0,
          -30.39599973680747,
          -30.39599973680747,
          0
         ],
         "xaxis": "x9",
         "y": [
          115,
          115,
          125,
          125
         ],
         "yaxis": "y9"
        },
        {
         "hoverinfo": "x+name",
         "line": {
          "width": 0.5
         },
         "marker": {
          "color": "rgb(0,116,217)"
         },
         "mode": "lines",
         "name": "Row Cluster 17",
         "type": "scatter",
         "x": [
          -43.10509598643762,
          -75.90139260909513,
          -75.90139260909513,
          -57.51624640047366
         ],
         "xaxis": "x9",
         "y": [
          112.5,
          112.5,
          140,
          140
         ],
         "yaxis": "y9"
        },
        {
         "hoverinfo": "x+name",
         "line": {
          "width": 0.5
         },
         "marker": {
          "color": "rgb(0,116,217)"
         },
         "mode": "lines",
         "name": "Row Cluster 18",
         "type": "scatter",
         "x": [
          0,
          -43.10509598643762,
          -43.10509598643762,
          -30.39599973680747
         ],
         "xaxis": "x9",
         "y": [
          105,
          105,
          120,
          120
         ],
         "yaxis": "y9"
        },
        {
         "hoverinfo": "x+name",
         "line": {
          "width": 0.5
         },
         "marker": {
          "color": "rgb(0,116,217)"
         },
         "mode": "lines",
         "name": "Row Cluster 19",
         "type": "scatter",
         "x": [
          0,
          -115.56885004186897,
          -115.56885004186897,
          -75.90139260909513
         ],
         "xaxis": "x9",
         "y": [
          95,
          95,
          126.25,
          126.25
         ],
         "yaxis": "y9"
        },
        {
         "hoverinfo": "x+name",
         "line": {
          "width": 0.5
         },
         "marker": {
          "color": "rgb(0,116,217)"
         },
         "mode": "lines",
         "name": "Row Cluster 20",
         "type": "scatter",
         "x": [
          -175.3701747732493,
          -796.9040758460205,
          -796.9040758460205,
          -642.3030217117151
         ],
         "xaxis": "x9",
         "y": [
          84.0625,
          84.0625,
          207.8125,
          207.8125
         ],
         "yaxis": "y9"
        },
        {
         "hoverinfo": "x+name",
         "line": {
          "width": 0.5
         },
         "marker": {
          "color": "rgb(0,116,217)"
         },
         "mode": "lines",
         "name": "Row Cluster 21",
         "type": "scatter",
         "x": [
          0,
          -34.98795507028097,
          -34.98795507028097,
          0
         ],
         "xaxis": "x9",
         "y": [
          75,
          75,
          85,
          85
         ],
         "yaxis": "y9"
        },
        {
         "hoverinfo": "x+name",
         "line": {
          "width": 0.5
         },
         "marker": {
          "color": "rgb(0,116,217)"
         },
         "mode": "lines",
         "name": "Row Cluster 22",
         "type": "scatter",
         "x": [
          0,
          -43.04286235835159,
          -43.04286235835159,
          -34.98795507028097
         ],
         "xaxis": "x9",
         "y": [
          65,
          65,
          80,
          80
         ],
         "yaxis": "y9"
        },
        {
         "hoverinfo": "x+name",
         "line": {
          "width": 0.5
         },
         "marker": {
          "color": "rgb(0,116,217)"
         },
         "mode": "lines",
         "name": "Row Cluster 23",
         "type": "scatter",
         "x": [
          -55.03574838230148,
          -175.3701747732493,
          -175.3701747732493,
          -115.56885004186897
         ],
         "xaxis": "x9",
         "y": [
          57.5,
          57.5,
          110.625,
          110.625
         ],
         "yaxis": "y9"
        },
        {
         "hoverinfo": "x+name",
         "line": {
          "width": 0.5
         },
         "marker": {
          "color": "rgb(0,116,217)"
         },
         "mode": "lines",
         "name": "Row Cluster 24",
         "type": "scatter",
         "x": [
          0,
          -27.89209744712649,
          -27.89209744712649,
          0
         ],
         "xaxis": "x9",
         "y": [
          45,
          45,
          55,
          55
         ],
         "yaxis": "y9"
        },
        {
         "hoverinfo": "x+name",
         "line": {
          "width": 0.5
         },
         "marker": {
          "color": "rgb(0,116,217)"
         },
         "mode": "lines",
         "name": "Row Cluster 25",
         "type": "scatter",
         "x": [
          -37.358929320846435,
          -55.03574838230148,
          -55.03574838230148,
          -43.04286235835159
         ],
         "xaxis": "x9",
         "y": [
          42.5,
          42.5,
          72.5,
          72.5
         ],
         "yaxis": "y9"
        },
        {
         "hoverinfo": "x+name",
         "line": {
          "width": 0.5
         },
         "marker": {
          "color": "rgb(0,116,217)"
         },
         "mode": "lines",
         "name": "Row Cluster 26",
         "type": "scatter",
         "x": [
          0,
          -37.358929320846435,
          -37.358929320846435,
          -27.89209744712649
         ],
         "xaxis": "x9",
         "y": [
          35,
          35,
          50,
          50
         ],
         "yaxis": "y9"
        },
        {
         "hoverinfo": "x+name",
         "line": {
          "width": 0.5
         },
         "marker": {
          "color": "rgb(0,116,217)"
         },
         "mode": "lines",
         "name": "Row Cluster 27",
         "type": "scatter",
         "x": [
          -539.0350125919466,
          -1233.2454618606955,
          -1233.2454618606955,
          -796.9040758460205
         ],
         "xaxis": "x9",
         "y": [
          20,
          20,
          145.9375,
          145.9375
         ],
         "yaxis": "y9"
        },
        {
         "hoverinfo": "x+name",
         "line": {
          "width": 0.5
         },
         "marker": {
          "color": "rgb(0,116,217)"
         },
         "mode": "lines",
         "name": "Row Cluster 28",
         "type": "scatter",
         "x": [
          0,
          -2634.109798337951,
          -2634.109798337951,
          -1233.2454618606955
         ],
         "xaxis": "x9",
         "y": [
          5,
          5,
          82.96875,
          82.96875
         ],
         "yaxis": "y9"
        },
        {
         "colorbar": {
          "xpad": 100
         },
         "colorscale": [
          [
           0,
           "rgb(103,0,31)"
          ],
          [
           0.1,
           "rgb(178,24,43)"
          ],
          [
           0.2,
           "rgb(214,96,77)"
          ],
          [
           0.3,
           "rgb(244,165,130)"
          ],
          [
           0.4,
           "rgb(253,219,199)"
          ],
          [
           0.5,
           "rgb(247,247,247)"
          ],
          [
           0.6,
           "rgb(209,229,240)"
          ],
          [
           0.7,
           "rgb(146,197,222)"
          ],
          [
           0.8,
           "rgb(67,147,195)"
          ],
          [
           0.9,
           "rgb(33,102,172)"
          ],
          [
           1,
           "rgb(5,48,97)"
          ]
         ],
         "type": "heatmap",
         "x": [
          5,
          15,
          25,
          35,
          45,
          55,
          65,
          75,
          85,
          95,
          105,
          115,
          125,
          135,
          145,
          155,
          165,
          175,
          185,
          195,
          205,
          215,
          225,
          235,
          245,
          255,
          265,
          275,
          285,
          295,
          305,
          315,
          325,
          335,
          345,
          355,
          365,
          375,
          385,
          395,
          405,
          415,
          425,
          435
         ],
         "xaxis": "x11",
         "y": [
          5,
          15,
          25,
          35,
          45,
          55,
          65,
          75,
          85,
          95,
          105,
          115,
          125,
          135,
          145,
          155,
          165,
          175,
          185,
          195,
          205,
          215,
          225,
          235,
          245,
          255,
          265,
          275,
          285,
          295
         ],
         "yaxis": "y11",
         "z": [
          [
           119.08389393939395,
           84.88389393939393,
           160.24389393939396,
           185.43389393939395,
           170.00389393939395,
           146.20389393939394,
           164.01389393939394,
           164.01389393939394,
           135.76389393939394,
           127.75389393939393,
           121.93389393939394,
           153.96389393939393,
           208.89389393939393,
           207.08389393939393,
           258.51389393939394,
           262.00389393939395,
           216.0438939393939,
           687.9438939393939,
           350.7138939393939,
           293.77389393939393,
           394.1238939393939,
           253.01389393939394,
           315.1038939393939,
           330.8438939393939,
           377.1538939393939,
           359.77389393939393,
           373.3038939393939,
           430.4638939393939,
           432.4838939393939,
           439.4038939393939,
           318.89389393939393,
           464.0738939393939,
           318.5638939393939,
           503.02389393939393,
           492.0638939393939,
           434.6838939393939,
           374.45389393939394,
           379.1238939393939,
           476.6838939393939,
           476.6838939393939,
           390.27389393939393,
           414.5638939393939,
           345.2838939393939,
           371.07389393939394
          ],
          [
           3.973893939393932,
           7.91389393939393,
           8.013893939393938,
           97.40389393939394,
           61.063893939393935,
           61.783893939393934,
           43.98389393939394,
           43.98389393939394,
           -1.4061060606060636,
           30.16389393939393,
           14.903893939393939,
           6.083893939393931,
           37.60389393939393,
           109.32389393939393,
           72.92389393939392,
           63.90389393939394,
           54.96389393939394,
           55.47389393939393,
           386.27389393939393,
           51.62389393939394,
           86.00389393939393,
           58.18389393939394,
           108.66389393939393,
           63.67389393939392,
           30.27389393939393,
           58.96389393939394,
           41.143893939393934,
           104.04389393939393,
           32.33389393939393,
           74.57389393939393,
           184.31389393939395,
           88.83389393939395,
           171.28389393939392,
           58.333893939393946,
           120.27389393939394,
           30.243893939393928,
           92.14389393939395,
           59.45389393939392,
           56.79389393939394,
           56.79389393939394,
           100.30389393939394,
           55.11389393939393,
           66.43389393939394,
           40.68389393939394
          ],
          [
           56.343893939393936,
           53.46389393939394,
           130.84389393939392,
           94.12389393939394,
           120.74389393939394,
           119.57389393939393,
           131.30389393939396,
           131.30389393939396,
           94.02389393939394,
           127.60389393939393,
           135.37389393939395,
           157.18389393939395,
           138.40389393939392,
           179.81389393939395,
           71.05389393939394,
           113.48389393939392,
           100.62389393939394,
           74.14389393939395,
           134.09389393939392,
           68.46389393939394,
           74.31389393939394,
           149.89389393939393,
           85.76389393939392,
           68.40389393939394,
           141.80389393939396,
           108.39389393939395,
           92.40389393939394,
           99.02389393939394,
           61.27389393939394,
           64.91389393939393,
           165.81389393939395,
           198.75389393939395,
           267.63389393939394,
           102.64389393939395,
           121.49389393939394,
           66.71389393939394,
           41.66389393939393,
           100.92389393939392,
           167.51389393939394,
           167.51389393939394,
           154.94389393939394,
           178.18389393939395,
           107.07389393939393,
           127.35389393939393
          ],
          [
           -65.16610606060607,
           -65.57610606060607,
           -63.87610606060606,
           -65.53610606060607,
           -65.69610606060607,
           -65.11610606060607,
           -67.57610606060607,
           -67.57610606060607,
           -62.37610606060606,
           -61.88610606060607,
           -65.24610606060607,
           -65.88610606060607,
           -67.18610606060606,
           -67.38610606060607,
           -55.56610606060607,
           -66.26610606060606,
           -66.56610606060606,
           -59.186106060606065,
           -65.82610606060607,
           -64.99610606060607,
           -63.99610606060607,
           -51.87610606060606,
           -51.436106060606065,
           -55.20610606060607,
           -62.106106060606066,
           -59.05610606060607,
           -57.83610606060606,
           -64.03610606060607,
           -55.406106060606064,
           -57.74610606060607,
           -65.49610606060607,
           -67.37610606060606,
           -66.81610606060606,
           -63.366106060606064,
           -66.15610606060606,
           -61.076106060606065,
           -58.44610606060607,
           -67.29610606060606,
           -61.63610606060607,
           -61.63610606060607,
           -66.09610606060606,
           -67.49610606060607,
           -65.37610606060606,
           -62.396106060606066
          ],
          [
           -60.80610606060607,
           -61.326106060606065,
           -56.83610606060606,
           -59.37610606060606,
           -63.51610606060606,
           -59.536106060606066,
           -60.12610606060606,
           -60.12610606060606,
           -62.67610606060607,
           -62.37610606060606,
           -62.796106060606064,
           -66.76610606060606,
           -66.00610606060607,
           -63.69610606060607,
           -54.296106060606064,
           -61.17610606060607,
           -59.966106060606066,
           -62.036106060606066,
           -64.07610606060607,
           -54.156106060606064,
           -52.13610606060607,
           -65.95610606060606,
           -56.006106060606065,
           -61.116106060606064,
           -65.69610606060607,
           -62.87610606060606,
           -59.716106060606066,
           -54.63610606060607,
           -54.716106060606066,
           -57.976106060606064,
           -62.646106060606066,
           -61.76610606060606,
           -68.89610606060607,
           -62.19610606060607,
           -58.13610606060607,
           -49.92610606060607,
           -52.37610606060606,
           -61.006106060606065,
           -62.73610606060606,
           -62.73610606060606,
           -61.226106060606064,
           -63.756106060606065,
           -59.286106060606066,
           -62.786106060606066
          ],
          [
           -63.476106060606064,
           -64.29610606060606,
           -60.12610606060606,
           -61.786106060606066,
           -64.43610606060606,
           -60.87610606060606,
           -63.076106060606065,
           -63.076106060606065,
           -62.99610606060607,
           -63.506106060606065,
           -61.49610606060607,
           -66.99610606060607,
           -63.116106060606064,
           -63.616106060606064,
           -62.37610606060606,
           -62.656106060606064,
           -63.02610606060607,
           -65.13610606060607,
           -64.47610606060607,
           -62.77610606060607,
           -62.476106060606064,
           -66.23610606060606,
           -62.88610606060607,
           -64.14610606060606,
           -65.45610606060606,
           -65.24610606060607,
           -63.48610606060606,
           -61.786106060606066,
           -62.216106060606066,
           -62.896106060606066,
           -64.73610606060606,
           -63.796106060606064,
           -64.61610606060607,
           -62.73610606060606,
           -62.49610606060607,
           -59.326106060606065,
           -61.37610606060606,
           -64.02610606060607,
           -62.73610606060606,
           -62.73610606060606,
           -61.406106060606064,
           -62.116106060606064,
           -62.44610606060607,
           -61.966106060606066
          ],
          [
           -56.67610606060607,
           -57.67610606060607,
           -54.106106060606066,
           -58.52610606060607,
           -58.84610606060607,
           -60.41610606060607,
           -59.66610606060607,
           -59.66610606060607,
           -58.726106060606064,
           -60.42610606060607,
           -58.63610606060607,
           -61.046106060606064,
           -55.23610606060606,
           -61.576106060606065,
           -54.91610606060607,
           -56.51610606060606,
           -57.866106060606064,
           -50.046106060606064,
           -58.08610606060606,
           -52.47610606060607,
           -51.77610606060607,
           -52.01610606060606,
           -49.076106060606065,
           -48.826106060606065,
           -60.476106060606064,
           -54.17610606060607,
           -46.006106060606065,
           -57.69610606060607,
           -51.296106060606064,
           -60.44610606060607,
           -62.576106060606065,
           -62.77610606060607,
           -51.94610606060607,
           -56.67610606060607,
           -53.66610606060607,
           -54.576106060606065,
           -55.606106060606066,
           -54.77610606060607,
           -60.41610606060607,
           -60.41610606060607,
           -59.686106060606065,
           -59.036106060606066,
           -62.226106060606064,
           -52.99610606060607
          ],
          [
           -64.39610606060606,
           -63.796106060606064,
           -63.756106060606065,
           -63.116106060606064,
           -61.19610606060607,
           -60.33610606060606,
           -61.56610606060607,
           -61.56610606060607,
           -62.356106060606066,
           -63.826106060606065,
           -60.856106060606066,
           -65.99610606060607,
           -64.26610606060606,
           -62.17610606060607,
           -56.106106060606066,
           -58.646106060606066,
           -59.17610606060607,
           -52.63610606060607,
           -60.966106060606066,
           -55.09610606060607,
           -51.856106060606066,
           -64.55610606060607,
           -61.406106060606064,
           -59.17610606060607,
           -53.73610606060606,
           -57.09610606060607,
           -54.26610606060606,
           -57.49610606060607,
           -55.88610606060607,
           -50.98610606060606,
           -60.92610606060607,
           -56.49610606060607,
           -58.296106060606064,
           -60.536106060606066,
           -55.49610606060607,
           -57.396106060606066,
           -58.44610606060607,
           -60.83610606060606,
           -57.856106060606066,
           -57.856106060606066,
           -57.02610606060607,
           -61.83610606060606,
           -58.09610606060607,
           -59.24610606060607
          ],
          [
           -60.186106060606065,
           -62.576106060606065,
           -58.036106060606066,
           -60.16610606060607,
           -60.66610606060607,
           -57.156106060606064,
           -58.27610606060607,
           -58.27610606060607,
           -61.226106060606064,
           -61.656106060606064,
           -61.436106060606065,
           -65.83610606060607,
           -67.09610606060606,
           -57.37610606060606,
           -59.24610606060607,
           -53.546106060606064,
           -56.576106060606065,
           -59.87610606060606,
           -59.20610606060607,
           -50.84610606060606,
           -49.656106060606064,
           -59.09610606060607,
           -55.656106060606064,
           -60.036106060606066,
           -66.89610606060607,
           -64.63610606060607,
           -62.076106060606065,
           -57.856106060606066,
           -54.41610606060607,
           -57.616106060606064,
           -58.06610606060607,
           -55.76610606060606,
           -69.42610606060606,
           -52.716106060606066,
           -52.576106060606065,
           -46.296106060606064,
           -51.616106060606064,
           -54.73610606060606,
           -52.45610606060606,
           -52.45610606060606,
           -51.69610606060607,
           -54.99610606060607,
           -52.73610606060606,
           -58.49610606060607
          ],
          [
           -47.49610606060607,
           -51.16610606060607,
           -42.45610606060606,
           -48.63610606060607,
           -47.466106060606066,
           -35.01610606060606,
           -41.06610606060607,
           -41.06610606060607,
           -46.896106060606066,
           -47.99610606060607,
           -35.05610606060607,
           -55.156106060606064,
           -45.24610606060607,
           -38.49610606060607,
           -46.396106060606066,
           -38.59610606060606,
           -29.956106060606068,
           -49.97610606060607,
           -38.646106060606066,
           -39.01610606060606,
           -36.396106060606066,
           -54.67610606060607,
           -52.55610606060607,
           -50.966106060606066,
           -35.856106060606066,
           -45.97610606060607,
           -43.22610606060607,
           -40.69610606060607,
           -44.63610606060607,
           -41.256106060606065,
           -30.886106060606068,
           -29.206106060606068,
           -20.296106060606064,
           -43.67610606060607,
           -16.776106060606068,
           -38.67610606060607,
           -34.326106060606065,
           -42.936106060606065,
           -26.826106060606065,
           -26.826106060606065,
           -33.19610606060606,
           -21.59610606060607,
           -26.896106060606066,
           -28.156106060606064
          ],
          [
           -55.69610606060607,
           -56.156106060606064,
           -54.67610606060607,
           -57.37610606060606,
           -55.49610606060607,
           -52.94610606060607,
           -52.77610606060607,
           -52.77610606060607,
           -55.406106060606064,
           -54.12610606060606,
           -50.256106060606065,
           -58.49610606060607,
           -51.30610606060607,
           -58.45610606060607,
           -50.76610606060606,
           -57.966106060606066,
           -54.896106060606066,
           -49.19610606060607,
           -55.786106060606066,
           -56.23610606060606,
           -55.05610606060607,
           -54.146106060606066,
           -51.06610606060607,
           -49.20610606060606,
           -47.406106060606064,
           -52.97610606060607,
           -46.656106060606064,
           -53.716106060606066,
           -53.48610606060606,
           -51.08610606060607,
           -49.286106060606066,
           -39.326106060606065,
           -40.116106060606064,
           -51.22610606060607,
           -46.55610606060607,
           -49.216106060606066,
           -46.936106060606065,
           -53.756106060606065,
           -42.616106060606064,
           -42.616106060606064,
           -49.356106060606066,
           -45.05610606060607,
           -52.936106060606065,
           -44.84610606060606
          ],
          [
           -60.45610606060607,
           -60.19610606060607,
           -55.05610606060607,
           -58.83610606060606,
           -58.216106060606066,
           -56.396106060606066,
           -57.726106060606064,
           -57.726106060606064,
           -56.55610606060607,
           -59.23610606060606,
           -55.756106060606065,
           -64.71610606060607,
           -59.13610606060607,
           -61.156106060606064,
           -53.606106060606066,
           -54.74610606060607,
           -53.976106060606064,
           -49.56610606060607,
           -54.686106060606065,
           -50.896106060606066,
           -50.77610606060607,
           -61.19610606060607,
           -54.646106060606066,
           -54.16610606060607,
           -46.576106060606065,
           -50.83610606060607,
           -45.716106060606066,
           -55.05610606060607,
           -46.576106060606065,
           -54.70610606060607,
           -54.106106060606066,
           -49.42610606060607,
           -50.02610606060607,
           -53.49610606060607,
           -49.97610606060607,
           -47.45610606060606,
           -51.256106060606065,
           -55.856106060606066,
           -56.356106060606066,
           -56.356106060606066,
           -55.19610606060607,
           -57.606106060606066,
           -52.13610606060607,
           -49.58610606060607
          ],
          [
           -63.67610606060607,
           -63.576106060606065,
           -59.34610606060607,
           -60.13610606060607,
           -58.08610606060606,
           -51.656106060606064,
           -52.52610606060607,
           -52.52610606060607,
           -59.05610606060607,
           -56.13610606060607,
           -54.81610606060607,
           -63.13610606060607,
           -56.686106060606065,
           -52.52610606060607,
           -57.936106060606065,
           -55.24610606060607,
           -54.05610606060607,
           -54.51610606060606,
           -53.34610606060606,
           -43.74610606060607,
           -44.076106060606065,
           -61.046106060606064,
           -52.716106060606066,
           -56.99610606060607,
           -53.936106060606065,
           -56.396106060606066,
           -56.406106060606064,
           -57.19610606060607,
           -50.47610606060607,
           -55.38610606060607,
           -56.646106060606066,
           -51.38610606060607,
           -46.286106060606066,
           -45.51610606060606,
           -44.80610606060607,
           -41.97610606060607,
           -54.24610606060607,
           -56.896106060606066,
           -57.716106060606066,
           -57.716106060606066,
           -48.58610606060607,
           -51.19610606060607,
           -51.73610606060606,
           -40.116106060606064
          ],
          [
           -54.69610606060607,
           -58.076106060606065,
           -52.08610606060607,
           -53.436106060606065,
           -56.716106060606066,
           -46.77610606060607,
           -51.616106060606064,
           -51.616106060606064,
           -53.506106060606065,
           -53.976106060606064,
           -51.45610606060606,
           -59.69610606060607,
           -56.17610606060607,
           -39.48610606060606,
           -48.606106060606066,
           -45.186106060606065,
           -45.38610606060607,
           -43.356106060606066,
           -41.286106060606066,
           -42.97610606060607,
           -37.656106060606064,
           -54.41610606060607,
           -47.08610606060607,
           -44.936106060606065,
           -39.84610606060606,
           -46.98610606060606,
           -39.55610606060607,
           -42.51610606060606,
           -41.576106060606065,
           -37.116106060606064,
           -31.886106060606068,
           -32.506106060606065,
           -28.766106060606063,
           -34.69610606060606,
           -32.49610606060607,
           -46.91610606060607,
           -46.81610606060607,
           -31.116106060606064,
           -40.216106060606066,
           -40.216106060606066,
           -49.616106060606064,
           -54.23610606060606,
           -47.826106060606065,
           -28.836106060606063
          ],
          [
           -63.20610606060607,
           -64.26610606060606,
           -60.51610606060606,
           -60.30610606060607,
           -54.45610606060607,
           -51.49610606060607,
           -50.906106060606064,
           -50.906106060606064,
           -57.05610606060607,
           -55.45610606060607,
           -54.09610606060607,
           -58.99610606060607,
           -55.726106060606064,
           -39.856106060606066,
           -54.356106060606066,
           -52.01610606060606,
           -47.31610606060607,
           -53.24610606060607,
           -52.38610606060607,
           -39.51610606060606,
           -39.44610606060607,
           -49.99610606060607,
           -55.59610606060607,
           -56.406106060606064,
           -51.466106060606066,
           -55.73610606060606,
           -53.09610606060606,
           -54.05610606060607,
           -44.156106060606064,
           -51.01610606060606,
           -50.98610606060606,
           -49.156106060606064,
           -36.356106060606066,
           -10.336106060606063,
           -31.246106060606067,
           -31.626106060606062,
           -42.83610606060607,
           -39.45610606060606,
           -42.51610606060606,
           -42.51610606060606,
           -45.17610606060607,
           -44.51610606060606,
           -44.436106060606065,
           -31.476106060606064
          ],
          [
           8.403893939393939,
           3.763893939393938,
           42.00389393939393,
           29.46389393939394,
           44.75389393939393,
           82.32389393939393,
           67.40389393939394,
           67.40389393939394,
           21.96389393939394,
           61.42389393939392,
           59.72389393939393,
           28.843893939393936,
           54.23389393939394,
           61.13389393939393,
           7.143893939393934,
           61.87389393939394,
           44.61389393939393,
           -3.69610606060607,
           25.44389393939393,
           55.54389393939394,
           54.50389393939393,
           26.263893939393938,
           18.65389393939394,
           -6.156106060606064,
           -32.156106060606064,
           -14.156106060606064,
           -4.346106060606061,
           17.68389393939394,
           9.493893939393928,
           6.773893939393929,
           9.69389393939393,
           -18.546106060606064,
           9.373893939393938,
           20.623893939393938,
           74.80389393939394,
           49.22389393939393,
           43.01389393939394,
           36.02389393939393,
           14.423893939393935,
           14.423893939393935,
           86.72389393939393,
           55.16389393939393,
           53.313893939393935,
           65.40389393939394
          ],
          [
           42.08389393939393,
           41.343893939393936,
           88.88389393939393,
           65.38389393939393,
           62.73389393939392,
           44.423893939393935,
           48.24389393939393,
           48.24389393939393,
           12.363893939393932,
           56.923893939393935,
           53.37389393939394,
           54.66389393939393,
           41.57389393939394,
           72.70389393939392,
           49.08389393939393,
           62.88389393939393,
           24.38389393939393,
           20.32389393939394,
           30.253893939393933,
           67.62389393939394,
           60.02389393939394,
           32.55389393939393,
           39.93389393939394,
           12.103893939393927,
           52.35389393939393,
           47.063893939393935,
           26.503893939393933,
           51.38389393939393,
           63.303893939393944,
           23.283893939393934,
           38.72389393939393,
           61.17389393939392,
           81.83389393939395,
           70.88389393939393,
           61.74389393939394,
           105.92389393939392,
           47.26389393939394,
           64.07389393939393,
           51.04389393939394,
           51.04389393939394,
           74.93389393939394,
           78.72389393939393,
           69.14389393939395,
           53.02389393939393
          ],
          [
           122.72389393939393,
           160.46389393939393,
           151.99389393939396,
           140.18389393939395,
           57.15389393939394,
           44.52389393939393,
           29.44389393939393,
           29.44389393939393,
           20.123893939393938,
           16.94389393939393,
           19.093893939393936,
           31.533893939393934,
           12.093893939393936,
           66.00389393939393,
           24.743893939393928,
           29.41389393939393,
           -1.0961060606060613,
           83.23389393939392,
           55.51389393939394,
           9.16389393939393,
           0.8638939393939324,
           -3.8561060606060664,
           37.51389393939394,
           33.68389393939394,
           98.81389393939394,
           72.90389393939394,
           55.11389393939393,
           42.12389393939394,
           57.72389393939393,
           12.033893939393934,
           73.96389393939394,
           113.51389393939392,
           5.653893939393939,
           29.223893939393932,
           -7.296106060606064,
           3.4038939393939387,
           -13.936106060606065,
           -1.756106060606072,
           4.023893939393929,
           4.023893939393929,
           35.38389393939393,
           11.733893939393937,
           29.753893939393933,
           11.583893939393931
          ],
          [
           60.033893939393934,
           37.66389393939393,
           51.54389393939394,
           68.45389393939392,
           43.83389393939393,
           60.00389393939393,
           73.71389393939394,
           73.71389393939394,
           11.05389393939393,
           30.063893939393935,
           25.353893939393927,
           -9.646106060606066,
           26.43389393939394,
           -12.546106060606064,
           51.94389393939393,
           65.46389393939394,
           21.88389393939393,
           127.48389393939392,
           70.83389393939395,
           35.71389393939394,
           55.13389393939393,
           27.41389393939393,
           79.43389393939394,
           89.89389393939395,
           81.45389393939392,
           89.08389393939395,
           96.03389393939393,
           131.24389393939396,
           90.61389393939395,
           96.92389393939392,
           108.25389393939393,
           160.68389393939395,
           -10.796106060606064,
           -20.956106060606068,
           -0.37610606060606244,
           6.443893939393931,
           -0.37610606060606244,
           -10.526106060606068,
           30.54389393939394,
           30.54389393939394,
           26.19389393939393,
           4.393893939393934,
           38.30389393939393,
           63.50389393939393
          ],
          [
           -45.94610606060607,
           -51.37610606060606,
           -39.67610606060607,
           -46.31610606060607,
           -27.286106060606066,
           -41.646106060606066,
           -35.17610606060607,
           -35.17610606060607,
           -28.466106060606066,
           -28.766106060606063,
           -31.206106060606068,
           -27.546106060606064,
           -35.52610606060607,
           -45.046106060606064,
           -50.12610606060606,
           -24.686106060606065,
           -31.686106060606065,
           -48.326106060606065,
           -22.876106060606062,
           -14.156106060606064,
           7.043893939393939,
           -35.546106060606064,
           -48.16610606060607,
           -55.476106060606064,
           -51.646106060606066,
           -50.406106060606064,
           -55.08610606060606,
           -41.87610606060606,
           -38.146106060606066,
           -47.88610606060607,
           -32.55610606060607,
           -47.58610606060607,
           39.54389393939394,
           -22.336106060606063,
           -10.736106060606069,
           -4.81610606060606,
           -12.176106060606067,
           10.533893939393934,
           -24.386106060606068,
           -24.386106060606068,
           1.4038939393939387,
           3.6938939393939307,
           -22.816106060606067,
           -23.686106060606065
          ],
          [
           -43.59610606060606,
           -44.12610606060606,
           -37.12610606060606,
           -41.156106060606064,
           -36.63610606060607,
           -34.146106060606066,
           -29.476106060606064,
           -29.476106060606064,
           -44.09610606060606,
           -37.87610606060606,
           -36.49610606060607,
           -51.69610606060607,
           -50.52610606060607,
           -19.73610606060607,
           -37.62610606060606,
           -18.936106060606065,
           -18.656106060606064,
           -44.20610606060606,
           -36.536106060606066,
           7.023893939393929,
           9.133893939393928,
           -37.466106060606066,
           -38.796106060606064,
           -39.99610606060607,
           -49.37610606060606,
           -43.69610606060607,
           -43.506106060606065,
           -29.936106060606065,
           -38.33610606060607,
           -38.74610606060607,
           -22.146106060606066,
           -6.266106060606063,
           -47.686106060606065,
           -8.926106060606067,
           4.16389393939393,
           -3.3261060606060653,
           -1.9261060606060596,
           -19.91610606060607,
           -15.236106060606069,
           -15.236106060606069,
           -16.956106060606068,
           -28.05610606060607,
           -19.826106060606065,
           -10.616106060606064
          ],
          [
           -59.09610606060607,
           -57.17610606060607,
           -54.616106060606064,
           -55.31610606060607,
           -39.22610606060607,
           -34.356106060606066,
           -31.876106060606062,
           -31.876106060606062,
           -45.546106060606064,
           -46.38610606060607,
           -39.256106060606065,
           -56.01610606060606,
           -46.01610606060606,
           -30.756106060606065,
           -42.37610606060606,
           -34.296106060606064,
           -27.09610606060607,
           -33.686106060606065,
           -35.006106060606065,
           -10.476106060606064,
           -8.946106060606063,
           -30.176106060606067,
           -40.936106060606065,
           -43.63610606060607,
           -31.98610606060607,
           -41.17610606060607,
           -36.80610606060607,
           -44.88610606060607,
           -29.036106060606066,
           -30.066106060606067,
           -20.126106060606062,
           2.0938939393939364,
           15.103893939393927,
           -6.626106060606062,
           -7.416106060606069,
           -26.356106060606066,
           -31.55610606060607,
           -31.05610606060607,
           -25.286106060606066,
           -25.286106060606066,
           -19.356106060606066,
           -29.466106060606066,
           -26.776106060606068,
           17.44389393939393
          ],
          [
           -47.796106060606064,
           -50.38610606060607,
           -44.356106060606066,
           -45.686106060606065,
           -42.756106060606065,
           -10.976106060606064,
           -15.156106060606064,
           -15.156106060606064,
           -26.506106060606065,
           -22.766106060606063,
           -22.476106060606064,
           -37.326106060606065,
           -17.396106060606066,
           20.40389393939394,
           -25.136106060606068,
           -29.576106060606065,
           -5.08610606060607,
           -45.70610606060606,
           -23.696106060606063,
           -16.956106060606068,
           -1.7161060606060659,
           -42.47610606060607,
           -33.83610606060606,
           -33.906106060606064,
           -59.67610606060607,
           -53.976106060606064,
           -44.08610606060607,
           -43.646106060606066,
           -28.516106060606063,
           -21.146106060606066,
           -34.606106060606066,
           -31.646106060606066,
           52.62389393939394,
           103.80389393939394,
           86.87389393939394,
           4.66389393939393,
           32.62389393939394,
           36.13389393939393,
           41.52389393939393,
           41.52389393939393,
           -9.696106060606063,
           5.483893939393937,
           -8.646106060606066,
           -6.346106060606068
          ],
          [
           -55.95610606060607,
           -57.02610606060607,
           -49.296106060606064,
           -54.076106060606065,
           -7.866106060606064,
           2.1038939393939273,
           2.8838939393939285,
           2.8838939393939285,
           -4.636106060606068,
           -7.396106060606066,
           -9.296106060606064,
           -22.386106060606068,
           -1.536106060606059,
           24.843893939393936,
           -4.966106060606066,
           -1.3561060606060664,
           5.483893939393937,
           -3.536106060606059,
           -29.886106060606068,
           16.29389393939394,
           12.94389393939393,
           -14.796106060606064,
           -8.766106060606063,
           -31.366106060606064,
           -11.326106060606065,
           -17.956106060606068,
           -14.376106060606062,
           -48.19610606060607,
           -5.576106060606065,
           -17.636106060606068,
           -14.106106060606066,
           5.55389393939393,
           39.12389393939394,
           111.35389393939393,
           72.28389393939393,
           39.08389393939393,
           13.57389393939394,
           49.41389393939393,
           4.043893939393939,
           4.043893939393939,
           1.733893939393937,
           12.343893939393936,
           10.93389393939394,
           41.48389393939394
          ],
          [
           -14.196106060606063,
           -16.996106060606067,
           21.63389393939393,
           -7.476106060606064,
           48.343893939393936,
           21.813893939393935,
           20.19389393939393,
           20.19389393939393,
           7.753893939393933,
           19.743893939393928,
           6.783893939393934,
           5.283893939393934,
           14.57389393939394,
           5.063893939393935,
           -8.406106060606064,
           24.593893939393936,
           -3.6761060606060596,
           36.46389393939394,
           18.483893939393937,
           17.243893939393928,
           6.043893939393939,
           -4.44610606060607,
           0.8438939393939364,
           -7.866106060606064,
           37.283893939393934,
           9.453893939393936,
           9.29389393939394,
           0.04389393939393926,
           36.25389393939393,
           13.133893939393928,
           21.83389393939393,
           -8.296106060606064,
           4.153893939393939,
           8.82389393939394,
           26.563893939393935,
           23.893893939393934,
           12.763893939393938,
           0.983893939393937,
           25.21389393939394,
           25.21389393939394,
           49.10389393939393,
           41.01389393939394,
           41.203893939393936,
           13.263893939393938
          ],
          [
           -13.316106060606067,
           -25.266106060606063,
           -14.256106060606065,
           -16.34610606060607,
           0.46389393939394097,
           3.1038939393939273,
           0.7638939393939381,
           0.7638939393939381,
           -6.236106060606069,
           -13.456106060606068,
           5.523893939393929,
           -25.396106060606066,
           -6.266106060606063,
           -16.106106060606066,
           -3.2061060606060607,
           8.43389393939394,
           0.27389393939392903,
           36.61389393939393,
           -2.6261060606060624,
           -30.616106060606064,
           -21.636106060606068,
           -28.30610606060607,
           3.1238939393939376,
           25.58389393939393,
           35.50389393939393,
           24.32389393939394,
           32.63389393939393,
           -11.456106060606068,
           3.5738939393939404,
           19.38389393939393,
           18.873893939393938,
           23.263893939393938,
           8.55389393939393,
           -34.23610606060607,
           -4.636106060606068,
           -27.876106060606062,
           -29.456106060606068,
           -4.396106060606073,
           3.223893939393932,
           3.223893939393932,
           -1.2961060606060641,
           -24.116106060606064,
           -3.716106060606066,
           -12.956106060606068
          ],
          [
           -4.406106060606064,
           -10.796106060606064,
           6.123893939393938,
           -15.036106060606066,
           26.77389393939393,
           27.94389393939393,
           12.18389393939394,
           12.18389393939394,
           -10.156106060606064,
           -9.856106060606066,
           27.363893939393932,
           -31.466106060606066,
           -37.906106060606064,
           17.30389393939393,
           -2.3261060606060653,
           56.51389393939394,
           30.603893939393927,
           -10.456106060606068,
           23.423893939393935,
           45.49389393939393,
           61.89389393939395,
           0.4138939393939296,
           -31.796106060606064,
           -10.146106060606066,
           17.68389393939394,
           -5.796106060606064,
           -9.436106060606065,
           -5.31610606060606,
           14.023893939393929,
           -11.846106060606068,
           36.813893939393935,
           68.91389393939393,
           94.84389393939394,
           34.16389393939393,
           74.37389393939394,
           5.583893939393931,
           45.91389393939393,
           49.423893939393935,
           91.62389393939394,
           91.62389393939394,
           8.643893939393934,
           33.88389393939393,
           74.14389393939395,
           46.25389393939393
          ],
          [
           -27.436106060606065,
           -41.406106060606064,
           -24.896106060606066,
           -27.55610606060607,
           42.37389393939394,
           34.63389393939393,
           28.423893939393935,
           28.423893939393935,
           49.703893939393936,
           26.223893939393932,
           68.66389393939393,
           11.113893939393932,
           38.96389393939394,
           22.033893939393934,
           44.68389393939394,
           54.58389393939393,
           63.823893939393926,
           43.98389393939394,
           49.30389393939393,
           -9.156106060606064,
           -12.016106060606063,
           -6.986106060606069,
           4.603893939393927,
           19.953893939393936,
           67.05389393939394,
           34.62389393939394,
           41.563893939393935,
           -37.856106060606066,
           15.103893939393927,
           57.79389393939394,
           92.36389393939395,
           117.85389393939393,
           86.81389393939394,
           6.173893939393935,
           54.97389393939393,
           25.57389393939394,
           49.30389393939393,
           36.18389393939394,
           34.533893939393934,
           34.533893939393934,
           56.83389393939393,
           26.743893939393928,
           64.21389393939394,
           9.373893939393938
          ],
          [
           0.3138939393939353,
           2.743893939393928,
           -14.136106060606068,
           -11.256106060606065,
           33.33389393939393,
           -12.276106060606068,
           -8.216106060606066,
           -8.216106060606066,
           -16.036106060606066,
           -6.386106060606068,
           -19.606106060606066,
           -25.16610606060607,
           -32.19610606060606,
           -1.0661060606060602,
           -5.476106060606071,
           0.1638939393939296,
           36.90389393939394,
           29.82389393939394,
           16.343893939393936,
           151.84389393939392,
           157.4838939393939,
           137.99389393939396,
           28.27389393939393,
           42.453893939393936,
           25.63389393939393,
           25.94389393939393,
           14.013893939393938,
           12.963893939393941,
           31.88389393939393,
           36.23389393939394,
           20.08389393939393,
           39.58389393939393,
           1.483893939393937,
           40.26389393939394,
           11.54389393939394,
           51.47389393939393,
           41.40389393939394,
           0.2438939393939279,
           27.263893939393938,
           27.263893939393938,
           15.05389393939393,
           4.32389393939394,
           22.723893939393932,
           5.593893939393936
          ],
          [
           -44.396106060606066,
           -48.66610606060607,
           -43.786106060606066,
           -49.58610606060607,
           25.90389393939394,
           -13.216106060606066,
           -1.496106060606067,
           -1.496106060606067,
           -3.8461060606060613,
           -7.616106060606064,
           -29.59610606060607,
           -13.566106060606067,
           -34.98610606060607,
           -33.656106060606064,
           -8.946106060606063,
           23.21389393939394,
           0.2438939393939279,
           16.66389393939393,
           18.393893939393934,
           5.743893939393928,
           8.18389393939394,
           128.06389393939395,
           77.08389393939395,
           123.49389393939394,
           -0.15610606060606358,
           61.303893939393944,
           5.853893939393927,
           -19.216106060606066,
           25.96389393939394,
           -4.606106060606066,
           19.353893939393927,
           -10.736106060606069,
           -30.656106060606064,
           -6.716106060606066,
           -19.05610606060607,
           -25.496106060606067,
           -22.206106060606068,
           19.123893939393938,
           -41.06610606060607,
           -41.06610606060607,
           -22.41610606060607,
           -32.38610606060607,
           -23.156106060606064,
           2.213893939393941
          ]
         ]
        }
       ],
       "layout": {
        "height": 800,
        "hovermode": "closest",
        "legend": {
         "x": 0.7,
         "y": 0.7
        },
        "paper_bgcolor": "rgba(0,0,0,0)",
        "plot_bgcolor": "rgba(0,0,0,0)",
        "showlegend": false,
        "template": {
         "data": {
          "bar": [
           {
            "error_x": {
             "color": "#2a3f5f"
            },
            "error_y": {
             "color": "#2a3f5f"
            },
            "marker": {
             "line": {
              "color": "#E5ECF6",
              "width": 0.5
             },
             "pattern": {
              "fillmode": "overlay",
              "size": 10,
              "solidity": 0.2
             }
            },
            "type": "bar"
           }
          ],
          "barpolar": [
           {
            "marker": {
             "line": {
              "color": "#E5ECF6",
              "width": 0.5
             },
             "pattern": {
              "fillmode": "overlay",
              "size": 10,
              "solidity": 0.2
             }
            },
            "type": "barpolar"
           }
          ],
          "carpet": [
           {
            "aaxis": {
             "endlinecolor": "#2a3f5f",
             "gridcolor": "white",
             "linecolor": "white",
             "minorgridcolor": "white",
             "startlinecolor": "#2a3f5f"
            },
            "baxis": {
             "endlinecolor": "#2a3f5f",
             "gridcolor": "white",
             "linecolor": "white",
             "minorgridcolor": "white",
             "startlinecolor": "#2a3f5f"
            },
            "type": "carpet"
           }
          ],
          "choropleth": [
           {
            "colorbar": {
             "outlinewidth": 0,
             "ticks": ""
            },
            "type": "choropleth"
           }
          ],
          "contour": [
           {
            "colorbar": {
             "outlinewidth": 0,
             "ticks": ""
            },
            "colorscale": [
             [
              0,
              "#0d0887"
             ],
             [
              0.1111111111111111,
              "#46039f"
             ],
             [
              0.2222222222222222,
              "#7201a8"
             ],
             [
              0.3333333333333333,
              "#9c179e"
             ],
             [
              0.4444444444444444,
              "#bd3786"
             ],
             [
              0.5555555555555556,
              "#d8576b"
             ],
             [
              0.6666666666666666,
              "#ed7953"
             ],
             [
              0.7777777777777778,
              "#fb9f3a"
             ],
             [
              0.8888888888888888,
              "#fdca26"
             ],
             [
              1,
              "#f0f921"
             ]
            ],
            "type": "contour"
           }
          ],
          "contourcarpet": [
           {
            "colorbar": {
             "outlinewidth": 0,
             "ticks": ""
            },
            "type": "contourcarpet"
           }
          ],
          "heatmap": [
           {
            "colorbar": {
             "outlinewidth": 0,
             "ticks": ""
            },
            "colorscale": [
             [
              0,
              "#0d0887"
             ],
             [
              0.1111111111111111,
              "#46039f"
             ],
             [
              0.2222222222222222,
              "#7201a8"
             ],
             [
              0.3333333333333333,
              "#9c179e"
             ],
             [
              0.4444444444444444,
              "#bd3786"
             ],
             [
              0.5555555555555556,
              "#d8576b"
             ],
             [
              0.6666666666666666,
              "#ed7953"
             ],
             [
              0.7777777777777778,
              "#fb9f3a"
             ],
             [
              0.8888888888888888,
              "#fdca26"
             ],
             [
              1,
              "#f0f921"
             ]
            ],
            "type": "heatmap"
           }
          ],
          "heatmapgl": [
           {
            "colorbar": {
             "outlinewidth": 0,
             "ticks": ""
            },
            "colorscale": [
             [
              0,
              "#0d0887"
             ],
             [
              0.1111111111111111,
              "#46039f"
             ],
             [
              0.2222222222222222,
              "#7201a8"
             ],
             [
              0.3333333333333333,
              "#9c179e"
             ],
             [
              0.4444444444444444,
              "#bd3786"
             ],
             [
              0.5555555555555556,
              "#d8576b"
             ],
             [
              0.6666666666666666,
              "#ed7953"
             ],
             [
              0.7777777777777778,
              "#fb9f3a"
             ],
             [
              0.8888888888888888,
              "#fdca26"
             ],
             [
              1,
              "#f0f921"
             ]
            ],
            "type": "heatmapgl"
           }
          ],
          "histogram": [
           {
            "marker": {
             "pattern": {
              "fillmode": "overlay",
              "size": 10,
              "solidity": 0.2
             }
            },
            "type": "histogram"
           }
          ],
          "histogram2d": [
           {
            "colorbar": {
             "outlinewidth": 0,
             "ticks": ""
            },
            "colorscale": [
             [
              0,
              "#0d0887"
             ],
             [
              0.1111111111111111,
              "#46039f"
             ],
             [
              0.2222222222222222,
              "#7201a8"
             ],
             [
              0.3333333333333333,
              "#9c179e"
             ],
             [
              0.4444444444444444,
              "#bd3786"
             ],
             [
              0.5555555555555556,
              "#d8576b"
             ],
             [
              0.6666666666666666,
              "#ed7953"
             ],
             [
              0.7777777777777778,
              "#fb9f3a"
             ],
             [
              0.8888888888888888,
              "#fdca26"
             ],
             [
              1,
              "#f0f921"
             ]
            ],
            "type": "histogram2d"
           }
          ],
          "histogram2dcontour": [
           {
            "colorbar": {
             "outlinewidth": 0,
             "ticks": ""
            },
            "colorscale": [
             [
              0,
              "#0d0887"
             ],
             [
              0.1111111111111111,
              "#46039f"
             ],
             [
              0.2222222222222222,
              "#7201a8"
             ],
             [
              0.3333333333333333,
              "#9c179e"
             ],
             [
              0.4444444444444444,
              "#bd3786"
             ],
             [
              0.5555555555555556,
              "#d8576b"
             ],
             [
              0.6666666666666666,
              "#ed7953"
             ],
             [
              0.7777777777777778,
              "#fb9f3a"
             ],
             [
              0.8888888888888888,
              "#fdca26"
             ],
             [
              1,
              "#f0f921"
             ]
            ],
            "type": "histogram2dcontour"
           }
          ],
          "mesh3d": [
           {
            "colorbar": {
             "outlinewidth": 0,
             "ticks": ""
            },
            "type": "mesh3d"
           }
          ],
          "parcoords": [
           {
            "line": {
             "colorbar": {
              "outlinewidth": 0,
              "ticks": ""
             }
            },
            "type": "parcoords"
           }
          ],
          "pie": [
           {
            "automargin": true,
            "type": "pie"
           }
          ],
          "scatter": [
           {
            "fillpattern": {
             "fillmode": "overlay",
             "size": 10,
             "solidity": 0.2
            },
            "type": "scatter"
           }
          ],
          "scatter3d": [
           {
            "line": {
             "colorbar": {
              "outlinewidth": 0,
              "ticks": ""
             }
            },
            "marker": {
             "colorbar": {
              "outlinewidth": 0,
              "ticks": ""
             }
            },
            "type": "scatter3d"
           }
          ],
          "scattercarpet": [
           {
            "marker": {
             "colorbar": {
              "outlinewidth": 0,
              "ticks": ""
             }
            },
            "type": "scattercarpet"
           }
          ],
          "scattergeo": [
           {
            "marker": {
             "colorbar": {
              "outlinewidth": 0,
              "ticks": ""
             }
            },
            "type": "scattergeo"
           }
          ],
          "scattergl": [
           {
            "marker": {
             "colorbar": {
              "outlinewidth": 0,
              "ticks": ""
             }
            },
            "type": "scattergl"
           }
          ],
          "scattermapbox": [
           {
            "marker": {
             "colorbar": {
              "outlinewidth": 0,
              "ticks": ""
             }
            },
            "type": "scattermapbox"
           }
          ],
          "scatterpolar": [
           {
            "marker": {
             "colorbar": {
              "outlinewidth": 0,
              "ticks": ""
             }
            },
            "type": "scatterpolar"
           }
          ],
          "scatterpolargl": [
           {
            "marker": {
             "colorbar": {
              "outlinewidth": 0,
              "ticks": ""
             }
            },
            "type": "scatterpolargl"
           }
          ],
          "scatterternary": [
           {
            "marker": {
             "colorbar": {
              "outlinewidth": 0,
              "ticks": ""
             }
            },
            "type": "scatterternary"
           }
          ],
          "surface": [
           {
            "colorbar": {
             "outlinewidth": 0,
             "ticks": ""
            },
            "colorscale": [
             [
              0,
              "#0d0887"
             ],
             [
              0.1111111111111111,
              "#46039f"
             ],
             [
              0.2222222222222222,
              "#7201a8"
             ],
             [
              0.3333333333333333,
              "#9c179e"
             ],
             [
              0.4444444444444444,
              "#bd3786"
             ],
             [
              0.5555555555555556,
              "#d8576b"
             ],
             [
              0.6666666666666666,
              "#ed7953"
             ],
             [
              0.7777777777777778,
              "#fb9f3a"
             ],
             [
              0.8888888888888888,
              "#fdca26"
             ],
             [
              1,
              "#f0f921"
             ]
            ],
            "type": "surface"
           }
          ],
          "table": [
           {
            "cells": {
             "fill": {
              "color": "#EBF0F8"
             },
             "line": {
              "color": "white"
             }
            },
            "header": {
             "fill": {
              "color": "#C8D4E3"
             },
             "line": {
              "color": "white"
             }
            },
            "type": "table"
           }
          ]
         },
         "layout": {
          "annotationdefaults": {
           "arrowcolor": "#2a3f5f",
           "arrowhead": 0,
           "arrowwidth": 1
          },
          "autotypenumbers": "strict",
          "coloraxis": {
           "colorbar": {
            "outlinewidth": 0,
            "ticks": ""
           }
          },
          "colorscale": {
           "diverging": [
            [
             0,
             "#8e0152"
            ],
            [
             0.1,
             "#c51b7d"
            ],
            [
             0.2,
             "#de77ae"
            ],
            [
             0.3,
             "#f1b6da"
            ],
            [
             0.4,
             "#fde0ef"
            ],
            [
             0.5,
             "#f7f7f7"
            ],
            [
             0.6,
             "#e6f5d0"
            ],
            [
             0.7,
             "#b8e186"
            ],
            [
             0.8,
             "#7fbc41"
            ],
            [
             0.9,
             "#4d9221"
            ],
            [
             1,
             "#276419"
            ]
           ],
           "sequential": [
            [
             0,
             "#0d0887"
            ],
            [
             0.1111111111111111,
             "#46039f"
            ],
            [
             0.2222222222222222,
             "#7201a8"
            ],
            [
             0.3333333333333333,
             "#9c179e"
            ],
            [
             0.4444444444444444,
             "#bd3786"
            ],
            [
             0.5555555555555556,
             "#d8576b"
            ],
            [
             0.6666666666666666,
             "#ed7953"
            ],
            [
             0.7777777777777778,
             "#fb9f3a"
            ],
            [
             0.8888888888888888,
             "#fdca26"
            ],
            [
             1,
             "#f0f921"
            ]
           ],
           "sequentialminus": [
            [
             0,
             "#0d0887"
            ],
            [
             0.1111111111111111,
             "#46039f"
            ],
            [
             0.2222222222222222,
             "#7201a8"
            ],
            [
             0.3333333333333333,
             "#9c179e"
            ],
            [
             0.4444444444444444,
             "#bd3786"
            ],
            [
             0.5555555555555556,
             "#d8576b"
            ],
            [
             0.6666666666666666,
             "#ed7953"
            ],
            [
             0.7777777777777778,
             "#fb9f3a"
            ],
            [
             0.8888888888888888,
             "#fdca26"
            ],
            [
             1,
             "#f0f921"
            ]
           ]
          },
          "colorway": [
           "#636efa",
           "#EF553B",
           "#00cc96",
           "#ab63fa",
           "#FFA15A",
           "#19d3f3",
           "#FF6692",
           "#B6E880",
           "#FF97FF",
           "#FECB52"
          ],
          "font": {
           "color": "#2a3f5f"
          },
          "geo": {
           "bgcolor": "white",
           "lakecolor": "white",
           "landcolor": "#E5ECF6",
           "showlakes": true,
           "showland": true,
           "subunitcolor": "white"
          },
          "hoverlabel": {
           "align": "left"
          },
          "hovermode": "closest",
          "mapbox": {
           "style": "light"
          },
          "paper_bgcolor": "white",
          "plot_bgcolor": "#E5ECF6",
          "polar": {
           "angularaxis": {
            "gridcolor": "white",
            "linecolor": "white",
            "ticks": ""
           },
           "bgcolor": "#E5ECF6",
           "radialaxis": {
            "gridcolor": "white",
            "linecolor": "white",
            "ticks": ""
           }
          },
          "scene": {
           "xaxis": {
            "backgroundcolor": "#E5ECF6",
            "gridcolor": "white",
            "gridwidth": 2,
            "linecolor": "white",
            "showbackground": true,
            "ticks": "",
            "zerolinecolor": "white"
           },
           "yaxis": {
            "backgroundcolor": "#E5ECF6",
            "gridcolor": "white",
            "gridwidth": 2,
            "linecolor": "white",
            "showbackground": true,
            "ticks": "",
            "zerolinecolor": "white"
           },
           "zaxis": {
            "backgroundcolor": "#E5ECF6",
            "gridcolor": "white",
            "gridwidth": 2,
            "linecolor": "white",
            "showbackground": true,
            "ticks": "",
            "zerolinecolor": "white"
           }
          },
          "shapedefaults": {
           "line": {
            "color": "#2a3f5f"
           }
          },
          "ternary": {
           "aaxis": {
            "gridcolor": "white",
            "linecolor": "white",
            "ticks": ""
           },
           "baxis": {
            "gridcolor": "white",
            "linecolor": "white",
            "ticks": ""
           },
           "bgcolor": "#E5ECF6",
           "caxis": {
            "gridcolor": "white",
            "linecolor": "white",
            "ticks": ""
           }
          },
          "title": {
           "x": 0.05
          },
          "xaxis": {
           "automargin": true,
           "gridcolor": "white",
           "linecolor": "white",
           "ticks": "",
           "title": {
            "standoff": 15
           },
           "zerolinecolor": "white",
           "zerolinewidth": 2
          },
          "yaxis": {
           "automargin": true,
           "gridcolor": "white",
           "linecolor": "white",
           "ticks": "",
           "title": {
            "standoff": 15
           },
           "zerolinecolor": "white",
           "zerolinewidth": 2
          }
         }
        },
        "width": 700,
        "xaxis": {
         "anchor": "y",
         "domain": [
          0,
          0.95
         ],
         "fixedrange": false,
         "mirror": false,
         "showgrid": false,
         "showline": false,
         "showticklabels": false,
         "type": "linear",
         "zeroline": false
        },
        "xaxis10": {
         "anchor": "y10",
         "domain": [
          0.15833333333333333,
          0.15833333333333333
         ],
         "fixedrange": false,
         "mirror": false,
         "showgrid": false,
         "showline": false,
         "showticklabels": false,
         "type": "linear",
         "zeroline": false
        },
        "xaxis11": {
         "anchor": "y11",
         "domain": [
          0.15833333333333333,
          0.95
         ],
         "fixedrange": false,
         "mirror": false,
         "range": [
          0,
          440
         ],
         "showgrid": false,
         "showline": false,
         "showticklabels": true,
         "side": "bottom",
         "tickmode": "array",
         "ticktext": [
          "mt004002",
          "mt004003",
          "mt003003",
          "mt004001",
          "mt011005",
          "mt011006",
          "mt007001",
          "mt014001",
          "mt004005",
          "mt003001",
          "mt003002",
          "mt010004",
          "mt011004",
          "mt007003",
          "mt001004",
          "mt010003",
          "mt014004",
          "Gene id",
          "mt009002",
          "mt007004",
          "mt009001",
          "mt014006",
          "mt001003",
          "mt002002",
          "mt002001",
          "mt001001",
          "mt001005",
          "mt004004",
          "mt001002",
          "mt002003",
          "mt010001",
          "mt010002",
          "mt002004",
          "mt012007",
          "mt014005",
          "mt006001",
          "mt005002",
          "mt012001",
          "mt006006",
          "mt012011",
          "mt014002",
          "mt014003",
          "mt007002",
          "mt012009"
         ],
         "tickvals": [
          5,
          15,
          25,
          35,
          45,
          55,
          65,
          75,
          85,
          95,
          105,
          115,
          125,
          135,
          145,
          155,
          165,
          175,
          185,
          195,
          205,
          215,
          225,
          235,
          245,
          255,
          265,
          275,
          285,
          295,
          305,
          315,
          325,
          335,
          345,
          355,
          365,
          375,
          385,
          395,
          405,
          415,
          425,
          435
         ],
         "type": "linear",
         "zeroline": false
        },
        "xaxis12": {
         "anchor": "y12",
         "domain": [
          0.95,
          1
         ],
         "fixedrange": false,
         "mirror": false,
         "range": [
          -5,
          1
         ],
         "showgrid": false,
         "showline": false,
         "showticklabels": false,
         "type": "linear",
         "zeroline": false
        },
        "xaxis13": {
         "anchor": "y13",
         "domain": [
          0,
          0.2
         ]
        },
        "xaxis14": {
         "anchor": "y14",
         "domain": [
          0.2,
          0.4
         ]
        },
        "xaxis15": {
         "anchor": "y15",
         "domain": [
          0.15833333333333333,
          0.95
         ],
         "fixedrange": false,
         "mirror": false,
         "range": [
          5,
          435
         ],
         "scaleanchor": "x11",
         "scaleratio": 1,
         "showgrid": false,
         "showline": false,
         "showticklabels": false,
         "type": "linear",
         "zeroline": false
        },
        "xaxis16": {
         "anchor": "y16",
         "domain": [
          0.8,
          1
         ]
        },
        "xaxis2": {
         "anchor": "y2",
         "domain": [
          0.2,
          0.4
         ]
        },
        "xaxis3": {
         "anchor": "y9",
         "domain": [
          0.15833333333333333,
          0.95
         ],
         "fixedrange": false,
         "mirror": false,
         "scaleanchor": "x11",
         "showgrid": false,
         "showline": false,
         "showticklabels": false,
         "type": "linear",
         "zeroline": false
        },
        "xaxis4": {
         "anchor": "y4",
         "domain": [
          0.8,
          1
         ]
        },
        "xaxis5": {
         "anchor": "y5",
         "domain": [
          0,
          0.95
         ],
         "fixedrange": false,
         "mirror": false,
         "showgrid": false,
         "showline": false,
         "showticklabels": false,
         "type": "linear",
         "zeroline": false
        },
        "xaxis6": {
         "anchor": "y6",
         "domain": [
          0.2,
          0.4
         ],
         "fixedrange": false,
         "mirror": false,
         "showgrid": false,
         "showline": false,
         "showticklabels": false,
         "type": "linear",
         "zeroline": false
        },
        "xaxis7": {
         "anchor": "y9",
         "domain": [
          0.15833333333333333,
          0.95
         ],
         "fixedrange": false,
         "mirror": false,
         "showgrid": false,
         "showline": false,
         "showticklabels": false,
         "type": "linear",
         "zeroline": false
        },
        "xaxis8": {
         "anchor": "y8",
         "domain": [
          0.8,
          1
         ]
        },
        "xaxis9": {
         "anchor": "y9",
         "domain": [
          0,
          0.15833333333333333
         ],
         "fixedrange": false,
         "mirror": false,
         "showgrid": false,
         "showline": false,
         "showticklabels": false,
         "type": "linear",
         "zeroline": false
        },
        "yaxis": {
         "anchor": "x",
         "domain": [
          0.8416666666666667,
          1
         ],
         "fixedrange": false,
         "mirror": false,
         "showgrid": false,
         "showline": false,
         "showticklabels": false,
         "type": "linear",
         "zeroline": false
        },
        "yaxis10": {
         "anchor": "x10",
         "domain": [
          0,
          0.8416666666666667
         ],
         "fixedrange": false,
         "mirror": false,
         "showgrid": false,
         "showline": false,
         "showticklabels": false,
         "type": "linear",
         "zeroline": false
        },
        "yaxis11": {
         "anchor": "x11",
         "domain": [
          0,
          0.8416666666666667
         ],
         "fixedrange": false,
         "mirror": false,
         "showgrid": false,
         "showline": false,
         "showticklabels": true,
         "side": "right",
         "tickmode": "array",
         "ticktext": [
          13,
          14,
          25,
          10,
          4,
          7,
          6,
          22,
          26,
          0,
          1,
          8,
          24,
          11,
          21,
          2,
          9,
          17,
          23,
          18,
          19,
          28,
          5,
          15,
          16,
          27,
          20,
          29,
          3,
          12
         ],
         "tickvals": [
          5,
          15,
          25,
          35,
          45,
          55,
          65,
          75,
          85,
          95,
          105,
          115,
          125,
          135,
          145,
          155,
          165,
          175,
          185,
          195,
          205,
          215,
          225,
          235,
          245,
          255,
          265,
          275,
          285,
          295
         ],
         "type": "linear",
         "zeroline": false
        },
        "yaxis12": {
         "anchor": "x12",
         "domain": [
          0,
          0.7916666666666666
         ],
         "fixedrange": false,
         "mirror": false,
         "range": [
          5,
          295
         ],
         "scaleanchor": "y11",
         "scaleratio": 1,
         "showgrid": false,
         "showline": false,
         "showticklabels": false,
         "type": "linear",
         "zeroline": false
        },
        "yaxis13": {
         "anchor": "x13",
         "domain": [
          0,
          0.2
         ]
        },
        "yaxis14": {
         "anchor": "x14",
         "domain": [
          0,
          0.2
         ]
        },
        "yaxis15": {
         "anchor": "x15",
         "domain": [
          0.7916666666666666,
          0.8416666666666667
         ],
         "fixedrange": false,
         "mirror": false,
         "range": [
          -0.5,
          0.5
         ],
         "showgrid": false,
         "showline": false,
         "showticklabels": false,
         "type": "linear",
         "zeroline": false
        },
        "yaxis16": {
         "anchor": "x16",
         "domain": [
          0,
          0.2
         ]
        },
        "yaxis2": {
         "anchor": "x2",
         "domain": [
          0.8,
          1
         ]
        },
        "yaxis3": {
         "anchor": "x3",
         "domain": [
          0.8416666666666667,
          1
         ],
         "fixedrange": false,
         "mirror": false,
         "range": [
          0,
          635.7199923708549
         ],
         "showgrid": false,
         "showline": false,
         "showticklabels": false,
         "type": "linear",
         "zeroline": false
        },
        "yaxis4": {
         "anchor": "x4",
         "domain": [
          0.8,
          1
         ]
        },
        "yaxis5": {
         "anchor": "x5",
         "domain": [
          0.8416666666666667,
          0.8416666666666667
         ],
         "fixedrange": false,
         "mirror": false,
         "showgrid": false,
         "showline": false,
         "showticklabels": false,
         "type": "linear",
         "zeroline": false
        },
        "yaxis6": {
         "anchor": "x6",
         "domain": [
          0.8416666666666667,
          0.8416666666666667
         ],
         "fixedrange": false,
         "mirror": false,
         "showgrid": false,
         "showline": false,
         "showticklabels": false,
         "type": "linear",
         "zeroline": false
        },
        "yaxis7": {
         "anchor": "x7",
         "domain": [
          0.8416666666666667,
          0.8416666666666667
         ],
         "fixedrange": false,
         "mirror": false,
         "showgrid": false,
         "showline": false,
         "showticklabels": false,
         "type": "linear",
         "zeroline": false
        },
        "yaxis8": {
         "anchor": "x8",
         "domain": [
          0.6000000000000001,
          0.8
         ]
        },
        "yaxis9": {
         "anchor": "x9",
         "domain": [
          0,
          0.8416666666666667
         ],
         "fixedrange": false,
         "mirror": false,
         "range": [
          5,
          295
         ],
         "scaleanchor": "y11",
         "showgrid": false,
         "showline": false,
         "showticklabels": false,
         "type": "linear",
         "zeroline": false
        }
       }
      }
     },
     "metadata": {},
     "output_type": "display_data"
    }
   ],
   "source": [
    "import pandas as pd\n",
    "import dash_bio\n",
    "\n",
    "dash_bio.Clustergram(\n",
    "    data=df,\n",
    "    column_labels=list(df.columns.values),\n",
    "    row_labels=list(df.index),\n",
    "    # hidden_labels='row',\n",
    "    height=800,\n",
    "    width=700,\n",
    "    color_map='Rdbu',\n",
    ")"
   ]
  },
  {
   "cell_type": "markdown",
   "metadata": {},
   "source": [
    "### 尝试"
   ]
  },
  {
   "cell_type": "markdown",
   "metadata": {},
   "source": [
    "### 方式1\n",
    "- 显示方式不好，不如go方法"
   ]
  },
  {
   "cell_type": "code",
   "execution_count": 14,
   "metadata": {},
   "outputs": [
    {
     "data": {
      "application/vnd.plotly.v1+json": {
       "config": {
        "plotlyServerURL": "https://plot.ly"
       },
       "data": [
        {
         "coloraxis": "coloraxis",
         "hovertemplate": "Gene: %{x}<br>Sample: %{y}<br>RPKM: %{z:.1f}",
         "name": "0",
         "type": "heatmap",
         "x": [
          "mt001001",
          "mt001002",
          "mt001003",
          "mt001004",
          "mt001005",
          "mt002001",
          "mt002002",
          "mt002003",
          "mt002004",
          "mt003001",
          "mt003002",
          "mt003003",
          "mt004001",
          "mt004002",
          "mt004003",
          "mt004004",
          "mt004005",
          "mt005002",
          "mt006001",
          "mt006006",
          "mt007001",
          "mt007002",
          "mt007003",
          "mt007004",
          "mt009001",
          "mt009002",
          "mt010001",
          "mt010002",
          "mt010003",
          "mt010004",
          "mt011004",
          "mt011005",
          "mt011006",
          "mt012001",
          "mt012007",
          "mt012009",
          "mt012011",
          "mt014001",
          "mt014002",
          "mt014003",
          "mt014004",
          "mt014005",
          "mt014006",
          "mt014012"
         ],
         "xaxis": "x",
         "y": [
          "MYCTH_2294730",
          "MYCTH_2294864",
          "MYCTH_113886",
          "MYCTH_2295173",
          "MYCTH_2295254",
          "MYCTH_2295800",
          "MYCTH_2296007",
          "MYCTH_2296191",
          "MYCTH_2296558",
          "MYCTH_2297020",
          "MYCTH_2297068",
          "MYCTH_2297482",
          "MYCTH_2297709",
          "MYCTH_2297779",
          "MYCTH_2073265",
          "MYCTH_2298243",
          "MYCTH_2073591",
          "MYCTH_2299099",
          "MYCTH_2116523",
          "MYCTH_2300159",
          "MYCTH_2300282",
          "MYCTH_2300427",
          "MYCTH_100654",
          "MYCTH_2080075",
          "MYCTH_101588",
          "MYCTH_2127482",
          "MYCTH_2046198",
          "MYCTH_2095122",
          "MYCTH_2067869",
          "MYCTH_2145069"
         ],
         "yaxis": "y",
         "z": [
          [
           -1.919477346364264,
           -1.8186438285257165,
           -1.8578532443905398,
           -1.8906849387549935,
           -1.8008040138365171,
           -1.8144646168639391,
           -1.7203918477648914,
           -1.8665282665383933,
           -1.8276727055544495,
           -1.4934921003118635,
           -1.669485332498173,
           -1.3980659954142158,
           -1.6177048009994646,
           -1.7306450970235487,
           -1.6238224493054447,
           -1.7450008847991505,
           -1.8112032355915066,
           -1.6759911450996177,
           -1.751738063006218,
           -1.8192673874455383,
           -1.733713989099403,
           -1.5421218532751846,
           -1.6251887205961135,
           -1.5789703792764236,
           -1.7103436742202525,
           -1.759015105212608,
           -1.7595222295952224,
           -1.6398449491401963,
           -1.7127105089848527,
           -1.6628385170743596,
           -1.788741190115086,
           -1.6821211243117937,
           -1.6906236741620704,
           -1.4302479651713043,
           -1.781730209220017,
           -1.8609438725966208,
           -1.6807265016364725,
           -1.733713989099403,
           -1.5421218532751846,
           -1.7116374871266735,
           -1.619134547566693,
           -1.4818300838611513,
           -1.6461610117874672,
           -1.8551605324980422
          ],
          [
           -1.9153343602273332,
           -1.884523081266764,
           -1.9294117647058824,
           -1.8749173258551814,
           -1.8552775094269065,
           -1.8458755923899357,
           -1.8244341853394888,
           -1.8487050305071013,
           -1.905952617957396,
           -1.6978272635892677,
           -1.797473640254724,
           -1.70112650782574,
           -1.8358022487952883,
           -1.8699446148942105,
           -1.7983926765660758,
           -1.8333038400283135,
           -1.9165217391304348,
           -1.8472529684041055,
           -1.8674712617304912,
           -1.9043085363885752,
           -1.8508027140261762,
           -1.7443758366077982,
           -1.8788292017727561,
           -1.8698582723066273,
           -1.902332970984196,
           -1.9219418492971274,
           -1.911170095111701,
           -1.8313171518509848,
           -1.7888794806661021,
           -1.8988637402138484,
           -1.8483361584441074,
           -1.7699217618081715,
           -1.8268985999151464,
           -1.7696384629945108,
           -1.8786792706419964,
           -1.9142640230230055,
           -1.8346010233715946,
           -1.8508027140261762,
           -1.7443758366077982,
           -1.8532769463374017,
           -1.8137991121437165,
           -1.8348253777290258,
           -1.8595535810254022,
           -1.8485199686765856
          ],
          [
           -1.673660168906358,
           -1.5191755682085548,
           -1.4201738427329693,
           -1.1371200296304136,
           -1.1334102028732589,
           -1.4584125094438973,
           -1.6870622677626392,
           -1.412744626446239,
           -1.4451921162651802,
           -1.1876079280393825,
           0.6150955214531786,
           0.49167580500448604,
           -0.1102980546136001,
           -0.4858748057536757,
           -0.4337644366384583,
           -0.7729605379578837,
           -1.33896865520728,
           -0.29019923525860314,
           -1.0419200146846248,
           -1.110053251573342,
           -1.4278298913647993,
           0.3313614577486077,
           -0.8439098037305801,
           -0.12700841622035242,
           -0.6560749226523954,
           -0.9653365930323932,
           -1.1924795399247956,
           -1.2175654933791202,
           -1.6324771850597422,
           -0.43860237000030455,
           -0.2899455794450887,
           -0.24079976818313553,
           -0.12558336868901132,
           0.7908385387090666,
           -1.074235025312486,
           -1.4068398100248944,
           -0.8181441017839857,
           -1.4278298913647993,
           0.3313614577486077,
           -0.6605605101124088,
           -0.9822013857196199,
           -0.4263826474647041,
           -0.98993228476228,
           -0.8410336726703211
          ],
          [
           -1.495617995432092,
           -1.1417815632205541,
           -1.2391348291894078,
           -1.0353183946665256,
           -1.2907226775530558,
           -1.2902767920510998,
           -1.166490260105844,
           -0.9204789994683409,
           -1.2105912801114873,
           -1.2689502306760483,
           -0.8007098862094164,
           -1.0900209351011863,
           -1.1122612885953955,
           -1.1348766784874686,
           -0.6059928681675446,
           -0.7910104406299774,
           -1.3771486349848332,
           -1.054940631917891,
           -1.0566964183282472,
           -1.0918993061158626,
           -1.3326165140335915,
           -0.9747398419620881,
           -1.1418691861880874,
           -1.033482712136117,
           0.41759344426791545,
           -0.06618353269885602,
           -1.272992700729927,
           -1.1094461354353653,
           -1.1949571925863203,
           -1.190544368964572,
           -1.253635471496119,
           -1.493045494059693,
           -0.3193890538820534,
           -0.9998107136096916,
           -1.3948299807356301,
           -1.2681367962004977,
           -1.3695662195178169,
           -1.3326165140335915,
           -0.9747398419620881,
           -1.2887350176391963,
           -1.40405758619259,
           -0.5355082976540109,
           -1.4432302676364157,
           0.5588723570869227
          ],
          [
           -1.9835342858660434,
           -1.9776951672862453,
           -1.9393571861734384,
           -1.9271938411069076,
           -1.8992801271463742,
           -1.9654754000778407,
           -1.9891904064857562,
           -1.9693156788779462,
           -1.9608202269560024,
           -1.9945359416479806,
           -1.969725441069005,
           -1.9511514305652478,
           -1.8743530251650902,
           -1.9018209347730806,
           -1.907179732822396,
           -1.9247920721996108,
           -1.923963599595551,
           -1.9935600724491849,
           -1.917398985843104,
           -1.9100371147329354,
           -2,
           -1.8713243231573038,
           -1.9406808552086885,
           -1.9462236309979233,
           -1.8791426261950552,
           -1.8964463459355627,
           -1.984516699845167,
           -1.9703426207757746,
           -1.9577758961332203,
           -1.937977884058854,
           -1.9958961548755465,
           -1.9829035062300782,
           -1.9630038184132372,
           -1.8943781942078364,
           -1.9436405178979437,
           -1.9917371422518053,
           -2,
           -2,
           -1.8713243231573038,
           -1.9573153362403313,
           -1.9689665186906193,
           -1.9065850465305545,
           -1.9425316183583534,
           -1.9964917776037587
          ],
          [
           -1.896797153024911,
           -1.8939344030869136,
           -1.7275116232059835,
           -1.6925844599063467,
           -1.5357910810558137,
           -1.822340255042469,
           -1.9349622790226326,
           -1.6937643990987112,
           -1.6675293649213616,
           -0.7417201474264798,
           -1.1427080070988622,
           -1.1472435450104674,
           -1.6516152061395681,
           -1.6836275252022155,
           -1.630209164936931,
           -1.7311980180499027,
           -1.8350657229524772,
           -1.265647011471121,
           -1.1372782965835304,
           -1.469582055833468,
           -1.2268733083682475,
           -1.0946068483095124,
           -1.4474260945794575,
           -0.7205887710860932,
           -1.4643922290046547,
           -1.4562123461101892,
           -1.6272506082725062,
           -1.6785556336012903,
           -1.7310753598645214,
           -1.5529289913790478,
           -1.47060397894549,
           -1.2786148942335556,
           -1.6106915570640645,
           -0.9752034828695817,
           -1.0732494063886027,
           -0.8194000600293083,
           -1.4796478126584613,
           -1.2268733083682475,
           -1.0946068483095124,
           -1.505664263645726,
           -1.3944322283533168,
           -1.1298255546512863,
           -0.9034430869549639,
           -1.7023022709475333
          ],
          [
           -1.9198491528124502,
           -1.8958166674509436,
           -1.9117040630685262,
           -1.8538585676869759,
           -1.907008632241578,
           -1.839923075161977,
           -1.9421686746987952,
           -1.844856831818527,
           -1.98048974716305,
           -1.8197891698239645,
           -1.9290113790583567,
           -1.868208553484199,
           -1.8256291272532572,
           -1.8882734988245606,
           -1.8192559476289318,
           -1.8602017342063353,
           -1.948715874620829,
           -1.9140672167438115,
           -1.9470435720349677,
           -1.9475552686783928,
           -1.9827963368061992,
           -1.8633792478086273,
           -1.969317683728632,
           -1.9153277225197654,
           -1.860411963096134,
           -1.8933030646992055,
           -1.9315195753151957,
           -1.9696141939176357,
           -1.9653777401448866,
           -1.881195357480123,
           -1.8938353109108752,
           -1.8268617791944364,
           -1.8837505303351718,
           -1.9110353965549878,
           -1.8878186461180055,
           -1.9527534031321174,
           -1.9097404692758033,
           -1.9827963368061992,
           -1.8633792478086273,
           -1.9438175164888138,
           -1.929801269551508,
           -1.8768621067902764,
           -1.9105012360717997,
           -1.821832419733751
          ],
          [
           -2,
           -2,
           -2,
           -2,
           -2,
           -2,
           -1.9870284877829074,
           -2,
           -2,
           -1.950411093069409,
           -1.9933187180290217,
           -1.92523178147742,
           -1.9330715688024274,
           -1.9402319002271189,
           -1.964021501942626,
           -1.977349141744824,
           -1.9817997977755308,
           -2,
           -2,
           -1.9858802646441827,
           -2,
           -1.9222764368064251,
           -1.9714605756586958,
           -1.9450577476591249,
           -1.9752487666192826,
           -1.9867283681131582,
           -1.9880557398805574,
           -1.9920913655402066,
           -1.9730548499388465,
           -1.9560118195387943,
           -2,
           -1.9410315850478121,
           -1.9786168858718711,
           -1.9197425705091804,
           -1.970700237444559,
           -1.9955507689048182,
           -1.992439957590006,
           -2,
           -1.9222764368064251,
           -1.958893003484015,
           -1.9553582541592334,
           -1.9498956158663883,
           -1.9737737809465803,
           -2
          ],
          [
           -1.9172996228820312,
           -1.8643828525716437,
           -1.8735395189003436,
           -1.9128019259768776,
           -1.89067904889526,
           -1.8372673367064265,
           -1.8169575498254702,
           -1.8989341502316515,
           -1.9347800119450527,
           -1.7999948452279697,
           -1.9041653617287817,
           -1.8107865616588574,
           -1.8425843298233089,
           -1.8932143284057856,
           -1.8997285645856619,
           -1.904795611396213,
           -1.927360970677452,
           -1.870396458039847,
           -1.9071197485258014,
           -1.8901081168307245,
           -1.9526899262170478,
           -1.8298717561207307,
           -1.871036867481615,
           -1.9092068349910738,
           -1.8427962204197674,
           -1.8845717279315464,
           -1.9014377350143774,
           -1.8814745440828324,
           -1.864897920782764,
           -1.8596277454534378,
           -1.959318404853243,
           -1.883367139959432,
           -1.8730589732711074,
           -1.834942267650956,
           -1.8974956319161327,
           -1.930295379508819,
           -1.8783017563269258,
           -1.9526899262170478,
           -1.8298717561207307,
           -1.9044634835769223,
           -1.9179355266979214,
           -1.8218038993666184,
           -1.8840600480097454,
           -1.9368519968676585
          ],
          [
           -1.5460774419716363,
           -0.9430144463789938,
           -0.9850818677986657,
           -0.9119288870075928,
           -0.6106142291751071,
           -1.175896884086174,
           -0.9257966445220134,
           -1.2278285526215853,
           -1.3137169022496515,
           -0.44057836542178874,
           0.5211399937362979,
           0.3650682883062508,
           0.726396573264322,
           0.08662389927082881,
           0.28325083825642716,
           -0.10794549637232365,
           -1.0663700707785644,
           -0.48339706178305497,
           -1.0029139802216462,
           -0.6525738260448604,
           -1.1562789662971338,
           0.0004317975732974766,
           -0.6897189889446256,
           0.041607461653367483,
           -0.5213925356077709,
           -0.9171396140749146,
           -1.149922583499226,
           -0.9154764692109576,
           -1.0324583686141688,
           -0.42629542754439953,
           0.17075564278704602,
           -0.4242248623587368,
           0.17955027577428906,
           0.07344311943971249,
           -0.8229021997222346,
           -1.0518900404315046,
           -0.9322823030470659,
           -1.1562789662971338,
           0.0004317975732974766,
           -0.7638977145737011,
           -0.7867070489150725,
           -0.7127136336293833,
           -1.0835154598545376,
           -0.7622239624119029
          ],
          [
           -1.9683964519041801,
           -1.9417439179332736,
           -1.944936325045482,
           -1.8788327733537924,
           -1.9151110972607435,
           -1.948258888710822,
           -1.9568517058889765,
           -1.9094660624319604,
           -1.9589886521998805,
           -1.9730920900023197,
           -1.9594947280509447,
           -2,
           -2,
           -2,
           -2,
           -2,
           -2,
           -1.987522640370296,
           -1.9731087809466994,
           -2,
           -1.9918430907270772,
           -2,
           -2,
           -2,
           -2,
           -2,
           -2,
           -2,
           -2,
           -2,
           -1.9801944865732892,
           -2,
           -2,
           -2,
           -2,
           -2,
           -1.9964043700732956,
           -1.9918430907270772,
           -2,
           -2,
           -2,
           -2,
           -2,
           -1.8200783085356305
          ],
          [
           -1.8843150794072343,
           -1.8281492635640675,
           -1.8331109763493025,
           -1.8327998095187703,
           -1.8283523949016798,
           -1.780855788823004,
           -1.7563337461997524,
           -1.8054634294539103,
           -1.7947043599442565,
           -1.5808139385035695,
           -1.7943417893308278,
           -1.7250523377529658,
           -1.7895770123148314,
           -1.8071482647328365,
           -1.777103624461121,
           -1.8672801274110777,
           -1.8259251769464104,
           -1.809015898571141,
           -1.866369914875066,
           -1.8857511699209295,
           -1.833005821067072,
           -1.7243404292067879,
           -1.8290556664880924,
           -1.593398185594054,
           -1.7544945229534241,
           -1.7700165895398585,
           -1.7828798938287989,
           -1.6502510471136085,
           -1.7375482171417818,
           -1.743138270326256,
           -1.8697475243108217,
           -1.8404810199942045,
           -1.8476028850233348,
           -1.6528487601741433,
           -1.6758209757627345,
           -1.7975246738113313,
           -1.6869958050984188,
           -1.833005821067072,
           -1.7243404292067879,
           -1.8555557990227227,
           -1.889972202630378,
           -1.700222922048052,
           -1.7588047723119917,
           -1.8519028974158183
          ],
          [
           -1.565517607691082,
           -0.8089972236600629,
           -1.2870022235698402,
           -0.5187967935659674,
           -1.3339773754246003,
           -1.36500377755901,
           -1.3988064407161356,
           -0.09979999493658043,
           -1.5358152498506867,
           -1.600298976777752,
           -0.8263910637853638,
           -1.2892034692453396,
           -1.641442084597537,
           -1.745786348966012,
           -1.557826387780084,
           -1.70076092726951,
           -1.6374519716885743,
           -0.8096196417790298,
           -1.6405020306082647,
           -1.7129256091657254,
           -1.8393088873234213,
           -0.858672654259683,
           -1.5887595577850289,
           -1.5084344372791199,
           -1.2113052930847061,
           -1.3697721121103639,
           -1.2548551205485512,
           -1.1170425869559564,
           -1.5736946090883432,
           -0.9096780089560423,
           -1.0466589347845483,
           -1.5334685598377282,
           -0.4454815443360203,
           -1.0176036342986938,
           -1.2256619327091078,
           -1.5999223150126238,
           -1.4007283455492554,
           -1.8393088873234213,
           -0.858672654259683,
           -1.6171527488660518,
           -1.7086669709164835,
           -1.0543859028342948,
           -1.662498656443696,
           0.43445575567736894
          ],
          [
           2,
           2,
           2,
           2,
           2,
           2,
           2,
           2,
           2,
           2,
           2,
           1.7320307048150734,
           2,
           2,
           1.9225078503379645,
           0.6625376039639002,
           2,
           2,
           2,
           2,
           2,
           2,
           2,
           2,
           2,
           2,
           1.685379340853793,
           2,
           2,
           2,
           1.9425461682576501,
           2,
           2,
           2,
           2,
           2,
           2,
           2,
           2,
           2,
           2,
           2,
           2,
           2
          ],
          [
           -1.3593774897753226,
           -0.831019716719213,
           -1.235496260359814,
           -0.184608058414244,
           -0.31344074293371604,
           -1.0418278806749237,
           -1.1246931651841008,
           -0.7055874832274236,
           -0.9052757316344813,
           0.4816103507822369,
           -0.037582211086752526,
           -0.40195394277738994,
           -0.7169373549883993,
           0.5969637805315378,
           -0.5280749374634093,
           -0.6995222084586801,
           -0.6404044489383216,
           -0.7605151942040651,
           -0.5910102562925912,
           -1.2631918670324351,
           -1.1136405769159468,
           -0.07314650891661967,
           -0.7161155213558661,
           0.5752905599883404,
           -0.6997798032165452,
           -0.6902994848511306,
           2,
           0.5995473347381566,
           -0.824273214789726,
           -0.4138666341730892,
           -0.6960478187171024,
           -0.481744421906694,
           0.15120916419176922,
           0.40204429301533207,
           -0.864298194525335,
           -1.140521548756157,
           -1.0460517217535612,
           -1.1136405769159468,
           -0.07314650891661967,
           -0.5415342813944826,
           -0.9826162718333815,
           -0.2798910158876191,
           -0.6641109240084553,
           -0.44109631949882533
          ],
          [
           -1.6728103255962181,
           -1.5549385911251234,
           -1.542025469981807,
           -1.4272864361491044,
           -1.2843653588457105,
           -1.5502644291307035,
           -1.499425740344556,
           -1.6680422289171877,
           -1.6395779414692415,
           -0.880898992242068,
           -0.8217976824303164,
           -0.8844581796431064,
           -1.7397822595038372,
           -1.817348687094075,
           -1.803927830113364,
           -1.8486993452486287,
           -1.8718705763397372,
           -0.8255182129201046,
           -1.3121171098822937,
           -1.1918670324350493,
           -1.504801453412925,
           -0.783021719417937,
           -1.2567087128037793,
           -0.6558822457827815,
           -1.0936811885051703,
           -1.3282109490963065,
           -1.6820172528201727,
           -1.4652306251463356,
           -1.4510866497318657,
           -1.2090657081061322,
           -1.2040324739048978,
           -1.0488264271225733,
           -1.018582944420874,
           -0.7276168843460156,
           -0.9542583217597778,
           -0.7660799096029236,
           -1.0386760706218596,
           -1.504801453412925,
           -0.783021719417937,
           -1.4054823936718015,
           -1.3375098535452017,
           -0.9802200912918864,
           -1.0079896814875855,
           -1.3554894283476897
          ],
          [
           -1.4603494980612948,
           -1.2969742600348217,
           -1.2038002829997978,
           -1.3255906240905844,
           -1.3272460967932938,
           -1.333501224844891,
           -1.0615471230717262,
           -1.430061520544824,
           -1.394545092574159,
           -1.2414237480347432,
           -0.2551414552667295,
           -0.5638520586182831,
           -0.4738532928788153,
           -1.0746304339164043,
           -0.914897014210442,
           -1.1403291452840207,
           -1.4816582406471182,
           -0.5761722680619843,
           -1.3195512011564143,
           -1.3144263353235437,
           -1.347818026769493,
           -0.4840450796666522,
           -0.9618662640627282,
           -0.9441469013006887,
           -1.0830894444908994,
           -1.3884571727931545,
           -1.2540588365405885,
           -1.0912354639818935,
           -1.5553297582086745,
           -0.8928625826301522,
           -0.7103220626282452,
           -0.8154158215010143,
           -0.06465846414934218,
           -0.3545334090478893,
           -1.3881994534295057,
           -1.4901746146648067,
           -1.298852164292629,
           -1.347818026769493,
           -0.4840450796666522,
           -0.9902929640423341,
           -1.0996141559142014,
           -1.1098687236828138,
           -1.3356024506466984,
           -1.2258104933437743
          ],
          [
           -1.211929675466086,
           -0.699825890546327,
           -1.0302001212856275,
           -0.9375380301066165,
           -0.9140203808158562,
           -0.9138945488678769,
           -0.5072852156288705,
           -1.0092913744651761,
           -1.4033047979295241,
           -1.2259594319441223,
           -0.3136026725127885,
           -0.31841291994816046,
           1.8527574513653398,
           1.2787982627405667,
           2,
           2,
           -1.1412740141557127,
           -0.3272288186757899,
           -1.564600876488539,
           -1.4797482652896563,
           -1.504949760854251,
           -0.32427997754652615,
           -1.0733940486046851,
           -0.056035267970999,
           -1.1731750146333306,
           -1.4336854972496287,
           -0.9264322052643221,
           -0.5487655766279038,
           -0.6385172640888135,
           -0.8341304414049413,
           -0.24194843429387114,
           -0.8513474355259347,
           0.08485362749257552,
           0.07533598334279779,
           -1.4127503248062363,
           -1.3461042744398735,
           -1.3143410316692021,
           -1.504949760854251,
           -0.32427997754652615,
           -1.1105462672831257,
           -1.3425714641330955,
           -1.073351969144758,
           -1.5782308050589373,
           -1.2184181675802663
          ],
          [
           -1.9107133372284484,
           -1.8603359841889793,
           -1.8053769961592885,
           -1.8442286832985,
           -1.847299697715728,
           -1.9230751619771516,
           -1.8626280824231505,
           -1.912200308868579,
           -1.8804698387417877,
           -0.8765689837366941,
           -1.267982044054703,
           -1.321303957731034,
           -1.5680885240049973,
           -1.6936685659640593,
           -1.5908244185427645,
           -1.7487170412316404,
           -1.8207482305358949,
           -1.3050915677198631,
           -1.548447789275635,
           -1.546070679360981,
           -1.7156204812576472,
           -1.4403903450062612,
           -1.585447815711294,
           -1.6744270776405437,
           -1.433174457173119,
           -1.3797258360254954,
           -1.6199955761999558,
           -1.657223132755795,
           -1.8510490168407188,
           -1.493343893746002,
           -1.296101347131769,
           -1.541292379020574,
           -1.3481544336020366,
           -1.5557448419458642,
           -1.3026298104923613,
           -1.710234997086813,
           -1.6395150509380907,
           -1.7156204812576472,
           -1.4403903450062612,
           -1.4083747836185552,
           -1.4092851512259883,
           -1.5063161246948091,
           -1.6028805847157035,
           -1.6154737666405639
          ],
          [
           -1.8888298719923513,
           -1.7971860147757752,
           -1.806913280776228,
           -1.7450726209688088,
           -1.6914830627317772,
           -1.8170287781313674,
           -1.8421799346920391,
           -1.755436846502443,
           -1.8076846506072068,
           -1.7758705121266012,
           -1.4581897901659882,
           -1.4267769913268866,
           -1.5225771907906478,
           -1.611427660676575,
           -1.54079514609612,
           -1.6204211643956823,
           -1.7241658240647117,
           -1.619641779029986,
           -1.4543744120413924,
           -1.5340487332580282,
           -1.6477698268510623,
           -1.3419404982943997,
           -1.5563239662981543,
           -1.3055707363281963,
           -1.197034311676004,
           -1.3614773421810877,
           -1.740853793408538,
           -1.5488956528525715,
           -1.540050804403048,
           -1.4232796173881257,
           -1.7270050851993934,
           -1.7586206896551724,
           -1.5068307170131523,
           -1.4137800492144614,
           -1.5754670489673401,
           -1.6155299352036583,
           -1.519015350573918,
           -1.6477698268510623,
           -1.3419404982943997,
           -1.5692968424743081,
           -1.6727378334647138,
           -1.3218923604967978,
           -1.4961126437605246,
           -1.6395301487862177
          ],
          [
           -1.70956604875976,
           -1.4404969177921036,
           -1.3835455831817263,
           -1.670996587211302,
           -1.2514568855371002,
           -1.5050252981982188,
           -1.2381038171377097,
           -1.4531507126762704,
           -1.5934700378260005,
           -0.3064511971958037,
           -0.8731600375822111,
           -0.15352407536636425,
           -0.7506692843119758,
           -1.195122923058533,
           -0.7064771941029322,
           -1.0306140506105115,
           -1.525015166835187,
           -0.9366069631716643,
           -1.0153041323451806,
           -1.4621591092464095,
           -0.8553631678469467,
           -0.6223930221512153,
           -0.6410168996249939,
           -0.7657667504645318,
           -0.768124425119157,
           -0.9008120143193921,
           -1.210351692103517,
           -0.9353521163401752,
           -0.9742026531188257,
           -0.5039144606573858,
           -1.366045142296369,
           -1.5757751376412634,
           -0.43071701315231237,
           -0.23850085178875635,
           -0.9541687200394247,
           -1.3112166528363849,
           -0.9946987507490896,
           -0.8553631678469467,
           -0.6223930221512153,
           -1.3449175011503824,
           -1.15877691573663,
           -0.6246771168748455,
           -0.9930135072193758,
           -1.1649177760375882
          ],
          [
           -1.9368460190152441,
           -1.9104983294903768,
           -1.8539721043056399,
           -1.922855101986825,
           -1.9000280469942972,
           -1.9048513015407862,
           -1.861006643396014,
           -1.921618268816932,
           -1.9053951821620545,
           -1.6590633779221113,
           -1.825242718446602,
           -1.7776891635928622,
           -1.9400321256469748,
           -1.916643423516755,
           -1.9582734578742882,
           -1.9768182622544683,
           -1.9192719919110213,
           -1.8804588448379955,
           -1.8298419108367943,
           -1.7623850250121027,
           -1.850061176819547,
           -1.712077378125135,
           -1.796035649929382,
           -1.5987903960359966,
           -1.7159182763330267,
           -1.7856456823539684,
           -1.8810882548108825,
           -1.8490075184057857,
           -1.8628657446608337,
           -1.8263624455478722,
           -1.8572575608885717,
           -1.8339611706751666,
           -1.8092490453966907,
           -1.7421919363997729,
           -1.7505488105371623,
           -1.6254877381309698,
           -1.7113354538330336,
           -1.850061176819547,
           -1.712077378125135,
           -1.8166400070118545,
           -1.8093183421150894,
           -1.7275397190474506,
           -1.7498477302855506,
           -1.796523101018011
          ],
          [
           -1.9336059913953365,
           -1.9232977271657805,
           -1.948817465130382,
           -1.9843382100055558,
           -1.9218423758920502,
           -1.9155658325511116,
           -1.8814547911271253,
           -1.9496696118889085,
           -1.9051562811069083,
           -1.885254774607593,
           -2,
           -1.9124713388495664,
           -1.9978582902016777,
           -1.9614296529465673,
           -1.9836074298791846,
           -1.9685011502388958,
           -1.947098078867543,
           -1.98712014489837,
           -1.9731087809466994,
           -1.970308213651767,
           -1.963812984316488,
           -1.8961958633792477,
           -1.929089757950616,
           -1.9240718475607534,
           -1.8896228781670708,
           -1.8940015716406182,
           -1.9570006635700066,
           -1.9524441322615051,
           -1.9181108288644275,
           -1.9071496024613885,
           -1.9821571951110715,
           -1.9576934221964648,
           -1.9236317352566823,
           -1.9095211054325194,
           -1.942117288651942,
           -1.9800137714295802,
           -1.967362743742221,
           -1.963812984316488,
           -1.8961958633792477,
           -1.9205031005543747,
           -1.9530348919221674,
           -1.8954035596758785,
           -1.9236143455985095,
           -1.9789506656225528
          ],
          [
           -0.9768948850055772,
           -0.5475507034963059,
           -0.7642611683848795,
           -0.49392841080451877,
           -0.574963383090779,
           -0.5391606950708576,
           -0.6636640018015989,
           -0.4400617737157899,
           -0.7272944455504677,
           -1.3955514317379314,
           -0.039670111702682975,
           -0.1935998404944672,
           0.059967874353024975,
           0.13555405028489442,
           0.6653893235403698,
           -0.17306671385595496,
           -0.4203842264914053,
           -0.5097605151942042,
           -1.4401486818254825,
           -1.455220267871551,
           -1.3082940936561491,
           0.4403471652489319,
           -0.9901134758681149,
           -1.200786971253689,
           -0.8771636424450204,
           -0.9598358508687679,
           -0.7908869719088696,
           -0.19194047711959206,
           -0.28348856900931385,
           -0.3948578913699088,
           -0.9767151396199483,
           -0.6435815705592582,
           -0.1411964361476452,
           0.36835131554041256,
           -1.4913310335558443,
           -1.700489062306891,
           -0.8356612732217767,
           -1.3082940936561491,
           0.4403471652489319,
           -1.1910949448912067,
           -1.4034767456333235,
           -0.748098085701143,
           -1.5286446204005588,
           -0.8266249021143306
          ],
          [
           -1.943591650289478,
           -1.9167098018916757,
           -1.9050737820901555,
           -1.8923781052408795,
           -1.9446539312537006,
           -1.9351633508093133,
           -1.883256390046166,
           -1.9275931036228766,
           -1.9401951025283695,
           -1.7614371504420216,
           -1.8394404426349307,
           -1.7920446615491974,
           -1.9191504551133323,
           -1.913933936327051,
           -1.968279312363617,
           -1.9646080339762875,
           -1.9446713852376138,
           -1.9207083920305896,
           -1.9345616410068145,
           -1.845893174116508,
           -1.962774832227207,
           -1.7400578608748218,
           -1.8671407003360443,
           -1.783437169818195,
           -1.7630794102070966,
           -1.8260717715882302,
           -1.8895819508958196,
           -1.9079060329353001,
           -1.8796500141123342,
           -1.8657202912236879,
           -1.9311267731287358,
           -1.847870182555781,
           -1.8708527789563003,
           -1.7452205186447094,
           -1.906814210832848,
           -1.8739384523031832,
           -1.7909924860554096,
           -1.962774832227207,
           -1.7400578608748218,
           -1.846528036461643,
           -1.8647471269136622,
           -1.8229362018329147,
           -1.8470137221883844,
           -1.9349725920125294
          ],
          [
           -1.2602113985233971,
           -0.36581807914921627,
           -1.0014958560743885,
           -0.4269425117066592,
           -0.33675091152731484,
           -0.5724032143593027,
           -0.12003152798108307,
           -0.6576875363933263,
           -0.9822018713915985,
           1.4749349210031193,
           1.996868149076104,
           2,
           1.4752810994110295,
           0.5446866159301909,
           0.5868327212730859,
           0.10652981773137471,
           -0.6810111223458037,
           1.1599919500905616,
           -1.0543101668081594,
           -0.9689365822172018,
           -0.29261058173593857,
           1.4350360550973709,
           -0.32026493936589895,
           1.6025795168870909,
           -0.5120272040583103,
           -0.7923688116650658,
           -0.23118779031187797,
           0.4070345222300267,
           0.0030482641828966095,
           0.19027020440491027,
           2,
           0.9787018255578088,
           1.164022061943148,
           1.4959303426083665,
           -0.4927198602213161,
           -0.8275922950617063,
           -0.24699211727285308,
           -0.29261058173593857,
           1.4350360550973709,
           -0.06262462475622854,
           0.03858440857984524,
           0.36637061675099947,
           -0.6553688509906488,
           0.7079718089271734
          ],
          [
           -1.9720614011791575,
           -1.9942590936897087,
           -1.936931473620376,
           -1.9234900394190322,
           -1.9609835146000187,
           -1.9870876164747362,
           -2,
           -1.9583786931314717,
           -1.9579534142942465,
           -2,
           -1.954692556634304,
           -1.9240354899810588,
           -1.8957701231483135,
           -1.914412081125234,
           -1.893980520517324,
           -1.946912050964431,
           -1.950010111223458,
           -1.9643791507345543,
           -1.9104237890920772,
           -1.8807487493948685,
           -1.9237699751585036,
           -1.8393713027332788,
           -1.8768811181999707,
           -1.8541188472328487,
           -1.84223876020849,
           -1.8747926307517682,
           -1.9414288874142889,
           -1.9226826920575457,
           -1.9126164267569856,
           -1.8450056356048374,
           -1.9793023463288428,
           -1.9986960301361925,
           -1.9146372507424692,
           -1.8493280333144047,
           -1.8874602392365933,
           -1.9247868076766892,
           -1.9604480708062508,
           -1.9237699751585036,
           -1.8393713027332788,
           -1.8737866205052918,
           -1.8962784715595569,
           -1.8586037295212483,
           -1.902690695424743,
           -1.9105403288958496
          ],
          [
           -1.459552769958039,
           -1.1570279045691967,
           -1.468041237113402,
           -1.3014630016667108,
           -1.2624263766399701,
           -1.1197600677671191,
           -1.0775813534511878,
           -1.091318767563736,
           -1.344774039418674,
           -1.1960617541689218,
           -0.9483244597557157,
           -0.5889741800418702,
           -1.1144029983937176,
           -1.2160019125791928,
           -0.8961626483580816,
           -1.2866749247920723,
           -1.5746814964610718,
           -0.85771785067418,
           -1.7070417364568755,
           -1.732128449249637,
           -1.5108820585072857,
           -0.8196381536335764,
           -1.3994058345103007,
           -1.2526687798302183,
           -1.6166903587256458,
           -1.6301405745219593,
           -1.440831674408317,
           -1.122037513983194,
           -1.317790949289679,
           -1.0897736619246352,
           -1.2577393166205728,
           -1.1173572877426834,
           -0.8772168010182433,
           -0.708688245315162,
           -1.4364051789794363,
           -1.7942760288846908,
           -1.5405891301341446,
           -1.5108820585072857,
           -0.8196381536335764,
           -1.4320397922738128,
           -1.6400448077002863,
           -1.0539612894094337,
           -1.5591702196266706,
           -1.5247611589663275
          ],
          [
           -1.8329526743506666,
           -1.7734694837889982,
           -1.7317161916312918,
           -1.7677187227175322,
           -1.7506933840256786,
           -1.7556720620893336,
           -1.685530908681455,
           -1.7922985392035242,
           -1.7385626119848696,
           -1.1285342405732108,
           -1.6358701325816891,
           -1.4818064001595055,
           -1.8347313938961272,
           -1.8371120054189745,
           -1.8707754537229229,
           -1.851353742700407,
           -1.8450960566228514,
           -1.6488227007446166,
           -1.7263153064268177,
           -1.7198644505405842,
           -1.7222943161173112,
           -1.3833930653309727,
           -1.6240198704524424,
           -1.4661711662476775,
           -1.3921453856231012,
           -1.519339910940365,
           -1.7273169652731697,
           -1.5278753349462786,
           -1.4771286104054944,
           -1.6104426234502087,
           -1.8040860023195646,
           -1.69327731092437,
           -1.5507848960543065,
           -1.4177550634109408,
           -1.6752833654406165,
           -1.599286710570455,
           -1.2603143871294888,
           -1.7222943161173112,
           -1.3833930653309727,
           -1.590332405723426,
           -1.6844376218727959,
           -1.4413502706910584,
           -1.5790906810934757,
           -1.5481910728269381
          ],
          [
           -1.4204068624847292,
           -1.0600912898216555,
           -1.3748130179907014,
           -1.2858012116722666,
           -0.6654616846894577,
           -1.0379816387737812,
           -0.7933791239725254,
           -1.1483328691865617,
           -1.038901055146327,
           -0.3892368360009275,
           -0.11984549535442124,
           0.6699232379623168,
           -1.3043012671782974,
           -1.394668685500259,
           -1.1967640640800465,
           -1.572288090603433,
           -1.7882305358948432,
           0.2680619843026766,
           -0.9841910836794165,
           -1.300871389381959,
           -1.2787067591116386,
           -0.3418973185370697,
           -0.7377392490137826,
           -0.6968338980580757,
           -1.3774284360453772,
           -1.5461451148170784,
           -0.9813758018137582,
           -0.35729337391711535,
           -0.605851914573337,
           -0.5274316873305513,
           -0.6062985101257918,
           -0.46203998840915683,
           -0.16597369537547713,
           -0.11186825667234523,
           -1.0728013977868374,
           -1.5088896343508889,
           -1.3347162679205273,
           -1.2787067591116386,
           -0.3418973185370697,
           -0.9225409207441331,
           -1.2180226527818112,
           -0.15448851774530303,
           -1.132026799469743,
           -1.2576350822239624
          ]
         ]
        }
       ],
       "layout": {
        "coloraxis": {
         "colorbar": {
          "title": {
           "text": "Exp"
          }
         },
         "colorscale": [
          [
           0,
           "rgb(5,48,97)"
          ],
          [
           0.1,
           "rgb(33,102,172)"
          ],
          [
           0.2,
           "rgb(67,147,195)"
          ],
          [
           0.3,
           "rgb(146,197,222)"
          ],
          [
           0.4,
           "rgb(209,229,240)"
          ],
          [
           0.5,
           "rgb(247,247,247)"
          ],
          [
           0.6,
           "rgb(253,219,199)"
          ],
          [
           0.7,
           "rgb(244,165,130)"
          ],
          [
           0.8,
           "rgb(214,96,77)"
          ],
          [
           0.9,
           "rgb(178,24,43)"
          ],
          [
           1,
           "rgb(103,0,31)"
          ]
         ]
        },
        "height": 900,
        "margin": {
         "t": 60
        },
        "template": {
         "data": {
          "bar": [
           {
            "error_x": {
             "color": "#2a3f5f"
            },
            "error_y": {
             "color": "#2a3f5f"
            },
            "marker": {
             "line": {
              "color": "#E5ECF6",
              "width": 0.5
             },
             "pattern": {
              "fillmode": "overlay",
              "size": 10,
              "solidity": 0.2
             }
            },
            "type": "bar"
           }
          ],
          "barpolar": [
           {
            "marker": {
             "line": {
              "color": "#E5ECF6",
              "width": 0.5
             },
             "pattern": {
              "fillmode": "overlay",
              "size": 10,
              "solidity": 0.2
             }
            },
            "type": "barpolar"
           }
          ],
          "carpet": [
           {
            "aaxis": {
             "endlinecolor": "#2a3f5f",
             "gridcolor": "white",
             "linecolor": "white",
             "minorgridcolor": "white",
             "startlinecolor": "#2a3f5f"
            },
            "baxis": {
             "endlinecolor": "#2a3f5f",
             "gridcolor": "white",
             "linecolor": "white",
             "minorgridcolor": "white",
             "startlinecolor": "#2a3f5f"
            },
            "type": "carpet"
           }
          ],
          "choropleth": [
           {
            "colorbar": {
             "outlinewidth": 0,
             "ticks": ""
            },
            "type": "choropleth"
           }
          ],
          "contour": [
           {
            "colorbar": {
             "outlinewidth": 0,
             "ticks": ""
            },
            "colorscale": [
             [
              0,
              "#0d0887"
             ],
             [
              0.1111111111111111,
              "#46039f"
             ],
             [
              0.2222222222222222,
              "#7201a8"
             ],
             [
              0.3333333333333333,
              "#9c179e"
             ],
             [
              0.4444444444444444,
              "#bd3786"
             ],
             [
              0.5555555555555556,
              "#d8576b"
             ],
             [
              0.6666666666666666,
              "#ed7953"
             ],
             [
              0.7777777777777778,
              "#fb9f3a"
             ],
             [
              0.8888888888888888,
              "#fdca26"
             ],
             [
              1,
              "#f0f921"
             ]
            ],
            "type": "contour"
           }
          ],
          "contourcarpet": [
           {
            "colorbar": {
             "outlinewidth": 0,
             "ticks": ""
            },
            "type": "contourcarpet"
           }
          ],
          "heatmap": [
           {
            "colorbar": {
             "outlinewidth": 0,
             "ticks": ""
            },
            "colorscale": [
             [
              0,
              "#0d0887"
             ],
             [
              0.1111111111111111,
              "#46039f"
             ],
             [
              0.2222222222222222,
              "#7201a8"
             ],
             [
              0.3333333333333333,
              "#9c179e"
             ],
             [
              0.4444444444444444,
              "#bd3786"
             ],
             [
              0.5555555555555556,
              "#d8576b"
             ],
             [
              0.6666666666666666,
              "#ed7953"
             ],
             [
              0.7777777777777778,
              "#fb9f3a"
             ],
             [
              0.8888888888888888,
              "#fdca26"
             ],
             [
              1,
              "#f0f921"
             ]
            ],
            "type": "heatmap"
           }
          ],
          "heatmapgl": [
           {
            "colorbar": {
             "outlinewidth": 0,
             "ticks": ""
            },
            "colorscale": [
             [
              0,
              "#0d0887"
             ],
             [
              0.1111111111111111,
              "#46039f"
             ],
             [
              0.2222222222222222,
              "#7201a8"
             ],
             [
              0.3333333333333333,
              "#9c179e"
             ],
             [
              0.4444444444444444,
              "#bd3786"
             ],
             [
              0.5555555555555556,
              "#d8576b"
             ],
             [
              0.6666666666666666,
              "#ed7953"
             ],
             [
              0.7777777777777778,
              "#fb9f3a"
             ],
             [
              0.8888888888888888,
              "#fdca26"
             ],
             [
              1,
              "#f0f921"
             ]
            ],
            "type": "heatmapgl"
           }
          ],
          "histogram": [
           {
            "marker": {
             "pattern": {
              "fillmode": "overlay",
              "size": 10,
              "solidity": 0.2
             }
            },
            "type": "histogram"
           }
          ],
          "histogram2d": [
           {
            "colorbar": {
             "outlinewidth": 0,
             "ticks": ""
            },
            "colorscale": [
             [
              0,
              "#0d0887"
             ],
             [
              0.1111111111111111,
              "#46039f"
             ],
             [
              0.2222222222222222,
              "#7201a8"
             ],
             [
              0.3333333333333333,
              "#9c179e"
             ],
             [
              0.4444444444444444,
              "#bd3786"
             ],
             [
              0.5555555555555556,
              "#d8576b"
             ],
             [
              0.6666666666666666,
              "#ed7953"
             ],
             [
              0.7777777777777778,
              "#fb9f3a"
             ],
             [
              0.8888888888888888,
              "#fdca26"
             ],
             [
              1,
              "#f0f921"
             ]
            ],
            "type": "histogram2d"
           }
          ],
          "histogram2dcontour": [
           {
            "colorbar": {
             "outlinewidth": 0,
             "ticks": ""
            },
            "colorscale": [
             [
              0,
              "#0d0887"
             ],
             [
              0.1111111111111111,
              "#46039f"
             ],
             [
              0.2222222222222222,
              "#7201a8"
             ],
             [
              0.3333333333333333,
              "#9c179e"
             ],
             [
              0.4444444444444444,
              "#bd3786"
             ],
             [
              0.5555555555555556,
              "#d8576b"
             ],
             [
              0.6666666666666666,
              "#ed7953"
             ],
             [
              0.7777777777777778,
              "#fb9f3a"
             ],
             [
              0.8888888888888888,
              "#fdca26"
             ],
             [
              1,
              "#f0f921"
             ]
            ],
            "type": "histogram2dcontour"
           }
          ],
          "mesh3d": [
           {
            "colorbar": {
             "outlinewidth": 0,
             "ticks": ""
            },
            "type": "mesh3d"
           }
          ],
          "parcoords": [
           {
            "line": {
             "colorbar": {
              "outlinewidth": 0,
              "ticks": ""
             }
            },
            "type": "parcoords"
           }
          ],
          "pie": [
           {
            "automargin": true,
            "type": "pie"
           }
          ],
          "scatter": [
           {
            "fillpattern": {
             "fillmode": "overlay",
             "size": 10,
             "solidity": 0.2
            },
            "type": "scatter"
           }
          ],
          "scatter3d": [
           {
            "line": {
             "colorbar": {
              "outlinewidth": 0,
              "ticks": ""
             }
            },
            "marker": {
             "colorbar": {
              "outlinewidth": 0,
              "ticks": ""
             }
            },
            "type": "scatter3d"
           }
          ],
          "scattercarpet": [
           {
            "marker": {
             "colorbar": {
              "outlinewidth": 0,
              "ticks": ""
             }
            },
            "type": "scattercarpet"
           }
          ],
          "scattergeo": [
           {
            "marker": {
             "colorbar": {
              "outlinewidth": 0,
              "ticks": ""
             }
            },
            "type": "scattergeo"
           }
          ],
          "scattergl": [
           {
            "marker": {
             "colorbar": {
              "outlinewidth": 0,
              "ticks": ""
             }
            },
            "type": "scattergl"
           }
          ],
          "scattermapbox": [
           {
            "marker": {
             "colorbar": {
              "outlinewidth": 0,
              "ticks": ""
             }
            },
            "type": "scattermapbox"
           }
          ],
          "scatterpolar": [
           {
            "marker": {
             "colorbar": {
              "outlinewidth": 0,
              "ticks": ""
             }
            },
            "type": "scatterpolar"
           }
          ],
          "scatterpolargl": [
           {
            "marker": {
             "colorbar": {
              "outlinewidth": 0,
              "ticks": ""
             }
            },
            "type": "scatterpolargl"
           }
          ],
          "scatterternary": [
           {
            "marker": {
             "colorbar": {
              "outlinewidth": 0,
              "ticks": ""
             }
            },
            "type": "scatterternary"
           }
          ],
          "surface": [
           {
            "colorbar": {
             "outlinewidth": 0,
             "ticks": ""
            },
            "colorscale": [
             [
              0,
              "#0d0887"
             ],
             [
              0.1111111111111111,
              "#46039f"
             ],
             [
              0.2222222222222222,
              "#7201a8"
             ],
             [
              0.3333333333333333,
              "#9c179e"
             ],
             [
              0.4444444444444444,
              "#bd3786"
             ],
             [
              0.5555555555555556,
              "#d8576b"
             ],
             [
              0.6666666666666666,
              "#ed7953"
             ],
             [
              0.7777777777777778,
              "#fb9f3a"
             ],
             [
              0.8888888888888888,
              "#fdca26"
             ],
             [
              1,
              "#f0f921"
             ]
            ],
            "type": "surface"
           }
          ],
          "table": [
           {
            "cells": {
             "fill": {
              "color": "#EBF0F8"
             },
             "line": {
              "color": "white"
             }
            },
            "header": {
             "fill": {
              "color": "#C8D4E3"
             },
             "line": {
              "color": "white"
             }
            },
            "type": "table"
           }
          ]
         },
         "layout": {
          "annotationdefaults": {
           "arrowcolor": "#2a3f5f",
           "arrowhead": 0,
           "arrowwidth": 1
          },
          "autotypenumbers": "strict",
          "coloraxis": {
           "colorbar": {
            "outlinewidth": 0,
            "ticks": ""
           }
          },
          "colorscale": {
           "diverging": [
            [
             0,
             "#8e0152"
            ],
            [
             0.1,
             "#c51b7d"
            ],
            [
             0.2,
             "#de77ae"
            ],
            [
             0.3,
             "#f1b6da"
            ],
            [
             0.4,
             "#fde0ef"
            ],
            [
             0.5,
             "#f7f7f7"
            ],
            [
             0.6,
             "#e6f5d0"
            ],
            [
             0.7,
             "#b8e186"
            ],
            [
             0.8,
             "#7fbc41"
            ],
            [
             0.9,
             "#4d9221"
            ],
            [
             1,
             "#276419"
            ]
           ],
           "sequential": [
            [
             0,
             "#0d0887"
            ],
            [
             0.1111111111111111,
             "#46039f"
            ],
            [
             0.2222222222222222,
             "#7201a8"
            ],
            [
             0.3333333333333333,
             "#9c179e"
            ],
            [
             0.4444444444444444,
             "#bd3786"
            ],
            [
             0.5555555555555556,
             "#d8576b"
            ],
            [
             0.6666666666666666,
             "#ed7953"
            ],
            [
             0.7777777777777778,
             "#fb9f3a"
            ],
            [
             0.8888888888888888,
             "#fdca26"
            ],
            [
             1,
             "#f0f921"
            ]
           ],
           "sequentialminus": [
            [
             0,
             "#0d0887"
            ],
            [
             0.1111111111111111,
             "#46039f"
            ],
            [
             0.2222222222222222,
             "#7201a8"
            ],
            [
             0.3333333333333333,
             "#9c179e"
            ],
            [
             0.4444444444444444,
             "#bd3786"
            ],
            [
             0.5555555555555556,
             "#d8576b"
            ],
            [
             0.6666666666666666,
             "#ed7953"
            ],
            [
             0.7777777777777778,
             "#fb9f3a"
            ],
            [
             0.8888888888888888,
             "#fdca26"
            ],
            [
             1,
             "#f0f921"
            ]
           ]
          },
          "colorway": [
           "#636efa",
           "#EF553B",
           "#00cc96",
           "#ab63fa",
           "#FFA15A",
           "#19d3f3",
           "#FF6692",
           "#B6E880",
           "#FF97FF",
           "#FECB52"
          ],
          "font": {
           "color": "#2a3f5f"
          },
          "geo": {
           "bgcolor": "white",
           "lakecolor": "white",
           "landcolor": "#E5ECF6",
           "showlakes": true,
           "showland": true,
           "subunitcolor": "white"
          },
          "hoverlabel": {
           "align": "left"
          },
          "hovermode": "closest",
          "mapbox": {
           "style": "light"
          },
          "paper_bgcolor": "white",
          "plot_bgcolor": "#E5ECF6",
          "polar": {
           "angularaxis": {
            "gridcolor": "white",
            "linecolor": "white",
            "ticks": ""
           },
           "bgcolor": "#E5ECF6",
           "radialaxis": {
            "gridcolor": "white",
            "linecolor": "white",
            "ticks": ""
           }
          },
          "scene": {
           "xaxis": {
            "backgroundcolor": "#E5ECF6",
            "gridcolor": "white",
            "gridwidth": 2,
            "linecolor": "white",
            "showbackground": true,
            "ticks": "",
            "zerolinecolor": "white"
           },
           "yaxis": {
            "backgroundcolor": "#E5ECF6",
            "gridcolor": "white",
            "gridwidth": 2,
            "linecolor": "white",
            "showbackground": true,
            "ticks": "",
            "zerolinecolor": "white"
           },
           "zaxis": {
            "backgroundcolor": "#E5ECF6",
            "gridcolor": "white",
            "gridwidth": 2,
            "linecolor": "white",
            "showbackground": true,
            "ticks": "",
            "zerolinecolor": "white"
           }
          },
          "shapedefaults": {
           "line": {
            "color": "#2a3f5f"
           }
          },
          "ternary": {
           "aaxis": {
            "gridcolor": "white",
            "linecolor": "white",
            "ticks": ""
           },
           "baxis": {
            "gridcolor": "white",
            "linecolor": "white",
            "ticks": ""
           },
           "bgcolor": "#E5ECF6",
           "caxis": {
            "gridcolor": "white",
            "linecolor": "white",
            "ticks": ""
           }
          },
          "title": {
           "x": 0.05
          },
          "xaxis": {
           "automargin": true,
           "gridcolor": "white",
           "linecolor": "white",
           "ticks": "",
           "title": {
            "standoff": 15
           },
           "zerolinecolor": "white",
           "zerolinewidth": 2
          },
          "yaxis": {
           "automargin": true,
           "gridcolor": "white",
           "linecolor": "white",
           "ticks": "",
           "title": {
            "standoff": 15
           },
           "zerolinecolor": "white",
           "zerolinewidth": 2
          }
         }
        },
        "title": {
         "text": "Gene expression heatmap"
        },
        "width": 1200,
        "xaxis": {
         "anchor": "y",
         "constrain": "domain",
         "domain": [
          0,
          1
         ],
         "scaleanchor": "y",
         "title": {
          "text": "Sample"
         }
        },
        "yaxis": {
         "anchor": "x",
         "autorange": "reversed",
         "constrain": "domain",
         "domain": [
          0,
          1
         ],
         "title": {
          "text": "Gene ID"
         }
        }
       }
      }
     },
     "metadata": {},
     "output_type": "display_data"
    }
   ],
   "source": [
    "def heatmap(df, color, width=900, height=600, button='Z-score',transfer='Yes'):\n",
    "\n",
    "    # df第一列改名为gene_id\n",
    "    df = df.rename(columns={df.columns[0]: 'gene_id'})\n",
    "    # 提取gene_id作为索引\n",
    "    df = df.set_index('gene_id')\n",
    "    # 只保留两位小数\n",
    "    df = df.round(2)\n",
    "\n",
    "    if button == 'centralization-column':\n",
    "        # 列零均值化\n",
    "        df_normalized = (df - df.mean(axis=0)) / (df.max(axis=0) - df.min(axis=0)) \n",
    "    elif button == 'centralization-line':\n",
    "        # 每一行零均值化\n",
    "        row_means = df.mean(axis=1) \n",
    "        df_normalized = df - row_means[:, np.newaxis]\n",
    "    elif button == 'Z-score':\n",
    "        # 归一化\n",
    "        df_normalized = df.apply(lambda x: np.interp(x, (x.min(), x.max()), (-2, 2)))\n",
    "    elif button == 'log2':\n",
    "        df_normalized = np.log(df+1)\n",
    "    elif button == 'log10':\n",
    "        df_normalized = np.log10(df+1)\n",
    "    else:\n",
    "        df_normalized = df\n",
    "\n",
    "    if transfer == 'Yes':\n",
    "        # 转置\n",
    "        df_normalized = df_normalized.transpose()\n",
    "\n",
    "    # 创建热图\n",
    "    fig = px.imshow(df_normalized,\n",
    "                    labels=dict(x=\"Sample\", y=\"Gene ID\", color=\"Exp\"),\n",
    "                    x=df_normalized.columns,\n",
    "                    y=df_normalized.index,\n",
    "                    color_continuous_scale=color,\n",
    "                   )\n",
    "\n",
    "    # 定义鼠标悬浮数据显示方式\n",
    "    fig.update_traces(hovertemplate='Gene: %{x}<br>Sample: %{y}<br>RPKM: %{z:.1f}')\n",
    "    fig.update_layout(title='Gene expression heatmap')\n",
    "    # 设置输出图的大小\n",
    "    fig.update_layout(width=width, height=height) \n",
    "\n",
    "    # 调试用\n",
    "    return fig\n",
    "\n",
    "# 调用函数\n",
    "heatmap(df, 'Rdbu_r', width=1200, height=900 ,button='Z-score',transfer='')"
   ]
  },
  {
   "cell_type": "markdown",
   "metadata": {},
   "source": [
    "### 方式2"
   ]
  },
  {
   "cell_type": "code",
   "execution_count": 15,
   "metadata": {},
   "outputs": [
    {
     "data": {
      "application/vnd.plotly.v1+json": {
       "config": {
        "plotlyServerURL": "https://plot.ly"
       },
       "data": [
        {
         "colorscale": [
          [
           0,
           "rgb(5,48,97)"
          ],
          [
           0.1,
           "rgb(33,102,172)"
          ],
          [
           0.2,
           "rgb(67,147,195)"
          ],
          [
           0.3,
           "rgb(146,197,222)"
          ],
          [
           0.4,
           "rgb(209,229,240)"
          ],
          [
           0.5,
           "rgb(247,247,247)"
          ],
          [
           0.6,
           "rgb(253,219,199)"
          ],
          [
           0.7,
           "rgb(244,165,130)"
          ],
          [
           0.8,
           "rgb(214,96,77)"
          ],
          [
           0.9,
           "rgb(178,24,43)"
          ],
          [
           1,
           "rgb(103,0,31)"
          ]
         ],
         "hovertemplate": "Sample: %{x}<br>Gene: %{y}<br>Exp: %{z:.3f}<extra></extra>",
         "type": "heatmap",
         "x": [
          "mt001001",
          "mt001002",
          "mt001003",
          "mt001004",
          "mt001005",
          "mt002001",
          "mt002002",
          "mt002003",
          "mt002004",
          "mt003001",
          "mt003002",
          "mt003003",
          "mt004001",
          "mt004002",
          "mt004003",
          "mt004004",
          "mt004005",
          "mt005002",
          "mt006001",
          "mt006006",
          "mt007001",
          "mt007002",
          "mt007003",
          "mt007004",
          "mt009001",
          "mt009002",
          "mt010001",
          "mt010002",
          "mt010003",
          "mt010004",
          "mt011004",
          "mt011005",
          "mt011006",
          "mt012001",
          "mt012007",
          "mt012009",
          "mt012011",
          "mt014001",
          "mt014002",
          "mt014003",
          "mt014004",
          "mt014005",
          "mt014006",
          "mt014012"
         ],
         "y": [
          "MYCTH_2294730",
          "MYCTH_2294864",
          "MYCTH_113886",
          "MYCTH_2295173",
          "MYCTH_2295254",
          "MYCTH_2295800",
          "MYCTH_2296007",
          "MYCTH_2296191",
          "MYCTH_2296558",
          "MYCTH_2297020",
          "MYCTH_2297068",
          "MYCTH_2297482",
          "MYCTH_2297709",
          "MYCTH_2297779",
          "MYCTH_2073265",
          "MYCTH_2298243",
          "MYCTH_2073591",
          "MYCTH_2299099",
          "MYCTH_2116523",
          "MYCTH_2300159",
          "MYCTH_2300282",
          "MYCTH_2300427",
          "MYCTH_100654",
          "MYCTH_2080075",
          "MYCTH_101588",
          "MYCTH_2127482",
          "MYCTH_2046198",
          "MYCTH_2095122",
          "MYCTH_2067869",
          "MYCTH_2145069"
         ],
         "z": [
          [
           -1.919477346364264,
           -1.8186438285257165,
           -1.8578532443905398,
           -1.8906849387549935,
           -1.8008040138365171,
           -1.8144646168639391,
           -1.7203918477648914,
           -1.8665282665383933,
           -1.8276727055544495,
           -1.4934921003118635,
           -1.669485332498173,
           -1.3980659954142158,
           -1.6177048009994646,
           -1.7306450970235487,
           -1.6238224493054447,
           -1.7450008847991505,
           -1.8112032355915066,
           -1.6759911450996177,
           -1.751738063006218,
           -1.8192673874455383,
           -1.733713989099403,
           -1.5421218532751846,
           -1.6251887205961135,
           -1.5789703792764236,
           -1.7103436742202525,
           -1.759015105212608,
           -1.7595222295952224,
           -1.6398449491401963,
           -1.7127105089848527,
           -1.6628385170743596,
           -1.788741190115086,
           -1.6821211243117937,
           -1.6906236741620704,
           -1.4302479651713043,
           -1.781730209220017,
           -1.8609438725966208,
           -1.6807265016364725,
           -1.733713989099403,
           -1.5421218532751846,
           -1.7116374871266735,
           -1.619134547566693,
           -1.4818300838611513,
           -1.6461610117874672,
           -1.8551605324980422
          ],
          [
           -1.9153343602273332,
           -1.884523081266764,
           -1.9294117647058824,
           -1.8749173258551814,
           -1.8552775094269065,
           -1.8458755923899357,
           -1.8244341853394888,
           -1.8487050305071013,
           -1.905952617957396,
           -1.6978272635892677,
           -1.797473640254724,
           -1.70112650782574,
           -1.8358022487952883,
           -1.8699446148942105,
           -1.7983926765660758,
           -1.8333038400283135,
           -1.9165217391304348,
           -1.8472529684041055,
           -1.8674712617304912,
           -1.9043085363885752,
           -1.8508027140261762,
           -1.7443758366077982,
           -1.8788292017727561,
           -1.8698582723066273,
           -1.902332970984196,
           -1.9219418492971274,
           -1.911170095111701,
           -1.8313171518509848,
           -1.7888794806661021,
           -1.8988637402138484,
           -1.8483361584441074,
           -1.7699217618081715,
           -1.8268985999151464,
           -1.7696384629945108,
           -1.8786792706419964,
           -1.9142640230230055,
           -1.8346010233715946,
           -1.8508027140261762,
           -1.7443758366077982,
           -1.8532769463374017,
           -1.8137991121437165,
           -1.8348253777290258,
           -1.8595535810254022,
           -1.8485199686765856
          ],
          [
           -1.673660168906358,
           -1.5191755682085548,
           -1.4201738427329693,
           -1.1371200296304136,
           -1.1334102028732589,
           -1.4584125094438973,
           -1.6870622677626392,
           -1.412744626446239,
           -1.4451921162651802,
           -1.1876079280393825,
           0.6150955214531786,
           0.49167580500448604,
           -0.1102980546136001,
           -0.4858748057536757,
           -0.4337644366384583,
           -0.7729605379578837,
           -1.33896865520728,
           -0.29019923525860314,
           -1.0419200146846248,
           -1.110053251573342,
           -1.4278298913647993,
           0.3313614577486077,
           -0.8439098037305801,
           -0.12700841622035242,
           -0.6560749226523954,
           -0.9653365930323932,
           -1.1924795399247956,
           -1.2175654933791202,
           -1.6324771850597422,
           -0.43860237000030455,
           -0.2899455794450887,
           -0.24079976818313553,
           -0.12558336868901132,
           0.7908385387090666,
           -1.074235025312486,
           -1.4068398100248944,
           -0.8181441017839857,
           -1.4278298913647993,
           0.3313614577486077,
           -0.6605605101124088,
           -0.9822013857196199,
           -0.4263826474647041,
           -0.98993228476228,
           -0.8410336726703211
          ],
          [
           -1.495617995432092,
           -1.1417815632205541,
           -1.2391348291894078,
           -1.0353183946665256,
           -1.2907226775530558,
           -1.2902767920510998,
           -1.166490260105844,
           -0.9204789994683409,
           -1.2105912801114873,
           -1.2689502306760483,
           -0.8007098862094164,
           -1.0900209351011863,
           -1.1122612885953955,
           -1.1348766784874686,
           -0.6059928681675446,
           -0.7910104406299774,
           -1.3771486349848332,
           -1.054940631917891,
           -1.0566964183282472,
           -1.0918993061158626,
           -1.3326165140335915,
           -0.9747398419620881,
           -1.1418691861880874,
           -1.033482712136117,
           0.41759344426791545,
           -0.06618353269885602,
           -1.272992700729927,
           -1.1094461354353653,
           -1.1949571925863203,
           -1.190544368964572,
           -1.253635471496119,
           -1.493045494059693,
           -0.3193890538820534,
           -0.9998107136096916,
           -1.3948299807356301,
           -1.2681367962004977,
           -1.3695662195178169,
           -1.3326165140335915,
           -0.9747398419620881,
           -1.2887350176391963,
           -1.40405758619259,
           -0.5355082976540109,
           -1.4432302676364157,
           0.5588723570869227
          ],
          [
           -1.9835342858660434,
           -1.9776951672862453,
           -1.9393571861734384,
           -1.9271938411069076,
           -1.8992801271463742,
           -1.9654754000778407,
           -1.9891904064857562,
           -1.9693156788779462,
           -1.9608202269560024,
           -1.9945359416479806,
           -1.969725441069005,
           -1.9511514305652478,
           -1.8743530251650902,
           -1.9018209347730806,
           -1.907179732822396,
           -1.9247920721996108,
           -1.923963599595551,
           -1.9935600724491849,
           -1.917398985843104,
           -1.9100371147329354,
           -2,
           -1.8713243231573038,
           -1.9406808552086885,
           -1.9462236309979233,
           -1.8791426261950552,
           -1.8964463459355627,
           -1.984516699845167,
           -1.9703426207757746,
           -1.9577758961332203,
           -1.937977884058854,
           -1.9958961548755465,
           -1.9829035062300782,
           -1.9630038184132372,
           -1.8943781942078364,
           -1.9436405178979437,
           -1.9917371422518053,
           -2,
           -2,
           -1.8713243231573038,
           -1.9573153362403313,
           -1.9689665186906193,
           -1.9065850465305545,
           -1.9425316183583534,
           -1.9964917776037587
          ],
          [
           -1.896797153024911,
           -1.8939344030869136,
           -1.7275116232059835,
           -1.6925844599063467,
           -1.5357910810558137,
           -1.822340255042469,
           -1.9349622790226326,
           -1.6937643990987112,
           -1.6675293649213616,
           -0.7417201474264798,
           -1.1427080070988622,
           -1.1472435450104674,
           -1.6516152061395681,
           -1.6836275252022155,
           -1.630209164936931,
           -1.7311980180499027,
           -1.8350657229524772,
           -1.265647011471121,
           -1.1372782965835304,
           -1.469582055833468,
           -1.2268733083682475,
           -1.0946068483095124,
           -1.4474260945794575,
           -0.7205887710860932,
           -1.4643922290046547,
           -1.4562123461101892,
           -1.6272506082725062,
           -1.6785556336012903,
           -1.7310753598645214,
           -1.5529289913790478,
           -1.47060397894549,
           -1.2786148942335556,
           -1.6106915570640645,
           -0.9752034828695817,
           -1.0732494063886027,
           -0.8194000600293083,
           -1.4796478126584613,
           -1.2268733083682475,
           -1.0946068483095124,
           -1.505664263645726,
           -1.3944322283533168,
           -1.1298255546512863,
           -0.9034430869549639,
           -1.7023022709475333
          ],
          [
           -1.9198491528124502,
           -1.8958166674509436,
           -1.9117040630685262,
           -1.8538585676869759,
           -1.907008632241578,
           -1.839923075161977,
           -1.9421686746987952,
           -1.844856831818527,
           -1.98048974716305,
           -1.8197891698239645,
           -1.9290113790583567,
           -1.868208553484199,
           -1.8256291272532572,
           -1.8882734988245606,
           -1.8192559476289318,
           -1.8602017342063353,
           -1.948715874620829,
           -1.9140672167438115,
           -1.9470435720349677,
           -1.9475552686783928,
           -1.9827963368061992,
           -1.8633792478086273,
           -1.969317683728632,
           -1.9153277225197654,
           -1.860411963096134,
           -1.8933030646992055,
           -1.9315195753151957,
           -1.9696141939176357,
           -1.9653777401448866,
           -1.881195357480123,
           -1.8938353109108752,
           -1.8268617791944364,
           -1.8837505303351718,
           -1.9110353965549878,
           -1.8878186461180055,
           -1.9527534031321174,
           -1.9097404692758033,
           -1.9827963368061992,
           -1.8633792478086273,
           -1.9438175164888138,
           -1.929801269551508,
           -1.8768621067902764,
           -1.9105012360717997,
           -1.821832419733751
          ],
          [
           -2,
           -2,
           -2,
           -2,
           -2,
           -2,
           -1.9870284877829074,
           -2,
           -2,
           -1.950411093069409,
           -1.9933187180290217,
           -1.92523178147742,
           -1.9330715688024274,
           -1.9402319002271189,
           -1.964021501942626,
           -1.977349141744824,
           -1.9817997977755308,
           -2,
           -2,
           -1.9858802646441827,
           -2,
           -1.9222764368064251,
           -1.9714605756586958,
           -1.9450577476591249,
           -1.9752487666192826,
           -1.9867283681131582,
           -1.9880557398805574,
           -1.9920913655402066,
           -1.9730548499388465,
           -1.9560118195387943,
           -2,
           -1.9410315850478121,
           -1.9786168858718711,
           -1.9197425705091804,
           -1.970700237444559,
           -1.9955507689048182,
           -1.992439957590006,
           -2,
           -1.9222764368064251,
           -1.958893003484015,
           -1.9553582541592334,
           -1.9498956158663883,
           -1.9737737809465803,
           -2
          ],
          [
           -1.9172996228820312,
           -1.8643828525716437,
           -1.8735395189003436,
           -1.9128019259768776,
           -1.89067904889526,
           -1.8372673367064265,
           -1.8169575498254702,
           -1.8989341502316515,
           -1.9347800119450527,
           -1.7999948452279697,
           -1.9041653617287817,
           -1.8107865616588574,
           -1.8425843298233089,
           -1.8932143284057856,
           -1.8997285645856619,
           -1.904795611396213,
           -1.927360970677452,
           -1.870396458039847,
           -1.9071197485258014,
           -1.8901081168307245,
           -1.9526899262170478,
           -1.8298717561207307,
           -1.871036867481615,
           -1.9092068349910738,
           -1.8427962204197674,
           -1.8845717279315464,
           -1.9014377350143774,
           -1.8814745440828324,
           -1.864897920782764,
           -1.8596277454534378,
           -1.959318404853243,
           -1.883367139959432,
           -1.8730589732711074,
           -1.834942267650956,
           -1.8974956319161327,
           -1.930295379508819,
           -1.8783017563269258,
           -1.9526899262170478,
           -1.8298717561207307,
           -1.9044634835769223,
           -1.9179355266979214,
           -1.8218038993666184,
           -1.8840600480097454,
           -1.9368519968676585
          ],
          [
           -1.5460774419716363,
           -0.9430144463789938,
           -0.9850818677986657,
           -0.9119288870075928,
           -0.6106142291751071,
           -1.175896884086174,
           -0.9257966445220134,
           -1.2278285526215853,
           -1.3137169022496515,
           -0.44057836542178874,
           0.5211399937362979,
           0.3650682883062508,
           0.726396573264322,
           0.08662389927082881,
           0.28325083825642716,
           -0.10794549637232365,
           -1.0663700707785644,
           -0.48339706178305497,
           -1.0029139802216462,
           -0.6525738260448604,
           -1.1562789662971338,
           0.0004317975732974766,
           -0.6897189889446256,
           0.041607461653367483,
           -0.5213925356077709,
           -0.9171396140749146,
           -1.149922583499226,
           -0.9154764692109576,
           -1.0324583686141688,
           -0.42629542754439953,
           0.17075564278704602,
           -0.4242248623587368,
           0.17955027577428906,
           0.07344311943971249,
           -0.8229021997222346,
           -1.0518900404315046,
           -0.9322823030470659,
           -1.1562789662971338,
           0.0004317975732974766,
           -0.7638977145737011,
           -0.7867070489150725,
           -0.7127136336293833,
           -1.0835154598545376,
           -0.7622239624119029
          ],
          [
           -1.9683964519041801,
           -1.9417439179332736,
           -1.944936325045482,
           -1.8788327733537924,
           -1.9151110972607435,
           -1.948258888710822,
           -1.9568517058889765,
           -1.9094660624319604,
           -1.9589886521998805,
           -1.9730920900023197,
           -1.9594947280509447,
           -2,
           -2,
           -2,
           -2,
           -2,
           -2,
           -1.987522640370296,
           -1.9731087809466994,
           -2,
           -1.9918430907270772,
           -2,
           -2,
           -2,
           -2,
           -2,
           -2,
           -2,
           -2,
           -2,
           -1.9801944865732892,
           -2,
           -2,
           -2,
           -2,
           -2,
           -1.9964043700732956,
           -1.9918430907270772,
           -2,
           -2,
           -2,
           -2,
           -2,
           -1.8200783085356305
          ],
          [
           -1.8843150794072343,
           -1.8281492635640675,
           -1.8331109763493025,
           -1.8327998095187703,
           -1.8283523949016798,
           -1.780855788823004,
           -1.7563337461997524,
           -1.8054634294539103,
           -1.7947043599442565,
           -1.5808139385035695,
           -1.7943417893308278,
           -1.7250523377529658,
           -1.7895770123148314,
           -1.8071482647328365,
           -1.777103624461121,
           -1.8672801274110777,
           -1.8259251769464104,
           -1.809015898571141,
           -1.866369914875066,
           -1.8857511699209295,
           -1.833005821067072,
           -1.7243404292067879,
           -1.8290556664880924,
           -1.593398185594054,
           -1.7544945229534241,
           -1.7700165895398585,
           -1.7828798938287989,
           -1.6502510471136085,
           -1.7375482171417818,
           -1.743138270326256,
           -1.8697475243108217,
           -1.8404810199942045,
           -1.8476028850233348,
           -1.6528487601741433,
           -1.6758209757627345,
           -1.7975246738113313,
           -1.6869958050984188,
           -1.833005821067072,
           -1.7243404292067879,
           -1.8555557990227227,
           -1.889972202630378,
           -1.700222922048052,
           -1.7588047723119917,
           -1.8519028974158183
          ],
          [
           -1.565517607691082,
           -0.8089972236600629,
           -1.2870022235698402,
           -0.5187967935659674,
           -1.3339773754246003,
           -1.36500377755901,
           -1.3988064407161356,
           -0.09979999493658043,
           -1.5358152498506867,
           -1.600298976777752,
           -0.8263910637853638,
           -1.2892034692453396,
           -1.641442084597537,
           -1.745786348966012,
           -1.557826387780084,
           -1.70076092726951,
           -1.6374519716885743,
           -0.8096196417790298,
           -1.6405020306082647,
           -1.7129256091657254,
           -1.8393088873234213,
           -0.858672654259683,
           -1.5887595577850289,
           -1.5084344372791199,
           -1.2113052930847061,
           -1.3697721121103639,
           -1.2548551205485512,
           -1.1170425869559564,
           -1.5736946090883432,
           -0.9096780089560423,
           -1.0466589347845483,
           -1.5334685598377282,
           -0.4454815443360203,
           -1.0176036342986938,
           -1.2256619327091078,
           -1.5999223150126238,
           -1.4007283455492554,
           -1.8393088873234213,
           -0.858672654259683,
           -1.6171527488660518,
           -1.7086669709164835,
           -1.0543859028342948,
           -1.662498656443696,
           0.43445575567736894
          ],
          [
           2,
           2,
           2,
           2,
           2,
           2,
           2,
           2,
           2,
           2,
           2,
           1.7320307048150734,
           2,
           2,
           1.9225078503379645,
           0.6625376039639002,
           2,
           2,
           2,
           2,
           2,
           2,
           2,
           2,
           2,
           2,
           1.685379340853793,
           2,
           2,
           2,
           1.9425461682576501,
           2,
           2,
           2,
           2,
           2,
           2,
           2,
           2,
           2,
           2,
           2,
           2,
           2
          ],
          [
           -1.3593774897753226,
           -0.831019716719213,
           -1.235496260359814,
           -0.184608058414244,
           -0.31344074293371604,
           -1.0418278806749237,
           -1.1246931651841008,
           -0.7055874832274236,
           -0.9052757316344813,
           0.4816103507822369,
           -0.037582211086752526,
           -0.40195394277738994,
           -0.7169373549883993,
           0.5969637805315378,
           -0.5280749374634093,
           -0.6995222084586801,
           -0.6404044489383216,
           -0.7605151942040651,
           -0.5910102562925912,
           -1.2631918670324351,
           -1.1136405769159468,
           -0.07314650891661967,
           -0.7161155213558661,
           0.5752905599883404,
           -0.6997798032165452,
           -0.6902994848511306,
           2,
           0.5995473347381566,
           -0.824273214789726,
           -0.4138666341730892,
           -0.6960478187171024,
           -0.481744421906694,
           0.15120916419176922,
           0.40204429301533207,
           -0.864298194525335,
           -1.140521548756157,
           -1.0460517217535612,
           -1.1136405769159468,
           -0.07314650891661967,
           -0.5415342813944826,
           -0.9826162718333815,
           -0.2798910158876191,
           -0.6641109240084553,
           -0.44109631949882533
          ],
          [
           -1.6728103255962181,
           -1.5549385911251234,
           -1.542025469981807,
           -1.4272864361491044,
           -1.2843653588457105,
           -1.5502644291307035,
           -1.499425740344556,
           -1.6680422289171877,
           -1.6395779414692415,
           -0.880898992242068,
           -0.8217976824303164,
           -0.8844581796431064,
           -1.7397822595038372,
           -1.817348687094075,
           -1.803927830113364,
           -1.8486993452486287,
           -1.8718705763397372,
           -0.8255182129201046,
           -1.3121171098822937,
           -1.1918670324350493,
           -1.504801453412925,
           -0.783021719417937,
           -1.2567087128037793,
           -0.6558822457827815,
           -1.0936811885051703,
           -1.3282109490963065,
           -1.6820172528201727,
           -1.4652306251463356,
           -1.4510866497318657,
           -1.2090657081061322,
           -1.2040324739048978,
           -1.0488264271225733,
           -1.018582944420874,
           -0.7276168843460156,
           -0.9542583217597778,
           -0.7660799096029236,
           -1.0386760706218596,
           -1.504801453412925,
           -0.783021719417937,
           -1.4054823936718015,
           -1.3375098535452017,
           -0.9802200912918864,
           -1.0079896814875855,
           -1.3554894283476897
          ],
          [
           -1.4603494980612948,
           -1.2969742600348217,
           -1.2038002829997978,
           -1.3255906240905844,
           -1.3272460967932938,
           -1.333501224844891,
           -1.0615471230717262,
           -1.430061520544824,
           -1.394545092574159,
           -1.2414237480347432,
           -0.2551414552667295,
           -0.5638520586182831,
           -0.4738532928788153,
           -1.0746304339164043,
           -0.914897014210442,
           -1.1403291452840207,
           -1.4816582406471182,
           -0.5761722680619843,
           -1.3195512011564143,
           -1.3144263353235437,
           -1.347818026769493,
           -0.4840450796666522,
           -0.9618662640627282,
           -0.9441469013006887,
           -1.0830894444908994,
           -1.3884571727931545,
           -1.2540588365405885,
           -1.0912354639818935,
           -1.5553297582086745,
           -0.8928625826301522,
           -0.7103220626282452,
           -0.8154158215010143,
           -0.06465846414934218,
           -0.3545334090478893,
           -1.3881994534295057,
           -1.4901746146648067,
           -1.298852164292629,
           -1.347818026769493,
           -0.4840450796666522,
           -0.9902929640423341,
           -1.0996141559142014,
           -1.1098687236828138,
           -1.3356024506466984,
           -1.2258104933437743
          ],
          [
           -1.211929675466086,
           -0.699825890546327,
           -1.0302001212856275,
           -0.9375380301066165,
           -0.9140203808158562,
           -0.9138945488678769,
           -0.5072852156288705,
           -1.0092913744651761,
           -1.4033047979295241,
           -1.2259594319441223,
           -0.3136026725127885,
           -0.31841291994816046,
           1.8527574513653398,
           1.2787982627405667,
           2,
           2,
           -1.1412740141557127,
           -0.3272288186757899,
           -1.564600876488539,
           -1.4797482652896563,
           -1.504949760854251,
           -0.32427997754652615,
           -1.0733940486046851,
           -0.056035267970999,
           -1.1731750146333306,
           -1.4336854972496287,
           -0.9264322052643221,
           -0.5487655766279038,
           -0.6385172640888135,
           -0.8341304414049413,
           -0.24194843429387114,
           -0.8513474355259347,
           0.08485362749257552,
           0.07533598334279779,
           -1.4127503248062363,
           -1.3461042744398735,
           -1.3143410316692021,
           -1.504949760854251,
           -0.32427997754652615,
           -1.1105462672831257,
           -1.3425714641330955,
           -1.073351969144758,
           -1.5782308050589373,
           -1.2184181675802663
          ],
          [
           -1.9107133372284484,
           -1.8603359841889793,
           -1.8053769961592885,
           -1.8442286832985,
           -1.847299697715728,
           -1.9230751619771516,
           -1.8626280824231505,
           -1.912200308868579,
           -1.8804698387417877,
           -0.8765689837366941,
           -1.267982044054703,
           -1.321303957731034,
           -1.5680885240049973,
           -1.6936685659640593,
           -1.5908244185427645,
           -1.7487170412316404,
           -1.8207482305358949,
           -1.3050915677198631,
           -1.548447789275635,
           -1.546070679360981,
           -1.7156204812576472,
           -1.4403903450062612,
           -1.585447815711294,
           -1.6744270776405437,
           -1.433174457173119,
           -1.3797258360254954,
           -1.6199955761999558,
           -1.657223132755795,
           -1.8510490168407188,
           -1.493343893746002,
           -1.296101347131769,
           -1.541292379020574,
           -1.3481544336020366,
           -1.5557448419458642,
           -1.3026298104923613,
           -1.710234997086813,
           -1.6395150509380907,
           -1.7156204812576472,
           -1.4403903450062612,
           -1.4083747836185552,
           -1.4092851512259883,
           -1.5063161246948091,
           -1.6028805847157035,
           -1.6154737666405639
          ],
          [
           -1.8888298719923513,
           -1.7971860147757752,
           -1.806913280776228,
           -1.7450726209688088,
           -1.6914830627317772,
           -1.8170287781313674,
           -1.8421799346920391,
           -1.755436846502443,
           -1.8076846506072068,
           -1.7758705121266012,
           -1.4581897901659882,
           -1.4267769913268866,
           -1.5225771907906478,
           -1.611427660676575,
           -1.54079514609612,
           -1.6204211643956823,
           -1.7241658240647117,
           -1.619641779029986,
           -1.4543744120413924,
           -1.5340487332580282,
           -1.6477698268510623,
           -1.3419404982943997,
           -1.5563239662981543,
           -1.3055707363281963,
           -1.197034311676004,
           -1.3614773421810877,
           -1.740853793408538,
           -1.5488956528525715,
           -1.540050804403048,
           -1.4232796173881257,
           -1.7270050851993934,
           -1.7586206896551724,
           -1.5068307170131523,
           -1.4137800492144614,
           -1.5754670489673401,
           -1.6155299352036583,
           -1.519015350573918,
           -1.6477698268510623,
           -1.3419404982943997,
           -1.5692968424743081,
           -1.6727378334647138,
           -1.3218923604967978,
           -1.4961126437605246,
           -1.6395301487862177
          ],
          [
           -1.70956604875976,
           -1.4404969177921036,
           -1.3835455831817263,
           -1.670996587211302,
           -1.2514568855371002,
           -1.5050252981982188,
           -1.2381038171377097,
           -1.4531507126762704,
           -1.5934700378260005,
           -0.3064511971958037,
           -0.8731600375822111,
           -0.15352407536636425,
           -0.7506692843119758,
           -1.195122923058533,
           -0.7064771941029322,
           -1.0306140506105115,
           -1.525015166835187,
           -0.9366069631716643,
           -1.0153041323451806,
           -1.4621591092464095,
           -0.8553631678469467,
           -0.6223930221512153,
           -0.6410168996249939,
           -0.7657667504645318,
           -0.768124425119157,
           -0.9008120143193921,
           -1.210351692103517,
           -0.9353521163401752,
           -0.9742026531188257,
           -0.5039144606573858,
           -1.366045142296369,
           -1.5757751376412634,
           -0.43071701315231237,
           -0.23850085178875635,
           -0.9541687200394247,
           -1.3112166528363849,
           -0.9946987507490896,
           -0.8553631678469467,
           -0.6223930221512153,
           -1.3449175011503824,
           -1.15877691573663,
           -0.6246771168748455,
           -0.9930135072193758,
           -1.1649177760375882
          ],
          [
           -1.9368460190152441,
           -1.9104983294903768,
           -1.8539721043056399,
           -1.922855101986825,
           -1.9000280469942972,
           -1.9048513015407862,
           -1.861006643396014,
           -1.921618268816932,
           -1.9053951821620545,
           -1.6590633779221113,
           -1.825242718446602,
           -1.7776891635928622,
           -1.9400321256469748,
           -1.916643423516755,
           -1.9582734578742882,
           -1.9768182622544683,
           -1.9192719919110213,
           -1.8804588448379955,
           -1.8298419108367943,
           -1.7623850250121027,
           -1.850061176819547,
           -1.712077378125135,
           -1.796035649929382,
           -1.5987903960359966,
           -1.7159182763330267,
           -1.7856456823539684,
           -1.8810882548108825,
           -1.8490075184057857,
           -1.8628657446608337,
           -1.8263624455478722,
           -1.8572575608885717,
           -1.8339611706751666,
           -1.8092490453966907,
           -1.7421919363997729,
           -1.7505488105371623,
           -1.6254877381309698,
           -1.7113354538330336,
           -1.850061176819547,
           -1.712077378125135,
           -1.8166400070118545,
           -1.8093183421150894,
           -1.7275397190474506,
           -1.7498477302855506,
           -1.796523101018011
          ],
          [
           -1.9336059913953365,
           -1.9232977271657805,
           -1.948817465130382,
           -1.9843382100055558,
           -1.9218423758920502,
           -1.9155658325511116,
           -1.8814547911271253,
           -1.9496696118889085,
           -1.9051562811069083,
           -1.885254774607593,
           -2,
           -1.9124713388495664,
           -1.9978582902016777,
           -1.9614296529465673,
           -1.9836074298791846,
           -1.9685011502388958,
           -1.947098078867543,
           -1.98712014489837,
           -1.9731087809466994,
           -1.970308213651767,
           -1.963812984316488,
           -1.8961958633792477,
           -1.929089757950616,
           -1.9240718475607534,
           -1.8896228781670708,
           -1.8940015716406182,
           -1.9570006635700066,
           -1.9524441322615051,
           -1.9181108288644275,
           -1.9071496024613885,
           -1.9821571951110715,
           -1.9576934221964648,
           -1.9236317352566823,
           -1.9095211054325194,
           -1.942117288651942,
           -1.9800137714295802,
           -1.967362743742221,
           -1.963812984316488,
           -1.8961958633792477,
           -1.9205031005543747,
           -1.9530348919221674,
           -1.8954035596758785,
           -1.9236143455985095,
           -1.9789506656225528
          ],
          [
           -0.9768948850055772,
           -0.5475507034963059,
           -0.7642611683848795,
           -0.49392841080451877,
           -0.574963383090779,
           -0.5391606950708576,
           -0.6636640018015989,
           -0.4400617737157899,
           -0.7272944455504677,
           -1.3955514317379314,
           -0.039670111702682975,
           -0.1935998404944672,
           0.059967874353024975,
           0.13555405028489442,
           0.6653893235403698,
           -0.17306671385595496,
           -0.4203842264914053,
           -0.5097605151942042,
           -1.4401486818254825,
           -1.455220267871551,
           -1.3082940936561491,
           0.4403471652489319,
           -0.9901134758681149,
           -1.200786971253689,
           -0.8771636424450204,
           -0.9598358508687679,
           -0.7908869719088696,
           -0.19194047711959206,
           -0.28348856900931385,
           -0.3948578913699088,
           -0.9767151396199483,
           -0.6435815705592582,
           -0.1411964361476452,
           0.36835131554041256,
           -1.4913310335558443,
           -1.700489062306891,
           -0.8356612732217767,
           -1.3082940936561491,
           0.4403471652489319,
           -1.1910949448912067,
           -1.4034767456333235,
           -0.748098085701143,
           -1.5286446204005588,
           -0.8266249021143306
          ],
          [
           -1.943591650289478,
           -1.9167098018916757,
           -1.9050737820901555,
           -1.8923781052408795,
           -1.9446539312537006,
           -1.9351633508093133,
           -1.883256390046166,
           -1.9275931036228766,
           -1.9401951025283695,
           -1.7614371504420216,
           -1.8394404426349307,
           -1.7920446615491974,
           -1.9191504551133323,
           -1.913933936327051,
           -1.968279312363617,
           -1.9646080339762875,
           -1.9446713852376138,
           -1.9207083920305896,
           -1.9345616410068145,
           -1.845893174116508,
           -1.962774832227207,
           -1.7400578608748218,
           -1.8671407003360443,
           -1.783437169818195,
           -1.7630794102070966,
           -1.8260717715882302,
           -1.8895819508958196,
           -1.9079060329353001,
           -1.8796500141123342,
           -1.8657202912236879,
           -1.9311267731287358,
           -1.847870182555781,
           -1.8708527789563003,
           -1.7452205186447094,
           -1.906814210832848,
           -1.8739384523031832,
           -1.7909924860554096,
           -1.962774832227207,
           -1.7400578608748218,
           -1.846528036461643,
           -1.8647471269136622,
           -1.8229362018329147,
           -1.8470137221883844,
           -1.9349725920125294
          ],
          [
           -1.2602113985233971,
           -0.36581807914921627,
           -1.0014958560743885,
           -0.4269425117066592,
           -0.33675091152731484,
           -0.5724032143593027,
           -0.12003152798108307,
           -0.6576875363933263,
           -0.9822018713915985,
           1.4749349210031193,
           1.996868149076104,
           2,
           1.4752810994110295,
           0.5446866159301909,
           0.5868327212730859,
           0.10652981773137471,
           -0.6810111223458037,
           1.1599919500905616,
           -1.0543101668081594,
           -0.9689365822172018,
           -0.29261058173593857,
           1.4350360550973709,
           -0.32026493936589895,
           1.6025795168870909,
           -0.5120272040583103,
           -0.7923688116650658,
           -0.23118779031187797,
           0.4070345222300267,
           0.0030482641828966095,
           0.19027020440491027,
           2,
           0.9787018255578088,
           1.164022061943148,
           1.4959303426083665,
           -0.4927198602213161,
           -0.8275922950617063,
           -0.24699211727285308,
           -0.29261058173593857,
           1.4350360550973709,
           -0.06262462475622854,
           0.03858440857984524,
           0.36637061675099947,
           -0.6553688509906488,
           0.7079718089271734
          ],
          [
           -1.9720614011791575,
           -1.9942590936897087,
           -1.936931473620376,
           -1.9234900394190322,
           -1.9609835146000187,
           -1.9870876164747362,
           -2,
           -1.9583786931314717,
           -1.9579534142942465,
           -2,
           -1.954692556634304,
           -1.9240354899810588,
           -1.8957701231483135,
           -1.914412081125234,
           -1.893980520517324,
           -1.946912050964431,
           -1.950010111223458,
           -1.9643791507345543,
           -1.9104237890920772,
           -1.8807487493948685,
           -1.9237699751585036,
           -1.8393713027332788,
           -1.8768811181999707,
           -1.8541188472328487,
           -1.84223876020849,
           -1.8747926307517682,
           -1.9414288874142889,
           -1.9226826920575457,
           -1.9126164267569856,
           -1.8450056356048374,
           -1.9793023463288428,
           -1.9986960301361925,
           -1.9146372507424692,
           -1.8493280333144047,
           -1.8874602392365933,
           -1.9247868076766892,
           -1.9604480708062508,
           -1.9237699751585036,
           -1.8393713027332788,
           -1.8737866205052918,
           -1.8962784715595569,
           -1.8586037295212483,
           -1.902690695424743,
           -1.9105403288958496
          ],
          [
           -1.459552769958039,
           -1.1570279045691967,
           -1.468041237113402,
           -1.3014630016667108,
           -1.2624263766399701,
           -1.1197600677671191,
           -1.0775813534511878,
           -1.091318767563736,
           -1.344774039418674,
           -1.1960617541689218,
           -0.9483244597557157,
           -0.5889741800418702,
           -1.1144029983937176,
           -1.2160019125791928,
           -0.8961626483580816,
           -1.2866749247920723,
           -1.5746814964610718,
           -0.85771785067418,
           -1.7070417364568755,
           -1.732128449249637,
           -1.5108820585072857,
           -0.8196381536335764,
           -1.3994058345103007,
           -1.2526687798302183,
           -1.6166903587256458,
           -1.6301405745219593,
           -1.440831674408317,
           -1.122037513983194,
           -1.317790949289679,
           -1.0897736619246352,
           -1.2577393166205728,
           -1.1173572877426834,
           -0.8772168010182433,
           -0.708688245315162,
           -1.4364051789794363,
           -1.7942760288846908,
           -1.5405891301341446,
           -1.5108820585072857,
           -0.8196381536335764,
           -1.4320397922738128,
           -1.6400448077002863,
           -1.0539612894094337,
           -1.5591702196266706,
           -1.5247611589663275
          ],
          [
           -1.8329526743506666,
           -1.7734694837889982,
           -1.7317161916312918,
           -1.7677187227175322,
           -1.7506933840256786,
           -1.7556720620893336,
           -1.685530908681455,
           -1.7922985392035242,
           -1.7385626119848696,
           -1.1285342405732108,
           -1.6358701325816891,
           -1.4818064001595055,
           -1.8347313938961272,
           -1.8371120054189745,
           -1.8707754537229229,
           -1.851353742700407,
           -1.8450960566228514,
           -1.6488227007446166,
           -1.7263153064268177,
           -1.7198644505405842,
           -1.7222943161173112,
           -1.3833930653309727,
           -1.6240198704524424,
           -1.4661711662476775,
           -1.3921453856231012,
           -1.519339910940365,
           -1.7273169652731697,
           -1.5278753349462786,
           -1.4771286104054944,
           -1.6104426234502087,
           -1.8040860023195646,
           -1.69327731092437,
           -1.5507848960543065,
           -1.4177550634109408,
           -1.6752833654406165,
           -1.599286710570455,
           -1.2603143871294888,
           -1.7222943161173112,
           -1.3833930653309727,
           -1.590332405723426,
           -1.6844376218727959,
           -1.4413502706910584,
           -1.5790906810934757,
           -1.5481910728269381
          ],
          [
           -1.4204068624847292,
           -1.0600912898216555,
           -1.3748130179907014,
           -1.2858012116722666,
           -0.6654616846894577,
           -1.0379816387737812,
           -0.7933791239725254,
           -1.1483328691865617,
           -1.038901055146327,
           -0.3892368360009275,
           -0.11984549535442124,
           0.6699232379623168,
           -1.3043012671782974,
           -1.394668685500259,
           -1.1967640640800465,
           -1.572288090603433,
           -1.7882305358948432,
           0.2680619843026766,
           -0.9841910836794165,
           -1.300871389381959,
           -1.2787067591116386,
           -0.3418973185370697,
           -0.7377392490137826,
           -0.6968338980580757,
           -1.3774284360453772,
           -1.5461451148170784,
           -0.9813758018137582,
           -0.35729337391711535,
           -0.605851914573337,
           -0.5274316873305513,
           -0.6062985101257918,
           -0.46203998840915683,
           -0.16597369537547713,
           -0.11186825667234523,
           -1.0728013977868374,
           -1.5088896343508889,
           -1.3347162679205273,
           -1.2787067591116386,
           -0.3418973185370697,
           -0.9225409207441331,
           -1.2180226527818112,
           -0.15448851774530303,
           -1.132026799469743,
           -1.2576350822239624
          ]
         ]
        }
       ],
       "layout": {
        "height": 900,
        "template": {
         "data": {
          "bar": [
           {
            "error_x": {
             "color": "#2a3f5f"
            },
            "error_y": {
             "color": "#2a3f5f"
            },
            "marker": {
             "line": {
              "color": "#E5ECF6",
              "width": 0.5
             },
             "pattern": {
              "fillmode": "overlay",
              "size": 10,
              "solidity": 0.2
             }
            },
            "type": "bar"
           }
          ],
          "barpolar": [
           {
            "marker": {
             "line": {
              "color": "#E5ECF6",
              "width": 0.5
             },
             "pattern": {
              "fillmode": "overlay",
              "size": 10,
              "solidity": 0.2
             }
            },
            "type": "barpolar"
           }
          ],
          "carpet": [
           {
            "aaxis": {
             "endlinecolor": "#2a3f5f",
             "gridcolor": "white",
             "linecolor": "white",
             "minorgridcolor": "white",
             "startlinecolor": "#2a3f5f"
            },
            "baxis": {
             "endlinecolor": "#2a3f5f",
             "gridcolor": "white",
             "linecolor": "white",
             "minorgridcolor": "white",
             "startlinecolor": "#2a3f5f"
            },
            "type": "carpet"
           }
          ],
          "choropleth": [
           {
            "colorbar": {
             "outlinewidth": 0,
             "ticks": ""
            },
            "type": "choropleth"
           }
          ],
          "contour": [
           {
            "colorbar": {
             "outlinewidth": 0,
             "ticks": ""
            },
            "colorscale": [
             [
              0,
              "#0d0887"
             ],
             [
              0.1111111111111111,
              "#46039f"
             ],
             [
              0.2222222222222222,
              "#7201a8"
             ],
             [
              0.3333333333333333,
              "#9c179e"
             ],
             [
              0.4444444444444444,
              "#bd3786"
             ],
             [
              0.5555555555555556,
              "#d8576b"
             ],
             [
              0.6666666666666666,
              "#ed7953"
             ],
             [
              0.7777777777777778,
              "#fb9f3a"
             ],
             [
              0.8888888888888888,
              "#fdca26"
             ],
             [
              1,
              "#f0f921"
             ]
            ],
            "type": "contour"
           }
          ],
          "contourcarpet": [
           {
            "colorbar": {
             "outlinewidth": 0,
             "ticks": ""
            },
            "type": "contourcarpet"
           }
          ],
          "heatmap": [
           {
            "colorbar": {
             "outlinewidth": 0,
             "ticks": ""
            },
            "colorscale": [
             [
              0,
              "#0d0887"
             ],
             [
              0.1111111111111111,
              "#46039f"
             ],
             [
              0.2222222222222222,
              "#7201a8"
             ],
             [
              0.3333333333333333,
              "#9c179e"
             ],
             [
              0.4444444444444444,
              "#bd3786"
             ],
             [
              0.5555555555555556,
              "#d8576b"
             ],
             [
              0.6666666666666666,
              "#ed7953"
             ],
             [
              0.7777777777777778,
              "#fb9f3a"
             ],
             [
              0.8888888888888888,
              "#fdca26"
             ],
             [
              1,
              "#f0f921"
             ]
            ],
            "type": "heatmap"
           }
          ],
          "heatmapgl": [
           {
            "colorbar": {
             "outlinewidth": 0,
             "ticks": ""
            },
            "colorscale": [
             [
              0,
              "#0d0887"
             ],
             [
              0.1111111111111111,
              "#46039f"
             ],
             [
              0.2222222222222222,
              "#7201a8"
             ],
             [
              0.3333333333333333,
              "#9c179e"
             ],
             [
              0.4444444444444444,
              "#bd3786"
             ],
             [
              0.5555555555555556,
              "#d8576b"
             ],
             [
              0.6666666666666666,
              "#ed7953"
             ],
             [
              0.7777777777777778,
              "#fb9f3a"
             ],
             [
              0.8888888888888888,
              "#fdca26"
             ],
             [
              1,
              "#f0f921"
             ]
            ],
            "type": "heatmapgl"
           }
          ],
          "histogram": [
           {
            "marker": {
             "pattern": {
              "fillmode": "overlay",
              "size": 10,
              "solidity": 0.2
             }
            },
            "type": "histogram"
           }
          ],
          "histogram2d": [
           {
            "colorbar": {
             "outlinewidth": 0,
             "ticks": ""
            },
            "colorscale": [
             [
              0,
              "#0d0887"
             ],
             [
              0.1111111111111111,
              "#46039f"
             ],
             [
              0.2222222222222222,
              "#7201a8"
             ],
             [
              0.3333333333333333,
              "#9c179e"
             ],
             [
              0.4444444444444444,
              "#bd3786"
             ],
             [
              0.5555555555555556,
              "#d8576b"
             ],
             [
              0.6666666666666666,
              "#ed7953"
             ],
             [
              0.7777777777777778,
              "#fb9f3a"
             ],
             [
              0.8888888888888888,
              "#fdca26"
             ],
             [
              1,
              "#f0f921"
             ]
            ],
            "type": "histogram2d"
           }
          ],
          "histogram2dcontour": [
           {
            "colorbar": {
             "outlinewidth": 0,
             "ticks": ""
            },
            "colorscale": [
             [
              0,
              "#0d0887"
             ],
             [
              0.1111111111111111,
              "#46039f"
             ],
             [
              0.2222222222222222,
              "#7201a8"
             ],
             [
              0.3333333333333333,
              "#9c179e"
             ],
             [
              0.4444444444444444,
              "#bd3786"
             ],
             [
              0.5555555555555556,
              "#d8576b"
             ],
             [
              0.6666666666666666,
              "#ed7953"
             ],
             [
              0.7777777777777778,
              "#fb9f3a"
             ],
             [
              0.8888888888888888,
              "#fdca26"
             ],
             [
              1,
              "#f0f921"
             ]
            ],
            "type": "histogram2dcontour"
           }
          ],
          "mesh3d": [
           {
            "colorbar": {
             "outlinewidth": 0,
             "ticks": ""
            },
            "type": "mesh3d"
           }
          ],
          "parcoords": [
           {
            "line": {
             "colorbar": {
              "outlinewidth": 0,
              "ticks": ""
             }
            },
            "type": "parcoords"
           }
          ],
          "pie": [
           {
            "automargin": true,
            "type": "pie"
           }
          ],
          "scatter": [
           {
            "fillpattern": {
             "fillmode": "overlay",
             "size": 10,
             "solidity": 0.2
            },
            "type": "scatter"
           }
          ],
          "scatter3d": [
           {
            "line": {
             "colorbar": {
              "outlinewidth": 0,
              "ticks": ""
             }
            },
            "marker": {
             "colorbar": {
              "outlinewidth": 0,
              "ticks": ""
             }
            },
            "type": "scatter3d"
           }
          ],
          "scattercarpet": [
           {
            "marker": {
             "colorbar": {
              "outlinewidth": 0,
              "ticks": ""
             }
            },
            "type": "scattercarpet"
           }
          ],
          "scattergeo": [
           {
            "marker": {
             "colorbar": {
              "outlinewidth": 0,
              "ticks": ""
             }
            },
            "type": "scattergeo"
           }
          ],
          "scattergl": [
           {
            "marker": {
             "colorbar": {
              "outlinewidth": 0,
              "ticks": ""
             }
            },
            "type": "scattergl"
           }
          ],
          "scattermapbox": [
           {
            "marker": {
             "colorbar": {
              "outlinewidth": 0,
              "ticks": ""
             }
            },
            "type": "scattermapbox"
           }
          ],
          "scatterpolar": [
           {
            "marker": {
             "colorbar": {
              "outlinewidth": 0,
              "ticks": ""
             }
            },
            "type": "scatterpolar"
           }
          ],
          "scatterpolargl": [
           {
            "marker": {
             "colorbar": {
              "outlinewidth": 0,
              "ticks": ""
             }
            },
            "type": "scatterpolargl"
           }
          ],
          "scatterternary": [
           {
            "marker": {
             "colorbar": {
              "outlinewidth": 0,
              "ticks": ""
             }
            },
            "type": "scatterternary"
           }
          ],
          "surface": [
           {
            "colorbar": {
             "outlinewidth": 0,
             "ticks": ""
            },
            "colorscale": [
             [
              0,
              "#0d0887"
             ],
             [
              0.1111111111111111,
              "#46039f"
             ],
             [
              0.2222222222222222,
              "#7201a8"
             ],
             [
              0.3333333333333333,
              "#9c179e"
             ],
             [
              0.4444444444444444,
              "#bd3786"
             ],
             [
              0.5555555555555556,
              "#d8576b"
             ],
             [
              0.6666666666666666,
              "#ed7953"
             ],
             [
              0.7777777777777778,
              "#fb9f3a"
             ],
             [
              0.8888888888888888,
              "#fdca26"
             ],
             [
              1,
              "#f0f921"
             ]
            ],
            "type": "surface"
           }
          ],
          "table": [
           {
            "cells": {
             "fill": {
              "color": "#EBF0F8"
             },
             "line": {
              "color": "white"
             }
            },
            "header": {
             "fill": {
              "color": "#C8D4E3"
             },
             "line": {
              "color": "white"
             }
            },
            "type": "table"
           }
          ]
         },
         "layout": {
          "annotationdefaults": {
           "arrowcolor": "#2a3f5f",
           "arrowhead": 0,
           "arrowwidth": 1
          },
          "autotypenumbers": "strict",
          "coloraxis": {
           "colorbar": {
            "outlinewidth": 0,
            "ticks": ""
           }
          },
          "colorscale": {
           "diverging": [
            [
             0,
             "#8e0152"
            ],
            [
             0.1,
             "#c51b7d"
            ],
            [
             0.2,
             "#de77ae"
            ],
            [
             0.3,
             "#f1b6da"
            ],
            [
             0.4,
             "#fde0ef"
            ],
            [
             0.5,
             "#f7f7f7"
            ],
            [
             0.6,
             "#e6f5d0"
            ],
            [
             0.7,
             "#b8e186"
            ],
            [
             0.8,
             "#7fbc41"
            ],
            [
             0.9,
             "#4d9221"
            ],
            [
             1,
             "#276419"
            ]
           ],
           "sequential": [
            [
             0,
             "#0d0887"
            ],
            [
             0.1111111111111111,
             "#46039f"
            ],
            [
             0.2222222222222222,
             "#7201a8"
            ],
            [
             0.3333333333333333,
             "#9c179e"
            ],
            [
             0.4444444444444444,
             "#bd3786"
            ],
            [
             0.5555555555555556,
             "#d8576b"
            ],
            [
             0.6666666666666666,
             "#ed7953"
            ],
            [
             0.7777777777777778,
             "#fb9f3a"
            ],
            [
             0.8888888888888888,
             "#fdca26"
            ],
            [
             1,
             "#f0f921"
            ]
           ],
           "sequentialminus": [
            [
             0,
             "#0d0887"
            ],
            [
             0.1111111111111111,
             "#46039f"
            ],
            [
             0.2222222222222222,
             "#7201a8"
            ],
            [
             0.3333333333333333,
             "#9c179e"
            ],
            [
             0.4444444444444444,
             "#bd3786"
            ],
            [
             0.5555555555555556,
             "#d8576b"
            ],
            [
             0.6666666666666666,
             "#ed7953"
            ],
            [
             0.7777777777777778,
             "#fb9f3a"
            ],
            [
             0.8888888888888888,
             "#fdca26"
            ],
            [
             1,
             "#f0f921"
            ]
           ]
          },
          "colorway": [
           "#636efa",
           "#EF553B",
           "#00cc96",
           "#ab63fa",
           "#FFA15A",
           "#19d3f3",
           "#FF6692",
           "#B6E880",
           "#FF97FF",
           "#FECB52"
          ],
          "font": {
           "color": "#2a3f5f"
          },
          "geo": {
           "bgcolor": "white",
           "lakecolor": "white",
           "landcolor": "#E5ECF6",
           "showlakes": true,
           "showland": true,
           "subunitcolor": "white"
          },
          "hoverlabel": {
           "align": "left"
          },
          "hovermode": "closest",
          "mapbox": {
           "style": "light"
          },
          "paper_bgcolor": "white",
          "plot_bgcolor": "#E5ECF6",
          "polar": {
           "angularaxis": {
            "gridcolor": "white",
            "linecolor": "white",
            "ticks": ""
           },
           "bgcolor": "#E5ECF6",
           "radialaxis": {
            "gridcolor": "white",
            "linecolor": "white",
            "ticks": ""
           }
          },
          "scene": {
           "xaxis": {
            "backgroundcolor": "#E5ECF6",
            "gridcolor": "white",
            "gridwidth": 2,
            "linecolor": "white",
            "showbackground": true,
            "ticks": "",
            "zerolinecolor": "white"
           },
           "yaxis": {
            "backgroundcolor": "#E5ECF6",
            "gridcolor": "white",
            "gridwidth": 2,
            "linecolor": "white",
            "showbackground": true,
            "ticks": "",
            "zerolinecolor": "white"
           },
           "zaxis": {
            "backgroundcolor": "#E5ECF6",
            "gridcolor": "white",
            "gridwidth": 2,
            "linecolor": "white",
            "showbackground": true,
            "ticks": "",
            "zerolinecolor": "white"
           }
          },
          "shapedefaults": {
           "line": {
            "color": "#2a3f5f"
           }
          },
          "ternary": {
           "aaxis": {
            "gridcolor": "white",
            "linecolor": "white",
            "ticks": ""
           },
           "baxis": {
            "gridcolor": "white",
            "linecolor": "white",
            "ticks": ""
           },
           "bgcolor": "#E5ECF6",
           "caxis": {
            "gridcolor": "white",
            "linecolor": "white",
            "ticks": ""
           }
          },
          "title": {
           "x": 0.05
          },
          "xaxis": {
           "automargin": true,
           "gridcolor": "white",
           "linecolor": "white",
           "ticks": "",
           "title": {
            "standoff": 15
           },
           "zerolinecolor": "white",
           "zerolinewidth": 2
          },
          "yaxis": {
           "automargin": true,
           "gridcolor": "white",
           "linecolor": "white",
           "ticks": "",
           "title": {
            "standoff": 15
           },
           "zerolinecolor": "white",
           "zerolinewidth": 2
          }
         }
        },
        "width": 1200,
        "xaxis": {
         "title": {
          "text": "Sample"
         }
        },
        "yaxis": {
         "title": {
          "text": "Gene"
         }
        }
       }
      }
     },
     "metadata": {},
     "output_type": "display_data"
    }
   ],
   "source": [
    "import numpy as np\n",
    "import pandas as pd\n",
    "import plotly.graph_objects as go\n",
    "\n",
    "def create_heatmap(df, color='Rdbu_r'):\n",
    "    # df第一列改名为gene_id\n",
    "    df = df.rename(columns={df.columns[0]: 'gene_id'})\n",
    "    # 提取gene_id作为索引\n",
    "    df = df.set_index('gene_id')\n",
    "    # 将数据进行归一化，范围-2到2\n",
    "    df_normalized = df.apply(lambda x: np.interp(x, (x.min(), x.max()), (-2, 2)))\n",
    "    \n",
    "    # 创建热图\n",
    "    fig = go.Figure(data=go.Heatmap(\n",
    "        z=df_normalized,\n",
    "        x=df_normalized.columns,\n",
    "        y=df_normalized.index,\n",
    "        colorscale=color,\n",
    "        hovertemplate='Sample: %{x}<br>Gene: %{y}<br>Exp: %{z:.3f}<extra></extra>'\n",
    "    ))\n",
    "    # 设置轴标签\n",
    "    fig.update_layout(\n",
    "        xaxis_title=\"Sample\",\n",
    "        yaxis_title=\"Gene\",\n",
    "        width=1200,\n",
    "        height=900,\n",
    "    )\n",
    "\n",
    "    return fig\n",
    "\n",
    "create_heatmap(df)"
   ]
  },
  {
   "cell_type": "markdown",
   "metadata": {},
   "source": [
    "### 添加聚类"
   ]
  },
  {
   "cell_type": "code",
   "execution_count": 16,
   "metadata": {},
   "outputs": [
    {
     "data": {
      "application/vnd.plotly.v1+json": {
       "config": {
        "plotlyServerURL": "https://plot.ly"
       },
       "data": [
        {
         "colorscale": [
          [
           0,
           "rgb(5,48,97)"
          ],
          [
           0.1,
           "rgb(33,102,172)"
          ],
          [
           0.2,
           "rgb(67,147,195)"
          ],
          [
           0.3,
           "rgb(146,197,222)"
          ],
          [
           0.4,
           "rgb(209,229,240)"
          ],
          [
           0.5,
           "rgb(247,247,247)"
          ],
          [
           0.6,
           "rgb(253,219,199)"
          ],
          [
           0.7,
           "rgb(244,165,130)"
          ],
          [
           0.8,
           "rgb(214,96,77)"
          ],
          [
           0.9,
           "rgb(178,24,43)"
          ],
          [
           1,
           "rgb(103,0,31)"
          ]
         ],
         "hovertemplate": "Sample: %{x}<br>Gene: %{y}<br>Exp: %{z:.3f}<extra></extra>",
         "type": "heatmap",
         "x": [
          "mt001001",
          "mt001002",
          "mt001003",
          "mt001004",
          "mt001005",
          "mt002001",
          "mt002002",
          "mt002003",
          "mt002004",
          "mt003001",
          "mt003002",
          "mt003003",
          "mt004001",
          "mt004002",
          "mt004003",
          "mt004004",
          "mt004005",
          "mt005002",
          "mt006001",
          "mt006006",
          "mt007001",
          "mt007002",
          "mt007003",
          "mt007004",
          "mt009001",
          "mt009002",
          "mt010001",
          "mt010002",
          "mt010003",
          "mt010004",
          "mt011004",
          "mt011005",
          "mt011006",
          "mt012001",
          "mt012007",
          "mt012009",
          "mt012011",
          "mt014001",
          "mt014002",
          "mt014003",
          "mt014004",
          "mt014005",
          "mt014006",
          "mt014012"
         ],
         "y": [
          "MYCTH_2297779",
          "MYCTH_2297068",
          "MYCTH_2046198",
          "MYCTH_100654",
          "MYCTH_2295254",
          "MYCTH_2296191",
          "MYCTH_2294864",
          "MYCTH_101588",
          "MYCTH_2296007",
          "MYCTH_2296558",
          "MYCTH_2294730",
          "MYCTH_2297482",
          "MYCTH_2300427",
          "MYCTH_2116523",
          "MYCTH_2300159",
          "MYCTH_2067869",
          "MYCTH_2295173",
          "MYCTH_2297709",
          "MYCTH_2145069",
          "MYCTH_2295800",
          "MYCTH_2298243",
          "MYCTH_2300282",
          "MYCTH_2073591",
          "MYCTH_2095122",
          "MYCTH_2127482",
          "MYCTH_2073265",
          "MYCTH_2299099",
          "MYCTH_2080075",
          "MYCTH_113886",
          "MYCTH_2297020"
         ],
         "z": [
          [
           2,
           2,
           2,
           2,
           2,
           2,
           2,
           2,
           2,
           2,
           2,
           1.7320307048150734,
           2,
           2,
           1.9225078503379645,
           0.6625376039639002,
           2,
           2,
           2,
           2,
           2,
           2,
           2,
           2,
           2,
           2,
           1.685379340853793,
           2,
           2,
           2,
           1.9425461682576501,
           2,
           2,
           2,
           2,
           2,
           2,
           2,
           2,
           2,
           2,
           2,
           2,
           2
          ],
          [
           -1.9683964519041801,
           -1.9417439179332736,
           -1.944936325045482,
           -1.8788327733537924,
           -1.9151110972607435,
           -1.948258888710822,
           -1.9568517058889765,
           -1.9094660624319604,
           -1.9589886521998805,
           -1.9730920900023197,
           -1.9594947280509447,
           -2,
           -2,
           -2,
           -2,
           -2,
           -2,
           -1.987522640370296,
           -1.9731087809466994,
           -2,
           -1.9918430907270772,
           -2,
           -2,
           -2,
           -2,
           -2,
           -2,
           -2,
           -2,
           -2,
           -1.9801944865732892,
           -2,
           -2,
           -2,
           -2,
           -2,
           -1.9964043700732956,
           -1.9918430907270772,
           -2,
           -2,
           -2,
           -2,
           -2,
           -1.8200783085356305
          ],
          [
           -1.9720614011791575,
           -1.9942590936897087,
           -1.936931473620376,
           -1.9234900394190322,
           -1.9609835146000187,
           -1.9870876164747362,
           -2,
           -1.9583786931314717,
           -1.9579534142942465,
           -2,
           -1.954692556634304,
           -1.9240354899810588,
           -1.8957701231483135,
           -1.914412081125234,
           -1.893980520517324,
           -1.946912050964431,
           -1.950010111223458,
           -1.9643791507345543,
           -1.9104237890920772,
           -1.8807487493948685,
           -1.9237699751585036,
           -1.8393713027332788,
           -1.8768811181999707,
           -1.8541188472328487,
           -1.84223876020849,
           -1.8747926307517682,
           -1.9414288874142889,
           -1.9226826920575457,
           -1.9126164267569856,
           -1.8450056356048374,
           -1.9793023463288428,
           -1.9986960301361925,
           -1.9146372507424692,
           -1.8493280333144047,
           -1.8874602392365933,
           -1.9247868076766892,
           -1.9604480708062508,
           -1.9237699751585036,
           -1.8393713027332788,
           -1.8737866205052918,
           -1.8962784715595569,
           -1.8586037295212483,
           -1.902690695424743,
           -1.9105403288958496
          ],
          [
           -1.9336059913953365,
           -1.9232977271657805,
           -1.948817465130382,
           -1.9843382100055558,
           -1.9218423758920502,
           -1.9155658325511116,
           -1.8814547911271253,
           -1.9496696118889085,
           -1.9051562811069083,
           -1.885254774607593,
           -2,
           -1.9124713388495664,
           -1.9978582902016777,
           -1.9614296529465673,
           -1.9836074298791846,
           -1.9685011502388958,
           -1.947098078867543,
           -1.98712014489837,
           -1.9731087809466994,
           -1.970308213651767,
           -1.963812984316488,
           -1.8961958633792477,
           -1.929089757950616,
           -1.9240718475607534,
           -1.8896228781670708,
           -1.8940015716406182,
           -1.9570006635700066,
           -1.9524441322615051,
           -1.9181108288644275,
           -1.9071496024613885,
           -1.9821571951110715,
           -1.9576934221964648,
           -1.9236317352566823,
           -1.9095211054325194,
           -1.942117288651942,
           -1.9800137714295802,
           -1.967362743742221,
           -1.963812984316488,
           -1.8961958633792477,
           -1.9205031005543747,
           -1.9530348919221674,
           -1.8954035596758785,
           -1.9236143455985095,
           -1.9789506656225528
          ],
          [
           -1.9835342858660434,
           -1.9776951672862453,
           -1.9393571861734384,
           -1.9271938411069076,
           -1.8992801271463742,
           -1.9654754000778407,
           -1.9891904064857562,
           -1.9693156788779462,
           -1.9608202269560024,
           -1.9945359416479806,
           -1.969725441069005,
           -1.9511514305652478,
           -1.8743530251650902,
           -1.9018209347730806,
           -1.907179732822396,
           -1.9247920721996108,
           -1.923963599595551,
           -1.9935600724491849,
           -1.917398985843104,
           -1.9100371147329354,
           -2,
           -1.8713243231573038,
           -1.9406808552086885,
           -1.9462236309979233,
           -1.8791426261950552,
           -1.8964463459355627,
           -1.984516699845167,
           -1.9703426207757746,
           -1.9577758961332203,
           -1.937977884058854,
           -1.9958961548755465,
           -1.9829035062300782,
           -1.9630038184132372,
           -1.8943781942078364,
           -1.9436405178979437,
           -1.9917371422518053,
           -2,
           -2,
           -1.8713243231573038,
           -1.9573153362403313,
           -1.9689665186906193,
           -1.9065850465305545,
           -1.9425316183583534,
           -1.9964917776037587
          ],
          [
           -2,
           -2,
           -2,
           -2,
           -2,
           -2,
           -1.9870284877829074,
           -2,
           -2,
           -1.950411093069409,
           -1.9933187180290217,
           -1.92523178147742,
           -1.9330715688024274,
           -1.9402319002271189,
           -1.964021501942626,
           -1.977349141744824,
           -1.9817997977755308,
           -2,
           -2,
           -1.9858802646441827,
           -2,
           -1.9222764368064251,
           -1.9714605756586958,
           -1.9450577476591249,
           -1.9752487666192826,
           -1.9867283681131582,
           -1.9880557398805574,
           -1.9920913655402066,
           -1.9730548499388465,
           -1.9560118195387943,
           -2,
           -1.9410315850478121,
           -1.9786168858718711,
           -1.9197425705091804,
           -1.970700237444559,
           -1.9955507689048182,
           -1.992439957590006,
           -2,
           -1.9222764368064251,
           -1.958893003484015,
           -1.9553582541592334,
           -1.9498956158663883,
           -1.9737737809465803,
           -2
          ],
          [
           -1.9153343602273332,
           -1.884523081266764,
           -1.9294117647058824,
           -1.8749173258551814,
           -1.8552775094269065,
           -1.8458755923899357,
           -1.8244341853394888,
           -1.8487050305071013,
           -1.905952617957396,
           -1.6978272635892677,
           -1.797473640254724,
           -1.70112650782574,
           -1.8358022487952883,
           -1.8699446148942105,
           -1.7983926765660758,
           -1.8333038400283135,
           -1.9165217391304348,
           -1.8472529684041055,
           -1.8674712617304912,
           -1.9043085363885752,
           -1.8508027140261762,
           -1.7443758366077982,
           -1.8788292017727561,
           -1.8698582723066273,
           -1.902332970984196,
           -1.9219418492971274,
           -1.911170095111701,
           -1.8313171518509848,
           -1.7888794806661021,
           -1.8988637402138484,
           -1.8483361584441074,
           -1.7699217618081715,
           -1.8268985999151464,
           -1.7696384629945108,
           -1.8786792706419964,
           -1.9142640230230055,
           -1.8346010233715946,
           -1.8508027140261762,
           -1.7443758366077982,
           -1.8532769463374017,
           -1.8137991121437165,
           -1.8348253777290258,
           -1.8595535810254022,
           -1.8485199686765856
          ],
          [
           -1.943591650289478,
           -1.9167098018916757,
           -1.9050737820901555,
           -1.8923781052408795,
           -1.9446539312537006,
           -1.9351633508093133,
           -1.883256390046166,
           -1.9275931036228766,
           -1.9401951025283695,
           -1.7614371504420216,
           -1.8394404426349307,
           -1.7920446615491974,
           -1.9191504551133323,
           -1.913933936327051,
           -1.968279312363617,
           -1.9646080339762875,
           -1.9446713852376138,
           -1.9207083920305896,
           -1.9345616410068145,
           -1.845893174116508,
           -1.962774832227207,
           -1.7400578608748218,
           -1.8671407003360443,
           -1.783437169818195,
           -1.7630794102070966,
           -1.8260717715882302,
           -1.8895819508958196,
           -1.9079060329353001,
           -1.8796500141123342,
           -1.8657202912236879,
           -1.9311267731287358,
           -1.847870182555781,
           -1.8708527789563003,
           -1.7452205186447094,
           -1.906814210832848,
           -1.8739384523031832,
           -1.7909924860554096,
           -1.962774832227207,
           -1.7400578608748218,
           -1.846528036461643,
           -1.8647471269136622,
           -1.8229362018329147,
           -1.8470137221883844,
           -1.9349725920125294
          ],
          [
           -1.9198491528124502,
           -1.8958166674509436,
           -1.9117040630685262,
           -1.8538585676869759,
           -1.907008632241578,
           -1.839923075161977,
           -1.9421686746987952,
           -1.844856831818527,
           -1.98048974716305,
           -1.8197891698239645,
           -1.9290113790583567,
           -1.868208553484199,
           -1.8256291272532572,
           -1.8882734988245606,
           -1.8192559476289318,
           -1.8602017342063353,
           -1.948715874620829,
           -1.9140672167438115,
           -1.9470435720349677,
           -1.9475552686783928,
           -1.9827963368061992,
           -1.8633792478086273,
           -1.969317683728632,
           -1.9153277225197654,
           -1.860411963096134,
           -1.8933030646992055,
           -1.9315195753151957,
           -1.9696141939176357,
           -1.9653777401448866,
           -1.881195357480123,
           -1.8938353109108752,
           -1.8268617791944364,
           -1.8837505303351718,
           -1.9110353965549878,
           -1.8878186461180055,
           -1.9527534031321174,
           -1.9097404692758033,
           -1.9827963368061992,
           -1.8633792478086273,
           -1.9438175164888138,
           -1.929801269551508,
           -1.8768621067902764,
           -1.9105012360717997,
           -1.821832419733751
          ],
          [
           -1.9172996228820312,
           -1.8643828525716437,
           -1.8735395189003436,
           -1.9128019259768776,
           -1.89067904889526,
           -1.8372673367064265,
           -1.8169575498254702,
           -1.8989341502316515,
           -1.9347800119450527,
           -1.7999948452279697,
           -1.9041653617287817,
           -1.8107865616588574,
           -1.8425843298233089,
           -1.8932143284057856,
           -1.8997285645856619,
           -1.904795611396213,
           -1.927360970677452,
           -1.870396458039847,
           -1.9071197485258014,
           -1.8901081168307245,
           -1.9526899262170478,
           -1.8298717561207307,
           -1.871036867481615,
           -1.9092068349910738,
           -1.8427962204197674,
           -1.8845717279315464,
           -1.9014377350143774,
           -1.8814745440828324,
           -1.864897920782764,
           -1.8596277454534378,
           -1.959318404853243,
           -1.883367139959432,
           -1.8730589732711074,
           -1.834942267650956,
           -1.8974956319161327,
           -1.930295379508819,
           -1.8783017563269258,
           -1.9526899262170478,
           -1.8298717561207307,
           -1.9044634835769223,
           -1.9179355266979214,
           -1.8218038993666184,
           -1.8840600480097454,
           -1.9368519968676585
          ],
          [
           -1.919477346364264,
           -1.8186438285257165,
           -1.8578532443905398,
           -1.8906849387549935,
           -1.8008040138365171,
           -1.8144646168639391,
           -1.7203918477648914,
           -1.8665282665383933,
           -1.8276727055544495,
           -1.4934921003118635,
           -1.669485332498173,
           -1.3980659954142158,
           -1.6177048009994646,
           -1.7306450970235487,
           -1.6238224493054447,
           -1.7450008847991505,
           -1.8112032355915066,
           -1.6759911450996177,
           -1.751738063006218,
           -1.8192673874455383,
           -1.733713989099403,
           -1.5421218532751846,
           -1.6251887205961135,
           -1.5789703792764236,
           -1.7103436742202525,
           -1.759015105212608,
           -1.7595222295952224,
           -1.6398449491401963,
           -1.7127105089848527,
           -1.6628385170743596,
           -1.788741190115086,
           -1.6821211243117937,
           -1.6906236741620704,
           -1.4302479651713043,
           -1.781730209220017,
           -1.8609438725966208,
           -1.6807265016364725,
           -1.733713989099403,
           -1.5421218532751846,
           -1.7116374871266735,
           -1.619134547566693,
           -1.4818300838611513,
           -1.6461610117874672,
           -1.8551605324980422
          ],
          [
           -1.8843150794072343,
           -1.8281492635640675,
           -1.8331109763493025,
           -1.8327998095187703,
           -1.8283523949016798,
           -1.780855788823004,
           -1.7563337461997524,
           -1.8054634294539103,
           -1.7947043599442565,
           -1.5808139385035695,
           -1.7943417893308278,
           -1.7250523377529658,
           -1.7895770123148314,
           -1.8071482647328365,
           -1.777103624461121,
           -1.8672801274110777,
           -1.8259251769464104,
           -1.809015898571141,
           -1.866369914875066,
           -1.8857511699209295,
           -1.833005821067072,
           -1.7243404292067879,
           -1.8290556664880924,
           -1.593398185594054,
           -1.7544945229534241,
           -1.7700165895398585,
           -1.7828798938287989,
           -1.6502510471136085,
           -1.7375482171417818,
           -1.743138270326256,
           -1.8697475243108217,
           -1.8404810199942045,
           -1.8476028850233348,
           -1.6528487601741433,
           -1.6758209757627345,
           -1.7975246738113313,
           -1.6869958050984188,
           -1.833005821067072,
           -1.7243404292067879,
           -1.8555557990227227,
           -1.889972202630378,
           -1.700222922048052,
           -1.7588047723119917,
           -1.8519028974158183
          ],
          [
           -1.9368460190152441,
           -1.9104983294903768,
           -1.8539721043056399,
           -1.922855101986825,
           -1.9000280469942972,
           -1.9048513015407862,
           -1.861006643396014,
           -1.921618268816932,
           -1.9053951821620545,
           -1.6590633779221113,
           -1.825242718446602,
           -1.7776891635928622,
           -1.9400321256469748,
           -1.916643423516755,
           -1.9582734578742882,
           -1.9768182622544683,
           -1.9192719919110213,
           -1.8804588448379955,
           -1.8298419108367943,
           -1.7623850250121027,
           -1.850061176819547,
           -1.712077378125135,
           -1.796035649929382,
           -1.5987903960359966,
           -1.7159182763330267,
           -1.7856456823539684,
           -1.8810882548108825,
           -1.8490075184057857,
           -1.8628657446608337,
           -1.8263624455478722,
           -1.8572575608885717,
           -1.8339611706751666,
           -1.8092490453966907,
           -1.7421919363997729,
           -1.7505488105371623,
           -1.6254877381309698,
           -1.7113354538330336,
           -1.850061176819547,
           -1.712077378125135,
           -1.8166400070118545,
           -1.8093183421150894,
           -1.7275397190474506,
           -1.7498477302855506,
           -1.796523101018011
          ],
          [
           -1.9107133372284484,
           -1.8603359841889793,
           -1.8053769961592885,
           -1.8442286832985,
           -1.847299697715728,
           -1.9230751619771516,
           -1.8626280824231505,
           -1.912200308868579,
           -1.8804698387417877,
           -0.8765689837366941,
           -1.267982044054703,
           -1.321303957731034,
           -1.5680885240049973,
           -1.6936685659640593,
           -1.5908244185427645,
           -1.7487170412316404,
           -1.8207482305358949,
           -1.3050915677198631,
           -1.548447789275635,
           -1.546070679360981,
           -1.7156204812576472,
           -1.4403903450062612,
           -1.585447815711294,
           -1.6744270776405437,
           -1.433174457173119,
           -1.3797258360254954,
           -1.6199955761999558,
           -1.657223132755795,
           -1.8510490168407188,
           -1.493343893746002,
           -1.296101347131769,
           -1.541292379020574,
           -1.3481544336020366,
           -1.5557448419458642,
           -1.3026298104923613,
           -1.710234997086813,
           -1.6395150509380907,
           -1.7156204812576472,
           -1.4403903450062612,
           -1.4083747836185552,
           -1.4092851512259883,
           -1.5063161246948091,
           -1.6028805847157035,
           -1.6154737666405639
          ],
          [
           -1.8888298719923513,
           -1.7971860147757752,
           -1.806913280776228,
           -1.7450726209688088,
           -1.6914830627317772,
           -1.8170287781313674,
           -1.8421799346920391,
           -1.755436846502443,
           -1.8076846506072068,
           -1.7758705121266012,
           -1.4581897901659882,
           -1.4267769913268866,
           -1.5225771907906478,
           -1.611427660676575,
           -1.54079514609612,
           -1.6204211643956823,
           -1.7241658240647117,
           -1.619641779029986,
           -1.4543744120413924,
           -1.5340487332580282,
           -1.6477698268510623,
           -1.3419404982943997,
           -1.5563239662981543,
           -1.3055707363281963,
           -1.197034311676004,
           -1.3614773421810877,
           -1.740853793408538,
           -1.5488956528525715,
           -1.540050804403048,
           -1.4232796173881257,
           -1.7270050851993934,
           -1.7586206896551724,
           -1.5068307170131523,
           -1.4137800492144614,
           -1.5754670489673401,
           -1.6155299352036583,
           -1.519015350573918,
           -1.6477698268510623,
           -1.3419404982943997,
           -1.5692968424743081,
           -1.6727378334647138,
           -1.3218923604967978,
           -1.4961126437605246,
           -1.6395301487862177
          ],
          [
           -1.8329526743506666,
           -1.7734694837889982,
           -1.7317161916312918,
           -1.7677187227175322,
           -1.7506933840256786,
           -1.7556720620893336,
           -1.685530908681455,
           -1.7922985392035242,
           -1.7385626119848696,
           -1.1285342405732108,
           -1.6358701325816891,
           -1.4818064001595055,
           -1.8347313938961272,
           -1.8371120054189745,
           -1.8707754537229229,
           -1.851353742700407,
           -1.8450960566228514,
           -1.6488227007446166,
           -1.7263153064268177,
           -1.7198644505405842,
           -1.7222943161173112,
           -1.3833930653309727,
           -1.6240198704524424,
           -1.4661711662476775,
           -1.3921453856231012,
           -1.519339910940365,
           -1.7273169652731697,
           -1.5278753349462786,
           -1.4771286104054944,
           -1.6104426234502087,
           -1.8040860023195646,
           -1.69327731092437,
           -1.5507848960543065,
           -1.4177550634109408,
           -1.6752833654406165,
           -1.599286710570455,
           -1.2603143871294888,
           -1.7222943161173112,
           -1.3833930653309727,
           -1.590332405723426,
           -1.6844376218727959,
           -1.4413502706910584,
           -1.5790906810934757,
           -1.5481910728269381
          ],
          [
           -1.495617995432092,
           -1.1417815632205541,
           -1.2391348291894078,
           -1.0353183946665256,
           -1.2907226775530558,
           -1.2902767920510998,
           -1.166490260105844,
           -0.9204789994683409,
           -1.2105912801114873,
           -1.2689502306760483,
           -0.8007098862094164,
           -1.0900209351011863,
           -1.1122612885953955,
           -1.1348766784874686,
           -0.6059928681675446,
           -0.7910104406299774,
           -1.3771486349848332,
           -1.054940631917891,
           -1.0566964183282472,
           -1.0918993061158626,
           -1.3326165140335915,
           -0.9747398419620881,
           -1.1418691861880874,
           -1.033482712136117,
           0.41759344426791545,
           -0.06618353269885602,
           -1.272992700729927,
           -1.1094461354353653,
           -1.1949571925863203,
           -1.190544368964572,
           -1.253635471496119,
           -1.493045494059693,
           -0.3193890538820534,
           -0.9998107136096916,
           -1.3948299807356301,
           -1.2681367962004977,
           -1.3695662195178169,
           -1.3326165140335915,
           -0.9747398419620881,
           -1.2887350176391963,
           -1.40405758619259,
           -0.5355082976540109,
           -1.4432302676364157,
           0.5588723570869227
          ],
          [
           -1.565517607691082,
           -0.8089972236600629,
           -1.2870022235698402,
           -0.5187967935659674,
           -1.3339773754246003,
           -1.36500377755901,
           -1.3988064407161356,
           -0.09979999493658043,
           -1.5358152498506867,
           -1.600298976777752,
           -0.8263910637853638,
           -1.2892034692453396,
           -1.641442084597537,
           -1.745786348966012,
           -1.557826387780084,
           -1.70076092726951,
           -1.6374519716885743,
           -0.8096196417790298,
           -1.6405020306082647,
           -1.7129256091657254,
           -1.8393088873234213,
           -0.858672654259683,
           -1.5887595577850289,
           -1.5084344372791199,
           -1.2113052930847061,
           -1.3697721121103639,
           -1.2548551205485512,
           -1.1170425869559564,
           -1.5736946090883432,
           -0.9096780089560423,
           -1.0466589347845483,
           -1.5334685598377282,
           -0.4454815443360203,
           -1.0176036342986938,
           -1.2256619327091078,
           -1.5999223150126238,
           -1.4007283455492554,
           -1.8393088873234213,
           -0.858672654259683,
           -1.6171527488660518,
           -1.7086669709164835,
           -1.0543859028342948,
           -1.662498656443696,
           0.43445575567736894
          ],
          [
           -1.4204068624847292,
           -1.0600912898216555,
           -1.3748130179907014,
           -1.2858012116722666,
           -0.6654616846894577,
           -1.0379816387737812,
           -0.7933791239725254,
           -1.1483328691865617,
           -1.038901055146327,
           -0.3892368360009275,
           -0.11984549535442124,
           0.6699232379623168,
           -1.3043012671782974,
           -1.394668685500259,
           -1.1967640640800465,
           -1.572288090603433,
           -1.7882305358948432,
           0.2680619843026766,
           -0.9841910836794165,
           -1.300871389381959,
           -1.2787067591116386,
           -0.3418973185370697,
           -0.7377392490137826,
           -0.6968338980580757,
           -1.3774284360453772,
           -1.5461451148170784,
           -0.9813758018137582,
           -0.35729337391711535,
           -0.605851914573337,
           -0.5274316873305513,
           -0.6062985101257918,
           -0.46203998840915683,
           -0.16597369537547713,
           -0.11186825667234523,
           -1.0728013977868374,
           -1.5088896343508889,
           -1.3347162679205273,
           -1.2787067591116386,
           -0.3418973185370697,
           -0.9225409207441331,
           -1.2180226527818112,
           -0.15448851774530303,
           -1.132026799469743,
           -1.2576350822239624
          ],
          [
           -1.896797153024911,
           -1.8939344030869136,
           -1.7275116232059835,
           -1.6925844599063467,
           -1.5357910810558137,
           -1.822340255042469,
           -1.9349622790226326,
           -1.6937643990987112,
           -1.6675293649213616,
           -0.7417201474264798,
           -1.1427080070988622,
           -1.1472435450104674,
           -1.6516152061395681,
           -1.6836275252022155,
           -1.630209164936931,
           -1.7311980180499027,
           -1.8350657229524772,
           -1.265647011471121,
           -1.1372782965835304,
           -1.469582055833468,
           -1.2268733083682475,
           -1.0946068483095124,
           -1.4474260945794575,
           -0.7205887710860932,
           -1.4643922290046547,
           -1.4562123461101892,
           -1.6272506082725062,
           -1.6785556336012903,
           -1.7310753598645214,
           -1.5529289913790478,
           -1.47060397894549,
           -1.2786148942335556,
           -1.6106915570640645,
           -0.9752034828695817,
           -1.0732494063886027,
           -0.8194000600293083,
           -1.4796478126584613,
           -1.2268733083682475,
           -1.0946068483095124,
           -1.505664263645726,
           -1.3944322283533168,
           -1.1298255546512863,
           -0.9034430869549639,
           -1.7023022709475333
          ],
          [
           -1.6728103255962181,
           -1.5549385911251234,
           -1.542025469981807,
           -1.4272864361491044,
           -1.2843653588457105,
           -1.5502644291307035,
           -1.499425740344556,
           -1.6680422289171877,
           -1.6395779414692415,
           -0.880898992242068,
           -0.8217976824303164,
           -0.8844581796431064,
           -1.7397822595038372,
           -1.817348687094075,
           -1.803927830113364,
           -1.8486993452486287,
           -1.8718705763397372,
           -0.8255182129201046,
           -1.3121171098822937,
           -1.1918670324350493,
           -1.504801453412925,
           -0.783021719417937,
           -1.2567087128037793,
           -0.6558822457827815,
           -1.0936811885051703,
           -1.3282109490963065,
           -1.6820172528201727,
           -1.4652306251463356,
           -1.4510866497318657,
           -1.2090657081061322,
           -1.2040324739048978,
           -1.0488264271225733,
           -1.018582944420874,
           -0.7276168843460156,
           -0.9542583217597778,
           -0.7660799096029236,
           -1.0386760706218596,
           -1.504801453412925,
           -0.783021719417937,
           -1.4054823936718015,
           -1.3375098535452017,
           -0.9802200912918864,
           -1.0079896814875855,
           -1.3554894283476897
          ],
          [
           -1.70956604875976,
           -1.4404969177921036,
           -1.3835455831817263,
           -1.670996587211302,
           -1.2514568855371002,
           -1.5050252981982188,
           -1.2381038171377097,
           -1.4531507126762704,
           -1.5934700378260005,
           -0.3064511971958037,
           -0.8731600375822111,
           -0.15352407536636425,
           -0.7506692843119758,
           -1.195122923058533,
           -0.7064771941029322,
           -1.0306140506105115,
           -1.525015166835187,
           -0.9366069631716643,
           -1.0153041323451806,
           -1.4621591092464095,
           -0.8553631678469467,
           -0.6223930221512153,
           -0.6410168996249939,
           -0.7657667504645318,
           -0.768124425119157,
           -0.9008120143193921,
           -1.210351692103517,
           -0.9353521163401752,
           -0.9742026531188257,
           -0.5039144606573858,
           -1.366045142296369,
           -1.5757751376412634,
           -0.43071701315231237,
           -0.23850085178875635,
           -0.9541687200394247,
           -1.3112166528363849,
           -0.9946987507490896,
           -0.8553631678469467,
           -0.6223930221512153,
           -1.3449175011503824,
           -1.15877691573663,
           -0.6246771168748455,
           -0.9930135072193758,
           -1.1649177760375882
          ],
          [
           -1.4603494980612948,
           -1.2969742600348217,
           -1.2038002829997978,
           -1.3255906240905844,
           -1.3272460967932938,
           -1.333501224844891,
           -1.0615471230717262,
           -1.430061520544824,
           -1.394545092574159,
           -1.2414237480347432,
           -0.2551414552667295,
           -0.5638520586182831,
           -0.4738532928788153,
           -1.0746304339164043,
           -0.914897014210442,
           -1.1403291452840207,
           -1.4816582406471182,
           -0.5761722680619843,
           -1.3195512011564143,
           -1.3144263353235437,
           -1.347818026769493,
           -0.4840450796666522,
           -0.9618662640627282,
           -0.9441469013006887,
           -1.0830894444908994,
           -1.3884571727931545,
           -1.2540588365405885,
           -1.0912354639818935,
           -1.5553297582086745,
           -0.8928625826301522,
           -0.7103220626282452,
           -0.8154158215010143,
           -0.06465846414934218,
           -0.3545334090478893,
           -1.3881994534295057,
           -1.4901746146648067,
           -1.298852164292629,
           -1.347818026769493,
           -0.4840450796666522,
           -0.9902929640423341,
           -1.0996141559142014,
           -1.1098687236828138,
           -1.3356024506466984,
           -1.2258104933437743
          ],
          [
           -1.459552769958039,
           -1.1570279045691967,
           -1.468041237113402,
           -1.3014630016667108,
           -1.2624263766399701,
           -1.1197600677671191,
           -1.0775813534511878,
           -1.091318767563736,
           -1.344774039418674,
           -1.1960617541689218,
           -0.9483244597557157,
           -0.5889741800418702,
           -1.1144029983937176,
           -1.2160019125791928,
           -0.8961626483580816,
           -1.2866749247920723,
           -1.5746814964610718,
           -0.85771785067418,
           -1.7070417364568755,
           -1.732128449249637,
           -1.5108820585072857,
           -0.8196381536335764,
           -1.3994058345103007,
           -1.2526687798302183,
           -1.6166903587256458,
           -1.6301405745219593,
           -1.440831674408317,
           -1.122037513983194,
           -1.317790949289679,
           -1.0897736619246352,
           -1.2577393166205728,
           -1.1173572877426834,
           -0.8772168010182433,
           -0.708688245315162,
           -1.4364051789794363,
           -1.7942760288846908,
           -1.5405891301341446,
           -1.5108820585072857,
           -0.8196381536335764,
           -1.4320397922738128,
           -1.6400448077002863,
           -1.0539612894094337,
           -1.5591702196266706,
           -1.5247611589663275
          ],
          [
           -1.2602113985233971,
           -0.36581807914921627,
           -1.0014958560743885,
           -0.4269425117066592,
           -0.33675091152731484,
           -0.5724032143593027,
           -0.12003152798108307,
           -0.6576875363933263,
           -0.9822018713915985,
           1.4749349210031193,
           1.996868149076104,
           2,
           1.4752810994110295,
           0.5446866159301909,
           0.5868327212730859,
           0.10652981773137471,
           -0.6810111223458037,
           1.1599919500905616,
           -1.0543101668081594,
           -0.9689365822172018,
           -0.29261058173593857,
           1.4350360550973709,
           -0.32026493936589895,
           1.6025795168870909,
           -0.5120272040583103,
           -0.7923688116650658,
           -0.23118779031187797,
           0.4070345222300267,
           0.0030482641828966095,
           0.19027020440491027,
           2,
           0.9787018255578088,
           1.164022061943148,
           1.4959303426083665,
           -0.4927198602213161,
           -0.8275922950617063,
           -0.24699211727285308,
           -0.29261058173593857,
           1.4350360550973709,
           -0.06262462475622854,
           0.03858440857984524,
           0.36637061675099947,
           -0.6553688509906488,
           0.7079718089271734
          ],
          [
           -1.3593774897753226,
           -0.831019716719213,
           -1.235496260359814,
           -0.184608058414244,
           -0.31344074293371604,
           -1.0418278806749237,
           -1.1246931651841008,
           -0.7055874832274236,
           -0.9052757316344813,
           0.4816103507822369,
           -0.037582211086752526,
           -0.40195394277738994,
           -0.7169373549883993,
           0.5969637805315378,
           -0.5280749374634093,
           -0.6995222084586801,
           -0.6404044489383216,
           -0.7605151942040651,
           -0.5910102562925912,
           -1.2631918670324351,
           -1.1136405769159468,
           -0.07314650891661967,
           -0.7161155213558661,
           0.5752905599883404,
           -0.6997798032165452,
           -0.6902994848511306,
           2,
           0.5995473347381566,
           -0.824273214789726,
           -0.4138666341730892,
           -0.6960478187171024,
           -0.481744421906694,
           0.15120916419176922,
           0.40204429301533207,
           -0.864298194525335,
           -1.140521548756157,
           -1.0460517217535612,
           -1.1136405769159468,
           -0.07314650891661967,
           -0.5415342813944826,
           -0.9826162718333815,
           -0.2798910158876191,
           -0.6641109240084553,
           -0.44109631949882533
          ],
          [
           -1.211929675466086,
           -0.699825890546327,
           -1.0302001212856275,
           -0.9375380301066165,
           -0.9140203808158562,
           -0.9138945488678769,
           -0.5072852156288705,
           -1.0092913744651761,
           -1.4033047979295241,
           -1.2259594319441223,
           -0.3136026725127885,
           -0.31841291994816046,
           1.8527574513653398,
           1.2787982627405667,
           2,
           2,
           -1.1412740141557127,
           -0.3272288186757899,
           -1.564600876488539,
           -1.4797482652896563,
           -1.504949760854251,
           -0.32427997754652615,
           -1.0733940486046851,
           -0.056035267970999,
           -1.1731750146333306,
           -1.4336854972496287,
           -0.9264322052643221,
           -0.5487655766279038,
           -0.6385172640888135,
           -0.8341304414049413,
           -0.24194843429387114,
           -0.8513474355259347,
           0.08485362749257552,
           0.07533598334279779,
           -1.4127503248062363,
           -1.3461042744398735,
           -1.3143410316692021,
           -1.504949760854251,
           -0.32427997754652615,
           -1.1105462672831257,
           -1.3425714641330955,
           -1.073351969144758,
           -1.5782308050589373,
           -1.2184181675802663
          ],
          [
           -0.9768948850055772,
           -0.5475507034963059,
           -0.7642611683848795,
           -0.49392841080451877,
           -0.574963383090779,
           -0.5391606950708576,
           -0.6636640018015989,
           -0.4400617737157899,
           -0.7272944455504677,
           -1.3955514317379314,
           -0.039670111702682975,
           -0.1935998404944672,
           0.059967874353024975,
           0.13555405028489442,
           0.6653893235403698,
           -0.17306671385595496,
           -0.4203842264914053,
           -0.5097605151942042,
           -1.4401486818254825,
           -1.455220267871551,
           -1.3082940936561491,
           0.4403471652489319,
           -0.9901134758681149,
           -1.200786971253689,
           -0.8771636424450204,
           -0.9598358508687679,
           -0.7908869719088696,
           -0.19194047711959206,
           -0.28348856900931385,
           -0.3948578913699088,
           -0.9767151396199483,
           -0.6435815705592582,
           -0.1411964361476452,
           0.36835131554041256,
           -1.4913310335558443,
           -1.700489062306891,
           -0.8356612732217767,
           -1.3082940936561491,
           0.4403471652489319,
           -1.1910949448912067,
           -1.4034767456333235,
           -0.748098085701143,
           -1.5286446204005588,
           -0.8266249021143306
          ],
          [
           -1.673660168906358,
           -1.5191755682085548,
           -1.4201738427329693,
           -1.1371200296304136,
           -1.1334102028732589,
           -1.4584125094438973,
           -1.6870622677626392,
           -1.412744626446239,
           -1.4451921162651802,
           -1.1876079280393825,
           0.6150955214531786,
           0.49167580500448604,
           -0.1102980546136001,
           -0.4858748057536757,
           -0.4337644366384583,
           -0.7729605379578837,
           -1.33896865520728,
           -0.29019923525860314,
           -1.0419200146846248,
           -1.110053251573342,
           -1.4278298913647993,
           0.3313614577486077,
           -0.8439098037305801,
           -0.12700841622035242,
           -0.6560749226523954,
           -0.9653365930323932,
           -1.1924795399247956,
           -1.2175654933791202,
           -1.6324771850597422,
           -0.43860237000030455,
           -0.2899455794450887,
           -0.24079976818313553,
           -0.12558336868901132,
           0.7908385387090666,
           -1.074235025312486,
           -1.4068398100248944,
           -0.8181441017839857,
           -1.4278298913647993,
           0.3313614577486077,
           -0.6605605101124088,
           -0.9822013857196199,
           -0.4263826474647041,
           -0.98993228476228,
           -0.8410336726703211
          ],
          [
           -1.5460774419716363,
           -0.9430144463789938,
           -0.9850818677986657,
           -0.9119288870075928,
           -0.6106142291751071,
           -1.175896884086174,
           -0.9257966445220134,
           -1.2278285526215853,
           -1.3137169022496515,
           -0.44057836542178874,
           0.5211399937362979,
           0.3650682883062508,
           0.726396573264322,
           0.08662389927082881,
           0.28325083825642716,
           -0.10794549637232365,
           -1.0663700707785644,
           -0.48339706178305497,
           -1.0029139802216462,
           -0.6525738260448604,
           -1.1562789662971338,
           0.0004317975732974766,
           -0.6897189889446256,
           0.041607461653367483,
           -0.5213925356077709,
           -0.9171396140749146,
           -1.149922583499226,
           -0.9154764692109576,
           -1.0324583686141688,
           -0.42629542754439953,
           0.17075564278704602,
           -0.4242248623587368,
           0.17955027577428906,
           0.07344311943971249,
           -0.8229021997222346,
           -1.0518900404315046,
           -0.9322823030470659,
           -1.1562789662971338,
           0.0004317975732974766,
           -0.7638977145737011,
           -0.7867070489150725,
           -0.7127136336293833,
           -1.0835154598545376,
           -0.7622239624119029
          ]
         ]
        }
       ],
       "layout": {
        "height": 900,
        "template": {
         "data": {
          "bar": [
           {
            "error_x": {
             "color": "#2a3f5f"
            },
            "error_y": {
             "color": "#2a3f5f"
            },
            "marker": {
             "line": {
              "color": "#E5ECF6",
              "width": 0.5
             },
             "pattern": {
              "fillmode": "overlay",
              "size": 10,
              "solidity": 0.2
             }
            },
            "type": "bar"
           }
          ],
          "barpolar": [
           {
            "marker": {
             "line": {
              "color": "#E5ECF6",
              "width": 0.5
             },
             "pattern": {
              "fillmode": "overlay",
              "size": 10,
              "solidity": 0.2
             }
            },
            "type": "barpolar"
           }
          ],
          "carpet": [
           {
            "aaxis": {
             "endlinecolor": "#2a3f5f",
             "gridcolor": "white",
             "linecolor": "white",
             "minorgridcolor": "white",
             "startlinecolor": "#2a3f5f"
            },
            "baxis": {
             "endlinecolor": "#2a3f5f",
             "gridcolor": "white",
             "linecolor": "white",
             "minorgridcolor": "white",
             "startlinecolor": "#2a3f5f"
            },
            "type": "carpet"
           }
          ],
          "choropleth": [
           {
            "colorbar": {
             "outlinewidth": 0,
             "ticks": ""
            },
            "type": "choropleth"
           }
          ],
          "contour": [
           {
            "colorbar": {
             "outlinewidth": 0,
             "ticks": ""
            },
            "colorscale": [
             [
              0,
              "#0d0887"
             ],
             [
              0.1111111111111111,
              "#46039f"
             ],
             [
              0.2222222222222222,
              "#7201a8"
             ],
             [
              0.3333333333333333,
              "#9c179e"
             ],
             [
              0.4444444444444444,
              "#bd3786"
             ],
             [
              0.5555555555555556,
              "#d8576b"
             ],
             [
              0.6666666666666666,
              "#ed7953"
             ],
             [
              0.7777777777777778,
              "#fb9f3a"
             ],
             [
              0.8888888888888888,
              "#fdca26"
             ],
             [
              1,
              "#f0f921"
             ]
            ],
            "type": "contour"
           }
          ],
          "contourcarpet": [
           {
            "colorbar": {
             "outlinewidth": 0,
             "ticks": ""
            },
            "type": "contourcarpet"
           }
          ],
          "heatmap": [
           {
            "colorbar": {
             "outlinewidth": 0,
             "ticks": ""
            },
            "colorscale": [
             [
              0,
              "#0d0887"
             ],
             [
              0.1111111111111111,
              "#46039f"
             ],
             [
              0.2222222222222222,
              "#7201a8"
             ],
             [
              0.3333333333333333,
              "#9c179e"
             ],
             [
              0.4444444444444444,
              "#bd3786"
             ],
             [
              0.5555555555555556,
              "#d8576b"
             ],
             [
              0.6666666666666666,
              "#ed7953"
             ],
             [
              0.7777777777777778,
              "#fb9f3a"
             ],
             [
              0.8888888888888888,
              "#fdca26"
             ],
             [
              1,
              "#f0f921"
             ]
            ],
            "type": "heatmap"
           }
          ],
          "heatmapgl": [
           {
            "colorbar": {
             "outlinewidth": 0,
             "ticks": ""
            },
            "colorscale": [
             [
              0,
              "#0d0887"
             ],
             [
              0.1111111111111111,
              "#46039f"
             ],
             [
              0.2222222222222222,
              "#7201a8"
             ],
             [
              0.3333333333333333,
              "#9c179e"
             ],
             [
              0.4444444444444444,
              "#bd3786"
             ],
             [
              0.5555555555555556,
              "#d8576b"
             ],
             [
              0.6666666666666666,
              "#ed7953"
             ],
             [
              0.7777777777777778,
              "#fb9f3a"
             ],
             [
              0.8888888888888888,
              "#fdca26"
             ],
             [
              1,
              "#f0f921"
             ]
            ],
            "type": "heatmapgl"
           }
          ],
          "histogram": [
           {
            "marker": {
             "pattern": {
              "fillmode": "overlay",
              "size": 10,
              "solidity": 0.2
             }
            },
            "type": "histogram"
           }
          ],
          "histogram2d": [
           {
            "colorbar": {
             "outlinewidth": 0,
             "ticks": ""
            },
            "colorscale": [
             [
              0,
              "#0d0887"
             ],
             [
              0.1111111111111111,
              "#46039f"
             ],
             [
              0.2222222222222222,
              "#7201a8"
             ],
             [
              0.3333333333333333,
              "#9c179e"
             ],
             [
              0.4444444444444444,
              "#bd3786"
             ],
             [
              0.5555555555555556,
              "#d8576b"
             ],
             [
              0.6666666666666666,
              "#ed7953"
             ],
             [
              0.7777777777777778,
              "#fb9f3a"
             ],
             [
              0.8888888888888888,
              "#fdca26"
             ],
             [
              1,
              "#f0f921"
             ]
            ],
            "type": "histogram2d"
           }
          ],
          "histogram2dcontour": [
           {
            "colorbar": {
             "outlinewidth": 0,
             "ticks": ""
            },
            "colorscale": [
             [
              0,
              "#0d0887"
             ],
             [
              0.1111111111111111,
              "#46039f"
             ],
             [
              0.2222222222222222,
              "#7201a8"
             ],
             [
              0.3333333333333333,
              "#9c179e"
             ],
             [
              0.4444444444444444,
              "#bd3786"
             ],
             [
              0.5555555555555556,
              "#d8576b"
             ],
             [
              0.6666666666666666,
              "#ed7953"
             ],
             [
              0.7777777777777778,
              "#fb9f3a"
             ],
             [
              0.8888888888888888,
              "#fdca26"
             ],
             [
              1,
              "#f0f921"
             ]
            ],
            "type": "histogram2dcontour"
           }
          ],
          "mesh3d": [
           {
            "colorbar": {
             "outlinewidth": 0,
             "ticks": ""
            },
            "type": "mesh3d"
           }
          ],
          "parcoords": [
           {
            "line": {
             "colorbar": {
              "outlinewidth": 0,
              "ticks": ""
             }
            },
            "type": "parcoords"
           }
          ],
          "pie": [
           {
            "automargin": true,
            "type": "pie"
           }
          ],
          "scatter": [
           {
            "fillpattern": {
             "fillmode": "overlay",
             "size": 10,
             "solidity": 0.2
            },
            "type": "scatter"
           }
          ],
          "scatter3d": [
           {
            "line": {
             "colorbar": {
              "outlinewidth": 0,
              "ticks": ""
             }
            },
            "marker": {
             "colorbar": {
              "outlinewidth": 0,
              "ticks": ""
             }
            },
            "type": "scatter3d"
           }
          ],
          "scattercarpet": [
           {
            "marker": {
             "colorbar": {
              "outlinewidth": 0,
              "ticks": ""
             }
            },
            "type": "scattercarpet"
           }
          ],
          "scattergeo": [
           {
            "marker": {
             "colorbar": {
              "outlinewidth": 0,
              "ticks": ""
             }
            },
            "type": "scattergeo"
           }
          ],
          "scattergl": [
           {
            "marker": {
             "colorbar": {
              "outlinewidth": 0,
              "ticks": ""
             }
            },
            "type": "scattergl"
           }
          ],
          "scattermapbox": [
           {
            "marker": {
             "colorbar": {
              "outlinewidth": 0,
              "ticks": ""
             }
            },
            "type": "scattermapbox"
           }
          ],
          "scatterpolar": [
           {
            "marker": {
             "colorbar": {
              "outlinewidth": 0,
              "ticks": ""
             }
            },
            "type": "scatterpolar"
           }
          ],
          "scatterpolargl": [
           {
            "marker": {
             "colorbar": {
              "outlinewidth": 0,
              "ticks": ""
             }
            },
            "type": "scatterpolargl"
           }
          ],
          "scatterternary": [
           {
            "marker": {
             "colorbar": {
              "outlinewidth": 0,
              "ticks": ""
             }
            },
            "type": "scatterternary"
           }
          ],
          "surface": [
           {
            "colorbar": {
             "outlinewidth": 0,
             "ticks": ""
            },
            "colorscale": [
             [
              0,
              "#0d0887"
             ],
             [
              0.1111111111111111,
              "#46039f"
             ],
             [
              0.2222222222222222,
              "#7201a8"
             ],
             [
              0.3333333333333333,
              "#9c179e"
             ],
             [
              0.4444444444444444,
              "#bd3786"
             ],
             [
              0.5555555555555556,
              "#d8576b"
             ],
             [
              0.6666666666666666,
              "#ed7953"
             ],
             [
              0.7777777777777778,
              "#fb9f3a"
             ],
             [
              0.8888888888888888,
              "#fdca26"
             ],
             [
              1,
              "#f0f921"
             ]
            ],
            "type": "surface"
           }
          ],
          "table": [
           {
            "cells": {
             "fill": {
              "color": "#EBF0F8"
             },
             "line": {
              "color": "white"
             }
            },
            "header": {
             "fill": {
              "color": "#C8D4E3"
             },
             "line": {
              "color": "white"
             }
            },
            "type": "table"
           }
          ]
         },
         "layout": {
          "annotationdefaults": {
           "arrowcolor": "#2a3f5f",
           "arrowhead": 0,
           "arrowwidth": 1
          },
          "autotypenumbers": "strict",
          "coloraxis": {
           "colorbar": {
            "outlinewidth": 0,
            "ticks": ""
           }
          },
          "colorscale": {
           "diverging": [
            [
             0,
             "#8e0152"
            ],
            [
             0.1,
             "#c51b7d"
            ],
            [
             0.2,
             "#de77ae"
            ],
            [
             0.3,
             "#f1b6da"
            ],
            [
             0.4,
             "#fde0ef"
            ],
            [
             0.5,
             "#f7f7f7"
            ],
            [
             0.6,
             "#e6f5d0"
            ],
            [
             0.7,
             "#b8e186"
            ],
            [
             0.8,
             "#7fbc41"
            ],
            [
             0.9,
             "#4d9221"
            ],
            [
             1,
             "#276419"
            ]
           ],
           "sequential": [
            [
             0,
             "#0d0887"
            ],
            [
             0.1111111111111111,
             "#46039f"
            ],
            [
             0.2222222222222222,
             "#7201a8"
            ],
            [
             0.3333333333333333,
             "#9c179e"
            ],
            [
             0.4444444444444444,
             "#bd3786"
            ],
            [
             0.5555555555555556,
             "#d8576b"
            ],
            [
             0.6666666666666666,
             "#ed7953"
            ],
            [
             0.7777777777777778,
             "#fb9f3a"
            ],
            [
             0.8888888888888888,
             "#fdca26"
            ],
            [
             1,
             "#f0f921"
            ]
           ],
           "sequentialminus": [
            [
             0,
             "#0d0887"
            ],
            [
             0.1111111111111111,
             "#46039f"
            ],
            [
             0.2222222222222222,
             "#7201a8"
            ],
            [
             0.3333333333333333,
             "#9c179e"
            ],
            [
             0.4444444444444444,
             "#bd3786"
            ],
            [
             0.5555555555555556,
             "#d8576b"
            ],
            [
             0.6666666666666666,
             "#ed7953"
            ],
            [
             0.7777777777777778,
             "#fb9f3a"
            ],
            [
             0.8888888888888888,
             "#fdca26"
            ],
            [
             1,
             "#f0f921"
            ]
           ]
          },
          "colorway": [
           "#636efa",
           "#EF553B",
           "#00cc96",
           "#ab63fa",
           "#FFA15A",
           "#19d3f3",
           "#FF6692",
           "#B6E880",
           "#FF97FF",
           "#FECB52"
          ],
          "font": {
           "color": "#2a3f5f"
          },
          "geo": {
           "bgcolor": "white",
           "lakecolor": "white",
           "landcolor": "#E5ECF6",
           "showlakes": true,
           "showland": true,
           "subunitcolor": "white"
          },
          "hoverlabel": {
           "align": "left"
          },
          "hovermode": "closest",
          "mapbox": {
           "style": "light"
          },
          "paper_bgcolor": "white",
          "plot_bgcolor": "#E5ECF6",
          "polar": {
           "angularaxis": {
            "gridcolor": "white",
            "linecolor": "white",
            "ticks": ""
           },
           "bgcolor": "#E5ECF6",
           "radialaxis": {
            "gridcolor": "white",
            "linecolor": "white",
            "ticks": ""
           }
          },
          "scene": {
           "xaxis": {
            "backgroundcolor": "#E5ECF6",
            "gridcolor": "white",
            "gridwidth": 2,
            "linecolor": "white",
            "showbackground": true,
            "ticks": "",
            "zerolinecolor": "white"
           },
           "yaxis": {
            "backgroundcolor": "#E5ECF6",
            "gridcolor": "white",
            "gridwidth": 2,
            "linecolor": "white",
            "showbackground": true,
            "ticks": "",
            "zerolinecolor": "white"
           },
           "zaxis": {
            "backgroundcolor": "#E5ECF6",
            "gridcolor": "white",
            "gridwidth": 2,
            "linecolor": "white",
            "showbackground": true,
            "ticks": "",
            "zerolinecolor": "white"
           }
          },
          "shapedefaults": {
           "line": {
            "color": "#2a3f5f"
           }
          },
          "ternary": {
           "aaxis": {
            "gridcolor": "white",
            "linecolor": "white",
            "ticks": ""
           },
           "baxis": {
            "gridcolor": "white",
            "linecolor": "white",
            "ticks": ""
           },
           "bgcolor": "#E5ECF6",
           "caxis": {
            "gridcolor": "white",
            "linecolor": "white",
            "ticks": ""
           }
          },
          "title": {
           "x": 0.05
          },
          "xaxis": {
           "automargin": true,
           "gridcolor": "white",
           "linecolor": "white",
           "ticks": "",
           "title": {
            "standoff": 15
           },
           "zerolinecolor": "white",
           "zerolinewidth": 2
          },
          "yaxis": {
           "automargin": true,
           "gridcolor": "white",
           "linecolor": "white",
           "ticks": "",
           "title": {
            "standoff": 15
           },
           "zerolinecolor": "white",
           "zerolinewidth": 2
          }
         }
        },
        "width": 1200,
        "xaxis": {
         "title": {
          "text": "Sample"
         }
        },
        "yaxis": {
         "title": {
          "text": "Gene"
         }
        }
       }
      }
     },
     "metadata": {},
     "output_type": "display_data"
    }
   ],
   "source": [
    "import numpy as np\n",
    "import pandas as pd\n",
    "import plotly.graph_objects as go\n",
    "from scipy.cluster.hierarchy import linkage, leaves_list\n",
    "\n",
    "def create_heatmap_without_sample_clustering(df, color='RdBu_r'):\n",
    "\n",
    "    # 第一列改名为gene_id，并设置为索引\n",
    "    df = df.rename(columns={df.columns[0]: 'gene_id'})\n",
    "    df = df.set_index('gene_id')\n",
    "\n",
    "    # 数据归一化\n",
    "    df_normalized = df.apply(lambda x: np.interp(x, (x.min(), x.max()), (-2, 2)))\n",
    "\n",
    "    # 对基因（行）进行层次聚类\n",
    "    gene_linkage = linkage(df_normalized, method='average')\n",
    "    gene_order = leaves_list(gene_linkage)\n",
    "\n",
    "    # # 对样本（列）进行层次聚类\n",
    "    # sample_linkage = linkage(df_normalized.T, method='average')\n",
    "    # sample_order = leaves_list(sample_linkage)\n",
    "\n",
    "    # 重排数据矩阵\n",
    "    df_clustered = df_normalized.iloc[gene_order]\n",
    "    # df_clustered = df_normalized.iloc[gene_order,sample_order]\n",
    "\n",
    "    # 创建热图\n",
    "    fig = go.Figure(data=go.Heatmap(\n",
    "        z=df_clustered,\n",
    "        x=df_clustered.columns,\n",
    "        y=df_clustered.index,\n",
    "        colorscale=color,\n",
    "        hovertemplate='Sample: %{x}<br>Gene: %{y}<br>Exp: %{z:.3f}<extra></extra>'\n",
    "    ))\n",
    "\n",
    "    # 设置轴标签\n",
    "    fig.update_layout(\n",
    "        xaxis_title=\"Sample\",\n",
    "        yaxis_title=\"Gene\",\n",
    "        width=1200,\n",
    "        height=900,\n",
    "    )\n",
    "\n",
    "    return fig\n",
    "\n",
    "create_heatmap_without_sample_clustering(df)"
   ]
  },
  {
   "cell_type": "markdown",
   "metadata": {},
   "source": [
    "### 添加聚类树"
   ]
  },
  {
   "cell_type": "code",
   "execution_count": 17,
   "metadata": {},
   "outputs": [
    {
     "data": {
      "application/vnd.plotly.v1+json": {
       "config": {
        "plotlyServerURL": "https://plot.ly"
       },
       "data": [
        {
         "hoverinfo": "text",
         "marker": {
          "color": "rgb(61,153,112)",
          "line": {
           "width": 1
          }
         },
         "mode": "lines",
         "showlegend": false,
         "type": "scatter",
         "x": [
          0,
          0.2910388653465435,
          0.2910388653465435,
          0
         ],
         "xaxis": "x",
         "y": [
          -45,
          -45,
          -55,
          -55
         ],
         "yaxis": "y"
        },
        {
         "hoverinfo": "text",
         "marker": {
          "color": "rgb(61,153,112)",
          "line": {
           "width": 1
          }
         },
         "mode": "lines",
         "showlegend": false,
         "type": "scatter",
         "x": [
          0,
          0.3107546929778456,
          0.3107546929778456,
          0.2910388653465435
         ],
         "xaxis": "x",
         "y": [
          -35,
          -35,
          -50,
          -50
         ],
         "yaxis": "y"
        },
        {
         "hoverinfo": "text",
         "marker": {
          "color": "rgb(61,153,112)",
          "line": {
           "width": 1
          }
         },
         "mode": "lines",
         "showlegend": false,
         "type": "scatter",
         "x": [
          0,
          0.37093346899762264,
          0.37093346899762264,
          0.3107546929778456
         ],
         "xaxis": "x",
         "y": [
          -25,
          -25,
          -42.5,
          -42.5
         ],
         "yaxis": "y"
        },
        {
         "hoverinfo": "text",
         "marker": {
          "color": "rgb(61,153,112)",
          "line": {
           "width": 1
          }
         },
         "mode": "lines",
         "showlegend": false,
         "type": "scatter",
         "x": [
          0,
          0.4649585398176234,
          0.4649585398176234,
          0.37093346899762264
         ],
         "xaxis": "x",
         "y": [
          -15,
          -15,
          -33.75,
          -33.75
         ],
         "yaxis": "y"
        },
        {
         "hoverinfo": "text",
         "marker": {
          "color": "rgb(61,153,112)",
          "line": {
           "width": 1
          }
         },
         "mode": "lines",
         "showlegend": false,
         "type": "scatter",
         "x": [
          0,
          0.3379768933850349,
          0.3379768933850349,
          0
         ],
         "xaxis": "x",
         "y": [
          -85,
          -85,
          -95,
          -95
         ],
         "yaxis": "y"
        },
        {
         "hoverinfo": "text",
         "marker": {
          "color": "rgb(61,153,112)",
          "line": {
           "width": 1
          }
         },
         "mode": "lines",
         "showlegend": false,
         "type": "scatter",
         "x": [
          0,
          0.43085142857395453,
          0.43085142857395453,
          0.3379768933850349
         ],
         "xaxis": "x",
         "y": [
          -75,
          -75,
          -90,
          -90
         ],
         "yaxis": "y"
        },
        {
         "hoverinfo": "text",
         "marker": {
          "color": "rgb(61,153,112)",
          "line": {
           "width": 1
          }
         },
         "mode": "lines",
         "showlegend": false,
         "type": "scatter",
         "x": [
          0,
          0.47257774162893823,
          0.47257774162893823,
          0.43085142857395453
         ],
         "xaxis": "x",
         "y": [
          -65,
          -65,
          -82.5,
          -82.5
         ],
         "yaxis": "y"
        },
        {
         "hoverinfo": "text",
         "marker": {
          "color": "rgb(61,153,112)",
          "line": {
           "width": 1
          }
         },
         "mode": "lines",
         "showlegend": false,
         "type": "scatter",
         "x": [
          0.4649585398176234,
          0.6402513594519208,
          0.6402513594519208,
          0.47257774162893823
         ],
         "xaxis": "x",
         "y": [
          -24.375,
          -24.375,
          -73.75,
          -73.75
         ],
         "yaxis": "y"
        },
        {
         "hoverinfo": "text",
         "marker": {
          "color": "rgb(61,153,112)",
          "line": {
           "width": 1
          }
         },
         "mode": "lines",
         "showlegend": false,
         "type": "scatter",
         "x": [
          0,
          0.5725538369549088,
          0.5725538369549088,
          0
         ],
         "xaxis": "x",
         "y": [
          -115,
          -115,
          -125,
          -125
         ],
         "yaxis": "y"
        },
        {
         "hoverinfo": "text",
         "marker": {
          "color": "rgb(61,153,112)",
          "line": {
           "width": 1
          }
         },
         "mode": "lines",
         "showlegend": false,
         "type": "scatter",
         "x": [
          0,
          0.9466883772835624,
          0.9466883772835624,
          0.5725538369549088
         ],
         "xaxis": "x",
         "y": [
          -105,
          -105,
          -120,
          -120
         ],
         "yaxis": "y"
        },
        {
         "hoverinfo": "text",
         "marker": {
          "color": "rgb(61,153,112)",
          "line": {
           "width": 1
          }
         },
         "mode": "lines",
         "showlegend": false,
         "type": "scatter",
         "x": [
          0.6402513594519208,
          1.1673619766263028,
          1.1673619766263028,
          0.9466883772835624
         ],
         "xaxis": "x",
         "y": [
          -49.0625,
          -49.0625,
          -112.5,
          -112.5
         ],
         "yaxis": "y"
        },
        {
         "hoverinfo": "text",
         "marker": {
          "color": "rgb(61,153,112)",
          "line": {
           "width": 1
          }
         },
         "mode": "lines",
         "showlegend": false,
         "type": "scatter",
         "x": [
          0,
          1.096767751393939,
          1.096767751393939,
          0
         ],
         "xaxis": "x",
         "y": [
          -145,
          -145,
          -155,
          -155
         ],
         "yaxis": "y"
        },
        {
         "hoverinfo": "text",
         "marker": {
          "color": "rgb(61,153,112)",
          "line": {
           "width": 1
          }
         },
         "mode": "lines",
         "showlegend": false,
         "type": "scatter",
         "x": [
          0,
          1.3541402804565552,
          1.3541402804565552,
          1.096767751393939
         ],
         "xaxis": "x",
         "y": [
          -135,
          -135,
          -150,
          -150
         ],
         "yaxis": "y"
        },
        {
         "hoverinfo": "text",
         "marker": {
          "color": "rgb(61,153,112)",
          "line": {
           "width": 1
          }
         },
         "mode": "lines",
         "showlegend": false,
         "type": "scatter",
         "x": [
          1.1673619766263028,
          2.1762751609122257,
          2.1762751609122257,
          1.3541402804565552
         ],
         "xaxis": "x",
         "y": [
          -80.78125,
          -80.78125,
          -142.5,
          -142.5
         ],
         "yaxis": "y"
        },
        {
         "hoverinfo": "text",
         "marker": {
          "color": "rgb(61,153,112)",
          "line": {
           "width": 1
          }
         },
         "mode": "lines",
         "showlegend": false,
         "type": "scatter",
         "x": [
          0,
          3.3002644240540366,
          3.3002644240540366,
          0
         ],
         "xaxis": "x",
         "y": [
          -165,
          -165,
          -175,
          -175
         ],
         "yaxis": "y"
        },
        {
         "hoverinfo": "text",
         "marker": {
          "color": "rgb(61,153,112)",
          "line": {
           "width": 1
          }
         },
         "mode": "lines",
         "showlegend": false,
         "type": "scatter",
         "x": [
          0,
          1.692429110403772,
          1.692429110403772,
          0
         ],
         "xaxis": "x",
         "y": [
          -195,
          -195,
          -205,
          -205
         ],
         "yaxis": "y"
        },
        {
         "hoverinfo": "text",
         "marker": {
          "color": "rgb(61,153,112)",
          "line": {
           "width": 1
          }
         },
         "mode": "lines",
         "showlegend": false,
         "type": "scatter",
         "x": [
          0,
          2.1456495557687503,
          2.1456495557687503,
          0
         ],
         "xaxis": "x",
         "y": [
          -225,
          -225,
          -235,
          -235
         ],
         "yaxis": "y"
        },
        {
         "hoverinfo": "text",
         "marker": {
          "color": "rgb(61,153,112)",
          "line": {
           "width": 1
          }
         },
         "mode": "lines",
         "showlegend": false,
         "type": "scatter",
         "x": [
          0,
          2.623051678125304,
          2.623051678125304,
          2.1456495557687503
         ],
         "xaxis": "x",
         "y": [
          -215,
          -215,
          -230,
          -230
         ],
         "yaxis": "y"
        },
        {
         "hoverinfo": "text",
         "marker": {
          "color": "rgb(61,153,112)",
          "line": {
           "width": 1
          }
         },
         "mode": "lines",
         "showlegend": false,
         "type": "scatter",
         "x": [
          1.692429110403772,
          3.108235446586608,
          3.108235446586608,
          2.623051678125304
         ],
         "xaxis": "x",
         "y": [
          -200,
          -200,
          -222.5,
          -222.5
         ],
         "yaxis": "y"
        },
        {
         "hoverinfo": "text",
         "marker": {
          "color": "rgb(61,153,112)",
          "line": {
           "width": 1
          }
         },
         "mode": "lines",
         "showlegend": false,
         "type": "scatter",
         "x": [
          0,
          3.646021127289348,
          3.646021127289348,
          3.108235446586608
         ],
         "xaxis": "x",
         "y": [
          -185,
          -185,
          -211.25,
          -211.25
         ],
         "yaxis": "y"
        },
        {
         "hoverinfo": "text",
         "marker": {
          "color": "rgb(61,153,112)",
          "line": {
           "width": 1
          }
         },
         "mode": "lines",
         "showlegend": false,
         "type": "scatter",
         "x": [
          3.3002644240540366,
          3.9144257530770474,
          3.9144257530770474,
          3.646021127289348
         ],
         "xaxis": "x",
         "y": [
          -170,
          -170,
          -198.125,
          -198.125
         ],
         "yaxis": "y"
        },
        {
         "hoverinfo": "text",
         "marker": {
          "color": "rgb(61,153,112)",
          "line": {
           "width": 1
          }
         },
         "mode": "lines",
         "showlegend": false,
         "type": "scatter",
         "x": [
          2.1762751609122257,
          5.135433692317659,
          5.135433692317659,
          3.9144257530770474
         ],
         "xaxis": "x",
         "y": [
          -111.640625,
          -111.640625,
          -184.0625,
          -184.0625
         ],
         "yaxis": "y"
        },
        {
         "hoverinfo": "text",
         "marker": {
          "color": "rgb(61,153,112)",
          "line": {
           "width": 1
          }
         },
         "mode": "lines",
         "showlegend": false,
         "type": "scatter",
         "x": [
          0,
          2.5604731906823166,
          2.5604731906823166,
          0
         ],
         "xaxis": "x",
         "y": [
          -285,
          -285,
          -295,
          -295
         ],
         "yaxis": "y"
        },
        {
         "hoverinfo": "text",
         "marker": {
          "color": "rgb(61,153,112)",
          "line": {
           "width": 1
          }
         },
         "mode": "lines",
         "showlegend": false,
         "type": "scatter",
         "x": [
          0,
          3.7589537066683945,
          3.7589537066683945,
          2.5604731906823166
         ],
         "xaxis": "x",
         "y": [
          -275,
          -275,
          -290,
          -290
         ],
         "yaxis": "y"
        },
        {
         "hoverinfo": "text",
         "marker": {
          "color": "rgb(61,153,112)",
          "line": {
           "width": 1
          }
         },
         "mode": "lines",
         "showlegend": false,
         "type": "scatter",
         "x": [
          0,
          4.6502202783784625,
          4.6502202783784625,
          3.7589537066683945
         ],
         "xaxis": "x",
         "y": [
          -265,
          -265,
          -282.5,
          -282.5
         ],
         "yaxis": "y"
        },
        {
         "hoverinfo": "text",
         "marker": {
          "color": "rgb(61,153,112)",
          "line": {
           "width": 1
          }
         },
         "mode": "lines",
         "showlegend": false,
         "type": "scatter",
         "x": [
          0,
          5.2630873813897425,
          5.2630873813897425,
          4.6502202783784625
         ],
         "xaxis": "x",
         "y": [
          -255,
          -255,
          -273.75,
          -273.75
         ],
         "yaxis": "y"
        },
        {
         "hoverinfo": "text",
         "marker": {
          "color": "rgb(61,153,112)",
          "line": {
           "width": 1
          }
         },
         "mode": "lines",
         "showlegend": false,
         "type": "scatter",
         "x": [
          0,
          7.4170224874359265,
          7.4170224874359265,
          5.2630873813897425
         ],
         "xaxis": "x",
         "y": [
          -245,
          -245,
          -264.375,
          -264.375
         ],
         "yaxis": "y"
        },
        {
         "hoverinfo": "text",
         "marker": {
          "color": "rgb(61,153,112)",
          "line": {
           "width": 1
          }
         },
         "mode": "lines",
         "showlegend": false,
         "type": "scatter",
         "x": [
          5.135433692317659,
          8.738354304761385,
          8.738354304761385,
          7.4170224874359265
         ],
         "xaxis": "x",
         "y": [
          -147.8515625,
          -147.8515625,
          -254.6875,
          -254.6875
         ],
         "yaxis": "y"
        },
        {
         "hoverinfo": "text",
         "marker": {
          "color": "rgb(0,116,217)",
          "line": {
           "width": 1
          }
         },
         "mode": "lines",
         "showlegend": false,
         "type": "scatter",
         "x": [
          0,
          22.2910525803853,
          22.2910525803853,
          8.738354304761385
         ],
         "xaxis": "x",
         "y": [
          -5,
          -5,
          -201.26953125,
          -201.26953125
         ],
         "yaxis": "y"
        },
        {
         "hoverinfo": "text",
         "marker": {
          "color": "rgb(61,153,112)",
          "line": {
           "width": 1
          }
         },
         "mode": "lines",
         "showlegend": false,
         "type": "scatter",
         "x": [
          25,
          25,
          35,
          35
         ],
         "xaxis": "x2",
         "y": [
          0,
          1.4338100341090492,
          1.4338100341090492,
          0
         ],
         "yaxis": "y2"
        },
        {
         "hoverinfo": "text",
         "marker": {
          "color": "rgb(61,153,112)",
          "line": {
           "width": 1
          }
         },
         "mode": "lines",
         "showlegend": false,
         "type": "scatter",
         "x": [
          15,
          15,
          30,
          30
         ],
         "xaxis": "x2",
         "y": [
          0,
          1.8641937091052,
          1.8641937091052,
          1.4338100341090492
         ],
         "yaxis": "y2"
        },
        {
         "hoverinfo": "text",
         "marker": {
          "color": "rgb(61,153,112)",
          "line": {
           "width": 1
          }
         },
         "mode": "lines",
         "showlegend": false,
         "type": "scatter",
         "x": [
          5,
          5,
          22.5,
          22.5
         ],
         "xaxis": "x2",
         "y": [
          0,
          2.1258883603063743,
          2.1258883603063743,
          1.8641937091052
         ],
         "yaxis": "y2"
        },
        {
         "hoverinfo": "text",
         "marker": {
          "color": "rgb(255,65,54)",
          "line": {
           "width": 1
          }
         },
         "mode": "lines",
         "showlegend": false,
         "type": "scatter",
         "x": [
          45,
          45,
          55,
          55
         ],
         "xaxis": "x2",
         "y": [
          0,
          2.0883226105403763,
          2.0883226105403763,
          0
         ],
         "yaxis": "y2"
        },
        {
         "hoverinfo": "text",
         "marker": {
          "color": "rgb(255,65,54)",
          "line": {
           "width": 1
          }
         },
         "mode": "lines",
         "showlegend": false,
         "type": "scatter",
         "x": [
          105,
          105,
          115,
          115
         ],
         "xaxis": "x2",
         "y": [
          0,
          0,
          0,
          0
         ],
         "yaxis": "y2"
        },
        {
         "hoverinfo": "text",
         "marker": {
          "color": "rgb(255,65,54)",
          "line": {
           "width": 1
          }
         },
         "mode": "lines",
         "showlegend": false,
         "type": "scatter",
         "x": [
          95,
          95,
          110,
          110
         ],
         "xaxis": "x2",
         "y": [
          0,
          0.9619683318084741,
          0.9619683318084741,
          0
         ],
         "yaxis": "y2"
        },
        {
         "hoverinfo": "text",
         "marker": {
          "color": "rgb(255,65,54)",
          "line": {
           "width": 1
          }
         },
         "mode": "lines",
         "showlegend": false,
         "type": "scatter",
         "x": [
          85,
          85,
          102.5,
          102.5
         ],
         "xaxis": "x2",
         "y": [
          0,
          1.2178677269886442,
          1.2178677269886442,
          0.9619683318084741
         ],
         "yaxis": "y2"
        },
        {
         "hoverinfo": "text",
         "marker": {
          "color": "rgb(255,65,54)",
          "line": {
           "width": 1
          }
         },
         "mode": "lines",
         "showlegend": false,
         "type": "scatter",
         "x": [
          75,
          75,
          93.75,
          93.75
         ],
         "xaxis": "x2",
         "y": [
          0,
          1.5613944254461525,
          1.5613944254461525,
          1.2178677269886442
         ],
         "yaxis": "y2"
        },
        {
         "hoverinfo": "text",
         "marker": {
          "color": "rgb(255,65,54)",
          "line": {
           "width": 1
          }
         },
         "mode": "lines",
         "showlegend": false,
         "type": "scatter",
         "x": [
          65,
          65,
          84.375,
          84.375
         ],
         "xaxis": "x2",
         "y": [
          0,
          1.6786901091650912,
          1.6786901091650912,
          1.5613944254461525
         ],
         "yaxis": "y2"
        },
        {
         "hoverinfo": "text",
         "marker": {
          "color": "rgb(255,65,54)",
          "line": {
           "width": 1
          }
         },
         "mode": "lines",
         "showlegend": false,
         "type": "scatter",
         "x": [
          135,
          135,
          145,
          145
         ],
         "xaxis": "x2",
         "y": [
          0,
          1.5318004459671413,
          1.5318004459671413,
          0
         ],
         "yaxis": "y2"
        },
        {
         "hoverinfo": "text",
         "marker": {
          "color": "rgb(255,65,54)",
          "line": {
           "width": 1
          }
         },
         "mode": "lines",
         "showlegend": false,
         "type": "scatter",
         "x": [
          125,
          125,
          140,
          140
         ],
         "xaxis": "x2",
         "y": [
          0,
          1.6319503997222289,
          1.6319503997222289,
          1.5318004459671413
         ],
         "yaxis": "y2"
        },
        {
         "hoverinfo": "text",
         "marker": {
          "color": "rgb(255,65,54)",
          "line": {
           "width": 1
          }
         },
         "mode": "lines",
         "showlegend": false,
         "type": "scatter",
         "x": [
          165,
          165,
          175,
          175
         ],
         "xaxis": "x2",
         "y": [
          0,
          1.1352238476186758,
          1.1352238476186758,
          0
         ],
         "yaxis": "y2"
        },
        {
         "hoverinfo": "text",
         "marker": {
          "color": "rgb(255,65,54)",
          "line": {
           "width": 1
          }
         },
         "mode": "lines",
         "showlegend": false,
         "type": "scatter",
         "x": [
          155,
          155,
          170,
          170
         ],
         "xaxis": "x2",
         "y": [
          0,
          1.6864822415552603,
          1.6864822415552603,
          1.1352238476186758
         ],
         "yaxis": "y2"
        },
        {
         "hoverinfo": "text",
         "marker": {
          "color": "rgb(255,65,54)",
          "line": {
           "width": 1
          }
         },
         "mode": "lines",
         "showlegend": false,
         "type": "scatter",
         "x": [
          132.5,
          132.5,
          162.5,
          162.5
         ],
         "xaxis": "x2",
         "y": [
          1.6319503997222289,
          2.0896315691914578,
          2.0896315691914578,
          1.6864822415552603
         ],
         "yaxis": "y2"
        },
        {
         "hoverinfo": "text",
         "marker": {
          "color": "rgb(255,65,54)",
          "line": {
           "width": 1
          }
         },
         "mode": "lines",
         "showlegend": false,
         "type": "scatter",
         "x": [
          74.6875,
          74.6875,
          147.5,
          147.5
         ],
         "xaxis": "x2",
         "y": [
          1.6786901091650912,
          2.406860029694504,
          2.406860029694504,
          2.0896315691914578
         ],
         "yaxis": "y2"
        },
        {
         "hoverinfo": "text",
         "marker": {
          "color": "rgb(255,65,54)",
          "line": {
           "width": 1
          }
         },
         "mode": "lines",
         "showlegend": false,
         "type": "scatter",
         "x": [
          50,
          50,
          111.09375,
          111.09375
         ],
         "xaxis": "x2",
         "y": [
          2.0883226105403763,
          2.563131578592008,
          2.563131578592008,
          2.406860029694504
         ],
         "yaxis": "y2"
        },
        {
         "hoverinfo": "text",
         "marker": {
          "color": "rgb(35,205,205)",
          "line": {
           "width": 1
          }
         },
         "mode": "lines",
         "showlegend": false,
         "type": "scatter",
         "x": [
          205,
          205,
          215,
          215
         ],
         "xaxis": "x2",
         "y": [
          0,
          0.9600016011483553,
          0.9600016011483553,
          0
         ],
         "yaxis": "y2"
        },
        {
         "hoverinfo": "text",
         "marker": {
          "color": "rgb(35,205,205)",
          "line": {
           "width": 1
          }
         },
         "mode": "lines",
         "showlegend": false,
         "type": "scatter",
         "x": [
          245,
          245,
          255,
          255
         ],
         "xaxis": "x2",
         "y": [
          0,
          0.8104848984909278,
          0.8104848984909278,
          0
         ],
         "yaxis": "y2"
        },
        {
         "hoverinfo": "text",
         "marker": {
          "color": "rgb(35,205,205)",
          "line": {
           "width": 1
          }
         },
         "mode": "lines",
         "showlegend": false,
         "type": "scatter",
         "x": [
          235,
          235,
          250,
          250
         ],
         "xaxis": "x2",
         "y": [
          0,
          0.9958659414298408,
          0.9958659414298408,
          0.8104848984909278
         ],
         "yaxis": "y2"
        },
        {
         "hoverinfo": "text",
         "marker": {
          "color": "rgb(35,205,205)",
          "line": {
           "width": 1
          }
         },
         "mode": "lines",
         "showlegend": false,
         "type": "scatter",
         "x": [
          225,
          225,
          242.5,
          242.5
         ],
         "xaxis": "x2",
         "y": [
          0,
          1.0918677569439847,
          1.0918677569439847,
          0.9958659414298408
         ],
         "yaxis": "y2"
        },
        {
         "hoverinfo": "text",
         "marker": {
          "color": "rgb(35,205,205)",
          "line": {
           "width": 1
          }
         },
         "mode": "lines",
         "showlegend": false,
         "type": "scatter",
         "x": [
          265,
          265,
          275,
          275
         ],
         "xaxis": "x2",
         "y": [
          0,
          1.0940587580581032,
          1.0940587580581032,
          0
         ],
         "yaxis": "y2"
        },
        {
         "hoverinfo": "text",
         "marker": {
          "color": "rgb(35,205,205)",
          "line": {
           "width": 1
          }
         },
         "mode": "lines",
         "showlegend": false,
         "type": "scatter",
         "x": [
          285,
          285,
          295,
          295
         ],
         "xaxis": "x2",
         "y": [
          0,
          0,
          0,
          0
         ],
         "yaxis": "y2"
        },
        {
         "hoverinfo": "text",
         "marker": {
          "color": "rgb(35,205,205)",
          "line": {
           "width": 1
          }
         },
         "mode": "lines",
         "showlegend": false,
         "type": "scatter",
         "x": [
          315,
          315,
          325,
          325
         ],
         "xaxis": "x2",
         "y": [
          0,
          0.7444896062789033,
          0.7444896062789033,
          0
         ],
         "yaxis": "y2"
        },
        {
         "hoverinfo": "text",
         "marker": {
          "color": "rgb(35,205,205)",
          "line": {
           "width": 1
          }
         },
         "mode": "lines",
         "showlegend": false,
         "type": "scatter",
         "x": [
          305,
          305,
          320,
          320
         ],
         "xaxis": "x2",
         "y": [
          0,
          0.9062418850187771,
          0.9062418850187771,
          0.7444896062789033
         ],
         "yaxis": "y2"
        },
        {
         "hoverinfo": "text",
         "marker": {
          "color": "rgb(35,205,205)",
          "line": {
           "width": 1
          }
         },
         "mode": "lines",
         "showlegend": false,
         "type": "scatter",
         "x": [
          290,
          290,
          312.5,
          312.5
         ],
         "xaxis": "x2",
         "y": [
          0,
          1.1464141744132539,
          1.1464141744132539,
          0.9062418850187771
         ],
         "yaxis": "y2"
        },
        {
         "hoverinfo": "text",
         "marker": {
          "color": "rgb(35,205,205)",
          "line": {
           "width": 1
          }
         },
         "mode": "lines",
         "showlegend": false,
         "type": "scatter",
         "x": [
          270,
          270,
          301.25,
          301.25
         ],
         "xaxis": "x2",
         "y": [
          1.0940587580581032,
          1.2053753750378013,
          1.2053753750378013,
          1.1464141744132539
         ],
         "yaxis": "y2"
        },
        {
         "hoverinfo": "text",
         "marker": {
          "color": "rgb(35,205,205)",
          "line": {
           "width": 1
          }
         },
         "mode": "lines",
         "showlegend": false,
         "type": "scatter",
         "x": [
          233.75,
          233.75,
          285.625,
          285.625
         ],
         "xaxis": "x2",
         "y": [
          1.0918677569439847,
          1.348065347415973,
          1.348065347415973,
          1.2053753750378013
         ],
         "yaxis": "y2"
        },
        {
         "hoverinfo": "text",
         "marker": {
          "color": "rgb(35,205,205)",
          "line": {
           "width": 1
          }
         },
         "mode": "lines",
         "showlegend": false,
         "type": "scatter",
         "x": [
          355,
          355,
          365,
          365
         ],
         "xaxis": "x2",
         "y": [
          0,
          0.8166563789680374,
          0.8166563789680374,
          0
         ],
         "yaxis": "y2"
        },
        {
         "hoverinfo": "text",
         "marker": {
          "color": "rgb(35,205,205)",
          "line": {
           "width": 1
          }
         },
         "mode": "lines",
         "showlegend": false,
         "type": "scatter",
         "x": [
          345,
          345,
          360,
          360
         ],
         "xaxis": "x2",
         "y": [
          0,
          0.9462000979983505,
          0.9462000979983505,
          0.8166563789680374
         ],
         "yaxis": "y2"
        },
        {
         "hoverinfo": "text",
         "marker": {
          "color": "rgb(35,205,205)",
          "line": {
           "width": 1
          }
         },
         "mode": "lines",
         "showlegend": false,
         "type": "scatter",
         "x": [
          335,
          335,
          352.5,
          352.5
         ],
         "xaxis": "x2",
         "y": [
          0,
          1.1715638696448696,
          1.1715638696448696,
          0.9462000979983505
         ],
         "yaxis": "y2"
        },
        {
         "hoverinfo": "text",
         "marker": {
          "color": "rgb(35,205,205)",
          "line": {
           "width": 1
          }
         },
         "mode": "lines",
         "showlegend": false,
         "type": "scatter",
         "x": [
          375,
          375,
          385,
          385
         ],
         "xaxis": "x2",
         "y": [
          0,
          0.9437219772188891,
          0.9437219772188891,
          0
         ],
         "yaxis": "y2"
        },
        {
         "hoverinfo": "text",
         "marker": {
          "color": "rgb(35,205,205)",
          "line": {
           "width": 1
          }
         },
         "mode": "lines",
         "showlegend": false,
         "type": "scatter",
         "x": [
          425,
          425,
          435,
          435
         ],
         "xaxis": "x2",
         "y": [
          0,
          0.7399908202177411,
          0.7399908202177411,
          0
         ],
         "yaxis": "y2"
        },
        {
         "hoverinfo": "text",
         "marker": {
          "color": "rgb(35,205,205)",
          "line": {
           "width": 1
          }
         },
         "mode": "lines",
         "showlegend": false,
         "type": "scatter",
         "x": [
          415,
          415,
          430,
          430
         ],
         "xaxis": "x2",
         "y": [
          0,
          0.8870410274035435,
          0.8870410274035435,
          0.7399908202177411
         ],
         "yaxis": "y2"
        },
        {
         "hoverinfo": "text",
         "marker": {
          "color": "rgb(35,205,205)",
          "line": {
           "width": 1
          }
         },
         "mode": "lines",
         "showlegend": false,
         "type": "scatter",
         "x": [
          405,
          405,
          422.5,
          422.5
         ],
         "xaxis": "x2",
         "y": [
          0,
          1.1318818248991225,
          1.1318818248991225,
          0.8870410274035435
         ],
         "yaxis": "y2"
        },
        {
         "hoverinfo": "text",
         "marker": {
          "color": "rgb(35,205,205)",
          "line": {
           "width": 1
          }
         },
         "mode": "lines",
         "showlegend": false,
         "type": "scatter",
         "x": [
          395,
          395,
          413.75,
          413.75
         ],
         "xaxis": "x2",
         "y": [
          0,
          1.2023412254258552,
          1.2023412254258552,
          1.1318818248991225
         ],
         "yaxis": "y2"
        },
        {
         "hoverinfo": "text",
         "marker": {
          "color": "rgb(35,205,205)",
          "line": {
           "width": 1
          }
         },
         "mode": "lines",
         "showlegend": false,
         "type": "scatter",
         "x": [
          380,
          380,
          404.375,
          404.375
         ],
         "xaxis": "x2",
         "y": [
          0.9437219772188891,
          1.4933773913480066,
          1.4933773913480066,
          1.2023412254258552
         ],
         "yaxis": "y2"
        },
        {
         "hoverinfo": "text",
         "marker": {
          "color": "rgb(35,205,205)",
          "line": {
           "width": 1
          }
         },
         "mode": "lines",
         "showlegend": false,
         "type": "scatter",
         "x": [
          343.75,
          343.75,
          392.1875,
          392.1875
         ],
         "xaxis": "x2",
         "y": [
          1.1715638696448696,
          1.5677980398400106,
          1.5677980398400106,
          1.4933773913480066
         ],
         "yaxis": "y2"
        },
        {
         "hoverinfo": "text",
         "marker": {
          "color": "rgb(35,205,205)",
          "line": {
           "width": 1
          }
         },
         "mode": "lines",
         "showlegend": false,
         "type": "scatter",
         "x": [
          259.6875,
          259.6875,
          367.96875,
          367.96875
         ],
         "xaxis": "x2",
         "y": [
          1.348065347415973,
          1.8651813180606582,
          1.8651813180606582,
          1.5677980398400106
         ],
         "yaxis": "y2"
        },
        {
         "hoverinfo": "text",
         "marker": {
          "color": "rgb(35,205,205)",
          "line": {
           "width": 1
          }
         },
         "mode": "lines",
         "showlegend": false,
         "type": "scatter",
         "x": [
          210,
          210,
          313.828125,
          313.828125
         ],
         "xaxis": "x2",
         "y": [
          0.9600016011483553,
          2.118605567625475,
          2.118605567625475,
          1.8651813180606582
         ],
         "yaxis": "y2"
        },
        {
         "hoverinfo": "text",
         "marker": {
          "color": "rgb(0,116,217)",
          "line": {
           "width": 1
          }
         },
         "mode": "lines",
         "showlegend": false,
         "type": "scatter",
         "x": [
          195,
          195,
          261.9140625,
          261.9140625
         ],
         "xaxis": "x2",
         "y": [
          0,
          3.0926372909946385,
          3.0926372909946385,
          2.118605567625475
         ],
         "yaxis": "y2"
        },
        {
         "hoverinfo": "text",
         "marker": {
          "color": "rgb(0,116,217)",
          "line": {
           "width": 1
          }
         },
         "mode": "lines",
         "showlegend": false,
         "type": "scatter",
         "x": [
          185,
          185,
          228.45703125,
          228.45703125
         ],
         "xaxis": "x2",
         "y": [
          0,
          3.1925917126725194,
          3.1925917126725194,
          3.0926372909946385
         ],
         "yaxis": "y2"
        },
        {
         "hoverinfo": "text",
         "marker": {
          "color": "rgb(0,116,217)",
          "line": {
           "width": 1
          }
         },
         "mode": "lines",
         "showlegend": false,
         "type": "scatter",
         "x": [
          80.546875,
          80.546875,
          206.728515625,
          206.728515625
         ],
         "xaxis": "x2",
         "y": [
          2.563131578592008,
          3.4565462757147216,
          3.4565462757147216,
          3.1925917126725194
         ],
         "yaxis": "y2"
        },
        {
         "hoverinfo": "text",
         "marker": {
          "color": "rgb(0,116,217)",
          "line": {
           "width": 1
          }
         },
         "mode": "lines",
         "showlegend": false,
         "type": "scatter",
         "x": [
          13.75,
          13.75,
          143.6376953125,
          143.6376953125
         ],
         "xaxis": "x2",
         "y": [
          2.1258883603063743,
          3.9622337007431563,
          3.9622337007431563,
          3.4565462757147216
         ],
         "yaxis": "y2"
        },
        {
         "colorscale": [
          [
           0,
           "rgb(5,48,97)"
          ],
          [
           0.1,
           "rgb(33,102,172)"
          ],
          [
           0.2,
           "rgb(67,147,195)"
          ],
          [
           0.3,
           "rgb(146,197,222)"
          ],
          [
           0.4,
           "rgb(209,229,240)"
          ],
          [
           0.5,
           "rgb(247,247,247)"
          ],
          [
           0.6,
           "rgb(253,219,199)"
          ],
          [
           0.7,
           "rgb(244,165,130)"
          ],
          [
           0.8,
           "rgb(214,96,77)"
          ],
          [
           0.9,
           "rgb(178,24,43)"
          ],
          [
           1,
           "rgb(103,0,31)"
          ]
         ],
         "hoverongaps": false,
         "hovertemplate": "Sample: %{x}<br>Gene: %{y}<br>Exp: %{z:.3f}<extra></extra>",
         "type": "heatmap",
         "x": [
          "mt004004",
          "mt004002",
          "mt004001",
          "mt004003",
          "mt003001",
          "mt007004",
          "mt003003",
          "mt011006",
          "mt003002",
          "mt012001",
          "mt007002",
          "mt014002",
          "mt011004",
          "mt005002",
          "mt011005",
          "mt010002",
          "mt010004",
          "mt014005",
          "mt010001",
          "mt014012",
          "mt009001",
          "mt009002",
          "mt012011",
          "mt007003",
          "mt014003",
          "mt014004",
          "mt006006",
          "mt012009",
          "mt007001",
          "mt014001",
          "mt006001",
          "mt012007",
          "mt014006",
          "mt004005",
          "mt001001",
          "mt001003",
          "mt002004",
          "mt001004",
          "mt002003",
          "mt001005",
          "mt010003",
          "mt002002",
          "mt001002",
          "mt002001"
         ],
         "xaxis": "x3",
         "y": [
          "MYCTH_2297779",
          "MYCTH_2297068",
          "MYCTH_2046198",
          "MYCTH_100654",
          "MYCTH_2295254",
          "MYCTH_2296191",
          "MYCTH_2294864",
          "MYCTH_101588",
          "MYCTH_2296007",
          "MYCTH_2296558",
          "MYCTH_2294730",
          "MYCTH_2297482",
          "MYCTH_2300427",
          "MYCTH_2116523",
          "MYCTH_2300159",
          "MYCTH_2067869",
          "MYCTH_2295173",
          "MYCTH_2297709",
          "MYCTH_2145069",
          "MYCTH_2295800",
          "MYCTH_2298243",
          "MYCTH_2300282",
          "MYCTH_2073591",
          "MYCTH_2095122",
          "MYCTH_2127482",
          "MYCTH_2073265",
          "MYCTH_2299099",
          "MYCTH_2080075",
          "MYCTH_113886",
          "MYCTH_2297020"
         ],
         "yaxis": "y3",
         "z": [
          [
           0.6625376039639002,
           2,
           2,
           1.9225078503379645,
           2,
           2,
           1.7320307048150734,
           2,
           2,
           2,
           2,
           2,
           1.9425461682576501,
           2,
           2,
           2,
           2,
           2,
           1.685379340853793,
           2,
           2,
           2,
           2,
           2,
           2,
           2,
           2,
           2,
           2,
           2,
           2,
           2,
           2,
           2,
           2,
           2,
           2,
           2,
           2,
           2,
           2,
           2,
           2,
           2
          ],
          [
           -2,
           -2,
           -2,
           -2,
           -1.9730920900023197,
           -2,
           -2,
           -2,
           -1.9594947280509447,
           -2,
           -2,
           -2,
           -1.9801944865732892,
           -1.987522640370296,
           -2,
           -2,
           -2,
           -2,
           -2,
           -1.8200783085356305,
           -2,
           -2,
           -1.9964043700732956,
           -2,
           -2,
           -2,
           -2,
           -2,
           -1.9918430907270772,
           -1.9918430907270772,
           -1.9731087809466994,
           -2,
           -2,
           -2,
           -1.9683964519041801,
           -1.944936325045482,
           -1.9589886521998805,
           -1.8788327733537924,
           -1.9094660624319604,
           -1.9151110972607435,
           -2,
           -1.9568517058889765,
           -1.9417439179332736,
           -1.948258888710822
          ],
          [
           -1.946912050964431,
           -1.914412081125234,
           -1.8957701231483135,
           -1.893980520517324,
           -2,
           -1.8541188472328487,
           -1.9240354899810588,
           -1.9146372507424692,
           -1.954692556634304,
           -1.8493280333144047,
           -1.8393713027332788,
           -1.8393713027332788,
           -1.9793023463288428,
           -1.9643791507345543,
           -1.9986960301361925,
           -1.9226826920575457,
           -1.8450056356048374,
           -1.8586037295212483,
           -1.9414288874142889,
           -1.9105403288958496,
           -1.84223876020849,
           -1.8747926307517682,
           -1.9604480708062508,
           -1.8768811181999707,
           -1.8737866205052918,
           -1.8962784715595569,
           -1.8807487493948685,
           -1.9247868076766892,
           -1.9237699751585036,
           -1.9237699751585036,
           -1.9104237890920772,
           -1.8874602392365933,
           -1.902690695424743,
           -1.950010111223458,
           -1.9720614011791575,
           -1.936931473620376,
           -1.9579534142942465,
           -1.9234900394190322,
           -1.9583786931314717,
           -1.9609835146000187,
           -1.9126164267569856,
           -2,
           -1.9942590936897087,
           -1.9870876164747362
          ],
          [
           -1.9685011502388958,
           -1.9614296529465673,
           -1.9978582902016777,
           -1.9836074298791846,
           -1.885254774607593,
           -1.9240718475607534,
           -1.9124713388495664,
           -1.9236317352566823,
           -2,
           -1.9095211054325194,
           -1.8961958633792477,
           -1.8961958633792477,
           -1.9821571951110715,
           -1.98712014489837,
           -1.9576934221964648,
           -1.9524441322615051,
           -1.9071496024613885,
           -1.8954035596758785,
           -1.9570006635700066,
           -1.9789506656225528,
           -1.8896228781670708,
           -1.8940015716406182,
           -1.967362743742221,
           -1.929089757950616,
           -1.9205031005543747,
           -1.9530348919221674,
           -1.970308213651767,
           -1.9800137714295802,
           -1.963812984316488,
           -1.963812984316488,
           -1.9731087809466994,
           -1.942117288651942,
           -1.9236143455985095,
           -1.947098078867543,
           -1.9336059913953365,
           -1.948817465130382,
           -1.9051562811069083,
           -1.9843382100055558,
           -1.9496696118889085,
           -1.9218423758920502,
           -1.9181108288644275,
           -1.8814547911271253,
           -1.9232977271657805,
           -1.9155658325511116
          ],
          [
           -1.9247920721996108,
           -1.9018209347730806,
           -1.8743530251650902,
           -1.907179732822396,
           -1.9945359416479806,
           -1.9462236309979233,
           -1.9511514305652478,
           -1.9630038184132372,
           -1.969725441069005,
           -1.8943781942078364,
           -1.8713243231573038,
           -1.8713243231573038,
           -1.9958961548755465,
           -1.9935600724491849,
           -1.9829035062300782,
           -1.9703426207757746,
           -1.937977884058854,
           -1.9065850465305545,
           -1.984516699845167,
           -1.9964917776037587,
           -1.8791426261950552,
           -1.8964463459355627,
           -2,
           -1.9406808552086885,
           -1.9573153362403313,
           -1.9689665186906193,
           -1.9100371147329354,
           -1.9917371422518053,
           -2,
           -2,
           -1.917398985843104,
           -1.9436405178979437,
           -1.9425316183583534,
           -1.923963599595551,
           -1.9835342858660434,
           -1.9393571861734384,
           -1.9608202269560024,
           -1.9271938411069076,
           -1.9693156788779462,
           -1.8992801271463742,
           -1.9577758961332203,
           -1.9891904064857562,
           -1.9776951672862453,
           -1.9654754000778407
          ],
          [
           -1.977349141744824,
           -1.9402319002271189,
           -1.9330715688024274,
           -1.964021501942626,
           -1.950411093069409,
           -1.9450577476591249,
           -1.92523178147742,
           -1.9786168858718711,
           -1.9933187180290217,
           -1.9197425705091804,
           -1.9222764368064251,
           -1.9222764368064251,
           -2,
           -2,
           -1.9410315850478121,
           -1.9920913655402066,
           -1.9560118195387943,
           -1.9498956158663883,
           -1.9880557398805574,
           -2,
           -1.9752487666192826,
           -1.9867283681131582,
           -1.992439957590006,
           -1.9714605756586958,
           -1.958893003484015,
           -1.9553582541592334,
           -1.9858802646441827,
           -1.9955507689048182,
           -2,
           -2,
           -2,
           -1.970700237444559,
           -1.9737737809465803,
           -1.9817997977755308,
           -2,
           -2,
           -2,
           -2,
           -2,
           -2,
           -1.9730548499388465,
           -1.9870284877829074,
           -2,
           -2
          ],
          [
           -1.8333038400283135,
           -1.8699446148942105,
           -1.8358022487952883,
           -1.7983926765660758,
           -1.6978272635892677,
           -1.8698582723066273,
           -1.70112650782574,
           -1.8268985999151464,
           -1.797473640254724,
           -1.7696384629945108,
           -1.7443758366077982,
           -1.7443758366077982,
           -1.8483361584441074,
           -1.8472529684041055,
           -1.7699217618081715,
           -1.8313171518509848,
           -1.8988637402138484,
           -1.8348253777290258,
           -1.911170095111701,
           -1.8485199686765856,
           -1.902332970984196,
           -1.9219418492971274,
           -1.8346010233715946,
           -1.8788292017727561,
           -1.8532769463374017,
           -1.8137991121437165,
           -1.9043085363885752,
           -1.9142640230230055,
           -1.8508027140261762,
           -1.8508027140261762,
           -1.8674712617304912,
           -1.8786792706419964,
           -1.8595535810254022,
           -1.9165217391304348,
           -1.9153343602273332,
           -1.9294117647058824,
           -1.905952617957396,
           -1.8749173258551814,
           -1.8487050305071013,
           -1.8552775094269065,
           -1.7888794806661021,
           -1.8244341853394888,
           -1.884523081266764,
           -1.8458755923899357
          ],
          [
           -1.9646080339762875,
           -1.913933936327051,
           -1.9191504551133323,
           -1.968279312363617,
           -1.7614371504420216,
           -1.783437169818195,
           -1.7920446615491974,
           -1.8708527789563003,
           -1.8394404426349307,
           -1.7452205186447094,
           -1.7400578608748218,
           -1.7400578608748218,
           -1.9311267731287358,
           -1.9207083920305896,
           -1.847870182555781,
           -1.9079060329353001,
           -1.8657202912236879,
           -1.8229362018329147,
           -1.8895819508958196,
           -1.9349725920125294,
           -1.7630794102070966,
           -1.8260717715882302,
           -1.7909924860554096,
           -1.8671407003360443,
           -1.846528036461643,
           -1.8647471269136622,
           -1.845893174116508,
           -1.8739384523031832,
           -1.962774832227207,
           -1.962774832227207,
           -1.9345616410068145,
           -1.906814210832848,
           -1.8470137221883844,
           -1.9446713852376138,
           -1.943591650289478,
           -1.9050737820901555,
           -1.9401951025283695,
           -1.8923781052408795,
           -1.9275931036228766,
           -1.9446539312537006,
           -1.8796500141123342,
           -1.883256390046166,
           -1.9167098018916757,
           -1.9351633508093133
          ],
          [
           -1.8602017342063353,
           -1.8882734988245606,
           -1.8256291272532572,
           -1.8192559476289318,
           -1.8197891698239645,
           -1.9153277225197654,
           -1.868208553484199,
           -1.8837505303351718,
           -1.9290113790583567,
           -1.9110353965549878,
           -1.8633792478086273,
           -1.8633792478086273,
           -1.8938353109108752,
           -1.9140672167438115,
           -1.8268617791944364,
           -1.9696141939176357,
           -1.881195357480123,
           -1.8768621067902764,
           -1.9315195753151957,
           -1.821832419733751,
           -1.860411963096134,
           -1.8933030646992055,
           -1.9097404692758033,
           -1.969317683728632,
           -1.9438175164888138,
           -1.929801269551508,
           -1.9475552686783928,
           -1.9527534031321174,
           -1.9827963368061992,
           -1.9827963368061992,
           -1.9470435720349677,
           -1.8878186461180055,
           -1.9105012360717997,
           -1.948715874620829,
           -1.9198491528124502,
           -1.9117040630685262,
           -1.98048974716305,
           -1.8538585676869759,
           -1.844856831818527,
           -1.907008632241578,
           -1.9653777401448866,
           -1.9421686746987952,
           -1.8958166674509436,
           -1.839923075161977
          ],
          [
           -1.904795611396213,
           -1.8932143284057856,
           -1.8425843298233089,
           -1.8997285645856619,
           -1.7999948452279697,
           -1.9092068349910738,
           -1.8107865616588574,
           -1.8730589732711074,
           -1.9041653617287817,
           -1.834942267650956,
           -1.8298717561207307,
           -1.8298717561207307,
           -1.959318404853243,
           -1.870396458039847,
           -1.883367139959432,
           -1.8814745440828324,
           -1.8596277454534378,
           -1.8218038993666184,
           -1.9014377350143774,
           -1.9368519968676585,
           -1.8427962204197674,
           -1.8845717279315464,
           -1.8783017563269258,
           -1.871036867481615,
           -1.9044634835769223,
           -1.9179355266979214,
           -1.8901081168307245,
           -1.930295379508819,
           -1.9526899262170478,
           -1.9526899262170478,
           -1.9071197485258014,
           -1.8974956319161327,
           -1.8840600480097454,
           -1.927360970677452,
           -1.9172996228820312,
           -1.8735395189003436,
           -1.9347800119450527,
           -1.9128019259768776,
           -1.8989341502316515,
           -1.89067904889526,
           -1.864897920782764,
           -1.8169575498254702,
           -1.8643828525716437,
           -1.8372673367064265
          ],
          [
           -1.7450008847991505,
           -1.7306450970235487,
           -1.6177048009994646,
           -1.6238224493054447,
           -1.4934921003118635,
           -1.5789703792764236,
           -1.3980659954142158,
           -1.6906236741620704,
           -1.669485332498173,
           -1.4302479651713043,
           -1.5421218532751846,
           -1.5421218532751846,
           -1.788741190115086,
           -1.6759911450996177,
           -1.6821211243117937,
           -1.6398449491401963,
           -1.6628385170743596,
           -1.4818300838611513,
           -1.7595222295952224,
           -1.8551605324980422,
           -1.7103436742202525,
           -1.759015105212608,
           -1.6807265016364725,
           -1.6251887205961135,
           -1.7116374871266735,
           -1.619134547566693,
           -1.8192673874455383,
           -1.8609438725966208,
           -1.733713989099403,
           -1.733713989099403,
           -1.751738063006218,
           -1.781730209220017,
           -1.6461610117874672,
           -1.8112032355915066,
           -1.919477346364264,
           -1.8578532443905398,
           -1.8276727055544495,
           -1.8906849387549935,
           -1.8665282665383933,
           -1.8008040138365171,
           -1.7127105089848527,
           -1.7203918477648914,
           -1.8186438285257165,
           -1.8144646168639391
          ],
          [
           -1.8672801274110777,
           -1.8071482647328365,
           -1.7895770123148314,
           -1.777103624461121,
           -1.5808139385035695,
           -1.593398185594054,
           -1.7250523377529658,
           -1.8476028850233348,
           -1.7943417893308278,
           -1.6528487601741433,
           -1.7243404292067879,
           -1.7243404292067879,
           -1.8697475243108217,
           -1.809015898571141,
           -1.8404810199942045,
           -1.6502510471136085,
           -1.743138270326256,
           -1.700222922048052,
           -1.7828798938287989,
           -1.8519028974158183,
           -1.7544945229534241,
           -1.7700165895398585,
           -1.6869958050984188,
           -1.8290556664880924,
           -1.8555557990227227,
           -1.889972202630378,
           -1.8857511699209295,
           -1.7975246738113313,
           -1.833005821067072,
           -1.833005821067072,
           -1.866369914875066,
           -1.6758209757627345,
           -1.7588047723119917,
           -1.8259251769464104,
           -1.8843150794072343,
           -1.8331109763493025,
           -1.7947043599442565,
           -1.8327998095187703,
           -1.8054634294539103,
           -1.8283523949016798,
           -1.7375482171417818,
           -1.7563337461997524,
           -1.8281492635640675,
           -1.780855788823004
          ],
          [
           -1.9768182622544683,
           -1.916643423516755,
           -1.9400321256469748,
           -1.9582734578742882,
           -1.6590633779221113,
           -1.5987903960359966,
           -1.7776891635928622,
           -1.8092490453966907,
           -1.825242718446602,
           -1.7421919363997729,
           -1.712077378125135,
           -1.712077378125135,
           -1.8572575608885717,
           -1.8804588448379955,
           -1.8339611706751666,
           -1.8490075184057857,
           -1.8263624455478722,
           -1.7275397190474506,
           -1.8810882548108825,
           -1.796523101018011,
           -1.7159182763330267,
           -1.7856456823539684,
           -1.7113354538330336,
           -1.796035649929382,
           -1.8166400070118545,
           -1.8093183421150894,
           -1.7623850250121027,
           -1.6254877381309698,
           -1.850061176819547,
           -1.850061176819547,
           -1.8298419108367943,
           -1.7505488105371623,
           -1.7498477302855506,
           -1.9192719919110213,
           -1.9368460190152441,
           -1.8539721043056399,
           -1.9053951821620545,
           -1.922855101986825,
           -1.921618268816932,
           -1.9000280469942972,
           -1.8628657446608337,
           -1.861006643396014,
           -1.9104983294903768,
           -1.9048513015407862
          ],
          [
           -1.7487170412316404,
           -1.6936685659640593,
           -1.5680885240049973,
           -1.5908244185427645,
           -0.8765689837366941,
           -1.6744270776405437,
           -1.321303957731034,
           -1.3481544336020366,
           -1.267982044054703,
           -1.5557448419458642,
           -1.4403903450062612,
           -1.4403903450062612,
           -1.296101347131769,
           -1.3050915677198631,
           -1.541292379020574,
           -1.657223132755795,
           -1.493343893746002,
           -1.5063161246948091,
           -1.6199955761999558,
           -1.6154737666405639,
           -1.433174457173119,
           -1.3797258360254954,
           -1.6395150509380907,
           -1.585447815711294,
           -1.4083747836185552,
           -1.4092851512259883,
           -1.546070679360981,
           -1.710234997086813,
           -1.7156204812576472,
           -1.7156204812576472,
           -1.548447789275635,
           -1.3026298104923613,
           -1.6028805847157035,
           -1.8207482305358949,
           -1.9107133372284484,
           -1.8053769961592885,
           -1.8804698387417877,
           -1.8442286832985,
           -1.912200308868579,
           -1.847299697715728,
           -1.8510490168407188,
           -1.8626280824231505,
           -1.8603359841889793,
           -1.9230751619771516
          ],
          [
           -1.6204211643956823,
           -1.611427660676575,
           -1.5225771907906478,
           -1.54079514609612,
           -1.7758705121266012,
           -1.3055707363281963,
           -1.4267769913268866,
           -1.5068307170131523,
           -1.4581897901659882,
           -1.4137800492144614,
           -1.3419404982943997,
           -1.3419404982943997,
           -1.7270050851993934,
           -1.619641779029986,
           -1.7586206896551724,
           -1.5488956528525715,
           -1.4232796173881257,
           -1.3218923604967978,
           -1.740853793408538,
           -1.6395301487862177,
           -1.197034311676004,
           -1.3614773421810877,
           -1.519015350573918,
           -1.5563239662981543,
           -1.5692968424743081,
           -1.6727378334647138,
           -1.5340487332580282,
           -1.6155299352036583,
           -1.6477698268510623,
           -1.6477698268510623,
           -1.4543744120413924,
           -1.5754670489673401,
           -1.4961126437605246,
           -1.7241658240647117,
           -1.8888298719923513,
           -1.806913280776228,
           -1.8076846506072068,
           -1.7450726209688088,
           -1.755436846502443,
           -1.6914830627317772,
           -1.540050804403048,
           -1.8421799346920391,
           -1.7971860147757752,
           -1.8170287781313674
          ],
          [
           -1.851353742700407,
           -1.8371120054189745,
           -1.8347313938961272,
           -1.8707754537229229,
           -1.1285342405732108,
           -1.4661711662476775,
           -1.4818064001595055,
           -1.5507848960543065,
           -1.6358701325816891,
           -1.4177550634109408,
           -1.3833930653309727,
           -1.3833930653309727,
           -1.8040860023195646,
           -1.6488227007446166,
           -1.69327731092437,
           -1.5278753349462786,
           -1.6104426234502087,
           -1.4413502706910584,
           -1.7273169652731697,
           -1.5481910728269381,
           -1.3921453856231012,
           -1.519339910940365,
           -1.2603143871294888,
           -1.6240198704524424,
           -1.590332405723426,
           -1.6844376218727959,
           -1.7198644505405842,
           -1.599286710570455,
           -1.7222943161173112,
           -1.7222943161173112,
           -1.7263153064268177,
           -1.6752833654406165,
           -1.5790906810934757,
           -1.8450960566228514,
           -1.8329526743506666,
           -1.7317161916312918,
           -1.7385626119848696,
           -1.7677187227175322,
           -1.7922985392035242,
           -1.7506933840256786,
           -1.4771286104054944,
           -1.685530908681455,
           -1.7734694837889982,
           -1.7556720620893336
          ],
          [
           -0.7910104406299774,
           -1.1348766784874686,
           -1.1122612885953955,
           -0.6059928681675446,
           -1.2689502306760483,
           -1.033482712136117,
           -1.0900209351011863,
           -0.3193890538820534,
           -0.8007098862094164,
           -0.9998107136096916,
           -0.9747398419620881,
           -0.9747398419620881,
           -1.253635471496119,
           -1.054940631917891,
           -1.493045494059693,
           -1.1094461354353653,
           -1.190544368964572,
           -0.5355082976540109,
           -1.272992700729927,
           0.5588723570869227,
           0.41759344426791545,
           -0.06618353269885602,
           -1.3695662195178169,
           -1.1418691861880874,
           -1.2887350176391963,
           -1.40405758619259,
           -1.0918993061158626,
           -1.2681367962004977,
           -1.3326165140335915,
           -1.3326165140335915,
           -1.0566964183282472,
           -1.3948299807356301,
           -1.4432302676364157,
           -1.3771486349848332,
           -1.495617995432092,
           -1.2391348291894078,
           -1.2105912801114873,
           -1.0353183946665256,
           -0.9204789994683409,
           -1.2907226775530558,
           -1.1949571925863203,
           -1.166490260105844,
           -1.1417815632205541,
           -1.2902767920510998
          ],
          [
           -1.70076092726951,
           -1.745786348966012,
           -1.641442084597537,
           -1.557826387780084,
           -1.600298976777752,
           -1.5084344372791199,
           -1.2892034692453396,
           -0.4454815443360203,
           -0.8263910637853638,
           -1.0176036342986938,
           -0.858672654259683,
           -0.858672654259683,
           -1.0466589347845483,
           -0.8096196417790298,
           -1.5334685598377282,
           -1.1170425869559564,
           -0.9096780089560423,
           -1.0543859028342948,
           -1.2548551205485512,
           0.43445575567736894,
           -1.2113052930847061,
           -1.3697721121103639,
           -1.4007283455492554,
           -1.5887595577850289,
           -1.6171527488660518,
           -1.7086669709164835,
           -1.7129256091657254,
           -1.5999223150126238,
           -1.8393088873234213,
           -1.8393088873234213,
           -1.6405020306082647,
           -1.2256619327091078,
           -1.662498656443696,
           -1.6374519716885743,
           -1.565517607691082,
           -1.2870022235698402,
           -1.5358152498506867,
           -0.5187967935659674,
           -0.09979999493658043,
           -1.3339773754246003,
           -1.5736946090883432,
           -1.3988064407161356,
           -0.8089972236600629,
           -1.36500377755901
          ],
          [
           -1.572288090603433,
           -1.394668685500259,
           -1.3043012671782974,
           -1.1967640640800465,
           -0.3892368360009275,
           -0.6968338980580757,
           0.6699232379623168,
           -0.16597369537547713,
           -0.11984549535442124,
           -0.11186825667234523,
           -0.3418973185370697,
           -0.3418973185370697,
           -0.6062985101257918,
           0.2680619843026766,
           -0.46203998840915683,
           -0.35729337391711535,
           -0.5274316873305513,
           -0.15448851774530303,
           -0.9813758018137582,
           -1.2576350822239624,
           -1.3774284360453772,
           -1.5461451148170784,
           -1.3347162679205273,
           -0.7377392490137826,
           -0.9225409207441331,
           -1.2180226527818112,
           -1.300871389381959,
           -1.5088896343508889,
           -1.2787067591116386,
           -1.2787067591116386,
           -0.9841910836794165,
           -1.0728013977868374,
           -1.132026799469743,
           -1.7882305358948432,
           -1.4204068624847292,
           -1.3748130179907014,
           -1.038901055146327,
           -1.2858012116722666,
           -1.1483328691865617,
           -0.6654616846894577,
           -0.605851914573337,
           -0.7933791239725254,
           -1.0600912898216555,
           -1.0379816387737812
          ],
          [
           -1.7311980180499027,
           -1.6836275252022155,
           -1.6516152061395681,
           -1.630209164936931,
           -0.7417201474264798,
           -0.7205887710860932,
           -1.1472435450104674,
           -1.6106915570640645,
           -1.1427080070988622,
           -0.9752034828695817,
           -1.0946068483095124,
           -1.0946068483095124,
           -1.47060397894549,
           -1.265647011471121,
           -1.2786148942335556,
           -1.6785556336012903,
           -1.5529289913790478,
           -1.1298255546512863,
           -1.6272506082725062,
           -1.7023022709475333,
           -1.4643922290046547,
           -1.4562123461101892,
           -1.4796478126584613,
           -1.4474260945794575,
           -1.505664263645726,
           -1.3944322283533168,
           -1.469582055833468,
           -0.8194000600293083,
           -1.2268733083682475,
           -1.2268733083682475,
           -1.1372782965835304,
           -1.0732494063886027,
           -0.9034430869549639,
           -1.8350657229524772,
           -1.896797153024911,
           -1.7275116232059835,
           -1.6675293649213616,
           -1.6925844599063467,
           -1.6937643990987112,
           -1.5357910810558137,
           -1.7310753598645214,
           -1.9349622790226326,
           -1.8939344030869136,
           -1.822340255042469
          ],
          [
           -1.8486993452486287,
           -1.817348687094075,
           -1.7397822595038372,
           -1.803927830113364,
           -0.880898992242068,
           -0.6558822457827815,
           -0.8844581796431064,
           -1.018582944420874,
           -0.8217976824303164,
           -0.7276168843460156,
           -0.783021719417937,
           -0.783021719417937,
           -1.2040324739048978,
           -0.8255182129201046,
           -1.0488264271225733,
           -1.4652306251463356,
           -1.2090657081061322,
           -0.9802200912918864,
           -1.6820172528201727,
           -1.3554894283476897,
           -1.0936811885051703,
           -1.3282109490963065,
           -1.0386760706218596,
           -1.2567087128037793,
           -1.4054823936718015,
           -1.3375098535452017,
           -1.1918670324350493,
           -0.7660799096029236,
           -1.504801453412925,
           -1.504801453412925,
           -1.3121171098822937,
           -0.9542583217597778,
           -1.0079896814875855,
           -1.8718705763397372,
           -1.6728103255962181,
           -1.542025469981807,
           -1.6395779414692415,
           -1.4272864361491044,
           -1.6680422289171877,
           -1.2843653588457105,
           -1.4510866497318657,
           -1.499425740344556,
           -1.5549385911251234,
           -1.5502644291307035
          ],
          [
           -1.0306140506105115,
           -1.195122923058533,
           -0.7506692843119758,
           -0.7064771941029322,
           -0.3064511971958037,
           -0.7657667504645318,
           -0.15352407536636425,
           -0.43071701315231237,
           -0.8731600375822111,
           -0.23850085178875635,
           -0.6223930221512153,
           -0.6223930221512153,
           -1.366045142296369,
           -0.9366069631716643,
           -1.5757751376412634,
           -0.9353521163401752,
           -0.5039144606573858,
           -0.6246771168748455,
           -1.210351692103517,
           -1.1649177760375882,
           -0.768124425119157,
           -0.9008120143193921,
           -0.9946987507490896,
           -0.6410168996249939,
           -1.3449175011503824,
           -1.15877691573663,
           -1.4621591092464095,
           -1.3112166528363849,
           -0.8553631678469467,
           -0.8553631678469467,
           -1.0153041323451806,
           -0.9541687200394247,
           -0.9930135072193758,
           -1.525015166835187,
           -1.70956604875976,
           -1.3835455831817263,
           -1.5934700378260005,
           -1.670996587211302,
           -1.4531507126762704,
           -1.2514568855371002,
           -0.9742026531188257,
           -1.2381038171377097,
           -1.4404969177921036,
           -1.5050252981982188
          ],
          [
           -1.1403291452840207,
           -1.0746304339164043,
           -0.4738532928788153,
           -0.914897014210442,
           -1.2414237480347432,
           -0.9441469013006887,
           -0.5638520586182831,
           -0.06465846414934218,
           -0.2551414552667295,
           -0.3545334090478893,
           -0.4840450796666522,
           -0.4840450796666522,
           -0.7103220626282452,
           -0.5761722680619843,
           -0.8154158215010143,
           -1.0912354639818935,
           -0.8928625826301522,
           -1.1098687236828138,
           -1.2540588365405885,
           -1.2258104933437743,
           -1.0830894444908994,
           -1.3884571727931545,
           -1.298852164292629,
           -0.9618662640627282,
           -0.9902929640423341,
           -1.0996141559142014,
           -1.3144263353235437,
           -1.4901746146648067,
           -1.347818026769493,
           -1.347818026769493,
           -1.3195512011564143,
           -1.3881994534295057,
           -1.3356024506466984,
           -1.4816582406471182,
           -1.4603494980612948,
           -1.2038002829997978,
           -1.394545092574159,
           -1.3255906240905844,
           -1.430061520544824,
           -1.3272460967932938,
           -1.5553297582086745,
           -1.0615471230717262,
           -1.2969742600348217,
           -1.333501224844891
          ],
          [
           -1.2866749247920723,
           -1.2160019125791928,
           -1.1144029983937176,
           -0.8961626483580816,
           -1.1960617541689218,
           -1.2526687798302183,
           -0.5889741800418702,
           -0.8772168010182433,
           -0.9483244597557157,
           -0.708688245315162,
           -0.8196381536335764,
           -0.8196381536335764,
           -1.2577393166205728,
           -0.85771785067418,
           -1.1173572877426834,
           -1.122037513983194,
           -1.0897736619246352,
           -1.0539612894094337,
           -1.440831674408317,
           -1.5247611589663275,
           -1.6166903587256458,
           -1.6301405745219593,
           -1.5405891301341446,
           -1.3994058345103007,
           -1.4320397922738128,
           -1.6400448077002863,
           -1.732128449249637,
           -1.7942760288846908,
           -1.5108820585072857,
           -1.5108820585072857,
           -1.7070417364568755,
           -1.4364051789794363,
           -1.5591702196266706,
           -1.5746814964610718,
           -1.459552769958039,
           -1.468041237113402,
           -1.344774039418674,
           -1.3014630016667108,
           -1.091318767563736,
           -1.2624263766399701,
           -1.317790949289679,
           -1.0775813534511878,
           -1.1570279045691967,
           -1.1197600677671191
          ],
          [
           0.10652981773137471,
           0.5446866159301909,
           1.4752810994110295,
           0.5868327212730859,
           1.4749349210031193,
           1.6025795168870909,
           2,
           1.164022061943148,
           1.996868149076104,
           1.4959303426083665,
           1.4350360550973709,
           1.4350360550973709,
           2,
           1.1599919500905616,
           0.9787018255578088,
           0.4070345222300267,
           0.19027020440491027,
           0.36637061675099947,
           -0.23118779031187797,
           0.7079718089271734,
           -0.5120272040583103,
           -0.7923688116650658,
           -0.24699211727285308,
           -0.32026493936589895,
           -0.06262462475622854,
           0.03858440857984524,
           -0.9689365822172018,
           -0.8275922950617063,
           -0.29261058173593857,
           -0.29261058173593857,
           -1.0543101668081594,
           -0.4927198602213161,
           -0.6553688509906488,
           -0.6810111223458037,
           -1.2602113985233971,
           -1.0014958560743885,
           -0.9822018713915985,
           -0.4269425117066592,
           -0.6576875363933263,
           -0.33675091152731484,
           0.0030482641828966095,
           -0.12003152798108307,
           -0.36581807914921627,
           -0.5724032143593027
          ],
          [
           -0.6995222084586801,
           0.5969637805315378,
           -0.7169373549883993,
           -0.5280749374634093,
           0.4816103507822369,
           0.5752905599883404,
           -0.40195394277738994,
           0.15120916419176922,
           -0.037582211086752526,
           0.40204429301533207,
           -0.07314650891661967,
           -0.07314650891661967,
           -0.6960478187171024,
           -0.7605151942040651,
           -0.481744421906694,
           0.5995473347381566,
           -0.4138666341730892,
           -0.2798910158876191,
           2,
           -0.44109631949882533,
           -0.6997798032165452,
           -0.6902994848511306,
           -1.0460517217535612,
           -0.7161155213558661,
           -0.5415342813944826,
           -0.9826162718333815,
           -1.2631918670324351,
           -1.140521548756157,
           -1.1136405769159468,
           -1.1136405769159468,
           -0.5910102562925912,
           -0.864298194525335,
           -0.6641109240084553,
           -0.6404044489383216,
           -1.3593774897753226,
           -1.235496260359814,
           -0.9052757316344813,
           -0.184608058414244,
           -0.7055874832274236,
           -0.31344074293371604,
           -0.824273214789726,
           -1.1246931651841008,
           -0.831019716719213,
           -1.0418278806749237
          ],
          [
           2,
           1.2787982627405667,
           1.8527574513653398,
           2,
           -1.2259594319441223,
           -0.056035267970999,
           -0.31841291994816046,
           0.08485362749257552,
           -0.3136026725127885,
           0.07533598334279779,
           -0.32427997754652615,
           -0.32427997754652615,
           -0.24194843429387114,
           -0.3272288186757899,
           -0.8513474355259347,
           -0.5487655766279038,
           -0.8341304414049413,
           -1.073351969144758,
           -0.9264322052643221,
           -1.2184181675802663,
           -1.1731750146333306,
           -1.4336854972496287,
           -1.3143410316692021,
           -1.0733940486046851,
           -1.1105462672831257,
           -1.3425714641330955,
           -1.4797482652896563,
           -1.3461042744398735,
           -1.504949760854251,
           -1.504949760854251,
           -1.564600876488539,
           -1.4127503248062363,
           -1.5782308050589373,
           -1.1412740141557127,
           -1.211929675466086,
           -1.0302001212856275,
           -1.4033047979295241,
           -0.9375380301066165,
           -1.0092913744651761,
           -0.9140203808158562,
           -0.6385172640888135,
           -0.5072852156288705,
           -0.699825890546327,
           -0.9138945488678769
          ],
          [
           -0.17306671385595496,
           0.13555405028489442,
           0.059967874353024975,
           0.6653893235403698,
           -1.3955514317379314,
           -1.200786971253689,
           -0.1935998404944672,
           -0.1411964361476452,
           -0.039670111702682975,
           0.36835131554041256,
           0.4403471652489319,
           0.4403471652489319,
           -0.9767151396199483,
           -0.5097605151942042,
           -0.6435815705592582,
           -0.19194047711959206,
           -0.3948578913699088,
           -0.748098085701143,
           -0.7908869719088696,
           -0.8266249021143306,
           -0.8771636424450204,
           -0.9598358508687679,
           -0.8356612732217767,
           -0.9901134758681149,
           -1.1910949448912067,
           -1.4034767456333235,
           -1.455220267871551,
           -1.700489062306891,
           -1.3082940936561491,
           -1.3082940936561491,
           -1.4401486818254825,
           -1.4913310335558443,
           -1.5286446204005588,
           -0.4203842264914053,
           -0.9768948850055772,
           -0.7642611683848795,
           -0.7272944455504677,
           -0.49392841080451877,
           -0.4400617737157899,
           -0.574963383090779,
           -0.28348856900931385,
           -0.6636640018015989,
           -0.5475507034963059,
           -0.5391606950708576
          ],
          [
           -0.7729605379578837,
           -0.4858748057536757,
           -0.1102980546136001,
           -0.4337644366384583,
           -1.1876079280393825,
           -0.12700841622035242,
           0.49167580500448604,
           -0.12558336868901132,
           0.6150955214531786,
           0.7908385387090666,
           0.3313614577486077,
           0.3313614577486077,
           -0.2899455794450887,
           -0.29019923525860314,
           -0.24079976818313553,
           -1.2175654933791202,
           -0.43860237000030455,
           -0.4263826474647041,
           -1.1924795399247956,
           -0.8410336726703211,
           -0.6560749226523954,
           -0.9653365930323932,
           -0.8181441017839857,
           -0.8439098037305801,
           -0.6605605101124088,
           -0.9822013857196199,
           -1.110053251573342,
           -1.4068398100248944,
           -1.4278298913647993,
           -1.4278298913647993,
           -1.0419200146846248,
           -1.074235025312486,
           -0.98993228476228,
           -1.33896865520728,
           -1.673660168906358,
           -1.4201738427329693,
           -1.4451921162651802,
           -1.1371200296304136,
           -1.412744626446239,
           -1.1334102028732589,
           -1.6324771850597422,
           -1.6870622677626392,
           -1.5191755682085548,
           -1.4584125094438973
          ],
          [
           -0.10794549637232365,
           0.08662389927082881,
           0.726396573264322,
           0.28325083825642716,
           -0.44057836542178874,
           0.041607461653367483,
           0.3650682883062508,
           0.17955027577428906,
           0.5211399937362979,
           0.07344311943971249,
           0.0004317975732974766,
           0.0004317975732974766,
           0.17075564278704602,
           -0.48339706178305497,
           -0.4242248623587368,
           -0.9154764692109576,
           -0.42629542754439953,
           -0.7127136336293833,
           -1.149922583499226,
           -0.7622239624119029,
           -0.5213925356077709,
           -0.9171396140749146,
           -0.9322823030470659,
           -0.6897189889446256,
           -0.7638977145737011,
           -0.7867070489150725,
           -0.6525738260448604,
           -1.0518900404315046,
           -1.1562789662971338,
           -1.1562789662971338,
           -1.0029139802216462,
           -0.8229021997222346,
           -1.0835154598545376,
           -1.0663700707785644,
           -1.5460774419716363,
           -0.9850818677986657,
           -1.3137169022496515,
           -0.9119288870075928,
           -1.2278285526215853,
           -0.6106142291751071,
           -1.0324583686141688,
           -0.9257966445220134,
           -0.9430144463789938,
           -1.175896884086174
          ]
         ]
        }
       ],
       "layout": {
        "height": 900,
        "paper_bgcolor": "white",
        "plot_bgcolor": "white",
        "template": {
         "data": {
          "bar": [
           {
            "error_x": {
             "color": "#2a3f5f"
            },
            "error_y": {
             "color": "#2a3f5f"
            },
            "marker": {
             "line": {
              "color": "#E5ECF6",
              "width": 0.5
             },
             "pattern": {
              "fillmode": "overlay",
              "size": 10,
              "solidity": 0.2
             }
            },
            "type": "bar"
           }
          ],
          "barpolar": [
           {
            "marker": {
             "line": {
              "color": "#E5ECF6",
              "width": 0.5
             },
             "pattern": {
              "fillmode": "overlay",
              "size": 10,
              "solidity": 0.2
             }
            },
            "type": "barpolar"
           }
          ],
          "carpet": [
           {
            "aaxis": {
             "endlinecolor": "#2a3f5f",
             "gridcolor": "white",
             "linecolor": "white",
             "minorgridcolor": "white",
             "startlinecolor": "#2a3f5f"
            },
            "baxis": {
             "endlinecolor": "#2a3f5f",
             "gridcolor": "white",
             "linecolor": "white",
             "minorgridcolor": "white",
             "startlinecolor": "#2a3f5f"
            },
            "type": "carpet"
           }
          ],
          "choropleth": [
           {
            "colorbar": {
             "outlinewidth": 0,
             "ticks": ""
            },
            "type": "choropleth"
           }
          ],
          "contour": [
           {
            "colorbar": {
             "outlinewidth": 0,
             "ticks": ""
            },
            "colorscale": [
             [
              0,
              "#0d0887"
             ],
             [
              0.1111111111111111,
              "#46039f"
             ],
             [
              0.2222222222222222,
              "#7201a8"
             ],
             [
              0.3333333333333333,
              "#9c179e"
             ],
             [
              0.4444444444444444,
              "#bd3786"
             ],
             [
              0.5555555555555556,
              "#d8576b"
             ],
             [
              0.6666666666666666,
              "#ed7953"
             ],
             [
              0.7777777777777778,
              "#fb9f3a"
             ],
             [
              0.8888888888888888,
              "#fdca26"
             ],
             [
              1,
              "#f0f921"
             ]
            ],
            "type": "contour"
           }
          ],
          "contourcarpet": [
           {
            "colorbar": {
             "outlinewidth": 0,
             "ticks": ""
            },
            "type": "contourcarpet"
           }
          ],
          "heatmap": [
           {
            "colorbar": {
             "outlinewidth": 0,
             "ticks": ""
            },
            "colorscale": [
             [
              0,
              "#0d0887"
             ],
             [
              0.1111111111111111,
              "#46039f"
             ],
             [
              0.2222222222222222,
              "#7201a8"
             ],
             [
              0.3333333333333333,
              "#9c179e"
             ],
             [
              0.4444444444444444,
              "#bd3786"
             ],
             [
              0.5555555555555556,
              "#d8576b"
             ],
             [
              0.6666666666666666,
              "#ed7953"
             ],
             [
              0.7777777777777778,
              "#fb9f3a"
             ],
             [
              0.8888888888888888,
              "#fdca26"
             ],
             [
              1,
              "#f0f921"
             ]
            ],
            "type": "heatmap"
           }
          ],
          "heatmapgl": [
           {
            "colorbar": {
             "outlinewidth": 0,
             "ticks": ""
            },
            "colorscale": [
             [
              0,
              "#0d0887"
             ],
             [
              0.1111111111111111,
              "#46039f"
             ],
             [
              0.2222222222222222,
              "#7201a8"
             ],
             [
              0.3333333333333333,
              "#9c179e"
             ],
             [
              0.4444444444444444,
              "#bd3786"
             ],
             [
              0.5555555555555556,
              "#d8576b"
             ],
             [
              0.6666666666666666,
              "#ed7953"
             ],
             [
              0.7777777777777778,
              "#fb9f3a"
             ],
             [
              0.8888888888888888,
              "#fdca26"
             ],
             [
              1,
              "#f0f921"
             ]
            ],
            "type": "heatmapgl"
           }
          ],
          "histogram": [
           {
            "marker": {
             "pattern": {
              "fillmode": "overlay",
              "size": 10,
              "solidity": 0.2
             }
            },
            "type": "histogram"
           }
          ],
          "histogram2d": [
           {
            "colorbar": {
             "outlinewidth": 0,
             "ticks": ""
            },
            "colorscale": [
             [
              0,
              "#0d0887"
             ],
             [
              0.1111111111111111,
              "#46039f"
             ],
             [
              0.2222222222222222,
              "#7201a8"
             ],
             [
              0.3333333333333333,
              "#9c179e"
             ],
             [
              0.4444444444444444,
              "#bd3786"
             ],
             [
              0.5555555555555556,
              "#d8576b"
             ],
             [
              0.6666666666666666,
              "#ed7953"
             ],
             [
              0.7777777777777778,
              "#fb9f3a"
             ],
             [
              0.8888888888888888,
              "#fdca26"
             ],
             [
              1,
              "#f0f921"
             ]
            ],
            "type": "histogram2d"
           }
          ],
          "histogram2dcontour": [
           {
            "colorbar": {
             "outlinewidth": 0,
             "ticks": ""
            },
            "colorscale": [
             [
              0,
              "#0d0887"
             ],
             [
              0.1111111111111111,
              "#46039f"
             ],
             [
              0.2222222222222222,
              "#7201a8"
             ],
             [
              0.3333333333333333,
              "#9c179e"
             ],
             [
              0.4444444444444444,
              "#bd3786"
             ],
             [
              0.5555555555555556,
              "#d8576b"
             ],
             [
              0.6666666666666666,
              "#ed7953"
             ],
             [
              0.7777777777777778,
              "#fb9f3a"
             ],
             [
              0.8888888888888888,
              "#fdca26"
             ],
             [
              1,
              "#f0f921"
             ]
            ],
            "type": "histogram2dcontour"
           }
          ],
          "mesh3d": [
           {
            "colorbar": {
             "outlinewidth": 0,
             "ticks": ""
            },
            "type": "mesh3d"
           }
          ],
          "parcoords": [
           {
            "line": {
             "colorbar": {
              "outlinewidth": 0,
              "ticks": ""
             }
            },
            "type": "parcoords"
           }
          ],
          "pie": [
           {
            "automargin": true,
            "type": "pie"
           }
          ],
          "scatter": [
           {
            "fillpattern": {
             "fillmode": "overlay",
             "size": 10,
             "solidity": 0.2
            },
            "type": "scatter"
           }
          ],
          "scatter3d": [
           {
            "line": {
             "colorbar": {
              "outlinewidth": 0,
              "ticks": ""
             }
            },
            "marker": {
             "colorbar": {
              "outlinewidth": 0,
              "ticks": ""
             }
            },
            "type": "scatter3d"
           }
          ],
          "scattercarpet": [
           {
            "marker": {
             "colorbar": {
              "outlinewidth": 0,
              "ticks": ""
             }
            },
            "type": "scattercarpet"
           }
          ],
          "scattergeo": [
           {
            "marker": {
             "colorbar": {
              "outlinewidth": 0,
              "ticks": ""
             }
            },
            "type": "scattergeo"
           }
          ],
          "scattergl": [
           {
            "marker": {
             "colorbar": {
              "outlinewidth": 0,
              "ticks": ""
             }
            },
            "type": "scattergl"
           }
          ],
          "scattermapbox": [
           {
            "marker": {
             "colorbar": {
              "outlinewidth": 0,
              "ticks": ""
             }
            },
            "type": "scattermapbox"
           }
          ],
          "scatterpolar": [
           {
            "marker": {
             "colorbar": {
              "outlinewidth": 0,
              "ticks": ""
             }
            },
            "type": "scatterpolar"
           }
          ],
          "scatterpolargl": [
           {
            "marker": {
             "colorbar": {
              "outlinewidth": 0,
              "ticks": ""
             }
            },
            "type": "scatterpolargl"
           }
          ],
          "scatterternary": [
           {
            "marker": {
             "colorbar": {
              "outlinewidth": 0,
              "ticks": ""
             }
            },
            "type": "scatterternary"
           }
          ],
          "surface": [
           {
            "colorbar": {
             "outlinewidth": 0,
             "ticks": ""
            },
            "colorscale": [
             [
              0,
              "#0d0887"
             ],
             [
              0.1111111111111111,
              "#46039f"
             ],
             [
              0.2222222222222222,
              "#7201a8"
             ],
             [
              0.3333333333333333,
              "#9c179e"
             ],
             [
              0.4444444444444444,
              "#bd3786"
             ],
             [
              0.5555555555555556,
              "#d8576b"
             ],
             [
              0.6666666666666666,
              "#ed7953"
             ],
             [
              0.7777777777777778,
              "#fb9f3a"
             ],
             [
              0.8888888888888888,
              "#fdca26"
             ],
             [
              1,
              "#f0f921"
             ]
            ],
            "type": "surface"
           }
          ],
          "table": [
           {
            "cells": {
             "fill": {
              "color": "#EBF0F8"
             },
             "line": {
              "color": "white"
             }
            },
            "header": {
             "fill": {
              "color": "#C8D4E3"
             },
             "line": {
              "color": "white"
             }
            },
            "type": "table"
           }
          ]
         },
         "layout": {
          "annotationdefaults": {
           "arrowcolor": "#2a3f5f",
           "arrowhead": 0,
           "arrowwidth": 1
          },
          "autotypenumbers": "strict",
          "coloraxis": {
           "colorbar": {
            "outlinewidth": 0,
            "ticks": ""
           }
          },
          "colorscale": {
           "diverging": [
            [
             0,
             "#8e0152"
            ],
            [
             0.1,
             "#c51b7d"
            ],
            [
             0.2,
             "#de77ae"
            ],
            [
             0.3,
             "#f1b6da"
            ],
            [
             0.4,
             "#fde0ef"
            ],
            [
             0.5,
             "#f7f7f7"
            ],
            [
             0.6,
             "#e6f5d0"
            ],
            [
             0.7,
             "#b8e186"
            ],
            [
             0.8,
             "#7fbc41"
            ],
            [
             0.9,
             "#4d9221"
            ],
            [
             1,
             "#276419"
            ]
           ],
           "sequential": [
            [
             0,
             "#0d0887"
            ],
            [
             0.1111111111111111,
             "#46039f"
            ],
            [
             0.2222222222222222,
             "#7201a8"
            ],
            [
             0.3333333333333333,
             "#9c179e"
            ],
            [
             0.4444444444444444,
             "#bd3786"
            ],
            [
             0.5555555555555556,
             "#d8576b"
            ],
            [
             0.6666666666666666,
             "#ed7953"
            ],
            [
             0.7777777777777778,
             "#fb9f3a"
            ],
            [
             0.8888888888888888,
             "#fdca26"
            ],
            [
             1,
             "#f0f921"
            ]
           ],
           "sequentialminus": [
            [
             0,
             "#0d0887"
            ],
            [
             0.1111111111111111,
             "#46039f"
            ],
            [
             0.2222222222222222,
             "#7201a8"
            ],
            [
             0.3333333333333333,
             "#9c179e"
            ],
            [
             0.4444444444444444,
             "#bd3786"
            ],
            [
             0.5555555555555556,
             "#d8576b"
            ],
            [
             0.6666666666666666,
             "#ed7953"
            ],
            [
             0.7777777777777778,
             "#fb9f3a"
            ],
            [
             0.8888888888888888,
             "#fdca26"
            ],
            [
             1,
             "#f0f921"
            ]
           ]
          },
          "colorway": [
           "#636efa",
           "#EF553B",
           "#00cc96",
           "#ab63fa",
           "#FFA15A",
           "#19d3f3",
           "#FF6692",
           "#B6E880",
           "#FF97FF",
           "#FECB52"
          ],
          "font": {
           "color": "#2a3f5f"
          },
          "geo": {
           "bgcolor": "white",
           "lakecolor": "white",
           "landcolor": "#E5ECF6",
           "showlakes": true,
           "showland": true,
           "subunitcolor": "white"
          },
          "hoverlabel": {
           "align": "left"
          },
          "hovermode": "closest",
          "mapbox": {
           "style": "light"
          },
          "paper_bgcolor": "white",
          "plot_bgcolor": "#E5ECF6",
          "polar": {
           "angularaxis": {
            "gridcolor": "white",
            "linecolor": "white",
            "ticks": ""
           },
           "bgcolor": "#E5ECF6",
           "radialaxis": {
            "gridcolor": "white",
            "linecolor": "white",
            "ticks": ""
           }
          },
          "scene": {
           "xaxis": {
            "backgroundcolor": "#E5ECF6",
            "gridcolor": "white",
            "gridwidth": 2,
            "linecolor": "white",
            "showbackground": true,
            "ticks": "",
            "zerolinecolor": "white"
           },
           "yaxis": {
            "backgroundcolor": "#E5ECF6",
            "gridcolor": "white",
            "gridwidth": 2,
            "linecolor": "white",
            "showbackground": true,
            "ticks": "",
            "zerolinecolor": "white"
           },
           "zaxis": {
            "backgroundcolor": "#E5ECF6",
            "gridcolor": "white",
            "gridwidth": 2,
            "linecolor": "white",
            "showbackground": true,
            "ticks": "",
            "zerolinecolor": "white"
           }
          },
          "shapedefaults": {
           "line": {
            "color": "#2a3f5f"
           }
          },
          "ternary": {
           "aaxis": {
            "gridcolor": "white",
            "linecolor": "white",
            "ticks": ""
           },
           "baxis": {
            "gridcolor": "white",
            "linecolor": "white",
            "ticks": ""
           },
           "bgcolor": "#E5ECF6",
           "caxis": {
            "gridcolor": "white",
            "linecolor": "white",
            "ticks": ""
           }
          },
          "title": {
           "x": 0.05
          },
          "xaxis": {
           "automargin": true,
           "gridcolor": "white",
           "linecolor": "white",
           "ticks": "",
           "title": {
            "standoff": 15
           },
           "zerolinecolor": "white",
           "zerolinewidth": 2
          },
          "yaxis": {
           "automargin": true,
           "gridcolor": "white",
           "linecolor": "white",
           "ticks": "",
           "title": {
            "standoff": 15
           },
           "zerolinecolor": "white",
           "zerolinewidth": 2
          }
         }
        },
        "width": 1200,
        "xaxis": {
         "anchor": "y",
         "domain": [
          0,
          0.15
         ],
         "showticklabels": false,
         "visible": false
        },
        "xaxis2": {
         "anchor": "y2",
         "domain": [
          0.15,
          1
         ],
         "showticklabels": false,
         "visible": false
        },
        "xaxis3": {
         "anchor": "y3",
         "domain": [
          0.15425,
          1
         ]
        },
        "yaxis": {
         "anchor": "x",
         "domain": [
          0.15,
          1
         ],
         "showticklabels": false,
         "visible": false
        },
        "yaxis2": {
         "anchor": "x2",
         "domain": [
          0,
          0.85
         ],
         "showticklabels": true,
         "visible": false
        },
        "yaxis3": {
         "anchor": "x3",
         "domain": [
          0,
          0.14925
         ]
        }
       }
      }
     },
     "metadata": {},
     "output_type": "display_data"
    }
   ],
   "source": [
    "import numpy as np\n",
    "import pandas as pd\n",
    "import plotly.graph_objects as go\n",
    "from scipy.cluster.hierarchy import linkage, dendrogram\n",
    "from plotly.figure_factory import create_dendrogram\n",
    "from plotly.subplots import make_subplots\n",
    "\n",
    "def create_heatmap_with_clustering_and_dendrogram(df, color='RdBu_r'):\n",
    "\n",
    "    # 第一列改名为gene_id，并设置为索引\n",
    "    df = df.rename(columns={df.columns[0]: 'gene_id'})\n",
    "    df = df.set_index('gene_id')\n",
    "\n",
    "    # 数据归一化\n",
    "    df_normalized = df.apply(lambda x: np.interp(x, (x.min(), x.max()), (-2, 2)))\n",
    "\n",
    "    # 对基因（行）进行层次聚类\n",
    "    gene_linkage = linkage(df_normalized, method='average')\n",
    "    gene_dendro = create_dendrogram(df_normalized, orientation='left', linkagefun=lambda x: gene_linkage)\n",
    "    gene_order = leaves_list(gene_linkage)  # 获取基因的顺序\n",
    "\n",
    "    # 对样本（列）进行层次聚类\n",
    "    sample_linkage = linkage(df_normalized.T, method='average')\n",
    "    sample_dendro = create_dendrogram(df_normalized.T, orientation='bottom', linkagefun=lambda x: sample_linkage)\n",
    "    sample_order = leaves_list(sample_linkage)  # 获取样本的顺序\n",
    "\n",
    "    # 重排数据矩阵\n",
    "    df_clustered = df_normalized.iloc[gene_order, sample_order]\n",
    "\n",
    "    # 创建含有多个子图的图形对象\n",
    "    fig = make_subplots(\n",
    "            rows=2, cols=2,\n",
    "            column_widths=[0.15, 0.85],  # 调整树状图和热图的宽度比例\n",
    "            row_heights=[0.85, 0.15],    # 调整树状图和热图的高度比例\n",
    "            specs=[\n",
    "                [{'type': 'scatter', 'rowspan': 2}, {'type': 'scatter'}],\n",
    "                [None, {'type': 'heatmap'}]\n",
    "            ],\n",
    "            horizontal_spacing=0.005,  # 可以减小这个值来增大热图的空间\n",
    "            vertical_spacing=0.005     # 可以减小这个值来增大热图的空间\n",
    "        )\n",
    "\n",
    "\n",
    "    for data in gene_dendro['data']:\n",
    "        fig.add_trace(data, row=1, col=1)\n",
    "        fig['data'][-1].update(showlegend=False)  # 这里移除图例\n",
    "\n",
    "    for data in sample_dendro['data']:\n",
    "        fig.add_trace(data, row=1, col=2)\n",
    "        fig['data'][-1].update(showlegend=False)  # 这里移除图例\n",
    "\n",
    "\n",
    "    # 添加热图到子图\n",
    "    heatmap = go.Heatmap(\n",
    "        z=df_clustered.values,  # 注意使用.values获取numpy数组\n",
    "        x=df_clustered.columns.tolist(),  # 转换为列表确保兼容性\n",
    "        y=df_clustered.index.tolist(),\n",
    "        colorscale=color,\n",
    "        hoverongaps=False,  # 可以选择关闭空白处的悬停效果\n",
    "        hovertemplate='Sample: %{x}<br>Gene: %{y}<br>Exp: %{z:.3f}<extra></extra>'\n",
    "    )\n",
    "    fig.add_trace(heatmap, row=2, col=2)\n",
    "\n",
    "    fig.update_layout(\n",
    "        width=1200,  # 可以根据需要调整宽度\n",
    "        height=900,  # 可以根据需要调整高度\n",
    "        paper_bgcolor='white',  # 设置图表的背景颜色为白色\n",
    "        plot_bgcolor='white',   # 设置图表内部的背景颜色为白色\n",
    "        xaxis={'visible': False, 'showticklabels': False},\n",
    "        xaxis2={'visible': False, 'showticklabels': False},\n",
    "        yaxis={'visible': False, 'showticklabels': False},\n",
    "        yaxis2={'visible': False, 'showticklabels': False}\n",
    "    )\n",
    "\n",
    "    fig.update_layout(\n",
    "    xaxis={'domain': [0, 0.15]},  # 限制基因树状图的宽度\n",
    "    yaxis={'domain': [0.15, 1]},  # 限制样本树状图的高度\n",
    "    xaxis2={'domain': [0.15, 1], 'showticklabels': False},  # 限制热图的宽度，隐藏轴标签\n",
    "    yaxis2={'domain': [0, 0.85], 'showticklabels': True},  # 限制热图的高度，隐藏轴标签\n",
    "    )\n",
    "    # 调整树状图线条的宽度\n",
    "    for i in range(len(fig.data)):\n",
    "        if 'marker' in fig.data[i]:\n",
    "            fig.data[i].marker.line.width = 1  # 设置一个较小的线条宽度值\n",
    "\n",
    "    return fig\n",
    "\n",
    "# 使用 create_heatmap_with_clustering_and_dendrogram(df) 来创建并显示聚类后的热图和树状图\n",
    "create_heatmap_with_clustering_and_dendrogram(df)"
   ]
  }
 ],
 "metadata": {
  "kernelspec": {
   "display_name": "code",
   "language": "python",
   "name": "python3"
  },
  "language_info": {
   "codemirror_mode": {
    "name": "ipython",
    "version": 3
   },
   "file_extension": ".py",
   "mimetype": "text/x-python",
   "name": "python",
   "nbconvert_exporter": "python",
   "pygments_lexer": "ipython3",
   "version": "3.10.0"
  }
 },
 "nbformat": 4,
 "nbformat_minor": 2
}
