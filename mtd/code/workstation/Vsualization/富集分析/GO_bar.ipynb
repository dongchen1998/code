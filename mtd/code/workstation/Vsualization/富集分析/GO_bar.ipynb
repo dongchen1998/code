{
 "cells": [
  {
   "cell_type": "code",
   "execution_count": 2,
   "metadata": {},
   "outputs": [],
   "source": [
    "import pandas as pd\n",
    "import plotly.express as px\n",
    "import plotly.graph_objects as go"
   ]
  },
  {
   "cell_type": "code",
   "execution_count": 3,
   "metadata": {},
   "outputs": [
    {
     "data": {
      "text/html": [
       "<div>\n",
       "<style scoped>\n",
       "    .dataframe tbody tr th:only-of-type {\n",
       "        vertical-align: middle;\n",
       "    }\n",
       "\n",
       "    .dataframe tbody tr th {\n",
       "        vertical-align: top;\n",
       "    }\n",
       "\n",
       "    .dataframe thead th {\n",
       "        text-align: right;\n",
       "    }\n",
       "</style>\n",
       "<table border=\"1\" class=\"dataframe\">\n",
       "  <thead>\n",
       "    <tr style=\"text-align: right;\">\n",
       "      <th></th>\n",
       "      <th>ID</th>\n",
       "      <th>Description</th>\n",
       "      <th>GeneRatio</th>\n",
       "      <th>BgRatio</th>\n",
       "      <th>pvalue</th>\n",
       "      <th>p.adjust</th>\n",
       "      <th>qvalue</th>\n",
       "      <th>geneID</th>\n",
       "      <th>Count</th>\n",
       "      <th>category</th>\n",
       "    </tr>\n",
       "  </thead>\n",
       "  <tbody>\n",
       "    <tr>\n",
       "      <th>0</th>\n",
       "      <td>GO:0003924</td>\n",
       "      <td>GTPase activity</td>\n",
       "      <td>24/646</td>\n",
       "      <td>71/6066</td>\n",
       "      <td>1.231164e-07</td>\n",
       "      <td>1.292722e-05</td>\n",
       "      <td>1.088608e-05</td>\n",
       "      <td>ANI_1_1776014/ANI_1_352154/ANI_1_124/ANI_1_250...</td>\n",
       "      <td>24</td>\n",
       "      <td>MF</td>\n",
       "    </tr>\n",
       "    <tr>\n",
       "      <th>1</th>\n",
       "      <td>GO:0016887</td>\n",
       "      <td>ATPase activity</td>\n",
       "      <td>31/646</td>\n",
       "      <td>111/6066</td>\n",
       "      <td>2.652500e-07</td>\n",
       "      <td>1.392562e-05</td>\n",
       "      <td>1.172684e-05</td>\n",
       "      <td>ANI_1_1902094/ANI_1_2222094/ANI_1_1288084/ANI_...</td>\n",
       "      <td>31</td>\n",
       "      <td>MF</td>\n",
       "    </tr>\n",
       "    <tr>\n",
       "      <th>2</th>\n",
       "      <td>GO:0005525</td>\n",
       "      <td>GTP binding</td>\n",
       "      <td>26/646</td>\n",
       "      <td>88/6066</td>\n",
       "      <td>7.525797e-07</td>\n",
       "      <td>2.634029e-05</td>\n",
       "      <td>2.218130e-05</td>\n",
       "      <td>ANI_1_1776014/ANI_1_352154/ANI_1_124/ANI_1_250...</td>\n",
       "      <td>26</td>\n",
       "      <td>MF</td>\n",
       "    </tr>\n",
       "    <tr>\n",
       "      <th>3</th>\n",
       "      <td>GO:0003676</td>\n",
       "      <td>nucleic acid binding</td>\n",
       "      <td>45/646</td>\n",
       "      <td>231/6066</td>\n",
       "      <td>3.451899e-05</td>\n",
       "      <td>9.061235e-04</td>\n",
       "      <td>7.630514e-04</td>\n",
       "      <td>ANI_1_430184/ANI_1_2142064/ANI_1_2152074/ANI_1...</td>\n",
       "      <td>45</td>\n",
       "      <td>MF</td>\n",
       "    </tr>\n",
       "    <tr>\n",
       "      <th>4</th>\n",
       "      <td>GO:0004842</td>\n",
       "      <td>ubiquitin-protein transferase activity</td>\n",
       "      <td>9/646</td>\n",
       "      <td>19/6066</td>\n",
       "      <td>5.753337e-05</td>\n",
       "      <td>1.208201e-03</td>\n",
       "      <td>1.017432e-03</td>\n",
       "      <td>ANI_1_212054/ANI_1_168134/ANI_1_386014/ANI_1_2...</td>\n",
       "      <td>9</td>\n",
       "      <td>MF</td>\n",
       "    </tr>\n",
       "    <tr>\n",
       "      <th>5</th>\n",
       "      <td>GO:0005085</td>\n",
       "      <td>guanyl-nucleotide exchange factor activity</td>\n",
       "      <td>10/646</td>\n",
       "      <td>24/6066</td>\n",
       "      <td>8.547509e-05</td>\n",
       "      <td>1.495814e-03</td>\n",
       "      <td>1.259633e-03</td>\n",
       "      <td>ANI_1_304164/ANI_1_898134/ANI_1_450134/ANI_1_4...</td>\n",
       "      <td>10</td>\n",
       "      <td>MF</td>\n",
       "    </tr>\n",
       "    <tr>\n",
       "      <th>6</th>\n",
       "      <td>GO:0017056</td>\n",
       "      <td>structural constituent of nuclear pore</td>\n",
       "      <td>6/646</td>\n",
       "      <td>10/6066</td>\n",
       "      <td>2.055110e-04</td>\n",
       "      <td>3.082665e-03</td>\n",
       "      <td>2.595929e-03</td>\n",
       "      <td>ANI_1_1918184/ANI_1_1460094/ANI_1_20124/ANI_1_...</td>\n",
       "      <td>6</td>\n",
       "      <td>MF</td>\n",
       "    </tr>\n",
       "    <tr>\n",
       "      <th>7</th>\n",
       "      <td>GO:0004672</td>\n",
       "      <td>protein kinase activity</td>\n",
       "      <td>30/646</td>\n",
       "      <td>150/6066</td>\n",
       "      <td>4.385185e-04</td>\n",
       "      <td>5.755555e-03</td>\n",
       "      <td>4.846783e-03</td>\n",
       "      <td>ANI_1_1450164/ANI_1_518154/ANI_1_2808024/ANI_1...</td>\n",
       "      <td>30</td>\n",
       "      <td>MF</td>\n",
       "    </tr>\n",
       "    <tr>\n",
       "      <th>8</th>\n",
       "      <td>GO:0003723</td>\n",
       "      <td>RNA binding</td>\n",
       "      <td>32/646</td>\n",
       "      <td>167/6066</td>\n",
       "      <td>6.308164e-04</td>\n",
       "      <td>7.359525e-03</td>\n",
       "      <td>6.197495e-03</td>\n",
       "      <td>ANI_1_170054/ANI_1_1646014/ANI_1_1738024/ANI_1...</td>\n",
       "      <td>32</td>\n",
       "      <td>MF</td>\n",
       "    </tr>\n",
       "    <tr>\n",
       "      <th>9</th>\n",
       "      <td>GO:0031267</td>\n",
       "      <td>small GTPase binding</td>\n",
       "      <td>6/646</td>\n",
       "      <td>14/6066</td>\n",
       "      <td>2.019589e-03</td>\n",
       "      <td>2.120568e-02</td>\n",
       "      <td>1.785741e-02</td>\n",
       "      <td>ANI_1_386064/ANI_1_776164/ANI_1_1664134/ANI_1_...</td>\n",
       "      <td>6</td>\n",
       "      <td>MF</td>\n",
       "    </tr>\n",
       "    <tr>\n",
       "      <th>10</th>\n",
       "      <td>GO:0000166</td>\n",
       "      <td>nucleotide binding</td>\n",
       "      <td>18/646</td>\n",
       "      <td>83/6066</td>\n",
       "      <td>2.355892e-03</td>\n",
       "      <td>2.248806e-02</td>\n",
       "      <td>1.893731e-02</td>\n",
       "      <td>ANI_1_1288084/ANI_1_1494104/ANI_1_350074/ANI_1...</td>\n",
       "      <td>18</td>\n",
       "      <td>MF</td>\n",
       "    </tr>\n",
       "    <tr>\n",
       "      <th>11</th>\n",
       "      <td>GO:0016772</td>\n",
       "      <td>transferase activity, transferring phosphorus-...</td>\n",
       "      <td>6/646</td>\n",
       "      <td>15/6066</td>\n",
       "      <td>3.066334e-03</td>\n",
       "      <td>2.683042e-02</td>\n",
       "      <td>2.259404e-02</td>\n",
       "      <td>ANI_1_2808024/ANI_1_3278024/ANI_1_1000064/ANI_...</td>\n",
       "      <td>6</td>\n",
       "      <td>MF</td>\n",
       "    </tr>\n",
       "    <tr>\n",
       "      <th>12</th>\n",
       "      <td>GO:0061630</td>\n",
       "      <td>ubiquitin protein ligase activity</td>\n",
       "      <td>7/646</td>\n",
       "      <td>20/6066</td>\n",
       "      <td>3.364144e-03</td>\n",
       "      <td>2.701595e-02</td>\n",
       "      <td>2.275028e-02</td>\n",
       "      <td>ANI_1_386014/ANI_1_2062024/ANI_1_226094/ANI_1_...</td>\n",
       "      <td>7</td>\n",
       "      <td>MF</td>\n",
       "    </tr>\n",
       "    <tr>\n",
       "      <th>13</th>\n",
       "      <td>GO:0000155</td>\n",
       "      <td>phosphorelay sensor kinase activity</td>\n",
       "      <td>5/646</td>\n",
       "      <td>11/6066</td>\n",
       "      <td>3.602127e-03</td>\n",
       "      <td>2.701595e-02</td>\n",
       "      <td>2.275028e-02</td>\n",
       "      <td>ANI_1_2808024/ANI_1_3278024/ANI_1_1000064/ANI_...</td>\n",
       "      <td>5</td>\n",
       "      <td>MF</td>\n",
       "    </tr>\n",
       "    <tr>\n",
       "      <th>14</th>\n",
       "      <td>GO:0004843</td>\n",
       "      <td>thiol-dependent ubiquitin-specific protease ac...</td>\n",
       "      <td>7/646</td>\n",
       "      <td>21/6066</td>\n",
       "      <td>4.590564e-03</td>\n",
       "      <td>3.213395e-02</td>\n",
       "      <td>2.706017e-02</td>\n",
       "      <td>ANI_1_1480144/ANI_1_2082024/ANI_1_684084/ANI_1...</td>\n",
       "      <td>7</td>\n",
       "      <td>MF</td>\n",
       "    </tr>\n",
       "    <tr>\n",
       "      <th>15</th>\n",
       "      <td>GO:0004386</td>\n",
       "      <td>helicase activity</td>\n",
       "      <td>7/646</td>\n",
       "      <td>22/6066</td>\n",
       "      <td>6.126055e-03</td>\n",
       "      <td>4.020224e-02</td>\n",
       "      <td>3.385452e-02</td>\n",
       "      <td>ANI_1_178174/ANI_1_2728014/ANI_1_848074/ANI_1_...</td>\n",
       "      <td>7</td>\n",
       "      <td>MF</td>\n",
       "    </tr>\n",
       "    <tr>\n",
       "      <th>16</th>\n",
       "      <td>GO:0007165</td>\n",
       "      <td>signal transduction</td>\n",
       "      <td>20/449</td>\n",
       "      <td>42/4114</td>\n",
       "      <td>1.994934e-09</td>\n",
       "      <td>1.177011e-07</td>\n",
       "      <td>9.029700e-08</td>\n",
       "      <td>ANI_1_184174/ANI_1_352154/ANI_1_572014/ANI_1_2...</td>\n",
       "      <td>20</td>\n",
       "      <td>BP</td>\n",
       "    </tr>\n",
       "    <tr>\n",
       "      <th>17</th>\n",
       "      <td>GO:0006260</td>\n",
       "      <td>DNA replication</td>\n",
       "      <td>12/449</td>\n",
       "      <td>37/4114</td>\n",
       "      <td>3.542954e-04</td>\n",
       "      <td>1.045171e-02</td>\n",
       "      <td>8.018265e-03</td>\n",
       "      <td>ANI_1_52134/ANI_1_338024/ANI_1_2080024/ANI_1_8...</td>\n",
       "      <td>12</td>\n",
       "      <td>BP</td>\n",
       "    </tr>\n",
       "    <tr>\n",
       "      <th>18</th>\n",
       "      <td>GO:0006468</td>\n",
       "      <td>protein phosphorylation</td>\n",
       "      <td>29/449</td>\n",
       "      <td>147/4114</td>\n",
       "      <td>9.499411e-04</td>\n",
       "      <td>1.868217e-02</td>\n",
       "      <td>1.433244e-02</td>\n",
       "      <td>ANI_1_1450164/ANI_1_518154/ANI_1_2808024/ANI_1...</td>\n",
       "      <td>29</td>\n",
       "      <td>BP</td>\n",
       "    </tr>\n",
       "    <tr>\n",
       "      <th>19</th>\n",
       "      <td>GO:0016310</td>\n",
       "      <td>phosphorylation</td>\n",
       "      <td>6/449</td>\n",
       "      <td>13/4114</td>\n",
       "      <td>1.433566e-03</td>\n",
       "      <td>2.114510e-02</td>\n",
       "      <td>1.622193e-02</td>\n",
       "      <td>ANI_1_2808024/ANI_1_3278024/ANI_1_1000064/ANI_...</td>\n",
       "      <td>6</td>\n",
       "      <td>BP</td>\n",
       "    </tr>\n",
       "    <tr>\n",
       "      <th>20</th>\n",
       "      <td>GO:0016579</td>\n",
       "      <td>protein deubiquitination</td>\n",
       "      <td>7/449</td>\n",
       "      <td>18/4114</td>\n",
       "      <td>1.913206e-03</td>\n",
       "      <td>2.257584e-02</td>\n",
       "      <td>1.731955e-02</td>\n",
       "      <td>ANI_1_1480144/ANI_1_2082024/ANI_1_684084/ANI_1...</td>\n",
       "      <td>7</td>\n",
       "      <td>BP</td>\n",
       "    </tr>\n",
       "    <tr>\n",
       "      <th>21</th>\n",
       "      <td>GO:0006511</td>\n",
       "      <td>ubiquitin-dependent protein catabolic process</td>\n",
       "      <td>10/449</td>\n",
       "      <td>34/4114</td>\n",
       "      <td>2.525471e-03</td>\n",
       "      <td>2.483380e-02</td>\n",
       "      <td>1.905180e-02</td>\n",
       "      <td>ANI_1_2082024/ANI_1_684084/ANI_1_258094/ANI_1_...</td>\n",
       "      <td>10</td>\n",
       "      <td>BP</td>\n",
       "    </tr>\n",
       "    <tr>\n",
       "      <th>22</th>\n",
       "      <td>GO:0000160</td>\n",
       "      <td>phosphorelay signal transduction system</td>\n",
       "      <td>6/449</td>\n",
       "      <td>15/4114</td>\n",
       "      <td>3.454800e-03</td>\n",
       "      <td>2.911903e-02</td>\n",
       "      <td>2.233931e-02</td>\n",
       "      <td>ANI_1_2808024/ANI_1_3278024/ANI_1_1000064/ANI_...</td>\n",
       "      <td>6</td>\n",
       "      <td>BP</td>\n",
       "    </tr>\n",
       "    <tr>\n",
       "      <th>23</th>\n",
       "      <td>GO:0006270</td>\n",
       "      <td>DNA replication initiation</td>\n",
       "      <td>5/449</td>\n",
       "      <td>11/4114</td>\n",
       "      <td>3.997231e-03</td>\n",
       "      <td>2.947958e-02</td>\n",
       "      <td>2.261591e-02</td>\n",
       "      <td>ANI_1_3260014/ANI_1_540124/ANI_1_1442024/ANI_1...</td>\n",
       "      <td>5</td>\n",
       "      <td>BP</td>\n",
       "    </tr>\n",
       "    <tr>\n",
       "      <th>24</th>\n",
       "      <td>GO:0006886</td>\n",
       "      <td>intracellular protein transport</td>\n",
       "      <td>12/449</td>\n",
       "      <td>50/4114</td>\n",
       "      <td>6.204989e-03</td>\n",
       "      <td>4.067715e-02</td>\n",
       "      <td>3.120638e-02</td>\n",
       "      <td>ANI_1_2584024/ANI_1_260064/ANI_1_134/ANI_1_456...</td>\n",
       "      <td>12</td>\n",
       "      <td>BP</td>\n",
       "    </tr>\n",
       "    <tr>\n",
       "      <th>25</th>\n",
       "      <td>GO:0005634</td>\n",
       "      <td>nucleus</td>\n",
       "      <td>24/183</td>\n",
       "      <td>115/1626</td>\n",
       "      <td>1.367949e-03</td>\n",
       "      <td>1.641539e-02</td>\n",
       "      <td>1.295952e-02</td>\n",
       "      <td>ANI_1_176174/ANI_1_166174/ANI_1_2152074/ANI_1_...</td>\n",
       "      <td>24</td>\n",
       "      <td>CC</td>\n",
       "    </tr>\n",
       "  </tbody>\n",
       "</table>\n",
       "</div>"
      ],
      "text/plain": [
       "            ID                                        Description GeneRatio  \\\n",
       "0   GO:0003924                                    GTPase activity    24/646   \n",
       "1   GO:0016887                                    ATPase activity    31/646   \n",
       "2   GO:0005525                                        GTP binding    26/646   \n",
       "3   GO:0003676                               nucleic acid binding    45/646   \n",
       "4   GO:0004842             ubiquitin-protein transferase activity     9/646   \n",
       "5   GO:0005085         guanyl-nucleotide exchange factor activity    10/646   \n",
       "6   GO:0017056             structural constituent of nuclear pore     6/646   \n",
       "7   GO:0004672                            protein kinase activity    30/646   \n",
       "8   GO:0003723                                        RNA binding    32/646   \n",
       "9   GO:0031267                               small GTPase binding     6/646   \n",
       "10  GO:0000166                                 nucleotide binding    18/646   \n",
       "11  GO:0016772  transferase activity, transferring phosphorus-...     6/646   \n",
       "12  GO:0061630                  ubiquitin protein ligase activity     7/646   \n",
       "13  GO:0000155                phosphorelay sensor kinase activity     5/646   \n",
       "14  GO:0004843  thiol-dependent ubiquitin-specific protease ac...     7/646   \n",
       "15  GO:0004386                                  helicase activity     7/646   \n",
       "16  GO:0007165                                signal transduction    20/449   \n",
       "17  GO:0006260                                    DNA replication    12/449   \n",
       "18  GO:0006468                            protein phosphorylation    29/449   \n",
       "19  GO:0016310                                    phosphorylation     6/449   \n",
       "20  GO:0016579                           protein deubiquitination     7/449   \n",
       "21  GO:0006511      ubiquitin-dependent protein catabolic process    10/449   \n",
       "22  GO:0000160            phosphorelay signal transduction system     6/449   \n",
       "23  GO:0006270                         DNA replication initiation     5/449   \n",
       "24  GO:0006886                    intracellular protein transport    12/449   \n",
       "25  GO:0005634                                            nucleus    24/183   \n",
       "\n",
       "     BgRatio        pvalue      p.adjust        qvalue  \\\n",
       "0    71/6066  1.231164e-07  1.292722e-05  1.088608e-05   \n",
       "1   111/6066  2.652500e-07  1.392562e-05  1.172684e-05   \n",
       "2    88/6066  7.525797e-07  2.634029e-05  2.218130e-05   \n",
       "3   231/6066  3.451899e-05  9.061235e-04  7.630514e-04   \n",
       "4    19/6066  5.753337e-05  1.208201e-03  1.017432e-03   \n",
       "5    24/6066  8.547509e-05  1.495814e-03  1.259633e-03   \n",
       "6    10/6066  2.055110e-04  3.082665e-03  2.595929e-03   \n",
       "7   150/6066  4.385185e-04  5.755555e-03  4.846783e-03   \n",
       "8   167/6066  6.308164e-04  7.359525e-03  6.197495e-03   \n",
       "9    14/6066  2.019589e-03  2.120568e-02  1.785741e-02   \n",
       "10   83/6066  2.355892e-03  2.248806e-02  1.893731e-02   \n",
       "11   15/6066  3.066334e-03  2.683042e-02  2.259404e-02   \n",
       "12   20/6066  3.364144e-03  2.701595e-02  2.275028e-02   \n",
       "13   11/6066  3.602127e-03  2.701595e-02  2.275028e-02   \n",
       "14   21/6066  4.590564e-03  3.213395e-02  2.706017e-02   \n",
       "15   22/6066  6.126055e-03  4.020224e-02  3.385452e-02   \n",
       "16   42/4114  1.994934e-09  1.177011e-07  9.029700e-08   \n",
       "17   37/4114  3.542954e-04  1.045171e-02  8.018265e-03   \n",
       "18  147/4114  9.499411e-04  1.868217e-02  1.433244e-02   \n",
       "19   13/4114  1.433566e-03  2.114510e-02  1.622193e-02   \n",
       "20   18/4114  1.913206e-03  2.257584e-02  1.731955e-02   \n",
       "21   34/4114  2.525471e-03  2.483380e-02  1.905180e-02   \n",
       "22   15/4114  3.454800e-03  2.911903e-02  2.233931e-02   \n",
       "23   11/4114  3.997231e-03  2.947958e-02  2.261591e-02   \n",
       "24   50/4114  6.204989e-03  4.067715e-02  3.120638e-02   \n",
       "25  115/1626  1.367949e-03  1.641539e-02  1.295952e-02   \n",
       "\n",
       "                                               geneID  Count category  \n",
       "0   ANI_1_1776014/ANI_1_352154/ANI_1_124/ANI_1_250...     24       MF  \n",
       "1   ANI_1_1902094/ANI_1_2222094/ANI_1_1288084/ANI_...     31       MF  \n",
       "2   ANI_1_1776014/ANI_1_352154/ANI_1_124/ANI_1_250...     26       MF  \n",
       "3   ANI_1_430184/ANI_1_2142064/ANI_1_2152074/ANI_1...     45       MF  \n",
       "4   ANI_1_212054/ANI_1_168134/ANI_1_386014/ANI_1_2...      9       MF  \n",
       "5   ANI_1_304164/ANI_1_898134/ANI_1_450134/ANI_1_4...     10       MF  \n",
       "6   ANI_1_1918184/ANI_1_1460094/ANI_1_20124/ANI_1_...      6       MF  \n",
       "7   ANI_1_1450164/ANI_1_518154/ANI_1_2808024/ANI_1...     30       MF  \n",
       "8   ANI_1_170054/ANI_1_1646014/ANI_1_1738024/ANI_1...     32       MF  \n",
       "9   ANI_1_386064/ANI_1_776164/ANI_1_1664134/ANI_1_...      6       MF  \n",
       "10  ANI_1_1288084/ANI_1_1494104/ANI_1_350074/ANI_1...     18       MF  \n",
       "11  ANI_1_2808024/ANI_1_3278024/ANI_1_1000064/ANI_...      6       MF  \n",
       "12  ANI_1_386014/ANI_1_2062024/ANI_1_226094/ANI_1_...      7       MF  \n",
       "13  ANI_1_2808024/ANI_1_3278024/ANI_1_1000064/ANI_...      5       MF  \n",
       "14  ANI_1_1480144/ANI_1_2082024/ANI_1_684084/ANI_1...      7       MF  \n",
       "15  ANI_1_178174/ANI_1_2728014/ANI_1_848074/ANI_1_...      7       MF  \n",
       "16  ANI_1_184174/ANI_1_352154/ANI_1_572014/ANI_1_2...     20       BP  \n",
       "17  ANI_1_52134/ANI_1_338024/ANI_1_2080024/ANI_1_8...     12       BP  \n",
       "18  ANI_1_1450164/ANI_1_518154/ANI_1_2808024/ANI_1...     29       BP  \n",
       "19  ANI_1_2808024/ANI_1_3278024/ANI_1_1000064/ANI_...      6       BP  \n",
       "20  ANI_1_1480144/ANI_1_2082024/ANI_1_684084/ANI_1...      7       BP  \n",
       "21  ANI_1_2082024/ANI_1_684084/ANI_1_258094/ANI_1_...     10       BP  \n",
       "22  ANI_1_2808024/ANI_1_3278024/ANI_1_1000064/ANI_...      6       BP  \n",
       "23  ANI_1_3260014/ANI_1_540124/ANI_1_1442024/ANI_1...      5       BP  \n",
       "24  ANI_1_2584024/ANI_1_260064/ANI_1_134/ANI_1_456...     12       BP  \n",
       "25  ANI_1_176174/ANI_1_166174/ANI_1_2152074/ANI_1_...     24       CC  "
      ]
     },
     "execution_count": 3,
     "metadata": {},
     "output_type": "execute_result"
    }
   ],
   "source": [
    "df_go = pd.read_csv(\"./go_enrich.tsv\", sep=\"\\t\")\n",
    "df_go"
   ]
  },
  {
   "cell_type": "code",
   "execution_count": 4,
   "metadata": {},
   "outputs": [
    {
     "data": {
      "application/vnd.plotly.v1+json": {
       "config": {
        "plotlyServerURL": "https://plot.ly"
       },
       "data": [
        {
         "alignmentgroup": "True",
         "customdata": [
          [
           "MF",
           "GO:0003676",
           0.07,
           0.000906
          ],
          [
           "MF",
           "GO:0003723",
           0.05,
           0.00736
          ],
          [
           "MF",
           "GO:0016887",
           0.048,
           0.000014
          ],
          [
           "MF",
           "GO:0004672",
           0.046,
           0.005756
          ],
          [
           "BP",
           "GO:0006468",
           0.065,
           0.018682
          ],
          [
           "MF",
           "GO:0005525",
           0.04,
           0.000026
          ],
          [
           "MF",
           "GO:0003924",
           0.037,
           0.000013
          ],
          [
           "CC",
           "GO:0005634",
           0.131,
           0.016415
          ],
          [
           "BP",
           "GO:0007165",
           0.045,
           0
          ],
          [
           "MF",
           "GO:0000166",
           0.028,
           0.022488
          ],
          [
           "BP",
           "GO:0006260",
           0.027,
           0.010452
          ],
          [
           "BP",
           "GO:0006886",
           0.027,
           0.040677
          ],
          [
           "MF",
           "GO:0005085",
           0.015,
           0.001496
          ],
          [
           "BP",
           "GO:0006511",
           0.022,
           0.024834
          ],
          [
           "MF",
           "GO:0004842",
           0.014,
           0.001208
          ],
          [
           "BP",
           "GO:0016579",
           0.016,
           0.022576
          ],
          [
           "MF",
           "GO:0061630",
           0.011,
           0.027016
          ],
          [
           "MF",
           "GO:0004843",
           0.011,
           0.032134
          ],
          [
           "MF",
           "GO:0004386",
           0.011,
           0.040202
          ],
          [
           "BP",
           "GO:0000160",
           0.013,
           0.029119
          ],
          [
           "MF",
           "GO:0017056",
           0.009,
           0.003083
          ],
          [
           "BP",
           "GO:0016310",
           0.013,
           0.021145
          ],
          [
           "MF",
           "GO:0031267",
           0.009,
           0.021206
          ],
          [
           "MF",
           "GO:0016772",
           0.009,
           0.02683
          ],
          [
           "BP",
           "GO:0006270",
           0.011,
           0.02948
          ],
          [
           "MF",
           "GO:0000155",
           0.008,
           0.027016
          ]
         ],
         "hovertemplate": "Count=%{x}<br>Description=%{y}<br>Class=%{customdata[0]}<br>ID=%{customdata[1]}<br>GeneRatio=%{customdata[2]}<br>P.adjust=%{marker.color}<extra></extra>",
         "legendgroup": "",
         "marker": {
          "color": [
           0.000906,
           0.00736,
           0.000014,
           0.005756,
           0.018682,
           0.000026,
           0.000013,
           0.016415,
           0,
           0.022488,
           0.010452,
           0.040677,
           0.001496,
           0.024834,
           0.001208,
           0.022576,
           0.027016,
           0.032134,
           0.040202,
           0.029119,
           0.003083,
           0.021145,
           0.021206,
           0.02683,
           0.02948,
           0.027016
          ],
          "coloraxis": "coloraxis",
          "opacity": 0.85,
          "pattern": {
           "shape": ""
          }
         },
         "name": "",
         "offsetgroup": "",
         "orientation": "h",
         "showlegend": false,
         "textposition": "auto",
         "type": "bar",
         "x": [
          45,
          32,
          31,
          30,
          29,
          26,
          24,
          24,
          20,
          18,
          12,
          12,
          10,
          10,
          9,
          7,
          7,
          7,
          7,
          6,
          6,
          6,
          6,
          6,
          5,
          5
         ],
         "xaxis": "x",
         "y": [
          "nucleic acid binding",
          "RNA binding",
          "ATPase activity",
          "protein kinase activity",
          "protein phosphorylation",
          "GTP binding",
          "GTPase activity",
          "nucleus",
          "signal transduction",
          "nucleotide binding",
          "DNA replication",
          "intracellular protein transport",
          "guanyl-nucleotide exchange factor activity",
          "ubiquitin-dependent protein catabolic process",
          "ubiquitin-protein transferase activity",
          "protein deubiquitination",
          "ubiquitin protein ligase activity",
          "thiol-dependent ubiquitin-specific protease activity",
          "helicase activity",
          "phosphorelay signal transduction system",
          "structural constituent of nuclear pore",
          "phosphorylation",
          "small GTPase binding",
          "transferase activity, transferring phosphorus-containing groups",
          "DNA replication initiation",
          "phosphorelay sensor kinase activity"
         ],
         "yaxis": "y"
        }
       ],
       "layout": {
        "barmode": "relative",
        "coloraxis": {
         "colorbar": {
          "dtick": 0.005,
          "tickformat": ".3f",
          "title": {
           "text": "P.adjust"
          }
         },
         "colorscale": [
          [
           0,
           "rgb(0, 128, 128)"
          ],
          [
           0.16666666666666666,
           "rgb(112, 164, 148)"
          ],
          [
           0.3333333333333333,
           "rgb(180, 200, 168)"
          ],
          [
           0.5,
           "rgb(246, 237, 189)"
          ],
          [
           0.6666666666666666,
           "rgb(237, 187, 138)"
          ],
          [
           0.8333333333333334,
           "rgb(222, 138, 90)"
          ],
          [
           1,
           "rgb(202, 86, 44)"
          ]
         ]
        },
        "font": {
         "family": "Arial",
         "size": 14
        },
        "height": 800,
        "legend": {
         "tracegroupgap": 0
        },
        "margin": {
         "t": 60
        },
        "template": {
         "data": {
          "bar": [
           {
            "error_x": {
             "color": "#2a3f5f"
            },
            "error_y": {
             "color": "#2a3f5f"
            },
            "marker": {
             "line": {
              "color": "white",
              "width": 0.5
             },
             "pattern": {
              "fillmode": "overlay",
              "size": 10,
              "solidity": 0.2
             }
            },
            "type": "bar"
           }
          ],
          "barpolar": [
           {
            "marker": {
             "line": {
              "color": "white",
              "width": 0.5
             },
             "pattern": {
              "fillmode": "overlay",
              "size": 10,
              "solidity": 0.2
             }
            },
            "type": "barpolar"
           }
          ],
          "carpet": [
           {
            "aaxis": {
             "endlinecolor": "#2a3f5f",
             "gridcolor": "#C8D4E3",
             "linecolor": "#C8D4E3",
             "minorgridcolor": "#C8D4E3",
             "startlinecolor": "#2a3f5f"
            },
            "baxis": {
             "endlinecolor": "#2a3f5f",
             "gridcolor": "#C8D4E3",
             "linecolor": "#C8D4E3",
             "minorgridcolor": "#C8D4E3",
             "startlinecolor": "#2a3f5f"
            },
            "type": "carpet"
           }
          ],
          "choropleth": [
           {
            "colorbar": {
             "outlinewidth": 0,
             "ticks": ""
            },
            "type": "choropleth"
           }
          ],
          "contour": [
           {
            "colorbar": {
             "outlinewidth": 0,
             "ticks": ""
            },
            "colorscale": [
             [
              0,
              "#0d0887"
             ],
             [
              0.1111111111111111,
              "#46039f"
             ],
             [
              0.2222222222222222,
              "#7201a8"
             ],
             [
              0.3333333333333333,
              "#9c179e"
             ],
             [
              0.4444444444444444,
              "#bd3786"
             ],
             [
              0.5555555555555556,
              "#d8576b"
             ],
             [
              0.6666666666666666,
              "#ed7953"
             ],
             [
              0.7777777777777778,
              "#fb9f3a"
             ],
             [
              0.8888888888888888,
              "#fdca26"
             ],
             [
              1,
              "#f0f921"
             ]
            ],
            "type": "contour"
           }
          ],
          "contourcarpet": [
           {
            "colorbar": {
             "outlinewidth": 0,
             "ticks": ""
            },
            "type": "contourcarpet"
           }
          ],
          "heatmap": [
           {
            "colorbar": {
             "outlinewidth": 0,
             "ticks": ""
            },
            "colorscale": [
             [
              0,
              "#0d0887"
             ],
             [
              0.1111111111111111,
              "#46039f"
             ],
             [
              0.2222222222222222,
              "#7201a8"
             ],
             [
              0.3333333333333333,
              "#9c179e"
             ],
             [
              0.4444444444444444,
              "#bd3786"
             ],
             [
              0.5555555555555556,
              "#d8576b"
             ],
             [
              0.6666666666666666,
              "#ed7953"
             ],
             [
              0.7777777777777778,
              "#fb9f3a"
             ],
             [
              0.8888888888888888,
              "#fdca26"
             ],
             [
              1,
              "#f0f921"
             ]
            ],
            "type": "heatmap"
           }
          ],
          "heatmapgl": [
           {
            "colorbar": {
             "outlinewidth": 0,
             "ticks": ""
            },
            "colorscale": [
             [
              0,
              "#0d0887"
             ],
             [
              0.1111111111111111,
              "#46039f"
             ],
             [
              0.2222222222222222,
              "#7201a8"
             ],
             [
              0.3333333333333333,
              "#9c179e"
             ],
             [
              0.4444444444444444,
              "#bd3786"
             ],
             [
              0.5555555555555556,
              "#d8576b"
             ],
             [
              0.6666666666666666,
              "#ed7953"
             ],
             [
              0.7777777777777778,
              "#fb9f3a"
             ],
             [
              0.8888888888888888,
              "#fdca26"
             ],
             [
              1,
              "#f0f921"
             ]
            ],
            "type": "heatmapgl"
           }
          ],
          "histogram": [
           {
            "marker": {
             "pattern": {
              "fillmode": "overlay",
              "size": 10,
              "solidity": 0.2
             }
            },
            "type": "histogram"
           }
          ],
          "histogram2d": [
           {
            "colorbar": {
             "outlinewidth": 0,
             "ticks": ""
            },
            "colorscale": [
             [
              0,
              "#0d0887"
             ],
             [
              0.1111111111111111,
              "#46039f"
             ],
             [
              0.2222222222222222,
              "#7201a8"
             ],
             [
              0.3333333333333333,
              "#9c179e"
             ],
             [
              0.4444444444444444,
              "#bd3786"
             ],
             [
              0.5555555555555556,
              "#d8576b"
             ],
             [
              0.6666666666666666,
              "#ed7953"
             ],
             [
              0.7777777777777778,
              "#fb9f3a"
             ],
             [
              0.8888888888888888,
              "#fdca26"
             ],
             [
              1,
              "#f0f921"
             ]
            ],
            "type": "histogram2d"
           }
          ],
          "histogram2dcontour": [
           {
            "colorbar": {
             "outlinewidth": 0,
             "ticks": ""
            },
            "colorscale": [
             [
              0,
              "#0d0887"
             ],
             [
              0.1111111111111111,
              "#46039f"
             ],
             [
              0.2222222222222222,
              "#7201a8"
             ],
             [
              0.3333333333333333,
              "#9c179e"
             ],
             [
              0.4444444444444444,
              "#bd3786"
             ],
             [
              0.5555555555555556,
              "#d8576b"
             ],
             [
              0.6666666666666666,
              "#ed7953"
             ],
             [
              0.7777777777777778,
              "#fb9f3a"
             ],
             [
              0.8888888888888888,
              "#fdca26"
             ],
             [
              1,
              "#f0f921"
             ]
            ],
            "type": "histogram2dcontour"
           }
          ],
          "mesh3d": [
           {
            "colorbar": {
             "outlinewidth": 0,
             "ticks": ""
            },
            "type": "mesh3d"
           }
          ],
          "parcoords": [
           {
            "line": {
             "colorbar": {
              "outlinewidth": 0,
              "ticks": ""
             }
            },
            "type": "parcoords"
           }
          ],
          "pie": [
           {
            "automargin": true,
            "type": "pie"
           }
          ],
          "scatter": [
           {
            "fillpattern": {
             "fillmode": "overlay",
             "size": 10,
             "solidity": 0.2
            },
            "type": "scatter"
           }
          ],
          "scatter3d": [
           {
            "line": {
             "colorbar": {
              "outlinewidth": 0,
              "ticks": ""
             }
            },
            "marker": {
             "colorbar": {
              "outlinewidth": 0,
              "ticks": ""
             }
            },
            "type": "scatter3d"
           }
          ],
          "scattercarpet": [
           {
            "marker": {
             "colorbar": {
              "outlinewidth": 0,
              "ticks": ""
             }
            },
            "type": "scattercarpet"
           }
          ],
          "scattergeo": [
           {
            "marker": {
             "colorbar": {
              "outlinewidth": 0,
              "ticks": ""
             }
            },
            "type": "scattergeo"
           }
          ],
          "scattergl": [
           {
            "marker": {
             "colorbar": {
              "outlinewidth": 0,
              "ticks": ""
             }
            },
            "type": "scattergl"
           }
          ],
          "scattermapbox": [
           {
            "marker": {
             "colorbar": {
              "outlinewidth": 0,
              "ticks": ""
             }
            },
            "type": "scattermapbox"
           }
          ],
          "scatterpolar": [
           {
            "marker": {
             "colorbar": {
              "outlinewidth": 0,
              "ticks": ""
             }
            },
            "type": "scatterpolar"
           }
          ],
          "scatterpolargl": [
           {
            "marker": {
             "colorbar": {
              "outlinewidth": 0,
              "ticks": ""
             }
            },
            "type": "scatterpolargl"
           }
          ],
          "scatterternary": [
           {
            "marker": {
             "colorbar": {
              "outlinewidth": 0,
              "ticks": ""
             }
            },
            "type": "scatterternary"
           }
          ],
          "surface": [
           {
            "colorbar": {
             "outlinewidth": 0,
             "ticks": ""
            },
            "colorscale": [
             [
              0,
              "#0d0887"
             ],
             [
              0.1111111111111111,
              "#46039f"
             ],
             [
              0.2222222222222222,
              "#7201a8"
             ],
             [
              0.3333333333333333,
              "#9c179e"
             ],
             [
              0.4444444444444444,
              "#bd3786"
             ],
             [
              0.5555555555555556,
              "#d8576b"
             ],
             [
              0.6666666666666666,
              "#ed7953"
             ],
             [
              0.7777777777777778,
              "#fb9f3a"
             ],
             [
              0.8888888888888888,
              "#fdca26"
             ],
             [
              1,
              "#f0f921"
             ]
            ],
            "type": "surface"
           }
          ],
          "table": [
           {
            "cells": {
             "fill": {
              "color": "#EBF0F8"
             },
             "line": {
              "color": "white"
             }
            },
            "header": {
             "fill": {
              "color": "#C8D4E3"
             },
             "line": {
              "color": "white"
             }
            },
            "type": "table"
           }
          ]
         },
         "layout": {
          "annotationdefaults": {
           "arrowcolor": "#2a3f5f",
           "arrowhead": 0,
           "arrowwidth": 1
          },
          "autotypenumbers": "strict",
          "coloraxis": {
           "colorbar": {
            "outlinewidth": 0,
            "ticks": ""
           }
          },
          "colorscale": {
           "diverging": [
            [
             0,
             "#8e0152"
            ],
            [
             0.1,
             "#c51b7d"
            ],
            [
             0.2,
             "#de77ae"
            ],
            [
             0.3,
             "#f1b6da"
            ],
            [
             0.4,
             "#fde0ef"
            ],
            [
             0.5,
             "#f7f7f7"
            ],
            [
             0.6,
             "#e6f5d0"
            ],
            [
             0.7,
             "#b8e186"
            ],
            [
             0.8,
             "#7fbc41"
            ],
            [
             0.9,
             "#4d9221"
            ],
            [
             1,
             "#276419"
            ]
           ],
           "sequential": [
            [
             0,
             "#0d0887"
            ],
            [
             0.1111111111111111,
             "#46039f"
            ],
            [
             0.2222222222222222,
             "#7201a8"
            ],
            [
             0.3333333333333333,
             "#9c179e"
            ],
            [
             0.4444444444444444,
             "#bd3786"
            ],
            [
             0.5555555555555556,
             "#d8576b"
            ],
            [
             0.6666666666666666,
             "#ed7953"
            ],
            [
             0.7777777777777778,
             "#fb9f3a"
            ],
            [
             0.8888888888888888,
             "#fdca26"
            ],
            [
             1,
             "#f0f921"
            ]
           ],
           "sequentialminus": [
            [
             0,
             "#0d0887"
            ],
            [
             0.1111111111111111,
             "#46039f"
            ],
            [
             0.2222222222222222,
             "#7201a8"
            ],
            [
             0.3333333333333333,
             "#9c179e"
            ],
            [
             0.4444444444444444,
             "#bd3786"
            ],
            [
             0.5555555555555556,
             "#d8576b"
            ],
            [
             0.6666666666666666,
             "#ed7953"
            ],
            [
             0.7777777777777778,
             "#fb9f3a"
            ],
            [
             0.8888888888888888,
             "#fdca26"
            ],
            [
             1,
             "#f0f921"
            ]
           ]
          },
          "colorway": [
           "#636efa",
           "#EF553B",
           "#00cc96",
           "#ab63fa",
           "#FFA15A",
           "#19d3f3",
           "#FF6692",
           "#B6E880",
           "#FF97FF",
           "#FECB52"
          ],
          "font": {
           "color": "#2a3f5f"
          },
          "geo": {
           "bgcolor": "white",
           "lakecolor": "white",
           "landcolor": "white",
           "showlakes": true,
           "showland": true,
           "subunitcolor": "#C8D4E3"
          },
          "hoverlabel": {
           "align": "left"
          },
          "hovermode": "closest",
          "mapbox": {
           "style": "light"
          },
          "paper_bgcolor": "white",
          "plot_bgcolor": "white",
          "polar": {
           "angularaxis": {
            "gridcolor": "#EBF0F8",
            "linecolor": "#EBF0F8",
            "ticks": ""
           },
           "bgcolor": "white",
           "radialaxis": {
            "gridcolor": "#EBF0F8",
            "linecolor": "#EBF0F8",
            "ticks": ""
           }
          },
          "scene": {
           "xaxis": {
            "backgroundcolor": "white",
            "gridcolor": "#DFE8F3",
            "gridwidth": 2,
            "linecolor": "#EBF0F8",
            "showbackground": true,
            "ticks": "",
            "zerolinecolor": "#EBF0F8"
           },
           "yaxis": {
            "backgroundcolor": "white",
            "gridcolor": "#DFE8F3",
            "gridwidth": 2,
            "linecolor": "#EBF0F8",
            "showbackground": true,
            "ticks": "",
            "zerolinecolor": "#EBF0F8"
           },
           "zaxis": {
            "backgroundcolor": "white",
            "gridcolor": "#DFE8F3",
            "gridwidth": 2,
            "linecolor": "#EBF0F8",
            "showbackground": true,
            "ticks": "",
            "zerolinecolor": "#EBF0F8"
           }
          },
          "shapedefaults": {
           "line": {
            "color": "#2a3f5f"
           }
          },
          "ternary": {
           "aaxis": {
            "gridcolor": "#DFE8F3",
            "linecolor": "#A2B1C6",
            "ticks": ""
           },
           "baxis": {
            "gridcolor": "#DFE8F3",
            "linecolor": "#A2B1C6",
            "ticks": ""
           },
           "bgcolor": "white",
           "caxis": {
            "gridcolor": "#DFE8F3",
            "linecolor": "#A2B1C6",
            "ticks": ""
           }
          },
          "title": {
           "x": 0.05
          },
          "xaxis": {
           "automargin": true,
           "gridcolor": "#EBF0F8",
           "linecolor": "#EBF0F8",
           "ticks": "",
           "title": {
            "standoff": 15
           },
           "zerolinecolor": "#EBF0F8",
           "zerolinewidth": 2
          },
          "yaxis": {
           "automargin": true,
           "gridcolor": "#EBF0F8",
           "linecolor": "#EBF0F8",
           "ticks": "",
           "title": {
            "standoff": 15
           },
           "zerolinecolor": "#EBF0F8",
           "zerolinewidth": 2
          }
         }
        },
        "title": {
         "text": "GO Enrichment Analysis"
        },
        "width": 1000,
        "xaxis": {
         "anchor": "y",
         "domain": [
          0,
          1
         ],
         "title": {
          "text": "Count"
         }
        },
        "yaxis": {
         "anchor": "x",
         "autorange": "reversed",
         "domain": [
          0,
          1
         ],
         "title": {
          "text": "Description"
         }
        }
       }
      }
     },
     "metadata": {},
     "output_type": "display_data"
    }
   ],
   "source": [
    "import plotly.express as px\n",
    "\n",
    "def GO_BarChart(df_go, color='Geyser', go_type='all', p_value=0.5, bar_num=30, width=1000, height=800):\n",
    "    \"\"\"根据输入的GO富集分析结果，绘制柱状图\n",
    "    \"\"\"\n",
    "\n",
    "    # 数据处理\n",
    "    df_go = df_go.copy()\n",
    "    df_go = df_go[[\"category\", \"ID\", \"Description\", \"Count\", 'GeneRatio', \"p.adjust\"]]\n",
    "    df_go.columns = [\"Class\", \"ID\", \"Description\", \"Count\", \"GeneRatio\", \"P.adjust\"]\n",
    "\n",
    "    df_go[\"GeneRatio\"] = df_go[\"GeneRatio\"].apply(lambda x: round(eval(x), 3))\n",
    "    df_go['P.adjust'] = df_go['P.adjust'].apply(lambda x: round(x, 6))\n",
    "    df_go = df_go.sort_values(by='Count', ascending=False)\n",
    "    df_go = df_go[df_go[\"P.adjust\"] < p_value]\n",
    "    df_go = df_go.iloc[:bar_num]\n",
    "\n",
    "    # 过滤GO类型\n",
    "    if go_type in [\"BP\", \"CC\", \"MF\"]:\n",
    "        df_go = df_go[df_go[\"Class\"].str.contains(go_type)]\n",
    "\n",
    "    # 创建柱状图\n",
    "    fig = px.bar(\n",
    "        df_go, \n",
    "        x='Count',\n",
    "        y='Description',\n",
    "        color='P.adjust',\n",
    "        color_continuous_scale=color,\n",
    "        opacity=0.85,\n",
    "        hover_data=[\"Class\", \"ID\", \"GeneRatio\", \"P.adjust\"],\n",
    "        )\n",
    "    fig.update_layout(\n",
    "        title=\"GO Enrichment Analysis\",\n",
    "        xaxis_title=\"Count\",\n",
    "        yaxis_title=\"Description\",\n",
    "        yaxis=dict(autorange=\"reversed\"),\n",
    "        font=dict(family=\"Arial\", size=14),\n",
    "        template=\"plotly_white\",\n",
    "        width=width,\n",
    "        height=height,\n",
    "    )\n",
    "    fig.update_coloraxes(\n",
    "        colorbar_title=\"P.adjust\",\n",
    "        colorbar_tickformat=\".3f\",\n",
    "        colorbar=dict(dtick=0.005)\n",
    "    )\n",
    "\n",
    "    return fig\n",
    "\n",
    "# 调用函数示例\n",
    "GO_BarChart(df_go, go_type=\"\")\n"
   ]
  }
 ],
 "metadata": {
  "kernelspec": {
   "display_name": "py37_plot",
   "language": "python",
   "name": "python3"
  },
  "language_info": {
   "codemirror_mode": {
    "name": "ipython",
    "version": 3
   },
   "file_extension": ".py",
   "mimetype": "text/x-python",
   "name": "python",
   "nbconvert_exporter": "python",
   "pygments_lexer": "ipython3",
   "version": "3.10.0"
  },
  "orig_nbformat": 4
 },
 "nbformat": 4,
 "nbformat_minor": 2
}
