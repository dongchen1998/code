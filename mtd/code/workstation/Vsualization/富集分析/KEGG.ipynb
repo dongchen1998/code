{
 "cells": [
  {
   "cell_type": "code",
   "execution_count": 1,
   "metadata": {},
   "outputs": [],
   "source": [
    "import pandas as pd\n",
    "import numpy as np\n",
    "\n",
    "import plotly.express as px\n",
    "import plotly.graph_objects as go"
   ]
  },
  {
   "cell_type": "code",
   "execution_count": 2,
   "metadata": {},
   "outputs": [
    {
     "data": {
      "text/html": [
       "<div>\n",
       "<style scoped>\n",
       "    .dataframe tbody tr th:only-of-type {\n",
       "        vertical-align: middle;\n",
       "    }\n",
       "\n",
       "    .dataframe tbody tr th {\n",
       "        vertical-align: top;\n",
       "    }\n",
       "\n",
       "    .dataframe thead th {\n",
       "        text-align: right;\n",
       "    }\n",
       "</style>\n",
       "<table border=\"1\" class=\"dataframe\">\n",
       "  <thead>\n",
       "    <tr style=\"text-align: right;\">\n",
       "      <th></th>\n",
       "      <th>ID</th>\n",
       "      <th>Description</th>\n",
       "      <th>GeneRatio</th>\n",
       "      <th>BgRatio</th>\n",
       "      <th>pvalue</th>\n",
       "      <th>p.adjust</th>\n",
       "      <th>qvalue</th>\n",
       "      <th>geneID</th>\n",
       "      <th>Count</th>\n",
       "    </tr>\n",
       "  </thead>\n",
       "  <tbody>\n",
       "    <tr>\n",
       "      <th>0</th>\n",
       "      <td>ang03030</td>\n",
       "      <td>DNA replication</td>\n",
       "      <td>15/328</td>\n",
       "      <td>33/2418</td>\n",
       "      <td>0.000007</td>\n",
       "      <td>0.000679</td>\n",
       "      <td>0.000615</td>\n",
       "      <td>ANI_1_52134/ANI_1_338024/ANI_1_2728014/ANI_1_9...</td>\n",
       "      <td>15</td>\n",
       "    </tr>\n",
       "    <tr>\n",
       "      <th>1</th>\n",
       "      <td>ang03015</td>\n",
       "      <td>mRNA surveillance pathway</td>\n",
       "      <td>18/328</td>\n",
       "      <td>49/2418</td>\n",
       "      <td>0.000032</td>\n",
       "      <td>0.001511</td>\n",
       "      <td>0.001368</td>\n",
       "      <td>ANI_1_2466014/ANI_1_1820074/ANI_1_32174/ANI_1_...</td>\n",
       "      <td>18</td>\n",
       "    </tr>\n",
       "    <tr>\n",
       "      <th>2</th>\n",
       "      <td>ang04011</td>\n",
       "      <td>MAPK signaling pathway - yeast</td>\n",
       "      <td>22/328</td>\n",
       "      <td>69/2418</td>\n",
       "      <td>0.000056</td>\n",
       "      <td>0.001733</td>\n",
       "      <td>0.001569</td>\n",
       "      <td>ANI_1_184174/ANI_1_424024/ANI_1_188054/ANI_1_7...</td>\n",
       "      <td>22</td>\n",
       "    </tr>\n",
       "    <tr>\n",
       "      <th>3</th>\n",
       "      <td>ang04111</td>\n",
       "      <td>Cell cycle - yeast</td>\n",
       "      <td>22/328</td>\n",
       "      <td>82/2418</td>\n",
       "      <td>0.000886</td>\n",
       "      <td>0.020588</td>\n",
       "      <td>0.018642</td>\n",
       "      <td>ANI_1_408024/ANI_1_836064/ANI_1_3096024/ANI_1_...</td>\n",
       "      <td>22</td>\n",
       "    </tr>\n",
       "    <tr>\n",
       "      <th>4</th>\n",
       "      <td>ang04113</td>\n",
       "      <td>Meiosis - yeast</td>\n",
       "      <td>19/328</td>\n",
       "      <td>71/2418</td>\n",
       "      <td>0.002045</td>\n",
       "      <td>0.038037</td>\n",
       "      <td>0.034442</td>\n",
       "      <td>ANI_1_2466014/ANI_1_824074/ANI_1_212094/ANI_1_...</td>\n",
       "      <td>19</td>\n",
       "    </tr>\n",
       "  </tbody>\n",
       "</table>\n",
       "</div>"
      ],
      "text/plain": [
       "         ID                     Description GeneRatio  BgRatio    pvalue  \\\n",
       "0  ang03030                 DNA replication    15/328  33/2418  0.000007   \n",
       "1  ang03015       mRNA surveillance pathway    18/328  49/2418  0.000032   \n",
       "2  ang04011  MAPK signaling pathway - yeast    22/328  69/2418  0.000056   \n",
       "3  ang04111              Cell cycle - yeast    22/328  82/2418  0.000886   \n",
       "4  ang04113                 Meiosis - yeast    19/328  71/2418  0.002045   \n",
       "\n",
       "   p.adjust    qvalue                                             geneID  \\\n",
       "0  0.000679  0.000615  ANI_1_52134/ANI_1_338024/ANI_1_2728014/ANI_1_9...   \n",
       "1  0.001511  0.001368  ANI_1_2466014/ANI_1_1820074/ANI_1_32174/ANI_1_...   \n",
       "2  0.001733  0.001569  ANI_1_184174/ANI_1_424024/ANI_1_188054/ANI_1_7...   \n",
       "3  0.020588  0.018642  ANI_1_408024/ANI_1_836064/ANI_1_3096024/ANI_1_...   \n",
       "4  0.038037  0.034442  ANI_1_2466014/ANI_1_824074/ANI_1_212094/ANI_1_...   \n",
       "\n",
       "   Count  \n",
       "0     15  \n",
       "1     18  \n",
       "2     22  \n",
       "3     22  \n",
       "4     19  "
      ]
     },
     "execution_count": 2,
     "metadata": {},
     "output_type": "execute_result"
    }
   ],
   "source": [
    "df_kegg = pd.read_csv('./enrich_kegg.tsv', sep='\\t')\n",
    "df_kegg"
   ]
  },
  {
   "cell_type": "code",
   "execution_count": 6,
   "metadata": {},
   "outputs": [
    {
     "data": {
      "application/vnd.plotly.v1+json": {
       "config": {
        "plotlyServerURL": "https://plot.ly"
       },
       "data": [
        {
         "alignmentgroup": "True",
         "customdata": [
          [
           0.001733
          ],
          [
           0.020588
          ],
          [
           0.038037
          ],
          [
           0.001511
          ],
          [
           0.000679
          ]
         ],
         "hovertemplate": "Count=%{x}<br>Pathway=%{y}<br>P.adjust=%{marker.color}<extra></extra>",
         "legendgroup": "",
         "marker": {
          "color": [
           0.001733,
           0.020588,
           0.038037,
           0.001511,
           0.000679
          ],
          "coloraxis": "coloraxis",
          "opacity": 0.85,
          "pattern": {
           "shape": ""
          }
         },
         "name": "",
         "offsetgroup": "",
         "orientation": "h",
         "showlegend": false,
         "textposition": "auto",
         "type": "bar",
         "x": [
          22,
          22,
          19,
          18,
          15
         ],
         "xaxis": "x",
         "y": [
          "MAPK signaling pathway - yeast",
          "Cell cycle - yeast",
          "Meiosis - yeast",
          "mRNA surveillance pathway",
          "DNA replication"
         ],
         "yaxis": "y"
        }
       ],
       "layout": {
        "barmode": "relative",
        "coloraxis": {
         "colorbar": {
          "dtick": 0.005,
          "tickformat": ".3f",
          "title": {
           "text": "P.adjust"
          }
         },
         "colorscale": [
          [
           0,
           "rgb(5,48,97)"
          ],
          [
           0.1,
           "rgb(33,102,172)"
          ],
          [
           0.2,
           "rgb(67,147,195)"
          ],
          [
           0.3,
           "rgb(146,197,222)"
          ],
          [
           0.4,
           "rgb(209,229,240)"
          ],
          [
           0.5,
           "rgb(247,247,247)"
          ],
          [
           0.6,
           "rgb(253,219,199)"
          ],
          [
           0.7,
           "rgb(244,165,130)"
          ],
          [
           0.8,
           "rgb(214,96,77)"
          ],
          [
           0.9,
           "rgb(178,24,43)"
          ],
          [
           1,
           "rgb(103,0,31)"
          ]
         ]
        },
        "font": {
         "family": "Arial",
         "size": 15
        },
        "height": 800,
        "legend": {
         "tracegroupgap": 0
        },
        "margin": {
         "t": 60
        },
        "template": {
         "data": {
          "bar": [
           {
            "error_x": {
             "color": "#2a3f5f"
            },
            "error_y": {
             "color": "#2a3f5f"
            },
            "marker": {
             "line": {
              "color": "white",
              "width": 0.5
             },
             "pattern": {
              "fillmode": "overlay",
              "size": 10,
              "solidity": 0.2
             }
            },
            "type": "bar"
           }
          ],
          "barpolar": [
           {
            "marker": {
             "line": {
              "color": "white",
              "width": 0.5
             },
             "pattern": {
              "fillmode": "overlay",
              "size": 10,
              "solidity": 0.2
             }
            },
            "type": "barpolar"
           }
          ],
          "carpet": [
           {
            "aaxis": {
             "endlinecolor": "#2a3f5f",
             "gridcolor": "#C8D4E3",
             "linecolor": "#C8D4E3",
             "minorgridcolor": "#C8D4E3",
             "startlinecolor": "#2a3f5f"
            },
            "baxis": {
             "endlinecolor": "#2a3f5f",
             "gridcolor": "#C8D4E3",
             "linecolor": "#C8D4E3",
             "minorgridcolor": "#C8D4E3",
             "startlinecolor": "#2a3f5f"
            },
            "type": "carpet"
           }
          ],
          "choropleth": [
           {
            "colorbar": {
             "outlinewidth": 0,
             "ticks": ""
            },
            "type": "choropleth"
           }
          ],
          "contour": [
           {
            "colorbar": {
             "outlinewidth": 0,
             "ticks": ""
            },
            "colorscale": [
             [
              0,
              "#0d0887"
             ],
             [
              0.1111111111111111,
              "#46039f"
             ],
             [
              0.2222222222222222,
              "#7201a8"
             ],
             [
              0.3333333333333333,
              "#9c179e"
             ],
             [
              0.4444444444444444,
              "#bd3786"
             ],
             [
              0.5555555555555556,
              "#d8576b"
             ],
             [
              0.6666666666666666,
              "#ed7953"
             ],
             [
              0.7777777777777778,
              "#fb9f3a"
             ],
             [
              0.8888888888888888,
              "#fdca26"
             ],
             [
              1,
              "#f0f921"
             ]
            ],
            "type": "contour"
           }
          ],
          "contourcarpet": [
           {
            "colorbar": {
             "outlinewidth": 0,
             "ticks": ""
            },
            "type": "contourcarpet"
           }
          ],
          "heatmap": [
           {
            "colorbar": {
             "outlinewidth": 0,
             "ticks": ""
            },
            "colorscale": [
             [
              0,
              "#0d0887"
             ],
             [
              0.1111111111111111,
              "#46039f"
             ],
             [
              0.2222222222222222,
              "#7201a8"
             ],
             [
              0.3333333333333333,
              "#9c179e"
             ],
             [
              0.4444444444444444,
              "#bd3786"
             ],
             [
              0.5555555555555556,
              "#d8576b"
             ],
             [
              0.6666666666666666,
              "#ed7953"
             ],
             [
              0.7777777777777778,
              "#fb9f3a"
             ],
             [
              0.8888888888888888,
              "#fdca26"
             ],
             [
              1,
              "#f0f921"
             ]
            ],
            "type": "heatmap"
           }
          ],
          "heatmapgl": [
           {
            "colorbar": {
             "outlinewidth": 0,
             "ticks": ""
            },
            "colorscale": [
             [
              0,
              "#0d0887"
             ],
             [
              0.1111111111111111,
              "#46039f"
             ],
             [
              0.2222222222222222,
              "#7201a8"
             ],
             [
              0.3333333333333333,
              "#9c179e"
             ],
             [
              0.4444444444444444,
              "#bd3786"
             ],
             [
              0.5555555555555556,
              "#d8576b"
             ],
             [
              0.6666666666666666,
              "#ed7953"
             ],
             [
              0.7777777777777778,
              "#fb9f3a"
             ],
             [
              0.8888888888888888,
              "#fdca26"
             ],
             [
              1,
              "#f0f921"
             ]
            ],
            "type": "heatmapgl"
           }
          ],
          "histogram": [
           {
            "marker": {
             "pattern": {
              "fillmode": "overlay",
              "size": 10,
              "solidity": 0.2
             }
            },
            "type": "histogram"
           }
          ],
          "histogram2d": [
           {
            "colorbar": {
             "outlinewidth": 0,
             "ticks": ""
            },
            "colorscale": [
             [
              0,
              "#0d0887"
             ],
             [
              0.1111111111111111,
              "#46039f"
             ],
             [
              0.2222222222222222,
              "#7201a8"
             ],
             [
              0.3333333333333333,
              "#9c179e"
             ],
             [
              0.4444444444444444,
              "#bd3786"
             ],
             [
              0.5555555555555556,
              "#d8576b"
             ],
             [
              0.6666666666666666,
              "#ed7953"
             ],
             [
              0.7777777777777778,
              "#fb9f3a"
             ],
             [
              0.8888888888888888,
              "#fdca26"
             ],
             [
              1,
              "#f0f921"
             ]
            ],
            "type": "histogram2d"
           }
          ],
          "histogram2dcontour": [
           {
            "colorbar": {
             "outlinewidth": 0,
             "ticks": ""
            },
            "colorscale": [
             [
              0,
              "#0d0887"
             ],
             [
              0.1111111111111111,
              "#46039f"
             ],
             [
              0.2222222222222222,
              "#7201a8"
             ],
             [
              0.3333333333333333,
              "#9c179e"
             ],
             [
              0.4444444444444444,
              "#bd3786"
             ],
             [
              0.5555555555555556,
              "#d8576b"
             ],
             [
              0.6666666666666666,
              "#ed7953"
             ],
             [
              0.7777777777777778,
              "#fb9f3a"
             ],
             [
              0.8888888888888888,
              "#fdca26"
             ],
             [
              1,
              "#f0f921"
             ]
            ],
            "type": "histogram2dcontour"
           }
          ],
          "mesh3d": [
           {
            "colorbar": {
             "outlinewidth": 0,
             "ticks": ""
            },
            "type": "mesh3d"
           }
          ],
          "parcoords": [
           {
            "line": {
             "colorbar": {
              "outlinewidth": 0,
              "ticks": ""
             }
            },
            "type": "parcoords"
           }
          ],
          "pie": [
           {
            "automargin": true,
            "type": "pie"
           }
          ],
          "scatter": [
           {
            "fillpattern": {
             "fillmode": "overlay",
             "size": 10,
             "solidity": 0.2
            },
            "type": "scatter"
           }
          ],
          "scatter3d": [
           {
            "line": {
             "colorbar": {
              "outlinewidth": 0,
              "ticks": ""
             }
            },
            "marker": {
             "colorbar": {
              "outlinewidth": 0,
              "ticks": ""
             }
            },
            "type": "scatter3d"
           }
          ],
          "scattercarpet": [
           {
            "marker": {
             "colorbar": {
              "outlinewidth": 0,
              "ticks": ""
             }
            },
            "type": "scattercarpet"
           }
          ],
          "scattergeo": [
           {
            "marker": {
             "colorbar": {
              "outlinewidth": 0,
              "ticks": ""
             }
            },
            "type": "scattergeo"
           }
          ],
          "scattergl": [
           {
            "marker": {
             "colorbar": {
              "outlinewidth": 0,
              "ticks": ""
             }
            },
            "type": "scattergl"
           }
          ],
          "scattermapbox": [
           {
            "marker": {
             "colorbar": {
              "outlinewidth": 0,
              "ticks": ""
             }
            },
            "type": "scattermapbox"
           }
          ],
          "scatterpolar": [
           {
            "marker": {
             "colorbar": {
              "outlinewidth": 0,
              "ticks": ""
             }
            },
            "type": "scatterpolar"
           }
          ],
          "scatterpolargl": [
           {
            "marker": {
             "colorbar": {
              "outlinewidth": 0,
              "ticks": ""
             }
            },
            "type": "scatterpolargl"
           }
          ],
          "scatterternary": [
           {
            "marker": {
             "colorbar": {
              "outlinewidth": 0,
              "ticks": ""
             }
            },
            "type": "scatterternary"
           }
          ],
          "surface": [
           {
            "colorbar": {
             "outlinewidth": 0,
             "ticks": ""
            },
            "colorscale": [
             [
              0,
              "#0d0887"
             ],
             [
              0.1111111111111111,
              "#46039f"
             ],
             [
              0.2222222222222222,
              "#7201a8"
             ],
             [
              0.3333333333333333,
              "#9c179e"
             ],
             [
              0.4444444444444444,
              "#bd3786"
             ],
             [
              0.5555555555555556,
              "#d8576b"
             ],
             [
              0.6666666666666666,
              "#ed7953"
             ],
             [
              0.7777777777777778,
              "#fb9f3a"
             ],
             [
              0.8888888888888888,
              "#fdca26"
             ],
             [
              1,
              "#f0f921"
             ]
            ],
            "type": "surface"
           }
          ],
          "table": [
           {
            "cells": {
             "fill": {
              "color": "#EBF0F8"
             },
             "line": {
              "color": "white"
             }
            },
            "header": {
             "fill": {
              "color": "#C8D4E3"
             },
             "line": {
              "color": "white"
             }
            },
            "type": "table"
           }
          ]
         },
         "layout": {
          "annotationdefaults": {
           "arrowcolor": "#2a3f5f",
           "arrowhead": 0,
           "arrowwidth": 1
          },
          "autotypenumbers": "strict",
          "coloraxis": {
           "colorbar": {
            "outlinewidth": 0,
            "ticks": ""
           }
          },
          "colorscale": {
           "diverging": [
            [
             0,
             "#8e0152"
            ],
            [
             0.1,
             "#c51b7d"
            ],
            [
             0.2,
             "#de77ae"
            ],
            [
             0.3,
             "#f1b6da"
            ],
            [
             0.4,
             "#fde0ef"
            ],
            [
             0.5,
             "#f7f7f7"
            ],
            [
             0.6,
             "#e6f5d0"
            ],
            [
             0.7,
             "#b8e186"
            ],
            [
             0.8,
             "#7fbc41"
            ],
            [
             0.9,
             "#4d9221"
            ],
            [
             1,
             "#276419"
            ]
           ],
           "sequential": [
            [
             0,
             "#0d0887"
            ],
            [
             0.1111111111111111,
             "#46039f"
            ],
            [
             0.2222222222222222,
             "#7201a8"
            ],
            [
             0.3333333333333333,
             "#9c179e"
            ],
            [
             0.4444444444444444,
             "#bd3786"
            ],
            [
             0.5555555555555556,
             "#d8576b"
            ],
            [
             0.6666666666666666,
             "#ed7953"
            ],
            [
             0.7777777777777778,
             "#fb9f3a"
            ],
            [
             0.8888888888888888,
             "#fdca26"
            ],
            [
             1,
             "#f0f921"
            ]
           ],
           "sequentialminus": [
            [
             0,
             "#0d0887"
            ],
            [
             0.1111111111111111,
             "#46039f"
            ],
            [
             0.2222222222222222,
             "#7201a8"
            ],
            [
             0.3333333333333333,
             "#9c179e"
            ],
            [
             0.4444444444444444,
             "#bd3786"
            ],
            [
             0.5555555555555556,
             "#d8576b"
            ],
            [
             0.6666666666666666,
             "#ed7953"
            ],
            [
             0.7777777777777778,
             "#fb9f3a"
            ],
            [
             0.8888888888888888,
             "#fdca26"
            ],
            [
             1,
             "#f0f921"
            ]
           ]
          },
          "colorway": [
           "#636efa",
           "#EF553B",
           "#00cc96",
           "#ab63fa",
           "#FFA15A",
           "#19d3f3",
           "#FF6692",
           "#B6E880",
           "#FF97FF",
           "#FECB52"
          ],
          "font": {
           "color": "#2a3f5f"
          },
          "geo": {
           "bgcolor": "white",
           "lakecolor": "white",
           "landcolor": "white",
           "showlakes": true,
           "showland": true,
           "subunitcolor": "#C8D4E3"
          },
          "hoverlabel": {
           "align": "left"
          },
          "hovermode": "closest",
          "mapbox": {
           "style": "light"
          },
          "paper_bgcolor": "white",
          "plot_bgcolor": "white",
          "polar": {
           "angularaxis": {
            "gridcolor": "#EBF0F8",
            "linecolor": "#EBF0F8",
            "ticks": ""
           },
           "bgcolor": "white",
           "radialaxis": {
            "gridcolor": "#EBF0F8",
            "linecolor": "#EBF0F8",
            "ticks": ""
           }
          },
          "scene": {
           "xaxis": {
            "backgroundcolor": "white",
            "gridcolor": "#DFE8F3",
            "gridwidth": 2,
            "linecolor": "#EBF0F8",
            "showbackground": true,
            "ticks": "",
            "zerolinecolor": "#EBF0F8"
           },
           "yaxis": {
            "backgroundcolor": "white",
            "gridcolor": "#DFE8F3",
            "gridwidth": 2,
            "linecolor": "#EBF0F8",
            "showbackground": true,
            "ticks": "",
            "zerolinecolor": "#EBF0F8"
           },
           "zaxis": {
            "backgroundcolor": "white",
            "gridcolor": "#DFE8F3",
            "gridwidth": 2,
            "linecolor": "#EBF0F8",
            "showbackground": true,
            "ticks": "",
            "zerolinecolor": "#EBF0F8"
           }
          },
          "shapedefaults": {
           "line": {
            "color": "#2a3f5f"
           }
          },
          "ternary": {
           "aaxis": {
            "gridcolor": "#DFE8F3",
            "linecolor": "#A2B1C6",
            "ticks": ""
           },
           "baxis": {
            "gridcolor": "#DFE8F3",
            "linecolor": "#A2B1C6",
            "ticks": ""
           },
           "bgcolor": "white",
           "caxis": {
            "gridcolor": "#DFE8F3",
            "linecolor": "#A2B1C6",
            "ticks": ""
           }
          },
          "title": {
           "x": 0.05
          },
          "xaxis": {
           "automargin": true,
           "gridcolor": "#EBF0F8",
           "linecolor": "#EBF0F8",
           "ticks": "",
           "title": {
            "standoff": 15
           },
           "zerolinecolor": "#EBF0F8",
           "zerolinewidth": 2
          },
          "yaxis": {
           "automargin": true,
           "gridcolor": "#EBF0F8",
           "linecolor": "#EBF0F8",
           "ticks": "",
           "title": {
            "standoff": 15
           },
           "zerolinecolor": "#EBF0F8",
           "zerolinewidth": 2
          }
         }
        },
        "title": {
         "text": "KEGG Enrichment Analysis"
        },
        "width": 900,
        "xaxis": {
         "anchor": "y",
         "domain": [
          0,
          1
         ],
         "title": {
          "text": "Count"
         }
        },
        "yaxis": {
         "anchor": "x",
         "autorange": "reversed",
         "domain": [
          0,
          1
         ],
         "title": {
          "text": "Pathway"
         }
        }
       }
      }
     },
     "metadata": {},
     "output_type": "display_data"
    }
   ],
   "source": [
    "def Kegg_BubbleChart(df_kegg, pic_type='bubble', color='Geyser', p_adjust=0.05 ,font_size=15 ,bubble_num=30, bubble_size=30, width=900, height=800):\n",
    "    \"\"\"根据输入的kegg富集结果，绘制气泡图\n",
    "    \"\"\"\n",
    "\n",
    "    # 数据处理\n",
    "    df_kegg = df_kegg.copy()\n",
    "    df_kegg.columns = [\"ID\", \"Pathway\", \"GeneRatio\", \"BgRatio\", \"P.value\", \"P.adjust\", 'qvalue', 'geneID', 'Count']\n",
    "    df_kegg = df_kegg[['Pathway', 'GeneRatio', 'P.adjust', 'Count']]\n",
    "\n",
    "    df_kegg[\"GeneRatio\"] = df_kegg[\"GeneRatio\"].apply(lambda x: round(eval(x), 3)) # GeneRatio列输出处理为浮点数\n",
    "    df_kegg['P.adjust'] = df_kegg['P.adjust'].apply(lambda x: round(x, 6)) # 控制P.adjust列的小数位数\n",
    "    df_kegg = df_kegg[df_kegg['P.adjust'] < p_adjust] # 过滤P.adjust值\n",
    "    df_kegg = df_kegg.sort_values(by='Count', ascending=False) # 按照Count列降序排列\n",
    "    df_kegg = df_kegg.iloc[:bubble_num] # 取前bubble_num个数据\n",
    "\n",
    "    # 图表公共布局设置\n",
    "    layout_args = {\n",
    "        'title': \"KEGG Enrichment Analysis\",\n",
    "        'yaxis_title': \"Pathway\",\n",
    "        'yaxis': dict(autorange=\"reversed\"),\n",
    "        'font': dict(family=\"Arial\", size=font_size),\n",
    "        'template': \"plotly_white\",\n",
    "        'width': width,\n",
    "        'height': height\n",
    "    }\n",
    "    # 颜色轴设置\n",
    "    color_axis_args = {\n",
    "        'colorbar_title': \"P.adjust\",\n",
    "        'colorbar_tickformat': \".3f\",\n",
    "        'colorbar': dict(dtick=0.005)\n",
    "    }\n",
    "    # 根据pic_type绘制不同类型的图表\n",
    "    if pic_type == 'bubble':\n",
    "        fig = px.scatter(\n",
    "            df_kegg, \n",
    "            x='GeneRatio',\n",
    "            y='Pathway',\n",
    "            size='Count',\n",
    "            color='P.adjust',\n",
    "            color_continuous_scale=color,\n",
    "            opacity=0.85,\n",
    "            hover_data=['P.adjust', 'Count'],\n",
    "            size_max=bubble_size\n",
    "            )\n",
    "    \n",
    "    elif pic_type == 'bar':\n",
    "        fig = px.bar(\n",
    "            df_kegg, \n",
    "            x='Count', \n",
    "            y='Pathway', \n",
    "            color='P.adjust', \n",
    "            color_continuous_scale=color, \n",
    "            opacity=0.85, \n",
    "            hover_data=['P.adjust', 'Count']\n",
    "            )\n",
    "\n",
    "    # 应用颜色轴设置\n",
    "    fig.update_layout(**layout_args)\n",
    "    fig.update_coloraxes(**color_axis_args)\n",
    "    \n",
    "    return fig\n",
    "\n",
    "Kegg_BubbleChart(df_kegg, color='RdBu_r',pic_type='bar')"
   ]
  },
  {
   "cell_type": "code",
   "execution_count": 5,
   "metadata": {},
   "outputs": [
    {
     "data": {
      "text/html": [
       "<div>\n",
       "<style scoped>\n",
       "    .dataframe tbody tr th:only-of-type {\n",
       "        vertical-align: middle;\n",
       "    }\n",
       "\n",
       "    .dataframe tbody tr th {\n",
       "        vertical-align: top;\n",
       "    }\n",
       "\n",
       "    .dataframe thead th {\n",
       "        text-align: right;\n",
       "    }\n",
       "</style>\n",
       "<table border=\"1\" class=\"dataframe\">\n",
       "  <thead>\n",
       "    <tr style=\"text-align: right;\">\n",
       "      <th></th>\n",
       "      <th>Category</th>\n",
       "      <th>Term</th>\n",
       "      <th>Count</th>\n",
       "      <th>%</th>\n",
       "      <th>PValue</th>\n",
       "      <th>Genes</th>\n",
       "      <th>List Total</th>\n",
       "      <th>Pop Hits</th>\n",
       "      <th>Pop Total</th>\n",
       "      <th>Fold Enrichment</th>\n",
       "      <th>Bonferroni</th>\n",
       "      <th>Benjamini</th>\n",
       "      <th>FDR</th>\n",
       "    </tr>\n",
       "  </thead>\n",
       "  <tbody>\n",
       "    <tr>\n",
       "      <th>0</th>\n",
       "      <td>KEGG_PATHWAY</td>\n",
       "      <td>mtm00190:Oxidative phosphorylation</td>\n",
       "      <td>22</td>\n",
       "      <td>6.094183</td>\n",
       "      <td>3.000078e-09</td>\n",
       "      <td>MYCTH_73070, MYCTH_2315552, MYCTH_2316564, MYC...</td>\n",
       "      <td>131</td>\n",
       "      <td>82</td>\n",
       "      <td>2194</td>\n",
       "      <td>4.493390</td>\n",
       "      <td>2.160056e-07</td>\n",
       "      <td>2.160056e-07</td>\n",
       "      <td>2.160056e-07</td>\n",
       "    </tr>\n",
       "    <tr>\n",
       "      <th>1</th>\n",
       "      <td>KEGG_PATHWAY</td>\n",
       "      <td>mtm03040:Spliceosome</td>\n",
       "      <td>12</td>\n",
       "      <td>3.324100</td>\n",
       "      <td>7.747638e-03</td>\n",
       "      <td>MYCTH_2298987, MYCTH_2296655, MYCTH_2137175, M...</td>\n",
       "      <td>131</td>\n",
       "      <td>82</td>\n",
       "      <td>2194</td>\n",
       "      <td>2.450940</td>\n",
       "      <td>4.287921e-01</td>\n",
       "      <td>2.789150e-01</td>\n",
       "      <td>2.789150e-01</td>\n",
       "    </tr>\n",
       "    <tr>\n",
       "      <th>2</th>\n",
       "      <td>KEGG_PATHWAY</td>\n",
       "      <td>mtm03050:Proteasome</td>\n",
       "      <td>7</td>\n",
       "      <td>1.939058</td>\n",
       "      <td>1.312366e-02</td>\n",
       "      <td>MYCTH_2313806, MYCTH_2133968, MYCTH_2296573, M...</td>\n",
       "      <td>131</td>\n",
       "      <td>34</td>\n",
       "      <td>2194</td>\n",
       "      <td>3.448137</td>\n",
       "      <td>6.137068e-01</td>\n",
       "      <td>3.149678e-01</td>\n",
       "      <td>3.149678e-01</td>\n",
       "    </tr>\n",
       "    <tr>\n",
       "      <th>3</th>\n",
       "      <td>KEGG_PATHWAY</td>\n",
       "      <td>mtm03018:RNA degradation</td>\n",
       "      <td>7</td>\n",
       "      <td>1.939058</td>\n",
       "      <td>6.096503e-02</td>\n",
       "      <td>MYCTH_2298987, MYCTH_2311727, MYCTH_2115531, M...</td>\n",
       "      <td>131</td>\n",
       "      <td>48</td>\n",
       "      <td>2194</td>\n",
       "      <td>2.442430</td>\n",
       "      <td>9.892084e-01</td>\n",
       "      <td>1.000000e+00</td>\n",
       "      <td>1.000000e+00</td>\n",
       "    </tr>\n",
       "    <tr>\n",
       "      <th>4</th>\n",
       "      <td>KEGG_PATHWAY</td>\n",
       "      <td>mtm03010:Ribosome</td>\n",
       "      <td>11</td>\n",
       "      <td>3.047091</td>\n",
       "      <td>8.830933e-02</td>\n",
       "      <td>MYCTH_2311726, MYCTH_2304441, MYCTH_2086470, M...</td>\n",
       "      <td>131</td>\n",
       "      <td>105</td>\n",
       "      <td>2194</td>\n",
       "      <td>1.754562</td>\n",
       "      <td>9.987147e-01</td>\n",
       "      <td>1.000000e+00</td>\n",
       "      <td>1.000000e+00</td>\n",
       "    </tr>\n",
       "  </tbody>\n",
       "</table>\n",
       "</div>"
      ],
      "text/plain": [
       "       Category                                Term  Count         %  \\\n",
       "0  KEGG_PATHWAY  mtm00190:Oxidative phosphorylation     22  6.094183   \n",
       "1  KEGG_PATHWAY                mtm03040:Spliceosome     12  3.324100   \n",
       "2  KEGG_PATHWAY                 mtm03050:Proteasome      7  1.939058   \n",
       "3  KEGG_PATHWAY            mtm03018:RNA degradation      7  1.939058   \n",
       "4  KEGG_PATHWAY                   mtm03010:Ribosome     11  3.047091   \n",
       "\n",
       "         PValue                                              Genes  \\\n",
       "0  3.000078e-09  MYCTH_73070, MYCTH_2315552, MYCTH_2316564, MYC...   \n",
       "1  7.747638e-03  MYCTH_2298987, MYCTH_2296655, MYCTH_2137175, M...   \n",
       "2  1.312366e-02  MYCTH_2313806, MYCTH_2133968, MYCTH_2296573, M...   \n",
       "3  6.096503e-02  MYCTH_2298987, MYCTH_2311727, MYCTH_2115531, M...   \n",
       "4  8.830933e-02  MYCTH_2311726, MYCTH_2304441, MYCTH_2086470, M...   \n",
       "\n",
       "   List Total  Pop Hits  Pop Total  Fold Enrichment    Bonferroni  \\\n",
       "0         131        82       2194         4.493390  2.160056e-07   \n",
       "1         131        82       2194         2.450940  4.287921e-01   \n",
       "2         131        34       2194         3.448137  6.137068e-01   \n",
       "3         131        48       2194         2.442430  9.892084e-01   \n",
       "4         131       105       2194         1.754562  9.987147e-01   \n",
       "\n",
       "      Benjamini           FDR  \n",
       "0  2.160056e-07  2.160056e-07  \n",
       "1  2.789150e-01  2.789150e-01  \n",
       "2  3.149678e-01  3.149678e-01  \n",
       "3  1.000000e+00  1.000000e+00  \n",
       "4  1.000000e+00  1.000000e+00  "
      ]
     },
     "execution_count": 5,
     "metadata": {},
     "output_type": "execute_result"
    }
   ],
   "source": [
    "df_davie = pd.read_excel('./David-kegg.xlsx')\n",
    "df_davie"
   ]
  },
  {
   "cell_type": "markdown",
   "metadata": {},
   "source": [
    "### TBtools"
   ]
  },
  {
   "cell_type": "code",
   "execution_count": 11,
   "metadata": {},
   "outputs": [
    {
     "data": {
      "text/html": [
       "<div>\n",
       "<style scoped>\n",
       "    .dataframe tbody tr th:only-of-type {\n",
       "        vertical-align: middle;\n",
       "    }\n",
       "\n",
       "    .dataframe tbody tr th {\n",
       "        vertical-align: top;\n",
       "    }\n",
       "\n",
       "    .dataframe thead th {\n",
       "        text-align: right;\n",
       "    }\n",
       "</style>\n",
       "<table border=\"1\" class=\"dataframe\">\n",
       "  <thead>\n",
       "    <tr style=\"text-align: right;\">\n",
       "      <th></th>\n",
       "      <th>ID</th>\n",
       "      <th>Description</th>\n",
       "      <th>GeneRatio</th>\n",
       "      <th>BgRatio</th>\n",
       "      <th>pvalue</th>\n",
       "      <th>p.adjust</th>\n",
       "      <th>qvalue</th>\n",
       "      <th>geneID</th>\n",
       "      <th>Count</th>\n",
       "      <th>Link</th>\n",
       "    </tr>\n",
       "  </thead>\n",
       "  <tbody>\n",
       "    <tr>\n",
       "      <th>0</th>\n",
       "      <td>hsa03013</td>\n",
       "      <td>Nucleocytoplasmic transport</td>\n",
       "      <td>7/54</td>\n",
       "      <td>140/11319</td>\n",
       "      <td>0.000004</td>\n",
       "      <td>0.000266</td>\n",
       "      <td>0.000240</td>\n",
       "      <td>O00410/O00422/O00505/O00629/Q86V81/Q8IYB3/Q8N1F7</td>\n",
       "      <td>7</td>\n",
       "      <td>http://www.genome.jp/kegg-bin/show_pathway?hsa...</td>\n",
       "    </tr>\n",
       "    <tr>\n",
       "      <th>1</th>\n",
       "      <td>hsa03040</td>\n",
       "      <td>Spliceosome</td>\n",
       "      <td>7/54</td>\n",
       "      <td>180/11319</td>\n",
       "      <td>0.000022</td>\n",
       "      <td>0.000628</td>\n",
       "      <td>0.000568</td>\n",
       "      <td>O14776/Q6P2Q9/Q7L014/Q7RTV0/Q86V81/Q86XP3/Q8IWX8</td>\n",
       "      <td>7</td>\n",
       "      <td>http://www.genome.jp/kegg-bin/show_pathway?hsa...</td>\n",
       "    </tr>\n",
       "    <tr>\n",
       "      <th>2</th>\n",
       "      <td>hsa03015</td>\n",
       "      <td>mRNA surveillance pathway</td>\n",
       "      <td>6/54</td>\n",
       "      <td>127/11319</td>\n",
       "      <td>0.000029</td>\n",
       "      <td>0.000628</td>\n",
       "      <td>0.000568</td>\n",
       "      <td>O00422/Q6UN15/Q6UXN9/Q86U42/Q86V81/Q8IYB3</td>\n",
       "      <td>12</td>\n",
       "      <td>http://www.genome.jp/kegg-bin/show_pathway?hsa...</td>\n",
       "    </tr>\n",
       "    <tr>\n",
       "      <th>3</th>\n",
       "      <td>hsa03050</td>\n",
       "      <td>Proteasome</td>\n",
       "      <td>4/54</td>\n",
       "      <td>75/11319</td>\n",
       "      <td>0.000438</td>\n",
       "      <td>0.007002</td>\n",
       "      <td>0.006334</td>\n",
       "      <td>O00231/O00232/O00233/O00487</td>\n",
       "      <td>4</td>\n",
       "      <td>http://www.genome.jp/kegg-bin/show_pathway?hsa...</td>\n",
       "    </tr>\n",
       "    <tr>\n",
       "      <th>4</th>\n",
       "      <td>hsa05017</td>\n",
       "      <td>Spinocerebellar ataxia</td>\n",
       "      <td>5/54</td>\n",
       "      <td>204/11319</td>\n",
       "      <td>0.002797</td>\n",
       "      <td>0.035801</td>\n",
       "      <td>0.032386</td>\n",
       "      <td>O00231/O00232/O00233/O00487/O00567</td>\n",
       "      <td>5</td>\n",
       "      <td>http://www.genome.jp/kegg-bin/show_pathway?hsa...</td>\n",
       "    </tr>\n",
       "  </tbody>\n",
       "</table>\n",
       "</div>"
      ],
      "text/plain": [
       "         ID                  Description GeneRatio    BgRatio    pvalue  \\\n",
       "0  hsa03013  Nucleocytoplasmic transport      7/54  140/11319  0.000004   \n",
       "1  hsa03040                  Spliceosome      7/54  180/11319  0.000022   \n",
       "2  hsa03015    mRNA surveillance pathway      6/54  127/11319  0.000029   \n",
       "3  hsa03050                   Proteasome      4/54   75/11319  0.000438   \n",
       "4  hsa05017       Spinocerebellar ataxia      5/54  204/11319  0.002797   \n",
       "\n",
       "   p.adjust    qvalue                                            geneID  \\\n",
       "0  0.000266  0.000240  O00410/O00422/O00505/O00629/Q86V81/Q8IYB3/Q8N1F7   \n",
       "1  0.000628  0.000568  O14776/Q6P2Q9/Q7L014/Q7RTV0/Q86V81/Q86XP3/Q8IWX8   \n",
       "2  0.000628  0.000568         O00422/Q6UN15/Q6UXN9/Q86U42/Q86V81/Q8IYB3   \n",
       "3  0.007002  0.006334                       O00231/O00232/O00233/O00487   \n",
       "4  0.035801  0.032386                O00231/O00232/O00233/O00487/O00567   \n",
       "\n",
       "   Count                                               Link  \n",
       "0      7  http://www.genome.jp/kegg-bin/show_pathway?hsa...  \n",
       "1      7  http://www.genome.jp/kegg-bin/show_pathway?hsa...  \n",
       "2     12  http://www.genome.jp/kegg-bin/show_pathway?hsa...  \n",
       "3      4  http://www.genome.jp/kegg-bin/show_pathway?hsa...  \n",
       "4      5  http://www.genome.jp/kegg-bin/show_pathway?hsa...  "
      ]
     },
     "execution_count": 11,
     "metadata": {},
     "output_type": "execute_result"
    }
   ],
   "source": [
    "df_kegg = pd.read_csv('./KEGG_Enrichment_demo.csv', sep=',').copy()\n",
    "df_kegg.head()\n",
    "\n",
    "fig_kegg = Kegg_BubbleChart(df_kegg, 'Rdbu_r')"
   ]
  }
 ],
 "metadata": {
  "kernelspec": {
   "display_name": "code",
   "language": "python",
   "name": "python3"
  },
  "language_info": {
   "codemirror_mode": {
    "name": "ipython",
    "version": 3
   },
   "file_extension": ".py",
   "mimetype": "text/x-python",
   "name": "python",
   "nbconvert_exporter": "python",
   "pygments_lexer": "ipython3",
   "version": "3.10.0"
  }
 },
 "nbformat": 4,
 "nbformat_minor": 2
}
