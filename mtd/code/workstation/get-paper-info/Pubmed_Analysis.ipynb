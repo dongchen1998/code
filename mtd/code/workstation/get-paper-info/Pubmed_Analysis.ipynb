{
 "cells": [
  {
   "cell_type": "code",
   "execution_count": 26,
   "metadata": {},
   "outputs": [],
   "source": [
    "import pandas as pd\n",
    "import numpy as np\n",
    "from functools import reduce"
   ]
  },
  {
   "cell_type": "markdown",
   "metadata": {},
   "source": [
    "from Bio import Medline\n",
    "'''\n",
    "=========================================\n",
    "助记符描述\n",
    "---------------------------------------\n",
    "AB摘要\n",
    "CI版权信息\n",
    "AD附属机构\n",
    "IRAD调查员隶属关系\n",
    "AID物品标识符\n",
    "AU作者\n",
    "FAU完整作者\n",
    "CN公司作者\n",
    "DCOM完成日期\n",
    "DA创建日期\n",
    "LR上次修订日期\n",
    "DEP电子出版日期\n",
    "DP出版日期\n",
    "EDAT Entrez日期\n",
    "GS基因符号\n",
    "GN一般说明\n",
    "GR授予编号\n",
    "IR研究者姓名\n",
    "FIR调查员全名\n",
    "是ISSN\n",
    "IP问题\n",
    "TA期刊标题缩写\n",
    "JT期刊标题\n",
    "LA语言\n",
    "LID位置标识符\n",
    "MID手稿标识符\n",
    "MHDA MeSH日期\n",
    "MH MeSH术语\n",
    "JID NLM唯一ID\n",
    "RF参考编号\n",
    "OAB其他摘要\n",
    "OCI其他版权信息\n",
    "OID其他ID\n",
    "OT其他期限\n",
    "OTO其他期限所有者\n",
    "自有所有者\n",
    "PG寻呼\n",
    "PS个人姓名作为主题\n",
    "FPS全名作为主题\n",
    "PL出版地点\n",
    "PHST发布历史状态\n",
    "PST发布状态\n",
    "PT出版物类型\n",
    "PUBM发布模型\n",
    "PMC PubMed中央标识符\n",
    "PMID PubMed唯一标识符\n",
    "RN注册号/EC号\n",
    "NM物质名称\n",
    "SI辅助源ID\n",
    "SO来源\n",
    "SFM太空飞行任务\n",
    "STAT状态\n",
    "SB子集\n",
    "TI标题\n",
    "TT翻译标题\n",
    "VI卷\n",
    "CON评论\n",
    "CIN注释\n",
    "EIN勘误表\n",
    "EFR勘误表\n",
    "CRI已更正并于重新发布\n",
    "CRF从\n",
    "PRIN部分收回\n",
    "PROF部分收回\n",
    "RPI于重新发布\n",
    "RPF从重新发布\n",
    "RIN缩回\n",
    "ROF收回\n",
    "UIN更新\n",
    "UOF更新\n",
    "SPIN总结\n",
    "ORI中的原始报告\n",
    "========================================='''"
   ]
  },
  {
   "cell_type": "code",
   "execution_count": 27,
   "metadata": {},
   "outputs": [
    {
     "name": "stdout",
     "output_type": "stream",
     "text": [
      "文献数量： 6892\n"
     ]
    },
    {
     "data": {
      "text/html": [
       "<div>\n",
       "<style scoped>\n",
       "    .dataframe tbody tr th:only-of-type {\n",
       "        vertical-align: middle;\n",
       "    }\n",
       "\n",
       "    .dataframe tbody tr th {\n",
       "        vertical-align: top;\n",
       "    }\n",
       "\n",
       "    .dataframe thead th {\n",
       "        text-align: right;\n",
       "    }\n",
       "</style>\n",
       "<table border=\"1\" class=\"dataframe\">\n",
       "  <thead>\n",
       "    <tr style=\"text-align: right;\">\n",
       "      <th></th>\n",
       "      <th>PMID</th>\n",
       "      <th>Title</th>\n",
       "      <th>Authors</th>\n",
       "      <th>Citation</th>\n",
       "      <th>First Author</th>\n",
       "      <th>Journal/Book</th>\n",
       "      <th>Publication Year</th>\n",
       "      <th>Create Date</th>\n",
       "      <th>PMCID</th>\n",
       "      <th>NIHMS ID</th>\n",
       "      <th>DOI</th>\n",
       "    </tr>\n",
       "  </thead>\n",
       "  <tbody>\n",
       "    <tr>\n",
       "      <th>0</th>\n",
       "      <td>35858815</td>\n",
       "      <td>Glucuronoyl esterase facilitates biomass degra...</td>\n",
       "      <td>Wang R, Arioka M.</td>\n",
       "      <td>J Gen Appl Microbiol. 2023 Mar 6;68(6):278-286...</td>\n",
       "      <td>Wang R</td>\n",
       "      <td>J Gen Appl Microbiol</td>\n",
       "      <td>2023</td>\n",
       "      <td>2022/7/20</td>\n",
       "      <td>NaN</td>\n",
       "      <td>NaN</td>\n",
       "      <td>10.2323/jgam.2022.06.002</td>\n",
       "    </tr>\n",
       "    <tr>\n",
       "      <th>1</th>\n",
       "      <td>36481248</td>\n",
       "      <td>Optimized fluorescent proteins for 4-color and...</td>\n",
       "      <td>Wang Z, Bartholomai BM, Loros JJ, Dunlap JC.</td>\n",
       "      <td>Fungal Genet Biol. 2023 Jan;164:103763. doi: 1...</td>\n",
       "      <td>Wang Z</td>\n",
       "      <td>Fungal Genet Biol</td>\n",
       "      <td>2023</td>\n",
       "      <td>2022/12/8</td>\n",
       "      <td>PMC10501358</td>\n",
       "      <td>NIHMS1927181</td>\n",
       "      <td>10.1016/j.fgb.2022.103763</td>\n",
       "    </tr>\n",
       "    <tr>\n",
       "      <th>2</th>\n",
       "      <td>37220856</td>\n",
       "      <td>Domains required for the interaction of the ce...</td>\n",
       "      <td>Wang B, Dunlap JC.</td>\n",
       "      <td>J Biol Chem. 2023 Jul;299(7):104850. doi: 10.1...</td>\n",
       "      <td>Wang B</td>\n",
       "      <td>J Biol Chem</td>\n",
       "      <td>2023</td>\n",
       "      <td>2023/5/23</td>\n",
       "      <td>PMC10320511</td>\n",
       "      <td>NaN</td>\n",
       "      <td>10.1016/j.jbc.2023.104850</td>\n",
       "    </tr>\n",
       "    <tr>\n",
       "      <th>3</th>\n",
       "      <td>37313736</td>\n",
       "      <td>Permissiveness and competition within and betw...</td>\n",
       "      <td>Mela AP, Glass NL.</td>\n",
       "      <td>Genetics. 2023 Aug 9;224(4):iyad112. doi: 10.1...</td>\n",
       "      <td>Mela AP</td>\n",
       "      <td>Genetics</td>\n",
       "      <td>2023</td>\n",
       "      <td>2023/6/14</td>\n",
       "      <td>PMC10411585</td>\n",
       "      <td>NaN</td>\n",
       "      <td>10.1093/genetics/iyad112</td>\n",
       "    </tr>\n",
       "    <tr>\n",
       "      <th>4</th>\n",
       "      <td>36744948</td>\n",
       "      <td>Developing a Temperature-Inducible Transcripti...</td>\n",
       "      <td>Tabilo-Agurto C, Del Rio-Pinilla V, Eltit-Vill...</td>\n",
       "      <td>mBio. 2023 Feb 28;14(1):e0329122. doi: 10.1128...</td>\n",
       "      <td>Tabilo-Agurto C</td>\n",
       "      <td>mBio</td>\n",
       "      <td>2023</td>\n",
       "      <td>2023/2/6</td>\n",
       "      <td>PMC9973361</td>\n",
       "      <td>NaN</td>\n",
       "      <td>10.1128/mbio.03291-22</td>\n",
       "    </tr>\n",
       "  </tbody>\n",
       "</table>\n",
       "</div>"
      ],
      "text/plain": [
       "       PMID                                              Title  \\\n",
       "0  35858815  Glucuronoyl esterase facilitates biomass degra...   \n",
       "1  36481248  Optimized fluorescent proteins for 4-color and...   \n",
       "2  37220856  Domains required for the interaction of the ce...   \n",
       "3  37313736  Permissiveness and competition within and betw...   \n",
       "4  36744948  Developing a Temperature-Inducible Transcripti...   \n",
       "\n",
       "                                             Authors  \\\n",
       "0                                  Wang R, Arioka M.   \n",
       "1       Wang Z, Bartholomai BM, Loros JJ, Dunlap JC.   \n",
       "2                                 Wang B, Dunlap JC.   \n",
       "3                                 Mela AP, Glass NL.   \n",
       "4  Tabilo-Agurto C, Del Rio-Pinilla V, Eltit-Vill...   \n",
       "\n",
       "                                            Citation     First Author  \\\n",
       "0  J Gen Appl Microbiol. 2023 Mar 6;68(6):278-286...           Wang R   \n",
       "1  Fungal Genet Biol. 2023 Jan;164:103763. doi: 1...           Wang Z   \n",
       "2  J Biol Chem. 2023 Jul;299(7):104850. doi: 10.1...           Wang B   \n",
       "3  Genetics. 2023 Aug 9;224(4):iyad112. doi: 10.1...          Mela AP   \n",
       "4  mBio. 2023 Feb 28;14(1):e0329122. doi: 10.1128...  Tabilo-Agurto C   \n",
       "\n",
       "           Journal/Book  Publication Year Create Date        PMCID  \\\n",
       "0  J Gen Appl Microbiol              2023   2022/7/20          NaN   \n",
       "1     Fungal Genet Biol              2023   2022/12/8  PMC10501358   \n",
       "2           J Biol Chem              2023   2023/5/23  PMC10320511   \n",
       "3              Genetics              2023   2023/6/14  PMC10411585   \n",
       "4                  mBio              2023    2023/2/6   PMC9973361   \n",
       "\n",
       "       NIHMS ID                        DOI  \n",
       "0           NaN   10.2323/jgam.2022.06.002  \n",
       "1  NIHMS1927181  10.1016/j.fgb.2022.103763  \n",
       "2           NaN  10.1016/j.jbc.2023.104850  \n",
       "3           NaN   10.1093/genetics/iyad112  \n",
       "4           NaN      10.1128/mbio.03291-22  "
      ]
     },
     "execution_count": 27,
     "metadata": {},
     "output_type": "execute_result"
    }
   ],
   "source": [
    "df = pd.read_csv('./csv-Neurospora-set.csv', sep=',').copy()\n",
    "\n",
    "# 删除空值\n",
    "df = df.dropna(subset=['PMID'])\n",
    "# 删除重复值\n",
    "df = df.drop_duplicates(subset=['PMID'])\n",
    "df = df.reset_index(drop=True)\n",
    "# 如果df的DOI列为空，则删除该列\n",
    "df = df.dropna(subset=['DOI'])\n",
    "\n",
    "print(\"文献数量：\", df.shape[0])\n",
    "df.head()"
   ]
  },
  {
   "cell_type": "code",
   "execution_count": 28,
   "metadata": {},
   "outputs": [],
   "source": [
    "from Bio import Medline\n",
    "from Bio import Entrez\n",
    "import string\n",
    "import time\n",
    "from functools import reduce\n",
    "\n",
    "\n",
    "Entrez.email = \"dongjiacheng963@gmail.com\"\n",
    "# Entrez.api_key = \"6fcb01c2989c35aa1da3d9d0118abedfc409\"\n",
    "\n",
    "\n",
    "def get_keywords(PMID_list):\n",
    "    \"\"\"Thank to Dr. Mao Zhitao for his help in this function.\"\"\"\n",
    "    \n",
    "    PMID_info = []\n",
    "    for i in PMID_list:\n",
    "        # 解释：db：数据库，id：文献id，rettype：返回的文献格式，retmode：返回的文献格式  #获取PMID为pmid的论文，返回medline格式的文本\n",
    "        handle = Entrez.efetch(db=\"pubmed\", id=i, rettype=\"medline\", retmode=\"text\")\n",
    "        records = Medline.parse(handle)\n",
    "        records = list(records)\n",
    "\n",
    "        for record in records:\n",
    "            title = record.get(\"TI\", \"?\")  # 标题  # 解释get函数：获取字典中的值，如果没有则返回？\n",
    "            abstract = record.get(\"AB\", \"?\")  # 摘要\n",
    "            keywords = record.get(\"OT\", \"?\") # 关键词\n",
    "            Journal_abbrev = record.get(\"TA\", \"?\") # 期刊缩写\n",
    "            Journal = record.get(\"JT\", \"?\")\n",
    "            country = record.get(\"AD\", \"?\")[0].split(\", \")[-1].strip(string.punctuation)\n",
    "            pmid = record.get(\"PMID\", \"?\")\n",
    "            Author = record.get(\"FAU\", \"?\")\n",
    "            doi = record.get(\"SO\", \"?\")\n",
    "            date = record.get(\"DEP\", \"?\")\n",
    "            year = record.get(\"DP\", \"?\")\n",
    "            institution = record.get(\"AD\", \"?\")[0]\n",
    "\n",
    "            PMID_info.append(\n",
    "                {\n",
    "                    \"PMID\": pmid,\n",
    "                    \"DOI\": doi,\n",
    "                    \"Author\": Author,\n",
    "                    \"Title\": title,\n",
    "                    \"Abstract\": abstract,\n",
    "                    \"Keywords\": keywords,\n",
    "                    \"Journal_abbrev\": Journal_abbrev,\n",
    "                    \"Journal\": Journal,\n",
    "                    \"Institution\": institution,\n",
    "                    \"Country\": country,\n",
    "                    \"Date\": date,\n",
    "                    \"Year\": year,\n",
    "                }\n",
    "            )\n",
    "    return PMID_info\n",
    "\n",
    "\n",
    "def optimized_fetch(PMID_list):\n",
    "    PMID_info = []\n",
    "    start_time = time.time()\n",
    "\n",
    "    for i, pmid in enumerate(PMID_list):\n",
    "        if i % 3 == 0 and i != 0:\n",
    "            elapsed_time = time.time() - start_time\n",
    "            if elapsed_time < 1:\n",
    "                time.sleep(1 - elapsed_time)\n",
    "            start_time = time.time()\n",
    "\n",
    "        info = get_keywords([pmid])\n",
    "        PMID_info.extend(info)\n",
    "\n",
    "    return PMID_info"
   ]
  },
  {
   "cell_type": "code",
   "execution_count": null,
   "metadata": {},
   "outputs": [],
   "source": [
    "# # 设置Pubmed API访问频率\n",
    "# request_interval = 5  # 间隔时间\n",
    "\n",
    "# # 按每10篇文章，获取文献信息\n",
    "# list_PMID_info = [] \n",
    "# list_interval = np.arange(0, 10000, 10)\n",
    "# for i in list_interval:\n",
    "#     list_PMID = df['PMID'].tolist()[i:i+10]\n",
    "#     PMID_info = get_keywords(list_PMID)\n",
    "#     list_PMID_info.append(PMID_info)\n",
    "#     time.sleep(request_interval)\n",
    "\n",
    "# # 合并列表2\n",
    "# list_info = reduce(lambda x,y: x+y, list_PMID_info)\n",
    "# df_info = pd.DataFrame(list_info)\n",
    "# # df_info['DOI'] = df_info['DOI'].str.extract(r'(10\\.\\d{4,9}\\/[-._;()/:A-Za-z0-9]+)')\n",
    "# # df_info['DOI'] = df_info['DOI'].str.rstrip('.')\n",
    "# df_info"
   ]
  },
  {
   "cell_type": "code",
   "execution_count": null,
   "metadata": {},
   "outputs": [],
   "source": [
    "pmid_list = df['PMID'].tolist() \n",
    "# 使用 optimized_fetch 函数获取文献信息\n",
    "list_PMID_info = optimized_fetch(pmid_list)\n",
    "df_info = pd.DataFrame(list_PMID_info)\n",
    "df_info"
   ]
  },
  {
   "cell_type": "code",
   "execution_count": 31,
   "metadata": {},
   "outputs": [],
   "source": [
    "# 保存为csv文件\n",
    "df_info.to_csv('./df_info_输出示例.csv', index=False, sep=',', encoding='utf_8_sig')"
   ]
  },
  {
   "cell_type": "code",
   "execution_count": 32,
   "metadata": {},
   "outputs": [
    {
     "data": {
      "text/html": [
       "<div>\n",
       "<style scoped>\n",
       "    .dataframe tbody tr th:only-of-type {\n",
       "        vertical-align: middle;\n",
       "    }\n",
       "\n",
       "    .dataframe tbody tr th {\n",
       "        vertical-align: top;\n",
       "    }\n",
       "\n",
       "    .dataframe thead th {\n",
       "        text-align: right;\n",
       "    }\n",
       "</style>\n",
       "<table border=\"1\" class=\"dataframe\">\n",
       "  <thead>\n",
       "    <tr style=\"text-align: right;\">\n",
       "      <th></th>\n",
       "      <th>PMID</th>\n",
       "      <th>DOI</th>\n",
       "      <th>Author</th>\n",
       "      <th>Title</th>\n",
       "      <th>Abstract</th>\n",
       "      <th>Keywords</th>\n",
       "      <th>Journal_abbrev</th>\n",
       "      <th>Journal</th>\n",
       "      <th>Institution</th>\n",
       "      <th>Country</th>\n",
       "      <th>Date</th>\n",
       "      <th>Year</th>\n",
       "    </tr>\n",
       "  </thead>\n",
       "  <tbody>\n",
       "    <tr>\n",
       "      <th>0</th>\n",
       "      <td>35858815</td>\n",
       "      <td>10.2323/jgam.2022.06.002</td>\n",
       "      <td>[Wang, Ruijie, Arioka, Manabu]</td>\n",
       "      <td>Glucuronoyl esterase facilitates biomass degra...</td>\n",
       "      <td>Glucuronoyl esterase (GE) is a promising agent...</td>\n",
       "      <td>[Neurospora crassa, cellulase, glucuronoyl est...</td>\n",
       "      <td>J Gen Appl Microbiol</td>\n",
       "      <td>The Journal of general and applied microbiology</td>\n",
       "      <td>Department of Biotechnology, The University of...</td>\n",
       "      <td>The University of Tokyo</td>\n",
       "      <td>20220721</td>\n",
       "      <td>2023 Mar 6</td>\n",
       "    </tr>\n",
       "    <tr>\n",
       "      <th>1</th>\n",
       "      <td>36481248</td>\n",
       "      <td>10.1016/j.fgb.2022.103763</td>\n",
       "      <td>[Wang, Ziyan, Bartholomai, Bradley M, Loros, J...</td>\n",
       "      <td>Optimized fluorescent proteins for 4-color and...</td>\n",
       "      <td>Fungal cells are quite unique among life in th...</td>\n",
       "      <td>?</td>\n",
       "      <td>Fungal Genet Biol</td>\n",
       "      <td>Fungal genetics and biology : FG &amp; B</td>\n",
       "      <td>Geisel School of Medicine at Dartmouth, Depart...</td>\n",
       "      <td>USA</td>\n",
       "      <td>20221205</td>\n",
       "      <td>2023 Jan</td>\n",
       "    </tr>\n",
       "    <tr>\n",
       "      <th>2</th>\n",
       "      <td>37220856</td>\n",
       "      <td>10.1016/j.jbc.2023.104850</td>\n",
       "      <td>[Wang, Bin, Dunlap, Jay C]</td>\n",
       "      <td>Domains required for the interaction of the ce...</td>\n",
       "      <td>In the negative feedback loop composing the Ne...</td>\n",
       "      <td>[FFC, FRH, FRQ, Neurospora, WC-1, WC-2, WCC, a...</td>\n",
       "      <td>J Biol Chem</td>\n",
       "      <td>The Journal of biological chemistry</td>\n",
       "      <td>Department of Molecular and Systems Biology, G...</td>\n",
       "      <td>USA. Electronic address: Bin.Wang@Dartmouth.edu</td>\n",
       "      <td>20230521</td>\n",
       "      <td>2023 Jul</td>\n",
       "    </tr>\n",
       "    <tr>\n",
       "      <th>3</th>\n",
       "      <td>37313736</td>\n",
       "      <td>10.1093/genetics/iyad112</td>\n",
       "      <td>[Mela, Alexander P, Glass, N Louise]</td>\n",
       "      <td>Permissiveness and competition within and betw...</td>\n",
       "      <td>A multinucleate syncytium is a common growth f...</td>\n",
       "      <td>[Neurospora crassa, allorecognition, cell fusi...</td>\n",
       "      <td>Genetics</td>\n",
       "      <td>Genetics</td>\n",
       "      <td>The Plant and Microbial Biology Department, Un...</td>\n",
       "      <td>USA</td>\n",
       "      <td>?</td>\n",
       "      <td>2023 Aug 9</td>\n",
       "    </tr>\n",
       "    <tr>\n",
       "      <th>4</th>\n",
       "      <td>36744948</td>\n",
       "      <td>10.1128/mbio.03291-22</td>\n",
       "      <td>[Tabilo-Agurto, Cyndi, Del Rio-Pinilla, Veroni...</td>\n",
       "      <td>Developing a Temperature-Inducible Transcripti...</td>\n",
       "      <td>Heat shock protein (HSP)-encoding genes (hsp),...</td>\n",
       "      <td>[HSP, Neurospora, Neurospora crassa, heat shoc...</td>\n",
       "      <td>mBio</td>\n",
       "      <td>mBio</td>\n",
       "      <td>Departamento de Genetica Molecular y Microbiol...</td>\n",
       "      <td>Chile</td>\n",
       "      <td>20230206</td>\n",
       "      <td>2023 Feb 28</td>\n",
       "    </tr>\n",
       "    <tr>\n",
       "      <th>...</th>\n",
       "      <td>...</td>\n",
       "      <td>...</td>\n",
       "      <td>...</td>\n",
       "      <td>...</td>\n",
       "      <td>...</td>\n",
       "      <td>...</td>\n",
       "      <td>...</td>\n",
       "      <td>...</td>\n",
       "      <td>...</td>\n",
       "      <td>...</td>\n",
       "      <td>...</td>\n",
       "      <td>...</td>\n",
       "    </tr>\n",
       "    <tr>\n",
       "      <th>318</th>\n",
       "      <td>30986238</td>\n",
       "      <td>10.1371/journal.pone.0214546</td>\n",
       "      <td>[Shim, Euijin, Su, Jing, Noro, Jennifer, Teixe...</td>\n",
       "      <td>Conductive bacterial cellulose by in situ lacc...</td>\n",
       "      <td>Conductive and colored bacterial cellulose (BC...</td>\n",
       "      <td>?</td>\n",
       "      <td>PLoS One</td>\n",
       "      <td>PloS one</td>\n",
       "      <td>Department of Clothing and Textiles, Sookmyung...</td>\n",
       "      <td>South Korea</td>\n",
       "      <td>20190415</td>\n",
       "      <td>2019</td>\n",
       "    </tr>\n",
       "    <tr>\n",
       "      <th>319</th>\n",
       "      <td>17932916</td>\n",
       "      <td>10.1002/prot.21699</td>\n",
       "      <td>[Zumarraga, Miren, Camarero, Susana, Shleev, S...</td>\n",
       "      <td>Altering the laccase functionality by in vivo ...</td>\n",
       "      <td>The generation of diversity for directed prote...</td>\n",
       "      <td>?</td>\n",
       "      <td>Proteins</td>\n",
       "      <td>Proteins</td>\n",
       "      <td>Instituto de Catalisis y Petroleoquimica, CSIC...</td>\n",
       "      <td>Spain</td>\n",
       "      <td>?</td>\n",
       "      <td>2008 Apr</td>\n",
       "    </tr>\n",
       "    <tr>\n",
       "      <th>320</th>\n",
       "      <td>8597577</td>\n",
       "      <td>10.1016/0167-4838(95)00210-3</td>\n",
       "      <td>[Xu, F, Shin, W, Brown, S H, Wahleithner, J A,...</td>\n",
       "      <td>A study of a series of recombinant fungal lacc...</td>\n",
       "      <td>A series of fungal laccases (Polyporus pinsitu...</td>\n",
       "      <td>?</td>\n",
       "      <td>Biochim Biophys Acta</td>\n",
       "      <td>Biochimica et biophysica acta</td>\n",
       "      <td>Novo Nordisk Biotech, Davis, CA 95616 USA.</td>\n",
       "      <td>CA 95616 USA</td>\n",
       "      <td>?</td>\n",
       "      <td>1996 Feb 8</td>\n",
       "    </tr>\n",
       "    <tr>\n",
       "      <th>321</th>\n",
       "      <td>12817956</td>\n",
       "      <td>10.1021/ic026099n</td>\n",
       "      <td>[Palmer, Amy E, Szilagyi, Robert K, Cherry, Jo...</td>\n",
       "      <td>Spectroscopic characterization of the Leu513Hi...</td>\n",
       "      <td>A variety of spectroscopic techniques, combine...</td>\n",
       "      <td>?</td>\n",
       "      <td>Inorg Chem</td>\n",
       "      <td>Inorganic chemistry</td>\n",
       "      <td>Department of Chemistry, Stanford University, ...</td>\n",
       "      <td>USA</td>\n",
       "      <td>?</td>\n",
       "      <td>2003 Jun 30</td>\n",
       "    </tr>\n",
       "    <tr>\n",
       "      <th>322</th>\n",
       "      <td>12033819</td>\n",
       "      <td>10.1021/jf011504z</td>\n",
       "      <td>[Kim, Jong-Soo, Park, Jong-Woo, Lee, Sung-Eun,...</td>\n",
       "      <td>Formation of bound residues of 8-hydroxybentaz...</td>\n",
       "      <td>This study was performed to determine which ox...</td>\n",
       "      <td>?</td>\n",
       "      <td>J Agric Food Chem</td>\n",
       "      <td>Journal of agricultural and food chemistry</td>\n",
       "      <td>Department of Agricultural Chemistry, Kyungpoo...</td>\n",
       "      <td>Korea</td>\n",
       "      <td>?</td>\n",
       "      <td>2002 Jun 5</td>\n",
       "    </tr>\n",
       "  </tbody>\n",
       "</table>\n",
       "<p>323 rows × 12 columns</p>\n",
       "</div>"
      ],
      "text/plain": [
       "         PMID                           DOI  \\\n",
       "0    35858815      10.2323/jgam.2022.06.002   \n",
       "1    36481248     10.1016/j.fgb.2022.103763   \n",
       "2    37220856     10.1016/j.jbc.2023.104850   \n",
       "3    37313736      10.1093/genetics/iyad112   \n",
       "4    36744948         10.1128/mbio.03291-22   \n",
       "..        ...                           ...   \n",
       "318  30986238  10.1371/journal.pone.0214546   \n",
       "319  17932916            10.1002/prot.21699   \n",
       "320   8597577  10.1016/0167-4838(95)00210-3   \n",
       "321  12817956             10.1021/ic026099n   \n",
       "322  12033819             10.1021/jf011504z   \n",
       "\n",
       "                                                Author  \\\n",
       "0                       [Wang, Ruijie, Arioka, Manabu]   \n",
       "1    [Wang, Ziyan, Bartholomai, Bradley M, Loros, J...   \n",
       "2                           [Wang, Bin, Dunlap, Jay C]   \n",
       "3                 [Mela, Alexander P, Glass, N Louise]   \n",
       "4    [Tabilo-Agurto, Cyndi, Del Rio-Pinilla, Veroni...   \n",
       "..                                                 ...   \n",
       "318  [Shim, Euijin, Su, Jing, Noro, Jennifer, Teixe...   \n",
       "319  [Zumarraga, Miren, Camarero, Susana, Shleev, S...   \n",
       "320  [Xu, F, Shin, W, Brown, S H, Wahleithner, J A,...   \n",
       "321  [Palmer, Amy E, Szilagyi, Robert K, Cherry, Jo...   \n",
       "322  [Kim, Jong-Soo, Park, Jong-Woo, Lee, Sung-Eun,...   \n",
       "\n",
       "                                                 Title  \\\n",
       "0    Glucuronoyl esterase facilitates biomass degra...   \n",
       "1    Optimized fluorescent proteins for 4-color and...   \n",
       "2    Domains required for the interaction of the ce...   \n",
       "3    Permissiveness and competition within and betw...   \n",
       "4    Developing a Temperature-Inducible Transcripti...   \n",
       "..                                                 ...   \n",
       "318  Conductive bacterial cellulose by in situ lacc...   \n",
       "319  Altering the laccase functionality by in vivo ...   \n",
       "320  A study of a series of recombinant fungal lacc...   \n",
       "321  Spectroscopic characterization of the Leu513Hi...   \n",
       "322  Formation of bound residues of 8-hydroxybentaz...   \n",
       "\n",
       "                                              Abstract  \\\n",
       "0    Glucuronoyl esterase (GE) is a promising agent...   \n",
       "1    Fungal cells are quite unique among life in th...   \n",
       "2    In the negative feedback loop composing the Ne...   \n",
       "3    A multinucleate syncytium is a common growth f...   \n",
       "4    Heat shock protein (HSP)-encoding genes (hsp),...   \n",
       "..                                                 ...   \n",
       "318  Conductive and colored bacterial cellulose (BC...   \n",
       "319  The generation of diversity for directed prote...   \n",
       "320  A series of fungal laccases (Polyporus pinsitu...   \n",
       "321  A variety of spectroscopic techniques, combine...   \n",
       "322  This study was performed to determine which ox...   \n",
       "\n",
       "                                              Keywords        Journal_abbrev  \\\n",
       "0    [Neurospora crassa, cellulase, glucuronoyl est...  J Gen Appl Microbiol   \n",
       "1                                                    ?     Fungal Genet Biol   \n",
       "2    [FFC, FRH, FRQ, Neurospora, WC-1, WC-2, WCC, a...           J Biol Chem   \n",
       "3    [Neurospora crassa, allorecognition, cell fusi...              Genetics   \n",
       "4    [HSP, Neurospora, Neurospora crassa, heat shoc...                  mBio   \n",
       "..                                                 ...                   ...   \n",
       "318                                                  ?              PLoS One   \n",
       "319                                                  ?              Proteins   \n",
       "320                                                  ?  Biochim Biophys Acta   \n",
       "321                                                  ?            Inorg Chem   \n",
       "322                                                  ?     J Agric Food Chem   \n",
       "\n",
       "                                             Journal  \\\n",
       "0    The Journal of general and applied microbiology   \n",
       "1               Fungal genetics and biology : FG & B   \n",
       "2                The Journal of biological chemistry   \n",
       "3                                           Genetics   \n",
       "4                                               mBio   \n",
       "..                                               ...   \n",
       "318                                         PloS one   \n",
       "319                                         Proteins   \n",
       "320                    Biochimica et biophysica acta   \n",
       "321                              Inorganic chemistry   \n",
       "322       Journal of agricultural and food chemistry   \n",
       "\n",
       "                                           Institution  \\\n",
       "0    Department of Biotechnology, The University of...   \n",
       "1    Geisel School of Medicine at Dartmouth, Depart...   \n",
       "2    Department of Molecular and Systems Biology, G...   \n",
       "3    The Plant and Microbial Biology Department, Un...   \n",
       "4    Departamento de Genetica Molecular y Microbiol...   \n",
       "..                                                 ...   \n",
       "318  Department of Clothing and Textiles, Sookmyung...   \n",
       "319  Instituto de Catalisis y Petroleoquimica, CSIC...   \n",
       "320         Novo Nordisk Biotech, Davis, CA 95616 USA.   \n",
       "321  Department of Chemistry, Stanford University, ...   \n",
       "322  Department of Agricultural Chemistry, Kyungpoo...   \n",
       "\n",
       "                                             Country      Date         Year  \n",
       "0                            The University of Tokyo  20220721   2023 Mar 6  \n",
       "1                                                USA  20221205     2023 Jan  \n",
       "2    USA. Electronic address: Bin.Wang@Dartmouth.edu  20230521     2023 Jul  \n",
       "3                                                USA         ?   2023 Aug 9  \n",
       "4                                              Chile  20230206  2023 Feb 28  \n",
       "..                                               ...       ...          ...  \n",
       "318                                      South Korea  20190415         2019  \n",
       "319                                            Spain         ?     2008 Apr  \n",
       "320                                     CA 95616 USA         ?   1996 Feb 8  \n",
       "321                                              USA         ?  2003 Jun 30  \n",
       "322                                            Korea         ?   2002 Jun 5  \n",
       "\n",
       "[323 rows x 12 columns]"
      ]
     },
     "execution_count": 32,
     "metadata": {},
     "output_type": "execute_result"
    }
   ],
   "source": [
    "# df_info的PMID列有重复值，需要删除\n",
    "df_info = df_info.drop_duplicates(subset=['PMID'])\n",
    "df_info = df_info.reset_index(drop=True)\n",
    "df_info"
   ]
  },
  {
   "cell_type": "code",
   "execution_count": 33,
   "metadata": {},
   "outputs": [],
   "source": [
    "# 保存为csv文件\n",
    "df_info.to_csv('./df_info_输出示例-2.csv', index=False, sep=',', encoding='utf_8_sig')"
   ]
  },
  {
   "cell_type": "code",
   "execution_count": 28,
   "metadata": {},
   "outputs": [
    {
     "data": {
      "application/vnd.plotly.v1+json": {
       "config": {
        "plotlyServerURL": "https://plot.ly"
       },
       "data": [
        {
         "hovertemplate": "Journal=%{x}<br>PMID=%{y}<extra></extra>",
         "legendgroup": "",
         "marker": {
          "color": "#636efa",
          "symbol": "circle"
         },
         "mode": "markers",
         "name": "",
         "orientation": "v",
         "showlegend": false,
         "type": "scatter",
         "x": [
          "Fungal genetics and biology : FG & B",
          "The Journal of biological chemistry",
          "Journal of fungi (Basel, Switzerland)",
          "eLife",
          "AMB Express",
          "Genome research",
          "G3 (Bethesda, Md.)",
          "PloS one",
          "Metabolic engineering",
          "Frontiers in microbiology",
          "Microbiology spectrum",
          "ACS applied materials & interfaces",
          "Microorganisms",
          "Journal of biosciences",
          "Microbial cell factories",
          "Microbiology (Reading, England)",
          "Molecular plant",
          "Molecular ecology",
          "Journal of biological rhythms",
          "Mycologia",
          "Nature communications",
          "PLoS biology",
          "Preparative biochemistry & biotechnology",
          "Proceedings of the National Academy of Sciences of the United States of America",
          "Research in microbiology",
          "The Journal of general and applied microbiology",
          "Trends in genetics : TIG",
          "bioRxiv : the preprint server for biology",
          "Journal of biomolecular structure & dynamics",
          "International journal of molecular sciences",
          "Journal of applied microbiology",
          "Journal of agricultural and food chemistry",
          "Anesthesia and analgesia",
          "Applied and environmental microbiology",
          "Applied biochemistry and biotechnology",
          "Archives of microbiology",
          "BMC biotechnology",
          "BioMed research international",
          "Biotechnology and bioengineering",
          "Biotechnology for biofuels",
          "Biotechnology for biofuels and bioproducts",
          "Biotechnology letters",
          "Carbohydrate polymers",
          "Cell reports",
          "ChemSusChem",
          "Comparative biochemistry and physiology. Toxicology & pharmacology : CBP",
          "Critical reviews in biotechnology",
          "Enzyme and microbial technology",
          "FEMS microbiology letters",
          "Food microbiology"
         ],
         "xaxis": "x",
         "y": [
          5,
          3,
          3,
          2,
          2,
          2,
          2,
          2,
          2,
          2,
          2,
          1,
          1,
          1,
          1,
          1,
          1,
          1,
          1,
          1,
          1,
          1,
          1,
          1,
          1,
          1,
          1,
          1,
          1,
          1,
          1,
          1,
          1,
          1,
          1,
          1,
          1,
          1,
          1,
          1,
          1,
          1,
          1,
          1,
          1,
          1,
          1,
          1,
          1,
          1
         ],
         "yaxis": "y"
        }
       ],
       "layout": {
        "font": {
         "size": 20
        },
        "height": 1000,
        "legend": {
         "tracegroupgap": 0
        },
        "template": {
         "data": {
          "bar": [
           {
            "error_x": {
             "color": "#2a3f5f"
            },
            "error_y": {
             "color": "#2a3f5f"
            },
            "marker": {
             "line": {
              "color": "#E5ECF6",
              "width": 0.5
             },
             "pattern": {
              "fillmode": "overlay",
              "size": 10,
              "solidity": 0.2
             }
            },
            "type": "bar"
           }
          ],
          "barpolar": [
           {
            "marker": {
             "line": {
              "color": "#E5ECF6",
              "width": 0.5
             },
             "pattern": {
              "fillmode": "overlay",
              "size": 10,
              "solidity": 0.2
             }
            },
            "type": "barpolar"
           }
          ],
          "carpet": [
           {
            "aaxis": {
             "endlinecolor": "#2a3f5f",
             "gridcolor": "white",
             "linecolor": "white",
             "minorgridcolor": "white",
             "startlinecolor": "#2a3f5f"
            },
            "baxis": {
             "endlinecolor": "#2a3f5f",
             "gridcolor": "white",
             "linecolor": "white",
             "minorgridcolor": "white",
             "startlinecolor": "#2a3f5f"
            },
            "type": "carpet"
           }
          ],
          "choropleth": [
           {
            "colorbar": {
             "outlinewidth": 0,
             "ticks": ""
            },
            "type": "choropleth"
           }
          ],
          "contour": [
           {
            "colorbar": {
             "outlinewidth": 0,
             "ticks": ""
            },
            "colorscale": [
             [
              0,
              "#0d0887"
             ],
             [
              0.1111111111111111,
              "#46039f"
             ],
             [
              0.2222222222222222,
              "#7201a8"
             ],
             [
              0.3333333333333333,
              "#9c179e"
             ],
             [
              0.4444444444444444,
              "#bd3786"
             ],
             [
              0.5555555555555556,
              "#d8576b"
             ],
             [
              0.6666666666666666,
              "#ed7953"
             ],
             [
              0.7777777777777778,
              "#fb9f3a"
             ],
             [
              0.8888888888888888,
              "#fdca26"
             ],
             [
              1,
              "#f0f921"
             ]
            ],
            "type": "contour"
           }
          ],
          "contourcarpet": [
           {
            "colorbar": {
             "outlinewidth": 0,
             "ticks": ""
            },
            "type": "contourcarpet"
           }
          ],
          "heatmap": [
           {
            "colorbar": {
             "outlinewidth": 0,
             "ticks": ""
            },
            "colorscale": [
             [
              0,
              "#0d0887"
             ],
             [
              0.1111111111111111,
              "#46039f"
             ],
             [
              0.2222222222222222,
              "#7201a8"
             ],
             [
              0.3333333333333333,
              "#9c179e"
             ],
             [
              0.4444444444444444,
              "#bd3786"
             ],
             [
              0.5555555555555556,
              "#d8576b"
             ],
             [
              0.6666666666666666,
              "#ed7953"
             ],
             [
              0.7777777777777778,
              "#fb9f3a"
             ],
             [
              0.8888888888888888,
              "#fdca26"
             ],
             [
              1,
              "#f0f921"
             ]
            ],
            "type": "heatmap"
           }
          ],
          "heatmapgl": [
           {
            "colorbar": {
             "outlinewidth": 0,
             "ticks": ""
            },
            "colorscale": [
             [
              0,
              "#0d0887"
             ],
             [
              0.1111111111111111,
              "#46039f"
             ],
             [
              0.2222222222222222,
              "#7201a8"
             ],
             [
              0.3333333333333333,
              "#9c179e"
             ],
             [
              0.4444444444444444,
              "#bd3786"
             ],
             [
              0.5555555555555556,
              "#d8576b"
             ],
             [
              0.6666666666666666,
              "#ed7953"
             ],
             [
              0.7777777777777778,
              "#fb9f3a"
             ],
             [
              0.8888888888888888,
              "#fdca26"
             ],
             [
              1,
              "#f0f921"
             ]
            ],
            "type": "heatmapgl"
           }
          ],
          "histogram": [
           {
            "marker": {
             "pattern": {
              "fillmode": "overlay",
              "size": 10,
              "solidity": 0.2
             }
            },
            "type": "histogram"
           }
          ],
          "histogram2d": [
           {
            "colorbar": {
             "outlinewidth": 0,
             "ticks": ""
            },
            "colorscale": [
             [
              0,
              "#0d0887"
             ],
             [
              0.1111111111111111,
              "#46039f"
             ],
             [
              0.2222222222222222,
              "#7201a8"
             ],
             [
              0.3333333333333333,
              "#9c179e"
             ],
             [
              0.4444444444444444,
              "#bd3786"
             ],
             [
              0.5555555555555556,
              "#d8576b"
             ],
             [
              0.6666666666666666,
              "#ed7953"
             ],
             [
              0.7777777777777778,
              "#fb9f3a"
             ],
             [
              0.8888888888888888,
              "#fdca26"
             ],
             [
              1,
              "#f0f921"
             ]
            ],
            "type": "histogram2d"
           }
          ],
          "histogram2dcontour": [
           {
            "colorbar": {
             "outlinewidth": 0,
             "ticks": ""
            },
            "colorscale": [
             [
              0,
              "#0d0887"
             ],
             [
              0.1111111111111111,
              "#46039f"
             ],
             [
              0.2222222222222222,
              "#7201a8"
             ],
             [
              0.3333333333333333,
              "#9c179e"
             ],
             [
              0.4444444444444444,
              "#bd3786"
             ],
             [
              0.5555555555555556,
              "#d8576b"
             ],
             [
              0.6666666666666666,
              "#ed7953"
             ],
             [
              0.7777777777777778,
              "#fb9f3a"
             ],
             [
              0.8888888888888888,
              "#fdca26"
             ],
             [
              1,
              "#f0f921"
             ]
            ],
            "type": "histogram2dcontour"
           }
          ],
          "mesh3d": [
           {
            "colorbar": {
             "outlinewidth": 0,
             "ticks": ""
            },
            "type": "mesh3d"
           }
          ],
          "parcoords": [
           {
            "line": {
             "colorbar": {
              "outlinewidth": 0,
              "ticks": ""
             }
            },
            "type": "parcoords"
           }
          ],
          "pie": [
           {
            "automargin": true,
            "type": "pie"
           }
          ],
          "scatter": [
           {
            "fillpattern": {
             "fillmode": "overlay",
             "size": 10,
             "solidity": 0.2
            },
            "type": "scatter"
           }
          ],
          "scatter3d": [
           {
            "line": {
             "colorbar": {
              "outlinewidth": 0,
              "ticks": ""
             }
            },
            "marker": {
             "colorbar": {
              "outlinewidth": 0,
              "ticks": ""
             }
            },
            "type": "scatter3d"
           }
          ],
          "scattercarpet": [
           {
            "marker": {
             "colorbar": {
              "outlinewidth": 0,
              "ticks": ""
             }
            },
            "type": "scattercarpet"
           }
          ],
          "scattergeo": [
           {
            "marker": {
             "colorbar": {
              "outlinewidth": 0,
              "ticks": ""
             }
            },
            "type": "scattergeo"
           }
          ],
          "scattergl": [
           {
            "marker": {
             "colorbar": {
              "outlinewidth": 0,
              "ticks": ""
             }
            },
            "type": "scattergl"
           }
          ],
          "scattermapbox": [
           {
            "marker": {
             "colorbar": {
              "outlinewidth": 0,
              "ticks": ""
             }
            },
            "type": "scattermapbox"
           }
          ],
          "scatterpolar": [
           {
            "marker": {
             "colorbar": {
              "outlinewidth": 0,
              "ticks": ""
             }
            },
            "type": "scatterpolar"
           }
          ],
          "scatterpolargl": [
           {
            "marker": {
             "colorbar": {
              "outlinewidth": 0,
              "ticks": ""
             }
            },
            "type": "scatterpolargl"
           }
          ],
          "scatterternary": [
           {
            "marker": {
             "colorbar": {
              "outlinewidth": 0,
              "ticks": ""
             }
            },
            "type": "scatterternary"
           }
          ],
          "surface": [
           {
            "colorbar": {
             "outlinewidth": 0,
             "ticks": ""
            },
            "colorscale": [
             [
              0,
              "#0d0887"
             ],
             [
              0.1111111111111111,
              "#46039f"
             ],
             [
              0.2222222222222222,
              "#7201a8"
             ],
             [
              0.3333333333333333,
              "#9c179e"
             ],
             [
              0.4444444444444444,
              "#bd3786"
             ],
             [
              0.5555555555555556,
              "#d8576b"
             ],
             [
              0.6666666666666666,
              "#ed7953"
             ],
             [
              0.7777777777777778,
              "#fb9f3a"
             ],
             [
              0.8888888888888888,
              "#fdca26"
             ],
             [
              1,
              "#f0f921"
             ]
            ],
            "type": "surface"
           }
          ],
          "table": [
           {
            "cells": {
             "fill": {
              "color": "#EBF0F8"
             },
             "line": {
              "color": "white"
             }
            },
            "header": {
             "fill": {
              "color": "#C8D4E3"
             },
             "line": {
              "color": "white"
             }
            },
            "type": "table"
           }
          ]
         },
         "layout": {
          "annotationdefaults": {
           "arrowcolor": "#2a3f5f",
           "arrowhead": 0,
           "arrowwidth": 1
          },
          "autotypenumbers": "strict",
          "coloraxis": {
           "colorbar": {
            "outlinewidth": 0,
            "ticks": ""
           }
          },
          "colorscale": {
           "diverging": [
            [
             0,
             "#8e0152"
            ],
            [
             0.1,
             "#c51b7d"
            ],
            [
             0.2,
             "#de77ae"
            ],
            [
             0.3,
             "#f1b6da"
            ],
            [
             0.4,
             "#fde0ef"
            ],
            [
             0.5,
             "#f7f7f7"
            ],
            [
             0.6,
             "#e6f5d0"
            ],
            [
             0.7,
             "#b8e186"
            ],
            [
             0.8,
             "#7fbc41"
            ],
            [
             0.9,
             "#4d9221"
            ],
            [
             1,
             "#276419"
            ]
           ],
           "sequential": [
            [
             0,
             "#0d0887"
            ],
            [
             0.1111111111111111,
             "#46039f"
            ],
            [
             0.2222222222222222,
             "#7201a8"
            ],
            [
             0.3333333333333333,
             "#9c179e"
            ],
            [
             0.4444444444444444,
             "#bd3786"
            ],
            [
             0.5555555555555556,
             "#d8576b"
            ],
            [
             0.6666666666666666,
             "#ed7953"
            ],
            [
             0.7777777777777778,
             "#fb9f3a"
            ],
            [
             0.8888888888888888,
             "#fdca26"
            ],
            [
             1,
             "#f0f921"
            ]
           ],
           "sequentialminus": [
            [
             0,
             "#0d0887"
            ],
            [
             0.1111111111111111,
             "#46039f"
            ],
            [
             0.2222222222222222,
             "#7201a8"
            ],
            [
             0.3333333333333333,
             "#9c179e"
            ],
            [
             0.4444444444444444,
             "#bd3786"
            ],
            [
             0.5555555555555556,
             "#d8576b"
            ],
            [
             0.6666666666666666,
             "#ed7953"
            ],
            [
             0.7777777777777778,
             "#fb9f3a"
            ],
            [
             0.8888888888888888,
             "#fdca26"
            ],
            [
             1,
             "#f0f921"
            ]
           ]
          },
          "colorway": [
           "#636efa",
           "#EF553B",
           "#00cc96",
           "#ab63fa",
           "#FFA15A",
           "#19d3f3",
           "#FF6692",
           "#B6E880",
           "#FF97FF",
           "#FECB52"
          ],
          "font": {
           "color": "#2a3f5f"
          },
          "geo": {
           "bgcolor": "white",
           "lakecolor": "white",
           "landcolor": "#E5ECF6",
           "showlakes": true,
           "showland": true,
           "subunitcolor": "white"
          },
          "hoverlabel": {
           "align": "left"
          },
          "hovermode": "closest",
          "mapbox": {
           "style": "light"
          },
          "paper_bgcolor": "white",
          "plot_bgcolor": "#E5ECF6",
          "polar": {
           "angularaxis": {
            "gridcolor": "white",
            "linecolor": "white",
            "ticks": ""
           },
           "bgcolor": "#E5ECF6",
           "radialaxis": {
            "gridcolor": "white",
            "linecolor": "white",
            "ticks": ""
           }
          },
          "scene": {
           "xaxis": {
            "backgroundcolor": "#E5ECF6",
            "gridcolor": "white",
            "gridwidth": 2,
            "linecolor": "white",
            "showbackground": true,
            "ticks": "",
            "zerolinecolor": "white"
           },
           "yaxis": {
            "backgroundcolor": "#E5ECF6",
            "gridcolor": "white",
            "gridwidth": 2,
            "linecolor": "white",
            "showbackground": true,
            "ticks": "",
            "zerolinecolor": "white"
           },
           "zaxis": {
            "backgroundcolor": "#E5ECF6",
            "gridcolor": "white",
            "gridwidth": 2,
            "linecolor": "white",
            "showbackground": true,
            "ticks": "",
            "zerolinecolor": "white"
           }
          },
          "shapedefaults": {
           "line": {
            "color": "#2a3f5f"
           }
          },
          "ternary": {
           "aaxis": {
            "gridcolor": "white",
            "linecolor": "white",
            "ticks": ""
           },
           "baxis": {
            "gridcolor": "white",
            "linecolor": "white",
            "ticks": ""
           },
           "bgcolor": "#E5ECF6",
           "caxis": {
            "gridcolor": "white",
            "linecolor": "white",
            "ticks": ""
           }
          },
          "title": {
           "x": 0.05
          },
          "xaxis": {
           "automargin": true,
           "gridcolor": "white",
           "linecolor": "white",
           "ticks": "",
           "title": {
            "standoff": 15
           },
           "zerolinecolor": "white",
           "zerolinewidth": 2
          },
          "yaxis": {
           "automargin": true,
           "gridcolor": "white",
           "linecolor": "white",
           "ticks": "",
           "title": {
            "standoff": 15
           },
           "zerolinecolor": "white",
           "zerolinewidth": 2
          }
         }
        },
        "title": {
         "text": "Journals"
        },
        "xaxis": {
         "anchor": "y",
         "domain": [
          0,
          1
         ],
         "tickangle": 45,
         "title": {
          "text": "Journal"
         }
        },
        "yaxis": {
         "anchor": "x",
         "domain": [
          0,
          1
         ],
         "title": {
          "text": "PMID"
         }
        }
       }
      }
     },
     "metadata": {},
     "output_type": "display_data"
    }
   ],
   "source": [
    "# 根据df_info['Journal']的信息，绘制柱状图\n",
    "import plotly.express as px\n",
    "import plotly.graph_objects as go\n",
    "\n",
    "df_info_gro_jour = df_info.groupby('Journal').count().sort_values(by='PMID', ascending=False).iloc[:50, :]\n",
    "fig = px.scatter(df_info_gro_jour, x=df_info_gro_jour.index, y=df_info_gro_jour['PMID'], title='Journals', labels={'x':'Journal', 'y':'Count'},)\n",
    "fig.update_layout(height=1000, xaxis_tickangle=45, template='plotly', font_size=20)\n",
    "fig.show()"
   ]
  }
 ],
 "metadata": {
  "kernelspec": {
   "display_name": "py37_plot",
   "language": "python",
   "name": "python3"
  },
  "language_info": {
   "codemirror_mode": {
    "name": "ipython",
    "version": 3
   },
   "file_extension": ".py",
   "mimetype": "text/x-python",
   "name": "python",
   "nbconvert_exporter": "python",
   "pygments_lexer": "ipython3",
   "version": "3.10.0"
  },
  "orig_nbformat": 4
 },
 "nbformat": 4,
 "nbformat_minor": 2
}
