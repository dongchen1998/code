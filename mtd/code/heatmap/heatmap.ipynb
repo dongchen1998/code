{
 "cells": [
  {
   "cell_type": "code",
   "execution_count": null,
   "metadata": {},
   "outputs": [],
   "source": [
    "import pandas as pd\n",
    "import plotly.express as px\n",
    "\n",
    "df = pd.read_csv(\"demo-fpkm.csv\")\n",
    "df = df.set_index(\"gene_id\")\n",
    "\n",
    "fig = px.imshow(df,\n",
    "                labels=dict(x=\"Sample\", y=\"Gene\", color=\"FPKM\"),\n",
    "                x=df.columns,\n",
    "                y=df.index,\n",
    "               color_continuous_scale='RdBu_r',\n",
    "               hover_data=['FPKM']) \n",
    "\n",
    "fig.update_xaxes(side=\"top\")\n",
    "fig.update_layout(title=\"Gene Expression Heatmap\", \n",
    "                  xaxis_title=\"Sample\",\n",
    "                  yaxis_title=\"Gene\")\n",
    "\n",
    "fig.show()"
   ]
  }
 ],
 "metadata": {
  "language_info": {
   "name": "python"
  }
 },
 "nbformat": 4,
 "nbformat_minor": 2
}
