{
 "cells": [
  {
   "cell_type": "code",
   "execution_count": null,
   "metadata": {},
   "outputs": [],
   "source": [
    "import plotly.express as px\n",
    "import numpy as np\n",
    "\n",
    "# Log transformation of the data\n",
    "df_log = np.log(df.iloc[:, 1:])\n",
    "\n",
    "# Create the heatmap\n",
    "fig = px.imshow(df_log.T, x=df['Geneid'], y=df.columns[1:], color_continuous_scale='Viridis')\n",
    "\n",
    "# Set the axis labels and title\n",
    "fig.update_layout(\n",
    "    xaxis_title='Gene ID',\n",
    "    yaxis_title='Sample ID',\n",
    "    title='Gene Expression Heatmap'\n",
    ")\n",
    "\n",
    "# Show the figure\n",
    "fig"
   ]
  }
 ],
 "metadata": {
  "language_info": {
   "name": "python"
  },
  "orig_nbformat": 4
 },
 "nbformat": 4,
 "nbformat_minor": 2
}
