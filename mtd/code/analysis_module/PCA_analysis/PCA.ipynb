{
 "cells": [
  {
   "cell_type": "code",
   "execution_count": null,
   "metadata": {},
   "outputs": [],
   "source": [
    "import pandas as pd\n",
    "import numpy as np\n",
    "import subprocess"
   ]
  },
  {
   "cell_type": "markdown",
   "metadata": {},
   "source": [
    "####  调用R脚本，对输入的基因表达矩阵与样本分组信息，进行PCA分析，并生成静态图与json文件"
   ]
  },
  {
   "cell_type": "code",
   "execution_count": null,
   "metadata": {},
   "outputs": [],
   "source": [
    "def run_pca(input_count_path, input_sample_path, output_png_path, output_json_path):\n",
    "\n",
    "    # R脚本的路径，需要师哥你改路径\n",
    "    script_path = '/Users/dongjiacheng/Desktop/coder/mtd/code/analysis_module/differential_analysis/PCA.R'\n",
    "\n",
    "    cmd = [\n",
    "        'Rscript', script_path,\n",
    "        '--input_count', input_count_path,\n",
    "        '--input_sample', input_sample_path,\n",
    "        '--output_png', output_png_path,\n",
    "        '--output_json', output_json_path,\n",
    "    ]\n",
    "\n",
    "    # 执行R脚本并捕获输出\n",
    "    try:\n",
    "        result = subprocess.run(cmd, check=True, stdout=subprocess.PIPE, stderr=subprocess.PIPE, text=True)\n",
    "        return result.stdout\n",
    "    except subprocess.CalledProcessError as e:\n",
    "        return e.stderr\n",
    "\n",
    "# 示例调用\n",
    "output_pca = run_pca(\"input_file/expression_matrix.csv\", \"input_file/sample_info.csv\", \"output_file/pca.png\", \"output_file/pca.json\")"
   ]
  }
 ],
 "metadata": {
  "language_info": {
   "name": "python"
  }
 },
 "nbformat": 4,
 "nbformat_minor": 2
}
