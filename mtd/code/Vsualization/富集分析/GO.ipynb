{
 "cells": [
  {
   "cell_type": "code",
   "execution_count": 2,
   "metadata": {},
   "outputs": [],
   "source": [
    "import pandas as pd\n",
    "import plotly.express as px\n",
    "import plotly.graph_objects as go"
   ]
  },
  {
   "cell_type": "code",
   "execution_count": 1,
   "metadata": {},
   "outputs": [
    {
     "ename": "NameError",
     "evalue": "name 'pd' is not defined",
     "output_type": "error",
     "traceback": [
      "\u001b[0;31m---------------------------------------------------------------------------\u001b[0m",
      "\u001b[0;31mNameError\u001b[0m                                 Traceback (most recent call last)",
      "\u001b[1;32m/Users/dongjiacheng/Desktop/code/mtd/code/Vsualization/富集分析/GO.ipynb 单元格 2\u001b[0m line \u001b[0;36m1\n\u001b[0;32m----> <a href='vscode-notebook-cell:/Users/dongjiacheng/Desktop/code/mtd/code/Vsualization/%E5%AF%8C%E9%9B%86%E5%88%86%E6%9E%90/GO.ipynb#W1sZmlsZQ%3D%3D?line=0'>1</a>\u001b[0m df_go \u001b[39m=\u001b[39m pd\u001b[39m.\u001b[39mread_csv(\u001b[39m\"\u001b[39m\u001b[39m./enrich_go.tsv\u001b[39m\u001b[39m\"\u001b[39m, sep\u001b[39m=\u001b[39m\u001b[39m\"\u001b[39m\u001b[39m\\t\u001b[39;00m\u001b[39m\"\u001b[39m)\n\u001b[1;32m      <a href='vscode-notebook-cell:/Users/dongjiacheng/Desktop/code/mtd/code/Vsualization/%E5%AF%8C%E9%9B%86%E5%88%86%E6%9E%90/GO.ipynb#W1sZmlsZQ%3D%3D?line=1'>2</a>\u001b[0m df_go\n",
      "\u001b[0;31mNameError\u001b[0m: name 'pd' is not defined"
     ]
    }
   ],
   "source": [
    "df_go = pd.read_csv(\"./enrich_go.tsv\", sep=\"\\t\")\n",
    "df_go"
   ]
  },
  {
   "cell_type": "code",
   "execution_count": 12,
   "metadata": {},
   "outputs": [],
   "source": [
    "def GO_Chart(df_go, pic_type='bubble', color='Geyser', go_type='all', p_value=0.5, bubble_num=30, bubble_size=30, width=1000, height=800):\n",
    "    \"\"\"根据输入的GO富集分析结果，绘制气泡图\n",
    "    \"\"\"\n",
    "\n",
    "    # 数据处理\n",
    "    df_go = df_go.copy()\n",
    "    df_go = df_go[[\"category\", \"ID\", \"Description\", \"Count\", 'GeneRatio',\"p.adjust\"]]\n",
    "    df_go.columns = [\"Class\", \"ID\", \"Description\", \"Count\", \"GeneRatio\", \"P.adjust\"]\n",
    "\n",
    "    df_go[\"GeneRatio\"] = df_go[\"GeneRatio\"].apply(lambda x: round(eval(x), 3)) # GeneRatio列输出处理为浮点数\n",
    "    df_go['P.adjust'] = df_go['P.adjust'].apply(lambda x: round(x, 6)) # 控制P.adjust列的小数位数\n",
    "    df_go = df_go.sort_values(by='Count', ascending=False) # 按照Count列降序排列\n",
    "    df_go = df_go[df_go[\"P.adjust\"] < p_value] # 过滤P.adjust列小于p_value的行\n",
    "    df_go = df_go.iloc[:bubble_num] # 取前bubble_num行\n",
    "\n",
    "    if go_type in [\"BP\", \"CC\", \"MF\"]:\n",
    "        df_go = df_go[df_go[\"Class\"].str.contains(go_type)]\n",
    "\n",
    "    # 如果pic_type为bubble，则绘制气泡图\n",
    "    if pic_type == \"bubble\":\n",
    "        # 创建图表\n",
    "        fig = px.scatter(\n",
    "            df_go,\n",
    "            x=\"GeneRatio\",\n",
    "            y=\"Description\",\n",
    "            size=\"Count\",\n",
    "            color=\"P.adjust\",\n",
    "            color_continuous_scale=color,\n",
    "            opacity=0.85,\n",
    "            hover_name=\"Class\",\n",
    "            hover_data=[\"ID\", \"Description\", \"Count\", \"GeneRatio\", \"P.adjust\"],\n",
    "            size_max=bubble_size,\n",
    "        )\n",
    "        fig.update_layout(\n",
    "            title=\"GO Enrichment Analysis\",\n",
    "            xaxis_title = \"GeneRatio\",\n",
    "            yaxis_title = \"Description\",\n",
    "            yaxis = dict(autorange=\"reversed\"),  # y轴反转\n",
    "            font=dict(family=\"Arial\", size=14),\n",
    "            template=\"plotly_white\",\n",
    "            # template=\"simple_white\",\n",
    "            width=width,  # 图表宽度\n",
    "            height=height,  # 图表高度\n",
    "        )\n",
    "    \n",
    "    # 显示图表并返回\n",
    "    return fig\n",
    "\n",
    "# GO_Chart(df_go)"
   ]
  },
  {
   "cell_type": "code",
   "execution_count": 17,
   "metadata": {},
   "outputs": [
    {
     "data": {
      "application/vnd.plotly.v1+json": {
       "config": {
        "plotlyServerURL": "https://plot.ly"
       },
       "data": [
        {
         "customdata": [
          [
           "GO:0003676",
           45,
           0.000906
          ],
          [
           "GO:0003723",
           32,
           0.00736
          ],
          [
           "GO:0016887",
           31,
           0.000014
          ],
          [
           "GO:0004672",
           30,
           0.005756
          ],
          [
           "GO:0006468",
           29,
           0.018682
          ],
          [
           "GO:0005525",
           26,
           0.000026
          ],
          [
           "GO:0003924",
           24,
           0.000013
          ],
          [
           "GO:0005634",
           24,
           0.016415
          ],
          [
           "GO:0007165",
           20,
           0
          ],
          [
           "GO:0000166",
           18,
           0.022488
          ],
          [
           "GO:0006260",
           12,
           0.010452
          ],
          [
           "GO:0006886",
           12,
           0.040677
          ],
          [
           "GO:0005085",
           10,
           0.001496
          ],
          [
           "GO:0006511",
           10,
           0.024834
          ],
          [
           "GO:0004842",
           9,
           0.001208
          ],
          [
           "GO:0016579",
           7,
           0.022576
          ],
          [
           "GO:0061630",
           7,
           0.027016
          ],
          [
           "GO:0004843",
           7,
           0.032134
          ],
          [
           "GO:0004386",
           7,
           0.040202
          ],
          [
           "GO:0000160",
           6,
           0.029119
          ],
          [
           "GO:0017056",
           6,
           0.003083
          ],
          [
           "GO:0016310",
           6,
           0.021145
          ],
          [
           "GO:0031267",
           6,
           0.021206
          ],
          [
           "GO:0016772",
           6,
           0.02683
          ],
          [
           "GO:0006270",
           5,
           0.02948
          ],
          [
           "GO:0000155",
           5,
           0.027016
          ]
         ],
         "hovertemplate": "<b>%{hovertext}</b><br><br>GeneRatio=%{x}<br>Description=%{y}<br>Count=%{customdata[1]}<br>ID=%{customdata[0]}<br>P.adjust=%{marker.color}<extra></extra>",
         "hovertext": [
          "MF",
          "MF",
          "MF",
          "MF",
          "BP",
          "MF",
          "MF",
          "CC",
          "BP",
          "MF",
          "BP",
          "BP",
          "MF",
          "BP",
          "MF",
          "BP",
          "MF",
          "MF",
          "MF",
          "BP",
          "MF",
          "BP",
          "MF",
          "MF",
          "BP",
          "MF"
         ],
         "legendgroup": "",
         "marker": {
          "color": [
           0.000906,
           0.00736,
           0.000014,
           0.005756,
           0.018682,
           0.000026,
           0.000013,
           0.016415,
           0,
           0.022488,
           0.010452,
           0.040677,
           0.001496,
           0.024834,
           0.001208,
           0.022576,
           0.027016,
           0.032134,
           0.040202,
           0.029119,
           0.003083,
           0.021145,
           0.021206,
           0.02683,
           0.02948,
           0.027016
          ],
          "coloraxis": "coloraxis",
          "opacity": 0.85,
          "size": [
           45,
           32,
           31,
           30,
           29,
           26,
           24,
           24,
           20,
           18,
           12,
           12,
           10,
           10,
           9,
           7,
           7,
           7,
           7,
           6,
           6,
           6,
           6,
           6,
           5,
           5
          ],
          "sizemode": "area",
          "sizeref": 0.05,
          "symbol": "circle"
         },
         "mode": "markers",
         "name": "",
         "orientation": "h",
         "showlegend": false,
         "type": "scatter",
         "x": [
          0.07,
          0.05,
          0.048,
          0.046,
          0.065,
          0.04,
          0.037,
          0.131,
          0.045,
          0.028,
          0.027,
          0.027,
          0.015,
          0.022,
          0.014,
          0.016,
          0.011,
          0.011,
          0.011,
          0.013,
          0.009,
          0.013,
          0.009,
          0.009,
          0.011,
          0.008
         ],
         "xaxis": "x",
         "y": [
          "nucleic acid binding",
          "RNA binding",
          "ATPase activity",
          "protein kinase activity",
          "protein phosphorylation",
          "GTP binding",
          "GTPase activity",
          "nucleus",
          "signal transduction",
          "nucleotide binding",
          "DNA replication",
          "intracellular protein transport",
          "guanyl-nucleotide exchange factor activity",
          "ubiquitin-dependent protein catabolic process",
          "ubiquitin-protein transferase activity",
          "protein deubiquitination",
          "ubiquitin protein ligase activity",
          "thiol-dependent ubiquitin-specific protease activity",
          "helicase activity",
          "phosphorelay signal transduction system",
          "structural constituent of nuclear pore",
          "phosphorylation",
          "small GTPase binding",
          "transferase activity, transferring phosphorus-containing groups",
          "DNA replication initiation",
          "phosphorelay sensor kinase activity"
         ],
         "yaxis": "y"
        }
       ],
       "layout": {
        "coloraxis": {
         "colorbar": {
          "dtick": 0.005,
          "tickformat": ".3f",
          "title": {
           "text": "P.adjust"
          }
         },
         "colorscale": [
          [
           0,
           "rgb(0, 128, 128)"
          ],
          [
           0.16666666666666666,
           "rgb(112, 164, 148)"
          ],
          [
           0.3333333333333333,
           "rgb(180, 200, 168)"
          ],
          [
           0.5,
           "rgb(246, 237, 189)"
          ],
          [
           0.6666666666666666,
           "rgb(237, 187, 138)"
          ],
          [
           0.8333333333333334,
           "rgb(222, 138, 90)"
          ],
          [
           1,
           "rgb(202, 86, 44)"
          ]
         ]
        },
        "font": {
         "family": "Arial",
         "size": 14
        },
        "height": 800,
        "legend": {
         "itemsizing": "constant",
         "tracegroupgap": 0
        },
        "margin": {
         "t": 60
        },
        "template": {
         "data": {
          "bar": [
           {
            "error_x": {
             "color": "#2a3f5f"
            },
            "error_y": {
             "color": "#2a3f5f"
            },
            "marker": {
             "line": {
              "color": "white",
              "width": 0.5
             },
             "pattern": {
              "fillmode": "overlay",
              "size": 10,
              "solidity": 0.2
             }
            },
            "type": "bar"
           }
          ],
          "barpolar": [
           {
            "marker": {
             "line": {
              "color": "white",
              "width": 0.5
             },
             "pattern": {
              "fillmode": "overlay",
              "size": 10,
              "solidity": 0.2
             }
            },
            "type": "barpolar"
           }
          ],
          "carpet": [
           {
            "aaxis": {
             "endlinecolor": "#2a3f5f",
             "gridcolor": "#C8D4E3",
             "linecolor": "#C8D4E3",
             "minorgridcolor": "#C8D4E3",
             "startlinecolor": "#2a3f5f"
            },
            "baxis": {
             "endlinecolor": "#2a3f5f",
             "gridcolor": "#C8D4E3",
             "linecolor": "#C8D4E3",
             "minorgridcolor": "#C8D4E3",
             "startlinecolor": "#2a3f5f"
            },
            "type": "carpet"
           }
          ],
          "choropleth": [
           {
            "colorbar": {
             "outlinewidth": 0,
             "ticks": ""
            },
            "type": "choropleth"
           }
          ],
          "contour": [
           {
            "colorbar": {
             "outlinewidth": 0,
             "ticks": ""
            },
            "colorscale": [
             [
              0,
              "#0d0887"
             ],
             [
              0.1111111111111111,
              "#46039f"
             ],
             [
              0.2222222222222222,
              "#7201a8"
             ],
             [
              0.3333333333333333,
              "#9c179e"
             ],
             [
              0.4444444444444444,
              "#bd3786"
             ],
             [
              0.5555555555555556,
              "#d8576b"
             ],
             [
              0.6666666666666666,
              "#ed7953"
             ],
             [
              0.7777777777777778,
              "#fb9f3a"
             ],
             [
              0.8888888888888888,
              "#fdca26"
             ],
             [
              1,
              "#f0f921"
             ]
            ],
            "type": "contour"
           }
          ],
          "contourcarpet": [
           {
            "colorbar": {
             "outlinewidth": 0,
             "ticks": ""
            },
            "type": "contourcarpet"
           }
          ],
          "heatmap": [
           {
            "colorbar": {
             "outlinewidth": 0,
             "ticks": ""
            },
            "colorscale": [
             [
              0,
              "#0d0887"
             ],
             [
              0.1111111111111111,
              "#46039f"
             ],
             [
              0.2222222222222222,
              "#7201a8"
             ],
             [
              0.3333333333333333,
              "#9c179e"
             ],
             [
              0.4444444444444444,
              "#bd3786"
             ],
             [
              0.5555555555555556,
              "#d8576b"
             ],
             [
              0.6666666666666666,
              "#ed7953"
             ],
             [
              0.7777777777777778,
              "#fb9f3a"
             ],
             [
              0.8888888888888888,
              "#fdca26"
             ],
             [
              1,
              "#f0f921"
             ]
            ],
            "type": "heatmap"
           }
          ],
          "heatmapgl": [
           {
            "colorbar": {
             "outlinewidth": 0,
             "ticks": ""
            },
            "colorscale": [
             [
              0,
              "#0d0887"
             ],
             [
              0.1111111111111111,
              "#46039f"
             ],
             [
              0.2222222222222222,
              "#7201a8"
             ],
             [
              0.3333333333333333,
              "#9c179e"
             ],
             [
              0.4444444444444444,
              "#bd3786"
             ],
             [
              0.5555555555555556,
              "#d8576b"
             ],
             [
              0.6666666666666666,
              "#ed7953"
             ],
             [
              0.7777777777777778,
              "#fb9f3a"
             ],
             [
              0.8888888888888888,
              "#fdca26"
             ],
             [
              1,
              "#f0f921"
             ]
            ],
            "type": "heatmapgl"
           }
          ],
          "histogram": [
           {
            "marker": {
             "pattern": {
              "fillmode": "overlay",
              "size": 10,
              "solidity": 0.2
             }
            },
            "type": "histogram"
           }
          ],
          "histogram2d": [
           {
            "colorbar": {
             "outlinewidth": 0,
             "ticks": ""
            },
            "colorscale": [
             [
              0,
              "#0d0887"
             ],
             [
              0.1111111111111111,
              "#46039f"
             ],
             [
              0.2222222222222222,
              "#7201a8"
             ],
             [
              0.3333333333333333,
              "#9c179e"
             ],
             [
              0.4444444444444444,
              "#bd3786"
             ],
             [
              0.5555555555555556,
              "#d8576b"
             ],
             [
              0.6666666666666666,
              "#ed7953"
             ],
             [
              0.7777777777777778,
              "#fb9f3a"
             ],
             [
              0.8888888888888888,
              "#fdca26"
             ],
             [
              1,
              "#f0f921"
             ]
            ],
            "type": "histogram2d"
           }
          ],
          "histogram2dcontour": [
           {
            "colorbar": {
             "outlinewidth": 0,
             "ticks": ""
            },
            "colorscale": [
             [
              0,
              "#0d0887"
             ],
             [
              0.1111111111111111,
              "#46039f"
             ],
             [
              0.2222222222222222,
              "#7201a8"
             ],
             [
              0.3333333333333333,
              "#9c179e"
             ],
             [
              0.4444444444444444,
              "#bd3786"
             ],
             [
              0.5555555555555556,
              "#d8576b"
             ],
             [
              0.6666666666666666,
              "#ed7953"
             ],
             [
              0.7777777777777778,
              "#fb9f3a"
             ],
             [
              0.8888888888888888,
              "#fdca26"
             ],
             [
              1,
              "#f0f921"
             ]
            ],
            "type": "histogram2dcontour"
           }
          ],
          "mesh3d": [
           {
            "colorbar": {
             "outlinewidth": 0,
             "ticks": ""
            },
            "type": "mesh3d"
           }
          ],
          "parcoords": [
           {
            "line": {
             "colorbar": {
              "outlinewidth": 0,
              "ticks": ""
             }
            },
            "type": "parcoords"
           }
          ],
          "pie": [
           {
            "automargin": true,
            "type": "pie"
           }
          ],
          "scatter": [
           {
            "fillpattern": {
             "fillmode": "overlay",
             "size": 10,
             "solidity": 0.2
            },
            "type": "scatter"
           }
          ],
          "scatter3d": [
           {
            "line": {
             "colorbar": {
              "outlinewidth": 0,
              "ticks": ""
             }
            },
            "marker": {
             "colorbar": {
              "outlinewidth": 0,
              "ticks": ""
             }
            },
            "type": "scatter3d"
           }
          ],
          "scattercarpet": [
           {
            "marker": {
             "colorbar": {
              "outlinewidth": 0,
              "ticks": ""
             }
            },
            "type": "scattercarpet"
           }
          ],
          "scattergeo": [
           {
            "marker": {
             "colorbar": {
              "outlinewidth": 0,
              "ticks": ""
             }
            },
            "type": "scattergeo"
           }
          ],
          "scattergl": [
           {
            "marker": {
             "colorbar": {
              "outlinewidth": 0,
              "ticks": ""
             }
            },
            "type": "scattergl"
           }
          ],
          "scattermapbox": [
           {
            "marker": {
             "colorbar": {
              "outlinewidth": 0,
              "ticks": ""
             }
            },
            "type": "scattermapbox"
           }
          ],
          "scatterpolar": [
           {
            "marker": {
             "colorbar": {
              "outlinewidth": 0,
              "ticks": ""
             }
            },
            "type": "scatterpolar"
           }
          ],
          "scatterpolargl": [
           {
            "marker": {
             "colorbar": {
              "outlinewidth": 0,
              "ticks": ""
             }
            },
            "type": "scatterpolargl"
           }
          ],
          "scatterternary": [
           {
            "marker": {
             "colorbar": {
              "outlinewidth": 0,
              "ticks": ""
             }
            },
            "type": "scatterternary"
           }
          ],
          "surface": [
           {
            "colorbar": {
             "outlinewidth": 0,
             "ticks": ""
            },
            "colorscale": [
             [
              0,
              "#0d0887"
             ],
             [
              0.1111111111111111,
              "#46039f"
             ],
             [
              0.2222222222222222,
              "#7201a8"
             ],
             [
              0.3333333333333333,
              "#9c179e"
             ],
             [
              0.4444444444444444,
              "#bd3786"
             ],
             [
              0.5555555555555556,
              "#d8576b"
             ],
             [
              0.6666666666666666,
              "#ed7953"
             ],
             [
              0.7777777777777778,
              "#fb9f3a"
             ],
             [
              0.8888888888888888,
              "#fdca26"
             ],
             [
              1,
              "#f0f921"
             ]
            ],
            "type": "surface"
           }
          ],
          "table": [
           {
            "cells": {
             "fill": {
              "color": "#EBF0F8"
             },
             "line": {
              "color": "white"
             }
            },
            "header": {
             "fill": {
              "color": "#C8D4E3"
             },
             "line": {
              "color": "white"
             }
            },
            "type": "table"
           }
          ]
         },
         "layout": {
          "annotationdefaults": {
           "arrowcolor": "#2a3f5f",
           "arrowhead": 0,
           "arrowwidth": 1
          },
          "autotypenumbers": "strict",
          "coloraxis": {
           "colorbar": {
            "outlinewidth": 0,
            "ticks": ""
           }
          },
          "colorscale": {
           "diverging": [
            [
             0,
             "#8e0152"
            ],
            [
             0.1,
             "#c51b7d"
            ],
            [
             0.2,
             "#de77ae"
            ],
            [
             0.3,
             "#f1b6da"
            ],
            [
             0.4,
             "#fde0ef"
            ],
            [
             0.5,
             "#f7f7f7"
            ],
            [
             0.6,
             "#e6f5d0"
            ],
            [
             0.7,
             "#b8e186"
            ],
            [
             0.8,
             "#7fbc41"
            ],
            [
             0.9,
             "#4d9221"
            ],
            [
             1,
             "#276419"
            ]
           ],
           "sequential": [
            [
             0,
             "#0d0887"
            ],
            [
             0.1111111111111111,
             "#46039f"
            ],
            [
             0.2222222222222222,
             "#7201a8"
            ],
            [
             0.3333333333333333,
             "#9c179e"
            ],
            [
             0.4444444444444444,
             "#bd3786"
            ],
            [
             0.5555555555555556,
             "#d8576b"
            ],
            [
             0.6666666666666666,
             "#ed7953"
            ],
            [
             0.7777777777777778,
             "#fb9f3a"
            ],
            [
             0.8888888888888888,
             "#fdca26"
            ],
            [
             1,
             "#f0f921"
            ]
           ],
           "sequentialminus": [
            [
             0,
             "#0d0887"
            ],
            [
             0.1111111111111111,
             "#46039f"
            ],
            [
             0.2222222222222222,
             "#7201a8"
            ],
            [
             0.3333333333333333,
             "#9c179e"
            ],
            [
             0.4444444444444444,
             "#bd3786"
            ],
            [
             0.5555555555555556,
             "#d8576b"
            ],
            [
             0.6666666666666666,
             "#ed7953"
            ],
            [
             0.7777777777777778,
             "#fb9f3a"
            ],
            [
             0.8888888888888888,
             "#fdca26"
            ],
            [
             1,
             "#f0f921"
            ]
           ]
          },
          "colorway": [
           "#636efa",
           "#EF553B",
           "#00cc96",
           "#ab63fa",
           "#FFA15A",
           "#19d3f3",
           "#FF6692",
           "#B6E880",
           "#FF97FF",
           "#FECB52"
          ],
          "font": {
           "color": "#2a3f5f"
          },
          "geo": {
           "bgcolor": "white",
           "lakecolor": "white",
           "landcolor": "white",
           "showlakes": true,
           "showland": true,
           "subunitcolor": "#C8D4E3"
          },
          "hoverlabel": {
           "align": "left"
          },
          "hovermode": "closest",
          "mapbox": {
           "style": "light"
          },
          "paper_bgcolor": "white",
          "plot_bgcolor": "white",
          "polar": {
           "angularaxis": {
            "gridcolor": "#EBF0F8",
            "linecolor": "#EBF0F8",
            "ticks": ""
           },
           "bgcolor": "white",
           "radialaxis": {
            "gridcolor": "#EBF0F8",
            "linecolor": "#EBF0F8",
            "ticks": ""
           }
          },
          "scene": {
           "xaxis": {
            "backgroundcolor": "white",
            "gridcolor": "#DFE8F3",
            "gridwidth": 2,
            "linecolor": "#EBF0F8",
            "showbackground": true,
            "ticks": "",
            "zerolinecolor": "#EBF0F8"
           },
           "yaxis": {
            "backgroundcolor": "white",
            "gridcolor": "#DFE8F3",
            "gridwidth": 2,
            "linecolor": "#EBF0F8",
            "showbackground": true,
            "ticks": "",
            "zerolinecolor": "#EBF0F8"
           },
           "zaxis": {
            "backgroundcolor": "white",
            "gridcolor": "#DFE8F3",
            "gridwidth": 2,
            "linecolor": "#EBF0F8",
            "showbackground": true,
            "ticks": "",
            "zerolinecolor": "#EBF0F8"
           }
          },
          "shapedefaults": {
           "line": {
            "color": "#2a3f5f"
           }
          },
          "ternary": {
           "aaxis": {
            "gridcolor": "#DFE8F3",
            "linecolor": "#A2B1C6",
            "ticks": ""
           },
           "baxis": {
            "gridcolor": "#DFE8F3",
            "linecolor": "#A2B1C6",
            "ticks": ""
           },
           "bgcolor": "white",
           "caxis": {
            "gridcolor": "#DFE8F3",
            "linecolor": "#A2B1C6",
            "ticks": ""
           }
          },
          "title": {
           "x": 0.05
          },
          "xaxis": {
           "automargin": true,
           "gridcolor": "#EBF0F8",
           "linecolor": "#EBF0F8",
           "ticks": "",
           "title": {
            "standoff": 15
           },
           "zerolinecolor": "#EBF0F8",
           "zerolinewidth": 2
          },
          "yaxis": {
           "automargin": true,
           "gridcolor": "#EBF0F8",
           "linecolor": "#EBF0F8",
           "ticks": "",
           "title": {
            "standoff": 15
           },
           "zerolinecolor": "#EBF0F8",
           "zerolinewidth": 2
          }
         }
        },
        "title": {
         "text": "GO Enrichment Analysis"
        },
        "width": 1000,
        "xaxis": {
         "anchor": "y",
         "domain": [
          0,
          1
         ],
         "title": {
          "text": "GeneRatio"
         }
        },
        "yaxis": {
         "anchor": "x",
         "autorange": "reversed",
         "domain": [
          0,
          1
         ],
         "title": {
          "text": "Description"
         }
        }
       }
      }
     },
     "metadata": {},
     "output_type": "display_data"
    }
   ],
   "source": [
    "import plotly.express as px\n",
    "\n",
    "def GO_Chart(df_go, pic_type='bubble', color='Geyser', go_type='all', p_value=0.5, chart_num=30, chart_size=30, width=1000, height=800):\n",
    "    \"\"\"根据输入的GO富集分析结果，根据用户选择绘制气泡图或柱状图。\n",
    "    \"\"\"\n",
    "\n",
    "    # 数据处理\n",
    "    df_go = df_go.copy()\n",
    "    df_go = df_go[[\"category\", \"ID\", \"Description\", \"Count\", 'GeneRatio', \"p.adjust\"]]\n",
    "    df_go.columns = [\"Class\", \"ID\", \"Description\", \"Count\", \"GeneRatio\", \"P.adjust\"]\n",
    "\n",
    "    # 数据列处理\n",
    "    df_go[\"GeneRatio\"] = df_go[\"GeneRatio\"].apply(lambda x: round(eval(x), 3))\n",
    "    df_go['P.adjust'] = df_go['P.adjust'].apply(lambda x: round(x, 6))\n",
    "    df_go = df_go.sort_values(by='Count', ascending=False)\n",
    "    df_go = df_go[df_go[\"P.adjust\"] < p_value]\n",
    "    df_go = df_go.iloc[:chart_num]\n",
    "\n",
    "    # 过滤GO类型\n",
    "    if go_type in [\"BP\", \"CC\", \"MF\"]:\n",
    "        df_go = df_go[df_go[\"Class\"].str.contains(go_type)]\n",
    "\n",
    "    # 图表公共布局设置\n",
    "    layout_args = {\n",
    "        'title': \"GO Enrichment Analysis\",\n",
    "        'yaxis_title': \"Description\",\n",
    "        'yaxis': dict(autorange=\"reversed\"),\n",
    "        'font': dict(family=\"Arial\", size=14),\n",
    "        'template': \"plotly_white\",\n",
    "        'width': width,\n",
    "        'height': height\n",
    "    }\n",
    "\n",
    "    # 颜色轴设置\n",
    "    color_axis_args = {\n",
    "        'colorbar_title': \"P.adjust\",\n",
    "        'colorbar_tickformat': \".3f\",\n",
    "        'colorbar': dict(dtick=0.005)\n",
    "    }\n",
    "\n",
    "    # 根据pic_type绘制不同类型的图表\n",
    "    if pic_type == \"bubble\":\n",
    "        fig = px.scatter(\n",
    "            df_go,\n",
    "            x=\"GeneRatio\",\n",
    "            y=\"Description\",\n",
    "            size=\"Count\",\n",
    "            color=\"P.adjust\",\n",
    "            color_continuous_scale=color,\n",
    "            opacity=0.85,\n",
    "            hover_name=\"Class\",\n",
    "            hover_data=[\"ID\", \"Description\", \"Count\", \"GeneRatio\", \"P.adjust\"],\n",
    "            size_max=chart_size,\n",
    "        )\n",
    "        fig.update_layout(**layout_args)\n",
    "        fig.update_layout(xaxis_title=\"GeneRatio\")\n",
    "        \n",
    "    elif pic_type == \"bar\":\n",
    "        fig = px.bar(\n",
    "            df_go,\n",
    "            x='Count',\n",
    "            y='Description',\n",
    "            color='P.adjust',\n",
    "            color_continuous_scale=color,\n",
    "            opacity=0.85,\n",
    "            hover_data=[\"Class\", \"ID\", \"GeneRatio\", \"P.adjust\"],\n",
    "        )\n",
    "        fig.update_layout(**layout_args)\n",
    "        fig.update_layout(xaxis_title=\"Count\")\n",
    "        \n",
    "    else:\n",
    "        raise ValueError(\"Invalid pic_type. Expected 'bubble' or 'bar', got {}\".format(pic_type))\n",
    "\n",
    "    # 应用颜色轴设置\n",
    "    fig.update_coloraxes(**color_axis_args)\n",
    "    \n",
    "    return fig\n",
    "\n",
    "# 调用函数示例\n",
    "GO_Chart(df_go, pic_type='bubble')\n"
   ]
  },
  {
   "cell_type": "markdown",
   "metadata": {},
   "source": [
    "### TBtools出来的测试数据"
   ]
  },
  {
   "cell_type": "code",
   "execution_count": 2,
   "metadata": {},
   "outputs": [],
   "source": [
    "def BubbleChart(df, color, bubble_num, bubble_size, go_type='all', width=1000, height=800):\n",
    "\n",
    "    # 拷贝并重命名列名\n",
    "    df = df.copy()\n",
    "    df.columns = [\"Class\", \"GO_ID\", \"GO_Function\", \"Counts\", \"Enrichment Score\", \"P.adjust\"]\n",
    "\n",
    "    df = df.sort_values(by='Counts', ascending=False)\n",
    "\n",
    "    # 选取p值小于0.05的数据\n",
    "    df = df[df[\"P.adjust\"] < 0.05]\n",
    "    \n",
    "    # df只保留前num行数据\n",
    "    df = df.iloc[:bubble_num]\n",
    "\n",
    "    if go_type == \"BP\":\n",
    "        df = df[df[\"Class\"].str.contains(\"Biological process\")]\n",
    "    elif go_type == \"CC\":\n",
    "        df = df[df[\"Class\"].str.contains(\"Cellular component\")]\n",
    "    elif go_type == \"MF\":\n",
    "        df = df[df[\"Class\"].str.contains(\"Molecular function\")]\n",
    "    else:\n",
    "        pass\n",
    "\n",
    "    # 创建图表\n",
    "    fig = px.scatter(\n",
    "        df,\n",
    "        x=\"Enrichment Score\",\n",
    "        y=\"GO_Function\",\n",
    "        size=\"Counts\",\n",
    "        color=\"P.adjust\",\n",
    "        color_continuous_scale=color,  # _r表示颜色反转\n",
    "        # color_continuous_scale='Geyser_r',\n",
    "        opacity=0.85,\n",
    "        hover_name=\"Class\",\n",
    "        hover_data=[\"GO_ID\", \"GO_Function\", \"Counts\", \"Enrichment Score\", \"P.adjust\"],\n",
    "        size_max=bubble_size,\n",
    "    )\n",
    "\n",
    "    # 设置图表属性\n",
    "    fig.update_layout(\n",
    "        title=\"GO Enrichment Analysis\",\n",
    "        xaxis_title = \"Enrichment Score\",\n",
    "        yaxis_title = \"GO_Function\",\n",
    "        yaxis = dict(autorange=\"reversed\"),  # y轴反转\n",
    "        font=dict(family=\"Arial\", size=14),\n",
    "        template=\"plotly_white\",\n",
    "        # template=\"simple_white\",\n",
    "        width=width,  # 图表宽度\n",
    "        height=height,  # 图表高度\n",
    "    )\n",
    "\n",
    "    # 设置颜色轴的属性\n",
    "    colorbar_title = \"P.adjust\"\n",
    "    colorbar_tickformat = \".3f\"\n",
    "    colorbar_dtick = 0.005\n",
    "    fig.update_coloraxes(\n",
    "        colorbar_title=colorbar_title,\n",
    "        colorbar_tickformat=colorbar_tickformat,\n",
    "        colorbar=dict(dtick=colorbar_dtick),\n",
    "    )\n",
    "    \n",
    "    # 显示图表并返回\n",
    "    return fig"
   ]
  },
  {
   "cell_type": "code",
   "execution_count": 6,
   "metadata": {},
   "outputs": [
    {
     "data": {
      "text/html": [
       "<div>\n",
       "<style scoped>\n",
       "    .dataframe tbody tr th:only-of-type {\n",
       "        vertical-align: middle;\n",
       "    }\n",
       "\n",
       "    .dataframe tbody tr th {\n",
       "        vertical-align: top;\n",
       "    }\n",
       "\n",
       "    .dataframe thead th {\n",
       "        text-align: right;\n",
       "    }\n",
       "</style>\n",
       "<table border=\"1\" class=\"dataframe\">\n",
       "  <thead>\n",
       "    <tr style=\"text-align: right;\">\n",
       "      <th></th>\n",
       "      <th>Class</th>\n",
       "      <th>GO_ID</th>\n",
       "      <th>GO_Name</th>\n",
       "      <th>HitsGenesCountsInSelectedSet</th>\n",
       "      <th>EnrichmentScore</th>\n",
       "      <th>corrected p-value(BH method)</th>\n",
       "    </tr>\n",
       "  </thead>\n",
       "  <tbody>\n",
       "    <tr>\n",
       "      <th>0</th>\n",
       "      <td>Molecular function</td>\n",
       "      <td>GO:0003723</td>\n",
       "      <td>RNA binding</td>\n",
       "      <td>37</td>\n",
       "      <td>3.996168</td>\n",
       "      <td>2.650000e-12</td>\n",
       "    </tr>\n",
       "    <tr>\n",
       "      <th>1</th>\n",
       "      <td>Molecular function</td>\n",
       "      <td>GO:0003735</td>\n",
       "      <td>structural constituent of ribosome</td>\n",
       "      <td>28</td>\n",
       "      <td>4.893587</td>\n",
       "      <td>6.750000e-12</td>\n",
       "    </tr>\n",
       "    <tr>\n",
       "      <th>2</th>\n",
       "      <td>Molecular function</td>\n",
       "      <td>GO:0005198</td>\n",
       "      <td>structural molecule activity</td>\n",
       "      <td>28</td>\n",
       "      <td>4.412251</td>\n",
       "      <td>1.290000e-10</td>\n",
       "    </tr>\n",
       "    <tr>\n",
       "      <th>3</th>\n",
       "      <td>Molecular function</td>\n",
       "      <td>GO:0005488</td>\n",
       "      <td>binding</td>\n",
       "      <td>183</td>\n",
       "      <td>1.348980</td>\n",
       "      <td>2.770000e-08</td>\n",
       "    </tr>\n",
       "    <tr>\n",
       "      <th>4</th>\n",
       "      <td>Molecular function</td>\n",
       "      <td>GO:0016875</td>\n",
       "      <td>ligase activity, forming carbon-oxygen bonds</td>\n",
       "      <td>14</td>\n",
       "      <td>6.408269</td>\n",
       "      <td>9.090000e-08</td>\n",
       "    </tr>\n",
       "    <tr>\n",
       "      <th>...</th>\n",
       "      <td>...</td>\n",
       "      <td>...</td>\n",
       "      <td>...</td>\n",
       "      <td>...</td>\n",
       "      <td>...</td>\n",
       "      <td>...</td>\n",
       "    </tr>\n",
       "    <tr>\n",
       "      <th>295</th>\n",
       "      <td>Biological process</td>\n",
       "      <td>GO:0006066</td>\n",
       "      <td>alcohol metabolic process</td>\n",
       "      <td>8</td>\n",
       "      <td>1.982942</td>\n",
       "      <td>1.827045e-01</td>\n",
       "    </tr>\n",
       "    <tr>\n",
       "      <th>296</th>\n",
       "      <td>Biological process</td>\n",
       "      <td>GO:0051253</td>\n",
       "      <td>negative regulation of RNA metabolic process</td>\n",
       "      <td>18</td>\n",
       "      <td>1.523480</td>\n",
       "      <td>1.837833e-01</td>\n",
       "    </tr>\n",
       "    <tr>\n",
       "      <th>297</th>\n",
       "      <td>Biological process</td>\n",
       "      <td>GO:0019222</td>\n",
       "      <td>regulation of metabolic process</td>\n",
       "      <td>45</td>\n",
       "      <td>1.273017</td>\n",
       "      <td>1.866047e-01</td>\n",
       "    </tr>\n",
       "    <tr>\n",
       "      <th>298</th>\n",
       "      <td>Biological process</td>\n",
       "      <td>GO:0080090</td>\n",
       "      <td>regulation of primary metabolic process</td>\n",
       "      <td>42</td>\n",
       "      <td>1.285996</td>\n",
       "      <td>1.871500e-01</td>\n",
       "    </tr>\n",
       "    <tr>\n",
       "      <th>299</th>\n",
       "      <td>Biological process</td>\n",
       "      <td>GO:0051171</td>\n",
       "      <td>regulation of nitrogen compound metabolic process</td>\n",
       "      <td>41</td>\n",
       "      <td>1.281767</td>\n",
       "      <td>1.900244e-01</td>\n",
       "    </tr>\n",
       "  </tbody>\n",
       "</table>\n",
       "<p>300 rows × 6 columns</p>\n",
       "</div>"
      ],
      "text/plain": [
       "                  Class       GO_ID  \\\n",
       "0    Molecular function  GO:0003723   \n",
       "1    Molecular function  GO:0003735   \n",
       "2    Molecular function  GO:0005198   \n",
       "3    Molecular function  GO:0005488   \n",
       "4    Molecular function  GO:0016875   \n",
       "..                  ...         ...   \n",
       "295  Biological process  GO:0006066   \n",
       "296  Biological process  GO:0051253   \n",
       "297  Biological process  GO:0019222   \n",
       "298  Biological process  GO:0080090   \n",
       "299  Biological process  GO:0051171   \n",
       "\n",
       "                                               GO_Name  \\\n",
       "0                                          RNA binding   \n",
       "1                   structural constituent of ribosome   \n",
       "2                         structural molecule activity   \n",
       "3                                              binding   \n",
       "4         ligase activity, forming carbon-oxygen bonds   \n",
       "..                                                 ...   \n",
       "295                          alcohol metabolic process   \n",
       "296       negative regulation of RNA metabolic process   \n",
       "297                    regulation of metabolic process   \n",
       "298            regulation of primary metabolic process   \n",
       "299  regulation of nitrogen compound metabolic process   \n",
       "\n",
       "     HitsGenesCountsInSelectedSet  EnrichmentScore  \\\n",
       "0                              37         3.996168   \n",
       "1                              28         4.893587   \n",
       "2                              28         4.412251   \n",
       "3                             183         1.348980   \n",
       "4                              14         6.408269   \n",
       "..                            ...              ...   \n",
       "295                             8         1.982942   \n",
       "296                            18         1.523480   \n",
       "297                            45         1.273017   \n",
       "298                            42         1.285996   \n",
       "299                            41         1.281767   \n",
       "\n",
       "     corrected p-value(BH method)  \n",
       "0                    2.650000e-12  \n",
       "1                    6.750000e-12  \n",
       "2                    1.290000e-10  \n",
       "3                    2.770000e-08  \n",
       "4                    9.090000e-08  \n",
       "..                            ...  \n",
       "295                  1.827045e-01  \n",
       "296                  1.837833e-01  \n",
       "297                  1.866047e-01  \n",
       "298                  1.871500e-01  \n",
       "299                  1.900244e-01  \n",
       "\n",
       "[300 rows x 6 columns]"
      ]
     },
     "execution_count": 6,
     "metadata": {},
     "output_type": "execute_result"
    }
   ],
   "source": [
    "# df_GoEnrich = pd.read_csv(\"GO_Enrichment_demo.csv\")\n",
    "# df_BubbleChart = df_GoEnrich[['Class', 'GO_ID', 'GO_Name',\n",
    "#                               'HitsGenesCountsInSelectedSet', 'EnrichmentScore', 'corrected p-value(BH method)']]\n",
    "# df_BubbleChart\n",
    "\n",
    "# BubbleChart(df_BubbleChart, 'Rdbu_r', 50, 30, width=1000, height=600)"
   ]
  }
 ],
 "metadata": {
  "kernelspec": {
   "display_name": "py37_plot",
   "language": "python",
   "name": "python3"
  },
  "language_info": {
   "codemirror_mode": {
    "name": "ipython",
    "version": 3
   },
   "file_extension": ".py",
   "mimetype": "text/x-python",
   "name": "python",
   "nbconvert_exporter": "python",
   "pygments_lexer": "ipython3",
   "version": "3.10.0"
  },
  "orig_nbformat": 4
 },
 "nbformat": 4,
 "nbformat_minor": 2
}
