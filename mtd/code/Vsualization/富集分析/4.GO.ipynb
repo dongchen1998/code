{
 "cells": [
  {
   "cell_type": "code",
   "execution_count": 13,
   "metadata": {},
   "outputs": [],
   "source": [
    "import pandas as pd\n",
    "import plotly.express as px\n",
    "import plotly.graph_objects as go"
   ]
  },
  {
   "cell_type": "markdown",
   "metadata": {},
   "source": [
    "BubbleChart 富集"
   ]
  },
  {
   "cell_type": "code",
   "execution_count": 16,
   "metadata": {},
   "outputs": [],
   "source": [
    "def BubbleChart_2(df, color, bubble_num, bubble_size, go_type='all', width=1000, height=800):\n",
    "\n",
    "    # 拷贝并重命名列名\n",
    "    df.columns = [\"Class\", \"ID\", \"Description\", \"Counts\", \"GeneRatio\", \"P.adjust\"]\n",
    "\n",
    "    df = df.sort_values(by='Counts', ascending=False)\n",
    "    # 选取p值小于0.05的数据\n",
    "    df = df[df[\"P.adjust\"] < 0.05]\n",
    "    # df只保留前num行数据\n",
    "    df = df.iloc[:bubble_num]\n",
    "\n",
    "    if go_type == \"BP\":\n",
    "        df = df[df[\"Class\"].str.contains(\"BP\")]\n",
    "    elif go_type == \"CC\":\n",
    "        df = df[df[\"Class\"].str.contains(\"CC\")]\n",
    "    elif go_type == \"MF\":\n",
    "        df = df[df[\"Class\"].str.contains(\"MF\")]\n",
    "    else:\n",
    "        pass\n",
    "\n",
    "    # 创建图表\n",
    "    fig = px.scatter(\n",
    "        df,\n",
    "        x=\"GeneRatio\",\n",
    "        y=\"Description\",\n",
    "        size=\"Counts\",\n",
    "        color=\"P.adjust\",\n",
    "        color_continuous_scale=color,  # _r表示颜色反转\n",
    "        # color_continuous_scale='Geyser_r',\n",
    "        opacity=0.85,\n",
    "        hover_name=\"Class\",\n",
    "        hover_data=[\"ID\", \"Description\", \"Counts\", \"GeneRatio\", \"P.adjust\"],\n",
    "        size_max=bubble_size,\n",
    "    )\n",
    "\n",
    "    # 设置图表属性\n",
    "    fig.update_layout(\n",
    "        title=\"GO Enrichment Analysis\",\n",
    "        xaxis_title = \"GeneRatio\",\n",
    "        yaxis_title = \"Description\",\n",
    "        yaxis = dict(autorange=\"reversed\"),  # y轴反转\n",
    "        font=dict(family=\"Arial\", size=14),\n",
    "        template=\"plotly_white\",\n",
    "        # template=\"simple_white\",\n",
    "        width=width,  # 图表宽度\n",
    "        height=height,  # 图表高度\n",
    "    )\n",
    "\n",
    "    # 设置颜色轴的属性\n",
    "    colorbar_title = \"P.adjust\"\n",
    "    colorbar_tickformat = \".3f\"\n",
    "    colorbar_dtick = 0.005\n",
    "    fig.update_coloraxes(\n",
    "        colorbar_title=colorbar_title,\n",
    "        colorbar_tickformat=colorbar_tickformat,\n",
    "        colorbar=dict(dtick=colorbar_dtick),\n",
    "    )\n",
    "    \n",
    "    # 显示图表并返回\n",
    "    return fig"
   ]
  },
  {
   "cell_type": "code",
   "execution_count": 17,
   "metadata": {},
   "outputs": [
    {
     "data": {
      "text/html": [
       "<div>\n",
       "<style scoped>\n",
       "    .dataframe tbody tr th:only-of-type {\n",
       "        vertical-align: middle;\n",
       "    }\n",
       "\n",
       "    .dataframe tbody tr th {\n",
       "        vertical-align: top;\n",
       "    }\n",
       "\n",
       "    .dataframe thead th {\n",
       "        text-align: right;\n",
       "    }\n",
       "</style>\n",
       "<table border=\"1\" class=\"dataframe\">\n",
       "  <thead>\n",
       "    <tr style=\"text-align: right;\">\n",
       "      <th></th>\n",
       "      <th>category</th>\n",
       "      <th>ID</th>\n",
       "      <th>Description</th>\n",
       "      <th>Count</th>\n",
       "      <th>GeneRatio</th>\n",
       "      <th>p.adjust</th>\n",
       "    </tr>\n",
       "  </thead>\n",
       "  <tbody>\n",
       "    <tr>\n",
       "      <th>0</th>\n",
       "      <td>MF</td>\n",
       "      <td>GO:0003924</td>\n",
       "      <td>GTPase activity</td>\n",
       "      <td>24</td>\n",
       "      <td>0.037</td>\n",
       "      <td>1.292722e-05</td>\n",
       "    </tr>\n",
       "    <tr>\n",
       "      <th>1</th>\n",
       "      <td>MF</td>\n",
       "      <td>GO:0016887</td>\n",
       "      <td>ATPase activity</td>\n",
       "      <td>31</td>\n",
       "      <td>0.048</td>\n",
       "      <td>1.392562e-05</td>\n",
       "    </tr>\n",
       "    <tr>\n",
       "      <th>2</th>\n",
       "      <td>MF</td>\n",
       "      <td>GO:0005525</td>\n",
       "      <td>GTP binding</td>\n",
       "      <td>26</td>\n",
       "      <td>0.040</td>\n",
       "      <td>2.634029e-05</td>\n",
       "    </tr>\n",
       "    <tr>\n",
       "      <th>3</th>\n",
       "      <td>MF</td>\n",
       "      <td>GO:0003676</td>\n",
       "      <td>nucleic acid binding</td>\n",
       "      <td>45</td>\n",
       "      <td>0.070</td>\n",
       "      <td>9.061235e-04</td>\n",
       "    </tr>\n",
       "    <tr>\n",
       "      <th>4</th>\n",
       "      <td>MF</td>\n",
       "      <td>GO:0004842</td>\n",
       "      <td>ubiquitin-protein transferase activity</td>\n",
       "      <td>9</td>\n",
       "      <td>0.014</td>\n",
       "      <td>1.208201e-03</td>\n",
       "    </tr>\n",
       "    <tr>\n",
       "      <th>5</th>\n",
       "      <td>MF</td>\n",
       "      <td>GO:0005085</td>\n",
       "      <td>guanyl-nucleotide exchange factor activity</td>\n",
       "      <td>10</td>\n",
       "      <td>0.015</td>\n",
       "      <td>1.495814e-03</td>\n",
       "    </tr>\n",
       "    <tr>\n",
       "      <th>6</th>\n",
       "      <td>MF</td>\n",
       "      <td>GO:0017056</td>\n",
       "      <td>structural constituent of nuclear pore</td>\n",
       "      <td>6</td>\n",
       "      <td>0.009</td>\n",
       "      <td>3.082665e-03</td>\n",
       "    </tr>\n",
       "    <tr>\n",
       "      <th>7</th>\n",
       "      <td>MF</td>\n",
       "      <td>GO:0004672</td>\n",
       "      <td>protein kinase activity</td>\n",
       "      <td>30</td>\n",
       "      <td>0.046</td>\n",
       "      <td>5.755555e-03</td>\n",
       "    </tr>\n",
       "    <tr>\n",
       "      <th>8</th>\n",
       "      <td>MF</td>\n",
       "      <td>GO:0003723</td>\n",
       "      <td>RNA binding</td>\n",
       "      <td>32</td>\n",
       "      <td>0.050</td>\n",
       "      <td>7.359525e-03</td>\n",
       "    </tr>\n",
       "    <tr>\n",
       "      <th>9</th>\n",
       "      <td>MF</td>\n",
       "      <td>GO:0031267</td>\n",
       "      <td>small GTPase binding</td>\n",
       "      <td>6</td>\n",
       "      <td>0.009</td>\n",
       "      <td>2.120568e-02</td>\n",
       "    </tr>\n",
       "    <tr>\n",
       "      <th>10</th>\n",
       "      <td>MF</td>\n",
       "      <td>GO:0000166</td>\n",
       "      <td>nucleotide binding</td>\n",
       "      <td>18</td>\n",
       "      <td>0.028</td>\n",
       "      <td>2.248806e-02</td>\n",
       "    </tr>\n",
       "    <tr>\n",
       "      <th>11</th>\n",
       "      <td>MF</td>\n",
       "      <td>GO:0016772</td>\n",
       "      <td>transferase activity, transferring phosphorus-...</td>\n",
       "      <td>6</td>\n",
       "      <td>0.009</td>\n",
       "      <td>2.683042e-02</td>\n",
       "    </tr>\n",
       "    <tr>\n",
       "      <th>12</th>\n",
       "      <td>MF</td>\n",
       "      <td>GO:0061630</td>\n",
       "      <td>ubiquitin protein ligase activity</td>\n",
       "      <td>7</td>\n",
       "      <td>0.011</td>\n",
       "      <td>2.701595e-02</td>\n",
       "    </tr>\n",
       "    <tr>\n",
       "      <th>13</th>\n",
       "      <td>MF</td>\n",
       "      <td>GO:0000155</td>\n",
       "      <td>phosphorelay sensor kinase activity</td>\n",
       "      <td>5</td>\n",
       "      <td>0.008</td>\n",
       "      <td>2.701595e-02</td>\n",
       "    </tr>\n",
       "    <tr>\n",
       "      <th>14</th>\n",
       "      <td>MF</td>\n",
       "      <td>GO:0004843</td>\n",
       "      <td>thiol-dependent ubiquitin-specific protease ac...</td>\n",
       "      <td>7</td>\n",
       "      <td>0.011</td>\n",
       "      <td>3.213395e-02</td>\n",
       "    </tr>\n",
       "    <tr>\n",
       "      <th>15</th>\n",
       "      <td>MF</td>\n",
       "      <td>GO:0004386</td>\n",
       "      <td>helicase activity</td>\n",
       "      <td>7</td>\n",
       "      <td>0.011</td>\n",
       "      <td>4.020224e-02</td>\n",
       "    </tr>\n",
       "    <tr>\n",
       "      <th>16</th>\n",
       "      <td>BP</td>\n",
       "      <td>GO:0007165</td>\n",
       "      <td>signal transduction</td>\n",
       "      <td>20</td>\n",
       "      <td>0.045</td>\n",
       "      <td>1.177011e-07</td>\n",
       "    </tr>\n",
       "    <tr>\n",
       "      <th>17</th>\n",
       "      <td>BP</td>\n",
       "      <td>GO:0006260</td>\n",
       "      <td>DNA replication</td>\n",
       "      <td>12</td>\n",
       "      <td>0.027</td>\n",
       "      <td>1.045171e-02</td>\n",
       "    </tr>\n",
       "    <tr>\n",
       "      <th>18</th>\n",
       "      <td>BP</td>\n",
       "      <td>GO:0006468</td>\n",
       "      <td>protein phosphorylation</td>\n",
       "      <td>29</td>\n",
       "      <td>0.065</td>\n",
       "      <td>1.868217e-02</td>\n",
       "    </tr>\n",
       "    <tr>\n",
       "      <th>19</th>\n",
       "      <td>BP</td>\n",
       "      <td>GO:0016310</td>\n",
       "      <td>phosphorylation</td>\n",
       "      <td>6</td>\n",
       "      <td>0.013</td>\n",
       "      <td>2.114510e-02</td>\n",
       "    </tr>\n",
       "    <tr>\n",
       "      <th>20</th>\n",
       "      <td>BP</td>\n",
       "      <td>GO:0016579</td>\n",
       "      <td>protein deubiquitination</td>\n",
       "      <td>7</td>\n",
       "      <td>0.016</td>\n",
       "      <td>2.257584e-02</td>\n",
       "    </tr>\n",
       "    <tr>\n",
       "      <th>21</th>\n",
       "      <td>BP</td>\n",
       "      <td>GO:0006511</td>\n",
       "      <td>ubiquitin-dependent protein catabolic process</td>\n",
       "      <td>10</td>\n",
       "      <td>0.022</td>\n",
       "      <td>2.483380e-02</td>\n",
       "    </tr>\n",
       "    <tr>\n",
       "      <th>22</th>\n",
       "      <td>BP</td>\n",
       "      <td>GO:0000160</td>\n",
       "      <td>phosphorelay signal transduction system</td>\n",
       "      <td>6</td>\n",
       "      <td>0.013</td>\n",
       "      <td>2.911903e-02</td>\n",
       "    </tr>\n",
       "    <tr>\n",
       "      <th>23</th>\n",
       "      <td>BP</td>\n",
       "      <td>GO:0006270</td>\n",
       "      <td>DNA replication initiation</td>\n",
       "      <td>5</td>\n",
       "      <td>0.011</td>\n",
       "      <td>2.947958e-02</td>\n",
       "    </tr>\n",
       "    <tr>\n",
       "      <th>24</th>\n",
       "      <td>BP</td>\n",
       "      <td>GO:0006886</td>\n",
       "      <td>intracellular protein transport</td>\n",
       "      <td>12</td>\n",
       "      <td>0.027</td>\n",
       "      <td>4.067715e-02</td>\n",
       "    </tr>\n",
       "    <tr>\n",
       "      <th>25</th>\n",
       "      <td>CC</td>\n",
       "      <td>GO:0005634</td>\n",
       "      <td>nucleus</td>\n",
       "      <td>24</td>\n",
       "      <td>0.131</td>\n",
       "      <td>1.641539e-02</td>\n",
       "    </tr>\n",
       "  </tbody>\n",
       "</table>\n",
       "</div>"
      ],
      "text/plain": [
       "   category          ID                                        Description  \\\n",
       "0        MF  GO:0003924                                    GTPase activity   \n",
       "1        MF  GO:0016887                                    ATPase activity   \n",
       "2        MF  GO:0005525                                        GTP binding   \n",
       "3        MF  GO:0003676                               nucleic acid binding   \n",
       "4        MF  GO:0004842             ubiquitin-protein transferase activity   \n",
       "5        MF  GO:0005085         guanyl-nucleotide exchange factor activity   \n",
       "6        MF  GO:0017056             structural constituent of nuclear pore   \n",
       "7        MF  GO:0004672                            protein kinase activity   \n",
       "8        MF  GO:0003723                                        RNA binding   \n",
       "9        MF  GO:0031267                               small GTPase binding   \n",
       "10       MF  GO:0000166                                 nucleotide binding   \n",
       "11       MF  GO:0016772  transferase activity, transferring phosphorus-...   \n",
       "12       MF  GO:0061630                  ubiquitin protein ligase activity   \n",
       "13       MF  GO:0000155                phosphorelay sensor kinase activity   \n",
       "14       MF  GO:0004843  thiol-dependent ubiquitin-specific protease ac...   \n",
       "15       MF  GO:0004386                                  helicase activity   \n",
       "16       BP  GO:0007165                                signal transduction   \n",
       "17       BP  GO:0006260                                    DNA replication   \n",
       "18       BP  GO:0006468                            protein phosphorylation   \n",
       "19       BP  GO:0016310                                    phosphorylation   \n",
       "20       BP  GO:0016579                           protein deubiquitination   \n",
       "21       BP  GO:0006511      ubiquitin-dependent protein catabolic process   \n",
       "22       BP  GO:0000160            phosphorelay signal transduction system   \n",
       "23       BP  GO:0006270                         DNA replication initiation   \n",
       "24       BP  GO:0006886                    intracellular protein transport   \n",
       "25       CC  GO:0005634                                            nucleus   \n",
       "\n",
       "    Count  GeneRatio      p.adjust  \n",
       "0      24      0.037  1.292722e-05  \n",
       "1      31      0.048  1.392562e-05  \n",
       "2      26      0.040  2.634029e-05  \n",
       "3      45      0.070  9.061235e-04  \n",
       "4       9      0.014  1.208201e-03  \n",
       "5      10      0.015  1.495814e-03  \n",
       "6       6      0.009  3.082665e-03  \n",
       "7      30      0.046  5.755555e-03  \n",
       "8      32      0.050  7.359525e-03  \n",
       "9       6      0.009  2.120568e-02  \n",
       "10     18      0.028  2.248806e-02  \n",
       "11      6      0.009  2.683042e-02  \n",
       "12      7      0.011  2.701595e-02  \n",
       "13      5      0.008  2.701595e-02  \n",
       "14      7      0.011  3.213395e-02  \n",
       "15      7      0.011  4.020224e-02  \n",
       "16     20      0.045  1.177011e-07  \n",
       "17     12      0.027  1.045171e-02  \n",
       "18     29      0.065  1.868217e-02  \n",
       "19      6      0.013  2.114510e-02  \n",
       "20      7      0.016  2.257584e-02  \n",
       "21     10      0.022  2.483380e-02  \n",
       "22      6      0.013  2.911903e-02  \n",
       "23      5      0.011  2.947958e-02  \n",
       "24     12      0.027  4.067715e-02  \n",
       "25     24      0.131  1.641539e-02  "
      ]
     },
     "execution_count": 17,
     "metadata": {},
     "output_type": "execute_result"
    }
   ],
   "source": [
    "df_go_enrich = pd.read_csv(\"./go_enrich.tsv\", sep=\"\\t\")\n",
    "# 指定列\n",
    "df_go_enrich = df_go_enrich[[\"category\", \"ID\", \"Description\", \"Count\", 'GeneRatio',\"p.adjust\"]]\n",
    "df_go_enrich[\"GeneRatio\"] = df_go_enrich[\"GeneRatio\"].apply(lambda x: round(eval(x), 3))\n",
    "df_go_enrich"
   ]
  },
  {
   "cell_type": "code",
   "execution_count": 20,
   "metadata": {},
   "outputs": [
    {
     "data": {
      "application/vnd.plotly.v1+json": {
       "config": {
        "plotlyServerURL": "https://plot.ly"
       },
       "data": [
        {
         "customdata": [
          [
           "GO:0003676",
           45,
           0.0009061235158388
          ],
          [
           "GO:0003723",
           32,
           0.0073595250272894
          ],
          [
           "GO:0016887",
           31,
           0.0000139256237894017
          ],
          [
           "GO:0004672",
           30,
           0.0057555549703816
          ],
          [
           "GO:0005525",
           26,
           0.000026340290304492
          ],
          [
           "GO:0003924",
           24,
           0.0000129272195343156
          ],
          [
           "GO:0000166",
           18,
           0.0224880578033487
          ],
          [
           "GO:0005085",
           10,
           0.0014958140219539
          ],
          [
           "GO:0004842",
           9,
           0.0012082007267257
          ],
          [
           "GO:0061630",
           7,
           0.0270159525265006
          ],
          [
           "GO:0004843",
           7,
           0.0321339508629492
          ],
          [
           "GO:0004386",
           7,
           0.0402022391339603
          ],
          [
           "GO:0017056",
           6,
           0.0030826652787153
          ],
          [
           "GO:0031267",
           6,
           0.0212056795545416
          ],
          [
           "GO:0016772",
           6,
           0.0268304212099474
          ],
          [
           "GO:0000155",
           5,
           0.0270159525265006
          ]
         ],
         "hovertemplate": "<b>%{hovertext}</b><br><br>GeneRatio=%{x}<br>Description=%{y}<br>Counts=%{customdata[1]}<br>ID=%{customdata[0]}<br>P.adjust=%{marker.color}<extra></extra>",
         "hovertext": [
          "MF",
          "MF",
          "MF",
          "MF",
          "MF",
          "MF",
          "MF",
          "MF",
          "MF",
          "MF",
          "MF",
          "MF",
          "MF",
          "MF",
          "MF",
          "MF"
         ],
         "legendgroup": "",
         "marker": {
          "color": [
           0.0009061235158388,
           0.0073595250272894,
           0.0000139256237894017,
           0.0057555549703816,
           0.000026340290304492,
           0.0000129272195343156,
           0.0224880578033487,
           0.0014958140219539,
           0.0012082007267257,
           0.0270159525265006,
           0.0321339508629492,
           0.0402022391339603,
           0.0030826652787153,
           0.0212056795545416,
           0.0268304212099474,
           0.0270159525265006
          ],
          "coloraxis": "coloraxis",
          "opacity": 0.85,
          "size": [
           45,
           32,
           31,
           30,
           26,
           24,
           18,
           10,
           9,
           7,
           7,
           7,
           6,
           6,
           6,
           5
          ],
          "sizemode": "area",
          "sizeref": 0.018,
          "symbol": "circle"
         },
         "mode": "markers",
         "name": "",
         "orientation": "h",
         "showlegend": false,
         "type": "scatter",
         "x": [
          0.07,
          0.05,
          0.048,
          0.046,
          0.04,
          0.037,
          0.028,
          0.015,
          0.014,
          0.011,
          0.011,
          0.011,
          0.009,
          0.009,
          0.009,
          0.008
         ],
         "xaxis": "x",
         "y": [
          "nucleic acid binding",
          "RNA binding",
          "ATPase activity",
          "protein kinase activity",
          "GTP binding",
          "GTPase activity",
          "nucleotide binding",
          "guanyl-nucleotide exchange factor activity",
          "ubiquitin-protein transferase activity",
          "ubiquitin protein ligase activity",
          "thiol-dependent ubiquitin-specific protease activity",
          "helicase activity",
          "structural constituent of nuclear pore",
          "small GTPase binding",
          "transferase activity, transferring phosphorus-containing groups",
          "phosphorelay sensor kinase activity"
         ],
         "yaxis": "y"
        }
       ],
       "layout": {
        "coloraxis": {
         "colorbar": {
          "dtick": 0.005,
          "tickformat": ".3f",
          "title": {
           "text": "P.adjust"
          }
         },
         "colorscale": [
          [
           0,
           "rgb(0, 128, 128)"
          ],
          [
           0.16666666666666666,
           "rgb(112, 164, 148)"
          ],
          [
           0.3333333333333333,
           "rgb(180, 200, 168)"
          ],
          [
           0.5,
           "rgb(246, 237, 189)"
          ],
          [
           0.6666666666666666,
           "rgb(237, 187, 138)"
          ],
          [
           0.8333333333333334,
           "rgb(222, 138, 90)"
          ],
          [
           1,
           "rgb(202, 86, 44)"
          ]
         ]
        },
        "font": {
         "family": "Arial",
         "size": 14
        },
        "height": 800,
        "legend": {
         "itemsizing": "constant",
         "tracegroupgap": 0
        },
        "margin": {
         "t": 60
        },
        "template": {
         "data": {
          "bar": [
           {
            "error_x": {
             "color": "#2a3f5f"
            },
            "error_y": {
             "color": "#2a3f5f"
            },
            "marker": {
             "line": {
              "color": "white",
              "width": 0.5
             },
             "pattern": {
              "fillmode": "overlay",
              "size": 10,
              "solidity": 0.2
             }
            },
            "type": "bar"
           }
          ],
          "barpolar": [
           {
            "marker": {
             "line": {
              "color": "white",
              "width": 0.5
             },
             "pattern": {
              "fillmode": "overlay",
              "size": 10,
              "solidity": 0.2
             }
            },
            "type": "barpolar"
           }
          ],
          "carpet": [
           {
            "aaxis": {
             "endlinecolor": "#2a3f5f",
             "gridcolor": "#C8D4E3",
             "linecolor": "#C8D4E3",
             "minorgridcolor": "#C8D4E3",
             "startlinecolor": "#2a3f5f"
            },
            "baxis": {
             "endlinecolor": "#2a3f5f",
             "gridcolor": "#C8D4E3",
             "linecolor": "#C8D4E3",
             "minorgridcolor": "#C8D4E3",
             "startlinecolor": "#2a3f5f"
            },
            "type": "carpet"
           }
          ],
          "choropleth": [
           {
            "colorbar": {
             "outlinewidth": 0,
             "ticks": ""
            },
            "type": "choropleth"
           }
          ],
          "contour": [
           {
            "colorbar": {
             "outlinewidth": 0,
             "ticks": ""
            },
            "colorscale": [
             [
              0,
              "#0d0887"
             ],
             [
              0.1111111111111111,
              "#46039f"
             ],
             [
              0.2222222222222222,
              "#7201a8"
             ],
             [
              0.3333333333333333,
              "#9c179e"
             ],
             [
              0.4444444444444444,
              "#bd3786"
             ],
             [
              0.5555555555555556,
              "#d8576b"
             ],
             [
              0.6666666666666666,
              "#ed7953"
             ],
             [
              0.7777777777777778,
              "#fb9f3a"
             ],
             [
              0.8888888888888888,
              "#fdca26"
             ],
             [
              1,
              "#f0f921"
             ]
            ],
            "type": "contour"
           }
          ],
          "contourcarpet": [
           {
            "colorbar": {
             "outlinewidth": 0,
             "ticks": ""
            },
            "type": "contourcarpet"
           }
          ],
          "heatmap": [
           {
            "colorbar": {
             "outlinewidth": 0,
             "ticks": ""
            },
            "colorscale": [
             [
              0,
              "#0d0887"
             ],
             [
              0.1111111111111111,
              "#46039f"
             ],
             [
              0.2222222222222222,
              "#7201a8"
             ],
             [
              0.3333333333333333,
              "#9c179e"
             ],
             [
              0.4444444444444444,
              "#bd3786"
             ],
             [
              0.5555555555555556,
              "#d8576b"
             ],
             [
              0.6666666666666666,
              "#ed7953"
             ],
             [
              0.7777777777777778,
              "#fb9f3a"
             ],
             [
              0.8888888888888888,
              "#fdca26"
             ],
             [
              1,
              "#f0f921"
             ]
            ],
            "type": "heatmap"
           }
          ],
          "heatmapgl": [
           {
            "colorbar": {
             "outlinewidth": 0,
             "ticks": ""
            },
            "colorscale": [
             [
              0,
              "#0d0887"
             ],
             [
              0.1111111111111111,
              "#46039f"
             ],
             [
              0.2222222222222222,
              "#7201a8"
             ],
             [
              0.3333333333333333,
              "#9c179e"
             ],
             [
              0.4444444444444444,
              "#bd3786"
             ],
             [
              0.5555555555555556,
              "#d8576b"
             ],
             [
              0.6666666666666666,
              "#ed7953"
             ],
             [
              0.7777777777777778,
              "#fb9f3a"
             ],
             [
              0.8888888888888888,
              "#fdca26"
             ],
             [
              1,
              "#f0f921"
             ]
            ],
            "type": "heatmapgl"
           }
          ],
          "histogram": [
           {
            "marker": {
             "pattern": {
              "fillmode": "overlay",
              "size": 10,
              "solidity": 0.2
             }
            },
            "type": "histogram"
           }
          ],
          "histogram2d": [
           {
            "colorbar": {
             "outlinewidth": 0,
             "ticks": ""
            },
            "colorscale": [
             [
              0,
              "#0d0887"
             ],
             [
              0.1111111111111111,
              "#46039f"
             ],
             [
              0.2222222222222222,
              "#7201a8"
             ],
             [
              0.3333333333333333,
              "#9c179e"
             ],
             [
              0.4444444444444444,
              "#bd3786"
             ],
             [
              0.5555555555555556,
              "#d8576b"
             ],
             [
              0.6666666666666666,
              "#ed7953"
             ],
             [
              0.7777777777777778,
              "#fb9f3a"
             ],
             [
              0.8888888888888888,
              "#fdca26"
             ],
             [
              1,
              "#f0f921"
             ]
            ],
            "type": "histogram2d"
           }
          ],
          "histogram2dcontour": [
           {
            "colorbar": {
             "outlinewidth": 0,
             "ticks": ""
            },
            "colorscale": [
             [
              0,
              "#0d0887"
             ],
             [
              0.1111111111111111,
              "#46039f"
             ],
             [
              0.2222222222222222,
              "#7201a8"
             ],
             [
              0.3333333333333333,
              "#9c179e"
             ],
             [
              0.4444444444444444,
              "#bd3786"
             ],
             [
              0.5555555555555556,
              "#d8576b"
             ],
             [
              0.6666666666666666,
              "#ed7953"
             ],
             [
              0.7777777777777778,
              "#fb9f3a"
             ],
             [
              0.8888888888888888,
              "#fdca26"
             ],
             [
              1,
              "#f0f921"
             ]
            ],
            "type": "histogram2dcontour"
           }
          ],
          "mesh3d": [
           {
            "colorbar": {
             "outlinewidth": 0,
             "ticks": ""
            },
            "type": "mesh3d"
           }
          ],
          "parcoords": [
           {
            "line": {
             "colorbar": {
              "outlinewidth": 0,
              "ticks": ""
             }
            },
            "type": "parcoords"
           }
          ],
          "pie": [
           {
            "automargin": true,
            "type": "pie"
           }
          ],
          "scatter": [
           {
            "fillpattern": {
             "fillmode": "overlay",
             "size": 10,
             "solidity": 0.2
            },
            "type": "scatter"
           }
          ],
          "scatter3d": [
           {
            "line": {
             "colorbar": {
              "outlinewidth": 0,
              "ticks": ""
             }
            },
            "marker": {
             "colorbar": {
              "outlinewidth": 0,
              "ticks": ""
             }
            },
            "type": "scatter3d"
           }
          ],
          "scattercarpet": [
           {
            "marker": {
             "colorbar": {
              "outlinewidth": 0,
              "ticks": ""
             }
            },
            "type": "scattercarpet"
           }
          ],
          "scattergeo": [
           {
            "marker": {
             "colorbar": {
              "outlinewidth": 0,
              "ticks": ""
             }
            },
            "type": "scattergeo"
           }
          ],
          "scattergl": [
           {
            "marker": {
             "colorbar": {
              "outlinewidth": 0,
              "ticks": ""
             }
            },
            "type": "scattergl"
           }
          ],
          "scattermapbox": [
           {
            "marker": {
             "colorbar": {
              "outlinewidth": 0,
              "ticks": ""
             }
            },
            "type": "scattermapbox"
           }
          ],
          "scatterpolar": [
           {
            "marker": {
             "colorbar": {
              "outlinewidth": 0,
              "ticks": ""
             }
            },
            "type": "scatterpolar"
           }
          ],
          "scatterpolargl": [
           {
            "marker": {
             "colorbar": {
              "outlinewidth": 0,
              "ticks": ""
             }
            },
            "type": "scatterpolargl"
           }
          ],
          "scatterternary": [
           {
            "marker": {
             "colorbar": {
              "outlinewidth": 0,
              "ticks": ""
             }
            },
            "type": "scatterternary"
           }
          ],
          "surface": [
           {
            "colorbar": {
             "outlinewidth": 0,
             "ticks": ""
            },
            "colorscale": [
             [
              0,
              "#0d0887"
             ],
             [
              0.1111111111111111,
              "#46039f"
             ],
             [
              0.2222222222222222,
              "#7201a8"
             ],
             [
              0.3333333333333333,
              "#9c179e"
             ],
             [
              0.4444444444444444,
              "#bd3786"
             ],
             [
              0.5555555555555556,
              "#d8576b"
             ],
             [
              0.6666666666666666,
              "#ed7953"
             ],
             [
              0.7777777777777778,
              "#fb9f3a"
             ],
             [
              0.8888888888888888,
              "#fdca26"
             ],
             [
              1,
              "#f0f921"
             ]
            ],
            "type": "surface"
           }
          ],
          "table": [
           {
            "cells": {
             "fill": {
              "color": "#EBF0F8"
             },
             "line": {
              "color": "white"
             }
            },
            "header": {
             "fill": {
              "color": "#C8D4E3"
             },
             "line": {
              "color": "white"
             }
            },
            "type": "table"
           }
          ]
         },
         "layout": {
          "annotationdefaults": {
           "arrowcolor": "#2a3f5f",
           "arrowhead": 0,
           "arrowwidth": 1
          },
          "autotypenumbers": "strict",
          "coloraxis": {
           "colorbar": {
            "outlinewidth": 0,
            "ticks": ""
           }
          },
          "colorscale": {
           "diverging": [
            [
             0,
             "#8e0152"
            ],
            [
             0.1,
             "#c51b7d"
            ],
            [
             0.2,
             "#de77ae"
            ],
            [
             0.3,
             "#f1b6da"
            ],
            [
             0.4,
             "#fde0ef"
            ],
            [
             0.5,
             "#f7f7f7"
            ],
            [
             0.6,
             "#e6f5d0"
            ],
            [
             0.7,
             "#b8e186"
            ],
            [
             0.8,
             "#7fbc41"
            ],
            [
             0.9,
             "#4d9221"
            ],
            [
             1,
             "#276419"
            ]
           ],
           "sequential": [
            [
             0,
             "#0d0887"
            ],
            [
             0.1111111111111111,
             "#46039f"
            ],
            [
             0.2222222222222222,
             "#7201a8"
            ],
            [
             0.3333333333333333,
             "#9c179e"
            ],
            [
             0.4444444444444444,
             "#bd3786"
            ],
            [
             0.5555555555555556,
             "#d8576b"
            ],
            [
             0.6666666666666666,
             "#ed7953"
            ],
            [
             0.7777777777777778,
             "#fb9f3a"
            ],
            [
             0.8888888888888888,
             "#fdca26"
            ],
            [
             1,
             "#f0f921"
            ]
           ],
           "sequentialminus": [
            [
             0,
             "#0d0887"
            ],
            [
             0.1111111111111111,
             "#46039f"
            ],
            [
             0.2222222222222222,
             "#7201a8"
            ],
            [
             0.3333333333333333,
             "#9c179e"
            ],
            [
             0.4444444444444444,
             "#bd3786"
            ],
            [
             0.5555555555555556,
             "#d8576b"
            ],
            [
             0.6666666666666666,
             "#ed7953"
            ],
            [
             0.7777777777777778,
             "#fb9f3a"
            ],
            [
             0.8888888888888888,
             "#fdca26"
            ],
            [
             1,
             "#f0f921"
            ]
           ]
          },
          "colorway": [
           "#636efa",
           "#EF553B",
           "#00cc96",
           "#ab63fa",
           "#FFA15A",
           "#19d3f3",
           "#FF6692",
           "#B6E880",
           "#FF97FF",
           "#FECB52"
          ],
          "font": {
           "color": "#2a3f5f"
          },
          "geo": {
           "bgcolor": "white",
           "lakecolor": "white",
           "landcolor": "white",
           "showlakes": true,
           "showland": true,
           "subunitcolor": "#C8D4E3"
          },
          "hoverlabel": {
           "align": "left"
          },
          "hovermode": "closest",
          "mapbox": {
           "style": "light"
          },
          "paper_bgcolor": "white",
          "plot_bgcolor": "white",
          "polar": {
           "angularaxis": {
            "gridcolor": "#EBF0F8",
            "linecolor": "#EBF0F8",
            "ticks": ""
           },
           "bgcolor": "white",
           "radialaxis": {
            "gridcolor": "#EBF0F8",
            "linecolor": "#EBF0F8",
            "ticks": ""
           }
          },
          "scene": {
           "xaxis": {
            "backgroundcolor": "white",
            "gridcolor": "#DFE8F3",
            "gridwidth": 2,
            "linecolor": "#EBF0F8",
            "showbackground": true,
            "ticks": "",
            "zerolinecolor": "#EBF0F8"
           },
           "yaxis": {
            "backgroundcolor": "white",
            "gridcolor": "#DFE8F3",
            "gridwidth": 2,
            "linecolor": "#EBF0F8",
            "showbackground": true,
            "ticks": "",
            "zerolinecolor": "#EBF0F8"
           },
           "zaxis": {
            "backgroundcolor": "white",
            "gridcolor": "#DFE8F3",
            "gridwidth": 2,
            "linecolor": "#EBF0F8",
            "showbackground": true,
            "ticks": "",
            "zerolinecolor": "#EBF0F8"
           }
          },
          "shapedefaults": {
           "line": {
            "color": "#2a3f5f"
           }
          },
          "ternary": {
           "aaxis": {
            "gridcolor": "#DFE8F3",
            "linecolor": "#A2B1C6",
            "ticks": ""
           },
           "baxis": {
            "gridcolor": "#DFE8F3",
            "linecolor": "#A2B1C6",
            "ticks": ""
           },
           "bgcolor": "white",
           "caxis": {
            "gridcolor": "#DFE8F3",
            "linecolor": "#A2B1C6",
            "ticks": ""
           }
          },
          "title": {
           "x": 0.05
          },
          "xaxis": {
           "automargin": true,
           "gridcolor": "#EBF0F8",
           "linecolor": "#EBF0F8",
           "ticks": "",
           "title": {
            "standoff": 15
           },
           "zerolinecolor": "#EBF0F8",
           "zerolinewidth": 2
          },
          "yaxis": {
           "automargin": true,
           "gridcolor": "#EBF0F8",
           "linecolor": "#EBF0F8",
           "ticks": "",
           "title": {
            "standoff": 15
           },
           "zerolinecolor": "#EBF0F8",
           "zerolinewidth": 2
          }
         }
        },
        "title": {
         "text": "GO Enrichment Analysis"
        },
        "width": 1200,
        "xaxis": {
         "anchor": "y",
         "domain": [
          0,
          1
         ],
         "title": {
          "text": "GeneRatio"
         }
        },
        "yaxis": {
         "anchor": "x",
         "autorange": "reversed",
         "domain": [
          0,
          1
         ],
         "title": {
          "text": "Description"
         }
        }
       }
      }
     },
     "metadata": {},
     "output_type": "display_data"
    }
   ],
   "source": [
    "BubbleChart_2(df_go_enrich, color='Geyser', bubble_num=50, bubble_size=50, go_type='MF', width=1200, height=800)"
   ]
  },
  {
   "cell_type": "markdown",
   "metadata": {},
   "source": [
    "### TBtools出来的测试数据"
   ]
  },
  {
   "cell_type": "code",
   "execution_count": 2,
   "metadata": {},
   "outputs": [],
   "source": [
    "def BubbleChart(df, color, bubble_num, bubble_size, go_type='all', width=1000, height=800):\n",
    "\n",
    "    # 拷贝并重命名列名\n",
    "    df = df.copy()\n",
    "    df.columns = [\"Class\", \"GO_ID\", \"GO_Function\", \"Counts\", \"Enrichment Score\", \"P.adjust\"]\n",
    "\n",
    "    df = df.sort_values(by='Counts', ascending=False)\n",
    "\n",
    "    # 选取p值小于0.05的数据\n",
    "    df = df[df[\"P.adjust\"] < 0.05]\n",
    "    \n",
    "    # df只保留前num行数据\n",
    "    df = df.iloc[:bubble_num]\n",
    "\n",
    "    if go_type == \"BP\":\n",
    "        df = df[df[\"Class\"].str.contains(\"Biological process\")]\n",
    "    elif go_type == \"CC\":\n",
    "        df = df[df[\"Class\"].str.contains(\"Cellular component\")]\n",
    "    elif go_type == \"MF\":\n",
    "        df = df[df[\"Class\"].str.contains(\"Molecular function\")]\n",
    "    else:\n",
    "        pass\n",
    "\n",
    "    # 创建图表\n",
    "    fig = px.scatter(\n",
    "        df,\n",
    "        x=\"Enrichment Score\",\n",
    "        y=\"GO_Function\",\n",
    "        size=\"Counts\",\n",
    "        color=\"P.adjust\",\n",
    "        color_continuous_scale=color,  # _r表示颜色反转\n",
    "        # color_continuous_scale='Geyser_r',\n",
    "        opacity=0.85,\n",
    "        hover_name=\"Class\",\n",
    "        hover_data=[\"GO_ID\", \"GO_Function\", \"Counts\", \"Enrichment Score\", \"P.adjust\"],\n",
    "        size_max=bubble_size,\n",
    "    )\n",
    "\n",
    "    # 设置图表属性\n",
    "    fig.update_layout(\n",
    "        title=\"GO Enrichment Analysis\",\n",
    "        xaxis_title = \"Enrichment Score\",\n",
    "        yaxis_title = \"GO_Function\",\n",
    "        yaxis = dict(autorange=\"reversed\"),  # y轴反转\n",
    "        font=dict(family=\"Arial\", size=14),\n",
    "        template=\"plotly_white\",\n",
    "        # template=\"simple_white\",\n",
    "        width=width,  # 图表宽度\n",
    "        height=height,  # 图表高度\n",
    "    )\n",
    "\n",
    "    # 设置颜色轴的属性\n",
    "    colorbar_title = \"P.adjust\"\n",
    "    colorbar_tickformat = \".3f\"\n",
    "    colorbar_dtick = 0.005\n",
    "    fig.update_coloraxes(\n",
    "        colorbar_title=colorbar_title,\n",
    "        colorbar_tickformat=colorbar_tickformat,\n",
    "        colorbar=dict(dtick=colorbar_dtick),\n",
    "    )\n",
    "    \n",
    "    # 显示图表并返回\n",
    "    return fig"
   ]
  },
  {
   "cell_type": "code",
   "execution_count": 6,
   "metadata": {},
   "outputs": [
    {
     "data": {
      "text/html": [
       "<div>\n",
       "<style scoped>\n",
       "    .dataframe tbody tr th:only-of-type {\n",
       "        vertical-align: middle;\n",
       "    }\n",
       "\n",
       "    .dataframe tbody tr th {\n",
       "        vertical-align: top;\n",
       "    }\n",
       "\n",
       "    .dataframe thead th {\n",
       "        text-align: right;\n",
       "    }\n",
       "</style>\n",
       "<table border=\"1\" class=\"dataframe\">\n",
       "  <thead>\n",
       "    <tr style=\"text-align: right;\">\n",
       "      <th></th>\n",
       "      <th>Class</th>\n",
       "      <th>GO_ID</th>\n",
       "      <th>GO_Name</th>\n",
       "      <th>HitsGenesCountsInSelectedSet</th>\n",
       "      <th>EnrichmentScore</th>\n",
       "      <th>corrected p-value(BH method)</th>\n",
       "    </tr>\n",
       "  </thead>\n",
       "  <tbody>\n",
       "    <tr>\n",
       "      <th>0</th>\n",
       "      <td>Molecular function</td>\n",
       "      <td>GO:0003723</td>\n",
       "      <td>RNA binding</td>\n",
       "      <td>37</td>\n",
       "      <td>3.996168</td>\n",
       "      <td>2.650000e-12</td>\n",
       "    </tr>\n",
       "    <tr>\n",
       "      <th>1</th>\n",
       "      <td>Molecular function</td>\n",
       "      <td>GO:0003735</td>\n",
       "      <td>structural constituent of ribosome</td>\n",
       "      <td>28</td>\n",
       "      <td>4.893587</td>\n",
       "      <td>6.750000e-12</td>\n",
       "    </tr>\n",
       "    <tr>\n",
       "      <th>2</th>\n",
       "      <td>Molecular function</td>\n",
       "      <td>GO:0005198</td>\n",
       "      <td>structural molecule activity</td>\n",
       "      <td>28</td>\n",
       "      <td>4.412251</td>\n",
       "      <td>1.290000e-10</td>\n",
       "    </tr>\n",
       "    <tr>\n",
       "      <th>3</th>\n",
       "      <td>Molecular function</td>\n",
       "      <td>GO:0005488</td>\n",
       "      <td>binding</td>\n",
       "      <td>183</td>\n",
       "      <td>1.348980</td>\n",
       "      <td>2.770000e-08</td>\n",
       "    </tr>\n",
       "    <tr>\n",
       "      <th>4</th>\n",
       "      <td>Molecular function</td>\n",
       "      <td>GO:0016875</td>\n",
       "      <td>ligase activity, forming carbon-oxygen bonds</td>\n",
       "      <td>14</td>\n",
       "      <td>6.408269</td>\n",
       "      <td>9.090000e-08</td>\n",
       "    </tr>\n",
       "    <tr>\n",
       "      <th>...</th>\n",
       "      <td>...</td>\n",
       "      <td>...</td>\n",
       "      <td>...</td>\n",
       "      <td>...</td>\n",
       "      <td>...</td>\n",
       "      <td>...</td>\n",
       "    </tr>\n",
       "    <tr>\n",
       "      <th>295</th>\n",
       "      <td>Biological process</td>\n",
       "      <td>GO:0006066</td>\n",
       "      <td>alcohol metabolic process</td>\n",
       "      <td>8</td>\n",
       "      <td>1.982942</td>\n",
       "      <td>1.827045e-01</td>\n",
       "    </tr>\n",
       "    <tr>\n",
       "      <th>296</th>\n",
       "      <td>Biological process</td>\n",
       "      <td>GO:0051253</td>\n",
       "      <td>negative regulation of RNA metabolic process</td>\n",
       "      <td>18</td>\n",
       "      <td>1.523480</td>\n",
       "      <td>1.837833e-01</td>\n",
       "    </tr>\n",
       "    <tr>\n",
       "      <th>297</th>\n",
       "      <td>Biological process</td>\n",
       "      <td>GO:0019222</td>\n",
       "      <td>regulation of metabolic process</td>\n",
       "      <td>45</td>\n",
       "      <td>1.273017</td>\n",
       "      <td>1.866047e-01</td>\n",
       "    </tr>\n",
       "    <tr>\n",
       "      <th>298</th>\n",
       "      <td>Biological process</td>\n",
       "      <td>GO:0080090</td>\n",
       "      <td>regulation of primary metabolic process</td>\n",
       "      <td>42</td>\n",
       "      <td>1.285996</td>\n",
       "      <td>1.871500e-01</td>\n",
       "    </tr>\n",
       "    <tr>\n",
       "      <th>299</th>\n",
       "      <td>Biological process</td>\n",
       "      <td>GO:0051171</td>\n",
       "      <td>regulation of nitrogen compound metabolic process</td>\n",
       "      <td>41</td>\n",
       "      <td>1.281767</td>\n",
       "      <td>1.900244e-01</td>\n",
       "    </tr>\n",
       "  </tbody>\n",
       "</table>\n",
       "<p>300 rows × 6 columns</p>\n",
       "</div>"
      ],
      "text/plain": [
       "                  Class       GO_ID  \\\n",
       "0    Molecular function  GO:0003723   \n",
       "1    Molecular function  GO:0003735   \n",
       "2    Molecular function  GO:0005198   \n",
       "3    Molecular function  GO:0005488   \n",
       "4    Molecular function  GO:0016875   \n",
       "..                  ...         ...   \n",
       "295  Biological process  GO:0006066   \n",
       "296  Biological process  GO:0051253   \n",
       "297  Biological process  GO:0019222   \n",
       "298  Biological process  GO:0080090   \n",
       "299  Biological process  GO:0051171   \n",
       "\n",
       "                                               GO_Name  \\\n",
       "0                                          RNA binding   \n",
       "1                   structural constituent of ribosome   \n",
       "2                         structural molecule activity   \n",
       "3                                              binding   \n",
       "4         ligase activity, forming carbon-oxygen bonds   \n",
       "..                                                 ...   \n",
       "295                          alcohol metabolic process   \n",
       "296       negative regulation of RNA metabolic process   \n",
       "297                    regulation of metabolic process   \n",
       "298            regulation of primary metabolic process   \n",
       "299  regulation of nitrogen compound metabolic process   \n",
       "\n",
       "     HitsGenesCountsInSelectedSet  EnrichmentScore  \\\n",
       "0                              37         3.996168   \n",
       "1                              28         4.893587   \n",
       "2                              28         4.412251   \n",
       "3                             183         1.348980   \n",
       "4                              14         6.408269   \n",
       "..                            ...              ...   \n",
       "295                             8         1.982942   \n",
       "296                            18         1.523480   \n",
       "297                            45         1.273017   \n",
       "298                            42         1.285996   \n",
       "299                            41         1.281767   \n",
       "\n",
       "     corrected p-value(BH method)  \n",
       "0                    2.650000e-12  \n",
       "1                    6.750000e-12  \n",
       "2                    1.290000e-10  \n",
       "3                    2.770000e-08  \n",
       "4                    9.090000e-08  \n",
       "..                            ...  \n",
       "295                  1.827045e-01  \n",
       "296                  1.837833e-01  \n",
       "297                  1.866047e-01  \n",
       "298                  1.871500e-01  \n",
       "299                  1.900244e-01  \n",
       "\n",
       "[300 rows x 6 columns]"
      ]
     },
     "execution_count": 6,
     "metadata": {},
     "output_type": "execute_result"
    }
   ],
   "source": [
    "# df_GoEnrich = pd.read_csv(\"GO_Enrichment_demo.csv\")\n",
    "# df_BubbleChart = df_GoEnrich[['Class', 'GO_ID', 'GO_Name',\n",
    "#                               'HitsGenesCountsInSelectedSet', 'EnrichmentScore', 'corrected p-value(BH method)']]\n",
    "# df_BubbleChart\n",
    "\n",
    "# BubbleChart(df_BubbleChart, 'Rdbu_r', 50, 30, width=1000, height=600)"
   ]
  }
 ],
 "metadata": {
  "kernelspec": {
   "display_name": "py37_plot",
   "language": "python",
   "name": "python3"
  },
  "language_info": {
   "codemirror_mode": {
    "name": "ipython",
    "version": 3
   },
   "file_extension": ".py",
   "mimetype": "text/x-python",
   "name": "python",
   "nbconvert_exporter": "python",
   "pygments_lexer": "ipython3",
   "version": "3.10.0"
  },
  "orig_nbformat": 4
 },
 "nbformat": 4,
 "nbformat_minor": 2
}
