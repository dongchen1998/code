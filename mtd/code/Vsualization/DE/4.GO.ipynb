{
 "cells": [
  {
   "cell_type": "code",
   "execution_count": 2,
   "metadata": {},
   "outputs": [],
   "source": [
    "import pandas as pd\n",
    "import plotly.express as px\n",
    "import plotly.graph_objects as go"
   ]
  },
  {
   "cell_type": "markdown",
   "metadata": {},
   "source": [
    "BubbleChart 富集"
   ]
  },
  {
   "cell_type": "code",
   "execution_count": 3,
   "metadata": {},
   "outputs": [],
   "source": [
    "def BubbleChart(df, color, bubble_num, bubble_size, go_type, width=1000, height=800):\n",
    "    \"\"\" \n",
    "    Args:\n",
    "        df: GO enrichment analysis result\n",
    "        num: number of rows to show\n",
    "    Returns:\n",
    "        fig: plotly figure\n",
    "    \"\"\"\n",
    "    # 拷贝并重命名列名\n",
    "    df = df.copy()\n",
    "    df.columns = [\"Class\", \"GO_ID\", \"GO_Function\", \"Counts\", \"Enrichment Score\", \"P.adjust\"]\n",
    "\n",
    "    df = df.sort_values(by='Counts', ascending=False)\n",
    "\n",
    "    # 选取p值小于0.05的数据\n",
    "    df = df[df[\"P.adjust\"] < 0.05]\n",
    "    \n",
    "    # df只保留前num行数据\n",
    "    df = df.iloc[:bubble_num]\n",
    "\n",
    "    if go_type == \"BP\":\n",
    "        df = df[df[\"Class\"].str.contains(\"Biological process\")]\n",
    "    elif go_type == \"CC\":\n",
    "        df = df[df[\"Class\"].str.contains(\"Cellular component\")]\n",
    "    elif go_type == \"MF\":\n",
    "        df = df[df[\"Class\"].str.contains(\"Molecular function\")]\n",
    "    else:  # 修复了这里的错误\n",
    "        pass\n",
    "\n",
    "    # 创建图表\n",
    "    fig = px.scatter(\n",
    "        df,\n",
    "        x=\"Enrichment Score\",\n",
    "        y=\"GO_Function\",\n",
    "        size=\"Counts\",\n",
    "        color=\"P.adjust\",\n",
    "        color_continuous_scale=color,  # _r表示颜色反转\n",
    "        # color_continuous_scale='Geyser_r',\n",
    "        opacity=0.85,\n",
    "        hover_name=\"Class\",\n",
    "        hover_data=[\"GO_ID\", \"GO_Function\", \"Counts\", \"Enrichment Score\", \"P.adjust\"],\n",
    "        size_max=bubble_size,\n",
    "    )\n",
    "\n",
    "    # 设置图表属性\n",
    "    fig.update_layout(\n",
    "        title=\"GO Enrichment Analysis\",\n",
    "        xaxis_title = \"Enrichment Score\",\n",
    "        yaxis_title = \"GO_Function\",\n",
    "        yaxis = dict(autorange=\"reversed\"),  # y轴反转\n",
    "        font=dict(family=\"Arial\", size=14),\n",
    "        template=\"plotly_white\",\n",
    "        # template=\"simple_white\",\n",
    "        width=width,  # 图表宽度\n",
    "        height=height,  # 图表高度\n",
    "    )\n",
    "\n",
    "    # 设置颜色轴的属性\n",
    "    colorbar_title = \"P.adjust\"\n",
    "    colorbar_tickformat = \".3f\"\n",
    "    colorbar_dtick = 0.005\n",
    "    fig.update_coloraxes(\n",
    "        colorbar_title=colorbar_title,\n",
    "        colorbar_tickformat=colorbar_tickformat,\n",
    "        colorbar=dict(dtick=colorbar_dtick),\n",
    "    )\n",
    "    \n",
    "    # 显示图表并返回\n",
    "    return fig"
   ]
  },
  {
   "cell_type": "code",
   "execution_count": 4,
   "metadata": {},
   "outputs": [
    {
     "data": {
      "text/html": [
       "<div>\n",
       "<style scoped>\n",
       "    .dataframe tbody tr th:only-of-type {\n",
       "        vertical-align: middle;\n",
       "    }\n",
       "\n",
       "    .dataframe tbody tr th {\n",
       "        vertical-align: top;\n",
       "    }\n",
       "\n",
       "    .dataframe thead th {\n",
       "        text-align: right;\n",
       "    }\n",
       "</style>\n",
       "<table border=\"1\" class=\"dataframe\">\n",
       "  <thead>\n",
       "    <tr style=\"text-align: right;\">\n",
       "      <th></th>\n",
       "      <th>Class</th>\n",
       "      <th>GO_Name</th>\n",
       "      <th>GO_ID</th>\n",
       "      <th>GO_Level</th>\n",
       "      <th>P_value</th>\n",
       "      <th>EnrichmentScore</th>\n",
       "      <th>HitsGenesCountsInSelectedSet</th>\n",
       "      <th>HitsGenesCountsInBackground</th>\n",
       "      <th>AllGenesCountsInSelectedSet</th>\n",
       "      <th>AllGenesCountsInBackground</th>\n",
       "      <th>GenesOfSelectedSetInGOterm</th>\n",
       "      <th>corrected p-value(BH method)</th>\n",
       "    </tr>\n",
       "  </thead>\n",
       "  <tbody>\n",
       "    <tr>\n",
       "      <th>0</th>\n",
       "      <td>Molecular function</td>\n",
       "      <td>RNA binding</td>\n",
       "      <td>GO:0003723</td>\n",
       "      <td>5</td>\n",
       "      <td>4.330000e-15</td>\n",
       "      <td>3.996168</td>\n",
       "      <td>37</td>\n",
       "      <td>89</td>\n",
       "      <td>258</td>\n",
       "      <td>2480</td>\n",
       "      <td>rplR,rplT,rplN,rplW,rplY,rplB,rplE,srmB,prfA,r...</td>\n",
       "      <td>2.650000e-12</td>\n",
       "    </tr>\n",
       "    <tr>\n",
       "      <th>1</th>\n",
       "      <td>Molecular function</td>\n",
       "      <td>structural constituent of ribosome</td>\n",
       "      <td>GO:0003735</td>\n",
       "      <td>3</td>\n",
       "      <td>2.210000e-14</td>\n",
       "      <td>4.893587</td>\n",
       "      <td>28</td>\n",
       "      <td>55</td>\n",
       "      <td>258</td>\n",
       "      <td>2480</td>\n",
       "      <td>rpmG,rplR,rplU,rplT,rplN,rplW,rplY,rplC,rplB,r...</td>\n",
       "      <td>6.750000e-12</td>\n",
       "    </tr>\n",
       "    <tr>\n",
       "      <th>2</th>\n",
       "      <td>Molecular function</td>\n",
       "      <td>structural molecule activity</td>\n",
       "      <td>GO:0005198</td>\n",
       "      <td>2</td>\n",
       "      <td>6.360000e-13</td>\n",
       "      <td>4.412251</td>\n",
       "      <td>28</td>\n",
       "      <td>61</td>\n",
       "      <td>258</td>\n",
       "      <td>2480</td>\n",
       "      <td>rpmG,rplR,rplU,rplT,rplN,rplW,rplY,rplC,rplB,r...</td>\n",
       "      <td>1.290000e-10</td>\n",
       "    </tr>\n",
       "    <tr>\n",
       "      <th>3</th>\n",
       "      <td>Molecular function</td>\n",
       "      <td>binding</td>\n",
       "      <td>GO:0005488</td>\n",
       "      <td>2</td>\n",
       "      <td>1.820000e-10</td>\n",
       "      <td>1.348980</td>\n",
       "      <td>183</td>\n",
       "      <td>1304</td>\n",
       "      <td>258</td>\n",
       "      <td>2480</td>\n",
       "      <td>minE,arcA,msrB,nusA,sspA,yqjD,hmp,fabI,wrbA,ac...</td>\n",
       "      <td>2.770000e-08</td>\n",
       "    </tr>\n",
       "    <tr>\n",
       "      <th>4</th>\n",
       "      <td>Molecular function</td>\n",
       "      <td>ligase activity, forming carbon-oxygen bonds</td>\n",
       "      <td>GO:0016875</td>\n",
       "      <td>4</td>\n",
       "      <td>7.440000e-10</td>\n",
       "      <td>6.408269</td>\n",
       "      <td>14</td>\n",
       "      <td>21</td>\n",
       "      <td>258</td>\n",
       "      <td>2480</td>\n",
       "      <td>gltX,argS,glyS,pheT,ileS,trpS,cysS,hisS,tyrS,a...</td>\n",
       "      <td>9.090000e-08</td>\n",
       "    </tr>\n",
       "  </tbody>\n",
       "</table>\n",
       "</div>"
      ],
      "text/plain": [
       "                Class                                       GO_Name  \\\n",
       "0  Molecular function                                   RNA binding   \n",
       "1  Molecular function            structural constituent of ribosome   \n",
       "2  Molecular function                  structural molecule activity   \n",
       "3  Molecular function                                       binding   \n",
       "4  Molecular function  ligase activity, forming carbon-oxygen bonds   \n",
       "\n",
       "        GO_ID  GO_Level       P_value  EnrichmentScore  \\\n",
       "0  GO:0003723         5  4.330000e-15         3.996168   \n",
       "1  GO:0003735         3  2.210000e-14         4.893587   \n",
       "2  GO:0005198         2  6.360000e-13         4.412251   \n",
       "3  GO:0005488         2  1.820000e-10         1.348980   \n",
       "4  GO:0016875         4  7.440000e-10         6.408269   \n",
       "\n",
       "   HitsGenesCountsInSelectedSet  HitsGenesCountsInBackground  \\\n",
       "0                            37                           89   \n",
       "1                            28                           55   \n",
       "2                            28                           61   \n",
       "3                           183                         1304   \n",
       "4                            14                           21   \n",
       "\n",
       "   AllGenesCountsInSelectedSet  AllGenesCountsInBackground  \\\n",
       "0                          258                        2480   \n",
       "1                          258                        2480   \n",
       "2                          258                        2480   \n",
       "3                          258                        2480   \n",
       "4                          258                        2480   \n",
       "\n",
       "                          GenesOfSelectedSetInGOterm  \\\n",
       "0  rplR,rplT,rplN,rplW,rplY,rplB,rplE,srmB,prfA,r...   \n",
       "1  rpmG,rplR,rplU,rplT,rplN,rplW,rplY,rplC,rplB,r...   \n",
       "2  rpmG,rplR,rplU,rplT,rplN,rplW,rplY,rplC,rplB,r...   \n",
       "3  minE,arcA,msrB,nusA,sspA,yqjD,hmp,fabI,wrbA,ac...   \n",
       "4  gltX,argS,glyS,pheT,ileS,trpS,cysS,hisS,tyrS,a...   \n",
       "\n",
       "   corrected p-value(BH method)  \n",
       "0                  2.650000e-12  \n",
       "1                  6.750000e-12  \n",
       "2                  1.290000e-10  \n",
       "3                  2.770000e-08  \n",
       "4                  9.090000e-08  "
      ]
     },
     "execution_count": 4,
     "metadata": {},
     "output_type": "execute_result"
    }
   ],
   "source": [
    "df_GoEnrich = pd.read_csv(\"GO_Enrichment_demo.csv\")\n",
    "df_GoEnrich.head()"
   ]
  },
  {
   "cell_type": "code",
   "execution_count": 5,
   "metadata": {},
   "outputs": [],
   "source": [
    "# 指定列\n",
    "df_BubbleChart = df_GoEnrich[['Class', 'GO_ID', 'GO_Name', 'HitsGenesCountsInSelectedSet', 'EnrichmentScore', 'corrected p-value(BH method)']]"
   ]
  },
  {
   "cell_type": "code",
   "execution_count": 7,
   "metadata": {},
   "outputs": [
    {
     "data": {
      "application/vnd.plotly.v1+json": {
       "config": {
        "plotlyServerURL": "https://plot.ly"
       },
       "data": [
        {
         "customdata": [
          [
           "GO:0005623",
           261,
           0.009446784
          ],
          [
           "GO:0044464",
           261,
           0.009446784
          ],
          [
           "GO:0005622",
           222,
           0
          ],
          [
           "GO:0044424",
           222,
           0
          ],
          [
           "GO:0005737",
           218,
           0
          ],
          [
           "GO:0044444",
           205,
           0
          ],
          [
           "GO:0005829",
           203,
           0
          ],
          [
           "GO:0032991",
           73,
           5.3e-7
          ]
         ],
         "hovertemplate": "<b>%{hovertext}</b><br><br>Enrichment Score=%{x}<br>GO_Function=%{y}<br>Counts=%{customdata[1]}<br>GO_ID=%{customdata[0]}<br>P.adjust=%{marker.color}<extra></extra>",
         "hovertext": [
          "Cellular component",
          "Cellular component",
          "Cellular component",
          "Cellular component",
          "Cellular component",
          "Cellular component",
          "Cellular component",
          "Cellular component"
         ],
         "legendgroup": "",
         "marker": {
          "color": [
           0.009446784,
           0.009446784,
           0,
           0,
           0,
           0,
           0,
           5.3e-7
          ],
          "coloraxis": "coloraxis",
          "opacity": 0.85,
          "size": [
           261,
           261,
           222,
           222,
           218,
           205,
           203,
           73
          ],
          "sizemode": "area",
          "sizeref": 0.29,
          "symbol": "circle"
         },
         "mode": "markers",
         "name": "",
         "orientation": "h",
         "showlegend": false,
         "type": "scatter",
         "x": [
          1.023364486,
          1.023364486,
          1.652447164,
          1.655116707,
          1.695126321,
          1.87710956,
          1.884976526,
          1.768455667
         ],
         "xaxis": "x",
         "y": [
          "obsolete cell",
          "obsolete cell part",
          "intracellular anatomical structure",
          "obsolete intracellular part",
          "cytoplasm",
          "obsolete cytoplasmic part",
          "cytosol",
          "protein-containing complex"
         ],
         "yaxis": "y"
        }
       ],
       "layout": {
        "coloraxis": {
         "colorbar": {
          "dtick": 0.005,
          "tickformat": ".3f",
          "title": {
           "text": "P.adjust"
          }
         },
         "colorscale": [
          [
           0,
           "rgb(0, 128, 128)"
          ],
          [
           0.16666666666666666,
           "rgb(112, 164, 148)"
          ],
          [
           0.3333333333333333,
           "rgb(180, 200, 168)"
          ],
          [
           0.5,
           "rgb(246, 237, 189)"
          ],
          [
           0.6666666666666666,
           "rgb(237, 187, 138)"
          ],
          [
           0.8333333333333334,
           "rgb(222, 138, 90)"
          ],
          [
           1,
           "rgb(202, 86, 44)"
          ]
         ]
        },
        "font": {
         "family": "Arial",
         "size": 14
        },
        "height": 600,
        "legend": {
         "itemsizing": "constant",
         "tracegroupgap": 0
        },
        "margin": {
         "t": 60
        },
        "template": {
         "data": {
          "bar": [
           {
            "error_x": {
             "color": "#2a3f5f"
            },
            "error_y": {
             "color": "#2a3f5f"
            },
            "marker": {
             "line": {
              "color": "white",
              "width": 0.5
             },
             "pattern": {
              "fillmode": "overlay",
              "size": 10,
              "solidity": 0.2
             }
            },
            "type": "bar"
           }
          ],
          "barpolar": [
           {
            "marker": {
             "line": {
              "color": "white",
              "width": 0.5
             },
             "pattern": {
              "fillmode": "overlay",
              "size": 10,
              "solidity": 0.2
             }
            },
            "type": "barpolar"
           }
          ],
          "carpet": [
           {
            "aaxis": {
             "endlinecolor": "#2a3f5f",
             "gridcolor": "#C8D4E3",
             "linecolor": "#C8D4E3",
             "minorgridcolor": "#C8D4E3",
             "startlinecolor": "#2a3f5f"
            },
            "baxis": {
             "endlinecolor": "#2a3f5f",
             "gridcolor": "#C8D4E3",
             "linecolor": "#C8D4E3",
             "minorgridcolor": "#C8D4E3",
             "startlinecolor": "#2a3f5f"
            },
            "type": "carpet"
           }
          ],
          "choropleth": [
           {
            "colorbar": {
             "outlinewidth": 0,
             "ticks": ""
            },
            "type": "choropleth"
           }
          ],
          "contour": [
           {
            "colorbar": {
             "outlinewidth": 0,
             "ticks": ""
            },
            "colorscale": [
             [
              0,
              "#0d0887"
             ],
             [
              0.1111111111111111,
              "#46039f"
             ],
             [
              0.2222222222222222,
              "#7201a8"
             ],
             [
              0.3333333333333333,
              "#9c179e"
             ],
             [
              0.4444444444444444,
              "#bd3786"
             ],
             [
              0.5555555555555556,
              "#d8576b"
             ],
             [
              0.6666666666666666,
              "#ed7953"
             ],
             [
              0.7777777777777778,
              "#fb9f3a"
             ],
             [
              0.8888888888888888,
              "#fdca26"
             ],
             [
              1,
              "#f0f921"
             ]
            ],
            "type": "contour"
           }
          ],
          "contourcarpet": [
           {
            "colorbar": {
             "outlinewidth": 0,
             "ticks": ""
            },
            "type": "contourcarpet"
           }
          ],
          "heatmap": [
           {
            "colorbar": {
             "outlinewidth": 0,
             "ticks": ""
            },
            "colorscale": [
             [
              0,
              "#0d0887"
             ],
             [
              0.1111111111111111,
              "#46039f"
             ],
             [
              0.2222222222222222,
              "#7201a8"
             ],
             [
              0.3333333333333333,
              "#9c179e"
             ],
             [
              0.4444444444444444,
              "#bd3786"
             ],
             [
              0.5555555555555556,
              "#d8576b"
             ],
             [
              0.6666666666666666,
              "#ed7953"
             ],
             [
              0.7777777777777778,
              "#fb9f3a"
             ],
             [
              0.8888888888888888,
              "#fdca26"
             ],
             [
              1,
              "#f0f921"
             ]
            ],
            "type": "heatmap"
           }
          ],
          "heatmapgl": [
           {
            "colorbar": {
             "outlinewidth": 0,
             "ticks": ""
            },
            "colorscale": [
             [
              0,
              "#0d0887"
             ],
             [
              0.1111111111111111,
              "#46039f"
             ],
             [
              0.2222222222222222,
              "#7201a8"
             ],
             [
              0.3333333333333333,
              "#9c179e"
             ],
             [
              0.4444444444444444,
              "#bd3786"
             ],
             [
              0.5555555555555556,
              "#d8576b"
             ],
             [
              0.6666666666666666,
              "#ed7953"
             ],
             [
              0.7777777777777778,
              "#fb9f3a"
             ],
             [
              0.8888888888888888,
              "#fdca26"
             ],
             [
              1,
              "#f0f921"
             ]
            ],
            "type": "heatmapgl"
           }
          ],
          "histogram": [
           {
            "marker": {
             "pattern": {
              "fillmode": "overlay",
              "size": 10,
              "solidity": 0.2
             }
            },
            "type": "histogram"
           }
          ],
          "histogram2d": [
           {
            "colorbar": {
             "outlinewidth": 0,
             "ticks": ""
            },
            "colorscale": [
             [
              0,
              "#0d0887"
             ],
             [
              0.1111111111111111,
              "#46039f"
             ],
             [
              0.2222222222222222,
              "#7201a8"
             ],
             [
              0.3333333333333333,
              "#9c179e"
             ],
             [
              0.4444444444444444,
              "#bd3786"
             ],
             [
              0.5555555555555556,
              "#d8576b"
             ],
             [
              0.6666666666666666,
              "#ed7953"
             ],
             [
              0.7777777777777778,
              "#fb9f3a"
             ],
             [
              0.8888888888888888,
              "#fdca26"
             ],
             [
              1,
              "#f0f921"
             ]
            ],
            "type": "histogram2d"
           }
          ],
          "histogram2dcontour": [
           {
            "colorbar": {
             "outlinewidth": 0,
             "ticks": ""
            },
            "colorscale": [
             [
              0,
              "#0d0887"
             ],
             [
              0.1111111111111111,
              "#46039f"
             ],
             [
              0.2222222222222222,
              "#7201a8"
             ],
             [
              0.3333333333333333,
              "#9c179e"
             ],
             [
              0.4444444444444444,
              "#bd3786"
             ],
             [
              0.5555555555555556,
              "#d8576b"
             ],
             [
              0.6666666666666666,
              "#ed7953"
             ],
             [
              0.7777777777777778,
              "#fb9f3a"
             ],
             [
              0.8888888888888888,
              "#fdca26"
             ],
             [
              1,
              "#f0f921"
             ]
            ],
            "type": "histogram2dcontour"
           }
          ],
          "mesh3d": [
           {
            "colorbar": {
             "outlinewidth": 0,
             "ticks": ""
            },
            "type": "mesh3d"
           }
          ],
          "parcoords": [
           {
            "line": {
             "colorbar": {
              "outlinewidth": 0,
              "ticks": ""
             }
            },
            "type": "parcoords"
           }
          ],
          "pie": [
           {
            "automargin": true,
            "type": "pie"
           }
          ],
          "scatter": [
           {
            "fillpattern": {
             "fillmode": "overlay",
             "size": 10,
             "solidity": 0.2
            },
            "type": "scatter"
           }
          ],
          "scatter3d": [
           {
            "line": {
             "colorbar": {
              "outlinewidth": 0,
              "ticks": ""
             }
            },
            "marker": {
             "colorbar": {
              "outlinewidth": 0,
              "ticks": ""
             }
            },
            "type": "scatter3d"
           }
          ],
          "scattercarpet": [
           {
            "marker": {
             "colorbar": {
              "outlinewidth": 0,
              "ticks": ""
             }
            },
            "type": "scattercarpet"
           }
          ],
          "scattergeo": [
           {
            "marker": {
             "colorbar": {
              "outlinewidth": 0,
              "ticks": ""
             }
            },
            "type": "scattergeo"
           }
          ],
          "scattergl": [
           {
            "marker": {
             "colorbar": {
              "outlinewidth": 0,
              "ticks": ""
             }
            },
            "type": "scattergl"
           }
          ],
          "scattermapbox": [
           {
            "marker": {
             "colorbar": {
              "outlinewidth": 0,
              "ticks": ""
             }
            },
            "type": "scattermapbox"
           }
          ],
          "scatterpolar": [
           {
            "marker": {
             "colorbar": {
              "outlinewidth": 0,
              "ticks": ""
             }
            },
            "type": "scatterpolar"
           }
          ],
          "scatterpolargl": [
           {
            "marker": {
             "colorbar": {
              "outlinewidth": 0,
              "ticks": ""
             }
            },
            "type": "scatterpolargl"
           }
          ],
          "scatterternary": [
           {
            "marker": {
             "colorbar": {
              "outlinewidth": 0,
              "ticks": ""
             }
            },
            "type": "scatterternary"
           }
          ],
          "surface": [
           {
            "colorbar": {
             "outlinewidth": 0,
             "ticks": ""
            },
            "colorscale": [
             [
              0,
              "#0d0887"
             ],
             [
              0.1111111111111111,
              "#46039f"
             ],
             [
              0.2222222222222222,
              "#7201a8"
             ],
             [
              0.3333333333333333,
              "#9c179e"
             ],
             [
              0.4444444444444444,
              "#bd3786"
             ],
             [
              0.5555555555555556,
              "#d8576b"
             ],
             [
              0.6666666666666666,
              "#ed7953"
             ],
             [
              0.7777777777777778,
              "#fb9f3a"
             ],
             [
              0.8888888888888888,
              "#fdca26"
             ],
             [
              1,
              "#f0f921"
             ]
            ],
            "type": "surface"
           }
          ],
          "table": [
           {
            "cells": {
             "fill": {
              "color": "#EBF0F8"
             },
             "line": {
              "color": "white"
             }
            },
            "header": {
             "fill": {
              "color": "#C8D4E3"
             },
             "line": {
              "color": "white"
             }
            },
            "type": "table"
           }
          ]
         },
         "layout": {
          "annotationdefaults": {
           "arrowcolor": "#2a3f5f",
           "arrowhead": 0,
           "arrowwidth": 1
          },
          "autotypenumbers": "strict",
          "coloraxis": {
           "colorbar": {
            "outlinewidth": 0,
            "ticks": ""
           }
          },
          "colorscale": {
           "diverging": [
            [
             0,
             "#8e0152"
            ],
            [
             0.1,
             "#c51b7d"
            ],
            [
             0.2,
             "#de77ae"
            ],
            [
             0.3,
             "#f1b6da"
            ],
            [
             0.4,
             "#fde0ef"
            ],
            [
             0.5,
             "#f7f7f7"
            ],
            [
             0.6,
             "#e6f5d0"
            ],
            [
             0.7,
             "#b8e186"
            ],
            [
             0.8,
             "#7fbc41"
            ],
            [
             0.9,
             "#4d9221"
            ],
            [
             1,
             "#276419"
            ]
           ],
           "sequential": [
            [
             0,
             "#0d0887"
            ],
            [
             0.1111111111111111,
             "#46039f"
            ],
            [
             0.2222222222222222,
             "#7201a8"
            ],
            [
             0.3333333333333333,
             "#9c179e"
            ],
            [
             0.4444444444444444,
             "#bd3786"
            ],
            [
             0.5555555555555556,
             "#d8576b"
            ],
            [
             0.6666666666666666,
             "#ed7953"
            ],
            [
             0.7777777777777778,
             "#fb9f3a"
            ],
            [
             0.8888888888888888,
             "#fdca26"
            ],
            [
             1,
             "#f0f921"
            ]
           ],
           "sequentialminus": [
            [
             0,
             "#0d0887"
            ],
            [
             0.1111111111111111,
             "#46039f"
            ],
            [
             0.2222222222222222,
             "#7201a8"
            ],
            [
             0.3333333333333333,
             "#9c179e"
            ],
            [
             0.4444444444444444,
             "#bd3786"
            ],
            [
             0.5555555555555556,
             "#d8576b"
            ],
            [
             0.6666666666666666,
             "#ed7953"
            ],
            [
             0.7777777777777778,
             "#fb9f3a"
            ],
            [
             0.8888888888888888,
             "#fdca26"
            ],
            [
             1,
             "#f0f921"
            ]
           ]
          },
          "colorway": [
           "#636efa",
           "#EF553B",
           "#00cc96",
           "#ab63fa",
           "#FFA15A",
           "#19d3f3",
           "#FF6692",
           "#B6E880",
           "#FF97FF",
           "#FECB52"
          ],
          "font": {
           "color": "#2a3f5f"
          },
          "geo": {
           "bgcolor": "white",
           "lakecolor": "white",
           "landcolor": "white",
           "showlakes": true,
           "showland": true,
           "subunitcolor": "#C8D4E3"
          },
          "hoverlabel": {
           "align": "left"
          },
          "hovermode": "closest",
          "mapbox": {
           "style": "light"
          },
          "paper_bgcolor": "white",
          "plot_bgcolor": "white",
          "polar": {
           "angularaxis": {
            "gridcolor": "#EBF0F8",
            "linecolor": "#EBF0F8",
            "ticks": ""
           },
           "bgcolor": "white",
           "radialaxis": {
            "gridcolor": "#EBF0F8",
            "linecolor": "#EBF0F8",
            "ticks": ""
           }
          },
          "scene": {
           "xaxis": {
            "backgroundcolor": "white",
            "gridcolor": "#DFE8F3",
            "gridwidth": 2,
            "linecolor": "#EBF0F8",
            "showbackground": true,
            "ticks": "",
            "zerolinecolor": "#EBF0F8"
           },
           "yaxis": {
            "backgroundcolor": "white",
            "gridcolor": "#DFE8F3",
            "gridwidth": 2,
            "linecolor": "#EBF0F8",
            "showbackground": true,
            "ticks": "",
            "zerolinecolor": "#EBF0F8"
           },
           "zaxis": {
            "backgroundcolor": "white",
            "gridcolor": "#DFE8F3",
            "gridwidth": 2,
            "linecolor": "#EBF0F8",
            "showbackground": true,
            "ticks": "",
            "zerolinecolor": "#EBF0F8"
           }
          },
          "shapedefaults": {
           "line": {
            "color": "#2a3f5f"
           }
          },
          "ternary": {
           "aaxis": {
            "gridcolor": "#DFE8F3",
            "linecolor": "#A2B1C6",
            "ticks": ""
           },
           "baxis": {
            "gridcolor": "#DFE8F3",
            "linecolor": "#A2B1C6",
            "ticks": ""
           },
           "bgcolor": "white",
           "caxis": {
            "gridcolor": "#DFE8F3",
            "linecolor": "#A2B1C6",
            "ticks": ""
           }
          },
          "title": {
           "x": 0.05
          },
          "xaxis": {
           "automargin": true,
           "gridcolor": "#EBF0F8",
           "linecolor": "#EBF0F8",
           "ticks": "",
           "title": {
            "standoff": 15
           },
           "zerolinecolor": "#EBF0F8",
           "zerolinewidth": 2
          },
          "yaxis": {
           "automargin": true,
           "gridcolor": "#EBF0F8",
           "linecolor": "#EBF0F8",
           "ticks": "",
           "title": {
            "standoff": 15
           },
           "zerolinecolor": "#EBF0F8",
           "zerolinewidth": 2
          }
         }
        },
        "title": {
         "text": "GO Enrichment Analysis"
        },
        "width": 900,
        "xaxis": {
         "anchor": "y",
         "domain": [
          0,
          1
         ],
         "title": {
          "text": "Enrichment Score"
         }
        },
        "yaxis": {
         "anchor": "x",
         "autorange": "reversed",
         "domain": [
          0,
          1
         ],
         "title": {
          "text": "GO_Function"
         }
        }
       }
      }
     },
     "metadata": {},
     "output_type": "display_data"
    }
   ],
   "source": [
    "BubbleChart(df_BubbleChart, 'Geyser', 50, 30, 'CC',width=900, height=600)"
   ]
  }
 ],
 "metadata": {
  "kernelspec": {
   "display_name": "py37_plot",
   "language": "python",
   "name": "python3"
  },
  "language_info": {
   "codemirror_mode": {
    "name": "ipython",
    "version": 3
   },
   "file_extension": ".py",
   "mimetype": "text/x-python",
   "name": "python",
   "nbconvert_exporter": "python",
   "pygments_lexer": "ipython3",
   "version": "3.10.0"
  },
  "orig_nbformat": 4
 },
 "nbformat": 4,
 "nbformat_minor": 2
}
