{
 "cells": [
  {
   "cell_type": "code",
   "execution_count": 50,
   "metadata": {},
   "outputs": [],
   "source": [
    "import pandas as pd\n",
    "import plotly.graph_objects as go\n",
    "import networkx as nx\n",
    "\n",
    "def create_gene_network(df,color):\n",
    "\n",
    "    # 计算相关性\n",
    "    correlation_matrix = df.transpose().corr()\n",
    "\n",
    "    # 使用networkx创建一个网络图\n",
    "    G = nx.Graph()\n",
    "    for gene1 in df.index:\n",
    "        for gene2 in df.index:\n",
    "            if gene1 != gene2:\n",
    "                G.add_edge(gene1, gene2, weight=correlation_matrix.loc[gene1, gene2])\n",
    "\n",
    "    # 为了可视化，我们可能只想显示高相关性的基因对\n",
    "    threshold = 0.6\n",
    "    edges = [(u, v) for (u, v, d) in G.edges(data=True) if abs(d['weight']) > threshold]\n",
    "    G = G.edge_subgraph(edges).copy()  # 使用edges创建一个新的图，并使用copy()避免状态问题\n",
    "\n",
    "    # 生成节点的位置\n",
    "    pos = nx.spring_layout(G)  # 所有节点的位置\n",
    "\n",
    "    # 将位置作为节点属性添加到G中\n",
    "    for node in G.nodes():\n",
    "        G.nodes[node]['pos'] = pos[node]\n",
    "\n",
    "    # 使用plotly创建网络图\n",
    "    edge_x = []\n",
    "    edge_y = []\n",
    "    for edge in G.edges():\n",
    "        x0, y0 = G.nodes[edge[0]]['pos']\n",
    "        x1, y1 = G.nodes[edge[1]]['pos']\n",
    "        edge_x.append(x0)\n",
    "        edge_x.append(x1)\n",
    "        edge_x.append(None)\n",
    "        edge_y.append(y0)\n",
    "        edge_y.append(y1)\n",
    "        edge_y.append(None)\n",
    "\n",
    "    edge_trace = go.Scatter(\n",
    "        x=edge_x, y=edge_y,\n",
    "        line=dict(width=0.5, color='#888'),\n",
    "        hoverinfo='none',\n",
    "        mode='lines')\n",
    "\n",
    "    node_x = []\n",
    "    node_y = []\n",
    "    for node in G.nodes():\n",
    "        x, y = G.nodes[node]['pos']\n",
    "        node_x.append(x)\n",
    "        node_y.append(y)\n",
    "\n",
    "    node_trace = go.Scatter(\n",
    "        x=node_x, y=node_y,\n",
    "        mode='markers',\n",
    "        hoverinfo='text',\n",
    "        marker=dict(\n",
    "            showscale=True,\n",
    "            colorscale=color,\n",
    "            size=10,\n",
    "            colorbar=dict(\n",
    "                thickness=15,\n",
    "                title='Node Connections',\n",
    "                xanchor='left',\n",
    "                titleside='right'\n",
    "            ),\n",
    "            line_width=2))\n",
    "\n",
    "    node_adjacencies = []\n",
    "    node_text = []\n",
    "    for node, adjacencies in enumerate(G.adjacency()):\n",
    "        node_adjacencies.append(len(adjacencies[1]))\n",
    "        node_text.append(adjacencies[0])\n",
    "\n",
    "    node_trace.marker.color = node_adjacencies\n",
    "    node_trace.text = node_text\n",
    "\n",
    "    fig = go.Figure(data=[edge_trace, node_trace],\n",
    "                    layout=go.Layout(\n",
    "                        title='Gene Co-expression Network',\n",
    "                        showlegend=False,\n",
    "                        hovermode='closest',\n",
    "                        margin=dict(b=0, l=0, r=0, t=40),\n",
    "                        annotations=[\n",
    "                            dict(\n",
    "                                text=\"\",\n",
    "                                showarrow=False,\n",
    "                                xref=\"paper\", yref=\"paper\",\n",
    "                                x=0.005, y=-0.002)\n",
    "                        ],\n",
    "                        xaxis=dict(showgrid=False, zeroline=False, showticklabels=False),\n",
    "                        yaxis=dict(showgrid=False, zeroline=False, showticklabels=False))\n",
    "                    )\n",
    "\n",
    "    # 定义fig的布局，设置宽度和高度\n",
    "    fig.update_layout(\n",
    "        autosize=False,\n",
    "        width=800, \n",
    "        height=600,\n",
    "        template=\"plotly_white\"\n",
    "    )\n",
    "\n",
    "    fig.show()\n",
    "\n",
    "# 调用函数\n",
    "df = pd.read_csv('./demo-fpkm.csv', index_col=0)\n",
    "create_gene_network(df,'Portland')"
   ]
  },
  {
   "cell_type": "code",
   "execution_count": null,
   "metadata": {},
   "outputs": [],
   "source": [
    "import pandas as pd\n",
    "import plotly.graph_objects as go\n",
    "import networkx as nx\n",
    "\n",
    "def create_gene_network(df,color,bubble_size_ratio):\n",
    "\n",
    "    # 计算相关性\n",
    "    correlation_matrix = df.transpose().corr()\n",
    "\n",
    "    # 使用networkx创建一个网络图\n",
    "    G = nx.Graph()\n",
    "    for gene1 in df.index:\n",
    "        for gene2 in df.index:\n",
    "            if gene1 != gene2:\n",
    "                G.add_edge(gene1, gene2, weight=correlation_matrix.loc[gene1, gene2])\n",
    "\n",
    "    # 为了可视化，我们可能只想显示高相关性的基因对\n",
    "    threshold = 0.5 # 相关性系数\n",
    "    edges = [(u, v) for (u, v, d) in G.edges(data=True) if abs(d['weight']) > threshold]\n",
    "    G = G.edge_subgraph(edges).copy()  # 使用edges创建一个新的图，并使用copy()避免状态问题\n",
    "\n",
    "    # 生成节点的位置\n",
    "    pos = nx.spring_layout(G)  # 所有节点的位置\n",
    "\n",
    "    # 将位置作为节点属性添加到G中\n",
    "    for node in G.nodes():\n",
    "        G.nodes[node]['pos'] = pos[node]\n",
    "\n",
    "    # 使用plotly创建网络图\n",
    "    edge_x = []\n",
    "    edge_y = []\n",
    "    for edge in G.edges():\n",
    "        x0, y0 = G.nodes[edge[0]]['pos']\n",
    "        x1, y1 = G.nodes[edge[1]]['pos']\n",
    "        edge_x.append(x0)\n",
    "        edge_x.append(x1)\n",
    "        edge_x.append(None)\n",
    "        edge_y.append(y0)\n",
    "        edge_y.append(y1)\n",
    "        edge_y.append(None)\n",
    "\n",
    "    edge_trace = go.Scatter(\n",
    "        x=edge_x, y=edge_y,\n",
    "        line=dict(width=0.5, color='#888'),\n",
    "        hoverinfo='none',\n",
    "        mode='lines')\n",
    "\n",
    "    node_x = []\n",
    "    node_y = []\n",
    "    for node in G.nodes():\n",
    "        x, y = G.nodes[node]['pos']\n",
    "        node_x.append(x)\n",
    "        node_y.append(y)\n",
    "\n",
    "    node_trace = go.Scatter(\n",
    "        x=node_x, y=node_y,\n",
    "        mode='markers',\n",
    "        hoverinfo='text',\n",
    "        marker=dict(\n",
    "            showscale=True,\n",
    "            colorscale=color,\n",
    "            # 移除固定大小\n",
    "            # size=10,  # 这行不再需要\n",
    "            colorbar=dict(\n",
    "                thickness=15,\n",
    "                title='Node Connections',\n",
    "                xanchor='left',\n",
    "                titleside='right'\n",
    "            ),\n",
    "            line_width=2))\n",
    "\n",
    "    node_adjacencies = []\n",
    "    node_text = []\n",
    "    node_sizes = []  # 添加一个列表来存储基于节点连接数的大小\n",
    "    for node, adjacencies in enumerate(G.adjacency()):\n",
    "        node_adjacencies.append(len(adjacencies[1]))\n",
    "        node_text.append(adjacencies[0])\n",
    "        node_degree = len(adjacencies[1])\n",
    "        scaled_size = 10 + (node_degree * bubble_size_ratio)  # 基础大小为5，每个连接增加5个单位大小\n",
    "        node_sizes.append(scaled_size)\n",
    "\n",
    "    node_trace.marker.color = node_adjacencies\n",
    "    node_trace.text = node_text\n",
    "    node_trace.marker.size = node_sizes  # 更新marker的大小\n",
    "\n",
    "    \n",
    "    fig = go.Figure(data=[edge_trace, node_trace],\n",
    "                    layout=go.Layout(\n",
    "                        title='Gene Co-expression Network',\n",
    "                        showlegend=False,\n",
    "                        hovermode='closest',\n",
    "                        margin=dict(b=0, l=0, r=0, t=40),\n",
    "                        annotations=[\n",
    "                            dict(\n",
    "                                text=\"\",\n",
    "                                showarrow=False,\n",
    "                                xref=\"paper\", yref=\"paper\",\n",
    "                                x=0.005, y=-0.002)\n",
    "                        ],\n",
    "                        xaxis=dict(showgrid=False, zeroline=False, showticklabels=False),\n",
    "                        yaxis=dict(showgrid=False, zeroline=False, showticklabels=False))\n",
    "                    )\n",
    "\n",
    "    # 定义fig的布局，设置宽度和高度\n",
    "    fig.update_layout(\n",
    "        autosize=False,\n",
    "        width=800, \n",
    "        height=600,\n",
    "        template=\"plotly_white\"\n",
    "    )\n",
    "\n",
    "    fig.show()\n",
    "\n",
    "\n",
    "# 调用函数\n",
    "df = pd.read_csv('./demo-fpkm.csv', index_col=0)\n",
    "create_gene_network(df,'Portland',5)"
   ]
  },
  {
   "cell_type": "markdown",
   "metadata": {},
   "source": [
    "这张图是一个基因共表达网络，表示了基因之间的相关性。这种网络用于展示基因的活性是如何相互关联的，这有助于识别可能共同参与某一生物过程的基因集合。这里是这张图的一些关键特点：\n",
    "\n",
    "节点（Nodes）：每一个圆圈代表一个基因。例如，图中标记为 \"Mt15\" 的节点代表名为 \"Mt15\" 的基因。\n",
    "\n",
    "边（Edges）：连线表示两个基因之间的相关性。在此网络图中，一个边的存在意味着两个基因之间有高度的共表达关系。\n",
    "\n",
    "节点颜色：颜色代表节点的连接数，也叫“度”。深色的节点有更多的连接，而浅色的节点则有较少的连接。这意味着深色的节点在该共表达网络中与更多的基因高度相关。\n",
    "\n",
    "节点大小：所有节点似乎都有相同的大小。但在某些网络图中，节点的大小可能会变化以表示某种度量，例如基因的表达量。\n",
    "\n",
    "颜色条（Colorbar）：图的右边有一个颜色条，显示了节点颜色与其连接数之间的关系。例如，深蓝色代表有14个连接的节点。\n",
    "\n",
    "从这张图可以看出，有些基因（节点）与许多其他基因高度相关，而有些基因只与少数几个基因相关。具有很多连接的基因可能在某些生物过程中起到核心作用，因为它们与许多其他基因都有关联。\n",
    "\n",
    "总之，这种图为研究者提供了一个直观的方法，可以看到大量基因数据中的模式和关系，并可能帮助研究者识别重要的基因和基因之间的相互作用。"
   ]
  },
  {
   "cell_type": "code",
   "execution_count": 112,
   "metadata": {},
   "outputs": [
    {
     "data": {
      "application/vnd.plotly.v1+json": {
       "config": {
        "plotlyServerURL": "https://plot.ly"
       },
       "data": [
        {
         "hoverinfo": "none",
         "line": {
          "color": "red",
          "width": 0.3
         },
         "mode": "lines",
         "type": "scatter",
         "x": [
          0.17293256022640272,
          0.7469029272425438,
          null,
          0.17293256022640272,
          0.061369386751184966,
          null,
          0.17293256022640272,
          0.22994296269510311,
          null,
          0.17293256022640272,
          -0.2449511080038162,
          null,
          0.17293256022640272,
          -0.07169297453991112,
          null,
          0.17293256022640272,
          0.33240320786788463,
          null,
          0.17293256022640272,
          0.4448462308525796,
          null,
          0.17293256022640272,
          0.2518439584479981,
          null,
          -0.5319370245789142,
          -0.3480889921341722,
          null,
          -0.5319370245789142,
          0.6456607659979153,
          null,
          -0.02497906351275208,
          0.061369386751184966,
          null,
          -0.02497906351275208,
          -0.2449511080038162,
          null,
          -0.02497906351275208,
          0.33240320786788463,
          null,
          -0.02497906351275208,
          -0.16224918596110754,
          null,
          -0.02497906351275208,
          0.4448462308525796,
          null,
          0.7469029272425438,
          0.061369386751184966,
          null,
          0.7469029272425438,
          0.22994296269510311,
          null,
          0.7469029272425438,
          -0.2449511080038162,
          null,
          0.7469029272425438,
          -0.07169297453991112,
          null,
          0.7469029272425438,
          0.5125378579842159,
          null,
          0.7469029272425438,
          0.33240320786788463,
          null,
          0.7469029272425438,
          0.4448462308525796,
          null,
          0.7469029272425438,
          0.2518439584479981,
          null,
          0.061369386751184966,
          0.22994296269510311,
          null,
          0.061369386751184966,
          -0.2449511080038162,
          null,
          0.061369386751184966,
          -0.07169297453991112,
          null,
          0.061369386751184966,
          0.33240320786788463,
          null,
          0.061369386751184966,
          -0.16224918596110754,
          null,
          0.061369386751184966,
          0.4448462308525796,
          null,
          0.061369386751184966,
          0.2518439584479981,
          null,
          0.061369386751184966,
          -0.6840409998182574,
          null,
          0.22994296269510311,
          -0.2449511080038162,
          null,
          0.22994296269510311,
          -0.07169297453991112,
          null,
          0.22994296269510311,
          0.5125378579842159,
          null,
          0.22994296269510311,
          0.33240320786788463,
          null,
          0.22994296269510311,
          -0.16224918596110754,
          null,
          0.22994296269510311,
          0.4448462308525796,
          null,
          0.22994296269510311,
          0.2518439584479981,
          null,
          0.22994296269510311,
          -0.6840409998182574,
          null,
          -0.3480889921341722,
          0.6456607659979153,
          null,
          0.6349707235201729,
          -0.40023810935268644,
          null,
          -0.2449511080038162,
          -0.07169297453991112,
          null,
          -0.2449511080038162,
          0.5125378579842159,
          null,
          -0.2449511080038162,
          0.33240320786788463,
          null,
          -0.2449511080038162,
          -0.16224918596110754,
          null,
          -0.2449511080038162,
          0.4448462308525796,
          null,
          -0.2449511080038162,
          0.2518439584479981,
          null,
          -0.2449511080038162,
          -0.6840409998182574,
          null,
          -0.07169297453991112,
          0.5125378579842159,
          null,
          -0.07169297453991112,
          0.33240320786788463,
          null,
          -0.07169297453991112,
          0.2518439584479981,
          null,
          0.5125378579842159,
          0.2518439584479981,
          null,
          0.33240320786788463,
          -0.16224918596110754,
          null,
          0.33240320786788463,
          0.4448462308525796,
          null,
          0.33240320786788463,
          0.2518439584479981,
          null,
          -0.16224918596110754,
          0.4448462308525796,
          null,
          -0.16224918596110754,
          -0.6840409998182574,
          null,
          0.4448462308525796,
          0.2518439584479981,
          null,
          0.4448462308525796,
          -0.6840409998182574,
          null,
          0.2518439584479981,
          -0.6840409998182574,
          null,
          -0.6840409998182574,
          -0.40023810935268644,
          null
         ],
         "y": [
          0.5531920131429713,
          0.024043701567717714,
          null,
          0.5531920131429713,
          -0.3663095419546562,
          null,
          0.5531920131429713,
          0.07386376566095346,
          null,
          0.5531920131429713,
          0.13311829219131724,
          null,
          0.5531920131429713,
          0.4111509719625284,
          null,
          0.5531920131429713,
          -0.532980551616302,
          null,
          0.5531920131429713,
          -0.5450670433764502,
          null,
          0.5531920131429713,
          0.3527683347721751,
          null,
          0.12102269058644076,
          0.8053727064130061,
          null,
          0.12102269058644076,
          0.6127459175094095,
          null,
          -0.0545989703280133,
          -0.3663095419546562,
          null,
          -0.0545989703280133,
          0.13311829219131724,
          null,
          -0.0545989703280133,
          -0.532980551616302,
          null,
          -0.0545989703280133,
          -0.7305685807351368,
          null,
          -0.0545989703280133,
          -0.5450670433764502,
          null,
          0.024043701567717714,
          -0.3663095419546562,
          null,
          0.024043701567717714,
          0.07386376566095346,
          null,
          0.024043701567717714,
          0.13311829219131724,
          null,
          0.024043701567717714,
          0.4111509719625284,
          null,
          0.024043701567717714,
          0.5440849853990763,
          null,
          0.024043701567717714,
          -0.532980551616302,
          null,
          0.024043701567717714,
          -0.5450670433764502,
          null,
          0.024043701567717714,
          0.3527683347721751,
          null,
          -0.3663095419546562,
          0.07386376566095346,
          null,
          -0.3663095419546562,
          0.13311829219131724,
          null,
          -0.3663095419546562,
          0.4111509719625284,
          null,
          -0.3663095419546562,
          -0.532980551616302,
          null,
          -0.3663095419546562,
          -0.7305685807351368,
          null,
          -0.3663095419546562,
          -0.5450670433764502,
          null,
          -0.3663095419546562,
          0.3527683347721751,
          null,
          -0.3663095419546562,
          -0.14808014678022094,
          null,
          0.07386376566095346,
          0.13311829219131724,
          null,
          0.07386376566095346,
          0.4111509719625284,
          null,
          0.07386376566095346,
          0.5440849853990763,
          null,
          0.07386376566095346,
          -0.532980551616302,
          null,
          0.07386376566095346,
          -0.7305685807351368,
          null,
          0.07386376566095346,
          -0.5450670433764502,
          null,
          0.07386376566095346,
          0.3527683347721751,
          null,
          0.07386376566095346,
          -0.14808014678022094,
          null,
          0.8053727064130061,
          0.6127459175094095,
          null,
          0.08954985303300443,
          -0.6429552877181524,
          null,
          0.13311829219131724,
          0.4111509719625284,
          null,
          0.13311829219131724,
          0.5440849853990763,
          null,
          0.13311829219131724,
          -0.532980551616302,
          null,
          0.13311829219131724,
          -0.7305685807351368,
          null,
          0.13311829219131724,
          -0.5450670433764502,
          null,
          0.13311829219131724,
          0.3527683347721751,
          null,
          0.13311829219131724,
          -0.14808014678022094,
          null,
          0.4111509719625284,
          0.5440849853990763,
          null,
          0.4111509719625284,
          -0.532980551616302,
          null,
          0.4111509719625284,
          0.3527683347721751,
          null,
          0.5440849853990763,
          0.3527683347721751,
          null,
          -0.532980551616302,
          -0.7305685807351368,
          null,
          -0.532980551616302,
          -0.5450670433764502,
          null,
          -0.532980551616302,
          0.3527683347721751,
          null,
          -0.7305685807351368,
          -0.5450670433764502,
          null,
          -0.7305685807351368,
          -0.14808014678022094,
          null,
          -0.5450670433764502,
          0.3527683347721751,
          null,
          -0.5450670433764502,
          -0.14808014678022094,
          null,
          0.3527683347721751,
          -0.14808014678022094,
          null,
          -0.14808014678022094,
          -0.6429552877181524,
          null
         ]
        },
        {
         "hoverinfo": "none",
         "line": {
          "color": "blue",
          "width": 0.2
         },
         "mode": "lines",
         "type": "scatter",
         "x": [
          0.17293256022640272,
          -0.5319370245789142,
          null,
          0.17293256022640272,
          -0.3480889921341722,
          null,
          0.17293256022640272,
          -0.5652331236843822,
          null,
          0.17293256022640272,
          0.6456607659979153,
          null,
          -0.5319370245789142,
          -0.02497906351275208,
          null,
          -0.5319370245789142,
          0.7469029272425438,
          null,
          -0.5319370245789142,
          0.061369386751184966,
          null,
          -0.5319370245789142,
          0.22994296269510311,
          null,
          -0.5319370245789142,
          -0.2449511080038162,
          null,
          -0.5319370245789142,
          0.33240320786788463,
          null,
          -0.5319370245789142,
          -0.16224918596110754,
          null,
          -0.5319370245789142,
          0.4448462308525796,
          null,
          -0.5319370245789142,
          0.2518439584479981,
          null,
          -0.02497906351275208,
          -0.3480889921341722,
          null,
          -0.02497906351275208,
          0.6456607659979153,
          null,
          0.7469029272425438,
          -0.3480889921341722,
          null,
          0.7469029272425438,
          -0.5652331236843822,
          null,
          0.061369386751184966,
          -0.3480889921341722,
          null,
          0.061369386751184966,
          0.6456607659979153,
          null,
          -1,
          0.6349707235201729,
          null,
          0.22994296269510311,
          -0.3480889921341722,
          null,
          0.22994296269510311,
          -0.5652331236843822,
          null,
          0.22994296269510311,
          0.6456607659979153,
          null,
          -0.3480889921341722,
          -0.2449511080038162,
          null,
          -0.3480889921341722,
          -0.07169297453991112,
          null,
          -0.3480889921341722,
          0.33240320786788463,
          null,
          -0.3480889921341722,
          -0.16224918596110754,
          null,
          -0.3480889921341722,
          0.4448462308525796,
          null,
          -0.3480889921341722,
          0.2518439584479981,
          null,
          -0.3480889921341722,
          -0.6840409998182574,
          null,
          -0.2449511080038162,
          0.6456607659979153,
          null,
          -0.07169297453991112,
          -0.5652331236843822,
          null,
          0.5125378579842159,
          -0.5652331236843822,
          null,
          0.33240320786788463,
          0.6456607659979153,
          null,
          -0.16224918596110754,
          0.6456607659979153,
          null,
          0.4448462308525796,
          0.6456607659979153,
          null,
          0.2518439584479981,
          0.6456607659979153,
          null,
          0.6456607659979153,
          -0.6840409998182574,
          null
         ],
         "y": [
          0.5531920131429713,
          0.12102269058644076,
          null,
          0.5531920131429713,
          0.8053727064130061,
          null,
          0.5531920131429713,
          -0.42525011409216823,
          null,
          0.5531920131429713,
          0.6127459175094095,
          null,
          0.12102269058644076,
          -0.0545989703280133,
          null,
          0.12102269058644076,
          0.024043701567717714,
          null,
          0.12102269058644076,
          -0.3663095419546562,
          null,
          0.12102269058644076,
          0.07386376566095346,
          null,
          0.12102269058644076,
          0.13311829219131724,
          null,
          0.12102269058644076,
          -0.532980551616302,
          null,
          0.12102269058644076,
          -0.7305685807351368,
          null,
          0.12102269058644076,
          -0.5450670433764502,
          null,
          0.12102269058644076,
          0.3527683347721751,
          null,
          -0.0545989703280133,
          0.8053727064130061,
          null,
          -0.0545989703280133,
          0.6127459175094095,
          null,
          0.024043701567717714,
          0.8053727064130061,
          null,
          0.024043701567717714,
          -0.42525011409216823,
          null,
          -0.3663095419546562,
          0.8053727064130061,
          null,
          -0.3663095419546562,
          0.6127459175094095,
          null,
          -0.27510299563750024,
          0.08954985303300443,
          null,
          0.07386376566095346,
          0.8053727064130061,
          null,
          0.07386376566095346,
          -0.42525011409216823,
          null,
          0.07386376566095346,
          0.6127459175094095,
          null,
          0.8053727064130061,
          0.13311829219131724,
          null,
          0.8053727064130061,
          0.4111509719625284,
          null,
          0.8053727064130061,
          -0.532980551616302,
          null,
          0.8053727064130061,
          -0.7305685807351368,
          null,
          0.8053727064130061,
          -0.5450670433764502,
          null,
          0.8053727064130061,
          0.3527683347721751,
          null,
          0.8053727064130061,
          -0.14808014678022094,
          null,
          0.13311829219131724,
          0.6127459175094095,
          null,
          0.4111509719625284,
          -0.42525011409216823,
          null,
          0.5440849853990763,
          -0.42525011409216823,
          null,
          -0.532980551616302,
          0.6127459175094095,
          null,
          -0.7305685807351368,
          0.6127459175094095,
          null,
          -0.5450670433764502,
          0.6127459175094095,
          null,
          0.3527683347721751,
          0.6127459175094095,
          null,
          0.6127459175094095,
          -0.14808014678022094,
          null
         ]
        },
        {
         "hoverinfo": "text",
         "marker": {
          "color": [
           12,
           12,
           8,
           12,
           14,
           1,
           15,
           14,
           2,
           15,
           10,
           6,
           5,
           13,
           10,
           13,
           13,
           12,
           9,
           2
          ],
          "colorbar": {
           "thickness": 15,
           "title": {
            "side": "right",
            "text": "Node Connections"
           },
           "xanchor": "left"
          },
          "colorscale": [
           [
            0,
            "rgb(12,51,131)"
           ],
           [
            0.25,
            "rgb(10,136,186)"
           ],
           [
            0.5,
            "rgb(242,211,56)"
           ],
           [
            0.75,
            "rgb(242,143,56)"
           ],
           [
            1,
            "rgb(217,30,30)"
           ]
          ],
          "line": {
           "width": 2
          },
          "showscale": true,
          "size": [
           27,
           27,
           23,
           27,
           29,
           16,
           30,
           29,
           17,
           30,
           25,
           21,
           20,
           28,
           25,
           28,
           28,
           27,
           24,
           17
          ]
         },
         "mode": "markers",
         "text": [
          "Mt1",
          "Mt2",
          "Mt3",
          "Mt4",
          "Mt5",
          "Mt6",
          "Mt7",
          "Mt8",
          "Mt9",
          "Mt10",
          "Mt11",
          "Mt12",
          "Mt13",
          "Mt14",
          "Mt15",
          "Mt16",
          "Mt17",
          "Mt18",
          "Mt19",
          "Mt20"
         ],
         "type": "scatter",
         "x": [
          0.17293256022640272,
          -0.5319370245789142,
          -0.02497906351275208,
          0.7469029272425438,
          0.061369386751184966,
          -1,
          0.22994296269510311,
          -0.3480889921341722,
          0.6349707235201729,
          -0.2449511080038162,
          -0.07169297453991112,
          0.5125378579842159,
          -0.5652331236843822,
          0.33240320786788463,
          -0.16224918596110754,
          0.4448462308525796,
          0.2518439584479981,
          0.6456607659979153,
          -0.6840409998182574,
          -0.40023810935268644
         ],
         "y": [
          0.5531920131429713,
          0.12102269058644076,
          -0.0545989703280133,
          0.024043701567717714,
          -0.3663095419546562,
          -0.27510299563750024,
          0.07386376566095346,
          0.8053727064130061,
          0.08954985303300443,
          0.13311829219131724,
          0.4111509719625284,
          0.5440849853990763,
          -0.42525011409216823,
          -0.532980551616302,
          -0.7305685807351368,
          -0.5450670433764502,
          0.3527683347721751,
          0.6127459175094095,
          -0.14808014678022094,
          -0.6429552877181524
         ]
        }
       ],
       "layout": {
        "annotations": [
         {
          "showarrow": false,
          "text": "",
          "x": 0.005,
          "xref": "paper",
          "y": -0.002,
          "yref": "paper"
         }
        ],
        "autosize": false,
        "height": 600,
        "hovermode": "closest",
        "margin": {
         "b": 0,
         "l": 0,
         "r": 0,
         "t": 40
        },
        "showlegend": false,
        "template": {
         "data": {
          "bar": [
           {
            "error_x": {
             "color": "#2a3f5f"
            },
            "error_y": {
             "color": "#2a3f5f"
            },
            "marker": {
             "line": {
              "color": "white",
              "width": 0.5
             },
             "pattern": {
              "fillmode": "overlay",
              "size": 10,
              "solidity": 0.2
             }
            },
            "type": "bar"
           }
          ],
          "barpolar": [
           {
            "marker": {
             "line": {
              "color": "white",
              "width": 0.5
             },
             "pattern": {
              "fillmode": "overlay",
              "size": 10,
              "solidity": 0.2
             }
            },
            "type": "barpolar"
           }
          ],
          "carpet": [
           {
            "aaxis": {
             "endlinecolor": "#2a3f5f",
             "gridcolor": "#C8D4E3",
             "linecolor": "#C8D4E3",
             "minorgridcolor": "#C8D4E3",
             "startlinecolor": "#2a3f5f"
            },
            "baxis": {
             "endlinecolor": "#2a3f5f",
             "gridcolor": "#C8D4E3",
             "linecolor": "#C8D4E3",
             "minorgridcolor": "#C8D4E3",
             "startlinecolor": "#2a3f5f"
            },
            "type": "carpet"
           }
          ],
          "choropleth": [
           {
            "colorbar": {
             "outlinewidth": 0,
             "ticks": ""
            },
            "type": "choropleth"
           }
          ],
          "contour": [
           {
            "colorbar": {
             "outlinewidth": 0,
             "ticks": ""
            },
            "colorscale": [
             [
              0,
              "#0d0887"
             ],
             [
              0.1111111111111111,
              "#46039f"
             ],
             [
              0.2222222222222222,
              "#7201a8"
             ],
             [
              0.3333333333333333,
              "#9c179e"
             ],
             [
              0.4444444444444444,
              "#bd3786"
             ],
             [
              0.5555555555555556,
              "#d8576b"
             ],
             [
              0.6666666666666666,
              "#ed7953"
             ],
             [
              0.7777777777777778,
              "#fb9f3a"
             ],
             [
              0.8888888888888888,
              "#fdca26"
             ],
             [
              1,
              "#f0f921"
             ]
            ],
            "type": "contour"
           }
          ],
          "contourcarpet": [
           {
            "colorbar": {
             "outlinewidth": 0,
             "ticks": ""
            },
            "type": "contourcarpet"
           }
          ],
          "heatmap": [
           {
            "colorbar": {
             "outlinewidth": 0,
             "ticks": ""
            },
            "colorscale": [
             [
              0,
              "#0d0887"
             ],
             [
              0.1111111111111111,
              "#46039f"
             ],
             [
              0.2222222222222222,
              "#7201a8"
             ],
             [
              0.3333333333333333,
              "#9c179e"
             ],
             [
              0.4444444444444444,
              "#bd3786"
             ],
             [
              0.5555555555555556,
              "#d8576b"
             ],
             [
              0.6666666666666666,
              "#ed7953"
             ],
             [
              0.7777777777777778,
              "#fb9f3a"
             ],
             [
              0.8888888888888888,
              "#fdca26"
             ],
             [
              1,
              "#f0f921"
             ]
            ],
            "type": "heatmap"
           }
          ],
          "heatmapgl": [
           {
            "colorbar": {
             "outlinewidth": 0,
             "ticks": ""
            },
            "colorscale": [
             [
              0,
              "#0d0887"
             ],
             [
              0.1111111111111111,
              "#46039f"
             ],
             [
              0.2222222222222222,
              "#7201a8"
             ],
             [
              0.3333333333333333,
              "#9c179e"
             ],
             [
              0.4444444444444444,
              "#bd3786"
             ],
             [
              0.5555555555555556,
              "#d8576b"
             ],
             [
              0.6666666666666666,
              "#ed7953"
             ],
             [
              0.7777777777777778,
              "#fb9f3a"
             ],
             [
              0.8888888888888888,
              "#fdca26"
             ],
             [
              1,
              "#f0f921"
             ]
            ],
            "type": "heatmapgl"
           }
          ],
          "histogram": [
           {
            "marker": {
             "pattern": {
              "fillmode": "overlay",
              "size": 10,
              "solidity": 0.2
             }
            },
            "type": "histogram"
           }
          ],
          "histogram2d": [
           {
            "colorbar": {
             "outlinewidth": 0,
             "ticks": ""
            },
            "colorscale": [
             [
              0,
              "#0d0887"
             ],
             [
              0.1111111111111111,
              "#46039f"
             ],
             [
              0.2222222222222222,
              "#7201a8"
             ],
             [
              0.3333333333333333,
              "#9c179e"
             ],
             [
              0.4444444444444444,
              "#bd3786"
             ],
             [
              0.5555555555555556,
              "#d8576b"
             ],
             [
              0.6666666666666666,
              "#ed7953"
             ],
             [
              0.7777777777777778,
              "#fb9f3a"
             ],
             [
              0.8888888888888888,
              "#fdca26"
             ],
             [
              1,
              "#f0f921"
             ]
            ],
            "type": "histogram2d"
           }
          ],
          "histogram2dcontour": [
           {
            "colorbar": {
             "outlinewidth": 0,
             "ticks": ""
            },
            "colorscale": [
             [
              0,
              "#0d0887"
             ],
             [
              0.1111111111111111,
              "#46039f"
             ],
             [
              0.2222222222222222,
              "#7201a8"
             ],
             [
              0.3333333333333333,
              "#9c179e"
             ],
             [
              0.4444444444444444,
              "#bd3786"
             ],
             [
              0.5555555555555556,
              "#d8576b"
             ],
             [
              0.6666666666666666,
              "#ed7953"
             ],
             [
              0.7777777777777778,
              "#fb9f3a"
             ],
             [
              0.8888888888888888,
              "#fdca26"
             ],
             [
              1,
              "#f0f921"
             ]
            ],
            "type": "histogram2dcontour"
           }
          ],
          "mesh3d": [
           {
            "colorbar": {
             "outlinewidth": 0,
             "ticks": ""
            },
            "type": "mesh3d"
           }
          ],
          "parcoords": [
           {
            "line": {
             "colorbar": {
              "outlinewidth": 0,
              "ticks": ""
             }
            },
            "type": "parcoords"
           }
          ],
          "pie": [
           {
            "automargin": true,
            "type": "pie"
           }
          ],
          "scatter": [
           {
            "fillpattern": {
             "fillmode": "overlay",
             "size": 10,
             "solidity": 0.2
            },
            "type": "scatter"
           }
          ],
          "scatter3d": [
           {
            "line": {
             "colorbar": {
              "outlinewidth": 0,
              "ticks": ""
             }
            },
            "marker": {
             "colorbar": {
              "outlinewidth": 0,
              "ticks": ""
             }
            },
            "type": "scatter3d"
           }
          ],
          "scattercarpet": [
           {
            "marker": {
             "colorbar": {
              "outlinewidth": 0,
              "ticks": ""
             }
            },
            "type": "scattercarpet"
           }
          ],
          "scattergeo": [
           {
            "marker": {
             "colorbar": {
              "outlinewidth": 0,
              "ticks": ""
             }
            },
            "type": "scattergeo"
           }
          ],
          "scattergl": [
           {
            "marker": {
             "colorbar": {
              "outlinewidth": 0,
              "ticks": ""
             }
            },
            "type": "scattergl"
           }
          ],
          "scattermapbox": [
           {
            "marker": {
             "colorbar": {
              "outlinewidth": 0,
              "ticks": ""
             }
            },
            "type": "scattermapbox"
           }
          ],
          "scatterpolar": [
           {
            "marker": {
             "colorbar": {
              "outlinewidth": 0,
              "ticks": ""
             }
            },
            "type": "scatterpolar"
           }
          ],
          "scatterpolargl": [
           {
            "marker": {
             "colorbar": {
              "outlinewidth": 0,
              "ticks": ""
             }
            },
            "type": "scatterpolargl"
           }
          ],
          "scatterternary": [
           {
            "marker": {
             "colorbar": {
              "outlinewidth": 0,
              "ticks": ""
             }
            },
            "type": "scatterternary"
           }
          ],
          "surface": [
           {
            "colorbar": {
             "outlinewidth": 0,
             "ticks": ""
            },
            "colorscale": [
             [
              0,
              "#0d0887"
             ],
             [
              0.1111111111111111,
              "#46039f"
             ],
             [
              0.2222222222222222,
              "#7201a8"
             ],
             [
              0.3333333333333333,
              "#9c179e"
             ],
             [
              0.4444444444444444,
              "#bd3786"
             ],
             [
              0.5555555555555556,
              "#d8576b"
             ],
             [
              0.6666666666666666,
              "#ed7953"
             ],
             [
              0.7777777777777778,
              "#fb9f3a"
             ],
             [
              0.8888888888888888,
              "#fdca26"
             ],
             [
              1,
              "#f0f921"
             ]
            ],
            "type": "surface"
           }
          ],
          "table": [
           {
            "cells": {
             "fill": {
              "color": "#EBF0F8"
             },
             "line": {
              "color": "white"
             }
            },
            "header": {
             "fill": {
              "color": "#C8D4E3"
             },
             "line": {
              "color": "white"
             }
            },
            "type": "table"
           }
          ]
         },
         "layout": {
          "annotationdefaults": {
           "arrowcolor": "#2a3f5f",
           "arrowhead": 0,
           "arrowwidth": 1
          },
          "autotypenumbers": "strict",
          "coloraxis": {
           "colorbar": {
            "outlinewidth": 0,
            "ticks": ""
           }
          },
          "colorscale": {
           "diverging": [
            [
             0,
             "#8e0152"
            ],
            [
             0.1,
             "#c51b7d"
            ],
            [
             0.2,
             "#de77ae"
            ],
            [
             0.3,
             "#f1b6da"
            ],
            [
             0.4,
             "#fde0ef"
            ],
            [
             0.5,
             "#f7f7f7"
            ],
            [
             0.6,
             "#e6f5d0"
            ],
            [
             0.7,
             "#b8e186"
            ],
            [
             0.8,
             "#7fbc41"
            ],
            [
             0.9,
             "#4d9221"
            ],
            [
             1,
             "#276419"
            ]
           ],
           "sequential": [
            [
             0,
             "#0d0887"
            ],
            [
             0.1111111111111111,
             "#46039f"
            ],
            [
             0.2222222222222222,
             "#7201a8"
            ],
            [
             0.3333333333333333,
             "#9c179e"
            ],
            [
             0.4444444444444444,
             "#bd3786"
            ],
            [
             0.5555555555555556,
             "#d8576b"
            ],
            [
             0.6666666666666666,
             "#ed7953"
            ],
            [
             0.7777777777777778,
             "#fb9f3a"
            ],
            [
             0.8888888888888888,
             "#fdca26"
            ],
            [
             1,
             "#f0f921"
            ]
           ],
           "sequentialminus": [
            [
             0,
             "#0d0887"
            ],
            [
             0.1111111111111111,
             "#46039f"
            ],
            [
             0.2222222222222222,
             "#7201a8"
            ],
            [
             0.3333333333333333,
             "#9c179e"
            ],
            [
             0.4444444444444444,
             "#bd3786"
            ],
            [
             0.5555555555555556,
             "#d8576b"
            ],
            [
             0.6666666666666666,
             "#ed7953"
            ],
            [
             0.7777777777777778,
             "#fb9f3a"
            ],
            [
             0.8888888888888888,
             "#fdca26"
            ],
            [
             1,
             "#f0f921"
            ]
           ]
          },
          "colorway": [
           "#636efa",
           "#EF553B",
           "#00cc96",
           "#ab63fa",
           "#FFA15A",
           "#19d3f3",
           "#FF6692",
           "#B6E880",
           "#FF97FF",
           "#FECB52"
          ],
          "font": {
           "color": "#2a3f5f"
          },
          "geo": {
           "bgcolor": "white",
           "lakecolor": "white",
           "landcolor": "white",
           "showlakes": true,
           "showland": true,
           "subunitcolor": "#C8D4E3"
          },
          "hoverlabel": {
           "align": "left"
          },
          "hovermode": "closest",
          "mapbox": {
           "style": "light"
          },
          "paper_bgcolor": "white",
          "plot_bgcolor": "white",
          "polar": {
           "angularaxis": {
            "gridcolor": "#EBF0F8",
            "linecolor": "#EBF0F8",
            "ticks": ""
           },
           "bgcolor": "white",
           "radialaxis": {
            "gridcolor": "#EBF0F8",
            "linecolor": "#EBF0F8",
            "ticks": ""
           }
          },
          "scene": {
           "xaxis": {
            "backgroundcolor": "white",
            "gridcolor": "#DFE8F3",
            "gridwidth": 2,
            "linecolor": "#EBF0F8",
            "showbackground": true,
            "ticks": "",
            "zerolinecolor": "#EBF0F8"
           },
           "yaxis": {
            "backgroundcolor": "white",
            "gridcolor": "#DFE8F3",
            "gridwidth": 2,
            "linecolor": "#EBF0F8",
            "showbackground": true,
            "ticks": "",
            "zerolinecolor": "#EBF0F8"
           },
           "zaxis": {
            "backgroundcolor": "white",
            "gridcolor": "#DFE8F3",
            "gridwidth": 2,
            "linecolor": "#EBF0F8",
            "showbackground": true,
            "ticks": "",
            "zerolinecolor": "#EBF0F8"
           }
          },
          "shapedefaults": {
           "line": {
            "color": "#2a3f5f"
           }
          },
          "ternary": {
           "aaxis": {
            "gridcolor": "#DFE8F3",
            "linecolor": "#A2B1C6",
            "ticks": ""
           },
           "baxis": {
            "gridcolor": "#DFE8F3",
            "linecolor": "#A2B1C6",
            "ticks": ""
           },
           "bgcolor": "white",
           "caxis": {
            "gridcolor": "#DFE8F3",
            "linecolor": "#A2B1C6",
            "ticks": ""
           }
          },
          "title": {
           "x": 0.05
          },
          "xaxis": {
           "automargin": true,
           "gridcolor": "#EBF0F8",
           "linecolor": "#EBF0F8",
           "ticks": "",
           "title": {
            "standoff": 15
           },
           "zerolinecolor": "#EBF0F8",
           "zerolinewidth": 2
          },
          "yaxis": {
           "automargin": true,
           "gridcolor": "#EBF0F8",
           "linecolor": "#EBF0F8",
           "ticks": "",
           "title": {
            "standoff": 15
           },
           "zerolinecolor": "#EBF0F8",
           "zerolinewidth": 2
          }
         }
        },
        "title": {
         "text": "Gene Co-expression Network"
        },
        "width": 800,
        "xaxis": {
         "showgrid": false,
         "showticklabels": false,
         "zeroline": false
        },
        "yaxis": {
         "showgrid": false,
         "showticklabels": false,
         "zeroline": false
        }
       }
      }
     },
     "metadata": {},
     "output_type": "display_data"
    }
   ],
   "source": [
    "import pandas as pd\n",
    "import plotly.graph_objects as go\n",
    "import networkx as nx\n",
    "\n",
    "def create_gene_network(df,color,bubble_size_ratio,k_value,iterations_value):\n",
    "\n",
    "    # 计算相关性\n",
    "    correlation_matrix = df.transpose().corr()\n",
    "\n",
    "    # 使用networkx创建一个网络图\n",
    "    G = nx.Graph()\n",
    "    for gene1 in df.index:\n",
    "        for gene2 in df.index:\n",
    "            if gene1 != gene2:\n",
    "                G.add_edge(gene1, gene2, weight=correlation_matrix.loc[gene1, gene2])\n",
    "\n",
    "    threshold = 0.5 # 相关性系数\n",
    "    edges = [(u, v) for (u, v, d) in G.edges(data=True) if abs(d['weight']) > threshold]\n",
    "    G = G.edge_subgraph(edges).copy()  # 使用edges创建一个新的图，并使用copy()避免状态问题\n",
    "\n",
    "    # pos设置,k越小则点越紧\n",
    "    pos = nx.spring_layout(G, k=k_value, iterations=iterations_value)\n",
    "\n",
    "    # 将位置作为节点属性添加到G中\n",
    "    for node in G.nodes():\n",
    "        G.nodes[node]['pos'] = pos[node]\n",
    "\n",
    "    # 使用plotly创建网络图\n",
    "    edge_x = []\n",
    "    edge_y = []\n",
    "    for edge in G.edges():\n",
    "        x0, y0 = G.nodes[edge[0]]['pos']\n",
    "        x1, y1 = G.nodes[edge[1]]['pos']\n",
    "        edge_x.append(x0)\n",
    "        edge_x.append(x1)\n",
    "        edge_x.append(None)\n",
    "        edge_y.append(y0)\n",
    "        edge_y.append(y1)\n",
    "        edge_y.append(None)\n",
    "    \n",
    "    # 分别创建正相关和负相关的边\n",
    "    edge_x_pos, edge_y_pos = [], []\n",
    "    edge_x_neg, edge_y_neg = [], []\n",
    "    \n",
    "    # 根据权重将边分为正负两组\n",
    "    for edge in G.edges(data=True):\n",
    "        x0, y0 = pos[edge[0]]\n",
    "        x1, y1 = pos[edge[1]]\n",
    "        if edge[2]['weight'] > 0:\n",
    "            edge_x_pos.extend([x0, x1, None])\n",
    "            edge_y_pos.extend([y0, y1, None])\n",
    "        else:\n",
    "            edge_x_neg.extend([x0, x1, None])\n",
    "            edge_y_neg.extend([y0, y1, None])\n",
    "\n",
    "\n",
    "    edge_trace_pos = go.Scatter(\n",
    "        x=edge_x_pos, y=edge_y_pos,\n",
    "        line=dict(width=0.3, color='red'),\n",
    "        hoverinfo='none',\n",
    "        mode='lines'\n",
    "    )\n",
    "    \n",
    "    edge_trace_neg = go.Scatter(\n",
    "        x=edge_x_neg, y=edge_y_neg,\n",
    "        line=dict(width=0.2, color='blue'),\n",
    "        hoverinfo='none',\n",
    "        mode='lines'\n",
    "    )\n",
    "\n",
    "    node_x = []\n",
    "    node_y = []\n",
    "    for node in G.nodes():\n",
    "        x, y = G.nodes[node]['pos']\n",
    "        node_x.append(x)\n",
    "        node_y.append(y)\n",
    "\n",
    "    node_trace = go.Scatter(\n",
    "        x=node_x, y=node_y,\n",
    "        mode='markers',\n",
    "        hoverinfo='text',\n",
    "        marker=dict(\n",
    "            showscale=True,\n",
    "            colorscale=color,\n",
    "            colorbar=dict(\n",
    "                thickness=15,\n",
    "                title='Node Connections',\n",
    "                xanchor='left',\n",
    "                titleside='right'\n",
    "            ),\n",
    "            line_width=2))\n",
    "\n",
    "    node_adjacencies = []\n",
    "    node_text = []\n",
    "    node_sizes = []  # 添加一个列表来存储基于节点连接数的大小\n",
    "    for node, adjacencies in enumerate(G.adjacency()):\n",
    "        node_adjacencies.append(len(adjacencies[1]))\n",
    "        node_text.append(adjacencies[0])\n",
    "        node_degree = len(adjacencies[1])\n",
    "        # 设置节点大小\n",
    "        scaled_size = 15 + (node_degree * bubble_size_ratio)  # 基础大小为5，每个连接增加5个单位大小\n",
    "        node_sizes.append(scaled_size)\n",
    "\n",
    "    node_trace.marker.color = node_adjacencies\n",
    "    node_trace.text = node_text\n",
    "    node_trace.marker.size = node_sizes  # 更新marker的大小\n",
    "\n",
    "    fig = go.Figure(data = [edge_trace_pos, edge_trace_neg, node_trace],\n",
    "                    layout=go.Layout(\n",
    "                        title='Gene Co-expression Network',\n",
    "                        showlegend=False,\n",
    "                        hovermode='closest',\n",
    "                        margin=dict(b=0, l=0, r=0, t=40),\n",
    "                        annotations=[\n",
    "                            dict(\n",
    "                                text=\"\",\n",
    "                                showarrow=False,\n",
    "                                xref=\"paper\", yref=\"paper\",\n",
    "                                x=0.005, y=-0.002)\n",
    "                        ],\n",
    "                        xaxis=dict(showgrid=False, zeroline=False, showticklabels=False),\n",
    "                        yaxis=dict(showgrid=False, zeroline=False, showticklabels=False))\n",
    "                    )\n",
    "\n",
    "    # 定义fig的布局，设置宽度和高度\n",
    "    fig.update_layout(\n",
    "        autosize=False,\n",
    "        width=800, \n",
    "        height=600,\n",
    "        template=\"plotly_white\"\n",
    "    )\n",
    "    # fig.update_traces(marker_symbol='diamond') # 更改marker的形状\n",
    "\n",
    "    fig.show()\n",
    "\n",
    "\n",
    "# 调用函数\n",
    "df = pd.read_csv('./demo-fpkm.csv', index_col=0)\n",
    "create_gene_network(df,'Portland',1,0.5,10)"
   ]
  }
 ],
 "metadata": {
  "kernelspec": {
   "display_name": "code",
   "language": "python",
   "name": "python3"
  },
  "language_info": {
   "codemirror_mode": {
    "name": "ipython",
    "version": 3
   },
   "file_extension": ".py",
   "mimetype": "text/x-python",
   "name": "python",
   "nbconvert_exporter": "python",
   "pygments_lexer": "ipython3",
   "version": "3.10.13"
  }
 },
 "nbformat": 4,
 "nbformat_minor": 2
}
