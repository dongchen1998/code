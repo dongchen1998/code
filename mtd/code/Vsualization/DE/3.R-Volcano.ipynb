{
 "cells": [
  {
   "cell_type": "code",
   "execution_count": null,
   "metadata": {
    "vscode": {
     "languageId": "r"
    }
   },
   "outputs": [],
   "source": [
    "if (!require(\"BiocManager\", quietly = TRUE)) install.packages(\"BiocManager\")\n",
    "  BiocManager::install(\"ggrepel\")\n",
    "  BiocManager::install(\"tidyverse\")"
   ]
  },
  {
   "cell_type": "code",
   "execution_count": null,
   "metadata": {
    "vscode": {
     "languageId": "r"
    }
   },
   "outputs": [],
   "source": [
    "library(ggplot2)\n",
    "library(ggrepel)  #用于标记的包\n",
    "library(tidyverse)"
   ]
  },
  {
   "cell_type": "code",
   "execution_count": null,
   "metadata": {
    "vscode": {
     "languageId": "r"
    }
   },
   "outputs": [],
   "source": [
    "# 读取火山图数据文件\n",
    "data <- read.delim(\"https://www.bioladder.cn/shiny/zyp/bioladder2/demoData/Volcano/volcano2.txt\")\n",
    "\n",
    "# 建议您的文件里对应的名称跟demo数据一致，这样不用更改后续代码中的变量名称\n",
    "\n",
    "FC <- 1.2 # 用来判断上下调，一般蛋白质组的项目卡1.5\n",
    "PValue <- 0.05 # 用来判断上下调\n",
    "\n",
    "# 标记方式（一）\n",
    "# 根据数据框中的Marker列，1的为标记，其他的为不标记\n",
    "data$label <- ifelse(data$Marker == 1, as.character(data$Name), \"\")\n",
    "# （或）标记方式（二）\n",
    "# 根据PValue小于多少和log[2]FC的绝对值大于多少筛选出合适的点\n",
    "# PvalueLimit = 0.0001\n",
    "# FCLimit = 5\n",
    "# data$label=ifelse(data$PValue < PvalueLimit & abs(log2(data$FC)) >= FCLimit, as.character(data$Name), '')\n",
    "\n",
    "# 绘图\n",
    "ggplot(data, aes(log2(FC), -1 * log10(PValue))) + # 加载数据，定义横纵坐标\n",
    "    geom_point(aes(color = -1 * log10(PValue), size = -1 * log10(PValue))) + # 绘制散点图，颜色和大小依据是数据框的PValue列\n",
    "    scale_color_gradientn(colors = c(\n",
    "        \"#5E4FA2\", \"#3288BD\", \"#66C2A5\", # 设置渐变色\n",
    "        \"#ABDDA4\", \"#E6F598\", \"#FFFFBF\",\n",
    "        \"#FEE08B\", \"#FDAE61\", \"#F46D43\",\n",
    "        \"#D53E4F\", \"red\", \"#9E0142\"\n",
    "    )) +\n",
    "    scale_radius( # 设置点大小图例\n",
    "        range = c(1, 3), # 设置点大小的范围\n",
    "        guide = NULL\n",
    "    ) + # 不显示该图例\n",
    "    labs(\n",
    "        title = \"\", # 定义标题，x轴，y轴名称\n",
    "        x = \"log[2](FC)\",\n",
    "        y = \"-log[10](PValue)\"\n",
    "    ) +\n",
    "    geom_hline(yintercept = -log10(PValue), linetype = 2) + # 在图上添加虚线\n",
    "    geom_vline(xintercept = c(-log2(FC), log2(FC)), linetype = 2) + # 在图上添加虚线\n",
    "    geom_text_repel(\n",
    "        aes(\n",
    "            x = log2(FC), # geom_text_repel 标记函数\n",
    "            y = -1 * log10(PValue),\n",
    "            label = label\n",
    "        ),\n",
    "        max.overlaps = 10000, # 最大覆盖率，当点很多时，有些标记会被覆盖，调大该值则不被覆盖，反之。\n",
    "        size = 3, # 字体大小\n",
    "        box.padding = unit(0.5, \"lines\"), # 标记的边距\n",
    "        point.padding = unit(0.1, \"lines\"),\n",
    "        segment.color = \"black\", # 标记线条的颜色\n",
    "        show.legend = FALSE\n",
    "    ) +\n",
    "    theme_classic()\n"
   ]
  }
 ],
 "metadata": {
  "kernelspec": {
   "display_name": "R",
   "language": "R",
   "name": "ir"
  },
  "language_info": {
   "codemirror_mode": "r",
   "file_extension": ".r",
   "mimetype": "text/x-r-source",
   "name": "R",
   "pygments_lexer": "r",
   "version": "4.3.1"
  }
 },
 "nbformat": 4,
 "nbformat_minor": 2
}
