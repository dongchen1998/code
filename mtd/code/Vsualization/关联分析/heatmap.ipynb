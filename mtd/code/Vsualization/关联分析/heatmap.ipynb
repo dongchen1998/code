{
 "cells": [
  {
   "cell_type": "code",
   "execution_count": 21,
   "metadata": {},
   "outputs": [],
   "source": [
    "import numpy as np\n",
    "import pandas as pd\n",
    "import plotly.express as px\n",
    "from plotly.offline import plot\n",
    "from plotly.utils import PlotlyJSONEncoder\n",
    "import matplotlib.pyplot as plt\n",
    "from scipy.cluster.hierarchy import dendrogram, linkage\n",
    "import dash_bio\n",
    "\n",
    "\n",
    "# 加载数据\n",
    "df = pd.read_csv('./mt_RPKM.txt',sep='\\t').copy()\n",
    "df1 = pd.read_csv('./demo_RPKM_1.txt',sep='\\t').copy()\n",
    "df2 =  pd.read_csv('./demo_RPKM_2.txt',sep='\\t').copy()"
   ]
  },
  {
   "cell_type": "markdown",
   "metadata": {},
   "source": [
    "### dush-bio \n",
    "- 没啥用"
   ]
  },
  {
   "cell_type": "code",
   "execution_count": 22,
   "metadata": {},
   "outputs": [
    {
     "data": {
      "application/vnd.plotly.v1+json": {
       "config": {
        "plotlyServerURL": "https://plot.ly"
       },
       "data": [
        {
         "hoverinfo": "y+name",
         "line": {
          "width": 0.5
         },
         "marker": {
          "color": "rgb(0,116,217)"
         },
         "mode": "lines",
         "name": "Col Cluster 0",
         "type": "scatter",
         "x": [
          84.765625,
          84.765625,
          445.1171875,
          445.1171875
         ],
         "xaxis": "x3",
         "y": [
          146.22136497037783,
          260.36523654278994,
          260.36523654278994,
          199.40495046061753
         ],
         "yaxis": "y3"
        },
        {
         "hoverinfo": "y+name",
         "line": {
          "width": 0.5
         },
         "marker": {
          "color": "rgb(0,116,217)"
         },
         "mode": "lines",
         "name": "Col Cluster 1",
         "type": "scatter",
         "x": [
          5,
          5,
          20,
          20
         ],
         "xaxis": "x3",
         "y": [
          0,
          42.51341546071827,
          42.51341546071827,
          31.390773059975007
         ],
         "yaxis": "y3"
        },
        {
         "hoverinfo": "y+name",
         "line": {
          "width": 0.5
         },
         "marker": {
          "color": "rgb(0,116,217)"
         },
         "mode": "lines",
         "name": "Col Cluster 2",
         "type": "scatter",
         "x": [
          12.5,
          12.5,
          56.25,
          56.25
         ],
         "xaxis": "x3",
         "y": [
          42.51341546071827,
          80.86964642240066,
          80.86964642240066,
          66.72200821839292
         ],
         "yaxis": "y3"
        },
        {
         "hoverinfo": "y+name",
         "line": {
          "width": 0.5
         },
         "marker": {
          "color": "rgb(0,116,217)"
         },
         "mode": "lines",
         "name": "Col Cluster 3",
         "type": "scatter",
         "x": [
          15,
          15,
          25,
          25
         ],
         "xaxis": "x3",
         "y": [
          0,
          31.390773059975007,
          31.390773059975007,
          0
         ],
         "yaxis": "y3"
        },
        {
         "hoverinfo": "y+name",
         "line": {
          "width": 0.5
         },
         "marker": {
          "color": "rgb(0,116,217)"
         },
         "mode": "lines",
         "name": "Col Cluster 4",
         "type": "scatter",
         "x": [
          34.375,
          34.375,
          135.15625,
          135.15625
         ],
         "xaxis": "x3",
         "y": [
          80.86964642240066,
          146.22136497037783,
          146.22136497037783,
          105.00999663058816
         ],
         "yaxis": "y3"
        },
        {
         "hoverinfo": "y+name",
         "line": {
          "width": 0.5
         },
         "marker": {
          "color": "rgb(0,116,217)"
         },
         "mode": "lines",
         "name": "Col Cluster 5",
         "type": "scatter",
         "x": [
          35,
          35,
          50,
          50
         ],
         "xaxis": "x3",
         "y": [
          0,
          29.73936241472861,
          29.73936241472861,
          15.634629915025128
         ],
         "yaxis": "y3"
        },
        {
         "hoverinfo": "y+name",
         "line": {
          "width": 0.5
         },
         "marker": {
          "color": "rgb(0,116,217)"
         },
         "mode": "lines",
         "name": "Col Cluster 6",
         "type": "scatter",
         "x": [
          42.5,
          42.5,
          70,
          70
         ],
         "xaxis": "x3",
         "y": [
          29.73936241472861,
          66.72200821839292,
          66.72200821839292,
          34.79557602131578
         ],
         "yaxis": "y3"
        },
        {
         "hoverinfo": "y+name",
         "line": {
          "width": 0.5
         },
         "marker": {
          "color": "rgb(0,116,217)"
         },
         "mode": "lines",
         "name": "Col Cluster 7",
         "type": "scatter",
         "x": [
          45,
          45,
          55,
          55
         ],
         "xaxis": "x3",
         "y": [
          0,
          15.634629915025128,
          15.634629915025128,
          0
         ],
         "yaxis": "y3"
        },
        {
         "hoverinfo": "y+name",
         "line": {
          "width": 0.5
         },
         "marker": {
          "color": "rgb(0,116,217)"
         },
         "mode": "lines",
         "name": "Col Cluster 8",
         "type": "scatter",
         "x": [
          65,
          65,
          75,
          75
         ],
         "xaxis": "x3",
         "y": [
          0,
          34.79557602131578,
          34.79557602131578,
          0
         ],
         "yaxis": "y3"
        },
        {
         "hoverinfo": "y+name",
         "line": {
          "width": 0.5
         },
         "marker": {
          "color": "rgb(0,116,217)"
         },
         "mode": "lines",
         "name": "Col Cluster 9",
         "type": "scatter",
         "x": [
          85,
          85,
          100,
          100
         ],
         "xaxis": "x3",
         "y": [
          0,
          30.774480289642185,
          30.774480289642185,
          22.545440645625558
         ],
         "yaxis": "y3"
        },
        {
         "hoverinfo": "y+name",
         "line": {
          "width": 0.5
         },
         "marker": {
          "color": "rgb(0,116,217)"
         },
         "mode": "lines",
         "name": "Col Cluster 10",
         "type": "scatter",
         "x": [
          92.5,
          92.5,
          120,
          120
         ],
         "xaxis": "x3",
         "y": [
          30.774480289642185,
          64.7351886578196,
          64.7351886578196,
          38.91446593201963
         ],
         "yaxis": "y3"
        },
        {
         "hoverinfo": "y+name",
         "line": {
          "width": 0.5
         },
         "marker": {
          "color": "rgb(0,116,217)"
         },
         "mode": "lines",
         "name": "Col Cluster 11",
         "type": "scatter",
         "x": [
          95,
          95,
          105,
          105
         ],
         "xaxis": "x3",
         "y": [
          0,
          22.545440645625558,
          22.545440645625558,
          0
         ],
         "yaxis": "y3"
        },
        {
         "hoverinfo": "y+name",
         "line": {
          "width": 0.5
         },
         "marker": {
          "color": "rgb(0,116,217)"
         },
         "mode": "lines",
         "name": "Col Cluster 12",
         "type": "scatter",
         "x": [
          106.25,
          106.25,
          164.0625,
          164.0625
         ],
         "xaxis": "x3",
         "y": [
          64.7351886578196,
          105.00999663058816,
          105.00999663058816,
          97.73793557391181
         ],
         "yaxis": "y3"
        },
        {
         "hoverinfo": "y+name",
         "line": {
          "width": 0.5
         },
         "marker": {
          "color": "rgb(0,116,217)"
         },
         "mode": "lines",
         "name": "Col Cluster 13",
         "type": "scatter",
         "x": [
          115,
          115,
          125,
          125
         ],
         "xaxis": "x3",
         "y": [
          0,
          38.91446593201963,
          38.91446593201963,
          0
         ],
         "yaxis": "y3"
        },
        {
         "hoverinfo": "y+name",
         "line": {
          "width": 0.5
         },
         "marker": {
          "color": "rgb(0,116,217)"
         },
         "mode": "lines",
         "name": "Col Cluster 14",
         "type": "scatter",
         "x": [
          135,
          135,
          150,
          150
         ],
         "xaxis": "x3",
         "y": [
          0,
          54.04420210813578,
          54.04420210813578,
          22.718399627587605
         ],
         "yaxis": "y3"
        },
        {
         "hoverinfo": "y+name",
         "line": {
          "width": 0.5
         },
         "marker": {
          "color": "rgb(0,116,217)"
         },
         "mode": "lines",
         "name": "Col Cluster 15",
         "type": "scatter",
         "x": [
          142.5,
          142.5,
          185.625,
          185.625
         ],
         "xaxis": "x3",
         "y": [
          54.04420210813578,
          97.73793557391181,
          97.73793557391181,
          69.31062558441857
         ],
         "yaxis": "y3"
        },
        {
         "hoverinfo": "y+name",
         "line": {
          "width": 0.5
         },
         "marker": {
          "color": "rgb(0,116,217)"
         },
         "mode": "lines",
         "name": "Col Cluster 16",
         "type": "scatter",
         "x": [
          145,
          145,
          155,
          155
         ],
         "xaxis": "x3",
         "y": [
          0,
          22.718399627587605,
          22.718399627587605,
          0
         ],
         "yaxis": "y3"
        },
        {
         "hoverinfo": "y+name",
         "line": {
          "width": 0.5
         },
         "marker": {
          "color": "rgb(0,116,217)"
         },
         "mode": "lines",
         "name": "Col Cluster 17",
         "type": "scatter",
         "x": [
          165,
          165,
          175,
          175
         ],
         "xaxis": "x3",
         "y": [
          0,
          34.91324914750038,
          34.91324914750038,
          0
         ],
         "yaxis": "y3"
        },
        {
         "hoverinfo": "y+name",
         "line": {
          "width": 0.5
         },
         "marker": {
          "color": "rgb(0,116,217)"
         },
         "mode": "lines",
         "name": "Col Cluster 18",
         "type": "scatter",
         "x": [
          170,
          170,
          201.25,
          201.25
         ],
         "xaxis": "x3",
         "y": [
          34.91324914750038,
          69.31062558441857,
          69.31062558441857,
          39.05405869769822
         ],
         "yaxis": "y3"
        },
        {
         "hoverinfo": "y+name",
         "line": {
          "width": 0.5
         },
         "marker": {
          "color": "rgb(0,116,217)"
         },
         "mode": "lines",
         "name": "Col Cluster 19",
         "type": "scatter",
         "x": [
          185,
          185,
          195,
          195
         ],
         "xaxis": "x3",
         "y": [
          0,
          15.346340538702508,
          15.346340538702508,
          0
         ],
         "yaxis": "y3"
        },
        {
         "hoverinfo": "y+name",
         "line": {
          "width": 0.5
         },
         "marker": {
          "color": "rgb(0,116,217)"
         },
         "mode": "lines",
         "name": "Col Cluster 20",
         "type": "scatter",
         "x": [
          190,
          190,
          212.5,
          212.5
         ],
         "xaxis": "x3",
         "y": [
          15.346340538702508,
          39.05405869769822,
          39.05405869769822,
          30.96702751475237
         ],
         "yaxis": "y3"
        },
        {
         "hoverinfo": "y+name",
         "line": {
          "width": 0.5
         },
         "marker": {
          "color": "rgb(0,116,217)"
         },
         "mode": "lines",
         "name": "Col Cluster 21",
         "type": "scatter",
         "x": [
          205,
          205,
          220,
          220
         ],
         "xaxis": "x3",
         "y": [
          0,
          30.96702751475237,
          30.96702751475237,
          20.844477569757263
         ],
         "yaxis": "y3"
        },
        {
         "hoverinfo": "y+name",
         "line": {
          "width": 0.5
         },
         "marker": {
          "color": "rgb(0,116,217)"
         },
         "mode": "lines",
         "name": "Col Cluster 22",
         "type": "scatter",
         "x": [
          215,
          215,
          225,
          225
         ],
         "xaxis": "x3",
         "y": [
          0,
          20.844477569757263,
          20.844477569757263,
          0
         ],
         "yaxis": "y3"
        },
        {
         "hoverinfo": "y+name",
         "line": {
          "width": 0.5
         },
         "marker": {
          "color": "rgb(0,116,217)"
         },
         "mode": "lines",
         "name": "Col Cluster 23",
         "type": "scatter",
         "x": [
          235,
          235,
          245,
          245
         ],
         "xaxis": "x3",
         "y": [
          0,
          37.71458884701081,
          37.71458884701081,
          0
         ],
         "yaxis": "y3"
        },
        {
         "hoverinfo": "y+name",
         "line": {
          "width": 0.5
         },
         "marker": {
          "color": "rgb(0,116,217)"
         },
         "mode": "lines",
         "name": "Col Cluster 24",
         "type": "scatter",
         "x": [
          240,
          240,
          260,
          260
         ],
         "xaxis": "x3",
         "y": [
          37.71458884701081,
          101.20075918888445,
          101.20075918888445,
          65.150414968346
         ],
         "yaxis": "y3"
        },
        {
         "hoverinfo": "y+name",
         "line": {
          "width": 0.5
         },
         "marker": {
          "color": "rgb(0,116,217)"
         },
         "mode": "lines",
         "name": "Col Cluster 25",
         "type": "scatter",
         "x": [
          250,
          250,
          340,
          340
         ],
         "xaxis": "x3",
         "y": [
          101.20075918888445,
          131.86124010268492,
          131.86124010268492,
          106.71626369589309
         ],
         "yaxis": "y3"
        },
        {
         "hoverinfo": "y+name",
         "line": {
          "width": 0.5
         },
         "marker": {
          "color": "rgb(0,116,217)"
         },
         "mode": "lines",
         "name": "Col Cluster 26",
         "type": "scatter",
         "x": [
          255,
          255,
          265,
          265
         ],
         "xaxis": "x3",
         "y": [
          0,
          65.150414968346,
          65.150414968346,
          0
         ],
         "yaxis": "y3"
        },
        {
         "hoverinfo": "y+name",
         "line": {
          "width": 0.5
         },
         "marker": {
          "color": "rgb(0,116,217)"
         },
         "mode": "lines",
         "name": "Col Cluster 27",
         "type": "scatter",
         "x": [
          275,
          275,
          292.5,
          292.5
         ],
         "xaxis": "x3",
         "y": [
          0,
          38.32614588302662,
          38.32614588302662,
          32.64125098536262
         ],
         "yaxis": "y3"
        },
        {
         "hoverinfo": "y+name",
         "line": {
          "width": 0.5
         },
         "marker": {
          "color": "rgb(0,116,217)"
         },
         "mode": "lines",
         "name": "Col Cluster 28",
         "type": "scatter",
         "x": [
          283.75,
          283.75,
          331.25,
          331.25
         ],
         "xaxis": "x3",
         "y": [
          38.32614588302662,
          68.81535617713472,
          68.81535617713472,
          55.258337171808996
         ],
         "yaxis": "y3"
        },
        {
         "hoverinfo": "y+name",
         "line": {
          "width": 0.5
         },
         "marker": {
          "color": "rgb(0,116,217)"
         },
         "mode": "lines",
         "name": "Col Cluster 29",
         "type": "scatter",
         "x": [
          285,
          285,
          300,
          300
         ],
         "xaxis": "x3",
         "y": [
          0,
          32.64125098536262,
          32.64125098536262,
          21.004742379510322
         ],
         "yaxis": "y3"
        },
        {
         "hoverinfo": "y+name",
         "line": {
          "width": 0.5
         },
         "marker": {
          "color": "rgb(0,116,217)"
         },
         "mode": "lines",
         "name": "Col Cluster 30",
         "type": "scatter",
         "x": [
          295,
          295,
          595.234375,
          595.234375
         ],
         "xaxis": "x3",
         "y": [
          131.86124010268492,
          199.40495046061753,
          199.40495046061753,
          143.248840679023
         ],
         "yaxis": "y3"
        },
        {
         "hoverinfo": "y+name",
         "line": {
          "width": 0.5
         },
         "marker": {
          "color": "rgb(0,116,217)"
         },
         "mode": "lines",
         "name": "Col Cluster 31",
         "type": "scatter",
         "x": [
          295,
          295,
          305,
          305
         ],
         "xaxis": "x3",
         "y": [
          0,
          21.004742379510322,
          21.004742379510322,
          0
         ],
         "yaxis": "y3"
        },
        {
         "hoverinfo": "y+name",
         "line": {
          "width": 0.5
         },
         "marker": {
          "color": "rgb(0,116,217)"
         },
         "mode": "lines",
         "name": "Col Cluster 32",
         "type": "scatter",
         "x": [
          307.5,
          307.5,
          372.5,
          372.5
         ],
         "xaxis": "x3",
         "y": [
          68.81535617713472,
          106.71626369589309,
          106.71626369589309,
          72.38421097218277
         ],
         "yaxis": "y3"
        },
        {
         "hoverinfo": "y+name",
         "line": {
          "width": 0.5
         },
         "marker": {
          "color": "rgb(0,116,217)"
         },
         "mode": "lines",
         "name": "Col Cluster 33",
         "type": "scatter",
         "x": [
          315,
          315,
          325,
          325
         ],
         "xaxis": "x3",
         "y": [
          0,
          28.255399132664742,
          28.255399132664742,
          0
         ],
         "yaxis": "y3"
        },
        {
         "hoverinfo": "y+name",
         "line": {
          "width": 0.5
         },
         "marker": {
          "color": "rgb(0,116,217)"
         },
         "mode": "lines",
         "name": "Col Cluster 34",
         "type": "scatter",
         "x": [
          320,
          320,
          342.5,
          342.5
         ],
         "xaxis": "x3",
         "y": [
          28.255399132664742,
          55.258337171808996,
          55.258337171808996,
          47.66956955169107
         ],
         "yaxis": "y3"
        },
        {
         "hoverinfo": "y+name",
         "line": {
          "width": 0.5
         },
         "marker": {
          "color": "rgb(0,116,217)"
         },
         "mode": "lines",
         "name": "Col Cluster 35",
         "type": "scatter",
         "x": [
          335,
          335,
          350,
          350
         ],
         "xaxis": "x3",
         "y": [
          0,
          47.66956955169107,
          47.66956955169107,
          17.477144041256604
         ],
         "yaxis": "y3"
        },
        {
         "hoverinfo": "y+name",
         "line": {
          "width": 0.5
         },
         "marker": {
          "color": "rgb(0,116,217)"
         },
         "mode": "lines",
         "name": "Col Cluster 36",
         "type": "scatter",
         "x": [
          345,
          345,
          355,
          355
         ],
         "xaxis": "x3",
         "y": [
          0,
          17.477144041256604,
          17.477144041256604,
          0
         ],
         "yaxis": "y3"
        },
        {
         "hoverinfo": "y+name",
         "line": {
          "width": 0.5
         },
         "marker": {
          "color": "rgb(0,116,217)"
         },
         "mode": "lines",
         "name": "Col Cluster 37",
         "type": "scatter",
         "x": [
          365,
          365,
          380,
          380
         ],
         "xaxis": "x3",
         "y": [
          0,
          72.38421097218277,
          72.38421097218277,
          31.616504967270657
         ],
         "yaxis": "y3"
        },
        {
         "hoverinfo": "y+name",
         "line": {
          "width": 0.5
         },
         "marker": {
          "color": "rgb(0,116,217)"
         },
         "mode": "lines",
         "name": "Col Cluster 38",
         "type": "scatter",
         "x": [
          375,
          375,
          385,
          385
         ],
         "xaxis": "x3",
         "y": [
          0,
          31.616504967270657,
          31.616504967270657,
          0
         ],
         "yaxis": "y3"
        },
        {
         "hoverinfo": "y+name",
         "line": {
          "width": 0.5
         },
         "marker": {
          "color": "rgb(0,116,217)"
         },
         "mode": "lines",
         "name": "Col Cluster 39",
         "type": "scatter",
         "x": [
          395,
          395,
          412.5,
          412.5
         ],
         "xaxis": "x3",
         "y": [
          0,
          90.24741384881192,
          90.24741384881192,
          47.407894206730134
         ],
         "yaxis": "y3"
        },
        {
         "hoverinfo": "y+name",
         "line": {
          "width": 0.5
         },
         "marker": {
          "color": "rgb(0,116,217)"
         },
         "mode": "lines",
         "name": "Col Cluster 40",
         "type": "scatter",
         "x": [
          403.75,
          403.75,
          525,
          525
         ],
         "xaxis": "x3",
         "y": [
          90.24741384881192,
          118.95097535405787,
          118.95097535405787,
          96.52625692068085
         ],
         "yaxis": "y3"
        },
        {
         "hoverinfo": "y+name",
         "line": {
          "width": 0.5
         },
         "marker": {
          "color": "rgb(0,116,217)"
         },
         "mode": "lines",
         "name": "Col Cluster 41",
         "type": "scatter",
         "x": [
          405,
          405,
          420,
          420
         ],
         "xaxis": "x3",
         "y": [
          0,
          47.407894206730134,
          47.407894206730134,
          40.84983853863607
         ],
         "yaxis": "y3"
        },
        {
         "hoverinfo": "y+name",
         "line": {
          "width": 0.5
         },
         "marker": {
          "color": "rgb(0,116,217)"
         },
         "mode": "lines",
         "name": "Col Cluster 42",
         "type": "scatter",
         "x": [
          415,
          415,
          425,
          425
         ],
         "xaxis": "x3",
         "y": [
          0,
          40.84983853863607,
          40.84983853863607,
          0
         ],
         "yaxis": "y3"
        },
        {
         "hoverinfo": "y+name",
         "line": {
          "width": 0.5
         },
         "marker": {
          "color": "rgb(0,116,217)"
         },
         "mode": "lines",
         "name": "Col Cluster 43",
         "type": "scatter",
         "x": [
          435,
          435,
          450,
          450
         ],
         "xaxis": "x3",
         "y": [
          0,
          33.86569307394694,
          33.86569307394694,
          18.048000443971034
         ],
         "yaxis": "y3"
        },
        {
         "hoverinfo": "y+name",
         "line": {
          "width": 0.5
         },
         "marker": {
          "color": "rgb(0,116,217)"
         },
         "mode": "lines",
         "name": "Col Cluster 44",
         "type": "scatter",
         "x": [
          442.5,
          442.5,
          495,
          495
         ],
         "xaxis": "x3",
         "y": [
          33.86569307394694,
          63.48595469132967,
          63.48595469132967,
          45.494646624828995
         ],
         "yaxis": "y3"
        },
        {
         "hoverinfo": "y+name",
         "line": {
          "width": 0.5
         },
         "marker": {
          "color": "rgb(0,116,217)"
         },
         "mode": "lines",
         "name": "Col Cluster 45",
         "type": "scatter",
         "x": [
          445,
          445,
          455,
          455
         ],
         "xaxis": "x3",
         "y": [
          0,
          18.048000443971034,
          18.048000443971034,
          0
         ],
         "yaxis": "y3"
        },
        {
         "hoverinfo": "y+name",
         "line": {
          "width": 0.5
         },
         "marker": {
          "color": "rgb(0,116,217)"
         },
         "mode": "lines",
         "name": "Col Cluster 46",
         "type": "scatter",
         "x": [
          464.375,
          464.375,
          726.09375,
          726.09375
         ],
         "xaxis": "x3",
         "y": [
          118.95097535405787,
          143.248840679023,
          143.248840679023,
          120.59146315181256
         ],
         "yaxis": "y3"
        },
        {
         "hoverinfo": "y+name",
         "line": {
          "width": 0.5
         },
         "marker": {
          "color": "rgb(0,116,217)"
         },
         "mode": "lines",
         "name": "Col Cluster 47",
         "type": "scatter",
         "x": [
          465,
          465,
          480,
          480
         ],
         "xaxis": "x3",
         "y": [
          0,
          32.659353333522795,
          32.659353333522795,
          20.7230469848154
         ],
         "yaxis": "y3"
        },
        {
         "hoverinfo": "y+name",
         "line": {
          "width": 0.5
         },
         "marker": {
          "color": "rgb(0,116,217)"
         },
         "mode": "lines",
         "name": "Col Cluster 48",
         "type": "scatter",
         "x": [
          468.75,
          468.75,
          581.25,
          581.25
         ],
         "xaxis": "x3",
         "y": [
          63.48595469132967,
          96.52625692068085,
          96.52625692068085,
          73.96342986383293
         ],
         "yaxis": "y3"
        },
        {
         "hoverinfo": "y+name",
         "line": {
          "width": 0.5
         },
         "marker": {
          "color": "rgb(0,116,217)"
         },
         "mode": "lines",
         "name": "Col Cluster 49",
         "type": "scatter",
         "x": [
          472.5,
          472.5,
          517.5,
          517.5
         ],
         "xaxis": "x3",
         "y": [
          32.659353333522795,
          45.494646624828995,
          45.494646624828995,
          41.839137750819184
         ],
         "yaxis": "y3"
        },
        {
         "hoverinfo": "y+name",
         "line": {
          "width": 0.5
         },
         "marker": {
          "color": "rgb(0,116,217)"
         },
         "mode": "lines",
         "name": "Col Cluster 50",
         "type": "scatter",
         "x": [
          475,
          475,
          485,
          485
         ],
         "xaxis": "x3",
         "y": [
          0,
          20.7230469848154,
          20.7230469848154,
          0
         ],
         "yaxis": "y3"
        },
        {
         "hoverinfo": "y+name",
         "line": {
          "width": 0.5
         },
         "marker": {
          "color": "rgb(0,116,217)"
         },
         "mode": "lines",
         "name": "Col Cluster 51",
         "type": "scatter",
         "x": [
          495,
          495,
          510,
          510
         ],
         "xaxis": "x3",
         "y": [
          0,
          24.153425740461742,
          24.153425740461742,
          15.568458497873195
         ],
         "yaxis": "y3"
        },
        {
         "hoverinfo": "y+name",
         "line": {
          "width": 0.5
         },
         "marker": {
          "color": "rgb(0,116,217)"
         },
         "mode": "lines",
         "name": "Col Cluster 52",
         "type": "scatter",
         "x": [
          502.5,
          502.5,
          532.5,
          532.5
         ],
         "xaxis": "x3",
         "y": [
          24.153425740461742,
          41.839137750819184,
          41.839137750819184,
          29.813189254162737
         ],
         "yaxis": "y3"
        },
        {
         "hoverinfo": "y+name",
         "line": {
          "width": 0.5
         },
         "marker": {
          "color": "rgb(0,116,217)"
         },
         "mode": "lines",
         "name": "Col Cluster 53",
         "type": "scatter",
         "x": [
          505,
          505,
          515,
          515
         ],
         "xaxis": "x3",
         "y": [
          0,
          15.568458497873195,
          15.568458497873195,
          0
         ],
         "yaxis": "y3"
        },
        {
         "hoverinfo": "y+name",
         "line": {
          "width": 0.5
         },
         "marker": {
          "color": "rgb(0,116,217)"
         },
         "mode": "lines",
         "name": "Col Cluster 54",
         "type": "scatter",
         "x": [
          525,
          525,
          540,
          540
         ],
         "xaxis": "x3",
         "y": [
          0,
          29.813189254162737,
          29.813189254162737,
          20.72317942464515
         ],
         "yaxis": "y3"
        },
        {
         "hoverinfo": "y+name",
         "line": {
          "width": 0.5
         },
         "marker": {
          "color": "rgb(0,116,217)"
         },
         "mode": "lines",
         "name": "Col Cluster 55",
         "type": "scatter",
         "x": [
          535,
          535,
          545,
          545
         ],
         "xaxis": "x3",
         "y": [
          0,
          20.72317942464515,
          20.72317942464515,
          0
         ],
         "yaxis": "y3"
        },
        {
         "hoverinfo": "y+name",
         "line": {
          "width": 0.5
         },
         "marker": {
          "color": "rgb(0,116,217)"
         },
         "mode": "lines",
         "name": "Col Cluster 56",
         "type": "scatter",
         "x": [
          555,
          555,
          570,
          570
         ],
         "xaxis": "x3",
         "y": [
          0,
          36.20350304691826,
          36.20350304691826,
          26.744016203599745
         ],
         "yaxis": "y3"
        },
        {
         "hoverinfo": "y+name",
         "line": {
          "width": 0.5
         },
         "marker": {
          "color": "rgb(0,116,217)"
         },
         "mode": "lines",
         "name": "Col Cluster 57",
         "type": "scatter",
         "x": [
          562.5,
          562.5,
          600,
          600
         ],
         "xaxis": "x3",
         "y": [
          36.20350304691826,
          73.96342986383293,
          73.96342986383293,
          50.3993734621236
         ],
         "yaxis": "y3"
        },
        {
         "hoverinfo": "y+name",
         "line": {
          "width": 0.5
         },
         "marker": {
          "color": "rgb(0,116,217)"
         },
         "mode": "lines",
         "name": "Col Cluster 58",
         "type": "scatter",
         "x": [
          565,
          565,
          575,
          575
         ],
         "xaxis": "x3",
         "y": [
          0,
          26.744016203599745,
          26.744016203599745,
          0
         ],
         "yaxis": "y3"
        },
        {
         "hoverinfo": "y+name",
         "line": {
          "width": 0.5
         },
         "marker": {
          "color": "rgb(0,116,217)"
         },
         "mode": "lines",
         "name": "Col Cluster 59",
         "type": "scatter",
         "x": [
          585,
          585,
          595,
          595
         ],
         "xaxis": "x3",
         "y": [
          0,
          19.26612208641061,
          19.26612208641061,
          0
         ],
         "yaxis": "y3"
        },
        {
         "hoverinfo": "y+name",
         "line": {
          "width": 0.5
         },
         "marker": {
          "color": "rgb(0,116,217)"
         },
         "mode": "lines",
         "name": "Col Cluster 60",
         "type": "scatter",
         "x": [
          590,
          590,
          610,
          610
         ],
         "xaxis": "x3",
         "y": [
          19.26612208641061,
          50.3993734621236,
          50.3993734621236,
          24.153551974744985
         ],
         "yaxis": "y3"
        },
        {
         "hoverinfo": "y+name",
         "line": {
          "width": 0.5
         },
         "marker": {
          "color": "rgb(0,116,217)"
         },
         "mode": "lines",
         "name": "Col Cluster 61",
         "type": "scatter",
         "x": [
          605,
          605,
          615,
          615
         ],
         "xaxis": "x3",
         "y": [
          0,
          24.153551974744985,
          24.153551974744985,
          0
         ],
         "yaxis": "y3"
        },
        {
         "hoverinfo": "y+name",
         "line": {
          "width": 0.5
         },
         "marker": {
          "color": "rgb(0,116,217)"
         },
         "mode": "lines",
         "name": "Col Cluster 62",
         "type": "scatter",
         "x": [
          625,
          625,
          640,
          640
         ],
         "xaxis": "x3",
         "y": [
          0,
          31.470231542998278,
          31.470231542998278,
          30.138171994339377
         ],
         "yaxis": "y3"
        },
        {
         "hoverinfo": "y+name",
         "line": {
          "width": 0.5
         },
         "marker": {
          "color": "rgb(0,116,217)"
         },
         "mode": "lines",
         "name": "Col Cluster 63",
         "type": "scatter",
         "x": [
          632.5,
          632.5,
          670,
          670
         ],
         "xaxis": "x3",
         "y": [
          31.470231542998278,
          59.41650901393586,
          59.41650901393586,
          51.39783049442672
         ],
         "yaxis": "y3"
        },
        {
         "hoverinfo": "y+name",
         "line": {
          "width": 0.5
         },
         "marker": {
          "color": "rgb(0,116,217)"
         },
         "mode": "lines",
         "name": "Col Cluster 64",
         "type": "scatter",
         "x": [
          635,
          635,
          645,
          645
         ],
         "xaxis": "x3",
         "y": [
          0,
          30.138171994339377,
          30.138171994339377,
          0
         ],
         "yaxis": "y3"
        },
        {
         "hoverinfo": "y+name",
         "line": {
          "width": 0.5
         },
         "marker": {
          "color": "rgb(0,116,217)"
         },
         "mode": "lines",
         "name": "Col Cluster 65",
         "type": "scatter",
         "x": [
          651.25,
          651.25,
          716.25,
          716.25
         ],
         "xaxis": "x3",
         "y": [
          59.41650901393586,
          87.82298775083697,
          87.82298775083697,
          76.0711276980819
         ],
         "yaxis": "y3"
        },
        {
         "hoverinfo": "y+name",
         "line": {
          "width": 0.5
         },
         "marker": {
          "color": "rgb(0,116,217)"
         },
         "mode": "lines",
         "name": "Col Cluster 66",
         "type": "scatter",
         "x": [
          655,
          655,
          665,
          665
         ],
         "xaxis": "x3",
         "y": [
          0,
          24.395485157573916,
          24.395485157573916,
          0
         ],
         "yaxis": "y3"
        },
        {
         "hoverinfo": "y+name",
         "line": {
          "width": 0.5
         },
         "marker": {
          "color": "rgb(0,116,217)"
         },
         "mode": "lines",
         "name": "Col Cluster 67",
         "type": "scatter",
         "x": [
          660,
          660,
          680,
          680
         ],
         "xaxis": "x3",
         "y": [
          24.395485157573916,
          51.39783049442672,
          51.39783049442672,
          35.011292693565984
         ],
         "yaxis": "y3"
        },
        {
         "hoverinfo": "y+name",
         "line": {
          "width": 0.5
         },
         "marker": {
          "color": "rgb(0,116,217)"
         },
         "mode": "lines",
         "name": "Col Cluster 68",
         "type": "scatter",
         "x": [
          675,
          675,
          685,
          685
         ],
         "xaxis": "x3",
         "y": [
          0,
          35.011292693565984,
          35.011292693565984,
          0
         ],
         "yaxis": "y3"
        },
        {
         "hoverinfo": "y+name",
         "line": {
          "width": 0.5
         },
         "marker": {
          "color": "rgb(0,116,217)"
         },
         "mode": "lines",
         "name": "Col Cluster 69",
         "type": "scatter",
         "x": [
          683.75,
          683.75,
          768.4375,
          768.4375
         ],
         "xaxis": "x3",
         "y": [
          87.82298775083697,
          120.59146315181256,
          120.59146315181256,
          110.87878488613966
         ],
         "yaxis": "y3"
        },
        {
         "hoverinfo": "y+name",
         "line": {
          "width": 0.5
         },
         "marker": {
          "color": "rgb(0,116,217)"
         },
         "mode": "lines",
         "name": "Col Cluster 70",
         "type": "scatter",
         "x": [
          695,
          695,
          710,
          710
         ],
         "xaxis": "x3",
         "y": [
          0,
          40.62915211605499,
          40.62915211605499,
          23.06691213643856
         ],
         "yaxis": "y3"
        },
        {
         "hoverinfo": "y+name",
         "line": {
          "width": 0.5
         },
         "marker": {
          "color": "rgb(0,116,217)"
         },
         "mode": "lines",
         "name": "Col Cluster 71",
         "type": "scatter",
         "x": [
          702.5,
          702.5,
          730,
          730
         ],
         "xaxis": "x3",
         "y": [
          40.62915211605499,
          76.0711276980819,
          76.0711276980819,
          43.3118278068778
         ],
         "yaxis": "y3"
        },
        {
         "hoverinfo": "y+name",
         "line": {
          "width": 0.5
         },
         "marker": {
          "color": "rgb(0,116,217)"
         },
         "mode": "lines",
         "name": "Col Cluster 72",
         "type": "scatter",
         "x": [
          705,
          705,
          715,
          715
         ],
         "xaxis": "x3",
         "y": [
          0,
          23.06691213643856,
          23.06691213643856,
          0
         ],
         "yaxis": "y3"
        },
        {
         "hoverinfo": "y+name",
         "line": {
          "width": 0.5
         },
         "marker": {
          "color": "rgb(0,116,217)"
         },
         "mode": "lines",
         "name": "Col Cluster 73",
         "type": "scatter",
         "x": [
          725,
          725,
          735,
          735
         ],
         "xaxis": "x3",
         "y": [
          0,
          43.3118278068778,
          43.3118278068778,
          0
         ],
         "yaxis": "y3"
        },
        {
         "hoverinfo": "y+name",
         "line": {
          "width": 0.5
         },
         "marker": {
          "color": "rgb(0,116,217)"
         },
         "mode": "lines",
         "name": "Col Cluster 74",
         "type": "scatter",
         "x": [
          745,
          745,
          760,
          760
         ],
         "xaxis": "x3",
         "y": [
          0,
          64.2191463815452,
          64.2191463815452,
          42.480224286214884
         ],
         "yaxis": "y3"
        },
        {
         "hoverinfo": "y+name",
         "line": {
          "width": 0.5
         },
         "marker": {
          "color": "rgb(0,116,217)"
         },
         "mode": "lines",
         "name": "Col Cluster 75",
         "type": "scatter",
         "x": [
          752.5,
          752.5,
          784.375,
          784.375
         ],
         "xaxis": "x3",
         "y": [
          64.2191463815452,
          110.87878488613966,
          110.87878488613966,
          74.74604710661113
         ],
         "yaxis": "y3"
        },
        {
         "hoverinfo": "y+name",
         "line": {
          "width": 0.5
         },
         "marker": {
          "color": "rgb(0,116,217)"
         },
         "mode": "lines",
         "name": "Col Cluster 76",
         "type": "scatter",
         "x": [
          755,
          755,
          765,
          765
         ],
         "xaxis": "x3",
         "y": [
          0,
          42.480224286214884,
          42.480224286214884,
          0
         ],
         "yaxis": "y3"
        },
        {
         "hoverinfo": "y+name",
         "line": {
          "width": 0.5
         },
         "marker": {
          "color": "rgb(0,116,217)"
         },
         "mode": "lines",
         "name": "Col Cluster 77",
         "type": "scatter",
         "x": [
          775,
          775,
          793.75,
          793.75
         ],
         "xaxis": "x3",
         "y": [
          0,
          74.74604710661113,
          74.74604710661113,
          41.54226023147778
         ],
         "yaxis": "y3"
        },
        {
         "hoverinfo": "y+name",
         "line": {
          "width": 0.5
         },
         "marker": {
          "color": "rgb(0,116,217)"
         },
         "mode": "lines",
         "name": "Col Cluster 78",
         "type": "scatter",
         "x": [
          785,
          785,
          802.5,
          802.5
         ],
         "xaxis": "x3",
         "y": [
          0,
          41.54226023147778,
          41.54226023147778,
          35.81974926962307
         ],
         "yaxis": "y3"
        },
        {
         "hoverinfo": "y+name",
         "line": {
          "width": 0.5
         },
         "marker": {
          "color": "rgb(0,116,217)"
         },
         "mode": "lines",
         "name": "Col Cluster 79",
         "type": "scatter",
         "x": [
          795,
          795,
          810,
          810
         ],
         "xaxis": "x3",
         "y": [
          0,
          35.81974926962307,
          35.81974926962307,
          18.689240306112413
         ],
         "yaxis": "y3"
        },
        {
         "hoverinfo": "y+name",
         "line": {
          "width": 0.5
         },
         "marker": {
          "color": "rgb(0,116,217)"
         },
         "mode": "lines",
         "name": "Col Cluster 80",
         "type": "scatter",
         "x": [
          805,
          805,
          815,
          815
         ],
         "xaxis": "x3",
         "y": [
          0,
          18.689240306112413,
          18.689240306112413,
          0
         ],
         "yaxis": "y3"
        },
        {
         "hoverinfo": "x+name",
         "line": {
          "width": 0.5
         },
         "marker": {
          "color": "rgb(0,116,217)"
         },
         "mode": "lines",
         "name": "Row Cluster 0",
         "type": "scatter",
         "x": [
          0,
          -226.2797579998361,
          -226.2797579998361,
          0
         ],
         "xaxis": "x9",
         "y": [
          15,
          15,
          25,
          25
         ],
         "yaxis": "y9"
        },
        {
         "hoverinfo": "x+name",
         "line": {
          "width": 0.5
         },
         "marker": {
          "color": "rgb(0,116,217)"
         },
         "mode": "lines",
         "name": "Row Cluster 1",
         "type": "scatter",
         "x": [
          0,
          -266.36411637958753,
          -266.36411637958753,
          0
         ],
         "xaxis": "x9",
         "y": [
          105,
          105,
          115,
          115
         ],
         "yaxis": "y9"
        },
        {
         "hoverinfo": "x+name",
         "line": {
          "width": 0.5
         },
         "marker": {
          "color": "rgb(0,116,217)"
         },
         "mode": "lines",
         "name": "Row Cluster 2",
         "type": "scatter",
         "x": [
          0,
          -182.54587927648447,
          -182.54587927648447,
          0
         ],
         "xaxis": "x9",
         "y": [
          85,
          85,
          95,
          95
         ],
         "yaxis": "y9"
        },
        {
         "hoverinfo": "x+name",
         "line": {
          "width": 0.5
         },
         "marker": {
          "color": "rgb(0,116,217)"
         },
         "mode": "lines",
         "name": "Row Cluster 3",
         "type": "scatter",
         "x": [
          -207.68496323554518,
          -523.2050784307153,
          -523.2050784307153,
          -266.36411637958753
         ],
         "xaxis": "x9",
         "y": [
          76.25,
          76.25,
          110,
          110
         ],
         "yaxis": "y9"
        },
        {
         "hoverinfo": "x+name",
         "line": {
          "width": 0.5
         },
         "marker": {
          "color": "rgb(0,116,217)"
         },
         "mode": "lines",
         "name": "Row Cluster 4",
         "type": "scatter",
         "x": [
          0,
          -61.24361729297415,
          -61.24361729297415,
          0
         ],
         "xaxis": "x9",
         "y": [
          65,
          65,
          75,
          75
         ],
         "yaxis": "y9"
        },
        {
         "hoverinfo": "x+name",
         "line": {
          "width": 0.5
         },
         "marker": {
          "color": "rgb(0,116,217)"
         },
         "mode": "lines",
         "name": "Row Cluster 5",
         "type": "scatter",
         "x": [
          -71.58632505455954,
          -207.68496323554518,
          -207.68496323554518,
          -182.54587927648447
         ],
         "xaxis": "x9",
         "y": [
          62.5,
          62.5,
          90,
          90
         ],
         "yaxis": "y9"
        },
        {
         "hoverinfo": "x+name",
         "line": {
          "width": 0.5
         },
         "marker": {
          "color": "rgb(0,116,217)"
         },
         "mode": "lines",
         "name": "Row Cluster 6",
         "type": "scatter",
         "x": [
          0,
          -71.58632505455954,
          -71.58632505455954,
          -61.24361729297415
         ],
         "xaxis": "x9",
         "y": [
          55,
          55,
          70,
          70
         ],
         "yaxis": "y9"
        },
        {
         "hoverinfo": "x+name",
         "line": {
          "width": 0.5
         },
         "marker": {
          "color": "rgb(0,116,217)"
         },
         "mode": "lines",
         "name": "Row Cluster 7",
         "type": "scatter",
         "x": [
          0,
          -321.21856814004894,
          -321.21856814004894,
          0
         ],
         "xaxis": "x9",
         "y": [
          35,
          35,
          45,
          45
         ],
         "yaxis": "y9"
        },
        {
         "hoverinfo": "x+name",
         "line": {
          "width": 0.5
         },
         "marker": {
          "color": "rgb(0,116,217)"
         },
         "mode": "lines",
         "name": "Row Cluster 8",
         "type": "scatter",
         "x": [
          -356.711561984071,
          -848.7636243475063,
          -848.7636243475063,
          -523.2050784307153
         ],
         "xaxis": "x9",
         "y": [
          30,
          30,
          93.125,
          93.125
         ],
         "yaxis": "y9"
        },
        {
         "hoverinfo": "x+name",
         "line": {
          "width": 0.5
         },
         "marker": {
          "color": "rgb(0,116,217)"
         },
         "mode": "lines",
         "name": "Row Cluster 9",
         "type": "scatter",
         "x": [
          -226.2797579998361,
          -356.711561984071,
          -356.711561984071,
          -321.21856814004894
         ],
         "xaxis": "x9",
         "y": [
          20,
          20,
          40,
          40
         ],
         "yaxis": "y9"
        },
        {
         "hoverinfo": "x+name",
         "line": {
          "width": 0.5
         },
         "marker": {
          "color": "rgb(0,116,217)"
         },
         "mode": "lines",
         "name": "Row Cluster 10",
         "type": "scatter",
         "x": [
          0,
          -2163.1842158585832,
          -2163.1842158585832,
          -848.7636243475063
         ],
         "xaxis": "x9",
         "y": [
          5,
          5,
          61.5625,
          61.5625
         ],
         "yaxis": "y9"
        },
        {
         "colorbar": {
          "xpad": 100
         },
         "colorscale": [
          [
           0,
           "rgb(103,0,31)"
          ],
          [
           0.1,
           "rgb(178,24,43)"
          ],
          [
           0.2,
           "rgb(214,96,77)"
          ],
          [
           0.3,
           "rgb(244,165,130)"
          ],
          [
           0.4,
           "rgb(253,219,199)"
          ],
          [
           0.5,
           "rgb(247,247,247)"
          ],
          [
           0.6,
           "rgb(209,229,240)"
          ],
          [
           0.7,
           "rgb(146,197,222)"
          ],
          [
           0.8,
           "rgb(67,147,195)"
          ],
          [
           0.9,
           "rgb(33,102,172)"
          ],
          [
           1,
           "rgb(5,48,97)"
          ]
         ],
         "type": "heatmap",
         "x": [
          5,
          15,
          25,
          35,
          45,
          55,
          65,
          75,
          85,
          95,
          105,
          115,
          125,
          135,
          145,
          155,
          165,
          175,
          185,
          195,
          205,
          215,
          225,
          235,
          245,
          255,
          265,
          275,
          285,
          295,
          305,
          315,
          325,
          335,
          345,
          355,
          365,
          375,
          385,
          395,
          405,
          415,
          425,
          435,
          445,
          455,
          465,
          475,
          485,
          495,
          505,
          515,
          525,
          535,
          545,
          555,
          565,
          575,
          585,
          595,
          605,
          615,
          625,
          635,
          645,
          655,
          665,
          675,
          685,
          695,
          705,
          715,
          725,
          735,
          745,
          755,
          765,
          775,
          785,
          795,
          805,
          815
         ],
         "xaxis": "x11",
         "y": [
          5,
          15,
          25,
          35,
          45,
          55,
          65,
          75,
          85,
          95,
          105,
          115
         ],
         "yaxis": "y11",
         "z": [
          [
           255.32740628540654,
           251.44484398540652,
           267.4259065854065,
           287.25636818540653,
           311.4808380854065,
           308.87527758540654,
           277.2764174854065,
           298.7538989854065,
           216.2241871854065,
           229.51835358540654,
           227.1231495854065,
           228.55604018540652,
           228.12967968540653,
           262.0514599854065,
           274.3461524854065,
           284.7544138854065,
           216.8845902854065,
           216.0610461854065,
           242.27734968540653,
           252.16612988540652,
           268.6264535854065,
           267.3908976854065,
           263.7367550854065,
           175.3678130854065,
           167.38897738540652,
           189.0656434854065,
           199.62340978540652,
           146.12840118540652,
           154.75551348540648,
           143.64274298540653,
           137.74142478540648,
           118.7421930854065,
           120.0915696854065,
           116.9642363854065,
           98.77734348540649,
           108.14940788540649,
           111.8834548854065,
           155.32682778540652,
           160.8505677854065,
           161.31696348540652,
           104.6907996854065,
           116.48733218540652,
           133.97829518540652,
           192.0734097854065,
           171.48786148540648,
           172.54340978540648,
           173.7107216854065,
           166.83987388540652,
           158.9325826854065,
           171.4634097854065,
           159.3884097854065,
           165.2184097854065,
           182.7970183854065,
           182.3609444854065,
           194.61840978540653,
           132.0338714854065,
           142.1573614854065,
           139.73581068540648,
           136.2758930854065,
           129.69340978540652,
           160.62586478540652,
           175.82240468540653,
           127.8884097854065,
           126.3719100854065,
           118.0371410854065,
           109.3989274854065,
           111.4678747854065,
           130.17477898540648,
           130.5754913854065,
           179.5301131854065,
           154.0045766854065,
           154.7149794854065,
           123.37024848540649,
           145.0159678854065,
           144.5119467854065,
           115.00968528540649,
           130.83898578540652,
           74.48419448540649,
           96.32179848540649,
           99.84426218540649,
           99.03339908540651,
           85.7690352854065
          ],
          [
           28.934588285406505,
           9.958667895406506,
           22.841306395406505,
           36.3048569854065,
           37.19198328540651,
           33.354631885406505,
           19.266298935406496,
           35.7274247854065,
           23.460375885406506,
           12.797735945406501,
           20.764483765406496,
           2.136527955406507,
           20.231239805406503,
           -3.9176011045935013,
           -1.1852167245935021,
           -4.577813524593495,
           5.732961555406504,
           -0.6185356345934991,
           -4.181374774593493,
           -4.143232264593493,
           -10.919252784593496,
           -5.4541422645935,
           5.317467585406504,
           77.1701738854065,
           57.843732985406504,
           21.2972040954065,
           54.21840978540651,
           31.943723485406508,
           31.136557585406507,
           34.440592385406504,
           35.3462853854065,
           33.588144185406506,
           26.650989885406503,
           34.0591993854065,
           18.02147209540651,
           21.099747785406507,
           29.681224585406497,
           39.1661890854065,
           35.250527685406496,
           9.197529355406502,
           15.591277075406495,
           0.25982264540650135,
           -4.812511494593494,
           0.05840978540649644,
           -1.6712011545935042,
           -3.0565902145934984,
           3.0164166954065053,
           0.310223875406507,
           3.796608585406503,
           8.1634097854065,
           2.323409785406497,
           2.4334097854064964,
           -2.097965624593499,
           0.14994801540650826,
           1.6684097854064959,
           7.116114395406498,
           -9.077836414593492,
           -5.684826624593498,
           7.162136735406506,
           9.483409785406508,
           27.9797379854065,
           16.3021295254065,
           26.668409785406496,
           40.663604085406504,
           25.723925785406507,
           15.074083405406498,
           5.1412338054065,
           26.824115785406505,
           6.175693265406508,
           40.203349185406495,
           31.083027685406506,
           23.6889192854065,
           31.684981585406504,
           11.385175075406508,
           23.932723965406495,
           26.435800885406508,
           23.470472865406506,
           11.425947315406503,
           15.8822165354065,
           18.435005285406504,
           22.167488445406505,
           19.173085565406495
          ],
          [
           7.838201125406499,
           11.703503245406495,
           19.486246575406497,
           -3.689386904593505,
           -1.1721577545934991,
           7.442217045406508,
           -11.712506704593501,
           -2.669812904593499,
           11.822400335406499,
           4.683919865406509,
           13.471790545406506,
           11.311296085406497,
           11.973740925406503,
           -5.103425334593496,
           0.16998326540650055,
           -4.713115874593498,
           -5.239032144593494,
           -12.530383864593496,
           -16.0027548045935,
           -10.148256024593493,
           -12.677237834593498,
           -12.1498078845935,
           -7.013010064593502,
           -1.5572122445935008,
           13.586657625406502,
           -6.012627334593503,
           -0.9965902145934962,
           -5.119099064593499,
           -3.3548117645934923,
           -15.582540604593497,
           -10.0947275845935,
           14.519492685406505,
           13.970110935406495,
           -17.525237844593498,
           -12.747875354593496,
           -9.176976694593492,
           -0.22473246459350094,
           -23.3595169145935,
           -15.957806294593496,
           46.45754678540651,
           6.996527675406497,
           16.013733575406505,
           9.4660454354065,
           2.7184097854065072,
           -2.5071483545934967,
           3.003409785406504,
           -10.602031784593493,
           3.883037225406497,
           -3.8532841045934987,
           15.263409785406495,
           11.393409785406504,
           11.753409785406504,
           -8.512829324593497,
           6.885330745406506,
           4.128409785406504,
           -12.694584864593502,
           -17.1437611545935,
           -0.5019638645934918,
           1.528430365406507,
           3.9934097854064987,
           16.073228995406495,
           12.550825345406508,
           19.698409785406497,
           24.883347555406502,
           11.187032545406495,
           9.976981135406504,
           -1.0184864345934983,
           17.116391165406498,
           30.4138626854065,
           25.098097815406504,
           17.425176575406496,
           23.624777375406495,
           11.589172915406508,
           11.524329765406506,
           93.49785188540649,
           37.5006664854065,
           41.671360085406505,
           20.619048955406498,
           51.0340635854065,
           17.0719077754065,
           26.696506885406507,
           23.987498435406508
          ],
          [
           80.51745898540649,
           72.3866047854065,
           88.5651352854065,
           93.6033776854065,
           100.03764538540649,
           95.6213829854065,
           66.28311908540651,
           81.52976368540651,
           50.3400953854065,
           40.23664628540651,
           44.241877885406495,
           36.4663256854065,
           43.5372799854065,
           37.506736485406506,
           15.256758775406496,
           9.951182105406502,
           33.247461485406504,
           25.6531518854065,
           26.569683285406498,
           25.5281293854065,
           18.701977425406497,
           26.5331465854065,
           36.102759285406506,
           81.57866838540649,
           59.86808288540651,
           38.803988685406495,
           43.6984097854065,
           56.7275489854065,
           28.940420285406503,
           31.712574885406497,
           24.3594953454065,
           36.7579860854065,
           35.11234068540651,
           24.122820945406502,
           11.409824755406504,
           13.443442255406495,
           54.155219785406516,
           30.446269985406502,
           42.7167644854065,
           7.011142675406504,
           -9.402155524593496,
           12.831990125406506,
           3.1492534754064962,
           7.743409785406499,
           4.006513615406504,
           10.823409785406497,
           17.3867944154065,
           22.4498081354065,
           24.7987052854065,
           25.0234097854065,
           18.093409785406507,
           15.113409785406503,
           14.327025095406498,
           14.708176285406495,
           20.268409785406504,
           8.952375305406505,
           4.028388915406495,
           14.298147415406504,
           29.578855285406505,
           29.8984097854065,
           24.149531735406498,
           32.075451485406504,
           42.7734097854065,
           46.296347885406504,
           44.2813072854065,
           24.970896245406507,
           26.2112096854065,
           23.2289882654065,
           21.50079920540651,
           42.5872463854065,
           51.909074685406495,
           39.854304685406504,
           58.2156293854065,
           53.114261585406496,
           43.91714428540651,
           43.258630785406496,
           55.23294518540651,
           21.004997805406504,
           20.318693295406504,
           20.031157535406507,
           21.62082465540651,
           27.449450685406504
          ],
          [
           31.149894985406505,
           57.89319638540651,
           57.12601838540651,
           44.28392868540651,
           38.21557088540651,
           44.9841086854065,
           17.6588482754065,
           14.135895875406504,
           61.33135998540651,
           66.39380098540651,
           82.8743434854065,
           111.4309205854065,
           95.5616240854065,
           79.5898165854065,
           89.5359907854065,
           75.5861546854065,
           36.5550472854065,
           30.044983385406496,
           22.540528055406497,
           30.453635585406502,
           42.896783885406506,
           28.1575198854065,
           37.77179128540651,
           -13.198456434593496,
           -11.869366524593495,
           35.5060411854065,
           1.5784097854065067,
           -4.680111044593502,
           15.3024746754065,
           1.1654548054064975,
           4.588941465406506,
           0.12275833540650183,
           -2.943178844593504,
           -4.263380334593492,
           3.0985529654064976,
           4.575582355406496,
           18.4188145554065,
           -6.642407114593496,
           -10.319382644593503,
           83.33757088540649,
           31.3811211854065,
           52.6022452854065,
           24.370068875406503,
           58.26840978540649,
           35.782061185406505,
           38.5734097854065,
           18.452640035406503,
           22.070960605406498,
           11.107250735406495,
           40.5684097854065,
           37.158409785406505,
           24.313409785406506,
           25.5105494854065,
           21.698733555406506,
           36.2284097854065,
           9.544835565406501,
           27.464838685406505,
           19.239308985406495,
           15.214582005406498,
           20.228409785406498,
           8.234408595406506,
           8.880539995406508,
           26.513409785406495,
           7.769427695406506,
           6.051110105406508,
           -1.830922134593493,
           9.6577854054065,
           -0.05973784459349929,
           15.6340664054065,
           0.21392135540649804,
           -1.9188949945935008,
           -3.5804410345935054,
           20.479301175406505,
           41.717724985406505,
           48.72618278540651,
           44.7591007854065,
           71.63808098540649,
           33.8765750854065,
           31.447484385406497,
           23.522905035406495,
           19.704306465406503,
           13.426542365406505
          ],
          [
           -50.848238324593495,
           -58.014260414593494,
           -56.9825974345935,
           -55.6036267145935,
           -50.272815074593495,
           -51.777494394593504,
           -50.4051583645935,
           -45.816371044593495,
           -59.4784995645935,
           -57.5188681445935,
           -56.808922644593494,
           -64.4155367845935,
           -60.5855691145935,
           -61.4549527645935,
           -58.4529988745935,
           -60.5516142845935,
           -58.9529347245935,
           -56.661517294593494,
           -57.7861288245935,
           -56.3891972745935,
           -59.582819604593496,
           -56.1816688745935,
           -55.1041238145935,
           -44.454647234593494,
           -49.661283874593494,
           -56.2602064745935,
           -45.0165902145935,
           -55.8795769045935,
           -60.6740782645935,
           -62.9991973645935,
           -57.8354260245935,
           -51.9828438045935,
           -53.4954364045935,
           -57.2382246445935,
           -63.075546814593494,
           -63.6802532445935,
           -56.3340293245935,
           -56.5886428945935,
           -47.8379411045935,
           -55.9541353045935,
           -62.3819918245935,
           -62.4527022745935,
           -60.5144893445935,
           -58.8315902145935,
           -62.7405423245935,
           -60.5665902145935,
           -59.8814945945935,
           -57.0240836945935,
           -56.9142722445935,
           -57.2265902145935,
           -60.8215902145935,
           -59.2215902145935,
           -60.8478405145935,
           -57.521577344593496,
           -57.7115902145935,
           -63.2244448445935,
           -63.8968667645935,
           -60.3197432045935,
           -56.4135085645935,
           -60.3365902145935,
           -57.3932624845935,
           -52.4661590745935,
           -53.076590214593494,
           -53.3225870945935,
           -53.7578571745935,
           -57.6585743645935,
           -57.8272203445935,
           -59.0720886645935,
           -56.017902274593496,
           -55.7273867045935,
           -47.2277096445935,
           -50.6859494945935,
           -55.782523784593494,
           -59.2545039345935,
           -53.727003394593495,
           -57.156579844593494,
           -59.581654084593495,
           -60.451636524593496,
           -54.073025314593494,
           -56.0277038245935,
           -56.0819674845935,
           -55.7294590345935
          ],
          [
           -55.2274977445935,
           -60.0768224545935,
           -57.8697130345935,
           -60.362334384593495,
           -59.1812857245935,
           -55.9259638645935,
           -53.00596966459349,
           -52.4865992445935,
           -60.9701948945935,
           -56.8489215845935,
           -54.0417454945935,
           -62.6253803045935,
           -59.4603967245935,
           -60.9357442145935,
           -55.627100174593494,
           -54.092850354593494,
           -59.0360001245935,
           -53.0260714445935,
           -55.2753209745935,
           -53.5683452945935,
           -57.317590394593495,
           -56.7238721045935,
           -53.301344084593495,
           -53.796350994593496,
           -50.2496963445935,
           -61.1504481845935,
           -47.0865902145935,
           -52.9060221345935,
           -52.198623354593494,
           -53.2735139245935,
           -50.248941154593496,
           -49.1802935545935,
           -48.810635454593495,
           -55.2181532545935,
           -49.7257174845935,
           -49.4347040645935,
           -61.199379934593495,
           -56.6441086245935,
           -56.4728284045935,
           -41.2738645945935,
           -38.4091243945935,
           -54.540492494593494,
           -50.5352919745935,
           -50.79659021459349,
           -46.6318317845935,
           -52.2715902145935,
           -53.943844444593495,
           -53.8355937645935,
           -50.638463344593504,
           -51.6015902145935,
           -51.216590214593495,
           -52.1665902145935,
           -55.7792634345935,
           -52.9161534745935,
           -54.0415902145935,
           -52.2570296145935,
           -56.1691132445935,
           -53.0664941745935,
           -47.8978324545935,
           -52.6315902145935,
           -44.5978954345935,
           -44.9472230445935,
           -53.4715902145935,
           -48.7958326945935,
           -48.38878259459349,
           -48.2238438645935,
           -49.3731744845935,
           -49.2028352145935,
           -45.417809434593494,
           -52.599447124593496,
           -48.1513502945935,
           -49.7706179345935,
           -60.162423114593494,
           -60.4027305945935,
           -48.5220144145935,
           -49.995167934593496,
           -57.0336781845935,
           -53.3951263445935,
           -36.7041888745935,
           -44.3158934245935,
           -42.0265678245935,
           -43.2524871145935
          ],
          [
           -47.1829490845935,
           -60.2549659345935,
           -59.2614078245935,
           -59.7865708845935,
           -52.7593648345935,
           -54.4711035045935,
           -46.1110109845935,
           -43.2317053745935,
           -57.690995084593496,
           -52.3037206745935,
           -54.8205265545935,
           -64.3339569545935,
           -60.8821983545935,
           -59.0300144345935,
           -44.3314325445935,
           -41.0593076145935,
           -55.1332222545935,
           -36.5016169145935,
           -44.2104989345935,
           -41.5161257845935,
           -43.1075293045935,
           -44.1683281645935,
           -44.1399884845935,
           -59.1313241445935,
           -53.7220548345935,
           -54.7176169745935,
           -54.8365902145935,
           -55.9099273145935,
           -53.5295361045935,
           -50.606108114593496,
           -51.8877349045935,
           -58.6986392845935,
           -56.4893653245935,
           -58.355897964593495,
           -53.411533794593495,
           -53.56720178459349,
           -64.5647019345935,
           -55.4384019245935,
           -60.3402462845935,
           -53.114258184593496,
           -51.2911330545935,
           -55.3085159145935,
           -55.637859434593494,
           -51.5265902145935,
           -49.6924729645935,
           -52.121590214593496,
           -44.8683486845935,
           -50.1716403245935,
           -50.969356024593495,
           -56.0165902145935,
           -53.0265902145935,
           -53.186590214593494,
           -49.4167155845935,
           -51.5262517845935,
           -52.04659021459349,
           -49.2227105845935,
           -52.1045018145935,
           -54.4164785045935,
           -53.5613381545935,
           -56.7715902145935,
           -49.4612064845935,
           -53.8924827945935,
           -57.7915902145935,
           -54.8231961645935,
           -52.1238688745935,
           -58.0824021045935,
           -54.6822567445935,
           -54.917736184593494,
           -53.8176206945935,
           -59.6155966745935,
           -57.8521976145935,
           -56.8636854045935,
           -62.6202633845935,
           -64.7312493645935,
           -57.4499988045935,
           -58.5334959545935,
           -63.0065724345935,
           -61.5146329345935,
           -49.7456009345935,
           -49.8464803745935,
           -48.5987369545935,
           -52.5294781545935
          ],
          [
           -51.290178984593496,
           -53.269799454593496,
           -51.409078594593495,
           -52.9385549045935,
           -50.2066813945935,
           -50.4382306845935,
           -47.9862243945935,
           -49.7300377445935,
           -50.3104220545935,
           -39.597548834593496,
           -38.1334163445935,
           -41.079878514593496,
           -51.6372165445935,
           -36.2685750145935,
           -12.569622274593499,
           -6.688264934593505,
           -46.0667210345935,
           -31.946266944593496,
           -28.0922413945935,
           -24.552548014593498,
           -18.314529874593497,
           -26.513931614593496,
           -30.163944424593495,
           -49.8465062245935,
           -51.2935106145935,
           -55.8476082245935,
           -52.4015902145935,
           -53.3524788245935,
           -53.186199154593496,
           -54.6014728045935,
           -52.238430934593495,
           -50.6067238845935,
           -50.5201853845935,
           -50.047485054593494,
           -47.8240719345935,
           -52.5191685645935,
           -56.9546848945935,
           -54.9656845445935,
           -52.2042862245935,
           -5.055938504593499,
           -12.858157324593499,
           -32.861462064593496,
           -15.7057644745935,
           -14.3515902145935,
           -4.2808477845935045,
           -17.7815902145935,
           -37.9497420145935,
           -36.4925974245935,
           -25.5763572845935,
           -35.746590214593496,
           -27.4465902145935,
           -28.151590214593497,
           -25.3753482845935,
           -28.3730459445935,
           -26.0065902145935,
           -40.4635674045935,
           -33.3041151945935,
           -26.737989554593497,
           -30.8969078445935,
           -40.3665902145935,
           -40.1574640245935,
           -36.348718554593496,
           -50.6565902145935,
           -51.8794836445935,
           -43.2950580045935,
           -41.3208045545935,
           -34.997228774593495,
           -44.043523014593504,
           -41.8277061345935,
           -54.0928364145935,
           -51.5546584445935,
           -47.8085675345935,
           -52.5844995545935,
           -55.7385792145935,
           -46.9632858145935,
           -49.9798422845935,
           -57.5608690145935,
           -45.1711904345935,
           -43.676958784593495,
           -35.171262204593496,
           -44.512954234593494,
           -42.2050355645935
          ],
          [
           -22.0889520045935,
           -12.800639774593499,
           -18.3588238145935,
           -6.8741644045935,
           -12.338773204593501,
           -17.328130104593498,
           -22.7700275245935,
           -27.782032714593498,
           -18.5984512745935,
           -26.1955174445935,
           -20.219254694593495,
           -15.1591597245935,
           -17.2567413445935,
           -24.042163754593496,
           -41.137412374593495,
           -41.7447042645935,
           -26.2753053845935,
           -37.9963692345935,
           -36.7060106345935,
           -40.3419195145935,
           -39.1920616245935,
           -39.611756694593495,
           -36.3881572245935,
           -36.4860517245935,
           -38.952161904593495,
           -28.902183784593497,
           -44.106590214593496,
           -44.0926559845935,
           -41.9641133545935,
           -41.2484801045935,
           -41.5073217545935,
           -42.487389434593496,
           -43.618280534593495,
           -41.5902741445935,
           -45.931696244593496,
           -41.9793688745935,
           -41.028092164593495,
           -46.4421685245935,
           -44.8043175045935,
           -42.8834227445935,
           -47.9808869345935,
           -42.0364510345935,
           -50.2627243545935,
           -48.0815902145935,
           -50.5834049845935,
           -47.3315902145935,
           -40.2758461245935,
           -45.4578149245935,
           -47.316659084593496,
           -44.731590214593496,
           -45.6815902145935,
           -46.996590214593496,
           -32.7464744945935,
           -46.64860502459349,
           -49.2215902145935,
           -44.073791364593504,
           -45.5449200645935,
           -48.2756171845935,
           -46.582767544593494,
           -43.216590214593495,
           -44.2230131145935,
           -43.639836384593494,
           -36.1815902145935,
           -41.081058974593496,
           -42.0337677845935,
           -42.2301839345935,
           -45.1524399845935,
           -44.7320426945935,
           -41.4435910045935,
           -37.6624282745935,
           -40.8259300845935,
           -43.972640174593494,
           -36.342197874593495,
           -32.7273083645935,
           -30.428001944593497,
           -31.976180004593502,
           -27.061563814593498,
           -35.339932294593495,
           -43.6343924645935,
           -46.8513673545935,
           -47.839344554593495,
           -44.7559136545935
          ],
          [
           -17.161196404593497,
           -34.3981245545935,
           -31.505875574593496,
           -32.9332471745935,
           -30.3239479445935,
           -23.806441014593496,
           -5.344572604593495,
           -8.070561714593495,
           -31.750894594593497,
           -25.8909015645935,
           -29.467396884593498,
           -47.255202124593495,
           -36.5091824445935,
           -43.4856934045935,
           -46.691679524593496,
           -39.9082411945935,
           -27.635651254593498,
           -15.192984224593495,
           -20.501249094593497,
           -20.925850934593498,
           -34.1657901345935,
           -25.6863575545935,
           -23.570219334593496,
           4.4690967854065065,
           10.617708345406498,
           -27.1171423745935,
           5.778409785406495,
           7.639200725406496,
           6.1049304354065015,
           7.936514225406498,
           6.534650735406501,
           8.904380735406505,
           10.234176965406505,
           0.12942598540649897,
           2.981117855406495,
           8.557950015406504,
           -18.473423554593495,
           -0.5026748545934936,
           2.7330400254064955,
           -28.296092674593496,
           -17.236604984593498,
           -23.252765054593496,
           -20.640784404593497,
           -26.0565902145935,
           -24.288410184593495,
           -23.1865902145935,
           -14.228424934593498,
           -5.108188454593503,
           -10.947759224593497,
           -12.7115902145935,
           -19.941590214593496,
           -14.7665902145935,
           -29.5882878145935,
           -14.9884469645935,
           -18.511590214593497,
           -9.855968054593504,
           -19.4123352445935,
           -17.3777150445935,
           -2.2863773645935055,
           -5.551590214593503,
           3.9590608054065086,
           -3.465818714593496,
           0.3134097854065061,
           14.933744855406502,
           13.763139745406505,
           4.183423295406499,
           2.9881013354064976,
           0.3234415654064975,
           -1.1235088545934957,
           -6.352623974593499,
           9.748764465406495,
           7.082737085406507,
           -19.942001914593497,
           -24.290113624593495,
           -0.8985218445935033,
           3.5004244454064946,
           -18.931014064593498,
           -9.509212564593497,
           17.663314155406496,
           3.1084803154064957,
           17.6003274754065,
           16.961519445406495
          ],
          [
           -13.869550544593501,
           -12.158893184593495,
           -25.996370464593497,
           -23.1627477145935,
           -27.0270626545935,
           -27.4595983045935,
           -5.406594434593501,
           -14.714136824593496,
           -24.0973340045935,
           -36.946258514593495,
           -33.9722549345935,
           -45.8343242745935,
           -21.004324384593495,
           -44.2777498145935,
           -43.8431254845935,
           -36.683989984593495,
           -12.026104904593495,
           -24.051073344593497,
           -33.4336660445935,
           -32.1340129245935,
           -32.390144964593496,
           -36.180520764593496,
           -28.856199494593497,
           -9.920146764593497,
           3.034980155406501,
           27.5814364854065,
           41.7134097854065,
           29.1891863854065,
           19.370196825406495,
           26.7942764854065,
           43.0601273854065,
           36.4302392854065,
           63.368176785406504,
           67.4407977854065,
           31.0380095854065,
           41.9847070854065,
           74.9387378854065,
           81.91163738540651,
           106.6801425854065,
           -40.2981065845935,
           -29.8514167445935,
           -39.814614704593495,
           -35.9877607345935,
           -35.161590214593495,
           -30.020812644593498,
           -31.276590214593497,
           -15.630751204593501,
           -34.926744794593496,
           -36.1929932745935,
           -37.6315902145935,
           -28.6815902145935,
           -30.051590214593496,
           -38.0217924545935,
           -35.793246134593495,
           -34.7615902145935,
           10.254886485406502,
           0.3614550454065011,
           -12.495900714593496,
           -42.043569024593495,
           -30.581590214593497,
           -28.443067814593498,
           -33.5848215045935,
           -25.911590214593495,
           -15.983529534593501,
           -34.3528830545935,
           -5.775445624593502,
           -19.000504794593496,
           17.036932785406506,
           -1.142331824593498,
           -2.737903764593497,
           17.13245512540651,
           1.5186673454064987,
           35.5763429854065,
           14.135588905406507,
           -3.559940694593493,
           -5.642303954593501,
           -6.956148224593505,
           27.9048068854065,
           -24.884778744593497,
           -36.4699961145935,
           -18.6266158345935,
           -11.461701304593497
          ]
         ]
        }
       ],
       "layout": {
        "height": 800,
        "hovermode": "closest",
        "legend": {
         "x": 0.7,
         "y": 0.7
        },
        "paper_bgcolor": "rgba(0,0,0,0)",
        "plot_bgcolor": "rgba(0,0,0,0)",
        "showlegend": false,
        "template": {
         "data": {
          "bar": [
           {
            "error_x": {
             "color": "#2a3f5f"
            },
            "error_y": {
             "color": "#2a3f5f"
            },
            "marker": {
             "line": {
              "color": "#E5ECF6",
              "width": 0.5
             },
             "pattern": {
              "fillmode": "overlay",
              "size": 10,
              "solidity": 0.2
             }
            },
            "type": "bar"
           }
          ],
          "barpolar": [
           {
            "marker": {
             "line": {
              "color": "#E5ECF6",
              "width": 0.5
             },
             "pattern": {
              "fillmode": "overlay",
              "size": 10,
              "solidity": 0.2
             }
            },
            "type": "barpolar"
           }
          ],
          "carpet": [
           {
            "aaxis": {
             "endlinecolor": "#2a3f5f",
             "gridcolor": "white",
             "linecolor": "white",
             "minorgridcolor": "white",
             "startlinecolor": "#2a3f5f"
            },
            "baxis": {
             "endlinecolor": "#2a3f5f",
             "gridcolor": "white",
             "linecolor": "white",
             "minorgridcolor": "white",
             "startlinecolor": "#2a3f5f"
            },
            "type": "carpet"
           }
          ],
          "choropleth": [
           {
            "colorbar": {
             "outlinewidth": 0,
             "ticks": ""
            },
            "type": "choropleth"
           }
          ],
          "contour": [
           {
            "colorbar": {
             "outlinewidth": 0,
             "ticks": ""
            },
            "colorscale": [
             [
              0,
              "#0d0887"
             ],
             [
              0.1111111111111111,
              "#46039f"
             ],
             [
              0.2222222222222222,
              "#7201a8"
             ],
             [
              0.3333333333333333,
              "#9c179e"
             ],
             [
              0.4444444444444444,
              "#bd3786"
             ],
             [
              0.5555555555555556,
              "#d8576b"
             ],
             [
              0.6666666666666666,
              "#ed7953"
             ],
             [
              0.7777777777777778,
              "#fb9f3a"
             ],
             [
              0.8888888888888888,
              "#fdca26"
             ],
             [
              1,
              "#f0f921"
             ]
            ],
            "type": "contour"
           }
          ],
          "contourcarpet": [
           {
            "colorbar": {
             "outlinewidth": 0,
             "ticks": ""
            },
            "type": "contourcarpet"
           }
          ],
          "heatmap": [
           {
            "colorbar": {
             "outlinewidth": 0,
             "ticks": ""
            },
            "colorscale": [
             [
              0,
              "#0d0887"
             ],
             [
              0.1111111111111111,
              "#46039f"
             ],
             [
              0.2222222222222222,
              "#7201a8"
             ],
             [
              0.3333333333333333,
              "#9c179e"
             ],
             [
              0.4444444444444444,
              "#bd3786"
             ],
             [
              0.5555555555555556,
              "#d8576b"
             ],
             [
              0.6666666666666666,
              "#ed7953"
             ],
             [
              0.7777777777777778,
              "#fb9f3a"
             ],
             [
              0.8888888888888888,
              "#fdca26"
             ],
             [
              1,
              "#f0f921"
             ]
            ],
            "type": "heatmap"
           }
          ],
          "heatmapgl": [
           {
            "colorbar": {
             "outlinewidth": 0,
             "ticks": ""
            },
            "colorscale": [
             [
              0,
              "#0d0887"
             ],
             [
              0.1111111111111111,
              "#46039f"
             ],
             [
              0.2222222222222222,
              "#7201a8"
             ],
             [
              0.3333333333333333,
              "#9c179e"
             ],
             [
              0.4444444444444444,
              "#bd3786"
             ],
             [
              0.5555555555555556,
              "#d8576b"
             ],
             [
              0.6666666666666666,
              "#ed7953"
             ],
             [
              0.7777777777777778,
              "#fb9f3a"
             ],
             [
              0.8888888888888888,
              "#fdca26"
             ],
             [
              1,
              "#f0f921"
             ]
            ],
            "type": "heatmapgl"
           }
          ],
          "histogram": [
           {
            "marker": {
             "pattern": {
              "fillmode": "overlay",
              "size": 10,
              "solidity": 0.2
             }
            },
            "type": "histogram"
           }
          ],
          "histogram2d": [
           {
            "colorbar": {
             "outlinewidth": 0,
             "ticks": ""
            },
            "colorscale": [
             [
              0,
              "#0d0887"
             ],
             [
              0.1111111111111111,
              "#46039f"
             ],
             [
              0.2222222222222222,
              "#7201a8"
             ],
             [
              0.3333333333333333,
              "#9c179e"
             ],
             [
              0.4444444444444444,
              "#bd3786"
             ],
             [
              0.5555555555555556,
              "#d8576b"
             ],
             [
              0.6666666666666666,
              "#ed7953"
             ],
             [
              0.7777777777777778,
              "#fb9f3a"
             ],
             [
              0.8888888888888888,
              "#fdca26"
             ],
             [
              1,
              "#f0f921"
             ]
            ],
            "type": "histogram2d"
           }
          ],
          "histogram2dcontour": [
           {
            "colorbar": {
             "outlinewidth": 0,
             "ticks": ""
            },
            "colorscale": [
             [
              0,
              "#0d0887"
             ],
             [
              0.1111111111111111,
              "#46039f"
             ],
             [
              0.2222222222222222,
              "#7201a8"
             ],
             [
              0.3333333333333333,
              "#9c179e"
             ],
             [
              0.4444444444444444,
              "#bd3786"
             ],
             [
              0.5555555555555556,
              "#d8576b"
             ],
             [
              0.6666666666666666,
              "#ed7953"
             ],
             [
              0.7777777777777778,
              "#fb9f3a"
             ],
             [
              0.8888888888888888,
              "#fdca26"
             ],
             [
              1,
              "#f0f921"
             ]
            ],
            "type": "histogram2dcontour"
           }
          ],
          "mesh3d": [
           {
            "colorbar": {
             "outlinewidth": 0,
             "ticks": ""
            },
            "type": "mesh3d"
           }
          ],
          "parcoords": [
           {
            "line": {
             "colorbar": {
              "outlinewidth": 0,
              "ticks": ""
             }
            },
            "type": "parcoords"
           }
          ],
          "pie": [
           {
            "automargin": true,
            "type": "pie"
           }
          ],
          "scatter": [
           {
            "fillpattern": {
             "fillmode": "overlay",
             "size": 10,
             "solidity": 0.2
            },
            "type": "scatter"
           }
          ],
          "scatter3d": [
           {
            "line": {
             "colorbar": {
              "outlinewidth": 0,
              "ticks": ""
             }
            },
            "marker": {
             "colorbar": {
              "outlinewidth": 0,
              "ticks": ""
             }
            },
            "type": "scatter3d"
           }
          ],
          "scattercarpet": [
           {
            "marker": {
             "colorbar": {
              "outlinewidth": 0,
              "ticks": ""
             }
            },
            "type": "scattercarpet"
           }
          ],
          "scattergeo": [
           {
            "marker": {
             "colorbar": {
              "outlinewidth": 0,
              "ticks": ""
             }
            },
            "type": "scattergeo"
           }
          ],
          "scattergl": [
           {
            "marker": {
             "colorbar": {
              "outlinewidth": 0,
              "ticks": ""
             }
            },
            "type": "scattergl"
           }
          ],
          "scattermapbox": [
           {
            "marker": {
             "colorbar": {
              "outlinewidth": 0,
              "ticks": ""
             }
            },
            "type": "scattermapbox"
           }
          ],
          "scatterpolar": [
           {
            "marker": {
             "colorbar": {
              "outlinewidth": 0,
              "ticks": ""
             }
            },
            "type": "scatterpolar"
           }
          ],
          "scatterpolargl": [
           {
            "marker": {
             "colorbar": {
              "outlinewidth": 0,
              "ticks": ""
             }
            },
            "type": "scatterpolargl"
           }
          ],
          "scatterternary": [
           {
            "marker": {
             "colorbar": {
              "outlinewidth": 0,
              "ticks": ""
             }
            },
            "type": "scatterternary"
           }
          ],
          "surface": [
           {
            "colorbar": {
             "outlinewidth": 0,
             "ticks": ""
            },
            "colorscale": [
             [
              0,
              "#0d0887"
             ],
             [
              0.1111111111111111,
              "#46039f"
             ],
             [
              0.2222222222222222,
              "#7201a8"
             ],
             [
              0.3333333333333333,
              "#9c179e"
             ],
             [
              0.4444444444444444,
              "#bd3786"
             ],
             [
              0.5555555555555556,
              "#d8576b"
             ],
             [
              0.6666666666666666,
              "#ed7953"
             ],
             [
              0.7777777777777778,
              "#fb9f3a"
             ],
             [
              0.8888888888888888,
              "#fdca26"
             ],
             [
              1,
              "#f0f921"
             ]
            ],
            "type": "surface"
           }
          ],
          "table": [
           {
            "cells": {
             "fill": {
              "color": "#EBF0F8"
             },
             "line": {
              "color": "white"
             }
            },
            "header": {
             "fill": {
              "color": "#C8D4E3"
             },
             "line": {
              "color": "white"
             }
            },
            "type": "table"
           }
          ]
         },
         "layout": {
          "annotationdefaults": {
           "arrowcolor": "#2a3f5f",
           "arrowhead": 0,
           "arrowwidth": 1
          },
          "autotypenumbers": "strict",
          "coloraxis": {
           "colorbar": {
            "outlinewidth": 0,
            "ticks": ""
           }
          },
          "colorscale": {
           "diverging": [
            [
             0,
             "#8e0152"
            ],
            [
             0.1,
             "#c51b7d"
            ],
            [
             0.2,
             "#de77ae"
            ],
            [
             0.3,
             "#f1b6da"
            ],
            [
             0.4,
             "#fde0ef"
            ],
            [
             0.5,
             "#f7f7f7"
            ],
            [
             0.6,
             "#e6f5d0"
            ],
            [
             0.7,
             "#b8e186"
            ],
            [
             0.8,
             "#7fbc41"
            ],
            [
             0.9,
             "#4d9221"
            ],
            [
             1,
             "#276419"
            ]
           ],
           "sequential": [
            [
             0,
             "#0d0887"
            ],
            [
             0.1111111111111111,
             "#46039f"
            ],
            [
             0.2222222222222222,
             "#7201a8"
            ],
            [
             0.3333333333333333,
             "#9c179e"
            ],
            [
             0.4444444444444444,
             "#bd3786"
            ],
            [
             0.5555555555555556,
             "#d8576b"
            ],
            [
             0.6666666666666666,
             "#ed7953"
            ],
            [
             0.7777777777777778,
             "#fb9f3a"
            ],
            [
             0.8888888888888888,
             "#fdca26"
            ],
            [
             1,
             "#f0f921"
            ]
           ],
           "sequentialminus": [
            [
             0,
             "#0d0887"
            ],
            [
             0.1111111111111111,
             "#46039f"
            ],
            [
             0.2222222222222222,
             "#7201a8"
            ],
            [
             0.3333333333333333,
             "#9c179e"
            ],
            [
             0.4444444444444444,
             "#bd3786"
            ],
            [
             0.5555555555555556,
             "#d8576b"
            ],
            [
             0.6666666666666666,
             "#ed7953"
            ],
            [
             0.7777777777777778,
             "#fb9f3a"
            ],
            [
             0.8888888888888888,
             "#fdca26"
            ],
            [
             1,
             "#f0f921"
            ]
           ]
          },
          "colorway": [
           "#636efa",
           "#EF553B",
           "#00cc96",
           "#ab63fa",
           "#FFA15A",
           "#19d3f3",
           "#FF6692",
           "#B6E880",
           "#FF97FF",
           "#FECB52"
          ],
          "font": {
           "color": "#2a3f5f"
          },
          "geo": {
           "bgcolor": "white",
           "lakecolor": "white",
           "landcolor": "#E5ECF6",
           "showlakes": true,
           "showland": true,
           "subunitcolor": "white"
          },
          "hoverlabel": {
           "align": "left"
          },
          "hovermode": "closest",
          "mapbox": {
           "style": "light"
          },
          "paper_bgcolor": "white",
          "plot_bgcolor": "#E5ECF6",
          "polar": {
           "angularaxis": {
            "gridcolor": "white",
            "linecolor": "white",
            "ticks": ""
           },
           "bgcolor": "#E5ECF6",
           "radialaxis": {
            "gridcolor": "white",
            "linecolor": "white",
            "ticks": ""
           }
          },
          "scene": {
           "xaxis": {
            "backgroundcolor": "#E5ECF6",
            "gridcolor": "white",
            "gridwidth": 2,
            "linecolor": "white",
            "showbackground": true,
            "ticks": "",
            "zerolinecolor": "white"
           },
           "yaxis": {
            "backgroundcolor": "#E5ECF6",
            "gridcolor": "white",
            "gridwidth": 2,
            "linecolor": "white",
            "showbackground": true,
            "ticks": "",
            "zerolinecolor": "white"
           },
           "zaxis": {
            "backgroundcolor": "#E5ECF6",
            "gridcolor": "white",
            "gridwidth": 2,
            "linecolor": "white",
            "showbackground": true,
            "ticks": "",
            "zerolinecolor": "white"
           }
          },
          "shapedefaults": {
           "line": {
            "color": "#2a3f5f"
           }
          },
          "ternary": {
           "aaxis": {
            "gridcolor": "white",
            "linecolor": "white",
            "ticks": ""
           },
           "baxis": {
            "gridcolor": "white",
            "linecolor": "white",
            "ticks": ""
           },
           "bgcolor": "#E5ECF6",
           "caxis": {
            "gridcolor": "white",
            "linecolor": "white",
            "ticks": ""
           }
          },
          "title": {
           "x": 0.05
          },
          "xaxis": {
           "automargin": true,
           "gridcolor": "white",
           "linecolor": "white",
           "ticks": "",
           "title": {
            "standoff": 15
           },
           "zerolinecolor": "white",
           "zerolinewidth": 2
          },
          "yaxis": {
           "automargin": true,
           "gridcolor": "white",
           "linecolor": "white",
           "ticks": "",
           "title": {
            "standoff": 15
           },
           "zerolinecolor": "white",
           "zerolinewidth": 2
          }
         }
        },
        "width": 700,
        "xaxis": {
         "anchor": "y",
         "domain": [
          0,
          0.95
         ],
         "fixedrange": false,
         "mirror": false,
         "showgrid": false,
         "showline": false,
         "showticklabels": false,
         "type": "linear",
         "zeroline": false
        },
        "xaxis10": {
         "anchor": "y10",
         "domain": [
          0.15833333333333333,
          0.15833333333333333
         ],
         "fixedrange": false,
         "mirror": false,
         "showgrid": false,
         "showline": false,
         "showticklabels": false,
         "type": "linear",
         "zeroline": false
        },
        "xaxis11": {
         "anchor": "y11",
         "domain": [
          0.15833333333333333,
          0.95
         ],
         "fixedrange": false,
         "mirror": false,
         "range": [
          0,
          820
         ],
         "showgrid": false,
         "showline": false,
         "showticklabels": true,
         "side": "bottom",
         "tickmode": "array",
         "ticktext": [
          "ggpmi-ppfk",
          "ggpmi-ppgi",
          "ggpmi-ppyk",
          "gpfk-pglk",
          "ggpmi-pfba",
          "ggpmi-ppgk",
          "ggpmi-ptpi",
          "ggpmi-pgapdh",
          "geno-ppgk",
          "gpyk-pglk",
          "gtpi-peno",
          "Geneid",
          "geno-ppgi",
          "geno-ptpi",
          "gtpi-phxk",
          "gtpi-ppfk",
          "geno-ppfk",
          "geno-pgpmi",
          "geno-pfba",
          "gtpi-pfba",
          "gtpi-pgapdh",
          "gtpi-ppgk",
          "gtpi-pgpmi",
          "ghxk-ppyk",
          "gpfk-peno",
          "geno-pgapdh",
          "gpgi-phxk",
          "gpfk-ppgi",
          "gfba-pgapdh",
          "gfba-ppfk",
          "gfba-peno",
          "gpfk-ptpi",
          "gpfk-ppgk",
          "gpfk-pfba",
          "geno-pglk",
          "gfba-ppgi",
          "ggapdh-ptpi",
          "gfba-ptpi",
          "gpfk-pgpmi",
          "ggapdh-ppgi",
          "gfba-ppyk",
          "ggapdh-pfba",
          "ggpmi-pglk",
          "gpgi-peno",
          "gfba-pgpmi",
          "gpgi-pgpmi",
          "geno-ppyk",
          "ghxk-pgpmi",
          "gpyk-pfba",
          "gpgi-ptpi",
          "gpgi-pfba",
          "gpgi-ppgk",
          "gtpi-ppgi",
          "ghxk-pgapdh",
          "gpgi-ppfk",
          "gfba-phxk",
          "gfba-ppgk",
          "gpfk-pgapdh",
          "gpyk-ppfk",
          "gtpi-pglk",
          "ggapdh-pglk",
          "ghxk-ptpi",
          "gpgi-pgapdh",
          "ghxk-ppgk",
          "gpyk-ptpi",
          "gpfk-ppyk",
          "gpyk-ppgk",
          "ghxk-pfba",
          "gpgi-ppyk",
          "ghxk-peno",
          "ghxk-ppgi",
          "ghxk-ppfk",
          "ggapdh-ppfk",
          "ggapdh-ppyk",
          "gfba-pglk",
          "ggapdh-pgpmi",
          "ggapdh-peno",
          "ggapdh-ppgk",
          "gpyk-phxk",
          "gpyk-pgapdh",
          "gpyk-ppgi",
          "gpyk-peno"
         ],
         "tickvals": [
          5,
          15,
          25,
          35,
          45,
          55,
          65,
          75,
          85,
          95,
          105,
          115,
          125,
          135,
          145,
          155,
          165,
          175,
          185,
          195,
          205,
          215,
          225,
          235,
          245,
          255,
          265,
          275,
          285,
          295,
          305,
          315,
          325,
          335,
          345,
          355,
          365,
          375,
          385,
          395,
          405,
          415,
          425,
          435,
          445,
          455,
          465,
          475,
          485,
          495,
          505,
          515,
          525,
          535,
          545,
          555,
          565,
          575,
          585,
          595,
          605,
          615,
          625,
          635,
          645,
          655,
          665,
          675,
          685,
          695,
          705,
          715,
          725,
          735,
          745,
          755,
          765,
          775,
          785,
          795,
          805,
          815
         ],
         "type": "linear",
         "zeroline": false
        },
        "xaxis12": {
         "anchor": "y12",
         "domain": [
          0.95,
          1
         ],
         "fixedrange": false,
         "mirror": false,
         "range": [
          -5,
          1
         ],
         "showgrid": false,
         "showline": false,
         "showticklabels": false,
         "type": "linear",
         "zeroline": false
        },
        "xaxis13": {
         "anchor": "y13",
         "domain": [
          0,
          0.2
         ]
        },
        "xaxis14": {
         "anchor": "y14",
         "domain": [
          0.2,
          0.4
         ]
        },
        "xaxis15": {
         "anchor": "y15",
         "domain": [
          0.15833333333333333,
          0.95
         ],
         "fixedrange": false,
         "mirror": false,
         "range": [
          5,
          815
         ],
         "scaleanchor": "x11",
         "scaleratio": 1,
         "showgrid": false,
         "showline": false,
         "showticklabels": false,
         "type": "linear",
         "zeroline": false
        },
        "xaxis16": {
         "anchor": "y16",
         "domain": [
          0.8,
          1
         ]
        },
        "xaxis2": {
         "anchor": "y2",
         "domain": [
          0.2,
          0.4
         ]
        },
        "xaxis3": {
         "anchor": "y9",
         "domain": [
          0.15833333333333333,
          0.95
         ],
         "fixedrange": false,
         "mirror": false,
         "scaleanchor": "x11",
         "showgrid": false,
         "showline": false,
         "showticklabels": false,
         "type": "linear",
         "zeroline": false
        },
        "xaxis4": {
         "anchor": "y4",
         "domain": [
          0.8,
          1
         ]
        },
        "xaxis5": {
         "anchor": "y5",
         "domain": [
          0,
          0.95
         ],
         "fixedrange": false,
         "mirror": false,
         "showgrid": false,
         "showline": false,
         "showticklabels": false,
         "type": "linear",
         "zeroline": false
        },
        "xaxis6": {
         "anchor": "y6",
         "domain": [
          0.2,
          0.4
         ],
         "fixedrange": false,
         "mirror": false,
         "showgrid": false,
         "showline": false,
         "showticklabels": false,
         "type": "linear",
         "zeroline": false
        },
        "xaxis7": {
         "anchor": "y9",
         "domain": [
          0.15833333333333333,
          0.95
         ],
         "fixedrange": false,
         "mirror": false,
         "showgrid": false,
         "showline": false,
         "showticklabels": false,
         "type": "linear",
         "zeroline": false
        },
        "xaxis8": {
         "anchor": "y8",
         "domain": [
          0.8,
          1
         ]
        },
        "xaxis9": {
         "anchor": "y9",
         "domain": [
          0,
          0.15833333333333333
         ],
         "fixedrange": false,
         "mirror": false,
         "showgrid": false,
         "showline": false,
         "showticklabels": false,
         "type": "linear",
         "zeroline": false
        },
        "yaxis": {
         "anchor": "x",
         "domain": [
          0.8416666666666667,
          1
         ],
         "fixedrange": false,
         "mirror": false,
         "showgrid": false,
         "showline": false,
         "showticklabels": false,
         "type": "linear",
         "zeroline": false
        },
        "yaxis10": {
         "anchor": "x10",
         "domain": [
          0,
          0.8416666666666667
         ],
         "fixedrange": false,
         "mirror": false,
         "showgrid": false,
         "showline": false,
         "showticklabels": false,
         "type": "linear",
         "zeroline": false
        },
        "yaxis11": {
         "anchor": "x11",
         "domain": [
          0,
          0.8416666666666667
         ],
         "fixedrange": false,
         "mirror": false,
         "showgrid": false,
         "showline": false,
         "showticklabels": true,
         "side": "right",
         "tickmode": "array",
         "ticktext": [
          4,
          6,
          9,
          5,
          10,
          8,
          3,
          11,
          0,
          1,
          2,
          7
         ],
         "tickvals": [
          5,
          15,
          25,
          35,
          45,
          55,
          65,
          75,
          85,
          95,
          105,
          115
         ],
         "type": "linear",
         "zeroline": false
        },
        "yaxis12": {
         "anchor": "x12",
         "domain": [
          0,
          0.7916666666666666
         ],
         "fixedrange": false,
         "mirror": false,
         "range": [
          5,
          115
         ],
         "scaleanchor": "y11",
         "scaleratio": 1,
         "showgrid": false,
         "showline": false,
         "showticklabels": false,
         "type": "linear",
         "zeroline": false
        },
        "yaxis13": {
         "anchor": "x13",
         "domain": [
          0,
          0.2
         ]
        },
        "yaxis14": {
         "anchor": "x14",
         "domain": [
          0,
          0.2
         ]
        },
        "yaxis15": {
         "anchor": "x15",
         "domain": [
          0.7916666666666666,
          0.8416666666666667
         ],
         "fixedrange": false,
         "mirror": false,
         "range": [
          -0.5,
          0.5
         ],
         "showgrid": false,
         "showline": false,
         "showticklabels": false,
         "type": "linear",
         "zeroline": false
        },
        "yaxis16": {
         "anchor": "x16",
         "domain": [
          0,
          0.2
         ]
        },
        "yaxis2": {
         "anchor": "x2",
         "domain": [
          0.8,
          1
         ]
        },
        "yaxis3": {
         "anchor": "x3",
         "domain": [
          0.8416666666666667,
          1
         ],
         "fixedrange": false,
         "mirror": false,
         "range": [
          0,
          260.36523654278994
         ],
         "showgrid": false,
         "showline": false,
         "showticklabels": false,
         "type": "linear",
         "zeroline": false
        },
        "yaxis4": {
         "anchor": "x4",
         "domain": [
          0.8,
          1
         ]
        },
        "yaxis5": {
         "anchor": "x5",
         "domain": [
          0.8416666666666667,
          0.8416666666666667
         ],
         "fixedrange": false,
         "mirror": false,
         "showgrid": false,
         "showline": false,
         "showticklabels": false,
         "type": "linear",
         "zeroline": false
        },
        "yaxis6": {
         "anchor": "x6",
         "domain": [
          0.8416666666666667,
          0.8416666666666667
         ],
         "fixedrange": false,
         "mirror": false,
         "showgrid": false,
         "showline": false,
         "showticklabels": false,
         "type": "linear",
         "zeroline": false
        },
        "yaxis7": {
         "anchor": "x7",
         "domain": [
          0.8416666666666667,
          0.8416666666666667
         ],
         "fixedrange": false,
         "mirror": false,
         "showgrid": false,
         "showline": false,
         "showticklabels": false,
         "type": "linear",
         "zeroline": false
        },
        "yaxis8": {
         "anchor": "x8",
         "domain": [
          0.6000000000000001,
          0.8
         ]
        },
        "yaxis9": {
         "anchor": "x9",
         "domain": [
          0,
          0.8416666666666667
         ],
         "fixedrange": false,
         "mirror": false,
         "range": [
          5,
          115
         ],
         "scaleanchor": "y11",
         "showgrid": false,
         "showline": false,
         "showticklabels": false,
         "type": "linear",
         "zeroline": false
        }
       }
      }
     },
     "metadata": {},
     "output_type": "display_data"
    }
   ],
   "source": [
    "import pandas as pd\n",
    "import dash_bio\n",
    "\n",
    "dash_bio.Clustergram(\n",
    "    data=df,\n",
    "    column_labels=list(df.columns.values),\n",
    "    row_labels=list(df.index),\n",
    "    # hidden_labels='row',\n",
    "    height=800,\n",
    "    width=700,\n",
    "    color_map='Rdbu',\n",
    ")"
   ]
  },
  {
   "cell_type": "markdown",
   "metadata": {},
   "source": [
    "### 尝试"
   ]
  },
  {
   "cell_type": "code",
   "execution_count": 29,
   "metadata": {},
   "outputs": [
    {
     "data": {
      "image/png": "[encoded data removed]",
      "text/plain": [
       "<Figure size 1000x800 with 2 Axes>"
      ]
     },
     "metadata": {},
     "output_type": "display_data"
    },
    {
     "data": {
      "application/vnd.plotly.v1+json": {
       "config": {
        "plotlyServerURL": "https://plot.ly"
       },
       "data": [
        {
         "colorscale": [
          [
           0,
           "#440154"
          ],
          [
           0.1111111111111111,
           "#482878"
          ],
          [
           0.2222222222222222,
           "#3e4989"
          ],
          [
           0.3333333333333333,
           "#31688e"
          ],
          [
           0.4444444444444444,
           "#26828e"
          ],
          [
           0.5555555555555556,
           "#1f9e89"
          ],
          [
           0.6666666666666666,
           "#35b779"
          ],
          [
           0.7777777777777778,
           "#6ece58"
          ],
          [
           0.8888888888888888,
           "#b5de2b"
          ],
          [
           1,
           "#fde725"
          ]
         ],
         "type": "heatmap",
         "x": [
          "M1",
          "M2",
          "M3",
          "M4",
          "M5",
          "M6",
          "M7",
          "M8",
          "M9",
          "M10"
         ],
         "y": [
          "Gene1",
          "Gene2",
          "Gene3",
          "Gene4",
          "Gene5",
          "Gene6",
          "Gene7",
          "Gene8",
          "Gene9",
          "Gene10",
          "Gene11",
          "Gene12",
          "Gene13",
          "Gene14",
          "Gene15"
         ],
         "z": [
          [
           8.454808497,
           8.019388907,
           8.990836345,
           9.718631131,
           7.908074587,
           4.147050991,
           4.985083787,
           4.57671087,
           4.930349329,
           4.293699598
          ],
          [
           8.690519642,
           8.630346238,
           7.080872703,
           9.838475522,
           8.271824038,
           5.179199994,
           5.20086806,
           3.266992739,
           5.56522634,
           4.300308766
          ],
          [
           8.648365501,
           8.600555354,
           9.431045688,
           7.923020562,
           8.309213794,
           4.902510144,
           5.750804266,
           4.492856299,
           4.659987011,
           3.306275424
          ],
          [
           8.628883627,
           9.238677081,
           8.487243058,
           8.958537351,
           7.35710866,
           4.541604775,
           6.370532949,
           4.246650665,
           4.745768992,
           3.449626882
          ],
          [
           4.983768886,
           6.748021531,
           6.22079149,
           4.719403432,
           3.284345911,
           8.089849804,
           10.63747203,
           7.214911674,
           9.002710348,
           5.12335893
          ],
          [
           5.551639719,
           5.406464999,
           4.663784746,
           3.550765405,
           4.103506712,
           8.393990714,
           9.538503099,
           9.06992267,
           8.639664402,
           7.106391575
          ],
          [
           6.890079479,
           8.883941099,
           9.560650816,
           8.285673685,
           9.043751557,
           3.544009978,
           4.919182637,
           4.664793666,
           4.410468359,
           5.822082766
          ],
          [
           7.883061275,
           8.546584568,
           8.364553131,
           9.54011012,
           8.69747335,
           3.557674338,
           4.453887308,
           4.203405209,
           5.06508165,
           5.712803093
          ],
          [
           6.18690843,
           4.4488033,
           5.428770812,
           6.747681482,
           2.57757949,
           7.828232763,
           6.517819482,
           10.20686832,
           9.345190217,
           6.736779744
          ],
          [
           8.598145058,
           4.920183561,
           9.22764453,
           5.222157127,
           4.68984964,
           8.703616836,
           8.657713529,
           7.820688264,
           2.943618033,
           5.241017461
          ],
          [
           4.837475434,
           5.999576417,
           6.115168425,
           5.056323015,
           4.808929654,
           6.713164014,
           12.18930654,
           6.310853098,
           8.391136991,
           5.602700457
          ],
          [
           8.65629019,
           9.957289007,
           7.319900294,
           8.073513984,
           9.016657667,
           4.517623152,
           4.722709584,
           3.961950715,
           4.440519757,
           5.358179692
          ],
          [
           9.52082185,
           4.630086068,
           5.11648649,
           9.346002833,
           9.813191555,
           6.101415747,
           4.186182287,
           4.1986391,
           7.193107863,
           5.918700249
          ],
          [
           4.230927183,
           5.932495709,
           5.011897812,
           5.101308396,
           4.398327084,
           6.380093554,
           8.984662724,
           10.234718,
           9.800304561,
           5.949899014
          ],
          [
           5.805177087,
           4.343196988,
           6.13937959,
           5.817530254,
           2.513284247,
           8.188458184,
           7.126535671,
           10.40428574,
           8.873457973,
           6.81332831
          ]
         ]
        }
       ],
       "layout": {
        "template": {
         "data": {
          "bar": [
           {
            "error_x": {
             "color": "#2a3f5f"
            },
            "error_y": {
             "color": "#2a3f5f"
            },
            "marker": {
             "line": {
              "color": "#E5ECF6",
              "width": 0.5
             },
             "pattern": {
              "fillmode": "overlay",
              "size": 10,
              "solidity": 0.2
             }
            },
            "type": "bar"
           }
          ],
          "barpolar": [
           {
            "marker": {
             "line": {
              "color": "#E5ECF6",
              "width": 0.5
             },
             "pattern": {
              "fillmode": "overlay",
              "size": 10,
              "solidity": 0.2
             }
            },
            "type": "barpolar"
           }
          ],
          "carpet": [
           {
            "aaxis": {
             "endlinecolor": "#2a3f5f",
             "gridcolor": "white",
             "linecolor": "white",
             "minorgridcolor": "white",
             "startlinecolor": "#2a3f5f"
            },
            "baxis": {
             "endlinecolor": "#2a3f5f",
             "gridcolor": "white",
             "linecolor": "white",
             "minorgridcolor": "white",
             "startlinecolor": "#2a3f5f"
            },
            "type": "carpet"
           }
          ],
          "choropleth": [
           {
            "colorbar": {
             "outlinewidth": 0,
             "ticks": ""
            },
            "type": "choropleth"
           }
          ],
          "contour": [
           {
            "colorbar": {
             "outlinewidth": 0,
             "ticks": ""
            },
            "colorscale": [
             [
              0,
              "#0d0887"
             ],
             [
              0.1111111111111111,
              "#46039f"
             ],
             [
              0.2222222222222222,
              "#7201a8"
             ],
             [
              0.3333333333333333,
              "#9c179e"
             ],
             [
              0.4444444444444444,
              "#bd3786"
             ],
             [
              0.5555555555555556,
              "#d8576b"
             ],
             [
              0.6666666666666666,
              "#ed7953"
             ],
             [
              0.7777777777777778,
              "#fb9f3a"
             ],
             [
              0.8888888888888888,
              "#fdca26"
             ],
             [
              1,
              "#f0f921"
             ]
            ],
            "type": "contour"
           }
          ],
          "contourcarpet": [
           {
            "colorbar": {
             "outlinewidth": 0,
             "ticks": ""
            },
            "type": "contourcarpet"
           }
          ],
          "heatmap": [
           {
            "colorbar": {
             "outlinewidth": 0,
             "ticks": ""
            },
            "colorscale": [
             [
              0,
              "#0d0887"
             ],
             [
              0.1111111111111111,
              "#46039f"
             ],
             [
              0.2222222222222222,
              "#7201a8"
             ],
             [
              0.3333333333333333,
              "#9c179e"
             ],
             [
              0.4444444444444444,
              "#bd3786"
             ],
             [
              0.5555555555555556,
              "#d8576b"
             ],
             [
              0.6666666666666666,
              "#ed7953"
             ],
             [
              0.7777777777777778,
              "#fb9f3a"
             ],
             [
              0.8888888888888888,
              "#fdca26"
             ],
             [
              1,
              "#f0f921"
             ]
            ],
            "type": "heatmap"
           }
          ],
          "heatmapgl": [
           {
            "colorbar": {
             "outlinewidth": 0,
             "ticks": ""
            },
            "colorscale": [
             [
              0,
              "#0d0887"
             ],
             [
              0.1111111111111111,
              "#46039f"
             ],
             [
              0.2222222222222222,
              "#7201a8"
             ],
             [
              0.3333333333333333,
              "#9c179e"
             ],
             [
              0.4444444444444444,
              "#bd3786"
             ],
             [
              0.5555555555555556,
              "#d8576b"
             ],
             [
              0.6666666666666666,
              "#ed7953"
             ],
             [
              0.7777777777777778,
              "#fb9f3a"
             ],
             [
              0.8888888888888888,
              "#fdca26"
             ],
             [
              1,
              "#f0f921"
             ]
            ],
            "type": "heatmapgl"
           }
          ],
          "histogram": [
           {
            "marker": {
             "pattern": {
              "fillmode": "overlay",
              "size": 10,
              "solidity": 0.2
             }
            },
            "type": "histogram"
           }
          ],
          "histogram2d": [
           {
            "colorbar": {
             "outlinewidth": 0,
             "ticks": ""
            },
            "colorscale": [
             [
              0,
              "#0d0887"
             ],
             [
              0.1111111111111111,
              "#46039f"
             ],
             [
              0.2222222222222222,
              "#7201a8"
             ],
             [
              0.3333333333333333,
              "#9c179e"
             ],
             [
              0.4444444444444444,
              "#bd3786"
             ],
             [
              0.5555555555555556,
              "#d8576b"
             ],
             [
              0.6666666666666666,
              "#ed7953"
             ],
             [
              0.7777777777777778,
              "#fb9f3a"
             ],
             [
              0.8888888888888888,
              "#fdca26"
             ],
             [
              1,
              "#f0f921"
             ]
            ],
            "type": "histogram2d"
           }
          ],
          "histogram2dcontour": [
           {
            "colorbar": {
             "outlinewidth": 0,
             "ticks": ""
            },
            "colorscale": [
             [
              0,
              "#0d0887"
             ],
             [
              0.1111111111111111,
              "#46039f"
             ],
             [
              0.2222222222222222,
              "#7201a8"
             ],
             [
              0.3333333333333333,
              "#9c179e"
             ],
             [
              0.4444444444444444,
              "#bd3786"
             ],
             [
              0.5555555555555556,
              "#d8576b"
             ],
             [
              0.6666666666666666,
              "#ed7953"
             ],
             [
              0.7777777777777778,
              "#fb9f3a"
             ],
             [
              0.8888888888888888,
              "#fdca26"
             ],
             [
              1,
              "#f0f921"
             ]
            ],
            "type": "histogram2dcontour"
           }
          ],
          "mesh3d": [
           {
            "colorbar": {
             "outlinewidth": 0,
             "ticks": ""
            },
            "type": "mesh3d"
           }
          ],
          "parcoords": [
           {
            "line": {
             "colorbar": {
              "outlinewidth": 0,
              "ticks": ""
             }
            },
            "type": "parcoords"
           }
          ],
          "pie": [
           {
            "automargin": true,
            "type": "pie"
           }
          ],
          "scatter": [
           {
            "fillpattern": {
             "fillmode": "overlay",
             "size": 10,
             "solidity": 0.2
            },
            "type": "scatter"
           }
          ],
          "scatter3d": [
           {
            "line": {
             "colorbar": {
              "outlinewidth": 0,
              "ticks": ""
             }
            },
            "marker": {
             "colorbar": {
              "outlinewidth": 0,
              "ticks": ""
             }
            },
            "type": "scatter3d"
           }
          ],
          "scattercarpet": [
           {
            "marker": {
             "colorbar": {
              "outlinewidth": 0,
              "ticks": ""
             }
            },
            "type": "scattercarpet"
           }
          ],
          "scattergeo": [
           {
            "marker": {
             "colorbar": {
              "outlinewidth": 0,
              "ticks": ""
             }
            },
            "type": "scattergeo"
           }
          ],
          "scattergl": [
           {
            "marker": {
             "colorbar": {
              "outlinewidth": 0,
              "ticks": ""
             }
            },
            "type": "scattergl"
           }
          ],
          "scattermapbox": [
           {
            "marker": {
             "colorbar": {
              "outlinewidth": 0,
              "ticks": ""
             }
            },
            "type": "scattermapbox"
           }
          ],
          "scatterpolar": [
           {
            "marker": {
             "colorbar": {
              "outlinewidth": 0,
              "ticks": ""
             }
            },
            "type": "scatterpolar"
           }
          ],
          "scatterpolargl": [
           {
            "marker": {
             "colorbar": {
              "outlinewidth": 0,
              "ticks": ""
             }
            },
            "type": "scatterpolargl"
           }
          ],
          "scatterternary": [
           {
            "marker": {
             "colorbar": {
              "outlinewidth": 0,
              "ticks": ""
             }
            },
            "type": "scatterternary"
           }
          ],
          "surface": [
           {
            "colorbar": {
             "outlinewidth": 0,
             "ticks": ""
            },
            "colorscale": [
             [
              0,
              "#0d0887"
             ],
             [
              0.1111111111111111,
              "#46039f"
             ],
             [
              0.2222222222222222,
              "#7201a8"
             ],
             [
              0.3333333333333333,
              "#9c179e"
             ],
             [
              0.4444444444444444,
              "#bd3786"
             ],
             [
              0.5555555555555556,
              "#d8576b"
             ],
             [
              0.6666666666666666,
              "#ed7953"
             ],
             [
              0.7777777777777778,
              "#fb9f3a"
             ],
             [
              0.8888888888888888,
              "#fdca26"
             ],
             [
              1,
              "#f0f921"
             ]
            ],
            "type": "surface"
           }
          ],
          "table": [
           {
            "cells": {
             "fill": {
              "color": "#EBF0F8"
             },
             "line": {
              "color": "white"
             }
            },
            "header": {
             "fill": {
              "color": "#C8D4E3"
             },
             "line": {
              "color": "white"
             }
            },
            "type": "table"
           }
          ]
         },
         "layout": {
          "annotationdefaults": {
           "arrowcolor": "#2a3f5f",
           "arrowhead": 0,
           "arrowwidth": 1
          },
          "autotypenumbers": "strict",
          "coloraxis": {
           "colorbar": {
            "outlinewidth": 0,
            "ticks": ""
           }
          },
          "colorscale": {
           "diverging": [
            [
             0,
             "#8e0152"
            ],
            [
             0.1,
             "#c51b7d"
            ],
            [
             0.2,
             "#de77ae"
            ],
            [
             0.3,
             "#f1b6da"
            ],
            [
             0.4,
             "#fde0ef"
            ],
            [
             0.5,
             "#f7f7f7"
            ],
            [
             0.6,
             "#e6f5d0"
            ],
            [
             0.7,
             "#b8e186"
            ],
            [
             0.8,
             "#7fbc41"
            ],
            [
             0.9,
             "#4d9221"
            ],
            [
             1,
             "#276419"
            ]
           ],
           "sequential": [
            [
             0,
             "#0d0887"
            ],
            [
             0.1111111111111111,
             "#46039f"
            ],
            [
             0.2222222222222222,
             "#7201a8"
            ],
            [
             0.3333333333333333,
             "#9c179e"
            ],
            [
             0.4444444444444444,
             "#bd3786"
            ],
            [
             0.5555555555555556,
             "#d8576b"
            ],
            [
             0.6666666666666666,
             "#ed7953"
            ],
            [
             0.7777777777777778,
             "#fb9f3a"
            ],
            [
             0.8888888888888888,
             "#fdca26"
            ],
            [
             1,
             "#f0f921"
            ]
           ],
           "sequentialminus": [
            [
             0,
             "#0d0887"
            ],
            [
             0.1111111111111111,
             "#46039f"
            ],
            [
             0.2222222222222222,
             "#7201a8"
            ],
            [
             0.3333333333333333,
             "#9c179e"
            ],
            [
             0.4444444444444444,
             "#bd3786"
            ],
            [
             0.5555555555555556,
             "#d8576b"
            ],
            [
             0.6666666666666666,
             "#ed7953"
            ],
            [
             0.7777777777777778,
             "#fb9f3a"
            ],
            [
             0.8888888888888888,
             "#fdca26"
            ],
            [
             1,
             "#f0f921"
            ]
           ]
          },
          "colorway": [
           "#636efa",
           "#EF553B",
           "#00cc96",
           "#ab63fa",
           "#FFA15A",
           "#19d3f3",
           "#FF6692",
           "#B6E880",
           "#FF97FF",
           "#FECB52"
          ],
          "font": {
           "color": "#2a3f5f"
          },
          "geo": {
           "bgcolor": "white",
           "lakecolor": "white",
           "landcolor": "#E5ECF6",
           "showlakes": true,
           "showland": true,
           "subunitcolor": "white"
          },
          "hoverlabel": {
           "align": "left"
          },
          "hovermode": "closest",
          "mapbox": {
           "style": "light"
          },
          "paper_bgcolor": "white",
          "plot_bgcolor": "#E5ECF6",
          "polar": {
           "angularaxis": {
            "gridcolor": "white",
            "linecolor": "white",
            "ticks": ""
           },
           "bgcolor": "#E5ECF6",
           "radialaxis": {
            "gridcolor": "white",
            "linecolor": "white",
            "ticks": ""
           }
          },
          "scene": {
           "xaxis": {
            "backgroundcolor": "#E5ECF6",
            "gridcolor": "white",
            "gridwidth": 2,
            "linecolor": "white",
            "showbackground": true,
            "ticks": "",
            "zerolinecolor": "white"
           },
           "yaxis": {
            "backgroundcolor": "#E5ECF6",
            "gridcolor": "white",
            "gridwidth": 2,
            "linecolor": "white",
            "showbackground": true,
            "ticks": "",
            "zerolinecolor": "white"
           },
           "zaxis": {
            "backgroundcolor": "#E5ECF6",
            "gridcolor": "white",
            "gridwidth": 2,
            "linecolor": "white",
            "showbackground": true,
            "ticks": "",
            "zerolinecolor": "white"
           }
          },
          "shapedefaults": {
           "line": {
            "color": "#2a3f5f"
           }
          },
          "ternary": {
           "aaxis": {
            "gridcolor": "white",
            "linecolor": "white",
            "ticks": ""
           },
           "baxis": {
            "gridcolor": "white",
            "linecolor": "white",
            "ticks": ""
           },
           "bgcolor": "#E5ECF6",
           "caxis": {
            "gridcolor": "white",
            "linecolor": "white",
            "ticks": ""
           }
          },
          "title": {
           "x": 0.05
          },
          "xaxis": {
           "automargin": true,
           "gridcolor": "white",
           "linecolor": "white",
           "ticks": "",
           "title": {
            "standoff": 15
           },
           "zerolinecolor": "white",
           "zerolinewidth": 2
          },
          "yaxis": {
           "automargin": true,
           "gridcolor": "white",
           "linecolor": "white",
           "ticks": "",
           "title": {
            "standoff": 15
           },
           "zerolinecolor": "white",
           "zerolinewidth": 2
          }
         }
        },
        "title": {
         "text": "基因表达谱交互式热图"
        },
        "xaxis": {
         "title": {
          "text": "样本"
         }
        },
        "yaxis": {
         "title": {
          "text": "基因"
         }
        }
       }
      }
     },
     "metadata": {},
     "output_type": "display_data"
    }
   ],
   "source": [
    "import pandas as pd\n",
    "import seaborn as sns\n",
    "import matplotlib.pyplot as plt\n",
    "import plotly.graph_objs as go\n",
    "\n",
    "df_sea = pd.read_csv('./demo_RPKM_1.txt',sep='\\t').copy()\n",
    "df_sea.set_index('Geneid', inplace=True)  # 假设基因名的列名是'Gene'\n",
    "\n",
    "sns.clustermap(df_sea, method='average', cmap='viridis', figsize=(12, 10))\n",
    "\n",
    "# 使用Seaborn创建热图\n",
    "plt.figure(figsize=(10, 8))\n",
    "sns.heatmap(df_sea, cmap='viridis')\n",
    "plt.show()\n",
    "\n",
    "# 将Seaborn热图转换为Plotly的交互式热图\n",
    "data = df_sea.values\n",
    "x_labels = df_sea.columns\n",
    "y_labels = df_sea.index\n",
    "\n",
    "trace = go.Heatmap(z=data, x=x_labels, y=y_labels, colorscale='Viridis')\n",
    "fig = go.Figure(data=[trace])\n",
    "fig.update_layout(\n",
    "    title='基因表达谱交互式热图',\n",
    "    xaxis=dict(title='样本'),\n",
    "    yaxis=dict(title='基因')\n",
    ")\n",
    "fig.show()\n"
   ]
  },
  {
   "cell_type": "markdown",
   "metadata": {},
   "source": [
    "### 方式1\n",
    "- 显示方式不好，不如go方法"
   ]
  },
  {
   "cell_type": "code",
   "execution_count": 24,
   "metadata": {},
   "outputs": [
    {
     "data": {
      "application/vnd.plotly.v1+json": {
       "config": {
        "plotlyServerURL": "https://plot.ly"
       },
       "data": [
        {
         "coloraxis": "coloraxis",
         "hovertemplate": "Gene: %{x}<br>Sample: %{y}<br>RPKM: %{z:.1f}",
         "name": "0",
         "type": "heatmap",
         "x": [
          "Gene1",
          "Gene2",
          "Gene3",
          "Gene4",
          "Gene5",
          "Gene6",
          "Gene7",
          "Gene8",
          "Gene9",
          "Gene10",
          "Gene11",
          "Gene12",
          "Gene13",
          "Gene14",
          "Gene15"
         ],
         "xaxis": "x",
         "y": [
          "M1",
          "M2",
          "M3",
          "M4",
          "M5",
          "M6",
          "M7",
          "M8",
          "M9",
          "M10"
         ],
         "yaxis": "y",
         "z": [
          [
           1.1909262759924384,
           1.372400756143667,
           1.3421550094517962,
           1.3270321361058608,
           -1.4328922495274101,
           -1.0018903591682422,
           0.01134215500945146,
           0.7599243856332705,
           -0.5179584120982985,
           1.3043478260869565,
           -1.5387523629489608,
           1.3497164461247642,
           2,
           -2,
           -0.8052930056710779
          ],
          [
           0.6192170818505334,
           1.0533807829181496,
           1.0320284697508892,
           1.487544483985765,
           -0.2846975088967971,
           -1.2384341637010676,
           1.231316725978648,
           0.9964412811387904,
           -1.9217081850533806,
           -1.5871886120996441,
           -0.8185053380782918,
           2,
           -1.793594306049822,
           -0.8683274021352316,
           -2
          ],
          [
           1.5346938775510202,
           -0.02448979591836764,
           1.8938775510204073,
           1.1265306122448977,
           -0.7265306122448985,
           -2,
           2,
           1.020408163265305,
           -1.3714285714285719,
           1.730612244897959,
           -0.8081632653061226,
           0.17142857142857126,
           -1.6244897959183673,
           -1.7142857142857146,
           -0.7918367346938782
          ],
          [
           1.9236883942766303,
           2,
           0.7790143084260732,
           1.4403815580286174,
           -1.2559618441971383,
           -2,
           1.0143084260731317,
           1.8092209856915735,
           0.03497615262321174,
           -0.9379968203497615,
           -1.0397456279809223,
           0.8744038155802865,
           1.6883942766295705,
           -1.014308426073132,
           -0.556438791732909
          ],
          [
           0.9589041095890409,
           1.1561643835616437,
           1.1780821917808222,
           0.6575342465753424,
           -1.5780821917808219,
           -1.1287671232876715,
           1.5780821917808212,
           1.3917808219178078,
           -1.9616438356164383,
           -0.8054794520547943,
           -0.7397260273972603,
           1.5671232876712327,
           2,
           -0.9643835616438354,
           -2
          ],
          [
           -1.527131782945736,
           -0.7286821705426356,
           -0.9457364341085266,
           -1.2248062015503876,
           1.527131782945737,
           1.7596899224806215,
           -2,
           -1.9844961240310077,
           1.3255813953488378,
           2,
           0.4573643410852717,
           -1.24031007751938,
           -0.015503875968992054,
           0.20155038759689958,
           1.6046511627906979
          ],
          [
           -1.6,
           -1.495,
           -1.22,
           -0.9099999999999999,
           1.225000000000001,
           0.6749999999999998,
           -1.6350000000000002,
           -1.87,
           -0.8350000000000002,
           0.23500000000000032,
           2,
           -1.7350000000000003,
           -2,
           0.39500000000000046,
           -0.53
          ],
          [
           -1.26507713884993,
           -2,
           -1.3155680224403925,
           -1.450210378681627,
           0.2103786816269282,
           1.253856942496494,
           -1.220196353436185,
           -1.4782608695652173,
           1.8934081346423568,
           0.5525946704067324,
           -0.29453015427770013,
           -1.6129032258064517,
           -1.4782608695652173,
           1.9046283309957928,
           2
          ],
          [
           -0.8396501457725951,
           -0.46647230320699706,
           -0.9970845481049564,
           -0.9446064139941692,
           1.5335276967930027,
           1.3236151603498545,
           -1.1428571428571428,
           -0.7580174927113703,
           1.7376093294460637,
           -2,
           1.1778425655976679,
           -1.1253644314868803,
           0.4781341107871717,
           2,
           1.4577259475218654
          ],
          [
           -0.9684210526315791,
           -0.9578947368421056,
           -2,
           -1.8526315789473684,
           -0.09473684210526323,
           2,
           0.642105263157895,
           0.5263157894736841,
           1.6105263157894738,
           0.03157894736842115,
           0.4105263157894732,
           0.1578947368421053,
           0.7473684210526312,
           0.7789473684210524,
           1.684210526315789
          ]
         ]
        }
       ],
       "layout": {
        "coloraxis": {
         "colorbar": {
          "title": {
           "text": "Exp"
          }
         },
         "colorscale": [
          [
           0,
           "rgb(5,48,97)"
          ],
          [
           0.1,
           "rgb(33,102,172)"
          ],
          [
           0.2,
           "rgb(67,147,195)"
          ],
          [
           0.3,
           "rgb(146,197,222)"
          ],
          [
           0.4,
           "rgb(209,229,240)"
          ],
          [
           0.5,
           "rgb(247,247,247)"
          ],
          [
           0.6,
           "rgb(253,219,199)"
          ],
          [
           0.7,
           "rgb(244,165,130)"
          ],
          [
           0.8,
           "rgb(214,96,77)"
          ],
          [
           0.9,
           "rgb(178,24,43)"
          ],
          [
           1,
           "rgb(103,0,31)"
          ]
         ]
        },
        "height": 900,
        "margin": {
         "t": 60
        },
        "template": {
         "data": {
          "bar": [
           {
            "error_x": {
             "color": "#2a3f5f"
            },
            "error_y": {
             "color": "#2a3f5f"
            },
            "marker": {
             "line": {
              "color": "#E5ECF6",
              "width": 0.5
             },
             "pattern": {
              "fillmode": "overlay",
              "size": 10,
              "solidity": 0.2
             }
            },
            "type": "bar"
           }
          ],
          "barpolar": [
           {
            "marker": {
             "line": {
              "color": "#E5ECF6",
              "width": 0.5
             },
             "pattern": {
              "fillmode": "overlay",
              "size": 10,
              "solidity": 0.2
             }
            },
            "type": "barpolar"
           }
          ],
          "carpet": [
           {
            "aaxis": {
             "endlinecolor": "#2a3f5f",
             "gridcolor": "white",
             "linecolor": "white",
             "minorgridcolor": "white",
             "startlinecolor": "#2a3f5f"
            },
            "baxis": {
             "endlinecolor": "#2a3f5f",
             "gridcolor": "white",
             "linecolor": "white",
             "minorgridcolor": "white",
             "startlinecolor": "#2a3f5f"
            },
            "type": "carpet"
           }
          ],
          "choropleth": [
           {
            "colorbar": {
             "outlinewidth": 0,
             "ticks": ""
            },
            "type": "choropleth"
           }
          ],
          "contour": [
           {
            "colorbar": {
             "outlinewidth": 0,
             "ticks": ""
            },
            "colorscale": [
             [
              0,
              "#0d0887"
             ],
             [
              0.1111111111111111,
              "#46039f"
             ],
             [
              0.2222222222222222,
              "#7201a8"
             ],
             [
              0.3333333333333333,
              "#9c179e"
             ],
             [
              0.4444444444444444,
              "#bd3786"
             ],
             [
              0.5555555555555556,
              "#d8576b"
             ],
             [
              0.6666666666666666,
              "#ed7953"
             ],
             [
              0.7777777777777778,
              "#fb9f3a"
             ],
             [
              0.8888888888888888,
              "#fdca26"
             ],
             [
              1,
              "#f0f921"
             ]
            ],
            "type": "contour"
           }
          ],
          "contourcarpet": [
           {
            "colorbar": {
             "outlinewidth": 0,
             "ticks": ""
            },
            "type": "contourcarpet"
           }
          ],
          "heatmap": [
           {
            "colorbar": {
             "outlinewidth": 0,
             "ticks": ""
            },
            "colorscale": [
             [
              0,
              "#0d0887"
             ],
             [
              0.1111111111111111,
              "#46039f"
             ],
             [
              0.2222222222222222,
              "#7201a8"
             ],
             [
              0.3333333333333333,
              "#9c179e"
             ],
             [
              0.4444444444444444,
              "#bd3786"
             ],
             [
              0.5555555555555556,
              "#d8576b"
             ],
             [
              0.6666666666666666,
              "#ed7953"
             ],
             [
              0.7777777777777778,
              "#fb9f3a"
             ],
             [
              0.8888888888888888,
              "#fdca26"
             ],
             [
              1,
              "#f0f921"
             ]
            ],
            "type": "heatmap"
           }
          ],
          "heatmapgl": [
           {
            "colorbar": {
             "outlinewidth": 0,
             "ticks": ""
            },
            "colorscale": [
             [
              0,
              "#0d0887"
             ],
             [
              0.1111111111111111,
              "#46039f"
             ],
             [
              0.2222222222222222,
              "#7201a8"
             ],
             [
              0.3333333333333333,
              "#9c179e"
             ],
             [
              0.4444444444444444,
              "#bd3786"
             ],
             [
              0.5555555555555556,
              "#d8576b"
             ],
             [
              0.6666666666666666,
              "#ed7953"
             ],
             [
              0.7777777777777778,
              "#fb9f3a"
             ],
             [
              0.8888888888888888,
              "#fdca26"
             ],
             [
              1,
              "#f0f921"
             ]
            ],
            "type": "heatmapgl"
           }
          ],
          "histogram": [
           {
            "marker": {
             "pattern": {
              "fillmode": "overlay",
              "size": 10,
              "solidity": 0.2
             }
            },
            "type": "histogram"
           }
          ],
          "histogram2d": [
           {
            "colorbar": {
             "outlinewidth": 0,
             "ticks": ""
            },
            "colorscale": [
             [
              0,
              "#0d0887"
             ],
             [
              0.1111111111111111,
              "#46039f"
             ],
             [
              0.2222222222222222,
              "#7201a8"
             ],
             [
              0.3333333333333333,
              "#9c179e"
             ],
             [
              0.4444444444444444,
              "#bd3786"
             ],
             [
              0.5555555555555556,
              "#d8576b"
             ],
             [
              0.6666666666666666,
              "#ed7953"
             ],
             [
              0.7777777777777778,
              "#fb9f3a"
             ],
             [
              0.8888888888888888,
              "#fdca26"
             ],
             [
              1,
              "#f0f921"
             ]
            ],
            "type": "histogram2d"
           }
          ],
          "histogram2dcontour": [
           {
            "colorbar": {
             "outlinewidth": 0,
             "ticks": ""
            },
            "colorscale": [
             [
              0,
              "#0d0887"
             ],
             [
              0.1111111111111111,
              "#46039f"
             ],
             [
              0.2222222222222222,
              "#7201a8"
             ],
             [
              0.3333333333333333,
              "#9c179e"
             ],
             [
              0.4444444444444444,
              "#bd3786"
             ],
             [
              0.5555555555555556,
              "#d8576b"
             ],
             [
              0.6666666666666666,
              "#ed7953"
             ],
             [
              0.7777777777777778,
              "#fb9f3a"
             ],
             [
              0.8888888888888888,
              "#fdca26"
             ],
             [
              1,
              "#f0f921"
             ]
            ],
            "type": "histogram2dcontour"
           }
          ],
          "mesh3d": [
           {
            "colorbar": {
             "outlinewidth": 0,
             "ticks": ""
            },
            "type": "mesh3d"
           }
          ],
          "parcoords": [
           {
            "line": {
             "colorbar": {
              "outlinewidth": 0,
              "ticks": ""
             }
            },
            "type": "parcoords"
           }
          ],
          "pie": [
           {
            "automargin": true,
            "type": "pie"
           }
          ],
          "scatter": [
           {
            "fillpattern": {
             "fillmode": "overlay",
             "size": 10,
             "solidity": 0.2
            },
            "type": "scatter"
           }
          ],
          "scatter3d": [
           {
            "line": {
             "colorbar": {
              "outlinewidth": 0,
              "ticks": ""
             }
            },
            "marker": {
             "colorbar": {
              "outlinewidth": 0,
              "ticks": ""
             }
            },
            "type": "scatter3d"
           }
          ],
          "scattercarpet": [
           {
            "marker": {
             "colorbar": {
              "outlinewidth": 0,
              "ticks": ""
             }
            },
            "type": "scattercarpet"
           }
          ],
          "scattergeo": [
           {
            "marker": {
             "colorbar": {
              "outlinewidth": 0,
              "ticks": ""
             }
            },
            "type": "scattergeo"
           }
          ],
          "scattergl": [
           {
            "marker": {
             "colorbar": {
              "outlinewidth": 0,
              "ticks": ""
             }
            },
            "type": "scattergl"
           }
          ],
          "scattermapbox": [
           {
            "marker": {
             "colorbar": {
              "outlinewidth": 0,
              "ticks": ""
             }
            },
            "type": "scattermapbox"
           }
          ],
          "scatterpolar": [
           {
            "marker": {
             "colorbar": {
              "outlinewidth": 0,
              "ticks": ""
             }
            },
            "type": "scatterpolar"
           }
          ],
          "scatterpolargl": [
           {
            "marker": {
             "colorbar": {
              "outlinewidth": 0,
              "ticks": ""
             }
            },
            "type": "scatterpolargl"
           }
          ],
          "scatterternary": [
           {
            "marker": {
             "colorbar": {
              "outlinewidth": 0,
              "ticks": ""
             }
            },
            "type": "scatterternary"
           }
          ],
          "surface": [
           {
            "colorbar": {
             "outlinewidth": 0,
             "ticks": ""
            },
            "colorscale": [
             [
              0,
              "#0d0887"
             ],
             [
              0.1111111111111111,
              "#46039f"
             ],
             [
              0.2222222222222222,
              "#7201a8"
             ],
             [
              0.3333333333333333,
              "#9c179e"
             ],
             [
              0.4444444444444444,
              "#bd3786"
             ],
             [
              0.5555555555555556,
              "#d8576b"
             ],
             [
              0.6666666666666666,
              "#ed7953"
             ],
             [
              0.7777777777777778,
              "#fb9f3a"
             ],
             [
              0.8888888888888888,
              "#fdca26"
             ],
             [
              1,
              "#f0f921"
             ]
            ],
            "type": "surface"
           }
          ],
          "table": [
           {
            "cells": {
             "fill": {
              "color": "#EBF0F8"
             },
             "line": {
              "color": "white"
             }
            },
            "header": {
             "fill": {
              "color": "#C8D4E3"
             },
             "line": {
              "color": "white"
             }
            },
            "type": "table"
           }
          ]
         },
         "layout": {
          "annotationdefaults": {
           "arrowcolor": "#2a3f5f",
           "arrowhead": 0,
           "arrowwidth": 1
          },
          "autotypenumbers": "strict",
          "coloraxis": {
           "colorbar": {
            "outlinewidth": 0,
            "ticks": ""
           }
          },
          "colorscale": {
           "diverging": [
            [
             0,
             "#8e0152"
            ],
            [
             0.1,
             "#c51b7d"
            ],
            [
             0.2,
             "#de77ae"
            ],
            [
             0.3,
             "#f1b6da"
            ],
            [
             0.4,
             "#fde0ef"
            ],
            [
             0.5,
             "#f7f7f7"
            ],
            [
             0.6,
             "#e6f5d0"
            ],
            [
             0.7,
             "#b8e186"
            ],
            [
             0.8,
             "#7fbc41"
            ],
            [
             0.9,
             "#4d9221"
            ],
            [
             1,
             "#276419"
            ]
           ],
           "sequential": [
            [
             0,
             "#0d0887"
            ],
            [
             0.1111111111111111,
             "#46039f"
            ],
            [
             0.2222222222222222,
             "#7201a8"
            ],
            [
             0.3333333333333333,
             "#9c179e"
            ],
            [
             0.4444444444444444,
             "#bd3786"
            ],
            [
             0.5555555555555556,
             "#d8576b"
            ],
            [
             0.6666666666666666,
             "#ed7953"
            ],
            [
             0.7777777777777778,
             "#fb9f3a"
            ],
            [
             0.8888888888888888,
             "#fdca26"
            ],
            [
             1,
             "#f0f921"
            ]
           ],
           "sequentialminus": [
            [
             0,
             "#0d0887"
            ],
            [
             0.1111111111111111,
             "#46039f"
            ],
            [
             0.2222222222222222,
             "#7201a8"
            ],
            [
             0.3333333333333333,
             "#9c179e"
            ],
            [
             0.4444444444444444,
             "#bd3786"
            ],
            [
             0.5555555555555556,
             "#d8576b"
            ],
            [
             0.6666666666666666,
             "#ed7953"
            ],
            [
             0.7777777777777778,
             "#fb9f3a"
            ],
            [
             0.8888888888888888,
             "#fdca26"
            ],
            [
             1,
             "#f0f921"
            ]
           ]
          },
          "colorway": [
           "#636efa",
           "#EF553B",
           "#00cc96",
           "#ab63fa",
           "#FFA15A",
           "#19d3f3",
           "#FF6692",
           "#B6E880",
           "#FF97FF",
           "#FECB52"
          ],
          "font": {
           "color": "#2a3f5f"
          },
          "geo": {
           "bgcolor": "white",
           "lakecolor": "white",
           "landcolor": "#E5ECF6",
           "showlakes": true,
           "showland": true,
           "subunitcolor": "white"
          },
          "hoverlabel": {
           "align": "left"
          },
          "hovermode": "closest",
          "mapbox": {
           "style": "light"
          },
          "paper_bgcolor": "white",
          "plot_bgcolor": "#E5ECF6",
          "polar": {
           "angularaxis": {
            "gridcolor": "white",
            "linecolor": "white",
            "ticks": ""
           },
           "bgcolor": "#E5ECF6",
           "radialaxis": {
            "gridcolor": "white",
            "linecolor": "white",
            "ticks": ""
           }
          },
          "scene": {
           "xaxis": {
            "backgroundcolor": "#E5ECF6",
            "gridcolor": "white",
            "gridwidth": 2,
            "linecolor": "white",
            "showbackground": true,
            "ticks": "",
            "zerolinecolor": "white"
           },
           "yaxis": {
            "backgroundcolor": "#E5ECF6",
            "gridcolor": "white",
            "gridwidth": 2,
            "linecolor": "white",
            "showbackground": true,
            "ticks": "",
            "zerolinecolor": "white"
           },
           "zaxis": {
            "backgroundcolor": "#E5ECF6",
            "gridcolor": "white",
            "gridwidth": 2,
            "linecolor": "white",
            "showbackground": true,
            "ticks": "",
            "zerolinecolor": "white"
           }
          },
          "shapedefaults": {
           "line": {
            "color": "#2a3f5f"
           }
          },
          "ternary": {
           "aaxis": {
            "gridcolor": "white",
            "linecolor": "white",
            "ticks": ""
           },
           "baxis": {
            "gridcolor": "white",
            "linecolor": "white",
            "ticks": ""
           },
           "bgcolor": "#E5ECF6",
           "caxis": {
            "gridcolor": "white",
            "linecolor": "white",
            "ticks": ""
           }
          },
          "title": {
           "x": 0.05
          },
          "xaxis": {
           "automargin": true,
           "gridcolor": "white",
           "linecolor": "white",
           "ticks": "",
           "title": {
            "standoff": 15
           },
           "zerolinecolor": "white",
           "zerolinewidth": 2
          },
          "yaxis": {
           "automargin": true,
           "gridcolor": "white",
           "linecolor": "white",
           "ticks": "",
           "title": {
            "standoff": 15
           },
           "zerolinecolor": "white",
           "zerolinewidth": 2
          }
         }
        },
        "title": {
         "text": "Gene expression heatmap"
        },
        "width": 1200,
        "xaxis": {
         "anchor": "y",
         "constrain": "domain",
         "domain": [
          0,
          1
         ],
         "scaleanchor": "y",
         "title": {
          "text": "Sample"
         }
        },
        "yaxis": {
         "anchor": "x",
         "autorange": "reversed",
         "constrain": "domain",
         "domain": [
          0,
          1
         ],
         "title": {
          "text": "Gene ID"
         }
        }
       }
      }
     },
     "metadata": {},
     "output_type": "display_data"
    }
   ],
   "source": [
    "def heatmap(df, color, width=900, height=600, button='Z-score',transfer='Yes'):\n",
    "\n",
    "    # df第一列改名为gene_id\n",
    "    df = df.rename(columns={df.columns[0]: 'gene_id'})\n",
    "    # 提取gene_id作为索引\n",
    "    df = df.set_index('gene_id')\n",
    "    # 只保留两位小数\n",
    "    df = df.round(2)\n",
    "\n",
    "    if button == 'centralization-column':\n",
    "        # 列零均值化\n",
    "        df_normalized = (df - df.mean(axis=0)) / (df.max(axis=0) - df.min(axis=0)) \n",
    "    elif button == 'centralization-line':\n",
    "        # 每一行零均值化\n",
    "        row_means = df.mean(axis=1) \n",
    "        df_normalized = df - row_means[:, np.newaxis]\n",
    "    elif button == 'Z-score':\n",
    "        # 归一化\n",
    "        df_normalized = df.apply(lambda x: np.interp(x, (x.min(), x.max()), (-2, 2)))\n",
    "    elif button == 'log2':\n",
    "        df_normalized = np.log(df+1)\n",
    "    elif button == 'log10':\n",
    "        df_normalized = np.log10(df+1)\n",
    "    else:\n",
    "        df_normalized = df\n",
    "\n",
    "    if transfer == 'Yes':\n",
    "        # 转置\n",
    "        df_normalized = df_normalized.transpose()\n",
    "\n",
    "    # 创建热图\n",
    "    fig = px.imshow(df_normalized,\n",
    "                    labels=dict(x=\"Sample\", y=\"Gene ID\", color=\"Exp\"),\n",
    "                    x=df_normalized.columns,\n",
    "                    y=df_normalized.index,\n",
    "                    color_continuous_scale=color,\n",
    "                   )\n",
    "\n",
    "    # 定义鼠标悬浮数据显示方式\n",
    "    fig.update_traces(hovertemplate='Gene: %{x}<br>Sample: %{y}<br>RPKM: %{z:.1f}')\n",
    "    fig.update_layout(title='Gene expression heatmap')\n",
    "    # 设置输出图的大小\n",
    "    fig.update_layout(width=width, height=height)\n",
    "\n",
    "    # # 将fig转为json格式，返回json数据\n",
    "    # fig_json = json.dumps(fig, cls=PlotlyJSONEncoder)\n",
    "    # return fig_json\n",
    "\n",
    "    # 将fig转为html格式，返回html代码\n",
    "    # plot_html = plot(fig, output_type='div', include_plotlyjs=False)        \n",
    "    # return plot_html\n",
    "\n",
    "    # 调试用\n",
    "    return fig\n",
    "\n",
    "# 调用函数\n",
    "heatmap(df1, 'Rdbu_r', width=1200, height=900 ,button='Z-score',transfer='Yes')"
   ]
  },
  {
   "cell_type": "markdown",
   "metadata": {},
   "source": [
    "### 方式2"
   ]
  },
  {
   "cell_type": "code",
   "execution_count": 25,
   "metadata": {},
   "outputs": [
    {
     "data": {
      "application/vnd.plotly.v1+json": {
       "config": {
        "plotlyServerURL": "https://plot.ly"
       },
       "data": [
        {
         "colorscale": [
          [
           0,
           "rgb(5,48,97)"
          ],
          [
           0.1,
           "rgb(33,102,172)"
          ],
          [
           0.2,
           "rgb(67,147,195)"
          ],
          [
           0.3,
           "rgb(146,197,222)"
          ],
          [
           0.4,
           "rgb(209,229,240)"
          ],
          [
           0.5,
           "rgb(247,247,247)"
          ],
          [
           0.6,
           "rgb(253,219,199)"
          ],
          [
           0.7,
           "rgb(244,165,130)"
          ],
          [
           0.8,
           "rgb(214,96,77)"
          ],
          [
           0.9,
           "rgb(178,24,43)"
          ],
          [
           1,
           "rgb(103,0,31)"
          ]
         ],
         "hovertemplate": "Sample: %{x}<br>Gene: %{y}<br>Exp: %{z:.3f}<extra></extra>",
         "type": "heatmap",
         "x": [
          "geno-ppgi",
          "geno-ppfk",
          "geno-pfba",
          "geno-ptpi",
          "geno-pgapdh",
          "geno-ppgk",
          "geno-pgpmi",
          "geno-ppyk",
          "geno-pglk",
          "gfba-phxk",
          "gfba-ppgi",
          "gfba-ppfk",
          "gfba-ptpi",
          "gfba-pgapdh",
          "gfba-ppgk",
          "gfba-pgpmi",
          "gfba-peno",
          "gfba-ppyk",
          "gfba-pglk",
          "ggapdh-ppgi",
          "ggapdh-ppfk",
          "ggapdh-pfba",
          "ggapdh-ptpi",
          "ggapdh-ppgk",
          "ggapdh-pgpmi",
          "ggapdh-peno",
          "ggapdh-ppyk",
          "ggapdh-pglk",
          "ghxk-ppgi",
          "ghxk-ppfk",
          "ghxk-pfba",
          "ghxk-ptpi",
          "ghxk-pgapdh",
          "ghxk-ppgk",
          "ghxk-pgpmi",
          "ghxk-peno",
          "ghxk-ppyk",
          "gpfk-ppgi",
          "gpfk-pfba",
          "gpfk-ptpi",
          "gpfk-pgapdh",
          "gpfk-ppgk",
          "gpfk-pgpmi",
          "gpfk-peno",
          "gpfk-ppyk",
          "gpfk-pglk",
          "ggpmi-ppgi",
          "ggpmi-ppfk",
          "ggpmi-pfba",
          "ggpmi-ptpi",
          "ggpmi-pgapdh",
          "ggpmi-ppgk",
          "ggpmi-ppyk",
          "ggpmi-pglk",
          "gpyk-phxk",
          "gpyk-ppgi",
          "gpyk-ppfk",
          "gpyk-pfba",
          "gpyk-ptpi",
          "gpyk-pgapdh",
          "gpyk-ppgk",
          "gpyk-peno",
          "gpyk-pglk",
          "gtpi-phxk",
          "gtpi-ppgi",
          "gtpi-ppfk",
          "gtpi-pfba",
          "gtpi-pgapdh",
          "gtpi-ppgk",
          "gtpi-pgpmi",
          "gtpi-peno",
          "gtpi-pglk",
          "gpgi-phxk",
          "gpgi-ppfk",
          "gpgi-pfba",
          "gpgi-ptpi",
          "gpgi-pgapdh",
          "gpgi-ppgk",
          "gpgi-pgpmi",
          "gpgi-peno",
          "gpgi-ppyk",
          "WT"
         ],
         "y": [
          "Mycth_2299619",
          "Mycth_2306286",
          "Mycth_2305012",
          "Mycth_2305137",
          "Mycth_2313301",
          "Mycth_2117192",
          "Mycth_2306029",
          "Mycth_2304106",
          "Mycth_2303031",
          "Mycth_2088816",
          "Mycth_2300690",
          "Mycth_2109793"
         ],
         "z": [
          [
           -1.68139355344509,
           -1.8720470331849757,
           -1.8119853386696732,
           -1.6041652575988463,
           -1.6885826461874363,
           -1.9152278348749254,
           -1.846176206602578,
           -1.6375034022175803,
           -1.6244437776349352,
           -1.6230780963693423,
           -1.5337278766343032,
           -1.740182582992911,
           -1.837443946843001,
           -1.9683272790425657,
           -1.8609684203702253,
           -1.4061223236267173,
           -1.0016634432189364,
           -1.8855284750353731,
           -0.8143171834885925,
           -1.7923031894079902,
           -1.0629550440264517,
           -1.7841661119355465,
           -1.3385216382840301,
           -1.8274843517291437,
           -1.5193063702078204,
           -1.802846678068652,
           -1.8876279968443839,
           -1.8285046110665386,
           -1.683774562795038,
           -1.8810981769960802,
           -1.828808488328296,
           -1.682350025939782,
           -1.6945123682238064,
           -1.513953227144127,
           -1.9350156286022764,
           -1.6331435128379186,
           -1.907625183604872,
           -1.841622992226307,
           -1.9493670629927033,
           -1.810440188383303,
           -1.8175861713018406,
           -1.3285514348986314,
           -1.8647831389122058,
           -1.852869838303046,
           -1.9560665210484176,
           -1.599678421683588,
           -1.9145756033825012,
           -1.9103603369948439,
           -1.9492866644975646,
           -1.9031505648567388,
           -1.9392066248119946,
           -1.9686077031106481,
           -1.9398276918336403,
           -1.9038551069032923,
           -1.0784496200559384,
           -1.7234993527749325,
           -1.701666868839093,
           -1.4703060884199908,
           -1.4192564914570933,
           -1.7563887359708745,
           -1.4647801742960769,
           -1.460587052389933,
           -1.617680073982571,
           -1.7502579045046975,
           -1.4485157018881167,
           -1.4176361054339488,
           -1.3760508655414245,
           -1.58728115890229,
           -1.4970490708090405,
           -1.6271698385164788,
           -1.687114406709158,
           -1.736901771563561,
           -1.5796453191601327,
           -1.9617228641043778,
           -1.4974041929219672,
           -1.3937605013396304,
           -1.6242948970221698,
           -1.8462947005601034,
           -1.4462662626982712,
           -1.2658401612972416,
           -1.29088698909946,
           -1.6958049615442103
          ],
          [
           -1.3274927544927841,
           -1.3962122621968898,
           -1.5250706778885947,
           -1.7189912175293605,
           -1.5374089967247486,
           -1.4844733736384796,
           -1.3885627363433182,
           -1.7262397680363724,
           -1.664275654690492,
           -1.576310301577605,
           -1.6076857807657405,
           -1.4948279772586663,
           -1.5789680018846184,
           -1.807484171692913,
           -1.6526017663959112,
           -1.6437453022757857,
           -1.7923883330586745,
           -1.6660524146415976,
           -1.6552136404774673,
           -1.4648101298279834,
           -1.759365831299389,
           -1.434851482566652,
           -1.5436180326753246,
           -1.4664356897984399,
           -1.2301492259439657,
           -1.387879932585244,
           -1.2582753208261777,
           -1.3896664486021924,
           -1.7583652492344921,
           -1.6785324880687567,
           -1.7562883717656113,
           -1.6969028624236782,
           -1.8214717988464262,
           -1.8186950472747578,
           -1.6966333699754652,
           -1.7933339713094874,
           -1.632806820363171,
           -1.6137252752825406,
           -1.7660390200664327,
           -1.6174854900229547,
           -1.6345542424824457,
           -1.7591843708248673,
           -1.708437724847904,
           -1.7190492951468888,
           -1.7328058617119688,
           -1.6213973650959956,
           -1.3845190769707902,
           -1.391025279454877,
           -1.5731698928599271,
           -1.4944990652024506,
           -1.6338170811843122,
           -1.7186592473875504,
           -1.5767795788568855,
           -1.4991836878163403,
           -1.789158965155981,
           -1.7223672308328473,
           -1.7874453547120286,
           -1.7959256516275555,
           -1.8221403195684729,
           -1.7270214032132323,
           -1.7645160523756713,
           -1.7005281139357957,
           -1.6897904692841963,
           -1.5634942324035712,
           -1.7918794392444932,
           -1.5386503758483367,
           -1.7821421175915175,
           -1.791968877572757,
           -1.7514907756040663,
           -1.788814123823024,
           -1.7651999121998405,
           -1.4845292726161567,
           -1.6396358469715309,
           -1.8313290890513243,
           -1.865414338366425,
           -1.7249897824803595,
           -1.7814508723599634,
           -1.53446790176648,
           -1.7821243985029407,
           -1.7728969156192356,
           -1.8286203941730934,
           -1.6875706908132773
          ],
          [
           -1.7657064915651226,
           -1.6626710836206295,
           -1.5447915094217342,
           -1.5029734386184899,
           -1.7778188171634628,
           -1.4559373766434627,
           -1.5783565297284108,
           -1.3917843461009989,
           -1.2182433064417348,
           -0.3674887844743049,
           -0.9067102944838754,
           -0.3183764017238617,
           -0.6268864593537486,
           -0.9405824266132468,
           -0.7600773290700902,
           -1.1364500132260693,
           -1.3433395520862383,
           -0.6834827027144521,
           -0.9191444894892329,
           -0.8799577703652286,
           -1.4908104615104385,
           -1.0821411040616864,
           -1.1237301962459898,
           -0.9551315420762578,
           -0.4704156247055382,
           -0.5701790192675853,
           -1.0905015565024692,
           -1.2287642950361954,
           -0.8743680601194252,
           -0.7236478549555638,
           -0.7910610453422449,
           -0.7445915281441118,
           -1.1219260600270782,
           -1.2907673296824451,
           -0.4600700876820727,
           -1.072367060759259,
           -1.1091126371251894,
           -0.9151274212558005,
           -0.7418401545526547,
           -0.6656336041074908,
           -0.4760436678062008,
           -1.1413979302246904,
           -0.4885448185848291,
           -0.8593868768883095,
           -0.8360641704031568,
           -0.5128891548107752,
           -1.684377313335417,
           -1.6681827764138022,
           -1.5096995623508462,
           -1.6885860634113006,
           -1.422780034124505,
           -1.4941809073404126,
           -1.64781344797696,
           -1.6601578203288767,
           -1.1799447977187123,
           -0.09205296678568287,
           -0.09993563914897186,
           -0.8763859197961241,
           -1.1481643216917452,
           -0.42787048275266804,
           -0.48244207977190445,
           -0.5630931213145773,
           0.05489051538905443,
           -1.5592492654523995,
           -1.8586376281076824,
           -1.4868013576624661,
           -1.7608686625089913,
           -1.540265965700075,
           -1.6902338654485718,
           -1.6169564926632651,
           -1.6043932059302826,
           -1.6148159586867394,
           -0.8468136610008947,
           -1.047158688988446,
           -1.3785915269686522,
           -1.2574360837382499,
           -1.221391403209585,
           -0.748276604911676,
           -1.2077169844947426,
           -1.3585860752434473,
           -1.4774914808393615,
           -0.8232296472398057
          ],
          [
           -1.9755586327040413,
           -1.9803218934855928,
           -2,
           -1.9665296441610594,
           -1.993580237923738,
           -2,
           -2,
           -1.9466792068304006,
           -1.898324520490311,
           -1.6700749846294218,
           -1.775325006665236,
           -1.6683797410454684,
           -1.8117384414117073,
           -2,
           -1.8426315560243824,
           -1.8499860238611725,
           -1.724905941756458,
           -1.8448387968498345,
           -1.4260497544014492,
           -1.8231749181477075,
           -1.729733576315385,
           -1.9471405235613755,
           -1.8231315914545956,
           -1.923709670632988,
           -1.7611889236390301,
           -1.8031999192594725,
           -1.8767494224815569,
           -1.9174526589339054,
           -1.765243220441775,
           -1.816841404254308,
           -1.8659020280010237,
           -1.7913993806597093,
           -1.8442371785628597,
           -1.9232053451019866,
           -1.8669420252071516,
           -1.9430280789374401,
           -1.8826464492445651,
           -1.9089979909859134,
           -1.94052801362391,
           -1.9284110813254118,
           -1.7854305437397335,
           -1.8549753028303693,
           -1.8260575555438043,
           -1.9300618717597182,
           -1.9371834420899434,
           -1.7645454985547562,
           -2,
           -1.997713909674238,
           -2,
           -2,
           -2,
           -2,
           -2,
           -1.9829599163651224,
           -1.7947646768672647,
           -1.5380469619593384,
           -1.6375497806361534,
           -1.8232248159560362,
           -1.8836988585812795,
           -1.8749888032974213,
           -1.6994504990269097,
           -1.8002530231957818,
           -1.6472903268699601,
           -1.9906639765259408,
           -1.966034784782932,
           -1.9167874569094796,
           -1.9251821468136057,
           -1.9634314920962326,
           -1.9723928676605227,
           -2,
           -1.9773833300645816,
           -1.9610163497449709,
           -1.8378150818291847,
           -1.8781733867798476,
           -1.9418222169381365,
           -1.8255301757413378,
           -1.9016135379771744,
           -1.906936665230504,
           -1.874264836927464,
           -1.8576637638882931,
           -1.8719037085749586,
           -1.7727659563485962
          ],
          [
           2,
           2,
           2,
           2,
           2,
           2,
           2,
           2,
           2,
           2,
           2,
           2,
           2,
           2,
           2,
           2,
           2,
           2,
           2,
           2,
           2,
           2,
           2,
           2,
           2,
           2,
           2,
           2,
           2,
           2,
           2,
           2,
           2,
           2,
           2,
           2,
           2,
           2,
           2,
           2,
           2,
           2,
           2,
           2,
           2,
           2,
           2,
           2,
           2,
           2,
           2,
           2,
           2,
           2,
           2,
           2,
           2,
           2,
           2,
           2,
           2,
           2,
           2,
           2,
           2,
           2,
           2,
           2,
           2,
           2,
           2,
           2,
           2,
           2,
           2,
           2,
           2,
           2,
           2,
           2,
           2,
           2
          ],
          [
           -0.622639595098603,
           -0.554807102764848,
           -0.6621736134607017,
           -0.875493778464763,
           -0.7763866761247067,
           -0.4021101728049383,
           -0.3937583518864365,
           -0.7926973385751925,
           -0.6768687717337156,
           -0.15918340582145274,
           -0.5214085319056789,
           -0.20464767275188733,
           -0.1666495757912101,
           -0.35656000610296146,
           -0.33607819943334194,
           -0.6814101072929573,
           -0.8601372872925612,
           -0.3189233075472486,
           -0.7315747628044167,
           0.007648377398462358,
           -0.8407979095119666,
           0.5987539161021185,
           -0.31709672735468164,
           0.6913269905360302,
           0.4270688889149836,
           0.34620861534691993,
           0.4398705589283014,
           0.2473816338557402,
           -0.5039332054748487,
           0.07236747869241977,
           -0.17149824363843447,
           -0.2604504274869037,
           -0.5030498419483631,
           -0.7955812190237386,
           0.2322798036384608,
           -0.5799609246772257,
           -0.2905343671884173,
           0.40017927898795946,
           0.23002193962419337,
           -0.11821456295843857,
           0.1518525154560506,
           -0.5080566038965668,
           0.075007837166849,
           -0.1363238576917456,
           0.054897696954001596,
           -0.01641655094768324,
           -0.2283379929594449,
           -0.29782930244271366,
           -0.25158186242150826,
           -0.2817890376993033,
           -0.5553079014676727,
           -0.47379372702924316,
           -0.3383022903361341,
           -0.18999346972531272,
           -0.6906713691441846,
           -0.021428750528580176,
           0.003741959503013259,
           -0.21490205245027294,
           -0.48572308257167185,
           0.28270125330714047,
           -0.04817085953428113,
           -0.01439185310199953,
           0.351372291832031,
           -0.6377304819100684,
           -1.1140631537216188,
           -0.7658288223376093,
           -1.1833007171795995,
           -0.9380533155725148,
           -1.045916085561897,
           -0.9724995409009745,
           -0.8557692675460757,
           -0.5764087905061532,
           -0.10061569225911682,
           -0.4510728601744871,
           -0.7638410018626403,
           -0.5665501112574358,
           -0.5613712886440159,
           0.16641533821628585,
           -0.6751915879522365,
           -0.7749989275449358,
           -0.9386421155417388,
           -0.3382326681672294
          ],
          [
           -1.0913512439902677,
           -0.8773687959112368,
           -1.061049244875019,
           -1.2854211473361488,
           -1.2885785333168793,
           -0.6819768188412612,
           -0.781640953233564,
           -1.178022075696573,
           -0.922945082817209,
           0.004215525831731348,
           -0.5590255910817212,
           -0.026417546948228177,
           -0.11384291911000743,
           -0.19201067216722412,
           -0.29530130741660243,
           -0.9358329442579636,
           -0.957097599153041,
           -0.094217980827912,
           -0.13319049271208305,
           -0.3881572831504829,
           -0.8005461375611429,
           0.02817324436239277,
           -0.5981331654651343,
           0.1365125761249648,
           0.14532968066674234,
           -0.04154110273010447,
           -0.21554755045034146,
           -0.5484160326327285,
           -0.43366035743694975,
           -0.3208424541749473,
           -0.47711290300693765,
           -0.1844623265551839,
           -0.7777089575683429,
           -1.0383371840509383,
           0.10793331511402249,
           -0.9755508981473979,
           -0.3304079187799651,
           0.32498080189205325,
           -0.26065377886948804,
           0.10848794275978157,
           0.08039563920808046,
           -0.9076051023299085,
           -0.11666292954464974,
           -0.27134278840804904,
           0.018276278661569556,
           -0.2527846969190042,
           -0.8876640910822786,
           -1.0989582720885094,
           -0.9159780130618085,
           -0.959987947844376,
           -1.1247214939478192,
           -0.9954003086257384,
           -1.021049430696777,
           -0.9947241830521865,
           -0.8544155407182599,
           -0.13942421467832466,
           0.017838919774278317,
           -0.6802461421209152,
           -0.8749267465641086,
           -0.14938074414227698,
           -0.08913145792431121,
           -0.5122202364658668,
           0.11740895081490521,
           -1.0201047283527163,
           -1.3116835554901818,
           -1.0354834465994143,
           -1.3516035493890288,
           -1.3227021488705901,
           -1.4069202695338994,
           -1.3672645048145309,
           -1.241984382825009,
           -0.90715542205938,
           -0.5303373151607638,
           -0.2857030574550026,
           -1.0586929814132289,
           -0.853003950774261,
           -0.8562683108137652,
           -0.18052563550193912,
           -0.9011762609160578,
           -1.013169748187551,
           -1.0611586058468345,
           -0.6667567523140572
          ],
          [
           -1.7463069598467882,
           -1.4480797918695814,
           -1.3185010926492093,
           -1.675369186534463,
           -1.7876122107876207,
           -0.5815159356413424,
           -1.4679133016576322,
           -1.5217052299027471,
           -1.242256542710174,
           0.32590363324515836,
           -0.49472570057779475,
           0.4597606637903522,
           -0.26185383861742295,
           0.6146178029237306,
           -0.5137738146412283,
           -0.7525939679910452,
           -1.441233784668722,
           0.06354797087961161,
           -1.2211640259077634,
           -0.9326690639156068,
           -1.7117696958833517,
           0.11186270488110805,
           -1.4939514203556166,
           1.1624799563604755,
           0.630006199799042,
           -0.7809099355657287,
           -0.8434003910187715,
           -0.49596405989982206,
           -1.4688503704696076,
           -0.5842387530394866,
           -0.8962525540020199,
           -0.3913282709490593,
           -1.6463849337275875,
           -1.6376837954805485,
           -1.1425890591898917,
           -1.6051648663969804,
           -1.0486520884142614,
           -1.1605738432763102,
           -0.3151887202432484,
           0.8701026545842367,
           0.14446420926694126,
           -1.0437887564711987,
           0.7150732235778978,
           1.0203856262700537,
           -0.9732392016780391,
           -0.7507394022235383,
           -1.5719495367196576,
           -1.3827898353567272,
           -1.4673026036516266,
           -1.6530077285535423,
           -1.4235311711201553,
           -1.5698393253585952,
           -1.6878698608935339,
           -1.5926987563618509,
           -1.4955755573293914,
           -1.223690128888598,
           -1.0341291780889483,
           -1.7016973550812828,
           -1.6160003540154433,
           -1.5481830247320263,
           -1.4981083972792062,
           -1.0826263331448471,
           -0.7486013065301429,
           -1.713310914786494,
           -1.824400112436633,
           -1.6252570538437903,
           -1.7235191702097994,
           -1.685564536211393,
           -1.6685934632412633,
           -1.7464681865215779,
           -1.6707081675278872,
           -1.6782798430534316,
           -1.3736778403409988,
           -0.4822761927218422,
           -1.63619070265129,
           -1.416193633349984,
           -1.65726529362893,
           -1.3132270573028868,
           -1.4801283193726609,
           -1.4974046587447987,
           -1.622646021402523,
           -0.8236331549874443
          ],
          [
           -2,
           -1.995894573717708,
           -1.998795807157754,
           -2,
           -2,
           -1.9218237056240244,
           -1.9784743786103214,
           -2,
           -2,
           -2,
           -2,
           -2,
           -2,
           -1.9989533333023972,
           -2,
           -2,
           -2,
           -2,
           -2,
           -1.9262634275160333,
           -2,
           -1.852944335036202,
           -2,
           -1.8134143703547698,
           -1.968735130142933,
           -1.9682634350675914,
           -1.9293268645111181,
           -1.8955553165032515,
           -2,
           -1.7994024405383386,
           -1.883206826865803,
           -2,
           -1.9751635823755798,
           -2,
           -1.9668730772909602,
           -2,
           -1.9349650056900252,
           -1.7496506454843812,
           -1.999399115796981,
           -1.9744998297167915,
           -1.848607665094893,
           -2,
           -1.932180018871676,
           -1.773909142971129,
           -1.9265387905935034,
           -1.9898776122440025,
           -1.9452422135538954,
           -1.9712453399240109,
           -1.9435943936074254,
           -1.9038642464093098,
           -1.968501967998447,
           -1.9240380510378141,
           -1.9545125509605088,
           -1.9720979629207145,
           -2,
           -2,
           -2,
           -2,
           -2,
           -2,
           -2,
           -2,
           -2,
           -2,
           -2,
           -2,
           -2,
           -2,
           -2,
           -1.9933085032767708,
           -2,
           -2,
           -2,
           -1.8456338913778196,
           -2,
           -2,
           -2,
           -1.8984274019819043,
           -2,
           -2,
           -2,
           -2
          ],
          [
           -0.9660862851858922,
           -0.9916547406412612,
           -1.2201094104639132,
           -1.4430062035209326,
           -1.3032406751881302,
           -1.118556756569932,
           -0.9495805119312755,
           -1.35273219983155,
           -1.1561454641805327,
           -0.7562119807260554,
           -0.9648612990270578,
           -0.7312254196028509,
           -1.082148441314711,
           -1.3719027282944105,
           -0.935721577813369,
           -1.0924116237347825,
           -0.9713733605278758,
           -1.023592040831471,
           -0.3389630621968174,
           0.9896295611339974,
           -0.11458251630633254,
           -0.4040167306627025,
           -0.24597248822950735,
           -0.5414419593935431,
           0.41571735427834744,
           0.21349318950631435,
           0.1600274668393169,
           -0.5457622727054321,
           -0.6521092456439868,
           -0.5787119729595545,
           -0.47832553775030084,
           -0.3896488057935896,
           -0.8430300035162528,
           -0.9260258296660078,
           -0.24042612696114118,
           -0.9117118882661721,
           -0.5830614391603703,
           -1.0179219833370983,
           -0.9944318263353678,
           -1.068431922633876,
           -0.34946373972535505,
           -0.8039766319531294,
           -0.40391656650793495,
           -1.1973909011256798,
           -0.7823545160237955,
           -0.374520111427066,
           -1.3478722858004137,
           -1.0765670444461466,
           -1.1877030689052295,
           -1.3739945438856302,
           -1.499901120173916,
           -1.4326760542586536,
           -1.305175819488703,
           -1.0358039516506001,
           -0.5607582317439506,
           0.7954975109987794,
           0.13462988743011373,
           -0.7971951039581215,
           -1.0166919382317081,
           -0.48785144206095366,
           -0.12411138522984233,
           -0.6577583038332648,
           0.2535068759027066,
           -1.1331746087131416,
           -1.29539505253623,
           -1.140798432172459,
           -1.3531708820037192,
           -1.4005491115566193,
           -1.4283454417469015,
           -1.449897772336875,
           -1.396675684549432,
           -1.0098939843179267,
           -0.6458980161027206,
           -1.1536587282873536,
           -1.0196964292791186,
           -0.6882521229735252,
           -0.7320827320827321,
           -0.3306764325721674,
           -0.735073961860631,
           -0.9091845051692333,
           -1.0187521173352463,
           -0.14716344958083338
          ],
          [
           0.4008671310528733,
           0.16522342958302616,
           -0.6142237914472719,
           -0.9292044832797204,
           -0.25604978706871084,
           -0.45483176201990405,
           -0.23515103066261944,
           -0.7282826976454615,
           -0.658617382419914,
           -0.364586516623979,
           -0.5092715787425943,
           -0.41108141281009325,
           -0.7579549038046962,
           -1.0564423150297295,
           -0.5893014544043016,
           -0.22645317738098858,
           -0.31749519857687303,
           -0.7232769679752262,
           0.244844589297184,
           0.10289480584717126,
           0.564385359410001,
           -0.21282142353404954,
           0.5719218822598182,
           -0.11880117116431088,
           0.8056479553432312,
           0.380792976179281,
           0.7783902743273283,
           0.030043129928580825,
           -0.7959281939749232,
           -0.9439412016951492,
           -0.9926537366571999,
           -0.7526905665009032,
           -0.9069402775130924,
           -0.6790148728527727,
           -0.6182270557872749,
           -0.5867301703225791,
           -0.9992792584065133,
           -1.2164940433883404,
           -0.9857406433651028,
           -0.7658572626458859,
           -0.674005372171711,
           -0.4092608149485255,
           -0.7870448986586778,
           -1.0954260220920395,
           -1.2428656699796397,
           -0.6565313254270062,
           -0.7958500242209796,
           -0.48382118230584004,
           -0.8874444858657802,
           -0.948941903112547,
           -1.1441890855910875,
           -1.241289139996902,
           -0.893533671662893,
           -0.5749379167636592,
           -0.2542373810909826,
           0.2745599227198934,
           -0.04567978980214349,
           -0.5130870726329853,
           -0.7394484297293165,
           -0.6074340257687079,
           0.04143466965436016,
           -0.40550594337824286,
           -0.04503922865488175,
           -0.27321810902200316,
           -0.22128164623935187,
           -0.5822251224197696,
           -0.42298995251855764,
           -0.8742008292734089,
           -0.7510456058238835,
           -0.9524526507076956,
           -0.8348305221034189,
           -0.0321593818841408,
           -0.3041625006577908,
           -1.1131808535722705,
           -0.5108389806998772,
           -0.22024431224740004,
           -0.2894748349293803,
           -0.18386471348556688,
           -0.5112279451078239,
           -0.2988288790699669,
           -0.13315796815527792,
           -0.4639977380858362
          ],
          [
           -1.9988861741354744,
           -2,
           -1.9434217234139617,
           -1.8190298938423115,
           -1.9700168128429163,
           -1.897163589007153,
           -1.9526801404069782,
           -1.7043163554528789,
           -1.7429170175430129,
           -1.7611655126556611,
           -1.7131649084521223,
           -1.764579609981333,
           -1.76010505458845,
           -1.977247697813291,
           -1.867343346808343,
           -1.771082301001023,
           -1.7771735767693784,
           -1.8783559282120132,
           -1.7344664282014786,
           -2,
           -1.9477173515333517,
           -2,
           -1.8402998774073223,
           -2,
           -2,
           -2,
           -2,
           -2,
           -1.8544704568021362,
           -2,
           -2,
           -1.9121918892167196,
           -2,
           -1.9000289722775423,
           -2,
           -1.8775605784142146,
           -2,
           -2,
           -2,
           -2,
           -2,
           -1.8819674918248779,
           -2,
           -2,
           -2,
           -2,
           -1.9933747695881345,
           -2,
           -1.8963848446041878,
           -1.9306978460708129,
           -1.9164961990314233,
           -1.8946033396873307,
           -1.9840476380593743,
           -2,
           -1.8997056899198685,
           -1.88490496492739,
           -1.807028002564195,
           -1.9407923760087094,
           -1.8898308484146695,
           -1.9619549272900931,
           -1.8413769041803594,
           -1.925692741479958,
           -1.909540213968264,
           -1.927324443309926,
           -1.8302692026431975,
           -1.8123313583285299,
           -1.774202532480509,
           -1.8071908642525218,
           -1.7992099352968316,
           -1.845048172927942,
           -1.8624500676597526,
           -1.971987721226656,
           -1.9249592169657423,
           -2,
           -1.9101969642927912,
           -1.8584078833840425,
           -1.9788359788359788,
           -2,
           -1.8924434147210836,
           -1.8550898717343745,
           -1.883541579482274,
           -1.9528325941912128
          ]
         ]
        }
       ],
       "layout": {
        "height": 900,
        "template": {
         "data": {
          "bar": [
           {
            "error_x": {
             "color": "#2a3f5f"
            },
            "error_y": {
             "color": "#2a3f5f"
            },
            "marker": {
             "line": {
              "color": "#E5ECF6",
              "width": 0.5
             },
             "pattern": {
              "fillmode": "overlay",
              "size": 10,
              "solidity": 0.2
             }
            },
            "type": "bar"
           }
          ],
          "barpolar": [
           {
            "marker": {
             "line": {
              "color": "#E5ECF6",
              "width": 0.5
             },
             "pattern": {
              "fillmode": "overlay",
              "size": 10,
              "solidity": 0.2
             }
            },
            "type": "barpolar"
           }
          ],
          "carpet": [
           {
            "aaxis": {
             "endlinecolor": "#2a3f5f",
             "gridcolor": "white",
             "linecolor": "white",
             "minorgridcolor": "white",
             "startlinecolor": "#2a3f5f"
            },
            "baxis": {
             "endlinecolor": "#2a3f5f",
             "gridcolor": "white",
             "linecolor": "white",
             "minorgridcolor": "white",
             "startlinecolor": "#2a3f5f"
            },
            "type": "carpet"
           }
          ],
          "choropleth": [
           {
            "colorbar": {
             "outlinewidth": 0,
             "ticks": ""
            },
            "type": "choropleth"
           }
          ],
          "contour": [
           {
            "colorbar": {
             "outlinewidth": 0,
             "ticks": ""
            },
            "colorscale": [
             [
              0,
              "#0d0887"
             ],
             [
              0.1111111111111111,
              "#46039f"
             ],
             [
              0.2222222222222222,
              "#7201a8"
             ],
             [
              0.3333333333333333,
              "#9c179e"
             ],
             [
              0.4444444444444444,
              "#bd3786"
             ],
             [
              0.5555555555555556,
              "#d8576b"
             ],
             [
              0.6666666666666666,
              "#ed7953"
             ],
             [
              0.7777777777777778,
              "#fb9f3a"
             ],
             [
              0.8888888888888888,
              "#fdca26"
             ],
             [
              1,
              "#f0f921"
             ]
            ],
            "type": "contour"
           }
          ],
          "contourcarpet": [
           {
            "colorbar": {
             "outlinewidth": 0,
             "ticks": ""
            },
            "type": "contourcarpet"
           }
          ],
          "heatmap": [
           {
            "colorbar": {
             "outlinewidth": 0,
             "ticks": ""
            },
            "colorscale": [
             [
              0,
              "#0d0887"
             ],
             [
              0.1111111111111111,
              "#46039f"
             ],
             [
              0.2222222222222222,
              "#7201a8"
             ],
             [
              0.3333333333333333,
              "#9c179e"
             ],
             [
              0.4444444444444444,
              "#bd3786"
             ],
             [
              0.5555555555555556,
              "#d8576b"
             ],
             [
              0.6666666666666666,
              "#ed7953"
             ],
             [
              0.7777777777777778,
              "#fb9f3a"
             ],
             [
              0.8888888888888888,
              "#fdca26"
             ],
             [
              1,
              "#f0f921"
             ]
            ],
            "type": "heatmap"
           }
          ],
          "heatmapgl": [
           {
            "colorbar": {
             "outlinewidth": 0,
             "ticks": ""
            },
            "colorscale": [
             [
              0,
              "#0d0887"
             ],
             [
              0.1111111111111111,
              "#46039f"
             ],
             [
              0.2222222222222222,
              "#7201a8"
             ],
             [
              0.3333333333333333,
              "#9c179e"
             ],
             [
              0.4444444444444444,
              "#bd3786"
             ],
             [
              0.5555555555555556,
              "#d8576b"
             ],
             [
              0.6666666666666666,
              "#ed7953"
             ],
             [
              0.7777777777777778,
              "#fb9f3a"
             ],
             [
              0.8888888888888888,
              "#fdca26"
             ],
             [
              1,
              "#f0f921"
             ]
            ],
            "type": "heatmapgl"
           }
          ],
          "histogram": [
           {
            "marker": {
             "pattern": {
              "fillmode": "overlay",
              "size": 10,
              "solidity": 0.2
             }
            },
            "type": "histogram"
           }
          ],
          "histogram2d": [
           {
            "colorbar": {
             "outlinewidth": 0,
             "ticks": ""
            },
            "colorscale": [
             [
              0,
              "#0d0887"
             ],
             [
              0.1111111111111111,
              "#46039f"
             ],
             [
              0.2222222222222222,
              "#7201a8"
             ],
             [
              0.3333333333333333,
              "#9c179e"
             ],
             [
              0.4444444444444444,
              "#bd3786"
             ],
             [
              0.5555555555555556,
              "#d8576b"
             ],
             [
              0.6666666666666666,
              "#ed7953"
             ],
             [
              0.7777777777777778,
              "#fb9f3a"
             ],
             [
              0.8888888888888888,
              "#fdca26"
             ],
             [
              1,
              "#f0f921"
             ]
            ],
            "type": "histogram2d"
           }
          ],
          "histogram2dcontour": [
           {
            "colorbar": {
             "outlinewidth": 0,
             "ticks": ""
            },
            "colorscale": [
             [
              0,
              "#0d0887"
             ],
             [
              0.1111111111111111,
              "#46039f"
             ],
             [
              0.2222222222222222,
              "#7201a8"
             ],
             [
              0.3333333333333333,
              "#9c179e"
             ],
             [
              0.4444444444444444,
              "#bd3786"
             ],
             [
              0.5555555555555556,
              "#d8576b"
             ],
             [
              0.6666666666666666,
              "#ed7953"
             ],
             [
              0.7777777777777778,
              "#fb9f3a"
             ],
             [
              0.8888888888888888,
              "#fdca26"
             ],
             [
              1,
              "#f0f921"
             ]
            ],
            "type": "histogram2dcontour"
           }
          ],
          "mesh3d": [
           {
            "colorbar": {
             "outlinewidth": 0,
             "ticks": ""
            },
            "type": "mesh3d"
           }
          ],
          "parcoords": [
           {
            "line": {
             "colorbar": {
              "outlinewidth": 0,
              "ticks": ""
             }
            },
            "type": "parcoords"
           }
          ],
          "pie": [
           {
            "automargin": true,
            "type": "pie"
           }
          ],
          "scatter": [
           {
            "fillpattern": {
             "fillmode": "overlay",
             "size": 10,
             "solidity": 0.2
            },
            "type": "scatter"
           }
          ],
          "scatter3d": [
           {
            "line": {
             "colorbar": {
              "outlinewidth": 0,
              "ticks": ""
             }
            },
            "marker": {
             "colorbar": {
              "outlinewidth": 0,
              "ticks": ""
             }
            },
            "type": "scatter3d"
           }
          ],
          "scattercarpet": [
           {
            "marker": {
             "colorbar": {
              "outlinewidth": 0,
              "ticks": ""
             }
            },
            "type": "scattercarpet"
           }
          ],
          "scattergeo": [
           {
            "marker": {
             "colorbar": {
              "outlinewidth": 0,
              "ticks": ""
             }
            },
            "type": "scattergeo"
           }
          ],
          "scattergl": [
           {
            "marker": {
             "colorbar": {
              "outlinewidth": 0,
              "ticks": ""
             }
            },
            "type": "scattergl"
           }
          ],
          "scattermapbox": [
           {
            "marker": {
             "colorbar": {
              "outlinewidth": 0,
              "ticks": ""
             }
            },
            "type": "scattermapbox"
           }
          ],
          "scatterpolar": [
           {
            "marker": {
             "colorbar": {
              "outlinewidth": 0,
              "ticks": ""
             }
            },
            "type": "scatterpolar"
           }
          ],
          "scatterpolargl": [
           {
            "marker": {
             "colorbar": {
              "outlinewidth": 0,
              "ticks": ""
             }
            },
            "type": "scatterpolargl"
           }
          ],
          "scatterternary": [
           {
            "marker": {
             "colorbar": {
              "outlinewidth": 0,
              "ticks": ""
             }
            },
            "type": "scatterternary"
           }
          ],
          "surface": [
           {
            "colorbar": {
             "outlinewidth": 0,
             "ticks": ""
            },
            "colorscale": [
             [
              0,
              "#0d0887"
             ],
             [
              0.1111111111111111,
              "#46039f"
             ],
             [
              0.2222222222222222,
              "#7201a8"
             ],
             [
              0.3333333333333333,
              "#9c179e"
             ],
             [
              0.4444444444444444,
              "#bd3786"
             ],
             [
              0.5555555555555556,
              "#d8576b"
             ],
             [
              0.6666666666666666,
              "#ed7953"
             ],
             [
              0.7777777777777778,
              "#fb9f3a"
             ],
             [
              0.8888888888888888,
              "#fdca26"
             ],
             [
              1,
              "#f0f921"
             ]
            ],
            "type": "surface"
           }
          ],
          "table": [
           {
            "cells": {
             "fill": {
              "color": "#EBF0F8"
             },
             "line": {
              "color": "white"
             }
            },
            "header": {
             "fill": {
              "color": "#C8D4E3"
             },
             "line": {
              "color": "white"
             }
            },
            "type": "table"
           }
          ]
         },
         "layout": {
          "annotationdefaults": {
           "arrowcolor": "#2a3f5f",
           "arrowhead": 0,
           "arrowwidth": 1
          },
          "autotypenumbers": "strict",
          "coloraxis": {
           "colorbar": {
            "outlinewidth": 0,
            "ticks": ""
           }
          },
          "colorscale": {
           "diverging": [
            [
             0,
             "#8e0152"
            ],
            [
             0.1,
             "#c51b7d"
            ],
            [
             0.2,
             "#de77ae"
            ],
            [
             0.3,
             "#f1b6da"
            ],
            [
             0.4,
             "#fde0ef"
            ],
            [
             0.5,
             "#f7f7f7"
            ],
            [
             0.6,
             "#e6f5d0"
            ],
            [
             0.7,
             "#b8e186"
            ],
            [
             0.8,
             "#7fbc41"
            ],
            [
             0.9,
             "#4d9221"
            ],
            [
             1,
             "#276419"
            ]
           ],
           "sequential": [
            [
             0,
             "#0d0887"
            ],
            [
             0.1111111111111111,
             "#46039f"
            ],
            [
             0.2222222222222222,
             "#7201a8"
            ],
            [
             0.3333333333333333,
             "#9c179e"
            ],
            [
             0.4444444444444444,
             "#bd3786"
            ],
            [
             0.5555555555555556,
             "#d8576b"
            ],
            [
             0.6666666666666666,
             "#ed7953"
            ],
            [
             0.7777777777777778,
             "#fb9f3a"
            ],
            [
             0.8888888888888888,
             "#fdca26"
            ],
            [
             1,
             "#f0f921"
            ]
           ],
           "sequentialminus": [
            [
             0,
             "#0d0887"
            ],
            [
             0.1111111111111111,
             "#46039f"
            ],
            [
             0.2222222222222222,
             "#7201a8"
            ],
            [
             0.3333333333333333,
             "#9c179e"
            ],
            [
             0.4444444444444444,
             "#bd3786"
            ],
            [
             0.5555555555555556,
             "#d8576b"
            ],
            [
             0.6666666666666666,
             "#ed7953"
            ],
            [
             0.7777777777777778,
             "#fb9f3a"
            ],
            [
             0.8888888888888888,
             "#fdca26"
            ],
            [
             1,
             "#f0f921"
            ]
           ]
          },
          "colorway": [
           "#636efa",
           "#EF553B",
           "#00cc96",
           "#ab63fa",
           "#FFA15A",
           "#19d3f3",
           "#FF6692",
           "#B6E880",
           "#FF97FF",
           "#FECB52"
          ],
          "font": {
           "color": "#2a3f5f"
          },
          "geo": {
           "bgcolor": "white",
           "lakecolor": "white",
           "landcolor": "#E5ECF6",
           "showlakes": true,
           "showland": true,
           "subunitcolor": "white"
          },
          "hoverlabel": {
           "align": "left"
          },
          "hovermode": "closest",
          "mapbox": {
           "style": "light"
          },
          "paper_bgcolor": "white",
          "plot_bgcolor": "#E5ECF6",
          "polar": {
           "angularaxis": {
            "gridcolor": "white",
            "linecolor": "white",
            "ticks": ""
           },
           "bgcolor": "#E5ECF6",
           "radialaxis": {
            "gridcolor": "white",
            "linecolor": "white",
            "ticks": ""
           }
          },
          "scene": {
           "xaxis": {
            "backgroundcolor": "#E5ECF6",
            "gridcolor": "white",
            "gridwidth": 2,
            "linecolor": "white",
            "showbackground": true,
            "ticks": "",
            "zerolinecolor": "white"
           },
           "yaxis": {
            "backgroundcolor": "#E5ECF6",
            "gridcolor": "white",
            "gridwidth": 2,
            "linecolor": "white",
            "showbackground": true,
            "ticks": "",
            "zerolinecolor": "white"
           },
           "zaxis": {
            "backgroundcolor": "#E5ECF6",
            "gridcolor": "white",
            "gridwidth": 2,
            "linecolor": "white",
            "showbackground": true,
            "ticks": "",
            "zerolinecolor": "white"
           }
          },
          "shapedefaults": {
           "line": {
            "color": "#2a3f5f"
           }
          },
          "ternary": {
           "aaxis": {
            "gridcolor": "white",
            "linecolor": "white",
            "ticks": ""
           },
           "baxis": {
            "gridcolor": "white",
            "linecolor": "white",
            "ticks": ""
           },
           "bgcolor": "#E5ECF6",
           "caxis": {
            "gridcolor": "white",
            "linecolor": "white",
            "ticks": ""
           }
          },
          "title": {
           "x": 0.05
          },
          "xaxis": {
           "automargin": true,
           "gridcolor": "white",
           "linecolor": "white",
           "ticks": "",
           "title": {
            "standoff": 15
           },
           "zerolinecolor": "white",
           "zerolinewidth": 2
          },
          "yaxis": {
           "automargin": true,
           "gridcolor": "white",
           "linecolor": "white",
           "ticks": "",
           "title": {
            "standoff": 15
           },
           "zerolinecolor": "white",
           "zerolinewidth": 2
          }
         }
        },
        "width": 1200,
        "xaxis": {
         "title": {
          "text": "Sample"
         }
        },
        "yaxis": {
         "title": {
          "text": "Gene"
         }
        }
       }
      }
     },
     "metadata": {},
     "output_type": "display_data"
    }
   ],
   "source": [
    "import numpy as np\n",
    "import pandas as pd\n",
    "import plotly.graph_objects as go\n",
    "\n",
    "def create_heatmap(df, color='Rdbu_r'):\n",
    "    # df第一列改名为gene_id\n",
    "    df = df.rename(columns={df.columns[0]: 'gene_id'})\n",
    "    # 提取gene_id作为索引\n",
    "    df = df.set_index('gene_id')\n",
    "    # 将数据进行归一化，范围-2到2\n",
    "    df_normalized = df.apply(lambda x: np.interp(x, (x.min(), x.max()), (-2, 2)))\n",
    "    \n",
    "    # 创建热图\n",
    "    fig = go.Figure(data=go.Heatmap(\n",
    "        z=df_normalized,\n",
    "        x=df_normalized.columns,\n",
    "        y=df_normalized.index,\n",
    "        colorscale=color,\n",
    "        hovertemplate='Sample: %{x}<br>Gene: %{y}<br>Exp: %{z:.3f}<extra></extra>'\n",
    "    ))\n",
    "    # 设置轴标签\n",
    "    fig.update_layout(\n",
    "        xaxis_title=\"Sample\",\n",
    "        yaxis_title=\"Gene\",\n",
    "        width=1200,\n",
    "        height=900,\n",
    "    )\n",
    "\n",
    "    return fig\n",
    "\n",
    "create_heatmap(df)"
   ]
  },
  {
   "cell_type": "markdown",
   "metadata": {},
   "source": [
    "### 添加聚类"
   ]
  },
  {
   "cell_type": "code",
   "execution_count": 3,
   "metadata": {},
   "outputs": [
    {
     "data": {
      "application/vnd.plotly.v1+json": {
       "config": {
        "plotlyServerURL": "https://plot.ly"
       },
       "data": [
        {
         "colorscale": [
          [
           0,
           "rgb(5,48,97)"
          ],
          [
           0.1,
           "rgb(33,102,172)"
          ],
          [
           0.2,
           "rgb(67,147,195)"
          ],
          [
           0.3,
           "rgb(146,197,222)"
          ],
          [
           0.4,
           "rgb(209,229,240)"
          ],
          [
           0.5,
           "rgb(247,247,247)"
          ],
          [
           0.6,
           "rgb(253,219,199)"
          ],
          [
           0.7,
           "rgb(244,165,130)"
          ],
          [
           0.8,
           "rgb(214,96,77)"
          ],
          [
           0.9,
           "rgb(178,24,43)"
          ],
          [
           1,
           "rgb(103,0,31)"
          ]
         ],
         "hovertemplate": "Sample: %{x}<br>Gene: %{y}<br>Exp: %{z:.3f}<extra></extra>",
         "type": "heatmap",
         "x": [
          "M1",
          "M4",
          "M5",
          "M2",
          "M3",
          "M7",
          "M6",
          "M8",
          "M9",
          "M10"
         ],
         "y": [
          "Gene13",
          "Gene7",
          "Gene8",
          "Gene1",
          "Gene3",
          "Gene4",
          "Gene2",
          "Gene12",
          "Gene10",
          "Gene5",
          "Gene11",
          "Gene9",
          "Gene15",
          "Gene6",
          "Gene14"
         ],
         "z": [
          [
           2,
           1.6867077649343232,
           2,
           -1.795593603361634,
           -1.6302110472055449,
           -2,
           -0.017363850088905508,
           -1.4778713101062446,
           0.4790340422574437,
           0.7498368167641827
          ],
          [
           0.010741206314457852,
           1.0121670318091107,
           1.5783836887042293,
           1.2352473708179872,
           2,
           -1.6336428990339709,
           -2,
           -1.2166212446067972,
           -1.144280363402957,
           0.6481373116323996
          ],
          [
           0.7615930538527675,
           1.810191375589461,
           1.3886397961369839,
           0.9948832799849407,
           1.0229688393336018,
           -1.8661997427318966,
           -1.9894066657587965,
           -1.4752002083317586,
           -0.76239719675865,
           0.5331095928388638
          ],
          [
           1.1939247035294507,
           1.923759595293061,
           0.9560870363862435,
           0.6192601806728595,
           1.5345476369134183,
           -1.6007051872520768,
           -1.532490726835141,
           -1.2659860645673384,
           -0.8409962812871936,
           -0.960637901828175
          ],
          [
           1.3402845206407208,
           0.7814610251695866,
           1.1758921325744591,
           1.033337075054452,
           1.8941321848322463,
           -1.217994408414441,
           -0.9468188539259439,
           -1.3129812326167667,
           -0.998718129527417,
           -2
          ],
          [
           1.3255531316612505,
           1.4402170872216762,
           0.6541840648807318,
           1.4879941949166686,
           1.12318797969494,
           -0.9082510314987606,
           -1.2266117753113508,
           -1.4509638733549313,
           -0.9486753103612204,
           -1.8491083405834559
          ],
          [
           1.3721597420986975,
           2,
           1.1554043348957,
           1.0545628646561727,
           -0.025604194643616518,
           -1.4928551695947285,
           -0.7323142549400805,
           -2,
           -0.4706267108496873,
           -0.9536810955229145
          ],
          [
           1.3462768433608203,
           0.877199167799994,
           1.563537533071372,
           2,
           0.16964524659748337,
           -1.731841076040332,
           -1.2452035972543865,
           -1.610520136470435,
           -1.1267492145733984,
           0.1598332118980541
          ],
          [
           1.3023098945573008,
           -0.9367246957005348,
           -0.8073462847317567,
           -1.588901235642536,
           1.727984158651902,
           0.23489282467348005,
           2,
           0.5520574953904709,
           -2,
           0.036508317242748944
          ],
          [
           -1.4307321786980305,
           -1.2565573124369276,
           -1.5774950933116698,
           -0.28657988870773443,
           -0.7281606466316939,
           1.2243856469336762,
           1.5241753498731394,
           0.21255814183156518,
           1.5347057446812307,
           -0.08733898249732697
          ],
          [
           -1.541353248650613,
           -1.0422219968891735,
           -0.7420961334760008,
           -0.8198416246871281,
           -0.8144387383663936,
           2,
           0.4568957466875281,
           -0.29410934449600035,
           1.1779308771106765,
           0.41721562368107756
          ],
          [
           -0.5209677166526467,
           0.03375538471885964,
           -1.964769282519772,
           -1.924756265738009,
           -1.3751219207839191,
           -0.8346365137959828,
           1.3213559892512259,
           1.8893600585138701,
           1.73449896410373,
           1.6109468065572292
          ],
          [
           -0.8096172017785856,
           -0.557971148910712,
           -2,
           -2,
           -0.7946618732008739,
           -0.5303972343561714,
           1.6006217790014419,
           2,
           1.4593035080631882,
           1.691521781593039
          ],
          [
           -1.0013316943802206,
           -2,
           -1.1286341604599457,
           -1.2424292246001394,
           -2,
           0.6751156887230203,
           1.7599614617769386,
           1.2521741395158954,
           1.322914848587343,
           2
          ],
          [
           -2,
           -1.0136040229922065,
           -0.9670866998904639,
           -0.8676361444584293,
           -1.7156442009858768,
           0.3983036050958586,
           0.198681918257114,
           1.9049680376152458,
           2,
           0.7826766182442406
          ]
         ]
        }
       ],
       "layout": {
        "height": 900,
        "template": {
         "data": {
          "bar": [
           {
            "error_x": {
             "color": "#2a3f5f"
            },
            "error_y": {
             "color": "#2a3f5f"
            },
            "marker": {
             "line": {
              "color": "#E5ECF6",
              "width": 0.5
             },
             "pattern": {
              "fillmode": "overlay",
              "size": 10,
              "solidity": 0.2
             }
            },
            "type": "bar"
           }
          ],
          "barpolar": [
           {
            "marker": {
             "line": {
              "color": "#E5ECF6",
              "width": 0.5
             },
             "pattern": {
              "fillmode": "overlay",
              "size": 10,
              "solidity": 0.2
             }
            },
            "type": "barpolar"
           }
          ],
          "carpet": [
           {
            "aaxis": {
             "endlinecolor": "#2a3f5f",
             "gridcolor": "white",
             "linecolor": "white",
             "minorgridcolor": "white",
             "startlinecolor": "#2a3f5f"
            },
            "baxis": {
             "endlinecolor": "#2a3f5f",
             "gridcolor": "white",
             "linecolor": "white",
             "minorgridcolor": "white",
             "startlinecolor": "#2a3f5f"
            },
            "type": "carpet"
           }
          ],
          "choropleth": [
           {
            "colorbar": {
             "outlinewidth": 0,
             "ticks": ""
            },
            "type": "choropleth"
           }
          ],
          "contour": [
           {
            "colorbar": {
             "outlinewidth": 0,
             "ticks": ""
            },
            "colorscale": [
             [
              0,
              "#0d0887"
             ],
             [
              0.1111111111111111,
              "#46039f"
             ],
             [
              0.2222222222222222,
              "#7201a8"
             ],
             [
              0.3333333333333333,
              "#9c179e"
             ],
             [
              0.4444444444444444,
              "#bd3786"
             ],
             [
              0.5555555555555556,
              "#d8576b"
             ],
             [
              0.6666666666666666,
              "#ed7953"
             ],
             [
              0.7777777777777778,
              "#fb9f3a"
             ],
             [
              0.8888888888888888,
              "#fdca26"
             ],
             [
              1,
              "#f0f921"
             ]
            ],
            "type": "contour"
           }
          ],
          "contourcarpet": [
           {
            "colorbar": {
             "outlinewidth": 0,
             "ticks": ""
            },
            "type": "contourcarpet"
           }
          ],
          "heatmap": [
           {
            "colorbar": {
             "outlinewidth": 0,
             "ticks": ""
            },
            "colorscale": [
             [
              0,
              "#0d0887"
             ],
             [
              0.1111111111111111,
              "#46039f"
             ],
             [
              0.2222222222222222,
              "#7201a8"
             ],
             [
              0.3333333333333333,
              "#9c179e"
             ],
             [
              0.4444444444444444,
              "#bd3786"
             ],
             [
              0.5555555555555556,
              "#d8576b"
             ],
             [
              0.6666666666666666,
              "#ed7953"
             ],
             [
              0.7777777777777778,
              "#fb9f3a"
             ],
             [
              0.8888888888888888,
              "#fdca26"
             ],
             [
              1,
              "#f0f921"
             ]
            ],
            "type": "heatmap"
           }
          ],
          "heatmapgl": [
           {
            "colorbar": {
             "outlinewidth": 0,
             "ticks": ""
            },
            "colorscale": [
             [
              0,
              "#0d0887"
             ],
             [
              0.1111111111111111,
              "#46039f"
             ],
             [
              0.2222222222222222,
              "#7201a8"
             ],
             [
              0.3333333333333333,
              "#9c179e"
             ],
             [
              0.4444444444444444,
              "#bd3786"
             ],
             [
              0.5555555555555556,
              "#d8576b"
             ],
             [
              0.6666666666666666,
              "#ed7953"
             ],
             [
              0.7777777777777778,
              "#fb9f3a"
             ],
             [
              0.8888888888888888,
              "#fdca26"
             ],
             [
              1,
              "#f0f921"
             ]
            ],
            "type": "heatmapgl"
           }
          ],
          "histogram": [
           {
            "marker": {
             "pattern": {
              "fillmode": "overlay",
              "size": 10,
              "solidity": 0.2
             }
            },
            "type": "histogram"
           }
          ],
          "histogram2d": [
           {
            "colorbar": {
             "outlinewidth": 0,
             "ticks": ""
            },
            "colorscale": [
             [
              0,
              "#0d0887"
             ],
             [
              0.1111111111111111,
              "#46039f"
             ],
             [
              0.2222222222222222,
              "#7201a8"
             ],
             [
              0.3333333333333333,
              "#9c179e"
             ],
             [
              0.4444444444444444,
              "#bd3786"
             ],
             [
              0.5555555555555556,
              "#d8576b"
             ],
             [
              0.6666666666666666,
              "#ed7953"
             ],
             [
              0.7777777777777778,
              "#fb9f3a"
             ],
             [
              0.8888888888888888,
              "#fdca26"
             ],
             [
              1,
              "#f0f921"
             ]
            ],
            "type": "histogram2d"
           }
          ],
          "histogram2dcontour": [
           {
            "colorbar": {
             "outlinewidth": 0,
             "ticks": ""
            },
            "colorscale": [
             [
              0,
              "#0d0887"
             ],
             [
              0.1111111111111111,
              "#46039f"
             ],
             [
              0.2222222222222222,
              "#7201a8"
             ],
             [
              0.3333333333333333,
              "#9c179e"
             ],
             [
              0.4444444444444444,
              "#bd3786"
             ],
             [
              0.5555555555555556,
              "#d8576b"
             ],
             [
              0.6666666666666666,
              "#ed7953"
             ],
             [
              0.7777777777777778,
              "#fb9f3a"
             ],
             [
              0.8888888888888888,
              "#fdca26"
             ],
             [
              1,
              "#f0f921"
             ]
            ],
            "type": "histogram2dcontour"
           }
          ],
          "mesh3d": [
           {
            "colorbar": {
             "outlinewidth": 0,
             "ticks": ""
            },
            "type": "mesh3d"
           }
          ],
          "parcoords": [
           {
            "line": {
             "colorbar": {
              "outlinewidth": 0,
              "ticks": ""
             }
            },
            "type": "parcoords"
           }
          ],
          "pie": [
           {
            "automargin": true,
            "type": "pie"
           }
          ],
          "scatter": [
           {
            "fillpattern": {
             "fillmode": "overlay",
             "size": 10,
             "solidity": 0.2
            },
            "type": "scatter"
           }
          ],
          "scatter3d": [
           {
            "line": {
             "colorbar": {
              "outlinewidth": 0,
              "ticks": ""
             }
            },
            "marker": {
             "colorbar": {
              "outlinewidth": 0,
              "ticks": ""
             }
            },
            "type": "scatter3d"
           }
          ],
          "scattercarpet": [
           {
            "marker": {
             "colorbar": {
              "outlinewidth": 0,
              "ticks": ""
             }
            },
            "type": "scattercarpet"
           }
          ],
          "scattergeo": [
           {
            "marker": {
             "colorbar": {
              "outlinewidth": 0,
              "ticks": ""
             }
            },
            "type": "scattergeo"
           }
          ],
          "scattergl": [
           {
            "marker": {
             "colorbar": {
              "outlinewidth": 0,
              "ticks": ""
             }
            },
            "type": "scattergl"
           }
          ],
          "scattermapbox": [
           {
            "marker": {
             "colorbar": {
              "outlinewidth": 0,
              "ticks": ""
             }
            },
            "type": "scattermapbox"
           }
          ],
          "scatterpolar": [
           {
            "marker": {
             "colorbar": {
              "outlinewidth": 0,
              "ticks": ""
             }
            },
            "type": "scatterpolar"
           }
          ],
          "scatterpolargl": [
           {
            "marker": {
             "colorbar": {
              "outlinewidth": 0,
              "ticks": ""
             }
            },
            "type": "scatterpolargl"
           }
          ],
          "scatterternary": [
           {
            "marker": {
             "colorbar": {
              "outlinewidth": 0,
              "ticks": ""
             }
            },
            "type": "scatterternary"
           }
          ],
          "surface": [
           {
            "colorbar": {
             "outlinewidth": 0,
             "ticks": ""
            },
            "colorscale": [
             [
              0,
              "#0d0887"
             ],
             [
              0.1111111111111111,
              "#46039f"
             ],
             [
              0.2222222222222222,
              "#7201a8"
             ],
             [
              0.3333333333333333,
              "#9c179e"
             ],
             [
              0.4444444444444444,
              "#bd3786"
             ],
             [
              0.5555555555555556,
              "#d8576b"
             ],
             [
              0.6666666666666666,
              "#ed7953"
             ],
             [
              0.7777777777777778,
              "#fb9f3a"
             ],
             [
              0.8888888888888888,
              "#fdca26"
             ],
             [
              1,
              "#f0f921"
             ]
            ],
            "type": "surface"
           }
          ],
          "table": [
           {
            "cells": {
             "fill": {
              "color": "#EBF0F8"
             },
             "line": {
              "color": "white"
             }
            },
            "header": {
             "fill": {
              "color": "#C8D4E3"
             },
             "line": {
              "color": "white"
             }
            },
            "type": "table"
           }
          ]
         },
         "layout": {
          "annotationdefaults": {
           "arrowcolor": "#2a3f5f",
           "arrowhead": 0,
           "arrowwidth": 1
          },
          "autotypenumbers": "strict",
          "coloraxis": {
           "colorbar": {
            "outlinewidth": 0,
            "ticks": ""
           }
          },
          "colorscale": {
           "diverging": [
            [
             0,
             "#8e0152"
            ],
            [
             0.1,
             "#c51b7d"
            ],
            [
             0.2,
             "#de77ae"
            ],
            [
             0.3,
             "#f1b6da"
            ],
            [
             0.4,
             "#fde0ef"
            ],
            [
             0.5,
             "#f7f7f7"
            ],
            [
             0.6,
             "#e6f5d0"
            ],
            [
             0.7,
             "#b8e186"
            ],
            [
             0.8,
             "#7fbc41"
            ],
            [
             0.9,
             "#4d9221"
            ],
            [
             1,
             "#276419"
            ]
           ],
           "sequential": [
            [
             0,
             "#0d0887"
            ],
            [
             0.1111111111111111,
             "#46039f"
            ],
            [
             0.2222222222222222,
             "#7201a8"
            ],
            [
             0.3333333333333333,
             "#9c179e"
            ],
            [
             0.4444444444444444,
             "#bd3786"
            ],
            [
             0.5555555555555556,
             "#d8576b"
            ],
            [
             0.6666666666666666,
             "#ed7953"
            ],
            [
             0.7777777777777778,
             "#fb9f3a"
            ],
            [
             0.8888888888888888,
             "#fdca26"
            ],
            [
             1,
             "#f0f921"
            ]
           ],
           "sequentialminus": [
            [
             0,
             "#0d0887"
            ],
            [
             0.1111111111111111,
             "#46039f"
            ],
            [
             0.2222222222222222,
             "#7201a8"
            ],
            [
             0.3333333333333333,
             "#9c179e"
            ],
            [
             0.4444444444444444,
             "#bd3786"
            ],
            [
             0.5555555555555556,
             "#d8576b"
            ],
            [
             0.6666666666666666,
             "#ed7953"
            ],
            [
             0.7777777777777778,
             "#fb9f3a"
            ],
            [
             0.8888888888888888,
             "#fdca26"
            ],
            [
             1,
             "#f0f921"
            ]
           ]
          },
          "colorway": [
           "#636efa",
           "#EF553B",
           "#00cc96",
           "#ab63fa",
           "#FFA15A",
           "#19d3f3",
           "#FF6692",
           "#B6E880",
           "#FF97FF",
           "#FECB52"
          ],
          "font": {
           "color": "#2a3f5f"
          },
          "geo": {
           "bgcolor": "white",
           "lakecolor": "white",
           "landcolor": "#E5ECF6",
           "showlakes": true,
           "showland": true,
           "subunitcolor": "white"
          },
          "hoverlabel": {
           "align": "left"
          },
          "hovermode": "closest",
          "mapbox": {
           "style": "light"
          },
          "paper_bgcolor": "white",
          "plot_bgcolor": "#E5ECF6",
          "polar": {
           "angularaxis": {
            "gridcolor": "white",
            "linecolor": "white",
            "ticks": ""
           },
           "bgcolor": "#E5ECF6",
           "radialaxis": {
            "gridcolor": "white",
            "linecolor": "white",
            "ticks": ""
           }
          },
          "scene": {
           "xaxis": {
            "backgroundcolor": "#E5ECF6",
            "gridcolor": "white",
            "gridwidth": 2,
            "linecolor": "white",
            "showbackground": true,
            "ticks": "",
            "zerolinecolor": "white"
           },
           "yaxis": {
            "backgroundcolor": "#E5ECF6",
            "gridcolor": "white",
            "gridwidth": 2,
            "linecolor": "white",
            "showbackground": true,
            "ticks": "",
            "zerolinecolor": "white"
           },
           "zaxis": {
            "backgroundcolor": "#E5ECF6",
            "gridcolor": "white",
            "gridwidth": 2,
            "linecolor": "white",
            "showbackground": true,
            "ticks": "",
            "zerolinecolor": "white"
           }
          },
          "shapedefaults": {
           "line": {
            "color": "#2a3f5f"
           }
          },
          "ternary": {
           "aaxis": {
            "gridcolor": "white",
            "linecolor": "white",
            "ticks": ""
           },
           "baxis": {
            "gridcolor": "white",
            "linecolor": "white",
            "ticks": ""
           },
           "bgcolor": "#E5ECF6",
           "caxis": {
            "gridcolor": "white",
            "linecolor": "white",
            "ticks": ""
           }
          },
          "title": {
           "x": 0.05
          },
          "xaxis": {
           "automargin": true,
           "gridcolor": "white",
           "linecolor": "white",
           "ticks": "",
           "title": {
            "standoff": 15
           },
           "zerolinecolor": "white",
           "zerolinewidth": 2
          },
          "yaxis": {
           "automargin": true,
           "gridcolor": "white",
           "linecolor": "white",
           "ticks": "",
           "title": {
            "standoff": 15
           },
           "zerolinecolor": "white",
           "zerolinewidth": 2
          }
         }
        },
        "width": 1200,
        "xaxis": {
         "title": {
          "text": "Sample"
         }
        },
        "yaxis": {
         "title": {
          "text": "Gene"
         }
        }
       }
      }
     },
     "metadata": {},
     "output_type": "display_data"
    }
   ],
   "source": [
    "import numpy as np\n",
    "import pandas as pd\n",
    "import plotly.graph_objects as go\n",
    "from scipy.cluster.hierarchy import linkage, leaves_list\n",
    "\n",
    "def create_heatmap_with_clustering(df, color='RdBu_r'):\n",
    "\n",
    "    # 第一列改名为gene_id，并设置为索引\n",
    "    df = df.rename(columns={df.columns[0]: 'gene_id'})\n",
    "    df = df.set_index('gene_id')\n",
    "\n",
    "    # 数据归一化\n",
    "    df_normalized = df.apply(lambda x: np.interp(x, (x.min(), x.max()), (-2, 2)))\n",
    "\n",
    "    # 对基因（行）进行层次聚类\n",
    "    gene_linkage = linkage(df_normalized, method='average')\n",
    "    gene_order = leaves_list(gene_linkage)\n",
    "\n",
    "    # 对样本（列）进行层次聚类\n",
    "    sample_linkage = linkage(df_normalized.T, method='average')\n",
    "    sample_order = leaves_list(sample_linkage)\n",
    "\n",
    "    # 重排数据矩阵\n",
    "    df_clustered = df_normalized.iloc[gene_order, sample_order]\n",
    "\n",
    "    # 创建热图\n",
    "    fig = go.Figure(data=go.Heatmap(\n",
    "        z=df_clustered,\n",
    "        x=df_clustered.columns,\n",
    "        y=df_clustered.index,\n",
    "        colorscale=color,\n",
    "        hovertemplate='Sample: %{x}<br>Gene: %{y}<br>Exp: %{z:.3f}<extra></extra>'\n",
    "    ))\n",
    "\n",
    "    # 设置轴标签\n",
    "    fig.update_layout(\n",
    "        xaxis_title=\"Sample\",\n",
    "        yaxis_title=\"Gene\",\n",
    "        width=1200,\n",
    "        height=900,\n",
    "    )\n",
    "\n",
    "    return fig\n",
    "\n",
    "# 使用 create_heatmap_with_clustering(df) 来创建并显示聚类后的热图\n",
    "create_heatmap_with_clustering(df1)\n"
   ]
  },
  {
   "cell_type": "code",
   "execution_count": 5,
   "metadata": {},
   "outputs": [
    {
     "data": {
      "application/vnd.plotly.v1+json": {
       "config": {
        "plotlyServerURL": "https://plot.ly"
       },
       "data": [
        {
         "colorscale": [
          [
           0,
           "rgb(5,48,97)"
          ],
          [
           0.1,
           "rgb(33,102,172)"
          ],
          [
           0.2,
           "rgb(67,147,195)"
          ],
          [
           0.3,
           "rgb(146,197,222)"
          ],
          [
           0.4,
           "rgb(209,229,240)"
          ],
          [
           0.5,
           "rgb(247,247,247)"
          ],
          [
           0.6,
           "rgb(253,219,199)"
          ],
          [
           0.7,
           "rgb(244,165,130)"
          ],
          [
           0.8,
           "rgb(214,96,77)"
          ],
          [
           0.9,
           "rgb(178,24,43)"
          ],
          [
           1,
           "rgb(103,0,31)"
          ]
         ],
         "hovertemplate": "Sample: %{x}<br>Gene: %{y}<br>Exp: %{z:.3f}<extra></extra>",
         "type": "heatmap",
         "x": [
          "M1",
          "M4",
          "M5",
          "M2",
          "M3",
          "M7",
          "M6",
          "M8",
          "M9",
          "M10"
         ],
         "y": [
          "Gene13",
          "Gene7",
          "Gene8",
          "Gene1",
          "Gene3",
          "Gene4",
          "Gene2",
          "Gene12",
          "Gene10",
          "Gene5",
          "Gene11",
          "Gene9",
          "Gene15",
          "Gene6",
          "Gene14"
         ],
         "z": [
          [
           2,
           1.6867077649343232,
           2,
           -1.795593603361634,
           -1.6302110472055449,
           -2,
           -0.017363850088905508,
           -1.4778713101062446,
           0.4790340422574437,
           0.7498368167641827
          ],
          [
           0.010741206314457852,
           1.0121670318091107,
           1.5783836887042293,
           1.2352473708179872,
           2,
           -1.6336428990339709,
           -2,
           -1.2166212446067972,
           -1.144280363402957,
           0.6481373116323996
          ],
          [
           0.7615930538527675,
           1.810191375589461,
           1.3886397961369839,
           0.9948832799849407,
           1.0229688393336018,
           -1.8661997427318966,
           -1.9894066657587965,
           -1.4752002083317586,
           -0.76239719675865,
           0.5331095928388638
          ],
          [
           1.1939247035294507,
           1.923759595293061,
           0.9560870363862435,
           0.6192601806728595,
           1.5345476369134183,
           -1.6007051872520768,
           -1.532490726835141,
           -1.2659860645673384,
           -0.8409962812871936,
           -0.960637901828175
          ],
          [
           1.3402845206407208,
           0.7814610251695866,
           1.1758921325744591,
           1.033337075054452,
           1.8941321848322463,
           -1.217994408414441,
           -0.9468188539259439,
           -1.3129812326167667,
           -0.998718129527417,
           -2
          ],
          [
           1.3255531316612505,
           1.4402170872216762,
           0.6541840648807318,
           1.4879941949166686,
           1.12318797969494,
           -0.9082510314987606,
           -1.2266117753113508,
           -1.4509638733549313,
           -0.9486753103612204,
           -1.8491083405834559
          ],
          [
           1.3721597420986975,
           2,
           1.1554043348957,
           1.0545628646561727,
           -0.025604194643616518,
           -1.4928551695947285,
           -0.7323142549400805,
           -2,
           -0.4706267108496873,
           -0.9536810955229145
          ],
          [
           1.3462768433608203,
           0.877199167799994,
           1.563537533071372,
           2,
           0.16964524659748337,
           -1.731841076040332,
           -1.2452035972543865,
           -1.610520136470435,
           -1.1267492145733984,
           0.1598332118980541
          ],
          [
           1.3023098945573008,
           -0.9367246957005348,
           -0.8073462847317567,
           -1.588901235642536,
           1.727984158651902,
           0.23489282467348005,
           2,
           0.5520574953904709,
           -2,
           0.036508317242748944
          ],
          [
           -1.4307321786980305,
           -1.2565573124369276,
           -1.5774950933116698,
           -0.28657988870773443,
           -0.7281606466316939,
           1.2243856469336762,
           1.5241753498731394,
           0.21255814183156518,
           1.5347057446812307,
           -0.08733898249732697
          ],
          [
           -1.541353248650613,
           -1.0422219968891735,
           -0.7420961334760008,
           -0.8198416246871281,
           -0.8144387383663936,
           2,
           0.4568957466875281,
           -0.29410934449600035,
           1.1779308771106765,
           0.41721562368107756
          ],
          [
           -0.5209677166526467,
           0.03375538471885964,
           -1.964769282519772,
           -1.924756265738009,
           -1.3751219207839191,
           -0.8346365137959828,
           1.3213559892512259,
           1.8893600585138701,
           1.73449896410373,
           1.6109468065572292
          ],
          [
           -0.8096172017785856,
           -0.557971148910712,
           -2,
           -2,
           -0.7946618732008739,
           -0.5303972343561714,
           1.6006217790014419,
           2,
           1.4593035080631882,
           1.691521781593039
          ],
          [
           -1.0013316943802206,
           -2,
           -1.1286341604599457,
           -1.2424292246001394,
           -2,
           0.6751156887230203,
           1.7599614617769386,
           1.2521741395158954,
           1.322914848587343,
           2
          ],
          [
           -2,
           -1.0136040229922065,
           -0.9670866998904639,
           -0.8676361444584293,
           -1.7156442009858768,
           0.3983036050958586,
           0.198681918257114,
           1.9049680376152458,
           2,
           0.7826766182442406
          ]
         ]
        }
       ],
       "layout": {
        "height": 900,
        "template": {
         "data": {
          "bar": [
           {
            "error_x": {
             "color": "#2a3f5f"
            },
            "error_y": {
             "color": "#2a3f5f"
            },
            "marker": {
             "line": {
              "color": "#E5ECF6",
              "width": 0.5
             },
             "pattern": {
              "fillmode": "overlay",
              "size": 10,
              "solidity": 0.2
             }
            },
            "type": "bar"
           }
          ],
          "barpolar": [
           {
            "marker": {
             "line": {
              "color": "#E5ECF6",
              "width": 0.5
             },
             "pattern": {
              "fillmode": "overlay",
              "size": 10,
              "solidity": 0.2
             }
            },
            "type": "barpolar"
           }
          ],
          "carpet": [
           {
            "aaxis": {
             "endlinecolor": "#2a3f5f",
             "gridcolor": "white",
             "linecolor": "white",
             "minorgridcolor": "white",
             "startlinecolor": "#2a3f5f"
            },
            "baxis": {
             "endlinecolor": "#2a3f5f",
             "gridcolor": "white",
             "linecolor": "white",
             "minorgridcolor": "white",
             "startlinecolor": "#2a3f5f"
            },
            "type": "carpet"
           }
          ],
          "choropleth": [
           {
            "colorbar": {
             "outlinewidth": 0,
             "ticks": ""
            },
            "type": "choropleth"
           }
          ],
          "contour": [
           {
            "colorbar": {
             "outlinewidth": 0,
             "ticks": ""
            },
            "colorscale": [
             [
              0,
              "#0d0887"
             ],
             [
              0.1111111111111111,
              "#46039f"
             ],
             [
              0.2222222222222222,
              "#7201a8"
             ],
             [
              0.3333333333333333,
              "#9c179e"
             ],
             [
              0.4444444444444444,
              "#bd3786"
             ],
             [
              0.5555555555555556,
              "#d8576b"
             ],
             [
              0.6666666666666666,
              "#ed7953"
             ],
             [
              0.7777777777777778,
              "#fb9f3a"
             ],
             [
              0.8888888888888888,
              "#fdca26"
             ],
             [
              1,
              "#f0f921"
             ]
            ],
            "type": "contour"
           }
          ],
          "contourcarpet": [
           {
            "colorbar": {
             "outlinewidth": 0,
             "ticks": ""
            },
            "type": "contourcarpet"
           }
          ],
          "heatmap": [
           {
            "colorbar": {
             "outlinewidth": 0,
             "ticks": ""
            },
            "colorscale": [
             [
              0,
              "#0d0887"
             ],
             [
              0.1111111111111111,
              "#46039f"
             ],
             [
              0.2222222222222222,
              "#7201a8"
             ],
             [
              0.3333333333333333,
              "#9c179e"
             ],
             [
              0.4444444444444444,
              "#bd3786"
             ],
             [
              0.5555555555555556,
              "#d8576b"
             ],
             [
              0.6666666666666666,
              "#ed7953"
             ],
             [
              0.7777777777777778,
              "#fb9f3a"
             ],
             [
              0.8888888888888888,
              "#fdca26"
             ],
             [
              1,
              "#f0f921"
             ]
            ],
            "type": "heatmap"
           }
          ],
          "heatmapgl": [
           {
            "colorbar": {
             "outlinewidth": 0,
             "ticks": ""
            },
            "colorscale": [
             [
              0,
              "#0d0887"
             ],
             [
              0.1111111111111111,
              "#46039f"
             ],
             [
              0.2222222222222222,
              "#7201a8"
             ],
             [
              0.3333333333333333,
              "#9c179e"
             ],
             [
              0.4444444444444444,
              "#bd3786"
             ],
             [
              0.5555555555555556,
              "#d8576b"
             ],
             [
              0.6666666666666666,
              "#ed7953"
             ],
             [
              0.7777777777777778,
              "#fb9f3a"
             ],
             [
              0.8888888888888888,
              "#fdca26"
             ],
             [
              1,
              "#f0f921"
             ]
            ],
            "type": "heatmapgl"
           }
          ],
          "histogram": [
           {
            "marker": {
             "pattern": {
              "fillmode": "overlay",
              "size": 10,
              "solidity": 0.2
             }
            },
            "type": "histogram"
           }
          ],
          "histogram2d": [
           {
            "colorbar": {
             "outlinewidth": 0,
             "ticks": ""
            },
            "colorscale": [
             [
              0,
              "#0d0887"
             ],
             [
              0.1111111111111111,
              "#46039f"
             ],
             [
              0.2222222222222222,
              "#7201a8"
             ],
             [
              0.3333333333333333,
              "#9c179e"
             ],
             [
              0.4444444444444444,
              "#bd3786"
             ],
             [
              0.5555555555555556,
              "#d8576b"
             ],
             [
              0.6666666666666666,
              "#ed7953"
             ],
             [
              0.7777777777777778,
              "#fb9f3a"
             ],
             [
              0.8888888888888888,
              "#fdca26"
             ],
             [
              1,
              "#f0f921"
             ]
            ],
            "type": "histogram2d"
           }
          ],
          "histogram2dcontour": [
           {
            "colorbar": {
             "outlinewidth": 0,
             "ticks": ""
            },
            "colorscale": [
             [
              0,
              "#0d0887"
             ],
             [
              0.1111111111111111,
              "#46039f"
             ],
             [
              0.2222222222222222,
              "#7201a8"
             ],
             [
              0.3333333333333333,
              "#9c179e"
             ],
             [
              0.4444444444444444,
              "#bd3786"
             ],
             [
              0.5555555555555556,
              "#d8576b"
             ],
             [
              0.6666666666666666,
              "#ed7953"
             ],
             [
              0.7777777777777778,
              "#fb9f3a"
             ],
             [
              0.8888888888888888,
              "#fdca26"
             ],
             [
              1,
              "#f0f921"
             ]
            ],
            "type": "histogram2dcontour"
           }
          ],
          "mesh3d": [
           {
            "colorbar": {
             "outlinewidth": 0,
             "ticks": ""
            },
            "type": "mesh3d"
           }
          ],
          "parcoords": [
           {
            "line": {
             "colorbar": {
              "outlinewidth": 0,
              "ticks": ""
             }
            },
            "type": "parcoords"
           }
          ],
          "pie": [
           {
            "automargin": true,
            "type": "pie"
           }
          ],
          "scatter": [
           {
            "fillpattern": {
             "fillmode": "overlay",
             "size": 10,
             "solidity": 0.2
            },
            "type": "scatter"
           }
          ],
          "scatter3d": [
           {
            "line": {
             "colorbar": {
              "outlinewidth": 0,
              "ticks": ""
             }
            },
            "marker": {
             "colorbar": {
              "outlinewidth": 0,
              "ticks": ""
             }
            },
            "type": "scatter3d"
           }
          ],
          "scattercarpet": [
           {
            "marker": {
             "colorbar": {
              "outlinewidth": 0,
              "ticks": ""
             }
            },
            "type": "scattercarpet"
           }
          ],
          "scattergeo": [
           {
            "marker": {
             "colorbar": {
              "outlinewidth": 0,
              "ticks": ""
             }
            },
            "type": "scattergeo"
           }
          ],
          "scattergl": [
           {
            "marker": {
             "colorbar": {
              "outlinewidth": 0,
              "ticks": ""
             }
            },
            "type": "scattergl"
           }
          ],
          "scattermapbox": [
           {
            "marker": {
             "colorbar": {
              "outlinewidth": 0,
              "ticks": ""
             }
            },
            "type": "scattermapbox"
           }
          ],
          "scatterpolar": [
           {
            "marker": {
             "colorbar": {
              "outlinewidth": 0,
              "ticks": ""
             }
            },
            "type": "scatterpolar"
           }
          ],
          "scatterpolargl": [
           {
            "marker": {
             "colorbar": {
              "outlinewidth": 0,
              "ticks": ""
             }
            },
            "type": "scatterpolargl"
           }
          ],
          "scatterternary": [
           {
            "marker": {
             "colorbar": {
              "outlinewidth": 0,
              "ticks": ""
             }
            },
            "type": "scatterternary"
           }
          ],
          "surface": [
           {
            "colorbar": {
             "outlinewidth": 0,
             "ticks": ""
            },
            "colorscale": [
             [
              0,
              "#0d0887"
             ],
             [
              0.1111111111111111,
              "#46039f"
             ],
             [
              0.2222222222222222,
              "#7201a8"
             ],
             [
              0.3333333333333333,
              "#9c179e"
             ],
             [
              0.4444444444444444,
              "#bd3786"
             ],
             [
              0.5555555555555556,
              "#d8576b"
             ],
             [
              0.6666666666666666,
              "#ed7953"
             ],
             [
              0.7777777777777778,
              "#fb9f3a"
             ],
             [
              0.8888888888888888,
              "#fdca26"
             ],
             [
              1,
              "#f0f921"
             ]
            ],
            "type": "surface"
           }
          ],
          "table": [
           {
            "cells": {
             "fill": {
              "color": "#EBF0F8"
             },
             "line": {
              "color": "white"
             }
            },
            "header": {
             "fill": {
              "color": "#C8D4E3"
             },
             "line": {
              "color": "white"
             }
            },
            "type": "table"
           }
          ]
         },
         "layout": {
          "annotationdefaults": {
           "arrowcolor": "#2a3f5f",
           "arrowhead": 0,
           "arrowwidth": 1
          },
          "autotypenumbers": "strict",
          "coloraxis": {
           "colorbar": {
            "outlinewidth": 0,
            "ticks": ""
           }
          },
          "colorscale": {
           "diverging": [
            [
             0,
             "#8e0152"
            ],
            [
             0.1,
             "#c51b7d"
            ],
            [
             0.2,
             "#de77ae"
            ],
            [
             0.3,
             "#f1b6da"
            ],
            [
             0.4,
             "#fde0ef"
            ],
            [
             0.5,
             "#f7f7f7"
            ],
            [
             0.6,
             "#e6f5d0"
            ],
            [
             0.7,
             "#b8e186"
            ],
            [
             0.8,
             "#7fbc41"
            ],
            [
             0.9,
             "#4d9221"
            ],
            [
             1,
             "#276419"
            ]
           ],
           "sequential": [
            [
             0,
             "#0d0887"
            ],
            [
             0.1111111111111111,
             "#46039f"
            ],
            [
             0.2222222222222222,
             "#7201a8"
            ],
            [
             0.3333333333333333,
             "#9c179e"
            ],
            [
             0.4444444444444444,
             "#bd3786"
            ],
            [
             0.5555555555555556,
             "#d8576b"
            ],
            [
             0.6666666666666666,
             "#ed7953"
            ],
            [
             0.7777777777777778,
             "#fb9f3a"
            ],
            [
             0.8888888888888888,
             "#fdca26"
            ],
            [
             1,
             "#f0f921"
            ]
           ],
           "sequentialminus": [
            [
             0,
             "#0d0887"
            ],
            [
             0.1111111111111111,
             "#46039f"
            ],
            [
             0.2222222222222222,
             "#7201a8"
            ],
            [
             0.3333333333333333,
             "#9c179e"
            ],
            [
             0.4444444444444444,
             "#bd3786"
            ],
            [
             0.5555555555555556,
             "#d8576b"
            ],
            [
             0.6666666666666666,
             "#ed7953"
            ],
            [
             0.7777777777777778,
             "#fb9f3a"
            ],
            [
             0.8888888888888888,
             "#fdca26"
            ],
            [
             1,
             "#f0f921"
            ]
           ]
          },
          "colorway": [
           "#636efa",
           "#EF553B",
           "#00cc96",
           "#ab63fa",
           "#FFA15A",
           "#19d3f3",
           "#FF6692",
           "#B6E880",
           "#FF97FF",
           "#FECB52"
          ],
          "font": {
           "color": "#2a3f5f"
          },
          "geo": {
           "bgcolor": "white",
           "lakecolor": "white",
           "landcolor": "#E5ECF6",
           "showlakes": true,
           "showland": true,
           "subunitcolor": "white"
          },
          "hoverlabel": {
           "align": "left"
          },
          "hovermode": "closest",
          "mapbox": {
           "style": "light"
          },
          "paper_bgcolor": "white",
          "plot_bgcolor": "#E5ECF6",
          "polar": {
           "angularaxis": {
            "gridcolor": "white",
            "linecolor": "white",
            "ticks": ""
           },
           "bgcolor": "#E5ECF6",
           "radialaxis": {
            "gridcolor": "white",
            "linecolor": "white",
            "ticks": ""
           }
          },
          "scene": {
           "xaxis": {
            "backgroundcolor": "#E5ECF6",
            "gridcolor": "white",
            "gridwidth": 2,
            "linecolor": "white",
            "showbackground": true,
            "ticks": "",
            "zerolinecolor": "white"
           },
           "yaxis": {
            "backgroundcolor": "#E5ECF6",
            "gridcolor": "white",
            "gridwidth": 2,
            "linecolor": "white",
            "showbackground": true,
            "ticks": "",
            "zerolinecolor": "white"
           },
           "zaxis": {
            "backgroundcolor": "#E5ECF6",
            "gridcolor": "white",
            "gridwidth": 2,
            "linecolor": "white",
            "showbackground": true,
            "ticks": "",
            "zerolinecolor": "white"
           }
          },
          "shapedefaults": {
           "line": {
            "color": "#2a3f5f"
           }
          },
          "ternary": {
           "aaxis": {
            "gridcolor": "white",
            "linecolor": "white",
            "ticks": ""
           },
           "baxis": {
            "gridcolor": "white",
            "linecolor": "white",
            "ticks": ""
           },
           "bgcolor": "#E5ECF6",
           "caxis": {
            "gridcolor": "white",
            "linecolor": "white",
            "ticks": ""
           }
          },
          "title": {
           "x": 0.05
          },
          "xaxis": {
           "automargin": true,
           "gridcolor": "white",
           "linecolor": "white",
           "ticks": "",
           "title": {
            "standoff": 15
           },
           "zerolinecolor": "white",
           "zerolinewidth": 2
          },
          "yaxis": {
           "automargin": true,
           "gridcolor": "white",
           "linecolor": "white",
           "ticks": "",
           "title": {
            "standoff": 15
           },
           "zerolinecolor": "white",
           "zerolinewidth": 2
          }
         }
        },
        "width": 1200,
        "xaxis": {
         "title": {
          "text": "Sample"
         }
        },
        "yaxis": {
         "title": {
          "text": "Gene"
         }
        }
       }
      }
     },
     "metadata": {},
     "output_type": "display_data"
    }
   ],
   "source": [
    "import numpy as np\n",
    "import pandas as pd\n",
    "import plotly.graph_objects as go\n",
    "from scipy.cluster.hierarchy import linkage, leaves_list\n",
    "\n",
    "def create_heatmap_with_clustering(df, color='RdBu_r'):\n",
    "\n",
    "    # 第一列改名为gene_id，并设置为索引\n",
    "    df = df.rename(columns={df.columns[0]: 'gene_id'})\n",
    "    df = df.set_index('gene_id')\n",
    "\n",
    "    # 数据归一化\n",
    "    df_normalized = df.apply(lambda x: np.interp(x, (x.min(), x.max()), (-2, 2)))\n",
    "\n",
    "    # 对基因（行）进行层次聚类\n",
    "    gene_linkage = linkage(df_normalized, method='average')\n",
    "    gene_order = leaves_list(gene_linkage)\n",
    "\n",
    "    # 对样本（列）进行层次聚类\n",
    "    sample_linkage = linkage(df_normalized.T, method='average')\n",
    "    sample_order = leaves_list(sample_linkage)\n",
    "\n",
    "    # 重排数据矩阵\n",
    "    df_clustered = df_normalized.iloc[gene_order, sample_order]\n",
    "\n",
    "    # 创建热图\n",
    "    fig = go.Figure(data=go.Heatmap(\n",
    "        z=df_clustered,\n",
    "        x=df_clustered.columns,\n",
    "        y=df_clustered.index,\n",
    "        colorscale=color,\n",
    "        hovertemplate='Sample: %{x}<br>Gene: %{y}<br>Exp: %{z:.3f}<extra></extra>'\n",
    "    ))\n",
    "\n",
    "    # 设置轴标签\n",
    "    fig.update_layout(\n",
    "        xaxis_title=\"Sample\",\n",
    "        yaxis_title=\"Gene\",\n",
    "        width=1200,\n",
    "        height=900,\n",
    "    )\n",
    "\n",
    "    return fig\n",
    "\n",
    "# 使用 create_heatmap_with_clustering(df) 来创建并显示聚类后的热图\n",
    "create_heatmap_with_clustering(df1)\n"
   ]
  },
  {
   "cell_type": "markdown",
   "metadata": {},
   "source": [
    "### 添加聚类树"
   ]
  },
  {
   "cell_type": "code",
   "execution_count": 4,
   "metadata": {},
   "outputs": [
    {
     "data": {
      "application/vnd.plotly.v1+json": {
       "config": {
        "plotlyServerURL": "https://plot.ly"
       },
       "data": [
        {
         "hoverinfo": "text",
         "marker": {
          "color": "rgb(61,153,112)",
          "line": {
           "width": 1
          }
         },
         "mode": "lines",
         "showlegend": false,
         "type": "scatter",
         "x": [
          0,
          1.5903185196301837,
          1.5903185196301837,
          0
         ],
         "xaxis": "x",
         "y": [
          -15,
          -15,
          -25,
          -25
         ],
         "yaxis": "y"
        },
        {
         "hoverinfo": "text",
         "marker": {
          "color": "rgb(61,153,112)",
          "line": {
           "width": 1
          }
         },
         "mode": "lines",
         "showlegend": false,
         "type": "scatter",
         "x": [
          0,
          1.3137582575427371,
          1.3137582575427371,
          0
         ],
         "xaxis": "x",
         "y": [
          -45,
          -45,
          -55,
          -55
         ],
         "yaxis": "y"
        },
        {
         "hoverinfo": "text",
         "marker": {
          "color": "rgb(61,153,112)",
          "line": {
           "width": 1
          }
         },
         "mode": "lines",
         "showlegend": false,
         "type": "scatter",
         "x": [
          0,
          1.7221450735224388,
          1.7221450735224388,
          1.3137582575427371
         ],
         "xaxis": "x",
         "y": [
          -35,
          -35,
          -50,
          -50
         ],
         "yaxis": "y"
        },
        {
         "hoverinfo": "text",
         "marker": {
          "color": "rgb(61,153,112)",
          "line": {
           "width": 1
          }
         },
         "mode": "lines",
         "showlegend": false,
         "type": "scatter",
         "x": [
          0,
          2.1218325145117873,
          2.1218325145117873,
          0
         ],
         "xaxis": "x",
         "y": [
          -65,
          -65,
          -75,
          -75
         ],
         "yaxis": "y"
        },
        {
         "hoverinfo": "text",
         "marker": {
          "color": "rgb(61,153,112)",
          "line": {
           "width": 1
          }
         },
         "mode": "lines",
         "showlegend": false,
         "type": "scatter",
         "x": [
          1.7221450735224388,
          2.496844992897045,
          2.496844992897045,
          2.1218325145117873
         ],
         "xaxis": "x",
         "y": [
          -42.5,
          -42.5,
          -70,
          -70
         ],
         "yaxis": "y"
        },
        {
         "hoverinfo": "text",
         "marker": {
          "color": "rgb(61,153,112)",
          "line": {
           "width": 1
          }
         },
         "mode": "lines",
         "showlegend": false,
         "type": "scatter",
         "x": [
          1.5903185196301837,
          2.744241038717249,
          2.744241038717249,
          2.496844992897045
         ],
         "xaxis": "x",
         "y": [
          -20,
          -20,
          -56.25,
          -56.25
         ],
         "yaxis": "y"
        },
        {
         "hoverinfo": "text",
         "marker": {
          "color": "rgb(61,153,112)",
          "line": {
           "width": 1
          }
         },
         "mode": "lines",
         "showlegend": false,
         "type": "scatter",
         "x": [
          0,
          5.129397519570817,
          5.129397519570817,
          2.744241038717249
         ],
         "xaxis": "x",
         "y": [
          -5,
          -5,
          -38.125,
          -38.125
         ],
         "yaxis": "y"
        },
        {
         "hoverinfo": "text",
         "marker": {
          "color": "rgb(255,65,54)",
          "line": {
           "width": 1
          }
         },
         "mode": "lines",
         "showlegend": false,
         "type": "scatter",
         "x": [
          0,
          1.851247966476106,
          1.851247966476106,
          0
         ],
         "xaxis": "x",
         "y": [
          -95,
          -95,
          -105,
          -105
         ],
         "yaxis": "y"
        },
        {
         "hoverinfo": "text",
         "marker": {
          "color": "rgb(255,65,54)",
          "line": {
           "width": 1
          }
         },
         "mode": "lines",
         "showlegend": false,
         "type": "scatter",
         "x": [
          0,
          1.020937063908944,
          1.020937063908944,
          0
         ],
         "xaxis": "x",
         "y": [
          -115,
          -115,
          -125,
          -125
         ],
         "yaxis": "y"
        },
        {
         "hoverinfo": "text",
         "marker": {
          "color": "rgb(255,65,54)",
          "line": {
           "width": 1
          }
         },
         "mode": "lines",
         "showlegend": false,
         "type": "scatter",
         "x": [
          0,
          2.6642860577577188,
          2.6642860577577188,
          0
         ],
         "xaxis": "x",
         "y": [
          -135,
          -135,
          -145,
          -145
         ],
         "yaxis": "y"
        },
        {
         "hoverinfo": "text",
         "marker": {
          "color": "rgb(255,65,54)",
          "line": {
           "width": 1
          }
         },
         "mode": "lines",
         "showlegend": false,
         "type": "scatter",
         "x": [
          1.020937063908944,
          2.911754692416446,
          2.911754692416446,
          2.6642860577577188
         ],
         "xaxis": "x",
         "y": [
          -120,
          -120,
          -140,
          -140
         ],
         "yaxis": "y"
        },
        {
         "hoverinfo": "text",
         "marker": {
          "color": "rgb(255,65,54)",
          "line": {
           "width": 1
          }
         },
         "mode": "lines",
         "showlegend": false,
         "type": "scatter",
         "x": [
          1.851247966476106,
          3.602462873949891,
          3.602462873949891,
          2.911754692416446
         ],
         "xaxis": "x",
         "y": [
          -100,
          -100,
          -130,
          -130
         ],
         "yaxis": "y"
        },
        {
         "hoverinfo": "text",
         "marker": {
          "color": "rgb(0,116,217)",
          "line": {
           "width": 1
          }
         },
         "mode": "lines",
         "showlegend": false,
         "type": "scatter",
         "x": [
          0,
          5.869050808293696,
          5.869050808293696,
          3.602462873949891
         ],
         "xaxis": "x",
         "y": [
          -85,
          -85,
          -115,
          -115
         ],
         "yaxis": "y"
        },
        {
         "hoverinfo": "text",
         "marker": {
          "color": "rgb(0,116,217)",
          "line": {
           "width": 1
          }
         },
         "mode": "lines",
         "showlegend": false,
         "type": "scatter",
         "x": [
          5.129397519570817,
          7.552712983875742,
          7.552712983875742,
          5.869050808293696
         ],
         "xaxis": "x",
         "y": [
          -21.5625,
          -21.5625,
          -100,
          -100
         ],
         "yaxis": "y"
        },
        {
         "hoverinfo": "text",
         "marker": {
          "color": "rgb(61,153,112)",
          "line": {
           "width": 1
          }
         },
         "mode": "lines",
         "showlegend": false,
         "type": "scatter",
         "x": [
          15,
          15,
          25,
          25
         ],
         "xaxis": "x2",
         "y": [
          0,
          3.2458405612817303,
          3.2458405612817303,
          0
         ],
         "yaxis": "y2"
        },
        {
         "hoverinfo": "text",
         "marker": {
          "color": "rgb(61,153,112)",
          "line": {
           "width": 1
          }
         },
         "mode": "lines",
         "showlegend": false,
         "type": "scatter",
         "x": [
          5,
          5,
          20,
          20
         ],
         "xaxis": "x2",
         "y": [
          0,
          3.4961541788279833,
          3.4961541788279833,
          3.2458405612817303
         ],
         "yaxis": "y2"
        },
        {
         "hoverinfo": "text",
         "marker": {
          "color": "rgb(61,153,112)",
          "line": {
           "width": 1
          }
         },
         "mode": "lines",
         "showlegend": false,
         "type": "scatter",
         "x": [
          35,
          35,
          45,
          45
         ],
         "xaxis": "x2",
         "y": [
          0,
          4.592000612747703,
          4.592000612747703,
          0
         ],
         "yaxis": "y2"
        },
        {
         "hoverinfo": "text",
         "marker": {
          "color": "rgb(61,153,112)",
          "line": {
           "width": 1
          }
         },
         "mode": "lines",
         "showlegend": false,
         "type": "scatter",
         "x": [
          12.5,
          12.5,
          40,
          40
         ],
         "xaxis": "x2",
         "y": [
          3.4961541788279833,
          5.069877996519097,
          5.069877996519097,
          4.592000612747703
         ],
         "yaxis": "y2"
        },
        {
         "hoverinfo": "text",
         "marker": {
          "color": "rgb(255,65,54)",
          "line": {
           "width": 1
          }
         },
         "mode": "lines",
         "showlegend": false,
         "type": "scatter",
         "x": [
          65,
          65,
          75,
          75
         ],
         "xaxis": "x2",
         "y": [
          0,
          3.611006386105579,
          3.611006386105579,
          0
         ],
         "yaxis": "y2"
        },
        {
         "hoverinfo": "text",
         "marker": {
          "color": "rgb(255,65,54)",
          "line": {
           "width": 1
          }
         },
         "mode": "lines",
         "showlegend": false,
         "type": "scatter",
         "x": [
          85,
          85,
          95,
          95
         ],
         "xaxis": "x2",
         "y": [
          0,
          4.248213981030567,
          4.248213981030567,
          0
         ],
         "yaxis": "y2"
        },
        {
         "hoverinfo": "text",
         "marker": {
          "color": "rgb(255,65,54)",
          "line": {
           "width": 1
          }
         },
         "mode": "lines",
         "showlegend": false,
         "type": "scatter",
         "x": [
          70,
          70,
          90,
          90
         ],
         "xaxis": "x2",
         "y": [
          3.611006386105579,
          4.642404587125068,
          4.642404587125068,
          4.248213981030567
         ],
         "yaxis": "y2"
        },
        {
         "hoverinfo": "text",
         "marker": {
          "color": "rgb(255,65,54)",
          "line": {
           "width": 1
          }
         },
         "mode": "lines",
         "showlegend": false,
         "type": "scatter",
         "x": [
          55,
          55,
          80,
          80
         ],
         "xaxis": "x2",
         "y": [
          0,
          5.3282988450990665,
          5.3282988450990665,
          4.642404587125068
         ],
         "yaxis": "y2"
        },
        {
         "hoverinfo": "text",
         "marker": {
          "color": "rgb(0,116,217)",
          "line": {
           "width": 1
          }
         },
         "mode": "lines",
         "showlegend": false,
         "type": "scatter",
         "x": [
          26.25,
          26.25,
          67.5,
          67.5
         ],
         "xaxis": "x2",
         "y": [
          5.069877996519097,
          9.474678471047218,
          9.474678471047218,
          5.3282988450990665
         ],
         "yaxis": "y2"
        },
        {
         "colorscale": [
          [
           0,
           "rgb(5,48,97)"
          ],
          [
           0.1,
           "rgb(33,102,172)"
          ],
          [
           0.2,
           "rgb(67,147,195)"
          ],
          [
           0.3,
           "rgb(146,197,222)"
          ],
          [
           0.4,
           "rgb(209,229,240)"
          ],
          [
           0.5,
           "rgb(247,247,247)"
          ],
          [
           0.6,
           "rgb(253,219,199)"
          ],
          [
           0.7,
           "rgb(244,165,130)"
          ],
          [
           0.8,
           "rgb(214,96,77)"
          ],
          [
           0.9,
           "rgb(178,24,43)"
          ],
          [
           1,
           "rgb(103,0,31)"
          ]
         ],
         "hoverongaps": false,
         "hovertemplate": "Sample: %{x}<br>Gene: %{y}<br>Exp: %{z:.3f}<extra></extra>",
         "type": "heatmap",
         "x": [
          "M1",
          "M4",
          "M5",
          "M2",
          "M3",
          "M7",
          "M6",
          "M8",
          "M9",
          "M10"
         ],
         "xaxis": "x3",
         "y": [
          "Gene13",
          "Gene7",
          "Gene8",
          "Gene1",
          "Gene3",
          "Gene4",
          "Gene2",
          "Gene12",
          "Gene10",
          "Gene5",
          "Gene11",
          "Gene9",
          "Gene15",
          "Gene6",
          "Gene14"
         ],
         "yaxis": "y3",
         "z": [
          [
           2,
           1.6867077649343232,
           2,
           -1.795593603361634,
           -1.6302110472055449,
           -2,
           -0.017363850088905508,
           -1.4778713101062446,
           0.4790340422574437,
           0.7498368167641827
          ],
          [
           0.010741206314457852,
           1.0121670318091107,
           1.5783836887042293,
           1.2352473708179872,
           2,
           -1.6336428990339709,
           -2,
           -1.2166212446067972,
           -1.144280363402957,
           0.6481373116323996
          ],
          [
           0.7615930538527675,
           1.810191375589461,
           1.3886397961369839,
           0.9948832799849407,
           1.0229688393336018,
           -1.8661997427318966,
           -1.9894066657587965,
           -1.4752002083317586,
           -0.76239719675865,
           0.5331095928388638
          ],
          [
           1.1939247035294507,
           1.923759595293061,
           0.9560870363862435,
           0.6192601806728595,
           1.5345476369134183,
           -1.6007051872520768,
           -1.532490726835141,
           -1.2659860645673384,
           -0.8409962812871936,
           -0.960637901828175
          ],
          [
           1.3402845206407208,
           0.7814610251695866,
           1.1758921325744591,
           1.033337075054452,
           1.8941321848322463,
           -1.217994408414441,
           -0.9468188539259439,
           -1.3129812326167667,
           -0.998718129527417,
           -2
          ],
          [
           1.3255531316612505,
           1.4402170872216762,
           0.6541840648807318,
           1.4879941949166686,
           1.12318797969494,
           -0.9082510314987606,
           -1.2266117753113508,
           -1.4509638733549313,
           -0.9486753103612204,
           -1.8491083405834559
          ],
          [
           1.3721597420986975,
           2,
           1.1554043348957,
           1.0545628646561727,
           -0.025604194643616518,
           -1.4928551695947285,
           -0.7323142549400805,
           -2,
           -0.4706267108496873,
           -0.9536810955229145
          ],
          [
           1.3462768433608203,
           0.877199167799994,
           1.563537533071372,
           2,
           0.16964524659748337,
           -1.731841076040332,
           -1.2452035972543865,
           -1.610520136470435,
           -1.1267492145733984,
           0.1598332118980541
          ],
          [
           1.3023098945573008,
           -0.9367246957005348,
           -0.8073462847317567,
           -1.588901235642536,
           1.727984158651902,
           0.23489282467348005,
           2,
           0.5520574953904709,
           -2,
           0.036508317242748944
          ],
          [
           -1.4307321786980305,
           -1.2565573124369276,
           -1.5774950933116698,
           -0.28657988870773443,
           -0.7281606466316939,
           1.2243856469336762,
           1.5241753498731394,
           0.21255814183156518,
           1.5347057446812307,
           -0.08733898249732697
          ],
          [
           -1.541353248650613,
           -1.0422219968891735,
           -0.7420961334760008,
           -0.8198416246871281,
           -0.8144387383663936,
           2,
           0.4568957466875281,
           -0.29410934449600035,
           1.1779308771106765,
           0.41721562368107756
          ],
          [
           -0.5209677166526467,
           0.03375538471885964,
           -1.964769282519772,
           -1.924756265738009,
           -1.3751219207839191,
           -0.8346365137959828,
           1.3213559892512259,
           1.8893600585138701,
           1.73449896410373,
           1.6109468065572292
          ],
          [
           -0.8096172017785856,
           -0.557971148910712,
           -2,
           -2,
           -0.7946618732008739,
           -0.5303972343561714,
           1.6006217790014419,
           2,
           1.4593035080631882,
           1.691521781593039
          ],
          [
           -1.0013316943802206,
           -2,
           -1.1286341604599457,
           -1.2424292246001394,
           -2,
           0.6751156887230203,
           1.7599614617769386,
           1.2521741395158954,
           1.322914848587343,
           2
          ],
          [
           -2,
           -1.0136040229922065,
           -0.9670866998904639,
           -0.8676361444584293,
           -1.7156442009858768,
           0.3983036050958586,
           0.198681918257114,
           1.9049680376152458,
           2,
           0.7826766182442406
          ]
         ]
        }
       ],
       "layout": {
        "height": 900,
        "paper_bgcolor": "white",
        "plot_bgcolor": "white",
        "template": {
         "data": {
          "bar": [
           {
            "error_x": {
             "color": "#2a3f5f"
            },
            "error_y": {
             "color": "#2a3f5f"
            },
            "marker": {
             "line": {
              "color": "#E5ECF6",
              "width": 0.5
             },
             "pattern": {
              "fillmode": "overlay",
              "size": 10,
              "solidity": 0.2
             }
            },
            "type": "bar"
           }
          ],
          "barpolar": [
           {
            "marker": {
             "line": {
              "color": "#E5ECF6",
              "width": 0.5
             },
             "pattern": {
              "fillmode": "overlay",
              "size": 10,
              "solidity": 0.2
             }
            },
            "type": "barpolar"
           }
          ],
          "carpet": [
           {
            "aaxis": {
             "endlinecolor": "#2a3f5f",
             "gridcolor": "white",
             "linecolor": "white",
             "minorgridcolor": "white",
             "startlinecolor": "#2a3f5f"
            },
            "baxis": {
             "endlinecolor": "#2a3f5f",
             "gridcolor": "white",
             "linecolor": "white",
             "minorgridcolor": "white",
             "startlinecolor": "#2a3f5f"
            },
            "type": "carpet"
           }
          ],
          "choropleth": [
           {
            "colorbar": {
             "outlinewidth": 0,
             "ticks": ""
            },
            "type": "choropleth"
           }
          ],
          "contour": [
           {
            "colorbar": {
             "outlinewidth": 0,
             "ticks": ""
            },
            "colorscale": [
             [
              0,
              "#0d0887"
             ],
             [
              0.1111111111111111,
              "#46039f"
             ],
             [
              0.2222222222222222,
              "#7201a8"
             ],
             [
              0.3333333333333333,
              "#9c179e"
             ],
             [
              0.4444444444444444,
              "#bd3786"
             ],
             [
              0.5555555555555556,
              "#d8576b"
             ],
             [
              0.6666666666666666,
              "#ed7953"
             ],
             [
              0.7777777777777778,
              "#fb9f3a"
             ],
             [
              0.8888888888888888,
              "#fdca26"
             ],
             [
              1,
              "#f0f921"
             ]
            ],
            "type": "contour"
           }
          ],
          "contourcarpet": [
           {
            "colorbar": {
             "outlinewidth": 0,
             "ticks": ""
            },
            "type": "contourcarpet"
           }
          ],
          "heatmap": [
           {
            "colorbar": {
             "outlinewidth": 0,
             "ticks": ""
            },
            "colorscale": [
             [
              0,
              "#0d0887"
             ],
             [
              0.1111111111111111,
              "#46039f"
             ],
             [
              0.2222222222222222,
              "#7201a8"
             ],
             [
              0.3333333333333333,
              "#9c179e"
             ],
             [
              0.4444444444444444,
              "#bd3786"
             ],
             [
              0.5555555555555556,
              "#d8576b"
             ],
             [
              0.6666666666666666,
              "#ed7953"
             ],
             [
              0.7777777777777778,
              "#fb9f3a"
             ],
             [
              0.8888888888888888,
              "#fdca26"
             ],
             [
              1,
              "#f0f921"
             ]
            ],
            "type": "heatmap"
           }
          ],
          "heatmapgl": [
           {
            "colorbar": {
             "outlinewidth": 0,
             "ticks": ""
            },
            "colorscale": [
             [
              0,
              "#0d0887"
             ],
             [
              0.1111111111111111,
              "#46039f"
             ],
             [
              0.2222222222222222,
              "#7201a8"
             ],
             [
              0.3333333333333333,
              "#9c179e"
             ],
             [
              0.4444444444444444,
              "#bd3786"
             ],
             [
              0.5555555555555556,
              "#d8576b"
             ],
             [
              0.6666666666666666,
              "#ed7953"
             ],
             [
              0.7777777777777778,
              "#fb9f3a"
             ],
             [
              0.8888888888888888,
              "#fdca26"
             ],
             [
              1,
              "#f0f921"
             ]
            ],
            "type": "heatmapgl"
           }
          ],
          "histogram": [
           {
            "marker": {
             "pattern": {
              "fillmode": "overlay",
              "size": 10,
              "solidity": 0.2
             }
            },
            "type": "histogram"
           }
          ],
          "histogram2d": [
           {
            "colorbar": {
             "outlinewidth": 0,
             "ticks": ""
            },
            "colorscale": [
             [
              0,
              "#0d0887"
             ],
             [
              0.1111111111111111,
              "#46039f"
             ],
             [
              0.2222222222222222,
              "#7201a8"
             ],
             [
              0.3333333333333333,
              "#9c179e"
             ],
             [
              0.4444444444444444,
              "#bd3786"
             ],
             [
              0.5555555555555556,
              "#d8576b"
             ],
             [
              0.6666666666666666,
              "#ed7953"
             ],
             [
              0.7777777777777778,
              "#fb9f3a"
             ],
             [
              0.8888888888888888,
              "#fdca26"
             ],
             [
              1,
              "#f0f921"
             ]
            ],
            "type": "histogram2d"
           }
          ],
          "histogram2dcontour": [
           {
            "colorbar": {
             "outlinewidth": 0,
             "ticks": ""
            },
            "colorscale": [
             [
              0,
              "#0d0887"
             ],
             [
              0.1111111111111111,
              "#46039f"
             ],
             [
              0.2222222222222222,
              "#7201a8"
             ],
             [
              0.3333333333333333,
              "#9c179e"
             ],
             [
              0.4444444444444444,
              "#bd3786"
             ],
             [
              0.5555555555555556,
              "#d8576b"
             ],
             [
              0.6666666666666666,
              "#ed7953"
             ],
             [
              0.7777777777777778,
              "#fb9f3a"
             ],
             [
              0.8888888888888888,
              "#fdca26"
             ],
             [
              1,
              "#f0f921"
             ]
            ],
            "type": "histogram2dcontour"
           }
          ],
          "mesh3d": [
           {
            "colorbar": {
             "outlinewidth": 0,
             "ticks": ""
            },
            "type": "mesh3d"
           }
          ],
          "parcoords": [
           {
            "line": {
             "colorbar": {
              "outlinewidth": 0,
              "ticks": ""
             }
            },
            "type": "parcoords"
           }
          ],
          "pie": [
           {
            "automargin": true,
            "type": "pie"
           }
          ],
          "scatter": [
           {
            "fillpattern": {
             "fillmode": "overlay",
             "size": 10,
             "solidity": 0.2
            },
            "type": "scatter"
           }
          ],
          "scatter3d": [
           {
            "line": {
             "colorbar": {
              "outlinewidth": 0,
              "ticks": ""
             }
            },
            "marker": {
             "colorbar": {
              "outlinewidth": 0,
              "ticks": ""
             }
            },
            "type": "scatter3d"
           }
          ],
          "scattercarpet": [
           {
            "marker": {
             "colorbar": {
              "outlinewidth": 0,
              "ticks": ""
             }
            },
            "type": "scattercarpet"
           }
          ],
          "scattergeo": [
           {
            "marker": {
             "colorbar": {
              "outlinewidth": 0,
              "ticks": ""
             }
            },
            "type": "scattergeo"
           }
          ],
          "scattergl": [
           {
            "marker": {
             "colorbar": {
              "outlinewidth": 0,
              "ticks": ""
             }
            },
            "type": "scattergl"
           }
          ],
          "scattermapbox": [
           {
            "marker": {
             "colorbar": {
              "outlinewidth": 0,
              "ticks": ""
             }
            },
            "type": "scattermapbox"
           }
          ],
          "scatterpolar": [
           {
            "marker": {
             "colorbar": {
              "outlinewidth": 0,
              "ticks": ""
             }
            },
            "type": "scatterpolar"
           }
          ],
          "scatterpolargl": [
           {
            "marker": {
             "colorbar": {
              "outlinewidth": 0,
              "ticks": ""
             }
            },
            "type": "scatterpolargl"
           }
          ],
          "scatterternary": [
           {
            "marker": {
             "colorbar": {
              "outlinewidth": 0,
              "ticks": ""
             }
            },
            "type": "scatterternary"
           }
          ],
          "surface": [
           {
            "colorbar": {
             "outlinewidth": 0,
             "ticks": ""
            },
            "colorscale": [
             [
              0,
              "#0d0887"
             ],
             [
              0.1111111111111111,
              "#46039f"
             ],
             [
              0.2222222222222222,
              "#7201a8"
             ],
             [
              0.3333333333333333,
              "#9c179e"
             ],
             [
              0.4444444444444444,
              "#bd3786"
             ],
             [
              0.5555555555555556,
              "#d8576b"
             ],
             [
              0.6666666666666666,
              "#ed7953"
             ],
             [
              0.7777777777777778,
              "#fb9f3a"
             ],
             [
              0.8888888888888888,
              "#fdca26"
             ],
             [
              1,
              "#f0f921"
             ]
            ],
            "type": "surface"
           }
          ],
          "table": [
           {
            "cells": {
             "fill": {
              "color": "#EBF0F8"
             },
             "line": {
              "color": "white"
             }
            },
            "header": {
             "fill": {
              "color": "#C8D4E3"
             },
             "line": {
              "color": "white"
             }
            },
            "type": "table"
           }
          ]
         },
         "layout": {
          "annotationdefaults": {
           "arrowcolor": "#2a3f5f",
           "arrowhead": 0,
           "arrowwidth": 1
          },
          "autotypenumbers": "strict",
          "coloraxis": {
           "colorbar": {
            "outlinewidth": 0,
            "ticks": ""
           }
          },
          "colorscale": {
           "diverging": [
            [
             0,
             "#8e0152"
            ],
            [
             0.1,
             "#c51b7d"
            ],
            [
             0.2,
             "#de77ae"
            ],
            [
             0.3,
             "#f1b6da"
            ],
            [
             0.4,
             "#fde0ef"
            ],
            [
             0.5,
             "#f7f7f7"
            ],
            [
             0.6,
             "#e6f5d0"
            ],
            [
             0.7,
             "#b8e186"
            ],
            [
             0.8,
             "#7fbc41"
            ],
            [
             0.9,
             "#4d9221"
            ],
            [
             1,
             "#276419"
            ]
           ],
           "sequential": [
            [
             0,
             "#0d0887"
            ],
            [
             0.1111111111111111,
             "#46039f"
            ],
            [
             0.2222222222222222,
             "#7201a8"
            ],
            [
             0.3333333333333333,
             "#9c179e"
            ],
            [
             0.4444444444444444,
             "#bd3786"
            ],
            [
             0.5555555555555556,
             "#d8576b"
            ],
            [
             0.6666666666666666,
             "#ed7953"
            ],
            [
             0.7777777777777778,
             "#fb9f3a"
            ],
            [
             0.8888888888888888,
             "#fdca26"
            ],
            [
             1,
             "#f0f921"
            ]
           ],
           "sequentialminus": [
            [
             0,
             "#0d0887"
            ],
            [
             0.1111111111111111,
             "#46039f"
            ],
            [
             0.2222222222222222,
             "#7201a8"
            ],
            [
             0.3333333333333333,
             "#9c179e"
            ],
            [
             0.4444444444444444,
             "#bd3786"
            ],
            [
             0.5555555555555556,
             "#d8576b"
            ],
            [
             0.6666666666666666,
             "#ed7953"
            ],
            [
             0.7777777777777778,
             "#fb9f3a"
            ],
            [
             0.8888888888888888,
             "#fdca26"
            ],
            [
             1,
             "#f0f921"
            ]
           ]
          },
          "colorway": [
           "#636efa",
           "#EF553B",
           "#00cc96",
           "#ab63fa",
           "#FFA15A",
           "#19d3f3",
           "#FF6692",
           "#B6E880",
           "#FF97FF",
           "#FECB52"
          ],
          "font": {
           "color": "#2a3f5f"
          },
          "geo": {
           "bgcolor": "white",
           "lakecolor": "white",
           "landcolor": "#E5ECF6",
           "showlakes": true,
           "showland": true,
           "subunitcolor": "white"
          },
          "hoverlabel": {
           "align": "left"
          },
          "hovermode": "closest",
          "mapbox": {
           "style": "light"
          },
          "paper_bgcolor": "white",
          "plot_bgcolor": "#E5ECF6",
          "polar": {
           "angularaxis": {
            "gridcolor": "white",
            "linecolor": "white",
            "ticks": ""
           },
           "bgcolor": "#E5ECF6",
           "radialaxis": {
            "gridcolor": "white",
            "linecolor": "white",
            "ticks": ""
           }
          },
          "scene": {
           "xaxis": {
            "backgroundcolor": "#E5ECF6",
            "gridcolor": "white",
            "gridwidth": 2,
            "linecolor": "white",
            "showbackground": true,
            "ticks": "",
            "zerolinecolor": "white"
           },
           "yaxis": {
            "backgroundcolor": "#E5ECF6",
            "gridcolor": "white",
            "gridwidth": 2,
            "linecolor": "white",
            "showbackground": true,
            "ticks": "",
            "zerolinecolor": "white"
           },
           "zaxis": {
            "backgroundcolor": "#E5ECF6",
            "gridcolor": "white",
            "gridwidth": 2,
            "linecolor": "white",
            "showbackground": true,
            "ticks": "",
            "zerolinecolor": "white"
           }
          },
          "shapedefaults": {
           "line": {
            "color": "#2a3f5f"
           }
          },
          "ternary": {
           "aaxis": {
            "gridcolor": "white",
            "linecolor": "white",
            "ticks": ""
           },
           "baxis": {
            "gridcolor": "white",
            "linecolor": "white",
            "ticks": ""
           },
           "bgcolor": "#E5ECF6",
           "caxis": {
            "gridcolor": "white",
            "linecolor": "white",
            "ticks": ""
           }
          },
          "title": {
           "x": 0.05
          },
          "xaxis": {
           "automargin": true,
           "gridcolor": "white",
           "linecolor": "white",
           "ticks": "",
           "title": {
            "standoff": 15
           },
           "zerolinecolor": "white",
           "zerolinewidth": 2
          },
          "yaxis": {
           "automargin": true,
           "gridcolor": "white",
           "linecolor": "white",
           "ticks": "",
           "title": {
            "standoff": 15
           },
           "zerolinecolor": "white",
           "zerolinewidth": 2
          }
         }
        },
        "width": 1200,
        "xaxis": {
         "anchor": "y",
         "domain": [
          0,
          0.15
         ],
         "showticklabels": false,
         "visible": false
        },
        "xaxis2": {
         "anchor": "y2",
         "domain": [
          0.15,
          1
         ],
         "showticklabels": false,
         "visible": false
        },
        "xaxis3": {
         "anchor": "y3",
         "domain": [
          0.15425,
          1
         ]
        },
        "yaxis": {
         "anchor": "x",
         "domain": [
          0.15,
          1
         ],
         "showticklabels": false,
         "visible": false
        },
        "yaxis2": {
         "anchor": "x2",
         "domain": [
          0,
          0.85
         ],
         "showticklabels": true,
         "visible": false
        },
        "yaxis3": {
         "anchor": "x3",
         "domain": [
          0,
          0.14925
         ]
        }
       }
      }
     },
     "metadata": {},
     "output_type": "display_data"
    }
   ],
   "source": [
    "import numpy as np\n",
    "import pandas as pd\n",
    "import plotly.graph_objects as go\n",
    "from scipy.cluster.hierarchy import linkage, dendrogram\n",
    "from plotly.figure_factory import create_dendrogram\n",
    "from plotly.subplots import make_subplots\n",
    "\n",
    "def create_heatmap_with_clustering_and_dendrogram(df, color='RdBu_r'):\n",
    "\n",
    "    # 第一列改名为gene_id，并设置为索引\n",
    "    df = df.rename(columns={df.columns[0]: 'gene_id'})\n",
    "    df = df.set_index('gene_id')\n",
    "\n",
    "    # 数据归一化\n",
    "    df_normalized = df.apply(lambda x: np.interp(x, (x.min(), x.max()), (-2, 2)))\n",
    "\n",
    "    # 对基因（行）进行层次聚类\n",
    "    gene_linkage = linkage(df_normalized, method='average')\n",
    "    gene_dendro = create_dendrogram(df_normalized, orientation='left', linkagefun=lambda x: gene_linkage)\n",
    "    gene_order = leaves_list(gene_linkage)  # 获取基因的顺序\n",
    "\n",
    "    # 对样本（列）进行层次聚类\n",
    "    sample_linkage = linkage(df_normalized.T, method='average')\n",
    "    sample_dendro = create_dendrogram(df_normalized.T, orientation='bottom', linkagefun=lambda x: sample_linkage)\n",
    "    sample_order = leaves_list(sample_linkage)  # 获取样本的顺序\n",
    "\n",
    "    # 重排数据矩阵\n",
    "    df_clustered = df_normalized.iloc[gene_order, sample_order]\n",
    "\n",
    "    # 创建含有多个子图的图形对象\n",
    "    fig = make_subplots(\n",
    "            rows=2, cols=2,\n",
    "            column_widths=[0.15, 0.85],  # 调整树状图和热图的宽度比例\n",
    "            row_heights=[0.85, 0.15],    # 调整树状图和热图的高度比例\n",
    "            specs=[\n",
    "                [{'type': 'scatter', 'rowspan': 2}, {'type': 'scatter'}],\n",
    "                [None, {'type': 'heatmap'}]\n",
    "            ],\n",
    "            horizontal_spacing=0.005,  # 可以减小这个值来增大热图的空间\n",
    "            vertical_spacing=0.005     # 可以减小这个值来增大热图的空间\n",
    "        )\n",
    "\n",
    "\n",
    "    for data in gene_dendro['data']:\n",
    "        fig.add_trace(data, row=1, col=1)\n",
    "        fig['data'][-1].update(showlegend=False)  # 这里移除图例\n",
    "\n",
    "    for data in sample_dendro['data']:\n",
    "        fig.add_trace(data, row=1, col=2)\n",
    "        fig['data'][-1].update(showlegend=False)  # 这里移除图例\n",
    "\n",
    "\n",
    "    # 添加热图到子图\n",
    "    heatmap = go.Heatmap(\n",
    "        z=df_clustered.values,  # 注意使用.values获取numpy数组\n",
    "        x=df_clustered.columns.tolist(),  # 转换为列表确保兼容性\n",
    "        y=df_clustered.index.tolist(),\n",
    "        colorscale=color,\n",
    "        hoverongaps=False,  # 可以选择关闭空白处的悬停效果\n",
    "        hovertemplate='Sample: %{x}<br>Gene: %{y}<br>Exp: %{z:.3f}<extra></extra>'\n",
    "    )\n",
    "    fig.add_trace(heatmap, row=2, col=2)\n",
    "\n",
    "    fig.update_layout(\n",
    "        width=1200,  # 可以根据需要调整宽度\n",
    "        height=900,  # 可以根据需要调整高度\n",
    "        paper_bgcolor='white',  # 设置图表的背景颜色为白色\n",
    "        plot_bgcolor='white',   # 设置图表内部的背景颜色为白色\n",
    "        xaxis={'visible': False, 'showticklabels': False},\n",
    "        xaxis2={'visible': False, 'showticklabels': False},\n",
    "        yaxis={'visible': False, 'showticklabels': False},\n",
    "        yaxis2={'visible': False, 'showticklabels': False}\n",
    "    )\n",
    "\n",
    "    fig.update_layout(\n",
    "    xaxis={'domain': [0, 0.15]},  # 限制基因树状图的宽度\n",
    "    yaxis={'domain': [0.15, 1]},  # 限制样本树状图的高度\n",
    "    xaxis2={'domain': [0.15, 1], 'showticklabels': False},  # 限制热图的宽度，隐藏轴标签\n",
    "    yaxis2={'domain': [0, 0.85], 'showticklabels': True},  # 限制热图的高度，隐藏轴标签\n",
    "    )\n",
    "    # 调整树状图线条的宽度\n",
    "    for i in range(len(fig.data)):\n",
    "        if 'marker' in fig.data[i]:\n",
    "            fig.data[i].marker.line.width = 1  # 设置一个较小的线条宽度值\n",
    "\n",
    "    return fig\n",
    "\n",
    "# 使用 create_heatmap_with_clustering_and_dendrogram(df) 来创建并显示聚类后的热图和树状图\n",
    "create_heatmap_with_clustering_and_dendrogram(df1)"
   ]
  }
 ],
 "metadata": {
  "kernelspec": {
   "display_name": "code",
   "language": "python",
   "name": "python3"
  },
  "language_info": {
   "codemirror_mode": {
    "name": "ipython",
    "version": 3
   },
   "file_extension": ".py",
   "mimetype": "text/x-python",
   "name": "python",
   "nbconvert_exporter": "python",
   "pygments_lexer": "ipython3",
   "version": "3.10.0"
  }
 },
 "nbformat": 4,
 "nbformat_minor": 2
}
