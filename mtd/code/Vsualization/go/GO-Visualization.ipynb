{
 "cells": [
  {
   "cell_type": "code",
   "execution_count": null,
   "metadata": {},
   "outputs": [],
   "source": [
    "%pip install plotly"
   ]
  },
  {
   "cell_type": "code",
   "execution_count": 1,
   "metadata": {},
   "outputs": [],
   "source": [
    "import pandas as pd\n",
    "import plotly.express as px\n",
    "import plotly.graph_objects as go"
   ]
  },
  {
   "cell_type": "markdown",
   "metadata": {},
   "source": [
    "BubbleChart 富集"
   ]
  },
  {
   "cell_type": "code",
   "execution_count": 2,
   "metadata": {},
   "outputs": [],
   "source": [
    "def read_matrix(file_path):\n",
    "    df = pd.read_csv(file_path)\n",
    "    return df"
   ]
  },
  {
   "cell_type": "code",
   "execution_count": 3,
   "metadata": {},
   "outputs": [],
   "source": [
    "def BubbleChart(df, num):\n",
    "    \"\"\" \n",
    "    Args:\n",
    "        df: GO enrichment analysis result\n",
    "        num: number of rows to show\n",
    "    Returns:\n",
    "        fig: plotly figure\n",
    "    \"\"\"\n",
    "    # 拷贝并重命名列名\n",
    "    df = df.copy()\n",
    "    df.columns = [\"Class\", \"GO_ID\", \"GO_Function\", \"Counts\", \"Enrichment Score\", \"P.adjust\"]\n",
    "\n",
    "    # 选取p值小于0.05的数据\n",
    "    df = df[df[\"P.adjust\"] < 0.05]\n",
    "    \n",
    "    # df只保留前num行数据\n",
    "    df = df.iloc[:num]\n",
    "\n",
    "    # 创建图表\n",
    "    fig = px.scatter(\n",
    "        df,\n",
    "        x=\"Enrichment Score\",\n",
    "        y=\"GO_Function\",\n",
    "        size=\"Counts\",\n",
    "        color=\"P.adjust\",\n",
    "        color_continuous_scale=\"Tealrose_r\",  # _r表示颜色反转\n",
    "        opacity=0.85,\n",
    "        hover_name=\"Class\",\n",
    "        hover_data=[\"GO_ID\", \"GO_Function\", \"Counts\", \"Enrichment Score\", \"P.adjust\"],\n",
    "        size_max=45,\n",
    "    )\n",
    "\n",
    "    # 设置图表属性\n",
    "    fig.update_layout(\n",
    "        title=\"GO Enrichment Analysis\",\n",
    "        xaxis_title = \"Enrichment Score\",\n",
    "        yaxis_title = \"GO_Function\",\n",
    "        font=dict(family=\"Arial\", size=14),\n",
    "        template=\"plotly_white\",\n",
    "        width=1000,  # 图表宽度\n",
    "        height=600,  # 图表高度\n",
    "    )\n",
    "\n",
    "    # 设置颜色轴的属性\n",
    "    colorbar_title = \"P.adjust\"\n",
    "    colorbar_tickformat = \".3f\"\n",
    "    colorbar_dtick = 0.005\n",
    "    fig.update_coloraxes(\n",
    "        colorbar_title=colorbar_title,\n",
    "        colorbar_tickformat=colorbar_tickformat,\n",
    "        colorbar=dict(dtick=colorbar_dtick),\n",
    "    )\n",
    "    \n",
    "    # 显示图表并返回\n",
    "    fig.show()\n",
    "    return fig"
   ]
  },
  {
   "cell_type": "code",
   "execution_count": 4,
   "metadata": {},
   "outputs": [
    {
     "data": {
      "text/html": [
       "<div>\n",
       "<style scoped>\n",
       "    .dataframe tbody tr th:only-of-type {\n",
       "        vertical-align: middle;\n",
       "    }\n",
       "\n",
       "    .dataframe tbody tr th {\n",
       "        vertical-align: top;\n",
       "    }\n",
       "\n",
       "    .dataframe thead th {\n",
       "        text-align: right;\n",
       "    }\n",
       "</style>\n",
       "<table border=\"1\" class=\"dataframe\">\n",
       "  <thead>\n",
       "    <tr style=\"text-align: right;\">\n",
       "      <th></th>\n",
       "      <th>Class</th>\n",
       "      <th>GO_Name</th>\n",
       "      <th>GO_ID</th>\n",
       "      <th>GO_Level</th>\n",
       "      <th>P_value</th>\n",
       "      <th>EnrichmentScore</th>\n",
       "      <th>HitsGenesCountsInSelectedSet</th>\n",
       "      <th>HitsGenesCountsInBackground</th>\n",
       "      <th>AllGenesCountsInSelectedSet</th>\n",
       "      <th>AllGenesCountsInBackground</th>\n",
       "      <th>GenesOfSelectedSetInGOterm</th>\n",
       "      <th>corrected p-value(BH method)</th>\n",
       "    </tr>\n",
       "  </thead>\n",
       "  <tbody>\n",
       "    <tr>\n",
       "      <th>63</th>\n",
       "      <td>Cellular component</td>\n",
       "      <td>obsolete cell</td>\n",
       "      <td>GO:0005623</td>\n",
       "      <td>0</td>\n",
       "      <td>1.689669e-03</td>\n",
       "      <td>1.023364</td>\n",
       "      <td>261</td>\n",
       "      <td>2354</td>\n",
       "      <td>261</td>\n",
       "      <td>2409</td>\n",
       "      <td>minE,arcA,msrB,nusA,sspA,yqjD,hmp,rpmG,fabI,wr...</td>\n",
       "      <td>9.446784e-03</td>\n",
       "    </tr>\n",
       "    <tr>\n",
       "      <th>62</th>\n",
       "      <td>Cellular component</td>\n",
       "      <td>obsolete cell part</td>\n",
       "      <td>GO:0044464</td>\n",
       "      <td>0</td>\n",
       "      <td>1.689669e-03</td>\n",
       "      <td>1.023364</td>\n",
       "      <td>261</td>\n",
       "      <td>2354</td>\n",
       "      <td>261</td>\n",
       "      <td>2409</td>\n",
       "      <td>minE,arcA,msrB,nusA,sspA,yqjD,hmp,rpmG,fabI,wr...</td>\n",
       "      <td>9.446784e-03</td>\n",
       "    </tr>\n",
       "    <tr>\n",
       "      <th>275</th>\n",
       "      <td>Biological process</td>\n",
       "      <td>cellular process</td>\n",
       "      <td>GO:0009987</td>\n",
       "      <td>2</td>\n",
       "      <td>1.943340e-02</td>\n",
       "      <td>1.039395</td>\n",
       "      <td>252</td>\n",
       "      <td>2524</td>\n",
       "      <td>268</td>\n",
       "      <td>2790</td>\n",
       "      <td>minE,arcA,msrB,nusA,sspA,hmp,rpmG,fabI,wrbA,ac...</td>\n",
       "      <td>9.645603e-02</td>\n",
       "    </tr>\n",
       "    <tr>\n",
       "      <th>77</th>\n",
       "      <td>Biological process</td>\n",
       "      <td>metabolic process</td>\n",
       "      <td>GO:0008152</td>\n",
       "      <td>2</td>\n",
       "      <td>3.940000e-12</td>\n",
       "      <td>1.237716</td>\n",
       "      <td>236</td>\n",
       "      <td>1985</td>\n",
       "      <td>268</td>\n",
       "      <td>2790</td>\n",
       "      <td>arcA,msrB,nusA,sspA,hmp,rpmG,fabI,wrbA,aceF,gm...</td>\n",
       "      <td>3.440000e-10</td>\n",
       "    </tr>\n",
       "    <tr>\n",
       "      <th>45</th>\n",
       "      <td>Cellular component</td>\n",
       "      <td>intracellular anatomical structure</td>\n",
       "      <td>GO:0005622</td>\n",
       "      <td>3</td>\n",
       "      <td>0.000000e+00</td>\n",
       "      <td>1.652447</td>\n",
       "      <td>222</td>\n",
       "      <td>1240</td>\n",
       "      <td>261</td>\n",
       "      <td>2409</td>\n",
       "      <td>minE,arcA,msrB,nusA,sspA,hmp,rpmG,fabI,wrbA,ac...</td>\n",
       "      <td>0.000000e+00</td>\n",
       "    </tr>\n",
       "  </tbody>\n",
       "</table>\n",
       "</div>"
      ],
      "text/plain": [
       "                  Class                             GO_Name       GO_ID  \\\n",
       "63   Cellular component                       obsolete cell  GO:0005623   \n",
       "62   Cellular component                  obsolete cell part  GO:0044464   \n",
       "275  Biological process                    cellular process  GO:0009987   \n",
       "77   Biological process                   metabolic process  GO:0008152   \n",
       "45   Cellular component  intracellular anatomical structure  GO:0005622   \n",
       "\n",
       "     GO_Level       P_value  EnrichmentScore  HitsGenesCountsInSelectedSet  \\\n",
       "63          0  1.689669e-03         1.023364                           261   \n",
       "62          0  1.689669e-03         1.023364                           261   \n",
       "275         2  1.943340e-02         1.039395                           252   \n",
       "77          2  3.940000e-12         1.237716                           236   \n",
       "45          3  0.000000e+00         1.652447                           222   \n",
       "\n",
       "     HitsGenesCountsInBackground  AllGenesCountsInSelectedSet  \\\n",
       "63                          2354                          261   \n",
       "62                          2354                          261   \n",
       "275                         2524                          268   \n",
       "77                          1985                          268   \n",
       "45                          1240                          261   \n",
       "\n",
       "     AllGenesCountsInBackground  \\\n",
       "63                         2409   \n",
       "62                         2409   \n",
       "275                        2790   \n",
       "77                         2790   \n",
       "45                         2409   \n",
       "\n",
       "                            GenesOfSelectedSetInGOterm  \\\n",
       "63   minE,arcA,msrB,nusA,sspA,yqjD,hmp,rpmG,fabI,wr...   \n",
       "62   minE,arcA,msrB,nusA,sspA,yqjD,hmp,rpmG,fabI,wr...   \n",
       "275  minE,arcA,msrB,nusA,sspA,hmp,rpmG,fabI,wrbA,ac...   \n",
       "77   arcA,msrB,nusA,sspA,hmp,rpmG,fabI,wrbA,aceF,gm...   \n",
       "45   minE,arcA,msrB,nusA,sspA,hmp,rpmG,fabI,wrbA,ac...   \n",
       "\n",
       "     corrected p-value(BH method)  \n",
       "63                   9.446784e-03  \n",
       "62                   9.446784e-03  \n",
       "275                  9.645603e-02  \n",
       "77                   3.440000e-10  \n",
       "45                   0.000000e+00  "
      ]
     },
     "execution_count": 4,
     "metadata": {},
     "output_type": "execute_result"
    }
   ],
   "source": [
    "df_GoEnrich = read_matrix(\"GO_Enrichment_final.csv\")\n",
    "# 按照HitsGenesCountsInSelectedSet降序排列\n",
    "df_GoEnrich = df_GoEnrich.sort_values(by='HitsGenesCountsInSelectedSet', ascending=False)\n",
    "df_GoEnrich.head()"
   ]
  },
  {
   "cell_type": "code",
   "execution_count": 5,
   "metadata": {},
   "outputs": [],
   "source": [
    "# 指定列\n",
    "df_BubbleChart = df_GoEnrich[['Class', 'GO_ID', 'GO_Name', 'HitsGenesCountsInSelectedSet', 'EnrichmentScore', 'corrected p-value(BH method)']]"
   ]
  },
  {
   "cell_type": "code",
   "execution_count": 6,
   "metadata": {},
   "outputs": [
    {
     "data": {
      "application/vnd.plotly.v1+json": {
       "config": {
        "plotlyServerURL": "https://plot.ly"
       },
       "data": [
        {
         "customdata": [
          [
           "GO:0005623",
           261,
           0.009446784
          ],
          [
           "GO:0044464",
           261,
           0.009446784
          ],
          [
           "GO:0008152",
           236,
           3.44e-10
          ],
          [
           "GO:0005622",
           222,
           0
          ],
          [
           "GO:0044424",
           222,
           0
          ],
          [
           "GO:0005737",
           218,
           0
          ],
          [
           "GO:0044237",
           218,
           7.59e-9
          ],
          [
           "GO:0071704",
           211,
           2.38e-7
          ],
          [
           "GO:0044444",
           205,
           0
          ],
          [
           "GO:0005829",
           203,
           0
          ],
          [
           "GO:0044238",
           197,
           1.61e-9
          ],
          [
           "GO:0006807",
           189,
           4.21e-10
          ],
          [
           "GO:0005488",
           183,
           2.77e-8
          ],
          [
           "GO:0009058",
           165,
           5.04e-11
          ],
          [
           "GO:1901576",
           165,
           5.02e-11
          ],
          [
           "GO:0044249",
           163,
           8.29e-11
          ],
          [
           "GO:0034641",
           150,
           4.25e-10
          ],
          [
           "GO:1901564",
           140,
           2.88e-13
          ],
          [
           "GO:0043170",
           131,
           0.001658725
          ],
          [
           "GO:0044271",
           120,
           9.68e-14
          ],
          [
           "GO:1901360",
           113,
           0.007273409
          ],
          [
           "GO:0009059",
           113,
           1.77e-7
          ],
          [
           "GO:0006725",
           111,
           0.003776266
          ],
          [
           "GO:0046483",
           110,
           0.006068543
          ],
          [
           "GO:0010467",
           106,
           4.66e-11
          ],
          [
           "GO:0044281",
           103,
           8.96e-7
          ],
          [
           "GO:0006139",
           101,
           0.002366964
          ],
          [
           "GO:1901566",
           100,
           0
          ],
          [
           "GO:0044260",
           92,
           0.00120488
          ],
          [
           "GO:1901363",
           91,
           0.005472865
          ]
         ],
         "hovertemplate": "<b>%{hovertext}</b><br><br>Enrichment Score=%{x}<br>GO_Function=%{y}<br>Counts=%{customdata[1]}<br>GO_ID=%{customdata[0]}<br>P.adjust=%{marker.color}<extra></extra>",
         "hovertext": [
          "Cellular component",
          "Cellular component",
          "Biological process",
          "Cellular component",
          "Cellular component",
          "Cellular component",
          "Biological process",
          "Biological process",
          "Cellular component",
          "Cellular component",
          "Biological process",
          "Biological process",
          "Molecular function",
          "Biological process",
          "Biological process",
          "Biological process",
          "Biological process",
          "Biological process",
          "Biological process",
          "Biological process",
          "Biological process",
          "Biological process",
          "Biological process",
          "Biological process",
          "Biological process",
          "Biological process",
          "Biological process",
          "Biological process",
          "Biological process",
          "Molecular function"
         ],
         "legendgroup": "",
         "marker": {
          "color": [
           0.009446784,
           0.009446784,
           3.44e-10,
           0,
           0,
           0,
           7.59e-9,
           2.38e-7,
           0,
           0,
           1.61e-9,
           4.21e-10,
           2.77e-8,
           5.04e-11,
           5.02e-11,
           8.29e-11,
           4.25e-10,
           2.88e-13,
           0.001658725,
           9.68e-14,
           0.007273409,
           1.77e-7,
           0.003776266,
           0.006068543,
           4.66e-11,
           8.96e-7,
           0.002366964,
           0,
           0.00120488,
           0.005472865
          ],
          "coloraxis": "coloraxis",
          "opacity": 0.85,
          "size": [
           261,
           261,
           236,
           222,
           222,
           218,
           218,
           211,
           205,
           203,
           197,
           189,
           183,
           165,
           165,
           163,
           150,
           140,
           131,
           120,
           113,
           113,
           111,
           110,
           106,
           103,
           101,
           100,
           92,
           91
          ],
          "sizemode": "area",
          "sizeref": 0.1288888888888889,
          "symbol": "circle"
         },
         "mode": "markers",
         "name": "",
         "orientation": "h",
         "showlegend": false,
         "type": "scatter",
         "x": [
          1.023364486,
          1.023364486,
          1.237715704,
          1.652447164,
          1.655116707,
          1.695126321,
          1.265037688,
          1.241721016,
          1.87710956,
          1.884976526,
          1.34394378,
          1.386592408,
          1.348979883,
          1.508098227,
          1.510750994,
          1.508358209,
          1.536975555,
          1.726851524,
          1.270986633,
          1.913099129,
          1.264925373,
          1.572701333,
          1.292572373,
          1.278068364,
          1.864032876,
          1.579198998,
          1.336029509,
          2.323760661,
          1.392094759,
          1.377525484
         ],
         "xaxis": "x",
         "y": [
          "obsolete cell",
          "obsolete cell part",
          "metabolic process",
          "intracellular anatomical structure",
          "obsolete intracellular part",
          "cytoplasm",
          "cellular metabolic process",
          "organic substance metabolic process",
          "obsolete cytoplasmic part",
          "cytosol",
          "primary metabolic process",
          "nitrogen compound metabolic process",
          "binding",
          "biosynthetic process",
          "organic substance biosynthetic process",
          "cellular biosynthetic process",
          "cellular nitrogen compound metabolic process",
          "organonitrogen compound metabolic process",
          "macromolecule metabolic process",
          "cellular nitrogen compound biosynthetic process",
          "organic cyclic compound metabolic process",
          "macromolecule biosynthetic process",
          "cellular aromatic compound metabolic process",
          "heterocycle metabolic process",
          "gene expression",
          "small molecule metabolic process",
          "nucleobase-containing compound metabolic process",
          "organonitrogen compound biosynthetic process",
          "obsolete cellular macromolecule metabolic process",
          "heterocyclic compound binding"
         ],
         "yaxis": "y"
        }
       ],
       "layout": {
        "coloraxis": {
         "colorbar": {
          "dtick": 0.005,
          "tickformat": ".3f",
          "title": {
           "text": "P.adjust"
          }
         },
         "colorscale": [
          [
           0,
           "rgb(208, 88, 126)"
          ],
          [
           0.16666666666666666,
           "rgb(217, 137, 148)"
          ],
          [
           0.3333333333333333,
           "rgb(229, 185, 173)"
          ],
          [
           0.5,
           "rgb(241, 234, 200)"
          ],
          [
           0.6666666666666666,
           "rgb(177, 199, 179)"
          ],
          [
           0.8333333333333334,
           "rgb(114, 170, 161)"
          ],
          [
           1,
           "rgb(0, 147, 146)"
          ]
         ]
        },
        "font": {
         "family": "Arial",
         "size": 14
        },
        "height": 600,
        "legend": {
         "itemsizing": "constant",
         "tracegroupgap": 0
        },
        "margin": {
         "t": 60
        },
        "template": {
         "data": {
          "bar": [
           {
            "error_x": {
             "color": "#2a3f5f"
            },
            "error_y": {
             "color": "#2a3f5f"
            },
            "marker": {
             "line": {
              "color": "white",
              "width": 0.5
             },
             "pattern": {
              "fillmode": "overlay",
              "size": 10,
              "solidity": 0.2
             }
            },
            "type": "bar"
           }
          ],
          "barpolar": [
           {
            "marker": {
             "line": {
              "color": "white",
              "width": 0.5
             },
             "pattern": {
              "fillmode": "overlay",
              "size": 10,
              "solidity": 0.2
             }
            },
            "type": "barpolar"
           }
          ],
          "carpet": [
           {
            "aaxis": {
             "endlinecolor": "#2a3f5f",
             "gridcolor": "#C8D4E3",
             "linecolor": "#C8D4E3",
             "minorgridcolor": "#C8D4E3",
             "startlinecolor": "#2a3f5f"
            },
            "baxis": {
             "endlinecolor": "#2a3f5f",
             "gridcolor": "#C8D4E3",
             "linecolor": "#C8D4E3",
             "minorgridcolor": "#C8D4E3",
             "startlinecolor": "#2a3f5f"
            },
            "type": "carpet"
           }
          ],
          "choropleth": [
           {
            "colorbar": {
             "outlinewidth": 0,
             "ticks": ""
            },
            "type": "choropleth"
           }
          ],
          "contour": [
           {
            "colorbar": {
             "outlinewidth": 0,
             "ticks": ""
            },
            "colorscale": [
             [
              0,
              "#0d0887"
             ],
             [
              0.1111111111111111,
              "#46039f"
             ],
             [
              0.2222222222222222,
              "#7201a8"
             ],
             [
              0.3333333333333333,
              "#9c179e"
             ],
             [
              0.4444444444444444,
              "#bd3786"
             ],
             [
              0.5555555555555556,
              "#d8576b"
             ],
             [
              0.6666666666666666,
              "#ed7953"
             ],
             [
              0.7777777777777778,
              "#fb9f3a"
             ],
             [
              0.8888888888888888,
              "#fdca26"
             ],
             [
              1,
              "#f0f921"
             ]
            ],
            "type": "contour"
           }
          ],
          "contourcarpet": [
           {
            "colorbar": {
             "outlinewidth": 0,
             "ticks": ""
            },
            "type": "contourcarpet"
           }
          ],
          "heatmap": [
           {
            "colorbar": {
             "outlinewidth": 0,
             "ticks": ""
            },
            "colorscale": [
             [
              0,
              "#0d0887"
             ],
             [
              0.1111111111111111,
              "#46039f"
             ],
             [
              0.2222222222222222,
              "#7201a8"
             ],
             [
              0.3333333333333333,
              "#9c179e"
             ],
             [
              0.4444444444444444,
              "#bd3786"
             ],
             [
              0.5555555555555556,
              "#d8576b"
             ],
             [
              0.6666666666666666,
              "#ed7953"
             ],
             [
              0.7777777777777778,
              "#fb9f3a"
             ],
             [
              0.8888888888888888,
              "#fdca26"
             ],
             [
              1,
              "#f0f921"
             ]
            ],
            "type": "heatmap"
           }
          ],
          "heatmapgl": [
           {
            "colorbar": {
             "outlinewidth": 0,
             "ticks": ""
            },
            "colorscale": [
             [
              0,
              "#0d0887"
             ],
             [
              0.1111111111111111,
              "#46039f"
             ],
             [
              0.2222222222222222,
              "#7201a8"
             ],
             [
              0.3333333333333333,
              "#9c179e"
             ],
             [
              0.4444444444444444,
              "#bd3786"
             ],
             [
              0.5555555555555556,
              "#d8576b"
             ],
             [
              0.6666666666666666,
              "#ed7953"
             ],
             [
              0.7777777777777778,
              "#fb9f3a"
             ],
             [
              0.8888888888888888,
              "#fdca26"
             ],
             [
              1,
              "#f0f921"
             ]
            ],
            "type": "heatmapgl"
           }
          ],
          "histogram": [
           {
            "marker": {
             "pattern": {
              "fillmode": "overlay",
              "size": 10,
              "solidity": 0.2
             }
            },
            "type": "histogram"
           }
          ],
          "histogram2d": [
           {
            "colorbar": {
             "outlinewidth": 0,
             "ticks": ""
            },
            "colorscale": [
             [
              0,
              "#0d0887"
             ],
             [
              0.1111111111111111,
              "#46039f"
             ],
             [
              0.2222222222222222,
              "#7201a8"
             ],
             [
              0.3333333333333333,
              "#9c179e"
             ],
             [
              0.4444444444444444,
              "#bd3786"
             ],
             [
              0.5555555555555556,
              "#d8576b"
             ],
             [
              0.6666666666666666,
              "#ed7953"
             ],
             [
              0.7777777777777778,
              "#fb9f3a"
             ],
             [
              0.8888888888888888,
              "#fdca26"
             ],
             [
              1,
              "#f0f921"
             ]
            ],
            "type": "histogram2d"
           }
          ],
          "histogram2dcontour": [
           {
            "colorbar": {
             "outlinewidth": 0,
             "ticks": ""
            },
            "colorscale": [
             [
              0,
              "#0d0887"
             ],
             [
              0.1111111111111111,
              "#46039f"
             ],
             [
              0.2222222222222222,
              "#7201a8"
             ],
             [
              0.3333333333333333,
              "#9c179e"
             ],
             [
              0.4444444444444444,
              "#bd3786"
             ],
             [
              0.5555555555555556,
              "#d8576b"
             ],
             [
              0.6666666666666666,
              "#ed7953"
             ],
             [
              0.7777777777777778,
              "#fb9f3a"
             ],
             [
              0.8888888888888888,
              "#fdca26"
             ],
             [
              1,
              "#f0f921"
             ]
            ],
            "type": "histogram2dcontour"
           }
          ],
          "mesh3d": [
           {
            "colorbar": {
             "outlinewidth": 0,
             "ticks": ""
            },
            "type": "mesh3d"
           }
          ],
          "parcoords": [
           {
            "line": {
             "colorbar": {
              "outlinewidth": 0,
              "ticks": ""
             }
            },
            "type": "parcoords"
           }
          ],
          "pie": [
           {
            "automargin": true,
            "type": "pie"
           }
          ],
          "scatter": [
           {
            "fillpattern": {
             "fillmode": "overlay",
             "size": 10,
             "solidity": 0.2
            },
            "type": "scatter"
           }
          ],
          "scatter3d": [
           {
            "line": {
             "colorbar": {
              "outlinewidth": 0,
              "ticks": ""
             }
            },
            "marker": {
             "colorbar": {
              "outlinewidth": 0,
              "ticks": ""
             }
            },
            "type": "scatter3d"
           }
          ],
          "scattercarpet": [
           {
            "marker": {
             "colorbar": {
              "outlinewidth": 0,
              "ticks": ""
             }
            },
            "type": "scattercarpet"
           }
          ],
          "scattergeo": [
           {
            "marker": {
             "colorbar": {
              "outlinewidth": 0,
              "ticks": ""
             }
            },
            "type": "scattergeo"
           }
          ],
          "scattergl": [
           {
            "marker": {
             "colorbar": {
              "outlinewidth": 0,
              "ticks": ""
             }
            },
            "type": "scattergl"
           }
          ],
          "scattermapbox": [
           {
            "marker": {
             "colorbar": {
              "outlinewidth": 0,
              "ticks": ""
             }
            },
            "type": "scattermapbox"
           }
          ],
          "scatterpolar": [
           {
            "marker": {
             "colorbar": {
              "outlinewidth": 0,
              "ticks": ""
             }
            },
            "type": "scatterpolar"
           }
          ],
          "scatterpolargl": [
           {
            "marker": {
             "colorbar": {
              "outlinewidth": 0,
              "ticks": ""
             }
            },
            "type": "scatterpolargl"
           }
          ],
          "scatterternary": [
           {
            "marker": {
             "colorbar": {
              "outlinewidth": 0,
              "ticks": ""
             }
            },
            "type": "scatterternary"
           }
          ],
          "surface": [
           {
            "colorbar": {
             "outlinewidth": 0,
             "ticks": ""
            },
            "colorscale": [
             [
              0,
              "#0d0887"
             ],
             [
              0.1111111111111111,
              "#46039f"
             ],
             [
              0.2222222222222222,
              "#7201a8"
             ],
             [
              0.3333333333333333,
              "#9c179e"
             ],
             [
              0.4444444444444444,
              "#bd3786"
             ],
             [
              0.5555555555555556,
              "#d8576b"
             ],
             [
              0.6666666666666666,
              "#ed7953"
             ],
             [
              0.7777777777777778,
              "#fb9f3a"
             ],
             [
              0.8888888888888888,
              "#fdca26"
             ],
             [
              1,
              "#f0f921"
             ]
            ],
            "type": "surface"
           }
          ],
          "table": [
           {
            "cells": {
             "fill": {
              "color": "#EBF0F8"
             },
             "line": {
              "color": "white"
             }
            },
            "header": {
             "fill": {
              "color": "#C8D4E3"
             },
             "line": {
              "color": "white"
             }
            },
            "type": "table"
           }
          ]
         },
         "layout": {
          "annotationdefaults": {
           "arrowcolor": "#2a3f5f",
           "arrowhead": 0,
           "arrowwidth": 1
          },
          "autotypenumbers": "strict",
          "coloraxis": {
           "colorbar": {
            "outlinewidth": 0,
            "ticks": ""
           }
          },
          "colorscale": {
           "diverging": [
            [
             0,
             "#8e0152"
            ],
            [
             0.1,
             "#c51b7d"
            ],
            [
             0.2,
             "#de77ae"
            ],
            [
             0.3,
             "#f1b6da"
            ],
            [
             0.4,
             "#fde0ef"
            ],
            [
             0.5,
             "#f7f7f7"
            ],
            [
             0.6,
             "#e6f5d0"
            ],
            [
             0.7,
             "#b8e186"
            ],
            [
             0.8,
             "#7fbc41"
            ],
            [
             0.9,
             "#4d9221"
            ],
            [
             1,
             "#276419"
            ]
           ],
           "sequential": [
            [
             0,
             "#0d0887"
            ],
            [
             0.1111111111111111,
             "#46039f"
            ],
            [
             0.2222222222222222,
             "#7201a8"
            ],
            [
             0.3333333333333333,
             "#9c179e"
            ],
            [
             0.4444444444444444,
             "#bd3786"
            ],
            [
             0.5555555555555556,
             "#d8576b"
            ],
            [
             0.6666666666666666,
             "#ed7953"
            ],
            [
             0.7777777777777778,
             "#fb9f3a"
            ],
            [
             0.8888888888888888,
             "#fdca26"
            ],
            [
             1,
             "#f0f921"
            ]
           ],
           "sequentialminus": [
            [
             0,
             "#0d0887"
            ],
            [
             0.1111111111111111,
             "#46039f"
            ],
            [
             0.2222222222222222,
             "#7201a8"
            ],
            [
             0.3333333333333333,
             "#9c179e"
            ],
            [
             0.4444444444444444,
             "#bd3786"
            ],
            [
             0.5555555555555556,
             "#d8576b"
            ],
            [
             0.6666666666666666,
             "#ed7953"
            ],
            [
             0.7777777777777778,
             "#fb9f3a"
            ],
            [
             0.8888888888888888,
             "#fdca26"
            ],
            [
             1,
             "#f0f921"
            ]
           ]
          },
          "colorway": [
           "#636efa",
           "#EF553B",
           "#00cc96",
           "#ab63fa",
           "#FFA15A",
           "#19d3f3",
           "#FF6692",
           "#B6E880",
           "#FF97FF",
           "#FECB52"
          ],
          "font": {
           "color": "#2a3f5f"
          },
          "geo": {
           "bgcolor": "white",
           "lakecolor": "white",
           "landcolor": "white",
           "showlakes": true,
           "showland": true,
           "subunitcolor": "#C8D4E3"
          },
          "hoverlabel": {
           "align": "left"
          },
          "hovermode": "closest",
          "mapbox": {
           "style": "light"
          },
          "paper_bgcolor": "white",
          "plot_bgcolor": "white",
          "polar": {
           "angularaxis": {
            "gridcolor": "#EBF0F8",
            "linecolor": "#EBF0F8",
            "ticks": ""
           },
           "bgcolor": "white",
           "radialaxis": {
            "gridcolor": "#EBF0F8",
            "linecolor": "#EBF0F8",
            "ticks": ""
           }
          },
          "scene": {
           "xaxis": {
            "backgroundcolor": "white",
            "gridcolor": "#DFE8F3",
            "gridwidth": 2,
            "linecolor": "#EBF0F8",
            "showbackground": true,
            "ticks": "",
            "zerolinecolor": "#EBF0F8"
           },
           "yaxis": {
            "backgroundcolor": "white",
            "gridcolor": "#DFE8F3",
            "gridwidth": 2,
            "linecolor": "#EBF0F8",
            "showbackground": true,
            "ticks": "",
            "zerolinecolor": "#EBF0F8"
           },
           "zaxis": {
            "backgroundcolor": "white",
            "gridcolor": "#DFE8F3",
            "gridwidth": 2,
            "linecolor": "#EBF0F8",
            "showbackground": true,
            "ticks": "",
            "zerolinecolor": "#EBF0F8"
           }
          },
          "shapedefaults": {
           "line": {
            "color": "#2a3f5f"
           }
          },
          "ternary": {
           "aaxis": {
            "gridcolor": "#DFE8F3",
            "linecolor": "#A2B1C6",
            "ticks": ""
           },
           "baxis": {
            "gridcolor": "#DFE8F3",
            "linecolor": "#A2B1C6",
            "ticks": ""
           },
           "bgcolor": "white",
           "caxis": {
            "gridcolor": "#DFE8F3",
            "linecolor": "#A2B1C6",
            "ticks": ""
           }
          },
          "title": {
           "x": 0.05
          },
          "xaxis": {
           "automargin": true,
           "gridcolor": "#EBF0F8",
           "linecolor": "#EBF0F8",
           "ticks": "",
           "title": {
            "standoff": 15
           },
           "zerolinecolor": "#EBF0F8",
           "zerolinewidth": 2
          },
          "yaxis": {
           "automargin": true,
           "gridcolor": "#EBF0F8",
           "linecolor": "#EBF0F8",
           "ticks": "",
           "title": {
            "standoff": 15
           },
           "zerolinecolor": "#EBF0F8",
           "zerolinewidth": 2
          }
         }
        },
        "title": {
         "text": "GO Enrichment Analysis"
        },
        "width": 1000,
        "xaxis": {
         "anchor": "y",
         "domain": [
          0,
          1
         ],
         "title": {
          "text": "Enrichment Score"
         }
        },
        "yaxis": {
         "anchor": "x",
         "domain": [
          0,
          1
         ],
         "title": {
          "text": "GO_Function"
         }
        }
       }
      }
     },
     "metadata": {},
     "output_type": "display_data"
    }
   ],
   "source": [
    "# fig1 = BubbleChart(df_BubbleChart.iloc[0:30, :])\n",
    "fig1 = BubbleChart(df_BubbleChart, 30)"
   ]
  }
 ],
 "metadata": {
  "kernelspec": {
   "display_name": "py37_plot",
   "language": "python",
   "name": "python3"
  },
  "language_info": {
   "codemirror_mode": {
    "name": "ipython",
    "version": 3
   },
   "file_extension": ".py",
   "mimetype": "text/x-python",
   "name": "python",
   "nbconvert_exporter": "python",
   "pygments_lexer": "ipython3",
   "version": "3.10.0"
  },
  "orig_nbformat": 4
 },
 "nbformat": 4,
 "nbformat_minor": 2
}
