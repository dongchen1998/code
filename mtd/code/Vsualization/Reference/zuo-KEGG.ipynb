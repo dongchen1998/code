{
 "cells": [
  {
   "cell_type": "code",
   "execution_count": 1,
   "metadata": {},
   "outputs": [],
   "source": [
    "import pandas as pd\n",
    "import numpy as np\n",
    "\n",
    "import plotly.express as px\n",
    "import plotly.graph_objects as go\n",
    "import copy"
   ]
  },
  {
   "cell_type": "code",
   "execution_count": 2,
   "metadata": {},
   "outputs": [],
   "source": [
    "# GUI读取文件，返回文件路径\n",
    "import tkinter as tk\n",
    "from tkinter import filedialog\n",
    "\n",
    "def read_file():\n",
    "    root = tk.Tk()\n",
    "    root.withdraw()\n",
    "    root.attributes(\"-topmost\", True)\n",
    "    files_path = filedialog.askopenfilenames(multiple=True, title='Choose file(s)')\n",
    "    return files_path\n",
    "\n",
    "\n",
    "# 读取文件夹下所有文件，返回文件路径，点击取消则结束读取\n",
    "def loop_read_folder():\n",
    "    list_files_path = []\n",
    "    while True:\n",
    "        files_path = read_file()\n",
    "        if files_path == '':\n",
    "            break\n",
    "        else:\n",
    "            for path in files_path:\n",
    "                list_files_path.append(path)\n",
    "    return list_files_path"
   ]
  },
  {
   "cell_type": "code",
   "execution_count": 3,
   "metadata": {},
   "outputs": [],
   "source": [
    "def Kegg_BubbleChart(df, padjust=1, sort=True):\n",
    "    # 是否进行p值筛选\n",
    "    if padjust:\n",
    "        # 选取p值小于0.05的数据\n",
    "        df = df[df['p.adjust'] < padjust]\n",
    "    # 是否进行排序\n",
    "    if sort == True:\n",
    "        # 按照p值进行排序\n",
    "        df = df.sort_values(by='Count', ascending=False)\n",
    "\n",
    "    fig_padjust = px.scatter(df, x='Count', y='Description', size='Count',\n",
    "                             color='p.adjust', color_continuous_scale='Tealrose_r', opacity=0.85,\n",
    "                             size_max=40)\n",
    "\n",
    "    fig_padjust.update_layout(title='Bubble Chart of KEGG Enrichment Analysis', xaxis_title='Counts', yaxis_title='Terms',\n",
    "                              yaxis=dict(autorange='reversed'),\n",
    "                              font=dict(family='Arial'), template='plotly')\n",
    "    fig_padjust.update_coloraxes(colorbar_title='p.adjust', colorbar_tickformat='.3f',  # colorbar=dict(dtick=0.005)\n",
    "                                 )\n",
    "    fig_padjust.show()\n",
    "    return fig_padjust"
   ]
  },
  {
   "cell_type": "code",
   "execution_count": 4,
   "metadata": {},
   "outputs": [
    {
     "data": {
      "text/plain": [
       "['/Users/dongjiacheng/Desktop/code/mtd/code/Vsualization/GSEA/KEGG_Over.Representation.Test_data.csv']"
      ]
     },
     "execution_count": 4,
     "metadata": {},
     "output_type": "execute_result"
    }
   ],
   "source": [
    "# 读取文件，返回读取文件路径列表\n",
    "list_files_path = loop_read_folder()\n",
    "list_files_path"
   ]
  },
  {
   "cell_type": "code",
   "execution_count": 8,
   "metadata": {},
   "outputs": [
    {
     "data": {
      "text/html": [
       "<div>\n",
       "<style scoped>\n",
       "    .dataframe tbody tr th:only-of-type {\n",
       "        vertical-align: middle;\n",
       "    }\n",
       "\n",
       "    .dataframe tbody tr th {\n",
       "        vertical-align: top;\n",
       "    }\n",
       "\n",
       "    .dataframe thead th {\n",
       "        text-align: right;\n",
       "    }\n",
       "</style>\n",
       "<table border=\"1\" class=\"dataframe\">\n",
       "  <thead>\n",
       "    <tr style=\"text-align: right;\">\n",
       "      <th></th>\n",
       "      <th>ID</th>\n",
       "      <th>Description</th>\n",
       "      <th>GeneRatio</th>\n",
       "      <th>BgRatio</th>\n",
       "      <th>pvalue</th>\n",
       "      <th>p.adjust</th>\n",
       "      <th>qvalue</th>\n",
       "      <th>geneID</th>\n",
       "      <th>Count</th>\n",
       "      <th>Link</th>\n",
       "    </tr>\n",
       "  </thead>\n",
       "  <tbody>\n",
       "    <tr>\n",
       "      <th>0</th>\n",
       "      <td>hsa03013</td>\n",
       "      <td>Nucleocytoplasmic transport</td>\n",
       "      <td>7/54</td>\n",
       "      <td>140/11319</td>\n",
       "      <td>0.000004</td>\n",
       "      <td>0.000266</td>\n",
       "      <td>0.000240</td>\n",
       "      <td>O00410/O00422/O00505/O00629/Q86V81/Q8IYB3/Q8N1F7</td>\n",
       "      <td>7</td>\n",
       "      <td>http://www.genome.jp/kegg-bin/show_pathway?hsa...</td>\n",
       "    </tr>\n",
       "    <tr>\n",
       "      <th>1</th>\n",
       "      <td>hsa03040</td>\n",
       "      <td>Spliceosome</td>\n",
       "      <td>7/54</td>\n",
       "      <td>180/11319</td>\n",
       "      <td>0.000022</td>\n",
       "      <td>0.000628</td>\n",
       "      <td>0.000568</td>\n",
       "      <td>O14776/Q6P2Q9/Q7L014/Q7RTV0/Q86V81/Q86XP3/Q8IWX8</td>\n",
       "      <td>7</td>\n",
       "      <td>http://www.genome.jp/kegg-bin/show_pathway?hsa...</td>\n",
       "    </tr>\n",
       "    <tr>\n",
       "      <th>2</th>\n",
       "      <td>hsa03015</td>\n",
       "      <td>mRNA surveillance pathway</td>\n",
       "      <td>6/54</td>\n",
       "      <td>127/11319</td>\n",
       "      <td>0.000029</td>\n",
       "      <td>0.000628</td>\n",
       "      <td>0.000568</td>\n",
       "      <td>O00422/Q6UN15/Q6UXN9/Q86U42/Q86V81/Q8IYB3</td>\n",
       "      <td>26</td>\n",
       "      <td>http://www.genome.jp/kegg-bin/show_pathway?hsa...</td>\n",
       "    </tr>\n",
       "    <tr>\n",
       "      <th>3</th>\n",
       "      <td>hsa03050</td>\n",
       "      <td>Proteasome</td>\n",
       "      <td>4/54</td>\n",
       "      <td>75/11319</td>\n",
       "      <td>0.000438</td>\n",
       "      <td>0.007002</td>\n",
       "      <td>0.006334</td>\n",
       "      <td>O00231/O00232/O00233/O00487</td>\n",
       "      <td>4</td>\n",
       "      <td>http://www.genome.jp/kegg-bin/show_pathway?hsa...</td>\n",
       "    </tr>\n",
       "    <tr>\n",
       "      <th>4</th>\n",
       "      <td>hsa05017</td>\n",
       "      <td>Spinocerebellar ataxia</td>\n",
       "      <td>5/54</td>\n",
       "      <td>204/11319</td>\n",
       "      <td>0.002797</td>\n",
       "      <td>0.035801</td>\n",
       "      <td>0.032386</td>\n",
       "      <td>O00231/O00232/O00233/O00487/O00567</td>\n",
       "      <td>5</td>\n",
       "      <td>http://www.genome.jp/kegg-bin/show_pathway?hsa...</td>\n",
       "    </tr>\n",
       "    <tr>\n",
       "      <th>...</th>\n",
       "      <td>...</td>\n",
       "      <td>...</td>\n",
       "      <td>...</td>\n",
       "      <td>...</td>\n",
       "      <td>...</td>\n",
       "      <td>...</td>\n",
       "      <td>...</td>\n",
       "      <td>...</td>\n",
       "      <td>...</td>\n",
       "      <td>...</td>\n",
       "    </tr>\n",
       "    <tr>\n",
       "      <th>59</th>\n",
       "      <td>hsa04810</td>\n",
       "      <td>Regulation of actin cytoskeleton</td>\n",
       "      <td>1/54</td>\n",
       "      <td>362/11319</td>\n",
       "      <td>0.827855</td>\n",
       "      <td>0.883045</td>\n",
       "      <td>0.798807</td>\n",
       "      <td>Q7L576</td>\n",
       "      <td>1</td>\n",
       "      <td>http://www.genome.jp/kegg-bin/show_pathway?hsa...</td>\n",
       "    </tr>\n",
       "    <tr>\n",
       "      <th>60</th>\n",
       "      <td>hsa05165</td>\n",
       "      <td>Human papillomavirus infection</td>\n",
       "      <td>1/54</td>\n",
       "      <td>486/11319</td>\n",
       "      <td>0.907034</td>\n",
       "      <td>0.940515</td>\n",
       "      <td>0.850795</td>\n",
       "      <td>O14745</td>\n",
       "      <td>1</td>\n",
       "      <td>http://www.genome.jp/kegg-bin/show_pathway?hsa...</td>\n",
       "    </tr>\n",
       "    <tr>\n",
       "      <th>61</th>\n",
       "      <td>hsa04080</td>\n",
       "      <td>Neuroactive ligand-receptor interaction</td>\n",
       "      <td>1/54</td>\n",
       "      <td>495/11319</td>\n",
       "      <td>0.911124</td>\n",
       "      <td>0.940515</td>\n",
       "      <td>0.850795</td>\n",
       "      <td>O00264</td>\n",
       "      <td>1</td>\n",
       "      <td>http://www.genome.jp/kegg-bin/show_pathway?hsa...</td>\n",
       "    </tr>\n",
       "    <tr>\n",
       "      <th>62</th>\n",
       "      <td>hsa05168</td>\n",
       "      <td>Herpes simplex virus 1 infection</td>\n",
       "      <td>1/54</td>\n",
       "      <td>706/11319</td>\n",
       "      <td>0.969383</td>\n",
       "      <td>0.984770</td>\n",
       "      <td>0.890828</td>\n",
       "      <td>Q86V81</td>\n",
       "      <td>1</td>\n",
       "      <td>http://www.genome.jp/kegg-bin/show_pathway?hsa...</td>\n",
       "    </tr>\n",
       "    <tr>\n",
       "      <th>63</th>\n",
       "      <td>hsa01100</td>\n",
       "      <td>Metabolic pathways</td>\n",
       "      <td>4/54</td>\n",
       "      <td>2194/11319</td>\n",
       "      <td>0.996155</td>\n",
       "      <td>0.996155</td>\n",
       "      <td>0.901127</td>\n",
       "      <td>O00116/Q6NVY1/Q6UB35/Q86TX2</td>\n",
       "      <td>4</td>\n",
       "      <td>http://www.genome.jp/kegg-bin/show_pathway?hsa...</td>\n",
       "    </tr>\n",
       "  </tbody>\n",
       "</table>\n",
       "<p>64 rows × 10 columns</p>\n",
       "</div>"
      ],
      "text/plain": [
       "          ID                              Description GeneRatio     BgRatio  \\\n",
       "0   hsa03013              Nucleocytoplasmic transport      7/54   140/11319   \n",
       "1   hsa03040                              Spliceosome      7/54   180/11319   \n",
       "2   hsa03015                mRNA surveillance pathway      6/54   127/11319   \n",
       "3   hsa03050                               Proteasome      4/54    75/11319   \n",
       "4   hsa05017                   Spinocerebellar ataxia      5/54   204/11319   \n",
       "..       ...                                      ...       ...         ...   \n",
       "59  hsa04810         Regulation of actin cytoskeleton      1/54   362/11319   \n",
       "60  hsa05165           Human papillomavirus infection      1/54   486/11319   \n",
       "61  hsa04080  Neuroactive ligand-receptor interaction      1/54   495/11319   \n",
       "62  hsa05168         Herpes simplex virus 1 infection      1/54   706/11319   \n",
       "63  hsa01100                       Metabolic pathways      4/54  2194/11319   \n",
       "\n",
       "      pvalue  p.adjust    qvalue  \\\n",
       "0   0.000004  0.000266  0.000240   \n",
       "1   0.000022  0.000628  0.000568   \n",
       "2   0.000029  0.000628  0.000568   \n",
       "3   0.000438  0.007002  0.006334   \n",
       "4   0.002797  0.035801  0.032386   \n",
       "..       ...       ...       ...   \n",
       "59  0.827855  0.883045  0.798807   \n",
       "60  0.907034  0.940515  0.850795   \n",
       "61  0.911124  0.940515  0.850795   \n",
       "62  0.969383  0.984770  0.890828   \n",
       "63  0.996155  0.996155  0.901127   \n",
       "\n",
       "                                              geneID  Count  \\\n",
       "0   O00410/O00422/O00505/O00629/Q86V81/Q8IYB3/Q8N1F7      7   \n",
       "1   O14776/Q6P2Q9/Q7L014/Q7RTV0/Q86V81/Q86XP3/Q8IWX8      7   \n",
       "2          O00422/Q6UN15/Q6UXN9/Q86U42/Q86V81/Q8IYB3     26   \n",
       "3                        O00231/O00232/O00233/O00487      4   \n",
       "4                 O00231/O00232/O00233/O00487/O00567      5   \n",
       "..                                               ...    ...   \n",
       "59                                            Q7L576      1   \n",
       "60                                            O14745      1   \n",
       "61                                            O00264      1   \n",
       "62                                            Q86V81      1   \n",
       "63                       O00116/Q6NVY1/Q6UB35/Q86TX2      4   \n",
       "\n",
       "                                                 Link  \n",
       "0   http://www.genome.jp/kegg-bin/show_pathway?hsa...  \n",
       "1   http://www.genome.jp/kegg-bin/show_pathway?hsa...  \n",
       "2   http://www.genome.jp/kegg-bin/show_pathway?hsa...  \n",
       "3   http://www.genome.jp/kegg-bin/show_pathway?hsa...  \n",
       "4   http://www.genome.jp/kegg-bin/show_pathway?hsa...  \n",
       "..                                                ...  \n",
       "59  http://www.genome.jp/kegg-bin/show_pathway?hsa...  \n",
       "60  http://www.genome.jp/kegg-bin/show_pathway?hsa...  \n",
       "61  http://www.genome.jp/kegg-bin/show_pathway?hsa...  \n",
       "62  http://www.genome.jp/kegg-bin/show_pathway?hsa...  \n",
       "63  http://www.genome.jp/kegg-bin/show_pathway?hsa...  \n",
       "\n",
       "[64 rows x 10 columns]"
      ]
     },
     "execution_count": 8,
     "metadata": {},
     "output_type": "execute_result"
    }
   ],
   "source": [
    "df_kegg = pd.read_csv(list_files_path[0], sep=',')\n",
    "df_kegg"
   ]
  },
  {
   "cell_type": "code",
   "execution_count": 10,
   "metadata": {},
   "outputs": [
    {
     "data": {
      "application/vnd.plotly.v1+json": {
       "config": {
        "plotlyServerURL": "https://plot.ly"
       },
       "data": [
        {
         "hovertemplate": "Count=%{marker.size}<br>Description=%{y}<br>p.adjust=%{marker.color}<extra></extra>",
         "legendgroup": "",
         "marker": {
          "color": [
           0.0006283372921146,
           0.0002658511066359,
           0.0006283372921146,
           0.304034194395431,
           0.0358009609915152,
           0.0070016103180934,
           0.341141431361744,
           0.135332055293472,
           0.141886068939894,
           0.405285603479851
          ],
          "coloraxis": "coloraxis",
          "opacity": 0.85,
          "size": [
           26,
           7,
           7,
           6,
           5,
           4,
           3,
           2,
           2,
           2
          ],
          "sizemode": "area",
          "sizeref": 0.01625,
          "symbol": "circle"
         },
         "mode": "markers",
         "name": "",
         "orientation": "h",
         "showlegend": false,
         "type": "scatter",
         "x": [
          26,
          7,
          7,
          6,
          5,
          4,
          3,
          2,
          2,
          2
         ],
         "xaxis": "x",
         "y": [
          "mRNA surveillance pathway",
          "Nucleocytoplasmic transport",
          "Spliceosome",
          "Amyotrophic lateral sclerosis",
          "Spinocerebellar ataxia",
          "Proteasome",
          "Ubiquitin mediated proteolysis",
          "Fatty acid elongation",
          "Biosynthesis of unsaturated fatty acids",
          "Ribosome biogenesis in eukaryotes"
         ],
         "yaxis": "y"
        }
       ],
       "layout": {
        "coloraxis": {
         "colorbar": {
          "tickformat": ".3f",
          "title": {
           "text": "p.adjust"
          }
         },
         "colorscale": [
          [
           0,
           "rgb(208, 88, 126)"
          ],
          [
           0.16666666666666666,
           "rgb(217, 137, 148)"
          ],
          [
           0.3333333333333333,
           "rgb(229, 185, 173)"
          ],
          [
           0.5,
           "rgb(241, 234, 200)"
          ],
          [
           0.6666666666666666,
           "rgb(177, 199, 179)"
          ],
          [
           0.8333333333333334,
           "rgb(114, 170, 161)"
          ],
          [
           1,
           "rgb(0, 147, 146)"
          ]
         ]
        },
        "font": {
         "family": "Arial"
        },
        "legend": {
         "itemsizing": "constant",
         "tracegroupgap": 0
        },
        "margin": {
         "t": 60
        },
        "template": {
         "data": {
          "bar": [
           {
            "error_x": {
             "color": "#2a3f5f"
            },
            "error_y": {
             "color": "#2a3f5f"
            },
            "marker": {
             "line": {
              "color": "#E5ECF6",
              "width": 0.5
             },
             "pattern": {
              "fillmode": "overlay",
              "size": 10,
              "solidity": 0.2
             }
            },
            "type": "bar"
           }
          ],
          "barpolar": [
           {
            "marker": {
             "line": {
              "color": "#E5ECF6",
              "width": 0.5
             },
             "pattern": {
              "fillmode": "overlay",
              "size": 10,
              "solidity": 0.2
             }
            },
            "type": "barpolar"
           }
          ],
          "carpet": [
           {
            "aaxis": {
             "endlinecolor": "#2a3f5f",
             "gridcolor": "white",
             "linecolor": "white",
             "minorgridcolor": "white",
             "startlinecolor": "#2a3f5f"
            },
            "baxis": {
             "endlinecolor": "#2a3f5f",
             "gridcolor": "white",
             "linecolor": "white",
             "minorgridcolor": "white",
             "startlinecolor": "#2a3f5f"
            },
            "type": "carpet"
           }
          ],
          "choropleth": [
           {
            "colorbar": {
             "outlinewidth": 0,
             "ticks": ""
            },
            "type": "choropleth"
           }
          ],
          "contour": [
           {
            "colorbar": {
             "outlinewidth": 0,
             "ticks": ""
            },
            "colorscale": [
             [
              0,
              "#0d0887"
             ],
             [
              0.1111111111111111,
              "#46039f"
             ],
             [
              0.2222222222222222,
              "#7201a8"
             ],
             [
              0.3333333333333333,
              "#9c179e"
             ],
             [
              0.4444444444444444,
              "#bd3786"
             ],
             [
              0.5555555555555556,
              "#d8576b"
             ],
             [
              0.6666666666666666,
              "#ed7953"
             ],
             [
              0.7777777777777778,
              "#fb9f3a"
             ],
             [
              0.8888888888888888,
              "#fdca26"
             ],
             [
              1,
              "#f0f921"
             ]
            ],
            "type": "contour"
           }
          ],
          "contourcarpet": [
           {
            "colorbar": {
             "outlinewidth": 0,
             "ticks": ""
            },
            "type": "contourcarpet"
           }
          ],
          "heatmap": [
           {
            "colorbar": {
             "outlinewidth": 0,
             "ticks": ""
            },
            "colorscale": [
             [
              0,
              "#0d0887"
             ],
             [
              0.1111111111111111,
              "#46039f"
             ],
             [
              0.2222222222222222,
              "#7201a8"
             ],
             [
              0.3333333333333333,
              "#9c179e"
             ],
             [
              0.4444444444444444,
              "#bd3786"
             ],
             [
              0.5555555555555556,
              "#d8576b"
             ],
             [
              0.6666666666666666,
              "#ed7953"
             ],
             [
              0.7777777777777778,
              "#fb9f3a"
             ],
             [
              0.8888888888888888,
              "#fdca26"
             ],
             [
              1,
              "#f0f921"
             ]
            ],
            "type": "heatmap"
           }
          ],
          "heatmapgl": [
           {
            "colorbar": {
             "outlinewidth": 0,
             "ticks": ""
            },
            "colorscale": [
             [
              0,
              "#0d0887"
             ],
             [
              0.1111111111111111,
              "#46039f"
             ],
             [
              0.2222222222222222,
              "#7201a8"
             ],
             [
              0.3333333333333333,
              "#9c179e"
             ],
             [
              0.4444444444444444,
              "#bd3786"
             ],
             [
              0.5555555555555556,
              "#d8576b"
             ],
             [
              0.6666666666666666,
              "#ed7953"
             ],
             [
              0.7777777777777778,
              "#fb9f3a"
             ],
             [
              0.8888888888888888,
              "#fdca26"
             ],
             [
              1,
              "#f0f921"
             ]
            ],
            "type": "heatmapgl"
           }
          ],
          "histogram": [
           {
            "marker": {
             "pattern": {
              "fillmode": "overlay",
              "size": 10,
              "solidity": 0.2
             }
            },
            "type": "histogram"
           }
          ],
          "histogram2d": [
           {
            "colorbar": {
             "outlinewidth": 0,
             "ticks": ""
            },
            "colorscale": [
             [
              0,
              "#0d0887"
             ],
             [
              0.1111111111111111,
              "#46039f"
             ],
             [
              0.2222222222222222,
              "#7201a8"
             ],
             [
              0.3333333333333333,
              "#9c179e"
             ],
             [
              0.4444444444444444,
              "#bd3786"
             ],
             [
              0.5555555555555556,
              "#d8576b"
             ],
             [
              0.6666666666666666,
              "#ed7953"
             ],
             [
              0.7777777777777778,
              "#fb9f3a"
             ],
             [
              0.8888888888888888,
              "#fdca26"
             ],
             [
              1,
              "#f0f921"
             ]
            ],
            "type": "histogram2d"
           }
          ],
          "histogram2dcontour": [
           {
            "colorbar": {
             "outlinewidth": 0,
             "ticks": ""
            },
            "colorscale": [
             [
              0,
              "#0d0887"
             ],
             [
              0.1111111111111111,
              "#46039f"
             ],
             [
              0.2222222222222222,
              "#7201a8"
             ],
             [
              0.3333333333333333,
              "#9c179e"
             ],
             [
              0.4444444444444444,
              "#bd3786"
             ],
             [
              0.5555555555555556,
              "#d8576b"
             ],
             [
              0.6666666666666666,
              "#ed7953"
             ],
             [
              0.7777777777777778,
              "#fb9f3a"
             ],
             [
              0.8888888888888888,
              "#fdca26"
             ],
             [
              1,
              "#f0f921"
             ]
            ],
            "type": "histogram2dcontour"
           }
          ],
          "mesh3d": [
           {
            "colorbar": {
             "outlinewidth": 0,
             "ticks": ""
            },
            "type": "mesh3d"
           }
          ],
          "parcoords": [
           {
            "line": {
             "colorbar": {
              "outlinewidth": 0,
              "ticks": ""
             }
            },
            "type": "parcoords"
           }
          ],
          "pie": [
           {
            "automargin": true,
            "type": "pie"
           }
          ],
          "scatter": [
           {
            "fillpattern": {
             "fillmode": "overlay",
             "size": 10,
             "solidity": 0.2
            },
            "type": "scatter"
           }
          ],
          "scatter3d": [
           {
            "line": {
             "colorbar": {
              "outlinewidth": 0,
              "ticks": ""
             }
            },
            "marker": {
             "colorbar": {
              "outlinewidth": 0,
              "ticks": ""
             }
            },
            "type": "scatter3d"
           }
          ],
          "scattercarpet": [
           {
            "marker": {
             "colorbar": {
              "outlinewidth": 0,
              "ticks": ""
             }
            },
            "type": "scattercarpet"
           }
          ],
          "scattergeo": [
           {
            "marker": {
             "colorbar": {
              "outlinewidth": 0,
              "ticks": ""
             }
            },
            "type": "scattergeo"
           }
          ],
          "scattergl": [
           {
            "marker": {
             "colorbar": {
              "outlinewidth": 0,
              "ticks": ""
             }
            },
            "type": "scattergl"
           }
          ],
          "scattermapbox": [
           {
            "marker": {
             "colorbar": {
              "outlinewidth": 0,
              "ticks": ""
             }
            },
            "type": "scattermapbox"
           }
          ],
          "scatterpolar": [
           {
            "marker": {
             "colorbar": {
              "outlinewidth": 0,
              "ticks": ""
             }
            },
            "type": "scatterpolar"
           }
          ],
          "scatterpolargl": [
           {
            "marker": {
             "colorbar": {
              "outlinewidth": 0,
              "ticks": ""
             }
            },
            "type": "scatterpolargl"
           }
          ],
          "scatterternary": [
           {
            "marker": {
             "colorbar": {
              "outlinewidth": 0,
              "ticks": ""
             }
            },
            "type": "scatterternary"
           }
          ],
          "surface": [
           {
            "colorbar": {
             "outlinewidth": 0,
             "ticks": ""
            },
            "colorscale": [
             [
              0,
              "#0d0887"
             ],
             [
              0.1111111111111111,
              "#46039f"
             ],
             [
              0.2222222222222222,
              "#7201a8"
             ],
             [
              0.3333333333333333,
              "#9c179e"
             ],
             [
              0.4444444444444444,
              "#bd3786"
             ],
             [
              0.5555555555555556,
              "#d8576b"
             ],
             [
              0.6666666666666666,
              "#ed7953"
             ],
             [
              0.7777777777777778,
              "#fb9f3a"
             ],
             [
              0.8888888888888888,
              "#fdca26"
             ],
             [
              1,
              "#f0f921"
             ]
            ],
            "type": "surface"
           }
          ],
          "table": [
           {
            "cells": {
             "fill": {
              "color": "#EBF0F8"
             },
             "line": {
              "color": "white"
             }
            },
            "header": {
             "fill": {
              "color": "#C8D4E3"
             },
             "line": {
              "color": "white"
             }
            },
            "type": "table"
           }
          ]
         },
         "layout": {
          "annotationdefaults": {
           "arrowcolor": "#2a3f5f",
           "arrowhead": 0,
           "arrowwidth": 1
          },
          "autotypenumbers": "strict",
          "coloraxis": {
           "colorbar": {
            "outlinewidth": 0,
            "ticks": ""
           }
          },
          "colorscale": {
           "diverging": [
            [
             0,
             "#8e0152"
            ],
            [
             0.1,
             "#c51b7d"
            ],
            [
             0.2,
             "#de77ae"
            ],
            [
             0.3,
             "#f1b6da"
            ],
            [
             0.4,
             "#fde0ef"
            ],
            [
             0.5,
             "#f7f7f7"
            ],
            [
             0.6,
             "#e6f5d0"
            ],
            [
             0.7,
             "#b8e186"
            ],
            [
             0.8,
             "#7fbc41"
            ],
            [
             0.9,
             "#4d9221"
            ],
            [
             1,
             "#276419"
            ]
           ],
           "sequential": [
            [
             0,
             "#0d0887"
            ],
            [
             0.1111111111111111,
             "#46039f"
            ],
            [
             0.2222222222222222,
             "#7201a8"
            ],
            [
             0.3333333333333333,
             "#9c179e"
            ],
            [
             0.4444444444444444,
             "#bd3786"
            ],
            [
             0.5555555555555556,
             "#d8576b"
            ],
            [
             0.6666666666666666,
             "#ed7953"
            ],
            [
             0.7777777777777778,
             "#fb9f3a"
            ],
            [
             0.8888888888888888,
             "#fdca26"
            ],
            [
             1,
             "#f0f921"
            ]
           ],
           "sequentialminus": [
            [
             0,
             "#0d0887"
            ],
            [
             0.1111111111111111,
             "#46039f"
            ],
            [
             0.2222222222222222,
             "#7201a8"
            ],
            [
             0.3333333333333333,
             "#9c179e"
            ],
            [
             0.4444444444444444,
             "#bd3786"
            ],
            [
             0.5555555555555556,
             "#d8576b"
            ],
            [
             0.6666666666666666,
             "#ed7953"
            ],
            [
             0.7777777777777778,
             "#fb9f3a"
            ],
            [
             0.8888888888888888,
             "#fdca26"
            ],
            [
             1,
             "#f0f921"
            ]
           ]
          },
          "colorway": [
           "#636efa",
           "#EF553B",
           "#00cc96",
           "#ab63fa",
           "#FFA15A",
           "#19d3f3",
           "#FF6692",
           "#B6E880",
           "#FF97FF",
           "#FECB52"
          ],
          "font": {
           "color": "#2a3f5f"
          },
          "geo": {
           "bgcolor": "white",
           "lakecolor": "white",
           "landcolor": "#E5ECF6",
           "showlakes": true,
           "showland": true,
           "subunitcolor": "white"
          },
          "hoverlabel": {
           "align": "left"
          },
          "hovermode": "closest",
          "mapbox": {
           "style": "light"
          },
          "paper_bgcolor": "white",
          "plot_bgcolor": "#E5ECF6",
          "polar": {
           "angularaxis": {
            "gridcolor": "white",
            "linecolor": "white",
            "ticks": ""
           },
           "bgcolor": "#E5ECF6",
           "radialaxis": {
            "gridcolor": "white",
            "linecolor": "white",
            "ticks": ""
           }
          },
          "scene": {
           "xaxis": {
            "backgroundcolor": "#E5ECF6",
            "gridcolor": "white",
            "gridwidth": 2,
            "linecolor": "white",
            "showbackground": true,
            "ticks": "",
            "zerolinecolor": "white"
           },
           "yaxis": {
            "backgroundcolor": "#E5ECF6",
            "gridcolor": "white",
            "gridwidth": 2,
            "linecolor": "white",
            "showbackground": true,
            "ticks": "",
            "zerolinecolor": "white"
           },
           "zaxis": {
            "backgroundcolor": "#E5ECF6",
            "gridcolor": "white",
            "gridwidth": 2,
            "linecolor": "white",
            "showbackground": true,
            "ticks": "",
            "zerolinecolor": "white"
           }
          },
          "shapedefaults": {
           "line": {
            "color": "#2a3f5f"
           }
          },
          "ternary": {
           "aaxis": {
            "gridcolor": "white",
            "linecolor": "white",
            "ticks": ""
           },
           "baxis": {
            "gridcolor": "white",
            "linecolor": "white",
            "ticks": ""
           },
           "bgcolor": "#E5ECF6",
           "caxis": {
            "gridcolor": "white",
            "linecolor": "white",
            "ticks": ""
           }
          },
          "title": {
           "x": 0.05
          },
          "xaxis": {
           "automargin": true,
           "gridcolor": "white",
           "linecolor": "white",
           "ticks": "",
           "title": {
            "standoff": 15
           },
           "zerolinecolor": "white",
           "zerolinewidth": 2
          },
          "yaxis": {
           "automargin": true,
           "gridcolor": "white",
           "linecolor": "white",
           "ticks": "",
           "title": {
            "standoff": 15
           },
           "zerolinecolor": "white",
           "zerolinewidth": 2
          }
         }
        },
        "title": {
         "text": "Bubble Chart of KEGG Enrichment Analysis"
        },
        "xaxis": {
         "anchor": "y",
         "domain": [
          0,
          1
         ],
         "title": {
          "text": "Counts"
         }
        },
        "yaxis": {
         "anchor": "x",
         "autorange": "reversed",
         "domain": [
          0,
          1
         ],
         "title": {
          "text": "Terms"
         }
        }
       }
      }
     },
     "metadata": {},
     "output_type": "display_data"
    }
   ],
   "source": [
    "fig_kegg = Kegg_BubbleChart(df_kegg, 0.5, sort=True)"
   ]
  }
 ],
 "metadata": {
  "kernelspec": {
   "display_name": "py37_plot",
   "language": "python",
   "name": "python3"
  },
  "language_info": {
   "codemirror_mode": {
    "name": "ipython",
    "version": 3
   },
   "file_extension": ".py",
   "mimetype": "text/x-python",
   "name": "python",
   "nbconvert_exporter": "python",
   "pygments_lexer": "ipython3",
   "version": "3.10.13"
  },
  "orig_nbformat": 4
 },
 "nbformat": 4,
 "nbformat_minor": 2
}
