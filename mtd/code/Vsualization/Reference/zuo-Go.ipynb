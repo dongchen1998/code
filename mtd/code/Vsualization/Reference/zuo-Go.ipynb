{
 "cells": [
  {
   "cell_type": "markdown",
   "metadata": {},
   "source": [
    "# 导包"
   ]
  },
  {
   "cell_type": "code",
   "execution_count": 1,
   "metadata": {},
   "outputs": [],
   "source": [
    "import pandas as pd\n",
    "import numpy as np\n",
    "\n",
    "import plotly.express as px\n",
    "import plotly.graph_objects as go\n",
    "import copy"
   ]
  },
  {
   "cell_type": "markdown",
   "metadata": {},
   "source": [
    "# 文件读取"
   ]
  },
  {
   "cell_type": "code",
   "execution_count": 2,
   "metadata": {},
   "outputs": [],
   "source": [
    "# GUI读取文件，返回文件路径\n",
    "import tkinter as tk\n",
    "from tkinter import filedialog\n",
    "\n",
    "def read_file():\n",
    "    root = tk.Tk()\n",
    "    root.withdraw()\n",
    "    root.attributes(\"-topmost\", True)\n",
    "    files_path = filedialog.askopenfilenames(multiple=True, title='Choose file(s)')\n",
    "    return files_path\n",
    "\n",
    "\n",
    "# 读取文件夹下所有文件，返回文件路径，点击取消则结束读取\n",
    "def loop_read_folder():\n",
    "    list_files_path = []\n",
    "    while True:\n",
    "        files_path = read_file()\n",
    "        if files_path == '':\n",
    "            break\n",
    "        else:\n",
    "            for path in files_path:\n",
    "                list_files_path.append(path)\n",
    "    return list_files_path"
   ]
  },
  {
   "cell_type": "markdown",
   "metadata": {},
   "source": [
    "# BubbleChart"
   ]
  },
  {
   "cell_type": "code",
   "execution_count": 3,
   "metadata": {},
   "outputs": [],
   "source": [
    "def BubbleChart(df):\n",
    "    df = copy.deepcopy(df)\n",
    "    # 选取p值小于0.05的数据\n",
    "    df = df[df['corrected p-value(BH method)']<0.05]\n",
    "    # 重命名\n",
    "    df.columns = ['Class', 'Enrichment Score', 'GO Name', 'HitsGenesCounts', 'p.adjust']\n",
    "    # df['-log10 (p.adjust)'] = -np.log10(df['-log10 (p.adjust)'])\n",
    "\n",
    "    fig_padjust = px.scatter(df, x='Enrichment Score', y='GO Name', size='HitsGenesCounts', \n",
    "                             color='p.adjust', color_continuous_scale='Tealrose_r', opacity=0.85,\n",
    "                             hover_name='Class', size_max=45)\n",
    "    # # 手动添加气泡图点的大小标签\n",
    "    # index = [55, 65, 85, 110, 140]\n",
    "    # fig_Bubble = go.Figure()\n",
    "    # for i in range(5):\n",
    "    #     fig_Bubble.add_trace(go.Scatter(x=[df['Enrichment Score'].max()+1], y=[df['GO Name'][index[i]]], mode='markers+text',\n",
    "    #               marker=dict(size=5+i*10, color='Black', opacity=1), showlegend=False,\n",
    "    #               text=f'{5+i*10}', textposition='middle right', textfont=dict(size=14)))\n",
    "    #     fig_padjust.add_trace(fig_Bubble.data[i])\n",
    "\n",
    "    fig_padjust.update_layout(title='Bubble Chart of GO Enrichment Analysis', xaxis_title='Enrichment Score', yaxis_title='GO Name', \n",
    "                      font=dict(family='Arial', size=16), template='plotly_white', width=1000, height=600)\n",
    "    fig_padjust.update_coloraxes(colorbar_title='p.adjust', colorbar_tickformat='.3f', colorbar=dict(dtick=0.005))\n",
    "    fig_padjust.show()\n",
    "    return fig_padjust"
   ]
  },
  {
   "cell_type": "code",
   "execution_count": 5,
   "metadata": {},
   "outputs": [
    {
     "data": {
      "text/plain": [
       "['D:/A_Files/B_Project/A_JupyterNotebookFiles/Test/CYX/Results/Ecoli_k12_GO_analysis/20230831_1-3SE_genename_enrich_temp_GO_Enrichment_final.csv']"
      ]
     },
     "execution_count": 5,
     "metadata": {},
     "output_type": "execute_result"
    }
   ],
   "source": [
    "# 读取文件，返回读取文件路径列表\n",
    "list_files_path = loop_read_folder()\n",
    "list_files_path"
   ]
  },
  {
   "cell_type": "code",
   "execution_count": 6,
   "metadata": {},
   "outputs": [
    {
     "data": {
      "text/html": [
       "<div>\n",
       "<style scoped>\n",
       "    .dataframe tbody tr th:only-of-type {\n",
       "        vertical-align: middle;\n",
       "    }\n",
       "\n",
       "    .dataframe tbody tr th {\n",
       "        vertical-align: top;\n",
       "    }\n",
       "\n",
       "    .dataframe thead th {\n",
       "        text-align: right;\n",
       "    }\n",
       "</style>\n",
       "<table border=\"1\" class=\"dataframe\">\n",
       "  <thead>\n",
       "    <tr style=\"text-align: right;\">\n",
       "      <th></th>\n",
       "      <th>Class</th>\n",
       "      <th>GO_Name</th>\n",
       "      <th>GO_ID</th>\n",
       "      <th>GO_Level</th>\n",
       "      <th>P_value</th>\n",
       "      <th>EnrichmentScore</th>\n",
       "      <th>HitsGenesCountsInSelectedSet</th>\n",
       "      <th>HitsGenesCountsInBackground</th>\n",
       "      <th>AllGenesCountsInSelectedSet</th>\n",
       "      <th>AllGenesCountsInBackground</th>\n",
       "      <th>GenesOfSelectedSetInGOterm</th>\n",
       "      <th>corrected p-value(BH method)</th>\n",
       "    </tr>\n",
       "  </thead>\n",
       "  <tbody>\n",
       "    <tr>\n",
       "      <th>0</th>\n",
       "      <td>Molecular function</td>\n",
       "      <td>RNA binding</td>\n",
       "      <td>GO:0003723</td>\n",
       "      <td>5</td>\n",
       "      <td>4.330000e-15</td>\n",
       "      <td>3.996168</td>\n",
       "      <td>37</td>\n",
       "      <td>89</td>\n",
       "      <td>258</td>\n",
       "      <td>2480</td>\n",
       "      <td>rplR,rplT,rplN,rplW,rplY,rplB,rplE,srmB,prfA,r...</td>\n",
       "      <td>2.650000e-12</td>\n",
       "    </tr>\n",
       "    <tr>\n",
       "      <th>1</th>\n",
       "      <td>Molecular function</td>\n",
       "      <td>structural constituent of ribosome</td>\n",
       "      <td>GO:0003735</td>\n",
       "      <td>3</td>\n",
       "      <td>2.210000e-14</td>\n",
       "      <td>4.893587</td>\n",
       "      <td>28</td>\n",
       "      <td>55</td>\n",
       "      <td>258</td>\n",
       "      <td>2480</td>\n",
       "      <td>rpmG,rplR,rplU,rplT,rplN,rplW,rplY,rplC,rplB,r...</td>\n",
       "      <td>6.750000e-12</td>\n",
       "    </tr>\n",
       "    <tr>\n",
       "      <th>2</th>\n",
       "      <td>Molecular function</td>\n",
       "      <td>structural molecule activity</td>\n",
       "      <td>GO:0005198</td>\n",
       "      <td>2</td>\n",
       "      <td>6.360000e-13</td>\n",
       "      <td>4.412251</td>\n",
       "      <td>28</td>\n",
       "      <td>61</td>\n",
       "      <td>258</td>\n",
       "      <td>2480</td>\n",
       "      <td>rpmG,rplR,rplU,rplT,rplN,rplW,rplY,rplC,rplB,r...</td>\n",
       "      <td>1.290000e-10</td>\n",
       "    </tr>\n",
       "    <tr>\n",
       "      <th>3</th>\n",
       "      <td>Molecular function</td>\n",
       "      <td>binding</td>\n",
       "      <td>GO:0005488</td>\n",
       "      <td>2</td>\n",
       "      <td>1.820000e-10</td>\n",
       "      <td>1.348980</td>\n",
       "      <td>183</td>\n",
       "      <td>1304</td>\n",
       "      <td>258</td>\n",
       "      <td>2480</td>\n",
       "      <td>minE,arcA,msrB,nusA,sspA,yqjD,hmp,fabI,wrbA,ac...</td>\n",
       "      <td>2.770000e-08</td>\n",
       "    </tr>\n",
       "    <tr>\n",
       "      <th>4</th>\n",
       "      <td>Molecular function</td>\n",
       "      <td>ligase activity, forming carbon-oxygen bonds</td>\n",
       "      <td>GO:0016875</td>\n",
       "      <td>4</td>\n",
       "      <td>7.440000e-10</td>\n",
       "      <td>6.408269</td>\n",
       "      <td>14</td>\n",
       "      <td>21</td>\n",
       "      <td>258</td>\n",
       "      <td>2480</td>\n",
       "      <td>gltX,argS,glyS,pheT,ileS,trpS,cysS,hisS,tyrS,a...</td>\n",
       "      <td>9.090000e-08</td>\n",
       "    </tr>\n",
       "  </tbody>\n",
       "</table>\n",
       "</div>"
      ],
      "text/plain": [
       "                Class                                       GO_Name  \\\n",
       "0  Molecular function                                   RNA binding   \n",
       "1  Molecular function            structural constituent of ribosome   \n",
       "2  Molecular function                  structural molecule activity   \n",
       "3  Molecular function                                       binding   \n",
       "4  Molecular function  ligase activity, forming carbon-oxygen bonds   \n",
       "\n",
       "        GO_ID  GO_Level       P_value  EnrichmentScore  \\\n",
       "0  GO:0003723         5  4.330000e-15         3.996168   \n",
       "1  GO:0003735         3  2.210000e-14         4.893587   \n",
       "2  GO:0005198         2  6.360000e-13         4.412251   \n",
       "3  GO:0005488         2  1.820000e-10         1.348980   \n",
       "4  GO:0016875         4  7.440000e-10         6.408269   \n",
       "\n",
       "   HitsGenesCountsInSelectedSet  HitsGenesCountsInBackground  \\\n",
       "0                            37                           89   \n",
       "1                            28                           55   \n",
       "2                            28                           61   \n",
       "3                           183                         1304   \n",
       "4                            14                           21   \n",
       "\n",
       "   AllGenesCountsInSelectedSet  AllGenesCountsInBackground  \\\n",
       "0                          258                        2480   \n",
       "1                          258                        2480   \n",
       "2                          258                        2480   \n",
       "3                          258                        2480   \n",
       "4                          258                        2480   \n",
       "\n",
       "                          GenesOfSelectedSetInGOterm  \\\n",
       "0  rplR,rplT,rplN,rplW,rplY,rplB,rplE,srmB,prfA,r...   \n",
       "1  rpmG,rplR,rplU,rplT,rplN,rplW,rplY,rplC,rplB,r...   \n",
       "2  rpmG,rplR,rplU,rplT,rplN,rplW,rplY,rplC,rplB,r...   \n",
       "3  minE,arcA,msrB,nusA,sspA,yqjD,hmp,fabI,wrbA,ac...   \n",
       "4  gltX,argS,glyS,pheT,ileS,trpS,cysS,hisS,tyrS,a...   \n",
       "\n",
       "   corrected p-value(BH method)  \n",
       "0                  2.650000e-12  \n",
       "1                  6.750000e-12  \n",
       "2                  1.290000e-10  \n",
       "3                  2.770000e-08  \n",
       "4                  9.090000e-08  "
      ]
     },
     "execution_count": 6,
     "metadata": {},
     "output_type": "execute_result"
    }
   ],
   "source": [
    "# GO分析结果原始数据\n",
    "df_GoEnrich = pd.read_csv(list_files_path[0])\n",
    "df_GoEnrich.head()"
   ]
  },
  {
   "cell_type": "code",
   "execution_count": 7,
   "metadata": {},
   "outputs": [
    {
     "data": {
      "application/vnd.plotly.v1+json": {
       "config": {
        "plotlyServerURL": "https://plot.ly"
       },
       "data": [
        {
         "hovertemplate": "<b>%{hovertext}</b><br><br>Enrichment Score=%{x}<br>GO Name=%{y}<br>HitsGenesCounts=%{marker.size}<br>p.adjust=%{marker.color}<extra></extra>",
         "hovertext": [
          "Molecular function",
          "Molecular function",
          "Molecular function",
          "Molecular function",
          "Molecular function",
          "Molecular function",
          "Molecular function",
          "Molecular function",
          "Molecular function",
          "Molecular function",
          "Molecular function",
          "Molecular function",
          "Molecular function",
          "Molecular function",
          "Molecular function",
          "Molecular function",
          "Molecular function",
          "Molecular function",
          "Molecular function",
          "Molecular function",
          "Molecular function",
          "Molecular function",
          "Molecular function",
          "Molecular function",
          "Molecular function",
          "Molecular function",
          "Molecular function",
          "Molecular function",
          "Molecular function",
          "Cellular component",
          "Cellular component",
          "Cellular component",
          "Cellular component",
          "Cellular component",
          "Cellular component",
          "Cellular component",
          "Cellular component",
          "Cellular component",
          "Cellular component",
          "Cellular component",
          "Cellular component",
          "Cellular component",
          "Cellular component",
          "Cellular component",
          "Cellular component",
          "Cellular component",
          "Cellular component",
          "Cellular component",
          "Cellular component",
          "Cellular component",
          "Cellular component",
          "Cellular component",
          "Biological process",
          "Biological process",
          "Biological process",
          "Biological process",
          "Biological process",
          "Biological process",
          "Biological process",
          "Biological process",
          "Biological process",
          "Biological process",
          "Biological process",
          "Biological process",
          "Biological process",
          "Biological process",
          "Biological process",
          "Biological process",
          "Biological process",
          "Biological process",
          "Biological process",
          "Biological process",
          "Biological process",
          "Biological process",
          "Biological process",
          "Biological process",
          "Biological process",
          "Biological process",
          "Biological process",
          "Biological process",
          "Biological process",
          "Biological process",
          "Biological process",
          "Biological process",
          "Biological process",
          "Biological process",
          "Biological process",
          "Biological process",
          "Biological process",
          "Biological process",
          "Biological process",
          "Biological process",
          "Biological process",
          "Biological process",
          "Biological process",
          "Biological process",
          "Biological process",
          "Biological process",
          "Biological process",
          "Biological process",
          "Biological process",
          "Biological process",
          "Biological process",
          "Biological process",
          "Biological process",
          "Biological process",
          "Biological process",
          "Biological process",
          "Biological process",
          "Biological process",
          "Biological process",
          "Biological process",
          "Biological process",
          "Biological process",
          "Biological process",
          "Biological process",
          "Biological process",
          "Biological process",
          "Biological process",
          "Biological process",
          "Biological process",
          "Biological process",
          "Biological process",
          "Biological process",
          "Biological process",
          "Biological process",
          "Biological process",
          "Biological process",
          "Biological process",
          "Biological process",
          "Biological process",
          "Biological process",
          "Biological process",
          "Biological process",
          "Biological process",
          "Biological process",
          "Biological process",
          "Biological process",
          "Biological process",
          "Biological process",
          "Biological process",
          "Biological process",
          "Biological process",
          "Biological process",
          "Biological process",
          "Biological process",
          "Biological process",
          "Biological process",
          "Biological process",
          "Biological process",
          "Biological process",
          "Biological process",
          "Biological process",
          "Biological process",
          "Biological process",
          "Biological process",
          "Biological process",
          "Biological process",
          "Biological process",
          "Biological process",
          "Biological process",
          "Biological process",
          "Biological process",
          "Biological process",
          "Biological process",
          "Biological process",
          "Biological process",
          "Biological process",
          "Biological process",
          "Biological process",
          "Biological process",
          "Biological process",
          "Biological process",
          "Biological process",
          "Biological process",
          "Biological process",
          "Biological process",
          "Biological process",
          "Biological process",
          "Biological process",
          "Biological process",
          "Biological process",
          "Biological process",
          "Biological process",
          "Biological process",
          "Biological process",
          "Biological process",
          "Biological process",
          "Biological process",
          "Biological process",
          "Biological process",
          "Biological process",
          "Biological process",
          "Biological process",
          "Biological process",
          "Biological process",
          "Biological process",
          "Biological process",
          "Biological process",
          "Biological process",
          "Biological process",
          "Biological process",
          "Biological process",
          "Biological process",
          "Biological process",
          "Biological process",
          "Biological process",
          "Biological process",
          "Biological process",
          "Biological process",
          "Biological process",
          "Biological process",
          "Biological process",
          "Biological process",
          "Biological process",
          "Biological process",
          "Biological process",
          "Biological process",
          "Biological process",
          "Biological process",
          "Biological process",
          "Biological process",
          "Biological process",
          "Biological process",
          "Biological process",
          "Biological process",
          "Biological process",
          "Biological process",
          "Biological process",
          "Biological process",
          "Biological process",
          "Biological process",
          "Biological process",
          "Biological process",
          "Biological process",
          "Biological process",
          "Biological process",
          "Biological process",
          "Biological process",
          "Biological process",
          "Biological process",
          "Biological process",
          "Biological process",
          "Biological process",
          "Biological process"
         ],
         "legendgroup": "",
         "marker": {
          "color": [
           2.65e-12,
           6.75e-12,
           1.29e-10,
           2.77e-8,
           9.09e-8,
           9.09e-8,
           0.00000285,
           0.00000291,
           0.000014,
           0.000055,
           0.000087,
           0.000184,
           0.000183,
           0.000217,
           0.004342121,
           0.004309788,
           0.005378349,
           0.005472865,
           0.005472865,
           0.005784911,
           0.005916248,
           0.00566105,
           0.007865336,
           0.007686658,
           0.007877101,
           0.010917612,
           0.011568878,
           0.01311596,
           0.037325989,
           0,
           0,
           0,
           0,
           0,
           3.12e-13,
           1.26e-12,
           1.26e-12,
           1.34e-12,
           1.55e-12,
           3.03e-11,
           1.48e-9,
           1.84e-9,
           1.84e-9,
           9.4e-9,
           1.18e-8,
           2.77e-7,
           5.3e-7,
           0.00000111,
           0.000148,
           0.000148,
           0.009446784,
           0.009446784,
           0,
           0,
           0,
           0,
           0,
           4.52e-14,
           9.68e-14,
           2.88e-13,
           2.31e-11,
           5.02e-11,
           4.66e-11,
           5.04e-11,
           8.29e-11,
           3.44e-10,
           4.21e-10,
           4.25e-10,
           1.61e-9,
           2.15e-9,
           7.59e-9,
           1.36e-8,
           2.01e-8,
           3e-8,
           3.46e-8,
           3.46e-8,
           7.45e-8,
           7.45e-8,
           7.26e-8,
           7.26e-8,
           6.79e-8,
           6.65e-8,
           7.42e-8,
           7.42e-8,
           7.42e-8,
           8.45e-8,
           8.43e-8,
           9.27e-8,
           9.27e-8,
           1.08e-7,
           1.08e-7,
           1.35e-7,
           1.33e-7,
           1.43e-7,
           1.43e-7,
           1.41e-7,
           1.41e-7,
           1.53e-7,
           1.59e-7,
           1.59e-7,
           1.73e-7,
           1.77e-7,
           2.12e-7,
           2.38e-7,
           2.92e-7,
           3.01e-7,
           3.09e-7,
           3.26e-7,
           3.22e-7,
           3.23e-7,
           3.44e-7,
           4.59e-7,
           7.75e-7,
           8.96e-7,
           9.15e-7,
           9.28e-7,
           0.00000159,
           0.00000169,
           0.00000226,
           0.00000242,
           0.00000255,
           0.00000262,
           0.00000356,
           0.00000352,
           0.00000632,
           0.00000826,
           0.0000084,
           0.00000938,
           0.00000938,
           0.00000927,
           0.0000125,
           0.0000125,
           0.0000134,
           0.0000137,
           0.0000137,
           0.0000199,
           0.0000202,
           0.0000201,
           0.0000209,
           0.0000228,
           0.0000231,
           0.000024,
           0.0000282,
           0.0000319,
           0.000043,
           0.0000616,
           0.000087,
           0.0000876,
           0.0000869,
           0.000106,
           0.000125,
           0.000133,
           0.000229,
           0.000234,
           0.000392,
           0.000405,
           0.000419,
           0.000418,
           0.000417,
           0.00048,
           0.00048,
           0.000557,
           0.000557,
           0.000615,
           0.000705,
           0.000788,
           0.000852,
           0.001115163,
           0.001123561,
           0.00112582,
           0.00112582,
           0.00120488,
           0.001205491,
           0.001205491,
           0.001399038,
           0.001658725,
           0.001881851,
           0.001918775,
           0.00191366,
           0.00191387,
           0.001922024,
           0.00213019,
           0.002356928,
           0.002366964,
           0.002445225,
           0.002955538,
           0.002993271,
           0.003646476,
           0.003718228,
           0.003776266,
           0.003810537,
           0.004659253,
           0.004865561,
           0.005381228,
           0.005379858,
           0.005463991,
           0.005782267,
           0.005807243,
           0.005882884,
           0.005887206,
           0.005887206,
           0.005887206,
           0.006068543,
           0.006747515,
           0.007033702,
           0.007033702,
           0.007273409,
           0.008946329,
           0.009154883,
           0.013195561,
           0.014325248,
           0.016311047,
           0.016474247,
           0.016474247,
           0.016474247,
           0.016474247,
           0.016474247,
           0.016474247,
           0.016474247,
           0.015809269,
           0.015923966,
           0.017258511,
           0.017258511,
           0.017897898,
           0.017913398,
           0.018650311,
           0.019299167,
           0.021794389,
           0.022595369,
           0.02276589,
           0.026809732,
           0.032571525,
           0.03242733,
           0.033588501,
           0.033588501,
           0.033588501,
           0.033588501,
           0.03457391,
           0.040713785,
           0.043517677,
           0.04359259,
           0.044235802,
           0.044235802,
           0.043980948,
           0.043891705
          ],
          "coloraxis": "coloraxis",
          "opacity": 0.85,
          "size": [
           37,
           28,
           28,
           183,
           14,
           14,
           12,
           14,
           11,
           11,
           9,
           73,
           25,
           80,
           53,
           13,
           12,
           91,
           91,
           60,
           8,
           12,
           15,
           23,
           8,
           12,
           56,
           6,
           24,
           218,
           222,
           205,
           203,
           222,
           31,
           29,
           29,
           34,
           29,
           29,
           30,
           16,
           16,
           30,
           29,
           30,
           73,
           30,
           13,
           13,
           261,
           261,
           57,
           62,
           69,
           63,
           100,
           58,
           120,
           140,
           84,
           165,
           106,
           165,
           163,
           236,
           189,
           150,
           197,
           16,
           218,
           15,
           22,
           22,
           14,
           14,
           14,
           14,
           18,
           18,
           17,
           21,
           13,
           13,
           13,
           70,
           19,
           16,
           16,
           14,
           14,
           45,
           15,
           20,
           20,
           11,
           11,
           50,
           22,
           22,
           14,
           113,
           22,
           211,
           22,
           12,
           17,
           11,
           27,
           16,
           28,
           17,
           11,
           103,
           15,
           22,
           14,
           11,
           24,
           53,
           26,
           39,
           57,
           15,
           58,
           20,
           7,
           25,
           25,
           17,
           12,
           12,
           20,
           25,
           25,
           12,
           41,
           65,
           14,
           15,
           16,
           30,
           30,
           10,
           14,
           14,
           14,
           11,
           38,
           36,
           25,
           11,
           16,
           30,
           14,
           64,
           63,
           7,
           13,
           8,
           8,
           10,
           10,
           20,
           17,
           8,
           64,
           31,
           11,
           10,
           10,
           92,
           31,
           31,
           5,
           131,
           8,
           25,
           36,
           18,
           22,
           6,
           44,
           101,
           31,
           28,
           31,
           31,
           21,
           111,
           8,
           10,
           32,
           8,
           28,
           19,
           25,
           14,
           6,
           5,
           5,
           5,
           110,
           27,
           8,
           8,
           113,
           10,
           21,
           6,
           60,
           24,
           5,
           5,
           5,
           5,
           5,
           5,
           5,
           11,
           30,
           30,
           30,
           6,
           20,
           25,
           22,
           23,
           31,
           67,
           30,
           51,
           6,
           5,
           5,
           5,
           5,
           14,
           68,
           69,
           31,
           7,
           7,
           12,
           5
          ],
          "sizemode": "area",
          "sizeref": 0.1288888888888889,
          "symbol": "circle"
         },
         "mode": "markers",
         "name": "",
         "orientation": "h",
         "showlegend": false,
         "type": "scatter",
         "x": [
          3.996167581,
          4.893587033,
          4.412250604,
          1.348979883,
          6.408268734,
          6.408268734,
          6.070991432,
          5.175909362,
          5.874246339,
          5.286821705,
          6.179401993,
          1.61683278,
          2.583979328,
          1.55666447,
          1.622475683,
          3.124031008,
          3.204134367,
          1.377525484,
          1.377525484,
          1.529825427,
          4.272179156,
          3.117536141,
          2.621564482,
          2.105574013,
          4.047327621,
          2.88372093,
          1.503616127,
          4.80620155,
          1.816517121,
          1.695126321,
          1.655116707,
          1.87710956,
          1.884976526,
          1.652447164,
          4.470725575,
          4.536723164,
          4.536723164,
          3.922701149,
          4.461111111,
          4.055555556,
          3.461206897,
          5.907126437,
          5.907126437,
          3.219727346,
          3.264227642,
          2.825475018,
          1.768455667,
          2.662466844,
          3.529073698,
          3.529073698,
          1.023364486,
          1.023364486,
          4.824353841,
          4.45136387,
          3.372398571,
          3.857989464,
          2.323760661,
          4.574287653,
          1.913099129,
          1.726851524,
          2.132872224,
          1.510750994,
          1.864032876,
          1.508098227,
          1.508358209,
          1.237715704,
          1.386592408,
          1.536975555,
          1.34394378,
          6.662686567,
          1.265037688,
          6.506529851,
          4.404420207,
          4.321317939,
          6.624830393,
          6.624830393,
          6.336794289,
          6.336794289,
          4.931264729,
          4.931264729,
          5.205223881,
          4.28665496,
          6.766791045,
          6.766791045,
          6.766791045,
          1.958955224,
          4.59996529,
          5.373134328,
          5.373134328,
          6.072761194,
          6.072761194,
          2.414794584,
          5.577025586,
          4.249162352,
          4.249162352,
          7.634328358,
          7.634328358,
          2.263140818,
          3.881861877,
          3.881861877,
          5.829850746,
          1.572701333,
          3.817164179,
          1.241721016,
          3.754587717,
          6.575019639,
          4.657305577,
          7.157182836,
          3.194114654,
          4.899034241,
          3.10098444,
          4.537887486,
          6.736172081,
          1.579198998,
          4.879897388,
          3.523536165,
          5.025733402,
          6.361940299,
          3.162667674,
          2.013699749,
          2.974413646,
          2.333376222,
          1.926608839,
          4.461620469,
          1.881015483,
          3.358208955,
          9.109141791,
          2.860013121,
          2.860013121,
          3.765481105,
          4.997014925,
          4.997014925,
          3.253264925,
          2.798507463,
          2.798507463,
          4.804822044,
          2.10260275,
          1.735074627,
          4.164179104,
          3.90391791,
          3.701492537,
          2.439948694,
          2.421034363,
          5.479183032,
          3.939088342,
          3.835428123,
          3.737083812,
          4.580597015,
          2.049725466,
          2.082089552,
          2.478678038,
          4.404420207,
          3.142776683,
          2.18401002,
          3.312415197,
          1.593944155,
          1.599654168,
          6.072761194,
          3.470149254,
          5.205223881,
          5.205223881,
          4.164179104,
          4.164179104,
          2.5391336,
          2.765275187,
          4.899034241,
          1.553073792,
          1.979901108,
          3.578591418,
          3.855721393,
          3.855721393,
          1.392094759,
          1.96782854,
          1.96782854,
          7.436034115,
          1.270986633,
          4.383346426,
          2.098880597,
          1.810512654,
          2.465632364,
          2.223590784,
          5.678426052,
          1.671750735,
          1.336029509,
          1.887274156,
          1.943283582,
          1.865455957,
          1.844136461,
          2.164548544,
          1.292572373,
          3.965884861,
          3.253264925,
          1.791044776,
          3.785617368,
          1.868541906,
          2.197761194,
          1.942247717,
          2.556952082,
          4.804822044,
          5.78358209,
          5.78358209,
          5.78358209,
          1.278068364,
          1.861470792,
          3.621025308,
          3.621025308,
          1.264925373,
          2.974413646,
          2.005682596,
          4.164179104,
          1.413182954,
          1.823728075,
          4.73202171,
          4.73202171,
          4.73202171,
          4.73202171,
          4.73202171,
          4.73202171,
          4.73202171,
          2.60261194,
          1.688180718,
          1.679104478,
          1.679104478,
          3.90391791,
          1.927860697,
          1.770484313,
          1.847014925,
          1.800302996,
          1.629918589,
          1.349129594,
          1.626632463,
          1.404584222,
          3.470149254,
          4.00401837,
          4.00401837,
          4.00401837,
          4.00401837,
          2.082089552,
          1.310945274,
          1.303667687,
          1.551557118,
          2.914925373,
          2.914925373,
          2.153885744,
          3.718017058
         ],
         "xaxis": "x",
         "y": [
          "RNA binding",
          "structural constituent of ribosome",
          "structural molecule activity",
          "binding",
          "ligase activity, forming carbon-oxygen bonds",
          "aminoacyl-tRNA ligase activity",
          "mRNA binding",
          "rRNA binding",
          "translation regulator activity, nucleic acid binding",
          "translation regulator activity",
          "translation factor activity, RNA binding",
          "identical protein binding",
          "ligase activity",
          "protein binding",
          "nucleic acid binding",
          "oxidoreductase activity, acting on a sulfur group of donors",
          "ribosome binding",
          "heterocyclic compound binding",
          "organic cyclic compound binding",
          "cation binding",
          "antioxidant activity",
          "ribonucleoprotein complex binding",
          "catalytic activity, acting on a tRNA",
          "zinc ion binding",
          "disulfide oxidoreductase activity",
          "protein-containing complex binding",
          "metal ion binding",
          "ribosomal small subunit binding",
          "catalytic activity, acting on RNA",
          "cytoplasm",
          "obsolete intracellular part",
          "obsolete cytoplasmic part",
          "cytosol",
          "intracellular anatomical structure",
          "ribonucleoprotein complex",
          "cytosolic ribosome",
          "ribosomal subunit",
          "obsolete cytosolic part",
          "ribosome",
          "obsolete intracellular organelle part",
          "intracellular non-membrane-bounded organelle",
          "small ribosomal subunit",
          "cytosolic small ribosomal subunit",
          "intracellular organelle",
          "obsolete organelle part",
          "non-membrane-bounded organelle",
          "protein-containing complex",
          "organelle",
          "large ribosomal subunit",
          "cytosolic large ribosomal subunit",
          "obsolete cell part",
          "obsolete cell",
          "translation",
          "peptide metabolic process",
          "amide metabolic process",
          "amide biosynthetic process",
          "organonitrogen compound biosynthetic process",
          "peptide biosynthetic process",
          "cellular nitrogen compound biosynthetic process",
          "organonitrogen compound metabolic process",
          "protein metabolic process",
          "organic substance biosynthetic process",
          "gene expression",
          "biosynthetic process",
          "cellular biosynthetic process",
          "metabolic process",
          "nitrogen compound metabolic process",
          "cellular nitrogen compound metabolic process",
          "primary metabolic process",
          "nucleoside triphosphate biosynthetic process",
          "cellular metabolic process",
          "ribonucleoside triphosphate biosynthetic process",
          "protein-RNA complex assembly",
          "protein-RNA complex organization",
          "ATP biosynthetic process",
          "nucleoside diphosphate metabolic process",
          "purine nucleoside triphosphate biosynthetic process",
          "purine ribonucleoside triphosphate biosynthetic process",
          "purine nucleoside monophosphate metabolic process",
          "purine ribonucleoside monophosphate metabolic process",
          "ribonucleoside monophosphate biosynthetic process",
          "nucleoside monophosphate metabolic process",
          "purine nucleoside diphosphate metabolic process",
          "purine ribonucleoside diphosphate metabolic process",
          "ribonucleoside diphosphate metabolic process",
          "obsolete cellular macromolecule biosynthetic process",
          "ribonucleoside monophosphate metabolic process",
          "purine nucleoside monophosphate biosynthetic process",
          "purine ribonucleoside monophosphate biosynthetic process",
          "tRNA aminoacylation",
          "tRNA aminoacylation for protein translation",
          "protein-containing complex organization",
          "ATP metabolic process",
          "purine ribonucleotide biosynthetic process",
          "ribosome assembly",
          "pyruvate biosynthetic process",
          "glycolytic process",
          "cellular component assembly",
          "organelle assembly",
          "non-membrane-bounded organelle assembly",
          "amino acid activation",
          "macromolecule biosynthetic process",
          "ribonucleotide biosynthetic process",
          "organic substance metabolic process",
          "ribose phosphate biosynthetic process",
          "ADP metabolic process",
          "nucleoside monophosphate biosynthetic process",
          "obsolete ATP generation from ADP",
          "ribose phosphate metabolic process",
          "ribonucleoside triphosphate metabolic process",
          "ribonucleoprotein complex biogenesis",
          "nucleoside triphosphate metabolic process",
          "obsolete nucleoside diphosphate phosphorylation",
          "small molecule metabolic process",
          "purine ribonucleoside triphosphate metabolic process",
          "purine ribonucleotide metabolic process",
          "pyruvate metabolic process",
          "obsolete nucleotide phosphorylation",
          "ribonucleotide metabolic process",
          "cellular response to chemical stimulus",
          "ribosome biogenesis",
          "protein-containing complex assembly",
          "cellular component biogenesis",
          "purine nucleoside triphosphate metabolic process",
          "cellular component organization",
          "purine nucleotide biosynthetic process",
          "cytoplasmic translation",
          "purine nucleotide metabolic process",
          "organelle organization",
          "pyridine-containing compound metabolic process",
          "nucleotide catabolic process",
          "ribosomal small subunit biogenesis",
          "purine-containing compound biosynthetic process",
          "nucleoside phosphate biosynthetic process",
          "nucleotide biosynthetic process",
          "nucleoside phosphate catabolic process",
          "cellular response to xenobiotic stimulus",
          "cellular component organization or biogenesis",
          "pyridine-containing compound biosynthetic process",
          "regulation of amide metabolic process",
          "nucleobase-containing small molecule biosynthetic process",
          "nucleotide metabolic process",
          "nucleoside phosphate metabolic process",
          "ribosomal small subunit assembly",
          "nicotinamide nucleotide metabolic process",
          "pyridine nucleotide metabolic process",
          "regulation of translation",
          "nicotinamide nucleotide biosynthetic process",
          "xenobiotic metabolic process",
          "nucleobase-containing small molecule metabolic process",
          "purine-containing compound metabolic process",
          "pyridine nucleotide biosynthetic process",
          "obsolete oxidoreduction coenzyme metabolic process",
          "generation of precursor metabolites and energy",
          "post-transcriptional regulation of gene expression",
          "oxoacid metabolic process",
          "carboxylic acid metabolic process",
          "translational initiation",
          "organophosphate catabolic process",
          "tricarboxylic acid cycle",
          "citrate metabolic process",
          "negative regulation of translation",
          "negative regulation of amide metabolic process",
          "tRNA metabolic process",
          "monocarboxylic acid biosynthetic process",
          "tricarboxylic acid metabolic process",
          "organic acid metabolic process",
          "negative regulation of macromolecule biosynthetic process",
          "cellular response to toxic substance",
          "ribosomal large subunit assembly",
          "ribosomal large subunit biogenesis",
          "obsolete cellular macromolecule metabolic process",
          "negative regulation of cellular biosynthetic process",
          "negative regulation of biosynthetic process",
          "alditol metabolic process",
          "macromolecule metabolic process",
          "cellular oxidant detoxification",
          "ncRNA metabolic process",
          "organophosphate metabolic process",
          "nucleobase-containing compound catabolic process",
          "obsolete coenzyme biosynthetic process",
          "polyol metabolic process",
          "small molecule biosynthetic process",
          "nucleobase-containing compound metabolic process",
          "negative regulation of cellular metabolic process",
          "organophosphate biosynthetic process",
          "negative regulation of macromolecule metabolic process",
          "negative regulation of metabolic process",
          "heterocycle catabolic process",
          "cellular aromatic compound metabolic process",
          "glucose metabolic process",
          "negative regulation of protein metabolic process",
          "obsolete cofactor metabolic process",
          "cellular detoxification",
          "negative regulation of nitrogen compound metabolic process",
          "response to oxidative stress",
          "obsolete coenzyme metabolic process",
          "regulation of protein metabolic process",
          "monosaccharide biosynthetic process",
          "hexose biosynthetic process",
          "polyol catabolic process",
          "gluconeogenesis",
          "heterocycle metabolic process",
          "negative regulation of gene expression",
          "protein-containing complex disassembly",
          "cellular component disassembly",
          "organic cyclic compound metabolic process",
          "protein folding",
          "cellular nitrogen compound catabolic process",
          "DNA-templated transcription termination",
          "nucleobase-containing compound biosynthetic process",
          "obsolete negative regulation of cellular macromolecule biosynthetic process",
          "membrane assembly",
          "cell envelope organization",
          "Gram-negative-bacterium-type cell outer membrane assembly",
          "negative regulation of protein-containing complex disassembly",
          "transcription antitermination",
          "membrane biogenesis",
          "negative regulation of termination of DNA-templated transcription",
          "aerobic respiration",
          "carbohydrate derivative biosynthetic process",
          "carboxylic acid biosynthetic process",
          "organic acid biosynthetic process",
          "cellular response to reactive oxygen species",
          "aromatic compound catabolic process",
          "phosphorylation",
          "organic cyclic compound catabolic process",
          "obsolete cofactor biosynthetic process",
          "negative regulation of cellular process",
          "aromatic compound biosynthetic process",
          "amino acid metabolic process",
          "obsolete oxidation-reduction process",
          "response to cold",
          "regulation of protein-containing complex disassembly",
          "translational elongation",
          "regulation of termination of DNA-templated transcription",
          "glyceraldehyde-3-phosphate metabolic process",
          "protein maturation",
          "heterocycle biosynthetic process",
          "organic cyclic compound biosynthetic process",
          "negative regulation of biological process",
          "mRNA metabolic process",
          "cellular response to oxidative stress",
          "cellular aldehyde metabolic process",
          "neurotransmitter catabolic process"
         ],
         "yaxis": "y"
        }
       ],
       "layout": {
        "coloraxis": {
         "colorbar": {
          "dtick": 0.005,
          "tickformat": ".3f",
          "title": {
           "text": "p.adjust"
          }
         },
         "colorscale": [
          [
           0,
           "rgb(208, 88, 126)"
          ],
          [
           0.16666666666666666,
           "rgb(217, 137, 148)"
          ],
          [
           0.3333333333333333,
           "rgb(229, 185, 173)"
          ],
          [
           0.5,
           "rgb(241, 234, 200)"
          ],
          [
           0.6666666666666666,
           "rgb(177, 199, 179)"
          ],
          [
           0.8333333333333334,
           "rgb(114, 170, 161)"
          ],
          [
           1,
           "rgb(0, 147, 146)"
          ]
         ]
        },
        "font": {
         "family": "Arial",
         "size": 16
        },
        "height": 600,
        "legend": {
         "itemsizing": "constant",
         "tracegroupgap": 0
        },
        "margin": {
         "t": 60
        },
        "template": {
         "data": {
          "bar": [
           {
            "error_x": {
             "color": "#2a3f5f"
            },
            "error_y": {
             "color": "#2a3f5f"
            },
            "marker": {
             "line": {
              "color": "white",
              "width": 0.5
             },
             "pattern": {
              "fillmode": "overlay",
              "size": 10,
              "solidity": 0.2
             }
            },
            "type": "bar"
           }
          ],
          "barpolar": [
           {
            "marker": {
             "line": {
              "color": "white",
              "width": 0.5
             },
             "pattern": {
              "fillmode": "overlay",
              "size": 10,
              "solidity": 0.2
             }
            },
            "type": "barpolar"
           }
          ],
          "carpet": [
           {
            "aaxis": {
             "endlinecolor": "#2a3f5f",
             "gridcolor": "#C8D4E3",
             "linecolor": "#C8D4E3",
             "minorgridcolor": "#C8D4E3",
             "startlinecolor": "#2a3f5f"
            },
            "baxis": {
             "endlinecolor": "#2a3f5f",
             "gridcolor": "#C8D4E3",
             "linecolor": "#C8D4E3",
             "minorgridcolor": "#C8D4E3",
             "startlinecolor": "#2a3f5f"
            },
            "type": "carpet"
           }
          ],
          "choropleth": [
           {
            "colorbar": {
             "outlinewidth": 0,
             "ticks": ""
            },
            "type": "choropleth"
           }
          ],
          "contour": [
           {
            "colorbar": {
             "outlinewidth": 0,
             "ticks": ""
            },
            "colorscale": [
             [
              0,
              "#0d0887"
             ],
             [
              0.1111111111111111,
              "#46039f"
             ],
             [
              0.2222222222222222,
              "#7201a8"
             ],
             [
              0.3333333333333333,
              "#9c179e"
             ],
             [
              0.4444444444444444,
              "#bd3786"
             ],
             [
              0.5555555555555556,
              "#d8576b"
             ],
             [
              0.6666666666666666,
              "#ed7953"
             ],
             [
              0.7777777777777778,
              "#fb9f3a"
             ],
             [
              0.8888888888888888,
              "#fdca26"
             ],
             [
              1,
              "#f0f921"
             ]
            ],
            "type": "contour"
           }
          ],
          "contourcarpet": [
           {
            "colorbar": {
             "outlinewidth": 0,
             "ticks": ""
            },
            "type": "contourcarpet"
           }
          ],
          "heatmap": [
           {
            "colorbar": {
             "outlinewidth": 0,
             "ticks": ""
            },
            "colorscale": [
             [
              0,
              "#0d0887"
             ],
             [
              0.1111111111111111,
              "#46039f"
             ],
             [
              0.2222222222222222,
              "#7201a8"
             ],
             [
              0.3333333333333333,
              "#9c179e"
             ],
             [
              0.4444444444444444,
              "#bd3786"
             ],
             [
              0.5555555555555556,
              "#d8576b"
             ],
             [
              0.6666666666666666,
              "#ed7953"
             ],
             [
              0.7777777777777778,
              "#fb9f3a"
             ],
             [
              0.8888888888888888,
              "#fdca26"
             ],
             [
              1,
              "#f0f921"
             ]
            ],
            "type": "heatmap"
           }
          ],
          "heatmapgl": [
           {
            "colorbar": {
             "outlinewidth": 0,
             "ticks": ""
            },
            "colorscale": [
             [
              0,
              "#0d0887"
             ],
             [
              0.1111111111111111,
              "#46039f"
             ],
             [
              0.2222222222222222,
              "#7201a8"
             ],
             [
              0.3333333333333333,
              "#9c179e"
             ],
             [
              0.4444444444444444,
              "#bd3786"
             ],
             [
              0.5555555555555556,
              "#d8576b"
             ],
             [
              0.6666666666666666,
              "#ed7953"
             ],
             [
              0.7777777777777778,
              "#fb9f3a"
             ],
             [
              0.8888888888888888,
              "#fdca26"
             ],
             [
              1,
              "#f0f921"
             ]
            ],
            "type": "heatmapgl"
           }
          ],
          "histogram": [
           {
            "marker": {
             "pattern": {
              "fillmode": "overlay",
              "size": 10,
              "solidity": 0.2
             }
            },
            "type": "histogram"
           }
          ],
          "histogram2d": [
           {
            "colorbar": {
             "outlinewidth": 0,
             "ticks": ""
            },
            "colorscale": [
             [
              0,
              "#0d0887"
             ],
             [
              0.1111111111111111,
              "#46039f"
             ],
             [
              0.2222222222222222,
              "#7201a8"
             ],
             [
              0.3333333333333333,
              "#9c179e"
             ],
             [
              0.4444444444444444,
              "#bd3786"
             ],
             [
              0.5555555555555556,
              "#d8576b"
             ],
             [
              0.6666666666666666,
              "#ed7953"
             ],
             [
              0.7777777777777778,
              "#fb9f3a"
             ],
             [
              0.8888888888888888,
              "#fdca26"
             ],
             [
              1,
              "#f0f921"
             ]
            ],
            "type": "histogram2d"
           }
          ],
          "histogram2dcontour": [
           {
            "colorbar": {
             "outlinewidth": 0,
             "ticks": ""
            },
            "colorscale": [
             [
              0,
              "#0d0887"
             ],
             [
              0.1111111111111111,
              "#46039f"
             ],
             [
              0.2222222222222222,
              "#7201a8"
             ],
             [
              0.3333333333333333,
              "#9c179e"
             ],
             [
              0.4444444444444444,
              "#bd3786"
             ],
             [
              0.5555555555555556,
              "#d8576b"
             ],
             [
              0.6666666666666666,
              "#ed7953"
             ],
             [
              0.7777777777777778,
              "#fb9f3a"
             ],
             [
              0.8888888888888888,
              "#fdca26"
             ],
             [
              1,
              "#f0f921"
             ]
            ],
            "type": "histogram2dcontour"
           }
          ],
          "mesh3d": [
           {
            "colorbar": {
             "outlinewidth": 0,
             "ticks": ""
            },
            "type": "mesh3d"
           }
          ],
          "parcoords": [
           {
            "line": {
             "colorbar": {
              "outlinewidth": 0,
              "ticks": ""
             }
            },
            "type": "parcoords"
           }
          ],
          "pie": [
           {
            "automargin": true,
            "type": "pie"
           }
          ],
          "scatter": [
           {
            "fillpattern": {
             "fillmode": "overlay",
             "size": 10,
             "solidity": 0.2
            },
            "type": "scatter"
           }
          ],
          "scatter3d": [
           {
            "line": {
             "colorbar": {
              "outlinewidth": 0,
              "ticks": ""
             }
            },
            "marker": {
             "colorbar": {
              "outlinewidth": 0,
              "ticks": ""
             }
            },
            "type": "scatter3d"
           }
          ],
          "scattercarpet": [
           {
            "marker": {
             "colorbar": {
              "outlinewidth": 0,
              "ticks": ""
             }
            },
            "type": "scattercarpet"
           }
          ],
          "scattergeo": [
           {
            "marker": {
             "colorbar": {
              "outlinewidth": 0,
              "ticks": ""
             }
            },
            "type": "scattergeo"
           }
          ],
          "scattergl": [
           {
            "marker": {
             "colorbar": {
              "outlinewidth": 0,
              "ticks": ""
             }
            },
            "type": "scattergl"
           }
          ],
          "scattermapbox": [
           {
            "marker": {
             "colorbar": {
              "outlinewidth": 0,
              "ticks": ""
             }
            },
            "type": "scattermapbox"
           }
          ],
          "scatterpolar": [
           {
            "marker": {
             "colorbar": {
              "outlinewidth": 0,
              "ticks": ""
             }
            },
            "type": "scatterpolar"
           }
          ],
          "scatterpolargl": [
           {
            "marker": {
             "colorbar": {
              "outlinewidth": 0,
              "ticks": ""
             }
            },
            "type": "scatterpolargl"
           }
          ],
          "scatterternary": [
           {
            "marker": {
             "colorbar": {
              "outlinewidth": 0,
              "ticks": ""
             }
            },
            "type": "scatterternary"
           }
          ],
          "surface": [
           {
            "colorbar": {
             "outlinewidth": 0,
             "ticks": ""
            },
            "colorscale": [
             [
              0,
              "#0d0887"
             ],
             [
              0.1111111111111111,
              "#46039f"
             ],
             [
              0.2222222222222222,
              "#7201a8"
             ],
             [
              0.3333333333333333,
              "#9c179e"
             ],
             [
              0.4444444444444444,
              "#bd3786"
             ],
             [
              0.5555555555555556,
              "#d8576b"
             ],
             [
              0.6666666666666666,
              "#ed7953"
             ],
             [
              0.7777777777777778,
              "#fb9f3a"
             ],
             [
              0.8888888888888888,
              "#fdca26"
             ],
             [
              1,
              "#f0f921"
             ]
            ],
            "type": "surface"
           }
          ],
          "table": [
           {
            "cells": {
             "fill": {
              "color": "#EBF0F8"
             },
             "line": {
              "color": "white"
             }
            },
            "header": {
             "fill": {
              "color": "#C8D4E3"
             },
             "line": {
              "color": "white"
             }
            },
            "type": "table"
           }
          ]
         },
         "layout": {
          "annotationdefaults": {
           "arrowcolor": "#2a3f5f",
           "arrowhead": 0,
           "arrowwidth": 1
          },
          "autotypenumbers": "strict",
          "coloraxis": {
           "colorbar": {
            "outlinewidth": 0,
            "ticks": ""
           }
          },
          "colorscale": {
           "diverging": [
            [
             0,
             "#8e0152"
            ],
            [
             0.1,
             "#c51b7d"
            ],
            [
             0.2,
             "#de77ae"
            ],
            [
             0.3,
             "#f1b6da"
            ],
            [
             0.4,
             "#fde0ef"
            ],
            [
             0.5,
             "#f7f7f7"
            ],
            [
             0.6,
             "#e6f5d0"
            ],
            [
             0.7,
             "#b8e186"
            ],
            [
             0.8,
             "#7fbc41"
            ],
            [
             0.9,
             "#4d9221"
            ],
            [
             1,
             "#276419"
            ]
           ],
           "sequential": [
            [
             0,
             "#0d0887"
            ],
            [
             0.1111111111111111,
             "#46039f"
            ],
            [
             0.2222222222222222,
             "#7201a8"
            ],
            [
             0.3333333333333333,
             "#9c179e"
            ],
            [
             0.4444444444444444,
             "#bd3786"
            ],
            [
             0.5555555555555556,
             "#d8576b"
            ],
            [
             0.6666666666666666,
             "#ed7953"
            ],
            [
             0.7777777777777778,
             "#fb9f3a"
            ],
            [
             0.8888888888888888,
             "#fdca26"
            ],
            [
             1,
             "#f0f921"
            ]
           ],
           "sequentialminus": [
            [
             0,
             "#0d0887"
            ],
            [
             0.1111111111111111,
             "#46039f"
            ],
            [
             0.2222222222222222,
             "#7201a8"
            ],
            [
             0.3333333333333333,
             "#9c179e"
            ],
            [
             0.4444444444444444,
             "#bd3786"
            ],
            [
             0.5555555555555556,
             "#d8576b"
            ],
            [
             0.6666666666666666,
             "#ed7953"
            ],
            [
             0.7777777777777778,
             "#fb9f3a"
            ],
            [
             0.8888888888888888,
             "#fdca26"
            ],
            [
             1,
             "#f0f921"
            ]
           ]
          },
          "colorway": [
           "#636efa",
           "#EF553B",
           "#00cc96",
           "#ab63fa",
           "#FFA15A",
           "#19d3f3",
           "#FF6692",
           "#B6E880",
           "#FF97FF",
           "#FECB52"
          ],
          "font": {
           "color": "#2a3f5f"
          },
          "geo": {
           "bgcolor": "white",
           "lakecolor": "white",
           "landcolor": "white",
           "showlakes": true,
           "showland": true,
           "subunitcolor": "#C8D4E3"
          },
          "hoverlabel": {
           "align": "left"
          },
          "hovermode": "closest",
          "mapbox": {
           "style": "light"
          },
          "paper_bgcolor": "white",
          "plot_bgcolor": "white",
          "polar": {
           "angularaxis": {
            "gridcolor": "#EBF0F8",
            "linecolor": "#EBF0F8",
            "ticks": ""
           },
           "bgcolor": "white",
           "radialaxis": {
            "gridcolor": "#EBF0F8",
            "linecolor": "#EBF0F8",
            "ticks": ""
           }
          },
          "scene": {
           "xaxis": {
            "backgroundcolor": "white",
            "gridcolor": "#DFE8F3",
            "gridwidth": 2,
            "linecolor": "#EBF0F8",
            "showbackground": true,
            "ticks": "",
            "zerolinecolor": "#EBF0F8"
           },
           "yaxis": {
            "backgroundcolor": "white",
            "gridcolor": "#DFE8F3",
            "gridwidth": 2,
            "linecolor": "#EBF0F8",
            "showbackground": true,
            "ticks": "",
            "zerolinecolor": "#EBF0F8"
           },
           "zaxis": {
            "backgroundcolor": "white",
            "gridcolor": "#DFE8F3",
            "gridwidth": 2,
            "linecolor": "#EBF0F8",
            "showbackground": true,
            "ticks": "",
            "zerolinecolor": "#EBF0F8"
           }
          },
          "shapedefaults": {
           "line": {
            "color": "#2a3f5f"
           }
          },
          "ternary": {
           "aaxis": {
            "gridcolor": "#DFE8F3",
            "linecolor": "#A2B1C6",
            "ticks": ""
           },
           "baxis": {
            "gridcolor": "#DFE8F3",
            "linecolor": "#A2B1C6",
            "ticks": ""
           },
           "bgcolor": "white",
           "caxis": {
            "gridcolor": "#DFE8F3",
            "linecolor": "#A2B1C6",
            "ticks": ""
           }
          },
          "title": {
           "x": 0.05
          },
          "xaxis": {
           "automargin": true,
           "gridcolor": "#EBF0F8",
           "linecolor": "#EBF0F8",
           "ticks": "",
           "title": {
            "standoff": 15
           },
           "zerolinecolor": "#EBF0F8",
           "zerolinewidth": 2
          },
          "yaxis": {
           "automargin": true,
           "gridcolor": "#EBF0F8",
           "linecolor": "#EBF0F8",
           "ticks": "",
           "title": {
            "standoff": 15
           },
           "zerolinecolor": "#EBF0F8",
           "zerolinewidth": 2
          }
         }
        },
        "title": {
         "text": "Bubble Chart of GO Enrichment Analysis"
        },
        "width": 1000,
        "xaxis": {
         "anchor": "y",
         "domain": [
          0,
          1
         ],
         "title": {
          "text": "Enrichment Score"
         }
        },
        "yaxis": {
         "anchor": "x",
         "domain": [
          0,
          1
         ],
         "title": {
          "text": "GO Name"
         }
        }
       }
      }
     },
     "metadata": {},
     "output_type": "display_data"
    }
   ],
   "source": [
    "# 选择指定数据列进行可视化\n",
    "df_BubbleChart = df_GoEnrich[['Class', 'EnrichmentScore', 'GO_Name', 'HitsGenesCountsInSelectedSet', 'corrected p-value(BH method)']]\n",
    "fig1 = BubbleChart(df_BubbleChart)"
   ]
  }
 ],
 "metadata": {
  "kernelspec": {
   "display_name": "py37_plot",
   "language": "python",
   "name": "python3"
  },
  "language_info": {
   "codemirror_mode": {
    "name": "ipython",
    "version": 3
   },
   "file_extension": ".py",
   "mimetype": "text/x-python",
   "name": "python",
   "nbconvert_exporter": "python",
   "pygments_lexer": "ipython3",
   "version": "3.7.0"
  },
  "orig_nbformat": 4
 },
 "nbformat": 4,
 "nbformat_minor": 2
}
