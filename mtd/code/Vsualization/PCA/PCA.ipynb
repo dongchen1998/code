{
 "cells": [
  {
   "cell_type": "code",
   "execution_count": 2,
   "metadata": {},
   "outputs": [],
   "source": [
    "import pandas as pd\n",
    "import numpy as np\n",
    "import plotly.express as px\n",
    "from sklearn.decomposition import PCA\n",
    "from sklearn.preprocessing import StandardScaler\n",
    "\n",
    "# 读取csv文件\n",
    "expression_matrix = pd.read_csv(\"expression_matrix.csv\", index_col=0)\n",
    "samples_info = pd.read_csv(\"samples_info.csv\", index_col=0)"
   ]
  },
  {
   "cell_type": "code",
   "execution_count": null,
   "metadata": {},
   "outputs": [],
   "source": [
    "# 转置表达矩阵\n",
    "expression_matrix = expression_matrix.transpose()\n",
    "\n",
    "# 归一化表达矩阵\n",
    "scaler = StandardScaler()\n",
    "expression_matrix_normalized = scaler.fit_transform(expression_matrix)\n",
    "\n",
    "# 进行PCA分析\n",
    "pca = PCA(n_components=2)\n",
    "pca_result = pca.fit_transform(expression_matrix_normalized)\n",
    "\n",
    "# 将PCA结果合并到sample信息\n",
    "pca_df = pd.DataFrame(pca_result, columns=['PC1', 'PC2'], index=expression_matrix.index)\n",
    "pca_df.reset_index(level=0, inplace=True)\n",
    "pca_df.columns = ['sample_id', 'PC1', 'PC2']\n",
    "result_df = pca_df.merge(samples_info, left_on='sample_id', right_index=True)\n",
    "\n",
    "# 使用plotly创建散点图\n",
    "fig = px.scatter(result_df, x='PC1', y='PC2', color='condition', hover_data=['sample_id'], height=600, width=800)\n",
    "fig.update_traces(marker=dict(size=12, line=dict(width=2, color='DarkSlateGray')))\n",
    "fig.update_layout(title='PCA Analysis of Transcription Data', xaxis_title='PC1', yaxis_title='PC2')\n",
    "\n",
    "# 保存图像并显示\n",
    "# fig.write_html('pca_plot.html', auto_open=True)\n",
    "fig.show()"
   ]
  },
  {
   "cell_type": "code",
   "execution_count": 4,
   "metadata": {},
   "outputs": [
    {
     "data": {
      "application/vnd.plotly.v1+json": {
       "config": {
        "plotlyServerURL": "https://plot.ly"
       },
       "data": [
        {
         "customdata": [
          [
           "SRR11770274"
          ],
          [
           "SRR11770275"
          ],
          [
           "SRR11770276"
          ]
         ],
         "hovertemplate": "condition=nc044001<br>PC1=%{x}<br>PC2=%{y}<br>sample_id=%{customdata[0]}<extra></extra>",
         "legendgroup": "nc044001",
         "marker": {
          "color": "#636efa",
          "line": {
           "color": "DarkSlateGray",
           "width": 2
          },
          "size": 12,
          "symbol": "circle"
         },
         "mode": "markers",
         "name": "nc044001",
         "orientation": "v",
         "showlegend": true,
         "type": "scatter",
         "x": [
          -0.055377544993314064,
          -9.296715704398267,
          -4.602800648568455
         ],
         "xaxis": "x",
         "y": [
          0.4525041200833957,
          1.4219698208815679,
          0.7244502482763644
         ],
         "yaxis": "y"
        },
        {
         "customdata": [
          [
           "SRR11770277"
          ],
          [
           "SRR11770278"
          ],
          [
           "SRR11770279"
          ]
         ],
         "hovertemplate": "condition=nc044002<br>PC1=%{x}<br>PC2=%{y}<br>sample_id=%{customdata[0]}<extra></extra>",
         "legendgroup": "nc044002",
         "marker": {
          "color": "#EF553B",
          "line": {
           "color": "DarkSlateGray",
           "width": 2
          },
          "size": 12,
          "symbol": "circle"
         },
         "mode": "markers",
         "name": "nc044002",
         "orientation": "v",
         "showlegend": true,
         "type": "scatter",
         "x": [
          5.441631989165547,
          -3.592246867256199,
          2.7382637014999123
         ],
         "xaxis": "x",
         "y": [
          3.482895422157811,
          6.322974200876945,
          4.391607727748422
         ],
         "yaxis": "y"
        },
        {
         "customdata": [
          [
           "SRR11770280"
          ],
          [
           "SRR11770281"
          ]
         ],
         "hovertemplate": "condition=nc044003<br>PC1=%{x}<br>PC2=%{y}<br>sample_id=%{customdata[0]}<extra></extra>",
         "legendgroup": "nc044003",
         "marker": {
          "color": "#00cc96",
          "line": {
           "color": "DarkSlateGray",
           "width": 2
          },
          "size": 12,
          "symbol": "circle"
         },
         "mode": "markers",
         "name": "nc044003",
         "orientation": "v",
         "showlegend": true,
         "type": "scatter",
         "x": [
          11.811022818604844,
          10.773598819020467
         ],
         "xaxis": "x",
         "y": [
          -0.2658426126666818,
          -0.3502992108037725
         ],
         "yaxis": "y"
        },
        {
         "customdata": [
          [
           "SRR11770282"
          ],
          [
           "SRR11770283"
          ]
         ],
         "hovertemplate": "condition=nc044004<br>PC1=%{x}<br>PC2=%{y}<br>sample_id=%{customdata[0]}<extra></extra>",
         "legendgroup": "nc044004",
         "marker": {
          "color": "#ab63fa",
          "line": {
           "color": "DarkSlateGray",
           "width": 2
          },
          "size": 12,
          "symbol": "circle"
         },
         "mode": "markers",
         "name": "nc044004",
         "orientation": "v",
         "showlegend": true,
         "type": "scatter",
         "x": [
          -0.15807282952384874,
          7.231461004716628
         ],
         "xaxis": "x",
         "y": [
          -1.891671277983621,
          -1.564552232298025
         ],
         "yaxis": "y"
        },
        {
         "customdata": [
          [
           "SRR11770284"
          ],
          [
           "SRR11770285"
          ],
          [
           "SRR11770286"
          ]
         ],
         "hovertemplate": "condition=nc044005<br>PC1=%{x}<br>PC2=%{y}<br>sample_id=%{customdata[0]}<extra></extra>",
         "legendgroup": "nc044005",
         "marker": {
          "color": "#FFA15A",
          "line": {
           "color": "DarkSlateGray",
           "width": 2
          },
          "size": 12,
          "symbol": "circle"
         },
         "mode": "markers",
         "name": "nc044005",
         "orientation": "v",
         "showlegend": true,
         "type": "scatter",
         "x": [
          -10.885705612294323,
          -0.9275484521332298,
          -8.55872592518238
         ],
         "xaxis": "x",
         "y": [
          -2.8566897350551366,
          -2.4947262116272824,
          -2.833913453385974
         ],
         "yaxis": "y"
        },
        {
         "customdata": [
          [
           "SRR11770287"
          ],
          [
           "SRR11770288"
          ]
         ],
         "hovertemplate": "condition=nc044006<br>PC1=%{x}<br>PC2=%{y}<br>sample_id=%{customdata[0]}<extra></extra>",
         "legendgroup": "nc044006",
         "marker": {
          "color": "#19d3f3",
          "line": {
           "color": "DarkSlateGray",
           "width": 2
          },
          "size": 12,
          "symbol": "circle"
         },
         "mode": "markers",
         "name": "nc044006",
         "orientation": "v",
         "showlegend": true,
         "type": "scatter",
         "x": [
          11.657382439490426,
          9.457200687770754
         ],
         "xaxis": "x",
         "y": [
          -1.6833964625409645,
          -1.8569252497445297
         ],
         "yaxis": "y"
        },
        {
         "customdata": [
          [
           "SRR12316632"
          ],
          [
           "SRR12316633"
          ],
          [
           "SRR12316634"
          ]
         ],
         "hovertemplate": "condition=nc044007<br>PC1=%{x}<br>PC2=%{y}<br>sample_id=%{customdata[0]}<extra></extra>",
         "legendgroup": "nc044007",
         "marker": {
          "color": "#FF6692",
          "line": {
           "color": "DarkSlateGray",
           "width": 2
          },
          "size": 12,
          "symbol": "circle"
         },
         "mode": "markers",
         "name": "nc044007",
         "orientation": "v",
         "showlegend": true,
         "type": "scatter",
         "x": [
          -4.724421948618732,
          -5.640412281614495,
          -10.668533645685361
         ],
         "xaxis": "x",
         "y": [
          -0.5105102200824826,
          -0.36862787583733775,
          -0.11924699799869488
         ],
         "yaxis": "y"
        }
       ],
       "layout": {
        "height": 600,
        "legend": {
         "title": {
          "text": "condition"
         },
         "tracegroupgap": 0
        },
        "margin": {
         "t": 60
        },
        "template": {
         "data": {
          "bar": [
           {
            "error_x": {
             "color": "#2a3f5f"
            },
            "error_y": {
             "color": "#2a3f5f"
            },
            "marker": {
             "line": {
              "color": "#E5ECF6",
              "width": 0.5
             },
             "pattern": {
              "fillmode": "overlay",
              "size": 10,
              "solidity": 0.2
             }
            },
            "type": "bar"
           }
          ],
          "barpolar": [
           {
            "marker": {
             "line": {
              "color": "#E5ECF6",
              "width": 0.5
             },
             "pattern": {
              "fillmode": "overlay",
              "size": 10,
              "solidity": 0.2
             }
            },
            "type": "barpolar"
           }
          ],
          "carpet": [
           {
            "aaxis": {
             "endlinecolor": "#2a3f5f",
             "gridcolor": "white",
             "linecolor": "white",
             "minorgridcolor": "white",
             "startlinecolor": "#2a3f5f"
            },
            "baxis": {
             "endlinecolor": "#2a3f5f",
             "gridcolor": "white",
             "linecolor": "white",
             "minorgridcolor": "white",
             "startlinecolor": "#2a3f5f"
            },
            "type": "carpet"
           }
          ],
          "choropleth": [
           {
            "colorbar": {
             "outlinewidth": 0,
             "ticks": ""
            },
            "type": "choropleth"
           }
          ],
          "contour": [
           {
            "colorbar": {
             "outlinewidth": 0,
             "ticks": ""
            },
            "colorscale": [
             [
              0,
              "#0d0887"
             ],
             [
              0.1111111111111111,
              "#46039f"
             ],
             [
              0.2222222222222222,
              "#7201a8"
             ],
             [
              0.3333333333333333,
              "#9c179e"
             ],
             [
              0.4444444444444444,
              "#bd3786"
             ],
             [
              0.5555555555555556,
              "#d8576b"
             ],
             [
              0.6666666666666666,
              "#ed7953"
             ],
             [
              0.7777777777777778,
              "#fb9f3a"
             ],
             [
              0.8888888888888888,
              "#fdca26"
             ],
             [
              1,
              "#f0f921"
             ]
            ],
            "type": "contour"
           }
          ],
          "contourcarpet": [
           {
            "colorbar": {
             "outlinewidth": 0,
             "ticks": ""
            },
            "type": "contourcarpet"
           }
          ],
          "heatmap": [
           {
            "colorbar": {
             "outlinewidth": 0,
             "ticks": ""
            },
            "colorscale": [
             [
              0,
              "#0d0887"
             ],
             [
              0.1111111111111111,
              "#46039f"
             ],
             [
              0.2222222222222222,
              "#7201a8"
             ],
             [
              0.3333333333333333,
              "#9c179e"
             ],
             [
              0.4444444444444444,
              "#bd3786"
             ],
             [
              0.5555555555555556,
              "#d8576b"
             ],
             [
              0.6666666666666666,
              "#ed7953"
             ],
             [
              0.7777777777777778,
              "#fb9f3a"
             ],
             [
              0.8888888888888888,
              "#fdca26"
             ],
             [
              1,
              "#f0f921"
             ]
            ],
            "type": "heatmap"
           }
          ],
          "heatmapgl": [
           {
            "colorbar": {
             "outlinewidth": 0,
             "ticks": ""
            },
            "colorscale": [
             [
              0,
              "#0d0887"
             ],
             [
              0.1111111111111111,
              "#46039f"
             ],
             [
              0.2222222222222222,
              "#7201a8"
             ],
             [
              0.3333333333333333,
              "#9c179e"
             ],
             [
              0.4444444444444444,
              "#bd3786"
             ],
             [
              0.5555555555555556,
              "#d8576b"
             ],
             [
              0.6666666666666666,
              "#ed7953"
             ],
             [
              0.7777777777777778,
              "#fb9f3a"
             ],
             [
              0.8888888888888888,
              "#fdca26"
             ],
             [
              1,
              "#f0f921"
             ]
            ],
            "type": "heatmapgl"
           }
          ],
          "histogram": [
           {
            "marker": {
             "pattern": {
              "fillmode": "overlay",
              "size": 10,
              "solidity": 0.2
             }
            },
            "type": "histogram"
           }
          ],
          "histogram2d": [
           {
            "colorbar": {
             "outlinewidth": 0,
             "ticks": ""
            },
            "colorscale": [
             [
              0,
              "#0d0887"
             ],
             [
              0.1111111111111111,
              "#46039f"
             ],
             [
              0.2222222222222222,
              "#7201a8"
             ],
             [
              0.3333333333333333,
              "#9c179e"
             ],
             [
              0.4444444444444444,
              "#bd3786"
             ],
             [
              0.5555555555555556,
              "#d8576b"
             ],
             [
              0.6666666666666666,
              "#ed7953"
             ],
             [
              0.7777777777777778,
              "#fb9f3a"
             ],
             [
              0.8888888888888888,
              "#fdca26"
             ],
             [
              1,
              "#f0f921"
             ]
            ],
            "type": "histogram2d"
           }
          ],
          "histogram2dcontour": [
           {
            "colorbar": {
             "outlinewidth": 0,
             "ticks": ""
            },
            "colorscale": [
             [
              0,
              "#0d0887"
             ],
             [
              0.1111111111111111,
              "#46039f"
             ],
             [
              0.2222222222222222,
              "#7201a8"
             ],
             [
              0.3333333333333333,
              "#9c179e"
             ],
             [
              0.4444444444444444,
              "#bd3786"
             ],
             [
              0.5555555555555556,
              "#d8576b"
             ],
             [
              0.6666666666666666,
              "#ed7953"
             ],
             [
              0.7777777777777778,
              "#fb9f3a"
             ],
             [
              0.8888888888888888,
              "#fdca26"
             ],
             [
              1,
              "#f0f921"
             ]
            ],
            "type": "histogram2dcontour"
           }
          ],
          "mesh3d": [
           {
            "colorbar": {
             "outlinewidth": 0,
             "ticks": ""
            },
            "type": "mesh3d"
           }
          ],
          "parcoords": [
           {
            "line": {
             "colorbar": {
              "outlinewidth": 0,
              "ticks": ""
             }
            },
            "type": "parcoords"
           }
          ],
          "pie": [
           {
            "automargin": true,
            "type": "pie"
           }
          ],
          "scatter": [
           {
            "fillpattern": {
             "fillmode": "overlay",
             "size": 10,
             "solidity": 0.2
            },
            "type": "scatter"
           }
          ],
          "scatter3d": [
           {
            "line": {
             "colorbar": {
              "outlinewidth": 0,
              "ticks": ""
             }
            },
            "marker": {
             "colorbar": {
              "outlinewidth": 0,
              "ticks": ""
             }
            },
            "type": "scatter3d"
           }
          ],
          "scattercarpet": [
           {
            "marker": {
             "colorbar": {
              "outlinewidth": 0,
              "ticks": ""
             }
            },
            "type": "scattercarpet"
           }
          ],
          "scattergeo": [
           {
            "marker": {
             "colorbar": {
              "outlinewidth": 0,
              "ticks": ""
             }
            },
            "type": "scattergeo"
           }
          ],
          "scattergl": [
           {
            "marker": {
             "colorbar": {
              "outlinewidth": 0,
              "ticks": ""
             }
            },
            "type": "scattergl"
           }
          ],
          "scattermapbox": [
           {
            "marker": {
             "colorbar": {
              "outlinewidth": 0,
              "ticks": ""
             }
            },
            "type": "scattermapbox"
           }
          ],
          "scatterpolar": [
           {
            "marker": {
             "colorbar": {
              "outlinewidth": 0,
              "ticks": ""
             }
            },
            "type": "scatterpolar"
           }
          ],
          "scatterpolargl": [
           {
            "marker": {
             "colorbar": {
              "outlinewidth": 0,
              "ticks": ""
             }
            },
            "type": "scatterpolargl"
           }
          ],
          "scatterternary": [
           {
            "marker": {
             "colorbar": {
              "outlinewidth": 0,
              "ticks": ""
             }
            },
            "type": "scatterternary"
           }
          ],
          "surface": [
           {
            "colorbar": {
             "outlinewidth": 0,
             "ticks": ""
            },
            "colorscale": [
             [
              0,
              "#0d0887"
             ],
             [
              0.1111111111111111,
              "#46039f"
             ],
             [
              0.2222222222222222,
              "#7201a8"
             ],
             [
              0.3333333333333333,
              "#9c179e"
             ],
             [
              0.4444444444444444,
              "#bd3786"
             ],
             [
              0.5555555555555556,
              "#d8576b"
             ],
             [
              0.6666666666666666,
              "#ed7953"
             ],
             [
              0.7777777777777778,
              "#fb9f3a"
             ],
             [
              0.8888888888888888,
              "#fdca26"
             ],
             [
              1,
              "#f0f921"
             ]
            ],
            "type": "surface"
           }
          ],
          "table": [
           {
            "cells": {
             "fill": {
              "color": "#EBF0F8"
             },
             "line": {
              "color": "white"
             }
            },
            "header": {
             "fill": {
              "color": "#C8D4E3"
             },
             "line": {
              "color": "white"
             }
            },
            "type": "table"
           }
          ]
         },
         "layout": {
          "annotationdefaults": {
           "arrowcolor": "#2a3f5f",
           "arrowhead": 0,
           "arrowwidth": 1
          },
          "autotypenumbers": "strict",
          "coloraxis": {
           "colorbar": {
            "outlinewidth": 0,
            "ticks": ""
           }
          },
          "colorscale": {
           "diverging": [
            [
             0,
             "#8e0152"
            ],
            [
             0.1,
             "#c51b7d"
            ],
            [
             0.2,
             "#de77ae"
            ],
            [
             0.3,
             "#f1b6da"
            ],
            [
             0.4,
             "#fde0ef"
            ],
            [
             0.5,
             "#f7f7f7"
            ],
            [
             0.6,
             "#e6f5d0"
            ],
            [
             0.7,
             "#b8e186"
            ],
            [
             0.8,
             "#7fbc41"
            ],
            [
             0.9,
             "#4d9221"
            ],
            [
             1,
             "#276419"
            ]
           ],
           "sequential": [
            [
             0,
             "#0d0887"
            ],
            [
             0.1111111111111111,
             "#46039f"
            ],
            [
             0.2222222222222222,
             "#7201a8"
            ],
            [
             0.3333333333333333,
             "#9c179e"
            ],
            [
             0.4444444444444444,
             "#bd3786"
            ],
            [
             0.5555555555555556,
             "#d8576b"
            ],
            [
             0.6666666666666666,
             "#ed7953"
            ],
            [
             0.7777777777777778,
             "#fb9f3a"
            ],
            [
             0.8888888888888888,
             "#fdca26"
            ],
            [
             1,
             "#f0f921"
            ]
           ],
           "sequentialminus": [
            [
             0,
             "#0d0887"
            ],
            [
             0.1111111111111111,
             "#46039f"
            ],
            [
             0.2222222222222222,
             "#7201a8"
            ],
            [
             0.3333333333333333,
             "#9c179e"
            ],
            [
             0.4444444444444444,
             "#bd3786"
            ],
            [
             0.5555555555555556,
             "#d8576b"
            ],
            [
             0.6666666666666666,
             "#ed7953"
            ],
            [
             0.7777777777777778,
             "#fb9f3a"
            ],
            [
             0.8888888888888888,
             "#fdca26"
            ],
            [
             1,
             "#f0f921"
            ]
           ]
          },
          "colorway": [
           "#636efa",
           "#EF553B",
           "#00cc96",
           "#ab63fa",
           "#FFA15A",
           "#19d3f3",
           "#FF6692",
           "#B6E880",
           "#FF97FF",
           "#FECB52"
          ],
          "font": {
           "color": "#2a3f5f"
          },
          "geo": {
           "bgcolor": "white",
           "lakecolor": "white",
           "landcolor": "#E5ECF6",
           "showlakes": true,
           "showland": true,
           "subunitcolor": "white"
          },
          "hoverlabel": {
           "align": "left"
          },
          "hovermode": "closest",
          "mapbox": {
           "style": "light"
          },
          "paper_bgcolor": "white",
          "plot_bgcolor": "#E5ECF6",
          "polar": {
           "angularaxis": {
            "gridcolor": "white",
            "linecolor": "white",
            "ticks": ""
           },
           "bgcolor": "#E5ECF6",
           "radialaxis": {
            "gridcolor": "white",
            "linecolor": "white",
            "ticks": ""
           }
          },
          "scene": {
           "xaxis": {
            "backgroundcolor": "#E5ECF6",
            "gridcolor": "white",
            "gridwidth": 2,
            "linecolor": "white",
            "showbackground": true,
            "ticks": "",
            "zerolinecolor": "white"
           },
           "yaxis": {
            "backgroundcolor": "#E5ECF6",
            "gridcolor": "white",
            "gridwidth": 2,
            "linecolor": "white",
            "showbackground": true,
            "ticks": "",
            "zerolinecolor": "white"
           },
           "zaxis": {
            "backgroundcolor": "#E5ECF6",
            "gridcolor": "white",
            "gridwidth": 2,
            "linecolor": "white",
            "showbackground": true,
            "ticks": "",
            "zerolinecolor": "white"
           }
          },
          "shapedefaults": {
           "line": {
            "color": "#2a3f5f"
           }
          },
          "ternary": {
           "aaxis": {
            "gridcolor": "white",
            "linecolor": "white",
            "ticks": ""
           },
           "baxis": {
            "gridcolor": "white",
            "linecolor": "white",
            "ticks": ""
           },
           "bgcolor": "#E5ECF6",
           "caxis": {
            "gridcolor": "white",
            "linecolor": "white",
            "ticks": ""
           }
          },
          "title": {
           "x": 0.05
          },
          "xaxis": {
           "automargin": true,
           "gridcolor": "white",
           "linecolor": "white",
           "ticks": "",
           "title": {
            "standoff": 15
           },
           "zerolinecolor": "white",
           "zerolinewidth": 2
          },
          "yaxis": {
           "automargin": true,
           "gridcolor": "white",
           "linecolor": "white",
           "ticks": "",
           "title": {
            "standoff": 15
           },
           "zerolinecolor": "white",
           "zerolinewidth": 2
          }
         }
        },
        "title": {
         "text": "PCA Analysis of Transcription Data"
        },
        "width": 800,
        "xaxis": {
         "anchor": "y",
         "domain": [
          0,
          1
         ],
         "title": {
          "text": "PC1"
         }
        },
        "yaxis": {
         "anchor": "x",
         "domain": [
          0,
          1
         ],
         "title": {
          "text": "PC2"
         }
        }
       }
      }
     },
     "metadata": {},
     "output_type": "display_data"
    }
   ],
   "source": [
    "# 将上述代码封装成函数\n",
    "def pca_analysis(expression_matrix, samples_info):\n",
    "    \"\"\"将表达矩阵和样本信息作为输入，进行PCA分析并绘制散点图\n",
    "    \n",
    "    Args:\n",
    "        expression_matrix: 表达矩阵\n",
    "        samples_info: 样本信息\n",
    "    Returns:\n",
    "        fig: 绘制的散点图\n",
    "    \"\"\"\n",
    "    # 转置表达矩阵\n",
    "    expression_matrix = expression_matrix.transpose()\n",
    "\n",
    "    # 归一化表达矩阵\n",
    "    scaler = StandardScaler()\n",
    "    expression_matrix_normalized = scale r.fit_transform(expression_matrix)\n",
    "\n",
    "    # 进行PCA分析\n",
    "    pca = PCA(n_components=2)\n",
    "    pca_result = pca.fit_transform(expression_matrix_normalized)\n",
    "\n",
    "    # 将PCA结果合并到sample信息\n",
    "    pca_df = pd.DataFrame(pca_result, columns=['PC1', 'PC2'], index=expression_matrix.index)\n",
    "    pca_df.reset_index(level=0, inplace=True)\n",
    "    pca_df.columns = ['sample_id', 'PC1', 'PC2']\n",
    "    result_df = pca_df.merge(samples_info, left_on='sample_id', right_index=True)\n",
    "\n",
    "    # 使用plotly创建散点图\n",
    "    fig = px.scatter(result_df, x='PC1', y='PC2', color='condition', hover_data=['sample_id'], height=600, width=800)\n",
    "    fig.update_traces(marker=dict(size=12, line=dict(width=2, color='DarkSlateGray')))\n",
    "    fig.update_layout(title='PCA Analysis of Transcription Data', xaxis_title='PC1', yaxis_title='PC2')\n",
    "\n",
    "    # 保存图像并显示\n",
    "    # fig.write_html('pca_plot.html', auto_open=True)\n",
    "    return fig\n",
    "\n",
    "# 调用函数\n",
    "pca_analysis(expression_matrix, samples_info)"
   ]
  }
 ],
 "metadata": {
  "kernelspec": {
   "display_name": "code",
   "language": "python",
   "name": "python3"
  },
  "language_info": {
   "codemirror_mode": {
    "name": "ipython",
    "version": 3
   },
   "file_extension": ".py",
   "mimetype": "text/x-python",
   "name": "python",
   "nbconvert_exporter": "python",
   "pygments_lexer": "ipython3",
   "version": "3.10.0"
  }
 },
 "nbformat": 4,
 "nbformat_minor": 2
}
