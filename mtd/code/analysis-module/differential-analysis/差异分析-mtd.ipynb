{
 "cells": [
  {
   "cell_type": "code",
   "execution_count": 4,
   "metadata": {
    "vscode": {
     "languageId": "r"
    }
   },
   "outputs": [
    {
     "name": "stderr",
     "output_type": "stream",
     "text": [
      "Loading required package: S4Vectors\n",
      "\n",
      "Loading required package: stats4\n",
      "\n",
      "Loading required package: BiocGenerics\n",
      "\n",
      "\n",
      "Attaching package: 'BiocGenerics'\n",
      "\n",
      "\n",
      "The following objects are masked from 'package:stats':\n",
      "\n",
      "    IQR, mad, sd, var, xtabs\n",
      "\n",
      "\n",
      "The following objects are masked from 'package:base':\n",
      "\n",
      "    Filter, Find, Map, Position, Reduce, anyDuplicated, aperm, append,\n",
      "    as.data.frame, basename, cbind, colnames, dirname, do.call,\n",
      "    duplicated, eval, evalq, get, grep, grepl, intersect, is.unsorted,\n",
      "    lapply, mapply, match, mget, order, paste, pmax, pmax.int, pmin,\n",
      "    pmin.int, rank, rbind, rownames, sapply, setdiff, sort, table,\n",
      "    tapply, union, unique, unsplit, which.max, which.min\n",
      "\n",
      "\n",
      "\n",
      "Attaching package: 'S4Vectors'\n",
      "\n",
      "\n",
      "The following object is masked from 'package:utils':\n",
      "\n",
      "    findMatches\n",
      "\n",
      "\n",
      "The following objects are masked from 'package:base':\n",
      "\n",
      "    I, expand.grid, unname\n",
      "\n",
      "\n",
      "Loading required package: IRanges\n",
      "\n",
      "Loading required package: GenomicRanges\n",
      "\n",
      "Loading required package: GenomeInfoDb\n",
      "\n",
      "Loading required package: SummarizedExperiment\n",
      "\n",
      "Loading required package: MatrixGenerics\n",
      "\n",
      "Loading required package: matrixStats\n",
      "\n",
      "\n",
      "Attaching package: 'MatrixGenerics'\n",
      "\n",
      "\n",
      "The following objects are masked from 'package:matrixStats':\n",
      "\n",
      "    colAlls, colAnyNAs, colAnys, colAvgsPerRowSet, colCollapse,\n",
      "    colCounts, colCummaxs, colCummins, colCumprods, colCumsums,\n",
      "    colDiffs, colIQRDiffs, colIQRs, colLogSumExps, colMadDiffs,\n",
      "    colMads, colMaxs, colMeans2, colMedians, colMins, colOrderStats,\n",
      "    colProds, colQuantiles, colRanges, colRanks, colSdDiffs, colSds,\n",
      "    colSums2, colTabulates, colVarDiffs, colVars, colWeightedMads,\n",
      "    colWeightedMeans, colWeightedMedians, colWeightedSds,\n",
      "    colWeightedVars, rowAlls, rowAnyNAs, rowAnys, rowAvgsPerColSet,\n",
      "    rowCollapse, rowCounts, rowCummaxs, rowCummins, rowCumprods,\n",
      "    rowCumsums, rowDiffs, rowIQRDiffs, rowIQRs, rowLogSumExps,\n",
      "    rowMadDiffs, rowMads, rowMaxs, rowMeans2, rowMedians, rowMins,\n",
      "    rowOrderStats, rowProds, rowQuantiles, rowRanges, rowRanks,\n",
      "    rowSdDiffs, rowSds, rowSums2, rowTabulates, rowVarDiffs, rowVars,\n",
      "    rowWeightedMads, rowWeightedMeans, rowWeightedMedians,\n",
      "    rowWeightedSds, rowWeightedVars\n",
      "\n",
      "\n",
      "Loading required package: Biobase\n",
      "\n",
      "Welcome to Bioconductor\n",
      "\n",
      "    Vignettes contain introductory material; view with\n",
      "    'browseVignettes()'. To cite Bioconductor, see\n",
      "    'citation(\"Biobase\")', and for packages 'citation(\"pkgname\")'.\n",
      "\n",
      "\n",
      "\n",
      "Attaching package: 'Biobase'\n",
      "\n",
      "\n",
      "The following object is masked from 'package:MatrixGenerics':\n",
      "\n",
      "    rowMedians\n",
      "\n",
      "\n",
      "The following objects are masked from 'package:matrixStats':\n",
      "\n",
      "    anyMissing, rowMedians\n",
      "\n",
      "\n",
      "\n",
      "Attaching package: 'plotly'\n",
      "\n",
      "\n",
      "The following object is masked from 'package:ggplot2':\n",
      "\n",
      "    last_plot\n",
      "\n",
      "\n",
      "The following object is masked from 'package:IRanges':\n",
      "\n",
      "    slice\n",
      "\n",
      "\n",
      "The following object is masked from 'package:S4Vectors':\n",
      "\n",
      "    rename\n",
      "\n",
      "\n",
      "The following object is masked from 'package:stats':\n",
      "\n",
      "    filter\n",
      "\n",
      "\n",
      "The following object is masked from 'package:graphics':\n",
      "\n",
      "    layout\n",
      "\n",
      "\n"
     ]
    }
   ],
   "source": [
    "library(DESeq2)\n",
    "library(ggplot2)\n",
    "library(plotly)\n",
    "library(htmlwidgets)"
   ]
  },
  {
   "cell_type": "code",
   "execution_count": 5,
   "metadata": {
    "vscode": {
     "languageId": "r"
    }
   },
   "outputs": [],
   "source": [
    "count_df <- read.csv(\"./input-file/expression_matrix.csv\", header = TRUE, row.names = 1)\n",
    "sample_df <- read.csv(\"./input-file/samples_info.csv\", header = TRUE, row.names = 1)"
   ]
  },
  {
   "cell_type": "code",
   "execution_count": 6,
   "metadata": {
    "vscode": {
     "languageId": "r"
    }
   },
   "outputs": [],
   "source": [
    "# 预处理\n",
    "rownames(count_df) <- gsub(\"-\", \".\", rownames(count_df))\n",
    "rownames(sample_df) <- gsub(\"-\", \".\", rownames(sample_df))\n",
    "sample_df$Group <- gsub(\"-\", \".\", sample_df$Group)"
   ]
  },
  {
   "cell_type": "code",
   "execution_count": 7,
   "metadata": {
    "vscode": {
     "languageId": "r"
    }
   },
   "outputs": [
    {
     "name": "stderr",
     "output_type": "stream",
     "text": [
      "estimating size factors\n",
      "\n",
      "estimating dispersions\n",
      "\n",
      "gene-wise dispersion estimates\n",
      "\n",
      "mean-dispersion relationship\n",
      "\n",
      "final dispersion estimates\n",
      "\n",
      "fitting model and testing\n",
      "\n"
     ]
    }
   ],
   "source": [
    "sample_df$Group <- factor(sample_df$Group)\n",
    "\n",
    "deseq2.obj1 <- DESeqDataSetFromMatrix(\n",
    "    countData = count_df,\n",
    "    colData = DataFrame(sample_df),\n",
    "    design = ~Group\n",
    ")\n",
    "\n",
    "#DESeq函数将自动对表达量数据进行归一化、估计基因表达的离散度、从中提取差异表达基因，并计算调整后的p值和对数折叠变化值等统计信息\n",
    "deseq2.obj2 <- DESeq(deseq2.obj1)"
   ]
  },
  {
   "cell_type": "code",
   "execution_count": 8,
   "metadata": {
    "vscode": {
     "languageId": "r"
    }
   },
   "outputs": [],
   "source": [
    "## PCA\n",
    "# 进行基于rlog转换的PCA分析，并以“condition”为分类变量，绘制样本的PCA图\n",
    "dds = deseq2.obj2\n",
    "\n",
    "# 使用estimateSizeFactors函数对dds进行样本大小因子估计,将对每个样本中的基因表达量进行归一化，以消除库大小之间的差异\n",
    "dds <- estimateSizeFactors(dds)\n",
    "\n",
    "# 使用rlog函数将dds对象中的基因表达量进行rlog转换.rlog转换是一种常用的数据转换方法，可以使数据更符合正态分布，从而提高PCA分析的效果\n",
    "rld <- rlog(dds)"
   ]
  },
  {
   "cell_type": "code",
   "execution_count": 9,
   "metadata": {
    "vscode": {
     "languageId": "r"
    }
   },
   "outputs": [],
   "source": [
    "pca_data <- prcomp(t(assay(rld)))\n",
    "plot_df <- as.data.frame(pca_data$x)"
   ]
  },
  {
   "cell_type": "code",
   "execution_count": 10,
   "metadata": {
    "vscode": {
     "languageId": "r"
    }
   },
   "outputs": [
    {
     "data": {
      "text/html": [
       "<table class=\"dataframe\">\n",
       "<caption>A data.frame: 9 × 9</caption>\n",
       "<thead>\n",
       "\t<tr><th></th><th scope=col>PC1</th><th scope=col>PC2</th><th scope=col>PC3</th><th scope=col>PC4</th><th scope=col>PC5</th><th scope=col>PC6</th><th scope=col>PC7</th><th scope=col>PC8</th><th scope=col>PC9</th></tr>\n",
       "\t<tr><th></th><th scope=col>&lt;dbl&gt;</th><th scope=col>&lt;dbl&gt;</th><th scope=col>&lt;dbl&gt;</th><th scope=col>&lt;dbl&gt;</th><th scope=col>&lt;dbl&gt;</th><th scope=col>&lt;dbl&gt;</th><th scope=col>&lt;dbl&gt;</th><th scope=col>&lt;dbl&gt;</th><th scope=col>&lt;dbl&gt;</th></tr>\n",
       "</thead>\n",
       "<tbody>\n",
       "\t<tr><th scope=row>C_1</th><td>-41.61522</td><td>  0.1636911</td><td>-2.20000406</td><td>-4.6802805</td><td>-5.55383392</td><td> 0.5923281</td><td>-1.0785956</td><td>-0.3684333</td><td>8.816760e-14</td></tr>\n",
       "\t<tr><th scope=row>C_2</th><td>-43.37940</td><td>  0.1241737</td><td>-1.58162110</td><td>-2.7987116</td><td> 6.58605701</td><td>-0.4458624</td><td> 0.6418912</td><td> 0.2481501</td><td>1.004786e-13</td></tr>\n",
       "\t<tr><th scope=row>C_3</th><td>-45.34542</td><td> -0.1015971</td><td> 3.66225500</td><td> 7.1068121</td><td>-1.15691820</td><td>-0.1839840</td><td> 0.3877610</td><td> 0.1941333</td><td>8.879727e-14</td></tr>\n",
       "\t<tr><th scope=row>WT_1</th><td> 22.00612</td><td> 23.8428269</td><td> 6.77106068</td><td>-2.9883482</td><td> 0.18081317</td><td>-2.2832441</td><td>-0.6529998</td><td>-1.8659735</td><td>9.929498e-14</td></tr>\n",
       "\t<tr><th scope=row>WT_2</th><td> 22.27299</td><td> 23.2895949</td><td>-1.44834924</td><td> 0.7358578</td><td> 0.04021664</td><td> 1.5730196</td><td>-1.5707610</td><td> 5.4729509</td><td>9.378685e-14</td></tr>\n",
       "\t<tr><th scope=row>WT_3</th><td> 21.12881</td><td> 22.7784833</td><td>-5.38753463</td><td> 2.5493372</td><td>-0.15595403</td><td> 0.7697182</td><td> 2.2500730</td><td>-3.6723558</td><td>9.610836e-14</td></tr>\n",
       "\t<tr><th scope=row>G_1</th><td> 21.66610</td><td>-23.5021859</td><td>-2.38550481</td><td> 1.6622207</td><td> 0.55901579</td><td>-3.3522729</td><td>-4.8387622</td><td>-0.9275346</td><td>9.319661e-14</td></tr>\n",
       "\t<tr><th scope=row>G_2</th><td> 21.24907</td><td>-23.4057645</td><td> 2.47793272</td><td>-0.6724299</td><td> 0.75779440</td><td> 6.2252195</td><td>-0.2086723</td><td>-1.1103989</td><td>9.640983e-14</td></tr>\n",
       "\t<tr><th scope=row>G_3</th><td> 22.01696</td><td>-23.1892224</td><td> 0.09176545</td><td>-0.9144578</td><td>-1.25719087</td><td>-2.8949218</td><td> 5.0700657</td><td> 2.0294617</td><td>1.016595e-13</td></tr>\n",
       "</tbody>\n",
       "</table>\n"
      ],
      "text/latex": [
       "A data.frame: 9 × 9\n",
       "\\begin{tabular}{r|lllllllll}\n",
       "  & PC1 & PC2 & PC3 & PC4 & PC5 & PC6 & PC7 & PC8 & PC9\\\\\n",
       "  & <dbl> & <dbl> & <dbl> & <dbl> & <dbl> & <dbl> & <dbl> & <dbl> & <dbl>\\\\\n",
       "\\hline\n",
       "\tC\\_1 & -41.61522 &   0.1636911 & -2.20000406 & -4.6802805 & -5.55383392 &  0.5923281 & -1.0785956 & -0.3684333 & 8.816760e-14\\\\\n",
       "\tC\\_2 & -43.37940 &   0.1241737 & -1.58162110 & -2.7987116 &  6.58605701 & -0.4458624 &  0.6418912 &  0.2481501 & 1.004786e-13\\\\\n",
       "\tC\\_3 & -45.34542 &  -0.1015971 &  3.66225500 &  7.1068121 & -1.15691820 & -0.1839840 &  0.3877610 &  0.1941333 & 8.879727e-14\\\\\n",
       "\tWT\\_1 &  22.00612 &  23.8428269 &  6.77106068 & -2.9883482 &  0.18081317 & -2.2832441 & -0.6529998 & -1.8659735 & 9.929498e-14\\\\\n",
       "\tWT\\_2 &  22.27299 &  23.2895949 & -1.44834924 &  0.7358578 &  0.04021664 &  1.5730196 & -1.5707610 &  5.4729509 & 9.378685e-14\\\\\n",
       "\tWT\\_3 &  21.12881 &  22.7784833 & -5.38753463 &  2.5493372 & -0.15595403 &  0.7697182 &  2.2500730 & -3.6723558 & 9.610836e-14\\\\\n",
       "\tG\\_1 &  21.66610 & -23.5021859 & -2.38550481 &  1.6622207 &  0.55901579 & -3.3522729 & -4.8387622 & -0.9275346 & 9.319661e-14\\\\\n",
       "\tG\\_2 &  21.24907 & -23.4057645 &  2.47793272 & -0.6724299 &  0.75779440 &  6.2252195 & -0.2086723 & -1.1103989 & 9.640983e-14\\\\\n",
       "\tG\\_3 &  22.01696 & -23.1892224 &  0.09176545 & -0.9144578 & -1.25719087 & -2.8949218 &  5.0700657 &  2.0294617 & 1.016595e-13\\\\\n",
       "\\end{tabular}\n"
      ],
      "text/markdown": [
       "\n",
       "A data.frame: 9 × 9\n",
       "\n",
       "| <!--/--> | PC1 &lt;dbl&gt; | PC2 &lt;dbl&gt; | PC3 &lt;dbl&gt; | PC4 &lt;dbl&gt; | PC5 &lt;dbl&gt; | PC6 &lt;dbl&gt; | PC7 &lt;dbl&gt; | PC8 &lt;dbl&gt; | PC9 &lt;dbl&gt; |\n",
       "|---|---|---|---|---|---|---|---|---|---|\n",
       "| C_1 | -41.61522 |   0.1636911 | -2.20000406 | -4.6802805 | -5.55383392 |  0.5923281 | -1.0785956 | -0.3684333 | 8.816760e-14 |\n",
       "| C_2 | -43.37940 |   0.1241737 | -1.58162110 | -2.7987116 |  6.58605701 | -0.4458624 |  0.6418912 |  0.2481501 | 1.004786e-13 |\n",
       "| C_3 | -45.34542 |  -0.1015971 |  3.66225500 |  7.1068121 | -1.15691820 | -0.1839840 |  0.3877610 |  0.1941333 | 8.879727e-14 |\n",
       "| WT_1 |  22.00612 |  23.8428269 |  6.77106068 | -2.9883482 |  0.18081317 | -2.2832441 | -0.6529998 | -1.8659735 | 9.929498e-14 |\n",
       "| WT_2 |  22.27299 |  23.2895949 | -1.44834924 |  0.7358578 |  0.04021664 |  1.5730196 | -1.5707610 |  5.4729509 | 9.378685e-14 |\n",
       "| WT_3 |  21.12881 |  22.7784833 | -5.38753463 |  2.5493372 | -0.15595403 |  0.7697182 |  2.2500730 | -3.6723558 | 9.610836e-14 |\n",
       "| G_1 |  21.66610 | -23.5021859 | -2.38550481 |  1.6622207 |  0.55901579 | -3.3522729 | -4.8387622 | -0.9275346 | 9.319661e-14 |\n",
       "| G_2 |  21.24907 | -23.4057645 |  2.47793272 | -0.6724299 |  0.75779440 |  6.2252195 | -0.2086723 | -1.1103989 | 9.640983e-14 |\n",
       "| G_3 |  22.01696 | -23.1892224 |  0.09176545 | -0.9144578 | -1.25719087 | -2.8949218 |  5.0700657 |  2.0294617 | 1.016595e-13 |\n",
       "\n"
      ],
      "text/plain": [
       "     PC1       PC2         PC3         PC4        PC5         PC6       \n",
       "C_1  -41.61522   0.1636911 -2.20000406 -4.6802805 -5.55383392  0.5923281\n",
       "C_2  -43.37940   0.1241737 -1.58162110 -2.7987116  6.58605701 -0.4458624\n",
       "C_3  -45.34542  -0.1015971  3.66225500  7.1068121 -1.15691820 -0.1839840\n",
       "WT_1  22.00612  23.8428269  6.77106068 -2.9883482  0.18081317 -2.2832441\n",
       "WT_2  22.27299  23.2895949 -1.44834924  0.7358578  0.04021664  1.5730196\n",
       "WT_3  21.12881  22.7784833 -5.38753463  2.5493372 -0.15595403  0.7697182\n",
       "G_1   21.66610 -23.5021859 -2.38550481  1.6622207  0.55901579 -3.3522729\n",
       "G_2   21.24907 -23.4057645  2.47793272 -0.6724299  0.75779440  6.2252195\n",
       "G_3   22.01696 -23.1892224  0.09176545 -0.9144578 -1.25719087 -2.8949218\n",
       "     PC7        PC8        PC9         \n",
       "C_1  -1.0785956 -0.3684333 8.816760e-14\n",
       "C_2   0.6418912  0.2481501 1.004786e-13\n",
       "C_3   0.3877610  0.1941333 8.879727e-14\n",
       "WT_1 -0.6529998 -1.8659735 9.929498e-14\n",
       "WT_2 -1.5707610  5.4729509 9.378685e-14\n",
       "WT_3  2.2500730 -3.6723558 9.610836e-14\n",
       "G_1  -4.8387622 -0.9275346 9.319661e-14\n",
       "G_2  -0.2086723 -1.1103989 9.640983e-14\n",
       "G_3   5.0700657  2.0294617 1.016595e-13"
      ]
     },
     "metadata": {},
     "output_type": "display_data"
    }
   ],
   "source": [
    "plot_df"
   ]
  },
  {
   "cell_type": "code",
   "execution_count": 12,
   "metadata": {
    "vscode": {
     "languageId": "r"
    }
   },
   "outputs": [],
   "source": [
    "# 计算方差百分比\n",
    "pca_var <- (pca_data$sdev^2 / sum(pca_data$sdev^2))[1:3] * 100\n",
    "\n",
    "# 创建 3D PCA 散点图\n",
    "fig_3d <- plot_ly(\n",
    "  data = plot_df, x = ~PC1, y = ~PC2, z = ~PC3, text = rownames(plot_df), \n",
    "  color = sample_df$Group,\n",
    "  width = 900, height = 600,\n",
    "  marker = list(size = 6, line = list(width = 1, color = 'DarkSlateGray'))\n",
    ") %>%\n",
    "  add_markers() %>%\n",
    "  layout(\n",
    "    scene = list(\n",
    "      xaxis = list(title = paste0('PC1: ', round(pca_var[1], 2), '%')),\n",
    "      yaxis = list(title = paste0('PC2: ', round(pca_var[2], 2), '%')),\n",
    "      zaxis = list(title = paste0('PC3: ', round(pca_var[3], 2), '%')),\n",
    "      aspectmode = 'cube',  # 设置坐标轴比例为立方体\n",
    "      aspectratio = list(x = 1, y = 1, z = 1)  # 设置三个轴的比例都为1\n",
    "    ),\n",
    "    template = \"simple_white\"\n",
    "  )\n",
    "\n",
    "# 将Plotly图转换为JSON\n",
    "json_data <- plotly::plotly_json(fig_3d, jsonedit = FALSE)\n",
    "\n",
    "# 将JSON数据写入文件\n",
    "json_file_path <- \"output-file/pca_3d.json\"  # 指定要保存的文件路径\n",
    "write(json_data, file = json_file_path)"
   ]
  }
 ],
 "metadata": {
  "kernelspec": {
   "display_name": "R",
   "language": "R",
   "name": "ir"
  },
  "language_info": {
   "codemirror_mode": "r",
   "file_extension": ".r",
   "mimetype": "text/x-r-source",
   "name": "R",
   "pygments_lexer": "r",
   "version": "4.3.1"
  }
 },
 "nbformat": 4,
 "nbformat_minor": 2
}
