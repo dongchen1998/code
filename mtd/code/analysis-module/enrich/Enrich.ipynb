{
 "cells": [
  {
   "cell_type": "code",
   "execution_count": 1,
   "metadata": {
    "vscode": {
     "languageId": "r"
    }
   },
   "outputs": [],
   "source": [
    "import pandas as pd\n",
    "import sys\n",
    "import subprocess\n",
    "from subprocess import Popen, PIPE"
   ]
  },
  {
   "cell_type": "code",
   "execution_count": null,
   "metadata": {
    "vscode": {
     "languageId": "r"
    }
   },
   "outputs": [],
   "source": [
    "def kegg_enrichment_analysis():\n",
    "\n",
    "    cmd = \"Rscript go_enrich.R -i ./gene_list_an.txt -o enrich_go.tsv -i {} -o {}\".format(input_fasta, output_fasta)\n",
    "    subprocess.call(cmd, shell=True)\n",
    "    v\n",
    "# # mafft对齐\n",
    "# def mafft(extract_output, mafft_output):\n",
    "#     cmd =  \"mafft --auto {} > {}\".format(extract_output, mafft_output)\n",
    "#     os.system(cmd)"
   ]
  }
 ],
 "metadata": {
  "kernelspec": {
   "display_name": "R",
   "language": "R",
   "name": "ir"
  },
  "language_info": {
   "codemirror_mode": {
    "name": "ipython",
    "version": 3
   },
   "file_extension": ".py",
   "mimetype": "text/x-python",
   "name": "R",
   "nbconvert_exporter": "python",
   "pygments_lexer": "ipython3",
   "version": "3.10.0"
  }
 },
 "nbformat": 4,
 "nbformat_minor": 2
}
