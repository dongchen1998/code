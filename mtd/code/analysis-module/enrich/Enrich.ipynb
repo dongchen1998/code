{
 "cells": [
  {
   "cell_type": "code",
   "execution_count": 2,
   "metadata": {},
   "outputs": [],
   "source": [
    "import pandas as pd\n",
    "import numpy as np\n",
    "\n",
    "import sys\n",
    "import subprocess\n",
    "\n",
    "import plotly.express as px\n",
    "import plotly.graph_objects as go"
   ]
  },
  {
   "cell_type": "code",
   "execution_count": 4,
   "metadata": {},
   "outputs": [],
   "source": [
    "def run_kegg_enrich(input_path, output_path, species, pvalue):\n",
    "    \"\"\"\n",
    "    运行KEGG富集分析R脚本。\n",
    "\n",
    "    Args:\n",
    "        input_path (str): 输入文件的路径。\n",
    "        output_path (str): 输出文件的路径。\n",
    "        species (str): 菌种名称。\n",
    "        pvalue (float): P值阈值。\n",
    "\n",
    "    Returns:\n",
    "        str: R脚本的输出。\n",
    "    \n",
    "    示例: Rscript kegg_enrich.R --input input-file/gene_list.txt --output output-file/enrich_kegg.tsv --species \"Myceliophthora thermophila\" --pvalue 0.05  \n",
    "    \"\"\"\n",
    "    # R脚本的路径\n",
    "    script_path = '/Users/dongjiacheng/Desktop/code/mtd/code/analysis-module/enrich/kegg_enrich.R'\n",
    "\n",
    "    # 构建命令行命令\n",
    "    cmd = [\n",
    "        'Rscript', script_path, \n",
    "        '--input', input_path, \n",
    "        '--output', output_path,\n",
    "        '--species', species, \n",
    "        '--pvalue', str(pvalue), \n",
    "    ]\n",
    "\n",
    "    # 执行R脚本并捕获输出\n",
    "    try:\n",
    "        result = subprocess.run(cmd, check=True, stdout=subprocess.PIPE, stderr=subprocess.PIPE, text=True)\n",
    "        return result.stdout\n",
    "    except subprocess.CalledProcessError as e:\n",
    "        return e.stderr\n",
    "\n",
    "# 示例调用\n",
    "output = run_kegg_enrich(\"input-file/gene_list.txt\", \"output-file/enrich_kegg.tsv\", \"Myceliophthora thermophila\", 0.05)"
   ]
  }
 ],
 "metadata": {
  "kernelspec": {
   "display_name": "code",
   "language": "python",
   "name": "python3"
  },
  "language_info": {
   "codemirror_mode": {
    "name": "ipython",
    "version": 3
   },
   "file_extension": ".py",
   "mimetype": "text/x-python",
   "name": "python",
   "nbconvert_exporter": "python",
   "pygments_lexer": "ipython3",
   "version": "3.10.0"
  }
 },
 "nbformat": 4,
 "nbformat_minor": 2
}
