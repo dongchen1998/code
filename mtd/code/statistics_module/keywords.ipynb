{
 "cells": [
  {
   "cell_type": "code",
   "execution_count": 6,
   "metadata": {},
   "outputs": [
    {
     "data": {
      "application/vnd.plotly.v1+json": {
       "config": {
        "plotlyServerURL": "https://plot.ly"
       },
       "data": [
        {
         "customdata": [
          [
           "Keyword_2000",
           6
          ],
          [
           "Keyword_2001",
           10
          ],
          [
           "Keyword_2002",
           2
          ],
          [
           "Keyword_2003",
           2
          ],
          [
           "Keyword_2004",
           1
          ],
          [
           "Keyword_2005",
           9
          ],
          [
           "Keyword_2006",
           4
          ],
          [
           "Keyword_2007",
           7
          ],
          [
           "Keyword_2008",
           1
          ],
          [
           "Keyword_2009",
           2
          ],
          [
           "Keyword_2010",
           10
          ],
          [
           "Keyword_2011",
           4
          ],
          [
           "Keyword_2012",
           9
          ],
          [
           "Keyword_2013",
           1
          ],
          [
           "Keyword_2014",
           3
          ],
          [
           "Keyword_2015",
           1
          ],
          [
           "Keyword_2016",
           10
          ],
          [
           "Keyword_2017",
           10
          ],
          [
           "Keyword_2018",
           7
          ],
          [
           "Keyword_2019",
           4
          ],
          [
           "Keyword_2020",
           6
          ],
          [
           "Keyword_2021",
           10
          ],
          [
           "Keyword_2022",
           6
          ]
         ],
         "hovertemplate": "<b>%{hovertext}</b><br><br>Publication Years=%{x}<br>Publication Numbers=%{marker.color}<br>Keywords=%{customdata[0]}<br>Numbers=%{customdata[1]}<extra></extra>",
         "hovertext": [
          "Keyword_2000",
          "Keyword_2001",
          "Keyword_2002",
          "Keyword_2003",
          "Keyword_2004",
          "Keyword_2005",
          "Keyword_2006",
          "Keyword_2007",
          "Keyword_2008",
          "Keyword_2009",
          "Keyword_2010",
          "Keyword_2011",
          "Keyword_2012",
          "Keyword_2013",
          "Keyword_2014",
          "Keyword_2015",
          "Keyword_2016",
          "Keyword_2017",
          "Keyword_2018",
          "Keyword_2019",
          "Keyword_2020",
          "Keyword_2021",
          "Keyword_2022"
         ],
         "legendgroup": "",
         "marker": {
          "color": [
           673,
           547,
           653,
           550,
           608,
           796,
           420,
           611,
           790,
           712,
           738,
           755,
           557,
           430,
           488,
           608,
           514,
           424,
           659,
           773,
           601,
           403,
           612
          ],
          "coloraxis": "coloraxis",
          "size": [
           673,
           547,
           653,
           550,
           608,
           796,
           420,
           611,
           790,
           712,
           738,
           755,
           557,
           430,
           488,
           608,
           514,
           424,
           659,
           773,
           601,
           403,
           612
          ],
          "sizemode": "area",
          "sizeref": 1.99,
          "symbol": "circle"
         },
         "mode": "markers",
         "name": "",
         "orientation": "v",
         "showlegend": false,
         "type": "scatter",
         "x": [
          2000,
          2001,
          2002,
          2003,
          2004,
          2005,
          2006,
          2007,
          2008,
          2009,
          2010,
          2011,
          2012,
          2013,
          2014,
          2015,
          2016,
          2017,
          2018,
          2019,
          2020,
          2021,
          2022
         ],
         "xaxis": "x",
         "y": [
          673,
          547,
          653,
          550,
          608,
          796,
          420,
          611,
          790,
          712,
          738,
          755,
          557,
          430,
          488,
          608,
          514,
          424,
          659,
          773,
          601,
          403,
          612
         ],
         "yaxis": "y"
        }
       ],
       "layout": {
        "coloraxis": {
         "colorbar": {
          "title": {
           "text": "Publication Numbers"
          }
         },
         "colorscale": [
          [
           0,
           "rgb(0, 128, 128)"
          ],
          [
           0.16666666666666666,
           "rgb(112, 164, 148)"
          ],
          [
           0.3333333333333333,
           "rgb(180, 200, 168)"
          ],
          [
           0.5,
           "rgb(246, 237, 189)"
          ],
          [
           0.6666666666666666,
           "rgb(237, 187, 138)"
          ],
          [
           0.8333333333333334,
           "rgb(222, 138, 90)"
          ],
          [
           1,
           "rgb(202, 86, 44)"
          ]
         ]
        },
        "height": 600,
        "legend": {
         "itemsizing": "constant",
         "tracegroupgap": 0
        },
        "template": {
         "data": {
          "bar": [
           {
            "error_x": {
             "color": "#2a3f5f"
            },
            "error_y": {
             "color": "#2a3f5f"
            },
            "marker": {
             "line": {
              "color": "white",
              "width": 0.5
             },
             "pattern": {
              "fillmode": "overlay",
              "size": 10,
              "solidity": 0.2
             }
            },
            "type": "bar"
           }
          ],
          "barpolar": [
           {
            "marker": {
             "line": {
              "color": "white",
              "width": 0.5
             },
             "pattern": {
              "fillmode": "overlay",
              "size": 10,
              "solidity": 0.2
             }
            },
            "type": "barpolar"
           }
          ],
          "carpet": [
           {
            "aaxis": {
             "endlinecolor": "#2a3f5f",
             "gridcolor": "#C8D4E3",
             "linecolor": "#C8D4E3",
             "minorgridcolor": "#C8D4E3",
             "startlinecolor": "#2a3f5f"
            },
            "baxis": {
             "endlinecolor": "#2a3f5f",
             "gridcolor": "#C8D4E3",
             "linecolor": "#C8D4E3",
             "minorgridcolor": "#C8D4E3",
             "startlinecolor": "#2a3f5f"
            },
            "type": "carpet"
           }
          ],
          "choropleth": [
           {
            "colorbar": {
             "outlinewidth": 0,
             "ticks": ""
            },
            "type": "choropleth"
           }
          ],
          "contour": [
           {
            "colorbar": {
             "outlinewidth": 0,
             "ticks": ""
            },
            "colorscale": [
             [
              0,
              "#0d0887"
             ],
             [
              0.1111111111111111,
              "#46039f"
             ],
             [
              0.2222222222222222,
              "#7201a8"
             ],
             [
              0.3333333333333333,
              "#9c179e"
             ],
             [
              0.4444444444444444,
              "#bd3786"
             ],
             [
              0.5555555555555556,
              "#d8576b"
             ],
             [
              0.6666666666666666,
              "#ed7953"
             ],
             [
              0.7777777777777778,
              "#fb9f3a"
             ],
             [
              0.8888888888888888,
              "#fdca26"
             ],
             [
              1,
              "#f0f921"
             ]
            ],
            "type": "contour"
           }
          ],
          "contourcarpet": [
           {
            "colorbar": {
             "outlinewidth": 0,
             "ticks": ""
            },
            "type": "contourcarpet"
           }
          ],
          "heatmap": [
           {
            "colorbar": {
             "outlinewidth": 0,
             "ticks": ""
            },
            "colorscale": [
             [
              0,
              "#0d0887"
             ],
             [
              0.1111111111111111,
              "#46039f"
             ],
             [
              0.2222222222222222,
              "#7201a8"
             ],
             [
              0.3333333333333333,
              "#9c179e"
             ],
             [
              0.4444444444444444,
              "#bd3786"
             ],
             [
              0.5555555555555556,
              "#d8576b"
             ],
             [
              0.6666666666666666,
              "#ed7953"
             ],
             [
              0.7777777777777778,
              "#fb9f3a"
             ],
             [
              0.8888888888888888,
              "#fdca26"
             ],
             [
              1,
              "#f0f921"
             ]
            ],
            "type": "heatmap"
           }
          ],
          "heatmapgl": [
           {
            "colorbar": {
             "outlinewidth": 0,
             "ticks": ""
            },
            "colorscale": [
             [
              0,
              "#0d0887"
             ],
             [
              0.1111111111111111,
              "#46039f"
             ],
             [
              0.2222222222222222,
              "#7201a8"
             ],
             [
              0.3333333333333333,
              "#9c179e"
             ],
             [
              0.4444444444444444,
              "#bd3786"
             ],
             [
              0.5555555555555556,
              "#d8576b"
             ],
             [
              0.6666666666666666,
              "#ed7953"
             ],
             [
              0.7777777777777778,
              "#fb9f3a"
             ],
             [
              0.8888888888888888,
              "#fdca26"
             ],
             [
              1,
              "#f0f921"
             ]
            ],
            "type": "heatmapgl"
           }
          ],
          "histogram": [
           {
            "marker": {
             "pattern": {
              "fillmode": "overlay",
              "size": 10,
              "solidity": 0.2
             }
            },
            "type": "histogram"
           }
          ],
          "histogram2d": [
           {
            "colorbar": {
             "outlinewidth": 0,
             "ticks": ""
            },
            "colorscale": [
             [
              0,
              "#0d0887"
             ],
             [
              0.1111111111111111,
              "#46039f"
             ],
             [
              0.2222222222222222,
              "#7201a8"
             ],
             [
              0.3333333333333333,
              "#9c179e"
             ],
             [
              0.4444444444444444,
              "#bd3786"
             ],
             [
              0.5555555555555556,
              "#d8576b"
             ],
             [
              0.6666666666666666,
              "#ed7953"
             ],
             [
              0.7777777777777778,
              "#fb9f3a"
             ],
             [
              0.8888888888888888,
              "#fdca26"
             ],
             [
              1,
              "#f0f921"
             ]
            ],
            "type": "histogram2d"
           }
          ],
          "histogram2dcontour": [
           {
            "colorbar": {
             "outlinewidth": 0,
             "ticks": ""
            },
            "colorscale": [
             [
              0,
              "#0d0887"
             ],
             [
              0.1111111111111111,
              "#46039f"
             ],
             [
              0.2222222222222222,
              "#7201a8"
             ],
             [
              0.3333333333333333,
              "#9c179e"
             ],
             [
              0.4444444444444444,
              "#bd3786"
             ],
             [
              0.5555555555555556,
              "#d8576b"
             ],
             [
              0.6666666666666666,
              "#ed7953"
             ],
             [
              0.7777777777777778,
              "#fb9f3a"
             ],
             [
              0.8888888888888888,
              "#fdca26"
             ],
             [
              1,
              "#f0f921"
             ]
            ],
            "type": "histogram2dcontour"
           }
          ],
          "mesh3d": [
           {
            "colorbar": {
             "outlinewidth": 0,
             "ticks": ""
            },
            "type": "mesh3d"
           }
          ],
          "parcoords": [
           {
            "line": {
             "colorbar": {
              "outlinewidth": 0,
              "ticks": ""
             }
            },
            "type": "parcoords"
           }
          ],
          "pie": [
           {
            "automargin": true,
            "type": "pie"
           }
          ],
          "scatter": [
           {
            "fillpattern": {
             "fillmode": "overlay",
             "size": 10,
             "solidity": 0.2
            },
            "type": "scatter"
           }
          ],
          "scatter3d": [
           {
            "line": {
             "colorbar": {
              "outlinewidth": 0,
              "ticks": ""
             }
            },
            "marker": {
             "colorbar": {
              "outlinewidth": 0,
              "ticks": ""
             }
            },
            "type": "scatter3d"
           }
          ],
          "scattercarpet": [
           {
            "marker": {
             "colorbar": {
              "outlinewidth": 0,
              "ticks": ""
             }
            },
            "type": "scattercarpet"
           }
          ],
          "scattergeo": [
           {
            "marker": {
             "colorbar": {
              "outlinewidth": 0,
              "ticks": ""
             }
            },
            "type": "scattergeo"
           }
          ],
          "scattergl": [
           {
            "marker": {
             "colorbar": {
              "outlinewidth": 0,
              "ticks": ""
             }
            },
            "type": "scattergl"
           }
          ],
          "scattermapbox": [
           {
            "marker": {
             "colorbar": {
              "outlinewidth": 0,
              "ticks": ""
             }
            },
            "type": "scattermapbox"
           }
          ],
          "scatterpolar": [
           {
            "marker": {
             "colorbar": {
              "outlinewidth": 0,
              "ticks": ""
             }
            },
            "type": "scatterpolar"
           }
          ],
          "scatterpolargl": [
           {
            "marker": {
             "colorbar": {
              "outlinewidth": 0,
              "ticks": ""
             }
            },
            "type": "scatterpolargl"
           }
          ],
          "scatterternary": [
           {
            "marker": {
             "colorbar": {
              "outlinewidth": 0,
              "ticks": ""
             }
            },
            "type": "scatterternary"
           }
          ],
          "surface": [
           {
            "colorbar": {
             "outlinewidth": 0,
             "ticks": ""
            },
            "colorscale": [
             [
              0,
              "#0d0887"
             ],
             [
              0.1111111111111111,
              "#46039f"
             ],
             [
              0.2222222222222222,
              "#7201a8"
             ],
             [
              0.3333333333333333,
              "#9c179e"
             ],
             [
              0.4444444444444444,
              "#bd3786"
             ],
             [
              0.5555555555555556,
              "#d8576b"
             ],
             [
              0.6666666666666666,
              "#ed7953"
             ],
             [
              0.7777777777777778,
              "#fb9f3a"
             ],
             [
              0.8888888888888888,
              "#fdca26"
             ],
             [
              1,
              "#f0f921"
             ]
            ],
            "type": "surface"
           }
          ],
          "table": [
           {
            "cells": {
             "fill": {
              "color": "#EBF0F8"
             },
             "line": {
              "color": "white"
             }
            },
            "header": {
             "fill": {
              "color": "#C8D4E3"
             },
             "line": {
              "color": "white"
             }
            },
            "type": "table"
           }
          ]
         },
         "layout": {
          "annotationdefaults": {
           "arrowcolor": "#2a3f5f",
           "arrowhead": 0,
           "arrowwidth": 1
          },
          "autotypenumbers": "strict",
          "coloraxis": {
           "colorbar": {
            "outlinewidth": 0,
            "ticks": ""
           }
          },
          "colorscale": {
           "diverging": [
            [
             0,
             "#8e0152"
            ],
            [
             0.1,
             "#c51b7d"
            ],
            [
             0.2,
             "#de77ae"
            ],
            [
             0.3,
             "#f1b6da"
            ],
            [
             0.4,
             "#fde0ef"
            ],
            [
             0.5,
             "#f7f7f7"
            ],
            [
             0.6,
             "#e6f5d0"
            ],
            [
             0.7,
             "#b8e186"
            ],
            [
             0.8,
             "#7fbc41"
            ],
            [
             0.9,
             "#4d9221"
            ],
            [
             1,
             "#276419"
            ]
           ],
           "sequential": [
            [
             0,
             "#0d0887"
            ],
            [
             0.1111111111111111,
             "#46039f"
            ],
            [
             0.2222222222222222,
             "#7201a8"
            ],
            [
             0.3333333333333333,
             "#9c179e"
            ],
            [
             0.4444444444444444,
             "#bd3786"
            ],
            [
             0.5555555555555556,
             "#d8576b"
            ],
            [
             0.6666666666666666,
             "#ed7953"
            ],
            [
             0.7777777777777778,
             "#fb9f3a"
            ],
            [
             0.8888888888888888,
             "#fdca26"
            ],
            [
             1,
             "#f0f921"
            ]
           ],
           "sequentialminus": [
            [
             0,
             "#0d0887"
            ],
            [
             0.1111111111111111,
             "#46039f"
            ],
            [
             0.2222222222222222,
             "#7201a8"
            ],
            [
             0.3333333333333333,
             "#9c179e"
            ],
            [
             0.4444444444444444,
             "#bd3786"
            ],
            [
             0.5555555555555556,
             "#d8576b"
            ],
            [
             0.6666666666666666,
             "#ed7953"
            ],
            [
             0.7777777777777778,
             "#fb9f3a"
            ],
            [
             0.8888888888888888,
             "#fdca26"
            ],
            [
             1,
             "#f0f921"
            ]
           ]
          },
          "colorway": [
           "#636efa",
           "#EF553B",
           "#00cc96",
           "#ab63fa",
           "#FFA15A",
           "#19d3f3",
           "#FF6692",
           "#B6E880",
           "#FF97FF",
           "#FECB52"
          ],
          "font": {
           "color": "#2a3f5f"
          },
          "geo": {
           "bgcolor": "white",
           "lakecolor": "white",
           "landcolor": "white",
           "showlakes": true,
           "showland": true,
           "subunitcolor": "#C8D4E3"
          },
          "hoverlabel": {
           "align": "left"
          },
          "hovermode": "closest",
          "mapbox": {
           "style": "light"
          },
          "paper_bgcolor": "white",
          "plot_bgcolor": "white",
          "polar": {
           "angularaxis": {
            "gridcolor": "#EBF0F8",
            "linecolor": "#EBF0F8",
            "ticks": ""
           },
           "bgcolor": "white",
           "radialaxis": {
            "gridcolor": "#EBF0F8",
            "linecolor": "#EBF0F8",
            "ticks": ""
           }
          },
          "scene": {
           "xaxis": {
            "backgroundcolor": "white",
            "gridcolor": "#DFE8F3",
            "gridwidth": 2,
            "linecolor": "#EBF0F8",
            "showbackground": true,
            "ticks": "",
            "zerolinecolor": "#EBF0F8"
           },
           "yaxis": {
            "backgroundcolor": "white",
            "gridcolor": "#DFE8F3",
            "gridwidth": 2,
            "linecolor": "#EBF0F8",
            "showbackground": true,
            "ticks": "",
            "zerolinecolor": "#EBF0F8"
           },
           "zaxis": {
            "backgroundcolor": "white",
            "gridcolor": "#DFE8F3",
            "gridwidth": 2,
            "linecolor": "#EBF0F8",
            "showbackground": true,
            "ticks": "",
            "zerolinecolor": "#EBF0F8"
           }
          },
          "shapedefaults": {
           "line": {
            "color": "#2a3f5f"
           }
          },
          "ternary": {
           "aaxis": {
            "gridcolor": "#DFE8F3",
            "linecolor": "#A2B1C6",
            "ticks": ""
           },
           "baxis": {
            "gridcolor": "#DFE8F3",
            "linecolor": "#A2B1C6",
            "ticks": ""
           },
           "bgcolor": "white",
           "caxis": {
            "gridcolor": "#DFE8F3",
            "linecolor": "#A2B1C6",
            "ticks": ""
           }
          },
          "title": {
           "x": 0.05
          },
          "xaxis": {
           "automargin": true,
           "gridcolor": "#EBF0F8",
           "linecolor": "#EBF0F8",
           "ticks": "",
           "title": {
            "standoff": 15
           },
           "zerolinecolor": "#EBF0F8",
           "zerolinewidth": 2
          },
          "yaxis": {
           "automargin": true,
           "gridcolor": "#EBF0F8",
           "linecolor": "#EBF0F8",
           "ticks": "",
           "title": {
            "standoff": 15
           },
           "zerolinecolor": "#EBF0F8",
           "zerolinewidth": 2
          }
         }
        },
        "title": {
         "text": "Publication Numbers of Ciliopathy Related Genes (2000-2022)"
        },
        "width": 1000,
        "xaxis": {
         "anchor": "y",
         "domain": [
          0,
          1
         ],
         "title": {
          "text": "Publication Years"
         }
        },
        "yaxis": {
         "anchor": "x",
         "domain": [
          0,
          1
         ],
         "title": {
          "text": "Publication Numbers"
         }
        }
       }
      }
     },
     "metadata": {},
     "output_type": "display_data"
    }
   ],
   "source": [
    "import plotly.express as px\n",
    "import pandas as pd\n",
    "import random\n",
    "\n",
    "# 生成测试数据\n",
    "years = list(range(2000, 2023))\n",
    "publications = [random.randint(400, 800) for _ in years]\n",
    "keywords = [f\"Keyword_{year}\" for year in years]\n",
    "numbers = [random.randint(1, 10) for _ in years]\n",
    "\n",
    "data = {'Year': years, 'Publications': publications, 'Keywords': keywords, 'Numbers': numbers}\n",
    "\n",
    "df = pd.DataFrame(data)\n",
    "\n",
    "# 使用plotly进行绘图\n",
    "fig = px.scatter(df, \n",
    "                 x='Year', \n",
    "                 y='Publications', \n",
    "                 size='Publications',\n",
    "                 color='Publications',\n",
    "                 hover_name='Keywords',\n",
    "                 hover_data=['Keywords', 'Numbers'],  # 添加了Keywords和Numbers到悬浮数据中\n",
    "                 size_max=20,\n",
    "                 title='Publication Numbers of Ciliopathy Related Genes (2000-2022)',\n",
    "                 labels={\"Publications\": \"Publication Numbers\", \"Year\": \"Publication Years\"},\n",
    "                 color_continuous_scale=\"Geyser\",  # _r表示颜色反转\n",
    "                #  color_continuous_scale=px.colors.sequential.Viridis\n",
    "                 )\n",
    "\n",
    "fig.update_layout(\n",
    "    # font=dict(family=\"Arial\", size=14),\n",
    "    template=\"plotly_white\",\n",
    "    # template=\"simple_white\",\n",
    "    width=1000,  # 图表宽度\n",
    "    height=600,  # 图表高度\n",
    ")\n",
    "\n",
    "# fig.update_traces(marker_symbol='diamond')\n",
    "\n",
    "# 显示图表\n",
    "fig.show()"
   ]
  },
  {
   "cell_type": "markdown",
   "metadata": {},
   "source": [
    "marker_symbol 参数可以设置不同的标记形状,主要有以下几种:\n",
    "\n",
    "'circle' - 默认的圆形标记\n",
    "'square' - 正方形标记\n",
    "'diamond' - 菱形标记\n",
    "'cross' - 十字标记\n",
    "'x' - X形标记\n",
    "'triangle-up' - 向上三角形标记\n",
    "'triangle-down' - 向下三角形标记\n",
    "'triangle-left' - 左向三角形标记\n",
    "'triangle-right' - 右向三角形标记\n",
    "'pentagon' - 五边形标记\n",
    "'hexagon' - 六边形标记\n",
    "'hexagon2' - 六边形标记的另一种样式\n",
    "'octagon' - 八边形标记\n",
    "'star' - 星形标记\n",
    "'line' - 线条标记\n",
    "'dash' - 短线条标记\n",
    "'dot' - 圆点标记\n",
    "'circle-open' - 空心圆标记\n",
    "'circle-dot' - 圆环点标记\n",
    "'square-open' - 空心方块标记\n",
    "'square-dot' - 带圆点的方块标记"
   ]
  },
  {
   "cell_type": "code",
   "execution_count": 3,
   "metadata": {},
   "outputs": [
    {
     "data": {
      "application/vnd.plotly.v1+json": {
       "config": {
        "plotlyServerURL": "https://plot.ly"
       },
       "data": [
        {
         "customdata": [
          [
           2015,
           1
          ],
          [
           2020,
           1
          ],
          [
           2018,
           1
          ],
          [
           2021,
           1
          ],
          [
           2022,
           1
          ],
          [
           2023,
           1
          ],
          [
           2017,
           1
          ],
          [
           2022,
           1
          ],
          [
           2017,
           1
          ],
          [
           2014,
           1
          ],
          [
           2021,
           1
          ],
          [
           2022,
           1
          ],
          [
           2019,
           1
          ],
          [
           2017,
           1
          ],
          [
           2019,
           1
          ],
          [
           2018,
           1
          ],
          [
           2022,
           1
          ],
          [
           2021,
           1
          ],
          [
           2022,
           1
          ],
          [
           2023,
           1
          ],
          [
           2022,
           1
          ],
          [
           2014,
           1
          ],
          [
           2017,
           1
          ],
          [
           2022,
           1
          ],
          [
           2019,
           1
          ],
          [
           2023,
           1
          ],
          [
           2018,
           1
          ],
          [
           2023,
           1
          ],
          [
           2014,
           1
          ],
          [
           2017,
           1
          ],
          [
           2017,
           1
          ],
          [
           2020,
           1
          ],
          [
           2022,
           1
          ],
          [
           2017,
           1
          ],
          [
           2017,
           1
          ],
          [
           2018,
           1
          ],
          [
           2023,
           1
          ],
          [
           2022,
           1
          ],
          [
           2018,
           1
          ],
          [
           2018,
           1
          ],
          [
           2022,
           1
          ],
          [
           2017,
           1
          ],
          [
           2018,
           1
          ],
          [
           2014,
           1
          ],
          [
           2017,
           2
          ],
          [
           2016,
           1
          ],
          [
           2020,
           1
          ],
          [
           2017,
           1
          ],
          [
           2014,
           1
          ],
          [
           2017,
           1
          ],
          [
           2020,
           1
          ],
          [
           2021,
           1
          ],
          [
           2022,
           1
          ],
          [
           2016,
           1
          ],
          [
           2020,
           1
          ],
          [
           2023,
           1
          ],
          [
           2014,
           1
          ],
          [
           2016,
           1
          ],
          [
           2021,
           1
          ],
          [
           2015,
           1
          ],
          [
           2016,
           1
          ],
          [
           2017,
           1
          ],
          [
           2020,
           1
          ],
          [
           2016,
           1
          ],
          [
           2017,
           1
          ],
          [
           2016,
           1
          ],
          [
           2015,
           1
          ],
          [
           2016,
           1
          ],
          [
           2016,
           1
          ],
          [
           2017,
           1
          ],
          [
           2014,
           1
          ],
          [
           2015,
           1
          ],
          [
           2016,
           1
          ],
          [
           2021,
           1
          ],
          [
           2021,
           1
          ],
          [
           2021,
           1
          ],
          [
           2019,
           1
          ],
          [
           2017,
           1
          ],
          [
           2018,
           1
          ],
          [
           2019,
           1
          ],
          [
           2019,
           1
          ],
          [
           2020,
           1
          ],
          [
           2022,
           1
          ],
          [
           2012,
           1
          ],
          [
           2014,
           1
          ],
          [
           2015,
           1
          ],
          [
           2018,
           1
          ],
          [
           2019,
           1
          ],
          [
           2021,
           1
          ],
          [
           2022,
           2
          ],
          [
           2023,
           2
          ],
          [
           2022,
           1
          ],
          [
           2013,
           1
          ],
          [
           2017,
           1
          ],
          [
           2019,
           1
          ],
          [
           2020,
           1
          ],
          [
           2022,
           1
          ],
          [
           2017,
           1
          ],
          [
           2015,
           1
          ],
          [
           2018,
           1
          ],
          [
           2019,
           1
          ],
          [
           2020,
           1
          ],
          [
           2021,
           1
          ],
          [
           2016,
           1
          ],
          [
           2019,
           1
          ],
          [
           2022,
           1
          ],
          [
           2016,
           1
          ],
          [
           2017,
           1
          ],
          [
           2016,
           1
          ],
          [
           2021,
           1
          ],
          [
           2023,
           1
          ],
          [
           2023,
           1
          ],
          [
           2017,
           1
          ],
          [
           2016,
           1
          ],
          [
           2023,
           1
          ],
          [
           2010,
           1
          ],
          [
           2018,
           2
          ],
          [
           2018,
           1
          ],
          [
           2018,
           2
          ],
          [
           2022,
           1
          ],
          [
           2018,
           1
          ],
          [
           2013,
           1
          ],
          [
           2015,
           1
          ],
          [
           2017,
           1
          ],
          [
           2021,
           1
          ],
          [
           2018,
           1
          ],
          [
           2017,
           1
          ],
          [
           2017,
           1
          ],
          [
           2015,
           1
          ],
          [
           2018,
           1
          ],
          [
           2013,
           1
          ],
          [
           2020,
           1
          ],
          [
           2017,
           1
          ],
          [
           2019,
           1
          ],
          [
           2019,
           1
          ],
          [
           2020,
           1
          ],
          [
           2021,
           1
          ],
          [
           2018,
           1
          ],
          [
           2023,
           1
          ],
          [
           2019,
           1
          ],
          [
           2021,
           1
          ],
          [
           2016,
           1
          ],
          [
           2018,
           1
          ],
          [
           2021,
           1
          ],
          [
           2017,
           1
          ],
          [
           2022,
           1
          ],
          [
           2014,
           1
          ],
          [
           2021,
           1
          ],
          [
           2018,
           3
          ],
          [
           2021,
           1
          ],
          [
           2021,
           1
          ],
          [
           2013,
           1
          ],
          [
           2022,
           1
          ],
          [
           2021,
           1
          ],
          [
           2015,
           1
          ],
          [
           2023,
           1
          ],
          [
           2020,
           1
          ],
          [
           2018,
           1
          ],
          [
           2023,
           1
          ],
          [
           2022,
           1
          ],
          [
           2017,
           1
          ],
          [
           2015,
           1
          ],
          [
           2022,
           1
          ],
          [
           2014,
           1
          ],
          [
           2022,
           1
          ],
          [
           2023,
           1
          ],
          [
           2016,
           1
          ],
          [
           2019,
           1
          ],
          [
           2017,
           1
          ],
          [
           2018,
           1
          ],
          [
           2015,
           1
          ],
          [
           2017,
           1
          ],
          [
           2019,
           1
          ],
          [
           2021,
           1
          ],
          [
           2014,
           1
          ],
          [
           2017,
           3
          ],
          [
           2019,
           1
          ],
          [
           2016,
           1
          ],
          [
           2014,
           1
          ],
          [
           2022,
           1
          ],
          [
           2015,
           1
          ],
          [
           2016,
           1
          ],
          [
           2017,
           1
          ],
          [
           2017,
           1
          ],
          [
           2020,
           1
          ],
          [
           2019,
           1
          ],
          [
           2020,
           1
          ],
          [
           2013,
           1
          ],
          [
           2023,
           1
          ],
          [
           2021,
           1
          ],
          [
           2017,
           1
          ],
          [
           2016,
           2
          ],
          [
           2018,
           1
          ],
          [
           2016,
           1
          ],
          [
           2019,
           1
          ],
          [
           2021,
           2
          ],
          [
           2023,
           1
          ],
          [
           2020,
           1
          ],
          [
           2017,
           1
          ],
          [
           2022,
           1
          ],
          [
           2019,
           1
          ],
          [
           2017,
           1
          ],
          [
           2016,
           1
          ],
          [
           2020,
           1
          ],
          [
           2020,
           1
          ],
          [
           2013,
           1
          ],
          [
           2014,
           1
          ],
          [
           2023,
           1
          ],
          [
           2018,
           1
          ],
          [
           2016,
           1
          ],
          [
           2018,
           1
          ],
          [
           2018,
           1
          ],
          [
           2021,
           1
          ],
          [
           2014,
           1
          ],
          [
           2017,
           1
          ],
          [
           2021,
           1
          ],
          [
           2022,
           1
          ],
          [
           2017,
           1
          ],
          [
           2018,
           1
          ],
          [
           2017,
           1
          ],
          [
           2019,
           2
          ],
          [
           2020,
           1
          ],
          [
           2022,
           3
          ],
          [
           2023,
           1
          ],
          [
           2020,
           1
          ],
          [
           2021,
           1
          ],
          [
           2016,
           1
          ],
          [
           2022,
           1
          ],
          [
           2021,
           1
          ],
          [
           2019,
           1
          ],
          [
           2021,
           1
          ],
          [
           2020,
           1
          ],
          [
           2013,
           1
          ],
          [
           2018,
           1
          ],
          [
           2016,
           1
          ],
          [
           2022,
           1
          ],
          [
           2017,
           1
          ],
          [
           2021,
           1
          ],
          [
           2021,
           1
          ],
          [
           2021,
           1
          ],
          [
           2016,
           1
          ],
          [
           2023,
           1
          ],
          [
           2023,
           1
          ],
          [
           2021,
           1
          ],
          [
           2021,
           1
          ],
          [
           2016,
           1
          ],
          [
           2020,
           1
          ],
          [
           2018,
           1
          ],
          [
           2023,
           1
          ],
          [
           2019,
           2
          ],
          [
           2016,
           1
          ],
          [
           2015,
           1
          ],
          [
           2022,
           1
          ],
          [
           2022,
           1
          ],
          [
           2023,
           1
          ],
          [
           2013,
           1
          ],
          [
           2021,
           1
          ],
          [
           2019,
           1
          ],
          [
           2022,
           1
          ],
          [
           2015,
           1
          ],
          [
           2022,
           1
          ],
          [
           2022,
           1
          ],
          [
           2021,
           1
          ],
          [
           2022,
           1
          ],
          [
           2019,
           1
          ],
          [
           2022,
           1
          ],
          [
           2023,
           1
          ],
          [
           2016,
           1
          ],
          [
           2021,
           1
          ],
          [
           2022,
           1
          ],
          [
           2021,
           1
          ],
          [
           2018,
           1
          ],
          [
           2023,
           1
          ],
          [
           2022,
           1
          ],
          [
           2015,
           1
          ],
          [
           2019,
           1
          ],
          [
           2021,
           1
          ],
          [
           2022,
           1
          ],
          [
           2018,
           1
          ],
          [
           2013,
           1
          ],
          [
           2021,
           1
          ],
          [
           2017,
           1
          ],
          [
           2015,
           1
          ],
          [
           2016,
           1
          ],
          [
           2021,
           1
          ],
          [
           2016,
           1
          ],
          [
           2021,
           1
          ],
          [
           2017,
           1
          ],
          [
           2019,
           1
          ],
          [
           2021,
           1
          ],
          [
           2022,
           1
          ],
          [
           2010,
           1
          ],
          [
           2014,
           1
          ],
          [
           2018,
           1
          ],
          [
           2021,
           1
          ],
          [
           2021,
           1
          ],
          [
           2020,
           1
          ],
          [
           2018,
           1
          ],
          [
           2016,
           1
          ],
          [
           2022,
           1
          ],
          [
           2022,
           1
          ],
          [
           2022,
           1
          ],
          [
           2022,
           1
          ],
          [
           2023,
           1
          ],
          [
           2014,
           1
          ],
          [
           2022,
           1
          ],
          [
           2018,
           1
          ],
          [
           2016,
           1
          ],
          [
           2021,
           1
          ],
          [
           2021,
           1
          ],
          [
           2018,
           1
          ],
          [
           2022,
           1
          ],
          [
           2023,
           1
          ],
          [
           2010,
           1
          ],
          [
           2014,
           2
          ],
          [
           2016,
           4
          ],
          [
           2017,
           1
          ],
          [
           2018,
           8
          ],
          [
           2020,
           1
          ],
          [
           2021,
           4
          ],
          [
           2022,
           1
          ],
          [
           2023,
           1
          ],
          [
           2017,
           1
          ],
          [
           2018,
           1
          ],
          [
           2023,
           1
          ],
          [
           2018,
           1
          ],
          [
           2016,
           3
          ],
          [
           2022,
           1
          ],
          [
           2022,
           1
          ],
          [
           2014,
           1
          ],
          [
           2021,
           1
          ],
          [
           2016,
           1
          ],
          [
           2017,
           2
          ],
          [
           2018,
           1
          ],
          [
           2022,
           1
          ],
          [
           2017,
           2
          ],
          [
           2020,
           1
          ],
          [
           2021,
           1
          ],
          [
           2021,
           1
          ],
          [
           2021,
           1
          ],
          [
           2021,
           1
          ],
          [
           2015,
           1
          ],
          [
           2017,
           2
          ],
          [
           2020,
           1
          ],
          [
           2023,
           1
          ],
          [
           2021,
           1
          ],
          [
           2022,
           1
          ],
          [
           2021,
           1
          ],
          [
           2017,
           2
          ],
          [
           2018,
           1
          ],
          [
           2019,
           1
          ],
          [
           2020,
           1
          ],
          [
           2021,
           1
          ],
          [
           2022,
           1
          ],
          [
           2023,
           1
          ],
          [
           2013,
           1
          ],
          [
           2023,
           1
          ],
          [
           2017,
           1
          ],
          [
           2019,
           1
          ],
          [
           2021,
           1
          ],
          [
           2022,
           1
          ],
          [
           2019,
           1
          ],
          [
           2019,
           1
          ],
          [
           2022,
           1
          ],
          [
           2014,
           1
          ],
          [
           2022,
           1
          ],
          [
           2022,
           1
          ],
          [
           2022,
           1
          ],
          [
           2021,
           1
          ],
          [
           2015,
           1
          ],
          [
           2010,
           1
          ],
          [
           2018,
           1
          ],
          [
           2019,
           1
          ],
          [
           2020,
           1
          ],
          [
           2021,
           2
          ],
          [
           2022,
           2
          ],
          [
           2022,
           1
          ],
          [
           2020,
           1
          ],
          [
           2019,
           1
          ],
          [
           2020,
           1
          ],
          [
           2016,
           1
          ],
          [
           2015,
           1
          ],
          [
           2017,
           1
          ],
          [
           2021,
           1
          ],
          [
           2015,
           1
          ],
          [
           2021,
           1
          ],
          [
           2022,
           2
          ],
          [
           2020,
           1
          ],
          [
           2023,
           1
          ],
          [
           2018,
           1
          ],
          [
           2015,
           1
          ],
          [
           2017,
           1
          ],
          [
           2020,
           1
          ],
          [
           2019,
           1
          ],
          [
           2017,
           1
          ],
          [
           2017,
           1
          ],
          [
           2021,
           2
          ],
          [
           2023,
           2
          ],
          [
           2013,
           2
          ],
          [
           2014,
           2
          ],
          [
           2015,
           3
          ],
          [
           2016,
           4
          ],
          [
           2017,
           8
          ],
          [
           2018,
           7
          ],
          [
           2019,
           5
          ],
          [
           2020,
           5
          ],
          [
           2021,
           2
          ],
          [
           2022,
           9
          ],
          [
           2023,
           2
          ],
          [
           2020,
           1
          ],
          [
           2018,
           1
          ],
          [
           2014,
           1
          ],
          [
           2022,
           1
          ],
          [
           2014,
           1
          ],
          [
           2021,
           1
          ],
          [
           2021,
           1
          ],
          [
           2021,
           1
          ],
          [
           2022,
           1
          ],
          [
           2013,
           1
          ],
          [
           2021,
           1
          ],
          [
           2017,
           1
          ],
          [
           2017,
           1
          ],
          [
           2016,
           1
          ],
          [
           2013,
           1
          ],
          [
           2022,
           1
          ],
          [
           2016,
           1
          ],
          [
           2018,
           1
          ],
          [
           2017,
           1
          ],
          [
           2018,
           1
          ],
          [
           2021,
           1
          ],
          [
           2022,
           1
          ],
          [
           2017,
           1
          ],
          [
           2013,
           1
          ],
          [
           2019,
           1
          ],
          [
           2016,
           1
          ],
          [
           2021,
           1
          ],
          [
           2020,
           1
          ],
          [
           2022,
           1
          ],
          [
           2018,
           1
          ],
          [
           2014,
           1
          ],
          [
           2017,
           1
          ],
          [
           2017,
           1
          ],
          [
           2015,
           1
          ],
          [
           2019,
           1
          ],
          [
           2018,
           1
          ],
          [
           2021,
           1
          ],
          [
           2018,
           1
          ],
          [
           2016,
           1
          ],
          [
           2018,
           1
          ],
          [
           2017,
           1
          ],
          [
           2017,
           1
          ],
          [
           2013,
           1
          ],
          [
           2015,
           1
          ],
          [
           2016,
           1
          ],
          [
           2017,
           2
          ],
          [
           2018,
           1
          ],
          [
           2019,
           1
          ],
          [
           2021,
           1
          ],
          [
           2018,
           1
          ],
          [
           2014,
           1
          ],
          [
           2018,
           1
          ],
          [
           2021,
           1
          ],
          [
           2020,
           1
          ],
          [
           2018,
           1
          ],
          [
           2015,
           1
          ],
          [
           2016,
           1
          ],
          [
           2017,
           1
          ],
          [
           2018,
           1
          ],
          [
           2023,
           1
          ],
          [
           2017,
           1
          ],
          [
           2021,
           1
          ],
          [
           2019,
           1
          ],
          [
           2019,
           1
          ],
          [
           2014,
           1
          ],
          [
           2023,
           1
          ],
          [
           2021,
           1
          ],
          [
           2017,
           1
          ],
          [
           2022,
           1
          ],
          [
           2017,
           1
          ],
          [
           2021,
           1
          ],
          [
           2021,
           1
          ],
          [
           2015,
           1
          ],
          [
           2020,
           1
          ],
          [
           2021,
           1
          ],
          [
           2017,
           2
          ],
          [
           2020,
           2
          ],
          [
           2021,
           1
          ],
          [
           2014,
           1
          ],
          [
           2016,
           1
          ],
          [
           2019,
           1
          ],
          [
           2020,
           1
          ],
          [
           2015,
           1
          ],
          [
           2021,
           2
          ],
          [
           2016,
           1
          ],
          [
           2021,
           1
          ],
          [
           2016,
           1
          ],
          [
           2022,
           1
          ],
          [
           2020,
           1
          ],
          [
           2017,
           1
          ],
          [
           2022,
           1
          ],
          [
           2021,
           1
          ],
          [
           2022,
           1
          ],
          [
           2022,
           1
          ],
          [
           2022,
           1
          ],
          [
           2013,
           1
          ],
          [
           2018,
           1
          ],
          [
           2022,
           1
          ],
          [
           2018,
           1
          ],
          [
           2013,
           1
          ],
          [
           2020,
           1
          ],
          [
           2023,
           1
          ],
          [
           2019,
           1
          ],
          [
           2022,
           1
          ],
          [
           2015,
           1
          ],
          [
           2016,
           1
          ],
          [
           2018,
           1
          ],
          [
           2019,
           1
          ],
          [
           2018,
           1
          ],
          [
           2019,
           1
          ],
          [
           2023,
           1
          ],
          [
           2018,
           1
          ],
          [
           2023,
           1
          ],
          [
           2016,
           1
          ],
          [
           2023,
           1
          ],
          [
           2016,
           1
          ],
          [
           2021,
           1
          ],
          [
           2023,
           1
          ],
          [
           2021,
           1
          ],
          [
           2014,
           1
          ],
          [
           2021,
           1
          ],
          [
           2017,
           1
          ],
          [
           2017,
           1
          ],
          [
           2016,
           1
          ],
          [
           2017,
           1
          ],
          [
           2010,
           1
          ],
          [
           2014,
           1
          ],
          [
           2022,
           1
          ],
          [
           2018,
           1
          ],
          [
           2019,
           1
          ],
          [
           2020,
           1
          ],
          [
           2022,
           1
          ],
          [
           2020,
           1
          ],
          [
           2014,
           1
          ],
          [
           2016,
           1
          ],
          [
           2019,
           1
          ],
          [
           2020,
           1
          ],
          [
           2023,
           1
          ],
          [
           2016,
           1
          ],
          [
           2022,
           1
          ],
          [
           2017,
           1
          ],
          [
           2016,
           1
          ],
          [
           2019,
           1
          ],
          [
           2022,
           1
          ],
          [
           2016,
           1
          ],
          [
           2017,
           1
          ],
          [
           2015,
           1
          ],
          [
           2021,
           1
          ],
          [
           2022,
           1
          ],
          [
           2018,
           1
          ],
          [
           2018,
           2
          ],
          [
           2023,
           1
          ],
          [
           2013,
           1
          ],
          [
           2012,
           1
          ],
          [
           2015,
           1
          ],
          [
           2017,
           1
          ],
          [
           2019,
           1
          ],
          [
           2021,
           1
          ],
          [
           2022,
           2
          ],
          [
           2016,
           1
          ],
          [
           2017,
           1
          ],
          [
           2015,
           2
          ],
          [
           2017,
           1
          ],
          [
           2020,
           1
          ],
          [
           2021,
           1
          ],
          [
           2022,
           1
          ],
          [
           2023,
           1
          ],
          [
           2023,
           1
          ],
          [
           2021,
           1
          ],
          [
           2016,
           1
          ],
          [
           2022,
           1
          ],
          [
           2019,
           1
          ],
          [
           2020,
           1
          ],
          [
           2021,
           1
          ],
          [
           2023,
           1
          ],
          [
           2019,
           2
          ],
          [
           2020,
           1
          ],
          [
           2021,
           1
          ],
          [
           2016,
           1
          ],
          [
           2023,
           1
          ],
          [
           2020,
           1
          ],
          [
           2017,
           1
          ],
          [
           2015,
           1
          ],
          [
           2018,
           1
          ],
          [
           2022,
           1
          ],
          [
           2018,
           1
          ],
          [
           2023,
           1
          ],
          [
           2018,
           1
          ],
          [
           2022,
           1
          ],
          [
           2018,
           1
          ],
          [
           2021,
           1
          ],
          [
           2022,
           1
          ],
          [
           2017,
           1
          ],
          [
           2013,
           1
          ],
          [
           2021,
           1
          ],
          [
           2020,
           1
          ],
          [
           2017,
           2
          ],
          [
           2020,
           1
          ],
          [
           2022,
           1
          ],
          [
           2015,
           1
          ],
          [
           2017,
           1
          ],
          [
           2021,
           1
          ],
          [
           2017,
           1
          ],
          [
           2022,
           1
          ],
          [
           2022,
           1
          ],
          [
           2022,
           1
          ],
          [
           2017,
           1
          ],
          [
           2021,
           1
          ],
          [
           2018,
           1
          ],
          [
           2023,
           1
          ],
          [
           2015,
           1
          ],
          [
           2018,
           1
          ],
          [
           2021,
           1
          ],
          [
           2023,
           1
          ],
          [
           2018,
           1
          ],
          [
           2015,
           1
          ],
          [
           2014,
           1
          ],
          [
           2015,
           1
          ],
          [
           2016,
           2
          ],
          [
           2021,
           1
          ],
          [
           2019,
           1
          ],
          [
           2012,
           1
          ],
          [
           2018,
           1
          ],
          [
           2020,
           1
          ],
          [
           2021,
           1
          ],
          [
           2023,
           1
          ],
          [
           2018,
           1
          ],
          [
           2019,
           1
          ],
          [
           2019,
           1
          ],
          [
           2021,
           1
          ],
          [
           2017,
           1
          ],
          [
           2021,
           1
          ],
          [
           2022,
           1
          ],
          [
           2017,
           1
          ],
          [
           2020,
           2
          ],
          [
           2021,
           1
          ],
          [
           2019,
           2
          ],
          [
           2016,
           1
          ],
          [
           2021,
           1
          ],
          [
           2022,
           1
          ],
          [
           2023,
           1
          ]
         ],
         "hovertemplate": "<b>%{hovertext}</b><br><br>Years=%{customdata[0]}<br>Counts=%{y}<br>Numbers=%{marker.color}<extra></extra>",
         "hovertext": [
          "Aagal",
          "Aaox",
          "Abts",
          "Acidic xylooligosaccharides",
          "Active site segment",
          "Acute lymphoblastic leukemia",
          "Additives",
          "Adjuvant",
          "Agaricus bisporus",
          "Agarose",
          "Alkalistable",
          "Alum",
          "Amino acid composition",
          "Amperometric response",
          "Amylose",
          "Amyr",
          "Antibacterial activity",
          "Anticancer",
          "Antifungal activity",
          "Antifungal susceptibility testing",
          "Antigen",
          "Antioxidant",
          "Antioxidant",
          "Antioxidant",
          "Antioxidant peptide",
          "Antioxidase",
          "Aqueous systems",
          "Artp",
          "Ascomycetous strains",
          "Ascomycota",
          "Aspergillus fumigatus",
          "Aspergillus niger",
          "Aspergillus niger",
          "Aspergillus terreus",
          "Bacterial cellulose",
          "Bacterial cellulose",
          "Bacterial laccase",
          "Baculovirus",
          "Bamboo powder",
          "Bamboo tablets",
          "Base editing",
          "Basidiomycota",
          "Bicovalent",
          "Bioaugmentation",
          "Biocatalysis",
          "Biocatalyzed polymerization",
          "Biochemicals",
          "Bioethanol",
          "Biofuels",
          "Biofuels",
          "Biofuels",
          "Biografting",
          "Biomanufacturing",
          "Biomass",
          "Biomass",
          "Biomass conversion",
          "Biomass degradation",
          "Biomolecules",
          "Bioprospecting",
          "Biorefinery",
          "Biorefinery",
          "Biorefinery",
          "Biorefinery",
          "Biotechnological applications",
          "Butyl ferulate",
          "Carbohydrate",
          "Carbohydrate active enzyme database",
          "Carbohydrate processing",
          "Catechol",
          "Catechol oxidase",
          "Cazy",
          "Cazy",
          "Cazy",
          "Cazyme gene regulation",
          "Cazymes",
          "Cbb cycle",
          "Cell factory",
          "Cellobiohydrolase",
          "Cellobiohydrolase",
          "Cellobiohydrolase",
          "Cellobiose",
          "Cellobiose",
          "Cellobiose",
          "Cellulase",
          "Cellulase",
          "Cellulase",
          "Cellulase",
          "Cellulase",
          "Cellulase",
          "Cellulase",
          "Cellulase",
          "Cellulase production",
          "Cellulases",
          "Cellulases",
          "Cellulases",
          "Cellulases",
          "Cellulases",
          "Cellulolytic cocktail improvement",
          "Cellulose",
          "Cellulose",
          "Cellulose",
          "Cellulose",
          "Cellulose",
          "Cellulose degradation",
          "Cellulose degradation",
          "Cellulose degradation",
          "Cellulose hydrolysis",
          "Cellulose hydrolysis",
          "Cellulose oxidation",
          "Cellulose saccharification",
          "Cellulose saccharification",
          "Central composite design",
          "Chaetosartorya cremea",
          "Characterization",
          "Characterization",
          "Chemical modification",
          "Chitin",
          "Chitinase",
          "Chitosan",
          "Chitosan",
          "Chitosan hydrogel",
          "Circular dichroism",
          "Class ii peroxidase",
          "Cloning",
          "Coating",
          "Coatings",
          "Codon optimization",
          "Collagenolytic protease",
          "Computational prediction",
          "Conductive cotton",
          "Conformation",
          "Consolidated bioprocessing",
          "Constitutive expression",
          "Copper",
          "Copper monooxygenase",
          "Corn stover",
          "Coupling",
          "Covalent immobilization",
          "Covalent immobilization",
          "Crispr",
          "Cryopreservation",
          "Crystal structure",
          "Crystal structure",
          "Crystallization",
          "Cyclic voltammetry",
          "Cytosine base editor",
          "Cytotoxicity",
          "Decalin",
          "Decolorization",
          "Decolorization",
          "Deep eutectic solvent",
          "Degree of substitution",
          "Depolymerisation",
          "Different fungal species",
          "Differential scanning calorimetry",
          "Digestibility enhancers",
          "Direct electron transfer",
          "Directed evolution",
          "Disulfide bond",
          "Docking simulation",
          "Dpph",
          "Dsc",
          "Dyadic",
          "Dye",
          "Efficacy",
          "Efficacy",
          "Electron donor",
          "Electroporation",
          "Elenolic acid",
          "Elimination",
          "Endoglucanase",
          "Endoglucanase",
          "Endoxylanase",
          "Endoxylanase",
          "Enzymatic deacetylation",
          "Enzymatic hydrolysis",
          "Enzymatic hydrolysis",
          "Enzymatic oligomerization",
          "Enzymatic oxidation",
          "Enzymatic oxidation",
          "Enzymatic saccharification",
          "Enzymatic saccharification",
          "Enzymatic saccharification",
          "Enzymatic tailoring",
          "Enzyme",
          "Enzyme activity",
          "Enzyme assay",
          "Enzyme electrodes",
          "Enzyme engineering",
          "Enzyme hypersecretion",
          "Enzyme immobilisation",
          "Enzyme immobilization",
          "Enzyme immobilization",
          "Enzyme mixture",
          "Enzyme stability",
          "Enzymes",
          "Enzymes",
          "Epinephrine",
          "Epr",
          "Er stress",
          "Escherichia coli",
          "Esterification",
          "Ethanol",
          "Ethanol",
          "Ethanol fermentation",
          "Ethanol tolerance",
          "Ethyl ferulate",
          "Eucalypt",
          "Eucalyptus globulus",
          "Experimental design",
          "Expression",
          "Expression optimization",
          "Extremozyme",
          "Ferulic acid",
          "Ferulic acid",
          "Ferulic acid",
          "Ferulic acid",
          "Feruloyl esterase",
          "Feruloyl esterase",
          "Filamentous fungi",
          "Filamentous fungi",
          "Filamentous fungi",
          "Filamentous fungi",
          "Filamentous fungi",
          "Filamentous fungus",
          "Fixed bioreactor",
          "Flavonoids",
          "Flow cytometry",
          "Fluorophenol",
          "Food protein",
          "Freezing",
          "Ftacv",
          "Fuel cells",
          "Fumaric acid",
          "Fumed silica nanoparticles",
          "Functional properties",
          "Functionalization",
          "Functionalization",
          "Fungal biotechnology",
          "Fungal enzyme production",
          "Fungal enzymes",
          "Fungal growth",
          "Fungal laccase",
          "Galactose transport",
          "Galactose utilization",
          "Gallic acid",
          "Gene editing",
          "Gene expression",
          "Gene regulation",
          "Genome editing",
          "Glucan",
          "Glucoamylase",
          "Glucoamylase",
          "Glucosamine",
          "Glucose and ethanol tolerance",
          "Glucose oxidation",
          "Glucuronic acid recognition",
          "Glucuronoxylan",
          "Glycans",
          "Glycerol",
          "Glycolysis",
          "Glycoprotein",
          "Glycoside hydrolase",
          "Glycoside hydrolase",
          "Glycoside hydrolases",
          "Glycosylation",
          "Grafting",
          "Green processing",
          "Growth kinetics",
          "Guaiacol",
          "Gum arabic",
          "Hbt",
          "Hemicellulase",
          "Hermetia illucens",
          "Heterologous production",
          "Heterologous production",
          "Heterologous protein expression",
          "Homology modelling",
          "Hpi",
          "Hpsec",
          "Hybrid",
          "Hydrogen peroxide",
          "Hydrolysis",
          "Hydrolysis",
          "Hydrolytic activity",
          "Hydrolytic enzymes",
          "Hydrophobicity",
          "Hydroxytyrosol",
          "Hygromycin b phosphotransferase gene hph",
          "Hymenaea courbaril",
          "Igg",
          "Immobilisation",
          "Immobilization",
          "Immobilization",
          "Immobilization",
          "Improved production",
          "In vivo grna transcription",
          "Industrially relevant fungi",
          "Infant",
          "Influenza vaccine",
          "Insect",
          "Insect cells",
          "Intranasal challenge",
          "Invasive pulmonary infection",
          "Ionic liquid",
          "Ionic liquid",
          "Isocyanide",
          "Itraconazole",
          "Kinetic analysis",
          "Kinetics",
          "Kraft lignin",
          "Kraft lignin",
          "Kraft lignin",
          "Laccase",
          "Laccase",
          "Laccase",
          "Laccase",
          "Laccase",
          "Laccase",
          "Laccase",
          "Laccase",
          "Laccase",
          "Laccase kinetics",
          "Laccases",
          "Laea",
          "Library",
          "Lignin",
          "Lignin",
          "Lignin degrading enzymes",
          "Lignocellulolytic enzymes",
          "Lignocellulolytic enzymes",
          "Lignocellulose",
          "Lignocellulose",
          "Lignocellulose",
          "Lignocellulose",
          "Lignocellulosic biomass",
          "Lignocellulosic biomass",
          "Lignocellulosic biomass",
          "Lignosulfonate",
          "Logistic model",
          "Low temperature",
          "Lpmo",
          "Lpmo",
          "Lpmo",
          "Lpmo",
          "Lpmo biocatalysis",
          "Lpmos",
          "Lyophilization",
          "Lytic polysaccharide monooxygenase",
          "Lytic polysaccharide monooxygenase",
          "Lytic polysaccharide monooxygenase",
          "Lytic polysaccharide monooxygenase",
          "Lytic polysaccharide monooxygenase",
          "Lytic polysaccharide monooxygenase",
          "Lytic polysaccharide monooxygenase",
          "Macromolecular assemblages",
          "Malate export",
          "Malbranchea cinamomea",
          "Malic acid",
          "Malic acid",
          "Malonic acid",
          "Marine fungi",
          "Marker recycling",
          "Mass spectrometric fragmentation",
          "Mass spectrometry",
          "Md simulation",
          "Mdf",
          "Mediator",
          "Melanin",
          "Melting temperature",
          "Mesoporous silicates",
          "Metabolic engineering",
          "Metabolic engineering",
          "Metabolic engineering",
          "Metabolic engineering",
          "Metabolic engineering",
          "Metabolic regulation",
          "Metal ion effect",
          "Metalloprotein",
          "Mhglaa",
          "Micropollutants",
          "Microwaves",
          "Mode of action",
          "Mode of action",
          "Modeling",
          "Modification",
          "Molecular docking",
          "Molecular dynamics",
          "Molecular mechanism",
          "Morphine",
          "Mtgal",
          "Mtperii peroxidase",
          "Multicopper oxidase",
          "Multiplexing",
          "Multivariate analysis",
          "Myceliophthora",
          "Myceliophthora",
          "Myceliophthora",
          "Myceliophthora thermophila",
          "Myceliophthora thermophila",
          "Myceliophthora thermophila",
          "Myceliophthora thermophila",
          "Myceliophthora thermophila",
          "Myceliophthora thermophila",
          "Myceliophthora thermophila",
          "Myceliophthora thermophila",
          "Myceliophthora thermophila",
          "Myceliophthora thermophila",
          "Myceliophthora thermophila",
          "Myceliophthora thermophile",
          "Myceliophthora thermophile laccase",
          "Myceliophtora sp",
          "Mycoprotein",
          "Mycoremediation",
          "Nanocellulose",
          "Natural mediators",
          "Neurospora crassa",
          "Neutralizing antibodies",
          "Nucleocytoplasmic transport",
          "Nutrition",
          "Oleuropein",
          "Oleuropein aglycones",
          "Oligosaccharide",
          "Overexpression",
          "Oxaloacetic acid",
          "Oxidase",
          "Oxidase",
          "Oxidation",
          "Oxidation",
          "Oxidation product",
          "Oxidative cleavage",
          "Oxygen consumption rate",
          "Oxygen reduction",
          "Oxygenase",
          "Ozonolysis",
          "Packing density",
          "Paenibacillus odorifer",
          "Pandemic",
          "Pbmcs",
          "Pcbs",
          "Pectin",
          "Penicillium citrinum",
          "Penicillium verruculosum",
          "Pentose catabolism",
          "Phenol biodegradation",
          "Phenol grafting",
          "Phenolic compound extraction",
          "Phenolics",
          "Phenolics",
          "Phenols",
          "Phenoxy radicals in lignin",
          "Pichia pastoris",
          "Pichia pastoris",
          "Pichia pastoris",
          "Pichia pastoris",
          "Pichia pastoris",
          "Pichia pastoris",
          "Pichia pastoris",
          "Pilot scale",
          "Plant biomass",
          "Plant biomass",
          "Plant biomass",
          "Platform",
          "Polyaniline",
          "Polycatechol",
          "Polymerisation",
          "Polymerization",
          "Polymerization",
          "Polymerization",
          "Polyphenol oxidase",
          "Polyphenol oxidase",
          "Polysaccharide",
          "Polysaccharide monooxygenase",
          "Position of acetyl groups",
          "Poultry",
          "Poultry feed",
          "Ppo",
          "Precise engineering",
          "Prenyl ferulate",
          "Preservation",
          "Pretreated corn cobs",
          "Pretreatment",
          "Pretreatment",
          "Process optimization",
          "Processivity",
          "Processivity",
          "Production",
          "Productivity",
          "Prophylaxis",
          "Protease",
          "Protease",
          "Protein design",
          "Protein engineering",
          "Protein evolution",
          "Purification",
          "Pyrogallol",
          "Rbd",
          "Reaction kinetics",
          "Real time assay",
          "Receptor binding domain",
          "Recombinant cellobiohydrolase",
          "Recombinant protein",
          "Recombinant protein expression",
          "Recombinant protein subunit vaccine",
          "Redox chemistry",
          "Reducing agent",
          "Reduction",
          "Reductive tca",
          "Renatured xanthan",
          "Response surface methodology",
          "Response surface methodology",
          "Rice straw",
          "Rmn",
          "Rna interference",
          "Rna polymerase",
          "Rnai",
          "Rnp",
          "Saccharification",
          "Saccharification",
          "Saccharification",
          "Saccharomyces cerevisiae",
          "Safety",
          "Secondary effluent",
          "Secretome",
          "Secretome composition",
          "Sequential solid state and submerged cultivation",
          "Signal transduction",
          "Single and mixed fungal species cultivation",
          "Solid media",
          "Solvent tolerance",
          "Soy polysaccharides",
          "Soy spent flake",
          "Sporotrichum thermophile",
          "Spray dryer",
          "Stabilisation",
          "Stability",
          "Stability",
          "Starch",
          "Starch",
          "Structural analysis",
          "Structure modelling",
          "Sugar uptake",
          "Sugarcane bagasse",
          "Sugarcane bagasse",
          "Sugarcane bagasse",
          "Sugarcane bagasse",
          "Sugarcane bagasse",
          "Superficial fungal infections",
          "Surface modifacation",
          "Swelling",
          "Synergism",
          "Synergy",
          "Synergy",
          "Systemic fungal infections",
          "Talaromyces leycettanus",
          "Talaromyces stipitatus galactanase",
          "Tamarindus indica",
          "Targeted influenza hemagglutinin",
          "Tempo",
          "Textile dyes",
          "Thermodynamics",
          "Thermophilic",
          "Thermophilic fungi",
          "Thermophilic fungi",
          "Thermophilic fungi",
          "Thermophilic fungi",
          "Thermophilic fungi",
          "Thermophilic fungi",
          "Thermophilic mould",
          "Thermophilic mould",
          "Thermostability",
          "Thermostability",
          "Thermostability",
          "Thermostability",
          "Thermostability",
          "Thermostability",
          "Thermostable",
          "Thermostable cellulose",
          "Thermostable enzymes",
          "Thermothelomyces heterothallica",
          "Thermothelomyces thermophila",
          "Thermothelomyces thermophila",
          "Thermothelomyces thermophila",
          "Thermothelomyces thermophila",
          "Thermothelomyces thermophilus",
          "Thermothelomyces thermophilus",
          "Thermothelomyces thermophilus",
          "Thermotolerant",
          "Thermotolerant mutant",
          "Thielavia australiensis",
          "Thielavia terrestris",
          "Tm",
          "Toxicity",
          "Toxicology",
          "Trametes versicolor",
          "Transceptor",
          "Transcription factor",
          "Transcription factor",
          "Transcriptomic profiles",
          "Transcriptomic profiles",
          "Transcriptomics",
          "Transesterification",
          "Transglycosylation",
          "Transporter",
          "Trehalase",
          "Trichoderma reesei",
          "Trichoderma reesei",
          "Trimeric influenza hemagglutinin",
          "Tsgal",
          "Tyrosinase",
          "Tyrosinase",
          "Ultrasound",
          "Vaccine",
          "Variants of concern",
          "Virus",
          "Viscosity",
          "Viscosity reduction",
          "Wastewater",
          "Weimberg pathway",
          "Wild type",
          "Wood",
          "Wood hydrophobization",
          "Wood hydrophobization",
          "Wound enzymes",
          "Wt",
          "Xanthan conformation",
          "Xylan",
          "Xylan",
          "Xylan",
          "Xylan degradation",
          "Xylanase",
          "Xylanase",
          "Xylanase",
          "Xylanase",
          "Xylanase",
          "Xylanases",
          "Xylanolytic regulator",
          "Xylobiohydrolase",
          "Xylobiohydrolase",
          "Xyloglucan",
          "Xyloglucan",
          "Xyloglucan",
          "Xyloglucanase",
          "Xyloglucanase",
          "Xyloglucanase",
          "Xylooligosaccharides",
          "Xylose",
          "Xylose",
          "Zoonotic",
          "Zootechnical additives"
         ],
         "legendgroup": "",
         "marker": {
          "color": [
           1,
           1,
           1,
           1,
           1,
           1,
           1,
           1,
           1,
           1,
           1,
           1,
           1,
           1,
           1,
           1,
           1,
           1,
           1,
           1,
           1,
           1,
           1,
           1,
           1,
           1,
           1,
           1,
           1,
           1,
           1,
           1,
           1,
           1,
           1,
           1,
           1,
           1,
           1,
           1,
           1,
           1,
           1,
           1,
           2,
           1,
           1,
           1,
           1,
           1,
           1,
           1,
           1,
           1,
           1,
           1,
           1,
           1,
           1,
           1,
           1,
           1,
           1,
           1,
           1,
           1,
           1,
           1,
           1,
           1,
           1,
           1,
           1,
           1,
           1,
           1,
           1,
           1,
           1,
           1,
           1,
           1,
           1,
           1,
           1,
           1,
           1,
           1,
           1,
           2,
           2,
           1,
           1,
           1,
           1,
           1,
           1,
           1,
           1,
           1,
           1,
           1,
           1,
           1,
           1,
           1,
           1,
           1,
           1,
           1,
           1,
           1,
           1,
           1,
           1,
           1,
           2,
           1,
           2,
           1,
           1,
           1,
           1,
           1,
           1,
           1,
           1,
           1,
           1,
           1,
           1,
           1,
           1,
           1,
           1,
           1,
           1,
           1,
           1,
           1,
           1,
           1,
           1,
           1,
           1,
           1,
           1,
           1,
           3,
           1,
           1,
           1,
           1,
           1,
           1,
           1,
           1,
           1,
           1,
           1,
           1,
           1,
           1,
           1,
           1,
           1,
           1,
           1,
           1,
           1,
           1,
           1,
           1,
           1,
           1,
           3,
           1,
           1,
           1,
           1,
           1,
           1,
           1,
           1,
           1,
           1,
           1,
           1,
           1,
           1,
           1,
           2,
           1,
           1,
           1,
           2,
           1,
           1,
           1,
           1,
           1,
           1,
           1,
           1,
           1,
           1,
           1,
           1,
           1,
           1,
           1,
           1,
           1,
           1,
           1,
           1,
           1,
           1,
           1,
           1,
           2,
           1,
           3,
           1,
           1,
           1,
           1,
           1,
           1,
           1,
           1,
           1,
           1,
           1,
           1,
           1,
           1,
           1,
           1,
           1,
           1,
           1,
           1,
           1,
           1,
           1,
           1,
           1,
           1,
           2,
           1,
           1,
           1,
           1,
           1,
           1,
           1,
           1,
           1,
           1,
           1,
           1,
           1,
           1,
           1,
           1,
           1,
           1,
           1,
           1,
           1,
           1,
           1,
           1,
           1,
           1,
           1,
           1,
           1,
           1,
           1,
           1,
           1,
           1,
           1,
           1,
           1,
           1,
           1,
           1,
           1,
           1,
           1,
           1,
           1,
           1,
           1,
           1,
           1,
           1,
           1,
           1,
           1,
           1,
           1,
           1,
           1,
           1,
           1,
           1,
           1,
           1,
           1,
           1,
           2,
           4,
           1,
           8,
           1,
           4,
           1,
           1,
           1,
           1,
           1,
           1,
           3,
           1,
           1,
           1,
           1,
           1,
           2,
           1,
           1,
           2,
           1,
           1,
           1,
           1,
           1,
           1,
           2,
           1,
           1,
           1,
           1,
           1,
           2,
           1,
           1,
           1,
           1,
           1,
           1,
           1,
           1,
           1,
           1,
           1,
           1,
           1,
           1,
           1,
           1,
           1,
           1,
           1,
           1,
           1,
           1,
           1,
           1,
           1,
           2,
           2,
           1,
           1,
           1,
           1,
           1,
           1,
           1,
           1,
           1,
           1,
           2,
           1,
           1,
           1,
           1,
           1,
           1,
           1,
           1,
           1,
           2,
           2,
           2,
           2,
           3,
           4,
           8,
           7,
           5,
           5,
           2,
           9,
           2,
           1,
           1,
           1,
           1,
           1,
           1,
           1,
           1,
           1,
           1,
           1,
           1,
           1,
           1,
           1,
           1,
           1,
           1,
           1,
           1,
           1,
           1,
           1,
           1,
           1,
           1,
           1,
           1,
           1,
           1,
           1,
           1,
           1,
           1,
           1,
           1,
           1,
           1,
           1,
           1,
           1,
           1,
           1,
           1,
           1,
           2,
           1,
           1,
           1,
           1,
           1,
           1,
           1,
           1,
           1,
           1,
           1,
           1,
           1,
           1,
           1,
           1,
           1,
           1,
           1,
           1,
           1,
           1,
           1,
           1,
           1,
           1,
           1,
           1,
           1,
           2,
           2,
           1,
           1,
           1,
           1,
           1,
           1,
           2,
           1,
           1,
           1,
           1,
           1,
           1,
           1,
           1,
           1,
           1,
           1,
           1,
           1,
           1,
           1,
           1,
           1,
           1,
           1,
           1,
           1,
           1,
           1,
           1,
           1,
           1,
           1,
           1,
           1,
           1,
           1,
           1,
           1,
           1,
           1,
           1,
           1,
           1,
           1,
           1,
           1,
           1,
           1,
           1,
           1,
           1,
           1,
           1,
           1,
           1,
           1,
           1,
           1,
           1,
           1,
           1,
           1,
           1,
           1,
           1,
           1,
           1,
           1,
           1,
           1,
           1,
           2,
           1,
           1,
           1,
           1,
           1,
           1,
           1,
           2,
           1,
           1,
           2,
           1,
           1,
           1,
           1,
           1,
           1,
           1,
           1,
           1,
           1,
           1,
           1,
           1,
           2,
           1,
           1,
           1,
           1,
           1,
           1,
           1,
           1,
           1,
           1,
           1,
           1,
           1,
           1,
           1,
           1,
           1,
           1,
           1,
           1,
           2,
           1,
           1,
           1,
           1,
           1,
           1,
           1,
           1,
           1,
           1,
           1,
           1,
           1,
           1,
           1,
           1,
           1,
           1,
           1,
           1,
           1,
           2,
           1,
           1,
           1,
           1,
           1,
           1,
           1,
           1,
           1,
           1,
           1,
           1,
           1,
           1,
           1,
           2,
           1,
           2,
           1,
           1,
           1,
           1
          ],
          "coloraxis": "coloraxis",
          "size": [
           1,
           1,
           1,
           1,
           1,
           1,
           1,
           1,
           1,
           1,
           1,
           1,
           1,
           1,
           1,
           1,
           1,
           1,
           1,
           1,
           1,
           1,
           1,
           1,
           1,
           1,
           1,
           1,
           1,
           1,
           1,
           1,
           1,
           1,
           1,
           1,
           1,
           1,
           1,
           1,
           1,
           1,
           1,
           1,
           2,
           1,
           1,
           1,
           1,
           1,
           1,
           1,
           1,
           1,
           1,
           1,
           1,
           1,
           1,
           1,
           1,
           1,
           1,
           1,
           1,
           1,
           1,
           1,
           1,
           1,
           1,
           1,
           1,
           1,
           1,
           1,
           1,
           1,
           1,
           1,
           1,
           1,
           1,
           1,
           1,
           1,
           1,
           1,
           1,
           2,
           2,
           1,
           1,
           1,
           1,
           1,
           1,
           1,
           1,
           1,
           1,
           1,
           1,
           1,
           1,
           1,
           1,
           1,
           1,
           1,
           1,
           1,
           1,
           1,
           1,
           1,
           2,
           1,
           2,
           1,
           1,
           1,
           1,
           1,
           1,
           1,
           1,
           1,
           1,
           1,
           1,
           1,
           1,
           1,
           1,
           1,
           1,
           1,
           1,
           1,
           1,
           1,
           1,
           1,
           1,
           1,
           1,
           1,
           3,
           1,
           1,
           1,
           1,
           1,
           1,
           1,
           1,
           1,
           1,
           1,
           1,
           1,
           1,
           1,
           1,
           1,
           1,
           1,
           1,
           1,
           1,
           1,
           1,
           1,
           1,
           3,
           1,
           1,
           1,
           1,
           1,
           1,
           1,
           1,
           1,
           1,
           1,
           1,
           1,
           1,
           1,
           2,
           1,
           1,
           1,
           2,
           1,
           1,
           1,
           1,
           1,
           1,
           1,
           1,
           1,
           1,
           1,
           1,
           1,
           1,
           1,
           1,
           1,
           1,
           1,
           1,
           1,
           1,
           1,
           1,
           2,
           1,
           3,
           1,
           1,
           1,
           1,
           1,
           1,
           1,
           1,
           1,
           1,
           1,
           1,
           1,
           1,
           1,
           1,
           1,
           1,
           1,
           1,
           1,
           1,
           1,
           1,
           1,
           1,
           2,
           1,
           1,
           1,
           1,
           1,
           1,
           1,
           1,
           1,
           1,
           1,
           1,
           1,
           1,
           1,
           1,
           1,
           1,
           1,
           1,
           1,
           1,
           1,
           1,
           1,
           1,
           1,
           1,
           1,
           1,
           1,
           1,
           1,
           1,
           1,
           1,
           1,
           1,
           1,
           1,
           1,
           1,
           1,
           1,
           1,
           1,
           1,
           1,
           1,
           1,
           1,
           1,
           1,
           1,
           1,
           1,
           1,
           1,
           1,
           1,
           1,
           1,
           1,
           1,
           2,
           4,
           1,
           8,
           1,
           4,
           1,
           1,
           1,
           1,
           1,
           1,
           3,
           1,
           1,
           1,
           1,
           1,
           2,
           1,
           1,
           2,
           1,
           1,
           1,
           1,
           1,
           1,
           2,
           1,
           1,
           1,
           1,
           1,
           2,
           1,
           1,
           1,
           1,
           1,
           1,
           1,
           1,
           1,
           1,
           1,
           1,
           1,
           1,
           1,
           1,
           1,
           1,
           1,
           1,
           1,
           1,
           1,
           1,
           1,
           2,
           2,
           1,
           1,
           1,
           1,
           1,
           1,
           1,
           1,
           1,
           1,
           2,
           1,
           1,
           1,
           1,
           1,
           1,
           1,
           1,
           1,
           2,
           2,
           2,
           2,
           3,
           4,
           8,
           7,
           5,
           5,
           2,
           9,
           2,
           1,
           1,
           1,
           1,
           1,
           1,
           1,
           1,
           1,
           1,
           1,
           1,
           1,
           1,
           1,
           1,
           1,
           1,
           1,
           1,
           1,
           1,
           1,
           1,
           1,
           1,
           1,
           1,
           1,
           1,
           1,
           1,
           1,
           1,
           1,
           1,
           1,
           1,
           1,
           1,
           1,
           1,
           1,
           1,
           1,
           2,
           1,
           1,
           1,
           1,
           1,
           1,
           1,
           1,
           1,
           1,
           1,
           1,
           1,
           1,
           1,
           1,
           1,
           1,
           1,
           1,
           1,
           1,
           1,
           1,
           1,
           1,
           1,
           1,
           1,
           2,
           2,
           1,
           1,
           1,
           1,
           1,
           1,
           2,
           1,
           1,
           1,
           1,
           1,
           1,
           1,
           1,
           1,
           1,
           1,
           1,
           1,
           1,
           1,
           1,
           1,
           1,
           1,
           1,
           1,
           1,
           1,
           1,
           1,
           1,
           1,
           1,
           1,
           1,
           1,
           1,
           1,
           1,
           1,
           1,
           1,
           1,
           1,
           1,
           1,
           1,
           1,
           1,
           1,
           1,
           1,
           1,
           1,
           1,
           1,
           1,
           1,
           1,
           1,
           1,
           1,
           1,
           1,
           1,
           1,
           1,
           1,
           1,
           1,
           1,
           2,
           1,
           1,
           1,
           1,
           1,
           1,
           1,
           2,
           1,
           1,
           2,
           1,
           1,
           1,
           1,
           1,
           1,
           1,
           1,
           1,
           1,
           1,
           1,
           1,
           2,
           1,
           1,
           1,
           1,
           1,
           1,
           1,
           1,
           1,
           1,
           1,
           1,
           1,
           1,
           1,
           1,
           1,
           1,
           1,
           1,
           2,
           1,
           1,
           1,
           1,
           1,
           1,
           1,
           1,
           1,
           1,
           1,
           1,
           1,
           1,
           1,
           1,
           1,
           1,
           1,
           1,
           1,
           2,
           1,
           1,
           1,
           1,
           1,
           1,
           1,
           1,
           1,
           1,
           1,
           1,
           1,
           1,
           1,
           2,
           1,
           2,
           1,
           1,
           1,
           1
          ],
          "sizemode": "area",
          "sizeref": 0.0225,
          "symbol": "circle"
         },
         "mode": "markers",
         "name": "",
         "orientation": "v",
         "showlegend": false,
         "type": "scatter",
         "x": [
          2014.875957185964,
          2020.0205521321095,
          2018.0166730148278,
          2021.1328769926952,
          2021.8130707394002,
          2023.0422745360943,
          2016.7842530820983,
          2021.9341262207747,
          2017.259801518689,
          2014.2140181271175,
          2020.9232229508837,
          2022.2448111088004,
          2018.8866341605042,
          2016.785286824729,
          2018.8956649177771,
          2017.9098431639259,
          2021.9288323210515,
          2020.7426348769784,
          2021.8645910464854,
          2022.70201204844,
          2022.0684067084196,
          2014.0444419771536,
          2017.2866500579837,
          2022.1596457289481,
          2018.8163585159587,
          2022.8622579210319,
          2018.048191940117,
          2022.8179470397226,
          2013.9651948676835,
          2017.0391277965596,
          2016.71522291292,
          2020.0908831913364,
          2022.2338713297859,
          2017.0346047926844,
          2017.1521134086388,
          2017.9600082638542,
          2023.2267839872961,
          2021.8360501733391,
          2018.2032341483364,
          2017.71391213081,
          2022.1587005712834,
          2017.073391656191,
          2017.8722551560857,
          2014.108621342795,
          2017.19658855847,
          2015.9536453779695,
          2020.1666387885814,
          2016.8254970660741,
          2013.7826810138251,
          2016.918529444662,
          2020.291532925598,
          2020.9858207134944,
          2021.72788626511,
          2015.9472163012156,
          2020.1324246462932,
          2023.00837401989,
          2013.8060366527286,
          2015.7892674505374,
          2021.0944935550344,
          2014.7977053589068,
          2015.8785346275006,
          2017.1888122562355,
          2019.8231727127886,
          2015.7614640441964,
          2017.2695902704095,
          2016.1202192336477,
          2014.725791629441,
          2015.7760379998158,
          2016.0449234407401,
          2017.156495529901,
          2014.1330165699837,
          2014.7710002139315,
          2016.0691489752871,
          2021.091208582291,
          2020.8214664349496,
          2021.107795211626,
          2019.0730183311427,
          2017.093443656039,
          2018.239120481788,
          2018.881937599356,
          2019.1882264162762,
          2020.2748991898964,
          2021.9530073422657,
          2012.1165659443102,
          2014.1206523126646,
          2015.2883699346664,
          2018.2941434904442,
          2018.9899567459465,
          2020.7584698255228,
          2021.9641222373818,
          2022.7691526663386,
          2022.2038968757165,
          2012.881824945296,
          2017.1614064352789,
          2019.0829173344505,
          2019.705837932284,
          2021.749727060546,
          2017.294760494944,
          2014.7813653344435,
          2017.8056504621336,
          2018.9460471759498,
          2020.0946563888178,
          2021.20106981919,
          2016.0680042384222,
          2018.904476313467,
          2022.2829948008657,
          2015.9626163738553,
          2016.8683851326532,
          2015.709411904867,
          2021.0791318117567,
          2022.7728300060103,
          2022.9397879500973,
          2017.2334151023204,
          2015.9233633262168,
          2023.2007135338379,
          2010.280444960756,
          2018.2216563162826,
          2018.239885014444,
          2017.7023204350514,
          2021.9309798691554,
          2017.72728008712,
          2013.1549432514096,
          2015.1101252720407,
          2017.0937762197839,
          2021.0255332940865,
          2018.1346778203124,
          2016.8487672456001,
          2016.8116710221798,
          2014.7841088504033,
          2018.2157514802586,
          2012.785245234907,
          2020.2723796452867,
          2017.1683573906032,
          2019.0863490698484,
          2018.939081014591,
          2019.8816810659669,
          2020.8313521158705,
          2018.0248938572909,
          2022.788626265079,
          2018.7115799325416,
          2020.8881394027926,
          2016.062956327791,
          2017.735109823269,
          2021.2098617315273,
          2017.1517945818389,
          2022.0914995112848,
          2013.8473682538827,
          2020.819123774676,
          2017.7957149064268,
          2020.735113098325,
          2020.779058947075,
          2013.1855666264132,
          2022.2623907248433,
          2020.8155989910695,
          2014.8457258074475,
          2022.858171705379,
          2019.767555585423,
          2018.166460496799,
          2022.8022487440642,
          2022.0402634648544,
          2017.1590461312137,
          2015.0916980957388,
          2022.1068459865273,
          2013.8802765697405,
          2022.1809369260031,
          2022.7246384353823,
          2015.896069999506,
          2018.9159134226236,
          2017.2737682428365,
          2018.2629084144835,
          2015.076480002407,
          2017.2006887075802,
          2018.7056368423641,
          2021.1460638252731,
          2014.114373978687,
          2017.0590586434796,
          2018.8042784867723,
          2015.9521764511362,
          2014.048571765103,
          2022.091888166366,
          2015.0600021196442,
          2016.1493696866787,
          2017.220005384117,
          2017.1726801324114,
          2019.8323546566774,
          2018.8770358460893,
          2019.9559026705235,
          2013.2062286144887,
          2023.0864344760912,
          2020.7865075533925,
          2016.942866015769,
          2015.7528870175001,
          2017.9165705901962,
          2016.0838446233502,
          2018.9238967288995,
          2021.0272562722146,
          2023.1977376252346,
          2019.7542985730681,
          2016.7693630757378,
          2021.9833029996737,
          2018.8329095414042,
          2016.7462971715931,
          2015.786051521209,
          2020.0165462772839,
          2020.220458025675,
          2013.2214569225775,
          2013.848705115631,
          2022.8947313610597,
          2017.87104464659,
          2015.9235704985947,
          2017.7874115037496,
          2018.2880387628607,
          2020.9758404868837,
          2014.2110524333436,
          2017.239254194234,
          2020.8453956698152,
          2022.2130983785407,
          2016.8047833761927,
          2018.1563888084004,
          2017.0274823917614,
          2018.93969318891,
          2020.015026789534,
          2021.8767369231957,
          2023.2331153184966,
          2020.2686580557695,
          2021.244851068322,
          2016.197504441678,
          2021.8906998904315,
          2021.0495219292084,
          2019.1675619199575,
          2021.0076331220118,
          2019.702147292789,
          2013.0487318803587,
          2018.1589682905199,
          2015.9274629135766,
          2022.2852657325755,
          2016.9667481633326,
          2020.9003656267516,
          2020.81451183844,
          2020.8188372235736,
          2016.0817273954574,
          2023.2349565259292,
          2022.727155070951,
          2020.700447243388,
          2021.171782413288,
          2015.86220346792,
          2020.1459375251989,
          2017.9699831584444,
          2023.244628645113,
          2018.8067500188533,
          2016.1296291694794,
          2014.7690830366407,
          2021.719882290398,
          2021.7312641024917,
          2023.141575973974,
          2013.1356612182665,
          2020.8590582970646,
          2019.21107639229,
          2021.8848026703993,
          2015.255267121107,
          2021.8610879178198,
          2021.7456460087512,
          2021.0028228283031,
          2022.0860262447602,
          2018.8550608990995,
          2022.236949429933,
          2022.7060584130088,
          2015.8859713364407,
          2021.1704073512935,
          2021.9514827214782,
          2021.0722752721294,
          2018.0286357041489,
          2023.066792964754,
          2021.7666576951879,
          2015.0151836603434,
          2018.9394253248258,
          2020.917823014559,
          2021.8361219121318,
          2018.1222256188369,
          2012.9399848579706,
          2020.8025026340838,
          2016.9492464695804,
          2015.258073934475,
          2016.0785354812615,
          2020.9408758533475,
          2015.7449356863913,
          2020.8193455477713,
          2017.040505222858,
          2019.2443716085277,
          2020.9465704659513,
          2022.0259875262373,
          2009.9609758589288,
          2013.866694278159,
          2017.9139842922937,
          2020.7558047630132,
          2021.1239668581206,
          2019.767996958238,
          2018.0860361256146,
          2016.2116446785542,
          2021.938971569538,
          2022.1425849272628,
          2022.293792085591,
          2021.9162855697064,
          2023.2188375069686,
          2013.781392541832,
          2022.1560408151108,
          2017.8269365773554,
          2016.2273349664833,
          2021.0844402988346,
          2021.0363538836348,
          2017.9031329080203,
          2022.2750310408887,
          2022.831567181727,
          2010.0486131824468,
          2014.2325984173697,
          2015.719033188582,
          2017.0435516407958,
          2017.751886330577,
          2020.1269100014767,
          2020.742998569535,
          2022.0185706788589,
          2023.0160306781916,
          2017.1856280138254,
          2018.0596439519395,
          2023.299316015116,
          2018.121431295716,
          2016.2878542696365,
          2022.0950969380763,
          2021.7632255685535,
          2013.8369870456222,
          2021.2542075666004,
          2015.9132762710199,
          2017.268290749613,
          2017.7758161735699,
          2022.0421489981654,
          2017.0489373438297,
          2019.9172471743534,
          2020.7576403519565,
          2021.1597908904432,
          2020.9147652795493,
          2020.7488894863113,
          2014.991243974891,
          2016.7329526401534,
          2019.9076803756075,
          2023.1890526760678,
          2020.7128910836843,
          2021.711448025707,
          2020.956283683904,
          2017.1376038825063,
          2018.224710389755,
          2019.0367066260467,
          2019.8348743097959,
          2021.0358329820256,
          2021.7649801941477,
          2022.7524824101688,
          2013.0872927629828,
          2023.2238603075118,
          2016.9877261234321,
          2019.2755668023894,
          2021.1041140359328,
          2022.2102698748326,
          2018.8844978885388,
          2018.7103075625696,
          2021.9414290461334,
          2014.0198651465867,
          2021.853476987109,
          2021.9131453088348,
          2022.2368454969444,
          2021.0818075910745,
          2015.23173427064,
          2010.0623881055967,
          2018.1385176878155,
          2018.9043611625236,
          2020.0491209068432,
          2021.0563173204198,
          2021.787722174466,
          2022.258435378839,
          2020.130092442081,
          2019.199184998099,
          2019.7229247800715,
          2015.9387455164872,
          2015.2901678813294,
          2017.0496590256716,
          2020.8213660352187,
          2015.2099968401926,
          2021.1837830878487,
          2021.961392103115,
          2019.7920708335462,
          2022.7993716489175,
          2018.1762572679218,
          2015.1535896040812,
          2017.142166823975,
          2019.8363755022765,
          2018.8444558689002,
          2016.8572173542213,
          2016.7596657326355,
          2021.2749136456696,
          2023.1155965603919,
          2012.8236613154902,
          2013.941904443092,
          2015.0147341631748,
          2016.1094445349838,
          2017.0580388600383,
          2017.967888462736,
          2019.1865186849682,
          2019.7466794733023,
          2021.12398757642,
          2022.0719516464867,
          2023.1342569761869,
          2020.1878432501169,
          2017.9465986952137,
          2013.8234874192035,
          2021.7726982640982,
          2014.2330210372227,
          2020.8815558952247,
          2020.929587346925,
          2021.166384045033,
          2021.8540764499692,
          2013.1831068235083,
          2020.9648086239456,
          2016.8078291059505,
          2016.9038957564057,
          2015.9698658155962,
          2012.8424474879828,
          2022.0651981289818,
          2015.8107776965758,
          2017.7663275423392,
          2016.9780571648114,
          2018.1814852910707,
          2021.0528108385217,
          2022.0316214139757,
          2016.9083954853722,
          2012.8543226106026,
          2019.032485738798,
          2015.9194696072243,
          2021.2088602954632,
          2019.885649720949,
          2022.1729182430029,
          2018.2426063843675,
          2014.2459417301995,
          2016.8792217315133,
          2016.7246008184854,
          2014.9702764393476,
          2018.948515968332,
          2018.263594061554,
          2021.2189280231719,
          2017.7426137753368,
          2016.0913294591141,
          2018.2111648154353,
          2016.9393486007357,
          2016.8801698392845,
          2012.9476946970597,
          2014.7817760838773,
          2016.1078579828322,
          2017.0497924828821,
          2017.8264704609614,
          2018.8443624248366,
          2020.7390380913166,
          2017.7167457360695,
          2013.7597392169296,
          2017.7488742908538,
          2020.7653472584298,
          2020.2251338356127,
          2018.2593976892858,
          2014.7477664673554,
          2015.9483727612717,
          2017.0863583377125,
          2017.8620996644327,
          2022.982935503351,
          2016.7824011590362,
          2020.7989327314463,
          2019.0823349188263,
          2019.2284780639552,
          2014.0089741740749,
          2023.1210685912554,
          2021.220684815935,
          2017.0605057902972,
          2022.24829105728,
          2016.730919840162,
          2020.7773302108005,
          2021.2430423286182,
          2015.008115400205,
          2019.7422036601367,
          2020.8893843396397,
          2017.0921527864843,
          2019.7212393296393,
          2021.2524674771237,
          2013.7142396671998,
          2015.8103587657374,
          2019.1440713188256,
          2020.0222755951436,
          2015.2148140982156,
          2020.795196565887,
          2016.0708788935424,
          2020.9540468874404,
          2016.2430318995137,
          2022.2380995056758,
          2020.0940463876943,
          2016.945034008338,
          2022.2963836121737,
          2020.798420546474,
          2021.8756780364276,
          2022.244988269865,
          2021.8155164922102,
          2013.0212882597905,
          2018.2317537117628,
          2022.035395752199,
          2017.8533708022037,
          2013.2490586078509,
          2020.2392011097177,
          2023.2734096843553,
          2018.8768935319795,
          2021.8915009056216,
          2014.926799193117,
          2016.1754199357024,
          2017.864367895425,
          2018.8910780869128,
          2018.1086281253629,
          2019.1691519535168,
          2023.252316644378,
          2018.1187176653546,
          2023.0131122280695,
          2015.759064831555,
          2023.263318009759,
          2016.0726623933374,
          2021.20809422233,
          2023.2544814980683,
          2020.8547806162055,
          2013.8573756963362,
          2020.893481577258,
          2017.2647772610146,
          2017.0280553790892,
          2016.0679080979448,
          2017.0033483018244,
          2009.858424691714,
          2014.2065243749657,
          2022.17505828188,
          2017.7518143155278,
          2018.905825124486,
          2019.8432183931532,
          2022.0951184657129,
          2020.1565342342055,
          2013.704793130267,
          2015.7963739666752,
          2018.731236097776,
          2019.89855997157,
          2022.8955789688619,
          2016.1119938182826,
          2021.8566297658576,
          2017.2645383790834,
          2016.2986044811867,
          2019.0246636769987,
          2022.2395932583559,
          2016.0805398279576,
          2016.979383563084,
          2014.868291195933,
          2021.0643583499834,
          2021.7877594349452,
          2017.751819462819,
          2017.936295169769,
          2022.7200984879203,
          2013.1347104695658,
          2012.2460971020312,
          2015.001036291723,
          2016.7273503689144,
          2019.193803597043,
          2021.2782022924944,
          2021.7064154401294,
          2016.1774181786773,
          2017.199935448439,
          2015.2971324100256,
          2016.9659863080415,
          2019.9754771169228,
          2020.9515061304032,
          2022.054091741751,
          2023.0486044588263,
          2022.9336081184133,
          2020.9771622588364,
          2015.7183664674342,
          2021.9984074369859,
          2019.2717805512307,
          2019.7600100799316,
          2021.0847988937514,
          2022.8594837828339,
          2019.056575933211,
          2019.7395970709788,
          2020.8046844178436,
          2016.057237678586,
          2023.1048737699236,
          2020.0042213074223,
          2017.0329831943627,
          2014.7734450202074,
          2017.9088396149687,
          2021.8435123492015,
          2018.2249068011636,
          2022.7560666660163,
          2018.0881942044582,
          2021.9282040153628,
          2017.95532276085,
          2020.904366982134,
          2021.7622278135611,
          2017.2976631186898,
          2013.1532008694433,
          2020.9055100811036,
          2020.0436427576044,
          2017.2291647896063,
          2019.8353587874808,
          2022.0142530549817,
          2014.7194740524683,
          2016.9025441753124,
          2020.7812143494696,
          2017.0196305224,
          2021.932020055466,
          2022.2892285440782,
          2021.7162258545266,
          2017.177452720729,
          2021.2674540692663,
          2017.96044510286,
          2023.051949623219,
          2015.0388374657123,
          2017.9269736081144,
          2021.0716170099993,
          2022.9208641065795,
          2017.8762600756927,
          2015.2756470837912,
          2013.849022944784,
          2015.0481818497567,
          2015.78289117247,
          2021.275227367703,
          2018.7129170997684,
          2012.2785401720187,
          2018.2389601974671,
          2020.1253936004027,
          2020.9060021685973,
          2022.8703478406771,
          2018.10355441403,
          2018.813342082662,
          2018.9574266233524,
          2020.729120904771,
          2017.280154159557,
          2020.7740936771288,
          2021.9304072859143,
          2017.0575254238006,
          2019.772459950871,
          2021.1250538726536,
          2019.205468032214,
          2016.28401683031,
          2020.8882083051592,
          2022.2266188244232,
          2022.9829824254293
         ],
         "xaxis": "x",
         "y": [
          0.6585361016940383,
          1.349270858055148,
          0.6953304046497295,
          1.1688410871019226,
          0.886839190123343,
          0.621582368456911,
          0.823233458663626,
          0.9758131270976587,
          0.8196077223760174,
          0.5112762414809462,
          1.1465559878803302,
          0.6754518204575763,
          1.1502709439315821,
          1.412610377649898,
          0.9969337477519749,
          1.4839758836584118,
          1.3348619344929742,
          0.9438397674099892,
          0.8168172079606386,
          0.9687965828132704,
          0.6565499016231359,
          0.5182871183826849,
          0.8574369934993314,
          1.2468450446606587,
          0.9280153718387832,
          0.7272711939972717,
          0.6205053917095753,
          0.8248724895003631,
          0.6545824870376279,
          0.774775086971861,
          1.3835070116905148,
          1.467370736611554,
          0.8529464859328482,
          0.8932369186760786,
          1.3899687215396255,
          1.2451640229252527,
          1.0777608365178888,
          1.0511890259343462,
          0.8157649174524377,
          1.3374045694681014,
          0.6533207776091491,
          1.0927923133261512,
          0.7229069718717297,
          1.3992279030394852,
          1.5631017379621746,
          1.295136575175404,
          1.3181639752999113,
          1.1573058842825625,
          1.0165809601399742,
          1.215934825871371,
          1.2240650756909757,
          0.6528162155479819,
          1.0482627813933736,
          0.7289074320490841,
          0.7662207226607802,
          1.1147008742369784,
          0.7452594200366108,
          1.34924289566574,
          0.779071253196234,
          1.4398726406306674,
          1.4374203711161808,
          1.159857920774244,
          0.8927036366788257,
          1.4849801777458442,
          0.7827108362175672,
          0.869041313015862,
          1.2735028621979783,
          1.4440384157629538,
          1.4999919173317608,
          0.8378151569728065,
          0.5431186577175489,
          0.6589393146267435,
          1.294402809590954,
          1.4552114636504139,
          1.076419238521154,
          0.9721022928464549,
          1.0649033080930486,
          0.8565102006494203,
          1.3603439520098388,
          1.2298956479252152,
          0.878451096440836,
          0.7872173847908689,
          1.273430691812837,
          1.0040755845522273,
          0.5723228267668257,
          0.9918081861012884,
          1.0665598850374163,
          1.1148216968142897,
          0.7769441497125972,
          2.2826369041447654,
          2.3739199521798424,
          0.7876149314069937,
          1.4437324783080434,
          0.9746357900008823,
          1.0945765999244157,
          1.2491883531446666,
          0.9275309045406186,
          0.632897641603058,
          0.7924553988351349,
          0.5363262561756785,
          0.8528294705195326,
          1.0178403345545912,
          1.0119838296857462,
          1.4637270647659182,
          0.7675418052130729,
          0.5514940792921703,
          1.1862480620837852,
          0.6757939751752043,
          0.8361046761725064,
          1.3593641486611956,
          1.4436904744069374,
          0.7110961608259697,
          1.3416059810655894,
          0.6003108496816091,
          0.8934450535779027,
          1.4378662302078147,
          2.1029734659386357,
          0.6042489001472555,
          2.2249935706736554,
          0.9064285438869686,
          0.6073571385330797,
          1.0950088137017442,
          0.9538543587825833,
          0.5916797207982485,
          1.1982101801952534,
          1.3471960829829,
          1.1356737408878756,
          1.1292692623935734,
          0.6977496129950134,
          0.7575703474919607,
          1.3648106881704343,
          0.9950679418770637,
          0.8358219987188065,
          0.5022515373243284,
          0.9834293803565662,
          1.310425170743697,
          0.967528349794388,
          0.9004296212170458,
          1.4410557543939433,
          1.0402732844497968,
          0.5295161819446149,
          1.1745698140093375,
          1.3078978595682524,
          0.5832048928156399,
          1.471382151282243,
          0.6642536535392993,
          0.604837463115837,
          1.1737155830971198,
          3.2791166684263366,
          1.3250561361367028,
          1.3474173845254014,
          0.604787893856219,
          1.3826790464419814,
          0.9888177902982084,
          0.5957641143737905,
          1.2211068580683668,
          1.4234818600662236,
          0.734099520125395,
          1.2061973275164548,
          0.8786484581612958,
          1.3090041929057872,
          1.038888189601965,
          0.6488117778537201,
          0.8898014644809972,
          1.179385973289554,
          1.0199740817807055,
          1.0405753771051498,
          0.6992274944704155,
          0.863850569645153,
          0.7120170458332695,
          1.1917891473373439,
          0.9723539141720349,
          0.7380728918634863,
          1.1456841748271205,
          0.791812222740383,
          3.3307481114092568,
          1.1315495787196597,
          0.7690606108793778,
          0.6791758348252709,
          1.411339399167531,
          0.8542663327932342,
          0.7386710268956059,
          1.03493969741923,
          1.1122110115962716,
          0.5621144819820469,
          0.8868252317302414,
          1.2744992664553294,
          1.3316221805796298,
          1.2306403181333425,
          0.5212504847319036,
          0.641893537938314,
          1.5893353544024513,
          0.8837180922973521,
          1.3037503896366187,
          0.5157302968910308,
          1.8390867598507796,
          1.3163629319679844,
          1.433056673206023,
          1.1671999791961543,
          0.5161092516357191,
          1.392314080294856,
          1.04368848371047,
          0.7380129412819435,
          1.3270828918144182,
          0.7907288631846167,
          1.0102229066371742,
          1.4316473303846917,
          0.8362301322994459,
          0.9517552212550378,
          1.0145143567321844,
          1.4465520941177583,
          0.605572504853755,
          1.0706357293309443,
          0.7592538980041719,
          1.189203458068135,
          1.0350169212140816,
          1.1843519712131156,
          0.7992025671610846,
          1.0149695472202511,
          0.7985968570595843,
          2.148739921302454,
          1.026603060733632,
          3.2849368768087905,
          0.5705805253716374,
          1.1577346679997365,
          0.6095525065011604,
          0.9459376150351736,
          1.2250527681859804,
          0.5353077510528751,
          1.421453801828998,
          0.869119109716529,
          1.0778460853151803,
          1.2805266875043932,
          0.7578726138157188,
          1.1649279812954247,
          1.0262311566725528,
          0.997288566910113,
          0.6192669986653289,
          0.8729270985065061,
          0.6914092538781474,
          1.262418380369494,
          0.9392063776133405,
          1.408358588259767,
          1.0681041821899389,
          1.1016364100795628,
          1.1499182047927712,
          0.9783196448096854,
          1.1509206733137927,
          1.4989369389624518,
          1.9613557392082719,
          0.5939819380387739,
          1.423529591268291,
          1.109381821579425,
          0.8026580485940613,
          0.6253303556112778,
          0.7065772780648395,
          1.0583076352924699,
          1.2982037499058379,
          0.6333337577786411,
          0.759796681084234,
          0.8737216160381146,
          0.5419955903233808,
          1.3439300821151114,
          0.8819198034655599,
          1.4968645796393785,
          1.1348814671714318,
          1.28216867465169,
          0.7341747942713742,
          1.3002919001440016,
          1.4034260104840741,
          1.1871205260114404,
          0.8641363397630509,
          1.252906217521745,
          1.3371537369205173,
          1.038581982480622,
          0.9350902731273982,
          0.8455355821893057,
          0.8896478593209628,
          1.082399987853751,
          1.21384378176412,
          0.5447166527690538,
          1.0267490592778328,
          1.1515295113722572,
          1.2545059876789826,
          0.7940640477030065,
          1.0933434229098218,
          0.7259696901730305,
          1.3221974689616356,
          0.9229886753518377,
          1.0142208173040537,
          1.246205266504563,
          1.4844570538426403,
          0.6175378663310575,
          0.9442262578236875,
          0.7213284961389878,
          1.312213065746458,
          0.6730700163822418,
          0.623558123419315,
          1.3192994953469452,
          0.8095397194481121,
          0.8971593306180423,
          1.21735536601073,
          1.0307674533697726,
          0.8310326050563321,
          0.9106524335783887,
          0.8258437834869499,
          0.9443207913936316,
          1.0354816741684851,
          1.3781583110392053,
          0.6664215739906697,
          1.3023409568815705,
          0.698237749883042,
          0.8591256606417199,
          1.267861363179898,
          2.1721199967968223,
          4.163129822279943,
          1.3124820930296122,
          8.007714987775449,
          1.3564625620323396,
          4.47826731354097,
          1.075087031592697,
          1.3768252793995033,
          1.1244961403442693,
          1.166779463960523,
          0.5282014342436943,
          1.297751438171745,
          2.5439477166614823,
          0.5317470385668488,
          0.9696219271209092,
          1.4615348036664955,
          1.4258091246433953,
          1.365802440161079,
          1.740085084518396,
          1.4215988086577869,
          1.390107184251376,
          1.7978647632023592,
          0.6505618152225556,
          0.9418733494317936,
          1.3291170037387459,
          1.322520713740063,
          0.7927006123383835,
          0.9777291985778434,
          1.5296372425904776,
          1.2685260449449576,
          0.9202490515547833,
          0.9514050634024539,
          0.9372987117363046,
          0.6311960082600414,
          2.42886207789019,
          1.1378661460435548,
          1.4677962829964115,
          1.440378402326937,
          0.9894708262996912,
          1.353729175519307,
          1.3690380134437772,
          0.6338847944748565,
          1.3700846254517658,
          1.1557321612505347,
          1.4493252413197197,
          0.6945983140541376,
          0.9982202986148587,
          0.8059580668865006,
          1.107860793729819,
          0.6073072917439152,
          0.5919748693608091,
          0.8176874447856032,
          0.8106602177029306,
          1.337871069213553,
          1.1489503811647745,
          1.2037915617272714,
          0.7501855236479622,
          0.9631110307197759,
          1.2302182611317538,
          0.8107149548307991,
          1.7018116622926125,
          2.1434915011088655,
          1.4858470377484874,
          0.8528634615568159,
          0.5005376791573064,
          1.496262386446207,
          0.5036011855271162,
          0.8976153608752528,
          0.7029505082280749,
          1.0534725069432684,
          0.5499125390946945,
          1.0607084059768428,
          2.0069044116109236,
          1.138141428444409,
          1.3074832648361379,
          1.482436428386171,
          0.6827449291319959,
          0.7596196735792895,
          1.0115116063233354,
          0.9858358770876021,
          1.2949041917717867,
          1.0464638155677917,
          1.9794081937020098,
          2.2332617605758607,
          2.2683327571053904,
          1.7116831864652555,
          3.019206941127189,
          3.838883424290258,
          8.284168776863131,
          6.913266119174171,
          5.23678059616588,
          4.583696829782953,
          1.7226765471408712,
          9.338074730261809,
          1.775302527274468,
          1.3749963440156745,
          0.5844111153965719,
          1.3401119839615983,
          0.5872893199158056,
          0.8764051660482461,
          1.1925453804063904,
          1.088120225921775,
          1.101994597310496,
          0.9486990391486109,
          1.4877379159168966,
          0.8398858767834801,
          1.154412035204321,
          1.480545460903377,
          1.319025392792073,
          0.6235282231474141,
          1.471499664254595,
          0.7777849588598814,
          0.7481417450909028,
          0.5864315204325873,
          1.3508561662352947,
          0.6571339289182626,
          1.072231825943983,
          0.7582427267587305,
          1.444978941983416,
          0.6906027678775815,
          0.7826724250086528,
          0.8959224421068352,
          0.5018473824247486,
          0.7497265971287128,
          1.1896453181922664,
          0.6188424747293458,
          1.2246572444068038,
          0.6961003941433088,
          1.4016301655600916,
          1.4665081175825976,
          1.0400514282432876,
          0.7639088716952545,
          0.7692063046746869,
          1.4966109059824326,
          0.5306366865422861,
          0.9932179230112416,
          0.8575656310111263,
          0.7609183682703908,
          1.246377038060229,
          1.010734101824605,
          2.0524943425657214,
          1.4685385378968225,
          0.9764181107642643,
          1.0027864422593464,
          0.5856827060604476,
          1.456408795313393,
          0.5198767940414886,
          1.039178433894568,
          1.1033806404162863,
          0.8819049868809039,
          1.4702767198483762,
          0.657963369300241,
          0.8563480033893234,
          1.2320499948225063,
          1.1659736832643324,
          0.8723752215836958,
          1.3084235797832044,
          1.4268067145258296,
          0.7846239103376121,
          1.113401891367316,
          0.6977589811026434,
          1.0186929399479911,
          0.5400700266018456,
          1.1433910387317243,
          0.9412365258223852,
          0.7725230895579063,
          1.2031237640440975,
          0.6021932979890963,
          0.6909498619322474,
          1.2253224287039148,
          1.5531361416934868,
          1.5988809740360312,
          0.7701836639059498,
          1.0330258766718736,
          0.8925605138560152,
          0.7505433337558561,
          0.7576061058258711,
          1.379290121257477,
          2.4676988729667104,
          0.8021691695322491,
          1.4343095561405035,
          0.9088235874892937,
          0.5349202320187526,
          1.2485685671343978,
          1.1974848765620079,
          1.3433786664147869,
          0.5430234453343386,
          1.4339779798234256,
          0.6338541567968008,
          0.6801803107787917,
          0.7505763999581622,
          0.7834876955358131,
          1.1328679056095219,
          0.8775182764013882,
          1.0368596514385076,
          0.6613397516050158,
          1.3874779502081651,
          1.3648471720568272,
          0.9170253615975565,
          0.8933915989181367,
          0.5531021195746504,
          1.4495261386139333,
          1.4627048827161881,
          0.51874353257031,
          1.2013726567304877,
          0.7261555340620042,
          0.6650000681902097,
          0.8822923348271021,
          0.9510711074710017,
          0.5749638744179613,
          1.1576650011696406,
          1.1950144373345397,
          1.3148024967395446,
          0.5821221620622209,
          0.6559446572411113,
          1.493948934333447,
          0.8625587265971225,
          1.106714356834945,
          1.3673995047144518,
          0.6236346152360505,
          0.6302288514242673,
          1.4007978168650745,
          0.5943742042856,
          1.2768474649649098,
          0.5585324616970885,
          1.4123685550958434,
          0.7618082935191641,
          1.3460152245817216,
          1.4606811106109558,
          0.8414964430685536,
          0.5930533297480483,
          1.1645086930726296,
          1.2989010416528048,
          0.960769776333783,
          1.4200346006978468,
          1.297941738724445,
          1.0968116329301223,
          0.7781393018435873,
          0.7874830891426486,
          1.1944466638618394,
          0.7676728466958359,
          0.5786613870242776,
          1.240336725849124,
          0.6585111114674013,
          1.3967125543116174,
          2.4999484346178598,
          0.5276675749395059,
          1.2777473057679885,
          0.5173685494808586,
          1.4613541116374484,
          1.3921666176330496,
          0.5192883430465277,
          0.9358155825537425,
          2.142071017406472,
          1.2373834588765018,
          0.788523831573591,
          1.6787680971035488,
          0.6248693595931543,
          1.1860999009039215,
          0.6198052384279313,
          0.9138361710400499,
          0.7892243519804475,
          1.437233756186771,
          1.4921413382214963,
          0.7364918643972596,
          1.4673127785616518,
          0.681063416217607,
          0.6853554097511755,
          1.055438664556016,
          1.3038612176528854,
          1.6320436539666707,
          1.248895383785423,
          1.0379093649855817,
          0.7163842016534043,
          0.96311894800076,
          0.7469090584885019,
          0.7075597907099402,
          1.2219637958526937,
          1.1664703431230214,
          0.613387412009428,
          0.5018578146363492,
          1.1416614487492138,
          1.445250804668098,
          1.4590676031942929,
          0.9091939230138102,
          1.070383702801795,
          1.4192352688633298,
          1.2403218893999735,
          0.7051017629216364,
          1.4198000628503498,
          0.96567567072224,
          2.1147340308594695,
          0.7313138975255453,
          0.7090772503902564,
          1.0332699862252925,
          1.1991658822863016,
          0.9119903589329034,
          0.5365851119404704,
          0.711900389007264,
          0.5958652462596863,
          0.9186200959982832,
          1.2771687727741887,
          0.595834356602718,
          0.5576437821017429,
          0.7949566705256499,
          0.649707430207457,
          1.0140564426128116,
          0.5035428840758911,
          0.6024027942379292,
          0.6991707657839403,
          1.4750959766523777,
          1.2574562512031036,
          0.8660365589437161,
          2.0725298536644168,
          0.5403338437332782,
          0.7302390857343198,
          1.2391667405583262,
          0.6412908146680665,
          0.9104556947396736,
          1.3126192784522277,
          0.605105232829436,
          0.8504738588575854,
          0.6927353238916314,
          0.5255071398965343,
          0.9601077480545961,
          0.5164321124460327,
          1.2839460650263224,
          1.0063796868822945,
          0.6700087649400804,
          1.8774195881466715,
          0.6090192142574344,
          2.394619858831106,
          1.3343954641529627,
          0.8742358856761012,
          1.104847841135074,
          1.3625866373500326
         ],
         "yaxis": "y"
        }
       ],
       "layout": {
        "coloraxis": {
         "colorbar": {
          "title": {
           "text": "Numbers"
          }
         },
         "colorscale": [
          [
           0,
           "rgb(75, 41, 145)"
          ],
          [
           0.16666666666666666,
           "rgb(135, 44, 162)"
          ],
          [
           0.3333333333333333,
           "rgb(192, 54, 157)"
          ],
          [
           0.5,
           "rgb(234, 79, 136)"
          ],
          [
           0.6666666666666666,
           "rgb(250, 120, 118)"
          ],
          [
           0.8333333333333334,
           "rgb(246, 169, 122)"
          ],
          [
           1,
           "rgb(237, 217, 163)"
          ]
         ]
        },
        "height": 600,
        "legend": {
         "itemsizing": "constant",
         "tracegroupgap": 0
        },
        "template": {
         "data": {
          "bar": [
           {
            "error_x": {
             "color": "#2a3f5f"
            },
            "error_y": {
             "color": "#2a3f5f"
            },
            "marker": {
             "line": {
              "color": "white",
              "width": 0.5
             },
             "pattern": {
              "fillmode": "overlay",
              "size": 10,
              "solidity": 0.2
             }
            },
            "type": "bar"
           }
          ],
          "barpolar": [
           {
            "marker": {
             "line": {
              "color": "white",
              "width": 0.5
             },
             "pattern": {
              "fillmode": "overlay",
              "size": 10,
              "solidity": 0.2
             }
            },
            "type": "barpolar"
           }
          ],
          "carpet": [
           {
            "aaxis": {
             "endlinecolor": "#2a3f5f",
             "gridcolor": "#C8D4E3",
             "linecolor": "#C8D4E3",
             "minorgridcolor": "#C8D4E3",
             "startlinecolor": "#2a3f5f"
            },
            "baxis": {
             "endlinecolor": "#2a3f5f",
             "gridcolor": "#C8D4E3",
             "linecolor": "#C8D4E3",
             "minorgridcolor": "#C8D4E3",
             "startlinecolor": "#2a3f5f"
            },
            "type": "carpet"
           }
          ],
          "choropleth": [
           {
            "colorbar": {
             "outlinewidth": 0,
             "ticks": ""
            },
            "type": "choropleth"
           }
          ],
          "contour": [
           {
            "colorbar": {
             "outlinewidth": 0,
             "ticks": ""
            },
            "colorscale": [
             [
              0,
              "#0d0887"
             ],
             [
              0.1111111111111111,
              "#46039f"
             ],
             [
              0.2222222222222222,
              "#7201a8"
             ],
             [
              0.3333333333333333,
              "#9c179e"
             ],
             [
              0.4444444444444444,
              "#bd3786"
             ],
             [
              0.5555555555555556,
              "#d8576b"
             ],
             [
              0.6666666666666666,
              "#ed7953"
             ],
             [
              0.7777777777777778,
              "#fb9f3a"
             ],
             [
              0.8888888888888888,
              "#fdca26"
             ],
             [
              1,
              "#f0f921"
             ]
            ],
            "type": "contour"
           }
          ],
          "contourcarpet": [
           {
            "colorbar": {
             "outlinewidth": 0,
             "ticks": ""
            },
            "type": "contourcarpet"
           }
          ],
          "heatmap": [
           {
            "colorbar": {
             "outlinewidth": 0,
             "ticks": ""
            },
            "colorscale": [
             [
              0,
              "#0d0887"
             ],
             [
              0.1111111111111111,
              "#46039f"
             ],
             [
              0.2222222222222222,
              "#7201a8"
             ],
             [
              0.3333333333333333,
              "#9c179e"
             ],
             [
              0.4444444444444444,
              "#bd3786"
             ],
             [
              0.5555555555555556,
              "#d8576b"
             ],
             [
              0.6666666666666666,
              "#ed7953"
             ],
             [
              0.7777777777777778,
              "#fb9f3a"
             ],
             [
              0.8888888888888888,
              "#fdca26"
             ],
             [
              1,
              "#f0f921"
             ]
            ],
            "type": "heatmap"
           }
          ],
          "heatmapgl": [
           {
            "colorbar": {
             "outlinewidth": 0,
             "ticks": ""
            },
            "colorscale": [
             [
              0,
              "#0d0887"
             ],
             [
              0.1111111111111111,
              "#46039f"
             ],
             [
              0.2222222222222222,
              "#7201a8"
             ],
             [
              0.3333333333333333,
              "#9c179e"
             ],
             [
              0.4444444444444444,
              "#bd3786"
             ],
             [
              0.5555555555555556,
              "#d8576b"
             ],
             [
              0.6666666666666666,
              "#ed7953"
             ],
             [
              0.7777777777777778,
              "#fb9f3a"
             ],
             [
              0.8888888888888888,
              "#fdca26"
             ],
             [
              1,
              "#f0f921"
             ]
            ],
            "type": "heatmapgl"
           }
          ],
          "histogram": [
           {
            "marker": {
             "pattern": {
              "fillmode": "overlay",
              "size": 10,
              "solidity": 0.2
             }
            },
            "type": "histogram"
           }
          ],
          "histogram2d": [
           {
            "colorbar": {
             "outlinewidth": 0,
             "ticks": ""
            },
            "colorscale": [
             [
              0,
              "#0d0887"
             ],
             [
              0.1111111111111111,
              "#46039f"
             ],
             [
              0.2222222222222222,
              "#7201a8"
             ],
             [
              0.3333333333333333,
              "#9c179e"
             ],
             [
              0.4444444444444444,
              "#bd3786"
             ],
             [
              0.5555555555555556,
              "#d8576b"
             ],
             [
              0.6666666666666666,
              "#ed7953"
             ],
             [
              0.7777777777777778,
              "#fb9f3a"
             ],
             [
              0.8888888888888888,
              "#fdca26"
             ],
             [
              1,
              "#f0f921"
             ]
            ],
            "type": "histogram2d"
           }
          ],
          "histogram2dcontour": [
           {
            "colorbar": {
             "outlinewidth": 0,
             "ticks": ""
            },
            "colorscale": [
             [
              0,
              "#0d0887"
             ],
             [
              0.1111111111111111,
              "#46039f"
             ],
             [
              0.2222222222222222,
              "#7201a8"
             ],
             [
              0.3333333333333333,
              "#9c179e"
             ],
             [
              0.4444444444444444,
              "#bd3786"
             ],
             [
              0.5555555555555556,
              "#d8576b"
             ],
             [
              0.6666666666666666,
              "#ed7953"
             ],
             [
              0.7777777777777778,
              "#fb9f3a"
             ],
             [
              0.8888888888888888,
              "#fdca26"
             ],
             [
              1,
              "#f0f921"
             ]
            ],
            "type": "histogram2dcontour"
           }
          ],
          "mesh3d": [
           {
            "colorbar": {
             "outlinewidth": 0,
             "ticks": ""
            },
            "type": "mesh3d"
           }
          ],
          "parcoords": [
           {
            "line": {
             "colorbar": {
              "outlinewidth": 0,
              "ticks": ""
             }
            },
            "type": "parcoords"
           }
          ],
          "pie": [
           {
            "automargin": true,
            "type": "pie"
           }
          ],
          "scatter": [
           {
            "fillpattern": {
             "fillmode": "overlay",
             "size": 10,
             "solidity": 0.2
            },
            "type": "scatter"
           }
          ],
          "scatter3d": [
           {
            "line": {
             "colorbar": {
              "outlinewidth": 0,
              "ticks": ""
             }
            },
            "marker": {
             "colorbar": {
              "outlinewidth": 0,
              "ticks": ""
             }
            },
            "type": "scatter3d"
           }
          ],
          "scattercarpet": [
           {
            "marker": {
             "colorbar": {
              "outlinewidth": 0,
              "ticks": ""
             }
            },
            "type": "scattercarpet"
           }
          ],
          "scattergeo": [
           {
            "marker": {
             "colorbar": {
              "outlinewidth": 0,
              "ticks": ""
             }
            },
            "type": "scattergeo"
           }
          ],
          "scattergl": [
           {
            "marker": {
             "colorbar": {
              "outlinewidth": 0,
              "ticks": ""
             }
            },
            "type": "scattergl"
           }
          ],
          "scattermapbox": [
           {
            "marker": {
             "colorbar": {
              "outlinewidth": 0,
              "ticks": ""
             }
            },
            "type": "scattermapbox"
           }
          ],
          "scatterpolar": [
           {
            "marker": {
             "colorbar": {
              "outlinewidth": 0,
              "ticks": ""
             }
            },
            "type": "scatterpolar"
           }
          ],
          "scatterpolargl": [
           {
            "marker": {
             "colorbar": {
              "outlinewidth": 0,
              "ticks": ""
             }
            },
            "type": "scatterpolargl"
           }
          ],
          "scatterternary": [
           {
            "marker": {
             "colorbar": {
              "outlinewidth": 0,
              "ticks": ""
             }
            },
            "type": "scatterternary"
           }
          ],
          "surface": [
           {
            "colorbar": {
             "outlinewidth": 0,
             "ticks": ""
            },
            "colorscale": [
             [
              0,
              "#0d0887"
             ],
             [
              0.1111111111111111,
              "#46039f"
             ],
             [
              0.2222222222222222,
              "#7201a8"
             ],
             [
              0.3333333333333333,
              "#9c179e"
             ],
             [
              0.4444444444444444,
              "#bd3786"
             ],
             [
              0.5555555555555556,
              "#d8576b"
             ],
             [
              0.6666666666666666,
              "#ed7953"
             ],
             [
              0.7777777777777778,
              "#fb9f3a"
             ],
             [
              0.8888888888888888,
              "#fdca26"
             ],
             [
              1,
              "#f0f921"
             ]
            ],
            "type": "surface"
           }
          ],
          "table": [
           {
            "cells": {
             "fill": {
              "color": "#EBF0F8"
             },
             "line": {
              "color": "white"
             }
            },
            "header": {
             "fill": {
              "color": "#C8D4E3"
             },
             "line": {
              "color": "white"
             }
            },
            "type": "table"
           }
          ]
         },
         "layout": {
          "annotationdefaults": {
           "arrowcolor": "#2a3f5f",
           "arrowhead": 0,
           "arrowwidth": 1
          },
          "autotypenumbers": "strict",
          "coloraxis": {
           "colorbar": {
            "outlinewidth": 0,
            "ticks": ""
           }
          },
          "colorscale": {
           "diverging": [
            [
             0,
             "#8e0152"
            ],
            [
             0.1,
             "#c51b7d"
            ],
            [
             0.2,
             "#de77ae"
            ],
            [
             0.3,
             "#f1b6da"
            ],
            [
             0.4,
             "#fde0ef"
            ],
            [
             0.5,
             "#f7f7f7"
            ],
            [
             0.6,
             "#e6f5d0"
            ],
            [
             0.7,
             "#b8e186"
            ],
            [
             0.8,
             "#7fbc41"
            ],
            [
             0.9,
             "#4d9221"
            ],
            [
             1,
             "#276419"
            ]
           ],
           "sequential": [
            [
             0,
             "#0d0887"
            ],
            [
             0.1111111111111111,
             "#46039f"
            ],
            [
             0.2222222222222222,
             "#7201a8"
            ],
            [
             0.3333333333333333,
             "#9c179e"
            ],
            [
             0.4444444444444444,
             "#bd3786"
            ],
            [
             0.5555555555555556,
             "#d8576b"
            ],
            [
             0.6666666666666666,
             "#ed7953"
            ],
            [
             0.7777777777777778,
             "#fb9f3a"
            ],
            [
             0.8888888888888888,
             "#fdca26"
            ],
            [
             1,
             "#f0f921"
            ]
           ],
           "sequentialminus": [
            [
             0,
             "#0d0887"
            ],
            [
             0.1111111111111111,
             "#46039f"
            ],
            [
             0.2222222222222222,
             "#7201a8"
            ],
            [
             0.3333333333333333,
             "#9c179e"
            ],
            [
             0.4444444444444444,
             "#bd3786"
            ],
            [
             0.5555555555555556,
             "#d8576b"
            ],
            [
             0.6666666666666666,
             "#ed7953"
            ],
            [
             0.7777777777777778,
             "#fb9f3a"
            ],
            [
             0.8888888888888888,
             "#fdca26"
            ],
            [
             1,
             "#f0f921"
            ]
           ]
          },
          "colorway": [
           "#636efa",
           "#EF553B",
           "#00cc96",
           "#ab63fa",
           "#FFA15A",
           "#19d3f3",
           "#FF6692",
           "#B6E880",
           "#FF97FF",
           "#FECB52"
          ],
          "font": {
           "color": "#2a3f5f"
          },
          "geo": {
           "bgcolor": "white",
           "lakecolor": "white",
           "landcolor": "white",
           "showlakes": true,
           "showland": true,
           "subunitcolor": "#C8D4E3"
          },
          "hoverlabel": {
           "align": "left"
          },
          "hovermode": "closest",
          "mapbox": {
           "style": "light"
          },
          "paper_bgcolor": "white",
          "plot_bgcolor": "white",
          "polar": {
           "angularaxis": {
            "gridcolor": "#EBF0F8",
            "linecolor": "#EBF0F8",
            "ticks": ""
           },
           "bgcolor": "white",
           "radialaxis": {
            "gridcolor": "#EBF0F8",
            "linecolor": "#EBF0F8",
            "ticks": ""
           }
          },
          "scene": {
           "xaxis": {
            "backgroundcolor": "white",
            "gridcolor": "#DFE8F3",
            "gridwidth": 2,
            "linecolor": "#EBF0F8",
            "showbackground": true,
            "ticks": "",
            "zerolinecolor": "#EBF0F8"
           },
           "yaxis": {
            "backgroundcolor": "white",
            "gridcolor": "#DFE8F3",
            "gridwidth": 2,
            "linecolor": "#EBF0F8",
            "showbackground": true,
            "ticks": "",
            "zerolinecolor": "#EBF0F8"
           },
           "zaxis": {
            "backgroundcolor": "white",
            "gridcolor": "#DFE8F3",
            "gridwidth": 2,
            "linecolor": "#EBF0F8",
            "showbackground": true,
            "ticks": "",
            "zerolinecolor": "#EBF0F8"
           }
          },
          "shapedefaults": {
           "line": {
            "color": "#2a3f5f"
           }
          },
          "ternary": {
           "aaxis": {
            "gridcolor": "#DFE8F3",
            "linecolor": "#A2B1C6",
            "ticks": ""
           },
           "baxis": {
            "gridcolor": "#DFE8F3",
            "linecolor": "#A2B1C6",
            "ticks": ""
           },
           "bgcolor": "white",
           "caxis": {
            "gridcolor": "#DFE8F3",
            "linecolor": "#A2B1C6",
            "ticks": ""
           }
          },
          "title": {
           "x": 0.05
          },
          "xaxis": {
           "automargin": true,
           "gridcolor": "#EBF0F8",
           "linecolor": "#EBF0F8",
           "ticks": "",
           "title": {
            "standoff": 15
           },
           "zerolinecolor": "#EBF0F8",
           "zerolinewidth": 2
          },
          "yaxis": {
           "automargin": true,
           "gridcolor": "#EBF0F8",
           "linecolor": "#EBF0F8",
           "ticks": "",
           "title": {
            "standoff": 15
           },
           "zerolinecolor": "#EBF0F8",
           "zerolinewidth": 2
          }
         }
        },
        "title": {
         "text": "Species sorted by year in keywords in publicly available literature on PubMed"
        },
        "width": 1000,
        "xaxis": {
         "anchor": "y",
         "domain": [
          0,
          1
         ],
         "title": {
          "font": {
           "size": 18
          },
          "text": "Years"
         }
        },
        "yaxis": {
         "anchor": "x",
         "domain": [
          0,
          1
         ],
         "title": {
          "font": {
           "size": 18
          },
          "text": "Number"
         }
        }
       }
      }
     },
     "metadata": {},
     "output_type": "display_data"
    }
   ],
   "source": [
    "import plotly.express as px\n",
    "import pandas as pd\n",
    "import numpy as np\n",
    "\n",
    "df = pd.read_csv('mt/Mt_keywords_counts_year.csv')\n",
    "\n",
    "# df的count列转为float类型\n",
    "df['Count'] = df['Count'].astype(float)\n",
    "df['Counts'] = df['Count'] + np.random.uniform(-0.5, 0.5, size=len(df))\n",
    "df['Years'] = df['Year'] + np.random.uniform(-0.3, 0.3, size=len(df))\n",
    "\n",
    "fig = px.scatter(df, \n",
    "                 x='Years', \n",
    "                 y='Counts', \n",
    "                 size='Count',\n",
    "                 color='Count',\n",
    "                 hover_name='Keyword',  # 使用关键词作为悬浮名称\n",
    "                 hover_data=['Year', 'Count'],  \n",
    "                 size_max=20,\n",
    "                 title='Species sorted by year in keywords in publicly available literature on PubMed',\n",
    "                 labels={\"Count\": \"Numbers\", \"Year\": \"Years\"},\n",
    "                 color_continuous_scale=\"Agsunset\",\n",
    "                )\n",
    "\n",
    "fig.update_layout(\n",
    "    template=\"plotly_white\",\n",
    "    width=1000,\n",
    "    height=600,\n",
    "    xaxis=dict(title=dict(text='Years', font=dict(size=18))),\n",
    "    yaxis=dict(title=dict(text='Number', font=dict(size=18)),\n",
    "    )\n",
    ")\n",
    "\n",
    "\n",
    "fig.show()"
   ]
  },
  {
   "cell_type": "code",
   "execution_count": 8,
   "metadata": {},
   "outputs": [
    {
     "data": {
      "application/vnd.plotly.v1+json": {
       "config": {
        "plotlyServerURL": "https://plot.ly"
       },
       "data": [
        {
         "customdata": [
          [
           2015,
           1
          ],
          [
           2020,
           1
          ],
          [
           2018,
           1
          ],
          [
           2021,
           1
          ],
          [
           2022,
           1
          ],
          [
           2023,
           1
          ],
          [
           2017,
           1
          ],
          [
           2022,
           1
          ],
          [
           2017,
           1
          ],
          [
           2014,
           1
          ],
          [
           2021,
           1
          ],
          [
           2022,
           1
          ],
          [
           2019,
           1
          ],
          [
           2017,
           1
          ],
          [
           2019,
           1
          ],
          [
           2018,
           1
          ],
          [
           2022,
           1
          ],
          [
           2021,
           1
          ],
          [
           2022,
           1
          ],
          [
           2023,
           1
          ],
          [
           2022,
           1
          ],
          [
           2014,
           1
          ],
          [
           2017,
           1
          ],
          [
           2022,
           1
          ],
          [
           2019,
           1
          ],
          [
           2023,
           1
          ],
          [
           2018,
           1
          ],
          [
           2023,
           1
          ],
          [
           2014,
           1
          ],
          [
           2017,
           1
          ],
          [
           2017,
           1
          ],
          [
           2020,
           1
          ],
          [
           2022,
           1
          ],
          [
           2017,
           1
          ],
          [
           2017,
           1
          ],
          [
           2018,
           1
          ],
          [
           2023,
           1
          ],
          [
           2022,
           1
          ],
          [
           2018,
           1
          ],
          [
           2018,
           1
          ],
          [
           2022,
           1
          ],
          [
           2017,
           1
          ],
          [
           2018,
           1
          ],
          [
           2014,
           1
          ],
          [
           2017,
           2
          ],
          [
           2016,
           1
          ],
          [
           2020,
           1
          ],
          [
           2017,
           1
          ],
          [
           2014,
           1
          ],
          [
           2017,
           1
          ],
          [
           2020,
           1
          ],
          [
           2021,
           1
          ],
          [
           2022,
           1
          ],
          [
           2016,
           1
          ],
          [
           2020,
           1
          ],
          [
           2023,
           1
          ],
          [
           2014,
           1
          ],
          [
           2016,
           1
          ],
          [
           2021,
           1
          ],
          [
           2015,
           1
          ],
          [
           2016,
           1
          ],
          [
           2017,
           1
          ],
          [
           2020,
           1
          ],
          [
           2016,
           1
          ],
          [
           2017,
           1
          ],
          [
           2016,
           1
          ],
          [
           2015,
           1
          ],
          [
           2016,
           1
          ],
          [
           2016,
           1
          ],
          [
           2017,
           1
          ],
          [
           2014,
           1
          ],
          [
           2015,
           1
          ],
          [
           2016,
           1
          ],
          [
           2021,
           1
          ],
          [
           2021,
           1
          ],
          [
           2021,
           1
          ],
          [
           2019,
           1
          ],
          [
           2017,
           1
          ],
          [
           2018,
           1
          ],
          [
           2019,
           1
          ],
          [
           2019,
           1
          ],
          [
           2020,
           1
          ],
          [
           2022,
           1
          ],
          [
           2012,
           1
          ],
          [
           2014,
           1
          ],
          [
           2015,
           1
          ],
          [
           2018,
           1
          ],
          [
           2019,
           1
          ],
          [
           2021,
           1
          ],
          [
           2022,
           2
          ],
          [
           2023,
           2
          ],
          [
           2022,
           1
          ],
          [
           2013,
           1
          ],
          [
           2017,
           1
          ],
          [
           2019,
           1
          ],
          [
           2020,
           1
          ],
          [
           2022,
           1
          ],
          [
           2017,
           1
          ],
          [
           2015,
           1
          ],
          [
           2018,
           1
          ],
          [
           2019,
           1
          ],
          [
           2020,
           1
          ],
          [
           2021,
           1
          ],
          [
           2016,
           1
          ],
          [
           2019,
           1
          ],
          [
           2022,
           1
          ],
          [
           2016,
           1
          ],
          [
           2017,
           1
          ],
          [
           2016,
           1
          ],
          [
           2021,
           1
          ],
          [
           2023,
           1
          ],
          [
           2023,
           1
          ],
          [
           2017,
           1
          ],
          [
           2016,
           1
          ],
          [
           2023,
           1
          ],
          [
           2010,
           1
          ],
          [
           2018,
           2
          ],
          [
           2018,
           1
          ],
          [
           2018,
           2
          ],
          [
           2022,
           1
          ],
          [
           2018,
           1
          ],
          [
           2013,
           1
          ],
          [
           2015,
           1
          ],
          [
           2017,
           1
          ],
          [
           2021,
           1
          ],
          [
           2018,
           1
          ],
          [
           2017,
           1
          ],
          [
           2017,
           1
          ],
          [
           2015,
           1
          ],
          [
           2018,
           1
          ],
          [
           2013,
           1
          ],
          [
           2020,
           1
          ],
          [
           2017,
           1
          ],
          [
           2019,
           1
          ],
          [
           2019,
           1
          ],
          [
           2020,
           1
          ],
          [
           2021,
           1
          ],
          [
           2018,
           1
          ],
          [
           2023,
           1
          ],
          [
           2019,
           1
          ],
          [
           2021,
           1
          ],
          [
           2016,
           1
          ],
          [
           2018,
           1
          ],
          [
           2021,
           1
          ],
          [
           2017,
           1
          ],
          [
           2022,
           1
          ],
          [
           2014,
           1
          ],
          [
           2021,
           1
          ],
          [
           2018,
           3
          ],
          [
           2021,
           1
          ],
          [
           2021,
           1
          ],
          [
           2013,
           1
          ],
          [
           2022,
           1
          ],
          [
           2021,
           1
          ],
          [
           2015,
           1
          ],
          [
           2023,
           1
          ],
          [
           2020,
           1
          ],
          [
           2018,
           1
          ],
          [
           2023,
           1
          ],
          [
           2022,
           1
          ],
          [
           2017,
           1
          ],
          [
           2015,
           1
          ],
          [
           2022,
           1
          ],
          [
           2014,
           1
          ],
          [
           2022,
           1
          ],
          [
           2023,
           1
          ],
          [
           2016,
           1
          ],
          [
           2019,
           1
          ],
          [
           2017,
           1
          ],
          [
           2018,
           1
          ],
          [
           2015,
           1
          ],
          [
           2017,
           1
          ],
          [
           2019,
           1
          ],
          [
           2021,
           1
          ],
          [
           2014,
           1
          ],
          [
           2017,
           3
          ],
          [
           2019,
           1
          ],
          [
           2016,
           1
          ],
          [
           2014,
           1
          ],
          [
           2022,
           1
          ],
          [
           2015,
           1
          ],
          [
           2016,
           1
          ],
          [
           2017,
           1
          ],
          [
           2017,
           1
          ],
          [
           2020,
           1
          ],
          [
           2019,
           1
          ],
          [
           2020,
           1
          ],
          [
           2013,
           1
          ],
          [
           2023,
           1
          ],
          [
           2021,
           1
          ],
          [
           2017,
           1
          ],
          [
           2016,
           2
          ],
          [
           2018,
           1
          ],
          [
           2016,
           1
          ],
          [
           2019,
           1
          ],
          [
           2021,
           2
          ],
          [
           2023,
           1
          ],
          [
           2020,
           1
          ],
          [
           2017,
           1
          ],
          [
           2022,
           1
          ],
          [
           2019,
           1
          ],
          [
           2017,
           1
          ],
          [
           2016,
           1
          ],
          [
           2020,
           1
          ],
          [
           2020,
           1
          ],
          [
           2013,
           1
          ],
          [
           2014,
           1
          ],
          [
           2023,
           1
          ],
          [
           2018,
           1
          ],
          [
           2016,
           1
          ],
          [
           2018,
           1
          ],
          [
           2018,
           1
          ],
          [
           2021,
           1
          ],
          [
           2014,
           1
          ],
          [
           2017,
           1
          ],
          [
           2021,
           1
          ],
          [
           2022,
           1
          ],
          [
           2017,
           1
          ],
          [
           2018,
           1
          ],
          [
           2017,
           1
          ],
          [
           2019,
           2
          ],
          [
           2020,
           1
          ],
          [
           2022,
           3
          ],
          [
           2023,
           1
          ],
          [
           2020,
           1
          ],
          [
           2021,
           1
          ],
          [
           2016,
           1
          ],
          [
           2022,
           1
          ],
          [
           2021,
           1
          ],
          [
           2019,
           1
          ],
          [
           2021,
           1
          ],
          [
           2020,
           1
          ],
          [
           2013,
           1
          ],
          [
           2018,
           1
          ],
          [
           2016,
           1
          ],
          [
           2022,
           1
          ],
          [
           2017,
           1
          ],
          [
           2021,
           1
          ],
          [
           2021,
           1
          ],
          [
           2021,
           1
          ],
          [
           2016,
           1
          ],
          [
           2023,
           1
          ],
          [
           2023,
           1
          ],
          [
           2021,
           1
          ],
          [
           2021,
           1
          ],
          [
           2016,
           1
          ],
          [
           2020,
           1
          ],
          [
           2018,
           1
          ],
          [
           2023,
           1
          ],
          [
           2019,
           2
          ],
          [
           2016,
           1
          ],
          [
           2015,
           1
          ],
          [
           2022,
           1
          ],
          [
           2022,
           1
          ],
          [
           2023,
           1
          ],
          [
           2013,
           1
          ],
          [
           2021,
           1
          ],
          [
           2019,
           1
          ],
          [
           2022,
           1
          ],
          [
           2015,
           1
          ],
          [
           2022,
           1
          ],
          [
           2022,
           1
          ],
          [
           2021,
           1
          ],
          [
           2022,
           1
          ],
          [
           2019,
           1
          ],
          [
           2022,
           1
          ],
          [
           2023,
           1
          ],
          [
           2016,
           1
          ],
          [
           2021,
           1
          ],
          [
           2022,
           1
          ],
          [
           2021,
           1
          ],
          [
           2018,
           1
          ],
          [
           2023,
           1
          ],
          [
           2022,
           1
          ],
          [
           2015,
           1
          ],
          [
           2019,
           1
          ],
          [
           2021,
           1
          ],
          [
           2022,
           1
          ],
          [
           2018,
           1
          ],
          [
           2013,
           1
          ],
          [
           2021,
           1
          ],
          [
           2017,
           1
          ],
          [
           2015,
           1
          ],
          [
           2016,
           1
          ],
          [
           2021,
           1
          ],
          [
           2016,
           1
          ],
          [
           2021,
           1
          ],
          [
           2017,
           1
          ],
          [
           2019,
           1
          ],
          [
           2021,
           1
          ],
          [
           2022,
           1
          ],
          [
           2010,
           1
          ],
          [
           2014,
           1
          ],
          [
           2018,
           1
          ],
          [
           2021,
           1
          ],
          [
           2021,
           1
          ],
          [
           2020,
           1
          ],
          [
           2018,
           1
          ],
          [
           2016,
           1
          ],
          [
           2022,
           1
          ],
          [
           2022,
           1
          ],
          [
           2022,
           1
          ],
          [
           2022,
           1
          ],
          [
           2023,
           1
          ],
          [
           2014,
           1
          ],
          [
           2022,
           1
          ],
          [
           2018,
           1
          ],
          [
           2016,
           1
          ],
          [
           2021,
           1
          ],
          [
           2021,
           1
          ],
          [
           2018,
           1
          ],
          [
           2022,
           1
          ],
          [
           2023,
           1
          ],
          [
           2010,
           1
          ],
          [
           2014,
           2
          ],
          [
           2016,
           4
          ],
          [
           2017,
           1
          ],
          [
           2018,
           8
          ],
          [
           2020,
           1
          ],
          [
           2021,
           4
          ],
          [
           2022,
           1
          ],
          [
           2023,
           1
          ],
          [
           2017,
           1
          ],
          [
           2018,
           1
          ],
          [
           2023,
           1
          ],
          [
           2018,
           1
          ],
          [
           2016,
           3
          ],
          [
           2022,
           1
          ],
          [
           2022,
           1
          ],
          [
           2014,
           1
          ],
          [
           2021,
           1
          ],
          [
           2016,
           1
          ],
          [
           2017,
           2
          ],
          [
           2018,
           1
          ],
          [
           2022,
           1
          ],
          [
           2017,
           2
          ],
          [
           2020,
           1
          ],
          [
           2021,
           1
          ],
          [
           2021,
           1
          ],
          [
           2021,
           1
          ],
          [
           2021,
           1
          ],
          [
           2015,
           1
          ],
          [
           2017,
           2
          ],
          [
           2020,
           1
          ],
          [
           2023,
           1
          ],
          [
           2021,
           1
          ],
          [
           2022,
           1
          ],
          [
           2021,
           1
          ],
          [
           2017,
           2
          ],
          [
           2018,
           1
          ],
          [
           2019,
           1
          ],
          [
           2020,
           1
          ],
          [
           2021,
           1
          ],
          [
           2022,
           1
          ],
          [
           2023,
           1
          ],
          [
           2013,
           1
          ],
          [
           2023,
           1
          ],
          [
           2017,
           1
          ],
          [
           2019,
           1
          ],
          [
           2021,
           1
          ],
          [
           2022,
           1
          ],
          [
           2019,
           1
          ],
          [
           2019,
           1
          ],
          [
           2022,
           1
          ],
          [
           2014,
           1
          ],
          [
           2022,
           1
          ],
          [
           2022,
           1
          ],
          [
           2022,
           1
          ],
          [
           2021,
           1
          ],
          [
           2015,
           1
          ],
          [
           2010,
           1
          ],
          [
           2018,
           1
          ],
          [
           2019,
           1
          ],
          [
           2020,
           1
          ],
          [
           2021,
           2
          ],
          [
           2022,
           2
          ],
          [
           2022,
           1
          ],
          [
           2020,
           1
          ],
          [
           2019,
           1
          ],
          [
           2020,
           1
          ],
          [
           2016,
           1
          ],
          [
           2015,
           1
          ],
          [
           2017,
           1
          ],
          [
           2021,
           1
          ],
          [
           2015,
           1
          ],
          [
           2021,
           1
          ],
          [
           2022,
           2
          ],
          [
           2020,
           1
          ],
          [
           2023,
           1
          ],
          [
           2018,
           1
          ],
          [
           2015,
           1
          ],
          [
           2017,
           1
          ],
          [
           2020,
           1
          ],
          [
           2019,
           1
          ],
          [
           2017,
           1
          ],
          [
           2017,
           1
          ],
          [
           2021,
           2
          ],
          [
           2023,
           2
          ],
          [
           2013,
           2
          ],
          [
           2014,
           2
          ],
          [
           2015,
           3
          ],
          [
           2016,
           4
          ],
          [
           2017,
           8
          ],
          [
           2018,
           7
          ],
          [
           2019,
           5
          ],
          [
           2020,
           5
          ],
          [
           2021,
           2
          ],
          [
           2022,
           9
          ],
          [
           2023,
           2
          ],
          [
           2020,
           1
          ],
          [
           2018,
           1
          ],
          [
           2014,
           1
          ],
          [
           2022,
           1
          ],
          [
           2014,
           1
          ],
          [
           2021,
           1
          ],
          [
           2021,
           1
          ],
          [
           2021,
           1
          ],
          [
           2022,
           1
          ],
          [
           2013,
           1
          ],
          [
           2021,
           1
          ],
          [
           2017,
           1
          ],
          [
           2017,
           1
          ],
          [
           2016,
           1
          ],
          [
           2013,
           1
          ],
          [
           2022,
           1
          ],
          [
           2016,
           1
          ],
          [
           2018,
           1
          ],
          [
           2017,
           1
          ],
          [
           2018,
           1
          ],
          [
           2021,
           1
          ],
          [
           2022,
           1
          ],
          [
           2017,
           1
          ],
          [
           2013,
           1
          ],
          [
           2019,
           1
          ],
          [
           2016,
           1
          ],
          [
           2021,
           1
          ],
          [
           2020,
           1
          ],
          [
           2022,
           1
          ],
          [
           2018,
           1
          ],
          [
           2014,
           1
          ],
          [
           2017,
           1
          ],
          [
           2017,
           1
          ],
          [
           2015,
           1
          ],
          [
           2019,
           1
          ],
          [
           2018,
           1
          ],
          [
           2021,
           1
          ],
          [
           2018,
           1
          ],
          [
           2016,
           1
          ],
          [
           2018,
           1
          ],
          [
           2017,
           1
          ],
          [
           2017,
           1
          ],
          [
           2013,
           1
          ],
          [
           2015,
           1
          ],
          [
           2016,
           1
          ],
          [
           2017,
           2
          ],
          [
           2018,
           1
          ],
          [
           2019,
           1
          ],
          [
           2021,
           1
          ],
          [
           2018,
           1
          ],
          [
           2014,
           1
          ],
          [
           2018,
           1
          ],
          [
           2021,
           1
          ],
          [
           2020,
           1
          ],
          [
           2018,
           1
          ],
          [
           2015,
           1
          ],
          [
           2016,
           1
          ],
          [
           2017,
           1
          ],
          [
           2018,
           1
          ],
          [
           2023,
           1
          ],
          [
           2017,
           1
          ],
          [
           2021,
           1
          ],
          [
           2019,
           1
          ],
          [
           2019,
           1
          ],
          [
           2014,
           1
          ],
          [
           2023,
           1
          ],
          [
           2021,
           1
          ],
          [
           2017,
           1
          ],
          [
           2022,
           1
          ],
          [
           2017,
           1
          ],
          [
           2021,
           1
          ],
          [
           2021,
           1
          ],
          [
           2015,
           1
          ],
          [
           2020,
           1
          ],
          [
           2021,
           1
          ],
          [
           2017,
           2
          ],
          [
           2020,
           2
          ],
          [
           2021,
           1
          ],
          [
           2014,
           1
          ],
          [
           2016,
           1
          ],
          [
           2019,
           1
          ],
          [
           2020,
           1
          ],
          [
           2015,
           1
          ],
          [
           2021,
           2
          ],
          [
           2016,
           1
          ],
          [
           2021,
           1
          ],
          [
           2016,
           1
          ],
          [
           2022,
           1
          ],
          [
           2020,
           1
          ],
          [
           2017,
           1
          ],
          [
           2022,
           1
          ],
          [
           2021,
           1
          ],
          [
           2022,
           1
          ],
          [
           2022,
           1
          ],
          [
           2022,
           1
          ],
          [
           2013,
           1
          ],
          [
           2018,
           1
          ],
          [
           2022,
           1
          ],
          [
           2018,
           1
          ],
          [
           2013,
           1
          ],
          [
           2020,
           1
          ],
          [
           2023,
           1
          ],
          [
           2019,
           1
          ],
          [
           2022,
           1
          ],
          [
           2015,
           1
          ],
          [
           2016,
           1
          ],
          [
           2018,
           1
          ],
          [
           2019,
           1
          ],
          [
           2018,
           1
          ],
          [
           2019,
           1
          ],
          [
           2023,
           1
          ],
          [
           2018,
           1
          ],
          [
           2023,
           1
          ],
          [
           2016,
           1
          ],
          [
           2023,
           1
          ],
          [
           2016,
           1
          ],
          [
           2021,
           1
          ],
          [
           2023,
           1
          ],
          [
           2021,
           1
          ],
          [
           2014,
           1
          ],
          [
           2021,
           1
          ],
          [
           2017,
           1
          ],
          [
           2017,
           1
          ],
          [
           2016,
           1
          ],
          [
           2017,
           1
          ],
          [
           2010,
           1
          ],
          [
           2014,
           1
          ],
          [
           2022,
           1
          ],
          [
           2018,
           1
          ],
          [
           2019,
           1
          ],
          [
           2020,
           1
          ],
          [
           2022,
           1
          ],
          [
           2020,
           1
          ],
          [
           2014,
           1
          ],
          [
           2016,
           1
          ],
          [
           2019,
           1
          ],
          [
           2020,
           1
          ],
          [
           2023,
           1
          ],
          [
           2016,
           1
          ],
          [
           2022,
           1
          ],
          [
           2017,
           1
          ],
          [
           2016,
           1
          ],
          [
           2019,
           1
          ],
          [
           2022,
           1
          ],
          [
           2016,
           1
          ],
          [
           2017,
           1
          ],
          [
           2015,
           1
          ],
          [
           2021,
           1
          ],
          [
           2022,
           1
          ],
          [
           2018,
           1
          ],
          [
           2018,
           2
          ],
          [
           2023,
           1
          ],
          [
           2013,
           1
          ],
          [
           2012,
           1
          ],
          [
           2015,
           1
          ],
          [
           2017,
           1
          ],
          [
           2019,
           1
          ],
          [
           2021,
           1
          ],
          [
           2022,
           2
          ],
          [
           2016,
           1
          ],
          [
           2017,
           1
          ],
          [
           2015,
           2
          ],
          [
           2017,
           1
          ],
          [
           2020,
           1
          ],
          [
           2021,
           1
          ],
          [
           2022,
           1
          ],
          [
           2023,
           1
          ],
          [
           2023,
           1
          ],
          [
           2021,
           1
          ],
          [
           2016,
           1
          ],
          [
           2022,
           1
          ],
          [
           2019,
           1
          ],
          [
           2020,
           1
          ],
          [
           2021,
           1
          ],
          [
           2023,
           1
          ],
          [
           2019,
           2
          ],
          [
           2020,
           1
          ],
          [
           2021,
           1
          ],
          [
           2016,
           1
          ],
          [
           2023,
           1
          ],
          [
           2020,
           1
          ],
          [
           2017,
           1
          ],
          [
           2015,
           1
          ],
          [
           2018,
           1
          ],
          [
           2022,
           1
          ],
          [
           2018,
           1
          ],
          [
           2023,
           1
          ],
          [
           2018,
           1
          ],
          [
           2022,
           1
          ],
          [
           2018,
           1
          ],
          [
           2021,
           1
          ],
          [
           2022,
           1
          ],
          [
           2017,
           1
          ],
          [
           2013,
           1
          ],
          [
           2021,
           1
          ],
          [
           2020,
           1
          ],
          [
           2017,
           2
          ],
          [
           2020,
           1
          ],
          [
           2022,
           1
          ],
          [
           2015,
           1
          ],
          [
           2017,
           1
          ],
          [
           2021,
           1
          ],
          [
           2017,
           1
          ],
          [
           2022,
           1
          ],
          [
           2022,
           1
          ],
          [
           2022,
           1
          ],
          [
           2017,
           1
          ],
          [
           2021,
           1
          ],
          [
           2018,
           1
          ],
          [
           2023,
           1
          ],
          [
           2015,
           1
          ],
          [
           2018,
           1
          ],
          [
           2021,
           1
          ],
          [
           2023,
           1
          ],
          [
           2018,
           1
          ],
          [
           2015,
           1
          ],
          [
           2014,
           1
          ],
          [
           2015,
           1
          ],
          [
           2016,
           2
          ],
          [
           2021,
           1
          ],
          [
           2019,
           1
          ],
          [
           2012,
           1
          ],
          [
           2018,
           1
          ],
          [
           2020,
           1
          ],
          [
           2021,
           1
          ],
          [
           2023,
           1
          ],
          [
           2018,
           1
          ],
          [
           2019,
           1
          ],
          [
           2019,
           1
          ],
          [
           2021,
           1
          ],
          [
           2017,
           1
          ],
          [
           2021,
           1
          ],
          [
           2022,
           1
          ],
          [
           2017,
           1
          ],
          [
           2020,
           2
          ],
          [
           2021,
           1
          ],
          [
           2019,
           2
          ],
          [
           2016,
           1
          ],
          [
           2021,
           1
          ],
          [
           2022,
           1
          ],
          [
           2023,
           1
          ]
         ],
         "hovertemplate": "<b>%{hovertext}</b><br><br>Years=%{customdata[0]}<br>Counts=%{y}<br>Numbers=%{marker.color}<extra></extra>",
         "hovertext": [
          "Aagal",
          "Aaox",
          "Abts",
          "Acidic xylooligosaccharides",
          "Active site segment",
          "Acute lymphoblastic leukemia",
          "Additives",
          "Adjuvant",
          "Agaricus bisporus",
          "Agarose",
          "Alkalistable",
          "Alum",
          "Amino acid composition",
          "Amperometric response",
          "Amylose",
          "Amyr",
          "Antibacterial activity",
          "Anticancer",
          "Antifungal activity",
          "Antifungal susceptibility testing",
          "Antigen",
          "Antioxidant",
          "Antioxidant",
          "Antioxidant",
          "Antioxidant peptide",
          "Antioxidase",
          "Aqueous systems",
          "Artp",
          "Ascomycetous strains",
          "Ascomycota",
          "Aspergillus fumigatus",
          "Aspergillus niger",
          "Aspergillus niger",
          "Aspergillus terreus",
          "Bacterial cellulose",
          "Bacterial cellulose",
          "Bacterial laccase",
          "Baculovirus",
          "Bamboo powder",
          "Bamboo tablets",
          "Base editing",
          "Basidiomycota",
          "Bicovalent",
          "Bioaugmentation",
          "Biocatalysis",
          "Biocatalyzed polymerization",
          "Biochemicals",
          "Bioethanol",
          "Biofuels",
          "Biofuels",
          "Biofuels",
          "Biografting",
          "Biomanufacturing",
          "Biomass",
          "Biomass",
          "Biomass conversion",
          "Biomass degradation",
          "Biomolecules",
          "Bioprospecting",
          "Biorefinery",
          "Biorefinery",
          "Biorefinery",
          "Biorefinery",
          "Biotechnological applications",
          "Butyl ferulate",
          "Carbohydrate",
          "Carbohydrate active enzyme database",
          "Carbohydrate processing",
          "Catechol",
          "Catechol oxidase",
          "Cazy",
          "Cazy",
          "Cazy",
          "Cazyme gene regulation",
          "Cazymes",
          "Cbb cycle",
          "Cell factory",
          "Cellobiohydrolase",
          "Cellobiohydrolase",
          "Cellobiohydrolase",
          "Cellobiose",
          "Cellobiose",
          "Cellobiose",
          "Cellulase",
          "Cellulase",
          "Cellulase",
          "Cellulase",
          "Cellulase",
          "Cellulase",
          "Cellulase",
          "Cellulase",
          "Cellulase production",
          "Cellulases",
          "Cellulases",
          "Cellulases",
          "Cellulases",
          "Cellulases",
          "Cellulolytic cocktail improvement",
          "Cellulose",
          "Cellulose",
          "Cellulose",
          "Cellulose",
          "Cellulose",
          "Cellulose degradation",
          "Cellulose degradation",
          "Cellulose degradation",
          "Cellulose hydrolysis",
          "Cellulose hydrolysis",
          "Cellulose oxidation",
          "Cellulose saccharification",
          "Cellulose saccharification",
          "Central composite design",
          "Chaetosartorya cremea",
          "Characterization",
          "Characterization",
          "Chemical modification",
          "Chitin",
          "Chitinase",
          "Chitosan",
          "Chitosan",
          "Chitosan hydrogel",
          "Circular dichroism",
          "Class ii peroxidase",
          "Cloning",
          "Coating",
          "Coatings",
          "Codon optimization",
          "Collagenolytic protease",
          "Computational prediction",
          "Conductive cotton",
          "Conformation",
          "Consolidated bioprocessing",
          "Constitutive expression",
          "Copper",
          "Copper monooxygenase",
          "Corn stover",
          "Coupling",
          "Covalent immobilization",
          "Covalent immobilization",
          "Crispr",
          "Cryopreservation",
          "Crystal structure",
          "Crystal structure",
          "Crystallization",
          "Cyclic voltammetry",
          "Cytosine base editor",
          "Cytotoxicity",
          "Decalin",
          "Decolorization",
          "Decolorization",
          "Deep eutectic solvent",
          "Degree of substitution",
          "Depolymerisation",
          "Different fungal species",
          "Differential scanning calorimetry",
          "Digestibility enhancers",
          "Direct electron transfer",
          "Directed evolution",
          "Disulfide bond",
          "Docking simulation",
          "Dpph",
          "Dsc",
          "Dyadic",
          "Dye",
          "Efficacy",
          "Efficacy",
          "Electron donor",
          "Electroporation",
          "Elenolic acid",
          "Elimination",
          "Endoglucanase",
          "Endoglucanase",
          "Endoxylanase",
          "Endoxylanase",
          "Enzymatic deacetylation",
          "Enzymatic hydrolysis",
          "Enzymatic hydrolysis",
          "Enzymatic oligomerization",
          "Enzymatic oxidation",
          "Enzymatic oxidation",
          "Enzymatic saccharification",
          "Enzymatic saccharification",
          "Enzymatic saccharification",
          "Enzymatic tailoring",
          "Enzyme",
          "Enzyme activity",
          "Enzyme assay",
          "Enzyme electrodes",
          "Enzyme engineering",
          "Enzyme hypersecretion",
          "Enzyme immobilisation",
          "Enzyme immobilization",
          "Enzyme immobilization",
          "Enzyme mixture",
          "Enzyme stability",
          "Enzymes",
          "Enzymes",
          "Epinephrine",
          "Epr",
          "Er stress",
          "Escherichia coli",
          "Esterification",
          "Ethanol",
          "Ethanol",
          "Ethanol fermentation",
          "Ethanol tolerance",
          "Ethyl ferulate",
          "Eucalypt",
          "Eucalyptus globulus",
          "Experimental design",
          "Expression",
          "Expression optimization",
          "Extremozyme",
          "Ferulic acid",
          "Ferulic acid",
          "Ferulic acid",
          "Ferulic acid",
          "Feruloyl esterase",
          "Feruloyl esterase",
          "Filamentous fungi",
          "Filamentous fungi",
          "Filamentous fungi",
          "Filamentous fungi",
          "Filamentous fungi",
          "Filamentous fungus",
          "Fixed bioreactor",
          "Flavonoids",
          "Flow cytometry",
          "Fluorophenol",
          "Food protein",
          "Freezing",
          "Ftacv",
          "Fuel cells",
          "Fumaric acid",
          "Fumed silica nanoparticles",
          "Functional properties",
          "Functionalization",
          "Functionalization",
          "Fungal biotechnology",
          "Fungal enzyme production",
          "Fungal enzymes",
          "Fungal growth",
          "Fungal laccase",
          "Galactose transport",
          "Galactose utilization",
          "Gallic acid",
          "Gene editing",
          "Gene expression",
          "Gene regulation",
          "Genome editing",
          "Glucan",
          "Glucoamylase",
          "Glucoamylase",
          "Glucosamine",
          "Glucose and ethanol tolerance",
          "Glucose oxidation",
          "Glucuronic acid recognition",
          "Glucuronoxylan",
          "Glycans",
          "Glycerol",
          "Glycolysis",
          "Glycoprotein",
          "Glycoside hydrolase",
          "Glycoside hydrolase",
          "Glycoside hydrolases",
          "Glycosylation",
          "Grafting",
          "Green processing",
          "Growth kinetics",
          "Guaiacol",
          "Gum arabic",
          "Hbt",
          "Hemicellulase",
          "Hermetia illucens",
          "Heterologous production",
          "Heterologous production",
          "Heterologous protein expression",
          "Homology modelling",
          "Hpi",
          "Hpsec",
          "Hybrid",
          "Hydrogen peroxide",
          "Hydrolysis",
          "Hydrolysis",
          "Hydrolytic activity",
          "Hydrolytic enzymes",
          "Hydrophobicity",
          "Hydroxytyrosol",
          "Hygromycin b phosphotransferase gene hph",
          "Hymenaea courbaril",
          "Igg",
          "Immobilisation",
          "Immobilization",
          "Immobilization",
          "Immobilization",
          "Improved production",
          "In vivo grna transcription",
          "Industrially relevant fungi",
          "Infant",
          "Influenza vaccine",
          "Insect",
          "Insect cells",
          "Intranasal challenge",
          "Invasive pulmonary infection",
          "Ionic liquid",
          "Ionic liquid",
          "Isocyanide",
          "Itraconazole",
          "Kinetic analysis",
          "Kinetics",
          "Kraft lignin",
          "Kraft lignin",
          "Kraft lignin",
          "Laccase",
          "Laccase",
          "Laccase",
          "Laccase",
          "Laccase",
          "Laccase",
          "Laccase",
          "Laccase",
          "Laccase",
          "Laccase kinetics",
          "Laccases",
          "Laea",
          "Library",
          "Lignin",
          "Lignin",
          "Lignin degrading enzymes",
          "Lignocellulolytic enzymes",
          "Lignocellulolytic enzymes",
          "Lignocellulose",
          "Lignocellulose",
          "Lignocellulose",
          "Lignocellulose",
          "Lignocellulosic biomass",
          "Lignocellulosic biomass",
          "Lignocellulosic biomass",
          "Lignosulfonate",
          "Logistic model",
          "Low temperature",
          "Lpmo",
          "Lpmo",
          "Lpmo",
          "Lpmo",
          "Lpmo biocatalysis",
          "Lpmos",
          "Lyophilization",
          "Lytic polysaccharide monooxygenase",
          "Lytic polysaccharide monooxygenase",
          "Lytic polysaccharide monooxygenase",
          "Lytic polysaccharide monooxygenase",
          "Lytic polysaccharide monooxygenase",
          "Lytic polysaccharide monooxygenase",
          "Lytic polysaccharide monooxygenase",
          "Macromolecular assemblages",
          "Malate export",
          "Malbranchea cinamomea",
          "Malic acid",
          "Malic acid",
          "Malonic acid",
          "Marine fungi",
          "Marker recycling",
          "Mass spectrometric fragmentation",
          "Mass spectrometry",
          "Md simulation",
          "Mdf",
          "Mediator",
          "Melanin",
          "Melting temperature",
          "Mesoporous silicates",
          "Metabolic engineering",
          "Metabolic engineering",
          "Metabolic engineering",
          "Metabolic engineering",
          "Metabolic engineering",
          "Metabolic regulation",
          "Metal ion effect",
          "Metalloprotein",
          "Mhglaa",
          "Micropollutants",
          "Microwaves",
          "Mode of action",
          "Mode of action",
          "Modeling",
          "Modification",
          "Molecular docking",
          "Molecular dynamics",
          "Molecular mechanism",
          "Morphine",
          "Mtgal",
          "Mtperii peroxidase",
          "Multicopper oxidase",
          "Multiplexing",
          "Multivariate analysis",
          "Myceliophthora",
          "Myceliophthora",
          "Myceliophthora",
          "Myceliophthora thermophila",
          "Myceliophthora thermophila",
          "Myceliophthora thermophila",
          "Myceliophthora thermophila",
          "Myceliophthora thermophila",
          "Myceliophthora thermophila",
          "Myceliophthora thermophila",
          "Myceliophthora thermophila",
          "Myceliophthora thermophila",
          "Myceliophthora thermophila",
          "Myceliophthora thermophila",
          "Myceliophthora thermophile",
          "Myceliophthora thermophile laccase",
          "Myceliophtora sp",
          "Mycoprotein",
          "Mycoremediation",
          "Nanocellulose",
          "Natural mediators",
          "Neurospora crassa",
          "Neutralizing antibodies",
          "Nucleocytoplasmic transport",
          "Nutrition",
          "Oleuropein",
          "Oleuropein aglycones",
          "Oligosaccharide",
          "Overexpression",
          "Oxaloacetic acid",
          "Oxidase",
          "Oxidase",
          "Oxidation",
          "Oxidation",
          "Oxidation product",
          "Oxidative cleavage",
          "Oxygen consumption rate",
          "Oxygen reduction",
          "Oxygenase",
          "Ozonolysis",
          "Packing density",
          "Paenibacillus odorifer",
          "Pandemic",
          "Pbmcs",
          "Pcbs",
          "Pectin",
          "Penicillium citrinum",
          "Penicillium verruculosum",
          "Pentose catabolism",
          "Phenol biodegradation",
          "Phenol grafting",
          "Phenolic compound extraction",
          "Phenolics",
          "Phenolics",
          "Phenols",
          "Phenoxy radicals in lignin",
          "Pichia pastoris",
          "Pichia pastoris",
          "Pichia pastoris",
          "Pichia pastoris",
          "Pichia pastoris",
          "Pichia pastoris",
          "Pichia pastoris",
          "Pilot scale",
          "Plant biomass",
          "Plant biomass",
          "Plant biomass",
          "Platform",
          "Polyaniline",
          "Polycatechol",
          "Polymerisation",
          "Polymerization",
          "Polymerization",
          "Polymerization",
          "Polyphenol oxidase",
          "Polyphenol oxidase",
          "Polysaccharide",
          "Polysaccharide monooxygenase",
          "Position of acetyl groups",
          "Poultry",
          "Poultry feed",
          "Ppo",
          "Precise engineering",
          "Prenyl ferulate",
          "Preservation",
          "Pretreated corn cobs",
          "Pretreatment",
          "Pretreatment",
          "Process optimization",
          "Processivity",
          "Processivity",
          "Production",
          "Productivity",
          "Prophylaxis",
          "Protease",
          "Protease",
          "Protein design",
          "Protein engineering",
          "Protein evolution",
          "Purification",
          "Pyrogallol",
          "Rbd",
          "Reaction kinetics",
          "Real time assay",
          "Receptor binding domain",
          "Recombinant cellobiohydrolase",
          "Recombinant protein",
          "Recombinant protein expression",
          "Recombinant protein subunit vaccine",
          "Redox chemistry",
          "Reducing agent",
          "Reduction",
          "Reductive tca",
          "Renatured xanthan",
          "Response surface methodology",
          "Response surface methodology",
          "Rice straw",
          "Rmn",
          "Rna interference",
          "Rna polymerase",
          "Rnai",
          "Rnp",
          "Saccharification",
          "Saccharification",
          "Saccharification",
          "Saccharomyces cerevisiae",
          "Safety",
          "Secondary effluent",
          "Secretome",
          "Secretome composition",
          "Sequential solid state and submerged cultivation",
          "Signal transduction",
          "Single and mixed fungal species cultivation",
          "Solid media",
          "Solvent tolerance",
          "Soy polysaccharides",
          "Soy spent flake",
          "Sporotrichum thermophile",
          "Spray dryer",
          "Stabilisation",
          "Stability",
          "Stability",
          "Starch",
          "Starch",
          "Structural analysis",
          "Structure modelling",
          "Sugar uptake",
          "Sugarcane bagasse",
          "Sugarcane bagasse",
          "Sugarcane bagasse",
          "Sugarcane bagasse",
          "Sugarcane bagasse",
          "Superficial fungal infections",
          "Surface modifacation",
          "Swelling",
          "Synergism",
          "Synergy",
          "Synergy",
          "Systemic fungal infections",
          "Talaromyces leycettanus",
          "Talaromyces stipitatus galactanase",
          "Tamarindus indica",
          "Targeted influenza hemagglutinin",
          "Tempo",
          "Textile dyes",
          "Thermodynamics",
          "Thermophilic",
          "Thermophilic fungi",
          "Thermophilic fungi",
          "Thermophilic fungi",
          "Thermophilic fungi",
          "Thermophilic fungi",
          "Thermophilic fungi",
          "Thermophilic mould",
          "Thermophilic mould",
          "Thermostability",
          "Thermostability",
          "Thermostability",
          "Thermostability",
          "Thermostability",
          "Thermostability",
          "Thermostable",
          "Thermostable cellulose",
          "Thermostable enzymes",
          "Thermothelomyces heterothallica",
          "Thermothelomyces thermophila",
          "Thermothelomyces thermophila",
          "Thermothelomyces thermophila",
          "Thermothelomyces thermophila",
          "Thermothelomyces thermophilus",
          "Thermothelomyces thermophilus",
          "Thermothelomyces thermophilus",
          "Thermotolerant",
          "Thermotolerant mutant",
          "Thielavia australiensis",
          "Thielavia terrestris",
          "Tm",
          "Toxicity",
          "Toxicology",
          "Trametes versicolor",
          "Transceptor",
          "Transcription factor",
          "Transcription factor",
          "Transcriptomic profiles",
          "Transcriptomic profiles",
          "Transcriptomics",
          "Transesterification",
          "Transglycosylation",
          "Transporter",
          "Trehalase",
          "Trichoderma reesei",
          "Trichoderma reesei",
          "Trimeric influenza hemagglutinin",
          "Tsgal",
          "Tyrosinase",
          "Tyrosinase",
          "Ultrasound",
          "Vaccine",
          "Variants of concern",
          "Virus",
          "Viscosity",
          "Viscosity reduction",
          "Wastewater",
          "Weimberg pathway",
          "Wild type",
          "Wood",
          "Wood hydrophobization",
          "Wood hydrophobization",
          "Wound enzymes",
          "Wt",
          "Xanthan conformation",
          "Xylan",
          "Xylan",
          "Xylan",
          "Xylan degradation",
          "Xylanase",
          "Xylanase",
          "Xylanase",
          "Xylanase",
          "Xylanase",
          "Xylanases",
          "Xylanolytic regulator",
          "Xylobiohydrolase",
          "Xylobiohydrolase",
          "Xyloglucan",
          "Xyloglucan",
          "Xyloglucan",
          "Xyloglucanase",
          "Xyloglucanase",
          "Xyloglucanase",
          "Xylooligosaccharides",
          "Xylose",
          "Xylose",
          "Zoonotic",
          "Zootechnical additives"
         ],
         "legendgroup": "",
         "marker": {
          "color": [
           1,
           1,
           1,
           1,
           1,
           1,
           1,
           1,
           1,
           1,
           1,
           1,
           1,
           1,
           1,
           1,
           1,
           1,
           1,
           1,
           1,
           1,
           1,
           1,
           1,
           1,
           1,
           1,
           1,
           1,
           1,
           1,
           1,
           1,
           1,
           1,
           1,
           1,
           1,
           1,
           1,
           1,
           1,
           1,
           2,
           1,
           1,
           1,
           1,
           1,
           1,
           1,
           1,
           1,
           1,
           1,
           1,
           1,
           1,
           1,
           1,
           1,
           1,
           1,
           1,
           1,
           1,
           1,
           1,
           1,
           1,
           1,
           1,
           1,
           1,
           1,
           1,
           1,
           1,
           1,
           1,
           1,
           1,
           1,
           1,
           1,
           1,
           1,
           1,
           2,
           2,
           1,
           1,
           1,
           1,
           1,
           1,
           1,
           1,
           1,
           1,
           1,
           1,
           1,
           1,
           1,
           1,
           1,
           1,
           1,
           1,
           1,
           1,
           1,
           1,
           1,
           2,
           1,
           2,
           1,
           1,
           1,
           1,
           1,
           1,
           1,
           1,
           1,
           1,
           1,
           1,
           1,
           1,
           1,
           1,
           1,
           1,
           1,
           1,
           1,
           1,
           1,
           1,
           1,
           1,
           1,
           1,
           1,
           3,
           1,
           1,
           1,
           1,
           1,
           1,
           1,
           1,
           1,
           1,
           1,
           1,
           1,
           1,
           1,
           1,
           1,
           1,
           1,
           1,
           1,
           1,
           1,
           1,
           1,
           1,
           3,
           1,
           1,
           1,
           1,
           1,
           1,
           1,
           1,
           1,
           1,
           1,
           1,
           1,
           1,
           1,
           2,
           1,
           1,
           1,
           2,
           1,
           1,
           1,
           1,
           1,
           1,
           1,
           1,
           1,
           1,
           1,
           1,
           1,
           1,
           1,
           1,
           1,
           1,
           1,
           1,
           1,
           1,
           1,
           1,
           2,
           1,
           3,
           1,
           1,
           1,
           1,
           1,
           1,
           1,
           1,
           1,
           1,
           1,
           1,
           1,
           1,
           1,
           1,
           1,
           1,
           1,
           1,
           1,
           1,
           1,
           1,
           1,
           1,
           2,
           1,
           1,
           1,
           1,
           1,
           1,
           1,
           1,
           1,
           1,
           1,
           1,
           1,
           1,
           1,
           1,
           1,
           1,
           1,
           1,
           1,
           1,
           1,
           1,
           1,
           1,
           1,
           1,
           1,
           1,
           1,
           1,
           1,
           1,
           1,
           1,
           1,
           1,
           1,
           1,
           1,
           1,
           1,
           1,
           1,
           1,
           1,
           1,
           1,
           1,
           1,
           1,
           1,
           1,
           1,
           1,
           1,
           1,
           1,
           1,
           1,
           1,
           1,
           1,
           2,
           4,
           1,
           8,
           1,
           4,
           1,
           1,
           1,
           1,
           1,
           1,
           3,
           1,
           1,
           1,
           1,
           1,
           2,
           1,
           1,
           2,
           1,
           1,
           1,
           1,
           1,
           1,
           2,
           1,
           1,
           1,
           1,
           1,
           2,
           1,
           1,
           1,
           1,
           1,
           1,
           1,
           1,
           1,
           1,
           1,
           1,
           1,
           1,
           1,
           1,
           1,
           1,
           1,
           1,
           1,
           1,
           1,
           1,
           1,
           2,
           2,
           1,
           1,
           1,
           1,
           1,
           1,
           1,
           1,
           1,
           1,
           2,
           1,
           1,
           1,
           1,
           1,
           1,
           1,
           1,
           1,
           2,
           2,
           2,
           2,
           3,
           4,
           8,
           7,
           5,
           5,
           2,
           9,
           2,
           1,
           1,
           1,
           1,
           1,
           1,
           1,
           1,
           1,
           1,
           1,
           1,
           1,
           1,
           1,
           1,
           1,
           1,
           1,
           1,
           1,
           1,
           1,
           1,
           1,
           1,
           1,
           1,
           1,
           1,
           1,
           1,
           1,
           1,
           1,
           1,
           1,
           1,
           1,
           1,
           1,
           1,
           1,
           1,
           1,
           2,
           1,
           1,
           1,
           1,
           1,
           1,
           1,
           1,
           1,
           1,
           1,
           1,
           1,
           1,
           1,
           1,
           1,
           1,
           1,
           1,
           1,
           1,
           1,
           1,
           1,
           1,
           1,
           1,
           1,
           2,
           2,
           1,
           1,
           1,
           1,
           1,
           1,
           2,
           1,
           1,
           1,
           1,
           1,
           1,
           1,
           1,
           1,
           1,
           1,
           1,
           1,
           1,
           1,
           1,
           1,
           1,
           1,
           1,
           1,
           1,
           1,
           1,
           1,
           1,
           1,
           1,
           1,
           1,
           1,
           1,
           1,
           1,
           1,
           1,
           1,
           1,
           1,
           1,
           1,
           1,
           1,
           1,
           1,
           1,
           1,
           1,
           1,
           1,
           1,
           1,
           1,
           1,
           1,
           1,
           1,
           1,
           1,
           1,
           1,
           1,
           1,
           1,
           1,
           1,
           2,
           1,
           1,
           1,
           1,
           1,
           1,
           1,
           2,
           1,
           1,
           2,
           1,
           1,
           1,
           1,
           1,
           1,
           1,
           1,
           1,
           1,
           1,
           1,
           1,
           2,
           1,
           1,
           1,
           1,
           1,
           1,
           1,
           1,
           1,
           1,
           1,
           1,
           1,
           1,
           1,
           1,
           1,
           1,
           1,
           1,
           2,
           1,
           1,
           1,
           1,
           1,
           1,
           1,
           1,
           1,
           1,
           1,
           1,
           1,
           1,
           1,
           1,
           1,
           1,
           1,
           1,
           1,
           2,
           1,
           1,
           1,
           1,
           1,
           1,
           1,
           1,
           1,
           1,
           1,
           1,
           1,
           1,
           1,
           2,
           1,
           2,
           1,
           1,
           1,
           1
          ],
          "coloraxis": "coloraxis",
          "size": [
           1,
           1,
           1,
           1,
           1,
           1,
           1,
           1,
           1,
           1,
           1,
           1,
           1,
           1,
           1,
           1,
           1,
           1,
           1,
           1,
           1,
           1,
           1,
           1,
           1,
           1,
           1,
           1,
           1,
           1,
           1,
           1,
           1,
           1,
           1,
           1,
           1,
           1,
           1,
           1,
           1,
           1,
           1,
           1,
           2,
           1,
           1,
           1,
           1,
           1,
           1,
           1,
           1,
           1,
           1,
           1,
           1,
           1,
           1,
           1,
           1,
           1,
           1,
           1,
           1,
           1,
           1,
           1,
           1,
           1,
           1,
           1,
           1,
           1,
           1,
           1,
           1,
           1,
           1,
           1,
           1,
           1,
           1,
           1,
           1,
           1,
           1,
           1,
           1,
           2,
           2,
           1,
           1,
           1,
           1,
           1,
           1,
           1,
           1,
           1,
           1,
           1,
           1,
           1,
           1,
           1,
           1,
           1,
           1,
           1,
           1,
           1,
           1,
           1,
           1,
           1,
           2,
           1,
           2,
           1,
           1,
           1,
           1,
           1,
           1,
           1,
           1,
           1,
           1,
           1,
           1,
           1,
           1,
           1,
           1,
           1,
           1,
           1,
           1,
           1,
           1,
           1,
           1,
           1,
           1,
           1,
           1,
           1,
           3,
           1,
           1,
           1,
           1,
           1,
           1,
           1,
           1,
           1,
           1,
           1,
           1,
           1,
           1,
           1,
           1,
           1,
           1,
           1,
           1,
           1,
           1,
           1,
           1,
           1,
           1,
           3,
           1,
           1,
           1,
           1,
           1,
           1,
           1,
           1,
           1,
           1,
           1,
           1,
           1,
           1,
           1,
           2,
           1,
           1,
           1,
           2,
           1,
           1,
           1,
           1,
           1,
           1,
           1,
           1,
           1,
           1,
           1,
           1,
           1,
           1,
           1,
           1,
           1,
           1,
           1,
           1,
           1,
           1,
           1,
           1,
           2,
           1,
           3,
           1,
           1,
           1,
           1,
           1,
           1,
           1,
           1,
           1,
           1,
           1,
           1,
           1,
           1,
           1,
           1,
           1,
           1,
           1,
           1,
           1,
           1,
           1,
           1,
           1,
           1,
           2,
           1,
           1,
           1,
           1,
           1,
           1,
           1,
           1,
           1,
           1,
           1,
           1,
           1,
           1,
           1,
           1,
           1,
           1,
           1,
           1,
           1,
           1,
           1,
           1,
           1,
           1,
           1,
           1,
           1,
           1,
           1,
           1,
           1,
           1,
           1,
           1,
           1,
           1,
           1,
           1,
           1,
           1,
           1,
           1,
           1,
           1,
           1,
           1,
           1,
           1,
           1,
           1,
           1,
           1,
           1,
           1,
           1,
           1,
           1,
           1,
           1,
           1,
           1,
           1,
           2,
           4,
           1,
           8,
           1,
           4,
           1,
           1,
           1,
           1,
           1,
           1,
           3,
           1,
           1,
           1,
           1,
           1,
           2,
           1,
           1,
           2,
           1,
           1,
           1,
           1,
           1,
           1,
           2,
           1,
           1,
           1,
           1,
           1,
           2,
           1,
           1,
           1,
           1,
           1,
           1,
           1,
           1,
           1,
           1,
           1,
           1,
           1,
           1,
           1,
           1,
           1,
           1,
           1,
           1,
           1,
           1,
           1,
           1,
           1,
           2,
           2,
           1,
           1,
           1,
           1,
           1,
           1,
           1,
           1,
           1,
           1,
           2,
           1,
           1,
           1,
           1,
           1,
           1,
           1,
           1,
           1,
           2,
           2,
           2,
           2,
           3,
           4,
           8,
           7,
           5,
           5,
           2,
           9,
           2,
           1,
           1,
           1,
           1,
           1,
           1,
           1,
           1,
           1,
           1,
           1,
           1,
           1,
           1,
           1,
           1,
           1,
           1,
           1,
           1,
           1,
           1,
           1,
           1,
           1,
           1,
           1,
           1,
           1,
           1,
           1,
           1,
           1,
           1,
           1,
           1,
           1,
           1,
           1,
           1,
           1,
           1,
           1,
           1,
           1,
           2,
           1,
           1,
           1,
           1,
           1,
           1,
           1,
           1,
           1,
           1,
           1,
           1,
           1,
           1,
           1,
           1,
           1,
           1,
           1,
           1,
           1,
           1,
           1,
           1,
           1,
           1,
           1,
           1,
           1,
           2,
           2,
           1,
           1,
           1,
           1,
           1,
           1,
           2,
           1,
           1,
           1,
           1,
           1,
           1,
           1,
           1,
           1,
           1,
           1,
           1,
           1,
           1,
           1,
           1,
           1,
           1,
           1,
           1,
           1,
           1,
           1,
           1,
           1,
           1,
           1,
           1,
           1,
           1,
           1,
           1,
           1,
           1,
           1,
           1,
           1,
           1,
           1,
           1,
           1,
           1,
           1,
           1,
           1,
           1,
           1,
           1,
           1,
           1,
           1,
           1,
           1,
           1,
           1,
           1,
           1,
           1,
           1,
           1,
           1,
           1,
           1,
           1,
           1,
           1,
           2,
           1,
           1,
           1,
           1,
           1,
           1,
           1,
           2,
           1,
           1,
           2,
           1,
           1,
           1,
           1,
           1,
           1,
           1,
           1,
           1,
           1,
           1,
           1,
           1,
           2,
           1,
           1,
           1,
           1,
           1,
           1,
           1,
           1,
           1,
           1,
           1,
           1,
           1,
           1,
           1,
           1,
           1,
           1,
           1,
           1,
           2,
           1,
           1,
           1,
           1,
           1,
           1,
           1,
           1,
           1,
           1,
           1,
           1,
           1,
           1,
           1,
           1,
           1,
           1,
           1,
           1,
           1,
           2,
           1,
           1,
           1,
           1,
           1,
           1,
           1,
           1,
           1,
           1,
           1,
           1,
           1,
           1,
           1,
           2,
           1,
           2,
           1,
           1,
           1,
           1
          ],
          "sizemode": "area",
          "sizeref": 0.0225,
          "symbol": "circle"
         },
         "mode": "markers",
         "name": "",
         "orientation": "v",
         "showlegend": false,
         "type": "scatter",
         "x": [
          2015.1885441283875,
          2020.0825814772422,
          2018.0224117693356,
          2021.2672087453543,
          2021.8311447468445,
          2023.2674485204586,
          2017.1362126815545,
          2022.0427642574157,
          2016.8994142054826,
          2013.7423922017138,
          2020.748929062423,
          2022.036526224379,
          2019.1451856065562,
          2016.810560057362,
          2018.7996326717694,
          2018.059502707727,
          2021.88004955234,
          2021.2912500226369,
          2022.2822537731302,
          2022.8657132646265,
          2022.1417391648215,
          2014.2853808660411,
          2016.9206205950134,
          2021.8704871257085,
          2019.1361844995806,
          2023.1766462871244,
          2017.9340821805158,
          2023.1107374265953,
          2014.0430276770196,
          2016.72603445018,
          2016.987083676329,
          2020.0758231034483,
          2022.2199353709098,
          2016.8108349139613,
          2016.7932136164018,
          2018.2094776106844,
          2023.1248936715588,
          2021.7848997315439,
          2018.0310657920554,
          2018.0899949965574,
          2022.2612257690535,
          2017.094205856074,
          2017.7965897399615,
          2013.7779822683426,
          2016.9689507877881,
          2016.1317018840416,
          2020.2996861865706,
          2016.8848321584844,
          2013.829098057087,
          2017.130236447806,
          2019.8361166304067,
          2021.031846018639,
          2021.92000570476,
          2016.2093002522904,
          2020.1314173015442,
          2022.7352293742977,
          2013.8891333065862,
          2015.787022331548,
          2020.787304440218,
          2014.7530608452444,
          2016.08648171858,
          2016.756106215673,
          2019.9687106204456,
          2016.0052013557743,
          2016.8870397231847,
          2015.721585059668,
          2014.7579146915295,
          2015.9582543662038,
          2016.106001280272,
          2017.0408798350056,
          2014.0362026943726,
          2014.9671288963204,
          2016.2065382545263,
          2021.0850159932568,
          2021.214347081165,
          2020.7607721603795,
          2019.293342360688,
          2017.2944544284962,
          2018.0083809192417,
          2019.137196603596,
          2018.8074463088692,
          2020.1880140261446,
          2022.2586428681655,
          2011.9792474095823,
          2013.7294586583257,
          2015.2322317003234,
          2017.9463891553617,
          2019.0940551553138,
          2020.753073221514,
          2022.2919370861205,
          2022.857909709162,
          2022.0985554109645,
          2012.9424044130499,
          2016.7804261186618,
          2018.949100091173,
          2019.823241464613,
          2021.81207236168,
          2016.7324890392877,
          2014.8293224531444,
          2018.017190028607,
          2018.7918274338408,
          2019.7458563856094,
          2021.011373568394,
          2016.056145506781,
          2018.7932018866472,
          2022.0016665942624,
          2015.7417002675852,
          2017.2435041008398,
          2015.8440679982511,
          2021.236512636257,
          2023.208580086871,
          2023.1820629096633,
          2017.1889938529469,
          2015.9987038205566,
          2022.7799006754087,
          2010.093203802671,
          2018.2278048820372,
          2018.0841565918818,
          2017.9765251415813,
          2021.7757537866976,
          2018.1170890234553,
          2013.1562695695209,
          2014.852301528937,
          2016.7443309117805,
          2020.755851195881,
          2018.2914099777872,
          2017.283215480667,
          2016.7581457412725,
          2014.7572531097137,
          2017.9956017475379,
          2013.2901585755765,
          2020.2794748110348,
          2016.8303909785238,
          2019.1184084919316,
          2019.0478709010054,
          2019.9336723516274,
          2021.229877189236,
          2018.1565164349704,
          2023.1971446697132,
          2018.799221034496,
          2021.1414067307417,
          2016.0903925007972,
          2017.7481282395702,
          2021.0221682136728,
          2017.0939482217202,
          2021.8681225667453,
          2013.7406980924432,
          2020.840593096602,
          2017.8724587195074,
          2020.9482751469395,
          2021.1248714796357,
          2013.0382565186,
          2022.0831293552149,
          2021.2108132348717,
          2014.9813136440375,
          2023.1654444411322,
          2019.7846021034986,
          2018.0404551845731,
          2022.8836680099582,
          2021.956779083135,
          2016.8456427824503,
          2015.2686511666848,
          2021.717088953502,
          2014.2504193464495,
          2022.262367333737,
          2023.2676049442157,
          2015.8179377586669,
          2019.0625860123223,
          2016.9619664891125,
          2018.215950290239,
          2014.9264281135142,
          2017.0729194923488,
          2019.2448993260653,
          2021.272284521105,
          2013.764977875778,
          2017.0823099990982,
          2019.036030420828,
          2016.040843604209,
          2014.1870729673087,
          2022.098208707116,
          2014.85880123347,
          2015.8087115793296,
          2017.0931395800417,
          2016.8092491948578,
          2020.0482146682652,
          2018.7086611122959,
          2019.9085741367637,
          2013.0010124367057,
          2023.047856879341,
          2021.2259668380605,
          2017.0646931595497,
          2016.1434292566862,
          2018.0314522011877,
          2015.9227409178789,
          2019.0462148387303,
          2021.2488991994599,
          2023.2787972306255,
          2020.0700889360292,
          2016.902620723793,
          2022.0590577066084,
          2019.0458840448982,
          2016.739039440996,
          2015.9391563449071,
          2020.0759243971631,
          2020.056710961259,
          2013.0481990507,
          2013.9719896433023,
          2023.0031217391459,
          2017.8609981284756,
          2015.7415518493683,
          2018.2667848957547,
          2018.0113627339047,
          2021.110295894386,
          2014.0950034003076,
          2016.7813100113822,
          2021.004330388223,
          2022.2514584743642,
          2017.2065515019478,
          2017.9181425322981,
          2017.017349234336,
          2018.9285582388707,
          2019.9742499588529,
          2022.095869451632,
          2023.1788623651476,
          2019.729088571657,
          2021.2840048195299,
          2015.870286637773,
          2022.134756243974,
          2020.8331912265737,
          2019.2282763848957,
          2021.292362915482,
          2020.0308022028282,
          2012.8014387136825,
          2018.2088276090678,
          2015.7996052180354,
          2022.004302910293,
          2017.0489284268037,
          2020.789881482873,
          2020.9887123526769,
          2020.7733063909407,
          2015.763132299394,
          2022.8219493861513,
          2023.2323349161834,
          2021.275994095555,
          2021.0013244007928,
          2016.0704469509528,
          2019.851416423045,
          2018.1885271642705,
          2022.8655397946684,
          2018.9464133774568,
          2016.0841535124086,
          2015.12798404841,
          2022.2296975904876,
          2021.7623195046092,
          2023.0659822853286,
          2012.821777963725,
          2020.7927215897842,
          2018.7184520768792,
          2021.896278788077,
          2014.8141221992594,
          2021.7261435178561,
          2022.0981242937605,
          2020.8256256212367,
          2021.963537781816,
          2019.098794359321,
          2021.8893953932559,
          2022.9729317835845,
          2015.9827786025703,
          2021.1601835751578,
          2021.8162498987303,
          2021.1291258585024,
          2018.0469764206512,
          2023.2356199000756,
          2022.0477316121835,
          2014.9152176293212,
          2018.862216977205,
          2020.992040184796,
          2022.2526568259752,
          2018.062430617181,
          2013.2879433013381,
          2021.1778074838794,
          2016.7343497687186,
          2015.2031677336106,
          2015.8775038793765,
          2021.0326972883888,
          2016.0624591684964,
          2020.7096328621367,
          2017.0621738490115,
          2019.192491673172,
          2020.8123840045437,
          2021.850263301392,
          2010.13382143122,
          2013.9552293376892,
          2018.037783916969,
          2021.034702284606,
          2020.9310894134971,
          2019.9859283777016,
          2017.8986557063708,
          2016.028589331684,
          2022.080742417183,
          2021.905892617855,
          2021.7633270976426,
          2022.2468972325246,
          2022.9859554741925,
          2014.0643210142425,
          2022.1880874968128,
          2017.708961090527,
          2016.2152762412709,
          2021.0185859977846,
          2021.1315128020963,
          2017.970925927297,
          2021.9488216755944,
          2022.9528908835302,
          2010.2667367593306,
          2013.9403526296446,
          2016.224669473773,
          2016.7203851032814,
          2018.1207801414487,
          2019.9277396364982,
          2020.899156476048,
          2021.743432118601,
          2023.0277429355085,
          2017.06971489262,
          2018.1518853914536,
          2022.995480519089,
          2017.8287460248268,
          2015.733986266685,
          2021.8143971463608,
          2021.809616776437,
          2014.1003519626215,
          2021.2061371905447,
          2016.1093933290695,
          2017.0865276361167,
          2017.8069339607114,
          2022.1536044706115,
          2017.0105816505275,
          2019.7054685237733,
          2021.0825230288003,
          2021.11833570505,
          2021.297066394157,
          2020.7206907399511,
          2014.8889960842296,
          2016.7072829586239,
          2019.7313558309415,
          2022.7662606841004,
          2020.95920063712,
          2022.0239205884645,
          2021.1156519652898,
          2016.9974791763789,
          2018.1603337488452,
          2019.2270282540057,
          2019.8896730877316,
          2020.8757484857567,
          2022.2804935514623,
          2023.0871721171377,
          2013.0021156481237,
          2023.2524647608511,
          2016.8008010382396,
          2019.035132041584,
          2020.9639623440935,
          2022.1846772714305,
          2018.784907488541,
          2019.044524077599,
          2021.7222504190281,
          2013.8965840009919,
          2022.0750550920416,
          2022.2984942231903,
          2021.7153753430352,
          2020.7208837101061,
          2014.8829854282476,
          2010.1872342337383,
          2017.8979588905836,
          2018.7088621489672,
          2020.140405229937,
          2021.0174494830494,
          2021.8594116612198,
          2021.7441114867574,
          2019.9458750708745,
          2019.0420996524722,
          2019.8189873433923,
          2015.7970406254803,
          2015.0949702167832,
          2017.0651085115155,
          2020.9110735101626,
          2014.9761434487882,
          2020.7184267254077,
          2021.92544208054,
          2020.011918125465,
          2022.858782707276,
          2018.0247529275161,
          2014.8499083364684,
          2017.2000165210632,
          2019.8275228613718,
          2019.0122927472928,
          2017.0059842220671,
          2016.9779018946465,
          2021.1696998308557,
          2022.7148593636784,
          2013.1281654861777,
          2013.879669340422,
          2015.1581205429038,
          2016.1222634522876,
          2017.1839145019087,
          2018.1206451298294,
          2018.842298706482,
          2019.745229454072,
          2020.8019309100293,
          2021.730071293231,
          2023.0163052482037,
          2020.037708056655,
          2017.8531066102005,
          2013.8465986538079,
          2021.703416437324,
          2013.8278773580205,
          2021.2396508193426,
          2021.0529280290757,
          2021.19518684508,
          2022.0835382865364,
          2013.1018896664425,
          2021.2501480386557,
          2016.7814942957837,
          2016.9806612396849,
          2015.8613731228425,
          2013.1381732865316,
          2022.2303904226658,
          2015.9597264042163,
          2018.0487468480057,
          2017.2446768696307,
          2018.2688239139936,
          2020.9255122057334,
          2022.1119840113022,
          2016.7905880339113,
          2012.923729043112,
          2018.7323296606896,
          2016.1602058164822,
          2021.1868838520406,
          2020.2809754402049,
          2022.0758538479022,
          2018.0301020329523,
          2013.709623023647,
          2016.9203534673936,
          2016.87700963497,
          2015.1210632859656,
          2019.1019112075355,
          2018.0574625838487,
          2021.1040058315025,
          2017.8639216079866,
          2016.224916370483,
          2017.811625893045,
          2016.941603564653,
          2017.0544093690294,
          2013.229397032024,
          2015.1815073882574,
          2015.9120351946406,
          2017.243846716712,
          2017.9337688386618,
          2019.050898383798,
          2021.27216903167,
          2018.0042547066341,
          2013.8820533273022,
          2017.973793211842,
          2020.7740733171534,
          2020.1909816084885,
          2017.9667107204132,
          2015.2162433189887,
          2016.0755975688041,
          2017.1867809648516,
          2018.2361651674942,
          2022.8617218751683,
          2016.9129652934155,
          2020.7537718960227,
          2019.2604594203217,
          2019.2535437156118,
          2014.2272565853941,
          2022.9389498719909,
          2021.1259351568328,
          2017.2938035606692,
          2021.963413869813,
          2016.7760036122015,
          2020.977654103513,
          2021.0944260060107,
          2014.995046537829,
          2019.7186087011576,
          2020.7285530936974,
          2017.132167795322,
          2020.2769110178956,
          2020.8292411889524,
          2013.8351018766152,
          2016.17071077788,
          2018.8721118190158,
          2020.045523748332,
          2015.2566862053393,
          2020.815154185354,
          2015.862958476796,
          2020.7599355453815,
          2016.2682432115657,
          2021.8135958397656,
          2019.9004212986524,
          2017.0142606676961,
          2021.961668690506,
          2020.9973082241638,
          2022.2351784772973,
          2022.275560058867,
          2022.0131757347872,
          2012.840393336964,
          2017.7495795758796,
          2021.8246697810578,
          2017.7156277205283,
          2012.9690320958568,
          2019.8990025640198,
          2022.8298256289854,
          2019.1049304904868,
          2021.7200170999654,
          2015.275992561477,
          2016.1073214239814,
          2017.8048309227556,
          2019.1725164374352,
          2017.8257244267177,
          2018.9044119083487,
          2023.265820668581,
          2018.2445545355267,
          2022.8882654393674,
          2016.1719454879603,
          2023.0665108503836,
          2015.993169883507,
          2020.9139770534948,
          2023.0132089102988,
          2020.9224851815386,
          2013.864360908173,
          2021.053327931614,
          2017.1675776919246,
          2017.150557731124,
          2016.2363047151148,
          2017.0677152559028,
          2009.9287259808827,
          2014.2525416154338,
          2021.7725795775452,
          2017.9178497900182,
          2018.7269884734399,
          2020.1984984061655,
          2021.8363945565534,
          2020.0194721991902,
          2014.2962792311841,
          2015.858452032241,
          2019.1018542517265,
          2020.2264229351026,
          2022.8617933177527,
          2015.942378761369,
          2021.711705141887,
          2016.7029105912263,
          2015.7658934917374,
          2019.2044203296568,
          2022.1386410738044,
          2015.925558724668,
          2017.2338331219528,
          2015.1699129089386,
          2021.2823397620662,
          2022.041653091929,
          2018.2939742191666,
          2017.8967450727093,
          2023.0928429146181,
          2012.880779620526,
          2011.8648225519057,
          2014.8044399048322,
          2016.9337762452835,
          2019.158472963677,
          2020.7711415495562,
          2021.8193266789342,
          2016.0916143782865,
          2017.088792799694,
          2014.7754171456256,
          2016.8277110725264,
          2020.0581912817902,
          2021.1395372562238,
          2021.9832884505959,
          2022.8945333547938,
          2022.7297912147342,
          2021.063804438138,
          2016.0965250129116,
          2022.0807454992287,
          2018.723321543234,
          2019.9686359447303,
          2021.0472879416716,
          2022.9774319891187,
          2018.7379185461716,
          2020.2802064121165,
          2020.7406151998223,
          2015.7927694114865,
          2023.1454635756054,
          2020.2330824580006,
          2016.8508024311566,
          2015.1911763390403,
          2017.9077735918447,
          2022.0624791426585,
          2018.2856259299865,
          2022.8584584015289,
          2017.9348002521158,
          2022.052281396251,
          2018.2582862897652,
          2021.1761172923555,
          2022.2613350014442,
          2016.8375915783133,
          2012.9179429629678,
          2020.8245774554778,
          2019.8206964785381,
          2017.2958574969232,
          2019.9231376946827,
          2021.9240195581515,
          2014.9166685298255,
          2016.9859692176176,
          2021.0465136783216,
          2017.176401912111,
          2022.1985194790213,
          2022.2646863877383,
          2022.031891323183,
          2016.944178534187,
          2021.085610429722,
          2018.290699765844,
          2023.1529989784522,
          2014.9703043025868,
          2017.8681583132666,
          2020.8711364508572,
          2022.732511185572,
          2017.7515170494116,
          2015.260428099093,
          2013.7513797308586,
          2014.7564511918793,
          2015.7478928545302,
          2020.9233853226615,
          2018.9927117898383,
          2011.931931948182,
          2018.0241852901456,
          2020.1621547830644,
          2020.852948339043,
          2023.2987688743744,
          2018.0886015984515,
          2019.046690913222,
          2018.8710914126864,
          2020.964818122055,
          2017.0051575440136,
          2021.283913690361,
          2021.9330982330034,
          2016.7706408254396,
          2019.9673530407717,
          2020.7234800452247,
          2018.715299434223,
          2016.066448588746,
          2021.0036994147256,
          2022.0656968116718,
          2023.2766687023573
         ],
         "xaxis": "x",
         "y": [
          0.6163175213232819,
          0.9120680525936616,
          1.191032060922084,
          1.2785500398457352,
          0.7730395179028839,
          0.6651064421666432,
          1.4683231560901575,
          1.1835704321752947,
          0.6357659366133123,
          1.318971319645766,
          0.8204439198822627,
          1.4275652287082918,
          0.5666361627512744,
          0.9165653963689943,
          1.211776572799657,
          0.9209500018064065,
          1.3858972754789713,
          0.953783776784304,
          1.4364471352565742,
          1.021954218658018,
          1.256370357306794,
          1.0369871977793514,
          0.6766005837693435,
          0.5195069409213767,
          0.864769650366413,
          1.1562421273054118,
          1.2346223030383372,
          0.9684871564386747,
          0.7653150041471163,
          0.8626854960953368,
          0.954705843183066,
          0.8435772849767041,
          0.8442170179189916,
          0.6828504356838517,
          1.357381784344971,
          0.874424600429206,
          0.90385051057588,
          0.9318601951021627,
          1.2741185692654682,
          0.9934577399532563,
          0.6390746731704867,
          0.6615946271299752,
          0.8179762379420269,
          0.5686866447486103,
          1.903603869542338,
          0.5254936017111409,
          0.5059932260871101,
          1.2022515528427253,
          1.3352119849075574,
          0.7621016234207166,
          1.4450228941725656,
          1.2794955711546607,
          1.123244685368235,
          1.1090403265674178,
          1.014318770933588,
          1.3476152966522559,
          0.696736490719177,
          1.3085332972238017,
          0.7784881355934948,
          1.1622119781743274,
          1.4908224476091299,
          0.5059487143243148,
          0.9259384997572667,
          0.8950318494260063,
          0.9054690102287,
          1.1399845387452014,
          0.5768753592862746,
          0.9046494397189083,
          1.1184507288322498,
          1.144011780870438,
          0.5490278419795089,
          0.8610118622542489,
          0.8284077752625996,
          1.0426518708126133,
          0.6006978137849445,
          1.0161714551056227,
          1.3696338725653598,
          1.2411282043814111,
          0.9646143154294078,
          1.2490531420635094,
          1.100972415086531,
          0.8750841414680917,
          1.1532289307135137,
          1.3196155808222998,
          1.198897755341617,
          1.0237417776075028,
          1.4912015470388806,
          1.2415412746373375,
          0.8063701350422449,
          2.1898693052534512,
          2.4862365885280022,
          0.6539401538228398,
          0.9457951565236637,
          1.2887952492425496,
          0.7749619954621421,
          0.7793513828885343,
          1.004549819782178,
          1.0309240727726596,
          1.1616330505401464,
          1.261554827361055,
          0.535554346299105,
          0.8751218404911322,
          0.7004065088843937,
          1.39642026680368,
          0.9838712211096243,
          1.1610752496905294,
          1.4013673476939161,
          1.388024501662071,
          1.0927806261645878,
          0.9297728658503641,
          0.7384155080458893,
          0.7320639664383981,
          1.3740472455313206,
          1.1777691737377207,
          1.2651451157158538,
          1.4190782659281052,
          1.7452796917318874,
          1.2465907767241236,
          2.491954332613738,
          0.9889229856903649,
          0.9683545320255267,
          1.4555978200890767,
          0.6160379190081289,
          0.8029642585036564,
          1.151769989536167,
          0.583677957205103,
          0.9243029650799639,
          1.2813405174173764,
          1.1451498263175524,
          1.4616204194598863,
          1.3440369843995765,
          0.8392404955994466,
          1.3493509576328786,
          0.807104694538987,
          0.7767463430794721,
          1.28166331448415,
          1.2336268900987997,
          0.8303754020096248,
          0.7100828915960093,
          0.9004281769519014,
          1.2285937681946422,
          0.5140834971285607,
          1.442423133284122,
          1.3094651795989372,
          1.4503609056440379,
          0.5332011932703445,
          1.1614799889273635,
          1.3452978945468184,
          2.5536074756949403,
          0.5188700513198504,
          0.5223128524807303,
          0.6202819853168864,
          1.0884993995763799,
          1.251936162557792,
          1.2147016264084494,
          1.230491889445026,
          1.3959248147365686,
          0.9018722316387471,
          0.8442123783399571,
          1.2251936559457608,
          1.2771735381208684,
          1.2984420514802095,
          1.2549860010844507,
          0.9272792400146438,
          1.0004818351861742,
          0.6394073831208609,
          0.7363461955142783,
          1.008116710325953,
          0.7924077651427123,
          1.032810537900183,
          1.3253540970810835,
          1.1736890314137292,
          1.0165359015218007,
          1.0480043449629144,
          0.6496892180973203,
          3.208658612226301,
          1.105501247586378,
          0.7910944154531436,
          0.6320181038137305,
          0.6471482792799591,
          1.1868049181072227,
          1.2611185419739055,
          0.9858837388092818,
          1.4255232874717492,
          1.2572154754508853,
          0.59139867787251,
          0.9364614271376304,
          0.8045407159025155,
          1.0081198245477967,
          1.150333292403979,
          1.2777230709287737,
          1.819804365245507,
          0.79421087126821,
          0.7598545625172903,
          0.8024927509864558,
          2.0261896317516404,
          1.0706550281115708,
          1.0781338557233195,
          0.5976327449219048,
          1.4095236483142068,
          0.5252197538517825,
          0.7969203023475446,
          1.3698275449356374,
          0.7226254858702038,
          0.5567029244756537,
          0.7659007305562063,
          0.9913589827470591,
          0.8997634136886621,
          1.091628578999013,
          1.0952476879382622,
          0.7778921899908925,
          0.7549244015945394,
          0.986883914526898,
          0.6662291675052988,
          0.6236466275504494,
          1.228770892638316,
          1.1189014643424273,
          1.464843943154509,
          0.538757722416414,
          1.4249377056355712,
          2.1479304862013637,
          1.206682521104241,
          2.6554602202857955,
          0.7584323366061984,
          0.506522112319242,
          0.5391630139398214,
          1.08643309378431,
          1.3928323895702195,
          0.7955473671696616,
          1.317550761351856,
          0.5882114192875704,
          0.6264575548656326,
          1.185897709182464,
          1.275784370797885,
          1.2244764890987354,
          0.6959462506726184,
          1.3990136634959915,
          0.9590001642219342,
          0.7410958903963092,
          0.8568554058370285,
          0.567721801125887,
          0.7824909325152661,
          0.6899157112478295,
          1.1012518471782915,
          0.8981062472497395,
          1.0523160811751668,
          1.086080681778049,
          1.4988626598444021,
          1.2452631278064916,
          2.08513493348898,
          0.6821726786492697,
          0.8997939614481651,
          0.9717538331473283,
          0.8463824259550726,
          0.9224230506255414,
          0.703743267268473,
          0.9134627380946193,
          1.302768210842999,
          1.2597560131153114,
          0.8537559290711224,
          0.5860940334606449,
          0.6967671337322366,
          0.5019861579938752,
          0.6885214380674566,
          1.4790623421605371,
          1.474555871057972,
          1.4151533613664184,
          1.0213890317274437,
          0.6418075196567316,
          0.9274886024894405,
          1.1091444466436347,
          1.043209059277029,
          1.0506789368820293,
          1.2795523975329641,
          1.2212999259230197,
          0.7256472676829996,
          1.256063512844777,
          1.2735465606482608,
          0.6862883496189071,
          0.8198650499119517,
          0.8675339510490602,
          0.7173706223370189,
          0.8430078752355634,
          1.0072541662011107,
          1.415805344147038,
          0.5682754906496187,
          0.6556293709513832,
          1.305034259903144,
          1.0508754069357926,
          0.5588990088201251,
          0.9438529368098504,
          1.2913857692260056,
          1.453266464787923,
          0.7162844337930941,
          0.6557372589766408,
          1.3798739275284326,
          0.7327667468114307,
          1.1459023399224062,
          0.7517966472228726,
          1.3410477974610289,
          1.4956809362346593,
          1.0621551795816733,
          1.0734770015072375,
          0.9820971627573669,
          0.6545243503351075,
          0.9123967540417653,
          1.1193261449593228,
          0.942410884346643,
          1.3786468959671137,
          0.9021943539734053,
          1.4002301324140438,
          0.5685979516099818,
          1.0414517483968428,
          0.9367435566687802,
          1.6537532996525282,
          3.6557925327003598,
          1.3377150428201776,
          8.330217761851884,
          1.229270085653345,
          4.147108186886105,
          0.8929839106415344,
          0.9299168571239341,
          0.9539182875520301,
          0.6644465246109897,
          0.8051707570995305,
          0.9906193160320743,
          3.147740222015178,
          0.6489332882660027,
          0.6539522176252117,
          1.486639788318849,
          0.6228363855630188,
          1.1507278687374187,
          1.9743386532648644,
          1.036112230742493,
          1.0930503167692784,
          1.893092165303182,
          0.5486365115538107,
          1.15091064482687,
          0.6779957522195749,
          1.2840211142493057,
          1.1732002478236514,
          0.7000177335328824,
          2.103395017475031,
          1.1832982965538572,
          1.3838446014659613,
          0.9877253228945649,
          1.468899817170787,
          1.1272787474765775,
          1.8802153790498526,
          0.8897891101578546,
          1.0171573553182445,
          1.3484150575887712,
          1.1017485539209355,
          1.3690258710777528,
          1.3342536148524973,
          0.7997679577814415,
          0.6512514848901843,
          1.2566323619460347,
          0.8926350025127175,
          0.877804304007853,
          0.9789195058180709,
          1.0215472911718775,
          0.8155644104132077,
          1.2407110582596466,
          1.4728539849777147,
          1.2781218575525553,
          1.0278304975576134,
          0.8060769379984937,
          0.9365054706314211,
          0.9979719336702051,
          1.0844133684698665,
          1.4586581764166846,
          1.219493725163308,
          0.692988542136496,
          2.006737817547872,
          2.17494560540154,
          1.4849080033788162,
          0.8949559274377431,
          1.4034198696343538,
          0.5940835198992778,
          1.2892978966780562,
          1.069701492106725,
          1.4668231988325058,
          1.0048102638544647,
          1.3547098024049051,
          0.6596878213458414,
          2.4128309823509744,
          0.8885131398649082,
          0.737107274989099,
          0.8286043931961324,
          1.2390164609017031,
          1.046647433943666,
          0.6260962518350597,
          1.0667096328565084,
          1.3512814180325092,
          1.054318383606208,
          2.1234323344583457,
          2.202483707103993,
          2.176879662641346,
          1.6900958807286437,
          3.0353749320080414,
          4.4204476046855605,
          8.076420703334243,
          6.821679095528688,
          4.692822887256126,
          5.30168583199826,
          1.875016963977501,
          9.397429725178908,
          2.103736352552565,
          0.5389217921743952,
          1.1161071107973037,
          1.1749000450908453,
          0.9425084477029738,
          0.80339147644824,
          1.0612760992290649,
          0.5200494192038997,
          0.7043634919527313,
          1.086850193791701,
          1.1510568371616037,
          1.3289983233984666,
          1.3543376517342924,
          0.6193079915632549,
          1.2672514978939082,
          1.350870521764084,
          1.3472580831270808,
          1.3388531726103379,
          1.1350424737902503,
          1.186113326635032,
          1.0938791547752222,
          0.6424085671301771,
          0.7138412123967519,
          0.8711106699027499,
          1.367668298537184,
          1.4805144362979763,
          0.5713878384969797,
          0.7663962994719371,
          1.1028578271176501,
          1.1785115401103763,
          1.0563378326209163,
          0.7993163888838906,
          1.33652446864938,
          0.515521958867246,
          1.4995777424662062,
          1.0867628356014212,
          0.7679710449045869,
          1.0154308139558514,
          1.4007537415599427,
          0.6310351605603017,
          1.1127870987598758,
          0.8941313638999864,
          1.135466269975082,
          0.9475272655831517,
          1.4481711608407863,
          1.0733837951290353,
          1.8372186972358864,
          1.1396129239034747,
          1.2426107887369044,
          1.185874761300395,
          0.5496429298112543,
          0.976615174769653,
          0.9700388053894763,
          0.5166369570263347,
          1.213914513466288,
          0.6589298612172356,
          0.610737257962274,
          1.421916880398212,
          0.5442301226993898,
          0.7692376522000705,
          1.3316865751171396,
          1.1840652715095388,
          1.3867522000979946,
          1.3304479461041139,
          0.8891435607763708,
          1.3925494048617564,
          1.2949833497600967,
          0.6400842357185822,
          1.2732339202664957,
          1.4676512195443725,
          0.939642930609321,
          1.3879552675452378,
          1.1478117988485308,
          1.1513660951349696,
          1.4550481792313026,
          1.4355578888041278,
          2.2822752532042117,
          1.8436141123863798,
          1.2799133063847044,
          1.4672952179845387,
          0.7989365817732333,
          0.7859590860597306,
          1.3026771978534684,
          0.7535119520273563,
          2.2324480733000716,
          0.7265328304711468,
          1.4193782534703412,
          0.8469895059888176,
          1.092434170322789,
          1.466176561891944,
          1.3059346934348626,
          1.0437648296445459,
          0.6116731993233673,
          0.7958796432315821,
          0.9434994679301332,
          0.9191686148680925,
          1.3443443452892962,
          1.4860656462829778,
          0.7374897385275497,
          0.6550333128678291,
          0.5596832483692888,
          0.5054251316339526,
          1.4152487576688604,
          1.0563480652540713,
          0.9024980185067575,
          1.464369129770776,
          0.7963214831645716,
          1.117735935541342,
          1.0403957100849786,
          0.8896642494712503,
          1.0800477034294094,
          1.2898544491595207,
          0.6419295996777521,
          0.9410335473230081,
          0.6063914480939873,
          1.3248409352557324,
          0.9702049968975607,
          0.8906636903978122,
          1.4821006177387985,
          0.9989237937805842,
          0.8940075417364297,
          1.066928589595375,
          0.6944752140877506,
          0.5881198357342232,
          1.1487175044980742,
          1.1250998369511152,
          0.8608135242623361,
          1.129763407249798,
          1.1007553245538109,
          0.8049197729545315,
          0.7393495291613023,
          1.0721528718136581,
          0.6871032368570934,
          1.3193238516588932,
          0.7785091629722708,
          1.2698897237911888,
          1.4038783653209164,
          1.2010224064809911,
          0.946981086364844,
          1.4665826411023761,
          1.0946816358154265,
          1.4004671850452786,
          1.3804146244536506,
          1.085183106583092,
          0.9868940582663465,
          0.6775813010107647,
          1.0722435979329115,
          1.4922533113340013,
          0.5826887516071731,
          1.3642573835073937,
          0.8959603628358844,
          1.8981259492193685,
          1.3208904761097746,
          0.7273193139937191,
          1.2074162355416334,
          0.6025028460150169,
          1.1394856871269696,
          0.5413153591648432,
          1.3686262534400107,
          2.288243550733459,
          0.6483122080845426,
          0.9963035893803001,
          1.8983086857458762,
          1.001755171296733,
          1.4505102139724135,
          0.9730564842763625,
          0.7918113429472963,
          0.8780473727841936,
          0.9201141050974047,
          1.3096944126720511,
          1.2047740054211062,
          0.9507038269060744,
          1.324457388510876,
          1.3680333159350386,
          0.9213707652272991,
          0.5722560369371618,
          1.9859373823462372,
          0.6167269080511277,
          1.4489180071680146,
          1.0098633034931033,
          1.4071172604123896,
          1.4309037787269325,
          1.301117024759376,
          1.3342601389467175,
          1.1030771005874795,
          1.281966782554452,
          1.0221303718254253,
          0.9604149552243294,
          1.1552737453350908,
          0.6619871587892433,
          1.2907477416084168,
          1.0479818385162472,
          1.4581869940898846,
          0.9580110850631878,
          1.4076112274889077,
          1.3392769906413595,
          0.909314211458838,
          1.97031773508837,
          1.387209385970963,
          0.7728780519889348,
          1.2907789737753799,
          1.0867970716520856,
          1.4208186004050574,
          1.3870249279190756,
          0.8016727944208463,
          0.8339197798759825,
          1.3089838675759422,
          1.4462942819181004,
          0.7967313552702954,
          0.6549154292500348,
          1.4956244094682791,
          1.1694827561680405,
          1.247307487152323,
          0.534374086996562,
          0.8428325196552462,
          1.2510744823563436,
          1.2062207790883424,
          1.4040254917302193,
          1.4577122373906066,
          1.8221211818545542,
          1.4965193758038402,
          0.8652150788337015,
          0.9077035490442632,
          0.6159727834060829,
          1.4999315623693388,
          0.6230382865102931,
          0.7071413443820624,
          1.418951814638678,
          0.5901545450086358,
          0.8289280086204887,
          1.0708531542416795,
          1.2553302454137256,
          0.9945619875222702,
          1.4523415145727985,
          1.2671687359049195,
          2.4002075402142,
          1.1831465702804835,
          1.6655411409898988,
          0.8923852370034984,
          0.5802961505879787,
          1.2012422903886348,
          1.4258621425204163
         ],
         "yaxis": "y"
        }
       ],
       "layout": {
        "coloraxis": {
         "colorbar": {
          "title": {
           "text": "Numbers"
          }
         },
         "colorscale": [
          [
           0,
           "rgb(5,48,97)"
          ],
          [
           0.1,
           "rgb(33,102,172)"
          ],
          [
           0.2,
           "rgb(67,147,195)"
          ],
          [
           0.3,
           "rgb(146,197,222)"
          ],
          [
           0.4,
           "rgb(209,229,240)"
          ],
          [
           0.5,
           "rgb(247,247,247)"
          ],
          [
           0.6,
           "rgb(253,219,199)"
          ],
          [
           0.7,
           "rgb(244,165,130)"
          ],
          [
           0.8,
           "rgb(214,96,77)"
          ],
          [
           0.9,
           "rgb(178,24,43)"
          ],
          [
           1,
           "rgb(103,0,31)"
          ]
         ]
        },
        "height": 600,
        "legend": {
         "itemsizing": "constant",
         "tracegroupgap": 0
        },
        "template": {
         "data": {
          "bar": [
           {
            "error_x": {
             "color": "#2a3f5f"
            },
            "error_y": {
             "color": "#2a3f5f"
            },
            "marker": {
             "line": {
              "color": "white",
              "width": 0.5
             },
             "pattern": {
              "fillmode": "overlay",
              "size": 10,
              "solidity": 0.2
             }
            },
            "type": "bar"
           }
          ],
          "barpolar": [
           {
            "marker": {
             "line": {
              "color": "white",
              "width": 0.5
             },
             "pattern": {
              "fillmode": "overlay",
              "size": 10,
              "solidity": 0.2
             }
            },
            "type": "barpolar"
           }
          ],
          "carpet": [
           {
            "aaxis": {
             "endlinecolor": "#2a3f5f",
             "gridcolor": "#C8D4E3",
             "linecolor": "#C8D4E3",
             "minorgridcolor": "#C8D4E3",
             "startlinecolor": "#2a3f5f"
            },
            "baxis": {
             "endlinecolor": "#2a3f5f",
             "gridcolor": "#C8D4E3",
             "linecolor": "#C8D4E3",
             "minorgridcolor": "#C8D4E3",
             "startlinecolor": "#2a3f5f"
            },
            "type": "carpet"
           }
          ],
          "choropleth": [
           {
            "colorbar": {
             "outlinewidth": 0,
             "ticks": ""
            },
            "type": "choropleth"
           }
          ],
          "contour": [
           {
            "colorbar": {
             "outlinewidth": 0,
             "ticks": ""
            },
            "colorscale": [
             [
              0,
              "#0d0887"
             ],
             [
              0.1111111111111111,
              "#46039f"
             ],
             [
              0.2222222222222222,
              "#7201a8"
             ],
             [
              0.3333333333333333,
              "#9c179e"
             ],
             [
              0.4444444444444444,
              "#bd3786"
             ],
             [
              0.5555555555555556,
              "#d8576b"
             ],
             [
              0.6666666666666666,
              "#ed7953"
             ],
             [
              0.7777777777777778,
              "#fb9f3a"
             ],
             [
              0.8888888888888888,
              "#fdca26"
             ],
             [
              1,
              "#f0f921"
             ]
            ],
            "type": "contour"
           }
          ],
          "contourcarpet": [
           {
            "colorbar": {
             "outlinewidth": 0,
             "ticks": ""
            },
            "type": "contourcarpet"
           }
          ],
          "heatmap": [
           {
            "colorbar": {
             "outlinewidth": 0,
             "ticks": ""
            },
            "colorscale": [
             [
              0,
              "#0d0887"
             ],
             [
              0.1111111111111111,
              "#46039f"
             ],
             [
              0.2222222222222222,
              "#7201a8"
             ],
             [
              0.3333333333333333,
              "#9c179e"
             ],
             [
              0.4444444444444444,
              "#bd3786"
             ],
             [
              0.5555555555555556,
              "#d8576b"
             ],
             [
              0.6666666666666666,
              "#ed7953"
             ],
             [
              0.7777777777777778,
              "#fb9f3a"
             ],
             [
              0.8888888888888888,
              "#fdca26"
             ],
             [
              1,
              "#f0f921"
             ]
            ],
            "type": "heatmap"
           }
          ],
          "heatmapgl": [
           {
            "colorbar": {
             "outlinewidth": 0,
             "ticks": ""
            },
            "colorscale": [
             [
              0,
              "#0d0887"
             ],
             [
              0.1111111111111111,
              "#46039f"
             ],
             [
              0.2222222222222222,
              "#7201a8"
             ],
             [
              0.3333333333333333,
              "#9c179e"
             ],
             [
              0.4444444444444444,
              "#bd3786"
             ],
             [
              0.5555555555555556,
              "#d8576b"
             ],
             [
              0.6666666666666666,
              "#ed7953"
             ],
             [
              0.7777777777777778,
              "#fb9f3a"
             ],
             [
              0.8888888888888888,
              "#fdca26"
             ],
             [
              1,
              "#f0f921"
             ]
            ],
            "type": "heatmapgl"
           }
          ],
          "histogram": [
           {
            "marker": {
             "pattern": {
              "fillmode": "overlay",
              "size": 10,
              "solidity": 0.2
             }
            },
            "type": "histogram"
           }
          ],
          "histogram2d": [
           {
            "colorbar": {
             "outlinewidth": 0,
             "ticks": ""
            },
            "colorscale": [
             [
              0,
              "#0d0887"
             ],
             [
              0.1111111111111111,
              "#46039f"
             ],
             [
              0.2222222222222222,
              "#7201a8"
             ],
             [
              0.3333333333333333,
              "#9c179e"
             ],
             [
              0.4444444444444444,
              "#bd3786"
             ],
             [
              0.5555555555555556,
              "#d8576b"
             ],
             [
              0.6666666666666666,
              "#ed7953"
             ],
             [
              0.7777777777777778,
              "#fb9f3a"
             ],
             [
              0.8888888888888888,
              "#fdca26"
             ],
             [
              1,
              "#f0f921"
             ]
            ],
            "type": "histogram2d"
           }
          ],
          "histogram2dcontour": [
           {
            "colorbar": {
             "outlinewidth": 0,
             "ticks": ""
            },
            "colorscale": [
             [
              0,
              "#0d0887"
             ],
             [
              0.1111111111111111,
              "#46039f"
             ],
             [
              0.2222222222222222,
              "#7201a8"
             ],
             [
              0.3333333333333333,
              "#9c179e"
             ],
             [
              0.4444444444444444,
              "#bd3786"
             ],
             [
              0.5555555555555556,
              "#d8576b"
             ],
             [
              0.6666666666666666,
              "#ed7953"
             ],
             [
              0.7777777777777778,
              "#fb9f3a"
             ],
             [
              0.8888888888888888,
              "#fdca26"
             ],
             [
              1,
              "#f0f921"
             ]
            ],
            "type": "histogram2dcontour"
           }
          ],
          "mesh3d": [
           {
            "colorbar": {
             "outlinewidth": 0,
             "ticks": ""
            },
            "type": "mesh3d"
           }
          ],
          "parcoords": [
           {
            "line": {
             "colorbar": {
              "outlinewidth": 0,
              "ticks": ""
             }
            },
            "type": "parcoords"
           }
          ],
          "pie": [
           {
            "automargin": true,
            "type": "pie"
           }
          ],
          "scatter": [
           {
            "fillpattern": {
             "fillmode": "overlay",
             "size": 10,
             "solidity": 0.2
            },
            "type": "scatter"
           }
          ],
          "scatter3d": [
           {
            "line": {
             "colorbar": {
              "outlinewidth": 0,
              "ticks": ""
             }
            },
            "marker": {
             "colorbar": {
              "outlinewidth": 0,
              "ticks": ""
             }
            },
            "type": "scatter3d"
           }
          ],
          "scattercarpet": [
           {
            "marker": {
             "colorbar": {
              "outlinewidth": 0,
              "ticks": ""
             }
            },
            "type": "scattercarpet"
           }
          ],
          "scattergeo": [
           {
            "marker": {
             "colorbar": {
              "outlinewidth": 0,
              "ticks": ""
             }
            },
            "type": "scattergeo"
           }
          ],
          "scattergl": [
           {
            "marker": {
             "colorbar": {
              "outlinewidth": 0,
              "ticks": ""
             }
            },
            "type": "scattergl"
           }
          ],
          "scattermapbox": [
           {
            "marker": {
             "colorbar": {
              "outlinewidth": 0,
              "ticks": ""
             }
            },
            "type": "scattermapbox"
           }
          ],
          "scatterpolar": [
           {
            "marker": {
             "colorbar": {
              "outlinewidth": 0,
              "ticks": ""
             }
            },
            "type": "scatterpolar"
           }
          ],
          "scatterpolargl": [
           {
            "marker": {
             "colorbar": {
              "outlinewidth": 0,
              "ticks": ""
             }
            },
            "type": "scatterpolargl"
           }
          ],
          "scatterternary": [
           {
            "marker": {
             "colorbar": {
              "outlinewidth": 0,
              "ticks": ""
             }
            },
            "type": "scatterternary"
           }
          ],
          "surface": [
           {
            "colorbar": {
             "outlinewidth": 0,
             "ticks": ""
            },
            "colorscale": [
             [
              0,
              "#0d0887"
             ],
             [
              0.1111111111111111,
              "#46039f"
             ],
             [
              0.2222222222222222,
              "#7201a8"
             ],
             [
              0.3333333333333333,
              "#9c179e"
             ],
             [
              0.4444444444444444,
              "#bd3786"
             ],
             [
              0.5555555555555556,
              "#d8576b"
             ],
             [
              0.6666666666666666,
              "#ed7953"
             ],
             [
              0.7777777777777778,
              "#fb9f3a"
             ],
             [
              0.8888888888888888,
              "#fdca26"
             ],
             [
              1,
              "#f0f921"
             ]
            ],
            "type": "surface"
           }
          ],
          "table": [
           {
            "cells": {
             "fill": {
              "color": "#EBF0F8"
             },
             "line": {
              "color": "white"
             }
            },
            "header": {
             "fill": {
              "color": "#C8D4E3"
             },
             "line": {
              "color": "white"
             }
            },
            "type": "table"
           }
          ]
         },
         "layout": {
          "annotationdefaults": {
           "arrowcolor": "#2a3f5f",
           "arrowhead": 0,
           "arrowwidth": 1
          },
          "autotypenumbers": "strict",
          "coloraxis": {
           "colorbar": {
            "outlinewidth": 0,
            "ticks": ""
           }
          },
          "colorscale": {
           "diverging": [
            [
             0,
             "#8e0152"
            ],
            [
             0.1,
             "#c51b7d"
            ],
            [
             0.2,
             "#de77ae"
            ],
            [
             0.3,
             "#f1b6da"
            ],
            [
             0.4,
             "#fde0ef"
            ],
            [
             0.5,
             "#f7f7f7"
            ],
            [
             0.6,
             "#e6f5d0"
            ],
            [
             0.7,
             "#b8e186"
            ],
            [
             0.8,
             "#7fbc41"
            ],
            [
             0.9,
             "#4d9221"
            ],
            [
             1,
             "#276419"
            ]
           ],
           "sequential": [
            [
             0,
             "#0d0887"
            ],
            [
             0.1111111111111111,
             "#46039f"
            ],
            [
             0.2222222222222222,
             "#7201a8"
            ],
            [
             0.3333333333333333,
             "#9c179e"
            ],
            [
             0.4444444444444444,
             "#bd3786"
            ],
            [
             0.5555555555555556,
             "#d8576b"
            ],
            [
             0.6666666666666666,
             "#ed7953"
            ],
            [
             0.7777777777777778,
             "#fb9f3a"
            ],
            [
             0.8888888888888888,
             "#fdca26"
            ],
            [
             1,
             "#f0f921"
            ]
           ],
           "sequentialminus": [
            [
             0,
             "#0d0887"
            ],
            [
             0.1111111111111111,
             "#46039f"
            ],
            [
             0.2222222222222222,
             "#7201a8"
            ],
            [
             0.3333333333333333,
             "#9c179e"
            ],
            [
             0.4444444444444444,
             "#bd3786"
            ],
            [
             0.5555555555555556,
             "#d8576b"
            ],
            [
             0.6666666666666666,
             "#ed7953"
            ],
            [
             0.7777777777777778,
             "#fb9f3a"
            ],
            [
             0.8888888888888888,
             "#fdca26"
            ],
            [
             1,
             "#f0f921"
            ]
           ]
          },
          "colorway": [
           "#636efa",
           "#EF553B",
           "#00cc96",
           "#ab63fa",
           "#FFA15A",
           "#19d3f3",
           "#FF6692",
           "#B6E880",
           "#FF97FF",
           "#FECB52"
          ],
          "font": {
           "color": "#2a3f5f"
          },
          "geo": {
           "bgcolor": "white",
           "lakecolor": "white",
           "landcolor": "white",
           "showlakes": true,
           "showland": true,
           "subunitcolor": "#C8D4E3"
          },
          "hoverlabel": {
           "align": "left"
          },
          "hovermode": "closest",
          "mapbox": {
           "style": "light"
          },
          "paper_bgcolor": "white",
          "plot_bgcolor": "white",
          "polar": {
           "angularaxis": {
            "gridcolor": "#EBF0F8",
            "linecolor": "#EBF0F8",
            "ticks": ""
           },
           "bgcolor": "white",
           "radialaxis": {
            "gridcolor": "#EBF0F8",
            "linecolor": "#EBF0F8",
            "ticks": ""
           }
          },
          "scene": {
           "xaxis": {
            "backgroundcolor": "white",
            "gridcolor": "#DFE8F3",
            "gridwidth": 2,
            "linecolor": "#EBF0F8",
            "showbackground": true,
            "ticks": "",
            "zerolinecolor": "#EBF0F8"
           },
           "yaxis": {
            "backgroundcolor": "white",
            "gridcolor": "#DFE8F3",
            "gridwidth": 2,
            "linecolor": "#EBF0F8",
            "showbackground": true,
            "ticks": "",
            "zerolinecolor": "#EBF0F8"
           },
           "zaxis": {
            "backgroundcolor": "white",
            "gridcolor": "#DFE8F3",
            "gridwidth": 2,
            "linecolor": "#EBF0F8",
            "showbackground": true,
            "ticks": "",
            "zerolinecolor": "#EBF0F8"
           }
          },
          "shapedefaults": {
           "line": {
            "color": "#2a3f5f"
           }
          },
          "ternary": {
           "aaxis": {
            "gridcolor": "#DFE8F3",
            "linecolor": "#A2B1C6",
            "ticks": ""
           },
           "baxis": {
            "gridcolor": "#DFE8F3",
            "linecolor": "#A2B1C6",
            "ticks": ""
           },
           "bgcolor": "white",
           "caxis": {
            "gridcolor": "#DFE8F3",
            "linecolor": "#A2B1C6",
            "ticks": ""
           }
          },
          "title": {
           "x": 0.05
          },
          "xaxis": {
           "automargin": true,
           "gridcolor": "#EBF0F8",
           "linecolor": "#EBF0F8",
           "ticks": "",
           "title": {
            "standoff": 15
           },
           "zerolinecolor": "#EBF0F8",
           "zerolinewidth": 2
          },
          "yaxis": {
           "automargin": true,
           "gridcolor": "#EBF0F8",
           "linecolor": "#EBF0F8",
           "ticks": "",
           "title": {
            "standoff": 15
           },
           "zerolinecolor": "#EBF0F8",
           "zerolinewidth": 2
          }
         }
        },
        "title": {
         "text": "Species sorted by year in keywords in publicly available literature on PubMed"
        },
        "width": 1000,
        "xaxis": {
         "anchor": "y",
         "domain": [
          0,
          1
         ],
         "title": {
          "font": {
           "size": 18
          },
          "text": "Years"
         }
        },
        "yaxis": {
         "anchor": "x",
         "domain": [
          0,
          1
         ],
         "title": {
          "font": {
           "size": 18
          },
          "text": "Number"
         }
        }
       }
      }
     },
     "metadata": {},
     "output_type": "display_data"
    }
   ],
   "source": [
    "import plotly.express as px\n",
    "import pandas as pd\n",
    "import numpy as np\n",
    "\n",
    "def plot_keywords_scatter(csv_path, chart_size=20, color_continuous_scale=\"RdBu\"):\n",
    "    \"\"\"\n",
    "    从CSV文件中读取数据，并创建一个散点图来展示关键词在不同年份的数量。\n",
    "\n",
    "    Args:\n",
    "        csv_path: CSV文件路径\n",
    "    \"\"\"\n",
    "    # 读取CSV文件\n",
    "    df = pd.read_csv(csv_path)\n",
    "\n",
    "    # 转换Count列为float类型，并添加噪声\n",
    "    df['Count'] = df['Count'].astype(float)\n",
    "    df['Counts'] = df['Count'] + np.random.uniform(-0.5, 0.5, size=len(df))\n",
    "    df['Years'] = df['Year'] + np.random.uniform(-0.3, 0.3, size=len(df))\n",
    "\n",
    "    # 创建散点图\n",
    "    fig = px.scatter(df, \n",
    "                     x='Years', \n",
    "                     y='Counts', \n",
    "                     size='Count',\n",
    "                     color='Count',\n",
    "                     hover_name='Keyword',  # 使用关键词作为悬浮名称\n",
    "                     hover_data=['Year', 'Count'],  \n",
    "                     size_max=chart_size,\n",
    "                     title='Species sorted by year in keywords in publicly available literature on PubMed',\n",
    "                     labels={\"Count\": \"Numbers\", \"Year\": \"Years\"},\n",
    "                     color_continuous_scale=color_continuous_scale,\n",
    "                    )\n",
    "\n",
    "    # 更新图表布局\n",
    "    fig.update_layout(\n",
    "        template=\"plotly_white\",\n",
    "        width=1000,\n",
    "        height=600,\n",
    "        xaxis=dict(title=dict(text='Years', font=dict(size=18))),\n",
    "        yaxis=dict(title=dict(text='Number', font=dict(size=18)),\n",
    "        )\n",
    "    )\n",
    "\n",
    "    # 显示图表\n",
    "    return fig\n",
    "\n",
    "    # 方案1:将fig对象转为json\n",
    "    # fig_json = pio.to_json(fig)\n",
    "    # return fig_json\n",
    "\n",
    "    # 方案2:将fig转为html格式，返回html代码\n",
    "    # fig_html = plot(fig, output_type='div', include_plotlyjs=False)        \n",
    "    # return fig_html\n",
    "\n",
    "    # 方案3:将fig转为html格式，保存为html文件\n",
    "    # fig.write_html(\"keywords_sort.html\")\n",
    "    # return \"keywords_sort.html\"\n",
    "\n",
    "# 示例调用\n",
    "plot_keywords_scatter('mt/Mt_keywords_counts_year.csv', \n",
    "                      chart_size=20, \n",
    "                      color_continuous_scale=\"RdBu_r\")"
   ]
  }
 ],
 "metadata": {
  "kernelspec": {
   "display_name": "code",
   "language": "python",
   "name": "python3"
  },
  "language_info": {
   "codemirror_mode": {
    "name": "ipython",
    "version": 3
   },
   "file_extension": ".py",
   "mimetype": "text/x-python",
   "name": "python",
   "nbconvert_exporter": "python",
   "pygments_lexer": "ipython3",
   "version": "3.10.0"
  }
 },
 "nbformat": 4,
 "nbformat_minor": 2
}
