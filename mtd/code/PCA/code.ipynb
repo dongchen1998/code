{
 "cells": [
  {
   "cell_type": "code",
   "execution_count": 2,
   "metadata": {},
   "outputs": [],
   "source": [
    "import pandas as pd\n",
    "import plotly.express as px\n",
    "\n",
    "expr_df = pd.read_csv('expression_matrix.csv', index_col=0)\n",
    "info_df = pd.read_csv('samples_info.csv')\n",
    "\n",
    "# 合并表达矩阵和样本信息表\n",
    "df = expr_df.join(info_df.set_index('sample_id'))\n",
    "\n",
    "# 按condition分组\n",
    "grouped = df.groupby('condition')\n",
    "\n",
    "# 计算每个条件下的平均表达量\n",
    "averaged = grouped.mean() \n",
    "\n",
    "# PCA分析\n",
    "pca = px.pca(averaged, color=averaged.index)\n",
    "pca.show()"
   ]
  }
 ],
 "metadata": {
  "kernelspec": {
   "display_name": "code",
   "language": "python",
   "name": "python3"
  },
  "language_info": {
   "codemirror_mode": {
    "name": "ipython",
    "version": 3
   },
   "file_extension": ".py",
   "mimetype": "text/x-python",
   "name": "python",
   "nbconvert_exporter": "python",
   "pygments_lexer": "ipython3",
   "version": "3.10.0"
  }
 },
 "nbformat": 4,
 "nbformat_minor": 2
}
