{
 "cells": [
  {
   "cell_type": "code",
   "execution_count": null,
   "metadata": {},
   "outputs": [],
   "source": [
    "%pip install scikit-learn\n",
    "%pip install matplotlib\n",
    "%pip install seaborn"
   ]
  },
  {
   "cell_type": "code",
   "execution_count": null,
   "metadata": {},
   "outputs": [],
   "source": [
    "import numpy as np\n",
    "import pandas as pd\n",
    "\n",
    "from sklearn.decomposition import PCA\n",
    "import matplotlib.pyplot as plt\n",
    "import seaborn as sns\n",
    "# 加载表达矩阵\n",
    "expression_matrix = pd.read_csv(\"expression_matrix.csv\", index_col=0)\n",
    "\n",
    "# 数据规范化\n",
    "normalized_data = (expression_matrix - expression_matrix.mean(axis=0)) / expression_matrix.std(axis=0)\n",
    "\n",
    "# PCA分析\n",
    "pca = PCA(n_components=2)\n",
    "principal_components = pca.fit_transform(normalized_data)\n",
    "principal_df = pd.DataFrame(data=principal_components, columns=['PC1', 'PC2'])\n",
    "\n",
    "# 添加样本分组信息\n",
    "samples_info = pd.read_csv(\"samples_info.csv\", index_col=0)\n",
    "final_df = pd.concat([principal_df, samples_info], axis=1)\n",
    "\n",
    "# 可视化PCA结果\n",
    "plt.figure()\n",
    "sns.scatterplot(x='PC1', y='PC2', hue='group', data=final_df)\n",
    "plt.xlabel('Principal Component 1')\n",
    "plt.ylabel('Principal Component 2')\n",
    "plt.title('PCA of Transcriptomic Data')\n",
    "plt.legend()\n",
    "plt.show()\n"
   ]
  }
 ],
 "metadata": {
  "kernelspec": {
   "display_name": "code",
   "language": "python",
   "name": "python3"
  },
  "language_info": {
   "name": "python",
   "version": "3.10.0"
  }
 },
 "nbformat": 4,
 "nbformat_minor": 2
}
