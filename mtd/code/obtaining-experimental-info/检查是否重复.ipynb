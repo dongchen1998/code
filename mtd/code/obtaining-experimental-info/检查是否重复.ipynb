{
 "cells": [
  {
   "cell_type": "code",
   "execution_count": 1,
   "metadata": {},
   "outputs": [
    {
     "name": "stdout",
     "output_type": "stream",
     "text": [
      "没有重复值\n"
     ]
    }
   ],
   "source": [
    "import pandas as pd\n",
    "\n",
    "# 读取csv文件\n",
    "df = pd.read_csv('Nc_核对.csv')\n",
    "\n",
    "# 获取以\"SPX\"开头的值\n",
    "spx_values = df[df['Experiment'].str.startswith('SPX')]['Experiment']\n",
    "\n",
    "# 检查是否存在重复值\n",
    "duplicates = spx_values[spx_values.duplicated()]\n",
    "\n",
    "if duplicates.empty:\n",
    "    print(\"没有重复值\")\n",
    "else:\n",
    "    print(\"存在重复值:\")\n",
    "    print(duplicates.to_list())"
   ]
  },
  {
   "cell_type": "code",
   "execution_count": 2,
   "metadata": {},
   "outputs": [
    {
     "name": "stdout",
     "output_type": "stream",
     "text": [
      "没有重复值\n"
     ]
    }
   ],
   "source": [
    "import pandas as pd\n",
    "\n",
    "# 读取csv文件\n",
    "df = pd.read_csv('Nc_核对.csv')\n",
    "\n",
    "# 获取以\"SPX\"开头的值\n",
    "spx_values = df[df['Experiment'].str.startswith('SPX')]['Experiment']\n",
    "\n",
    "# 检查是否存在重复值\n",
    "duplicates = spx_values[spx_values.duplicated()]\n",
    "\n",
    "if duplicates.empty:\n",
    "    print(\"没有重复值\")\n",
    "else:\n",
    "    print(\"存在重复值:\")\n",
    "    print(duplicates.to_list())\n"
   ]
  }
 ],
 "metadata": {
  "kernelspec": {
   "display_name": "demo",
   "language": "python",
   "name": "python3"
  },
  "language_info": {
   "codemirror_mode": {
    "name": "ipython",
    "version": 3
   },
   "file_extension": ".py",
   "mimetype": "text/x-python",
   "name": "python",
   "nbconvert_exporter": "python",
   "pygments_lexer": "ipython3",
   "version": "3.9.0"
  },
  "orig_nbformat": 4
 },
 "nbformat": 4,
 "nbformat_minor": 2
}
