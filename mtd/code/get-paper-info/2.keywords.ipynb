{
 "cells": [
  {
   "cell_type": "code",
   "execution_count": 1,
   "metadata": {},
   "outputs": [
    {
     "data": {
      "application/vnd.plotly.v1+json": {
       "config": {
        "plotlyServerURL": "https://plot.ly"
       },
       "data": [
        {
         "customdata": [
          [
           "Keyword_2000",
           10
          ],
          [
           "Keyword_2001",
           2
          ],
          [
           "Keyword_2002",
           8
          ],
          [
           "Keyword_2003",
           4
          ],
          [
           "Keyword_2004",
           10
          ],
          [
           "Keyword_2005",
           8
          ],
          [
           "Keyword_2006",
           4
          ],
          [
           "Keyword_2007",
           2
          ],
          [
           "Keyword_2008",
           7
          ],
          [
           "Keyword_2009",
           4
          ],
          [
           "Keyword_2010",
           6
          ],
          [
           "Keyword_2011",
           9
          ],
          [
           "Keyword_2012",
           9
          ],
          [
           "Keyword_2013",
           9
          ],
          [
           "Keyword_2014",
           5
          ],
          [
           "Keyword_2015",
           6
          ],
          [
           "Keyword_2016",
           5
          ],
          [
           "Keyword_2017",
           6
          ],
          [
           "Keyword_2018",
           7
          ],
          [
           "Keyword_2019",
           4
          ],
          [
           "Keyword_2020",
           8
          ],
          [
           "Keyword_2021",
           1
          ],
          [
           "Keyword_2022",
           5
          ]
         ],
         "hovertemplate": "<b>%{hovertext}</b><br><br>Publication Years=%{x}<br>Publication Numbers=%{marker.color}<br>Keywords=%{customdata[0]}<br>Numbers=%{customdata[1]}<extra></extra>",
         "hovertext": [
          "Keyword_2000",
          "Keyword_2001",
          "Keyword_2002",
          "Keyword_2003",
          "Keyword_2004",
          "Keyword_2005",
          "Keyword_2006",
          "Keyword_2007",
          "Keyword_2008",
          "Keyword_2009",
          "Keyword_2010",
          "Keyword_2011",
          "Keyword_2012",
          "Keyword_2013",
          "Keyword_2014",
          "Keyword_2015",
          "Keyword_2016",
          "Keyword_2017",
          "Keyword_2018",
          "Keyword_2019",
          "Keyword_2020",
          "Keyword_2021",
          "Keyword_2022"
         ],
         "legendgroup": "",
         "marker": {
          "color": [
           731,
           573,
           407,
           439,
           531,
           757,
           413,
           534,
           695,
           774,
           645,
           594,
           720,
           427,
           790,
           414,
           527,
           683,
           488,
           732,
           720,
           755,
           698
          ],
          "coloraxis": "coloraxis",
          "size": [
           731,
           573,
           407,
           439,
           531,
           757,
           413,
           534,
           695,
           774,
           645,
           594,
           720,
           427,
           790,
           414,
           527,
           683,
           488,
           732,
           720,
           755,
           698
          ],
          "sizemode": "area",
          "sizeref": 1.975,
          "symbol": "diamond"
         },
         "mode": "markers",
         "name": "",
         "orientation": "v",
         "showlegend": false,
         "type": "scatter",
         "x": [
          2000,
          2001,
          2002,
          2003,
          2004,
          2005,
          2006,
          2007,
          2008,
          2009,
          2010,
          2011,
          2012,
          2013,
          2014,
          2015,
          2016,
          2017,
          2018,
          2019,
          2020,
          2021,
          2022
         ],
         "xaxis": "x",
         "y": [
          731,
          573,
          407,
          439,
          531,
          757,
          413,
          534,
          695,
          774,
          645,
          594,
          720,
          427,
          790,
          414,
          527,
          683,
          488,
          732,
          720,
          755,
          698
         ],
         "yaxis": "y"
        }
       ],
       "layout": {
        "coloraxis": {
         "colorbar": {
          "title": {
           "text": "Publication Numbers"
          }
         },
         "colorscale": [
          [
           0,
           "rgb(0, 128, 128)"
          ],
          [
           0.16666666666666666,
           "rgb(112, 164, 148)"
          ],
          [
           0.3333333333333333,
           "rgb(180, 200, 168)"
          ],
          [
           0.5,
           "rgb(246, 237, 189)"
          ],
          [
           0.6666666666666666,
           "rgb(237, 187, 138)"
          ],
          [
           0.8333333333333334,
           "rgb(222, 138, 90)"
          ],
          [
           1,
           "rgb(202, 86, 44)"
          ]
         ]
        },
        "height": 600,
        "legend": {
         "itemsizing": "constant",
         "tracegroupgap": 0
        },
        "template": {
         "data": {
          "bar": [
           {
            "error_x": {
             "color": "#2a3f5f"
            },
            "error_y": {
             "color": "#2a3f5f"
            },
            "marker": {
             "line": {
              "color": "white",
              "width": 0.5
             },
             "pattern": {
              "fillmode": "overlay",
              "size": 10,
              "solidity": 0.2
             }
            },
            "type": "bar"
           }
          ],
          "barpolar": [
           {
            "marker": {
             "line": {
              "color": "white",
              "width": 0.5
             },
             "pattern": {
              "fillmode": "overlay",
              "size": 10,
              "solidity": 0.2
             }
            },
            "type": "barpolar"
           }
          ],
          "carpet": [
           {
            "aaxis": {
             "endlinecolor": "#2a3f5f",
             "gridcolor": "#C8D4E3",
             "linecolor": "#C8D4E3",
             "minorgridcolor": "#C8D4E3",
             "startlinecolor": "#2a3f5f"
            },
            "baxis": {
             "endlinecolor": "#2a3f5f",
             "gridcolor": "#C8D4E3",
             "linecolor": "#C8D4E3",
             "minorgridcolor": "#C8D4E3",
             "startlinecolor": "#2a3f5f"
            },
            "type": "carpet"
           }
          ],
          "choropleth": [
           {
            "colorbar": {
             "outlinewidth": 0,
             "ticks": ""
            },
            "type": "choropleth"
           }
          ],
          "contour": [
           {
            "colorbar": {
             "outlinewidth": 0,
             "ticks": ""
            },
            "colorscale": [
             [
              0,
              "#0d0887"
             ],
             [
              0.1111111111111111,
              "#46039f"
             ],
             [
              0.2222222222222222,
              "#7201a8"
             ],
             [
              0.3333333333333333,
              "#9c179e"
             ],
             [
              0.4444444444444444,
              "#bd3786"
             ],
             [
              0.5555555555555556,
              "#d8576b"
             ],
             [
              0.6666666666666666,
              "#ed7953"
             ],
             [
              0.7777777777777778,
              "#fb9f3a"
             ],
             [
              0.8888888888888888,
              "#fdca26"
             ],
             [
              1,
              "#f0f921"
             ]
            ],
            "type": "contour"
           }
          ],
          "contourcarpet": [
           {
            "colorbar": {
             "outlinewidth": 0,
             "ticks": ""
            },
            "type": "contourcarpet"
           }
          ],
          "heatmap": [
           {
            "colorbar": {
             "outlinewidth": 0,
             "ticks": ""
            },
            "colorscale": [
             [
              0,
              "#0d0887"
             ],
             [
              0.1111111111111111,
              "#46039f"
             ],
             [
              0.2222222222222222,
              "#7201a8"
             ],
             [
              0.3333333333333333,
              "#9c179e"
             ],
             [
              0.4444444444444444,
              "#bd3786"
             ],
             [
              0.5555555555555556,
              "#d8576b"
             ],
             [
              0.6666666666666666,
              "#ed7953"
             ],
             [
              0.7777777777777778,
              "#fb9f3a"
             ],
             [
              0.8888888888888888,
              "#fdca26"
             ],
             [
              1,
              "#f0f921"
             ]
            ],
            "type": "heatmap"
           }
          ],
          "heatmapgl": [
           {
            "colorbar": {
             "outlinewidth": 0,
             "ticks": ""
            },
            "colorscale": [
             [
              0,
              "#0d0887"
             ],
             [
              0.1111111111111111,
              "#46039f"
             ],
             [
              0.2222222222222222,
              "#7201a8"
             ],
             [
              0.3333333333333333,
              "#9c179e"
             ],
             [
              0.4444444444444444,
              "#bd3786"
             ],
             [
              0.5555555555555556,
              "#d8576b"
             ],
             [
              0.6666666666666666,
              "#ed7953"
             ],
             [
              0.7777777777777778,
              "#fb9f3a"
             ],
             [
              0.8888888888888888,
              "#fdca26"
             ],
             [
              1,
              "#f0f921"
             ]
            ],
            "type": "heatmapgl"
           }
          ],
          "histogram": [
           {
            "marker": {
             "pattern": {
              "fillmode": "overlay",
              "size": 10,
              "solidity": 0.2
             }
            },
            "type": "histogram"
           }
          ],
          "histogram2d": [
           {
            "colorbar": {
             "outlinewidth": 0,
             "ticks": ""
            },
            "colorscale": [
             [
              0,
              "#0d0887"
             ],
             [
              0.1111111111111111,
              "#46039f"
             ],
             [
              0.2222222222222222,
              "#7201a8"
             ],
             [
              0.3333333333333333,
              "#9c179e"
             ],
             [
              0.4444444444444444,
              "#bd3786"
             ],
             [
              0.5555555555555556,
              "#d8576b"
             ],
             [
              0.6666666666666666,
              "#ed7953"
             ],
             [
              0.7777777777777778,
              "#fb9f3a"
             ],
             [
              0.8888888888888888,
              "#fdca26"
             ],
             [
              1,
              "#f0f921"
             ]
            ],
            "type": "histogram2d"
           }
          ],
          "histogram2dcontour": [
           {
            "colorbar": {
             "outlinewidth": 0,
             "ticks": ""
            },
            "colorscale": [
             [
              0,
              "#0d0887"
             ],
             [
              0.1111111111111111,
              "#46039f"
             ],
             [
              0.2222222222222222,
              "#7201a8"
             ],
             [
              0.3333333333333333,
              "#9c179e"
             ],
             [
              0.4444444444444444,
              "#bd3786"
             ],
             [
              0.5555555555555556,
              "#d8576b"
             ],
             [
              0.6666666666666666,
              "#ed7953"
             ],
             [
              0.7777777777777778,
              "#fb9f3a"
             ],
             [
              0.8888888888888888,
              "#fdca26"
             ],
             [
              1,
              "#f0f921"
             ]
            ],
            "type": "histogram2dcontour"
           }
          ],
          "mesh3d": [
           {
            "colorbar": {
             "outlinewidth": 0,
             "ticks": ""
            },
            "type": "mesh3d"
           }
          ],
          "parcoords": [
           {
            "line": {
             "colorbar": {
              "outlinewidth": 0,
              "ticks": ""
             }
            },
            "type": "parcoords"
           }
          ],
          "pie": [
           {
            "automargin": true,
            "type": "pie"
           }
          ],
          "scatter": [
           {
            "fillpattern": {
             "fillmode": "overlay",
             "size": 10,
             "solidity": 0.2
            },
            "type": "scatter"
           }
          ],
          "scatter3d": [
           {
            "line": {
             "colorbar": {
              "outlinewidth": 0,
              "ticks": ""
             }
            },
            "marker": {
             "colorbar": {
              "outlinewidth": 0,
              "ticks": ""
             }
            },
            "type": "scatter3d"
           }
          ],
          "scattercarpet": [
           {
            "marker": {
             "colorbar": {
              "outlinewidth": 0,
              "ticks": ""
             }
            },
            "type": "scattercarpet"
           }
          ],
          "scattergeo": [
           {
            "marker": {
             "colorbar": {
              "outlinewidth": 0,
              "ticks": ""
             }
            },
            "type": "scattergeo"
           }
          ],
          "scattergl": [
           {
            "marker": {
             "colorbar": {
              "outlinewidth": 0,
              "ticks": ""
             }
            },
            "type": "scattergl"
           }
          ],
          "scattermapbox": [
           {
            "marker": {
             "colorbar": {
              "outlinewidth": 0,
              "ticks": ""
             }
            },
            "type": "scattermapbox"
           }
          ],
          "scatterpolar": [
           {
            "marker": {
             "colorbar": {
              "outlinewidth": 0,
              "ticks": ""
             }
            },
            "type": "scatterpolar"
           }
          ],
          "scatterpolargl": [
           {
            "marker": {
             "colorbar": {
              "outlinewidth": 0,
              "ticks": ""
             }
            },
            "type": "scatterpolargl"
           }
          ],
          "scatterternary": [
           {
            "marker": {
             "colorbar": {
              "outlinewidth": 0,
              "ticks": ""
             }
            },
            "type": "scatterternary"
           }
          ],
          "surface": [
           {
            "colorbar": {
             "outlinewidth": 0,
             "ticks": ""
            },
            "colorscale": [
             [
              0,
              "#0d0887"
             ],
             [
              0.1111111111111111,
              "#46039f"
             ],
             [
              0.2222222222222222,
              "#7201a8"
             ],
             [
              0.3333333333333333,
              "#9c179e"
             ],
             [
              0.4444444444444444,
              "#bd3786"
             ],
             [
              0.5555555555555556,
              "#d8576b"
             ],
             [
              0.6666666666666666,
              "#ed7953"
             ],
             [
              0.7777777777777778,
              "#fb9f3a"
             ],
             [
              0.8888888888888888,
              "#fdca26"
             ],
             [
              1,
              "#f0f921"
             ]
            ],
            "type": "surface"
           }
          ],
          "table": [
           {
            "cells": {
             "fill": {
              "color": "#EBF0F8"
             },
             "line": {
              "color": "white"
             }
            },
            "header": {
             "fill": {
              "color": "#C8D4E3"
             },
             "line": {
              "color": "white"
             }
            },
            "type": "table"
           }
          ]
         },
         "layout": {
          "annotationdefaults": {
           "arrowcolor": "#2a3f5f",
           "arrowhead": 0,
           "arrowwidth": 1
          },
          "autotypenumbers": "strict",
          "coloraxis": {
           "colorbar": {
            "outlinewidth": 0,
            "ticks": ""
           }
          },
          "colorscale": {
           "diverging": [
            [
             0,
             "#8e0152"
            ],
            [
             0.1,
             "#c51b7d"
            ],
            [
             0.2,
             "#de77ae"
            ],
            [
             0.3,
             "#f1b6da"
            ],
            [
             0.4,
             "#fde0ef"
            ],
            [
             0.5,
             "#f7f7f7"
            ],
            [
             0.6,
             "#e6f5d0"
            ],
            [
             0.7,
             "#b8e186"
            ],
            [
             0.8,
             "#7fbc41"
            ],
            [
             0.9,
             "#4d9221"
            ],
            [
             1,
             "#276419"
            ]
           ],
           "sequential": [
            [
             0,
             "#0d0887"
            ],
            [
             0.1111111111111111,
             "#46039f"
            ],
            [
             0.2222222222222222,
             "#7201a8"
            ],
            [
             0.3333333333333333,
             "#9c179e"
            ],
            [
             0.4444444444444444,
             "#bd3786"
            ],
            [
             0.5555555555555556,
             "#d8576b"
            ],
            [
             0.6666666666666666,
             "#ed7953"
            ],
            [
             0.7777777777777778,
             "#fb9f3a"
            ],
            [
             0.8888888888888888,
             "#fdca26"
            ],
            [
             1,
             "#f0f921"
            ]
           ],
           "sequentialminus": [
            [
             0,
             "#0d0887"
            ],
            [
             0.1111111111111111,
             "#46039f"
            ],
            [
             0.2222222222222222,
             "#7201a8"
            ],
            [
             0.3333333333333333,
             "#9c179e"
            ],
            [
             0.4444444444444444,
             "#bd3786"
            ],
            [
             0.5555555555555556,
             "#d8576b"
            ],
            [
             0.6666666666666666,
             "#ed7953"
            ],
            [
             0.7777777777777778,
             "#fb9f3a"
            ],
            [
             0.8888888888888888,
             "#fdca26"
            ],
            [
             1,
             "#f0f921"
            ]
           ]
          },
          "colorway": [
           "#636efa",
           "#EF553B",
           "#00cc96",
           "#ab63fa",
           "#FFA15A",
           "#19d3f3",
           "#FF6692",
           "#B6E880",
           "#FF97FF",
           "#FECB52"
          ],
          "font": {
           "color": "#2a3f5f"
          },
          "geo": {
           "bgcolor": "white",
           "lakecolor": "white",
           "landcolor": "white",
           "showlakes": true,
           "showland": true,
           "subunitcolor": "#C8D4E3"
          },
          "hoverlabel": {
           "align": "left"
          },
          "hovermode": "closest",
          "mapbox": {
           "style": "light"
          },
          "paper_bgcolor": "white",
          "plot_bgcolor": "white",
          "polar": {
           "angularaxis": {
            "gridcolor": "#EBF0F8",
            "linecolor": "#EBF0F8",
            "ticks": ""
           },
           "bgcolor": "white",
           "radialaxis": {
            "gridcolor": "#EBF0F8",
            "linecolor": "#EBF0F8",
            "ticks": ""
           }
          },
          "scene": {
           "xaxis": {
            "backgroundcolor": "white",
            "gridcolor": "#DFE8F3",
            "gridwidth": 2,
            "linecolor": "#EBF0F8",
            "showbackground": true,
            "ticks": "",
            "zerolinecolor": "#EBF0F8"
           },
           "yaxis": {
            "backgroundcolor": "white",
            "gridcolor": "#DFE8F3",
            "gridwidth": 2,
            "linecolor": "#EBF0F8",
            "showbackground": true,
            "ticks": "",
            "zerolinecolor": "#EBF0F8"
           },
           "zaxis": {
            "backgroundcolor": "white",
            "gridcolor": "#DFE8F3",
            "gridwidth": 2,
            "linecolor": "#EBF0F8",
            "showbackground": true,
            "ticks": "",
            "zerolinecolor": "#EBF0F8"
           }
          },
          "shapedefaults": {
           "line": {
            "color": "#2a3f5f"
           }
          },
          "ternary": {
           "aaxis": {
            "gridcolor": "#DFE8F3",
            "linecolor": "#A2B1C6",
            "ticks": ""
           },
           "baxis": {
            "gridcolor": "#DFE8F3",
            "linecolor": "#A2B1C6",
            "ticks": ""
           },
           "bgcolor": "white",
           "caxis": {
            "gridcolor": "#DFE8F3",
            "linecolor": "#A2B1C6",
            "ticks": ""
           }
          },
          "title": {
           "x": 0.05
          },
          "xaxis": {
           "automargin": true,
           "gridcolor": "#EBF0F8",
           "linecolor": "#EBF0F8",
           "ticks": "",
           "title": {
            "standoff": 15
           },
           "zerolinecolor": "#EBF0F8",
           "zerolinewidth": 2
          },
          "yaxis": {
           "automargin": true,
           "gridcolor": "#EBF0F8",
           "linecolor": "#EBF0F8",
           "ticks": "",
           "title": {
            "standoff": 15
           },
           "zerolinecolor": "#EBF0F8",
           "zerolinewidth": 2
          }
         }
        },
        "title": {
         "text": "Publication Numbers of Ciliopathy Related Genes (2000-2022)"
        },
        "width": 1000,
        "xaxis": {
         "anchor": "y",
         "domain": [
          0,
          1
         ],
         "title": {
          "text": "Publication Years"
         }
        },
        "yaxis": {
         "anchor": "x",
         "domain": [
          0,
          1
         ],
         "title": {
          "text": "Publication Numbers"
         }
        }
       }
      }
     },
     "metadata": {},
     "output_type": "display_data"
    }
   ],
   "source": [
    "import plotly.express as px\n",
    "import pandas as pd\n",
    "import random\n",
    "\n",
    "# 生成测试数据\n",
    "years = list(range(2000, 2023))\n",
    "publications = [random.randint(400, 800) for _ in years]\n",
    "keywords = [f\"Keyword_{year}\" for year in years]\n",
    "numbers = [random.randint(1, 10) for _ in years]\n",
    "\n",
    "data = {'Year': years, 'Publications': publications, 'Keywords': keywords, 'Numbers': numbers}\n",
    "\n",
    "df = pd.DataFrame(data)\n",
    "\n",
    "# 使用plotly进行绘图\n",
    "fig = px.scatter(df, \n",
    "                 x='Year', \n",
    "                 y='Publications', \n",
    "                 size='Publications',\n",
    "                 color='Publications',\n",
    "                 hover_name='Keywords',\n",
    "                 hover_data=['Keywords', 'Numbers'],  # 添加了Keywords和Numbers到悬浮数据中\n",
    "                 size_max=20,\n",
    "                 title='Publication Numbers of Ciliopathy Related Genes (2000-2022)',\n",
    "                 labels={\"Publications\": \"Publication Numbers\", \"Year\": \"Publication Years\"},\n",
    "                 color_continuous_scale=\"Geyser\",  # _r表示颜色反转\n",
    "                #  color_continuous_scale=px.colors.sequential.Viridis\n",
    "                 )\n",
    "\n",
    "fig.update_layout(\n",
    "    # font=dict(family=\"Arial\", size=14),\n",
    "    template=\"plotly_white\",\n",
    "    # template=\"simple_white\",\n",
    "    width=1000,  # 图表宽度\n",
    "    height=600,  # 图表高度\n",
    ")\n",
    "\n",
    "fig.update_traces(marker_symbol='diamond')\n",
    "\n",
    "# 显示图表\n",
    "fig.show()\n"
   ]
  },
  {
   "cell_type": "markdown",
   "metadata": {},
   "source": [
    "marker_symbol 参数可以设置不同的标记形状,主要有以下几种:\n",
    "\n",
    "'circle' - 默认的圆形标记\n",
    "'square' - 正方形标记\n",
    "'diamond' - 菱形标记\n",
    "'cross' - 十字标记\n",
    "'x' - X形标记\n",
    "'triangle-up' - 向上三角形标记\n",
    "'triangle-down' - 向下三角形标记\n",
    "'triangle-left' - 左向三角形标记\n",
    "'triangle-right' - 右向三角形标记\n",
    "'pentagon' - 五边形标记\n",
    "'hexagon' - 六边形标记\n",
    "'hexagon2' - 六边形标记的另一种样式\n",
    "'octagon' - 八边形标记\n",
    "'star' - 星形标记\n",
    "'line' - 线条标记\n",
    "'dash' - 短线条标记\n",
    "'dot' - 圆点标记\n",
    "'circle-open' - 空心圆标记\n",
    "'circle-dot' - 圆环点标记\n",
    "'square-open' - 空心方块标记\n",
    "'square-dot' - 带圆点的方块标记"
   ]
  },
  {
   "cell_type": "code",
   "execution_count": 1,
   "metadata": {},
   "outputs": [
    {
     "data": {
      "application/vnd.plotly.v1+json": {
       "config": {
        "plotlyServerURL": "https://plot.ly"
       },
       "data": [
        {
         "customdata": [
          [
           2015,
           1
          ],
          [
           2020,
           1
          ],
          [
           2018,
           1
          ],
          [
           2021,
           1
          ],
          [
           2022,
           1
          ],
          [
           2023,
           1
          ],
          [
           2017,
           1
          ],
          [
           2022,
           1
          ],
          [
           2017,
           1
          ],
          [
           2014,
           1
          ],
          [
           2021,
           1
          ],
          [
           2022,
           1
          ],
          [
           2019,
           1
          ],
          [
           2017,
           1
          ],
          [
           2019,
           1
          ],
          [
           2018,
           1
          ],
          [
           2022,
           1
          ],
          [
           2021,
           1
          ],
          [
           2022,
           1
          ],
          [
           2023,
           1
          ],
          [
           2022,
           1
          ],
          [
           2014,
           1
          ],
          [
           2017,
           1
          ],
          [
           2022,
           1
          ],
          [
           2019,
           1
          ],
          [
           2023,
           1
          ],
          [
           2018,
           1
          ],
          [
           2023,
           1
          ],
          [
           2014,
           1
          ],
          [
           2017,
           1
          ],
          [
           2017,
           1
          ],
          [
           2020,
           1
          ],
          [
           2022,
           1
          ],
          [
           2017,
           1
          ],
          [
           2017,
           1
          ],
          [
           2018,
           1
          ],
          [
           2023,
           1
          ],
          [
           2022,
           1
          ],
          [
           2018,
           1
          ],
          [
           2018,
           1
          ],
          [
           2022,
           1
          ],
          [
           2017,
           1
          ],
          [
           2018,
           1
          ],
          [
           2014,
           1
          ],
          [
           2017,
           2
          ],
          [
           2016,
           1
          ],
          [
           2020,
           1
          ],
          [
           2017,
           1
          ],
          [
           2014,
           1
          ],
          [
           2017,
           1
          ],
          [
           2020,
           1
          ],
          [
           2021,
           1
          ],
          [
           2022,
           1
          ],
          [
           2016,
           1
          ],
          [
           2020,
           1
          ],
          [
           2023,
           1
          ],
          [
           2014,
           1
          ],
          [
           2016,
           1
          ],
          [
           2021,
           1
          ],
          [
           2015,
           1
          ],
          [
           2016,
           1
          ],
          [
           2017,
           1
          ],
          [
           2020,
           1
          ],
          [
           2016,
           1
          ],
          [
           2017,
           1
          ],
          [
           2016,
           1
          ],
          [
           2015,
           1
          ],
          [
           2016,
           1
          ],
          [
           2016,
           1
          ],
          [
           2017,
           1
          ],
          [
           2014,
           1
          ],
          [
           2015,
           1
          ],
          [
           2016,
           1
          ],
          [
           2021,
           1
          ],
          [
           2021,
           1
          ],
          [
           2021,
           1
          ],
          [
           2019,
           1
          ],
          [
           2017,
           1
          ],
          [
           2018,
           1
          ],
          [
           2019,
           1
          ],
          [
           2019,
           1
          ],
          [
           2020,
           1
          ],
          [
           2022,
           1
          ],
          [
           2012,
           1
          ],
          [
           2014,
           1
          ],
          [
           2015,
           1
          ],
          [
           2018,
           1
          ],
          [
           2019,
           1
          ],
          [
           2021,
           1
          ],
          [
           2022,
           2
          ],
          [
           2023,
           2
          ],
          [
           2022,
           1
          ],
          [
           2013,
           1
          ],
          [
           2017,
           1
          ],
          [
           2019,
           1
          ],
          [
           2020,
           1
          ],
          [
           2022,
           1
          ],
          [
           2017,
           1
          ],
          [
           2015,
           1
          ],
          [
           2018,
           1
          ],
          [
           2019,
           1
          ],
          [
           2020,
           1
          ],
          [
           2021,
           1
          ],
          [
           2016,
           1
          ],
          [
           2019,
           1
          ],
          [
           2022,
           1
          ],
          [
           2016,
           1
          ],
          [
           2017,
           1
          ],
          [
           2016,
           1
          ],
          [
           2021,
           1
          ],
          [
           2023,
           1
          ],
          [
           2023,
           1
          ],
          [
           2017,
           1
          ],
          [
           2016,
           1
          ],
          [
           2023,
           1
          ],
          [
           2010,
           1
          ],
          [
           2018,
           2
          ],
          [
           2018,
           1
          ],
          [
           2018,
           2
          ],
          [
           2022,
           1
          ],
          [
           2018,
           1
          ],
          [
           2013,
           1
          ],
          [
           2015,
           1
          ],
          [
           2017,
           1
          ],
          [
           2021,
           1
          ],
          [
           2018,
           1
          ],
          [
           2017,
           1
          ],
          [
           2017,
           1
          ],
          [
           2015,
           1
          ],
          [
           2018,
           1
          ],
          [
           2013,
           1
          ],
          [
           2020,
           1
          ],
          [
           2017,
           1
          ],
          [
           2019,
           1
          ],
          [
           2019,
           1
          ],
          [
           2020,
           1
          ],
          [
           2021,
           1
          ],
          [
           2018,
           1
          ],
          [
           2023,
           1
          ],
          [
           2019,
           1
          ],
          [
           2021,
           1
          ],
          [
           2016,
           1
          ],
          [
           2018,
           1
          ],
          [
           2021,
           1
          ],
          [
           2017,
           1
          ],
          [
           2022,
           1
          ],
          [
           2014,
           1
          ],
          [
           2021,
           1
          ],
          [
           2018,
           3
          ],
          [
           2021,
           1
          ],
          [
           2021,
           1
          ],
          [
           2013,
           1
          ],
          [
           2022,
           1
          ],
          [
           2021,
           1
          ],
          [
           2015,
           1
          ],
          [
           2023,
           1
          ],
          [
           2020,
           1
          ],
          [
           2018,
           1
          ],
          [
           2023,
           1
          ],
          [
           2022,
           1
          ],
          [
           2017,
           1
          ],
          [
           2015,
           1
          ],
          [
           2022,
           1
          ],
          [
           2014,
           1
          ],
          [
           2022,
           1
          ],
          [
           2023,
           1
          ],
          [
           2016,
           1
          ],
          [
           2019,
           1
          ],
          [
           2017,
           1
          ],
          [
           2018,
           1
          ],
          [
           2015,
           1
          ],
          [
           2017,
           1
          ],
          [
           2019,
           1
          ],
          [
           2021,
           1
          ],
          [
           2014,
           1
          ],
          [
           2017,
           3
          ],
          [
           2019,
           1
          ],
          [
           2016,
           1
          ],
          [
           2014,
           1
          ],
          [
           2022,
           1
          ],
          [
           2015,
           1
          ],
          [
           2016,
           1
          ],
          [
           2017,
           1
          ],
          [
           2017,
           1
          ],
          [
           2020,
           1
          ],
          [
           2019,
           1
          ],
          [
           2020,
           1
          ],
          [
           2013,
           1
          ],
          [
           2023,
           1
          ],
          [
           2021,
           1
          ],
          [
           2017,
           1
          ],
          [
           2016,
           2
          ],
          [
           2018,
           1
          ],
          [
           2016,
           1
          ],
          [
           2019,
           1
          ],
          [
           2021,
           2
          ],
          [
           2023,
           1
          ],
          [
           2020,
           1
          ],
          [
           2017,
           1
          ],
          [
           2022,
           1
          ],
          [
           2019,
           1
          ],
          [
           2017,
           1
          ],
          [
           2016,
           1
          ],
          [
           2020,
           1
          ],
          [
           2020,
           1
          ],
          [
           2013,
           1
          ],
          [
           2014,
           1
          ],
          [
           2023,
           1
          ],
          [
           2018,
           1
          ],
          [
           2016,
           1
          ],
          [
           2018,
           1
          ],
          [
           2018,
           1
          ],
          [
           2021,
           1
          ],
          [
           2014,
           1
          ],
          [
           2017,
           1
          ],
          [
           2021,
           1
          ],
          [
           2022,
           1
          ],
          [
           2017,
           1
          ],
          [
           2018,
           1
          ],
          [
           2017,
           1
          ],
          [
           2019,
           2
          ],
          [
           2020,
           1
          ],
          [
           2022,
           3
          ],
          [
           2023,
           1
          ],
          [
           2020,
           1
          ],
          [
           2021,
           1
          ],
          [
           2016,
           1
          ],
          [
           2022,
           1
          ],
          [
           2021,
           1
          ],
          [
           2019,
           1
          ],
          [
           2021,
           1
          ],
          [
           2020,
           1
          ],
          [
           2013,
           1
          ],
          [
           2018,
           1
          ],
          [
           2016,
           1
          ],
          [
           2022,
           1
          ],
          [
           2017,
           1
          ],
          [
           2021,
           1
          ],
          [
           2021,
           1
          ],
          [
           2021,
           1
          ],
          [
           2016,
           1
          ],
          [
           2023,
           1
          ],
          [
           2023,
           1
          ],
          [
           2021,
           1
          ],
          [
           2021,
           1
          ],
          [
           2016,
           1
          ],
          [
           2020,
           1
          ],
          [
           2018,
           1
          ],
          [
           2023,
           1
          ],
          [
           2019,
           2
          ],
          [
           2016,
           1
          ],
          [
           2015,
           1
          ],
          [
           2022,
           1
          ],
          [
           2022,
           1
          ],
          [
           2023,
           1
          ],
          [
           2013,
           1
          ],
          [
           2021,
           1
          ],
          [
           2019,
           1
          ],
          [
           2022,
           1
          ],
          [
           2015,
           1
          ],
          [
           2022,
           1
          ],
          [
           2022,
           1
          ],
          [
           2021,
           1
          ],
          [
           2022,
           1
          ],
          [
           2019,
           1
          ],
          [
           2022,
           1
          ],
          [
           2023,
           1
          ],
          [
           2016,
           1
          ],
          [
           2021,
           1
          ],
          [
           2022,
           1
          ],
          [
           2021,
           1
          ],
          [
           2018,
           1
          ],
          [
           2023,
           1
          ],
          [
           2022,
           1
          ],
          [
           2015,
           1
          ],
          [
           2019,
           1
          ],
          [
           2021,
           1
          ],
          [
           2022,
           1
          ],
          [
           2018,
           1
          ],
          [
           2013,
           1
          ],
          [
           2021,
           1
          ],
          [
           2017,
           1
          ],
          [
           2015,
           1
          ],
          [
           2016,
           1
          ],
          [
           2021,
           1
          ],
          [
           2016,
           1
          ],
          [
           2021,
           1
          ],
          [
           2017,
           1
          ],
          [
           2019,
           1
          ],
          [
           2021,
           1
          ],
          [
           2022,
           1
          ],
          [
           2010,
           1
          ],
          [
           2014,
           1
          ],
          [
           2018,
           1
          ],
          [
           2021,
           1
          ],
          [
           2021,
           1
          ],
          [
           2020,
           1
          ],
          [
           2018,
           1
          ],
          [
           2016,
           1
          ],
          [
           2022,
           1
          ],
          [
           2022,
           1
          ],
          [
           2022,
           1
          ],
          [
           2022,
           1
          ],
          [
           2023,
           1
          ],
          [
           2014,
           1
          ],
          [
           2022,
           1
          ],
          [
           2018,
           1
          ],
          [
           2016,
           1
          ],
          [
           2021,
           1
          ],
          [
           2021,
           1
          ],
          [
           2018,
           1
          ],
          [
           2022,
           1
          ],
          [
           2023,
           1
          ],
          [
           2010,
           1
          ],
          [
           2014,
           2
          ],
          [
           2016,
           4
          ],
          [
           2017,
           1
          ],
          [
           2018,
           8
          ],
          [
           2020,
           1
          ],
          [
           2021,
           4
          ],
          [
           2022,
           1
          ],
          [
           2023,
           1
          ],
          [
           2017,
           1
          ],
          [
           2018,
           1
          ],
          [
           2023,
           1
          ],
          [
           2018,
           1
          ],
          [
           2016,
           3
          ],
          [
           2022,
           1
          ],
          [
           2022,
           1
          ],
          [
           2014,
           1
          ],
          [
           2021,
           1
          ],
          [
           2016,
           1
          ],
          [
           2017,
           2
          ],
          [
           2018,
           1
          ],
          [
           2022,
           1
          ],
          [
           2017,
           2
          ],
          [
           2020,
           1
          ],
          [
           2021,
           1
          ],
          [
           2021,
           1
          ],
          [
           2021,
           1
          ],
          [
           2021,
           1
          ],
          [
           2015,
           1
          ],
          [
           2017,
           2
          ],
          [
           2020,
           1
          ],
          [
           2023,
           1
          ],
          [
           2021,
           1
          ],
          [
           2022,
           1
          ],
          [
           2021,
           1
          ],
          [
           2017,
           2
          ],
          [
           2018,
           1
          ],
          [
           2019,
           1
          ],
          [
           2020,
           1
          ],
          [
           2021,
           1
          ],
          [
           2022,
           1
          ],
          [
           2023,
           1
          ],
          [
           2013,
           1
          ],
          [
           2023,
           1
          ],
          [
           2017,
           1
          ],
          [
           2019,
           1
          ],
          [
           2021,
           1
          ],
          [
           2022,
           1
          ],
          [
           2019,
           1
          ],
          [
           2019,
           1
          ],
          [
           2022,
           1
          ],
          [
           2014,
           1
          ],
          [
           2022,
           1
          ],
          [
           2022,
           1
          ],
          [
           2022,
           1
          ],
          [
           2021,
           1
          ],
          [
           2015,
           1
          ],
          [
           2010,
           1
          ],
          [
           2018,
           1
          ],
          [
           2019,
           1
          ],
          [
           2020,
           1
          ],
          [
           2021,
           2
          ],
          [
           2022,
           2
          ],
          [
           2022,
           1
          ],
          [
           2020,
           1
          ],
          [
           2019,
           1
          ],
          [
           2020,
           1
          ],
          [
           2016,
           1
          ],
          [
           2015,
           1
          ],
          [
           2017,
           1
          ],
          [
           2021,
           1
          ],
          [
           2015,
           1
          ],
          [
           2021,
           1
          ],
          [
           2022,
           2
          ],
          [
           2020,
           1
          ],
          [
           2023,
           1
          ],
          [
           2018,
           1
          ],
          [
           2015,
           1
          ],
          [
           2017,
           1
          ],
          [
           2020,
           1
          ],
          [
           2019,
           1
          ],
          [
           2017,
           1
          ],
          [
           2017,
           1
          ],
          [
           2021,
           2
          ],
          [
           2023,
           2
          ],
          [
           2013,
           2
          ],
          [
           2014,
           2
          ],
          [
           2015,
           3
          ],
          [
           2016,
           4
          ],
          [
           2017,
           8
          ],
          [
           2018,
           7
          ],
          [
           2019,
           5
          ],
          [
           2020,
           5
          ],
          [
           2021,
           2
          ],
          [
           2022,
           9
          ],
          [
           2023,
           2
          ],
          [
           2020,
           1
          ],
          [
           2018,
           1
          ],
          [
           2014,
           1
          ],
          [
           2022,
           1
          ],
          [
           2014,
           1
          ],
          [
           2021,
           1
          ],
          [
           2021,
           1
          ],
          [
           2021,
           1
          ],
          [
           2022,
           1
          ],
          [
           2013,
           1
          ],
          [
           2021,
           1
          ],
          [
           2017,
           1
          ],
          [
           2017,
           1
          ],
          [
           2016,
           1
          ],
          [
           2013,
           1
          ],
          [
           2022,
           1
          ],
          [
           2016,
           1
          ],
          [
           2018,
           1
          ],
          [
           2017,
           1
          ],
          [
           2018,
           1
          ],
          [
           2021,
           1
          ],
          [
           2022,
           1
          ],
          [
           2017,
           1
          ],
          [
           2013,
           1
          ],
          [
           2019,
           1
          ],
          [
           2016,
           1
          ],
          [
           2021,
           1
          ],
          [
           2020,
           1
          ],
          [
           2022,
           1
          ],
          [
           2018,
           1
          ],
          [
           2014,
           1
          ],
          [
           2017,
           1
          ],
          [
           2017,
           1
          ],
          [
           2015,
           1
          ],
          [
           2019,
           1
          ],
          [
           2018,
           1
          ],
          [
           2021,
           1
          ],
          [
           2018,
           1
          ],
          [
           2016,
           1
          ],
          [
           2018,
           1
          ],
          [
           2017,
           1
          ],
          [
           2017,
           1
          ],
          [
           2013,
           1
          ],
          [
           2015,
           1
          ],
          [
           2016,
           1
          ],
          [
           2017,
           2
          ],
          [
           2018,
           1
          ],
          [
           2019,
           1
          ],
          [
           2021,
           1
          ],
          [
           2018,
           1
          ],
          [
           2014,
           1
          ],
          [
           2018,
           1
          ],
          [
           2021,
           1
          ],
          [
           2020,
           1
          ],
          [
           2018,
           1
          ],
          [
           2015,
           1
          ],
          [
           2016,
           1
          ],
          [
           2017,
           1
          ],
          [
           2018,
           1
          ],
          [
           2023,
           1
          ],
          [
           2017,
           1
          ],
          [
           2021,
           1
          ],
          [
           2019,
           1
          ],
          [
           2019,
           1
          ],
          [
           2014,
           1
          ],
          [
           2023,
           1
          ],
          [
           2021,
           1
          ],
          [
           2017,
           1
          ],
          [
           2022,
           1
          ],
          [
           2017,
           1
          ],
          [
           2021,
           1
          ],
          [
           2021,
           1
          ],
          [
           2015,
           1
          ],
          [
           2020,
           1
          ],
          [
           2021,
           1
          ],
          [
           2017,
           2
          ],
          [
           2020,
           2
          ],
          [
           2021,
           1
          ],
          [
           2014,
           1
          ],
          [
           2016,
           1
          ],
          [
           2019,
           1
          ],
          [
           2020,
           1
          ],
          [
           2015,
           1
          ],
          [
           2021,
           2
          ],
          [
           2016,
           1
          ],
          [
           2021,
           1
          ],
          [
           2016,
           1
          ],
          [
           2022,
           1
          ],
          [
           2020,
           1
          ],
          [
           2017,
           1
          ],
          [
           2022,
           1
          ],
          [
           2021,
           1
          ],
          [
           2022,
           1
          ],
          [
           2022,
           1
          ],
          [
           2022,
           1
          ],
          [
           2013,
           1
          ],
          [
           2018,
           1
          ],
          [
           2022,
           1
          ],
          [
           2018,
           1
          ],
          [
           2013,
           1
          ],
          [
           2020,
           1
          ],
          [
           2023,
           1
          ],
          [
           2019,
           1
          ],
          [
           2022,
           1
          ],
          [
           2015,
           1
          ],
          [
           2016,
           1
          ],
          [
           2018,
           1
          ],
          [
           2019,
           1
          ],
          [
           2018,
           1
          ],
          [
           2019,
           1
          ],
          [
           2023,
           1
          ],
          [
           2018,
           1
          ],
          [
           2023,
           1
          ],
          [
           2016,
           1
          ],
          [
           2023,
           1
          ],
          [
           2016,
           1
          ],
          [
           2021,
           1
          ],
          [
           2023,
           1
          ],
          [
           2021,
           1
          ],
          [
           2014,
           1
          ],
          [
           2021,
           1
          ],
          [
           2017,
           1
          ],
          [
           2017,
           1
          ],
          [
           2016,
           1
          ],
          [
           2017,
           1
          ],
          [
           2010,
           1
          ],
          [
           2014,
           1
          ],
          [
           2022,
           1
          ],
          [
           2018,
           1
          ],
          [
           2019,
           1
          ],
          [
           2020,
           1
          ],
          [
           2022,
           1
          ],
          [
           2020,
           1
          ],
          [
           2014,
           1
          ],
          [
           2016,
           1
          ],
          [
           2019,
           1
          ],
          [
           2020,
           1
          ],
          [
           2023,
           1
          ],
          [
           2016,
           1
          ],
          [
           2022,
           1
          ],
          [
           2017,
           1
          ],
          [
           2016,
           1
          ],
          [
           2019,
           1
          ],
          [
           2022,
           1
          ],
          [
           2016,
           1
          ],
          [
           2017,
           1
          ],
          [
           2015,
           1
          ],
          [
           2021,
           1
          ],
          [
           2022,
           1
          ],
          [
           2018,
           1
          ],
          [
           2018,
           2
          ],
          [
           2023,
           1
          ],
          [
           2013,
           1
          ],
          [
           2012,
           1
          ],
          [
           2015,
           1
          ],
          [
           2017,
           1
          ],
          [
           2019,
           1
          ],
          [
           2021,
           1
          ],
          [
           2022,
           2
          ],
          [
           2016,
           1
          ],
          [
           2017,
           1
          ],
          [
           2015,
           2
          ],
          [
           2017,
           1
          ],
          [
           2020,
           1
          ],
          [
           2021,
           1
          ],
          [
           2022,
           1
          ],
          [
           2023,
           1
          ],
          [
           2023,
           1
          ],
          [
           2021,
           1
          ],
          [
           2016,
           1
          ],
          [
           2022,
           1
          ],
          [
           2019,
           1
          ],
          [
           2020,
           1
          ],
          [
           2021,
           1
          ],
          [
           2023,
           1
          ],
          [
           2019,
           2
          ],
          [
           2020,
           1
          ],
          [
           2021,
           1
          ],
          [
           2016,
           1
          ],
          [
           2023,
           1
          ],
          [
           2020,
           1
          ],
          [
           2017,
           1
          ],
          [
           2015,
           1
          ],
          [
           2018,
           1
          ],
          [
           2022,
           1
          ],
          [
           2018,
           1
          ],
          [
           2023,
           1
          ],
          [
           2018,
           1
          ],
          [
           2022,
           1
          ],
          [
           2018,
           1
          ],
          [
           2021,
           1
          ],
          [
           2022,
           1
          ],
          [
           2017,
           1
          ],
          [
           2013,
           1
          ],
          [
           2021,
           1
          ],
          [
           2020,
           1
          ],
          [
           2017,
           2
          ],
          [
           2020,
           1
          ],
          [
           2022,
           1
          ],
          [
           2015,
           1
          ],
          [
           2017,
           1
          ],
          [
           2021,
           1
          ],
          [
           2017,
           1
          ],
          [
           2022,
           1
          ],
          [
           2022,
           1
          ],
          [
           2022,
           1
          ],
          [
           2017,
           1
          ],
          [
           2021,
           1
          ],
          [
           2018,
           1
          ],
          [
           2023,
           1
          ],
          [
           2015,
           1
          ],
          [
           2018,
           1
          ],
          [
           2021,
           1
          ],
          [
           2023,
           1
          ],
          [
           2018,
           1
          ],
          [
           2015,
           1
          ],
          [
           2014,
           1
          ],
          [
           2015,
           1
          ],
          [
           2016,
           2
          ],
          [
           2021,
           1
          ],
          [
           2019,
           1
          ],
          [
           2012,
           1
          ],
          [
           2018,
           1
          ],
          [
           2020,
           1
          ],
          [
           2021,
           1
          ],
          [
           2023,
           1
          ],
          [
           2018,
           1
          ],
          [
           2019,
           1
          ],
          [
           2019,
           1
          ],
          [
           2021,
           1
          ],
          [
           2017,
           1
          ],
          [
           2021,
           1
          ],
          [
           2022,
           1
          ],
          [
           2017,
           1
          ],
          [
           2020,
           2
          ],
          [
           2021,
           1
          ],
          [
           2019,
           2
          ],
          [
           2016,
           1
          ],
          [
           2021,
           1
          ],
          [
           2022,
           1
          ],
          [
           2023,
           1
          ]
         ],
         "hovertemplate": "<b>%{hovertext}</b><br><br>Year_jittered=%{x}<br>Count_jittered=%{y}<br>Numbers=%{marker.color}<br>Years=%{customdata[0]}<extra></extra>",
         "hovertext": [
          "Aagal",
          "Aaox",
          "Abts",
          "Acidic xylooligosaccharides",
          "Active site segment",
          "Acute lymphoblastic leukemia",
          "Additives",
          "Adjuvant",
          "Agaricus bisporus",
          "Agarose",
          "Alkalistable",
          "Alum",
          "Amino acid composition",
          "Amperometric response",
          "Amylose",
          "Amyr",
          "Antibacterial activity",
          "Anticancer",
          "Antifungal activity",
          "Antifungal susceptibility testing",
          "Antigen",
          "Antioxidant",
          "Antioxidant",
          "Antioxidant",
          "Antioxidant peptide",
          "Antioxidase",
          "Aqueous systems",
          "Artp",
          "Ascomycetous strains",
          "Ascomycota",
          "Aspergillus fumigatus",
          "Aspergillus niger",
          "Aspergillus niger",
          "Aspergillus terreus",
          "Bacterial cellulose",
          "Bacterial cellulose",
          "Bacterial laccase",
          "Baculovirus",
          "Bamboo powder",
          "Bamboo tablets",
          "Base editing",
          "Basidiomycota",
          "Bicovalent",
          "Bioaugmentation",
          "Biocatalysis",
          "Biocatalyzed polymerization",
          "Biochemicals",
          "Bioethanol",
          "Biofuels",
          "Biofuels",
          "Biofuels",
          "Biografting",
          "Biomanufacturing",
          "Biomass",
          "Biomass",
          "Biomass conversion",
          "Biomass degradation",
          "Biomolecules",
          "Bioprospecting",
          "Biorefinery",
          "Biorefinery",
          "Biorefinery",
          "Biorefinery",
          "Biotechnological applications",
          "Butyl ferulate",
          "Carbohydrate",
          "Carbohydrate active enzyme database",
          "Carbohydrate processing",
          "Catechol",
          "Catechol oxidase",
          "Cazy",
          "Cazy",
          "Cazy",
          "Cazyme gene regulation",
          "Cazymes",
          "Cbb cycle",
          "Cell factory",
          "Cellobiohydrolase",
          "Cellobiohydrolase",
          "Cellobiohydrolase",
          "Cellobiose",
          "Cellobiose",
          "Cellobiose",
          "Cellulase",
          "Cellulase",
          "Cellulase",
          "Cellulase",
          "Cellulase",
          "Cellulase",
          "Cellulase",
          "Cellulase",
          "Cellulase production",
          "Cellulases",
          "Cellulases",
          "Cellulases",
          "Cellulases",
          "Cellulases",
          "Cellulolytic cocktail improvement",
          "Cellulose",
          "Cellulose",
          "Cellulose",
          "Cellulose",
          "Cellulose",
          "Cellulose degradation",
          "Cellulose degradation",
          "Cellulose degradation",
          "Cellulose hydrolysis",
          "Cellulose hydrolysis",
          "Cellulose oxidation",
          "Cellulose saccharification",
          "Cellulose saccharification",
          "Central composite design",
          "Chaetosartorya cremea",
          "Characterization",
          "Characterization",
          "Chemical modification",
          "Chitin",
          "Chitinase",
          "Chitosan",
          "Chitosan",
          "Chitosan hydrogel",
          "Circular dichroism",
          "Class ii peroxidase",
          "Cloning",
          "Coating",
          "Coatings",
          "Codon optimization",
          "Collagenolytic protease",
          "Computational prediction",
          "Conductive cotton",
          "Conformation",
          "Consolidated bioprocessing",
          "Constitutive expression",
          "Copper",
          "Copper monooxygenase",
          "Corn stover",
          "Coupling",
          "Covalent immobilization",
          "Covalent immobilization",
          "Crispr",
          "Cryopreservation",
          "Crystal structure",
          "Crystal structure",
          "Crystallization",
          "Cyclic voltammetry",
          "Cytosine base editor",
          "Cytotoxicity",
          "Decalin",
          "Decolorization",
          "Decolorization",
          "Deep eutectic solvent",
          "Degree of substitution",
          "Depolymerisation",
          "Different fungal species",
          "Differential scanning calorimetry",
          "Digestibility enhancers",
          "Direct electron transfer",
          "Directed evolution",
          "Disulfide bond",
          "Docking simulation",
          "Dpph",
          "Dsc",
          "Dyadic",
          "Dye",
          "Efficacy",
          "Efficacy",
          "Electron donor",
          "Electroporation",
          "Elenolic acid",
          "Elimination",
          "Endoglucanase",
          "Endoglucanase",
          "Endoxylanase",
          "Endoxylanase",
          "Enzymatic deacetylation",
          "Enzymatic hydrolysis",
          "Enzymatic hydrolysis",
          "Enzymatic oligomerization",
          "Enzymatic oxidation",
          "Enzymatic oxidation",
          "Enzymatic saccharification",
          "Enzymatic saccharification",
          "Enzymatic saccharification",
          "Enzymatic tailoring",
          "Enzyme",
          "Enzyme activity",
          "Enzyme assay",
          "Enzyme electrodes",
          "Enzyme engineering",
          "Enzyme hypersecretion",
          "Enzyme immobilisation",
          "Enzyme immobilization",
          "Enzyme immobilization",
          "Enzyme mixture",
          "Enzyme stability",
          "Enzymes",
          "Enzymes",
          "Epinephrine",
          "Epr",
          "Er stress",
          "Escherichia coli",
          "Esterification",
          "Ethanol",
          "Ethanol",
          "Ethanol fermentation",
          "Ethanol tolerance",
          "Ethyl ferulate",
          "Eucalypt",
          "Eucalyptus globulus",
          "Experimental design",
          "Expression",
          "Expression optimization",
          "Extremozyme",
          "Ferulic acid",
          "Ferulic acid",
          "Ferulic acid",
          "Ferulic acid",
          "Feruloyl esterase",
          "Feruloyl esterase",
          "Filamentous fungi",
          "Filamentous fungi",
          "Filamentous fungi",
          "Filamentous fungi",
          "Filamentous fungi",
          "Filamentous fungus",
          "Fixed bioreactor",
          "Flavonoids",
          "Flow cytometry",
          "Fluorophenol",
          "Food protein",
          "Freezing",
          "Ftacv",
          "Fuel cells",
          "Fumaric acid",
          "Fumed silica nanoparticles",
          "Functional properties",
          "Functionalization",
          "Functionalization",
          "Fungal biotechnology",
          "Fungal enzyme production",
          "Fungal enzymes",
          "Fungal growth",
          "Fungal laccase",
          "Galactose transport",
          "Galactose utilization",
          "Gallic acid",
          "Gene editing",
          "Gene expression",
          "Gene regulation",
          "Genome editing",
          "Glucan",
          "Glucoamylase",
          "Glucoamylase",
          "Glucosamine",
          "Glucose and ethanol tolerance",
          "Glucose oxidation",
          "Glucuronic acid recognition",
          "Glucuronoxylan",
          "Glycans",
          "Glycerol",
          "Glycolysis",
          "Glycoprotein",
          "Glycoside hydrolase",
          "Glycoside hydrolase",
          "Glycoside hydrolases",
          "Glycosylation",
          "Grafting",
          "Green processing",
          "Growth kinetics",
          "Guaiacol",
          "Gum arabic",
          "Hbt",
          "Hemicellulase",
          "Hermetia illucens",
          "Heterologous production",
          "Heterologous production",
          "Heterologous protein expression",
          "Homology modelling",
          "Hpi",
          "Hpsec",
          "Hybrid",
          "Hydrogen peroxide",
          "Hydrolysis",
          "Hydrolysis",
          "Hydrolytic activity",
          "Hydrolytic enzymes",
          "Hydrophobicity",
          "Hydroxytyrosol",
          "Hygromycin b phosphotransferase gene hph",
          "Hymenaea courbaril",
          "Igg",
          "Immobilisation",
          "Immobilization",
          "Immobilization",
          "Immobilization",
          "Improved production",
          "In vivo grna transcription",
          "Industrially relevant fungi",
          "Infant",
          "Influenza vaccine",
          "Insect",
          "Insect cells",
          "Intranasal challenge",
          "Invasive pulmonary infection",
          "Ionic liquid",
          "Ionic liquid",
          "Isocyanide",
          "Itraconazole",
          "Kinetic analysis",
          "Kinetics",
          "Kraft lignin",
          "Kraft lignin",
          "Kraft lignin",
          "Laccase",
          "Laccase",
          "Laccase",
          "Laccase",
          "Laccase",
          "Laccase",
          "Laccase",
          "Laccase",
          "Laccase",
          "Laccase kinetics",
          "Laccases",
          "Laea",
          "Library",
          "Lignin",
          "Lignin",
          "Lignin degrading enzymes",
          "Lignocellulolytic enzymes",
          "Lignocellulolytic enzymes",
          "Lignocellulose",
          "Lignocellulose",
          "Lignocellulose",
          "Lignocellulose",
          "Lignocellulosic biomass",
          "Lignocellulosic biomass",
          "Lignocellulosic biomass",
          "Lignosulfonate",
          "Logistic model",
          "Low temperature",
          "Lpmo",
          "Lpmo",
          "Lpmo",
          "Lpmo",
          "Lpmo biocatalysis",
          "Lpmos",
          "Lyophilization",
          "Lytic polysaccharide monooxygenase",
          "Lytic polysaccharide monooxygenase",
          "Lytic polysaccharide monooxygenase",
          "Lytic polysaccharide monooxygenase",
          "Lytic polysaccharide monooxygenase",
          "Lytic polysaccharide monooxygenase",
          "Lytic polysaccharide monooxygenase",
          "Macromolecular assemblages",
          "Malate export",
          "Malbranchea cinamomea",
          "Malic acid",
          "Malic acid",
          "Malonic acid",
          "Marine fungi",
          "Marker recycling",
          "Mass spectrometric fragmentation",
          "Mass spectrometry",
          "Md simulation",
          "Mdf",
          "Mediator",
          "Melanin",
          "Melting temperature",
          "Mesoporous silicates",
          "Metabolic engineering",
          "Metabolic engineering",
          "Metabolic engineering",
          "Metabolic engineering",
          "Metabolic engineering",
          "Metabolic regulation",
          "Metal ion effect",
          "Metalloprotein",
          "Mhglaa",
          "Micropollutants",
          "Microwaves",
          "Mode of action",
          "Mode of action",
          "Modeling",
          "Modification",
          "Molecular docking",
          "Molecular dynamics",
          "Molecular mechanism",
          "Morphine",
          "Mtgal",
          "Mtperii peroxidase",
          "Multicopper oxidase",
          "Multiplexing",
          "Multivariate analysis",
          "Myceliophthora",
          "Myceliophthora",
          "Myceliophthora",
          "Myceliophthora thermophila",
          "Myceliophthora thermophila",
          "Myceliophthora thermophila",
          "Myceliophthora thermophila",
          "Myceliophthora thermophila",
          "Myceliophthora thermophila",
          "Myceliophthora thermophila",
          "Myceliophthora thermophila",
          "Myceliophthora thermophila",
          "Myceliophthora thermophila",
          "Myceliophthora thermophila",
          "Myceliophthora thermophile",
          "Myceliophthora thermophile laccase",
          "Myceliophtora sp",
          "Mycoprotein",
          "Mycoremediation",
          "Nanocellulose",
          "Natural mediators",
          "Neurospora crassa",
          "Neutralizing antibodies",
          "Nucleocytoplasmic transport",
          "Nutrition",
          "Oleuropein",
          "Oleuropein aglycones",
          "Oligosaccharide",
          "Overexpression",
          "Oxaloacetic acid",
          "Oxidase",
          "Oxidase",
          "Oxidation",
          "Oxidation",
          "Oxidation product",
          "Oxidative cleavage",
          "Oxygen consumption rate",
          "Oxygen reduction",
          "Oxygenase",
          "Ozonolysis",
          "Packing density",
          "Paenibacillus odorifer",
          "Pandemic",
          "Pbmcs",
          "Pcbs",
          "Pectin",
          "Penicillium citrinum",
          "Penicillium verruculosum",
          "Pentose catabolism",
          "Phenol biodegradation",
          "Phenol grafting",
          "Phenolic compound extraction",
          "Phenolics",
          "Phenolics",
          "Phenols",
          "Phenoxy radicals in lignin",
          "Pichia pastoris",
          "Pichia pastoris",
          "Pichia pastoris",
          "Pichia pastoris",
          "Pichia pastoris",
          "Pichia pastoris",
          "Pichia pastoris",
          "Pilot scale",
          "Plant biomass",
          "Plant biomass",
          "Plant biomass",
          "Platform",
          "Polyaniline",
          "Polycatechol",
          "Polymerisation",
          "Polymerization",
          "Polymerization",
          "Polymerization",
          "Polyphenol oxidase",
          "Polyphenol oxidase",
          "Polysaccharide",
          "Polysaccharide monooxygenase",
          "Position of acetyl groups",
          "Poultry",
          "Poultry feed",
          "Ppo",
          "Precise engineering",
          "Prenyl ferulate",
          "Preservation",
          "Pretreated corn cobs",
          "Pretreatment",
          "Pretreatment",
          "Process optimization",
          "Processivity",
          "Processivity",
          "Production",
          "Productivity",
          "Prophylaxis",
          "Protease",
          "Protease",
          "Protein design",
          "Protein engineering",
          "Protein evolution",
          "Purification",
          "Pyrogallol",
          "Rbd",
          "Reaction kinetics",
          "Real time assay",
          "Receptor binding domain",
          "Recombinant cellobiohydrolase",
          "Recombinant protein",
          "Recombinant protein expression",
          "Recombinant protein subunit vaccine",
          "Redox chemistry",
          "Reducing agent",
          "Reduction",
          "Reductive tca",
          "Renatured xanthan",
          "Response surface methodology",
          "Response surface methodology",
          "Rice straw",
          "Rmn",
          "Rna interference",
          "Rna polymerase",
          "Rnai",
          "Rnp",
          "Saccharification",
          "Saccharification",
          "Saccharification",
          "Saccharomyces cerevisiae",
          "Safety",
          "Secondary effluent",
          "Secretome",
          "Secretome composition",
          "Sequential solid state and submerged cultivation",
          "Signal transduction",
          "Single and mixed fungal species cultivation",
          "Solid media",
          "Solvent tolerance",
          "Soy polysaccharides",
          "Soy spent flake",
          "Sporotrichum thermophile",
          "Spray dryer",
          "Stabilisation",
          "Stability",
          "Stability",
          "Starch",
          "Starch",
          "Structural analysis",
          "Structure modelling",
          "Sugar uptake",
          "Sugarcane bagasse",
          "Sugarcane bagasse",
          "Sugarcane bagasse",
          "Sugarcane bagasse",
          "Sugarcane bagasse",
          "Superficial fungal infections",
          "Surface modifacation",
          "Swelling",
          "Synergism",
          "Synergy",
          "Synergy",
          "Systemic fungal infections",
          "Talaromyces leycettanus",
          "Talaromyces stipitatus galactanase",
          "Tamarindus indica",
          "Targeted influenza hemagglutinin",
          "Tempo",
          "Textile dyes",
          "Thermodynamics",
          "Thermophilic",
          "Thermophilic fungi",
          "Thermophilic fungi",
          "Thermophilic fungi",
          "Thermophilic fungi",
          "Thermophilic fungi",
          "Thermophilic fungi",
          "Thermophilic mould",
          "Thermophilic mould",
          "Thermostability",
          "Thermostability",
          "Thermostability",
          "Thermostability",
          "Thermostability",
          "Thermostability",
          "Thermostable",
          "Thermostable cellulose",
          "Thermostable enzymes",
          "Thermothelomyces heterothallica",
          "Thermothelomyces thermophila",
          "Thermothelomyces thermophila",
          "Thermothelomyces thermophila",
          "Thermothelomyces thermophila",
          "Thermothelomyces thermophilus",
          "Thermothelomyces thermophilus",
          "Thermothelomyces thermophilus",
          "Thermotolerant",
          "Thermotolerant mutant",
          "Thielavia australiensis",
          "Thielavia terrestris",
          "Tm",
          "Toxicity",
          "Toxicology",
          "Trametes versicolor",
          "Transceptor",
          "Transcription factor",
          "Transcription factor",
          "Transcriptomic profiles",
          "Transcriptomic profiles",
          "Transcriptomics",
          "Transesterification",
          "Transglycosylation",
          "Transporter",
          "Trehalase",
          "Trichoderma reesei",
          "Trichoderma reesei",
          "Trimeric influenza hemagglutinin",
          "Tsgal",
          "Tyrosinase",
          "Tyrosinase",
          "Ultrasound",
          "Vaccine",
          "Variants of concern",
          "Virus",
          "Viscosity",
          "Viscosity reduction",
          "Wastewater",
          "Weimberg pathway",
          "Wild type",
          "Wood",
          "Wood hydrophobization",
          "Wood hydrophobization",
          "Wound enzymes",
          "Wt",
          "Xanthan conformation",
          "Xylan",
          "Xylan",
          "Xylan",
          "Xylan degradation",
          "Xylanase",
          "Xylanase",
          "Xylanase",
          "Xylanase",
          "Xylanase",
          "Xylanases",
          "Xylanolytic regulator",
          "Xylobiohydrolase",
          "Xylobiohydrolase",
          "Xyloglucan",
          "Xyloglucan",
          "Xyloglucan",
          "Xyloglucanase",
          "Xyloglucanase",
          "Xyloglucanase",
          "Xylooligosaccharides",
          "Xylose",
          "Xylose",
          "Zoonotic",
          "Zootechnical additives"
         ],
         "legendgroup": "",
         "marker": {
          "color": [
           1,
           1,
           1,
           1,
           1,
           1,
           1,
           1,
           1,
           1,
           1,
           1,
           1,
           1,
           1,
           1,
           1,
           1,
           1,
           1,
           1,
           1,
           1,
           1,
           1,
           1,
           1,
           1,
           1,
           1,
           1,
           1,
           1,
           1,
           1,
           1,
           1,
           1,
           1,
           1,
           1,
           1,
           1,
           1,
           2,
           1,
           1,
           1,
           1,
           1,
           1,
           1,
           1,
           1,
           1,
           1,
           1,
           1,
           1,
           1,
           1,
           1,
           1,
           1,
           1,
           1,
           1,
           1,
           1,
           1,
           1,
           1,
           1,
           1,
           1,
           1,
           1,
           1,
           1,
           1,
           1,
           1,
           1,
           1,
           1,
           1,
           1,
           1,
           1,
           2,
           2,
           1,
           1,
           1,
           1,
           1,
           1,
           1,
           1,
           1,
           1,
           1,
           1,
           1,
           1,
           1,
           1,
           1,
           1,
           1,
           1,
           1,
           1,
           1,
           1,
           1,
           2,
           1,
           2,
           1,
           1,
           1,
           1,
           1,
           1,
           1,
           1,
           1,
           1,
           1,
           1,
           1,
           1,
           1,
           1,
           1,
           1,
           1,
           1,
           1,
           1,
           1,
           1,
           1,
           1,
           1,
           1,
           1,
           3,
           1,
           1,
           1,
           1,
           1,
           1,
           1,
           1,
           1,
           1,
           1,
           1,
           1,
           1,
           1,
           1,
           1,
           1,
           1,
           1,
           1,
           1,
           1,
           1,
           1,
           1,
           3,
           1,
           1,
           1,
           1,
           1,
           1,
           1,
           1,
           1,
           1,
           1,
           1,
           1,
           1,
           1,
           2,
           1,
           1,
           1,
           2,
           1,
           1,
           1,
           1,
           1,
           1,
           1,
           1,
           1,
           1,
           1,
           1,
           1,
           1,
           1,
           1,
           1,
           1,
           1,
           1,
           1,
           1,
           1,
           1,
           2,
           1,
           3,
           1,
           1,
           1,
           1,
           1,
           1,
           1,
           1,
           1,
           1,
           1,
           1,
           1,
           1,
           1,
           1,
           1,
           1,
           1,
           1,
           1,
           1,
           1,
           1,
           1,
           1,
           2,
           1,
           1,
           1,
           1,
           1,
           1,
           1,
           1,
           1,
           1,
           1,
           1,
           1,
           1,
           1,
           1,
           1,
           1,
           1,
           1,
           1,
           1,
           1,
           1,
           1,
           1,
           1,
           1,
           1,
           1,
           1,
           1,
           1,
           1,
           1,
           1,
           1,
           1,
           1,
           1,
           1,
           1,
           1,
           1,
           1,
           1,
           1,
           1,
           1,
           1,
           1,
           1,
           1,
           1,
           1,
           1,
           1,
           1,
           1,
           1,
           1,
           1,
           1,
           1,
           2,
           4,
           1,
           8,
           1,
           4,
           1,
           1,
           1,
           1,
           1,
           1,
           3,
           1,
           1,
           1,
           1,
           1,
           2,
           1,
           1,
           2,
           1,
           1,
           1,
           1,
           1,
           1,
           2,
           1,
           1,
           1,
           1,
           1,
           2,
           1,
           1,
           1,
           1,
           1,
           1,
           1,
           1,
           1,
           1,
           1,
           1,
           1,
           1,
           1,
           1,
           1,
           1,
           1,
           1,
           1,
           1,
           1,
           1,
           1,
           2,
           2,
           1,
           1,
           1,
           1,
           1,
           1,
           1,
           1,
           1,
           1,
           2,
           1,
           1,
           1,
           1,
           1,
           1,
           1,
           1,
           1,
           2,
           2,
           2,
           2,
           3,
           4,
           8,
           7,
           5,
           5,
           2,
           9,
           2,
           1,
           1,
           1,
           1,
           1,
           1,
           1,
           1,
           1,
           1,
           1,
           1,
           1,
           1,
           1,
           1,
           1,
           1,
           1,
           1,
           1,
           1,
           1,
           1,
           1,
           1,
           1,
           1,
           1,
           1,
           1,
           1,
           1,
           1,
           1,
           1,
           1,
           1,
           1,
           1,
           1,
           1,
           1,
           1,
           1,
           2,
           1,
           1,
           1,
           1,
           1,
           1,
           1,
           1,
           1,
           1,
           1,
           1,
           1,
           1,
           1,
           1,
           1,
           1,
           1,
           1,
           1,
           1,
           1,
           1,
           1,
           1,
           1,
           1,
           1,
           2,
           2,
           1,
           1,
           1,
           1,
           1,
           1,
           2,
           1,
           1,
           1,
           1,
           1,
           1,
           1,
           1,
           1,
           1,
           1,
           1,
           1,
           1,
           1,
           1,
           1,
           1,
           1,
           1,
           1,
           1,
           1,
           1,
           1,
           1,
           1,
           1,
           1,
           1,
           1,
           1,
           1,
           1,
           1,
           1,
           1,
           1,
           1,
           1,
           1,
           1,
           1,
           1,
           1,
           1,
           1,
           1,
           1,
           1,
           1,
           1,
           1,
           1,
           1,
           1,
           1,
           1,
           1,
           1,
           1,
           1,
           1,
           1,
           1,
           1,
           2,
           1,
           1,
           1,
           1,
           1,
           1,
           1,
           2,
           1,
           1,
           2,
           1,
           1,
           1,
           1,
           1,
           1,
           1,
           1,
           1,
           1,
           1,
           1,
           1,
           2,
           1,
           1,
           1,
           1,
           1,
           1,
           1,
           1,
           1,
           1,
           1,
           1,
           1,
           1,
           1,
           1,
           1,
           1,
           1,
           1,
           2,
           1,
           1,
           1,
           1,
           1,
           1,
           1,
           1,
           1,
           1,
           1,
           1,
           1,
           1,
           1,
           1,
           1,
           1,
           1,
           1,
           1,
           2,
           1,
           1,
           1,
           1,
           1,
           1,
           1,
           1,
           1,
           1,
           1,
           1,
           1,
           1,
           1,
           2,
           1,
           2,
           1,
           1,
           1,
           1
          ],
          "coloraxis": "coloraxis",
          "size": [
           1,
           1,
           1,
           1,
           1,
           1,
           1,
           1,
           1,
           1,
           1,
           1,
           1,
           1,
           1,
           1,
           1,
           1,
           1,
           1,
           1,
           1,
           1,
           1,
           1,
           1,
           1,
           1,
           1,
           1,
           1,
           1,
           1,
           1,
           1,
           1,
           1,
           1,
           1,
           1,
           1,
           1,
           1,
           1,
           2,
           1,
           1,
           1,
           1,
           1,
           1,
           1,
           1,
           1,
           1,
           1,
           1,
           1,
           1,
           1,
           1,
           1,
           1,
           1,
           1,
           1,
           1,
           1,
           1,
           1,
           1,
           1,
           1,
           1,
           1,
           1,
           1,
           1,
           1,
           1,
           1,
           1,
           1,
           1,
           1,
           1,
           1,
           1,
           1,
           2,
           2,
           1,
           1,
           1,
           1,
           1,
           1,
           1,
           1,
           1,
           1,
           1,
           1,
           1,
           1,
           1,
           1,
           1,
           1,
           1,
           1,
           1,
           1,
           1,
           1,
           1,
           2,
           1,
           2,
           1,
           1,
           1,
           1,
           1,
           1,
           1,
           1,
           1,
           1,
           1,
           1,
           1,
           1,
           1,
           1,
           1,
           1,
           1,
           1,
           1,
           1,
           1,
           1,
           1,
           1,
           1,
           1,
           1,
           3,
           1,
           1,
           1,
           1,
           1,
           1,
           1,
           1,
           1,
           1,
           1,
           1,
           1,
           1,
           1,
           1,
           1,
           1,
           1,
           1,
           1,
           1,
           1,
           1,
           1,
           1,
           3,
           1,
           1,
           1,
           1,
           1,
           1,
           1,
           1,
           1,
           1,
           1,
           1,
           1,
           1,
           1,
           2,
           1,
           1,
           1,
           2,
           1,
           1,
           1,
           1,
           1,
           1,
           1,
           1,
           1,
           1,
           1,
           1,
           1,
           1,
           1,
           1,
           1,
           1,
           1,
           1,
           1,
           1,
           1,
           1,
           2,
           1,
           3,
           1,
           1,
           1,
           1,
           1,
           1,
           1,
           1,
           1,
           1,
           1,
           1,
           1,
           1,
           1,
           1,
           1,
           1,
           1,
           1,
           1,
           1,
           1,
           1,
           1,
           1,
           2,
           1,
           1,
           1,
           1,
           1,
           1,
           1,
           1,
           1,
           1,
           1,
           1,
           1,
           1,
           1,
           1,
           1,
           1,
           1,
           1,
           1,
           1,
           1,
           1,
           1,
           1,
           1,
           1,
           1,
           1,
           1,
           1,
           1,
           1,
           1,
           1,
           1,
           1,
           1,
           1,
           1,
           1,
           1,
           1,
           1,
           1,
           1,
           1,
           1,
           1,
           1,
           1,
           1,
           1,
           1,
           1,
           1,
           1,
           1,
           1,
           1,
           1,
           1,
           1,
           2,
           4,
           1,
           8,
           1,
           4,
           1,
           1,
           1,
           1,
           1,
           1,
           3,
           1,
           1,
           1,
           1,
           1,
           2,
           1,
           1,
           2,
           1,
           1,
           1,
           1,
           1,
           1,
           2,
           1,
           1,
           1,
           1,
           1,
           2,
           1,
           1,
           1,
           1,
           1,
           1,
           1,
           1,
           1,
           1,
           1,
           1,
           1,
           1,
           1,
           1,
           1,
           1,
           1,
           1,
           1,
           1,
           1,
           1,
           1,
           2,
           2,
           1,
           1,
           1,
           1,
           1,
           1,
           1,
           1,
           1,
           1,
           2,
           1,
           1,
           1,
           1,
           1,
           1,
           1,
           1,
           1,
           2,
           2,
           2,
           2,
           3,
           4,
           8,
           7,
           5,
           5,
           2,
           9,
           2,
           1,
           1,
           1,
           1,
           1,
           1,
           1,
           1,
           1,
           1,
           1,
           1,
           1,
           1,
           1,
           1,
           1,
           1,
           1,
           1,
           1,
           1,
           1,
           1,
           1,
           1,
           1,
           1,
           1,
           1,
           1,
           1,
           1,
           1,
           1,
           1,
           1,
           1,
           1,
           1,
           1,
           1,
           1,
           1,
           1,
           2,
           1,
           1,
           1,
           1,
           1,
           1,
           1,
           1,
           1,
           1,
           1,
           1,
           1,
           1,
           1,
           1,
           1,
           1,
           1,
           1,
           1,
           1,
           1,
           1,
           1,
           1,
           1,
           1,
           1,
           2,
           2,
           1,
           1,
           1,
           1,
           1,
           1,
           2,
           1,
           1,
           1,
           1,
           1,
           1,
           1,
           1,
           1,
           1,
           1,
           1,
           1,
           1,
           1,
           1,
           1,
           1,
           1,
           1,
           1,
           1,
           1,
           1,
           1,
           1,
           1,
           1,
           1,
           1,
           1,
           1,
           1,
           1,
           1,
           1,
           1,
           1,
           1,
           1,
           1,
           1,
           1,
           1,
           1,
           1,
           1,
           1,
           1,
           1,
           1,
           1,
           1,
           1,
           1,
           1,
           1,
           1,
           1,
           1,
           1,
           1,
           1,
           1,
           1,
           1,
           2,
           1,
           1,
           1,
           1,
           1,
           1,
           1,
           2,
           1,
           1,
           2,
           1,
           1,
           1,
           1,
           1,
           1,
           1,
           1,
           1,
           1,
           1,
           1,
           1,
           2,
           1,
           1,
           1,
           1,
           1,
           1,
           1,
           1,
           1,
           1,
           1,
           1,
           1,
           1,
           1,
           1,
           1,
           1,
           1,
           1,
           2,
           1,
           1,
           1,
           1,
           1,
           1,
           1,
           1,
           1,
           1,
           1,
           1,
           1,
           1,
           1,
           1,
           1,
           1,
           1,
           1,
           1,
           2,
           1,
           1,
           1,
           1,
           1,
           1,
           1,
           1,
           1,
           1,
           1,
           1,
           1,
           1,
           1,
           2,
           1,
           2,
           1,
           1,
           1,
           1
          ],
          "sizemode": "area",
          "sizeref": 0.0225,
          "symbol": "circle"
         },
         "mode": "markers",
         "name": "",
         "orientation": "v",
         "showlegend": false,
         "type": "scatter",
         "x": [
          2014.758784176965,
          2020.2375088912024,
          2018.1462134614817,
          2021.2889091559732,
          2022.2622570997007,
          2023.2455697420864,
          2017.0346511937692,
          2021.9629396377925,
          2017.2304575767764,
          2013.9036123633132,
          2021.2159665950705,
          2022.0379846612318,
          2018.7026250044937,
          2016.8993506313004,
          2018.9858193964685,
          2018.234635839583,
          2022.2124785760834,
          2020.8571072061177,
          2021.945459679143,
          2022.9221567196378,
          2021.9403772222936,
          2013.9184584608377,
          2017.187819636922,
          2022.257214056839,
          2019.144659541822,
          2023.2223331444702,
          2018.2599180056125,
          2022.7914500653155,
          2014.1490792573177,
          2017.1597058757677,
          2016.8566383392692,
          2020.07861641776,
          2022.203795715535,
          2016.8467431501942,
          2017.218923771327,
          2018.1795236418684,
          2022.9829401249194,
          2022.0719305584885,
          2017.860614321744,
          2017.936707609971,
          2021.8331190127235,
          2016.848748267004,
          2018.0590170773298,
          2014.0830242930078,
          2016.8264195930983,
          2015.829997406608,
          2020.1733217722597,
          2017.1229808147746,
          2013.914356526003,
          2017.2276038854213,
          2019.79438533551,
          2021.0802918956954,
          2021.9545208022587,
          2015.858180611818,
          2020.0368486335094,
          2022.888818012347,
          2014.070669849635,
          2015.709108046679,
          2020.740444862865,
          2014.8770076549908,
          2015.9688633022467,
          2017.2540549295038,
          2019.849384797405,
          2016.2043795378422,
          2017.0331838398038,
          2015.7795719468652,
          2014.77459111831,
          2015.8819806789083,
          2016.2605362315117,
          2017.139383219303,
          2014.2058364046131,
          2015.0981513063628,
          2015.7542685786684,
          2020.8284492017788,
          2021.291980784591,
          2021.2867379733862,
          2018.8552461907045,
          2017.023540372908,
          2018.1057827310347,
          2018.7128215750085,
          2019.2674493790764,
          2019.7820899080614,
          2021.717503401353,
          2011.7026013283344,
          2014.0864721506612,
          2015.2100766689073,
          2017.8907909212362,
          2019.250554577637,
          2021.1383923074877,
          2022.2606979007833,
          2023.1566674470148,
          2022.0613129168312,
          2013.125875065658,
          2017.275179351119,
          2018.8377603576068,
          2019.9121620105668,
          2022.298300415982,
          2016.9385602634982,
          2015.2135144209794,
          2018.1354362662,
          2018.7503192573483,
          2019.9866074354366,
          2020.764663163167,
          2016.0010311673116,
          2019.1595042932317,
          2021.8546328636724,
          2016.1040569921097,
          2017.1286532776796,
          2015.9199003111107,
          2021.2316857494782,
          2023.0188197482012,
          2022.9753041164665,
          2016.871764991047,
          2016.2365124826497,
          2022.9905705145934,
          2009.7040349445842,
          2018.179411552603,
          2017.8497261421317,
          2017.9591118655983,
          2022.2048317730707,
          2017.7925544195525,
          2012.9940307473146,
          2015.2788521298557,
          2016.8271005591496,
          2021.17563830643,
          2017.9570012161018,
          2017.1178929133102,
          2016.9668381844053,
          2014.753942888991,
          2017.7039667972847,
          2012.9407003782737,
          2019.7611166393888,
          2016.7426302169629,
          2019.1495543786907,
          2019.079569106605,
          2020.067580865541,
          2021.0007070721226,
          2018.1976425895596,
          2022.8759819693755,
          2018.8646157941869,
          2020.972890558944,
          2015.803059961635,
          2018.091797825033,
          2020.940255722588,
          2016.777620657396,
          2022.1408509782957,
          2013.9529586752026,
          2021.2732762517205,
          2018.239497795452,
          2020.860629939158,
          2020.7685242363618,
          2012.9047427399641,
          2021.7608800713263,
          2020.9235657917154,
          2015.025460920564,
          2023.124649837113,
          2020.21103821875,
          2018.263684995353,
          2023.21889928073,
          2021.7229548729988,
          2016.828146222107,
          2015.152455264732,
          2021.9969951713547,
          2013.766286282545,
          2022.1977762184856,
          2023.0598095122127,
          2015.8581195323575,
          2019.1291842976132,
          2016.7856973465866,
          2017.8177037244338,
          2014.8801032850492,
          2017.2740656777307,
          2019.1898682094247,
          2020.7032260860974,
          2013.91175349111,
          2016.9997701273287,
          2019.1606080472582,
          2016.0329174047395,
          2014.0385163039023,
          2022.0950524462944,
          2014.8262448554706,
          2015.8077561414962,
          2017.2036899783257,
          2017.1384272473736,
          2020.0222732953532,
          2019.2849071319501,
          2019.916388936205,
          2012.8995323961806,
          2023.263622285792,
          2020.9268088636056,
          2017.1512559897353,
          2016.0842916881954,
          2017.9455017076336,
          2015.7835868905743,
          2019.1035861538267,
          2021.28031754018,
          2022.7672283062814,
          2019.7725709277604,
          2016.7600156136077,
          2022.2189524830026,
          2019.2486321043448,
          2016.8381370998898,
          2016.0928632553848,
          2020.0828246155402,
          2020.024031391835,
          2012.8917584163955,
          2013.738666055646,
          2023.0465400087517,
          2017.8636267533782,
          2015.9097555734822,
          2017.8009229561553,
          2017.8708347592062,
          2020.9675967003989,
          2013.78741779657,
          2017.254060597029,
          2021.1838935528772,
          2022.019936884267,
          2017.2309544240663,
          2017.9473315586015,
          2016.9079098002906,
          2019.2164196337621,
          2019.8399239976952,
          2022.1146316528357,
          2022.9819590561617,
          2020.0755033604514,
          2020.9650275637468,
          2016.1572851733613,
          2021.8247040318079,
          2021.0091785909613,
          2019.2640212331949,
          2021.0009738219971,
          2019.8294500467334,
          2013.2586435010153,
          2017.9817850625946,
          2015.8867700279104,
          2022.1053666288674,
          2016.8440506114239,
          2021.2168392666383,
          2021.0783688821932,
          2021.183504115166,
          2015.7011334491808,
          2023.0529946156055,
          2023.1416843916595,
          2021.1232219623894,
          2021.270031691079,
          2016.2417028684724,
          2020.2560731110752,
          2017.9220569818333,
          2023.222185642445,
          2019.1545739702779,
          2016.214123369768,
          2014.900029525429,
          2022.1670755492687,
          2021.8827058659665,
          2023.1211671320239,
          2012.9793389903618,
          2021.083598503086,
          2019.2927452581093,
          2021.887431687331,
          2014.813742772565,
          2022.245123307403,
          2021.8802979766137,
          2021.2678684713217,
          2022.1201707925316,
          2018.7171600667107,
          2022.2381311676825,
          2022.7135734741028,
          2016.1260573299926,
          2021.0384021124237,
          2022.1965009500757,
          2021.29447679657,
          2018.0526098229825,
          2022.8983848682578,
          2021.793657883457,
          2015.0197887567203,
          2018.7105770764058,
          2021.2767750932976,
          2021.7012153966868,
          2018.124778802224,
          2013.2307811171415,
          2020.9846866884875,
          2016.7895292364312,
          2014.7968920563433,
          2015.8893147795243,
          2020.8069095505582,
          2015.7819105221,
          2021.2384296516705,
          2017.2517013399802,
          2018.825016518992,
          2020.8672352217973,
          2021.829829698166,
          2009.90448345117,
          2014.2720835445753,
          2018.2903099921032,
          2021.0821948112628,
          2021.1768493487223,
          2020.2390967414406,
          2018.0004402031498,
          2016.0162845008313,
          2022.1778917611516,
          2021.8182004607606,
          2022.2284743378639,
          2021.8415003496639,
          2023.0696975194894,
          2014.0592685850252,
          2022.2265905739953,
          2018.191884769584,
          2016.2327166805528,
          2020.9736280782213,
          2020.8044061923215,
          2017.8682683253617,
          2022.0982109142922,
          2022.7559531311315,
          2010.0125957522246,
          2014.0448786238017,
          2016.0009352274446,
          2016.7313633676802,
          2017.8524754431105,
          2020.2196861202203,
          2021.1193521959688,
          2022.1435143558592,
          2022.7623546668285,
          2017.2542711850267,
          2017.7545980605323,
          2022.9482000368696,
          2018.0699318303743,
          2016.1175150338406,
          2021.9227800260383,
          2022.2259806931822,
          2014.0029685748063,
          2021.1011779730866,
          2015.8346376831068,
          2017.1303677290077,
          2017.9057719412351,
          2022.1852816697246,
          2017.2855509477765,
          2019.7748436021336,
          2021.2690894013276,
          2021.151615219882,
          2020.887579681539,
          2020.7648436779011,
          2015.0712763192282,
          2016.9633401076896,
          2019.8231165577129,
          2023.058646186963,
          2021.0845336131924,
          2022.1522870335057,
          2020.9421963969428,
          2017.1843209478202,
          2018.1931668720488,
          2019.0593606568186,
          2020.2168195554923,
          2021.0893017740434,
          2022.128849832619,
          2023.2915229165956,
          2013.1020603182321,
          2022.9894051902481,
          2016.9449158195614,
          2018.940226921617,
          2020.7897490704588,
          2021.924634891973,
          2018.7999247919051,
          2018.8682884918214,
          2021.7032806600912,
          2013.8777234396418,
          2022.11431324294,
          2022.2434532506409,
          2022.2482544268682,
          2021.143027174045,
          2015.253269843555,
          2010.158274873962,
          2017.8630653586922,
          2019.0228824473543,
          2019.8185226819976,
          2021.0671685715913,
          2022.2083753909324,
          2022.160326209743,
          2020.0717607371826,
          2018.9558283808626,
          2020.0761001119433,
          2016.110963041299,
          2015.2239569075641,
          2016.753852490933,
          2021.0428347443715,
          2015.2485607110336,
          2020.8427460586527,
          2021.8433814730279,
          2019.8422176845024,
          2022.8625781508954,
          2018.2052108436044,
          2015.1286965002107,
          2016.968521912288,
          2020.2280242433794,
          2018.8139141056654,
          2016.8243259504115,
          2016.8607270828625,
          2021.1944359386584,
          2022.8804262452954,
          2013.136309892693,
          2014.0195729149752,
          2015.229913328256,
          2016.0618878943249,
          2017.2252002525927,
          2018.2013375837191,
          2018.7217610503183,
          2020.1163878442671,
          2020.9964321756838,
          2022.001768044334,
          2023.1151905160068,
          2019.8644407138938,
          2018.1912549834778,
          2014.0610057619808,
          2021.7715389562875,
          2013.7380028588032,
          2020.8692627130822,
          2021.133890568166,
          2020.7030653800962,
          2022.0835234291717,
          2012.854385299142,
          2020.926116843532,
          2017.0699164514185,
          2016.7528390138195,
          2016.2213700657178,
          2013.1684891854425,
          2022.0415759181346,
          2016.1077507015702,
          2018.2186681153548,
          2016.93981847407,
          2017.8675406612927,
          2020.8425242888034,
          2021.9965200630334,
          2016.702787095072,
          2013.236861664319,
          2018.9446093037686,
          2015.8114872514946,
          2020.8097014367297,
          2020.1943924276404,
          2021.793556531785,
          2018.0248758003688,
          2014.2303220543927,
          2016.7304277817093,
          2016.773244339104,
          2015.0250890959587,
          2019.0054459328478,
          2018.179683539327,
          2020.7174079360207,
          2018.2994362022796,
          2016.003820373239,
          2018.1039131149828,
          2017.1668852492892,
          2016.8925074758267,
          2013.0073014655225,
          2015.1065880515062,
          2015.9984629390467,
          2016.9813710596648,
          2017.7128412154743,
          2019.2723560277625,
          2020.9972793422903,
          2018.2761567307527,
          2013.873784447054,
          2017.9075100974944,
          2021.1466743679514,
          2019.8350926890676,
          2017.919693098543,
          2014.709802029488,
          2015.9848323066967,
          2017.2176215035722,
          2017.7009552140062,
          2022.7011285344918,
          2017.2435920297125,
          2021.054954159004,
          2018.9418791707978,
          2018.815786160645,
          2013.740430279379,
          2022.8062142410417,
          2020.814201472547,
          2017.0685233424044,
          2022.2422476361899,
          2017.0414032839678,
          2021.20455796356,
          2021.2514393787487,
          2014.7123162430728,
          2019.8106595475535,
          2020.728525510351,
          2017.0079722144826,
          2019.9455574066878,
          2020.8063120911138,
          2013.7597264756573,
          2015.9608749951817,
          2018.926929596526,
          2019.8051561740986,
          2014.877720088659,
          2021.1479168462404,
          2015.766020931597,
          2020.7848828573792,
          2015.8343367507755,
          2021.90077495235,
          2019.7388500237853,
          2016.9636093619306,
          2022.0474157409112,
          2020.8009029918985,
          2022.2162725998799,
          2022.2400268721926,
          2021.7120848469558,
          2013.1449040308287,
          2018.0995149340088,
          2021.739493102053,
          2018.1768162577612,
          2013.1472891688973,
          2020.1979783815752,
          2023.270969093161,
          2018.8936349643739,
          2022.081592571692,
          2014.9270035512905,
          2016.089002368097,
          2017.9382309629348,
          2019.1006668552218,
          2018.2795648344045,
          2019.2474417646029,
          2023.0680044142161,
          2017.921017845843,
          2022.952433197563,
          2015.8603028810408,
          2022.7667933760456,
          2015.9427223494872,
          2021.0308135692546,
          2022.9801674216926,
          2021.2482221164848,
          2013.9559334603825,
          2020.8228336181096,
          2017.0401821331843,
          2016.8261601275742,
          2016.1352278598486,
          2016.9059766689597,
          2010.1681398129,
          2014.1901767295676,
          2022.2127759495793,
          2018.220506302605,
          2018.8082310472823,
          2020.2528320295603,
          2021.8872944767197,
          2019.7985606455475,
          2013.900759329538,
          2015.774280039286,
          2018.8724705024263,
          2020.258504269588,
          2023.0237802601278,
          2015.8508987507148,
          2021.8110978408354,
          2016.8231029629599,
          2015.95182408704,
          2018.9673241307441,
          2021.7868412926036,
          2016.04457033898,
          2016.7161968439952,
          2014.7719660427758,
          2020.7604094696626,
          2021.947241479863,
          2017.716938906543,
          2018.0308008604227,
          2022.849303063139,
          2013.0769354084375,
          2012.2913985102189,
          2014.9179168294102,
          2016.717026310869,
          2019.1405164620553,
          2020.7592302879345,
          2021.7683042942185,
          2015.911577622209,
          2017.166858071364,
          2014.875646976944,
          2016.873939091024,
          2020.2718737736213,
          2020.7677861134614,
          2021.7991697668767,
          2023.0792094678895,
          2023.0675905546425,
          2021.2718194303102,
          2015.7520354563446,
          2022.0274435046153,
          2018.780569012347,
          2020.2317201599728,
          2021.2538753772735,
          2022.9575434606036,
          2019.1762259021684,
          2019.7101420537763,
          2020.7243734236922,
          2015.8428765980264,
          2022.96004992051,
          2019.8898118212812,
          2016.7263190104636,
          2015.2656686668956,
          2018.159400931193,
          2022.1183401775193,
          2017.935353337651,
          2023.199289098589,
          2017.7658247387233,
          2021.7518588853377,
          2018.250793478454,
          2020.932174645835,
          2022.0307467335922,
          2017.146692069013,
          2013.039921430158,
          2021.0808189797963,
          2019.7600007731398,
          2016.835618508665,
          2019.967086603973,
          2021.9130818957137,
          2015.243617168879,
          2017.0591623392158,
          2020.8973781222749,
          2017.0892008569936,
          2022.2519165034155,
          2021.991284732137,
          2022.1396530798104,
          2017.2231802097142,
          2020.8885606684178,
          2018.1294656873629,
          2022.910267324641,
          2014.8143799631312,
          2017.9012263658358,
          2020.883324970815,
          2023.065595629682,
          2018.0346015895113,
          2014.8823025077972,
          2014.2574317282888,
          2015.0735928877928,
          2016.0821493655135,
          2020.8776859173806,
          2019.1241787559636,
          2011.8510964672128,
          2017.8544811349839,
          2019.8274727622015,
          2021.149390555947,
          2023.2801967413022,
          2017.9108311076006,
          2018.9388204040838,
          2018.7466049860031,
          2020.946831660309,
          2017.121552971256,
          2021.18463761645,
          2022.12383048632,
          2017.1906997333401,
          2020.1604599940256,
          2021.046661608843,
          2019.0595709903819,
          2015.7233116203465,
          2021.0086613520155,
          2022.285511566052,
          2022.9584262104252
         ],
         "xaxis": "x",
         "y": [
          1.424533348634744,
          1.493967098520793,
          0.6402462005693583,
          0.7253682656403472,
          1.297647382566426,
          0.8864538258708338,
          0.8399964427214673,
          1.470435286364832,
          1.1294978526641204,
          1.1851518237873302,
          0.5997488925631989,
          1.2688043196261498,
          0.676458317114173,
          0.6205054072604993,
          0.824460302921232,
          0.7849097637894881,
          0.6570710665906416,
          0.6429082066140557,
          0.6330878415905278,
          0.7306699392638855,
          1.2206187251406753,
          0.9547285983655733,
          0.9194243007314087,
          1.2784474685722294,
          1.165291716319782,
          1.4917691022769546,
          0.6424169007833038,
          1.0501056901381367,
          0.5972101752085156,
          0.8512049240113954,
          1.4852227956856896,
          1.0160669971145153,
          0.5571385916706164,
          0.9124915266153288,
          0.8051638214212343,
          0.9509176879431224,
          1.4790061572589335,
          0.9693312370650259,
          1.4262926061466652,
          0.5037063757080872,
          0.8689374097526367,
          1.2475533530490308,
          0.6591650241278332,
          0.6000923191709543,
          1.555454816530049,
          0.8823015752510645,
          0.8097099896343982,
          1.439819249727956,
          1.1531838130637717,
          0.855241445752623,
          1.2200012225743935,
          0.8751180433324189,
          0.8747451984061644,
          1.4479474203373628,
          0.9558997636279033,
          1.2505347143243248,
          1.3024669063653853,
          0.759576582155728,
          0.619324061050451,
          1.3401614412001979,
          0.6391152894101969,
          0.8880357684078454,
          0.790819110894683,
          1.037711822612033,
          0.7702254524633202,
          0.7352981529775935,
          0.6613259295132659,
          0.6318106511709572,
          1.3425649373391544,
          0.8981220452110531,
          0.6942001488315916,
          1.1333225802526368,
          0.7916270734998646,
          1.358543334137666,
          1.1462904047830917,
          0.5339945593856044,
          0.5766640070799548,
          1.36026696487759,
          1.3879183685103649,
          0.6724295293750256,
          1.3796626257973212,
          1.4610730398687655,
          0.7247079836937498,
          1.227018282111478,
          0.6525049962550825,
          1.3265337040320349,
          1.4299952450608915,
          0.7345000203157824,
          0.8253169366241231,
          2.3310018571332716,
          2.0593599996441827,
          0.7417687832763847,
          0.5159618125463762,
          1.035530657535345,
          0.9916014257663113,
          0.6936322425374849,
          0.9495102897304889,
          0.6371810414030084,
          0.6829532531043043,
          1.4748247219407997,
          0.5157806005881701,
          0.5372400120316294,
          0.6114457174239513,
          0.925624027300605,
          1.1740857658276875,
          1.1742114212660673,
          1.2498474279208218,
          0.8401093695140528,
          1.2288842381125529,
          0.9230373992326014,
          1.0834055770687876,
          0.7688956065422619,
          0.986990788946487,
          1.4968633215583034,
          1.2834535477490048,
          1.3094400433313877,
          1.916968565262827,
          1.2797338326995307,
          1.7805583040810553,
          1.0595621707893796,
          1.2066706172323405,
          0.5530935720719539,
          1.398323158271991,
          1.364981794353727,
          0.9847374936700761,
          0.6378550924248705,
          1.276314419421185,
          0.52268002523395,
          1.4012541282740605,
          1.3936462937279093,
          1.3094009955459054,
          0.9924267459295145,
          0.5693375384346827,
          0.9437841670484937,
          1.4055974821418995,
          0.868091293117741,
          1.137567671845563,
          0.5982985848740049,
          0.6044370871354104,
          1.300987749542951,
          1.0709066407174266,
          1.2043803141298486,
          0.593372451357438,
          0.9241246996079399,
          0.9676923668289426,
          0.5457772275688563,
          1.3333472119682117,
          1.1426284807390306,
          3.4191504510598936,
          0.629826255063561,
          0.7658200124387119,
          0.9510625367578548,
          1.296662448314827,
          1.3101801636657435,
          1.0052528622541896,
          1.0714400952020737,
          0.8446661668651136,
          0.9578454517338565,
          1.2794931774707772,
          1.240753858393611,
          1.4218547741930359,
          1.067403685371935,
          1.22058511790868,
          1.0453790123364999,
          1.1045139528938204,
          1.0785849882594554,
          1.240356967937745,
          1.4933576798178474,
          1.3871839808025026,
          1.3178600238549039,
          0.5825952170524722,
          0.8493033169557069,
          0.8351414932480895,
          0.8012768392009803,
          0.9779528252063008,
          2.802568877232967,
          0.6207436192399286,
          1.2602574722395785,
          1.0232760583120961,
          0.8089930147002921,
          1.329583958527274,
          1.205012944618106,
          0.8155819868658134,
          0.5574202666898198,
          0.8354346192571227,
          1.1693170886864648,
          1.2483046540907292,
          1.2349016864824156,
          0.568891969055671,
          0.7200640472559761,
          1.021281758159041,
          2.4207081089369518,
          1.4266929789410654,
          1.0340689234916978,
          1.1274327264587365,
          2.2337990130706924,
          1.1979458231789377,
          0.9301055736705244,
          0.7517301909492378,
          1.1619915815492028,
          1.0510715895268077,
          1.2279120390774776,
          1.033044971465252,
          0.5615472065985723,
          1.4577605167439522,
          1.3481591307638336,
          1.4832138734726028,
          1.3892857130851133,
          0.5452128148665281,
          0.9815755507614327,
          1.2878185609386503,
          1.3702204301200327,
          1.4892479366010218,
          1.1621698512829752,
          0.8420519144572574,
          1.1899598325543796,
          1.1874606124428588,
          0.726432987708746,
          1.2283303935869396,
          1.4012588181868406,
          2.3685397485571045,
          0.6275351678374622,
          2.873218073409217,
          0.8494671824045652,
          1.2093047226161884,
          0.9286780334208483,
          0.9606105156217006,
          1.4261048280656432,
          1.3124315848407075,
          0.7284104633277132,
          1.4630697139154978,
          0.7551563923415686,
          0.7655045638690343,
          0.7984408183848373,
          1.166978214036335,
          1.0232195088474993,
          1.4326560993771955,
          0.845351292735411,
          0.9515285106849775,
          0.6840846836750883,
          1.2174971038016458,
          0.7844247813660064,
          1.131099240803791,
          0.7195583617055185,
          1.4249777440750155,
          1.2679523124810899,
          1.182573106407811,
          1.0160632253297495,
          1.1437786803973222,
          2.461281406277837,
          1.4340773956675223,
          0.6303381557128681,
          1.1472667288518172,
          1.2279583026865066,
          1.4197715005740874,
          1.2232082354555223,
          1.4675310724782766,
          0.7097663388489617,
          0.7901235937137949,
          1.1812037140918985,
          0.9994832936131112,
          1.2452154935748794,
          0.9164900279832783,
          1.4136109798359426,
          1.0493566369613931,
          0.8804017534758249,
          0.5806780559663919,
          0.9356511121880589,
          1.1389232760876393,
          0.8953888719279858,
          0.6009526622690011,
          1.4161559648243571,
          0.8731532164802965,
          1.1022845219053348,
          1.364371569344052,
          1.2081762912504033,
          1.1770170567849731,
          1.10187163365827,
          1.436345551796308,
          0.5613501306244583,
          1.4126444359489074,
          0.9446280335617501,
          1.0505875544651617,
          1.3010458666333096,
          1.043562904965535,
          1.1203448475225626,
          1.3932005896900943,
          1.2988569210939351,
          0.7786705327999662,
          0.5525812217174793,
          1.2836095385689015,
          1.4774837817042195,
          1.2116470449894492,
          1.376545133042255,
          1.3951935972132308,
          0.5487006871732937,
          0.5245219595292877,
          0.9165416898347329,
          1.3665563637753793,
          0.7474104352474931,
          1.4682530863007592,
          0.7373904793077009,
          0.812069997201712,
          1.0623801255617833,
          1.1969140366562048,
          0.6804436750591795,
          0.6274992224406883,
          1.4385315249502852,
          0.7450888703238191,
          1.1181534776356123,
          0.9272476852895297,
          0.6008660078460121,
          1.4669150553573131,
          0.772214142706808,
          2.2680406244010425,
          3.750292852087612,
          0.9266581210453447,
          7.736059955122052,
          0.8393026864157309,
          3.766666029901455,
          1.274183875609915,
          1.0890055528215714,
          0.7017746049374508,
          0.5992415941473656,
          0.6035198535398996,
          1.1008918598467297,
          2.664683653896992,
          1.3169948052801432,
          1.2428710574808015,
          1.0497048907582482,
          1.1479455725149648,
          1.3494773797513937,
          2.208734781754825,
          1.363737128472194,
          1.470937971932371,
          2.2397367832190147,
          1.0885410710580175,
          1.2038451513627355,
          0.6338985012140227,
          0.5168185645799317,
          1.4527962115235296,
          1.126059503051532,
          1.7167384839648743,
          0.6706791947968165,
          0.7445274418304205,
          1.4991937748450728,
          1.1554732954734326,
          1.344400012930199,
          1.6700492273261311,
          1.3966758485166433,
          1.1972141565881533,
          1.1298163355326725,
          1.07821897712989,
          0.6430431611754671,
          1.1146231726147535,
          1.4697270760439904,
          0.5348914408166853,
          0.5549315288770766,
          0.5990133545509793,
          1.0820662735533708,
          0.6914783425902424,
          1.240824812104234,
          0.7863170204354549,
          1.3056676659208422,
          0.9925337459547456,
          1.2919530697964747,
          0.9587959829023832,
          1.1341643367908851,
          1.2088426197024176,
          1.063377849669347,
          1.4611455669889168,
          0.8386753654746867,
          0.7593147998789878,
          1.13110655003426,
          2.2621570344079704,
          2.1643574729943165,
          0.8857224381949418,
          0.9264174248750862,
          0.9463841350681944,
          1.2865089074227511,
          1.1347365008783143,
          1.0716967660667436,
          0.630920425122074,
          0.6630281030787498,
          0.7396640330689106,
          1.3984359641503181,
          2.3751212335808334,
          0.6298606653877621,
          1.2734529711930942,
          0.7874647590045449,
          0.8043742204622965,
          0.6489784374207128,
          1.1035967027737592,
          1.018066780019835,
          0.6961836926239803,
          0.6592642836586823,
          2.199783403021654,
          1.5634701581521733,
          1.6162196547548908,
          2.489318716899105,
          2.8383705541786357,
          4.045356475261426,
          7.993758694857824,
          7.038210533223828,
          4.604258965276311,
          5.352469067269289,
          1.6823545347338023,
          8.876998218890842,
          2.490986031776387,
          1.4904673040086163,
          0.8895670215576177,
          1.1883448034850634,
          1.2655288392207154,
          0.529375772539678,
          1.4817378853582683,
          0.6658063297597984,
          0.751286555986901,
          1.1926023384568896,
          0.7390179740276911,
          1.3854391451465329,
          1.2994830273045619,
          1.3953418065873293,
          1.329489552138921,
          0.8455068904888254,
          1.0686519677023494,
          1.4073923000480448,
          1.3714472854343245,
          0.9878259484767993,
          0.9460500834962998,
          0.5713070741495404,
          1.037771916119598,
          1.0605439921060407,
          1.2850322696451322,
          1.1432895346156708,
          0.891142644933669,
          0.7751513742589805,
          0.8030292991910388,
          0.8343378093613323,
          0.7535832785870541,
          1.373561430566514,
          1.188605353408084,
          1.255699031896659,
          1.03879987662611,
          0.8352377465363086,
          0.8261287815906062,
          1.0618888660280046,
          0.9264913196597406,
          0.7944482442227693,
          0.8671471966579973,
          0.6565358236014363,
          1.4781129061179383,
          1.2475262875314503,
          0.8480225903361602,
          0.5227278115509985,
          1.964595201585221,
          0.6883992908192643,
          0.5305902324867429,
          1.1229370818835829,
          1.0747280069112923,
          0.8781184850505438,
          0.9291395250587763,
          1.3787681573546746,
          0.8332515307638898,
          1.3806044128899861,
          1.3854011263808244,
          0.6929516502690461,
          1.0217358190090033,
          1.0527054937538365,
          1.261621244237514,
          1.3661478933550002,
          1.2512032807303286,
          1.3967155780066327,
          1.1837944976352914,
          1.1459512162668517,
          1.0606558908252768,
          1.277607543738684,
          1.2085894100397079,
          1.4845807690788635,
          0.565241583713339,
          1.137904668948435,
          1.4263818675669921,
          0.5549895804854504,
          0.7484425800770342,
          0.8893826871073336,
          1.624723123968711,
          1.7565712201850865,
          1.15990046891846,
          0.9663865889713201,
          1.0033965213325595,
          1.1790521824387927,
          1.099897880739387,
          1.4858243896964969,
          2.4040698272251784,
          1.1978462796078597,
          0.7342690184510077,
          0.832340925361033,
          1.311805680458335,
          1.3607926604808407,
          0.7677874200186336,
          1.3657016114630194,
          1.4489370614984072,
          1.288841555409904,
          0.53313807622809,
          0.6498131507562643,
          0.9515745812214238,
          1.2220447124599287,
          1.2956203902165204,
          1.386448586632142,
          0.7343654331460131,
          0.5195001188905948,
          1.3808249569552784,
          0.9088331058597084,
          0.9103831553865634,
          1.1213362602342696,
          0.8426256812844924,
          0.5982253564802666,
          0.7025007317148976,
          0.7905716627803713,
          0.9973614309353415,
          0.9165785727243753,
          0.6318283562562562,
          1.1448383981018762,
          0.5027206143754795,
          0.7422940981472993,
          0.5771608701753091,
          0.8605306093920212,
          0.6753157190546364,
          1.0668169300568384,
          1.1807615399494757,
          0.5186133622523178,
          0.7463060106374418,
          0.870851813974066,
          0.7386520849804288,
          0.6003410281214249,
          1.0422232275272647,
          0.6273908924425066,
          0.9048344367524905,
          0.6483017461227942,
          0.9868539750088988,
          1.2880060140882397,
          1.2559055338732326,
          1.320714543997595,
          1.1403545684004874,
          0.7200567680697408,
          1.124558803687275,
          0.9506860695247461,
          0.8560740876503182,
          0.6337570482341023,
          1.4317934736720148,
          1.3622763336864256,
          0.6241624233236519,
          0.9802694472703042,
          0.5150307125559053,
          0.6794989696102938,
          0.8839558923302863,
          0.6596546100516574,
          0.8059206969590255,
          1.342599863493556,
          0.5938279188239909,
          1.6004969232481927,
          0.9504655918586071,
          1.4616097411325404,
          0.8942135132823619,
          0.5436559797766719,
          0.5319504142603407,
          0.76283960606832,
          0.7283042143290788,
          2.3540327101065337,
          1.3955464778011608,
          1.1035484829480928,
          1.6930222266026616,
          0.6042692356678866,
          1.4768408246625917,
          0.9497089789766663,
          1.303286733502747,
          1.1528980978784045,
          1.0783920549530788,
          0.8255083689630395,
          0.8868834993863465,
          1.0493243512035915,
          0.8748681121465194,
          1.142759448106348,
          1.0698780367501541,
          1.2257264333684248,
          1.9558049037311513,
          0.7487581093664887,
          0.608593325145554,
          1.3225372385949554,
          1.0044275016380972,
          0.766596733206149,
          0.6594683921091757,
          1.06464774702502,
          0.6668402806322992,
          0.6583682079655726,
          0.5934354017118196,
          1.2837289424233487,
          0.8577513149784634,
          1.0400559805216916,
          0.689424100959776,
          1.1219040866095031,
          0.5138504189849007,
          0.60735426408064,
          1.4925716685617672,
          0.8185166904827529,
          0.880959442633069,
          2.3245364604950787,
          1.485533371911313,
          1.438962974692472,
          0.8113412565095619,
          1.3821944132582673,
          0.7028532814752351,
          0.8645626485165546,
          1.2792458077247393,
          1.1798441665741377,
          0.7505024466105192,
          0.6578405952785106,
          0.630876024505763,
          0.5188240598395072,
          0.9254805232864994,
          1.0852208227854148,
          0.8280924525265175,
          1.4087767909644686,
          1.2406169240320983,
          1.444771876277426,
          0.5215448264216813,
          0.5355776725993039,
          1.1688428721110733,
          2.4037730824026022,
          0.9713120446091124,
          1.2059074432094161,
          1.2308610052761215,
          0.8033231535455143,
          1.229532847980262,
          0.5799836080322462,
          0.7439634046932386,
          0.5328941072702289,
          0.9259867931906639,
          1.140395334020142,
          0.9908568711755441,
          1.1869889004063165,
          0.7665105840481367,
          1.4617343133060223,
          0.7193301526612084,
          1.7464035119174142,
          0.961320746676557,
          2.393953551096491,
          1.0866225833872563,
          1.1140873515897685,
          1.012805365785126,
          0.7140974180646704
         ],
         "yaxis": "y"
        }
       ],
       "layout": {
        "coloraxis": {
         "colorbar": {
          "title": {
           "text": "Numbers"
          }
         },
         "colorscale": [
          [
           0,
           "rgb(0, 128, 128)"
          ],
          [
           0.16666666666666666,
           "rgb(112, 164, 148)"
          ],
          [
           0.3333333333333333,
           "rgb(180, 200, 168)"
          ],
          [
           0.5,
           "rgb(246, 237, 189)"
          ],
          [
           0.6666666666666666,
           "rgb(237, 187, 138)"
          ],
          [
           0.8333333333333334,
           "rgb(222, 138, 90)"
          ],
          [
           1,
           "rgb(202, 86, 44)"
          ]
         ]
        },
        "height": 600,
        "legend": {
         "itemsizing": "constant",
         "tracegroupgap": 0
        },
        "template": {
         "data": {
          "bar": [
           {
            "error_x": {
             "color": "#2a3f5f"
            },
            "error_y": {
             "color": "#2a3f5f"
            },
            "marker": {
             "line": {
              "color": "white",
              "width": 0.5
             },
             "pattern": {
              "fillmode": "overlay",
              "size": 10,
              "solidity": 0.2
             }
            },
            "type": "bar"
           }
          ],
          "barpolar": [
           {
            "marker": {
             "line": {
              "color": "white",
              "width": 0.5
             },
             "pattern": {
              "fillmode": "overlay",
              "size": 10,
              "solidity": 0.2
             }
            },
            "type": "barpolar"
           }
          ],
          "carpet": [
           {
            "aaxis": {
             "endlinecolor": "#2a3f5f",
             "gridcolor": "#C8D4E3",
             "linecolor": "#C8D4E3",
             "minorgridcolor": "#C8D4E3",
             "startlinecolor": "#2a3f5f"
            },
            "baxis": {
             "endlinecolor": "#2a3f5f",
             "gridcolor": "#C8D4E3",
             "linecolor": "#C8D4E3",
             "minorgridcolor": "#C8D4E3",
             "startlinecolor": "#2a3f5f"
            },
            "type": "carpet"
           }
          ],
          "choropleth": [
           {
            "colorbar": {
             "outlinewidth": 0,
             "ticks": ""
            },
            "type": "choropleth"
           }
          ],
          "contour": [
           {
            "colorbar": {
             "outlinewidth": 0,
             "ticks": ""
            },
            "colorscale": [
             [
              0,
              "#0d0887"
             ],
             [
              0.1111111111111111,
              "#46039f"
             ],
             [
              0.2222222222222222,
              "#7201a8"
             ],
             [
              0.3333333333333333,
              "#9c179e"
             ],
             [
              0.4444444444444444,
              "#bd3786"
             ],
             [
              0.5555555555555556,
              "#d8576b"
             ],
             [
              0.6666666666666666,
              "#ed7953"
             ],
             [
              0.7777777777777778,
              "#fb9f3a"
             ],
             [
              0.8888888888888888,
              "#fdca26"
             ],
             [
              1,
              "#f0f921"
             ]
            ],
            "type": "contour"
           }
          ],
          "contourcarpet": [
           {
            "colorbar": {
             "outlinewidth": 0,
             "ticks": ""
            },
            "type": "contourcarpet"
           }
          ],
          "heatmap": [
           {
            "colorbar": {
             "outlinewidth": 0,
             "ticks": ""
            },
            "colorscale": [
             [
              0,
              "#0d0887"
             ],
             [
              0.1111111111111111,
              "#46039f"
             ],
             [
              0.2222222222222222,
              "#7201a8"
             ],
             [
              0.3333333333333333,
              "#9c179e"
             ],
             [
              0.4444444444444444,
              "#bd3786"
             ],
             [
              0.5555555555555556,
              "#d8576b"
             ],
             [
              0.6666666666666666,
              "#ed7953"
             ],
             [
              0.7777777777777778,
              "#fb9f3a"
             ],
             [
              0.8888888888888888,
              "#fdca26"
             ],
             [
              1,
              "#f0f921"
             ]
            ],
            "type": "heatmap"
           }
          ],
          "heatmapgl": [
           {
            "colorbar": {
             "outlinewidth": 0,
             "ticks": ""
            },
            "colorscale": [
             [
              0,
              "#0d0887"
             ],
             [
              0.1111111111111111,
              "#46039f"
             ],
             [
              0.2222222222222222,
              "#7201a8"
             ],
             [
              0.3333333333333333,
              "#9c179e"
             ],
             [
              0.4444444444444444,
              "#bd3786"
             ],
             [
              0.5555555555555556,
              "#d8576b"
             ],
             [
              0.6666666666666666,
              "#ed7953"
             ],
             [
              0.7777777777777778,
              "#fb9f3a"
             ],
             [
              0.8888888888888888,
              "#fdca26"
             ],
             [
              1,
              "#f0f921"
             ]
            ],
            "type": "heatmapgl"
           }
          ],
          "histogram": [
           {
            "marker": {
             "pattern": {
              "fillmode": "overlay",
              "size": 10,
              "solidity": 0.2
             }
            },
            "type": "histogram"
           }
          ],
          "histogram2d": [
           {
            "colorbar": {
             "outlinewidth": 0,
             "ticks": ""
            },
            "colorscale": [
             [
              0,
              "#0d0887"
             ],
             [
              0.1111111111111111,
              "#46039f"
             ],
             [
              0.2222222222222222,
              "#7201a8"
             ],
             [
              0.3333333333333333,
              "#9c179e"
             ],
             [
              0.4444444444444444,
              "#bd3786"
             ],
             [
              0.5555555555555556,
              "#d8576b"
             ],
             [
              0.6666666666666666,
              "#ed7953"
             ],
             [
              0.7777777777777778,
              "#fb9f3a"
             ],
             [
              0.8888888888888888,
              "#fdca26"
             ],
             [
              1,
              "#f0f921"
             ]
            ],
            "type": "histogram2d"
           }
          ],
          "histogram2dcontour": [
           {
            "colorbar": {
             "outlinewidth": 0,
             "ticks": ""
            },
            "colorscale": [
             [
              0,
              "#0d0887"
             ],
             [
              0.1111111111111111,
              "#46039f"
             ],
             [
              0.2222222222222222,
              "#7201a8"
             ],
             [
              0.3333333333333333,
              "#9c179e"
             ],
             [
              0.4444444444444444,
              "#bd3786"
             ],
             [
              0.5555555555555556,
              "#d8576b"
             ],
             [
              0.6666666666666666,
              "#ed7953"
             ],
             [
              0.7777777777777778,
              "#fb9f3a"
             ],
             [
              0.8888888888888888,
              "#fdca26"
             ],
             [
              1,
              "#f0f921"
             ]
            ],
            "type": "histogram2dcontour"
           }
          ],
          "mesh3d": [
           {
            "colorbar": {
             "outlinewidth": 0,
             "ticks": ""
            },
            "type": "mesh3d"
           }
          ],
          "parcoords": [
           {
            "line": {
             "colorbar": {
              "outlinewidth": 0,
              "ticks": ""
             }
            },
            "type": "parcoords"
           }
          ],
          "pie": [
           {
            "automargin": true,
            "type": "pie"
           }
          ],
          "scatter": [
           {
            "fillpattern": {
             "fillmode": "overlay",
             "size": 10,
             "solidity": 0.2
            },
            "type": "scatter"
           }
          ],
          "scatter3d": [
           {
            "line": {
             "colorbar": {
              "outlinewidth": 0,
              "ticks": ""
             }
            },
            "marker": {
             "colorbar": {
              "outlinewidth": 0,
              "ticks": ""
             }
            },
            "type": "scatter3d"
           }
          ],
          "scattercarpet": [
           {
            "marker": {
             "colorbar": {
              "outlinewidth": 0,
              "ticks": ""
             }
            },
            "type": "scattercarpet"
           }
          ],
          "scattergeo": [
           {
            "marker": {
             "colorbar": {
              "outlinewidth": 0,
              "ticks": ""
             }
            },
            "type": "scattergeo"
           }
          ],
          "scattergl": [
           {
            "marker": {
             "colorbar": {
              "outlinewidth": 0,
              "ticks": ""
             }
            },
            "type": "scattergl"
           }
          ],
          "scattermapbox": [
           {
            "marker": {
             "colorbar": {
              "outlinewidth": 0,
              "ticks": ""
             }
            },
            "type": "scattermapbox"
           }
          ],
          "scatterpolar": [
           {
            "marker": {
             "colorbar": {
              "outlinewidth": 0,
              "ticks": ""
             }
            },
            "type": "scatterpolar"
           }
          ],
          "scatterpolargl": [
           {
            "marker": {
             "colorbar": {
              "outlinewidth": 0,
              "ticks": ""
             }
            },
            "type": "scatterpolargl"
           }
          ],
          "scatterternary": [
           {
            "marker": {
             "colorbar": {
              "outlinewidth": 0,
              "ticks": ""
             }
            },
            "type": "scatterternary"
           }
          ],
          "surface": [
           {
            "colorbar": {
             "outlinewidth": 0,
             "ticks": ""
            },
            "colorscale": [
             [
              0,
              "#0d0887"
             ],
             [
              0.1111111111111111,
              "#46039f"
             ],
             [
              0.2222222222222222,
              "#7201a8"
             ],
             [
              0.3333333333333333,
              "#9c179e"
             ],
             [
              0.4444444444444444,
              "#bd3786"
             ],
             [
              0.5555555555555556,
              "#d8576b"
             ],
             [
              0.6666666666666666,
              "#ed7953"
             ],
             [
              0.7777777777777778,
              "#fb9f3a"
             ],
             [
              0.8888888888888888,
              "#fdca26"
             ],
             [
              1,
              "#f0f921"
             ]
            ],
            "type": "surface"
           }
          ],
          "table": [
           {
            "cells": {
             "fill": {
              "color": "#EBF0F8"
             },
             "line": {
              "color": "white"
             }
            },
            "header": {
             "fill": {
              "color": "#C8D4E3"
             },
             "line": {
              "color": "white"
             }
            },
            "type": "table"
           }
          ]
         },
         "layout": {
          "annotationdefaults": {
           "arrowcolor": "#2a3f5f",
           "arrowhead": 0,
           "arrowwidth": 1
          },
          "autotypenumbers": "strict",
          "coloraxis": {
           "colorbar": {
            "outlinewidth": 0,
            "ticks": ""
           }
          },
          "colorscale": {
           "diverging": [
            [
             0,
             "#8e0152"
            ],
            [
             0.1,
             "#c51b7d"
            ],
            [
             0.2,
             "#de77ae"
            ],
            [
             0.3,
             "#f1b6da"
            ],
            [
             0.4,
             "#fde0ef"
            ],
            [
             0.5,
             "#f7f7f7"
            ],
            [
             0.6,
             "#e6f5d0"
            ],
            [
             0.7,
             "#b8e186"
            ],
            [
             0.8,
             "#7fbc41"
            ],
            [
             0.9,
             "#4d9221"
            ],
            [
             1,
             "#276419"
            ]
           ],
           "sequential": [
            [
             0,
             "#0d0887"
            ],
            [
             0.1111111111111111,
             "#46039f"
            ],
            [
             0.2222222222222222,
             "#7201a8"
            ],
            [
             0.3333333333333333,
             "#9c179e"
            ],
            [
             0.4444444444444444,
             "#bd3786"
            ],
            [
             0.5555555555555556,
             "#d8576b"
            ],
            [
             0.6666666666666666,
             "#ed7953"
            ],
            [
             0.7777777777777778,
             "#fb9f3a"
            ],
            [
             0.8888888888888888,
             "#fdca26"
            ],
            [
             1,
             "#f0f921"
            ]
           ],
           "sequentialminus": [
            [
             0,
             "#0d0887"
            ],
            [
             0.1111111111111111,
             "#46039f"
            ],
            [
             0.2222222222222222,
             "#7201a8"
            ],
            [
             0.3333333333333333,
             "#9c179e"
            ],
            [
             0.4444444444444444,
             "#bd3786"
            ],
            [
             0.5555555555555556,
             "#d8576b"
            ],
            [
             0.6666666666666666,
             "#ed7953"
            ],
            [
             0.7777777777777778,
             "#fb9f3a"
            ],
            [
             0.8888888888888888,
             "#fdca26"
            ],
            [
             1,
             "#f0f921"
            ]
           ]
          },
          "colorway": [
           "#636efa",
           "#EF553B",
           "#00cc96",
           "#ab63fa",
           "#FFA15A",
           "#19d3f3",
           "#FF6692",
           "#B6E880",
           "#FF97FF",
           "#FECB52"
          ],
          "font": {
           "color": "#2a3f5f"
          },
          "geo": {
           "bgcolor": "white",
           "lakecolor": "white",
           "landcolor": "white",
           "showlakes": true,
           "showland": true,
           "subunitcolor": "#C8D4E3"
          },
          "hoverlabel": {
           "align": "left"
          },
          "hovermode": "closest",
          "mapbox": {
           "style": "light"
          },
          "paper_bgcolor": "white",
          "plot_bgcolor": "white",
          "polar": {
           "angularaxis": {
            "gridcolor": "#EBF0F8",
            "linecolor": "#EBF0F8",
            "ticks": ""
           },
           "bgcolor": "white",
           "radialaxis": {
            "gridcolor": "#EBF0F8",
            "linecolor": "#EBF0F8",
            "ticks": ""
           }
          },
          "scene": {
           "xaxis": {
            "backgroundcolor": "white",
            "gridcolor": "#DFE8F3",
            "gridwidth": 2,
            "linecolor": "#EBF0F8",
            "showbackground": true,
            "ticks": "",
            "zerolinecolor": "#EBF0F8"
           },
           "yaxis": {
            "backgroundcolor": "white",
            "gridcolor": "#DFE8F3",
            "gridwidth": 2,
            "linecolor": "#EBF0F8",
            "showbackground": true,
            "ticks": "",
            "zerolinecolor": "#EBF0F8"
           },
           "zaxis": {
            "backgroundcolor": "white",
            "gridcolor": "#DFE8F3",
            "gridwidth": 2,
            "linecolor": "#EBF0F8",
            "showbackground": true,
            "ticks": "",
            "zerolinecolor": "#EBF0F8"
           }
          },
          "shapedefaults": {
           "line": {
            "color": "#2a3f5f"
           }
          },
          "ternary": {
           "aaxis": {
            "gridcolor": "#DFE8F3",
            "linecolor": "#A2B1C6",
            "ticks": ""
           },
           "baxis": {
            "gridcolor": "#DFE8F3",
            "linecolor": "#A2B1C6",
            "ticks": ""
           },
           "bgcolor": "white",
           "caxis": {
            "gridcolor": "#DFE8F3",
            "linecolor": "#A2B1C6",
            "ticks": ""
           }
          },
          "title": {
           "x": 0.05
          },
          "xaxis": {
           "automargin": true,
           "gridcolor": "#EBF0F8",
           "linecolor": "#EBF0F8",
           "ticks": "",
           "title": {
            "standoff": 15
           },
           "zerolinecolor": "#EBF0F8",
           "zerolinewidth": 2
          },
          "yaxis": {
           "automargin": true,
           "gridcolor": "#EBF0F8",
           "linecolor": "#EBF0F8",
           "ticks": "",
           "title": {
            "standoff": 15
           },
           "zerolinecolor": "#EBF0F8",
           "zerolinewidth": 2
          }
         }
        },
        "title": {
         "text": "Publication Numbers of Ciliopathy Related Genes (2000-2022)"
        },
        "width": 1000,
        "xaxis": {
         "anchor": "y",
         "domain": [
          0,
          1
         ],
         "title": {
          "font": {
           "size": 18
          },
          "text": "Years"
         }
        },
        "yaxis": {
         "anchor": "x",
         "domain": [
          0,
          1
         ],
         "title": {
          "font": {
           "size": 18
          },
          "text": "Number"
         }
        }
       }
      }
     },
     "metadata": {},
     "output_type": "display_data"
    }
   ],
   "source": [
    "import plotly.express as px\n",
    "import pandas as pd\n",
    "import numpy as np\n",
    "\n",
    "df = pd.read_csv('Mt_keywords_counts_year.csv')\n",
    "\n",
    "# df的count列转为float类型\n",
    "df['Count'] = df['Count'].astype(float)\n",
    "df['Count_jittered'] = df['Count'] + np.random.uniform(-0.5, 0.5, size=len(df))\n",
    "df['Year_jittered'] = df['Year'] + np.random.uniform(-0.3, 0.3, size=len(df))\n",
    "\n",
    "fig = px.scatter(df, \n",
    "                 x='Year_jittered', \n",
    "                 y='Count_jittered', \n",
    "                 size='Count',\n",
    "                 color='Count',\n",
    "                 hover_name='Keyword',  # 使用关键词作为悬浮名称\n",
    "                 hover_data=['Year', 'Count'],  \n",
    "                 size_max=20,\n",
    "                 title='Publication Numbers of Ciliopathy Related Genes (2000-2022)',\n",
    "                 labels={\"Count\": \"Numbers\", \"Year\": \"Years\"},\n",
    "                 color_continuous_scale=\"Geyser\",\n",
    "                )\n",
    "\n",
    "fig.update_layout(\n",
    "    template=\"plotly_white\",\n",
    "    width=1000,\n",
    "    height=600,\n",
    "    xaxis=dict(title=dict(text='Years', font=dict(size=18))),\n",
    "    yaxis=dict(title=dict(text='Number', font=dict(size=18)),\n",
    "    )\n",
    ")\n",
    "\n",
    "\n",
    "fig.show()"
   ]
  },
  {
   "cell_type": "code",
   "execution_count": 3,
   "metadata": {},
   "outputs": [],
   "source": [
    "import pandas as pd\n",
    "from collections import Counter\n",
    "import json\n",
    "import re"
   ]
  },
  {
   "cell_type": "code",
   "execution_count": 4,
   "metadata": {},
   "outputs": [],
   "source": [
    "# 读取csv数据\n",
    "data = pd.read_csv(\"./Mt_paper_all.csv\").copy()"
   ]
  },
  {
   "cell_type": "code",
   "execution_count": 5,
   "metadata": {},
   "outputs": [
    {
     "data": {
      "text/html": [
       "<div>\n",
       "<style scoped>\n",
       "    .dataframe tbody tr th:only-of-type {\n",
       "        vertical-align: middle;\n",
       "    }\n",
       "\n",
       "    .dataframe tbody tr th {\n",
       "        vertical-align: top;\n",
       "    }\n",
       "\n",
       "    .dataframe thead th {\n",
       "        text-align: right;\n",
       "    }\n",
       "</style>\n",
       "<table border=\"1\" class=\"dataframe\">\n",
       "  <thead>\n",
       "    <tr style=\"text-align: right;\">\n",
       "      <th></th>\n",
       "      <th>PMID</th>\n",
       "      <th>Author</th>\n",
       "      <th>Title</th>\n",
       "      <th>Abstract</th>\n",
       "      <th>Keywords</th>\n",
       "      <th>Journal</th>\n",
       "      <th>Institution</th>\n",
       "      <th>Country</th>\n",
       "      <th>DOI</th>\n",
       "      <th>Publication Year</th>\n",
       "    </tr>\n",
       "  </thead>\n",
       "  <tbody>\n",
       "    <tr>\n",
       "      <th>0</th>\n",
       "      <td>25025273</td>\n",
       "      <td>['Singh, Bijender']</td>\n",
       "      <td>Myceliophthora thermophila syn. Sporotrichum t...</td>\n",
       "      <td>Myceliophthora thermophila syn. Sporotrichum t...</td>\n",
       "      <td>Biomolecules, Myceliophthora thermophila, Spor...</td>\n",
       "      <td>Critical reviews in biotechnology</td>\n",
       "      <td>a Laboratory of Bioprocess Technology, Departm...</td>\n",
       "      <td>India</td>\n",
       "      <td>10.3109/07388551.2014.923985</td>\n",
       "      <td>2016</td>\n",
       "    </tr>\n",
       "    <tr>\n",
       "      <th>1</th>\n",
       "      <td>32640074</td>\n",
       "      <td>['Dos Santos Gomes, A C', 'Casciatori, F P', '...</td>\n",
       "      <td>Growth kinetics of Myceliophthora thermophila ...</td>\n",
       "      <td>AIMS: This work aimed to estimate the growth o...</td>\n",
       "      <td>N-acetylglucosamine, enzymes, growth kinetics,...</td>\n",
       "      <td>Journal of applied microbiology</td>\n",
       "      <td>Instituto de Biociencias, Letras e Ciencias Ex...</td>\n",
       "      <td>Brazil</td>\n",
       "      <td>10.1111/jam.14774</td>\n",
       "      <td>2021</td>\n",
       "    </tr>\n",
       "    <tr>\n",
       "      <th>2</th>\n",
       "      <td>24995002</td>\n",
       "      <td>['Karnaouri, Anthi', 'Topakas, Evangelos', 'An...</td>\n",
       "      <td>Genomic insights into the fungal lignocellulol...</td>\n",
       "      <td>The microbial conversion of solid cellulosic b...</td>\n",
       "      <td>CAZy, Myceliophthora thermophila, biofuels, li...</td>\n",
       "      <td>Frontiers in microbiology</td>\n",
       "      <td>Biotechnology Laboratory, Department of Synthe...</td>\n",
       "      <td>Sweden</td>\n",
       "      <td>10.3389/fmicb.2014.00281</td>\n",
       "      <td>2014</td>\n",
       "    </tr>\n",
       "    <tr>\n",
       "      <th>3</th>\n",
       "      <td>35450635</td>\n",
       "      <td>['Sun, Peicheng', 'de Munnik, Melanie', 'van B...</td>\n",
       "      <td>Extending the diversity of Myceliophthora ther...</td>\n",
       "      <td>Lytic polysaccharide monooxygenases (LPMOs) pl...</td>\n",
       "      <td>Active site segment, LPMOs, Lignocellulose, Ma...</td>\n",
       "      <td>Carbohydrate polymers</td>\n",
       "      <td>Laboratory of Food Chemistry, Wageningen Unive...</td>\n",
       "      <td>the Netherlands. Electronic address: peicheng....</td>\n",
       "      <td>10.1016/j.carbpol.2022.119373</td>\n",
       "      <td>2022</td>\n",
       "    </tr>\n",
       "    <tr>\n",
       "      <th>4</th>\n",
       "      <td>31534479</td>\n",
       "      <td>['Dos Santos Gomes, Ana Carolina', 'Falkoski, ...</td>\n",
       "      <td>Myceliophthora thermophila Xyr1 is predominant...</td>\n",
       "      <td>BACKGROUND: Myceliophthora thermophila is a th...</td>\n",
       "      <td>Cellulose degradation, Myceliophthora thermoph...</td>\n",
       "      <td>Biotechnology for biofuels</td>\n",
       "      <td>1Fungal Physiology, Westerdijk Fungal Biodiver...</td>\n",
       "      <td>The Netherlands. ISNI: 0000000120346234. GRID:...</td>\n",
       "      <td>10.1186/s13068-019-1556-y</td>\n",
       "      <td>2019</td>\n",
       "    </tr>\n",
       "    <tr>\n",
       "      <th>...</th>\n",
       "      <td>...</td>\n",
       "      <td>...</td>\n",
       "      <td>...</td>\n",
       "      <td>...</td>\n",
       "      <td>...</td>\n",
       "      <td>...</td>\n",
       "      <td>...</td>\n",
       "      <td>...</td>\n",
       "      <td>...</td>\n",
       "      <td>...</td>\n",
       "    </tr>\n",
       "    <tr>\n",
       "      <th>245</th>\n",
       "      <td>24128582</td>\n",
       "      <td>['Aljawish, Abdulhadi', 'Chevalot, Isabelle', ...</td>\n",
       "      <td>Laccase-catalysed oxidation of ferulic acid an...</td>\n",
       "      <td>The enzymatic oxidation of ferulic acid (FA) a...</td>\n",
       "      <td>Antioxidant, Cytotoxicity, Dye, Enzymatic oxid...</td>\n",
       "      <td>Food chemistry</td>\n",
       "      <td>Laboratoire d'Ingenierie des Biomolecules (LIB...</td>\n",
       "      <td>France</td>\n",
       "      <td>10.1016/j.foodchem.2013.07.119</td>\n",
       "      <td>2014</td>\n",
       "    </tr>\n",
       "    <tr>\n",
       "      <th>253</th>\n",
       "      <td>30960948</td>\n",
       "      <td>['Su, Jing', 'Shim, Euijin', 'Noro, Jennifer',...</td>\n",
       "      <td>Conductive Cotton by In Situ Laccase-Polymeriz...</td>\n",
       "      <td>Conductive cotton fabrics were obtained via in...</td>\n",
       "      <td>1-hydroxybenzotriazol (HBT), coatings, conduct...</td>\n",
       "      <td>Polymers</td>\n",
       "      <td>International Joint Research Laboratory for Te...</td>\n",
       "      <td>China. jingsu@ceb.uminho.pt</td>\n",
       "      <td>10.3390/polym10091023</td>\n",
       "      <td>2018</td>\n",
       "    </tr>\n",
       "    <tr>\n",
       "      <th>257</th>\n",
       "      <td>33807631</td>\n",
       "      <td>['Contato, Alex Graca', 'de Oliveira, Tassio B...</td>\n",
       "      <td>Prospection of Fungal Lignocellulolytic Enzyme...</td>\n",
       "      <td>The lignocellulosic biomass comprises three ma...</td>\n",
       "      <td>Hymenaea courbaril, Tamarindus indica, biopros...</td>\n",
       "      <td>Microorganisms</td>\n",
       "      <td>Departamento de Bioquimica e Imunologia, Facul...</td>\n",
       "      <td>Brazil</td>\n",
       "      <td>10.3390/microorganisms9030533</td>\n",
       "      <td>2021</td>\n",
       "    </tr>\n",
       "    <tr>\n",
       "      <th>263</th>\n",
       "      <td>36866191</td>\n",
       "      <td>['Bampidis, Vasileios', 'Azimonti, Giovanna', ...</td>\n",
       "      <td>Safety and efficacy of a feed additive consist...</td>\n",
       "      <td>Following a request from the European Commissi...</td>\n",
       "      <td>Natupulse(R), digestibility enhancers, efficac...</td>\n",
       "      <td>EFSA journal. European Food Safety Authority</td>\n",
       "      <td>?</td>\n",
       "      <td>NaN</td>\n",
       "      <td>10.2903/j.efsa.2023.7873</td>\n",
       "      <td>2023</td>\n",
       "    </tr>\n",
       "    <tr>\n",
       "      <th>264</th>\n",
       "      <td>37164048</td>\n",
       "      <td>['Goncalves, Aline Larissa', 'Cunha, Paula Mac...</td>\n",
       "      <td>Production of recombinant lytic polysaccharide...</td>\n",
       "      <td>Lignocellulosic biomass is a promising alterna...</td>\n",
       "      <td>Enzymes, Filamentous fungi, LPMO, Saccharifica...</td>\n",
       "      <td>Biochimica et biophysica acta. Proteins and pr...</td>\n",
       "      <td>Department of Biotechnology, Lorena School of ...</td>\n",
       "      <td>Brazil</td>\n",
       "      <td>10.1016/j.bbapap.2023.140919</td>\n",
       "      <td>2023</td>\n",
       "    </tr>\n",
       "  </tbody>\n",
       "</table>\n",
       "<p>153 rows × 10 columns</p>\n",
       "</div>"
      ],
      "text/plain": [
       "         PMID                                             Author  \\\n",
       "0    25025273                                ['Singh, Bijender']   \n",
       "1    32640074  ['Dos Santos Gomes, A C', 'Casciatori, F P', '...   \n",
       "2    24995002  ['Karnaouri, Anthi', 'Topakas, Evangelos', 'An...   \n",
       "3    35450635  ['Sun, Peicheng', 'de Munnik, Melanie', 'van B...   \n",
       "4    31534479  ['Dos Santos Gomes, Ana Carolina', 'Falkoski, ...   \n",
       "..        ...                                                ...   \n",
       "245  24128582  ['Aljawish, Abdulhadi', 'Chevalot, Isabelle', ...   \n",
       "253  30960948  ['Su, Jing', 'Shim, Euijin', 'Noro, Jennifer',...   \n",
       "257  33807631  ['Contato, Alex Graca', 'de Oliveira, Tassio B...   \n",
       "263  36866191  ['Bampidis, Vasileios', 'Azimonti, Giovanna', ...   \n",
       "264  37164048  ['Goncalves, Aline Larissa', 'Cunha, Paula Mac...   \n",
       "\n",
       "                                                 Title  \\\n",
       "0    Myceliophthora thermophila syn. Sporotrichum t...   \n",
       "1    Growth kinetics of Myceliophthora thermophila ...   \n",
       "2    Genomic insights into the fungal lignocellulol...   \n",
       "3    Extending the diversity of Myceliophthora ther...   \n",
       "4    Myceliophthora thermophila Xyr1 is predominant...   \n",
       "..                                                 ...   \n",
       "245  Laccase-catalysed oxidation of ferulic acid an...   \n",
       "253  Conductive Cotton by In Situ Laccase-Polymeriz...   \n",
       "257  Prospection of Fungal Lignocellulolytic Enzyme...   \n",
       "263  Safety and efficacy of a feed additive consist...   \n",
       "264  Production of recombinant lytic polysaccharide...   \n",
       "\n",
       "                                              Abstract  \\\n",
       "0    Myceliophthora thermophila syn. Sporotrichum t...   \n",
       "1    AIMS: This work aimed to estimate the growth o...   \n",
       "2    The microbial conversion of solid cellulosic b...   \n",
       "3    Lytic polysaccharide monooxygenases (LPMOs) pl...   \n",
       "4    BACKGROUND: Myceliophthora thermophila is a th...   \n",
       "..                                                 ...   \n",
       "245  The enzymatic oxidation of ferulic acid (FA) a...   \n",
       "253  Conductive cotton fabrics were obtained via in...   \n",
       "257  The lignocellulosic biomass comprises three ma...   \n",
       "263  Following a request from the European Commissi...   \n",
       "264  Lignocellulosic biomass is a promising alterna...   \n",
       "\n",
       "                                              Keywords  \\\n",
       "0    Biomolecules, Myceliophthora thermophila, Spor...   \n",
       "1    N-acetylglucosamine, enzymes, growth kinetics,...   \n",
       "2    CAZy, Myceliophthora thermophila, biofuels, li...   \n",
       "3    Active site segment, LPMOs, Lignocellulose, Ma...   \n",
       "4    Cellulose degradation, Myceliophthora thermoph...   \n",
       "..                                                 ...   \n",
       "245  Antioxidant, Cytotoxicity, Dye, Enzymatic oxid...   \n",
       "253  1-hydroxybenzotriazol (HBT), coatings, conduct...   \n",
       "257  Hymenaea courbaril, Tamarindus indica, biopros...   \n",
       "263  Natupulse(R), digestibility enhancers, efficac...   \n",
       "264  Enzymes, Filamentous fungi, LPMO, Saccharifica...   \n",
       "\n",
       "                                               Journal  \\\n",
       "0                    Critical reviews in biotechnology   \n",
       "1                      Journal of applied microbiology   \n",
       "2                            Frontiers in microbiology   \n",
       "3                                Carbohydrate polymers   \n",
       "4                           Biotechnology for biofuels   \n",
       "..                                                 ...   \n",
       "245                                     Food chemistry   \n",
       "253                                           Polymers   \n",
       "257                                     Microorganisms   \n",
       "263       EFSA journal. European Food Safety Authority   \n",
       "264  Biochimica et biophysica acta. Proteins and pr...   \n",
       "\n",
       "                                           Institution  \\\n",
       "0    a Laboratory of Bioprocess Technology, Departm...   \n",
       "1    Instituto de Biociencias, Letras e Ciencias Ex...   \n",
       "2    Biotechnology Laboratory, Department of Synthe...   \n",
       "3    Laboratory of Food Chemistry, Wageningen Unive...   \n",
       "4    1Fungal Physiology, Westerdijk Fungal Biodiver...   \n",
       "..                                                 ...   \n",
       "245  Laboratoire d'Ingenierie des Biomolecules (LIB...   \n",
       "253  International Joint Research Laboratory for Te...   \n",
       "257  Departamento de Bioquimica e Imunologia, Facul...   \n",
       "263                                                  ?   \n",
       "264  Department of Biotechnology, Lorena School of ...   \n",
       "\n",
       "                                               Country  \\\n",
       "0                                                India   \n",
       "1                                               Brazil   \n",
       "2                                               Sweden   \n",
       "3    the Netherlands. Electronic address: peicheng....   \n",
       "4    The Netherlands. ISNI: 0000000120346234. GRID:...   \n",
       "..                                                 ...   \n",
       "245                                             France   \n",
       "253                        China. jingsu@ceb.uminho.pt   \n",
       "257                                             Brazil   \n",
       "263                                                NaN   \n",
       "264                                             Brazil   \n",
       "\n",
       "                                DOI  Publication Year  \n",
       "0      10.3109/07388551.2014.923985              2016  \n",
       "1                 10.1111/jam.14774              2021  \n",
       "2          10.3389/fmicb.2014.00281              2014  \n",
       "3     10.1016/j.carbpol.2022.119373              2022  \n",
       "4         10.1186/s13068-019-1556-y              2019  \n",
       "..                              ...               ...  \n",
       "245  10.1016/j.foodchem.2013.07.119              2014  \n",
       "253           10.3390/polym10091023              2018  \n",
       "257   10.3390/microorganisms9030533              2021  \n",
       "263        10.2903/j.efsa.2023.7873              2023  \n",
       "264    10.1016/j.bbapap.2023.140919              2023  \n",
       "\n",
       "[153 rows x 10 columns]"
      ]
     },
     "execution_count": 5,
     "metadata": {},
     "output_type": "execute_result"
    }
   ],
   "source": [
    "# 如果data_filter中的Keywords列有空值，就删除该行\n",
    "data.dropna(subset=['Keywords'], inplace=True)\n",
    "data"
   ]
  },
  {
   "cell_type": "code",
   "execution_count": null,
   "metadata": {},
   "outputs": [],
   "source": [
    "# data只保留title和keywords两列\n",
    "data_filter = data[['Keywords', 'Publication Year']]\n",
    "\n",
    "# 保存data_filter为csv\n",
    "data_filter.to_csv(\"./Mt_paper_filter.csv\", index=False)"
   ]
  },
  {
   "cell_type": "code",
   "execution_count": null,
   "metadata": {},
   "outputs": [],
   "source": [
    "import pandas as pd\n",
    "from collections import defaultdict\n",
    "import re\n",
    "\n",
    "# 函数用于检查是否是有效的关键词\n",
    "def is_valid_keyword(keyword):\n",
    "    # 这里我们使用正则表达式排除仅包含数字的字符串\n",
    "    # 并且确认关键词长度超过2\n",
    "    return re.match(r'^[A-Za-z\\s]+$', keyword) and len(keyword) > 2\n",
    "\n",
    "# 初始化一个defaultdict来存储关键词计数\n",
    "keywords_yearly_counts = defaultdict(lambda: defaultdict(int))\n",
    "\n",
    "# 遍历DataFrame的每一行\n",
    "for index, row in data_filter.iterrows():\n",
    "    year = row['Publication Year']\n",
    "    keywords = row['Keywords'].split(',')\n",
    "    \n",
    "    # 去除空格并统一格式\n",
    "    keywords = [keyword.strip().capitalize() for keyword in keywords if is_valid_keyword(keyword)]\n",
    "    \n",
    "    for keyword in keywords:\n",
    "        keywords_yearly_counts[keyword][year] += 1\n",
    "\n",
    "# 转换为DataFrame\n",
    "keywords_yearly_df = pd.DataFrame([\n",
    "    {'Keyword': keyword, 'Year': year, 'Count': count}\n",
    "    for keyword, years in keywords_yearly_counts.items()\n",
    "    for year, count in years.items()\n",
    "])\n",
    "\n",
    "# 排序并保存\n",
    "keywords_yearly_df = keywords_yearly_df.sort_values(by=[\"Keyword\", \"Year\"])\n",
    "keywords_yearly_df.to_csv('Mt_keywords_counts_year.csv', index=False)"
   ]
  }
 ],
 "metadata": {
  "kernelspec": {
   "display_name": "code",
   "language": "python",
   "name": "python3"
  },
  "language_info": {
   "codemirror_mode": {
    "name": "ipython",
    "version": 3
   },
   "file_extension": ".py",
   "mimetype": "text/x-python",
   "name": "python",
   "nbconvert_exporter": "python",
   "pygments_lexer": "ipython3",
   "version": "3.10.0"
  }
 },
 "nbformat": 4,
 "nbformat_minor": 2
}
