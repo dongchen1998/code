{
 "cells": [
  {
   "cell_type": "code",
   "execution_count": 4,
   "metadata": {},
   "outputs": [
    {
     "data": {
      "application/vnd.plotly.v1+json": {
       "config": {
        "plotlyServerURL": "https://plot.ly"
       },
       "data": [
        {
         "customdata": [
          [
           "Keyword_2000",
           5
          ],
          [
           "Keyword_2001",
           1
          ],
          [
           "Keyword_2002",
           3
          ],
          [
           "Keyword_2003",
           10
          ],
          [
           "Keyword_2004",
           5
          ],
          [
           "Keyword_2005",
           7
          ],
          [
           "Keyword_2006",
           3
          ],
          [
           "Keyword_2007",
           5
          ],
          [
           "Keyword_2008",
           9
          ],
          [
           "Keyword_2009",
           2
          ],
          [
           "Keyword_2010",
           7
          ],
          [
           "Keyword_2011",
           3
          ],
          [
           "Keyword_2012",
           2
          ],
          [
           "Keyword_2013",
           10
          ],
          [
           "Keyword_2014",
           7
          ],
          [
           "Keyword_2015",
           2
          ],
          [
           "Keyword_2016",
           3
          ],
          [
           "Keyword_2017",
           7
          ],
          [
           "Keyword_2018",
           8
          ],
          [
           "Keyword_2019",
           9
          ],
          [
           "Keyword_2020",
           3
          ],
          [
           "Keyword_2021",
           5
          ],
          [
           "Keyword_2022",
           4
          ]
         ],
         "hovertemplate": "<b>%{hovertext}</b><br><br>Publication Years=%{x}<br>Publication Numbers=%{marker.color}<br>Keywords=%{customdata[0]}<br>Numbers=%{customdata[1]}<extra></extra>",
         "hovertext": [
          "Keyword_2000",
          "Keyword_2001",
          "Keyword_2002",
          "Keyword_2003",
          "Keyword_2004",
          "Keyword_2005",
          "Keyword_2006",
          "Keyword_2007",
          "Keyword_2008",
          "Keyword_2009",
          "Keyword_2010",
          "Keyword_2011",
          "Keyword_2012",
          "Keyword_2013",
          "Keyword_2014",
          "Keyword_2015",
          "Keyword_2016",
          "Keyword_2017",
          "Keyword_2018",
          "Keyword_2019",
          "Keyword_2020",
          "Keyword_2021",
          "Keyword_2022"
         ],
         "legendgroup": "",
         "marker": {
          "color": [
           679,
           442,
           468,
           738,
           638,
           741,
           618,
           722,
           532,
           504,
           788,
           603,
           797,
           441,
           424,
           616,
           608,
           610,
           605,
           725,
           669,
           683,
           459
          ],
          "coloraxis": "coloraxis",
          "size": [
           679,
           442,
           468,
           738,
           638,
           741,
           618,
           722,
           532,
           504,
           788,
           603,
           797,
           441,
           424,
           616,
           608,
           610,
           605,
           725,
           669,
           683,
           459
          ],
          "sizemode": "area",
          "sizeref": 1.9925,
          "symbol": "circle"
         },
         "mode": "markers",
         "name": "",
         "orientation": "v",
         "showlegend": false,
         "type": "scatter",
         "x": [
          2000,
          2001,
          2002,
          2003,
          2004,
          2005,
          2006,
          2007,
          2008,
          2009,
          2010,
          2011,
          2012,
          2013,
          2014,
          2015,
          2016,
          2017,
          2018,
          2019,
          2020,
          2021,
          2022
         ],
         "xaxis": "x",
         "y": [
          679,
          442,
          468,
          738,
          638,
          741,
          618,
          722,
          532,
          504,
          788,
          603,
          797,
          441,
          424,
          616,
          608,
          610,
          605,
          725,
          669,
          683,
          459
         ],
         "yaxis": "y"
        }
       ],
       "layout": {
        "coloraxis": {
         "colorbar": {
          "title": {
           "text": "Publication Numbers"
          }
         },
         "colorscale": [
          [
           0,
           "rgb(0, 128, 128)"
          ],
          [
           0.16666666666666666,
           "rgb(112, 164, 148)"
          ],
          [
           0.3333333333333333,
           "rgb(180, 200, 168)"
          ],
          [
           0.5,
           "rgb(246, 237, 189)"
          ],
          [
           0.6666666666666666,
           "rgb(237, 187, 138)"
          ],
          [
           0.8333333333333334,
           "rgb(222, 138, 90)"
          ],
          [
           1,
           "rgb(202, 86, 44)"
          ]
         ]
        },
        "height": 600,
        "legend": {
         "itemsizing": "constant",
         "tracegroupgap": 0
        },
        "template": {
         "data": {
          "bar": [
           {
            "error_x": {
             "color": "#2a3f5f"
            },
            "error_y": {
             "color": "#2a3f5f"
            },
            "marker": {
             "line": {
              "color": "white",
              "width": 0.5
             },
             "pattern": {
              "fillmode": "overlay",
              "size": 10,
              "solidity": 0.2
             }
            },
            "type": "bar"
           }
          ],
          "barpolar": [
           {
            "marker": {
             "line": {
              "color": "white",
              "width": 0.5
             },
             "pattern": {
              "fillmode": "overlay",
              "size": 10,
              "solidity": 0.2
             }
            },
            "type": "barpolar"
           }
          ],
          "carpet": [
           {
            "aaxis": {
             "endlinecolor": "#2a3f5f",
             "gridcolor": "#C8D4E3",
             "linecolor": "#C8D4E3",
             "minorgridcolor": "#C8D4E3",
             "startlinecolor": "#2a3f5f"
            },
            "baxis": {
             "endlinecolor": "#2a3f5f",
             "gridcolor": "#C8D4E3",
             "linecolor": "#C8D4E3",
             "minorgridcolor": "#C8D4E3",
             "startlinecolor": "#2a3f5f"
            },
            "type": "carpet"
           }
          ],
          "choropleth": [
           {
            "colorbar": {
             "outlinewidth": 0,
             "ticks": ""
            },
            "type": "choropleth"
           }
          ],
          "contour": [
           {
            "colorbar": {
             "outlinewidth": 0,
             "ticks": ""
            },
            "colorscale": [
             [
              0,
              "#0d0887"
             ],
             [
              0.1111111111111111,
              "#46039f"
             ],
             [
              0.2222222222222222,
              "#7201a8"
             ],
             [
              0.3333333333333333,
              "#9c179e"
             ],
             [
              0.4444444444444444,
              "#bd3786"
             ],
             [
              0.5555555555555556,
              "#d8576b"
             ],
             [
              0.6666666666666666,
              "#ed7953"
             ],
             [
              0.7777777777777778,
              "#fb9f3a"
             ],
             [
              0.8888888888888888,
              "#fdca26"
             ],
             [
              1,
              "#f0f921"
             ]
            ],
            "type": "contour"
           }
          ],
          "contourcarpet": [
           {
            "colorbar": {
             "outlinewidth": 0,
             "ticks": ""
            },
            "type": "contourcarpet"
           }
          ],
          "heatmap": [
           {
            "colorbar": {
             "outlinewidth": 0,
             "ticks": ""
            },
            "colorscale": [
             [
              0,
              "#0d0887"
             ],
             [
              0.1111111111111111,
              "#46039f"
             ],
             [
              0.2222222222222222,
              "#7201a8"
             ],
             [
              0.3333333333333333,
              "#9c179e"
             ],
             [
              0.4444444444444444,
              "#bd3786"
             ],
             [
              0.5555555555555556,
              "#d8576b"
             ],
             [
              0.6666666666666666,
              "#ed7953"
             ],
             [
              0.7777777777777778,
              "#fb9f3a"
             ],
             [
              0.8888888888888888,
              "#fdca26"
             ],
             [
              1,
              "#f0f921"
             ]
            ],
            "type": "heatmap"
           }
          ],
          "heatmapgl": [
           {
            "colorbar": {
             "outlinewidth": 0,
             "ticks": ""
            },
            "colorscale": [
             [
              0,
              "#0d0887"
             ],
             [
              0.1111111111111111,
              "#46039f"
             ],
             [
              0.2222222222222222,
              "#7201a8"
             ],
             [
              0.3333333333333333,
              "#9c179e"
             ],
             [
              0.4444444444444444,
              "#bd3786"
             ],
             [
              0.5555555555555556,
              "#d8576b"
             ],
             [
              0.6666666666666666,
              "#ed7953"
             ],
             [
              0.7777777777777778,
              "#fb9f3a"
             ],
             [
              0.8888888888888888,
              "#fdca26"
             ],
             [
              1,
              "#f0f921"
             ]
            ],
            "type": "heatmapgl"
           }
          ],
          "histogram": [
           {
            "marker": {
             "pattern": {
              "fillmode": "overlay",
              "size": 10,
              "solidity": 0.2
             }
            },
            "type": "histogram"
           }
          ],
          "histogram2d": [
           {
            "colorbar": {
             "outlinewidth": 0,
             "ticks": ""
            },
            "colorscale": [
             [
              0,
              "#0d0887"
             ],
             [
              0.1111111111111111,
              "#46039f"
             ],
             [
              0.2222222222222222,
              "#7201a8"
             ],
             [
              0.3333333333333333,
              "#9c179e"
             ],
             [
              0.4444444444444444,
              "#bd3786"
             ],
             [
              0.5555555555555556,
              "#d8576b"
             ],
             [
              0.6666666666666666,
              "#ed7953"
             ],
             [
              0.7777777777777778,
              "#fb9f3a"
             ],
             [
              0.8888888888888888,
              "#fdca26"
             ],
             [
              1,
              "#f0f921"
             ]
            ],
            "type": "histogram2d"
           }
          ],
          "histogram2dcontour": [
           {
            "colorbar": {
             "outlinewidth": 0,
             "ticks": ""
            },
            "colorscale": [
             [
              0,
              "#0d0887"
             ],
             [
              0.1111111111111111,
              "#46039f"
             ],
             [
              0.2222222222222222,
              "#7201a8"
             ],
             [
              0.3333333333333333,
              "#9c179e"
             ],
             [
              0.4444444444444444,
              "#bd3786"
             ],
             [
              0.5555555555555556,
              "#d8576b"
             ],
             [
              0.6666666666666666,
              "#ed7953"
             ],
             [
              0.7777777777777778,
              "#fb9f3a"
             ],
             [
              0.8888888888888888,
              "#fdca26"
             ],
             [
              1,
              "#f0f921"
             ]
            ],
            "type": "histogram2dcontour"
           }
          ],
          "mesh3d": [
           {
            "colorbar": {
             "outlinewidth": 0,
             "ticks": ""
            },
            "type": "mesh3d"
           }
          ],
          "parcoords": [
           {
            "line": {
             "colorbar": {
              "outlinewidth": 0,
              "ticks": ""
             }
            },
            "type": "parcoords"
           }
          ],
          "pie": [
           {
            "automargin": true,
            "type": "pie"
           }
          ],
          "scatter": [
           {
            "fillpattern": {
             "fillmode": "overlay",
             "size": 10,
             "solidity": 0.2
            },
            "type": "scatter"
           }
          ],
          "scatter3d": [
           {
            "line": {
             "colorbar": {
              "outlinewidth": 0,
              "ticks": ""
             }
            },
            "marker": {
             "colorbar": {
              "outlinewidth": 0,
              "ticks": ""
             }
            },
            "type": "scatter3d"
           }
          ],
          "scattercarpet": [
           {
            "marker": {
             "colorbar": {
              "outlinewidth": 0,
              "ticks": ""
             }
            },
            "type": "scattercarpet"
           }
          ],
          "scattergeo": [
           {
            "marker": {
             "colorbar": {
              "outlinewidth": 0,
              "ticks": ""
             }
            },
            "type": "scattergeo"
           }
          ],
          "scattergl": [
           {
            "marker": {
             "colorbar": {
              "outlinewidth": 0,
              "ticks": ""
             }
            },
            "type": "scattergl"
           }
          ],
          "scattermapbox": [
           {
            "marker": {
             "colorbar": {
              "outlinewidth": 0,
              "ticks": ""
             }
            },
            "type": "scattermapbox"
           }
          ],
          "scatterpolar": [
           {
            "marker": {
             "colorbar": {
              "outlinewidth": 0,
              "ticks": ""
             }
            },
            "type": "scatterpolar"
           }
          ],
          "scatterpolargl": [
           {
            "marker": {
             "colorbar": {
              "outlinewidth": 0,
              "ticks": ""
             }
            },
            "type": "scatterpolargl"
           }
          ],
          "scatterternary": [
           {
            "marker": {
             "colorbar": {
              "outlinewidth": 0,
              "ticks": ""
             }
            },
            "type": "scatterternary"
           }
          ],
          "surface": [
           {
            "colorbar": {
             "outlinewidth": 0,
             "ticks": ""
            },
            "colorscale": [
             [
              0,
              "#0d0887"
             ],
             [
              0.1111111111111111,
              "#46039f"
             ],
             [
              0.2222222222222222,
              "#7201a8"
             ],
             [
              0.3333333333333333,
              "#9c179e"
             ],
             [
              0.4444444444444444,
              "#bd3786"
             ],
             [
              0.5555555555555556,
              "#d8576b"
             ],
             [
              0.6666666666666666,
              "#ed7953"
             ],
             [
              0.7777777777777778,
              "#fb9f3a"
             ],
             [
              0.8888888888888888,
              "#fdca26"
             ],
             [
              1,
              "#f0f921"
             ]
            ],
            "type": "surface"
           }
          ],
          "table": [
           {
            "cells": {
             "fill": {
              "color": "#EBF0F8"
             },
             "line": {
              "color": "white"
             }
            },
            "header": {
             "fill": {
              "color": "#C8D4E3"
             },
             "line": {
              "color": "white"
             }
            },
            "type": "table"
           }
          ]
         },
         "layout": {
          "annotationdefaults": {
           "arrowcolor": "#2a3f5f",
           "arrowhead": 0,
           "arrowwidth": 1
          },
          "autotypenumbers": "strict",
          "coloraxis": {
           "colorbar": {
            "outlinewidth": 0,
            "ticks": ""
           }
          },
          "colorscale": {
           "diverging": [
            [
             0,
             "#8e0152"
            ],
            [
             0.1,
             "#c51b7d"
            ],
            [
             0.2,
             "#de77ae"
            ],
            [
             0.3,
             "#f1b6da"
            ],
            [
             0.4,
             "#fde0ef"
            ],
            [
             0.5,
             "#f7f7f7"
            ],
            [
             0.6,
             "#e6f5d0"
            ],
            [
             0.7,
             "#b8e186"
            ],
            [
             0.8,
             "#7fbc41"
            ],
            [
             0.9,
             "#4d9221"
            ],
            [
             1,
             "#276419"
            ]
           ],
           "sequential": [
            [
             0,
             "#0d0887"
            ],
            [
             0.1111111111111111,
             "#46039f"
            ],
            [
             0.2222222222222222,
             "#7201a8"
            ],
            [
             0.3333333333333333,
             "#9c179e"
            ],
            [
             0.4444444444444444,
             "#bd3786"
            ],
            [
             0.5555555555555556,
             "#d8576b"
            ],
            [
             0.6666666666666666,
             "#ed7953"
            ],
            [
             0.7777777777777778,
             "#fb9f3a"
            ],
            [
             0.8888888888888888,
             "#fdca26"
            ],
            [
             1,
             "#f0f921"
            ]
           ],
           "sequentialminus": [
            [
             0,
             "#0d0887"
            ],
            [
             0.1111111111111111,
             "#46039f"
            ],
            [
             0.2222222222222222,
             "#7201a8"
            ],
            [
             0.3333333333333333,
             "#9c179e"
            ],
            [
             0.4444444444444444,
             "#bd3786"
            ],
            [
             0.5555555555555556,
             "#d8576b"
            ],
            [
             0.6666666666666666,
             "#ed7953"
            ],
            [
             0.7777777777777778,
             "#fb9f3a"
            ],
            [
             0.8888888888888888,
             "#fdca26"
            ],
            [
             1,
             "#f0f921"
            ]
           ]
          },
          "colorway": [
           "#636efa",
           "#EF553B",
           "#00cc96",
           "#ab63fa",
           "#FFA15A",
           "#19d3f3",
           "#FF6692",
           "#B6E880",
           "#FF97FF",
           "#FECB52"
          ],
          "font": {
           "color": "#2a3f5f"
          },
          "geo": {
           "bgcolor": "white",
           "lakecolor": "white",
           "landcolor": "white",
           "showlakes": true,
           "showland": true,
           "subunitcolor": "#C8D4E3"
          },
          "hoverlabel": {
           "align": "left"
          },
          "hovermode": "closest",
          "mapbox": {
           "style": "light"
          },
          "paper_bgcolor": "white",
          "plot_bgcolor": "white",
          "polar": {
           "angularaxis": {
            "gridcolor": "#EBF0F8",
            "linecolor": "#EBF0F8",
            "ticks": ""
           },
           "bgcolor": "white",
           "radialaxis": {
            "gridcolor": "#EBF0F8",
            "linecolor": "#EBF0F8",
            "ticks": ""
           }
          },
          "scene": {
           "xaxis": {
            "backgroundcolor": "white",
            "gridcolor": "#DFE8F3",
            "gridwidth": 2,
            "linecolor": "#EBF0F8",
            "showbackground": true,
            "ticks": "",
            "zerolinecolor": "#EBF0F8"
           },
           "yaxis": {
            "backgroundcolor": "white",
            "gridcolor": "#DFE8F3",
            "gridwidth": 2,
            "linecolor": "#EBF0F8",
            "showbackground": true,
            "ticks": "",
            "zerolinecolor": "#EBF0F8"
           },
           "zaxis": {
            "backgroundcolor": "white",
            "gridcolor": "#DFE8F3",
            "gridwidth": 2,
            "linecolor": "#EBF0F8",
            "showbackground": true,
            "ticks": "",
            "zerolinecolor": "#EBF0F8"
           }
          },
          "shapedefaults": {
           "line": {
            "color": "#2a3f5f"
           }
          },
          "ternary": {
           "aaxis": {
            "gridcolor": "#DFE8F3",
            "linecolor": "#A2B1C6",
            "ticks": ""
           },
           "baxis": {
            "gridcolor": "#DFE8F3",
            "linecolor": "#A2B1C6",
            "ticks": ""
           },
           "bgcolor": "white",
           "caxis": {
            "gridcolor": "#DFE8F3",
            "linecolor": "#A2B1C6",
            "ticks": ""
           }
          },
          "title": {
           "x": 0.05
          },
          "xaxis": {
           "automargin": true,
           "gridcolor": "#EBF0F8",
           "linecolor": "#EBF0F8",
           "ticks": "",
           "title": {
            "standoff": 15
           },
           "zerolinecolor": "#EBF0F8",
           "zerolinewidth": 2
          },
          "yaxis": {
           "automargin": true,
           "gridcolor": "#EBF0F8",
           "linecolor": "#EBF0F8",
           "ticks": "",
           "title": {
            "standoff": 15
           },
           "zerolinecolor": "#EBF0F8",
           "zerolinewidth": 2
          }
         }
        },
        "title": {
         "text": "Publication Numbers of Ciliopathy Related Genes (2000-2022)"
        },
        "width": 1000,
        "xaxis": {
         "anchor": "y",
         "domain": [
          0,
          1
         ],
         "title": {
          "text": "Publication Years"
         }
        },
        "yaxis": {
         "anchor": "x",
         "domain": [
          0,
          1
         ],
         "title": {
          "text": "Publication Numbers"
         }
        }
       }
      }
     },
     "metadata": {},
     "output_type": "display_data"
    }
   ],
   "source": [
    "import plotly.express as px\n",
    "import pandas as pd\n",
    "import random\n",
    "\n",
    "# 生成测试数据\n",
    "years = list(range(2000, 2023))\n",
    "publications = [random.randint(400, 800) for _ in years]\n",
    "keywords = [f\"Keyword_{year}\" for year in years]\n",
    "numbers = [random.randint(1, 10) for _ in years]\n",
    "\n",
    "data = {'Year': years, 'Publications': publications, 'Keywords': keywords, 'Numbers': numbers}\n",
    "\n",
    "df = pd.DataFrame(data)\n",
    "\n",
    "# 使用plotly进行绘图\n",
    "fig = px.scatter(df, \n",
    "                 x='Year', \n",
    "                 y='Publications', \n",
    "                 size='Publications',\n",
    "                 color='Publications',\n",
    "                 hover_name='Keywords',\n",
    "                 hover_data=['Keywords', 'Numbers'],  # 添加了Keywords和Numbers到悬浮数据中\n",
    "                 size_max=20,\n",
    "                 title='Publication Numbers of Ciliopathy Related Genes (2000-2022)',\n",
    "                 labels={\"Publications\": \"Publication Numbers\", \"Year\": \"Publication Years\"},\n",
    "                 color_continuous_scale=\"Geyser\",  # _r表示颜色反转\n",
    "                #  color_continuous_scale=px.colors.sequential.Viridis\n",
    "                 )\n",
    "\n",
    "fig.update_layout(\n",
    "    # font=dict(family=\"Arial\", size=14),\n",
    "    template=\"plotly_white\",\n",
    "    # template=\"simple_white\",\n",
    "    width=1000,  # 图表宽度\n",
    "    height=600,  # 图表高度\n",
    ")\n",
    "\n",
    "fig.update_traces(marker_symbol='circle')\n",
    "\n",
    "# 显示图表\n",
    "fig.show()\n"
   ]
  },
  {
   "cell_type": "markdown",
   "metadata": {},
   "source": [
    "marker_symbol 参数可以设置不同的标记形状,主要有以下几种:\n",
    "\n",
    "'circle' - 默认的圆形标记\n",
    "'square' - 正方形标记\n",
    "'diamond' - 菱形标记\n",
    "'cross' - 十字标记\n",
    "'x' - X形标记\n",
    "'triangle-up' - 向上三角形标记\n",
    "'triangle-down' - 向下三角形标记\n",
    "'triangle-left' - 左向三角形标记\n",
    "'triangle-right' - 右向三角形标记\n",
    "'pentagon' - 五边形标记\n",
    "'hexagon' - 六边形标记\n",
    "'hexagon2' - 六边形标记的另一种样式\n",
    "'octagon' - 八边形标记\n",
    "'star' - 星形标记\n",
    "'line' - 线条标记\n",
    "'dash' - 短线条标记\n",
    "'dot' - 圆点标记\n",
    "'circle-open' - 空心圆标记\n",
    "'circle-dot' - 圆环点标记\n",
    "'square-open' - 空心方块标记\n",
    "'square-dot' - 带圆点的方块标记"
   ]
  },
  {
   "cell_type": "code",
   "execution_count": 24,
   "metadata": {},
   "outputs": [
    {
     "data": {
      "application/vnd.plotly.v1+json": {
       "config": {
        "plotlyServerURL": "https://plot.ly"
       },
       "data": [
        {
         "customdata": [
          [
           2015,
           1
          ],
          [
           2020,
           1
          ],
          [
           2018,
           1
          ],
          [
           2021,
           1
          ],
          [
           2022,
           1
          ],
          [
           2023,
           1
          ],
          [
           2017,
           1
          ],
          [
           2022,
           1
          ],
          [
           2017,
           1
          ],
          [
           2014,
           1
          ],
          [
           2021,
           1
          ],
          [
           2022,
           1
          ],
          [
           2019,
           1
          ],
          [
           2017,
           1
          ],
          [
           2019,
           1
          ],
          [
           2018,
           1
          ],
          [
           2022,
           1
          ],
          [
           2021,
           1
          ],
          [
           2022,
           1
          ],
          [
           2023,
           1
          ],
          [
           2022,
           1
          ],
          [
           2014,
           1
          ],
          [
           2017,
           1
          ],
          [
           2022,
           1
          ],
          [
           2019,
           1
          ],
          [
           2023,
           1
          ],
          [
           2018,
           1
          ],
          [
           2023,
           1
          ],
          [
           2014,
           1
          ],
          [
           2017,
           1
          ],
          [
           2017,
           1
          ],
          [
           2020,
           1
          ],
          [
           2022,
           1
          ],
          [
           2017,
           1
          ],
          [
           2017,
           1
          ],
          [
           2018,
           1
          ],
          [
           2023,
           1
          ],
          [
           2022,
           1
          ],
          [
           2018,
           1
          ],
          [
           2018,
           1
          ],
          [
           2022,
           1
          ],
          [
           2017,
           1
          ],
          [
           2018,
           1
          ],
          [
           2014,
           1
          ],
          [
           2017,
           2
          ],
          [
           2016,
           1
          ],
          [
           2020,
           1
          ],
          [
           2017,
           1
          ],
          [
           2014,
           1
          ],
          [
           2017,
           1
          ],
          [
           2020,
           1
          ],
          [
           2021,
           1
          ],
          [
           2022,
           1
          ],
          [
           2016,
           1
          ],
          [
           2020,
           1
          ],
          [
           2023,
           1
          ],
          [
           2014,
           1
          ],
          [
           2016,
           1
          ],
          [
           2021,
           1
          ],
          [
           2015,
           1
          ],
          [
           2016,
           1
          ],
          [
           2017,
           1
          ],
          [
           2020,
           1
          ],
          [
           2016,
           1
          ],
          [
           2017,
           1
          ],
          [
           2016,
           1
          ],
          [
           2015,
           1
          ],
          [
           2016,
           1
          ],
          [
           2016,
           1
          ],
          [
           2017,
           1
          ],
          [
           2014,
           1
          ],
          [
           2015,
           1
          ],
          [
           2016,
           1
          ],
          [
           2021,
           1
          ],
          [
           2021,
           1
          ],
          [
           2021,
           1
          ],
          [
           2019,
           1
          ],
          [
           2017,
           1
          ],
          [
           2018,
           1
          ],
          [
           2019,
           1
          ],
          [
           2019,
           1
          ],
          [
           2020,
           1
          ],
          [
           2022,
           1
          ],
          [
           2012,
           1
          ],
          [
           2014,
           1
          ],
          [
           2015,
           1
          ],
          [
           2018,
           1
          ],
          [
           2019,
           1
          ],
          [
           2021,
           1
          ],
          [
           2022,
           2
          ],
          [
           2023,
           2
          ],
          [
           2022,
           1
          ],
          [
           2013,
           1
          ],
          [
           2017,
           1
          ],
          [
           2019,
           1
          ],
          [
           2020,
           1
          ],
          [
           2022,
           1
          ],
          [
           2017,
           1
          ],
          [
           2015,
           1
          ],
          [
           2018,
           1
          ],
          [
           2019,
           1
          ],
          [
           2020,
           1
          ],
          [
           2021,
           1
          ],
          [
           2016,
           1
          ],
          [
           2019,
           1
          ],
          [
           2022,
           1
          ],
          [
           2016,
           1
          ],
          [
           2017,
           1
          ],
          [
           2016,
           1
          ],
          [
           2021,
           1
          ],
          [
           2023,
           1
          ],
          [
           2023,
           1
          ],
          [
           2017,
           1
          ],
          [
           2016,
           1
          ],
          [
           2023,
           1
          ],
          [
           2010,
           1
          ],
          [
           2018,
           2
          ],
          [
           2018,
           1
          ],
          [
           2018,
           2
          ],
          [
           2022,
           1
          ],
          [
           2018,
           1
          ],
          [
           2013,
           1
          ],
          [
           2015,
           1
          ],
          [
           2017,
           1
          ],
          [
           2021,
           1
          ],
          [
           2018,
           1
          ],
          [
           2017,
           1
          ],
          [
           2017,
           1
          ],
          [
           2015,
           1
          ],
          [
           2018,
           1
          ],
          [
           2013,
           1
          ],
          [
           2020,
           1
          ],
          [
           2017,
           1
          ],
          [
           2019,
           1
          ],
          [
           2019,
           1
          ],
          [
           2020,
           1
          ],
          [
           2021,
           1
          ],
          [
           2018,
           1
          ],
          [
           2023,
           1
          ],
          [
           2019,
           1
          ],
          [
           2021,
           1
          ],
          [
           2016,
           1
          ],
          [
           2018,
           1
          ],
          [
           2021,
           1
          ],
          [
           2017,
           1
          ],
          [
           2022,
           1
          ],
          [
           2014,
           1
          ],
          [
           2021,
           1
          ],
          [
           2018,
           3
          ],
          [
           2021,
           1
          ],
          [
           2021,
           1
          ],
          [
           2013,
           1
          ],
          [
           2022,
           1
          ],
          [
           2021,
           1
          ],
          [
           2015,
           1
          ],
          [
           2023,
           1
          ],
          [
           2020,
           1
          ],
          [
           2018,
           1
          ],
          [
           2023,
           1
          ],
          [
           2022,
           1
          ],
          [
           2017,
           1
          ],
          [
           2015,
           1
          ],
          [
           2022,
           1
          ],
          [
           2014,
           1
          ],
          [
           2022,
           1
          ],
          [
           2023,
           1
          ],
          [
           2016,
           1
          ],
          [
           2019,
           1
          ],
          [
           2017,
           1
          ],
          [
           2018,
           1
          ],
          [
           2015,
           1
          ],
          [
           2017,
           1
          ],
          [
           2019,
           1
          ],
          [
           2021,
           1
          ],
          [
           2014,
           1
          ],
          [
           2017,
           3
          ],
          [
           2019,
           1
          ],
          [
           2016,
           1
          ],
          [
           2014,
           1
          ],
          [
           2022,
           1
          ],
          [
           2015,
           1
          ],
          [
           2016,
           1
          ],
          [
           2017,
           1
          ],
          [
           2017,
           1
          ],
          [
           2020,
           1
          ],
          [
           2019,
           1
          ],
          [
           2020,
           1
          ],
          [
           2013,
           1
          ],
          [
           2023,
           1
          ],
          [
           2021,
           1
          ],
          [
           2017,
           1
          ],
          [
           2016,
           2
          ],
          [
           2018,
           1
          ],
          [
           2016,
           1
          ],
          [
           2019,
           1
          ],
          [
           2021,
           2
          ],
          [
           2023,
           1
          ],
          [
           2020,
           1
          ],
          [
           2017,
           1
          ],
          [
           2022,
           1
          ],
          [
           2019,
           1
          ],
          [
           2017,
           1
          ],
          [
           2016,
           1
          ],
          [
           2020,
           1
          ],
          [
           2020,
           1
          ],
          [
           2013,
           1
          ],
          [
           2014,
           1
          ],
          [
           2023,
           1
          ],
          [
           2018,
           1
          ],
          [
           2016,
           1
          ],
          [
           2018,
           1
          ],
          [
           2018,
           1
          ],
          [
           2021,
           1
          ],
          [
           2014,
           1
          ],
          [
           2017,
           1
          ],
          [
           2021,
           1
          ],
          [
           2022,
           1
          ],
          [
           2017,
           1
          ],
          [
           2018,
           1
          ],
          [
           2017,
           1
          ],
          [
           2019,
           2
          ],
          [
           2020,
           1
          ],
          [
           2022,
           3
          ],
          [
           2023,
           1
          ],
          [
           2020,
           1
          ],
          [
           2021,
           1
          ],
          [
           2016,
           1
          ],
          [
           2022,
           1
          ],
          [
           2021,
           1
          ],
          [
           2019,
           1
          ],
          [
           2021,
           1
          ],
          [
           2020,
           1
          ],
          [
           2013,
           1
          ],
          [
           2018,
           1
          ],
          [
           2016,
           1
          ],
          [
           2022,
           1
          ],
          [
           2017,
           1
          ],
          [
           2021,
           1
          ],
          [
           2021,
           1
          ],
          [
           2021,
           1
          ],
          [
           2016,
           1
          ],
          [
           2023,
           1
          ],
          [
           2023,
           1
          ],
          [
           2021,
           1
          ],
          [
           2021,
           1
          ],
          [
           2016,
           1
          ],
          [
           2020,
           1
          ],
          [
           2018,
           1
          ],
          [
           2023,
           1
          ],
          [
           2019,
           2
          ],
          [
           2016,
           1
          ],
          [
           2015,
           1
          ],
          [
           2022,
           1
          ],
          [
           2022,
           1
          ],
          [
           2023,
           1
          ],
          [
           2013,
           1
          ],
          [
           2021,
           1
          ],
          [
           2019,
           1
          ],
          [
           2022,
           1
          ],
          [
           2015,
           1
          ],
          [
           2022,
           1
          ],
          [
           2022,
           1
          ],
          [
           2021,
           1
          ],
          [
           2022,
           1
          ],
          [
           2019,
           1
          ],
          [
           2022,
           1
          ],
          [
           2023,
           1
          ],
          [
           2016,
           1
          ],
          [
           2021,
           1
          ],
          [
           2022,
           1
          ],
          [
           2021,
           1
          ],
          [
           2018,
           1
          ],
          [
           2023,
           1
          ],
          [
           2022,
           1
          ],
          [
           2015,
           1
          ],
          [
           2019,
           1
          ],
          [
           2021,
           1
          ],
          [
           2022,
           1
          ],
          [
           2018,
           1
          ],
          [
           2013,
           1
          ],
          [
           2021,
           1
          ],
          [
           2017,
           1
          ],
          [
           2015,
           1
          ],
          [
           2016,
           1
          ],
          [
           2021,
           1
          ],
          [
           2016,
           1
          ],
          [
           2021,
           1
          ],
          [
           2017,
           1
          ],
          [
           2019,
           1
          ],
          [
           2021,
           1
          ],
          [
           2022,
           1
          ],
          [
           2010,
           1
          ],
          [
           2014,
           1
          ],
          [
           2018,
           1
          ],
          [
           2021,
           1
          ],
          [
           2021,
           1
          ],
          [
           2020,
           1
          ],
          [
           2018,
           1
          ],
          [
           2016,
           1
          ],
          [
           2022,
           1
          ],
          [
           2022,
           1
          ],
          [
           2022,
           1
          ],
          [
           2022,
           1
          ],
          [
           2023,
           1
          ],
          [
           2014,
           1
          ],
          [
           2022,
           1
          ],
          [
           2018,
           1
          ],
          [
           2016,
           1
          ],
          [
           2021,
           1
          ],
          [
           2021,
           1
          ],
          [
           2018,
           1
          ],
          [
           2022,
           1
          ],
          [
           2023,
           1
          ],
          [
           2010,
           1
          ],
          [
           2014,
           2
          ],
          [
           2016,
           4
          ],
          [
           2017,
           1
          ],
          [
           2018,
           8
          ],
          [
           2020,
           1
          ],
          [
           2021,
           4
          ],
          [
           2022,
           1
          ],
          [
           2023,
           1
          ],
          [
           2017,
           1
          ],
          [
           2018,
           1
          ],
          [
           2023,
           1
          ],
          [
           2018,
           1
          ],
          [
           2016,
           3
          ],
          [
           2022,
           1
          ],
          [
           2022,
           1
          ],
          [
           2014,
           1
          ],
          [
           2021,
           1
          ],
          [
           2016,
           1
          ],
          [
           2017,
           2
          ],
          [
           2018,
           1
          ],
          [
           2022,
           1
          ],
          [
           2017,
           2
          ],
          [
           2020,
           1
          ],
          [
           2021,
           1
          ],
          [
           2021,
           1
          ],
          [
           2021,
           1
          ],
          [
           2021,
           1
          ],
          [
           2015,
           1
          ],
          [
           2017,
           2
          ],
          [
           2020,
           1
          ],
          [
           2023,
           1
          ],
          [
           2021,
           1
          ],
          [
           2022,
           1
          ],
          [
           2021,
           1
          ],
          [
           2017,
           2
          ],
          [
           2018,
           1
          ],
          [
           2019,
           1
          ],
          [
           2020,
           1
          ],
          [
           2021,
           1
          ],
          [
           2022,
           1
          ],
          [
           2023,
           1
          ],
          [
           2013,
           1
          ],
          [
           2023,
           1
          ],
          [
           2017,
           1
          ],
          [
           2019,
           1
          ],
          [
           2021,
           1
          ],
          [
           2022,
           1
          ],
          [
           2019,
           1
          ],
          [
           2019,
           1
          ],
          [
           2022,
           1
          ],
          [
           2014,
           1
          ],
          [
           2022,
           1
          ],
          [
           2022,
           1
          ],
          [
           2022,
           1
          ],
          [
           2021,
           1
          ],
          [
           2015,
           1
          ],
          [
           2010,
           1
          ],
          [
           2018,
           1
          ],
          [
           2019,
           1
          ],
          [
           2020,
           1
          ],
          [
           2021,
           2
          ],
          [
           2022,
           2
          ],
          [
           2022,
           1
          ],
          [
           2020,
           1
          ],
          [
           2019,
           1
          ],
          [
           2020,
           1
          ],
          [
           2016,
           1
          ],
          [
           2015,
           1
          ],
          [
           2017,
           1
          ],
          [
           2021,
           1
          ],
          [
           2015,
           1
          ],
          [
           2021,
           1
          ],
          [
           2022,
           2
          ],
          [
           2020,
           1
          ],
          [
           2023,
           1
          ],
          [
           2018,
           1
          ],
          [
           2015,
           1
          ],
          [
           2017,
           1
          ],
          [
           2020,
           1
          ],
          [
           2019,
           1
          ],
          [
           2017,
           1
          ],
          [
           2017,
           1
          ],
          [
           2021,
           2
          ],
          [
           2023,
           2
          ],
          [
           2013,
           2
          ],
          [
           2014,
           2
          ],
          [
           2015,
           3
          ],
          [
           2016,
           4
          ],
          [
           2017,
           8
          ],
          [
           2018,
           7
          ],
          [
           2019,
           5
          ],
          [
           2020,
           5
          ],
          [
           2021,
           2
          ],
          [
           2022,
           9
          ],
          [
           2023,
           2
          ],
          [
           2020,
           1
          ],
          [
           2018,
           1
          ],
          [
           2014,
           1
          ],
          [
           2022,
           1
          ],
          [
           2014,
           1
          ],
          [
           2021,
           1
          ],
          [
           2021,
           1
          ],
          [
           2021,
           1
          ],
          [
           2022,
           1
          ],
          [
           2013,
           1
          ],
          [
           2021,
           1
          ],
          [
           2017,
           1
          ],
          [
           2017,
           1
          ],
          [
           2016,
           1
          ],
          [
           2013,
           1
          ],
          [
           2022,
           1
          ],
          [
           2016,
           1
          ],
          [
           2018,
           1
          ],
          [
           2017,
           1
          ],
          [
           2018,
           1
          ],
          [
           2021,
           1
          ],
          [
           2022,
           1
          ],
          [
           2017,
           1
          ],
          [
           2013,
           1
          ],
          [
           2019,
           1
          ],
          [
           2016,
           1
          ],
          [
           2021,
           1
          ],
          [
           2020,
           1
          ],
          [
           2022,
           1
          ],
          [
           2018,
           1
          ],
          [
           2014,
           1
          ],
          [
           2017,
           1
          ],
          [
           2017,
           1
          ],
          [
           2015,
           1
          ],
          [
           2019,
           1
          ],
          [
           2018,
           1
          ],
          [
           2021,
           1
          ],
          [
           2018,
           1
          ],
          [
           2016,
           1
          ],
          [
           2018,
           1
          ],
          [
           2017,
           1
          ],
          [
           2017,
           1
          ],
          [
           2013,
           1
          ],
          [
           2015,
           1
          ],
          [
           2016,
           1
          ],
          [
           2017,
           2
          ],
          [
           2018,
           1
          ],
          [
           2019,
           1
          ],
          [
           2021,
           1
          ],
          [
           2018,
           1
          ],
          [
           2014,
           1
          ],
          [
           2018,
           1
          ],
          [
           2021,
           1
          ],
          [
           2020,
           1
          ],
          [
           2018,
           1
          ],
          [
           2015,
           1
          ],
          [
           2016,
           1
          ],
          [
           2017,
           1
          ],
          [
           2018,
           1
          ],
          [
           2023,
           1
          ],
          [
           2017,
           1
          ],
          [
           2021,
           1
          ],
          [
           2019,
           1
          ],
          [
           2019,
           1
          ],
          [
           2014,
           1
          ],
          [
           2023,
           1
          ],
          [
           2021,
           1
          ],
          [
           2017,
           1
          ],
          [
           2022,
           1
          ],
          [
           2017,
           1
          ],
          [
           2021,
           1
          ],
          [
           2021,
           1
          ],
          [
           2015,
           1
          ],
          [
           2020,
           1
          ],
          [
           2021,
           1
          ],
          [
           2017,
           2
          ],
          [
           2020,
           2
          ],
          [
           2021,
           1
          ],
          [
           2014,
           1
          ],
          [
           2016,
           1
          ],
          [
           2019,
           1
          ],
          [
           2020,
           1
          ],
          [
           2015,
           1
          ],
          [
           2021,
           2
          ],
          [
           2016,
           1
          ],
          [
           2021,
           1
          ],
          [
           2016,
           1
          ],
          [
           2022,
           1
          ],
          [
           2020,
           1
          ],
          [
           2017,
           1
          ],
          [
           2022,
           1
          ],
          [
           2021,
           1
          ],
          [
           2022,
           1
          ],
          [
           2022,
           1
          ],
          [
           2022,
           1
          ],
          [
           2013,
           1
          ],
          [
           2018,
           1
          ],
          [
           2022,
           1
          ],
          [
           2018,
           1
          ],
          [
           2013,
           1
          ],
          [
           2020,
           1
          ],
          [
           2023,
           1
          ],
          [
           2019,
           1
          ],
          [
           2022,
           1
          ],
          [
           2015,
           1
          ],
          [
           2016,
           1
          ],
          [
           2018,
           1
          ],
          [
           2019,
           1
          ],
          [
           2018,
           1
          ],
          [
           2019,
           1
          ],
          [
           2023,
           1
          ],
          [
           2018,
           1
          ],
          [
           2023,
           1
          ],
          [
           2016,
           1
          ],
          [
           2023,
           1
          ],
          [
           2016,
           1
          ],
          [
           2021,
           1
          ],
          [
           2023,
           1
          ],
          [
           2021,
           1
          ],
          [
           2014,
           1
          ],
          [
           2021,
           1
          ],
          [
           2017,
           1
          ],
          [
           2017,
           1
          ],
          [
           2016,
           1
          ],
          [
           2017,
           1
          ],
          [
           2010,
           1
          ],
          [
           2014,
           1
          ],
          [
           2022,
           1
          ],
          [
           2018,
           1
          ],
          [
           2019,
           1
          ],
          [
           2020,
           1
          ],
          [
           2022,
           1
          ],
          [
           2020,
           1
          ],
          [
           2014,
           1
          ],
          [
           2016,
           1
          ],
          [
           2019,
           1
          ],
          [
           2020,
           1
          ],
          [
           2023,
           1
          ],
          [
           2016,
           1
          ],
          [
           2022,
           1
          ],
          [
           2017,
           1
          ],
          [
           2016,
           1
          ],
          [
           2019,
           1
          ],
          [
           2022,
           1
          ],
          [
           2016,
           1
          ],
          [
           2017,
           1
          ],
          [
           2015,
           1
          ],
          [
           2021,
           1
          ],
          [
           2022,
           1
          ],
          [
           2018,
           1
          ],
          [
           2018,
           2
          ],
          [
           2023,
           1
          ],
          [
           2013,
           1
          ],
          [
           2012,
           1
          ],
          [
           2015,
           1
          ],
          [
           2017,
           1
          ],
          [
           2019,
           1
          ],
          [
           2021,
           1
          ],
          [
           2022,
           2
          ],
          [
           2016,
           1
          ],
          [
           2017,
           1
          ],
          [
           2015,
           2
          ],
          [
           2017,
           1
          ],
          [
           2020,
           1
          ],
          [
           2021,
           1
          ],
          [
           2022,
           1
          ],
          [
           2023,
           1
          ],
          [
           2023,
           1
          ],
          [
           2021,
           1
          ],
          [
           2016,
           1
          ],
          [
           2022,
           1
          ],
          [
           2019,
           1
          ],
          [
           2020,
           1
          ],
          [
           2021,
           1
          ],
          [
           2023,
           1
          ],
          [
           2019,
           2
          ],
          [
           2020,
           1
          ],
          [
           2021,
           1
          ],
          [
           2016,
           1
          ],
          [
           2023,
           1
          ],
          [
           2020,
           1
          ],
          [
           2017,
           1
          ],
          [
           2015,
           1
          ],
          [
           2018,
           1
          ],
          [
           2022,
           1
          ],
          [
           2018,
           1
          ],
          [
           2023,
           1
          ],
          [
           2018,
           1
          ],
          [
           2022,
           1
          ],
          [
           2018,
           1
          ],
          [
           2021,
           1
          ],
          [
           2022,
           1
          ],
          [
           2017,
           1
          ],
          [
           2013,
           1
          ],
          [
           2021,
           1
          ],
          [
           2020,
           1
          ],
          [
           2017,
           2
          ],
          [
           2020,
           1
          ],
          [
           2022,
           1
          ],
          [
           2015,
           1
          ],
          [
           2017,
           1
          ],
          [
           2021,
           1
          ],
          [
           2017,
           1
          ],
          [
           2022,
           1
          ],
          [
           2022,
           1
          ],
          [
           2022,
           1
          ],
          [
           2017,
           1
          ],
          [
           2021,
           1
          ],
          [
           2018,
           1
          ],
          [
           2023,
           1
          ],
          [
           2015,
           1
          ],
          [
           2018,
           1
          ],
          [
           2021,
           1
          ],
          [
           2023,
           1
          ],
          [
           2018,
           1
          ],
          [
           2015,
           1
          ],
          [
           2014,
           1
          ],
          [
           2015,
           1
          ],
          [
           2016,
           2
          ],
          [
           2021,
           1
          ],
          [
           2019,
           1
          ],
          [
           2012,
           1
          ],
          [
           2018,
           1
          ],
          [
           2020,
           1
          ],
          [
           2021,
           1
          ],
          [
           2023,
           1
          ],
          [
           2018,
           1
          ],
          [
           2019,
           1
          ],
          [
           2019,
           1
          ],
          [
           2021,
           1
          ],
          [
           2017,
           1
          ],
          [
           2021,
           1
          ],
          [
           2022,
           1
          ],
          [
           2017,
           1
          ],
          [
           2020,
           2
          ],
          [
           2021,
           1
          ],
          [
           2019,
           2
          ],
          [
           2016,
           1
          ],
          [
           2021,
           1
          ],
          [
           2022,
           1
          ],
          [
           2023,
           1
          ]
         ],
         "hovertemplate": "<b>%{hovertext}</b><br><br>Year_jittered=%{x}<br>Count_jittered=%{y}<br>Numbers=%{marker.color}<br>Years=%{customdata[0]}<extra></extra>",
         "hovertext": [
          "Aagal",
          "Aaox",
          "Abts",
          "Acidic xylooligosaccharides",
          "Active site segment",
          "Acute lymphoblastic leukemia",
          "Additives",
          "Adjuvant",
          "Agaricus bisporus",
          "Agarose",
          "Alkalistable",
          "Alum",
          "Amino acid composition",
          "Amperometric response",
          "Amylose",
          "Amyr",
          "Antibacterial activity",
          "Anticancer",
          "Antifungal activity",
          "Antifungal susceptibility testing",
          "Antigen",
          "Antioxidant",
          "Antioxidant",
          "Antioxidant",
          "Antioxidant peptide",
          "Antioxidase",
          "Aqueous systems",
          "Artp",
          "Ascomycetous strains",
          "Ascomycota",
          "Aspergillus fumigatus",
          "Aspergillus niger",
          "Aspergillus niger",
          "Aspergillus terreus",
          "Bacterial cellulose",
          "Bacterial cellulose",
          "Bacterial laccase",
          "Baculovirus",
          "Bamboo powder",
          "Bamboo tablets",
          "Base editing",
          "Basidiomycota",
          "Bicovalent",
          "Bioaugmentation",
          "Biocatalysis",
          "Biocatalyzed polymerization",
          "Biochemicals",
          "Bioethanol",
          "Biofuels",
          "Biofuels",
          "Biofuels",
          "Biografting",
          "Biomanufacturing",
          "Biomass",
          "Biomass",
          "Biomass conversion",
          "Biomass degradation",
          "Biomolecules",
          "Bioprospecting",
          "Biorefinery",
          "Biorefinery",
          "Biorefinery",
          "Biorefinery",
          "Biotechnological applications",
          "Butyl ferulate",
          "Carbohydrate",
          "Carbohydrate active enzyme database",
          "Carbohydrate processing",
          "Catechol",
          "Catechol oxidase",
          "Cazy",
          "Cazy",
          "Cazy",
          "Cazyme gene regulation",
          "Cazymes",
          "Cbb cycle",
          "Cell factory",
          "Cellobiohydrolase",
          "Cellobiohydrolase",
          "Cellobiohydrolase",
          "Cellobiose",
          "Cellobiose",
          "Cellobiose",
          "Cellulase",
          "Cellulase",
          "Cellulase",
          "Cellulase",
          "Cellulase",
          "Cellulase",
          "Cellulase",
          "Cellulase",
          "Cellulase production",
          "Cellulases",
          "Cellulases",
          "Cellulases",
          "Cellulases",
          "Cellulases",
          "Cellulolytic cocktail improvement",
          "Cellulose",
          "Cellulose",
          "Cellulose",
          "Cellulose",
          "Cellulose",
          "Cellulose degradation",
          "Cellulose degradation",
          "Cellulose degradation",
          "Cellulose hydrolysis",
          "Cellulose hydrolysis",
          "Cellulose oxidation",
          "Cellulose saccharification",
          "Cellulose saccharification",
          "Central composite design",
          "Chaetosartorya cremea",
          "Characterization",
          "Characterization",
          "Chemical modification",
          "Chitin",
          "Chitinase",
          "Chitosan",
          "Chitosan",
          "Chitosan hydrogel",
          "Circular dichroism",
          "Class ii peroxidase",
          "Cloning",
          "Coating",
          "Coatings",
          "Codon optimization",
          "Collagenolytic protease",
          "Computational prediction",
          "Conductive cotton",
          "Conformation",
          "Consolidated bioprocessing",
          "Constitutive expression",
          "Copper",
          "Copper monooxygenase",
          "Corn stover",
          "Coupling",
          "Covalent immobilization",
          "Covalent immobilization",
          "Crispr",
          "Cryopreservation",
          "Crystal structure",
          "Crystal structure",
          "Crystallization",
          "Cyclic voltammetry",
          "Cytosine base editor",
          "Cytotoxicity",
          "Decalin",
          "Decolorization",
          "Decolorization",
          "Deep eutectic solvent",
          "Degree of substitution",
          "Depolymerisation",
          "Different fungal species",
          "Differential scanning calorimetry",
          "Digestibility enhancers",
          "Direct electron transfer",
          "Directed evolution",
          "Disulfide bond",
          "Docking simulation",
          "Dpph",
          "Dsc",
          "Dyadic",
          "Dye",
          "Efficacy",
          "Efficacy",
          "Electron donor",
          "Electroporation",
          "Elenolic acid",
          "Elimination",
          "Endoglucanase",
          "Endoglucanase",
          "Endoxylanase",
          "Endoxylanase",
          "Enzymatic deacetylation",
          "Enzymatic hydrolysis",
          "Enzymatic hydrolysis",
          "Enzymatic oligomerization",
          "Enzymatic oxidation",
          "Enzymatic oxidation",
          "Enzymatic saccharification",
          "Enzymatic saccharification",
          "Enzymatic saccharification",
          "Enzymatic tailoring",
          "Enzyme",
          "Enzyme activity",
          "Enzyme assay",
          "Enzyme electrodes",
          "Enzyme engineering",
          "Enzyme hypersecretion",
          "Enzyme immobilisation",
          "Enzyme immobilization",
          "Enzyme immobilization",
          "Enzyme mixture",
          "Enzyme stability",
          "Enzymes",
          "Enzymes",
          "Epinephrine",
          "Epr",
          "Er stress",
          "Escherichia coli",
          "Esterification",
          "Ethanol",
          "Ethanol",
          "Ethanol fermentation",
          "Ethanol tolerance",
          "Ethyl ferulate",
          "Eucalypt",
          "Eucalyptus globulus",
          "Experimental design",
          "Expression",
          "Expression optimization",
          "Extremozyme",
          "Ferulic acid",
          "Ferulic acid",
          "Ferulic acid",
          "Ferulic acid",
          "Feruloyl esterase",
          "Feruloyl esterase",
          "Filamentous fungi",
          "Filamentous fungi",
          "Filamentous fungi",
          "Filamentous fungi",
          "Filamentous fungi",
          "Filamentous fungus",
          "Fixed bioreactor",
          "Flavonoids",
          "Flow cytometry",
          "Fluorophenol",
          "Food protein",
          "Freezing",
          "Ftacv",
          "Fuel cells",
          "Fumaric acid",
          "Fumed silica nanoparticles",
          "Functional properties",
          "Functionalization",
          "Functionalization",
          "Fungal biotechnology",
          "Fungal enzyme production",
          "Fungal enzymes",
          "Fungal growth",
          "Fungal laccase",
          "Galactose transport",
          "Galactose utilization",
          "Gallic acid",
          "Gene editing",
          "Gene expression",
          "Gene regulation",
          "Genome editing",
          "Glucan",
          "Glucoamylase",
          "Glucoamylase",
          "Glucosamine",
          "Glucose and ethanol tolerance",
          "Glucose oxidation",
          "Glucuronic acid recognition",
          "Glucuronoxylan",
          "Glycans",
          "Glycerol",
          "Glycolysis",
          "Glycoprotein",
          "Glycoside hydrolase",
          "Glycoside hydrolase",
          "Glycoside hydrolases",
          "Glycosylation",
          "Grafting",
          "Green processing",
          "Growth kinetics",
          "Guaiacol",
          "Gum arabic",
          "Hbt",
          "Hemicellulase",
          "Hermetia illucens",
          "Heterologous production",
          "Heterologous production",
          "Heterologous protein expression",
          "Homology modelling",
          "Hpi",
          "Hpsec",
          "Hybrid",
          "Hydrogen peroxide",
          "Hydrolysis",
          "Hydrolysis",
          "Hydrolytic activity",
          "Hydrolytic enzymes",
          "Hydrophobicity",
          "Hydroxytyrosol",
          "Hygromycin b phosphotransferase gene hph",
          "Hymenaea courbaril",
          "Igg",
          "Immobilisation",
          "Immobilization",
          "Immobilization",
          "Immobilization",
          "Improved production",
          "In vivo grna transcription",
          "Industrially relevant fungi",
          "Infant",
          "Influenza vaccine",
          "Insect",
          "Insect cells",
          "Intranasal challenge",
          "Invasive pulmonary infection",
          "Ionic liquid",
          "Ionic liquid",
          "Isocyanide",
          "Itraconazole",
          "Kinetic analysis",
          "Kinetics",
          "Kraft lignin",
          "Kraft lignin",
          "Kraft lignin",
          "Laccase",
          "Laccase",
          "Laccase",
          "Laccase",
          "Laccase",
          "Laccase",
          "Laccase",
          "Laccase",
          "Laccase",
          "Laccase kinetics",
          "Laccases",
          "Laea",
          "Library",
          "Lignin",
          "Lignin",
          "Lignin degrading enzymes",
          "Lignocellulolytic enzymes",
          "Lignocellulolytic enzymes",
          "Lignocellulose",
          "Lignocellulose",
          "Lignocellulose",
          "Lignocellulose",
          "Lignocellulosic biomass",
          "Lignocellulosic biomass",
          "Lignocellulosic biomass",
          "Lignosulfonate",
          "Logistic model",
          "Low temperature",
          "Lpmo",
          "Lpmo",
          "Lpmo",
          "Lpmo",
          "Lpmo biocatalysis",
          "Lpmos",
          "Lyophilization",
          "Lytic polysaccharide monooxygenase",
          "Lytic polysaccharide monooxygenase",
          "Lytic polysaccharide monooxygenase",
          "Lytic polysaccharide monooxygenase",
          "Lytic polysaccharide monooxygenase",
          "Lytic polysaccharide monooxygenase",
          "Lytic polysaccharide monooxygenase",
          "Macromolecular assemblages",
          "Malate export",
          "Malbranchea cinamomea",
          "Malic acid",
          "Malic acid",
          "Malonic acid",
          "Marine fungi",
          "Marker recycling",
          "Mass spectrometric fragmentation",
          "Mass spectrometry",
          "Md simulation",
          "Mdf",
          "Mediator",
          "Melanin",
          "Melting temperature",
          "Mesoporous silicates",
          "Metabolic engineering",
          "Metabolic engineering",
          "Metabolic engineering",
          "Metabolic engineering",
          "Metabolic engineering",
          "Metabolic regulation",
          "Metal ion effect",
          "Metalloprotein",
          "Mhglaa",
          "Micropollutants",
          "Microwaves",
          "Mode of action",
          "Mode of action",
          "Modeling",
          "Modification",
          "Molecular docking",
          "Molecular dynamics",
          "Molecular mechanism",
          "Morphine",
          "Mtgal",
          "Mtperii peroxidase",
          "Multicopper oxidase",
          "Multiplexing",
          "Multivariate analysis",
          "Myceliophthora",
          "Myceliophthora",
          "Myceliophthora",
          "Myceliophthora thermophila",
          "Myceliophthora thermophila",
          "Myceliophthora thermophila",
          "Myceliophthora thermophila",
          "Myceliophthora thermophila",
          "Myceliophthora thermophila",
          "Myceliophthora thermophila",
          "Myceliophthora thermophila",
          "Myceliophthora thermophila",
          "Myceliophthora thermophila",
          "Myceliophthora thermophila",
          "Myceliophthora thermophile",
          "Myceliophthora thermophile laccase",
          "Myceliophtora sp",
          "Mycoprotein",
          "Mycoremediation",
          "Nanocellulose",
          "Natural mediators",
          "Neurospora crassa",
          "Neutralizing antibodies",
          "Nucleocytoplasmic transport",
          "Nutrition",
          "Oleuropein",
          "Oleuropein aglycones",
          "Oligosaccharide",
          "Overexpression",
          "Oxaloacetic acid",
          "Oxidase",
          "Oxidase",
          "Oxidation",
          "Oxidation",
          "Oxidation product",
          "Oxidative cleavage",
          "Oxygen consumption rate",
          "Oxygen reduction",
          "Oxygenase",
          "Ozonolysis",
          "Packing density",
          "Paenibacillus odorifer",
          "Pandemic",
          "Pbmcs",
          "Pcbs",
          "Pectin",
          "Penicillium citrinum",
          "Penicillium verruculosum",
          "Pentose catabolism",
          "Phenol biodegradation",
          "Phenol grafting",
          "Phenolic compound extraction",
          "Phenolics",
          "Phenolics",
          "Phenols",
          "Phenoxy radicals in lignin",
          "Pichia pastoris",
          "Pichia pastoris",
          "Pichia pastoris",
          "Pichia pastoris",
          "Pichia pastoris",
          "Pichia pastoris",
          "Pichia pastoris",
          "Pilot scale",
          "Plant biomass",
          "Plant biomass",
          "Plant biomass",
          "Platform",
          "Polyaniline",
          "Polycatechol",
          "Polymerisation",
          "Polymerization",
          "Polymerization",
          "Polymerization",
          "Polyphenol oxidase",
          "Polyphenol oxidase",
          "Polysaccharide",
          "Polysaccharide monooxygenase",
          "Position of acetyl groups",
          "Poultry",
          "Poultry feed",
          "Ppo",
          "Precise engineering",
          "Prenyl ferulate",
          "Preservation",
          "Pretreated corn cobs",
          "Pretreatment",
          "Pretreatment",
          "Process optimization",
          "Processivity",
          "Processivity",
          "Production",
          "Productivity",
          "Prophylaxis",
          "Protease",
          "Protease",
          "Protein design",
          "Protein engineering",
          "Protein evolution",
          "Purification",
          "Pyrogallol",
          "Rbd",
          "Reaction kinetics",
          "Real time assay",
          "Receptor binding domain",
          "Recombinant cellobiohydrolase",
          "Recombinant protein",
          "Recombinant protein expression",
          "Recombinant protein subunit vaccine",
          "Redox chemistry",
          "Reducing agent",
          "Reduction",
          "Reductive tca",
          "Renatured xanthan",
          "Response surface methodology",
          "Response surface methodology",
          "Rice straw",
          "Rmn",
          "Rna interference",
          "Rna polymerase",
          "Rnai",
          "Rnp",
          "Saccharification",
          "Saccharification",
          "Saccharification",
          "Saccharomyces cerevisiae",
          "Safety",
          "Secondary effluent",
          "Secretome",
          "Secretome composition",
          "Sequential solid state and submerged cultivation",
          "Signal transduction",
          "Single and mixed fungal species cultivation",
          "Solid media",
          "Solvent tolerance",
          "Soy polysaccharides",
          "Soy spent flake",
          "Sporotrichum thermophile",
          "Spray dryer",
          "Stabilisation",
          "Stability",
          "Stability",
          "Starch",
          "Starch",
          "Structural analysis",
          "Structure modelling",
          "Sugar uptake",
          "Sugarcane bagasse",
          "Sugarcane bagasse",
          "Sugarcane bagasse",
          "Sugarcane bagasse",
          "Sugarcane bagasse",
          "Superficial fungal infections",
          "Surface modifacation",
          "Swelling",
          "Synergism",
          "Synergy",
          "Synergy",
          "Systemic fungal infections",
          "Talaromyces leycettanus",
          "Talaromyces stipitatus galactanase",
          "Tamarindus indica",
          "Targeted influenza hemagglutinin",
          "Tempo",
          "Textile dyes",
          "Thermodynamics",
          "Thermophilic",
          "Thermophilic fungi",
          "Thermophilic fungi",
          "Thermophilic fungi",
          "Thermophilic fungi",
          "Thermophilic fungi",
          "Thermophilic fungi",
          "Thermophilic mould",
          "Thermophilic mould",
          "Thermostability",
          "Thermostability",
          "Thermostability",
          "Thermostability",
          "Thermostability",
          "Thermostability",
          "Thermostable",
          "Thermostable cellulose",
          "Thermostable enzymes",
          "Thermothelomyces heterothallica",
          "Thermothelomyces thermophila",
          "Thermothelomyces thermophila",
          "Thermothelomyces thermophila",
          "Thermothelomyces thermophila",
          "Thermothelomyces thermophilus",
          "Thermothelomyces thermophilus",
          "Thermothelomyces thermophilus",
          "Thermotolerant",
          "Thermotolerant mutant",
          "Thielavia australiensis",
          "Thielavia terrestris",
          "Tm",
          "Toxicity",
          "Toxicology",
          "Trametes versicolor",
          "Transceptor",
          "Transcription factor",
          "Transcription factor",
          "Transcriptomic profiles",
          "Transcriptomic profiles",
          "Transcriptomics",
          "Transesterification",
          "Transglycosylation",
          "Transporter",
          "Trehalase",
          "Trichoderma reesei",
          "Trichoderma reesei",
          "Trimeric influenza hemagglutinin",
          "Tsgal",
          "Tyrosinase",
          "Tyrosinase",
          "Ultrasound",
          "Vaccine",
          "Variants of concern",
          "Virus",
          "Viscosity",
          "Viscosity reduction",
          "Wastewater",
          "Weimberg pathway",
          "Wild type",
          "Wood",
          "Wood hydrophobization",
          "Wood hydrophobization",
          "Wound enzymes",
          "Wt",
          "Xanthan conformation",
          "Xylan",
          "Xylan",
          "Xylan",
          "Xylan degradation",
          "Xylanase",
          "Xylanase",
          "Xylanase",
          "Xylanase",
          "Xylanase",
          "Xylanases",
          "Xylanolytic regulator",
          "Xylobiohydrolase",
          "Xylobiohydrolase",
          "Xyloglucan",
          "Xyloglucan",
          "Xyloglucan",
          "Xyloglucanase",
          "Xyloglucanase",
          "Xyloglucanase",
          "Xylooligosaccharides",
          "Xylose",
          "Xylose",
          "Zoonotic",
          "Zootechnical additives"
         ],
         "legendgroup": "",
         "marker": {
          "color": [
           1,
           1,
           1,
           1,
           1,
           1,
           1,
           1,
           1,
           1,
           1,
           1,
           1,
           1,
           1,
           1,
           1,
           1,
           1,
           1,
           1,
           1,
           1,
           1,
           1,
           1,
           1,
           1,
           1,
           1,
           1,
           1,
           1,
           1,
           1,
           1,
           1,
           1,
           1,
           1,
           1,
           1,
           1,
           1,
           2,
           1,
           1,
           1,
           1,
           1,
           1,
           1,
           1,
           1,
           1,
           1,
           1,
           1,
           1,
           1,
           1,
           1,
           1,
           1,
           1,
           1,
           1,
           1,
           1,
           1,
           1,
           1,
           1,
           1,
           1,
           1,
           1,
           1,
           1,
           1,
           1,
           1,
           1,
           1,
           1,
           1,
           1,
           1,
           1,
           2,
           2,
           1,
           1,
           1,
           1,
           1,
           1,
           1,
           1,
           1,
           1,
           1,
           1,
           1,
           1,
           1,
           1,
           1,
           1,
           1,
           1,
           1,
           1,
           1,
           1,
           1,
           2,
           1,
           2,
           1,
           1,
           1,
           1,
           1,
           1,
           1,
           1,
           1,
           1,
           1,
           1,
           1,
           1,
           1,
           1,
           1,
           1,
           1,
           1,
           1,
           1,
           1,
           1,
           1,
           1,
           1,
           1,
           1,
           3,
           1,
           1,
           1,
           1,
           1,
           1,
           1,
           1,
           1,
           1,
           1,
           1,
           1,
           1,
           1,
           1,
           1,
           1,
           1,
           1,
           1,
           1,
           1,
           1,
           1,
           1,
           3,
           1,
           1,
           1,
           1,
           1,
           1,
           1,
           1,
           1,
           1,
           1,
           1,
           1,
           1,
           1,
           2,
           1,
           1,
           1,
           2,
           1,
           1,
           1,
           1,
           1,
           1,
           1,
           1,
           1,
           1,
           1,
           1,
           1,
           1,
           1,
           1,
           1,
           1,
           1,
           1,
           1,
           1,
           1,
           1,
           2,
           1,
           3,
           1,
           1,
           1,
           1,
           1,
           1,
           1,
           1,
           1,
           1,
           1,
           1,
           1,
           1,
           1,
           1,
           1,
           1,
           1,
           1,
           1,
           1,
           1,
           1,
           1,
           1,
           2,
           1,
           1,
           1,
           1,
           1,
           1,
           1,
           1,
           1,
           1,
           1,
           1,
           1,
           1,
           1,
           1,
           1,
           1,
           1,
           1,
           1,
           1,
           1,
           1,
           1,
           1,
           1,
           1,
           1,
           1,
           1,
           1,
           1,
           1,
           1,
           1,
           1,
           1,
           1,
           1,
           1,
           1,
           1,
           1,
           1,
           1,
           1,
           1,
           1,
           1,
           1,
           1,
           1,
           1,
           1,
           1,
           1,
           1,
           1,
           1,
           1,
           1,
           1,
           1,
           2,
           4,
           1,
           8,
           1,
           4,
           1,
           1,
           1,
           1,
           1,
           1,
           3,
           1,
           1,
           1,
           1,
           1,
           2,
           1,
           1,
           2,
           1,
           1,
           1,
           1,
           1,
           1,
           2,
           1,
           1,
           1,
           1,
           1,
           2,
           1,
           1,
           1,
           1,
           1,
           1,
           1,
           1,
           1,
           1,
           1,
           1,
           1,
           1,
           1,
           1,
           1,
           1,
           1,
           1,
           1,
           1,
           1,
           1,
           1,
           2,
           2,
           1,
           1,
           1,
           1,
           1,
           1,
           1,
           1,
           1,
           1,
           2,
           1,
           1,
           1,
           1,
           1,
           1,
           1,
           1,
           1,
           2,
           2,
           2,
           2,
           3,
           4,
           8,
           7,
           5,
           5,
           2,
           9,
           2,
           1,
           1,
           1,
           1,
           1,
           1,
           1,
           1,
           1,
           1,
           1,
           1,
           1,
           1,
           1,
           1,
           1,
           1,
           1,
           1,
           1,
           1,
           1,
           1,
           1,
           1,
           1,
           1,
           1,
           1,
           1,
           1,
           1,
           1,
           1,
           1,
           1,
           1,
           1,
           1,
           1,
           1,
           1,
           1,
           1,
           2,
           1,
           1,
           1,
           1,
           1,
           1,
           1,
           1,
           1,
           1,
           1,
           1,
           1,
           1,
           1,
           1,
           1,
           1,
           1,
           1,
           1,
           1,
           1,
           1,
           1,
           1,
           1,
           1,
           1,
           2,
           2,
           1,
           1,
           1,
           1,
           1,
           1,
           2,
           1,
           1,
           1,
           1,
           1,
           1,
           1,
           1,
           1,
           1,
           1,
           1,
           1,
           1,
           1,
           1,
           1,
           1,
           1,
           1,
           1,
           1,
           1,
           1,
           1,
           1,
           1,
           1,
           1,
           1,
           1,
           1,
           1,
           1,
           1,
           1,
           1,
           1,
           1,
           1,
           1,
           1,
           1,
           1,
           1,
           1,
           1,
           1,
           1,
           1,
           1,
           1,
           1,
           1,
           1,
           1,
           1,
           1,
           1,
           1,
           1,
           1,
           1,
           1,
           1,
           1,
           2,
           1,
           1,
           1,
           1,
           1,
           1,
           1,
           2,
           1,
           1,
           2,
           1,
           1,
           1,
           1,
           1,
           1,
           1,
           1,
           1,
           1,
           1,
           1,
           1,
           2,
           1,
           1,
           1,
           1,
           1,
           1,
           1,
           1,
           1,
           1,
           1,
           1,
           1,
           1,
           1,
           1,
           1,
           1,
           1,
           1,
           2,
           1,
           1,
           1,
           1,
           1,
           1,
           1,
           1,
           1,
           1,
           1,
           1,
           1,
           1,
           1,
           1,
           1,
           1,
           1,
           1,
           1,
           2,
           1,
           1,
           1,
           1,
           1,
           1,
           1,
           1,
           1,
           1,
           1,
           1,
           1,
           1,
           1,
           2,
           1,
           2,
           1,
           1,
           1,
           1
          ],
          "coloraxis": "coloraxis",
          "size": [
           1,
           1,
           1,
           1,
           1,
           1,
           1,
           1,
           1,
           1,
           1,
           1,
           1,
           1,
           1,
           1,
           1,
           1,
           1,
           1,
           1,
           1,
           1,
           1,
           1,
           1,
           1,
           1,
           1,
           1,
           1,
           1,
           1,
           1,
           1,
           1,
           1,
           1,
           1,
           1,
           1,
           1,
           1,
           1,
           2,
           1,
           1,
           1,
           1,
           1,
           1,
           1,
           1,
           1,
           1,
           1,
           1,
           1,
           1,
           1,
           1,
           1,
           1,
           1,
           1,
           1,
           1,
           1,
           1,
           1,
           1,
           1,
           1,
           1,
           1,
           1,
           1,
           1,
           1,
           1,
           1,
           1,
           1,
           1,
           1,
           1,
           1,
           1,
           1,
           2,
           2,
           1,
           1,
           1,
           1,
           1,
           1,
           1,
           1,
           1,
           1,
           1,
           1,
           1,
           1,
           1,
           1,
           1,
           1,
           1,
           1,
           1,
           1,
           1,
           1,
           1,
           2,
           1,
           2,
           1,
           1,
           1,
           1,
           1,
           1,
           1,
           1,
           1,
           1,
           1,
           1,
           1,
           1,
           1,
           1,
           1,
           1,
           1,
           1,
           1,
           1,
           1,
           1,
           1,
           1,
           1,
           1,
           1,
           3,
           1,
           1,
           1,
           1,
           1,
           1,
           1,
           1,
           1,
           1,
           1,
           1,
           1,
           1,
           1,
           1,
           1,
           1,
           1,
           1,
           1,
           1,
           1,
           1,
           1,
           1,
           3,
           1,
           1,
           1,
           1,
           1,
           1,
           1,
           1,
           1,
           1,
           1,
           1,
           1,
           1,
           1,
           2,
           1,
           1,
           1,
           2,
           1,
           1,
           1,
           1,
           1,
           1,
           1,
           1,
           1,
           1,
           1,
           1,
           1,
           1,
           1,
           1,
           1,
           1,
           1,
           1,
           1,
           1,
           1,
           1,
           2,
           1,
           3,
           1,
           1,
           1,
           1,
           1,
           1,
           1,
           1,
           1,
           1,
           1,
           1,
           1,
           1,
           1,
           1,
           1,
           1,
           1,
           1,
           1,
           1,
           1,
           1,
           1,
           1,
           2,
           1,
           1,
           1,
           1,
           1,
           1,
           1,
           1,
           1,
           1,
           1,
           1,
           1,
           1,
           1,
           1,
           1,
           1,
           1,
           1,
           1,
           1,
           1,
           1,
           1,
           1,
           1,
           1,
           1,
           1,
           1,
           1,
           1,
           1,
           1,
           1,
           1,
           1,
           1,
           1,
           1,
           1,
           1,
           1,
           1,
           1,
           1,
           1,
           1,
           1,
           1,
           1,
           1,
           1,
           1,
           1,
           1,
           1,
           1,
           1,
           1,
           1,
           1,
           1,
           2,
           4,
           1,
           8,
           1,
           4,
           1,
           1,
           1,
           1,
           1,
           1,
           3,
           1,
           1,
           1,
           1,
           1,
           2,
           1,
           1,
           2,
           1,
           1,
           1,
           1,
           1,
           1,
           2,
           1,
           1,
           1,
           1,
           1,
           2,
           1,
           1,
           1,
           1,
           1,
           1,
           1,
           1,
           1,
           1,
           1,
           1,
           1,
           1,
           1,
           1,
           1,
           1,
           1,
           1,
           1,
           1,
           1,
           1,
           1,
           2,
           2,
           1,
           1,
           1,
           1,
           1,
           1,
           1,
           1,
           1,
           1,
           2,
           1,
           1,
           1,
           1,
           1,
           1,
           1,
           1,
           1,
           2,
           2,
           2,
           2,
           3,
           4,
           8,
           7,
           5,
           5,
           2,
           9,
           2,
           1,
           1,
           1,
           1,
           1,
           1,
           1,
           1,
           1,
           1,
           1,
           1,
           1,
           1,
           1,
           1,
           1,
           1,
           1,
           1,
           1,
           1,
           1,
           1,
           1,
           1,
           1,
           1,
           1,
           1,
           1,
           1,
           1,
           1,
           1,
           1,
           1,
           1,
           1,
           1,
           1,
           1,
           1,
           1,
           1,
           2,
           1,
           1,
           1,
           1,
           1,
           1,
           1,
           1,
           1,
           1,
           1,
           1,
           1,
           1,
           1,
           1,
           1,
           1,
           1,
           1,
           1,
           1,
           1,
           1,
           1,
           1,
           1,
           1,
           1,
           2,
           2,
           1,
           1,
           1,
           1,
           1,
           1,
           2,
           1,
           1,
           1,
           1,
           1,
           1,
           1,
           1,
           1,
           1,
           1,
           1,
           1,
           1,
           1,
           1,
           1,
           1,
           1,
           1,
           1,
           1,
           1,
           1,
           1,
           1,
           1,
           1,
           1,
           1,
           1,
           1,
           1,
           1,
           1,
           1,
           1,
           1,
           1,
           1,
           1,
           1,
           1,
           1,
           1,
           1,
           1,
           1,
           1,
           1,
           1,
           1,
           1,
           1,
           1,
           1,
           1,
           1,
           1,
           1,
           1,
           1,
           1,
           1,
           1,
           1,
           2,
           1,
           1,
           1,
           1,
           1,
           1,
           1,
           2,
           1,
           1,
           2,
           1,
           1,
           1,
           1,
           1,
           1,
           1,
           1,
           1,
           1,
           1,
           1,
           1,
           2,
           1,
           1,
           1,
           1,
           1,
           1,
           1,
           1,
           1,
           1,
           1,
           1,
           1,
           1,
           1,
           1,
           1,
           1,
           1,
           1,
           2,
           1,
           1,
           1,
           1,
           1,
           1,
           1,
           1,
           1,
           1,
           1,
           1,
           1,
           1,
           1,
           1,
           1,
           1,
           1,
           1,
           1,
           2,
           1,
           1,
           1,
           1,
           1,
           1,
           1,
           1,
           1,
           1,
           1,
           1,
           1,
           1,
           1,
           2,
           1,
           2,
           1,
           1,
           1,
           1
          ],
          "sizemode": "area",
          "sizeref": 0.0225,
          "symbol": "circle"
         },
         "mode": "markers",
         "name": "",
         "orientation": "v",
         "showlegend": false,
         "type": "scatter",
         "x": [
          2015.025145912688,
          2020.2881831489733,
          2018.049329003512,
          2021.1242341247623,
          2021.7161707339096,
          2023.0380954584866,
          2017.015819472416,
          2021.9723042072185,
          2017.2194165283336,
          2013.8284801749007,
          2020.7287469486766,
          2022.1504201873956,
          2018.9214869191921,
          2017.294570493126,
          2019.2253725781059,
          2017.725586392197,
          2022.2824409264051,
          2021.2244898633783,
          2022.2020581922789,
          2022.8808638099956,
          2021.9989722761056,
          2014.1640597299856,
          2016.8259701585907,
          2021.9202572637657,
          2018.8117481621473,
          2022.9158419897483,
          2018.2405039290197,
          2022.943179803234,
          2013.9119159926454,
          2017.13250331082,
          2017.2472104788997,
          2019.876580693525,
          2022.1315936915685,
          2017.120861777308,
          2016.7747840623067,
          2017.9289393537927,
          2023.2561773714892,
          2021.7353464128726,
          2018.0186881652062,
          2018.1299494809982,
          2022.0861044985425,
          2017.28772172482,
          2018.1264034411909,
          2013.7777651564431,
          2016.862459508958,
          2016.1319211136918,
          2019.8153900346965,
          2016.7071933465818,
          2013.7551144919266,
          2017.0174861129249,
          2020.078953539892,
          2021.0594741029777,
          2022.2479152280102,
          2016.1983147001843,
          2019.9181509035516,
          2022.897095214937,
          2014.2989759530644,
          2015.8794887475744,
          2021.186690706383,
          2014.8503291555778,
          2015.891018915582,
          2017.0046697759412,
          2020.1305379333826,
          2015.8485327505907,
          2017.285006717489,
          2016.1239504907116,
          2015.026666301363,
          2015.961919579542,
          2015.9481862972334,
          2016.8938230456076,
          2014.268938159286,
          2015.2779956328268,
          2015.884387257405,
          2021.005467784075,
          2020.9442539799145,
          2020.9073950459317,
          2018.9785871582164,
          2016.8328322118384,
          2018.0971729639334,
          2019.0397912202645,
          2019.0136094928384,
          2019.7496374883947,
          2022.214332427025,
          2011.8407427581699,
          2013.7163297112288,
          2014.7230139066141,
          2018.2683490690583,
          2019.1662166603676,
          2021.19559383511,
          2021.748636018049,
          2022.8568367974565,
          2021.7894530480276,
          2012.7794133003435,
          2016.849380939517,
          2019.220791323695,
          2020.2021884159667,
          2022.1148459264957,
          2017.2034929973224,
          2014.7716095068029,
          2018.221712233203,
          2018.9309939188063,
          2019.7610064592652,
          2020.9326012117065,
          2016.147884065894,
          2019.0476432614398,
          2022.0196349049743,
          2016.1153273729326,
          2017.1935658557943,
          2015.8989683904488,
          2020.937090722955,
          2023.18703030516,
          2023.0495480424074,
          2017.277910873113,
          2015.8017686454498,
          2023.0145011905909,
          2009.7739471453524,
          2018.140571776548,
          2017.8553611973828,
          2018.2376226594645,
          2021.720866089295,
          2017.9757028783588,
          2012.9317513400529,
          2014.8904409063803,
          2016.720093261481,
          2020.937105336255,
          2017.841452090451,
          2016.7149024797131,
          2016.9233235839015,
          2015.0560422200722,
          2018.0181810499316,
          2012.8720641942393,
          2019.7235915882104,
          2017.094098819898,
          2018.827459106171,
          2019.0069363498867,
          2020.2691581478512,
          2020.9864227361124,
          2018.016667530296,
          2023.2896389236837,
          2018.8741779437853,
          2020.8201187991097,
          2015.9955013456236,
          2017.8234267239586,
          2020.8859394460728,
          2017.009299158214,
          2022.1342554527755,
          2013.913742379716,
          2020.7239006147975,
          2017.8852211663661,
          2021.234793972529,
          2020.7777548346833,
          2012.8962777593633,
          2021.9683073956332,
          2020.9017387898555,
          2014.9589080121943,
          2023.06657680616,
          2019.9583893047536,
          2017.9030540948254,
          2023.0590203942634,
          2021.8809024492807,
          2017.127653085506,
          2015.2852918499834,
          2021.9772540317138,
          2014.0650653948207,
          2022.1926201556646,
          2022.7272897217795,
          2015.7635643842054,
          2018.8913254868112,
          2017.0696037581313,
          2018.0791141569575,
          2015.0782171460135,
          2016.7349641666763,
          2018.878546378084,
          2020.9042927562143,
          2014.0854221785235,
          2016.9019572687484,
          2018.9291407087348,
          2016.1497985094368,
          2013.8075814979863,
          2021.7209765854793,
          2014.8674529837692,
          2015.8329699819183,
          2017.185753939068,
          2017.2777166460269,
          2019.9106995660227,
          2019.2879957070425,
          2020.1861722057397,
          2012.7360964439708,
          2022.8795168985255,
          2021.0363912578578,
          2016.8228119941925,
          2016.0711358647004,
          2018.1915299231646,
          2016.1586786276353,
          2018.7693517111263,
          2020.904775923639,
          2022.7359175529784,
          2020.229694484178,
          2016.8084966887586,
          2021.9831187165717,
          2018.8897583227256,
          2017.0239093335558,
          2015.8060532754675,
          2020.2256828625734,
          2020.129411550198,
          2013.0896520089882,
          2013.8324460378938,
          2023.2093875355965,
          2017.7309611617275,
          2016.091101088793,
          2018.1793450865332,
          2018.2029800280523,
          2021.0200004890846,
          2013.9384745604032,
          2017.1396105956626,
          2020.9963138344851,
          2022.1528566291588,
          2016.8919630531773,
          2018.1656347195055,
          2017.0455874013119,
          2018.7687670099433,
          2020.0450691283831,
          2022.0799817651111,
          2022.963548904284,
          2019.7810323146641,
          2021.0857434192728,
          2016.1375343197515,
          2021.8770158336104,
          2020.9085584474872,
          2018.725679570438,
          2020.7430726939583,
          2019.9147884992744,
          2013.07090849054,
          2018.1492515062703,
          2016.1834266229648,
          2022.0242807621178,
          2017.1296679551158,
          2020.7322347998447,
          2020.9493046339664,
          2020.7554303510606,
          2015.9313317833605,
          2023.2259555745059,
          2022.9170909244356,
          2020.7533814522824,
          2021.177021033466,
          2015.8315537094184,
          2020.1445278397382,
          2017.7565768374827,
          2023.1667740774963,
          2018.7710902734711,
          2015.9051706170064,
          2014.847553960744,
          2021.909390054128,
          2022.1002423816853,
          2023.077691536313,
          2012.966192010907,
          2020.7954429940764,
          2018.991653999504,
          2021.7254385865722,
          2015.2493003411269,
          2022.2332527674491,
          2021.8062614432374,
          2021.180867115632,
          2021.7318180265715,
          2019.0530361223953,
          2022.159867645766,
          2023.123777180344,
          2015.9173067204354,
          2021.2832193680658,
          2021.8979891726622,
          2020.9366997067727,
          2017.8282799122137,
          2023.0947221131237,
          2022.2589439510516,
          2014.8846860070773,
          2019.2882597405583,
          2021.240288858741,
          2021.8392252038752,
          2017.8561880221496,
          2012.7121958619878,
          2020.9994359462255,
          2016.825900042103,
          2014.90428905618,
          2015.8308361752781,
          2020.948471284658,
          2016.154322434205,
          2021.0132303632993,
          2017.0015675824134,
          2018.8741967401338,
          2021.042106943278,
          2021.7539656191436,
          2009.8607807323535,
          2014.0053014554983,
          2017.7693068525218,
          2021.0832422354651,
          2020.9711177281763,
          2020.2747385841208,
          2018.0657917729577,
          2016.0172623642568,
          2022.2544253855185,
          2022.0327737105824,
          2021.7950680012432,
          2022.2222888543326,
          2022.7692734363623,
          2014.244639308231,
          2021.7076750298786,
          2017.9127283456335,
          2016.221796422314,
          2021.1034495972372,
          2020.8193159943878,
          2018.091535645157,
          2021.9417013405698,
          2022.865043354661,
          2009.9295148533745,
          2013.970858393627,
          2016.2233109775284,
          2016.8670652455116,
          2018.1797917569565,
          2020.2990734033726,
          2021.1879257497642,
          2021.9376533154489,
          2023.21387459599,
          2016.8579767365788,
          2018.040956218964,
          2022.9811416939026,
          2017.9773399394733,
          2015.858941241987,
          2022.0821051041867,
          2021.9565135247544,
          2014.274729321747,
          2021.268364524707,
          2016.1979428217405,
          2016.9564386283646,
          2017.7256783476307,
          2021.7482486484807,
          2016.932299811551,
          2020.248126202155,
          2021.015445701197,
          2021.1755170019665,
          2020.7444792603108,
          2021.2432689888906,
          2015.1612692043764,
          2016.7305428205368,
          2019.9507492336113,
          2022.9467779212582,
          2020.8328175136276,
          2021.8718660558898,
          2020.9778977970968,
          2017.1041582123555,
          2018.176110983033,
          2018.7695855193947,
          2020.2054691922133,
          2021.2876767043686,
          2022.163882604056,
          2023.070861289737,
          2013.1690349925782,
          2022.814658194585,
          2016.8461620172977,
          2018.7871049211005,
          2021.2407385450833,
          2021.938399925093,
          2019.0189591380133,
          2018.820729869962,
          2021.7000514074978,
          2014.2367179037735,
          2022.2638398788097,
          2021.9041077003023,
          2021.9973298188065,
          2020.8429628388617,
          2015.0160707127084,
          2009.956697161456,
          2018.2977537416027,
          2018.7665249461356,
          2020.1843691697823,
          2020.9986699138194,
          2021.8040909854258,
          2021.9149047096362,
          2019.726558986194,
          2018.9173015992671,
          2020.0249275938436,
          2016.2293688336347,
          2014.780136661239,
          2016.8486918599806,
          2020.8334688445775,
          2015.1796926160546,
          2021.1945337426198,
          2022.2452185209083,
          2019.7284699506886,
          2022.7079091271078,
          2017.9317582642313,
          2015.1082915487477,
          2017.0360383868835,
          2019.8900268333866,
          2018.8374369492437,
          2017.0788213867543,
          2017.0505825079354,
          2021.0312065383505,
          2022.931126184535,
          2013.288841909735,
          2014.1267508987612,
          2014.80243126279,
          2016.102687225085,
          2016.8149828218354,
          2017.9082666882266,
          2018.8913238812456,
          2020.160190862575,
          2021.0931115133092,
          2022.1519388836487,
          2023.1002409550001,
          2020.0036969663674,
          2018.117708789623,
          2013.7846611120526,
          2021.7065358927302,
          2013.7601214909148,
          2020.8524344963482,
          2021.1478813855315,
          2020.8857166641399,
          2021.9263493434087,
          2012.9441175030072,
          2020.9494259693945,
          2016.8385570053429,
          2016.891093115915,
          2016.2670597991407,
          2012.7220456484806,
          2021.8593079353573,
          2015.761392155926,
          2017.8508978419343,
          2016.8898332093722,
          2018.0474310621198,
          2020.9059679034997,
          2022.1375441458204,
          2016.9411720538453,
          2013.1626517837076,
          2019.1098636072516,
          2016.2121790850795,
          2020.811121445731,
          2020.2765951315132,
          2021.84614243725,
          2017.8037559837808,
          2013.9998724631635,
          2016.9518981689507,
          2017.297342156494,
          2014.7722814453514,
          2018.9623222403736,
          2018.0324809641425,
          2021.1147346249768,
          2018.000209981625,
          2015.9720989611042,
          2018.003654449025,
          2017.123242909897,
          2016.8155469493863,
          2012.8934251340988,
          2015.0643136209871,
          2016.1222255595324,
          2016.71080115399,
          2018.0743948843592,
          2019.168835834603,
          2021.2274552872166,
          2018.2480359706008,
          2014.1554969513415,
          2017.9400671463866,
          2020.9332591565415,
          2020.0729875181062,
          2017.9822158616826,
          2015.1818249551231,
          2015.788199650988,
          2016.913993160336,
          2018.1446504266387,
          2023.1945080513456,
          2016.9082676715482,
          2020.7712561278977,
          2019.2551203033322,
          2019.276886057327,
          2014.0878783982553,
          2023.2750586751172,
          2021.1885079939377,
          2017.2620508460557,
          2021.8634316602952,
          2016.7474974146414,
          2020.7708317219938,
          2021.0730070913235,
          2014.895924116076,
          2019.7981655766546,
          2021.2445424898315,
          2016.8140222617596,
          2020.07180107208,
          2021.2641178615022,
          2014.0858722120133,
          2016.0276587931053,
          2018.8513696296402,
          2020.2258026861005,
          2014.9069793076449,
          2020.765600278952,
          2015.8251487250452,
          2020.919990979195,
          2016.1042375705767,
          2022.0536363377814,
          2019.9267428465298,
          2016.8674300491027,
          2021.7156523755687,
          2021.1444424396523,
          2021.7290264053147,
          2022.1829863519474,
          2022.0116052605254,
          2012.8361483545214,
          2018.0067428420932,
          2022.2475567872789,
          2018.1990561971695,
          2012.8694184915605,
          2019.9566839565744,
          2022.92356183334,
          2018.7542366127366,
          2021.756211388568,
          2015.1157732144266,
          2015.7516705526652,
          2018.0908206849303,
          2019.1851610255876,
          2018.2840819647197,
          2018.7124205300495,
          2023.253935536671,
          2018.0334074169223,
          2023.2349995302332,
          2016.1425470012641,
          2023.1988682622573,
          2016.0526527606576,
          2021.090626948013,
          2023.2455514664466,
          2020.8667333521444,
          2013.7897489782624,
          2020.858846465527,
          2017.167389726579,
          2017.1730261584282,
          2015.961374809383,
          2017.1913170081152,
          2009.9467815887037,
          2013.8387212893836,
          2022.046378129402,
          2017.7324458428416,
          2018.7825314153536,
          2020.0963539145941,
          2022.1584895029223,
          2019.700780472932,
          2014.0236477467456,
          2016.158331836447,
          2019.144983163508,
          2020.144145731477,
          2022.7763106757443,
          2015.8824709063524,
          2021.8557837200103,
          2017.1649842061902,
          2016.0645444264355,
          2019.00574559859,
          2022.277596046848,
          2016.1784416710555,
          2016.827310973378,
          2015.0329383228284,
          2020.779210433634,
          2021.9216796792084,
          2017.906250643325,
          2018.0481342233184,
          2023.1203983893058,
          2012.9499196567576,
          2012.003055002066,
          2014.88565529807,
          2017.161476772196,
          2019.1243185380802,
          2021.2516756385749,
          2021.802799774444,
          2015.9457943469945,
          2017.2998425242947,
          2015.1952142396794,
          2016.8841812689427,
          2020.2564598059894,
          2020.8280311915996,
          2022.007331489705,
          2022.72133521184,
          2023.2121931691797,
          2020.9950655729906,
          2016.0563922673587,
          2021.8284191774512,
          2019.1651579544882,
          2019.8026054806753,
          2021.1756636898112,
          2023.1132971908978,
          2018.9552604596154,
          2019.7848859413227,
          2020.8893993819913,
          2015.977926190726,
          2022.7382411428437,
          2019.8483019133696,
          2017.101627633492,
          2014.9029435141576,
          2017.9308571897693,
          2021.8150314996044,
          2018.1435700750303,
          2023.2892594966302,
          2018.2139106608988,
          2022.0994319875044,
          2017.7694567925148,
          2020.8373597835741,
          2021.890258099317,
          2016.9254442460312,
          2013.1152340098208,
          2021.0181475366237,
          2019.777238801676,
          2017.144417926436,
          2019.9767655850098,
          2021.9099774139572,
          2014.7227786369467,
          2017.241941692177,
          2021.000606408024,
          2016.7766885040742,
          2021.8944678155322,
          2021.9355431174833,
          2022.2681670969646,
          2016.7880229135262,
          2021.0942303581958,
          2018.0833283622824,
          2023.0763813218973,
          2015.0711274097869,
          2017.9793388108035,
          2020.773127606403,
          2023.2376798917696,
          2018.0960932963217,
          2015.1446121350516,
          2013.9318484446142,
          2015.0144674097735,
          2016.0413527088556,
          2020.7903590425547,
          2019.1641577635485,
          2011.7061177701228,
          2018.255053067899,
          2020.2625847017841,
          2020.7101146459222,
          2023.1011099149773,
          2018.1531738571853,
          2018.87079170892,
          2019.229236907253,
          2021.0290066119653,
          2017.0758204705535,
          2020.8950283510778,
          2021.7170393385102,
          2017.038441007946,
          2019.914858984166,
          2021.1316083411298,
          2018.7277787300372,
          2016.1961483285324,
          2021.0922469739091,
          2021.873881974864,
          2023.247252443358
         ],
         "xaxis": "x",
         "y": [
          1.0324002703744117,
          0.6862949840916407,
          1.3541468421421508,
          0.5218439304629001,
          1.1360466101413516,
          0.9380847356678573,
          0.5522982769190647,
          1.2751211051914988,
          0.6662319688771737,
          0.975839070870633,
          0.7727960235048367,
          1.008458199180882,
          0.7577090351019917,
          1.2300004968904015,
          0.9516814474116064,
          1.0933278051828963,
          1.1243511638557484,
          1.085765612150241,
          1.020811579863194,
          0.7544734564535963,
          0.9802901451134519,
          0.9886752372355392,
          0.5774934765014326,
          0.8202007599448482,
          0.6027150740949309,
          1.491694375749773,
          0.746788790083983,
          0.6758078918899154,
          1.1902167510066453,
          1.374891089505669,
          1.230138909474193,
          0.8180815964029488,
          0.9863648470706361,
          1.1567938550653836,
          1.1994934343356034,
          0.9055191881150207,
          0.9880799537097175,
          0.644127334424627,
          1.027400301202492,
          0.5375681642682681,
          1.067423559167584,
          0.7483855459177206,
          0.9079822604603915,
          1.0129621735804317,
          2.3242284924422734,
          0.9512826533213588,
          0.6869973822080266,
          1.1383492838594615,
          0.7792677306126649,
          1.1192740846510936,
          1.445573228290481,
          1.2258241476605585,
          1.4158684123796648,
          1.1127632506005753,
          0.8869401090117052,
          1.4499351318115692,
          1.2104220914842931,
          0.6537875754376739,
          1.360012659553024,
          1.2073602071295495,
          1.0340646673441873,
          0.6319666764246351,
          1.2304238777291836,
          1.1939831869422655,
          0.5287744126586154,
          1.1802252062783678,
          0.6165276934077588,
          0.6497628154912781,
          1.4982054475026396,
          1.3233970878566026,
          0.6170223854983694,
          0.8868226967564791,
          0.5028650553186512,
          0.8043870548047191,
          0.5677307154901594,
          1.2193036015940595,
          0.753830208291155,
          1.0438502363941988,
          1.257005194336989,
          0.7127000627745458,
          1.4912270610840226,
          0.9302285143099766,
          0.5547398816806919,
          0.8486227133874532,
          0.9306605770533828,
          1.435667072563208,
          0.5597660622629419,
          0.6774470599812041,
          1.1294908973350997,
          1.7174747938538446,
          1.934766938076642,
          0.6037887395983335,
          0.7630367240221992,
          0.6965811568456552,
          0.6222364688677071,
          1.274453344223888,
          1.2000847136051038,
          0.744417924690808,
          0.7439888138533589,
          0.7412786943248866,
          1.458898100468947,
          1.4624962528345349,
          0.9338803592598905,
          1.3423289037333963,
          1.3969789500967589,
          1.377568786129495,
          0.7787006518377158,
          1.2267118045928755,
          0.871884638220674,
          1.103916806169456,
          1.419392778467118,
          1.1564073297710071,
          1.4202972914375378,
          1.3455345900526872,
          1.2302362807695957,
          0.7753035453885653,
          2.098396440833951,
          0.8492807203106347,
          2.0400594877032745,
          0.9334659644405983,
          1.4022541868000293,
          0.679076298401587,
          0.9266646855909865,
          0.9958091282103704,
          0.5295615947055934,
          0.546496861029185,
          0.6513709125225202,
          1.46130193668368,
          0.6226743442492447,
          1.1951212016019577,
          1.1315751251330912,
          1.2793372098090754,
          1.0074707683910362,
          1.1043343670526644,
          0.7204827747381715,
          1.3602993830360444,
          1.4385340234790942,
          1.4950122102519425,
          0.6162173794439029,
          0.7909811476089774,
          0.5856854468181838,
          0.657076319543438,
          0.5707370867656938,
          1.009000952422239,
          0.5402288935835915,
          1.0374229398054022,
          1.4446965144545239,
          1.178515466100389,
          3.0123540053621194,
          0.6645355232282467,
          1.4848119784253426,
          1.4220902866471603,
          0.6583417268279635,
          1.2363963060460823,
          0.5233996347008357,
          0.5080756338206648,
          0.9373410205087446,
          1.4337687430673909,
          0.8774781870835394,
          0.6935181323751809,
          1.466014707115685,
          0.7201573298169228,
          1.256745532923253,
          1.0033790875656043,
          1.1545785798242445,
          1.4103811303052498,
          0.5410403012485246,
          1.4995225464644568,
          0.593635725905654,
          0.9364843280092222,
          1.4709319534113119,
          0.8255858554897527,
          1.451142169840241,
          0.538202257432572,
          0.9556551751659285,
          3.4111479943716625,
          1.3304241205619485,
          0.7036191137070607,
          0.5498586588701101,
          0.5457898234009819,
          1.4641389421063704,
          1.3263842355755107,
          0.9868871354873844,
          1.4438277151603847,
          0.8581027687587487,
          0.9614595132977057,
          1.4079329472700537,
          1.478780590635369,
          0.98539328100701,
          1.221653798716106,
          0.9294163424545402,
          1.6496930871615252,
          0.5581691401959544,
          1.2631442812551361,
          1.055280724654407,
          2.075910644362782,
          1.3776691979331326,
          0.9600978717938768,
          1.312570452258169,
          1.1279736752334957,
          1.1192968219982882,
          1.4948365533436927,
          0.9947023549134186,
          1.3857316970894253,
          0.8921735093198845,
          1.1390822586752392,
          0.5360408227054925,
          1.3392243485184823,
          1.3102230284444762,
          1.3471859897086622,
          1.1381545831800746,
          0.7186714374920485,
          0.6270581011348919,
          1.0630414931367995,
          1.3304266199581998,
          0.8027366973705283,
          1.0453922267204545,
          0.6978611400400154,
          0.6491616407130278,
          0.8025615814362594,
          1.7142181407375552,
          1.0523310010853704,
          2.5497603297190263,
          0.8275151798209531,
          1.3647800974672741,
          0.6054590302327683,
          0.5863554619563766,
          1.0935990988299888,
          1.4463326694876644,
          1.3269725009500315,
          0.8698852582281362,
          1.0099872599119566,
          0.8378365740319234,
          1.3214985843333065,
          1.2540707618716191,
          0.7847277754532638,
          0.8108937280122156,
          1.3704253999252265,
          0.5197441484106665,
          0.5533054552978129,
          0.9749598791686656,
          1.1627105392164756,
          1.2268971254156826,
          0.6062159361110424,
          0.7603853286496061,
          0.645711299440829,
          0.771554131018922,
          1.297240886072856,
          0.6894743637970017,
          2.0765058028466816,
          1.148086866706278,
          0.7384483480830581,
          1.3785319417245052,
          1.4032797994855888,
          0.9163321883239567,
          1.0219734877999058,
          0.5442731482885187,
          1.0030318074899314,
          0.9221610062450968,
          1.2276368316040367,
          1.3326294169470119,
          1.1377634260895284,
          0.7899929296893201,
          1.3039028051449844,
          0.8731232883214126,
          0.8038726032914748,
          0.9215330476220993,
          1.0017259937101828,
          0.8359066904502607,
          0.7958957767075171,
          0.6660673436210499,
          0.8003471193556686,
          1.2616726134848268,
          0.8150686827265852,
          0.5225736694750134,
          0.7138232258499108,
          1.1388812672058921,
          0.7675423065383761,
          1.4736106331461696,
          1.0908417179202967,
          1.3100151415671415,
          0.5419140552107933,
          1.2705952468833825,
          0.9405321026665877,
          0.8089083888601813,
          0.5845207105604535,
          0.8779082744346521,
          1.2304686258693294,
          1.1895731849965476,
          0.9946865458117802,
          1.227760581746979,
          1.2835602551816763,
          1.001886936734814,
          1.3787526512701098,
          1.2094504618978115,
          1.247781921541585,
          0.6275891562049852,
          0.8762036590880047,
          1.0529297679530694,
          0.7871205633348646,
          0.9985999289783868,
          0.5647779838095361,
          0.8578324991304092,
          1.193850028480182,
          0.7063258182186755,
          0.7277361441544227,
          0.7736085937136761,
          1.0925601881410505,
          0.9839651380559697,
          0.9274357616755529,
          1.455251298284129,
          0.7149870849877098,
          1.2524215965360623,
          1.3263587075048846,
          1.5460070345800396,
          4.43053193257564,
          1.078217783496894,
          8.283464010165034,
          0.7202693857982767,
          3.832973361437025,
          1.1522479641630312,
          0.7061587501678858,
          0.637822919053586,
          0.7957917035718483,
          1.479497103353836,
          0.787859387833557,
          2.570646623246825,
          1.4532759531799473,
          0.9002517594371883,
          0.811687837006467,
          1.1094339254322674,
          0.5124994740935795,
          1.5816073208722876,
          0.6236669677262311,
          1.4508740724699578,
          2.1888814616245433,
          1.3424994422872967,
          0.6317043557010679,
          0.7192291408558452,
          1.0259590052281826,
          1.3817182754855657,
          1.147862851410195,
          2.3319577294635128,
          0.8039518343117082,
          1.33152093475332,
          0.7556171274703011,
          0.7671788191686665,
          0.8575073534875872,
          2.1736927644884454,
          0.8068983343175861,
          0.9602963853792139,
          1.2606882723962127,
          0.6087804798067288,
          0.6811727140131076,
          0.7533783321906322,
          1.2219151545458569,
          1.016641522058595,
          0.5236299070307685,
          0.8648862474383646,
          1.3223511886756945,
          1.224683724933318,
          1.373061000471012,
          0.9398334495674822,
          0.6077511481779693,
          1.0213281874363525,
          0.651678274985379,
          1.275709001697248,
          1.400794643246757,
          0.5759599344040071,
          0.5195535226630461,
          0.5303048668444111,
          0.6562741543551378,
          1.4334078701879855,
          1.4091427072906013,
          2.384329578769141,
          1.555073420320423,
          1.1953803510182373,
          1.0870316684820251,
          0.7996639344095436,
          1.0863252694340497,
          0.7138981462195507,
          0.9970025520134849,
          1.0611973083953479,
          0.5105015508101896,
          1.2457815719038434,
          1.3538922379170022,
          2.0200358864626655,
          0.944291816628578,
          1.2083984954472544,
          1.3859657972304191,
          1.0844005186923973,
          0.6101336264516294,
          0.6310495444593718,
          0.9656195081728107,
          0.8487217289180471,
          1.0242598514583152,
          2.2237557971932436,
          2.1718084230954644,
          1.7855878174929722,
          2.0487944408905197,
          2.9948813528751814,
          3.9622580471209465,
          7.526219783227025,
          7.276559738426265,
          5.09264114457597,
          5.221083876160251,
          1.864984016561187,
          9.325182706838298,
          1.6937853009662778,
          1.15312620821729,
          1.0889455507017742,
          0.9691756311968611,
          1.1298592213784708,
          1.0191803365552303,
          1.253666370339846,
          1.3988141128779983,
          1.0803674218016928,
          1.2187177762366912,
          0.6387682448471267,
          1.3189664548450835,
          1.2214631345473226,
          0.5343505925985493,
          1.1621490424983025,
          1.0712875471015282,
          0.7654987075687973,
          0.6392375251197451,
          0.5456362563503555,
          1.3360155389446744,
          1.4327704514887172,
          1.0152400683554905,
          0.5367490430405434,
          0.9287987311966412,
          0.5054094227325177,
          1.159004125064451,
          1.253566869613685,
          1.3816091836533846,
          1.0268416810099499,
          0.5139857004786349,
          1.0295286892647453,
          1.457326341655873,
          1.2621534314252258,
          0.9798279862475975,
          0.8060252574109653,
          1.1315403551180998,
          0.9617404814771218,
          1.393059482868848,
          0.8063756808114162,
          0.6313828323609036,
          1.2543305785014183,
          1.020754799161342,
          1.3954340649120505,
          0.660996945319629,
          0.9654547780777132,
          1.178407238923892,
          2.3620844087510626,
          0.879524267637731,
          0.5962484861538826,
          1.441573654230875,
          1.1597085440039054,
          1.2744794796986167,
          1.0065506575406546,
          0.7435837566892604,
          1.1661317378810607,
          1.132027697219111,
          1.4674756309201902,
          1.276572183202496,
          0.6718421010655174,
          1.3857685772470876,
          0.5135050797690367,
          1.4805190940250874,
          0.5415731930016819,
          1.117738229355779,
          1.4617002080702746,
          1.3095357043153584,
          0.6719407295179152,
          1.4381692468218281,
          1.4415632169785866,
          1.4661154213174101,
          0.7197891791965031,
          1.2421561105030579,
          1.2456308227795285,
          0.6087349793906434,
          0.7627186711660714,
          1.1268766536722492,
          2.007515810368634,
          2.168788777257962,
          0.5931973029616858,
          1.4163512534424298,
          1.4808760149727174,
          0.9498722149669871,
          0.8304126639892897,
          0.6632679486090053,
          2.3695822698490896,
          1.197020357802212,
          0.8815632246987964,
          1.2319326005687552,
          1.199794478945694,
          1.401214548170857,
          0.7296016180677457,
          0.6357313206118845,
          0.8613208680349931,
          1.0795849477746158,
          0.8413059780159194,
          0.8968167323706463,
          1.4973521275213402,
          0.7961682113215984,
          1.3146437224138392,
          1.060818588099803,
          0.9061983634525811,
          1.2675699431518763,
          0.547028472677713,
          1.2664300397233232,
          1.3962377311987448,
          1.1542995138989345,
          1.3213175513416016,
          0.9506016343201625,
          0.8357949013823835,
          0.6767656325066089,
          1.412214347154958,
          0.7349678971867826,
          1.0378230649952578,
          0.8061585366379401,
          1.0475801041291366,
          1.4407521711808484,
          0.757613806328065,
          1.2264728775889469,
          0.712702897210459,
          0.9347327307007464,
          1.325153927885205,
          0.7606216720860846,
          0.9100732187405777,
          1.412462291082614,
          1.12209640976033,
          1.2028182845680893,
          0.7498095504897561,
          0.8121161706001322,
          0.6734249362812864,
          0.7557964093288562,
          1.4389274251581678,
          1.346039830929503,
          0.5478097236760073,
          0.5330267009112362,
          0.5694135117560778,
          0.8127835803234885,
          0.6014102093441149,
          1.1883011084003061,
          0.8579105263996576,
          0.6725115594220223,
          1.0522715370688407,
          0.8190382275002752,
          1.3215625093957866,
          1.1652922958589307,
          1.2218129354261416,
          0.8369318500495264,
          1.077505931075502,
          0.9474559679935993,
          1.3678583978972048,
          0.7169532997031314,
          0.7306949300569635,
          1.9058435706156098,
          0.8907837788053264,
          0.8492142376167368,
          1.3898831790353046,
          0.501777783604277,
          1.2570332627823508,
          1.4854780231813618,
          0.6080876796188203,
          1.748247987078368,
          1.0225415444726187,
          0.7182912170474428,
          2.050877265298473,
          1.0050214279349101,
          1.169390631147343,
          0.5189883907428436,
          0.8439175687979319,
          0.5141056702967237,
          0.5914326368661535,
          1.1176297547860292,
          1.0224964577923326,
          1.271771665851372,
          1.0393174168209276,
          0.9780068198301856,
          1.1949987921423353,
          0.9886801075454682,
          2.049466755682308,
          1.3271353097762426,
          1.4813269736119496,
          0.6403995715526143,
          0.8410768865551488,
          0.9124793636604597,
          0.5739651031345887,
          1.4730414388394557,
          0.6288213110158498,
          0.8345090730512983,
          0.788783119972132,
          1.33466063243241,
          1.2932829891471982,
          0.8696239750856765,
          0.6841224665815804,
          1.095412091581677,
          0.8466272956951574,
          0.7429457429016021,
          1.291426283993593,
          0.833005778154787,
          0.9719603134905549,
          1.980067101687991,
          1.3415238197763104,
          0.979854471137379,
          1.1484562253043191,
          0.5144389830242623,
          1.125446046234629,
          0.6974616395624824,
          0.6966202518955084,
          1.19334990655527,
          1.2688203417113972,
          0.885011796275952,
          1.2179103544911762,
          0.8723631601089239,
          0.8358797412331334,
          0.6077981077393704,
          1.071519113033738,
          0.7157202533896021,
          0.7414513427061984,
          0.5867456636051164,
          1.1208370020075389,
          1.0274677375566847,
          1.3756176278467063,
          1.625395427317512,
          1.2928762027997007,
          1.1573851312614452,
          0.7375521425678847,
          0.9043567889756647,
          0.62407634427943,
          1.0785876130188197,
          1.4560541317063493,
          0.9927851548477555,
          1.1398327502105459,
          0.5988474306371366,
          1.3159566810207104,
          1.4801745450485644,
          0.753163842940169,
          1.4347671303765974,
          1.1754020649332726,
          1.5006654275044455,
          1.0851263495576706,
          2.0360543992642226,
          1.3804205763073112,
          0.9920932408163539,
          1.0049389360341836,
          1.2415224966324274
         ],
         "yaxis": "y"
        }
       ],
       "layout": {
        "coloraxis": {
         "colorbar": {
          "title": {
           "text": "Numbers"
          }
         },
         "colorscale": [
          [
           0,
           "rgb(0, 128, 128)"
          ],
          [
           0.16666666666666666,
           "rgb(112, 164, 148)"
          ],
          [
           0.3333333333333333,
           "rgb(180, 200, 168)"
          ],
          [
           0.5,
           "rgb(246, 237, 189)"
          ],
          [
           0.6666666666666666,
           "rgb(237, 187, 138)"
          ],
          [
           0.8333333333333334,
           "rgb(222, 138, 90)"
          ],
          [
           1,
           "rgb(202, 86, 44)"
          ]
         ]
        },
        "height": 600,
        "legend": {
         "itemsizing": "constant",
         "tracegroupgap": 0
        },
        "template": {
         "data": {
          "bar": [
           {
            "error_x": {
             "color": "#2a3f5f"
            },
            "error_y": {
             "color": "#2a3f5f"
            },
            "marker": {
             "line": {
              "color": "white",
              "width": 0.5
             },
             "pattern": {
              "fillmode": "overlay",
              "size": 10,
              "solidity": 0.2
             }
            },
            "type": "bar"
           }
          ],
          "barpolar": [
           {
            "marker": {
             "line": {
              "color": "white",
              "width": 0.5
             },
             "pattern": {
              "fillmode": "overlay",
              "size": 10,
              "solidity": 0.2
             }
            },
            "type": "barpolar"
           }
          ],
          "carpet": [
           {
            "aaxis": {
             "endlinecolor": "#2a3f5f",
             "gridcolor": "#C8D4E3",
             "linecolor": "#C8D4E3",
             "minorgridcolor": "#C8D4E3",
             "startlinecolor": "#2a3f5f"
            },
            "baxis": {
             "endlinecolor": "#2a3f5f",
             "gridcolor": "#C8D4E3",
             "linecolor": "#C8D4E3",
             "minorgridcolor": "#C8D4E3",
             "startlinecolor": "#2a3f5f"
            },
            "type": "carpet"
           }
          ],
          "choropleth": [
           {
            "colorbar": {
             "outlinewidth": 0,
             "ticks": ""
            },
            "type": "choropleth"
           }
          ],
          "contour": [
           {
            "colorbar": {
             "outlinewidth": 0,
             "ticks": ""
            },
            "colorscale": [
             [
              0,
              "#0d0887"
             ],
             [
              0.1111111111111111,
              "#46039f"
             ],
             [
              0.2222222222222222,
              "#7201a8"
             ],
             [
              0.3333333333333333,
              "#9c179e"
             ],
             [
              0.4444444444444444,
              "#bd3786"
             ],
             [
              0.5555555555555556,
              "#d8576b"
             ],
             [
              0.6666666666666666,
              "#ed7953"
             ],
             [
              0.7777777777777778,
              "#fb9f3a"
             ],
             [
              0.8888888888888888,
              "#fdca26"
             ],
             [
              1,
              "#f0f921"
             ]
            ],
            "type": "contour"
           }
          ],
          "contourcarpet": [
           {
            "colorbar": {
             "outlinewidth": 0,
             "ticks": ""
            },
            "type": "contourcarpet"
           }
          ],
          "heatmap": [
           {
            "colorbar": {
             "outlinewidth": 0,
             "ticks": ""
            },
            "colorscale": [
             [
              0,
              "#0d0887"
             ],
             [
              0.1111111111111111,
              "#46039f"
             ],
             [
              0.2222222222222222,
              "#7201a8"
             ],
             [
              0.3333333333333333,
              "#9c179e"
             ],
             [
              0.4444444444444444,
              "#bd3786"
             ],
             [
              0.5555555555555556,
              "#d8576b"
             ],
             [
              0.6666666666666666,
              "#ed7953"
             ],
             [
              0.7777777777777778,
              "#fb9f3a"
             ],
             [
              0.8888888888888888,
              "#fdca26"
             ],
             [
              1,
              "#f0f921"
             ]
            ],
            "type": "heatmap"
           }
          ],
          "heatmapgl": [
           {
            "colorbar": {
             "outlinewidth": 0,
             "ticks": ""
            },
            "colorscale": [
             [
              0,
              "#0d0887"
             ],
             [
              0.1111111111111111,
              "#46039f"
             ],
             [
              0.2222222222222222,
              "#7201a8"
             ],
             [
              0.3333333333333333,
              "#9c179e"
             ],
             [
              0.4444444444444444,
              "#bd3786"
             ],
             [
              0.5555555555555556,
              "#d8576b"
             ],
             [
              0.6666666666666666,
              "#ed7953"
             ],
             [
              0.7777777777777778,
              "#fb9f3a"
             ],
             [
              0.8888888888888888,
              "#fdca26"
             ],
             [
              1,
              "#f0f921"
             ]
            ],
            "type": "heatmapgl"
           }
          ],
          "histogram": [
           {
            "marker": {
             "pattern": {
              "fillmode": "overlay",
              "size": 10,
              "solidity": 0.2
             }
            },
            "type": "histogram"
           }
          ],
          "histogram2d": [
           {
            "colorbar": {
             "outlinewidth": 0,
             "ticks": ""
            },
            "colorscale": [
             [
              0,
              "#0d0887"
             ],
             [
              0.1111111111111111,
              "#46039f"
             ],
             [
              0.2222222222222222,
              "#7201a8"
             ],
             [
              0.3333333333333333,
              "#9c179e"
             ],
             [
              0.4444444444444444,
              "#bd3786"
             ],
             [
              0.5555555555555556,
              "#d8576b"
             ],
             [
              0.6666666666666666,
              "#ed7953"
             ],
             [
              0.7777777777777778,
              "#fb9f3a"
             ],
             [
              0.8888888888888888,
              "#fdca26"
             ],
             [
              1,
              "#f0f921"
             ]
            ],
            "type": "histogram2d"
           }
          ],
          "histogram2dcontour": [
           {
            "colorbar": {
             "outlinewidth": 0,
             "ticks": ""
            },
            "colorscale": [
             [
              0,
              "#0d0887"
             ],
             [
              0.1111111111111111,
              "#46039f"
             ],
             [
              0.2222222222222222,
              "#7201a8"
             ],
             [
              0.3333333333333333,
              "#9c179e"
             ],
             [
              0.4444444444444444,
              "#bd3786"
             ],
             [
              0.5555555555555556,
              "#d8576b"
             ],
             [
              0.6666666666666666,
              "#ed7953"
             ],
             [
              0.7777777777777778,
              "#fb9f3a"
             ],
             [
              0.8888888888888888,
              "#fdca26"
             ],
             [
              1,
              "#f0f921"
             ]
            ],
            "type": "histogram2dcontour"
           }
          ],
          "mesh3d": [
           {
            "colorbar": {
             "outlinewidth": 0,
             "ticks": ""
            },
            "type": "mesh3d"
           }
          ],
          "parcoords": [
           {
            "line": {
             "colorbar": {
              "outlinewidth": 0,
              "ticks": ""
             }
            },
            "type": "parcoords"
           }
          ],
          "pie": [
           {
            "automargin": true,
            "type": "pie"
           }
          ],
          "scatter": [
           {
            "fillpattern": {
             "fillmode": "overlay",
             "size": 10,
             "solidity": 0.2
            },
            "type": "scatter"
           }
          ],
          "scatter3d": [
           {
            "line": {
             "colorbar": {
              "outlinewidth": 0,
              "ticks": ""
             }
            },
            "marker": {
             "colorbar": {
              "outlinewidth": 0,
              "ticks": ""
             }
            },
            "type": "scatter3d"
           }
          ],
          "scattercarpet": [
           {
            "marker": {
             "colorbar": {
              "outlinewidth": 0,
              "ticks": ""
             }
            },
            "type": "scattercarpet"
           }
          ],
          "scattergeo": [
           {
            "marker": {
             "colorbar": {
              "outlinewidth": 0,
              "ticks": ""
             }
            },
            "type": "scattergeo"
           }
          ],
          "scattergl": [
           {
            "marker": {
             "colorbar": {
              "outlinewidth": 0,
              "ticks": ""
             }
            },
            "type": "scattergl"
           }
          ],
          "scattermapbox": [
           {
            "marker": {
             "colorbar": {
              "outlinewidth": 0,
              "ticks": ""
             }
            },
            "type": "scattermapbox"
           }
          ],
          "scatterpolar": [
           {
            "marker": {
             "colorbar": {
              "outlinewidth": 0,
              "ticks": ""
             }
            },
            "type": "scatterpolar"
           }
          ],
          "scatterpolargl": [
           {
            "marker": {
             "colorbar": {
              "outlinewidth": 0,
              "ticks": ""
             }
            },
            "type": "scatterpolargl"
           }
          ],
          "scatterternary": [
           {
            "marker": {
             "colorbar": {
              "outlinewidth": 0,
              "ticks": ""
             }
            },
            "type": "scatterternary"
           }
          ],
          "surface": [
           {
            "colorbar": {
             "outlinewidth": 0,
             "ticks": ""
            },
            "colorscale": [
             [
              0,
              "#0d0887"
             ],
             [
              0.1111111111111111,
              "#46039f"
             ],
             [
              0.2222222222222222,
              "#7201a8"
             ],
             [
              0.3333333333333333,
              "#9c179e"
             ],
             [
              0.4444444444444444,
              "#bd3786"
             ],
             [
              0.5555555555555556,
              "#d8576b"
             ],
             [
              0.6666666666666666,
              "#ed7953"
             ],
             [
              0.7777777777777778,
              "#fb9f3a"
             ],
             [
              0.8888888888888888,
              "#fdca26"
             ],
             [
              1,
              "#f0f921"
             ]
            ],
            "type": "surface"
           }
          ],
          "table": [
           {
            "cells": {
             "fill": {
              "color": "#EBF0F8"
             },
             "line": {
              "color": "white"
             }
            },
            "header": {
             "fill": {
              "color": "#C8D4E3"
             },
             "line": {
              "color": "white"
             }
            },
            "type": "table"
           }
          ]
         },
         "layout": {
          "annotationdefaults": {
           "arrowcolor": "#2a3f5f",
           "arrowhead": 0,
           "arrowwidth": 1
          },
          "autotypenumbers": "strict",
          "coloraxis": {
           "colorbar": {
            "outlinewidth": 0,
            "ticks": ""
           }
          },
          "colorscale": {
           "diverging": [
            [
             0,
             "#8e0152"
            ],
            [
             0.1,
             "#c51b7d"
            ],
            [
             0.2,
             "#de77ae"
            ],
            [
             0.3,
             "#f1b6da"
            ],
            [
             0.4,
             "#fde0ef"
            ],
            [
             0.5,
             "#f7f7f7"
            ],
            [
             0.6,
             "#e6f5d0"
            ],
            [
             0.7,
             "#b8e186"
            ],
            [
             0.8,
             "#7fbc41"
            ],
            [
             0.9,
             "#4d9221"
            ],
            [
             1,
             "#276419"
            ]
           ],
           "sequential": [
            [
             0,
             "#0d0887"
            ],
            [
             0.1111111111111111,
             "#46039f"
            ],
            [
             0.2222222222222222,
             "#7201a8"
            ],
            [
             0.3333333333333333,
             "#9c179e"
            ],
            [
             0.4444444444444444,
             "#bd3786"
            ],
            [
             0.5555555555555556,
             "#d8576b"
            ],
            [
             0.6666666666666666,
             "#ed7953"
            ],
            [
             0.7777777777777778,
             "#fb9f3a"
            ],
            [
             0.8888888888888888,
             "#fdca26"
            ],
            [
             1,
             "#f0f921"
            ]
           ],
           "sequentialminus": [
            [
             0,
             "#0d0887"
            ],
            [
             0.1111111111111111,
             "#46039f"
            ],
            [
             0.2222222222222222,
             "#7201a8"
            ],
            [
             0.3333333333333333,
             "#9c179e"
            ],
            [
             0.4444444444444444,
             "#bd3786"
            ],
            [
             0.5555555555555556,
             "#d8576b"
            ],
            [
             0.6666666666666666,
             "#ed7953"
            ],
            [
             0.7777777777777778,
             "#fb9f3a"
            ],
            [
             0.8888888888888888,
             "#fdca26"
            ],
            [
             1,
             "#f0f921"
            ]
           ]
          },
          "colorway": [
           "#636efa",
           "#EF553B",
           "#00cc96",
           "#ab63fa",
           "#FFA15A",
           "#19d3f3",
           "#FF6692",
           "#B6E880",
           "#FF97FF",
           "#FECB52"
          ],
          "font": {
           "color": "#2a3f5f"
          },
          "geo": {
           "bgcolor": "white",
           "lakecolor": "white",
           "landcolor": "white",
           "showlakes": true,
           "showland": true,
           "subunitcolor": "#C8D4E3"
          },
          "hoverlabel": {
           "align": "left"
          },
          "hovermode": "closest",
          "mapbox": {
           "style": "light"
          },
          "paper_bgcolor": "white",
          "plot_bgcolor": "white",
          "polar": {
           "angularaxis": {
            "gridcolor": "#EBF0F8",
            "linecolor": "#EBF0F8",
            "ticks": ""
           },
           "bgcolor": "white",
           "radialaxis": {
            "gridcolor": "#EBF0F8",
            "linecolor": "#EBF0F8",
            "ticks": ""
           }
          },
          "scene": {
           "xaxis": {
            "backgroundcolor": "white",
            "gridcolor": "#DFE8F3",
            "gridwidth": 2,
            "linecolor": "#EBF0F8",
            "showbackground": true,
            "ticks": "",
            "zerolinecolor": "#EBF0F8"
           },
           "yaxis": {
            "backgroundcolor": "white",
            "gridcolor": "#DFE8F3",
            "gridwidth": 2,
            "linecolor": "#EBF0F8",
            "showbackground": true,
            "ticks": "",
            "zerolinecolor": "#EBF0F8"
           },
           "zaxis": {
            "backgroundcolor": "white",
            "gridcolor": "#DFE8F3",
            "gridwidth": 2,
            "linecolor": "#EBF0F8",
            "showbackground": true,
            "ticks": "",
            "zerolinecolor": "#EBF0F8"
           }
          },
          "shapedefaults": {
           "line": {
            "color": "#2a3f5f"
           }
          },
          "ternary": {
           "aaxis": {
            "gridcolor": "#DFE8F3",
            "linecolor": "#A2B1C6",
            "ticks": ""
           },
           "baxis": {
            "gridcolor": "#DFE8F3",
            "linecolor": "#A2B1C6",
            "ticks": ""
           },
           "bgcolor": "white",
           "caxis": {
            "gridcolor": "#DFE8F3",
            "linecolor": "#A2B1C6",
            "ticks": ""
           }
          },
          "title": {
           "x": 0.05
          },
          "xaxis": {
           "automargin": true,
           "gridcolor": "#EBF0F8",
           "linecolor": "#EBF0F8",
           "ticks": "",
           "title": {
            "standoff": 15
           },
           "zerolinecolor": "#EBF0F8",
           "zerolinewidth": 2
          },
          "yaxis": {
           "automargin": true,
           "gridcolor": "#EBF0F8",
           "linecolor": "#EBF0F8",
           "ticks": "",
           "title": {
            "standoff": 15
           },
           "zerolinecolor": "#EBF0F8",
           "zerolinewidth": 2
          }
         }
        },
        "title": {
         "text": "That is the title)"
        },
        "width": 1000,
        "xaxis": {
         "anchor": "y",
         "domain": [
          0,
          1
         ],
         "title": {
          "font": {
           "size": 18
          },
          "text": "Year"
         }
        },
        "yaxis": {
         "anchor": "x",
         "domain": [
          0,
          1
         ],
         "title": {
          "font": {
           "size": 18
          },
          "text": "Count"
         }
        }
       }
      }
     },
     "metadata": {},
     "output_type": "display_data"
    }
   ],
   "source": [
    "import plotly.express as px\n",
    "import pandas as pd\n",
    "import numpy as np\n",
    "\n",
    "df = pd.read_csv('Mt_keywords_counts_year.csv')\n",
    "\n",
    "# df的count列转为float类型\n",
    "df['Count'] = df['Count'].astype(float)\n",
    "df['Count_jittered'] = df['Count'] + np.random.uniform(-0.5, 0.5, size=len(df))\n",
    "df['Year_jittered'] = df['Year'] + np.random.uniform(-0.3, 0.3, size=len(df))\n",
    "\n",
    "fig = px.scatter(df, \n",
    "                 x='Year_jittered', \n",
    "                 y='Count_jittered', \n",
    "                 size='Count',\n",
    "                 color='Count',\n",
    "                 hover_name='Keyword',  # 使用关键词作为悬浮名称\n",
    "                 hover_data=['Year', 'Count'],  \n",
    "                 size_max=20,\n",
    "                 title='That is the title)',\n",
    "                 labels={\"Count\": \"Numbers\", \"Year\": \"Years\"},\n",
    "                 color_continuous_scale=\"Geyser\",\n",
    "                )\n",
    "\n",
    "fig.update_layout(\n",
    "    template=\"plotly_white\",\n",
    "    width=1000,\n",
    "    height=600,\n",
    "    xaxis=dict(title=dict(text='Year', font=dict(size=18))),\n",
    "    yaxis=dict(title=dict(text='Count', font=dict(size=18)),\n",
    "    )\n",
    ")\n",
    "\n",
    "\n",
    "fig.show()"
   ]
  },
  {
   "cell_type": "code",
   "execution_count": 3,
   "metadata": {},
   "outputs": [],
   "source": [
    "import pandas as pd\n",
    "from collections import Counter\n",
    "import json\n",
    "import re"
   ]
  },
  {
   "cell_type": "code",
   "execution_count": 4,
   "metadata": {},
   "outputs": [],
   "source": [
    "# 读取csv数据\n",
    "data = pd.read_csv(\"./Mt_paper_all.csv\").copy()"
   ]
  },
  {
   "cell_type": "code",
   "execution_count": 5,
   "metadata": {},
   "outputs": [
    {
     "data": {
      "text/html": [
       "<div>\n",
       "<style scoped>\n",
       "    .dataframe tbody tr th:only-of-type {\n",
       "        vertical-align: middle;\n",
       "    }\n",
       "\n",
       "    .dataframe tbody tr th {\n",
       "        vertical-align: top;\n",
       "    }\n",
       "\n",
       "    .dataframe thead th {\n",
       "        text-align: right;\n",
       "    }\n",
       "</style>\n",
       "<table border=\"1\" class=\"dataframe\">\n",
       "  <thead>\n",
       "    <tr style=\"text-align: right;\">\n",
       "      <th></th>\n",
       "      <th>PMID</th>\n",
       "      <th>Author</th>\n",
       "      <th>Title</th>\n",
       "      <th>Abstract</th>\n",
       "      <th>Keywords</th>\n",
       "      <th>Journal</th>\n",
       "      <th>Institution</th>\n",
       "      <th>Country</th>\n",
       "      <th>DOI</th>\n",
       "      <th>Publication Year</th>\n",
       "    </tr>\n",
       "  </thead>\n",
       "  <tbody>\n",
       "    <tr>\n",
       "      <th>0</th>\n",
       "      <td>25025273</td>\n",
       "      <td>['Singh, Bijender']</td>\n",
       "      <td>Myceliophthora thermophila syn. Sporotrichum t...</td>\n",
       "      <td>Myceliophthora thermophila syn. Sporotrichum t...</td>\n",
       "      <td>Biomolecules, Myceliophthora thermophila, Spor...</td>\n",
       "      <td>Critical reviews in biotechnology</td>\n",
       "      <td>a Laboratory of Bioprocess Technology, Departm...</td>\n",
       "      <td>India</td>\n",
       "      <td>10.3109/07388551.2014.923985</td>\n",
       "      <td>2016</td>\n",
       "    </tr>\n",
       "    <tr>\n",
       "      <th>1</th>\n",
       "      <td>32640074</td>\n",
       "      <td>['Dos Santos Gomes, A C', 'Casciatori, F P', '...</td>\n",
       "      <td>Growth kinetics of Myceliophthora thermophila ...</td>\n",
       "      <td>AIMS: This work aimed to estimate the growth o...</td>\n",
       "      <td>N-acetylglucosamine, enzymes, growth kinetics,...</td>\n",
       "      <td>Journal of applied microbiology</td>\n",
       "      <td>Instituto de Biociencias, Letras e Ciencias Ex...</td>\n",
       "      <td>Brazil</td>\n",
       "      <td>10.1111/jam.14774</td>\n",
       "      <td>2021</td>\n",
       "    </tr>\n",
       "    <tr>\n",
       "      <th>2</th>\n",
       "      <td>24995002</td>\n",
       "      <td>['Karnaouri, Anthi', 'Topakas, Evangelos', 'An...</td>\n",
       "      <td>Genomic insights into the fungal lignocellulol...</td>\n",
       "      <td>The microbial conversion of solid cellulosic b...</td>\n",
       "      <td>CAZy, Myceliophthora thermophila, biofuels, li...</td>\n",
       "      <td>Frontiers in microbiology</td>\n",
       "      <td>Biotechnology Laboratory, Department of Synthe...</td>\n",
       "      <td>Sweden</td>\n",
       "      <td>10.3389/fmicb.2014.00281</td>\n",
       "      <td>2014</td>\n",
       "    </tr>\n",
       "    <tr>\n",
       "      <th>3</th>\n",
       "      <td>35450635</td>\n",
       "      <td>['Sun, Peicheng', 'de Munnik, Melanie', 'van B...</td>\n",
       "      <td>Extending the diversity of Myceliophthora ther...</td>\n",
       "      <td>Lytic polysaccharide monooxygenases (LPMOs) pl...</td>\n",
       "      <td>Active site segment, LPMOs, Lignocellulose, Ma...</td>\n",
       "      <td>Carbohydrate polymers</td>\n",
       "      <td>Laboratory of Food Chemistry, Wageningen Unive...</td>\n",
       "      <td>the Netherlands. Electronic address: peicheng....</td>\n",
       "      <td>10.1016/j.carbpol.2022.119373</td>\n",
       "      <td>2022</td>\n",
       "    </tr>\n",
       "    <tr>\n",
       "      <th>4</th>\n",
       "      <td>31534479</td>\n",
       "      <td>['Dos Santos Gomes, Ana Carolina', 'Falkoski, ...</td>\n",
       "      <td>Myceliophthora thermophila Xyr1 is predominant...</td>\n",
       "      <td>BACKGROUND: Myceliophthora thermophila is a th...</td>\n",
       "      <td>Cellulose degradation, Myceliophthora thermoph...</td>\n",
       "      <td>Biotechnology for biofuels</td>\n",
       "      <td>1Fungal Physiology, Westerdijk Fungal Biodiver...</td>\n",
       "      <td>The Netherlands. ISNI: 0000000120346234. GRID:...</td>\n",
       "      <td>10.1186/s13068-019-1556-y</td>\n",
       "      <td>2019</td>\n",
       "    </tr>\n",
       "    <tr>\n",
       "      <th>...</th>\n",
       "      <td>...</td>\n",
       "      <td>...</td>\n",
       "      <td>...</td>\n",
       "      <td>...</td>\n",
       "      <td>...</td>\n",
       "      <td>...</td>\n",
       "      <td>...</td>\n",
       "      <td>...</td>\n",
       "      <td>...</td>\n",
       "      <td>...</td>\n",
       "    </tr>\n",
       "    <tr>\n",
       "      <th>245</th>\n",
       "      <td>24128582</td>\n",
       "      <td>['Aljawish, Abdulhadi', 'Chevalot, Isabelle', ...</td>\n",
       "      <td>Laccase-catalysed oxidation of ferulic acid an...</td>\n",
       "      <td>The enzymatic oxidation of ferulic acid (FA) a...</td>\n",
       "      <td>Antioxidant, Cytotoxicity, Dye, Enzymatic oxid...</td>\n",
       "      <td>Food chemistry</td>\n",
       "      <td>Laboratoire d'Ingenierie des Biomolecules (LIB...</td>\n",
       "      <td>France</td>\n",
       "      <td>10.1016/j.foodchem.2013.07.119</td>\n",
       "      <td>2014</td>\n",
       "    </tr>\n",
       "    <tr>\n",
       "      <th>253</th>\n",
       "      <td>30960948</td>\n",
       "      <td>['Su, Jing', 'Shim, Euijin', 'Noro, Jennifer',...</td>\n",
       "      <td>Conductive Cotton by In Situ Laccase-Polymeriz...</td>\n",
       "      <td>Conductive cotton fabrics were obtained via in...</td>\n",
       "      <td>1-hydroxybenzotriazol (HBT), coatings, conduct...</td>\n",
       "      <td>Polymers</td>\n",
       "      <td>International Joint Research Laboratory for Te...</td>\n",
       "      <td>China. jingsu@ceb.uminho.pt</td>\n",
       "      <td>10.3390/polym10091023</td>\n",
       "      <td>2018</td>\n",
       "    </tr>\n",
       "    <tr>\n",
       "      <th>257</th>\n",
       "      <td>33807631</td>\n",
       "      <td>['Contato, Alex Graca', 'de Oliveira, Tassio B...</td>\n",
       "      <td>Prospection of Fungal Lignocellulolytic Enzyme...</td>\n",
       "      <td>The lignocellulosic biomass comprises three ma...</td>\n",
       "      <td>Hymenaea courbaril, Tamarindus indica, biopros...</td>\n",
       "      <td>Microorganisms</td>\n",
       "      <td>Departamento de Bioquimica e Imunologia, Facul...</td>\n",
       "      <td>Brazil</td>\n",
       "      <td>10.3390/microorganisms9030533</td>\n",
       "      <td>2021</td>\n",
       "    </tr>\n",
       "    <tr>\n",
       "      <th>263</th>\n",
       "      <td>36866191</td>\n",
       "      <td>['Bampidis, Vasileios', 'Azimonti, Giovanna', ...</td>\n",
       "      <td>Safety and efficacy of a feed additive consist...</td>\n",
       "      <td>Following a request from the European Commissi...</td>\n",
       "      <td>Natupulse(R), digestibility enhancers, efficac...</td>\n",
       "      <td>EFSA journal. European Food Safety Authority</td>\n",
       "      <td>?</td>\n",
       "      <td>NaN</td>\n",
       "      <td>10.2903/j.efsa.2023.7873</td>\n",
       "      <td>2023</td>\n",
       "    </tr>\n",
       "    <tr>\n",
       "      <th>264</th>\n",
       "      <td>37164048</td>\n",
       "      <td>['Goncalves, Aline Larissa', 'Cunha, Paula Mac...</td>\n",
       "      <td>Production of recombinant lytic polysaccharide...</td>\n",
       "      <td>Lignocellulosic biomass is a promising alterna...</td>\n",
       "      <td>Enzymes, Filamentous fungi, LPMO, Saccharifica...</td>\n",
       "      <td>Biochimica et biophysica acta. Proteins and pr...</td>\n",
       "      <td>Department of Biotechnology, Lorena School of ...</td>\n",
       "      <td>Brazil</td>\n",
       "      <td>10.1016/j.bbapap.2023.140919</td>\n",
       "      <td>2023</td>\n",
       "    </tr>\n",
       "  </tbody>\n",
       "</table>\n",
       "<p>153 rows × 10 columns</p>\n",
       "</div>"
      ],
      "text/plain": [
       "         PMID                                             Author  \\\n",
       "0    25025273                                ['Singh, Bijender']   \n",
       "1    32640074  ['Dos Santos Gomes, A C', 'Casciatori, F P', '...   \n",
       "2    24995002  ['Karnaouri, Anthi', 'Topakas, Evangelos', 'An...   \n",
       "3    35450635  ['Sun, Peicheng', 'de Munnik, Melanie', 'van B...   \n",
       "4    31534479  ['Dos Santos Gomes, Ana Carolina', 'Falkoski, ...   \n",
       "..        ...                                                ...   \n",
       "245  24128582  ['Aljawish, Abdulhadi', 'Chevalot, Isabelle', ...   \n",
       "253  30960948  ['Su, Jing', 'Shim, Euijin', 'Noro, Jennifer',...   \n",
       "257  33807631  ['Contato, Alex Graca', 'de Oliveira, Tassio B...   \n",
       "263  36866191  ['Bampidis, Vasileios', 'Azimonti, Giovanna', ...   \n",
       "264  37164048  ['Goncalves, Aline Larissa', 'Cunha, Paula Mac...   \n",
       "\n",
       "                                                 Title  \\\n",
       "0    Myceliophthora thermophila syn. Sporotrichum t...   \n",
       "1    Growth kinetics of Myceliophthora thermophila ...   \n",
       "2    Genomic insights into the fungal lignocellulol...   \n",
       "3    Extending the diversity of Myceliophthora ther...   \n",
       "4    Myceliophthora thermophila Xyr1 is predominant...   \n",
       "..                                                 ...   \n",
       "245  Laccase-catalysed oxidation of ferulic acid an...   \n",
       "253  Conductive Cotton by In Situ Laccase-Polymeriz...   \n",
       "257  Prospection of Fungal Lignocellulolytic Enzyme...   \n",
       "263  Safety and efficacy of a feed additive consist...   \n",
       "264  Production of recombinant lytic polysaccharide...   \n",
       "\n",
       "                                              Abstract  \\\n",
       "0    Myceliophthora thermophila syn. Sporotrichum t...   \n",
       "1    AIMS: This work aimed to estimate the growth o...   \n",
       "2    The microbial conversion of solid cellulosic b...   \n",
       "3    Lytic polysaccharide monooxygenases (LPMOs) pl...   \n",
       "4    BACKGROUND: Myceliophthora thermophila is a th...   \n",
       "..                                                 ...   \n",
       "245  The enzymatic oxidation of ferulic acid (FA) a...   \n",
       "253  Conductive cotton fabrics were obtained via in...   \n",
       "257  The lignocellulosic biomass comprises three ma...   \n",
       "263  Following a request from the European Commissi...   \n",
       "264  Lignocellulosic biomass is a promising alterna...   \n",
       "\n",
       "                                              Keywords  \\\n",
       "0    Biomolecules, Myceliophthora thermophila, Spor...   \n",
       "1    N-acetylglucosamine, enzymes, growth kinetics,...   \n",
       "2    CAZy, Myceliophthora thermophila, biofuels, li...   \n",
       "3    Active site segment, LPMOs, Lignocellulose, Ma...   \n",
       "4    Cellulose degradation, Myceliophthora thermoph...   \n",
       "..                                                 ...   \n",
       "245  Antioxidant, Cytotoxicity, Dye, Enzymatic oxid...   \n",
       "253  1-hydroxybenzotriazol (HBT), coatings, conduct...   \n",
       "257  Hymenaea courbaril, Tamarindus indica, biopros...   \n",
       "263  Natupulse(R), digestibility enhancers, efficac...   \n",
       "264  Enzymes, Filamentous fungi, LPMO, Saccharifica...   \n",
       "\n",
       "                                               Journal  \\\n",
       "0                    Critical reviews in biotechnology   \n",
       "1                      Journal of applied microbiology   \n",
       "2                            Frontiers in microbiology   \n",
       "3                                Carbohydrate polymers   \n",
       "4                           Biotechnology for biofuels   \n",
       "..                                                 ...   \n",
       "245                                     Food chemistry   \n",
       "253                                           Polymers   \n",
       "257                                     Microorganisms   \n",
       "263       EFSA journal. European Food Safety Authority   \n",
       "264  Biochimica et biophysica acta. Proteins and pr...   \n",
       "\n",
       "                                           Institution  \\\n",
       "0    a Laboratory of Bioprocess Technology, Departm...   \n",
       "1    Instituto de Biociencias, Letras e Ciencias Ex...   \n",
       "2    Biotechnology Laboratory, Department of Synthe...   \n",
       "3    Laboratory of Food Chemistry, Wageningen Unive...   \n",
       "4    1Fungal Physiology, Westerdijk Fungal Biodiver...   \n",
       "..                                                 ...   \n",
       "245  Laboratoire d'Ingenierie des Biomolecules (LIB...   \n",
       "253  International Joint Research Laboratory for Te...   \n",
       "257  Departamento de Bioquimica e Imunologia, Facul...   \n",
       "263                                                  ?   \n",
       "264  Department of Biotechnology, Lorena School of ...   \n",
       "\n",
       "                                               Country  \\\n",
       "0                                                India   \n",
       "1                                               Brazil   \n",
       "2                                               Sweden   \n",
       "3    the Netherlands. Electronic address: peicheng....   \n",
       "4    The Netherlands. ISNI: 0000000120346234. GRID:...   \n",
       "..                                                 ...   \n",
       "245                                             France   \n",
       "253                        China. jingsu@ceb.uminho.pt   \n",
       "257                                             Brazil   \n",
       "263                                                NaN   \n",
       "264                                             Brazil   \n",
       "\n",
       "                                DOI  Publication Year  \n",
       "0      10.3109/07388551.2014.923985              2016  \n",
       "1                 10.1111/jam.14774              2021  \n",
       "2          10.3389/fmicb.2014.00281              2014  \n",
       "3     10.1016/j.carbpol.2022.119373              2022  \n",
       "4         10.1186/s13068-019-1556-y              2019  \n",
       "..                              ...               ...  \n",
       "245  10.1016/j.foodchem.2013.07.119              2014  \n",
       "253           10.3390/polym10091023              2018  \n",
       "257   10.3390/microorganisms9030533              2021  \n",
       "263        10.2903/j.efsa.2023.7873              2023  \n",
       "264    10.1016/j.bbapap.2023.140919              2023  \n",
       "\n",
       "[153 rows x 10 columns]"
      ]
     },
     "execution_count": 5,
     "metadata": {},
     "output_type": "execute_result"
    }
   ],
   "source": [
    "# 如果data_filter中的Keywords列有空值，就删除该行\n",
    "data.dropna(subset=['Keywords'], inplace=True)\n",
    "data"
   ]
  },
  {
   "cell_type": "code",
   "execution_count": null,
   "metadata": {},
   "outputs": [],
   "source": [
    "# data只保留title和keywords两列\n",
    "data_filter = data[['Keywords', 'Publication Year']]\n",
    "\n",
    "# 保存data_filter为csv\n",
    "data_filter.to_csv(\"./Mt_paper_filter.csv\", index=False)"
   ]
  },
  {
   "cell_type": "code",
   "execution_count": null,
   "metadata": {},
   "outputs": [],
   "source": [
    "import pandas as pd\n",
    "from collections import defaultdict\n",
    "import re\n",
    "\n",
    "# 函数用于检查是否是有效的关键词\n",
    "def is_valid_keyword(keyword):\n",
    "    # 这里我们使用正则表达式排除仅包含数字的字符串\n",
    "    # 并且确认关键词长度超过2\n",
    "    return re.match(r'^[A-Za-z\\s]+$', keyword) and len(keyword) > 2\n",
    "\n",
    "# 初始化一个defaultdict来存储关键词计数\n",
    "keywords_yearly_counts = defaultdict(lambda: defaultdict(int))\n",
    "\n",
    "# 遍历DataFrame的每一行\n",
    "for index, row in data_filter.iterrows():\n",
    "    year = row['Publication Year']\n",
    "    keywords = row['Keywords'].split(',')\n",
    "    \n",
    "    # 去除空格并统一格式\n",
    "    keywords = [keyword.strip().capitalize() for keyword in keywords if is_valid_keyword(keyword)]\n",
    "    \n",
    "    for keyword in keywords:\n",
    "        keywords_yearly_counts[keyword][year] += 1\n",
    "\n",
    "# 转换为DataFrame\n",
    "keywords_yearly_df = pd.DataFrame([\n",
    "    {'Keyword': keyword, 'Year': year, 'Count': count}\n",
    "    for keyword, years in keywords_yearly_counts.items()\n",
    "    for year, count in years.items()\n",
    "])\n",
    "\n",
    "# 排序并保存\n",
    "keywords_yearly_df = keywords_yearly_df.sort_values(by=[\"Keyword\", \"Year\"])\n",
    "keywords_yearly_df.to_csv('Mt_keywords_counts_year.csv', index=False)"
   ]
  }
 ],
 "metadata": {
  "kernelspec": {
   "display_name": "code",
   "language": "python",
   "name": "python3"
  },
  "language_info": {
   "codemirror_mode": {
    "name": "ipython",
    "version": 3
   },
   "file_extension": ".py",
   "mimetype": "text/x-python",
   "name": "python",
   "nbconvert_exporter": "python",
   "pygments_lexer": "ipython3",
   "version": "3.10.13"
  }
 },
 "nbformat": 4,
 "nbformat_minor": 2
}
