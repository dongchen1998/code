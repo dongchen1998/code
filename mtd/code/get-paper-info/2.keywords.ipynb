{
 "cells": [
  {
   "cell_type": "code",
   "execution_count": 1,
   "metadata": {},
   "outputs": [
    {
     "data": {
      "application/vnd.plotly.v1+json": {
       "config": {
        "plotlyServerURL": "https://plot.ly"
       },
       "data": [
        {
         "customdata": [
          [
           "Keyword_2000",
           10
          ],
          [
           "Keyword_2001",
           2
          ],
          [
           "Keyword_2002",
           8
          ],
          [
           "Keyword_2003",
           4
          ],
          [
           "Keyword_2004",
           10
          ],
          [
           "Keyword_2005",
           8
          ],
          [
           "Keyword_2006",
           4
          ],
          [
           "Keyword_2007",
           2
          ],
          [
           "Keyword_2008",
           7
          ],
          [
           "Keyword_2009",
           4
          ],
          [
           "Keyword_2010",
           6
          ],
          [
           "Keyword_2011",
           9
          ],
          [
           "Keyword_2012",
           9
          ],
          [
           "Keyword_2013",
           9
          ],
          [
           "Keyword_2014",
           5
          ],
          [
           "Keyword_2015",
           6
          ],
          [
           "Keyword_2016",
           5
          ],
          [
           "Keyword_2017",
           6
          ],
          [
           "Keyword_2018",
           7
          ],
          [
           "Keyword_2019",
           4
          ],
          [
           "Keyword_2020",
           8
          ],
          [
           "Keyword_2021",
           1
          ],
          [
           "Keyword_2022",
           5
          ]
         ],
         "hovertemplate": "<b>%{hovertext}</b><br><br>Publication Years=%{x}<br>Publication Numbers=%{marker.color}<br>Keywords=%{customdata[0]}<br>Numbers=%{customdata[1]}<extra></extra>",
         "hovertext": [
          "Keyword_2000",
          "Keyword_2001",
          "Keyword_2002",
          "Keyword_2003",
          "Keyword_2004",
          "Keyword_2005",
          "Keyword_2006",
          "Keyword_2007",
          "Keyword_2008",
          "Keyword_2009",
          "Keyword_2010",
          "Keyword_2011",
          "Keyword_2012",
          "Keyword_2013",
          "Keyword_2014",
          "Keyword_2015",
          "Keyword_2016",
          "Keyword_2017",
          "Keyword_2018",
          "Keyword_2019",
          "Keyword_2020",
          "Keyword_2021",
          "Keyword_2022"
         ],
         "legendgroup": "",
         "marker": {
          "color": [
           731,
           573,
           407,
           439,
           531,
           757,
           413,
           534,
           695,
           774,
           645,
           594,
           720,
           427,
           790,
           414,
           527,
           683,
           488,
           732,
           720,
           755,
           698
          ],
          "coloraxis": "coloraxis",
          "size": [
           731,
           573,
           407,
           439,
           531,
           757,
           413,
           534,
           695,
           774,
           645,
           594,
           720,
           427,
           790,
           414,
           527,
           683,
           488,
           732,
           720,
           755,
           698
          ],
          "sizemode": "area",
          "sizeref": 1.975,
          "symbol": "diamond"
         },
         "mode": "markers",
         "name": "",
         "orientation": "v",
         "showlegend": false,
         "type": "scatter",
         "x": [
          2000,
          2001,
          2002,
          2003,
          2004,
          2005,
          2006,
          2007,
          2008,
          2009,
          2010,
          2011,
          2012,
          2013,
          2014,
          2015,
          2016,
          2017,
          2018,
          2019,
          2020,
          2021,
          2022
         ],
         "xaxis": "x",
         "y": [
          731,
          573,
          407,
          439,
          531,
          757,
          413,
          534,
          695,
          774,
          645,
          594,
          720,
          427,
          790,
          414,
          527,
          683,
          488,
          732,
          720,
          755,
          698
         ],
         "yaxis": "y"
        }
       ],
       "layout": {
        "coloraxis": {
         "colorbar": {
          "title": {
           "text": "Publication Numbers"
          }
         },
         "colorscale": [
          [
           0,
           "rgb(0, 128, 128)"
          ],
          [
           0.16666666666666666,
           "rgb(112, 164, 148)"
          ],
          [
           0.3333333333333333,
           "rgb(180, 200, 168)"
          ],
          [
           0.5,
           "rgb(246, 237, 189)"
          ],
          [
           0.6666666666666666,
           "rgb(237, 187, 138)"
          ],
          [
           0.8333333333333334,
           "rgb(222, 138, 90)"
          ],
          [
           1,
           "rgb(202, 86, 44)"
          ]
         ]
        },
        "height": 600,
        "legend": {
         "itemsizing": "constant",
         "tracegroupgap": 0
        },
        "template": {
         "data": {
          "bar": [
           {
            "error_x": {
             "color": "#2a3f5f"
            },
            "error_y": {
             "color": "#2a3f5f"
            },
            "marker": {
             "line": {
              "color": "white",
              "width": 0.5
             },
             "pattern": {
              "fillmode": "overlay",
              "size": 10,
              "solidity": 0.2
             }
            },
            "type": "bar"
           }
          ],
          "barpolar": [
           {
            "marker": {
             "line": {
              "color": "white",
              "width": 0.5
             },
             "pattern": {
              "fillmode": "overlay",
              "size": 10,
              "solidity": 0.2
             }
            },
            "type": "barpolar"
           }
          ],
          "carpet": [
           {
            "aaxis": {
             "endlinecolor": "#2a3f5f",
             "gridcolor": "#C8D4E3",
             "linecolor": "#C8D4E3",
             "minorgridcolor": "#C8D4E3",
             "startlinecolor": "#2a3f5f"
            },
            "baxis": {
             "endlinecolor": "#2a3f5f",
             "gridcolor": "#C8D4E3",
             "linecolor": "#C8D4E3",
             "minorgridcolor": "#C8D4E3",
             "startlinecolor": "#2a3f5f"
            },
            "type": "carpet"
           }
          ],
          "choropleth": [
           {
            "colorbar": {
             "outlinewidth": 0,
             "ticks": ""
            },
            "type": "choropleth"
           }
          ],
          "contour": [
           {
            "colorbar": {
             "outlinewidth": 0,
             "ticks": ""
            },
            "colorscale": [
             [
              0,
              "#0d0887"
             ],
             [
              0.1111111111111111,
              "#46039f"
             ],
             [
              0.2222222222222222,
              "#7201a8"
             ],
             [
              0.3333333333333333,
              "#9c179e"
             ],
             [
              0.4444444444444444,
              "#bd3786"
             ],
             [
              0.5555555555555556,
              "#d8576b"
             ],
             [
              0.6666666666666666,
              "#ed7953"
             ],
             [
              0.7777777777777778,
              "#fb9f3a"
             ],
             [
              0.8888888888888888,
              "#fdca26"
             ],
             [
              1,
              "#f0f921"
             ]
            ],
            "type": "contour"
           }
          ],
          "contourcarpet": [
           {
            "colorbar": {
             "outlinewidth": 0,
             "ticks": ""
            },
            "type": "contourcarpet"
           }
          ],
          "heatmap": [
           {
            "colorbar": {
             "outlinewidth": 0,
             "ticks": ""
            },
            "colorscale": [
             [
              0,
              "#0d0887"
             ],
             [
              0.1111111111111111,
              "#46039f"
             ],
             [
              0.2222222222222222,
              "#7201a8"
             ],
             [
              0.3333333333333333,
              "#9c179e"
             ],
             [
              0.4444444444444444,
              "#bd3786"
             ],
             [
              0.5555555555555556,
              "#d8576b"
             ],
             [
              0.6666666666666666,
              "#ed7953"
             ],
             [
              0.7777777777777778,
              "#fb9f3a"
             ],
             [
              0.8888888888888888,
              "#fdca26"
             ],
             [
              1,
              "#f0f921"
             ]
            ],
            "type": "heatmap"
           }
          ],
          "heatmapgl": [
           {
            "colorbar": {
             "outlinewidth": 0,
             "ticks": ""
            },
            "colorscale": [
             [
              0,
              "#0d0887"
             ],
             [
              0.1111111111111111,
              "#46039f"
             ],
             [
              0.2222222222222222,
              "#7201a8"
             ],
             [
              0.3333333333333333,
              "#9c179e"
             ],
             [
              0.4444444444444444,
              "#bd3786"
             ],
             [
              0.5555555555555556,
              "#d8576b"
             ],
             [
              0.6666666666666666,
              "#ed7953"
             ],
             [
              0.7777777777777778,
              "#fb9f3a"
             ],
             [
              0.8888888888888888,
              "#fdca26"
             ],
             [
              1,
              "#f0f921"
             ]
            ],
            "type": "heatmapgl"
           }
          ],
          "histogram": [
           {
            "marker": {
             "pattern": {
              "fillmode": "overlay",
              "size": 10,
              "solidity": 0.2
             }
            },
            "type": "histogram"
           }
          ],
          "histogram2d": [
           {
            "colorbar": {
             "outlinewidth": 0,
             "ticks": ""
            },
            "colorscale": [
             [
              0,
              "#0d0887"
             ],
             [
              0.1111111111111111,
              "#46039f"
             ],
             [
              0.2222222222222222,
              "#7201a8"
             ],
             [
              0.3333333333333333,
              "#9c179e"
             ],
             [
              0.4444444444444444,
              "#bd3786"
             ],
             [
              0.5555555555555556,
              "#d8576b"
             ],
             [
              0.6666666666666666,
              "#ed7953"
             ],
             [
              0.7777777777777778,
              "#fb9f3a"
             ],
             [
              0.8888888888888888,
              "#fdca26"
             ],
             [
              1,
              "#f0f921"
             ]
            ],
            "type": "histogram2d"
           }
          ],
          "histogram2dcontour": [
           {
            "colorbar": {
             "outlinewidth": 0,
             "ticks": ""
            },
            "colorscale": [
             [
              0,
              "#0d0887"
             ],
             [
              0.1111111111111111,
              "#46039f"
             ],
             [
              0.2222222222222222,
              "#7201a8"
             ],
             [
              0.3333333333333333,
              "#9c179e"
             ],
             [
              0.4444444444444444,
              "#bd3786"
             ],
             [
              0.5555555555555556,
              "#d8576b"
             ],
             [
              0.6666666666666666,
              "#ed7953"
             ],
             [
              0.7777777777777778,
              "#fb9f3a"
             ],
             [
              0.8888888888888888,
              "#fdca26"
             ],
             [
              1,
              "#f0f921"
             ]
            ],
            "type": "histogram2dcontour"
           }
          ],
          "mesh3d": [
           {
            "colorbar": {
             "outlinewidth": 0,
             "ticks": ""
            },
            "type": "mesh3d"
           }
          ],
          "parcoords": [
           {
            "line": {
             "colorbar": {
              "outlinewidth": 0,
              "ticks": ""
             }
            },
            "type": "parcoords"
           }
          ],
          "pie": [
           {
            "automargin": true,
            "type": "pie"
           }
          ],
          "scatter": [
           {
            "fillpattern": {
             "fillmode": "overlay",
             "size": 10,
             "solidity": 0.2
            },
            "type": "scatter"
           }
          ],
          "scatter3d": [
           {
            "line": {
             "colorbar": {
              "outlinewidth": 0,
              "ticks": ""
             }
            },
            "marker": {
             "colorbar": {
              "outlinewidth": 0,
              "ticks": ""
             }
            },
            "type": "scatter3d"
           }
          ],
          "scattercarpet": [
           {
            "marker": {
             "colorbar": {
              "outlinewidth": 0,
              "ticks": ""
             }
            },
            "type": "scattercarpet"
           }
          ],
          "scattergeo": [
           {
            "marker": {
             "colorbar": {
              "outlinewidth": 0,
              "ticks": ""
             }
            },
            "type": "scattergeo"
           }
          ],
          "scattergl": [
           {
            "marker": {
             "colorbar": {
              "outlinewidth": 0,
              "ticks": ""
             }
            },
            "type": "scattergl"
           }
          ],
          "scattermapbox": [
           {
            "marker": {
             "colorbar": {
              "outlinewidth": 0,
              "ticks": ""
             }
            },
            "type": "scattermapbox"
           }
          ],
          "scatterpolar": [
           {
            "marker": {
             "colorbar": {
              "outlinewidth": 0,
              "ticks": ""
             }
            },
            "type": "scatterpolar"
           }
          ],
          "scatterpolargl": [
           {
            "marker": {
             "colorbar": {
              "outlinewidth": 0,
              "ticks": ""
             }
            },
            "type": "scatterpolargl"
           }
          ],
          "scatterternary": [
           {
            "marker": {
             "colorbar": {
              "outlinewidth": 0,
              "ticks": ""
             }
            },
            "type": "scatterternary"
           }
          ],
          "surface": [
           {
            "colorbar": {
             "outlinewidth": 0,
             "ticks": ""
            },
            "colorscale": [
             [
              0,
              "#0d0887"
             ],
             [
              0.1111111111111111,
              "#46039f"
             ],
             [
              0.2222222222222222,
              "#7201a8"
             ],
             [
              0.3333333333333333,
              "#9c179e"
             ],
             [
              0.4444444444444444,
              "#bd3786"
             ],
             [
              0.5555555555555556,
              "#d8576b"
             ],
             [
              0.6666666666666666,
              "#ed7953"
             ],
             [
              0.7777777777777778,
              "#fb9f3a"
             ],
             [
              0.8888888888888888,
              "#fdca26"
             ],
             [
              1,
              "#f0f921"
             ]
            ],
            "type": "surface"
           }
          ],
          "table": [
           {
            "cells": {
             "fill": {
              "color": "#EBF0F8"
             },
             "line": {
              "color": "white"
             }
            },
            "header": {
             "fill": {
              "color": "#C8D4E3"
             },
             "line": {
              "color": "white"
             }
            },
            "type": "table"
           }
          ]
         },
         "layout": {
          "annotationdefaults": {
           "arrowcolor": "#2a3f5f",
           "arrowhead": 0,
           "arrowwidth": 1
          },
          "autotypenumbers": "strict",
          "coloraxis": {
           "colorbar": {
            "outlinewidth": 0,
            "ticks": ""
           }
          },
          "colorscale": {
           "diverging": [
            [
             0,
             "#8e0152"
            ],
            [
             0.1,
             "#c51b7d"
            ],
            [
             0.2,
             "#de77ae"
            ],
            [
             0.3,
             "#f1b6da"
            ],
            [
             0.4,
             "#fde0ef"
            ],
            [
             0.5,
             "#f7f7f7"
            ],
            [
             0.6,
             "#e6f5d0"
            ],
            [
             0.7,
             "#b8e186"
            ],
            [
             0.8,
             "#7fbc41"
            ],
            [
             0.9,
             "#4d9221"
            ],
            [
             1,
             "#276419"
            ]
           ],
           "sequential": [
            [
             0,
             "#0d0887"
            ],
            [
             0.1111111111111111,
             "#46039f"
            ],
            [
             0.2222222222222222,
             "#7201a8"
            ],
            [
             0.3333333333333333,
             "#9c179e"
            ],
            [
             0.4444444444444444,
             "#bd3786"
            ],
            [
             0.5555555555555556,
             "#d8576b"
            ],
            [
             0.6666666666666666,
             "#ed7953"
            ],
            [
             0.7777777777777778,
             "#fb9f3a"
            ],
            [
             0.8888888888888888,
             "#fdca26"
            ],
            [
             1,
             "#f0f921"
            ]
           ],
           "sequentialminus": [
            [
             0,
             "#0d0887"
            ],
            [
             0.1111111111111111,
             "#46039f"
            ],
            [
             0.2222222222222222,
             "#7201a8"
            ],
            [
             0.3333333333333333,
             "#9c179e"
            ],
            [
             0.4444444444444444,
             "#bd3786"
            ],
            [
             0.5555555555555556,
             "#d8576b"
            ],
            [
             0.6666666666666666,
             "#ed7953"
            ],
            [
             0.7777777777777778,
             "#fb9f3a"
            ],
            [
             0.8888888888888888,
             "#fdca26"
            ],
            [
             1,
             "#f0f921"
            ]
           ]
          },
          "colorway": [
           "#636efa",
           "#EF553B",
           "#00cc96",
           "#ab63fa",
           "#FFA15A",
           "#19d3f3",
           "#FF6692",
           "#B6E880",
           "#FF97FF",
           "#FECB52"
          ],
          "font": {
           "color": "#2a3f5f"
          },
          "geo": {
           "bgcolor": "white",
           "lakecolor": "white",
           "landcolor": "white",
           "showlakes": true,
           "showland": true,
           "subunitcolor": "#C8D4E3"
          },
          "hoverlabel": {
           "align": "left"
          },
          "hovermode": "closest",
          "mapbox": {
           "style": "light"
          },
          "paper_bgcolor": "white",
          "plot_bgcolor": "white",
          "polar": {
           "angularaxis": {
            "gridcolor": "#EBF0F8",
            "linecolor": "#EBF0F8",
            "ticks": ""
           },
           "bgcolor": "white",
           "radialaxis": {
            "gridcolor": "#EBF0F8",
            "linecolor": "#EBF0F8",
            "ticks": ""
           }
          },
          "scene": {
           "xaxis": {
            "backgroundcolor": "white",
            "gridcolor": "#DFE8F3",
            "gridwidth": 2,
            "linecolor": "#EBF0F8",
            "showbackground": true,
            "ticks": "",
            "zerolinecolor": "#EBF0F8"
           },
           "yaxis": {
            "backgroundcolor": "white",
            "gridcolor": "#DFE8F3",
            "gridwidth": 2,
            "linecolor": "#EBF0F8",
            "showbackground": true,
            "ticks": "",
            "zerolinecolor": "#EBF0F8"
           },
           "zaxis": {
            "backgroundcolor": "white",
            "gridcolor": "#DFE8F3",
            "gridwidth": 2,
            "linecolor": "#EBF0F8",
            "showbackground": true,
            "ticks": "",
            "zerolinecolor": "#EBF0F8"
           }
          },
          "shapedefaults": {
           "line": {
            "color": "#2a3f5f"
           }
          },
          "ternary": {
           "aaxis": {
            "gridcolor": "#DFE8F3",
            "linecolor": "#A2B1C6",
            "ticks": ""
           },
           "baxis": {
            "gridcolor": "#DFE8F3",
            "linecolor": "#A2B1C6",
            "ticks": ""
           },
           "bgcolor": "white",
           "caxis": {
            "gridcolor": "#DFE8F3",
            "linecolor": "#A2B1C6",
            "ticks": ""
           }
          },
          "title": {
           "x": 0.05
          },
          "xaxis": {
           "automargin": true,
           "gridcolor": "#EBF0F8",
           "linecolor": "#EBF0F8",
           "ticks": "",
           "title": {
            "standoff": 15
           },
           "zerolinecolor": "#EBF0F8",
           "zerolinewidth": 2
          },
          "yaxis": {
           "automargin": true,
           "gridcolor": "#EBF0F8",
           "linecolor": "#EBF0F8",
           "ticks": "",
           "title": {
            "standoff": 15
           },
           "zerolinecolor": "#EBF0F8",
           "zerolinewidth": 2
          }
         }
        },
        "title": {
         "text": "Publication Numbers of Ciliopathy Related Genes (2000-2022)"
        },
        "width": 1000,
        "xaxis": {
         "anchor": "y",
         "domain": [
          0,
          1
         ],
         "title": {
          "text": "Publication Years"
         }
        },
        "yaxis": {
         "anchor": "x",
         "domain": [
          0,
          1
         ],
         "title": {
          "text": "Publication Numbers"
         }
        }
       }
      }
     },
     "metadata": {},
     "output_type": "display_data"
    }
   ],
   "source": [
    "import plotly.express as px\n",
    "import pandas as pd\n",
    "import random\n",
    "\n",
    "# 生成测试数据\n",
    "years = list(range(2000, 2023))\n",
    "publications = [random.randint(400, 800) for _ in years]\n",
    "keywords = [f\"Keyword_{year}\" for year in years]\n",
    "numbers = [random.randint(1, 10) for _ in years]\n",
    "\n",
    "data = {'Year': years, 'Publications': publications, 'Keywords': keywords, 'Numbers': numbers}\n",
    "\n",
    "df = pd.DataFrame(data)\n",
    "\n",
    "# 使用plotly进行绘图\n",
    "fig = px.scatter(df, \n",
    "                 x='Year', \n",
    "                 y='Publications', \n",
    "                 size='Publications',\n",
    "                 color='Publications',\n",
    "                 hover_name='Keywords',\n",
    "                 hover_data=['Keywords', 'Numbers'],  # 添加了Keywords和Numbers到悬浮数据中\n",
    "                 size_max=20,\n",
    "                 title='Publication Numbers of Ciliopathy Related Genes (2000-2022)',\n",
    "                 labels={\"Publications\": \"Publication Numbers\", \"Year\": \"Publication Years\"},\n",
    "                 color_continuous_scale=\"Geyser\",  # _r表示颜色反转\n",
    "                #  color_continuous_scale=px.colors.sequential.Viridis\n",
    "                 )\n",
    "\n",
    "fig.update_layout(\n",
    "    # font=dict(family=\"Arial\", size=14),\n",
    "    template=\"plotly_white\",\n",
    "    # template=\"simple_white\",\n",
    "    width=1000,  # 图表宽度\n",
    "    height=600,  # 图表高度\n",
    ")\n",
    "\n",
    "fig.update_traces(marker_symbol='diamond')\n",
    "\n",
    "# 显示图表\n",
    "fig.show()\n"
   ]
  },
  {
   "cell_type": "markdown",
   "metadata": {},
   "source": [
    "marker_symbol 参数可以设置不同的标记形状,主要有以下几种:\n",
    "\n",
    "'circle' - 默认的圆形标记\n",
    "'square' - 正方形标记\n",
    "'diamond' - 菱形标记\n",
    "'cross' - 十字标记\n",
    "'x' - X形标记\n",
    "'triangle-up' - 向上三角形标记\n",
    "'triangle-down' - 向下三角形标记\n",
    "'triangle-left' - 左向三角形标记\n",
    "'triangle-right' - 右向三角形标记\n",
    "'pentagon' - 五边形标记\n",
    "'hexagon' - 六边形标记\n",
    "'hexagon2' - 六边形标记的另一种样式\n",
    "'octagon' - 八边形标记\n",
    "'star' - 星形标记\n",
    "'line' - 线条标记\n",
    "'dash' - 短线条标记\n",
    "'dot' - 圆点标记\n",
    "'circle-open' - 空心圆标记\n",
    "'circle-dot' - 圆环点标记\n",
    "'square-open' - 空心方块标记\n",
    "'square-dot' - 带圆点的方块标记"
   ]
  },
  {
   "cell_type": "code",
   "execution_count": 2,
   "metadata": {},
   "outputs": [
    {
     "data": {
      "application/vnd.plotly.v1+json": {
       "config": {
        "plotlyServerURL": "https://plot.ly"
       },
       "data": [
        {
         "customdata": [
          [
           2015,
           1
          ],
          [
           2020,
           1
          ],
          [
           2018,
           1
          ],
          [
           2021,
           1
          ],
          [
           2022,
           1
          ],
          [
           2023,
           1
          ],
          [
           2017,
           1
          ],
          [
           2022,
           1
          ],
          [
           2017,
           1
          ],
          [
           2014,
           1
          ],
          [
           2021,
           1
          ],
          [
           2022,
           1
          ],
          [
           2019,
           1
          ],
          [
           2017,
           1
          ],
          [
           2019,
           1
          ],
          [
           2018,
           1
          ],
          [
           2022,
           1
          ],
          [
           2021,
           1
          ],
          [
           2022,
           1
          ],
          [
           2023,
           1
          ],
          [
           2022,
           1
          ],
          [
           2014,
           1
          ],
          [
           2017,
           1
          ],
          [
           2022,
           1
          ],
          [
           2019,
           1
          ],
          [
           2023,
           1
          ],
          [
           2018,
           1
          ],
          [
           2023,
           1
          ],
          [
           2014,
           1
          ],
          [
           2017,
           1
          ],
          [
           2017,
           1
          ],
          [
           2020,
           1
          ],
          [
           2022,
           1
          ],
          [
           2017,
           1
          ],
          [
           2017,
           1
          ],
          [
           2018,
           1
          ],
          [
           2023,
           1
          ],
          [
           2022,
           1
          ],
          [
           2018,
           1
          ],
          [
           2018,
           1
          ],
          [
           2022,
           1
          ],
          [
           2017,
           1
          ],
          [
           2018,
           1
          ],
          [
           2014,
           1
          ],
          [
           2017,
           2
          ],
          [
           2016,
           1
          ],
          [
           2020,
           1
          ],
          [
           2017,
           1
          ],
          [
           2014,
           1
          ],
          [
           2017,
           1
          ],
          [
           2020,
           1
          ],
          [
           2021,
           1
          ],
          [
           2022,
           1
          ],
          [
           2016,
           1
          ],
          [
           2020,
           1
          ],
          [
           2023,
           1
          ],
          [
           2014,
           1
          ],
          [
           2016,
           1
          ],
          [
           2021,
           1
          ],
          [
           2015,
           1
          ],
          [
           2016,
           1
          ],
          [
           2017,
           1
          ],
          [
           2020,
           1
          ],
          [
           2016,
           1
          ],
          [
           2017,
           1
          ],
          [
           2016,
           1
          ],
          [
           2015,
           1
          ],
          [
           2016,
           1
          ],
          [
           2016,
           1
          ],
          [
           2017,
           1
          ],
          [
           2014,
           1
          ],
          [
           2015,
           1
          ],
          [
           2016,
           1
          ],
          [
           2021,
           1
          ],
          [
           2021,
           1
          ],
          [
           2021,
           1
          ],
          [
           2019,
           1
          ],
          [
           2017,
           1
          ],
          [
           2018,
           1
          ],
          [
           2019,
           1
          ],
          [
           2019,
           1
          ],
          [
           2020,
           1
          ],
          [
           2022,
           1
          ],
          [
           2012,
           1
          ],
          [
           2014,
           1
          ],
          [
           2015,
           1
          ],
          [
           2018,
           1
          ],
          [
           2019,
           1
          ],
          [
           2021,
           1
          ],
          [
           2022,
           2
          ],
          [
           2023,
           2
          ],
          [
           2022,
           1
          ],
          [
           2013,
           1
          ],
          [
           2017,
           1
          ],
          [
           2019,
           1
          ],
          [
           2020,
           1
          ],
          [
           2022,
           1
          ],
          [
           2017,
           1
          ],
          [
           2015,
           1
          ],
          [
           2018,
           1
          ],
          [
           2019,
           1
          ],
          [
           2020,
           1
          ],
          [
           2021,
           1
          ],
          [
           2016,
           1
          ],
          [
           2019,
           1
          ],
          [
           2022,
           1
          ],
          [
           2016,
           1
          ],
          [
           2017,
           1
          ],
          [
           2016,
           1
          ],
          [
           2021,
           1
          ],
          [
           2023,
           1
          ],
          [
           2023,
           1
          ],
          [
           2017,
           1
          ],
          [
           2016,
           1
          ],
          [
           2023,
           1
          ],
          [
           2010,
           1
          ],
          [
           2018,
           2
          ],
          [
           2018,
           1
          ],
          [
           2018,
           2
          ],
          [
           2022,
           1
          ],
          [
           2018,
           1
          ],
          [
           2013,
           1
          ],
          [
           2015,
           1
          ],
          [
           2017,
           1
          ],
          [
           2021,
           1
          ],
          [
           2018,
           1
          ],
          [
           2017,
           1
          ],
          [
           2017,
           1
          ],
          [
           2015,
           1
          ],
          [
           2018,
           1
          ],
          [
           2013,
           1
          ],
          [
           2020,
           1
          ],
          [
           2017,
           1
          ],
          [
           2019,
           1
          ],
          [
           2019,
           1
          ],
          [
           2020,
           1
          ],
          [
           2021,
           1
          ],
          [
           2018,
           1
          ],
          [
           2023,
           1
          ],
          [
           2019,
           1
          ],
          [
           2021,
           1
          ],
          [
           2016,
           1
          ],
          [
           2018,
           1
          ],
          [
           2021,
           1
          ],
          [
           2017,
           1
          ],
          [
           2022,
           1
          ],
          [
           2014,
           1
          ],
          [
           2021,
           1
          ],
          [
           2018,
           3
          ],
          [
           2021,
           1
          ],
          [
           2021,
           1
          ],
          [
           2013,
           1
          ],
          [
           2022,
           1
          ],
          [
           2021,
           1
          ],
          [
           2015,
           1
          ],
          [
           2023,
           1
          ],
          [
           2020,
           1
          ],
          [
           2018,
           1
          ],
          [
           2023,
           1
          ],
          [
           2022,
           1
          ],
          [
           2017,
           1
          ],
          [
           2015,
           1
          ],
          [
           2022,
           1
          ],
          [
           2014,
           1
          ],
          [
           2022,
           1
          ],
          [
           2023,
           1
          ],
          [
           2016,
           1
          ],
          [
           2019,
           1
          ],
          [
           2017,
           1
          ],
          [
           2018,
           1
          ],
          [
           2015,
           1
          ],
          [
           2017,
           1
          ],
          [
           2019,
           1
          ],
          [
           2021,
           1
          ],
          [
           2014,
           1
          ],
          [
           2017,
           3
          ],
          [
           2019,
           1
          ],
          [
           2016,
           1
          ],
          [
           2014,
           1
          ],
          [
           2022,
           1
          ],
          [
           2015,
           1
          ],
          [
           2016,
           1
          ],
          [
           2017,
           1
          ],
          [
           2017,
           1
          ],
          [
           2020,
           1
          ],
          [
           2019,
           1
          ],
          [
           2020,
           1
          ],
          [
           2013,
           1
          ],
          [
           2023,
           1
          ],
          [
           2021,
           1
          ],
          [
           2017,
           1
          ],
          [
           2016,
           2
          ],
          [
           2018,
           1
          ],
          [
           2016,
           1
          ],
          [
           2019,
           1
          ],
          [
           2021,
           2
          ],
          [
           2023,
           1
          ],
          [
           2020,
           1
          ],
          [
           2017,
           1
          ],
          [
           2022,
           1
          ],
          [
           2019,
           1
          ],
          [
           2017,
           1
          ],
          [
           2016,
           1
          ],
          [
           2020,
           1
          ],
          [
           2020,
           1
          ],
          [
           2013,
           1
          ],
          [
           2014,
           1
          ],
          [
           2023,
           1
          ],
          [
           2018,
           1
          ],
          [
           2016,
           1
          ],
          [
           2018,
           1
          ],
          [
           2018,
           1
          ],
          [
           2021,
           1
          ],
          [
           2014,
           1
          ],
          [
           2017,
           1
          ],
          [
           2021,
           1
          ],
          [
           2022,
           1
          ],
          [
           2017,
           1
          ],
          [
           2018,
           1
          ],
          [
           2017,
           1
          ],
          [
           2019,
           2
          ],
          [
           2020,
           1
          ],
          [
           2022,
           3
          ],
          [
           2023,
           1
          ],
          [
           2020,
           1
          ],
          [
           2021,
           1
          ],
          [
           2016,
           1
          ],
          [
           2022,
           1
          ],
          [
           2021,
           1
          ],
          [
           2019,
           1
          ],
          [
           2021,
           1
          ],
          [
           2020,
           1
          ],
          [
           2013,
           1
          ],
          [
           2018,
           1
          ],
          [
           2016,
           1
          ],
          [
           2022,
           1
          ],
          [
           2017,
           1
          ],
          [
           2021,
           1
          ],
          [
           2021,
           1
          ],
          [
           2021,
           1
          ],
          [
           2016,
           1
          ],
          [
           2023,
           1
          ],
          [
           2023,
           1
          ],
          [
           2021,
           1
          ],
          [
           2021,
           1
          ],
          [
           2016,
           1
          ],
          [
           2020,
           1
          ],
          [
           2018,
           1
          ],
          [
           2023,
           1
          ],
          [
           2019,
           2
          ],
          [
           2016,
           1
          ],
          [
           2015,
           1
          ],
          [
           2022,
           1
          ],
          [
           2022,
           1
          ],
          [
           2023,
           1
          ],
          [
           2013,
           1
          ],
          [
           2021,
           1
          ],
          [
           2019,
           1
          ],
          [
           2022,
           1
          ],
          [
           2015,
           1
          ],
          [
           2022,
           1
          ],
          [
           2022,
           1
          ],
          [
           2021,
           1
          ],
          [
           2022,
           1
          ],
          [
           2019,
           1
          ],
          [
           2022,
           1
          ],
          [
           2023,
           1
          ],
          [
           2016,
           1
          ],
          [
           2021,
           1
          ],
          [
           2022,
           1
          ],
          [
           2021,
           1
          ],
          [
           2018,
           1
          ],
          [
           2023,
           1
          ],
          [
           2022,
           1
          ],
          [
           2015,
           1
          ],
          [
           2019,
           1
          ],
          [
           2021,
           1
          ],
          [
           2022,
           1
          ],
          [
           2018,
           1
          ],
          [
           2013,
           1
          ],
          [
           2021,
           1
          ],
          [
           2017,
           1
          ],
          [
           2015,
           1
          ],
          [
           2016,
           1
          ],
          [
           2021,
           1
          ],
          [
           2016,
           1
          ],
          [
           2021,
           1
          ],
          [
           2017,
           1
          ],
          [
           2019,
           1
          ],
          [
           2021,
           1
          ],
          [
           2022,
           1
          ],
          [
           2010,
           1
          ],
          [
           2014,
           1
          ],
          [
           2018,
           1
          ],
          [
           2021,
           1
          ],
          [
           2021,
           1
          ],
          [
           2020,
           1
          ],
          [
           2018,
           1
          ],
          [
           2016,
           1
          ],
          [
           2022,
           1
          ],
          [
           2022,
           1
          ],
          [
           2022,
           1
          ],
          [
           2022,
           1
          ],
          [
           2023,
           1
          ],
          [
           2014,
           1
          ],
          [
           2022,
           1
          ],
          [
           2018,
           1
          ],
          [
           2016,
           1
          ],
          [
           2021,
           1
          ],
          [
           2021,
           1
          ],
          [
           2018,
           1
          ],
          [
           2022,
           1
          ],
          [
           2023,
           1
          ],
          [
           2010,
           1
          ],
          [
           2014,
           2
          ],
          [
           2016,
           4
          ],
          [
           2017,
           1
          ],
          [
           2018,
           8
          ],
          [
           2020,
           1
          ],
          [
           2021,
           4
          ],
          [
           2022,
           1
          ],
          [
           2023,
           1
          ],
          [
           2017,
           1
          ],
          [
           2018,
           1
          ],
          [
           2023,
           1
          ],
          [
           2018,
           1
          ],
          [
           2016,
           3
          ],
          [
           2022,
           1
          ],
          [
           2022,
           1
          ],
          [
           2014,
           1
          ],
          [
           2021,
           1
          ],
          [
           2016,
           1
          ],
          [
           2017,
           2
          ],
          [
           2018,
           1
          ],
          [
           2022,
           1
          ],
          [
           2017,
           2
          ],
          [
           2020,
           1
          ],
          [
           2021,
           1
          ],
          [
           2021,
           1
          ],
          [
           2021,
           1
          ],
          [
           2021,
           1
          ],
          [
           2015,
           1
          ],
          [
           2017,
           2
          ],
          [
           2020,
           1
          ],
          [
           2023,
           1
          ],
          [
           2021,
           1
          ],
          [
           2022,
           1
          ],
          [
           2021,
           1
          ],
          [
           2017,
           2
          ],
          [
           2018,
           1
          ],
          [
           2019,
           1
          ],
          [
           2020,
           1
          ],
          [
           2021,
           1
          ],
          [
           2022,
           1
          ],
          [
           2023,
           1
          ],
          [
           2013,
           1
          ],
          [
           2023,
           1
          ],
          [
           2017,
           1
          ],
          [
           2019,
           1
          ],
          [
           2021,
           1
          ],
          [
           2022,
           1
          ],
          [
           2019,
           1
          ],
          [
           2019,
           1
          ],
          [
           2022,
           1
          ],
          [
           2014,
           1
          ],
          [
           2022,
           1
          ],
          [
           2022,
           1
          ],
          [
           2022,
           1
          ],
          [
           2021,
           1
          ],
          [
           2015,
           1
          ],
          [
           2010,
           1
          ],
          [
           2018,
           1
          ],
          [
           2019,
           1
          ],
          [
           2020,
           1
          ],
          [
           2021,
           2
          ],
          [
           2022,
           2
          ],
          [
           2022,
           1
          ],
          [
           2020,
           1
          ],
          [
           2019,
           1
          ],
          [
           2020,
           1
          ],
          [
           2016,
           1
          ],
          [
           2015,
           1
          ],
          [
           2017,
           1
          ],
          [
           2021,
           1
          ],
          [
           2015,
           1
          ],
          [
           2021,
           1
          ],
          [
           2022,
           2
          ],
          [
           2020,
           1
          ],
          [
           2023,
           1
          ],
          [
           2018,
           1
          ],
          [
           2015,
           1
          ],
          [
           2017,
           1
          ],
          [
           2020,
           1
          ],
          [
           2019,
           1
          ],
          [
           2017,
           1
          ],
          [
           2017,
           1
          ],
          [
           2021,
           2
          ],
          [
           2023,
           2
          ],
          [
           2013,
           2
          ],
          [
           2014,
           2
          ],
          [
           2015,
           3
          ],
          [
           2016,
           4
          ],
          [
           2017,
           8
          ],
          [
           2018,
           7
          ],
          [
           2019,
           5
          ],
          [
           2020,
           5
          ],
          [
           2021,
           2
          ],
          [
           2022,
           9
          ],
          [
           2023,
           2
          ],
          [
           2020,
           1
          ],
          [
           2018,
           1
          ],
          [
           2014,
           1
          ],
          [
           2022,
           1
          ],
          [
           2014,
           1
          ],
          [
           2021,
           1
          ],
          [
           2021,
           1
          ],
          [
           2021,
           1
          ],
          [
           2022,
           1
          ],
          [
           2013,
           1
          ],
          [
           2021,
           1
          ],
          [
           2017,
           1
          ],
          [
           2017,
           1
          ],
          [
           2016,
           1
          ],
          [
           2013,
           1
          ],
          [
           2022,
           1
          ],
          [
           2016,
           1
          ],
          [
           2018,
           1
          ],
          [
           2017,
           1
          ],
          [
           2018,
           1
          ],
          [
           2021,
           1
          ],
          [
           2022,
           1
          ],
          [
           2017,
           1
          ],
          [
           2013,
           1
          ],
          [
           2019,
           1
          ],
          [
           2016,
           1
          ],
          [
           2021,
           1
          ],
          [
           2020,
           1
          ],
          [
           2022,
           1
          ],
          [
           2018,
           1
          ],
          [
           2014,
           1
          ],
          [
           2017,
           1
          ],
          [
           2017,
           1
          ],
          [
           2015,
           1
          ],
          [
           2019,
           1
          ],
          [
           2018,
           1
          ],
          [
           2021,
           1
          ],
          [
           2018,
           1
          ],
          [
           2016,
           1
          ],
          [
           2018,
           1
          ],
          [
           2017,
           1
          ],
          [
           2017,
           1
          ],
          [
           2013,
           1
          ],
          [
           2015,
           1
          ],
          [
           2016,
           1
          ],
          [
           2017,
           2
          ],
          [
           2018,
           1
          ],
          [
           2019,
           1
          ],
          [
           2021,
           1
          ],
          [
           2018,
           1
          ],
          [
           2014,
           1
          ],
          [
           2018,
           1
          ],
          [
           2021,
           1
          ],
          [
           2020,
           1
          ],
          [
           2018,
           1
          ],
          [
           2015,
           1
          ],
          [
           2016,
           1
          ],
          [
           2017,
           1
          ],
          [
           2018,
           1
          ],
          [
           2023,
           1
          ],
          [
           2017,
           1
          ],
          [
           2021,
           1
          ],
          [
           2019,
           1
          ],
          [
           2019,
           1
          ],
          [
           2014,
           1
          ],
          [
           2023,
           1
          ],
          [
           2021,
           1
          ],
          [
           2017,
           1
          ],
          [
           2022,
           1
          ],
          [
           2017,
           1
          ],
          [
           2021,
           1
          ],
          [
           2021,
           1
          ],
          [
           2015,
           1
          ],
          [
           2020,
           1
          ],
          [
           2021,
           1
          ],
          [
           2017,
           2
          ],
          [
           2020,
           2
          ],
          [
           2021,
           1
          ],
          [
           2014,
           1
          ],
          [
           2016,
           1
          ],
          [
           2019,
           1
          ],
          [
           2020,
           1
          ],
          [
           2015,
           1
          ],
          [
           2021,
           2
          ],
          [
           2016,
           1
          ],
          [
           2021,
           1
          ],
          [
           2016,
           1
          ],
          [
           2022,
           1
          ],
          [
           2020,
           1
          ],
          [
           2017,
           1
          ],
          [
           2022,
           1
          ],
          [
           2021,
           1
          ],
          [
           2022,
           1
          ],
          [
           2022,
           1
          ],
          [
           2022,
           1
          ],
          [
           2013,
           1
          ],
          [
           2018,
           1
          ],
          [
           2022,
           1
          ],
          [
           2018,
           1
          ],
          [
           2013,
           1
          ],
          [
           2020,
           1
          ],
          [
           2023,
           1
          ],
          [
           2019,
           1
          ],
          [
           2022,
           1
          ],
          [
           2015,
           1
          ],
          [
           2016,
           1
          ],
          [
           2018,
           1
          ],
          [
           2019,
           1
          ],
          [
           2018,
           1
          ],
          [
           2019,
           1
          ],
          [
           2023,
           1
          ],
          [
           2018,
           1
          ],
          [
           2023,
           1
          ],
          [
           2016,
           1
          ],
          [
           2023,
           1
          ],
          [
           2016,
           1
          ],
          [
           2021,
           1
          ],
          [
           2023,
           1
          ],
          [
           2021,
           1
          ],
          [
           2014,
           1
          ],
          [
           2021,
           1
          ],
          [
           2017,
           1
          ],
          [
           2017,
           1
          ],
          [
           2016,
           1
          ],
          [
           2017,
           1
          ],
          [
           2010,
           1
          ],
          [
           2014,
           1
          ],
          [
           2022,
           1
          ],
          [
           2018,
           1
          ],
          [
           2019,
           1
          ],
          [
           2020,
           1
          ],
          [
           2022,
           1
          ],
          [
           2020,
           1
          ],
          [
           2014,
           1
          ],
          [
           2016,
           1
          ],
          [
           2019,
           1
          ],
          [
           2020,
           1
          ],
          [
           2023,
           1
          ],
          [
           2016,
           1
          ],
          [
           2022,
           1
          ],
          [
           2017,
           1
          ],
          [
           2016,
           1
          ],
          [
           2019,
           1
          ],
          [
           2022,
           1
          ],
          [
           2016,
           1
          ],
          [
           2017,
           1
          ],
          [
           2015,
           1
          ],
          [
           2021,
           1
          ],
          [
           2022,
           1
          ],
          [
           2018,
           1
          ],
          [
           2018,
           2
          ],
          [
           2023,
           1
          ],
          [
           2013,
           1
          ],
          [
           2012,
           1
          ],
          [
           2015,
           1
          ],
          [
           2017,
           1
          ],
          [
           2019,
           1
          ],
          [
           2021,
           1
          ],
          [
           2022,
           2
          ],
          [
           2016,
           1
          ],
          [
           2017,
           1
          ],
          [
           2015,
           2
          ],
          [
           2017,
           1
          ],
          [
           2020,
           1
          ],
          [
           2021,
           1
          ],
          [
           2022,
           1
          ],
          [
           2023,
           1
          ],
          [
           2023,
           1
          ],
          [
           2021,
           1
          ],
          [
           2016,
           1
          ],
          [
           2022,
           1
          ],
          [
           2019,
           1
          ],
          [
           2020,
           1
          ],
          [
           2021,
           1
          ],
          [
           2023,
           1
          ],
          [
           2019,
           2
          ],
          [
           2020,
           1
          ],
          [
           2021,
           1
          ],
          [
           2016,
           1
          ],
          [
           2023,
           1
          ],
          [
           2020,
           1
          ],
          [
           2017,
           1
          ],
          [
           2015,
           1
          ],
          [
           2018,
           1
          ],
          [
           2022,
           1
          ],
          [
           2018,
           1
          ],
          [
           2023,
           1
          ],
          [
           2018,
           1
          ],
          [
           2022,
           1
          ],
          [
           2018,
           1
          ],
          [
           2021,
           1
          ],
          [
           2022,
           1
          ],
          [
           2017,
           1
          ],
          [
           2013,
           1
          ],
          [
           2021,
           1
          ],
          [
           2020,
           1
          ],
          [
           2017,
           2
          ],
          [
           2020,
           1
          ],
          [
           2022,
           1
          ],
          [
           2015,
           1
          ],
          [
           2017,
           1
          ],
          [
           2021,
           1
          ],
          [
           2017,
           1
          ],
          [
           2022,
           1
          ],
          [
           2022,
           1
          ],
          [
           2022,
           1
          ],
          [
           2017,
           1
          ],
          [
           2021,
           1
          ],
          [
           2018,
           1
          ],
          [
           2023,
           1
          ],
          [
           2015,
           1
          ],
          [
           2018,
           1
          ],
          [
           2021,
           1
          ],
          [
           2023,
           1
          ],
          [
           2018,
           1
          ],
          [
           2015,
           1
          ],
          [
           2014,
           1
          ],
          [
           2015,
           1
          ],
          [
           2016,
           2
          ],
          [
           2021,
           1
          ],
          [
           2019,
           1
          ],
          [
           2012,
           1
          ],
          [
           2018,
           1
          ],
          [
           2020,
           1
          ],
          [
           2021,
           1
          ],
          [
           2023,
           1
          ],
          [
           2018,
           1
          ],
          [
           2019,
           1
          ],
          [
           2019,
           1
          ],
          [
           2021,
           1
          ],
          [
           2017,
           1
          ],
          [
           2021,
           1
          ],
          [
           2022,
           1
          ],
          [
           2017,
           1
          ],
          [
           2020,
           2
          ],
          [
           2021,
           1
          ],
          [
           2019,
           2
          ],
          [
           2016,
           1
          ],
          [
           2021,
           1
          ],
          [
           2022,
           1
          ],
          [
           2023,
           1
          ]
         ],
         "hovertemplate": "<b>%{hovertext}</b><br><br>Years=%{customdata[0]}<br>Counts=%{y}<br>Numbers=%{marker.color}<extra></extra>",
         "hovertext": [
          "Aagal",
          "Aaox",
          "Abts",
          "Acidic xylooligosaccharides",
          "Active site segment",
          "Acute lymphoblastic leukemia",
          "Additives",
          "Adjuvant",
          "Agaricus bisporus",
          "Agarose",
          "Alkalistable",
          "Alum",
          "Amino acid composition",
          "Amperometric response",
          "Amylose",
          "Amyr",
          "Antibacterial activity",
          "Anticancer",
          "Antifungal activity",
          "Antifungal susceptibility testing",
          "Antigen",
          "Antioxidant",
          "Antioxidant",
          "Antioxidant",
          "Antioxidant peptide",
          "Antioxidase",
          "Aqueous systems",
          "Artp",
          "Ascomycetous strains",
          "Ascomycota",
          "Aspergillus fumigatus",
          "Aspergillus niger",
          "Aspergillus niger",
          "Aspergillus terreus",
          "Bacterial cellulose",
          "Bacterial cellulose",
          "Bacterial laccase",
          "Baculovirus",
          "Bamboo powder",
          "Bamboo tablets",
          "Base editing",
          "Basidiomycota",
          "Bicovalent",
          "Bioaugmentation",
          "Biocatalysis",
          "Biocatalyzed polymerization",
          "Biochemicals",
          "Bioethanol",
          "Biofuels",
          "Biofuels",
          "Biofuels",
          "Biografting",
          "Biomanufacturing",
          "Biomass",
          "Biomass",
          "Biomass conversion",
          "Biomass degradation",
          "Biomolecules",
          "Bioprospecting",
          "Biorefinery",
          "Biorefinery",
          "Biorefinery",
          "Biorefinery",
          "Biotechnological applications",
          "Butyl ferulate",
          "Carbohydrate",
          "Carbohydrate active enzyme database",
          "Carbohydrate processing",
          "Catechol",
          "Catechol oxidase",
          "Cazy",
          "Cazy",
          "Cazy",
          "Cazyme gene regulation",
          "Cazymes",
          "Cbb cycle",
          "Cell factory",
          "Cellobiohydrolase",
          "Cellobiohydrolase",
          "Cellobiohydrolase",
          "Cellobiose",
          "Cellobiose",
          "Cellobiose",
          "Cellulase",
          "Cellulase",
          "Cellulase",
          "Cellulase",
          "Cellulase",
          "Cellulase",
          "Cellulase",
          "Cellulase",
          "Cellulase production",
          "Cellulases",
          "Cellulases",
          "Cellulases",
          "Cellulases",
          "Cellulases",
          "Cellulolytic cocktail improvement",
          "Cellulose",
          "Cellulose",
          "Cellulose",
          "Cellulose",
          "Cellulose",
          "Cellulose degradation",
          "Cellulose degradation",
          "Cellulose degradation",
          "Cellulose hydrolysis",
          "Cellulose hydrolysis",
          "Cellulose oxidation",
          "Cellulose saccharification",
          "Cellulose saccharification",
          "Central composite design",
          "Chaetosartorya cremea",
          "Characterization",
          "Characterization",
          "Chemical modification",
          "Chitin",
          "Chitinase",
          "Chitosan",
          "Chitosan",
          "Chitosan hydrogel",
          "Circular dichroism",
          "Class ii peroxidase",
          "Cloning",
          "Coating",
          "Coatings",
          "Codon optimization",
          "Collagenolytic protease",
          "Computational prediction",
          "Conductive cotton",
          "Conformation",
          "Consolidated bioprocessing",
          "Constitutive expression",
          "Copper",
          "Copper monooxygenase",
          "Corn stover",
          "Coupling",
          "Covalent immobilization",
          "Covalent immobilization",
          "Crispr",
          "Cryopreservation",
          "Crystal structure",
          "Crystal structure",
          "Crystallization",
          "Cyclic voltammetry",
          "Cytosine base editor",
          "Cytotoxicity",
          "Decalin",
          "Decolorization",
          "Decolorization",
          "Deep eutectic solvent",
          "Degree of substitution",
          "Depolymerisation",
          "Different fungal species",
          "Differential scanning calorimetry",
          "Digestibility enhancers",
          "Direct electron transfer",
          "Directed evolution",
          "Disulfide bond",
          "Docking simulation",
          "Dpph",
          "Dsc",
          "Dyadic",
          "Dye",
          "Efficacy",
          "Efficacy",
          "Electron donor",
          "Electroporation",
          "Elenolic acid",
          "Elimination",
          "Endoglucanase",
          "Endoglucanase",
          "Endoxylanase",
          "Endoxylanase",
          "Enzymatic deacetylation",
          "Enzymatic hydrolysis",
          "Enzymatic hydrolysis",
          "Enzymatic oligomerization",
          "Enzymatic oxidation",
          "Enzymatic oxidation",
          "Enzymatic saccharification",
          "Enzymatic saccharification",
          "Enzymatic saccharification",
          "Enzymatic tailoring",
          "Enzyme",
          "Enzyme activity",
          "Enzyme assay",
          "Enzyme electrodes",
          "Enzyme engineering",
          "Enzyme hypersecretion",
          "Enzyme immobilisation",
          "Enzyme immobilization",
          "Enzyme immobilization",
          "Enzyme mixture",
          "Enzyme stability",
          "Enzymes",
          "Enzymes",
          "Epinephrine",
          "Epr",
          "Er stress",
          "Escherichia coli",
          "Esterification",
          "Ethanol",
          "Ethanol",
          "Ethanol fermentation",
          "Ethanol tolerance",
          "Ethyl ferulate",
          "Eucalypt",
          "Eucalyptus globulus",
          "Experimental design",
          "Expression",
          "Expression optimization",
          "Extremozyme",
          "Ferulic acid",
          "Ferulic acid",
          "Ferulic acid",
          "Ferulic acid",
          "Feruloyl esterase",
          "Feruloyl esterase",
          "Filamentous fungi",
          "Filamentous fungi",
          "Filamentous fungi",
          "Filamentous fungi",
          "Filamentous fungi",
          "Filamentous fungus",
          "Fixed bioreactor",
          "Flavonoids",
          "Flow cytometry",
          "Fluorophenol",
          "Food protein",
          "Freezing",
          "Ftacv",
          "Fuel cells",
          "Fumaric acid",
          "Fumed silica nanoparticles",
          "Functional properties",
          "Functionalization",
          "Functionalization",
          "Fungal biotechnology",
          "Fungal enzyme production",
          "Fungal enzymes",
          "Fungal growth",
          "Fungal laccase",
          "Galactose transport",
          "Galactose utilization",
          "Gallic acid",
          "Gene editing",
          "Gene expression",
          "Gene regulation",
          "Genome editing",
          "Glucan",
          "Glucoamylase",
          "Glucoamylase",
          "Glucosamine",
          "Glucose and ethanol tolerance",
          "Glucose oxidation",
          "Glucuronic acid recognition",
          "Glucuronoxylan",
          "Glycans",
          "Glycerol",
          "Glycolysis",
          "Glycoprotein",
          "Glycoside hydrolase",
          "Glycoside hydrolase",
          "Glycoside hydrolases",
          "Glycosylation",
          "Grafting",
          "Green processing",
          "Growth kinetics",
          "Guaiacol",
          "Gum arabic",
          "Hbt",
          "Hemicellulase",
          "Hermetia illucens",
          "Heterologous production",
          "Heterologous production",
          "Heterologous protein expression",
          "Homology modelling",
          "Hpi",
          "Hpsec",
          "Hybrid",
          "Hydrogen peroxide",
          "Hydrolysis",
          "Hydrolysis",
          "Hydrolytic activity",
          "Hydrolytic enzymes",
          "Hydrophobicity",
          "Hydroxytyrosol",
          "Hygromycin b phosphotransferase gene hph",
          "Hymenaea courbaril",
          "Igg",
          "Immobilisation",
          "Immobilization",
          "Immobilization",
          "Immobilization",
          "Improved production",
          "In vivo grna transcription",
          "Industrially relevant fungi",
          "Infant",
          "Influenza vaccine",
          "Insect",
          "Insect cells",
          "Intranasal challenge",
          "Invasive pulmonary infection",
          "Ionic liquid",
          "Ionic liquid",
          "Isocyanide",
          "Itraconazole",
          "Kinetic analysis",
          "Kinetics",
          "Kraft lignin",
          "Kraft lignin",
          "Kraft lignin",
          "Laccase",
          "Laccase",
          "Laccase",
          "Laccase",
          "Laccase",
          "Laccase",
          "Laccase",
          "Laccase",
          "Laccase",
          "Laccase kinetics",
          "Laccases",
          "Laea",
          "Library",
          "Lignin",
          "Lignin",
          "Lignin degrading enzymes",
          "Lignocellulolytic enzymes",
          "Lignocellulolytic enzymes",
          "Lignocellulose",
          "Lignocellulose",
          "Lignocellulose",
          "Lignocellulose",
          "Lignocellulosic biomass",
          "Lignocellulosic biomass",
          "Lignocellulosic biomass",
          "Lignosulfonate",
          "Logistic model",
          "Low temperature",
          "Lpmo",
          "Lpmo",
          "Lpmo",
          "Lpmo",
          "Lpmo biocatalysis",
          "Lpmos",
          "Lyophilization",
          "Lytic polysaccharide monooxygenase",
          "Lytic polysaccharide monooxygenase",
          "Lytic polysaccharide monooxygenase",
          "Lytic polysaccharide monooxygenase",
          "Lytic polysaccharide monooxygenase",
          "Lytic polysaccharide monooxygenase",
          "Lytic polysaccharide monooxygenase",
          "Macromolecular assemblages",
          "Malate export",
          "Malbranchea cinamomea",
          "Malic acid",
          "Malic acid",
          "Malonic acid",
          "Marine fungi",
          "Marker recycling",
          "Mass spectrometric fragmentation",
          "Mass spectrometry",
          "Md simulation",
          "Mdf",
          "Mediator",
          "Melanin",
          "Melting temperature",
          "Mesoporous silicates",
          "Metabolic engineering",
          "Metabolic engineering",
          "Metabolic engineering",
          "Metabolic engineering",
          "Metabolic engineering",
          "Metabolic regulation",
          "Metal ion effect",
          "Metalloprotein",
          "Mhglaa",
          "Micropollutants",
          "Microwaves",
          "Mode of action",
          "Mode of action",
          "Modeling",
          "Modification",
          "Molecular docking",
          "Molecular dynamics",
          "Molecular mechanism",
          "Morphine",
          "Mtgal",
          "Mtperii peroxidase",
          "Multicopper oxidase",
          "Multiplexing",
          "Multivariate analysis",
          "Myceliophthora",
          "Myceliophthora",
          "Myceliophthora",
          "Myceliophthora thermophila",
          "Myceliophthora thermophila",
          "Myceliophthora thermophila",
          "Myceliophthora thermophila",
          "Myceliophthora thermophila",
          "Myceliophthora thermophila",
          "Myceliophthora thermophila",
          "Myceliophthora thermophila",
          "Myceliophthora thermophila",
          "Myceliophthora thermophila",
          "Myceliophthora thermophila",
          "Myceliophthora thermophile",
          "Myceliophthora thermophile laccase",
          "Myceliophtora sp",
          "Mycoprotein",
          "Mycoremediation",
          "Nanocellulose",
          "Natural mediators",
          "Neurospora crassa",
          "Neutralizing antibodies",
          "Nucleocytoplasmic transport",
          "Nutrition",
          "Oleuropein",
          "Oleuropein aglycones",
          "Oligosaccharide",
          "Overexpression",
          "Oxaloacetic acid",
          "Oxidase",
          "Oxidase",
          "Oxidation",
          "Oxidation",
          "Oxidation product",
          "Oxidative cleavage",
          "Oxygen consumption rate",
          "Oxygen reduction",
          "Oxygenase",
          "Ozonolysis",
          "Packing density",
          "Paenibacillus odorifer",
          "Pandemic",
          "Pbmcs",
          "Pcbs",
          "Pectin",
          "Penicillium citrinum",
          "Penicillium verruculosum",
          "Pentose catabolism",
          "Phenol biodegradation",
          "Phenol grafting",
          "Phenolic compound extraction",
          "Phenolics",
          "Phenolics",
          "Phenols",
          "Phenoxy radicals in lignin",
          "Pichia pastoris",
          "Pichia pastoris",
          "Pichia pastoris",
          "Pichia pastoris",
          "Pichia pastoris",
          "Pichia pastoris",
          "Pichia pastoris",
          "Pilot scale",
          "Plant biomass",
          "Plant biomass",
          "Plant biomass",
          "Platform",
          "Polyaniline",
          "Polycatechol",
          "Polymerisation",
          "Polymerization",
          "Polymerization",
          "Polymerization",
          "Polyphenol oxidase",
          "Polyphenol oxidase",
          "Polysaccharide",
          "Polysaccharide monooxygenase",
          "Position of acetyl groups",
          "Poultry",
          "Poultry feed",
          "Ppo",
          "Precise engineering",
          "Prenyl ferulate",
          "Preservation",
          "Pretreated corn cobs",
          "Pretreatment",
          "Pretreatment",
          "Process optimization",
          "Processivity",
          "Processivity",
          "Production",
          "Productivity",
          "Prophylaxis",
          "Protease",
          "Protease",
          "Protein design",
          "Protein engineering",
          "Protein evolution",
          "Purification",
          "Pyrogallol",
          "Rbd",
          "Reaction kinetics",
          "Real time assay",
          "Receptor binding domain",
          "Recombinant cellobiohydrolase",
          "Recombinant protein",
          "Recombinant protein expression",
          "Recombinant protein subunit vaccine",
          "Redox chemistry",
          "Reducing agent",
          "Reduction",
          "Reductive tca",
          "Renatured xanthan",
          "Response surface methodology",
          "Response surface methodology",
          "Rice straw",
          "Rmn",
          "Rna interference",
          "Rna polymerase",
          "Rnai",
          "Rnp",
          "Saccharification",
          "Saccharification",
          "Saccharification",
          "Saccharomyces cerevisiae",
          "Safety",
          "Secondary effluent",
          "Secretome",
          "Secretome composition",
          "Sequential solid state and submerged cultivation",
          "Signal transduction",
          "Single and mixed fungal species cultivation",
          "Solid media",
          "Solvent tolerance",
          "Soy polysaccharides",
          "Soy spent flake",
          "Sporotrichum thermophile",
          "Spray dryer",
          "Stabilisation",
          "Stability",
          "Stability",
          "Starch",
          "Starch",
          "Structural analysis",
          "Structure modelling",
          "Sugar uptake",
          "Sugarcane bagasse",
          "Sugarcane bagasse",
          "Sugarcane bagasse",
          "Sugarcane bagasse",
          "Sugarcane bagasse",
          "Superficial fungal infections",
          "Surface modifacation",
          "Swelling",
          "Synergism",
          "Synergy",
          "Synergy",
          "Systemic fungal infections",
          "Talaromyces leycettanus",
          "Talaromyces stipitatus galactanase",
          "Tamarindus indica",
          "Targeted influenza hemagglutinin",
          "Tempo",
          "Textile dyes",
          "Thermodynamics",
          "Thermophilic",
          "Thermophilic fungi",
          "Thermophilic fungi",
          "Thermophilic fungi",
          "Thermophilic fungi",
          "Thermophilic fungi",
          "Thermophilic fungi",
          "Thermophilic mould",
          "Thermophilic mould",
          "Thermostability",
          "Thermostability",
          "Thermostability",
          "Thermostability",
          "Thermostability",
          "Thermostability",
          "Thermostable",
          "Thermostable cellulose",
          "Thermostable enzymes",
          "Thermothelomyces heterothallica",
          "Thermothelomyces thermophila",
          "Thermothelomyces thermophila",
          "Thermothelomyces thermophila",
          "Thermothelomyces thermophila",
          "Thermothelomyces thermophilus",
          "Thermothelomyces thermophilus",
          "Thermothelomyces thermophilus",
          "Thermotolerant",
          "Thermotolerant mutant",
          "Thielavia australiensis",
          "Thielavia terrestris",
          "Tm",
          "Toxicity",
          "Toxicology",
          "Trametes versicolor",
          "Transceptor",
          "Transcription factor",
          "Transcription factor",
          "Transcriptomic profiles",
          "Transcriptomic profiles",
          "Transcriptomics",
          "Transesterification",
          "Transglycosylation",
          "Transporter",
          "Trehalase",
          "Trichoderma reesei",
          "Trichoderma reesei",
          "Trimeric influenza hemagglutinin",
          "Tsgal",
          "Tyrosinase",
          "Tyrosinase",
          "Ultrasound",
          "Vaccine",
          "Variants of concern",
          "Virus",
          "Viscosity",
          "Viscosity reduction",
          "Wastewater",
          "Weimberg pathway",
          "Wild type",
          "Wood",
          "Wood hydrophobization",
          "Wood hydrophobization",
          "Wound enzymes",
          "Wt",
          "Xanthan conformation",
          "Xylan",
          "Xylan",
          "Xylan",
          "Xylan degradation",
          "Xylanase",
          "Xylanase",
          "Xylanase",
          "Xylanase",
          "Xylanase",
          "Xylanases",
          "Xylanolytic regulator",
          "Xylobiohydrolase",
          "Xylobiohydrolase",
          "Xyloglucan",
          "Xyloglucan",
          "Xyloglucan",
          "Xyloglucanase",
          "Xyloglucanase",
          "Xyloglucanase",
          "Xylooligosaccharides",
          "Xylose",
          "Xylose",
          "Zoonotic",
          "Zootechnical additives"
         ],
         "legendgroup": "",
         "marker": {
          "color": [
           1,
           1,
           1,
           1,
           1,
           1,
           1,
           1,
           1,
           1,
           1,
           1,
           1,
           1,
           1,
           1,
           1,
           1,
           1,
           1,
           1,
           1,
           1,
           1,
           1,
           1,
           1,
           1,
           1,
           1,
           1,
           1,
           1,
           1,
           1,
           1,
           1,
           1,
           1,
           1,
           1,
           1,
           1,
           1,
           2,
           1,
           1,
           1,
           1,
           1,
           1,
           1,
           1,
           1,
           1,
           1,
           1,
           1,
           1,
           1,
           1,
           1,
           1,
           1,
           1,
           1,
           1,
           1,
           1,
           1,
           1,
           1,
           1,
           1,
           1,
           1,
           1,
           1,
           1,
           1,
           1,
           1,
           1,
           1,
           1,
           1,
           1,
           1,
           1,
           2,
           2,
           1,
           1,
           1,
           1,
           1,
           1,
           1,
           1,
           1,
           1,
           1,
           1,
           1,
           1,
           1,
           1,
           1,
           1,
           1,
           1,
           1,
           1,
           1,
           1,
           1,
           2,
           1,
           2,
           1,
           1,
           1,
           1,
           1,
           1,
           1,
           1,
           1,
           1,
           1,
           1,
           1,
           1,
           1,
           1,
           1,
           1,
           1,
           1,
           1,
           1,
           1,
           1,
           1,
           1,
           1,
           1,
           1,
           3,
           1,
           1,
           1,
           1,
           1,
           1,
           1,
           1,
           1,
           1,
           1,
           1,
           1,
           1,
           1,
           1,
           1,
           1,
           1,
           1,
           1,
           1,
           1,
           1,
           1,
           1,
           3,
           1,
           1,
           1,
           1,
           1,
           1,
           1,
           1,
           1,
           1,
           1,
           1,
           1,
           1,
           1,
           2,
           1,
           1,
           1,
           2,
           1,
           1,
           1,
           1,
           1,
           1,
           1,
           1,
           1,
           1,
           1,
           1,
           1,
           1,
           1,
           1,
           1,
           1,
           1,
           1,
           1,
           1,
           1,
           1,
           2,
           1,
           3,
           1,
           1,
           1,
           1,
           1,
           1,
           1,
           1,
           1,
           1,
           1,
           1,
           1,
           1,
           1,
           1,
           1,
           1,
           1,
           1,
           1,
           1,
           1,
           1,
           1,
           1,
           2,
           1,
           1,
           1,
           1,
           1,
           1,
           1,
           1,
           1,
           1,
           1,
           1,
           1,
           1,
           1,
           1,
           1,
           1,
           1,
           1,
           1,
           1,
           1,
           1,
           1,
           1,
           1,
           1,
           1,
           1,
           1,
           1,
           1,
           1,
           1,
           1,
           1,
           1,
           1,
           1,
           1,
           1,
           1,
           1,
           1,
           1,
           1,
           1,
           1,
           1,
           1,
           1,
           1,
           1,
           1,
           1,
           1,
           1,
           1,
           1,
           1,
           1,
           1,
           1,
           2,
           4,
           1,
           8,
           1,
           4,
           1,
           1,
           1,
           1,
           1,
           1,
           3,
           1,
           1,
           1,
           1,
           1,
           2,
           1,
           1,
           2,
           1,
           1,
           1,
           1,
           1,
           1,
           2,
           1,
           1,
           1,
           1,
           1,
           2,
           1,
           1,
           1,
           1,
           1,
           1,
           1,
           1,
           1,
           1,
           1,
           1,
           1,
           1,
           1,
           1,
           1,
           1,
           1,
           1,
           1,
           1,
           1,
           1,
           1,
           2,
           2,
           1,
           1,
           1,
           1,
           1,
           1,
           1,
           1,
           1,
           1,
           2,
           1,
           1,
           1,
           1,
           1,
           1,
           1,
           1,
           1,
           2,
           2,
           2,
           2,
           3,
           4,
           8,
           7,
           5,
           5,
           2,
           9,
           2,
           1,
           1,
           1,
           1,
           1,
           1,
           1,
           1,
           1,
           1,
           1,
           1,
           1,
           1,
           1,
           1,
           1,
           1,
           1,
           1,
           1,
           1,
           1,
           1,
           1,
           1,
           1,
           1,
           1,
           1,
           1,
           1,
           1,
           1,
           1,
           1,
           1,
           1,
           1,
           1,
           1,
           1,
           1,
           1,
           1,
           2,
           1,
           1,
           1,
           1,
           1,
           1,
           1,
           1,
           1,
           1,
           1,
           1,
           1,
           1,
           1,
           1,
           1,
           1,
           1,
           1,
           1,
           1,
           1,
           1,
           1,
           1,
           1,
           1,
           1,
           2,
           2,
           1,
           1,
           1,
           1,
           1,
           1,
           2,
           1,
           1,
           1,
           1,
           1,
           1,
           1,
           1,
           1,
           1,
           1,
           1,
           1,
           1,
           1,
           1,
           1,
           1,
           1,
           1,
           1,
           1,
           1,
           1,
           1,
           1,
           1,
           1,
           1,
           1,
           1,
           1,
           1,
           1,
           1,
           1,
           1,
           1,
           1,
           1,
           1,
           1,
           1,
           1,
           1,
           1,
           1,
           1,
           1,
           1,
           1,
           1,
           1,
           1,
           1,
           1,
           1,
           1,
           1,
           1,
           1,
           1,
           1,
           1,
           1,
           1,
           2,
           1,
           1,
           1,
           1,
           1,
           1,
           1,
           2,
           1,
           1,
           2,
           1,
           1,
           1,
           1,
           1,
           1,
           1,
           1,
           1,
           1,
           1,
           1,
           1,
           2,
           1,
           1,
           1,
           1,
           1,
           1,
           1,
           1,
           1,
           1,
           1,
           1,
           1,
           1,
           1,
           1,
           1,
           1,
           1,
           1,
           2,
           1,
           1,
           1,
           1,
           1,
           1,
           1,
           1,
           1,
           1,
           1,
           1,
           1,
           1,
           1,
           1,
           1,
           1,
           1,
           1,
           1,
           2,
           1,
           1,
           1,
           1,
           1,
           1,
           1,
           1,
           1,
           1,
           1,
           1,
           1,
           1,
           1,
           2,
           1,
           2,
           1,
           1,
           1,
           1
          ],
          "coloraxis": "coloraxis",
          "size": [
           1,
           1,
           1,
           1,
           1,
           1,
           1,
           1,
           1,
           1,
           1,
           1,
           1,
           1,
           1,
           1,
           1,
           1,
           1,
           1,
           1,
           1,
           1,
           1,
           1,
           1,
           1,
           1,
           1,
           1,
           1,
           1,
           1,
           1,
           1,
           1,
           1,
           1,
           1,
           1,
           1,
           1,
           1,
           1,
           2,
           1,
           1,
           1,
           1,
           1,
           1,
           1,
           1,
           1,
           1,
           1,
           1,
           1,
           1,
           1,
           1,
           1,
           1,
           1,
           1,
           1,
           1,
           1,
           1,
           1,
           1,
           1,
           1,
           1,
           1,
           1,
           1,
           1,
           1,
           1,
           1,
           1,
           1,
           1,
           1,
           1,
           1,
           1,
           1,
           2,
           2,
           1,
           1,
           1,
           1,
           1,
           1,
           1,
           1,
           1,
           1,
           1,
           1,
           1,
           1,
           1,
           1,
           1,
           1,
           1,
           1,
           1,
           1,
           1,
           1,
           1,
           2,
           1,
           2,
           1,
           1,
           1,
           1,
           1,
           1,
           1,
           1,
           1,
           1,
           1,
           1,
           1,
           1,
           1,
           1,
           1,
           1,
           1,
           1,
           1,
           1,
           1,
           1,
           1,
           1,
           1,
           1,
           1,
           3,
           1,
           1,
           1,
           1,
           1,
           1,
           1,
           1,
           1,
           1,
           1,
           1,
           1,
           1,
           1,
           1,
           1,
           1,
           1,
           1,
           1,
           1,
           1,
           1,
           1,
           1,
           3,
           1,
           1,
           1,
           1,
           1,
           1,
           1,
           1,
           1,
           1,
           1,
           1,
           1,
           1,
           1,
           2,
           1,
           1,
           1,
           2,
           1,
           1,
           1,
           1,
           1,
           1,
           1,
           1,
           1,
           1,
           1,
           1,
           1,
           1,
           1,
           1,
           1,
           1,
           1,
           1,
           1,
           1,
           1,
           1,
           2,
           1,
           3,
           1,
           1,
           1,
           1,
           1,
           1,
           1,
           1,
           1,
           1,
           1,
           1,
           1,
           1,
           1,
           1,
           1,
           1,
           1,
           1,
           1,
           1,
           1,
           1,
           1,
           1,
           2,
           1,
           1,
           1,
           1,
           1,
           1,
           1,
           1,
           1,
           1,
           1,
           1,
           1,
           1,
           1,
           1,
           1,
           1,
           1,
           1,
           1,
           1,
           1,
           1,
           1,
           1,
           1,
           1,
           1,
           1,
           1,
           1,
           1,
           1,
           1,
           1,
           1,
           1,
           1,
           1,
           1,
           1,
           1,
           1,
           1,
           1,
           1,
           1,
           1,
           1,
           1,
           1,
           1,
           1,
           1,
           1,
           1,
           1,
           1,
           1,
           1,
           1,
           1,
           1,
           2,
           4,
           1,
           8,
           1,
           4,
           1,
           1,
           1,
           1,
           1,
           1,
           3,
           1,
           1,
           1,
           1,
           1,
           2,
           1,
           1,
           2,
           1,
           1,
           1,
           1,
           1,
           1,
           2,
           1,
           1,
           1,
           1,
           1,
           2,
           1,
           1,
           1,
           1,
           1,
           1,
           1,
           1,
           1,
           1,
           1,
           1,
           1,
           1,
           1,
           1,
           1,
           1,
           1,
           1,
           1,
           1,
           1,
           1,
           1,
           2,
           2,
           1,
           1,
           1,
           1,
           1,
           1,
           1,
           1,
           1,
           1,
           2,
           1,
           1,
           1,
           1,
           1,
           1,
           1,
           1,
           1,
           2,
           2,
           2,
           2,
           3,
           4,
           8,
           7,
           5,
           5,
           2,
           9,
           2,
           1,
           1,
           1,
           1,
           1,
           1,
           1,
           1,
           1,
           1,
           1,
           1,
           1,
           1,
           1,
           1,
           1,
           1,
           1,
           1,
           1,
           1,
           1,
           1,
           1,
           1,
           1,
           1,
           1,
           1,
           1,
           1,
           1,
           1,
           1,
           1,
           1,
           1,
           1,
           1,
           1,
           1,
           1,
           1,
           1,
           2,
           1,
           1,
           1,
           1,
           1,
           1,
           1,
           1,
           1,
           1,
           1,
           1,
           1,
           1,
           1,
           1,
           1,
           1,
           1,
           1,
           1,
           1,
           1,
           1,
           1,
           1,
           1,
           1,
           1,
           2,
           2,
           1,
           1,
           1,
           1,
           1,
           1,
           2,
           1,
           1,
           1,
           1,
           1,
           1,
           1,
           1,
           1,
           1,
           1,
           1,
           1,
           1,
           1,
           1,
           1,
           1,
           1,
           1,
           1,
           1,
           1,
           1,
           1,
           1,
           1,
           1,
           1,
           1,
           1,
           1,
           1,
           1,
           1,
           1,
           1,
           1,
           1,
           1,
           1,
           1,
           1,
           1,
           1,
           1,
           1,
           1,
           1,
           1,
           1,
           1,
           1,
           1,
           1,
           1,
           1,
           1,
           1,
           1,
           1,
           1,
           1,
           1,
           1,
           1,
           2,
           1,
           1,
           1,
           1,
           1,
           1,
           1,
           2,
           1,
           1,
           2,
           1,
           1,
           1,
           1,
           1,
           1,
           1,
           1,
           1,
           1,
           1,
           1,
           1,
           2,
           1,
           1,
           1,
           1,
           1,
           1,
           1,
           1,
           1,
           1,
           1,
           1,
           1,
           1,
           1,
           1,
           1,
           1,
           1,
           1,
           2,
           1,
           1,
           1,
           1,
           1,
           1,
           1,
           1,
           1,
           1,
           1,
           1,
           1,
           1,
           1,
           1,
           1,
           1,
           1,
           1,
           1,
           2,
           1,
           1,
           1,
           1,
           1,
           1,
           1,
           1,
           1,
           1,
           1,
           1,
           1,
           1,
           1,
           2,
           1,
           2,
           1,
           1,
           1,
           1
          ],
          "sizemode": "area",
          "sizeref": 0.0225,
          "symbol": "circle"
         },
         "mode": "markers",
         "name": "",
         "orientation": "v",
         "showlegend": false,
         "type": "scatter",
         "x": [
          2015.0072823527644,
          2019.801380132121,
          2017.7809663446644,
          2020.8587479117152,
          2022.1146626315413,
          2022.9789553057876,
          2017.030979991446,
          2022.1815396930365,
          2017.076701408698,
          2014.1898504825567,
          2021.181028352817,
          2022.0054586600584,
          2018.9345482047008,
          2017.140248707312,
          2019.142663763092,
          2018.051752788252,
          2021.7690552536574,
          2021.2123397844198,
          2021.7608500132308,
          2022.8673203633912,
          2021.8106928958575,
          2014.27878681976,
          2016.9358059647095,
          2021.882175008367,
          2019.174339598096,
          2022.93046799299,
          2018.0751242214715,
          2022.7906225604554,
          2014.2647312190334,
          2016.7872678205265,
          2016.7951741040001,
          2019.935262011025,
          2021.7600455999961,
          2017.0966896022637,
          2016.723314183156,
          2018.251276037755,
          2023.069664439124,
          2022.1166241273095,
          2018.0545768427685,
          2018.221356322224,
          2022.1916331228972,
          2016.742999414391,
          2017.8570721874578,
          2013.8306798242763,
          2017.06390935106,
          2016.1040569329148,
          2020.2572426533875,
          2016.8986875490857,
          2013.8299569224992,
          2017.2472467259458,
          2020.1666593966138,
          2020.8067906633185,
          2021.891174536924,
          2015.9575237245824,
          2019.9016960852753,
          2023.0740756736664,
          2013.9942743927018,
          2016.1615108439928,
          2021.1142219165888,
          2014.9414543846397,
          2015.7403377811902,
          2016.8063468342161,
          2019.936239988203,
          2015.874241889127,
          2017.244422564117,
          2015.9008837470735,
          2014.7811593300971,
          2015.9744959370255,
          2015.9976911822978,
          2017.2120745352668,
          2013.8166267300965,
          2014.936039291076,
          2016.1139586923648,
          2021.0306613388193,
          2020.883276614994,
          2020.933788845667,
          2019.2693720282384,
          2016.765678410305,
          2017.8617716029485,
          2019.2477877126341,
          2019.0603412596952,
          2019.7294413338416,
          2021.7207215842661,
          2011.9658227697184,
          2014.093226688516,
          2014.7013647084518,
          2017.8124416970616,
          2019.1218960885196,
          2020.8652799535516,
          2021.9009654648848,
          2022.9008760348197,
          2021.854257627921,
          2013.2018598848408,
          2016.8350560055383,
          2018.9324895732066,
          2019.757398080198,
          2022.1642982762494,
          2017.0452059873614,
          2015.2720258072875,
          2018.0910906657848,
          2018.7032222586604,
          2020.1595484082256,
          2020.8741539654218,
          2015.7583444266659,
          2018.8606755339051,
          2021.8437646224318,
          2015.7906323560874,
          2017.0783479893605,
          2016.191338785897,
          2021.0837700573281,
          2023.0587708069513,
          2022.84723223333,
          2016.787720025412,
          2015.8783925463983,
          2022.8452207873452,
          2009.8291588881357,
          2017.7555206907061,
          2017.9994014136964,
          2017.7752085764484,
          2021.929203283406,
          2017.7171516124533,
          2013.1907187940903,
          2014.8213981911797,
          2016.7229214080728,
          2021.0060180514897,
          2017.8614074204718,
          2017.2152517359802,
          2016.934789078953,
          2014.8300158701823,
          2017.983667534741,
          2012.813593317215,
          2019.8884601579284,
          2017.2321261254704,
          2019.0584434234931,
          2018.8929089091487,
          2019.7298936369439,
          2020.913301258883,
          2017.9072871903086,
          2022.927954780475,
          2018.8827938247503,
          2020.7779143276123,
          2016.237881418393,
          2018.0043233246,
          2021.060943264668,
          2016.7464395292795,
          2022.2358306259027,
          2014.0756137028698,
          2020.9870156512318,
          2018.0161696201537,
          2021.1187415025481,
          2021.0719566375815,
          2013.275410790764,
          2022.2191807093604,
          2020.8461898048147,
          2015.1603080922844,
          2023.1984332027369,
          2019.9749279400694,
          2017.8417874730435,
          2023.0188533268733,
          2021.9368868920794,
          2017.1629628401192,
          2015.1168128109978,
          2021.9794174193464,
          2013.9910621439824,
          2022.1053716908646,
          2022.734797061861,
          2016.011591960029,
          2018.9594305527023,
          2017.0966716601235,
          2017.812302677006,
          2014.7898365770636,
          2016.9675069386635,
          2018.8989445894838,
          2020.9496192768959,
          2013.833342406087,
          2017.1656542645303,
          2019.1977149740824,
          2015.8793854574747,
          2013.9734229847334,
          2021.9400072496553,
          2014.9853137413427,
          2016.1516078810866,
          2017.2291711689304,
          2017.1324831067259,
          2020.1669408070334,
          2019.059996110922,
          2020.1982166069336,
          2012.902862821883,
          2022.77053374089,
          2021.2535166872672,
          2016.9137901857096,
          2016.1551355992005,
          2018.1731123059121,
          2016.2702209813672,
          2019.0420297209453,
          2021.1011517856061,
          2022.7454426930472,
          2020.044840467206,
          2016.734384106178,
          2022.2163509795607,
          2019.1652157414055,
          2016.8823994657307,
          2016.1933584441308,
          2019.7457641304538,
          2019.748262670632,
          2012.9486865868673,
          2014.0671860762327,
          2023.0205303988246,
          2018.0734703814292,
          2015.8354661192238,
          2018.046503686003,
          2017.8220363447208,
          2020.8359541494551,
          2014.0628636515805,
          2016.9025306539747,
          2020.717765505801,
          2021.73703418343,
          2016.8360733788782,
          2018.1699421092576,
          2016.767541095544,
          2018.744320050936,
          2019.744207543032,
          2022.1815560553348,
          2023.0839467068517,
          2019.8653149780264,
          2020.8979145855753,
          2015.8645077285387,
          2022.039431080045,
          2021.1690570550666,
          2019.2245581410914,
          2021.0874193320012,
          2019.9744634052167,
          2013.2981931227405,
          2018.2758024952238,
          2016.0533440652518,
          2022.215089020415,
          2017.0647087629486,
          2020.717844401516,
          2021.0528490467786,
          2021.0738624243518,
          2015.7905430365013,
          2023.1002982822104,
          2022.958228044049,
          2020.7997569374131,
          2021.245385279595,
          2016.06100489506,
          2019.8570231242427,
          2017.9232833098167,
          2023.0356222208657,
          2019.2091131422808,
          2015.9888100110998,
          2015.26414396783,
          2022.135206991125,
          2022.119489175201,
          2023.1861813665557,
          2013.0421394884536,
          2020.818264061252,
          2019.1817100198036,
          2021.8325781958256,
          2014.7044347564483,
          2021.8537197250796,
          2022.119732470519,
          2021.0592889941338,
          2022.1139721204001,
          2018.7586584182372,
          2022.282521172943,
          2023.104901084957,
          2015.924568236553,
          2020.9093788153127,
          2022.1177659172415,
          2021.2506607837558,
          2018.1045503670161,
          2023.0153587914683,
          2022.2242007417851,
          2014.9177432060233,
          2019.1915077058588,
          2021.080965313745,
          2021.7240570747806,
          2017.8899761992532,
          2012.972424005623,
          2021.0388245622798,
          2016.839607470952,
          2015.069299253085,
          2015.9553041363606,
          2021.01412306572,
          2015.8006096192744,
          2021.289574754334,
          2016.7178637047475,
          2018.9269886697289,
          2021.2172951933242,
          2022.1169127184205,
          2010.1466170408607,
          2013.7510139053225,
          2018.0643078255348,
          2020.7851242672953,
          2020.8490177049282,
          2020.0538428858765,
          2017.9535844959735,
          2015.9518020528246,
          2022.1722832756232,
          2022.2128165128045,
          2021.8561973820538,
          2022.063458585328,
          2023.119599393492,
          2014.2791015850303,
          2021.728657233849,
          2017.8938050996803,
          2016.210758210639,
          2020.9335647763833,
          2021.0458516711844,
          2018.0862745633738,
          2021.8558938220162,
          2023.1965978155204,
          2009.886097578334,
          2013.7342060109165,
          2015.8852735650232,
          2017.1705597693835,
          2018.2552387977066,
          2020.0766155517786,
          2020.7892872253635,
          2021.8430224808362,
          2023.2925654907,
          2017.0459025086618,
          2018.14106380384,
          2022.9144328194102,
          2018.190775487219,
          2015.7263410410387,
          2022.1414712334401,
          2021.9785820823836,
          2014.0729018450998,
          2020.815489209899,
          2015.8634504821946,
          2016.9080817470804,
          2017.7073122123786,
          2021.781138182866,
          2017.2048007134294,
          2019.817601416308,
          2021.1965004986569,
          2020.7104142002217,
          2021.296127160689,
          2020.7411796741455,
          2015.157132764773,
          2017.0646211069034,
          2019.7674512935578,
          2023.0871592018366,
          2021.1254625757822,
          2021.8268203005603,
          2020.8632127501862,
          2017.1916964933698,
          2017.8016787624829,
          2019.21038709658,
          2019.941029463343,
          2020.9239671325781,
          2022.0717987675391,
          2023.2043516666276,
          2012.8908300573587,
          2023.207771561228,
          2017.053063714483,
          2019.2191002731513,
          2021.0782333158518,
          2022.2853302437577,
          2019.0518228850221,
          2019.0940018959657,
          2022.0092987195208,
          2013.9820644559607,
          2022.1721481608508,
          2022.0405760431588,
          2022.0713284421684,
          2020.9581870059296,
          2014.797594817402,
          2010.2289343752175,
          2017.716874320732,
          2019.2399398519774,
          2020.005708780938,
          2021.2911871337756,
          2022.2717528695016,
          2021.7214306743792,
          2020.1871003659023,
          2018.8132736533678,
          2019.8534720475848,
          2016.0981006747486,
          2014.7839022399628,
          2016.8019074585704,
          2020.80105553793,
          2014.790273973639,
          2021.01410630572,
          2022.180638321782,
          2019.98104751185,
          2023.09702857806,
          2018.0217358082286,
          2015.168171166271,
          2017.0295423978798,
          2020.25679336369,
          2019.1801216163728,
          2017.2757210358993,
          2017.287338382585,
          2020.842518911953,
          2023.1318920537192,
          2013.0471124582093,
          2014.127402760211,
          2014.8736452477192,
          2016.1830114997886,
          2017.083775226147,
          2017.804704290973,
          2019.115461073525,
          2020.2964609099688,
          2020.8410485455543,
          2021.8317817901464,
          2023.091078729254,
          2020.1643327505756,
          2018.0440357002624,
          2013.7391668679732,
          2022.1973976685522,
          2013.8567271486313,
          2020.8905772312464,
          2021.2045185964523,
          2020.92616124098,
          2021.8330805215676,
          2012.733867841218,
          2021.1891494426493,
          2016.737749952483,
          2016.7259287286054,
          2015.7220050189928,
          2013.2721038452448,
          2021.9865418035922,
          2015.8498918728576,
          2017.926460442175,
          2016.8743265839182,
          2018.1386470943094,
          2021.1566993711108,
          2021.8049401348092,
          2017.1221005477644,
          2012.900638112968,
          2019.2194937741237,
          2016.0479139113468,
          2020.7330904228108,
          2020.0621790491612,
          2021.7699957765017,
          2018.111570309483,
          2013.767648617508,
          2016.8958478756808,
          2017.2189232395715,
          2014.7381366057632,
          2019.2384478165986,
          2018.1681123382223,
          2020.748891347941,
          2017.7342765315714,
          2016.0287360393595,
          2018.2224048296573,
          2017.2010437266963,
          2016.8415653235747,
          2013.250661734705,
          2015.048028184306,
          2016.1323985215834,
          2017.0618590478864,
          2018.2484208979163,
          2019.2104000740121,
          2020.980643928541,
          2018.1478587692557,
          2014.0747313578572,
          2018.113609373177,
          2021.0428268959135,
          2020.2358701582928,
          2017.738499287483,
          2015.202291957277,
          2016.1302039786567,
          2017.2481290391288,
          2018.0319245055414,
          2022.8484779458224,
          2016.9100886964632,
          2020.8448789928457,
          2019.248710170754,
          2019.1528286623013,
          2014.2436388503656,
          2023.0882232711238,
          2020.999193471601,
          2017.0688784413226,
          2022.2628936069455,
          2016.9801023018165,
          2021.028102384359,
          2020.8451433943246,
          2014.9754193133504,
          2019.7857481373953,
          2020.8317960866707,
          2017.0424729182648,
          2019.9521999422614,
          2021.1164777699462,
          2013.763801485415,
          2016.2067934317233,
          2019.2426379302067,
          2019.8654067313464,
          2015.1423996652934,
          2021.1274025549712,
          2015.9627209862142,
          2021.0491872854836,
          2015.939847885176,
          2022.2648961985917,
          2019.7200391528552,
          2016.7600789531486,
          2022.0609280688732,
          2020.8868663485075,
          2022.2002549766898,
          2022.0831482394804,
          2021.9796944192026,
          2013.2628361280254,
          2017.750471633903,
          2022.0438565907941,
          2018.2223783097047,
          2013.0055688548373,
          2020.062934796126,
          2023.065805834564,
          2018.7749386907442,
          2022.0338097156073,
          2015.175093619641,
          2016.25913781606,
          2018.2160679211916,
          2019.0691302667656,
          2018.1886270897817,
          2019.1829006483977,
          2022.7294818493876,
          2018.266266637967,
          2022.9764828053464,
          2015.8303002150426,
          2022.7711254641615,
          2016.0149237084368,
          2020.8628352646363,
          2022.865902668253,
          2021.065192436292,
          2013.7248636949082,
          2020.8997067499877,
          2017.1751437836083,
          2017.2042381461354,
          2015.8116129805708,
          2016.9026741470802,
          2009.7998991723966,
          2014.235691631359,
          2022.1384819650293,
          2018.159021267841,
          2018.7896841775514,
          2019.718992923342,
          2021.8800057823871,
          2019.931957699023,
          2014.0980641509639,
          2015.9009354461873,
          2019.01391147663,
          2019.98855076976,
          2022.9859417655725,
          2016.2453211098589,
          2021.9624248692228,
          2016.7750577071038,
          2015.861833286132,
          2019.1883301028058,
          2022.2038916372567,
          2015.760450770269,
          2016.9024649542998,
          2015.1548730053928,
          2021.2503045445324,
          2022.1061976482542,
          2018.1948822920792,
          2018.1006469743186,
          2023.0156092192703,
          2012.944355366542,
          2012.24209268631,
          2014.8236599384893,
          2017.1945364453406,
          2019.0596793182428,
          2020.8228992591844,
          2022.2810497491907,
          2016.1707274915188,
          2017.0330226830122,
          2014.9045742299852,
          2017.0825351436474,
          2019.9021652354945,
          2020.773899932218,
          2022.1726327177291,
          2023.1049758613103,
          2023.0243137804346,
          2021.0642502416956,
          2016.1089519380942,
          2021.7425336455094,
          2019.2011390878781,
          2020.2369229003255,
          2021.2601077754828,
          2023.2556385678422,
          2018.8711376873562,
          2020.1028296155391,
          2021.140258194658,
          2016.286699060186,
          2023.2737119674111,
          2020.269509835527,
          2017.1104650422135,
          2015.1421950750125,
          2017.9617796822267,
          2021.7149442257496,
          2017.9534421156898,
          2022.7271027602135,
          2017.9017384300248,
          2021.763717984239,
          2017.8359751032037,
          2021.1443119466237,
          2022.0255154923,
          2016.817515629808,
          2012.8884593639398,
          2020.9762401780108,
          2020.1442673632362,
          2016.8701437714801,
          2019.866905185472,
          2021.840089333658,
          2015.2955141370817,
          2016.9047372079474,
          2021.2640161031045,
          2016.8900642998428,
          2021.9963653199961,
          2022.1925107259574,
          2021.9098760597672,
          2017.1151141302191,
          2021.2030444734228,
          2018.0069377668506,
          2023.2707378723285,
          2014.836464264954,
          2017.9044144949444,
          2021.0549832294478,
          2023.0568855052902,
          2018.0828292969543,
          2015.199925635788,
          2014.224094609774,
          2015.2189046936196,
          2016.0810223449193,
          2021.096185041,
          2019.1953952504962,
          2011.902111649639,
          2017.7550427338404,
          2019.8406226963348,
          2021.1378051360032,
          2022.9654968561204,
          2017.8216431687463,
          2019.1100823277827,
          2018.990065267883,
          2021.1285927151523,
          2017.024041669087,
          2020.8406388933765,
          2021.9508348494437,
          2017.132670196081,
          2019.7152379875963,
          2021.0315320393374,
          2019.0083976676885,
          2016.2384007444552,
          2021.1270667169358,
          2022.2670840529915,
          2022.8464224728089
         ],
         "xaxis": "x",
         "y": [
          1.2662402349732735,
          0.8812585119080486,
          1.2437209842898729,
          0.6661960144555088,
          1.342310437547403,
          1.3314799625931406,
          1.1323949163843001,
          1.124928660009182,
          1.0099365099754891,
          1.4469655831696904,
          1.1416913351626459,
          1.052355194358384,
          0.900477505042797,
          0.996068449636019,
          0.8178789756605184,
          0.5368684410834135,
          0.8061092688641847,
          0.6664039354628396,
          1.0527680934630765,
          0.8056297997570754,
          0.8018344233413124,
          0.8949235149127237,
          1.11980761329015,
          1.2793178856605456,
          1.343988320165665,
          0.6179276122683317,
          0.7300181390459104,
          1.2030717319505393,
          0.6650607860577481,
          0.8362039942088709,
          0.8965072139643807,
          0.7734237994162388,
          1.4364504027292502,
          1.008272654760081,
          0.935883864024463,
          0.8735101983995399,
          1.1099416733101544,
          0.5447685836106798,
          0.7447745870350418,
          1.3815177147691184,
          1.4783390912166885,
          0.9876404896417867,
          1.367288713680078,
          0.7075098521069423,
          1.8824066511142425,
          0.9021464504193442,
          1.0174638439882786,
          0.9522953273179603,
          1.1507398898204961,
          1.284579585872736,
          0.8995952781901878,
          1.4645472447397108,
          0.9756018442807776,
          0.5353820235344092,
          1.3686891100405951,
          1.175054840842571,
          0.6585732430567435,
          1.1746461147059586,
          0.5457014829697882,
          0.55297111030101,
          0.7068126066355408,
          0.8758563721646606,
          1.208529417755765,
          0.5911847750926394,
          0.5578119032866286,
          1.0404713477194232,
          0.6108415411101534,
          1.1419841615117123,
          1.3594135594164944,
          1.47936308526481,
          1.3214320580814984,
          1.33572395957589,
          0.7745139970787941,
          0.8037314128142472,
          0.8543336731540528,
          1.0187112504263849,
          0.6660939385737201,
          0.7288662390698248,
          0.5835264088697208,
          0.9110791191789238,
          0.5567003148507005,
          0.6609268910089073,
          0.7386309688946541,
          0.933334614867494,
          0.6937339834758417,
          0.5408067643666107,
          0.5942748497926836,
          0.6118808403553431,
          1.3331345344441705,
          1.7414732839955112,
          1.5427937862565282,
          0.5530565663115975,
          0.8598768609655153,
          0.974667463506651,
          0.8729723127203194,
          0.5035409054222644,
          1.4836889320577646,
          1.0357684342350237,
          1.235626550692066,
          0.8295114926850241,
          0.746091844270282,
          0.6475411792142135,
          1.0651852242788613,
          1.0388775781052866,
          0.7932489927968084,
          0.9384283050032447,
          0.58874699759899,
          1.426187075785341,
          1.263896583538281,
          1.3966394708903223,
          1.4789679137949925,
          0.7322145095328001,
          1.0938044392350754,
          0.5819242553065305,
          1.060674346210509,
          1.2545345771366903,
          2.0072932297042314,
          0.9844055263763181,
          2.4671858257952803,
          0.5821272094948905,
          0.9935260565590806,
          1.2645513142796434,
          0.7268439016353333,
          1.3144419722748886,
          0.5588899883883945,
          0.9730871982229369,
          0.9452625186871478,
          0.8143737067984743,
          0.6500508789017808,
          1.4119442842978005,
          1.476835267229107,
          1.093386370563812,
          1.2770649753795986,
          0.9599377907146174,
          1.447088421342741,
          1.2296016297485204,
          1.3821814782844433,
          0.8751417767633346,
          1.1322085403235898,
          1.3295424910750928,
          1.0505319585176736,
          0.7948699488667533,
          1.4960454292023544,
          1.2390583650436064,
          1.3717756774133274,
          0.7123488038458314,
          0.9533449853489118,
          1.141081287675386,
          3.444053694498537,
          0.5267916712222014,
          1.4985007407617665,
          1.0781386758305076,
          0.7324708997409195,
          0.9743959244865545,
          1.095334704664197,
          1.3528137215701932,
          0.6486466358083689,
          1.2252450405119588,
          0.6756620044203029,
          1.254738890904101,
          0.7746598717913283,
          1.388477586720795,
          1.1776536428422437,
          0.9913086492222221,
          1.437729125485916,
          1.0686293337248676,
          0.8281256375824729,
          1.245098590405997,
          1.4798498936474058,
          0.9013099506523853,
          0.6536084038297469,
          0.6853847327574918,
          1.3341327378616579,
          1.2606410279566558,
          1.4761934613870262,
          3.3449758860981103,
          1.465582677187398,
          1.0722333091638676,
          1.3644992866847798,
          0.9684077726324055,
          0.6515027115871185,
          1.2739925460137083,
          0.6404190633665956,
          1.134054261034513,
          0.729601582396183,
          1.4428732341969153,
          0.5497714044176375,
          0.6199047015179097,
          1.035315249904425,
          1.3349499991130287,
          0.5308929259266527,
          2.1159571203254215,
          1.3535995438122561,
          1.2860192098573076,
          1.1535432284569804,
          2.0172189325958017,
          0.6293699513265408,
          1.201505997056267,
          0.6080729794639262,
          0.7840632875026039,
          0.5509481547258536,
          1.2169764376596703,
          1.0081556632841615,
          0.9038547599883804,
          1.403831907172822,
          1.0486296362651766,
          1.096745412760174,
          0.8478131323721317,
          1.1293321103094698,
          1.1772389143041164,
          0.913926020880238,
          0.884969199571051,
          0.6308613625269258,
          1.4931479057960457,
          0.8665856303506194,
          0.5501871331544916,
          1.1623064730877637,
          0.5093396032121655,
          0.5965040330374177,
          0.6364019019771192,
          1.9261440827523528,
          1.3576808985829532,
          3.328369009152921,
          1.2377498026509297,
          0.5901681689289046,
          1.1035897455768868,
          1.2189332577209977,
          1.3914379150333502,
          1.2042520599154505,
          1.0025143451181635,
          1.0426108928931885,
          1.4914611707734495,
          0.8025489955926209,
          0.7739906403985003,
          0.9457616001650803,
          1.0254225354962947,
          0.729877835195571,
          1.0442732469881402,
          1.165931884053423,
          0.5717646532504286,
          1.2720932343231655,
          0.64074450200158,
          0.836012815236926,
          1.348541630991567,
          0.8616257827787996,
          1.3599713451038982,
          1.166272671303287,
          0.7845597415655329,
          1.1029666384504788,
          1.6148057863675511,
          1.2167523704661778,
          1.1996452565703173,
          1.4568642463766819,
          0.5362886466858919,
          1.0785095871079844,
          0.7989668314576417,
          1.1540218167153604,
          1.1561844140462618,
          0.9756582244743,
          0.7591908234088551,
          1.3352942803105177,
          1.0825468486354808,
          1.0396839677703476,
          0.5989417824538804,
          0.9223931553936626,
          1.2461996506193784,
          1.2753235487333519,
          0.7855169575172527,
          1.2418530799480871,
          1.0757304215833552,
          0.7508167737186209,
          1.2589862839155948,
          0.9222637007930532,
          1.139743311185804,
          1.1411852667660924,
          0.9801556216904019,
          0.884615162958666,
          0.8151709244562543,
          1.050220541338478,
          0.728336271213512,
          1.126838820182821,
          0.7221520448495672,
          0.8274836977240062,
          1.2646115312586759,
          1.4330859651068453,
          0.8634447688696484,
          1.0961913767865115,
          1.3124053896930707,
          1.4122229400354585,
          1.4461327454949195,
          1.0795087726936492,
          0.6310325341827955,
          0.6908659276781045,
          1.4866927989912844,
          1.0981957228718309,
          1.4554087080487785,
          1.3985991535239752,
          0.8561600224171815,
          1.222420264083588,
          0.9381572336988542,
          0.5270179400165214,
          0.6480704266810684,
          1.054385955025153,
          1.1199614398839404,
          1.2503289675289813,
          0.5029647373311201,
          0.5275052184947892,
          1.032483123134318,
          0.5422414417211058,
          0.6040102134223144,
          1.0292725287851052,
          1.0896961761986566,
          0.8633833487602147,
          1.1284572841610494,
          1.8486708974233015,
          3.7072655824541427,
          1.0041607133632215,
          8.077804890802076,
          0.5728041802831867,
          3.7248131216854423,
          1.3055421915706407,
          1.260439631276233,
          1.4889651711625127,
          0.9598634144641912,
          1.3223300752629759,
          0.5683676643895399,
          3.341535021914459,
          1.1485992072809,
          0.8255635652120166,
          0.6786044523004302,
          0.5292012681216207,
          0.5890177699848286,
          2.339641043417732,
          1.1836903499862212,
          1.41806970887442,
          2.4073051104048737,
          0.691749303580707,
          0.5742728083437717,
          0.7554289589530206,
          0.7053296323075013,
          1.4258519466545825,
          0.826738175545923,
          2.4410487255175872,
          1.0133249596886356,
          1.055465827423927,
          1.3686535325732825,
          1.449054482095076,
          1.2057021708028557,
          1.7094773413115,
          1.4340424234122837,
          0.8113632756245897,
          1.2557699042556991,
          0.7459068159103243,
          0.6375494704082244,
          0.691215638362189,
          0.7526156103417213,
          1.384960911776668,
          0.6866209474160873,
          1.1303690044168402,
          0.6892646930644195,
          0.6647215809327399,
          0.7128389449112157,
          1.066312468605294,
          0.7488343756968714,
          1.142248283564209,
          1.1624081726862934,
          0.5120286594783041,
          0.7234358199330795,
          0.8686727153646151,
          0.9766922875479895,
          1.2727190333024083,
          1.1678285962166735,
          1.455167986333527,
          1.4949480636553274,
          2.1317455471413003,
          2.492741580242023,
          1.1898733923224198,
          1.3251927057741888,
          0.5677473559498922,
          1.3345695240412532,
          0.6451356964404877,
          1.3917032344894285,
          1.4268199364095167,
          1.1199662082506534,
          1.4344717619841874,
          0.6018486768076106,
          2.2519984796683334,
          0.7343692151545557,
          0.7278954135248134,
          1.4992441060043449,
          1.0130901033606643,
          1.0110114685469067,
          0.7643417940519194,
          1.2661991518262137,
          1.2712294245066942,
          0.7826179070638396,
          2.0654409186789455,
          1.9369240715451546,
          2.302995093903471,
          2.3264254133510605,
          3.0878953482843685,
          4.286424066902422,
          7.959172641616134,
          6.974370902603043,
          5.03447227116208,
          4.887974281460876,
          2.2966437656808933,
          8.526111251335312,
          1.5660762813633187,
          0.5906255490635116,
          0.7503837796173032,
          0.5862556350872473,
          1.4337348171207096,
          0.8824419756260103,
          0.504803686245207,
          0.8643045772956391,
          0.7934121882210942,
          1.2448903430942513,
          1.0473455226748096,
          0.5255297013862409,
          0.6845980721428276,
          0.6042849951485644,
          0.5749129295675781,
          1.0720037123210093,
          1.2536206630717652,
          0.655410428277514,
          0.9381791018185571,
          0.6939826335254268,
          0.937200364935179,
          0.8869165320447732,
          1.2537899452879757,
          1.200127427104972,
          0.821338907472241,
          0.8858775870200555,
          1.3174033127215241,
          1.2239304083566303,
          1.4743565958109035,
          1.420420285992705,
          1.2822895538236603,
          0.6463619036957587,
          1.3270519166297823,
          0.8797223428294819,
          0.8700100452962062,
          0.8235734768577344,
          0.7226209384508776,
          0.6536146971684735,
          1.431356226781412,
          1.42281940104435,
          0.5520608916469386,
          1.2933560679728013,
          0.922292773857058,
          0.9004295299911061,
          0.6259795073794009,
          1.2858810684304105,
          1.8713873908537115,
          0.9090255181975545,
          0.7763980918840296,
          1.167643851593811,
          1.046464013672106,
          0.6992339725824295,
          1.0403332966425407,
          0.8704578250408345,
          1.0191045904772456,
          1.2955762095455412,
          1.4461200739730482,
          1.4516216225925567,
          1.1771288232453958,
          0.5454581226236949,
          0.6942607966038392,
          1.4411903664057513,
          0.8715789681068261,
          1.2833810718276246,
          0.8459147989851703,
          1.3490228909968764,
          0.9286131206547875,
          0.7579503834540868,
          1.0253480123603613,
          1.1071704011874215,
          1.0272550237097104,
          0.8598078655866521,
          1.46931321552622,
          0.8217380033491996,
          1.2377770587474801,
          1.1164024965807982,
          1.9958757413596224,
          2.2089400243609307,
          0.6388435026227849,
          0.6379599248937023,
          1.3564506087703665,
          1.4338003837136446,
          1.3532559067333092,
          0.9573381099617776,
          2.316706280465369,
          0.9812161298821104,
          0.5481454435608161,
          0.9790082362993899,
          0.5642788802329524,
          1.3153044220883172,
          1.2907471174521419,
          0.8626530761726657,
          1.3469037084261801,
          0.6696656400432891,
          0.8932180258995229,
          1.411646952259041,
          1.0891470249393822,
          0.6897479143584981,
          1.353739539960954,
          1.1158340326882228,
          0.6498826420498801,
          1.1005621253473825,
          1.1600625144278534,
          1.3132145515373985,
          0.8747061027518016,
          1.1464982423691763,
          0.7067571988716357,
          1.495023814808215,
          1.420953995573432,
          1.1903513550351845,
          1.2858862778701434,
          0.820270185297451,
          0.8315861828017398,
          0.9125454784086744,
          1.1319645069697786,
          0.9116218948993952,
          1.4620899197591624,
          0.8810196242417175,
          0.6126549158319009,
          1.4300410295376722,
          0.7905176657201504,
          0.6188641433481799,
          1.1871298039387432,
          0.6851646428243706,
          1.007016812906024,
          1.035694495120997,
          1.101216159481978,
          0.5239353967258805,
          1.2928905978560814,
          1.1679484582673065,
          0.7914984457411015,
          1.3503457505080143,
          0.6791825324586449,
          1.1559054989881843,
          1.3933849785380965,
          0.5251397169739235,
          0.879509862965971,
          1.0128043373072262,
          0.5196014453873502,
          0.9496818513099624,
          1.0909427583211098,
          1.1517429687615255,
          1.2164255607691847,
          0.8879768453131642,
          0.7909717569555827,
          0.6746611997907462,
          0.9771511458573888,
          1.0782424645943793,
          1.4692511816405351,
          1.0353507458352267,
          0.9309848997519592,
          1.5283647745998463,
          1.1056729159156542,
          1.1994126839855062,
          1.3739143138291063,
          1.1629381992516667,
          0.7400781868037015,
          1.0457869155586441,
          1.1185310767797305,
          2.3234340522084516,
          0.9597645373194086,
          1.2254997601117417,
          1.6178811540199116,
          1.4609639414359576,
          0.7265894820868135,
          1.3325646495962646,
          0.853969147766038,
          0.8109460505250932,
          0.8816362961165488,
          0.9624231693062798,
          1.4622092367236623,
          1.4583712469222472,
          0.924372306385524,
          1.2516801901527375,
          0.7881871005574015,
          0.9040465783112186,
          2.192315452896626,
          1.4956114748868377,
          1.4854694860960236,
          0.6963885940792686,
          0.5256324261033039,
          1.272233711890093,
          1.0168937196070105,
          1.158966766587549,
          1.1328371011313587,
          0.5985099307719332,
          1.1480670384389375,
          0.7540055025393706,
          0.549407225223848,
          0.8784521432894614,
          1.3488968873922729,
          0.7907954259003293,
          0.6078468673733862,
          1.3930972431460358,
          1.4382261857339844,
          0.9599651857512763,
          0.8236929791738161,
          2.4703439618354857,
          1.2245626269596679,
          0.8399861864917784,
          1.0672567046407782,
          0.5530371307862663,
          1.2313920464176205,
          1.4295200732284659,
          0.8170714743093772,
          1.0478125473408455,
          1.1115601106246933,
          1.4140687821086781,
          0.9976730594154619,
          1.067431341616546,
          1.2402892245760115,
          1.3196937364385735,
          0.7656475670734282,
          1.1134935045813892,
          0.8979625744009169,
          1.2973547132629757,
          1.477111800947206,
          1.0844690413347648,
          1.1654302912163135,
          2.1265861809392987,
          1.2907779503939434,
          0.6912865226534727,
          0.7875379195810066,
          1.4901913776514932,
          1.1442668838413121,
          1.3182866381122522,
          0.6539901645452635,
          1.0871679805340895,
          0.9133820295271703,
          1.3225433289433577,
          0.8852396843991971,
          1.2695188297734539,
          1.1138319188428782,
          1.3777409258629727,
          0.8334272417589077,
          1.6870058570066135,
          0.9186583138340878,
          2.3253095960284473,
          0.8272097420673696,
          0.9074355066838878,
          1.4730338513135706,
          0.9131735228682961
         ],
         "yaxis": "y"
        }
       ],
       "layout": {
        "coloraxis": {
         "colorbar": {
          "title": {
           "text": "Numbers"
          }
         },
         "colorscale": [
          [
           0,
           "rgb(0, 128, 128)"
          ],
          [
           0.16666666666666666,
           "rgb(112, 164, 148)"
          ],
          [
           0.3333333333333333,
           "rgb(180, 200, 168)"
          ],
          [
           0.5,
           "rgb(246, 237, 189)"
          ],
          [
           0.6666666666666666,
           "rgb(237, 187, 138)"
          ],
          [
           0.8333333333333334,
           "rgb(222, 138, 90)"
          ],
          [
           1,
           "rgb(202, 86, 44)"
          ]
         ]
        },
        "height": 600,
        "legend": {
         "itemsizing": "constant",
         "tracegroupgap": 0
        },
        "margin": {
         "t": 60
        },
        "template": {
         "data": {
          "bar": [
           {
            "error_x": {
             "color": "#2a3f5f"
            },
            "error_y": {
             "color": "#2a3f5f"
            },
            "marker": {
             "line": {
              "color": "white",
              "width": 0.5
             },
             "pattern": {
              "fillmode": "overlay",
              "size": 10,
              "solidity": 0.2
             }
            },
            "type": "bar"
           }
          ],
          "barpolar": [
           {
            "marker": {
             "line": {
              "color": "white",
              "width": 0.5
             },
             "pattern": {
              "fillmode": "overlay",
              "size": 10,
              "solidity": 0.2
             }
            },
            "type": "barpolar"
           }
          ],
          "carpet": [
           {
            "aaxis": {
             "endlinecolor": "#2a3f5f",
             "gridcolor": "#C8D4E3",
             "linecolor": "#C8D4E3",
             "minorgridcolor": "#C8D4E3",
             "startlinecolor": "#2a3f5f"
            },
            "baxis": {
             "endlinecolor": "#2a3f5f",
             "gridcolor": "#C8D4E3",
             "linecolor": "#C8D4E3",
             "minorgridcolor": "#C8D4E3",
             "startlinecolor": "#2a3f5f"
            },
            "type": "carpet"
           }
          ],
          "choropleth": [
           {
            "colorbar": {
             "outlinewidth": 0,
             "ticks": ""
            },
            "type": "choropleth"
           }
          ],
          "contour": [
           {
            "colorbar": {
             "outlinewidth": 0,
             "ticks": ""
            },
            "colorscale": [
             [
              0,
              "#0d0887"
             ],
             [
              0.1111111111111111,
              "#46039f"
             ],
             [
              0.2222222222222222,
              "#7201a8"
             ],
             [
              0.3333333333333333,
              "#9c179e"
             ],
             [
              0.4444444444444444,
              "#bd3786"
             ],
             [
              0.5555555555555556,
              "#d8576b"
             ],
             [
              0.6666666666666666,
              "#ed7953"
             ],
             [
              0.7777777777777778,
              "#fb9f3a"
             ],
             [
              0.8888888888888888,
              "#fdca26"
             ],
             [
              1,
              "#f0f921"
             ]
            ],
            "type": "contour"
           }
          ],
          "contourcarpet": [
           {
            "colorbar": {
             "outlinewidth": 0,
             "ticks": ""
            },
            "type": "contourcarpet"
           }
          ],
          "heatmap": [
           {
            "colorbar": {
             "outlinewidth": 0,
             "ticks": ""
            },
            "colorscale": [
             [
              0,
              "#0d0887"
             ],
             [
              0.1111111111111111,
              "#46039f"
             ],
             [
              0.2222222222222222,
              "#7201a8"
             ],
             [
              0.3333333333333333,
              "#9c179e"
             ],
             [
              0.4444444444444444,
              "#bd3786"
             ],
             [
              0.5555555555555556,
              "#d8576b"
             ],
             [
              0.6666666666666666,
              "#ed7953"
             ],
             [
              0.7777777777777778,
              "#fb9f3a"
             ],
             [
              0.8888888888888888,
              "#fdca26"
             ],
             [
              1,
              "#f0f921"
             ]
            ],
            "type": "heatmap"
           }
          ],
          "heatmapgl": [
           {
            "colorbar": {
             "outlinewidth": 0,
             "ticks": ""
            },
            "colorscale": [
             [
              0,
              "#0d0887"
             ],
             [
              0.1111111111111111,
              "#46039f"
             ],
             [
              0.2222222222222222,
              "#7201a8"
             ],
             [
              0.3333333333333333,
              "#9c179e"
             ],
             [
              0.4444444444444444,
              "#bd3786"
             ],
             [
              0.5555555555555556,
              "#d8576b"
             ],
             [
              0.6666666666666666,
              "#ed7953"
             ],
             [
              0.7777777777777778,
              "#fb9f3a"
             ],
             [
              0.8888888888888888,
              "#fdca26"
             ],
             [
              1,
              "#f0f921"
             ]
            ],
            "type": "heatmapgl"
           }
          ],
          "histogram": [
           {
            "marker": {
             "pattern": {
              "fillmode": "overlay",
              "size": 10,
              "solidity": 0.2
             }
            },
            "type": "histogram"
           }
          ],
          "histogram2d": [
           {
            "colorbar": {
             "outlinewidth": 0,
             "ticks": ""
            },
            "colorscale": [
             [
              0,
              "#0d0887"
             ],
             [
              0.1111111111111111,
              "#46039f"
             ],
             [
              0.2222222222222222,
              "#7201a8"
             ],
             [
              0.3333333333333333,
              "#9c179e"
             ],
             [
              0.4444444444444444,
              "#bd3786"
             ],
             [
              0.5555555555555556,
              "#d8576b"
             ],
             [
              0.6666666666666666,
              "#ed7953"
             ],
             [
              0.7777777777777778,
              "#fb9f3a"
             ],
             [
              0.8888888888888888,
              "#fdca26"
             ],
             [
              1,
              "#f0f921"
             ]
            ],
            "type": "histogram2d"
           }
          ],
          "histogram2dcontour": [
           {
            "colorbar": {
             "outlinewidth": 0,
             "ticks": ""
            },
            "colorscale": [
             [
              0,
              "#0d0887"
             ],
             [
              0.1111111111111111,
              "#46039f"
             ],
             [
              0.2222222222222222,
              "#7201a8"
             ],
             [
              0.3333333333333333,
              "#9c179e"
             ],
             [
              0.4444444444444444,
              "#bd3786"
             ],
             [
              0.5555555555555556,
              "#d8576b"
             ],
             [
              0.6666666666666666,
              "#ed7953"
             ],
             [
              0.7777777777777778,
              "#fb9f3a"
             ],
             [
              0.8888888888888888,
              "#fdca26"
             ],
             [
              1,
              "#f0f921"
             ]
            ],
            "type": "histogram2dcontour"
           }
          ],
          "mesh3d": [
           {
            "colorbar": {
             "outlinewidth": 0,
             "ticks": ""
            },
            "type": "mesh3d"
           }
          ],
          "parcoords": [
           {
            "line": {
             "colorbar": {
              "outlinewidth": 0,
              "ticks": ""
             }
            },
            "type": "parcoords"
           }
          ],
          "pie": [
           {
            "automargin": true,
            "type": "pie"
           }
          ],
          "scatter": [
           {
            "fillpattern": {
             "fillmode": "overlay",
             "size": 10,
             "solidity": 0.2
            },
            "type": "scatter"
           }
          ],
          "scatter3d": [
           {
            "line": {
             "colorbar": {
              "outlinewidth": 0,
              "ticks": ""
             }
            },
            "marker": {
             "colorbar": {
              "outlinewidth": 0,
              "ticks": ""
             }
            },
            "type": "scatter3d"
           }
          ],
          "scattercarpet": [
           {
            "marker": {
             "colorbar": {
              "outlinewidth": 0,
              "ticks": ""
             }
            },
            "type": "scattercarpet"
           }
          ],
          "scattergeo": [
           {
            "marker": {
             "colorbar": {
              "outlinewidth": 0,
              "ticks": ""
             }
            },
            "type": "scattergeo"
           }
          ],
          "scattergl": [
           {
            "marker": {
             "colorbar": {
              "outlinewidth": 0,
              "ticks": ""
             }
            },
            "type": "scattergl"
           }
          ],
          "scattermapbox": [
           {
            "marker": {
             "colorbar": {
              "outlinewidth": 0,
              "ticks": ""
             }
            },
            "type": "scattermapbox"
           }
          ],
          "scatterpolar": [
           {
            "marker": {
             "colorbar": {
              "outlinewidth": 0,
              "ticks": ""
             }
            },
            "type": "scatterpolar"
           }
          ],
          "scatterpolargl": [
           {
            "marker": {
             "colorbar": {
              "outlinewidth": 0,
              "ticks": ""
             }
            },
            "type": "scatterpolargl"
           }
          ],
          "scatterternary": [
           {
            "marker": {
             "colorbar": {
              "outlinewidth": 0,
              "ticks": ""
             }
            },
            "type": "scatterternary"
           }
          ],
          "surface": [
           {
            "colorbar": {
             "outlinewidth": 0,
             "ticks": ""
            },
            "colorscale": [
             [
              0,
              "#0d0887"
             ],
             [
              0.1111111111111111,
              "#46039f"
             ],
             [
              0.2222222222222222,
              "#7201a8"
             ],
             [
              0.3333333333333333,
              "#9c179e"
             ],
             [
              0.4444444444444444,
              "#bd3786"
             ],
             [
              0.5555555555555556,
              "#d8576b"
             ],
             [
              0.6666666666666666,
              "#ed7953"
             ],
             [
              0.7777777777777778,
              "#fb9f3a"
             ],
             [
              0.8888888888888888,
              "#fdca26"
             ],
             [
              1,
              "#f0f921"
             ]
            ],
            "type": "surface"
           }
          ],
          "table": [
           {
            "cells": {
             "fill": {
              "color": "#EBF0F8"
             },
             "line": {
              "color": "white"
             }
            },
            "header": {
             "fill": {
              "color": "#C8D4E3"
             },
             "line": {
              "color": "white"
             }
            },
            "type": "table"
           }
          ]
         },
         "layout": {
          "annotationdefaults": {
           "arrowcolor": "#2a3f5f",
           "arrowhead": 0,
           "arrowwidth": 1
          },
          "autotypenumbers": "strict",
          "coloraxis": {
           "colorbar": {
            "outlinewidth": 0,
            "ticks": ""
           }
          },
          "colorscale": {
           "diverging": [
            [
             0,
             "#8e0152"
            ],
            [
             0.1,
             "#c51b7d"
            ],
            [
             0.2,
             "#de77ae"
            ],
            [
             0.3,
             "#f1b6da"
            ],
            [
             0.4,
             "#fde0ef"
            ],
            [
             0.5,
             "#f7f7f7"
            ],
            [
             0.6,
             "#e6f5d0"
            ],
            [
             0.7,
             "#b8e186"
            ],
            [
             0.8,
             "#7fbc41"
            ],
            [
             0.9,
             "#4d9221"
            ],
            [
             1,
             "#276419"
            ]
           ],
           "sequential": [
            [
             0,
             "#0d0887"
            ],
            [
             0.1111111111111111,
             "#46039f"
            ],
            [
             0.2222222222222222,
             "#7201a8"
            ],
            [
             0.3333333333333333,
             "#9c179e"
            ],
            [
             0.4444444444444444,
             "#bd3786"
            ],
            [
             0.5555555555555556,
             "#d8576b"
            ],
            [
             0.6666666666666666,
             "#ed7953"
            ],
            [
             0.7777777777777778,
             "#fb9f3a"
            ],
            [
             0.8888888888888888,
             "#fdca26"
            ],
            [
             1,
             "#f0f921"
            ]
           ],
           "sequentialminus": [
            [
             0,
             "#0d0887"
            ],
            [
             0.1111111111111111,
             "#46039f"
            ],
            [
             0.2222222222222222,
             "#7201a8"
            ],
            [
             0.3333333333333333,
             "#9c179e"
            ],
            [
             0.4444444444444444,
             "#bd3786"
            ],
            [
             0.5555555555555556,
             "#d8576b"
            ],
            [
             0.6666666666666666,
             "#ed7953"
            ],
            [
             0.7777777777777778,
             "#fb9f3a"
            ],
            [
             0.8888888888888888,
             "#fdca26"
            ],
            [
             1,
             "#f0f921"
            ]
           ]
          },
          "colorway": [
           "#636efa",
           "#EF553B",
           "#00cc96",
           "#ab63fa",
           "#FFA15A",
           "#19d3f3",
           "#FF6692",
           "#B6E880",
           "#FF97FF",
           "#FECB52"
          ],
          "font": {
           "color": "#2a3f5f"
          },
          "geo": {
           "bgcolor": "white",
           "lakecolor": "white",
           "landcolor": "white",
           "showlakes": true,
           "showland": true,
           "subunitcolor": "#C8D4E3"
          },
          "hoverlabel": {
           "align": "left"
          },
          "hovermode": "closest",
          "mapbox": {
           "style": "light"
          },
          "paper_bgcolor": "white",
          "plot_bgcolor": "white",
          "polar": {
           "angularaxis": {
            "gridcolor": "#EBF0F8",
            "linecolor": "#EBF0F8",
            "ticks": ""
           },
           "bgcolor": "white",
           "radialaxis": {
            "gridcolor": "#EBF0F8",
            "linecolor": "#EBF0F8",
            "ticks": ""
           }
          },
          "scene": {
           "xaxis": {
            "backgroundcolor": "white",
            "gridcolor": "#DFE8F3",
            "gridwidth": 2,
            "linecolor": "#EBF0F8",
            "showbackground": true,
            "ticks": "",
            "zerolinecolor": "#EBF0F8"
           },
           "yaxis": {
            "backgroundcolor": "white",
            "gridcolor": "#DFE8F3",
            "gridwidth": 2,
            "linecolor": "#EBF0F8",
            "showbackground": true,
            "ticks": "",
            "zerolinecolor": "#EBF0F8"
           },
           "zaxis": {
            "backgroundcolor": "white",
            "gridcolor": "#DFE8F3",
            "gridwidth": 2,
            "linecolor": "#EBF0F8",
            "showbackground": true,
            "ticks": "",
            "zerolinecolor": "#EBF0F8"
           }
          },
          "shapedefaults": {
           "line": {
            "color": "#2a3f5f"
           }
          },
          "ternary": {
           "aaxis": {
            "gridcolor": "#DFE8F3",
            "linecolor": "#A2B1C6",
            "ticks": ""
           },
           "baxis": {
            "gridcolor": "#DFE8F3",
            "linecolor": "#A2B1C6",
            "ticks": ""
           },
           "bgcolor": "white",
           "caxis": {
            "gridcolor": "#DFE8F3",
            "linecolor": "#A2B1C6",
            "ticks": ""
           }
          },
          "title": {
           "x": 0.05
          },
          "xaxis": {
           "automargin": true,
           "gridcolor": "#EBF0F8",
           "linecolor": "#EBF0F8",
           "ticks": "",
           "title": {
            "standoff": 15
           },
           "zerolinecolor": "#EBF0F8",
           "zerolinewidth": 2
          },
          "yaxis": {
           "automargin": true,
           "gridcolor": "#EBF0F8",
           "linecolor": "#EBF0F8",
           "ticks": "",
           "title": {
            "standoff": 15
           },
           "zerolinecolor": "#EBF0F8",
           "zerolinewidth": 2
          }
         }
        },
        "width": 1000,
        "xaxis": {
         "anchor": "y",
         "domain": [
          0,
          1
         ],
         "title": {
          "font": {
           "size": 18
          },
          "text": "Years"
         }
        },
        "yaxis": {
         "anchor": "x",
         "domain": [
          0,
          1
         ],
         "title": {
          "font": {
           "size": 18
          },
          "text": "Number"
         }
        }
       }
      }
     },
     "metadata": {},
     "output_type": "display_data"
    }
   ],
   "source": [
    "import plotly.express as px\n",
    "import pandas as pd\n",
    "import numpy as np\n",
    "\n",
    "df = pd.read_csv('Mt_keywords_counts_year.csv')\n",
    "\n",
    "# df的count列转为float类型\n",
    "df['Count'] = df['Count'].astype(float)\n",
    "df['Counts'] = df['Count'] + np.random.uniform(-0.5, 0.5, size=len(df))\n",
    "df['Years'] = df['Year'] + np.random.uniform(-0.3, 0.3, size=len(df))\n",
    "\n",
    "fig = px.scatter(df, \n",
    "                 x='Years', \n",
    "                 y='Counts', \n",
    "                 size='Count',\n",
    "                 color='Count',\n",
    "                 hover_name='Keyword',  # 使用关键词作为悬浮名称\n",
    "                 hover_data=['Year', 'Count'],  \n",
    "                 size_max=20,\n",
    "                 title='',\n",
    "                 labels={\"Count\": \"Numbers\", \"Year\": \"Years\"},\n",
    "                 color_continuous_scale=\"Geyser\",\n",
    "                )\n",
    "\n",
    "fig.update_layout(\n",
    "    template=\"plotly_white\",\n",
    "    width=1000,\n",
    "    height=600,\n",
    "    xaxis=dict(title=dict(text='Years', font=dict(size=18))),\n",
    "    yaxis=dict(title=dict(text='Number', font=dict(size=18)),\n",
    "    )\n",
    ")\n",
    "\n",
    "\n",
    "fig.show()"
   ]
  },
  {
   "cell_type": "code",
   "execution_count": 3,
   "metadata": {},
   "outputs": [],
   "source": [
    "import pandas as pd\n",
    "from collections import Counter\n",
    "import json\n",
    "import re"
   ]
  },
  {
   "cell_type": "code",
   "execution_count": 4,
   "metadata": {},
   "outputs": [],
   "source": [
    "# 读取csv数据\n",
    "data = pd.read_csv(\"./Mt_paper_all.csv\").copy()"
   ]
  },
  {
   "cell_type": "code",
   "execution_count": 5,
   "metadata": {},
   "outputs": [
    {
     "data": {
      "text/html": [
       "<div>\n",
       "<style scoped>\n",
       "    .dataframe tbody tr th:only-of-type {\n",
       "        vertical-align: middle;\n",
       "    }\n",
       "\n",
       "    .dataframe tbody tr th {\n",
       "        vertical-align: top;\n",
       "    }\n",
       "\n",
       "    .dataframe thead th {\n",
       "        text-align: right;\n",
       "    }\n",
       "</style>\n",
       "<table border=\"1\" class=\"dataframe\">\n",
       "  <thead>\n",
       "    <tr style=\"text-align: right;\">\n",
       "      <th></th>\n",
       "      <th>PMID</th>\n",
       "      <th>Author</th>\n",
       "      <th>Title</th>\n",
       "      <th>Abstract</th>\n",
       "      <th>Keywords</th>\n",
       "      <th>Journal</th>\n",
       "      <th>Institution</th>\n",
       "      <th>Country</th>\n",
       "      <th>DOI</th>\n",
       "      <th>Publication Year</th>\n",
       "    </tr>\n",
       "  </thead>\n",
       "  <tbody>\n",
       "    <tr>\n",
       "      <th>0</th>\n",
       "      <td>25025273</td>\n",
       "      <td>['Singh, Bijender']</td>\n",
       "      <td>Myceliophthora thermophila syn. Sporotrichum t...</td>\n",
       "      <td>Myceliophthora thermophila syn. Sporotrichum t...</td>\n",
       "      <td>Biomolecules, Myceliophthora thermophila, Spor...</td>\n",
       "      <td>Critical reviews in biotechnology</td>\n",
       "      <td>a Laboratory of Bioprocess Technology, Departm...</td>\n",
       "      <td>India</td>\n",
       "      <td>10.3109/07388551.2014.923985</td>\n",
       "      <td>2016</td>\n",
       "    </tr>\n",
       "    <tr>\n",
       "      <th>1</th>\n",
       "      <td>32640074</td>\n",
       "      <td>['Dos Santos Gomes, A C', 'Casciatori, F P', '...</td>\n",
       "      <td>Growth kinetics of Myceliophthora thermophila ...</td>\n",
       "      <td>AIMS: This work aimed to estimate the growth o...</td>\n",
       "      <td>N-acetylglucosamine, enzymes, growth kinetics,...</td>\n",
       "      <td>Journal of applied microbiology</td>\n",
       "      <td>Instituto de Biociencias, Letras e Ciencias Ex...</td>\n",
       "      <td>Brazil</td>\n",
       "      <td>10.1111/jam.14774</td>\n",
       "      <td>2021</td>\n",
       "    </tr>\n",
       "    <tr>\n",
       "      <th>2</th>\n",
       "      <td>24995002</td>\n",
       "      <td>['Karnaouri, Anthi', 'Topakas, Evangelos', 'An...</td>\n",
       "      <td>Genomic insights into the fungal lignocellulol...</td>\n",
       "      <td>The microbial conversion of solid cellulosic b...</td>\n",
       "      <td>CAZy, Myceliophthora thermophila, biofuels, li...</td>\n",
       "      <td>Frontiers in microbiology</td>\n",
       "      <td>Biotechnology Laboratory, Department of Synthe...</td>\n",
       "      <td>Sweden</td>\n",
       "      <td>10.3389/fmicb.2014.00281</td>\n",
       "      <td>2014</td>\n",
       "    </tr>\n",
       "    <tr>\n",
       "      <th>3</th>\n",
       "      <td>35450635</td>\n",
       "      <td>['Sun, Peicheng', 'de Munnik, Melanie', 'van B...</td>\n",
       "      <td>Extending the diversity of Myceliophthora ther...</td>\n",
       "      <td>Lytic polysaccharide monooxygenases (LPMOs) pl...</td>\n",
       "      <td>Active site segment, LPMOs, Lignocellulose, Ma...</td>\n",
       "      <td>Carbohydrate polymers</td>\n",
       "      <td>Laboratory of Food Chemistry, Wageningen Unive...</td>\n",
       "      <td>the Netherlands. Electronic address: peicheng....</td>\n",
       "      <td>10.1016/j.carbpol.2022.119373</td>\n",
       "      <td>2022</td>\n",
       "    </tr>\n",
       "    <tr>\n",
       "      <th>4</th>\n",
       "      <td>31534479</td>\n",
       "      <td>['Dos Santos Gomes, Ana Carolina', 'Falkoski, ...</td>\n",
       "      <td>Myceliophthora thermophila Xyr1 is predominant...</td>\n",
       "      <td>BACKGROUND: Myceliophthora thermophila is a th...</td>\n",
       "      <td>Cellulose degradation, Myceliophthora thermoph...</td>\n",
       "      <td>Biotechnology for biofuels</td>\n",
       "      <td>1Fungal Physiology, Westerdijk Fungal Biodiver...</td>\n",
       "      <td>The Netherlands. ISNI: 0000000120346234. GRID:...</td>\n",
       "      <td>10.1186/s13068-019-1556-y</td>\n",
       "      <td>2019</td>\n",
       "    </tr>\n",
       "    <tr>\n",
       "      <th>...</th>\n",
       "      <td>...</td>\n",
       "      <td>...</td>\n",
       "      <td>...</td>\n",
       "      <td>...</td>\n",
       "      <td>...</td>\n",
       "      <td>...</td>\n",
       "      <td>...</td>\n",
       "      <td>...</td>\n",
       "      <td>...</td>\n",
       "      <td>...</td>\n",
       "    </tr>\n",
       "    <tr>\n",
       "      <th>245</th>\n",
       "      <td>24128582</td>\n",
       "      <td>['Aljawish, Abdulhadi', 'Chevalot, Isabelle', ...</td>\n",
       "      <td>Laccase-catalysed oxidation of ferulic acid an...</td>\n",
       "      <td>The enzymatic oxidation of ferulic acid (FA) a...</td>\n",
       "      <td>Antioxidant, Cytotoxicity, Dye, Enzymatic oxid...</td>\n",
       "      <td>Food chemistry</td>\n",
       "      <td>Laboratoire d'Ingenierie des Biomolecules (LIB...</td>\n",
       "      <td>France</td>\n",
       "      <td>10.1016/j.foodchem.2013.07.119</td>\n",
       "      <td>2014</td>\n",
       "    </tr>\n",
       "    <tr>\n",
       "      <th>253</th>\n",
       "      <td>30960948</td>\n",
       "      <td>['Su, Jing', 'Shim, Euijin', 'Noro, Jennifer',...</td>\n",
       "      <td>Conductive Cotton by In Situ Laccase-Polymeriz...</td>\n",
       "      <td>Conductive cotton fabrics were obtained via in...</td>\n",
       "      <td>1-hydroxybenzotriazol (HBT), coatings, conduct...</td>\n",
       "      <td>Polymers</td>\n",
       "      <td>International Joint Research Laboratory for Te...</td>\n",
       "      <td>China. jingsu@ceb.uminho.pt</td>\n",
       "      <td>10.3390/polym10091023</td>\n",
       "      <td>2018</td>\n",
       "    </tr>\n",
       "    <tr>\n",
       "      <th>257</th>\n",
       "      <td>33807631</td>\n",
       "      <td>['Contato, Alex Graca', 'de Oliveira, Tassio B...</td>\n",
       "      <td>Prospection of Fungal Lignocellulolytic Enzyme...</td>\n",
       "      <td>The lignocellulosic biomass comprises three ma...</td>\n",
       "      <td>Hymenaea courbaril, Tamarindus indica, biopros...</td>\n",
       "      <td>Microorganisms</td>\n",
       "      <td>Departamento de Bioquimica e Imunologia, Facul...</td>\n",
       "      <td>Brazil</td>\n",
       "      <td>10.3390/microorganisms9030533</td>\n",
       "      <td>2021</td>\n",
       "    </tr>\n",
       "    <tr>\n",
       "      <th>263</th>\n",
       "      <td>36866191</td>\n",
       "      <td>['Bampidis, Vasileios', 'Azimonti, Giovanna', ...</td>\n",
       "      <td>Safety and efficacy of a feed additive consist...</td>\n",
       "      <td>Following a request from the European Commissi...</td>\n",
       "      <td>Natupulse(R), digestibility enhancers, efficac...</td>\n",
       "      <td>EFSA journal. European Food Safety Authority</td>\n",
       "      <td>?</td>\n",
       "      <td>NaN</td>\n",
       "      <td>10.2903/j.efsa.2023.7873</td>\n",
       "      <td>2023</td>\n",
       "    </tr>\n",
       "    <tr>\n",
       "      <th>264</th>\n",
       "      <td>37164048</td>\n",
       "      <td>['Goncalves, Aline Larissa', 'Cunha, Paula Mac...</td>\n",
       "      <td>Production of recombinant lytic polysaccharide...</td>\n",
       "      <td>Lignocellulosic biomass is a promising alterna...</td>\n",
       "      <td>Enzymes, Filamentous fungi, LPMO, Saccharifica...</td>\n",
       "      <td>Biochimica et biophysica acta. Proteins and pr...</td>\n",
       "      <td>Department of Biotechnology, Lorena School of ...</td>\n",
       "      <td>Brazil</td>\n",
       "      <td>10.1016/j.bbapap.2023.140919</td>\n",
       "      <td>2023</td>\n",
       "    </tr>\n",
       "  </tbody>\n",
       "</table>\n",
       "<p>153 rows × 10 columns</p>\n",
       "</div>"
      ],
      "text/plain": [
       "         PMID                                             Author  \\\n",
       "0    25025273                                ['Singh, Bijender']   \n",
       "1    32640074  ['Dos Santos Gomes, A C', 'Casciatori, F P', '...   \n",
       "2    24995002  ['Karnaouri, Anthi', 'Topakas, Evangelos', 'An...   \n",
       "3    35450635  ['Sun, Peicheng', 'de Munnik, Melanie', 'van B...   \n",
       "4    31534479  ['Dos Santos Gomes, Ana Carolina', 'Falkoski, ...   \n",
       "..        ...                                                ...   \n",
       "245  24128582  ['Aljawish, Abdulhadi', 'Chevalot, Isabelle', ...   \n",
       "253  30960948  ['Su, Jing', 'Shim, Euijin', 'Noro, Jennifer',...   \n",
       "257  33807631  ['Contato, Alex Graca', 'de Oliveira, Tassio B...   \n",
       "263  36866191  ['Bampidis, Vasileios', 'Azimonti, Giovanna', ...   \n",
       "264  37164048  ['Goncalves, Aline Larissa', 'Cunha, Paula Mac...   \n",
       "\n",
       "                                                 Title  \\\n",
       "0    Myceliophthora thermophila syn. Sporotrichum t...   \n",
       "1    Growth kinetics of Myceliophthora thermophila ...   \n",
       "2    Genomic insights into the fungal lignocellulol...   \n",
       "3    Extending the diversity of Myceliophthora ther...   \n",
       "4    Myceliophthora thermophila Xyr1 is predominant...   \n",
       "..                                                 ...   \n",
       "245  Laccase-catalysed oxidation of ferulic acid an...   \n",
       "253  Conductive Cotton by In Situ Laccase-Polymeriz...   \n",
       "257  Prospection of Fungal Lignocellulolytic Enzyme...   \n",
       "263  Safety and efficacy of a feed additive consist...   \n",
       "264  Production of recombinant lytic polysaccharide...   \n",
       "\n",
       "                                              Abstract  \\\n",
       "0    Myceliophthora thermophila syn. Sporotrichum t...   \n",
       "1    AIMS: This work aimed to estimate the growth o...   \n",
       "2    The microbial conversion of solid cellulosic b...   \n",
       "3    Lytic polysaccharide monooxygenases (LPMOs) pl...   \n",
       "4    BACKGROUND: Myceliophthora thermophila is a th...   \n",
       "..                                                 ...   \n",
       "245  The enzymatic oxidation of ferulic acid (FA) a...   \n",
       "253  Conductive cotton fabrics were obtained via in...   \n",
       "257  The lignocellulosic biomass comprises three ma...   \n",
       "263  Following a request from the European Commissi...   \n",
       "264  Lignocellulosic biomass is a promising alterna...   \n",
       "\n",
       "                                              Keywords  \\\n",
       "0    Biomolecules, Myceliophthora thermophila, Spor...   \n",
       "1    N-acetylglucosamine, enzymes, growth kinetics,...   \n",
       "2    CAZy, Myceliophthora thermophila, biofuels, li...   \n",
       "3    Active site segment, LPMOs, Lignocellulose, Ma...   \n",
       "4    Cellulose degradation, Myceliophthora thermoph...   \n",
       "..                                                 ...   \n",
       "245  Antioxidant, Cytotoxicity, Dye, Enzymatic oxid...   \n",
       "253  1-hydroxybenzotriazol (HBT), coatings, conduct...   \n",
       "257  Hymenaea courbaril, Tamarindus indica, biopros...   \n",
       "263  Natupulse(R), digestibility enhancers, efficac...   \n",
       "264  Enzymes, Filamentous fungi, LPMO, Saccharifica...   \n",
       "\n",
       "                                               Journal  \\\n",
       "0                    Critical reviews in biotechnology   \n",
       "1                      Journal of applied microbiology   \n",
       "2                            Frontiers in microbiology   \n",
       "3                                Carbohydrate polymers   \n",
       "4                           Biotechnology for biofuels   \n",
       "..                                                 ...   \n",
       "245                                     Food chemistry   \n",
       "253                                           Polymers   \n",
       "257                                     Microorganisms   \n",
       "263       EFSA journal. European Food Safety Authority   \n",
       "264  Biochimica et biophysica acta. Proteins and pr...   \n",
       "\n",
       "                                           Institution  \\\n",
       "0    a Laboratory of Bioprocess Technology, Departm...   \n",
       "1    Instituto de Biociencias, Letras e Ciencias Ex...   \n",
       "2    Biotechnology Laboratory, Department of Synthe...   \n",
       "3    Laboratory of Food Chemistry, Wageningen Unive...   \n",
       "4    1Fungal Physiology, Westerdijk Fungal Biodiver...   \n",
       "..                                                 ...   \n",
       "245  Laboratoire d'Ingenierie des Biomolecules (LIB...   \n",
       "253  International Joint Research Laboratory for Te...   \n",
       "257  Departamento de Bioquimica e Imunologia, Facul...   \n",
       "263                                                  ?   \n",
       "264  Department of Biotechnology, Lorena School of ...   \n",
       "\n",
       "                                               Country  \\\n",
       "0                                                India   \n",
       "1                                               Brazil   \n",
       "2                                               Sweden   \n",
       "3    the Netherlands. Electronic address: peicheng....   \n",
       "4    The Netherlands. ISNI: 0000000120346234. GRID:...   \n",
       "..                                                 ...   \n",
       "245                                             France   \n",
       "253                        China. jingsu@ceb.uminho.pt   \n",
       "257                                             Brazil   \n",
       "263                                                NaN   \n",
       "264                                             Brazil   \n",
       "\n",
       "                                DOI  Publication Year  \n",
       "0      10.3109/07388551.2014.923985              2016  \n",
       "1                 10.1111/jam.14774              2021  \n",
       "2          10.3389/fmicb.2014.00281              2014  \n",
       "3     10.1016/j.carbpol.2022.119373              2022  \n",
       "4         10.1186/s13068-019-1556-y              2019  \n",
       "..                              ...               ...  \n",
       "245  10.1016/j.foodchem.2013.07.119              2014  \n",
       "253           10.3390/polym10091023              2018  \n",
       "257   10.3390/microorganisms9030533              2021  \n",
       "263        10.2903/j.efsa.2023.7873              2023  \n",
       "264    10.1016/j.bbapap.2023.140919              2023  \n",
       "\n",
       "[153 rows x 10 columns]"
      ]
     },
     "execution_count": 5,
     "metadata": {},
     "output_type": "execute_result"
    }
   ],
   "source": [
    "# 如果data_filter中的Keywords列有空值，就删除该行\n",
    "data.dropna(subset=['Keywords'], inplace=True)\n",
    "data"
   ]
  },
  {
   "cell_type": "code",
   "execution_count": null,
   "metadata": {},
   "outputs": [],
   "source": [
    "# data只保留title和keywords两列\n",
    "data_filter = data[['Keywords', 'Publication Year']]\n",
    "\n",
    "# 保存data_filter为csv\n",
    "data_filter.to_csv(\"./Mt_paper_filter.csv\", index=False)"
   ]
  },
  {
   "cell_type": "code",
   "execution_count": null,
   "metadata": {},
   "outputs": [],
   "source": [
    "import pandas as pd\n",
    "from collections import defaultdict\n",
    "import re\n",
    "\n",
    "# 函数用于检查是否是有效的关键词\n",
    "def is_valid_keyword(keyword):\n",
    "    # 这里我们使用正则表达式排除仅包含数字的字符串\n",
    "    # 并且确认关键词长度超过2\n",
    "    return re.match(r'^[A-Za-z\\s]+$', keyword) and len(keyword) > 2\n",
    "\n",
    "# 初始化一个defaultdict来存储关键词计数\n",
    "keywords_yearly_counts = defaultdict(lambda: defaultdict(int))\n",
    "\n",
    "# 遍历DataFrame的每一行\n",
    "for index, row in data_filter.iterrows():\n",
    "    year = row['Publication Year']\n",
    "    keywords = row['Keywords'].split(',')\n",
    "    \n",
    "    # 去除空格并统一格式\n",
    "    keywords = [keyword.strip().capitalize() for keyword in keywords if is_valid_keyword(keyword)]\n",
    "    \n",
    "    for keyword in keywords:\n",
    "        keywords_yearly_counts[keyword][year] += 1\n",
    "\n",
    "# 转换为DataFrame\n",
    "keywords_yearly_df = pd.DataFrame([\n",
    "    {'Keyword': keyword, 'Year': year, 'Count': count}\n",
    "    for keyword, years in keywords_yearly_counts.items()\n",
    "    for year, count in years.items()\n",
    "])\n",
    "\n",
    "# 排序并保存\n",
    "keywords_yearly_df = keywords_yearly_df.sort_values(by=[\"Keyword\", \"Year\"])\n",
    "keywords_yearly_df.to_csv('Mt_keywords_counts_year.csv', index=False)"
   ]
  }
 ],
 "metadata": {
  "kernelspec": {
   "display_name": "code",
   "language": "python",
   "name": "python3"
  },
  "language_info": {
   "codemirror_mode": {
    "name": "ipython",
    "version": 3
   },
   "file_extension": ".py",
   "mimetype": "text/x-python",
   "name": "python",
   "nbconvert_exporter": "python",
   "pygments_lexer": "ipython3",
   "version": "3.10.0"
  }
 },
 "nbformat": 4,
 "nbformat_minor": 2
}
