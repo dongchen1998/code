{
 "cells": [
  {
   "cell_type": "code",
   "execution_count": 1,
   "metadata": {},
   "outputs": [
    {
     "data": {
      "application/vnd.plotly.v1+json": {
       "config": {
        "plotlyServerURL": "https://plot.ly"
       },
       "data": [
        {
         "customdata": [
          [
           "Keyword_2000",
           10
          ],
          [
           "Keyword_2001",
           2
          ],
          [
           "Keyword_2002",
           8
          ],
          [
           "Keyword_2003",
           4
          ],
          [
           "Keyword_2004",
           10
          ],
          [
           "Keyword_2005",
           8
          ],
          [
           "Keyword_2006",
           4
          ],
          [
           "Keyword_2007",
           2
          ],
          [
           "Keyword_2008",
           7
          ],
          [
           "Keyword_2009",
           4
          ],
          [
           "Keyword_2010",
           6
          ],
          [
           "Keyword_2011",
           9
          ],
          [
           "Keyword_2012",
           9
          ],
          [
           "Keyword_2013",
           9
          ],
          [
           "Keyword_2014",
           5
          ],
          [
           "Keyword_2015",
           6
          ],
          [
           "Keyword_2016",
           5
          ],
          [
           "Keyword_2017",
           6
          ],
          [
           "Keyword_2018",
           7
          ],
          [
           "Keyword_2019",
           4
          ],
          [
           "Keyword_2020",
           8
          ],
          [
           "Keyword_2021",
           1
          ],
          [
           "Keyword_2022",
           5
          ]
         ],
         "hovertemplate": "<b>%{hovertext}</b><br><br>Publication Years=%{x}<br>Publication Numbers=%{marker.color}<br>Keywords=%{customdata[0]}<br>Numbers=%{customdata[1]}<extra></extra>",
         "hovertext": [
          "Keyword_2000",
          "Keyword_2001",
          "Keyword_2002",
          "Keyword_2003",
          "Keyword_2004",
          "Keyword_2005",
          "Keyword_2006",
          "Keyword_2007",
          "Keyword_2008",
          "Keyword_2009",
          "Keyword_2010",
          "Keyword_2011",
          "Keyword_2012",
          "Keyword_2013",
          "Keyword_2014",
          "Keyword_2015",
          "Keyword_2016",
          "Keyword_2017",
          "Keyword_2018",
          "Keyword_2019",
          "Keyword_2020",
          "Keyword_2021",
          "Keyword_2022"
         ],
         "legendgroup": "",
         "marker": {
          "color": [
           731,
           573,
           407,
           439,
           531,
           757,
           413,
           534,
           695,
           774,
           645,
           594,
           720,
           427,
           790,
           414,
           527,
           683,
           488,
           732,
           720,
           755,
           698
          ],
          "coloraxis": "coloraxis",
          "size": [
           731,
           573,
           407,
           439,
           531,
           757,
           413,
           534,
           695,
           774,
           645,
           594,
           720,
           427,
           790,
           414,
           527,
           683,
           488,
           732,
           720,
           755,
           698
          ],
          "sizemode": "area",
          "sizeref": 1.975,
          "symbol": "diamond"
         },
         "mode": "markers",
         "name": "",
         "orientation": "v",
         "showlegend": false,
         "type": "scatter",
         "x": [
          2000,
          2001,
          2002,
          2003,
          2004,
          2005,
          2006,
          2007,
          2008,
          2009,
          2010,
          2011,
          2012,
          2013,
          2014,
          2015,
          2016,
          2017,
          2018,
          2019,
          2020,
          2021,
          2022
         ],
         "xaxis": "x",
         "y": [
          731,
          573,
          407,
          439,
          531,
          757,
          413,
          534,
          695,
          774,
          645,
          594,
          720,
          427,
          790,
          414,
          527,
          683,
          488,
          732,
          720,
          755,
          698
         ],
         "yaxis": "y"
        }
       ],
       "layout": {
        "coloraxis": {
         "colorbar": {
          "title": {
           "text": "Publication Numbers"
          }
         },
         "colorscale": [
          [
           0,
           "rgb(0, 128, 128)"
          ],
          [
           0.16666666666666666,
           "rgb(112, 164, 148)"
          ],
          [
           0.3333333333333333,
           "rgb(180, 200, 168)"
          ],
          [
           0.5,
           "rgb(246, 237, 189)"
          ],
          [
           0.6666666666666666,
           "rgb(237, 187, 138)"
          ],
          [
           0.8333333333333334,
           "rgb(222, 138, 90)"
          ],
          [
           1,
           "rgb(202, 86, 44)"
          ]
         ]
        },
        "height": 600,
        "legend": {
         "itemsizing": "constant",
         "tracegroupgap": 0
        },
        "template": {
         "data": {
          "bar": [
           {
            "error_x": {
             "color": "#2a3f5f"
            },
            "error_y": {
             "color": "#2a3f5f"
            },
            "marker": {
             "line": {
              "color": "white",
              "width": 0.5
             },
             "pattern": {
              "fillmode": "overlay",
              "size": 10,
              "solidity": 0.2
             }
            },
            "type": "bar"
           }
          ],
          "barpolar": [
           {
            "marker": {
             "line": {
              "color": "white",
              "width": 0.5
             },
             "pattern": {
              "fillmode": "overlay",
              "size": 10,
              "solidity": 0.2
             }
            },
            "type": "barpolar"
           }
          ],
          "carpet": [
           {
            "aaxis": {
             "endlinecolor": "#2a3f5f",
             "gridcolor": "#C8D4E3",
             "linecolor": "#C8D4E3",
             "minorgridcolor": "#C8D4E3",
             "startlinecolor": "#2a3f5f"
            },
            "baxis": {
             "endlinecolor": "#2a3f5f",
             "gridcolor": "#C8D4E3",
             "linecolor": "#C8D4E3",
             "minorgridcolor": "#C8D4E3",
             "startlinecolor": "#2a3f5f"
            },
            "type": "carpet"
           }
          ],
          "choropleth": [
           {
            "colorbar": {
             "outlinewidth": 0,
             "ticks": ""
            },
            "type": "choropleth"
           }
          ],
          "contour": [
           {
            "colorbar": {
             "outlinewidth": 0,
             "ticks": ""
            },
            "colorscale": [
             [
              0,
              "#0d0887"
             ],
             [
              0.1111111111111111,
              "#46039f"
             ],
             [
              0.2222222222222222,
              "#7201a8"
             ],
             [
              0.3333333333333333,
              "#9c179e"
             ],
             [
              0.4444444444444444,
              "#bd3786"
             ],
             [
              0.5555555555555556,
              "#d8576b"
             ],
             [
              0.6666666666666666,
              "#ed7953"
             ],
             [
              0.7777777777777778,
              "#fb9f3a"
             ],
             [
              0.8888888888888888,
              "#fdca26"
             ],
             [
              1,
              "#f0f921"
             ]
            ],
            "type": "contour"
           }
          ],
          "contourcarpet": [
           {
            "colorbar": {
             "outlinewidth": 0,
             "ticks": ""
            },
            "type": "contourcarpet"
           }
          ],
          "heatmap": [
           {
            "colorbar": {
             "outlinewidth": 0,
             "ticks": ""
            },
            "colorscale": [
             [
              0,
              "#0d0887"
             ],
             [
              0.1111111111111111,
              "#46039f"
             ],
             [
              0.2222222222222222,
              "#7201a8"
             ],
             [
              0.3333333333333333,
              "#9c179e"
             ],
             [
              0.4444444444444444,
              "#bd3786"
             ],
             [
              0.5555555555555556,
              "#d8576b"
             ],
             [
              0.6666666666666666,
              "#ed7953"
             ],
             [
              0.7777777777777778,
              "#fb9f3a"
             ],
             [
              0.8888888888888888,
              "#fdca26"
             ],
             [
              1,
              "#f0f921"
             ]
            ],
            "type": "heatmap"
           }
          ],
          "heatmapgl": [
           {
            "colorbar": {
             "outlinewidth": 0,
             "ticks": ""
            },
            "colorscale": [
             [
              0,
              "#0d0887"
             ],
             [
              0.1111111111111111,
              "#46039f"
             ],
             [
              0.2222222222222222,
              "#7201a8"
             ],
             [
              0.3333333333333333,
              "#9c179e"
             ],
             [
              0.4444444444444444,
              "#bd3786"
             ],
             [
              0.5555555555555556,
              "#d8576b"
             ],
             [
              0.6666666666666666,
              "#ed7953"
             ],
             [
              0.7777777777777778,
              "#fb9f3a"
             ],
             [
              0.8888888888888888,
              "#fdca26"
             ],
             [
              1,
              "#f0f921"
             ]
            ],
            "type": "heatmapgl"
           }
          ],
          "histogram": [
           {
            "marker": {
             "pattern": {
              "fillmode": "overlay",
              "size": 10,
              "solidity": 0.2
             }
            },
            "type": "histogram"
           }
          ],
          "histogram2d": [
           {
            "colorbar": {
             "outlinewidth": 0,
             "ticks": ""
            },
            "colorscale": [
             [
              0,
              "#0d0887"
             ],
             [
              0.1111111111111111,
              "#46039f"
             ],
             [
              0.2222222222222222,
              "#7201a8"
             ],
             [
              0.3333333333333333,
              "#9c179e"
             ],
             [
              0.4444444444444444,
              "#bd3786"
             ],
             [
              0.5555555555555556,
              "#d8576b"
             ],
             [
              0.6666666666666666,
              "#ed7953"
             ],
             [
              0.7777777777777778,
              "#fb9f3a"
             ],
             [
              0.8888888888888888,
              "#fdca26"
             ],
             [
              1,
              "#f0f921"
             ]
            ],
            "type": "histogram2d"
           }
          ],
          "histogram2dcontour": [
           {
            "colorbar": {
             "outlinewidth": 0,
             "ticks": ""
            },
            "colorscale": [
             [
              0,
              "#0d0887"
             ],
             [
              0.1111111111111111,
              "#46039f"
             ],
             [
              0.2222222222222222,
              "#7201a8"
             ],
             [
              0.3333333333333333,
              "#9c179e"
             ],
             [
              0.4444444444444444,
              "#bd3786"
             ],
             [
              0.5555555555555556,
              "#d8576b"
             ],
             [
              0.6666666666666666,
              "#ed7953"
             ],
             [
              0.7777777777777778,
              "#fb9f3a"
             ],
             [
              0.8888888888888888,
              "#fdca26"
             ],
             [
              1,
              "#f0f921"
             ]
            ],
            "type": "histogram2dcontour"
           }
          ],
          "mesh3d": [
           {
            "colorbar": {
             "outlinewidth": 0,
             "ticks": ""
            },
            "type": "mesh3d"
           }
          ],
          "parcoords": [
           {
            "line": {
             "colorbar": {
              "outlinewidth": 0,
              "ticks": ""
             }
            },
            "type": "parcoords"
           }
          ],
          "pie": [
           {
            "automargin": true,
            "type": "pie"
           }
          ],
          "scatter": [
           {
            "fillpattern": {
             "fillmode": "overlay",
             "size": 10,
             "solidity": 0.2
            },
            "type": "scatter"
           }
          ],
          "scatter3d": [
           {
            "line": {
             "colorbar": {
              "outlinewidth": 0,
              "ticks": ""
             }
            },
            "marker": {
             "colorbar": {
              "outlinewidth": 0,
              "ticks": ""
             }
            },
            "type": "scatter3d"
           }
          ],
          "scattercarpet": [
           {
            "marker": {
             "colorbar": {
              "outlinewidth": 0,
              "ticks": ""
             }
            },
            "type": "scattercarpet"
           }
          ],
          "scattergeo": [
           {
            "marker": {
             "colorbar": {
              "outlinewidth": 0,
              "ticks": ""
             }
            },
            "type": "scattergeo"
           }
          ],
          "scattergl": [
           {
            "marker": {
             "colorbar": {
              "outlinewidth": 0,
              "ticks": ""
             }
            },
            "type": "scattergl"
           }
          ],
          "scattermapbox": [
           {
            "marker": {
             "colorbar": {
              "outlinewidth": 0,
              "ticks": ""
             }
            },
            "type": "scattermapbox"
           }
          ],
          "scatterpolar": [
           {
            "marker": {
             "colorbar": {
              "outlinewidth": 0,
              "ticks": ""
             }
            },
            "type": "scatterpolar"
           }
          ],
          "scatterpolargl": [
           {
            "marker": {
             "colorbar": {
              "outlinewidth": 0,
              "ticks": ""
             }
            },
            "type": "scatterpolargl"
           }
          ],
          "scatterternary": [
           {
            "marker": {
             "colorbar": {
              "outlinewidth": 0,
              "ticks": ""
             }
            },
            "type": "scatterternary"
           }
          ],
          "surface": [
           {
            "colorbar": {
             "outlinewidth": 0,
             "ticks": ""
            },
            "colorscale": [
             [
              0,
              "#0d0887"
             ],
             [
              0.1111111111111111,
              "#46039f"
             ],
             [
              0.2222222222222222,
              "#7201a8"
             ],
             [
              0.3333333333333333,
              "#9c179e"
             ],
             [
              0.4444444444444444,
              "#bd3786"
             ],
             [
              0.5555555555555556,
              "#d8576b"
             ],
             [
              0.6666666666666666,
              "#ed7953"
             ],
             [
              0.7777777777777778,
              "#fb9f3a"
             ],
             [
              0.8888888888888888,
              "#fdca26"
             ],
             [
              1,
              "#f0f921"
             ]
            ],
            "type": "surface"
           }
          ],
          "table": [
           {
            "cells": {
             "fill": {
              "color": "#EBF0F8"
             },
             "line": {
              "color": "white"
             }
            },
            "header": {
             "fill": {
              "color": "#C8D4E3"
             },
             "line": {
              "color": "white"
             }
            },
            "type": "table"
           }
          ]
         },
         "layout": {
          "annotationdefaults": {
           "arrowcolor": "#2a3f5f",
           "arrowhead": 0,
           "arrowwidth": 1
          },
          "autotypenumbers": "strict",
          "coloraxis": {
           "colorbar": {
            "outlinewidth": 0,
            "ticks": ""
           }
          },
          "colorscale": {
           "diverging": [
            [
             0,
             "#8e0152"
            ],
            [
             0.1,
             "#c51b7d"
            ],
            [
             0.2,
             "#de77ae"
            ],
            [
             0.3,
             "#f1b6da"
            ],
            [
             0.4,
             "#fde0ef"
            ],
            [
             0.5,
             "#f7f7f7"
            ],
            [
             0.6,
             "#e6f5d0"
            ],
            [
             0.7,
             "#b8e186"
            ],
            [
             0.8,
             "#7fbc41"
            ],
            [
             0.9,
             "#4d9221"
            ],
            [
             1,
             "#276419"
            ]
           ],
           "sequential": [
            [
             0,
             "#0d0887"
            ],
            [
             0.1111111111111111,
             "#46039f"
            ],
            [
             0.2222222222222222,
             "#7201a8"
            ],
            [
             0.3333333333333333,
             "#9c179e"
            ],
            [
             0.4444444444444444,
             "#bd3786"
            ],
            [
             0.5555555555555556,
             "#d8576b"
            ],
            [
             0.6666666666666666,
             "#ed7953"
            ],
            [
             0.7777777777777778,
             "#fb9f3a"
            ],
            [
             0.8888888888888888,
             "#fdca26"
            ],
            [
             1,
             "#f0f921"
            ]
           ],
           "sequentialminus": [
            [
             0,
             "#0d0887"
            ],
            [
             0.1111111111111111,
             "#46039f"
            ],
            [
             0.2222222222222222,
             "#7201a8"
            ],
            [
             0.3333333333333333,
             "#9c179e"
            ],
            [
             0.4444444444444444,
             "#bd3786"
            ],
            [
             0.5555555555555556,
             "#d8576b"
            ],
            [
             0.6666666666666666,
             "#ed7953"
            ],
            [
             0.7777777777777778,
             "#fb9f3a"
            ],
            [
             0.8888888888888888,
             "#fdca26"
            ],
            [
             1,
             "#f0f921"
            ]
           ]
          },
          "colorway": [
           "#636efa",
           "#EF553B",
           "#00cc96",
           "#ab63fa",
           "#FFA15A",
           "#19d3f3",
           "#FF6692",
           "#B6E880",
           "#FF97FF",
           "#FECB52"
          ],
          "font": {
           "color": "#2a3f5f"
          },
          "geo": {
           "bgcolor": "white",
           "lakecolor": "white",
           "landcolor": "white",
           "showlakes": true,
           "showland": true,
           "subunitcolor": "#C8D4E3"
          },
          "hoverlabel": {
           "align": "left"
          },
          "hovermode": "closest",
          "mapbox": {
           "style": "light"
          },
          "paper_bgcolor": "white",
          "plot_bgcolor": "white",
          "polar": {
           "angularaxis": {
            "gridcolor": "#EBF0F8",
            "linecolor": "#EBF0F8",
            "ticks": ""
           },
           "bgcolor": "white",
           "radialaxis": {
            "gridcolor": "#EBF0F8",
            "linecolor": "#EBF0F8",
            "ticks": ""
           }
          },
          "scene": {
           "xaxis": {
            "backgroundcolor": "white",
            "gridcolor": "#DFE8F3",
            "gridwidth": 2,
            "linecolor": "#EBF0F8",
            "showbackground": true,
            "ticks": "",
            "zerolinecolor": "#EBF0F8"
           },
           "yaxis": {
            "backgroundcolor": "white",
            "gridcolor": "#DFE8F3",
            "gridwidth": 2,
            "linecolor": "#EBF0F8",
            "showbackground": true,
            "ticks": "",
            "zerolinecolor": "#EBF0F8"
           },
           "zaxis": {
            "backgroundcolor": "white",
            "gridcolor": "#DFE8F3",
            "gridwidth": 2,
            "linecolor": "#EBF0F8",
            "showbackground": true,
            "ticks": "",
            "zerolinecolor": "#EBF0F8"
           }
          },
          "shapedefaults": {
           "line": {
            "color": "#2a3f5f"
           }
          },
          "ternary": {
           "aaxis": {
            "gridcolor": "#DFE8F3",
            "linecolor": "#A2B1C6",
            "ticks": ""
           },
           "baxis": {
            "gridcolor": "#DFE8F3",
            "linecolor": "#A2B1C6",
            "ticks": ""
           },
           "bgcolor": "white",
           "caxis": {
            "gridcolor": "#DFE8F3",
            "linecolor": "#A2B1C6",
            "ticks": ""
           }
          },
          "title": {
           "x": 0.05
          },
          "xaxis": {
           "automargin": true,
           "gridcolor": "#EBF0F8",
           "linecolor": "#EBF0F8",
           "ticks": "",
           "title": {
            "standoff": 15
           },
           "zerolinecolor": "#EBF0F8",
           "zerolinewidth": 2
          },
          "yaxis": {
           "automargin": true,
           "gridcolor": "#EBF0F8",
           "linecolor": "#EBF0F8",
           "ticks": "",
           "title": {
            "standoff": 15
           },
           "zerolinecolor": "#EBF0F8",
           "zerolinewidth": 2
          }
         }
        },
        "title": {
         "text": "Publication Numbers of Ciliopathy Related Genes (2000-2022)"
        },
        "width": 1000,
        "xaxis": {
         "anchor": "y",
         "domain": [
          0,
          1
         ],
         "title": {
          "text": "Publication Years"
         }
        },
        "yaxis": {
         "anchor": "x",
         "domain": [
          0,
          1
         ],
         "title": {
          "text": "Publication Numbers"
         }
        }
       }
      }
     },
     "metadata": {},
     "output_type": "display_data"
    }
   ],
   "source": [
    "import plotly.express as px\n",
    "import pandas as pd\n",
    "import random\n",
    "\n",
    "# 生成测试数据\n",
    "years = list(range(2000, 2023))\n",
    "publications = [random.randint(400, 800) for _ in years]\n",
    "keywords = [f\"Keyword_{year}\" for year in years]\n",
    "numbers = [random.randint(1, 10) for _ in years]\n",
    "\n",
    "data = {'Year': years, 'Publications': publications, 'Keywords': keywords, 'Numbers': numbers}\n",
    "\n",
    "df = pd.DataFrame(data)\n",
    "\n",
    "# 使用plotly进行绘图\n",
    "fig = px.scatter(df, \n",
    "                 x='Year', \n",
    "                 y='Publications', \n",
    "                 size='Publications',\n",
    "                 color='Publications',\n",
    "                 hover_name='Keywords',\n",
    "                 hover_data=['Keywords', 'Numbers'],  # 添加了Keywords和Numbers到悬浮数据中\n",
    "                 size_max=20,\n",
    "                 title='Publication Numbers of Ciliopathy Related Genes (2000-2022)',\n",
    "                 labels={\"Publications\": \"Publication Numbers\", \"Year\": \"Publication Years\"},\n",
    "                 color_continuous_scale=\"Geyser\",  # _r表示颜色反转\n",
    "                #  color_continuous_scale=px.colors.sequential.Viridis\n",
    "                 )\n",
    "\n",
    "fig.update_layout(\n",
    "    # font=dict(family=\"Arial\", size=14),\n",
    "    template=\"plotly_white\",\n",
    "    # template=\"simple_white\",\n",
    "    width=1000,  # 图表宽度\n",
    "    height=600,  # 图表高度\n",
    ")\n",
    "\n",
    "fig.update_traces(marker_symbol='diamond')\n",
    "\n",
    "# 显示图表\n",
    "fig.show()"
   ]
  },
  {
   "cell_type": "markdown",
   "metadata": {},
   "source": [
    "marker_symbol 参数可以设置不同的标记形状,主要有以下几种:\n",
    "\n",
    "'circle' - 默认的圆形标记\n",
    "'square' - 正方形标记\n",
    "'diamond' - 菱形标记\n",
    "'cross' - 十字标记\n",
    "'x' - X形标记\n",
    "'triangle-up' - 向上三角形标记\n",
    "'triangle-down' - 向下三角形标记\n",
    "'triangle-left' - 左向三角形标记\n",
    "'triangle-right' - 右向三角形标记\n",
    "'pentagon' - 五边形标记\n",
    "'hexagon' - 六边形标记\n",
    "'hexagon2' - 六边形标记的另一种样式\n",
    "'octagon' - 八边形标记\n",
    "'star' - 星形标记\n",
    "'line' - 线条标记\n",
    "'dash' - 短线条标记\n",
    "'dot' - 圆点标记\n",
    "'circle-open' - 空心圆标记\n",
    "'circle-dot' - 圆环点标记\n",
    "'square-open' - 空心方块标记\n",
    "'square-dot' - 带圆点的方块标记"
   ]
  },
  {
   "cell_type": "code",
   "execution_count": 2,
   "metadata": {},
   "outputs": [
    {
     "data": {
      "application/vnd.plotly.v1+json": {
       "config": {
        "plotlyServerURL": "https://plot.ly"
       },
       "data": [
        {
         "customdata": [
          [
           2015,
           1
          ],
          [
           2020,
           1
          ],
          [
           2018,
           1
          ],
          [
           2021,
           1
          ],
          [
           2022,
           1
          ],
          [
           2023,
           1
          ],
          [
           2017,
           1
          ],
          [
           2022,
           1
          ],
          [
           2017,
           1
          ],
          [
           2014,
           1
          ],
          [
           2021,
           1
          ],
          [
           2022,
           1
          ],
          [
           2019,
           1
          ],
          [
           2017,
           1
          ],
          [
           2019,
           1
          ],
          [
           2018,
           1
          ],
          [
           2022,
           1
          ],
          [
           2021,
           1
          ],
          [
           2022,
           1
          ],
          [
           2023,
           1
          ],
          [
           2022,
           1
          ],
          [
           2014,
           1
          ],
          [
           2017,
           1
          ],
          [
           2022,
           1
          ],
          [
           2019,
           1
          ],
          [
           2023,
           1
          ],
          [
           2018,
           1
          ],
          [
           2023,
           1
          ],
          [
           2014,
           1
          ],
          [
           2017,
           1
          ],
          [
           2017,
           1
          ],
          [
           2020,
           1
          ],
          [
           2022,
           1
          ],
          [
           2017,
           1
          ],
          [
           2017,
           1
          ],
          [
           2018,
           1
          ],
          [
           2023,
           1
          ],
          [
           2022,
           1
          ],
          [
           2018,
           1
          ],
          [
           2018,
           1
          ],
          [
           2022,
           1
          ],
          [
           2017,
           1
          ],
          [
           2018,
           1
          ],
          [
           2014,
           1
          ],
          [
           2017,
           2
          ],
          [
           2016,
           1
          ],
          [
           2020,
           1
          ],
          [
           2017,
           1
          ],
          [
           2014,
           1
          ],
          [
           2017,
           1
          ],
          [
           2020,
           1
          ],
          [
           2021,
           1
          ],
          [
           2022,
           1
          ],
          [
           2016,
           1
          ],
          [
           2020,
           1
          ],
          [
           2023,
           1
          ],
          [
           2014,
           1
          ],
          [
           2016,
           1
          ],
          [
           2021,
           1
          ],
          [
           2015,
           1
          ],
          [
           2016,
           1
          ],
          [
           2017,
           1
          ],
          [
           2020,
           1
          ],
          [
           2016,
           1
          ],
          [
           2017,
           1
          ],
          [
           2016,
           1
          ],
          [
           2015,
           1
          ],
          [
           2016,
           1
          ],
          [
           2016,
           1
          ],
          [
           2017,
           1
          ],
          [
           2014,
           1
          ],
          [
           2015,
           1
          ],
          [
           2016,
           1
          ],
          [
           2021,
           1
          ],
          [
           2021,
           1
          ],
          [
           2021,
           1
          ],
          [
           2019,
           1
          ],
          [
           2017,
           1
          ],
          [
           2018,
           1
          ],
          [
           2019,
           1
          ],
          [
           2019,
           1
          ],
          [
           2020,
           1
          ],
          [
           2022,
           1
          ],
          [
           2012,
           1
          ],
          [
           2014,
           1
          ],
          [
           2015,
           1
          ],
          [
           2018,
           1
          ],
          [
           2019,
           1
          ],
          [
           2021,
           1
          ],
          [
           2022,
           2
          ],
          [
           2023,
           2
          ],
          [
           2022,
           1
          ],
          [
           2013,
           1
          ],
          [
           2017,
           1
          ],
          [
           2019,
           1
          ],
          [
           2020,
           1
          ],
          [
           2022,
           1
          ],
          [
           2017,
           1
          ],
          [
           2015,
           1
          ],
          [
           2018,
           1
          ],
          [
           2019,
           1
          ],
          [
           2020,
           1
          ],
          [
           2021,
           1
          ],
          [
           2016,
           1
          ],
          [
           2019,
           1
          ],
          [
           2022,
           1
          ],
          [
           2016,
           1
          ],
          [
           2017,
           1
          ],
          [
           2016,
           1
          ],
          [
           2021,
           1
          ],
          [
           2023,
           1
          ],
          [
           2023,
           1
          ],
          [
           2017,
           1
          ],
          [
           2016,
           1
          ],
          [
           2023,
           1
          ],
          [
           2010,
           1
          ],
          [
           2018,
           2
          ],
          [
           2018,
           1
          ],
          [
           2018,
           2
          ],
          [
           2022,
           1
          ],
          [
           2018,
           1
          ],
          [
           2013,
           1
          ],
          [
           2015,
           1
          ],
          [
           2017,
           1
          ],
          [
           2021,
           1
          ],
          [
           2018,
           1
          ],
          [
           2017,
           1
          ],
          [
           2017,
           1
          ],
          [
           2015,
           1
          ],
          [
           2018,
           1
          ],
          [
           2013,
           1
          ],
          [
           2020,
           1
          ],
          [
           2017,
           1
          ],
          [
           2019,
           1
          ],
          [
           2019,
           1
          ],
          [
           2020,
           1
          ],
          [
           2021,
           1
          ],
          [
           2018,
           1
          ],
          [
           2023,
           1
          ],
          [
           2019,
           1
          ],
          [
           2021,
           1
          ],
          [
           2016,
           1
          ],
          [
           2018,
           1
          ],
          [
           2021,
           1
          ],
          [
           2017,
           1
          ],
          [
           2022,
           1
          ],
          [
           2014,
           1
          ],
          [
           2021,
           1
          ],
          [
           2018,
           3
          ],
          [
           2021,
           1
          ],
          [
           2021,
           1
          ],
          [
           2013,
           1
          ],
          [
           2022,
           1
          ],
          [
           2021,
           1
          ],
          [
           2015,
           1
          ],
          [
           2023,
           1
          ],
          [
           2020,
           1
          ],
          [
           2018,
           1
          ],
          [
           2023,
           1
          ],
          [
           2022,
           1
          ],
          [
           2017,
           1
          ],
          [
           2015,
           1
          ],
          [
           2022,
           1
          ],
          [
           2014,
           1
          ],
          [
           2022,
           1
          ],
          [
           2023,
           1
          ],
          [
           2016,
           1
          ],
          [
           2019,
           1
          ],
          [
           2017,
           1
          ],
          [
           2018,
           1
          ],
          [
           2015,
           1
          ],
          [
           2017,
           1
          ],
          [
           2019,
           1
          ],
          [
           2021,
           1
          ],
          [
           2014,
           1
          ],
          [
           2017,
           3
          ],
          [
           2019,
           1
          ],
          [
           2016,
           1
          ],
          [
           2014,
           1
          ],
          [
           2022,
           1
          ],
          [
           2015,
           1
          ],
          [
           2016,
           1
          ],
          [
           2017,
           1
          ],
          [
           2017,
           1
          ],
          [
           2020,
           1
          ],
          [
           2019,
           1
          ],
          [
           2020,
           1
          ],
          [
           2013,
           1
          ],
          [
           2023,
           1
          ],
          [
           2021,
           1
          ],
          [
           2017,
           1
          ],
          [
           2016,
           2
          ],
          [
           2018,
           1
          ],
          [
           2016,
           1
          ],
          [
           2019,
           1
          ],
          [
           2021,
           2
          ],
          [
           2023,
           1
          ],
          [
           2020,
           1
          ],
          [
           2017,
           1
          ],
          [
           2022,
           1
          ],
          [
           2019,
           1
          ],
          [
           2017,
           1
          ],
          [
           2016,
           1
          ],
          [
           2020,
           1
          ],
          [
           2020,
           1
          ],
          [
           2013,
           1
          ],
          [
           2014,
           1
          ],
          [
           2023,
           1
          ],
          [
           2018,
           1
          ],
          [
           2016,
           1
          ],
          [
           2018,
           1
          ],
          [
           2018,
           1
          ],
          [
           2021,
           1
          ],
          [
           2014,
           1
          ],
          [
           2017,
           1
          ],
          [
           2021,
           1
          ],
          [
           2022,
           1
          ],
          [
           2017,
           1
          ],
          [
           2018,
           1
          ],
          [
           2017,
           1
          ],
          [
           2019,
           2
          ],
          [
           2020,
           1
          ],
          [
           2022,
           3
          ],
          [
           2023,
           1
          ],
          [
           2020,
           1
          ],
          [
           2021,
           1
          ],
          [
           2016,
           1
          ],
          [
           2022,
           1
          ],
          [
           2021,
           1
          ],
          [
           2019,
           1
          ],
          [
           2021,
           1
          ],
          [
           2020,
           1
          ],
          [
           2013,
           1
          ],
          [
           2018,
           1
          ],
          [
           2016,
           1
          ],
          [
           2022,
           1
          ],
          [
           2017,
           1
          ],
          [
           2021,
           1
          ],
          [
           2021,
           1
          ],
          [
           2021,
           1
          ],
          [
           2016,
           1
          ],
          [
           2023,
           1
          ],
          [
           2023,
           1
          ],
          [
           2021,
           1
          ],
          [
           2021,
           1
          ],
          [
           2016,
           1
          ],
          [
           2020,
           1
          ],
          [
           2018,
           1
          ],
          [
           2023,
           1
          ],
          [
           2019,
           2
          ],
          [
           2016,
           1
          ],
          [
           2015,
           1
          ],
          [
           2022,
           1
          ],
          [
           2022,
           1
          ],
          [
           2023,
           1
          ],
          [
           2013,
           1
          ],
          [
           2021,
           1
          ],
          [
           2019,
           1
          ],
          [
           2022,
           1
          ],
          [
           2015,
           1
          ],
          [
           2022,
           1
          ],
          [
           2022,
           1
          ],
          [
           2021,
           1
          ],
          [
           2022,
           1
          ],
          [
           2019,
           1
          ],
          [
           2022,
           1
          ],
          [
           2023,
           1
          ],
          [
           2016,
           1
          ],
          [
           2021,
           1
          ],
          [
           2022,
           1
          ],
          [
           2021,
           1
          ],
          [
           2018,
           1
          ],
          [
           2023,
           1
          ],
          [
           2022,
           1
          ],
          [
           2015,
           1
          ],
          [
           2019,
           1
          ],
          [
           2021,
           1
          ],
          [
           2022,
           1
          ],
          [
           2018,
           1
          ],
          [
           2013,
           1
          ],
          [
           2021,
           1
          ],
          [
           2017,
           1
          ],
          [
           2015,
           1
          ],
          [
           2016,
           1
          ],
          [
           2021,
           1
          ],
          [
           2016,
           1
          ],
          [
           2021,
           1
          ],
          [
           2017,
           1
          ],
          [
           2019,
           1
          ],
          [
           2021,
           1
          ],
          [
           2022,
           1
          ],
          [
           2010,
           1
          ],
          [
           2014,
           1
          ],
          [
           2018,
           1
          ],
          [
           2021,
           1
          ],
          [
           2021,
           1
          ],
          [
           2020,
           1
          ],
          [
           2018,
           1
          ],
          [
           2016,
           1
          ],
          [
           2022,
           1
          ],
          [
           2022,
           1
          ],
          [
           2022,
           1
          ],
          [
           2022,
           1
          ],
          [
           2023,
           1
          ],
          [
           2014,
           1
          ],
          [
           2022,
           1
          ],
          [
           2018,
           1
          ],
          [
           2016,
           1
          ],
          [
           2021,
           1
          ],
          [
           2021,
           1
          ],
          [
           2018,
           1
          ],
          [
           2022,
           1
          ],
          [
           2023,
           1
          ],
          [
           2010,
           1
          ],
          [
           2014,
           2
          ],
          [
           2016,
           4
          ],
          [
           2017,
           1
          ],
          [
           2018,
           8
          ],
          [
           2020,
           1
          ],
          [
           2021,
           4
          ],
          [
           2022,
           1
          ],
          [
           2023,
           1
          ],
          [
           2017,
           1
          ],
          [
           2018,
           1
          ],
          [
           2023,
           1
          ],
          [
           2018,
           1
          ],
          [
           2016,
           3
          ],
          [
           2022,
           1
          ],
          [
           2022,
           1
          ],
          [
           2014,
           1
          ],
          [
           2021,
           1
          ],
          [
           2016,
           1
          ],
          [
           2017,
           2
          ],
          [
           2018,
           1
          ],
          [
           2022,
           1
          ],
          [
           2017,
           2
          ],
          [
           2020,
           1
          ],
          [
           2021,
           1
          ],
          [
           2021,
           1
          ],
          [
           2021,
           1
          ],
          [
           2021,
           1
          ],
          [
           2015,
           1
          ],
          [
           2017,
           2
          ],
          [
           2020,
           1
          ],
          [
           2023,
           1
          ],
          [
           2021,
           1
          ],
          [
           2022,
           1
          ],
          [
           2021,
           1
          ],
          [
           2017,
           2
          ],
          [
           2018,
           1
          ],
          [
           2019,
           1
          ],
          [
           2020,
           1
          ],
          [
           2021,
           1
          ],
          [
           2022,
           1
          ],
          [
           2023,
           1
          ],
          [
           2013,
           1
          ],
          [
           2023,
           1
          ],
          [
           2017,
           1
          ],
          [
           2019,
           1
          ],
          [
           2021,
           1
          ],
          [
           2022,
           1
          ],
          [
           2019,
           1
          ],
          [
           2019,
           1
          ],
          [
           2022,
           1
          ],
          [
           2014,
           1
          ],
          [
           2022,
           1
          ],
          [
           2022,
           1
          ],
          [
           2022,
           1
          ],
          [
           2021,
           1
          ],
          [
           2015,
           1
          ],
          [
           2010,
           1
          ],
          [
           2018,
           1
          ],
          [
           2019,
           1
          ],
          [
           2020,
           1
          ],
          [
           2021,
           2
          ],
          [
           2022,
           2
          ],
          [
           2022,
           1
          ],
          [
           2020,
           1
          ],
          [
           2019,
           1
          ],
          [
           2020,
           1
          ],
          [
           2016,
           1
          ],
          [
           2015,
           1
          ],
          [
           2017,
           1
          ],
          [
           2021,
           1
          ],
          [
           2015,
           1
          ],
          [
           2021,
           1
          ],
          [
           2022,
           2
          ],
          [
           2020,
           1
          ],
          [
           2023,
           1
          ],
          [
           2018,
           1
          ],
          [
           2015,
           1
          ],
          [
           2017,
           1
          ],
          [
           2020,
           1
          ],
          [
           2019,
           1
          ],
          [
           2017,
           1
          ],
          [
           2017,
           1
          ],
          [
           2021,
           2
          ],
          [
           2023,
           2
          ],
          [
           2013,
           2
          ],
          [
           2014,
           2
          ],
          [
           2015,
           3
          ],
          [
           2016,
           4
          ],
          [
           2017,
           8
          ],
          [
           2018,
           7
          ],
          [
           2019,
           5
          ],
          [
           2020,
           5
          ],
          [
           2021,
           2
          ],
          [
           2022,
           9
          ],
          [
           2023,
           2
          ],
          [
           2020,
           1
          ],
          [
           2018,
           1
          ],
          [
           2014,
           1
          ],
          [
           2022,
           1
          ],
          [
           2014,
           1
          ],
          [
           2021,
           1
          ],
          [
           2021,
           1
          ],
          [
           2021,
           1
          ],
          [
           2022,
           1
          ],
          [
           2013,
           1
          ],
          [
           2021,
           1
          ],
          [
           2017,
           1
          ],
          [
           2017,
           1
          ],
          [
           2016,
           1
          ],
          [
           2013,
           1
          ],
          [
           2022,
           1
          ],
          [
           2016,
           1
          ],
          [
           2018,
           1
          ],
          [
           2017,
           1
          ],
          [
           2018,
           1
          ],
          [
           2021,
           1
          ],
          [
           2022,
           1
          ],
          [
           2017,
           1
          ],
          [
           2013,
           1
          ],
          [
           2019,
           1
          ],
          [
           2016,
           1
          ],
          [
           2021,
           1
          ],
          [
           2020,
           1
          ],
          [
           2022,
           1
          ],
          [
           2018,
           1
          ],
          [
           2014,
           1
          ],
          [
           2017,
           1
          ],
          [
           2017,
           1
          ],
          [
           2015,
           1
          ],
          [
           2019,
           1
          ],
          [
           2018,
           1
          ],
          [
           2021,
           1
          ],
          [
           2018,
           1
          ],
          [
           2016,
           1
          ],
          [
           2018,
           1
          ],
          [
           2017,
           1
          ],
          [
           2017,
           1
          ],
          [
           2013,
           1
          ],
          [
           2015,
           1
          ],
          [
           2016,
           1
          ],
          [
           2017,
           2
          ],
          [
           2018,
           1
          ],
          [
           2019,
           1
          ],
          [
           2021,
           1
          ],
          [
           2018,
           1
          ],
          [
           2014,
           1
          ],
          [
           2018,
           1
          ],
          [
           2021,
           1
          ],
          [
           2020,
           1
          ],
          [
           2018,
           1
          ],
          [
           2015,
           1
          ],
          [
           2016,
           1
          ],
          [
           2017,
           1
          ],
          [
           2018,
           1
          ],
          [
           2023,
           1
          ],
          [
           2017,
           1
          ],
          [
           2021,
           1
          ],
          [
           2019,
           1
          ],
          [
           2019,
           1
          ],
          [
           2014,
           1
          ],
          [
           2023,
           1
          ],
          [
           2021,
           1
          ],
          [
           2017,
           1
          ],
          [
           2022,
           1
          ],
          [
           2017,
           1
          ],
          [
           2021,
           1
          ],
          [
           2021,
           1
          ],
          [
           2015,
           1
          ],
          [
           2020,
           1
          ],
          [
           2021,
           1
          ],
          [
           2017,
           2
          ],
          [
           2020,
           2
          ],
          [
           2021,
           1
          ],
          [
           2014,
           1
          ],
          [
           2016,
           1
          ],
          [
           2019,
           1
          ],
          [
           2020,
           1
          ],
          [
           2015,
           1
          ],
          [
           2021,
           2
          ],
          [
           2016,
           1
          ],
          [
           2021,
           1
          ],
          [
           2016,
           1
          ],
          [
           2022,
           1
          ],
          [
           2020,
           1
          ],
          [
           2017,
           1
          ],
          [
           2022,
           1
          ],
          [
           2021,
           1
          ],
          [
           2022,
           1
          ],
          [
           2022,
           1
          ],
          [
           2022,
           1
          ],
          [
           2013,
           1
          ],
          [
           2018,
           1
          ],
          [
           2022,
           1
          ],
          [
           2018,
           1
          ],
          [
           2013,
           1
          ],
          [
           2020,
           1
          ],
          [
           2023,
           1
          ],
          [
           2019,
           1
          ],
          [
           2022,
           1
          ],
          [
           2015,
           1
          ],
          [
           2016,
           1
          ],
          [
           2018,
           1
          ],
          [
           2019,
           1
          ],
          [
           2018,
           1
          ],
          [
           2019,
           1
          ],
          [
           2023,
           1
          ],
          [
           2018,
           1
          ],
          [
           2023,
           1
          ],
          [
           2016,
           1
          ],
          [
           2023,
           1
          ],
          [
           2016,
           1
          ],
          [
           2021,
           1
          ],
          [
           2023,
           1
          ],
          [
           2021,
           1
          ],
          [
           2014,
           1
          ],
          [
           2021,
           1
          ],
          [
           2017,
           1
          ],
          [
           2017,
           1
          ],
          [
           2016,
           1
          ],
          [
           2017,
           1
          ],
          [
           2010,
           1
          ],
          [
           2014,
           1
          ],
          [
           2022,
           1
          ],
          [
           2018,
           1
          ],
          [
           2019,
           1
          ],
          [
           2020,
           1
          ],
          [
           2022,
           1
          ],
          [
           2020,
           1
          ],
          [
           2014,
           1
          ],
          [
           2016,
           1
          ],
          [
           2019,
           1
          ],
          [
           2020,
           1
          ],
          [
           2023,
           1
          ],
          [
           2016,
           1
          ],
          [
           2022,
           1
          ],
          [
           2017,
           1
          ],
          [
           2016,
           1
          ],
          [
           2019,
           1
          ],
          [
           2022,
           1
          ],
          [
           2016,
           1
          ],
          [
           2017,
           1
          ],
          [
           2015,
           1
          ],
          [
           2021,
           1
          ],
          [
           2022,
           1
          ],
          [
           2018,
           1
          ],
          [
           2018,
           2
          ],
          [
           2023,
           1
          ],
          [
           2013,
           1
          ],
          [
           2012,
           1
          ],
          [
           2015,
           1
          ],
          [
           2017,
           1
          ],
          [
           2019,
           1
          ],
          [
           2021,
           1
          ],
          [
           2022,
           2
          ],
          [
           2016,
           1
          ],
          [
           2017,
           1
          ],
          [
           2015,
           2
          ],
          [
           2017,
           1
          ],
          [
           2020,
           1
          ],
          [
           2021,
           1
          ],
          [
           2022,
           1
          ],
          [
           2023,
           1
          ],
          [
           2023,
           1
          ],
          [
           2021,
           1
          ],
          [
           2016,
           1
          ],
          [
           2022,
           1
          ],
          [
           2019,
           1
          ],
          [
           2020,
           1
          ],
          [
           2021,
           1
          ],
          [
           2023,
           1
          ],
          [
           2019,
           2
          ],
          [
           2020,
           1
          ],
          [
           2021,
           1
          ],
          [
           2016,
           1
          ],
          [
           2023,
           1
          ],
          [
           2020,
           1
          ],
          [
           2017,
           1
          ],
          [
           2015,
           1
          ],
          [
           2018,
           1
          ],
          [
           2022,
           1
          ],
          [
           2018,
           1
          ],
          [
           2023,
           1
          ],
          [
           2018,
           1
          ],
          [
           2022,
           1
          ],
          [
           2018,
           1
          ],
          [
           2021,
           1
          ],
          [
           2022,
           1
          ],
          [
           2017,
           1
          ],
          [
           2013,
           1
          ],
          [
           2021,
           1
          ],
          [
           2020,
           1
          ],
          [
           2017,
           2
          ],
          [
           2020,
           1
          ],
          [
           2022,
           1
          ],
          [
           2015,
           1
          ],
          [
           2017,
           1
          ],
          [
           2021,
           1
          ],
          [
           2017,
           1
          ],
          [
           2022,
           1
          ],
          [
           2022,
           1
          ],
          [
           2022,
           1
          ],
          [
           2017,
           1
          ],
          [
           2021,
           1
          ],
          [
           2018,
           1
          ],
          [
           2023,
           1
          ],
          [
           2015,
           1
          ],
          [
           2018,
           1
          ],
          [
           2021,
           1
          ],
          [
           2023,
           1
          ],
          [
           2018,
           1
          ],
          [
           2015,
           1
          ],
          [
           2014,
           1
          ],
          [
           2015,
           1
          ],
          [
           2016,
           2
          ],
          [
           2021,
           1
          ],
          [
           2019,
           1
          ],
          [
           2012,
           1
          ],
          [
           2018,
           1
          ],
          [
           2020,
           1
          ],
          [
           2021,
           1
          ],
          [
           2023,
           1
          ],
          [
           2018,
           1
          ],
          [
           2019,
           1
          ],
          [
           2019,
           1
          ],
          [
           2021,
           1
          ],
          [
           2017,
           1
          ],
          [
           2021,
           1
          ],
          [
           2022,
           1
          ],
          [
           2017,
           1
          ],
          [
           2020,
           2
          ],
          [
           2021,
           1
          ],
          [
           2019,
           2
          ],
          [
           2016,
           1
          ],
          [
           2021,
           1
          ],
          [
           2022,
           1
          ],
          [
           2023,
           1
          ]
         ],
         "hovertemplate": "<b>%{hovertext}</b><br><br>Years=%{customdata[0]}<br>Counts=%{y}<br>Numbers=%{marker.color}<extra></extra>",
         "hovertext": [
          "Aagal",
          "Aaox",
          "Abts",
          "Acidic xylooligosaccharides",
          "Active site segment",
          "Acute lymphoblastic leukemia",
          "Additives",
          "Adjuvant",
          "Agaricus bisporus",
          "Agarose",
          "Alkalistable",
          "Alum",
          "Amino acid composition",
          "Amperometric response",
          "Amylose",
          "Amyr",
          "Antibacterial activity",
          "Anticancer",
          "Antifungal activity",
          "Antifungal susceptibility testing",
          "Antigen",
          "Antioxidant",
          "Antioxidant",
          "Antioxidant",
          "Antioxidant peptide",
          "Antioxidase",
          "Aqueous systems",
          "Artp",
          "Ascomycetous strains",
          "Ascomycota",
          "Aspergillus fumigatus",
          "Aspergillus niger",
          "Aspergillus niger",
          "Aspergillus terreus",
          "Bacterial cellulose",
          "Bacterial cellulose",
          "Bacterial laccase",
          "Baculovirus",
          "Bamboo powder",
          "Bamboo tablets",
          "Base editing",
          "Basidiomycota",
          "Bicovalent",
          "Bioaugmentation",
          "Biocatalysis",
          "Biocatalyzed polymerization",
          "Biochemicals",
          "Bioethanol",
          "Biofuels",
          "Biofuels",
          "Biofuels",
          "Biografting",
          "Biomanufacturing",
          "Biomass",
          "Biomass",
          "Biomass conversion",
          "Biomass degradation",
          "Biomolecules",
          "Bioprospecting",
          "Biorefinery",
          "Biorefinery",
          "Biorefinery",
          "Biorefinery",
          "Biotechnological applications",
          "Butyl ferulate",
          "Carbohydrate",
          "Carbohydrate active enzyme database",
          "Carbohydrate processing",
          "Catechol",
          "Catechol oxidase",
          "Cazy",
          "Cazy",
          "Cazy",
          "Cazyme gene regulation",
          "Cazymes",
          "Cbb cycle",
          "Cell factory",
          "Cellobiohydrolase",
          "Cellobiohydrolase",
          "Cellobiohydrolase",
          "Cellobiose",
          "Cellobiose",
          "Cellobiose",
          "Cellulase",
          "Cellulase",
          "Cellulase",
          "Cellulase",
          "Cellulase",
          "Cellulase",
          "Cellulase",
          "Cellulase",
          "Cellulase production",
          "Cellulases",
          "Cellulases",
          "Cellulases",
          "Cellulases",
          "Cellulases",
          "Cellulolytic cocktail improvement",
          "Cellulose",
          "Cellulose",
          "Cellulose",
          "Cellulose",
          "Cellulose",
          "Cellulose degradation",
          "Cellulose degradation",
          "Cellulose degradation",
          "Cellulose hydrolysis",
          "Cellulose hydrolysis",
          "Cellulose oxidation",
          "Cellulose saccharification",
          "Cellulose saccharification",
          "Central composite design",
          "Chaetosartorya cremea",
          "Characterization",
          "Characterization",
          "Chemical modification",
          "Chitin",
          "Chitinase",
          "Chitosan",
          "Chitosan",
          "Chitosan hydrogel",
          "Circular dichroism",
          "Class ii peroxidase",
          "Cloning",
          "Coating",
          "Coatings",
          "Codon optimization",
          "Collagenolytic protease",
          "Computational prediction",
          "Conductive cotton",
          "Conformation",
          "Consolidated bioprocessing",
          "Constitutive expression",
          "Copper",
          "Copper monooxygenase",
          "Corn stover",
          "Coupling",
          "Covalent immobilization",
          "Covalent immobilization",
          "Crispr",
          "Cryopreservation",
          "Crystal structure",
          "Crystal structure",
          "Crystallization",
          "Cyclic voltammetry",
          "Cytosine base editor",
          "Cytotoxicity",
          "Decalin",
          "Decolorization",
          "Decolorization",
          "Deep eutectic solvent",
          "Degree of substitution",
          "Depolymerisation",
          "Different fungal species",
          "Differential scanning calorimetry",
          "Digestibility enhancers",
          "Direct electron transfer",
          "Directed evolution",
          "Disulfide bond",
          "Docking simulation",
          "Dpph",
          "Dsc",
          "Dyadic",
          "Dye",
          "Efficacy",
          "Efficacy",
          "Electron donor",
          "Electroporation",
          "Elenolic acid",
          "Elimination",
          "Endoglucanase",
          "Endoglucanase",
          "Endoxylanase",
          "Endoxylanase",
          "Enzymatic deacetylation",
          "Enzymatic hydrolysis",
          "Enzymatic hydrolysis",
          "Enzymatic oligomerization",
          "Enzymatic oxidation",
          "Enzymatic oxidation",
          "Enzymatic saccharification",
          "Enzymatic saccharification",
          "Enzymatic saccharification",
          "Enzymatic tailoring",
          "Enzyme",
          "Enzyme activity",
          "Enzyme assay",
          "Enzyme electrodes",
          "Enzyme engineering",
          "Enzyme hypersecretion",
          "Enzyme immobilisation",
          "Enzyme immobilization",
          "Enzyme immobilization",
          "Enzyme mixture",
          "Enzyme stability",
          "Enzymes",
          "Enzymes",
          "Epinephrine",
          "Epr",
          "Er stress",
          "Escherichia coli",
          "Esterification",
          "Ethanol",
          "Ethanol",
          "Ethanol fermentation",
          "Ethanol tolerance",
          "Ethyl ferulate",
          "Eucalypt",
          "Eucalyptus globulus",
          "Experimental design",
          "Expression",
          "Expression optimization",
          "Extremozyme",
          "Ferulic acid",
          "Ferulic acid",
          "Ferulic acid",
          "Ferulic acid",
          "Feruloyl esterase",
          "Feruloyl esterase",
          "Filamentous fungi",
          "Filamentous fungi",
          "Filamentous fungi",
          "Filamentous fungi",
          "Filamentous fungi",
          "Filamentous fungus",
          "Fixed bioreactor",
          "Flavonoids",
          "Flow cytometry",
          "Fluorophenol",
          "Food protein",
          "Freezing",
          "Ftacv",
          "Fuel cells",
          "Fumaric acid",
          "Fumed silica nanoparticles",
          "Functional properties",
          "Functionalization",
          "Functionalization",
          "Fungal biotechnology",
          "Fungal enzyme production",
          "Fungal enzymes",
          "Fungal growth",
          "Fungal laccase",
          "Galactose transport",
          "Galactose utilization",
          "Gallic acid",
          "Gene editing",
          "Gene expression",
          "Gene regulation",
          "Genome editing",
          "Glucan",
          "Glucoamylase",
          "Glucoamylase",
          "Glucosamine",
          "Glucose and ethanol tolerance",
          "Glucose oxidation",
          "Glucuronic acid recognition",
          "Glucuronoxylan",
          "Glycans",
          "Glycerol",
          "Glycolysis",
          "Glycoprotein",
          "Glycoside hydrolase",
          "Glycoside hydrolase",
          "Glycoside hydrolases",
          "Glycosylation",
          "Grafting",
          "Green processing",
          "Growth kinetics",
          "Guaiacol",
          "Gum arabic",
          "Hbt",
          "Hemicellulase",
          "Hermetia illucens",
          "Heterologous production",
          "Heterologous production",
          "Heterologous protein expression",
          "Homology modelling",
          "Hpi",
          "Hpsec",
          "Hybrid",
          "Hydrogen peroxide",
          "Hydrolysis",
          "Hydrolysis",
          "Hydrolytic activity",
          "Hydrolytic enzymes",
          "Hydrophobicity",
          "Hydroxytyrosol",
          "Hygromycin b phosphotransferase gene hph",
          "Hymenaea courbaril",
          "Igg",
          "Immobilisation",
          "Immobilization",
          "Immobilization",
          "Immobilization",
          "Improved production",
          "In vivo grna transcription",
          "Industrially relevant fungi",
          "Infant",
          "Influenza vaccine",
          "Insect",
          "Insect cells",
          "Intranasal challenge",
          "Invasive pulmonary infection",
          "Ionic liquid",
          "Ionic liquid",
          "Isocyanide",
          "Itraconazole",
          "Kinetic analysis",
          "Kinetics",
          "Kraft lignin",
          "Kraft lignin",
          "Kraft lignin",
          "Laccase",
          "Laccase",
          "Laccase",
          "Laccase",
          "Laccase",
          "Laccase",
          "Laccase",
          "Laccase",
          "Laccase",
          "Laccase kinetics",
          "Laccases",
          "Laea",
          "Library",
          "Lignin",
          "Lignin",
          "Lignin degrading enzymes",
          "Lignocellulolytic enzymes",
          "Lignocellulolytic enzymes",
          "Lignocellulose",
          "Lignocellulose",
          "Lignocellulose",
          "Lignocellulose",
          "Lignocellulosic biomass",
          "Lignocellulosic biomass",
          "Lignocellulosic biomass",
          "Lignosulfonate",
          "Logistic model",
          "Low temperature",
          "Lpmo",
          "Lpmo",
          "Lpmo",
          "Lpmo",
          "Lpmo biocatalysis",
          "Lpmos",
          "Lyophilization",
          "Lytic polysaccharide monooxygenase",
          "Lytic polysaccharide monooxygenase",
          "Lytic polysaccharide monooxygenase",
          "Lytic polysaccharide monooxygenase",
          "Lytic polysaccharide monooxygenase",
          "Lytic polysaccharide monooxygenase",
          "Lytic polysaccharide monooxygenase",
          "Macromolecular assemblages",
          "Malate export",
          "Malbranchea cinamomea",
          "Malic acid",
          "Malic acid",
          "Malonic acid",
          "Marine fungi",
          "Marker recycling",
          "Mass spectrometric fragmentation",
          "Mass spectrometry",
          "Md simulation",
          "Mdf",
          "Mediator",
          "Melanin",
          "Melting temperature",
          "Mesoporous silicates",
          "Metabolic engineering",
          "Metabolic engineering",
          "Metabolic engineering",
          "Metabolic engineering",
          "Metabolic engineering",
          "Metabolic regulation",
          "Metal ion effect",
          "Metalloprotein",
          "Mhglaa",
          "Micropollutants",
          "Microwaves",
          "Mode of action",
          "Mode of action",
          "Modeling",
          "Modification",
          "Molecular docking",
          "Molecular dynamics",
          "Molecular mechanism",
          "Morphine",
          "Mtgal",
          "Mtperii peroxidase",
          "Multicopper oxidase",
          "Multiplexing",
          "Multivariate analysis",
          "Myceliophthora",
          "Myceliophthora",
          "Myceliophthora",
          "Myceliophthora thermophila",
          "Myceliophthora thermophila",
          "Myceliophthora thermophila",
          "Myceliophthora thermophila",
          "Myceliophthora thermophila",
          "Myceliophthora thermophila",
          "Myceliophthora thermophila",
          "Myceliophthora thermophila",
          "Myceliophthora thermophila",
          "Myceliophthora thermophila",
          "Myceliophthora thermophila",
          "Myceliophthora thermophile",
          "Myceliophthora thermophile laccase",
          "Myceliophtora sp",
          "Mycoprotein",
          "Mycoremediation",
          "Nanocellulose",
          "Natural mediators",
          "Neurospora crassa",
          "Neutralizing antibodies",
          "Nucleocytoplasmic transport",
          "Nutrition",
          "Oleuropein",
          "Oleuropein aglycones",
          "Oligosaccharide",
          "Overexpression",
          "Oxaloacetic acid",
          "Oxidase",
          "Oxidase",
          "Oxidation",
          "Oxidation",
          "Oxidation product",
          "Oxidative cleavage",
          "Oxygen consumption rate",
          "Oxygen reduction",
          "Oxygenase",
          "Ozonolysis",
          "Packing density",
          "Paenibacillus odorifer",
          "Pandemic",
          "Pbmcs",
          "Pcbs",
          "Pectin",
          "Penicillium citrinum",
          "Penicillium verruculosum",
          "Pentose catabolism",
          "Phenol biodegradation",
          "Phenol grafting",
          "Phenolic compound extraction",
          "Phenolics",
          "Phenolics",
          "Phenols",
          "Phenoxy radicals in lignin",
          "Pichia pastoris",
          "Pichia pastoris",
          "Pichia pastoris",
          "Pichia pastoris",
          "Pichia pastoris",
          "Pichia pastoris",
          "Pichia pastoris",
          "Pilot scale",
          "Plant biomass",
          "Plant biomass",
          "Plant biomass",
          "Platform",
          "Polyaniline",
          "Polycatechol",
          "Polymerisation",
          "Polymerization",
          "Polymerization",
          "Polymerization",
          "Polyphenol oxidase",
          "Polyphenol oxidase",
          "Polysaccharide",
          "Polysaccharide monooxygenase",
          "Position of acetyl groups",
          "Poultry",
          "Poultry feed",
          "Ppo",
          "Precise engineering",
          "Prenyl ferulate",
          "Preservation",
          "Pretreated corn cobs",
          "Pretreatment",
          "Pretreatment",
          "Process optimization",
          "Processivity",
          "Processivity",
          "Production",
          "Productivity",
          "Prophylaxis",
          "Protease",
          "Protease",
          "Protein design",
          "Protein engineering",
          "Protein evolution",
          "Purification",
          "Pyrogallol",
          "Rbd",
          "Reaction kinetics",
          "Real time assay",
          "Receptor binding domain",
          "Recombinant cellobiohydrolase",
          "Recombinant protein",
          "Recombinant protein expression",
          "Recombinant protein subunit vaccine",
          "Redox chemistry",
          "Reducing agent",
          "Reduction",
          "Reductive tca",
          "Renatured xanthan",
          "Response surface methodology",
          "Response surface methodology",
          "Rice straw",
          "Rmn",
          "Rna interference",
          "Rna polymerase",
          "Rnai",
          "Rnp",
          "Saccharification",
          "Saccharification",
          "Saccharification",
          "Saccharomyces cerevisiae",
          "Safety",
          "Secondary effluent",
          "Secretome",
          "Secretome composition",
          "Sequential solid state and submerged cultivation",
          "Signal transduction",
          "Single and mixed fungal species cultivation",
          "Solid media",
          "Solvent tolerance",
          "Soy polysaccharides",
          "Soy spent flake",
          "Sporotrichum thermophile",
          "Spray dryer",
          "Stabilisation",
          "Stability",
          "Stability",
          "Starch",
          "Starch",
          "Structural analysis",
          "Structure modelling",
          "Sugar uptake",
          "Sugarcane bagasse",
          "Sugarcane bagasse",
          "Sugarcane bagasse",
          "Sugarcane bagasse",
          "Sugarcane bagasse",
          "Superficial fungal infections",
          "Surface modifacation",
          "Swelling",
          "Synergism",
          "Synergy",
          "Synergy",
          "Systemic fungal infections",
          "Talaromyces leycettanus",
          "Talaromyces stipitatus galactanase",
          "Tamarindus indica",
          "Targeted influenza hemagglutinin",
          "Tempo",
          "Textile dyes",
          "Thermodynamics",
          "Thermophilic",
          "Thermophilic fungi",
          "Thermophilic fungi",
          "Thermophilic fungi",
          "Thermophilic fungi",
          "Thermophilic fungi",
          "Thermophilic fungi",
          "Thermophilic mould",
          "Thermophilic mould",
          "Thermostability",
          "Thermostability",
          "Thermostability",
          "Thermostability",
          "Thermostability",
          "Thermostability",
          "Thermostable",
          "Thermostable cellulose",
          "Thermostable enzymes",
          "Thermothelomyces heterothallica",
          "Thermothelomyces thermophila",
          "Thermothelomyces thermophila",
          "Thermothelomyces thermophila",
          "Thermothelomyces thermophila",
          "Thermothelomyces thermophilus",
          "Thermothelomyces thermophilus",
          "Thermothelomyces thermophilus",
          "Thermotolerant",
          "Thermotolerant mutant",
          "Thielavia australiensis",
          "Thielavia terrestris",
          "Tm",
          "Toxicity",
          "Toxicology",
          "Trametes versicolor",
          "Transceptor",
          "Transcription factor",
          "Transcription factor",
          "Transcriptomic profiles",
          "Transcriptomic profiles",
          "Transcriptomics",
          "Transesterification",
          "Transglycosylation",
          "Transporter",
          "Trehalase",
          "Trichoderma reesei",
          "Trichoderma reesei",
          "Trimeric influenza hemagglutinin",
          "Tsgal",
          "Tyrosinase",
          "Tyrosinase",
          "Ultrasound",
          "Vaccine",
          "Variants of concern",
          "Virus",
          "Viscosity",
          "Viscosity reduction",
          "Wastewater",
          "Weimberg pathway",
          "Wild type",
          "Wood",
          "Wood hydrophobization",
          "Wood hydrophobization",
          "Wound enzymes",
          "Wt",
          "Xanthan conformation",
          "Xylan",
          "Xylan",
          "Xylan",
          "Xylan degradation",
          "Xylanase",
          "Xylanase",
          "Xylanase",
          "Xylanase",
          "Xylanase",
          "Xylanases",
          "Xylanolytic regulator",
          "Xylobiohydrolase",
          "Xylobiohydrolase",
          "Xyloglucan",
          "Xyloglucan",
          "Xyloglucan",
          "Xyloglucanase",
          "Xyloglucanase",
          "Xyloglucanase",
          "Xylooligosaccharides",
          "Xylose",
          "Xylose",
          "Zoonotic",
          "Zootechnical additives"
         ],
         "legendgroup": "",
         "marker": {
          "color": [
           1,
           1,
           1,
           1,
           1,
           1,
           1,
           1,
           1,
           1,
           1,
           1,
           1,
           1,
           1,
           1,
           1,
           1,
           1,
           1,
           1,
           1,
           1,
           1,
           1,
           1,
           1,
           1,
           1,
           1,
           1,
           1,
           1,
           1,
           1,
           1,
           1,
           1,
           1,
           1,
           1,
           1,
           1,
           1,
           2,
           1,
           1,
           1,
           1,
           1,
           1,
           1,
           1,
           1,
           1,
           1,
           1,
           1,
           1,
           1,
           1,
           1,
           1,
           1,
           1,
           1,
           1,
           1,
           1,
           1,
           1,
           1,
           1,
           1,
           1,
           1,
           1,
           1,
           1,
           1,
           1,
           1,
           1,
           1,
           1,
           1,
           1,
           1,
           1,
           2,
           2,
           1,
           1,
           1,
           1,
           1,
           1,
           1,
           1,
           1,
           1,
           1,
           1,
           1,
           1,
           1,
           1,
           1,
           1,
           1,
           1,
           1,
           1,
           1,
           1,
           1,
           2,
           1,
           2,
           1,
           1,
           1,
           1,
           1,
           1,
           1,
           1,
           1,
           1,
           1,
           1,
           1,
           1,
           1,
           1,
           1,
           1,
           1,
           1,
           1,
           1,
           1,
           1,
           1,
           1,
           1,
           1,
           1,
           3,
           1,
           1,
           1,
           1,
           1,
           1,
           1,
           1,
           1,
           1,
           1,
           1,
           1,
           1,
           1,
           1,
           1,
           1,
           1,
           1,
           1,
           1,
           1,
           1,
           1,
           1,
           3,
           1,
           1,
           1,
           1,
           1,
           1,
           1,
           1,
           1,
           1,
           1,
           1,
           1,
           1,
           1,
           2,
           1,
           1,
           1,
           2,
           1,
           1,
           1,
           1,
           1,
           1,
           1,
           1,
           1,
           1,
           1,
           1,
           1,
           1,
           1,
           1,
           1,
           1,
           1,
           1,
           1,
           1,
           1,
           1,
           2,
           1,
           3,
           1,
           1,
           1,
           1,
           1,
           1,
           1,
           1,
           1,
           1,
           1,
           1,
           1,
           1,
           1,
           1,
           1,
           1,
           1,
           1,
           1,
           1,
           1,
           1,
           1,
           1,
           2,
           1,
           1,
           1,
           1,
           1,
           1,
           1,
           1,
           1,
           1,
           1,
           1,
           1,
           1,
           1,
           1,
           1,
           1,
           1,
           1,
           1,
           1,
           1,
           1,
           1,
           1,
           1,
           1,
           1,
           1,
           1,
           1,
           1,
           1,
           1,
           1,
           1,
           1,
           1,
           1,
           1,
           1,
           1,
           1,
           1,
           1,
           1,
           1,
           1,
           1,
           1,
           1,
           1,
           1,
           1,
           1,
           1,
           1,
           1,
           1,
           1,
           1,
           1,
           1,
           2,
           4,
           1,
           8,
           1,
           4,
           1,
           1,
           1,
           1,
           1,
           1,
           3,
           1,
           1,
           1,
           1,
           1,
           2,
           1,
           1,
           2,
           1,
           1,
           1,
           1,
           1,
           1,
           2,
           1,
           1,
           1,
           1,
           1,
           2,
           1,
           1,
           1,
           1,
           1,
           1,
           1,
           1,
           1,
           1,
           1,
           1,
           1,
           1,
           1,
           1,
           1,
           1,
           1,
           1,
           1,
           1,
           1,
           1,
           1,
           2,
           2,
           1,
           1,
           1,
           1,
           1,
           1,
           1,
           1,
           1,
           1,
           2,
           1,
           1,
           1,
           1,
           1,
           1,
           1,
           1,
           1,
           2,
           2,
           2,
           2,
           3,
           4,
           8,
           7,
           5,
           5,
           2,
           9,
           2,
           1,
           1,
           1,
           1,
           1,
           1,
           1,
           1,
           1,
           1,
           1,
           1,
           1,
           1,
           1,
           1,
           1,
           1,
           1,
           1,
           1,
           1,
           1,
           1,
           1,
           1,
           1,
           1,
           1,
           1,
           1,
           1,
           1,
           1,
           1,
           1,
           1,
           1,
           1,
           1,
           1,
           1,
           1,
           1,
           1,
           2,
           1,
           1,
           1,
           1,
           1,
           1,
           1,
           1,
           1,
           1,
           1,
           1,
           1,
           1,
           1,
           1,
           1,
           1,
           1,
           1,
           1,
           1,
           1,
           1,
           1,
           1,
           1,
           1,
           1,
           2,
           2,
           1,
           1,
           1,
           1,
           1,
           1,
           2,
           1,
           1,
           1,
           1,
           1,
           1,
           1,
           1,
           1,
           1,
           1,
           1,
           1,
           1,
           1,
           1,
           1,
           1,
           1,
           1,
           1,
           1,
           1,
           1,
           1,
           1,
           1,
           1,
           1,
           1,
           1,
           1,
           1,
           1,
           1,
           1,
           1,
           1,
           1,
           1,
           1,
           1,
           1,
           1,
           1,
           1,
           1,
           1,
           1,
           1,
           1,
           1,
           1,
           1,
           1,
           1,
           1,
           1,
           1,
           1,
           1,
           1,
           1,
           1,
           1,
           1,
           2,
           1,
           1,
           1,
           1,
           1,
           1,
           1,
           2,
           1,
           1,
           2,
           1,
           1,
           1,
           1,
           1,
           1,
           1,
           1,
           1,
           1,
           1,
           1,
           1,
           2,
           1,
           1,
           1,
           1,
           1,
           1,
           1,
           1,
           1,
           1,
           1,
           1,
           1,
           1,
           1,
           1,
           1,
           1,
           1,
           1,
           2,
           1,
           1,
           1,
           1,
           1,
           1,
           1,
           1,
           1,
           1,
           1,
           1,
           1,
           1,
           1,
           1,
           1,
           1,
           1,
           1,
           1,
           2,
           1,
           1,
           1,
           1,
           1,
           1,
           1,
           1,
           1,
           1,
           1,
           1,
           1,
           1,
           1,
           2,
           1,
           2,
           1,
           1,
           1,
           1
          ],
          "coloraxis": "coloraxis",
          "size": [
           1,
           1,
           1,
           1,
           1,
           1,
           1,
           1,
           1,
           1,
           1,
           1,
           1,
           1,
           1,
           1,
           1,
           1,
           1,
           1,
           1,
           1,
           1,
           1,
           1,
           1,
           1,
           1,
           1,
           1,
           1,
           1,
           1,
           1,
           1,
           1,
           1,
           1,
           1,
           1,
           1,
           1,
           1,
           1,
           2,
           1,
           1,
           1,
           1,
           1,
           1,
           1,
           1,
           1,
           1,
           1,
           1,
           1,
           1,
           1,
           1,
           1,
           1,
           1,
           1,
           1,
           1,
           1,
           1,
           1,
           1,
           1,
           1,
           1,
           1,
           1,
           1,
           1,
           1,
           1,
           1,
           1,
           1,
           1,
           1,
           1,
           1,
           1,
           1,
           2,
           2,
           1,
           1,
           1,
           1,
           1,
           1,
           1,
           1,
           1,
           1,
           1,
           1,
           1,
           1,
           1,
           1,
           1,
           1,
           1,
           1,
           1,
           1,
           1,
           1,
           1,
           2,
           1,
           2,
           1,
           1,
           1,
           1,
           1,
           1,
           1,
           1,
           1,
           1,
           1,
           1,
           1,
           1,
           1,
           1,
           1,
           1,
           1,
           1,
           1,
           1,
           1,
           1,
           1,
           1,
           1,
           1,
           1,
           3,
           1,
           1,
           1,
           1,
           1,
           1,
           1,
           1,
           1,
           1,
           1,
           1,
           1,
           1,
           1,
           1,
           1,
           1,
           1,
           1,
           1,
           1,
           1,
           1,
           1,
           1,
           3,
           1,
           1,
           1,
           1,
           1,
           1,
           1,
           1,
           1,
           1,
           1,
           1,
           1,
           1,
           1,
           2,
           1,
           1,
           1,
           2,
           1,
           1,
           1,
           1,
           1,
           1,
           1,
           1,
           1,
           1,
           1,
           1,
           1,
           1,
           1,
           1,
           1,
           1,
           1,
           1,
           1,
           1,
           1,
           1,
           2,
           1,
           3,
           1,
           1,
           1,
           1,
           1,
           1,
           1,
           1,
           1,
           1,
           1,
           1,
           1,
           1,
           1,
           1,
           1,
           1,
           1,
           1,
           1,
           1,
           1,
           1,
           1,
           1,
           2,
           1,
           1,
           1,
           1,
           1,
           1,
           1,
           1,
           1,
           1,
           1,
           1,
           1,
           1,
           1,
           1,
           1,
           1,
           1,
           1,
           1,
           1,
           1,
           1,
           1,
           1,
           1,
           1,
           1,
           1,
           1,
           1,
           1,
           1,
           1,
           1,
           1,
           1,
           1,
           1,
           1,
           1,
           1,
           1,
           1,
           1,
           1,
           1,
           1,
           1,
           1,
           1,
           1,
           1,
           1,
           1,
           1,
           1,
           1,
           1,
           1,
           1,
           1,
           1,
           2,
           4,
           1,
           8,
           1,
           4,
           1,
           1,
           1,
           1,
           1,
           1,
           3,
           1,
           1,
           1,
           1,
           1,
           2,
           1,
           1,
           2,
           1,
           1,
           1,
           1,
           1,
           1,
           2,
           1,
           1,
           1,
           1,
           1,
           2,
           1,
           1,
           1,
           1,
           1,
           1,
           1,
           1,
           1,
           1,
           1,
           1,
           1,
           1,
           1,
           1,
           1,
           1,
           1,
           1,
           1,
           1,
           1,
           1,
           1,
           2,
           2,
           1,
           1,
           1,
           1,
           1,
           1,
           1,
           1,
           1,
           1,
           2,
           1,
           1,
           1,
           1,
           1,
           1,
           1,
           1,
           1,
           2,
           2,
           2,
           2,
           3,
           4,
           8,
           7,
           5,
           5,
           2,
           9,
           2,
           1,
           1,
           1,
           1,
           1,
           1,
           1,
           1,
           1,
           1,
           1,
           1,
           1,
           1,
           1,
           1,
           1,
           1,
           1,
           1,
           1,
           1,
           1,
           1,
           1,
           1,
           1,
           1,
           1,
           1,
           1,
           1,
           1,
           1,
           1,
           1,
           1,
           1,
           1,
           1,
           1,
           1,
           1,
           1,
           1,
           2,
           1,
           1,
           1,
           1,
           1,
           1,
           1,
           1,
           1,
           1,
           1,
           1,
           1,
           1,
           1,
           1,
           1,
           1,
           1,
           1,
           1,
           1,
           1,
           1,
           1,
           1,
           1,
           1,
           1,
           2,
           2,
           1,
           1,
           1,
           1,
           1,
           1,
           2,
           1,
           1,
           1,
           1,
           1,
           1,
           1,
           1,
           1,
           1,
           1,
           1,
           1,
           1,
           1,
           1,
           1,
           1,
           1,
           1,
           1,
           1,
           1,
           1,
           1,
           1,
           1,
           1,
           1,
           1,
           1,
           1,
           1,
           1,
           1,
           1,
           1,
           1,
           1,
           1,
           1,
           1,
           1,
           1,
           1,
           1,
           1,
           1,
           1,
           1,
           1,
           1,
           1,
           1,
           1,
           1,
           1,
           1,
           1,
           1,
           1,
           1,
           1,
           1,
           1,
           1,
           2,
           1,
           1,
           1,
           1,
           1,
           1,
           1,
           2,
           1,
           1,
           2,
           1,
           1,
           1,
           1,
           1,
           1,
           1,
           1,
           1,
           1,
           1,
           1,
           1,
           2,
           1,
           1,
           1,
           1,
           1,
           1,
           1,
           1,
           1,
           1,
           1,
           1,
           1,
           1,
           1,
           1,
           1,
           1,
           1,
           1,
           2,
           1,
           1,
           1,
           1,
           1,
           1,
           1,
           1,
           1,
           1,
           1,
           1,
           1,
           1,
           1,
           1,
           1,
           1,
           1,
           1,
           1,
           2,
           1,
           1,
           1,
           1,
           1,
           1,
           1,
           1,
           1,
           1,
           1,
           1,
           1,
           1,
           1,
           2,
           1,
           2,
           1,
           1,
           1,
           1
          ],
          "sizemode": "area",
          "sizeref": 0.0225,
          "symbol": "circle"
         },
         "mode": "markers",
         "name": "",
         "orientation": "v",
         "showlegend": false,
         "type": "scatter",
         "x": [
          2015.2119525606108,
          2020.106837206364,
          2018.0791830055382,
          2020.8088123628606,
          2022.286442350728,
          2022.9481579649485,
          2017.187566166072,
          2021.9000070729946,
          2017.1451861325434,
          2013.8263531077168,
          2020.7951960106552,
          2022.0068693379878,
          2018.737253586553,
          2017.0597424948041,
          2018.8482564818487,
          2018.1473654827253,
          2021.9734256591528,
          2021.0996829291767,
          2022.2888863968803,
          2023.025964806796,
          2022.2472094321724,
          2014.2862011769396,
          2017.1141572609388,
          2021.909194165871,
          2018.8110714518032,
          2023.0815822669022,
          2017.9282220494943,
          2023.1509143567591,
          2013.7038134388083,
          2016.8118327275815,
          2017.0850503126298,
          2020.175488517679,
          2022.205091237207,
          2017.1390218324352,
          2016.991938142027,
          2018.0686525693227,
          2022.8226215337677,
          2021.9396728552204,
          2018.2747606898308,
          2018.0485753479204,
          2022.07293806068,
          2017.10574241127,
          2017.8704874575928,
          2014.2617300313561,
          2017.2116510681687,
          2015.9721011055208,
          2020.02688174651,
          2016.8445461883791,
          2014.2830676863994,
          2017.291064255985,
          2020.2409010577744,
          2021.2263164087633,
          2021.8769300101155,
          2016.1535718171172,
          2020.079068067844,
          2023.0411440157977,
          2014.0884013040838,
          2016.106934911858,
          2021.2562316966553,
          2014.9725016068687,
          2015.7239293685927,
          2016.706114040314,
          2019.7913145213436,
          2016.214519578418,
          2017.1984822851384,
          2016.1501845296277,
          2015.130367142078,
          2016.2426140112136,
          2016.1736050832426,
          2017.2357408327246,
          2013.77208411118,
          2014.823692694751,
          2016.1818507838386,
          2021.0424116784268,
          2020.7998201321157,
          2020.7340704082742,
          2019.0019736008512,
          2016.8075459266129,
          2018.1011689553002,
          2018.7189750870198,
          2019.1344673291474,
          2019.8529164428874,
          2021.7040575587387,
          2012.0390294405604,
          2013.9477794527588,
          2014.7861423691068,
          2018.276230924733,
          2019.122497573521,
          2021.230153149984,
          2021.7764395018055,
          2022.789986931863,
          2022.1091082046617,
          2013.04227285756,
          2016.9000260742678,
          2018.746071816801,
          2019.9524937542851,
          2021.9516010275363,
          2016.7487009758129,
          2014.7480143090618,
          2017.924049594591,
          2019.2240283977956,
          2020.007851338972,
          2020.888868936778,
          2016.1895546237934,
          2019.0926556176398,
          2021.7716215402575,
          2016.2070629632433,
          2016.7656580112282,
          2016.1052841303645,
          2021.238499661317,
          2022.81878199312,
          2022.867257472167,
          2016.7500910573517,
          2015.9709953737665,
          2023.028019467383,
          2009.7921113555058,
          2018.06291156361,
          2017.7899224231512,
          2017.7704666137754,
          2022.217071881593,
          2018.113749469703,
          2013.1593013696297,
          2015.282455553179,
          2016.9697546787247,
          2020.8792138016315,
          2018.1147956827076,
          2017.0196343022776,
          2016.9271304590059,
          2015.0945162536602,
          2018.0460329214707,
          2012.9714706634345,
          2020.0494891399428,
          2017.2858673979845,
          2018.737989193433,
          2018.7783192762568,
          2019.9922072552695,
          2020.817779407666,
          2018.0253747885895,
          2022.943048063009,
          2018.7729240662925,
          2020.837265631861,
          2015.8709528811346,
          2018.267890717211,
          2021.151453179835,
          2016.7142232260599,
          2021.804015768613,
          2014.1765499633348,
          2021.046277573065,
          2018.2679575105794,
          2021.1128999165546,
          2020.9173980964222,
          2012.8646741938048,
          2022.2233862221024,
          2020.702220037997,
          2014.9951233725703,
          2023.067050358866,
          2019.9282268988782,
          2018.1034024621838,
          2023.2157290512098,
          2021.7814177844225,
          2016.776557890623,
          2015.0908989532495,
          2022.2516848417115,
          2013.7705444625074,
          2021.874580318233,
          2023.1833696770152,
          2016.0467969231252,
          2019.115933243851,
          2017.1946448252,
          2017.8394552312188,
          2015.0894180714515,
          2017.1774054123898,
          2019.1626507085518,
          2021.2947465098073,
          2013.8544163258628,
          2017.0504500521267,
          2019.15133145394,
          2016.0028073907197,
          2013.8789577021396,
          2021.9001754822107,
          2014.707156757441,
          2016.2175845546042,
          2016.970183508836,
          2017.241974732737,
          2019.707268231378,
          2018.9923598474177,
          2019.77370996854,
          2012.985556120702,
          2023.058125333727,
          2021.0222503947232,
          2016.9069889669324,
          2016.2156550728853,
          2017.9865609233855,
          2016.0010550855466,
          2019.0335844016888,
          2021.1982956428783,
          2023.17576917123,
          2020.0022755099455,
          2016.9000169570845,
          2022.1903506913632,
          2018.7974253127647,
          2017.1030334040634,
          2016.0048679209765,
          2019.9009040587084,
          2019.9939698775154,
          2012.9266985914867,
          2013.9909772657907,
          2023.1726727353084,
          2017.9603831580866,
          2016.1740932294197,
          2018.1191875627146,
          2017.815346376406,
          2020.7036713597452,
          2014.2817894413486,
          2017.2603782303936,
          2020.9747671216894,
          2021.966113522024,
          2017.0033097140984,
          2018.1448503877657,
          2016.9547478730228,
          2019.0021879637045,
          2019.8017636788231,
          2021.9155825632354,
          2022.9822454692764,
          2019.9743696147557,
          2020.7567323002681,
          2016.1042140770696,
          2022.1353182318835,
          2020.936509662824,
          2019.2627563169403,
          2021.1694150393814,
          2019.9960541012638,
          2012.8491465891004,
          2018.1341717430619,
          2016.2828809629143,
          2021.979774081046,
          2017.1486103250145,
          2020.8878857375164,
          2021.25546129412,
          2021.2497286141838,
          2015.87361317327,
          2023.035614565437,
          2022.8101607141277,
          2020.7979029471157,
          2020.7583613947972,
          2016.2550150572254,
          2020.0055140770821,
          2018.1776216610858,
          2023.004883644542,
          2019.1584626291958,
          2015.874891784688,
          2014.933502174817,
          2021.8325577928822,
          2022.207255462624,
          2023.0029304731177,
          2013.0399542452467,
          2020.8762748003155,
          2019.206232243878,
          2021.759142717744,
          2015.0499211817234,
          2022.2078871643848,
          2022.287795835399,
          2021.0806508139856,
          2021.8311337347334,
          2018.8166807499078,
          2021.7630917765352,
          2023.1491101488657,
          2016.2455709651845,
          2021.0235591217663,
          2022.1151536415246,
          2020.9425544704068,
          2018.1843092845345,
          2023.1264143282965,
          2021.8888855702253,
          2015.047266870406,
          2019.1179330841162,
          2020.7893520560274,
          2022.004232786405,
          2018.2697350316796,
          2012.7571785953792,
          2021.0395337999307,
          2016.7159877215747,
          2014.8767488885624,
          2015.734321037181,
          2020.7578053615562,
          2015.873168996335,
          2021.146782675009,
          2017.0997906978648,
          2018.8143930211966,
          2021.0045105888457,
          2022.2544725515475,
          2009.9451741432147,
          2013.9711072420594,
          2017.8368667285088,
          2021.2065946778273,
          2020.9413062376668,
          2019.7300524747584,
          2018.2290266125233,
          2016.0193951572946,
          2021.7789049506723,
          2022.138396851831,
          2021.7602846467182,
          2021.8701642633666,
          2022.9443591533536,
          2013.936515308589,
          2022.144325142652,
          2017.9891907183714,
          2016.2125420493232,
          2020.9093440868373,
          2021.085347233401,
          2017.8712831568578,
          2021.9024729591863,
          2022.8084958446805,
          2010.244137652357,
          2013.9001525081644,
          2016.0859866645724,
          2016.7071098937731,
          2017.8811046980811,
          2019.9504400313022,
          2020.877514052974,
          2022.1569416104912,
          2022.8911246424466,
          2016.8316612227438,
          2017.7668761694056,
          2022.808196913373,
          2017.7132455962558,
          2016.1735359742236,
          2021.7567385081609,
          2021.8382804568448,
          2013.9425306423932,
          2021.1042891592613,
          2016.070668991762,
          2016.9223531838818,
          2018.1471321928104,
          2021.9517621618388,
          2016.961673720485,
          2020.2236079790673,
          2021.110251828787,
          2021.1632313421208,
          2020.94621339681,
          2020.9148547863883,
          2015.0798363010454,
          2016.7558998680233,
          2019.9546054659372,
          2022.8063936136432,
          2021.2532308557004,
          2022.0924320057932,
          2020.94272589116,
          2016.981870197364,
          2018.014890043607,
          2018.8646339261998,
          2019.8206673342522,
          2021.2735915054707,
          2022.272379970046,
          2022.776436668653,
          2013.15436153206,
          2023.1778517810214,
          2017.0667575847745,
          2018.7788979313705,
          2020.989153342925,
          2021.9679293943627,
          2019.0991376244817,
          2018.9928319876446,
          2022.2683237673298,
          2013.903327931395,
          2021.7261856809462,
          2021.9267525411242,
          2022.0844880085263,
          2021.1573362348656,
          2014.755637713851,
          2010.2396279214083,
          2018.0147978899263,
          2019.082906856237,
          2019.7853402461615,
          2020.701397462555,
          2021.8884426678926,
          2021.9717752180845,
          2020.0157316103237,
          2018.8117077015713,
          2019.7833448592824,
          2016.016141102119,
          2014.7579675553818,
          2017.257927337333,
          2021.2026746152094,
          2015.1252074925571,
          2020.9047515473562,
          2022.181016624885,
          2020.2540051499777,
          2022.8880427685524,
          2018.0395720753481,
          2015.238636817709,
          2017.1917361938597,
          2020.2059267524435,
          2019.0206285225906,
          2016.7847886176519,
          2016.8083262481814,
          2021.0877919154057,
          2022.8751176544533,
          2012.87977550897,
          2014.1372251361208,
          2015.1613924407386,
          2015.7561792567087,
          2016.9956832493813,
          2018.0024323264565,
          2018.702544832992,
          2020.2420085473302,
          2020.8310139892258,
          2022.2090976753575,
          2022.8708702370218,
          2020.120590082287,
          2018.2280017766643,
          2013.958508527819,
          2021.965129887859,
          2014.2947416469776,
          2021.008518692965,
          2020.9039043984876,
          2020.8536672542004,
          2022.1068770137206,
          2012.9930797374066,
          2020.800423422987,
          2017.0552330444823,
          2017.1138975346034,
          2015.8303868436462,
          2012.985728182757,
          2022.089593760313,
          2016.2678366925322,
          2018.1189121422033,
          2017.1662581773135,
          2017.8178571355506,
          2021.1397696815059,
          2022.0193780972281,
          2016.9229106996688,
          2012.911973736411,
          2018.707920891647,
          2015.7942339257963,
          2021.2116952036183,
          2019.947646690113,
          2021.9610921155872,
          2018.2232972625377,
          2014.1596058754376,
          2016.751189025871,
          2016.736058343325,
          2015.0253874487084,
          2018.9900165573122,
          2017.8298121959308,
          2021.094247789468,
          2018.1072589442624,
          2016.184998553414,
          2018.1077128249033,
          2016.9011927036786,
          2016.9708147357353,
          2012.8274912333393,
          2015.2064115886146,
          2016.0653031111226,
          2017.080440881025,
          2018.1130027739987,
          2018.718619682307,
          2020.8376126254038,
          2017.7588491004394,
          2014.1389121750537,
          2018.0523792206293,
          2020.8801106392912,
          2020.1981795880513,
          2018.2674078170119,
          2015.053731966069,
          2015.7752866055885,
          2017.12251033084,
          2018.1927084711335,
          2022.7914485300491,
          2016.8750387840978,
          2021.0547042443322,
          2018.8469689674869,
          2019.2262749975828,
          2014.0441304005715,
          2022.8523179528634,
          2021.0515789676267,
          2017.012598239683,
          2021.7575915497423,
          2017.1382339248687,
          2021.044254746593,
          2020.9130958548403,
          2015.1046783904055,
          2020.1304012467338,
          2021.0426173599842,
          2016.7194623231408,
          2020.1545669250113,
          2020.72572471075,
          2013.7217927416862,
          2015.9490286704456,
          2019.1953320604464,
          2019.7393560211988,
          2014.8754613711917,
          2021.1494668044186,
          2015.723704853409,
          2020.9854520877377,
          2016.1224521728514,
          2021.785910275496,
          2019.9183630172013,
          2017.0771099358078,
          2021.8682330834206,
          2020.9505184117972,
          2022.2413806739087,
          2022.2403291246935,
          2021.9251950742114,
          2013.298081031677,
          2017.8213571406297,
          2022.0184136118012,
          2018.1965059815284,
          2012.7596159724928,
          2019.7695066966076,
          2023.1922897047518,
          2019.228282198679,
          2022.1911751184357,
          2015.1188902357553,
          2015.8474703046293,
          2017.7660415085027,
          2019.1215935996559,
          2018.198929570885,
          2018.8408496055574,
          2022.879571611676,
          2018.2439110934638,
          2023.1680728773524,
          2015.83328688426,
          2022.8940450706004,
          2016.0266968935646,
          2021.0434556423359,
          2023.0730081892161,
          2021.0832559015196,
          2014.1680754223455,
          2020.7158165088326,
          2016.796896821032,
          2016.9534298666854,
          2015.95077285932,
          2017.2598485702479,
          2010.291541944437,
          2014.0116775085428,
          2022.1739198674218,
          2017.7464834546352,
          2019.0320909064055,
          2020.2438981435746,
          2022.0129365915861,
          2020.2766589020268,
          2013.836336856515,
          2016.0712688008746,
          2019.0834570830011,
          2020.0584773398455,
          2022.9648442218663,
          2016.2765709505702,
          2022.0480170275284,
          2017.0175000508755,
          2015.8969479873797,
          2018.8413851084697,
          2021.7512224924715,
          2016.0024193603372,
          2017.1007708938807,
          2015.2477912722632,
          2021.0225701265,
          2021.8374086628512,
          2018.0439509708174,
          2017.767576333877,
          2023.1002899033522,
          2012.9409540971578,
          2011.845526356769,
          2015.255110402712,
          2016.8399680332764,
          2018.9315785968186,
          2021.1044900660409,
          2022.298847509944,
          2015.736154484643,
          2017.202610315784,
          2015.1409205665589,
          2016.7815186469402,
          2019.8677371209155,
          2021.1213108866157,
          2021.8501030268244,
          2023.1192867458906,
          2022.7461144704987,
          2021.131423873834,
          2015.8522443224094,
          2022.224181353479,
          2018.7262747182542,
          2020.2675330834352,
          2021.2739489234855,
          2023.1157967233687,
          2019.1264028128644,
          2020.038714906691,
          2021.1095724207892,
          2016.0910585160434,
          2022.8499550037416,
          2020.268130370182,
          2016.8771625438944,
          2014.7363401391883,
          2018.2722184759061,
          2022.0818413926427,
          2018.1439864302267,
          2022.9616896151501,
          2018.2625752522988,
          2021.965814845861,
          2018.12045333492,
          2021.2524473912274,
          2021.7912626521227,
          2016.7569775169786,
          2013.2155693759596,
          2021.0936868675806,
          2020.0442090615609,
          2016.765767640602,
          2020.230191594581,
          2021.9152027843772,
          2015.0155896227975,
          2016.9003715976548,
          2021.2726447628354,
          2017.19538561151,
          2022.1452001407774,
          2021.7395312833198,
          2021.961767523946,
          2017.2461731125754,
          2021.0082524786544,
          2017.9813580458538,
          2023.095668648303,
          2015.0348557708414,
          2018.2911872535212,
          2021.225805362336,
          2023.2085226333888,
          2017.8816716586916,
          2015.0361814236878,
          2013.931366744412,
          2015.0044997325326,
          2015.7147090990077,
          2020.8074995066527,
          2019.2622575268206,
          2012.2869803521842,
          2018.1786386774766,
          2020.2659659114818,
          2020.8103004980371,
          2023.1498719257336,
          2017.8924512455278,
          2018.8093742146502,
          2018.8782174169405,
          2021.0932280443694,
          2016.735119739019,
          2021.2338137405677,
          2021.8206561938175,
          2016.795805836921,
          2020.0519065657236,
          2021.2209593706107,
          2018.7667420345851,
          2016.1925823799745,
          2021.116737678537,
          2021.9243720046497,
          2022.7031271332246
         ],
         "xaxis": "x",
         "y": [
          1.4360038542305262,
          0.5096679267560789,
          0.8799208372902539,
          1.0963347569061286,
          1.086365397005211,
          1.4818607018247891,
          0.897466946536682,
          0.6625240062118003,
          1.4933055339549637,
          0.6867820364146249,
          0.928948712958353,
          1.0889306463591644,
          1.3927543484713154,
          0.7529709931230182,
          1.1733197125770154,
          0.9053687564902623,
          1.2231756954798954,
          1.242876263382285,
          1.178770377974592,
          1.3735283131057323,
          1.3512355384112271,
          0.9449256434425128,
          0.8737400321144086,
          1.0377963577690807,
          0.5355838089590524,
          0.6921785470445848,
          0.8680736555890486,
          0.7246907830096098,
          1.0555017362801582,
          0.7944135779089639,
          1.2784996936656967,
          0.9989244871647883,
          0.8674379133206583,
          0.9785503805997136,
          0.7683370325656503,
          0.9117328816304812,
          1.476013138903387,
          0.7253279337801589,
          0.7076411127985205,
          0.5020309648552144,
          1.1535203410161656,
          1.1545267331779496,
          0.768471619815901,
          0.5312463522080049,
          1.8031129066188178,
          0.9057510068155993,
          1.1993493003143925,
          0.586757540686833,
          0.9332853534420105,
          1.0131167264812073,
          0.7656771897023877,
          1.4711658702972112,
          1.2396516817476742,
          0.5987354224564029,
          1.1784888986606403,
          1.4968981970704762,
          0.7673479560960333,
          0.8094509250179684,
          0.6324037268908429,
          1.0972299046367682,
          0.5977422735274539,
          1.3455889928948768,
          0.5692118619318299,
          0.8682193141506283,
          1.4637649541117068,
          1.3751164764364547,
          0.7488816514728743,
          0.9087022682736992,
          0.6365058064002556,
          0.597730136729135,
          0.8703081088912425,
          1.1661659364111538,
          1.2931669628140807,
          1.399323886954313,
          1.0653763859064658,
          1.0281553280672198,
          0.6025848507434096,
          0.8468348377351193,
          1.3357197720325904,
          0.594919561907014,
          0.9380344121955001,
          0.7177983011606828,
          0.8585698468345512,
          1.0024925430333442,
          1.331364879997479,
          0.6711123886694275,
          1.0535510301108442,
          1.3344372252638268,
          0.754553418680918,
          2.4193911968439865,
          2.165188320610441,
          1.3749328637768174,
          1.178127261852043,
          0.6964757693119956,
          1.121964760260029,
          0.8993086300126482,
          1.0613815569585126,
          1.414017464144918,
          0.7612352819097091,
          1.217173585280574,
          0.5759601293738493,
          0.5646182376059633,
          0.9255200607872356,
          1.124280768056292,
          0.8334746706521163,
          0.7554354864843498,
          0.7433332710689461,
          1.4156079376280797,
          0.8295755617959203,
          0.9053592937079493,
          0.8648774835134355,
          1.1853053900487565,
          0.9544484433021565,
          1.2967518303950674,
          0.9019851288688451,
          1.0846222603923534,
          2.3737137695608483,
          0.865487571488789,
          1.5485769869500208,
          0.7175856881221276,
          0.7670590786270922,
          0.6351492846975836,
          0.5682434791110132,
          1.1991273484315725,
          0.83827467184542,
          1.4693689979438087,
          1.066153924089111,
          0.7829051609943773,
          1.3115959151275915,
          0.7137992765039098,
          0.7009152885334061,
          1.458016833403529,
          0.9567627794725087,
          0.9585023508912945,
          0.8344148660047191,
          1.1431523401363477,
          0.5162232558773763,
          0.7145426155012092,
          0.5580203472287601,
          1.0835805783916204,
          1.4452616683739947,
          0.6691504706799377,
          0.579539494231808,
          1.1158573673937666,
          1.3985143467891459,
          1.0485857953682687,
          1.4936360230451275,
          1.134021680508409,
          2.5562716945705874,
          1.2170889857498874,
          1.463540145287971,
          0.9733980492197427,
          0.6414999273148058,
          1.023903685793368,
          0.8949218093675543,
          1.326607150857774,
          1.1325651820055729,
          0.7370665626444208,
          0.644338541466535,
          1.062278575691221,
          1.4250151271509504,
          1.2473648971361984,
          1.3853357439313163,
          0.9219888764685609,
          1.3745707076319285,
          0.5140668402627039,
          0.7094745394386249,
          0.7471141192531126,
          0.5212623941565456,
          0.7559715076046171,
          0.6020338015661377,
          0.9406473370249602,
          0.8402853462531452,
          0.8960816279062258,
          0.5640751336133921,
          2.7892939502314675,
          0.5002216075797867,
          0.9269196764989132,
          0.9402406155459857,
          1.1660623229921567,
          1.1982508391174835,
          0.8417382018424379,
          0.5139221797633847,
          0.8985971650257646,
          0.6696850701866829,
          1.2660825656603698,
          0.9838818618415666,
          0.7599017783496134,
          1.1606587233103922,
          1.4374772905661954,
          1.1566499424750227,
          1.668170029052006,
          1.4931983687843002,
          0.9676222053831218,
          0.8971134422112766,
          2.3716955253969516,
          0.6851760306290468,
          1.1932617298553492,
          1.3839174686583147,
          0.7218068902567474,
          1.1982493952276765,
          0.8509714131394785,
          1.4381296877955707,
          1.0536401361126182,
          0.9298495794744206,
          1.339570083132214,
          0.5693689645927361,
          0.5431342204177351,
          0.7600113807772949,
          1.0387518392858894,
          1.2705997394587465,
          0.7304499955885502,
          0.7888903930667646,
          0.6203273107411446,
          0.8410215616193092,
          1.0564829051797906,
          1.4057403486308058,
          0.6933666225393788,
          1.2920428519387195,
          0.9906548878834,
          1.9577110003267681,
          1.4324311959610314,
          3.156213481229048,
          0.5446628602074798,
          1.2777503349934656,
          1.3146883135956262,
          1.1030764814093632,
          0.6744603813270875,
          1.1602275445617718,
          0.6421526650415389,
          1.461834327109663,
          1.4102728203111519,
          1.0055436590636804,
          0.7775622119230011,
          1.3669243436109508,
          0.8583316566887815,
          0.6653534855844953,
          1.4440166012536126,
          0.6896313885076205,
          0.7359282105099588,
          1.3256485897815518,
          0.7756780256044582,
          0.5760514191136242,
          0.9750107903294125,
          1.0288707895555131,
          1.0078096954096512,
          1.2747588858189793,
          0.725231152714648,
          0.5941587940767717,
          2.306306814104902,
          1.217463198325313,
          1.1017295445163526,
          1.1006643737132946,
          1.3723155059595458,
          1.1253536260488006,
          1.046383317729763,
          1.4275516923127594,
          1.3178540837116723,
          1.3372819339208002,
          0.7648855383989158,
          0.6019446920050642,
          0.7415675223673316,
          1.423695513177165,
          0.6508464709203589,
          0.5137836003250235,
          0.7984701065686247,
          1.296248616748466,
          0.5149533348549858,
          0.9126681910210388,
          1.1165590735313229,
          1.4032628588263723,
          1.109506814483459,
          1.0535682208385484,
          0.9499273169175604,
          0.9862425216421906,
          1.175499619842471,
          1.3304323074139313,
          0.6385539731660355,
          0.9364669289151984,
          0.7425095735894243,
          0.5351935630755149,
          0.7901785772023247,
          0.576413145426744,
          0.5400927367316921,
          0.9418367700787041,
          1.2049616709441247,
          1.0209964729977457,
          1.336530573542607,
          0.7916681692964342,
          1.4697034217345548,
          1.2934765766503031,
          0.5068393598739613,
          1.2655510010990936,
          1.1418718552043554,
          0.7404015463618286,
          1.1932196045685568,
          1.2881303799547255,
          0.543694431720904,
          0.7562927575828514,
          1.1619879116647358,
          1.3829378647193993,
          0.979155204353605,
          0.8556931080782919,
          0.5495258933681291,
          0.845065726364167,
          0.6400031424560284,
          0.6572936447016603,
          0.7287519973029145,
          1.1237028758648795,
          1.388779183232121,
          1.3193765123415129,
          0.500334975422669,
          0.9302124783743669,
          1.4025019035910864,
          1.8556574834250763,
          3.9085259578423432,
          1.2369494281998947,
          7.639843709027993,
          0.6204965594852554,
          3.736902753076201,
          1.309712719101512,
          0.9492973884294958,
          0.6672295068209307,
          0.9446620422766767,
          0.8014801134134595,
          1.4255110722053241,
          3.2973247052250345,
          0.846243945240975,
          1.0859768645526375,
          0.8758283721340768,
          0.8315822087563733,
          0.8936101738379366,
          2.4049210876382325,
          1.2138418732166703,
          0.8904830134869139,
          2.1288225665831626,
          0.9229820147810723,
          1.0111289674799433,
          1.3101022666205266,
          0.6478527551217923,
          1.2995635833539367,
          0.8681844290769534,
          2.272831675437813,
          1.1841563091687735,
          0.9699872747785115,
          1.2270532754492869,
          1.3492515584481986,
          1.3388315327299072,
          1.8245224125269426,
          0.9094837718448175,
          0.8990584384915913,
          0.9601922666256597,
          1.235792697802796,
          0.950792475703622,
          0.5889662440032745,
          1.3959861069740958,
          1.2791041880143075,
          1.2520925867837143,
          0.6857934945533977,
          1.45963155102236,
          1.1273567528697312,
          1.0122828033265048,
          1.113512710626134,
          1.4073127493739004,
          1.4257957727280477,
          0.8939769478444101,
          0.5973372267046415,
          0.5235223816671306,
          1.1545243169014037,
          1.493854529498455,
          1.1266823347668273,
          1.2588749769773453,
          1.4368132544494232,
          0.7181872891277639,
          1.8966821724127325,
          1.5659021932291055,
          1.275285334761041,
          0.5998265461326762,
          0.6462703715445531,
          0.8402618967911182,
          0.850753772276888,
          1.134691553353034,
          0.6920807379840823,
          1.4549948713088512,
          0.9270193021266543,
          1.4076504112579618,
          1.6027179467595554,
          0.566157308920992,
          0.697958484193848,
          1.480500751053016,
          1.2312469702316846,
          1.1080469445549568,
          1.3371556784172605,
          1.4585213184884136,
          0.5028366955357623,
          0.8661025357992849,
          2.1953720719298033,
          1.5814629665229696,
          2.0312181003140983,
          2.250141510640969,
          3.347435275211719,
          3.5841344389561938,
          7.735338467957195,
          7.413896411828504,
          5.0647436856268016,
          4.913585188689867,
          1.9660755300630983,
          9.152574941282706,
          1.9356401420837157,
          1.1538232590669542,
          1.2360020509644618,
          1.0419095227487147,
          0.5502164769436986,
          1.190232232166938,
          1.225948980655318,
          0.6770453816766886,
          0.9287495485863582,
          1.2009080555642648,
          1.083121776203304,
          0.6604129114266774,
          1.299338729161137,
          1.1733589021298578,
          0.5485852010367941,
          0.5941005544802702,
          1.010328319253902,
          1.1233229167034628,
          1.1556077234880922,
          0.7644451848671092,
          1.4535612264395923,
          0.7187730699333723,
          1.1587883423134437,
          1.3741551381658534,
          0.7924995915810515,
          1.3658730999623212,
          0.7887316573248677,
          1.470258760396498,
          0.7217196179390807,
          1.481722480201186,
          1.3654114891522156,
          1.4164397660664356,
          0.6400316665925536,
          1.3689890080866849,
          0.7693305295535073,
          0.8912180252925108,
          0.8226969323755047,
          1.1168812521188403,
          0.9771246255836089,
          0.5230781095198352,
          1.469830256313829,
          1.3895398038425442,
          1.1473355622892178,
          0.830969523897005,
          1.1667604229997233,
          1.097923454382373,
          2.11697504378784,
          0.6147245961474109,
          0.861705274120903,
          0.7557801358051559,
          1.1279186981075005,
          0.6670025278601653,
          0.9751006005366769,
          1.4911812509329048,
          1.3114136322515124,
          1.0046984730092159,
          0.8644226629945212,
          0.6009855591837192,
          0.7640266093958035,
          0.6285392468052355,
          0.6933140557717024,
          0.8880392997502607,
          0.845824466066305,
          0.5097567448886756,
          0.9991355654983228,
          0.7424757778336039,
          1.232355407346087,
          1.1610212367015995,
          1.131152947544283,
          1.4295375583371677,
          0.7057220516106385,
          1.0917907824172746,
          0.5721560907628002,
          0.7108944618986275,
          1.1911460940301615,
          1.0627042561639652,
          2.1936787224622734,
          1.8268392219008016,
          0.8586438955659527,
          0.6741829934035394,
          0.6204778074581293,
          0.7342094463716144,
          1.3104848767734227,
          0.7600691312859597,
          1.8925233674658002,
          1.4944565591712982,
          0.7416345371238464,
          1.3550194552356838,
          0.5173395960648791,
          0.7919793574993799,
          0.6664713468002732,
          0.6253145044796365,
          0.8717617533754358,
          1.08918802147209,
          1.2448104499451966,
          1.3881107538407134,
          0.5628827266099837,
          0.5762984807578682,
          1.2066179547403475,
          0.5101824904137761,
          1.1700859840370477,
          0.6108593838444063,
          0.8497464298609538,
          0.834393015731382,
          1.1516132895391973,
          0.7715314194104219,
          0.7029084031853299,
          1.1216914142198218,
          1.1602537911914603,
          1.161250651253471,
          0.8597809680615018,
          0.8467229650386933,
          0.8593629188153785,
          1.0400336270023895,
          1.0695078279970671,
          0.8223466582594199,
          0.5286998665855707,
          0.9157931080553768,
          0.5863590078779712,
          1.363282542535614,
          0.9272416575957508,
          0.930674760144735,
          1.0672414954831864,
          1.1978706284561027,
          1.1295525302394063,
          0.524233589619558,
          1.3715862582007912,
          1.0902940890360082,
          1.3146422460338005,
          0.9023330120615358,
          0.902411447611991,
          1.0895642375530241,
          0.5477865311980097,
          1.2234978389904723,
          0.7467585482327284,
          1.3177757042800065,
          0.5003724336850899,
          0.5349314521900741,
          1.2784535522516385,
          1.4160376338277687,
          1.1101486929224487,
          1.4221140335081977,
          1.2689316956873893,
          0.7715822712076835,
          1.4942930904271257,
          0.6954859739434318,
          1.2429785461293954,
          0.6969513243891398,
          1.140852566759807,
          0.6542894317085712,
          1.4473951201572492,
          2.0688069102124693,
          0.7046559081023337,
          1.0356688090415669,
          1.1803269611195075,
          0.7762516435730968,
          1.191549931981112,
          0.5975028861382395,
          1.4088561306081966,
          2.1271422521679373,
          0.8561282088616333,
          1.3334750205751167,
          2.483893572642569,
          0.5115149484933854,
          1.010334909326327,
          1.0933437628080513,
          0.6298281081113729,
          1.404993556090813,
          1.3479613195570106,
          0.6390890179216099,
          1.1762073088517226,
          0.9234041492145366,
          0.9603614633469073,
          0.8614326379551214,
          0.5754016516426838,
          0.7643509319857821,
          2.40177367431804,
          0.9340462585550673,
          1.0592112257745734,
          0.6036394458707794,
          0.9022316683067587,
          0.9291514995443066,
          0.920847507785242,
          1.471160706960947,
          0.8193519835493964,
          1.4651928427444147,
          1.3373975015973891,
          1.3239976347791813,
          0.7868665316112673,
          1.0980684249937318,
          1.4627101500867323,
          0.6086203177543617,
          0.9006141123896909,
          0.6930081246201336,
          1.4610512965039468,
          0.8834202937527237,
          1.222455887312626,
          1.5070282453228268,
          1.045086037231533,
          0.6259889147155224,
          1.1604748508849096,
          0.9748636981756035,
          1.3888387341464727,
          1.3575692764623697,
          1.0907346762356218,
          0.6525938371529036,
          1.2542801400593047,
          1.400468351640457,
          1.009496034448228,
          0.9289339994402029,
          1.2455306726207347,
          1.1600064741745195,
          1.1942019356123499,
          0.922114228434046,
          0.6995716726660229,
          1.2447712498719792,
          1.1883484522222751,
          1.168867252526955,
          0.9043906851294007,
          1.687449114439608,
          0.515382605846608,
          1.3688787087911027,
          1.3107881549245812,
          0.5811383606230852,
          0.7613311885495266,
          1.4925563539764717,
          1.0851935810459987,
          0.5844875140134157,
          0.5346281235976788,
          1.0143205762418517,
          0.8899331077763389,
          0.7099335485131214,
          1.4999508317378645,
          1.3674260208749436,
          0.5614348074342129,
          1.8402972567816342,
          1.10403173911921,
          1.868631035728483,
          0.9025774919040688,
          0.7222950231179793,
          1.3912905410997265,
          1.3316403230788463
         ],
         "yaxis": "y"
        }
       ],
       "layout": {
        "coloraxis": {
         "colorbar": {
          "title": {
           "text": "Numbers"
          }
         },
         "colorscale": [
          [
           0,
           "rgb(5,48,97)"
          ],
          [
           0.1,
           "rgb(33,102,172)"
          ],
          [
           0.2,
           "rgb(67,147,195)"
          ],
          [
           0.3,
           "rgb(146,197,222)"
          ],
          [
           0.4,
           "rgb(209,229,240)"
          ],
          [
           0.5,
           "rgb(247,247,247)"
          ],
          [
           0.6,
           "rgb(253,219,199)"
          ],
          [
           0.7,
           "rgb(244,165,130)"
          ],
          [
           0.8,
           "rgb(214,96,77)"
          ],
          [
           0.9,
           "rgb(178,24,43)"
          ],
          [
           1,
           "rgb(103,0,31)"
          ]
         ]
        },
        "height": 600,
        "legend": {
         "itemsizing": "constant",
         "tracegroupgap": 0
        },
        "margin": {
         "t": 60
        },
        "template": {
         "data": {
          "bar": [
           {
            "error_x": {
             "color": "#2a3f5f"
            },
            "error_y": {
             "color": "#2a3f5f"
            },
            "marker": {
             "line": {
              "color": "white",
              "width": 0.5
             },
             "pattern": {
              "fillmode": "overlay",
              "size": 10,
              "solidity": 0.2
             }
            },
            "type": "bar"
           }
          ],
          "barpolar": [
           {
            "marker": {
             "line": {
              "color": "white",
              "width": 0.5
             },
             "pattern": {
              "fillmode": "overlay",
              "size": 10,
              "solidity": 0.2
             }
            },
            "type": "barpolar"
           }
          ],
          "carpet": [
           {
            "aaxis": {
             "endlinecolor": "#2a3f5f",
             "gridcolor": "#C8D4E3",
             "linecolor": "#C8D4E3",
             "minorgridcolor": "#C8D4E3",
             "startlinecolor": "#2a3f5f"
            },
            "baxis": {
             "endlinecolor": "#2a3f5f",
             "gridcolor": "#C8D4E3",
             "linecolor": "#C8D4E3",
             "minorgridcolor": "#C8D4E3",
             "startlinecolor": "#2a3f5f"
            },
            "type": "carpet"
           }
          ],
          "choropleth": [
           {
            "colorbar": {
             "outlinewidth": 0,
             "ticks": ""
            },
            "type": "choropleth"
           }
          ],
          "contour": [
           {
            "colorbar": {
             "outlinewidth": 0,
             "ticks": ""
            },
            "colorscale": [
             [
              0,
              "#0d0887"
             ],
             [
              0.1111111111111111,
              "#46039f"
             ],
             [
              0.2222222222222222,
              "#7201a8"
             ],
             [
              0.3333333333333333,
              "#9c179e"
             ],
             [
              0.4444444444444444,
              "#bd3786"
             ],
             [
              0.5555555555555556,
              "#d8576b"
             ],
             [
              0.6666666666666666,
              "#ed7953"
             ],
             [
              0.7777777777777778,
              "#fb9f3a"
             ],
             [
              0.8888888888888888,
              "#fdca26"
             ],
             [
              1,
              "#f0f921"
             ]
            ],
            "type": "contour"
           }
          ],
          "contourcarpet": [
           {
            "colorbar": {
             "outlinewidth": 0,
             "ticks": ""
            },
            "type": "contourcarpet"
           }
          ],
          "heatmap": [
           {
            "colorbar": {
             "outlinewidth": 0,
             "ticks": ""
            },
            "colorscale": [
             [
              0,
              "#0d0887"
             ],
             [
              0.1111111111111111,
              "#46039f"
             ],
             [
              0.2222222222222222,
              "#7201a8"
             ],
             [
              0.3333333333333333,
              "#9c179e"
             ],
             [
              0.4444444444444444,
              "#bd3786"
             ],
             [
              0.5555555555555556,
              "#d8576b"
             ],
             [
              0.6666666666666666,
              "#ed7953"
             ],
             [
              0.7777777777777778,
              "#fb9f3a"
             ],
             [
              0.8888888888888888,
              "#fdca26"
             ],
             [
              1,
              "#f0f921"
             ]
            ],
            "type": "heatmap"
           }
          ],
          "heatmapgl": [
           {
            "colorbar": {
             "outlinewidth": 0,
             "ticks": ""
            },
            "colorscale": [
             [
              0,
              "#0d0887"
             ],
             [
              0.1111111111111111,
              "#46039f"
             ],
             [
              0.2222222222222222,
              "#7201a8"
             ],
             [
              0.3333333333333333,
              "#9c179e"
             ],
             [
              0.4444444444444444,
              "#bd3786"
             ],
             [
              0.5555555555555556,
              "#d8576b"
             ],
             [
              0.6666666666666666,
              "#ed7953"
             ],
             [
              0.7777777777777778,
              "#fb9f3a"
             ],
             [
              0.8888888888888888,
              "#fdca26"
             ],
             [
              1,
              "#f0f921"
             ]
            ],
            "type": "heatmapgl"
           }
          ],
          "histogram": [
           {
            "marker": {
             "pattern": {
              "fillmode": "overlay",
              "size": 10,
              "solidity": 0.2
             }
            },
            "type": "histogram"
           }
          ],
          "histogram2d": [
           {
            "colorbar": {
             "outlinewidth": 0,
             "ticks": ""
            },
            "colorscale": [
             [
              0,
              "#0d0887"
             ],
             [
              0.1111111111111111,
              "#46039f"
             ],
             [
              0.2222222222222222,
              "#7201a8"
             ],
             [
              0.3333333333333333,
              "#9c179e"
             ],
             [
              0.4444444444444444,
              "#bd3786"
             ],
             [
              0.5555555555555556,
              "#d8576b"
             ],
             [
              0.6666666666666666,
              "#ed7953"
             ],
             [
              0.7777777777777778,
              "#fb9f3a"
             ],
             [
              0.8888888888888888,
              "#fdca26"
             ],
             [
              1,
              "#f0f921"
             ]
            ],
            "type": "histogram2d"
           }
          ],
          "histogram2dcontour": [
           {
            "colorbar": {
             "outlinewidth": 0,
             "ticks": ""
            },
            "colorscale": [
             [
              0,
              "#0d0887"
             ],
             [
              0.1111111111111111,
              "#46039f"
             ],
             [
              0.2222222222222222,
              "#7201a8"
             ],
             [
              0.3333333333333333,
              "#9c179e"
             ],
             [
              0.4444444444444444,
              "#bd3786"
             ],
             [
              0.5555555555555556,
              "#d8576b"
             ],
             [
              0.6666666666666666,
              "#ed7953"
             ],
             [
              0.7777777777777778,
              "#fb9f3a"
             ],
             [
              0.8888888888888888,
              "#fdca26"
             ],
             [
              1,
              "#f0f921"
             ]
            ],
            "type": "histogram2dcontour"
           }
          ],
          "mesh3d": [
           {
            "colorbar": {
             "outlinewidth": 0,
             "ticks": ""
            },
            "type": "mesh3d"
           }
          ],
          "parcoords": [
           {
            "line": {
             "colorbar": {
              "outlinewidth": 0,
              "ticks": ""
             }
            },
            "type": "parcoords"
           }
          ],
          "pie": [
           {
            "automargin": true,
            "type": "pie"
           }
          ],
          "scatter": [
           {
            "fillpattern": {
             "fillmode": "overlay",
             "size": 10,
             "solidity": 0.2
            },
            "type": "scatter"
           }
          ],
          "scatter3d": [
           {
            "line": {
             "colorbar": {
              "outlinewidth": 0,
              "ticks": ""
             }
            },
            "marker": {
             "colorbar": {
              "outlinewidth": 0,
              "ticks": ""
             }
            },
            "type": "scatter3d"
           }
          ],
          "scattercarpet": [
           {
            "marker": {
             "colorbar": {
              "outlinewidth": 0,
              "ticks": ""
             }
            },
            "type": "scattercarpet"
           }
          ],
          "scattergeo": [
           {
            "marker": {
             "colorbar": {
              "outlinewidth": 0,
              "ticks": ""
             }
            },
            "type": "scattergeo"
           }
          ],
          "scattergl": [
           {
            "marker": {
             "colorbar": {
              "outlinewidth": 0,
              "ticks": ""
             }
            },
            "type": "scattergl"
           }
          ],
          "scattermapbox": [
           {
            "marker": {
             "colorbar": {
              "outlinewidth": 0,
              "ticks": ""
             }
            },
            "type": "scattermapbox"
           }
          ],
          "scatterpolar": [
           {
            "marker": {
             "colorbar": {
              "outlinewidth": 0,
              "ticks": ""
             }
            },
            "type": "scatterpolar"
           }
          ],
          "scatterpolargl": [
           {
            "marker": {
             "colorbar": {
              "outlinewidth": 0,
              "ticks": ""
             }
            },
            "type": "scatterpolargl"
           }
          ],
          "scatterternary": [
           {
            "marker": {
             "colorbar": {
              "outlinewidth": 0,
              "ticks": ""
             }
            },
            "type": "scatterternary"
           }
          ],
          "surface": [
           {
            "colorbar": {
             "outlinewidth": 0,
             "ticks": ""
            },
            "colorscale": [
             [
              0,
              "#0d0887"
             ],
             [
              0.1111111111111111,
              "#46039f"
             ],
             [
              0.2222222222222222,
              "#7201a8"
             ],
             [
              0.3333333333333333,
              "#9c179e"
             ],
             [
              0.4444444444444444,
              "#bd3786"
             ],
             [
              0.5555555555555556,
              "#d8576b"
             ],
             [
              0.6666666666666666,
              "#ed7953"
             ],
             [
              0.7777777777777778,
              "#fb9f3a"
             ],
             [
              0.8888888888888888,
              "#fdca26"
             ],
             [
              1,
              "#f0f921"
             ]
            ],
            "type": "surface"
           }
          ],
          "table": [
           {
            "cells": {
             "fill": {
              "color": "#EBF0F8"
             },
             "line": {
              "color": "white"
             }
            },
            "header": {
             "fill": {
              "color": "#C8D4E3"
             },
             "line": {
              "color": "white"
             }
            },
            "type": "table"
           }
          ]
         },
         "layout": {
          "annotationdefaults": {
           "arrowcolor": "#2a3f5f",
           "arrowhead": 0,
           "arrowwidth": 1
          },
          "autotypenumbers": "strict",
          "coloraxis": {
           "colorbar": {
            "outlinewidth": 0,
            "ticks": ""
           }
          },
          "colorscale": {
           "diverging": [
            [
             0,
             "#8e0152"
            ],
            [
             0.1,
             "#c51b7d"
            ],
            [
             0.2,
             "#de77ae"
            ],
            [
             0.3,
             "#f1b6da"
            ],
            [
             0.4,
             "#fde0ef"
            ],
            [
             0.5,
             "#f7f7f7"
            ],
            [
             0.6,
             "#e6f5d0"
            ],
            [
             0.7,
             "#b8e186"
            ],
            [
             0.8,
             "#7fbc41"
            ],
            [
             0.9,
             "#4d9221"
            ],
            [
             1,
             "#276419"
            ]
           ],
           "sequential": [
            [
             0,
             "#0d0887"
            ],
            [
             0.1111111111111111,
             "#46039f"
            ],
            [
             0.2222222222222222,
             "#7201a8"
            ],
            [
             0.3333333333333333,
             "#9c179e"
            ],
            [
             0.4444444444444444,
             "#bd3786"
            ],
            [
             0.5555555555555556,
             "#d8576b"
            ],
            [
             0.6666666666666666,
             "#ed7953"
            ],
            [
             0.7777777777777778,
             "#fb9f3a"
            ],
            [
             0.8888888888888888,
             "#fdca26"
            ],
            [
             1,
             "#f0f921"
            ]
           ],
           "sequentialminus": [
            [
             0,
             "#0d0887"
            ],
            [
             0.1111111111111111,
             "#46039f"
            ],
            [
             0.2222222222222222,
             "#7201a8"
            ],
            [
             0.3333333333333333,
             "#9c179e"
            ],
            [
             0.4444444444444444,
             "#bd3786"
            ],
            [
             0.5555555555555556,
             "#d8576b"
            ],
            [
             0.6666666666666666,
             "#ed7953"
            ],
            [
             0.7777777777777778,
             "#fb9f3a"
            ],
            [
             0.8888888888888888,
             "#fdca26"
            ],
            [
             1,
             "#f0f921"
            ]
           ]
          },
          "colorway": [
           "#636efa",
           "#EF553B",
           "#00cc96",
           "#ab63fa",
           "#FFA15A",
           "#19d3f3",
           "#FF6692",
           "#B6E880",
           "#FF97FF",
           "#FECB52"
          ],
          "font": {
           "color": "#2a3f5f"
          },
          "geo": {
           "bgcolor": "white",
           "lakecolor": "white",
           "landcolor": "white",
           "showlakes": true,
           "showland": true,
           "subunitcolor": "#C8D4E3"
          },
          "hoverlabel": {
           "align": "left"
          },
          "hovermode": "closest",
          "mapbox": {
           "style": "light"
          },
          "paper_bgcolor": "white",
          "plot_bgcolor": "white",
          "polar": {
           "angularaxis": {
            "gridcolor": "#EBF0F8",
            "linecolor": "#EBF0F8",
            "ticks": ""
           },
           "bgcolor": "white",
           "radialaxis": {
            "gridcolor": "#EBF0F8",
            "linecolor": "#EBF0F8",
            "ticks": ""
           }
          },
          "scene": {
           "xaxis": {
            "backgroundcolor": "white",
            "gridcolor": "#DFE8F3",
            "gridwidth": 2,
            "linecolor": "#EBF0F8",
            "showbackground": true,
            "ticks": "",
            "zerolinecolor": "#EBF0F8"
           },
           "yaxis": {
            "backgroundcolor": "white",
            "gridcolor": "#DFE8F3",
            "gridwidth": 2,
            "linecolor": "#EBF0F8",
            "showbackground": true,
            "ticks": "",
            "zerolinecolor": "#EBF0F8"
           },
           "zaxis": {
            "backgroundcolor": "white",
            "gridcolor": "#DFE8F3",
            "gridwidth": 2,
            "linecolor": "#EBF0F8",
            "showbackground": true,
            "ticks": "",
            "zerolinecolor": "#EBF0F8"
           }
          },
          "shapedefaults": {
           "line": {
            "color": "#2a3f5f"
           }
          },
          "ternary": {
           "aaxis": {
            "gridcolor": "#DFE8F3",
            "linecolor": "#A2B1C6",
            "ticks": ""
           },
           "baxis": {
            "gridcolor": "#DFE8F3",
            "linecolor": "#A2B1C6",
            "ticks": ""
           },
           "bgcolor": "white",
           "caxis": {
            "gridcolor": "#DFE8F3",
            "linecolor": "#A2B1C6",
            "ticks": ""
           }
          },
          "title": {
           "x": 0.05
          },
          "xaxis": {
           "automargin": true,
           "gridcolor": "#EBF0F8",
           "linecolor": "#EBF0F8",
           "ticks": "",
           "title": {
            "standoff": 15
           },
           "zerolinecolor": "#EBF0F8",
           "zerolinewidth": 2
          },
          "yaxis": {
           "automargin": true,
           "gridcolor": "#EBF0F8",
           "linecolor": "#EBF0F8",
           "ticks": "",
           "title": {
            "standoff": 15
           },
           "zerolinecolor": "#EBF0F8",
           "zerolinewidth": 2
          }
         }
        },
        "width": 1000,
        "xaxis": {
         "anchor": "y",
         "domain": [
          0,
          1
         ],
         "title": {
          "font": {
           "size": 18
          },
          "text": "Years"
         }
        },
        "yaxis": {
         "anchor": "x",
         "domain": [
          0,
          1
         ],
         "title": {
          "font": {
           "size": 18
          },
          "text": "Number"
         }
        }
       }
      }
     },
     "metadata": {},
     "output_type": "display_data"
    }
   ],
   "source": [
    "import plotly.express as px\n",
    "import pandas as pd\n",
    "import numpy as np\n",
    "\n",
    "df = pd.read_csv('Mt_keywords_counts_year.csv')\n",
    "\n",
    "# df的count列转为float类型\n",
    "df['Count'] = df['Count'].astype(float)\n",
    "df['Counts'] = df['Count'] + np.random.uniform(-0.5, 0.5, size=len(df))\n",
    "df['Years'] = df['Year'] + np.random.uniform(-0.3, 0.3, size=len(df))\n",
    "\n",
    "fig = px.scatter(df, \n",
    "                 x='Years', \n",
    "                 y='Counts', \n",
    "                 size='Count',\n",
    "                 color='Count',\n",
    "                 hover_name='Keyword',  # 使用关键词作为悬浮名称\n",
    "                 hover_data=['Year', 'Count'],  \n",
    "                 size_max=20,\n",
    "                 title='',\n",
    "                 labels={\"Count\": \"Numbers\", \"Year\": \"Years\"},\n",
    "                 color_continuous_scale=\"Rdbu_r\",\n",
    "                )\n",
    "\n",
    "fig.update_layout(\n",
    "    template=\"plotly_white\",\n",
    "    width=1000,\n",
    "    height=600,\n",
    "    xaxis=dict(title=dict(text='Years', font=dict(size=18))),\n",
    "    yaxis=dict(title=dict(text='Number', font=dict(size=18)),\n",
    "    )\n",
    ")\n",
    "\n",
    "\n",
    "fig.show()"
   ]
  },
  {
   "cell_type": "code",
   "execution_count": 3,
   "metadata": {},
   "outputs": [],
   "source": [
    "import pandas as pd\n",
    "from collections import Counter\n",
    "import json\n",
    "import re"
   ]
  },
  {
   "cell_type": "code",
   "execution_count": 4,
   "metadata": {},
   "outputs": [],
   "source": [
    "# 读取csv数据\n",
    "data = pd.read_csv(\"./Mt_paper_all.csv\").copy()"
   ]
  },
  {
   "cell_type": "code",
   "execution_count": 5,
   "metadata": {},
   "outputs": [
    {
     "data": {
      "text/html": [
       "<div>\n",
       "<style scoped>\n",
       "    .dataframe tbody tr th:only-of-type {\n",
       "        vertical-align: middle;\n",
       "    }\n",
       "\n",
       "    .dataframe tbody tr th {\n",
       "        vertical-align: top;\n",
       "    }\n",
       "\n",
       "    .dataframe thead th {\n",
       "        text-align: right;\n",
       "    }\n",
       "</style>\n",
       "<table border=\"1\" class=\"dataframe\">\n",
       "  <thead>\n",
       "    <tr style=\"text-align: right;\">\n",
       "      <th></th>\n",
       "      <th>PMID</th>\n",
       "      <th>Author</th>\n",
       "      <th>Title</th>\n",
       "      <th>Abstract</th>\n",
       "      <th>Keywords</th>\n",
       "      <th>Journal</th>\n",
       "      <th>Institution</th>\n",
       "      <th>Country</th>\n",
       "      <th>DOI</th>\n",
       "      <th>Publication Year</th>\n",
       "    </tr>\n",
       "  </thead>\n",
       "  <tbody>\n",
       "    <tr>\n",
       "      <th>0</th>\n",
       "      <td>25025273</td>\n",
       "      <td>['Singh, Bijender']</td>\n",
       "      <td>Myceliophthora thermophila syn. Sporotrichum t...</td>\n",
       "      <td>Myceliophthora thermophila syn. Sporotrichum t...</td>\n",
       "      <td>Biomolecules, Myceliophthora thermophila, Spor...</td>\n",
       "      <td>Critical reviews in biotechnology</td>\n",
       "      <td>a Laboratory of Bioprocess Technology, Departm...</td>\n",
       "      <td>India</td>\n",
       "      <td>10.3109/07388551.2014.923985</td>\n",
       "      <td>2016</td>\n",
       "    </tr>\n",
       "    <tr>\n",
       "      <th>1</th>\n",
       "      <td>32640074</td>\n",
       "      <td>['Dos Santos Gomes, A C', 'Casciatori, F P', '...</td>\n",
       "      <td>Growth kinetics of Myceliophthora thermophila ...</td>\n",
       "      <td>AIMS: This work aimed to estimate the growth o...</td>\n",
       "      <td>N-acetylglucosamine, enzymes, growth kinetics,...</td>\n",
       "      <td>Journal of applied microbiology</td>\n",
       "      <td>Instituto de Biociencias, Letras e Ciencias Ex...</td>\n",
       "      <td>Brazil</td>\n",
       "      <td>10.1111/jam.14774</td>\n",
       "      <td>2021</td>\n",
       "    </tr>\n",
       "    <tr>\n",
       "      <th>2</th>\n",
       "      <td>24995002</td>\n",
       "      <td>['Karnaouri, Anthi', 'Topakas, Evangelos', 'An...</td>\n",
       "      <td>Genomic insights into the fungal lignocellulol...</td>\n",
       "      <td>The microbial conversion of solid cellulosic b...</td>\n",
       "      <td>CAZy, Myceliophthora thermophila, biofuels, li...</td>\n",
       "      <td>Frontiers in microbiology</td>\n",
       "      <td>Biotechnology Laboratory, Department of Synthe...</td>\n",
       "      <td>Sweden</td>\n",
       "      <td>10.3389/fmicb.2014.00281</td>\n",
       "      <td>2014</td>\n",
       "    </tr>\n",
       "    <tr>\n",
       "      <th>3</th>\n",
       "      <td>35450635</td>\n",
       "      <td>['Sun, Peicheng', 'de Munnik, Melanie', 'van B...</td>\n",
       "      <td>Extending the diversity of Myceliophthora ther...</td>\n",
       "      <td>Lytic polysaccharide monooxygenases (LPMOs) pl...</td>\n",
       "      <td>Active site segment, LPMOs, Lignocellulose, Ma...</td>\n",
       "      <td>Carbohydrate polymers</td>\n",
       "      <td>Laboratory of Food Chemistry, Wageningen Unive...</td>\n",
       "      <td>the Netherlands. Electronic address: peicheng....</td>\n",
       "      <td>10.1016/j.carbpol.2022.119373</td>\n",
       "      <td>2022</td>\n",
       "    </tr>\n",
       "    <tr>\n",
       "      <th>4</th>\n",
       "      <td>31534479</td>\n",
       "      <td>['Dos Santos Gomes, Ana Carolina', 'Falkoski, ...</td>\n",
       "      <td>Myceliophthora thermophila Xyr1 is predominant...</td>\n",
       "      <td>BACKGROUND: Myceliophthora thermophila is a th...</td>\n",
       "      <td>Cellulose degradation, Myceliophthora thermoph...</td>\n",
       "      <td>Biotechnology for biofuels</td>\n",
       "      <td>1Fungal Physiology, Westerdijk Fungal Biodiver...</td>\n",
       "      <td>The Netherlands. ISNI: 0000000120346234. GRID:...</td>\n",
       "      <td>10.1186/s13068-019-1556-y</td>\n",
       "      <td>2019</td>\n",
       "    </tr>\n",
       "    <tr>\n",
       "      <th>...</th>\n",
       "      <td>...</td>\n",
       "      <td>...</td>\n",
       "      <td>...</td>\n",
       "      <td>...</td>\n",
       "      <td>...</td>\n",
       "      <td>...</td>\n",
       "      <td>...</td>\n",
       "      <td>...</td>\n",
       "      <td>...</td>\n",
       "      <td>...</td>\n",
       "    </tr>\n",
       "    <tr>\n",
       "      <th>245</th>\n",
       "      <td>24128582</td>\n",
       "      <td>['Aljawish, Abdulhadi', 'Chevalot, Isabelle', ...</td>\n",
       "      <td>Laccase-catalysed oxidation of ferulic acid an...</td>\n",
       "      <td>The enzymatic oxidation of ferulic acid (FA) a...</td>\n",
       "      <td>Antioxidant, Cytotoxicity, Dye, Enzymatic oxid...</td>\n",
       "      <td>Food chemistry</td>\n",
       "      <td>Laboratoire d'Ingenierie des Biomolecules (LIB...</td>\n",
       "      <td>France</td>\n",
       "      <td>10.1016/j.foodchem.2013.07.119</td>\n",
       "      <td>2014</td>\n",
       "    </tr>\n",
       "    <tr>\n",
       "      <th>253</th>\n",
       "      <td>30960948</td>\n",
       "      <td>['Su, Jing', 'Shim, Euijin', 'Noro, Jennifer',...</td>\n",
       "      <td>Conductive Cotton by In Situ Laccase-Polymeriz...</td>\n",
       "      <td>Conductive cotton fabrics were obtained via in...</td>\n",
       "      <td>1-hydroxybenzotriazol (HBT), coatings, conduct...</td>\n",
       "      <td>Polymers</td>\n",
       "      <td>International Joint Research Laboratory for Te...</td>\n",
       "      <td>China. jingsu@ceb.uminho.pt</td>\n",
       "      <td>10.3390/polym10091023</td>\n",
       "      <td>2018</td>\n",
       "    </tr>\n",
       "    <tr>\n",
       "      <th>257</th>\n",
       "      <td>33807631</td>\n",
       "      <td>['Contato, Alex Graca', 'de Oliveira, Tassio B...</td>\n",
       "      <td>Prospection of Fungal Lignocellulolytic Enzyme...</td>\n",
       "      <td>The lignocellulosic biomass comprises three ma...</td>\n",
       "      <td>Hymenaea courbaril, Tamarindus indica, biopros...</td>\n",
       "      <td>Microorganisms</td>\n",
       "      <td>Departamento de Bioquimica e Imunologia, Facul...</td>\n",
       "      <td>Brazil</td>\n",
       "      <td>10.3390/microorganisms9030533</td>\n",
       "      <td>2021</td>\n",
       "    </tr>\n",
       "    <tr>\n",
       "      <th>263</th>\n",
       "      <td>36866191</td>\n",
       "      <td>['Bampidis, Vasileios', 'Azimonti, Giovanna', ...</td>\n",
       "      <td>Safety and efficacy of a feed additive consist...</td>\n",
       "      <td>Following a request from the European Commissi...</td>\n",
       "      <td>Natupulse(R), digestibility enhancers, efficac...</td>\n",
       "      <td>EFSA journal. European Food Safety Authority</td>\n",
       "      <td>?</td>\n",
       "      <td>NaN</td>\n",
       "      <td>10.2903/j.efsa.2023.7873</td>\n",
       "      <td>2023</td>\n",
       "    </tr>\n",
       "    <tr>\n",
       "      <th>264</th>\n",
       "      <td>37164048</td>\n",
       "      <td>['Goncalves, Aline Larissa', 'Cunha, Paula Mac...</td>\n",
       "      <td>Production of recombinant lytic polysaccharide...</td>\n",
       "      <td>Lignocellulosic biomass is a promising alterna...</td>\n",
       "      <td>Enzymes, Filamentous fungi, LPMO, Saccharifica...</td>\n",
       "      <td>Biochimica et biophysica acta. Proteins and pr...</td>\n",
       "      <td>Department of Biotechnology, Lorena School of ...</td>\n",
       "      <td>Brazil</td>\n",
       "      <td>10.1016/j.bbapap.2023.140919</td>\n",
       "      <td>2023</td>\n",
       "    </tr>\n",
       "  </tbody>\n",
       "</table>\n",
       "<p>153 rows × 10 columns</p>\n",
       "</div>"
      ],
      "text/plain": [
       "         PMID                                             Author  \\\n",
       "0    25025273                                ['Singh, Bijender']   \n",
       "1    32640074  ['Dos Santos Gomes, A C', 'Casciatori, F P', '...   \n",
       "2    24995002  ['Karnaouri, Anthi', 'Topakas, Evangelos', 'An...   \n",
       "3    35450635  ['Sun, Peicheng', 'de Munnik, Melanie', 'van B...   \n",
       "4    31534479  ['Dos Santos Gomes, Ana Carolina', 'Falkoski, ...   \n",
       "..        ...                                                ...   \n",
       "245  24128582  ['Aljawish, Abdulhadi', 'Chevalot, Isabelle', ...   \n",
       "253  30960948  ['Su, Jing', 'Shim, Euijin', 'Noro, Jennifer',...   \n",
       "257  33807631  ['Contato, Alex Graca', 'de Oliveira, Tassio B...   \n",
       "263  36866191  ['Bampidis, Vasileios', 'Azimonti, Giovanna', ...   \n",
       "264  37164048  ['Goncalves, Aline Larissa', 'Cunha, Paula Mac...   \n",
       "\n",
       "                                                 Title  \\\n",
       "0    Myceliophthora thermophila syn. Sporotrichum t...   \n",
       "1    Growth kinetics of Myceliophthora thermophila ...   \n",
       "2    Genomic insights into the fungal lignocellulol...   \n",
       "3    Extending the diversity of Myceliophthora ther...   \n",
       "4    Myceliophthora thermophila Xyr1 is predominant...   \n",
       "..                                                 ...   \n",
       "245  Laccase-catalysed oxidation of ferulic acid an...   \n",
       "253  Conductive Cotton by In Situ Laccase-Polymeriz...   \n",
       "257  Prospection of Fungal Lignocellulolytic Enzyme...   \n",
       "263  Safety and efficacy of a feed additive consist...   \n",
       "264  Production of recombinant lytic polysaccharide...   \n",
       "\n",
       "                                              Abstract  \\\n",
       "0    Myceliophthora thermophila syn. Sporotrichum t...   \n",
       "1    AIMS: This work aimed to estimate the growth o...   \n",
       "2    The microbial conversion of solid cellulosic b...   \n",
       "3    Lytic polysaccharide monooxygenases (LPMOs) pl...   \n",
       "4    BACKGROUND: Myceliophthora thermophila is a th...   \n",
       "..                                                 ...   \n",
       "245  The enzymatic oxidation of ferulic acid (FA) a...   \n",
       "253  Conductive cotton fabrics were obtained via in...   \n",
       "257  The lignocellulosic biomass comprises three ma...   \n",
       "263  Following a request from the European Commissi...   \n",
       "264  Lignocellulosic biomass is a promising alterna...   \n",
       "\n",
       "                                              Keywords  \\\n",
       "0    Biomolecules, Myceliophthora thermophila, Spor...   \n",
       "1    N-acetylglucosamine, enzymes, growth kinetics,...   \n",
       "2    CAZy, Myceliophthora thermophila, biofuels, li...   \n",
       "3    Active site segment, LPMOs, Lignocellulose, Ma...   \n",
       "4    Cellulose degradation, Myceliophthora thermoph...   \n",
       "..                                                 ...   \n",
       "245  Antioxidant, Cytotoxicity, Dye, Enzymatic oxid...   \n",
       "253  1-hydroxybenzotriazol (HBT), coatings, conduct...   \n",
       "257  Hymenaea courbaril, Tamarindus indica, biopros...   \n",
       "263  Natupulse(R), digestibility enhancers, efficac...   \n",
       "264  Enzymes, Filamentous fungi, LPMO, Saccharifica...   \n",
       "\n",
       "                                               Journal  \\\n",
       "0                    Critical reviews in biotechnology   \n",
       "1                      Journal of applied microbiology   \n",
       "2                            Frontiers in microbiology   \n",
       "3                                Carbohydrate polymers   \n",
       "4                           Biotechnology for biofuels   \n",
       "..                                                 ...   \n",
       "245                                     Food chemistry   \n",
       "253                                           Polymers   \n",
       "257                                     Microorganisms   \n",
       "263       EFSA journal. European Food Safety Authority   \n",
       "264  Biochimica et biophysica acta. Proteins and pr...   \n",
       "\n",
       "                                           Institution  \\\n",
       "0    a Laboratory of Bioprocess Technology, Departm...   \n",
       "1    Instituto de Biociencias, Letras e Ciencias Ex...   \n",
       "2    Biotechnology Laboratory, Department of Synthe...   \n",
       "3    Laboratory of Food Chemistry, Wageningen Unive...   \n",
       "4    1Fungal Physiology, Westerdijk Fungal Biodiver...   \n",
       "..                                                 ...   \n",
       "245  Laboratoire d'Ingenierie des Biomolecules (LIB...   \n",
       "253  International Joint Research Laboratory for Te...   \n",
       "257  Departamento de Bioquimica e Imunologia, Facul...   \n",
       "263                                                  ?   \n",
       "264  Department of Biotechnology, Lorena School of ...   \n",
       "\n",
       "                                               Country  \\\n",
       "0                                                India   \n",
       "1                                               Brazil   \n",
       "2                                               Sweden   \n",
       "3    the Netherlands. Electronic address: peicheng....   \n",
       "4    The Netherlands. ISNI: 0000000120346234. GRID:...   \n",
       "..                                                 ...   \n",
       "245                                             France   \n",
       "253                        China. jingsu@ceb.uminho.pt   \n",
       "257                                             Brazil   \n",
       "263                                                NaN   \n",
       "264                                             Brazil   \n",
       "\n",
       "                                DOI  Publication Year  \n",
       "0      10.3109/07388551.2014.923985              2016  \n",
       "1                 10.1111/jam.14774              2021  \n",
       "2          10.3389/fmicb.2014.00281              2014  \n",
       "3     10.1016/j.carbpol.2022.119373              2022  \n",
       "4         10.1186/s13068-019-1556-y              2019  \n",
       "..                              ...               ...  \n",
       "245  10.1016/j.foodchem.2013.07.119              2014  \n",
       "253           10.3390/polym10091023              2018  \n",
       "257   10.3390/microorganisms9030533              2021  \n",
       "263        10.2903/j.efsa.2023.7873              2023  \n",
       "264    10.1016/j.bbapap.2023.140919              2023  \n",
       "\n",
       "[153 rows x 10 columns]"
      ]
     },
     "execution_count": 5,
     "metadata": {},
     "output_type": "execute_result"
    }
   ],
   "source": [
    "# 如果data_filter中的Keywords列有空值，就删除该行\n",
    "data.dropna(subset=['Keywords'], inplace=True)\n",
    "data"
   ]
  },
  {
   "cell_type": "code",
   "execution_count": null,
   "metadata": {},
   "outputs": [],
   "source": [
    "# data只保留title和keywords两列\n",
    "data_filter = data[['Keywords', 'Publication Year']]\n",
    "\n",
    "# 保存data_filter为csv\n",
    "data_filter.to_csv(\"./Mt_paper_filter.csv\", index=False)"
   ]
  },
  {
   "cell_type": "code",
   "execution_count": null,
   "metadata": {},
   "outputs": [],
   "source": [
    "import pandas as pd\n",
    "from collections import defaultdict\n",
    "import re\n",
    "\n",
    "# 函数用于检查是否是有效的关键词\n",
    "def is_valid_keyword(keyword):\n",
    "    # 这里我们使用正则表达式排除仅包含数字的字符串\n",
    "    # 并且确认关键词长度超过2\n",
    "    return re.match(r'^[A-Za-z\\s]+$', keyword) and len(keyword) > 2\n",
    "\n",
    "# 初始化一个defaultdict来存储关键词计数\n",
    "keywords_yearly_counts = defaultdict(lambda: defaultdict(int))\n",
    "\n",
    "# 遍历DataFrame的每一行\n",
    "for index, row in data_filter.iterrows():\n",
    "    year = row['Publication Year']\n",
    "    keywords = row['Keywords'].split(',')\n",
    "    \n",
    "    # 去除空格并统一格式\n",
    "    keywords = [keyword.strip().capitalize() for keyword in keywords if is_valid_keyword(keyword)]\n",
    "    \n",
    "    for keyword in keywords:\n",
    "        keywords_yearly_counts[keyword][year] += 1\n",
    "\n",
    "# 转换为DataFrame\n",
    "keywords_yearly_df = pd.DataFrame([\n",
    "    {'Keyword': keyword, 'Year': year, 'Count': count}\n",
    "    for keyword, years in keywords_yearly_counts.items()\n",
    "    for year, count in years.items()\n",
    "])\n",
    "\n",
    "# 排序并保存\n",
    "keywords_yearly_df = keywords_yearly_df.sort_values(by=[\"Keyword\", \"Year\"])\n",
    "keywords_yearly_df.to_csv('Mt_keywords_counts_year.csv', index=False)"
   ]
  }
 ],
 "metadata": {
  "kernelspec": {
   "display_name": "code",
   "language": "python",
   "name": "python3"
  },
  "language_info": {
   "codemirror_mode": {
    "name": "ipython",
    "version": 3
   },
   "file_extension": ".py",
   "mimetype": "text/x-python",
   "name": "python",
   "nbconvert_exporter": "python",
   "pygments_lexer": "ipython3",
   "version": "3.10.0"
  }
 },
 "nbformat": 4,
 "nbformat_minor": 2
}
