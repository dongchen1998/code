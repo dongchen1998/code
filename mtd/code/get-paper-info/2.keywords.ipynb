{
 "cells": [
  {
   "cell_type": "code",
   "execution_count": 6,
   "metadata": {},
   "outputs": [
    {
     "data": {
      "application/vnd.plotly.v1+json": {
       "config": {
        "plotlyServerURL": "https://plot.ly"
       },
       "data": [
        {
         "customdata": [
          [
           "Keyword_2000",
           6
          ],
          [
           "Keyword_2001",
           10
          ],
          [
           "Keyword_2002",
           2
          ],
          [
           "Keyword_2003",
           2
          ],
          [
           "Keyword_2004",
           1
          ],
          [
           "Keyword_2005",
           9
          ],
          [
           "Keyword_2006",
           4
          ],
          [
           "Keyword_2007",
           7
          ],
          [
           "Keyword_2008",
           1
          ],
          [
           "Keyword_2009",
           2
          ],
          [
           "Keyword_2010",
           10
          ],
          [
           "Keyword_2011",
           4
          ],
          [
           "Keyword_2012",
           9
          ],
          [
           "Keyword_2013",
           1
          ],
          [
           "Keyword_2014",
           3
          ],
          [
           "Keyword_2015",
           1
          ],
          [
           "Keyword_2016",
           10
          ],
          [
           "Keyword_2017",
           10
          ],
          [
           "Keyword_2018",
           7
          ],
          [
           "Keyword_2019",
           4
          ],
          [
           "Keyword_2020",
           6
          ],
          [
           "Keyword_2021",
           10
          ],
          [
           "Keyword_2022",
           6
          ]
         ],
         "hovertemplate": "<b>%{hovertext}</b><br><br>Publication Years=%{x}<br>Publication Numbers=%{marker.color}<br>Keywords=%{customdata[0]}<br>Numbers=%{customdata[1]}<extra></extra>",
         "hovertext": [
          "Keyword_2000",
          "Keyword_2001",
          "Keyword_2002",
          "Keyword_2003",
          "Keyword_2004",
          "Keyword_2005",
          "Keyword_2006",
          "Keyword_2007",
          "Keyword_2008",
          "Keyword_2009",
          "Keyword_2010",
          "Keyword_2011",
          "Keyword_2012",
          "Keyword_2013",
          "Keyword_2014",
          "Keyword_2015",
          "Keyword_2016",
          "Keyword_2017",
          "Keyword_2018",
          "Keyword_2019",
          "Keyword_2020",
          "Keyword_2021",
          "Keyword_2022"
         ],
         "legendgroup": "",
         "marker": {
          "color": [
           673,
           547,
           653,
           550,
           608,
           796,
           420,
           611,
           790,
           712,
           738,
           755,
           557,
           430,
           488,
           608,
           514,
           424,
           659,
           773,
           601,
           403,
           612
          ],
          "coloraxis": "coloraxis",
          "size": [
           673,
           547,
           653,
           550,
           608,
           796,
           420,
           611,
           790,
           712,
           738,
           755,
           557,
           430,
           488,
           608,
           514,
           424,
           659,
           773,
           601,
           403,
           612
          ],
          "sizemode": "area",
          "sizeref": 1.99,
          "symbol": "circle"
         },
         "mode": "markers",
         "name": "",
         "orientation": "v",
         "showlegend": false,
         "type": "scatter",
         "x": [
          2000,
          2001,
          2002,
          2003,
          2004,
          2005,
          2006,
          2007,
          2008,
          2009,
          2010,
          2011,
          2012,
          2013,
          2014,
          2015,
          2016,
          2017,
          2018,
          2019,
          2020,
          2021,
          2022
         ],
         "xaxis": "x",
         "y": [
          673,
          547,
          653,
          550,
          608,
          796,
          420,
          611,
          790,
          712,
          738,
          755,
          557,
          430,
          488,
          608,
          514,
          424,
          659,
          773,
          601,
          403,
          612
         ],
         "yaxis": "y"
        }
       ],
       "layout": {
        "coloraxis": {
         "colorbar": {
          "title": {
           "text": "Publication Numbers"
          }
         },
         "colorscale": [
          [
           0,
           "rgb(0, 128, 128)"
          ],
          [
           0.16666666666666666,
           "rgb(112, 164, 148)"
          ],
          [
           0.3333333333333333,
           "rgb(180, 200, 168)"
          ],
          [
           0.5,
           "rgb(246, 237, 189)"
          ],
          [
           0.6666666666666666,
           "rgb(237, 187, 138)"
          ],
          [
           0.8333333333333334,
           "rgb(222, 138, 90)"
          ],
          [
           1,
           "rgb(202, 86, 44)"
          ]
         ]
        },
        "height": 600,
        "legend": {
         "itemsizing": "constant",
         "tracegroupgap": 0
        },
        "template": {
         "data": {
          "bar": [
           {
            "error_x": {
             "color": "#2a3f5f"
            },
            "error_y": {
             "color": "#2a3f5f"
            },
            "marker": {
             "line": {
              "color": "white",
              "width": 0.5
             },
             "pattern": {
              "fillmode": "overlay",
              "size": 10,
              "solidity": 0.2
             }
            },
            "type": "bar"
           }
          ],
          "barpolar": [
           {
            "marker": {
             "line": {
              "color": "white",
              "width": 0.5
             },
             "pattern": {
              "fillmode": "overlay",
              "size": 10,
              "solidity": 0.2
             }
            },
            "type": "barpolar"
           }
          ],
          "carpet": [
           {
            "aaxis": {
             "endlinecolor": "#2a3f5f",
             "gridcolor": "#C8D4E3",
             "linecolor": "#C8D4E3",
             "minorgridcolor": "#C8D4E3",
             "startlinecolor": "#2a3f5f"
            },
            "baxis": {
             "endlinecolor": "#2a3f5f",
             "gridcolor": "#C8D4E3",
             "linecolor": "#C8D4E3",
             "minorgridcolor": "#C8D4E3",
             "startlinecolor": "#2a3f5f"
            },
            "type": "carpet"
           }
          ],
          "choropleth": [
           {
            "colorbar": {
             "outlinewidth": 0,
             "ticks": ""
            },
            "type": "choropleth"
           }
          ],
          "contour": [
           {
            "colorbar": {
             "outlinewidth": 0,
             "ticks": ""
            },
            "colorscale": [
             [
              0,
              "#0d0887"
             ],
             [
              0.1111111111111111,
              "#46039f"
             ],
             [
              0.2222222222222222,
              "#7201a8"
             ],
             [
              0.3333333333333333,
              "#9c179e"
             ],
             [
              0.4444444444444444,
              "#bd3786"
             ],
             [
              0.5555555555555556,
              "#d8576b"
             ],
             [
              0.6666666666666666,
              "#ed7953"
             ],
             [
              0.7777777777777778,
              "#fb9f3a"
             ],
             [
              0.8888888888888888,
              "#fdca26"
             ],
             [
              1,
              "#f0f921"
             ]
            ],
            "type": "contour"
           }
          ],
          "contourcarpet": [
           {
            "colorbar": {
             "outlinewidth": 0,
             "ticks": ""
            },
            "type": "contourcarpet"
           }
          ],
          "heatmap": [
           {
            "colorbar": {
             "outlinewidth": 0,
             "ticks": ""
            },
            "colorscale": [
             [
              0,
              "#0d0887"
             ],
             [
              0.1111111111111111,
              "#46039f"
             ],
             [
              0.2222222222222222,
              "#7201a8"
             ],
             [
              0.3333333333333333,
              "#9c179e"
             ],
             [
              0.4444444444444444,
              "#bd3786"
             ],
             [
              0.5555555555555556,
              "#d8576b"
             ],
             [
              0.6666666666666666,
              "#ed7953"
             ],
             [
              0.7777777777777778,
              "#fb9f3a"
             ],
             [
              0.8888888888888888,
              "#fdca26"
             ],
             [
              1,
              "#f0f921"
             ]
            ],
            "type": "heatmap"
           }
          ],
          "heatmapgl": [
           {
            "colorbar": {
             "outlinewidth": 0,
             "ticks": ""
            },
            "colorscale": [
             [
              0,
              "#0d0887"
             ],
             [
              0.1111111111111111,
              "#46039f"
             ],
             [
              0.2222222222222222,
              "#7201a8"
             ],
             [
              0.3333333333333333,
              "#9c179e"
             ],
             [
              0.4444444444444444,
              "#bd3786"
             ],
             [
              0.5555555555555556,
              "#d8576b"
             ],
             [
              0.6666666666666666,
              "#ed7953"
             ],
             [
              0.7777777777777778,
              "#fb9f3a"
             ],
             [
              0.8888888888888888,
              "#fdca26"
             ],
             [
              1,
              "#f0f921"
             ]
            ],
            "type": "heatmapgl"
           }
          ],
          "histogram": [
           {
            "marker": {
             "pattern": {
              "fillmode": "overlay",
              "size": 10,
              "solidity": 0.2
             }
            },
            "type": "histogram"
           }
          ],
          "histogram2d": [
           {
            "colorbar": {
             "outlinewidth": 0,
             "ticks": ""
            },
            "colorscale": [
             [
              0,
              "#0d0887"
             ],
             [
              0.1111111111111111,
              "#46039f"
             ],
             [
              0.2222222222222222,
              "#7201a8"
             ],
             [
              0.3333333333333333,
              "#9c179e"
             ],
             [
              0.4444444444444444,
              "#bd3786"
             ],
             [
              0.5555555555555556,
              "#d8576b"
             ],
             [
              0.6666666666666666,
              "#ed7953"
             ],
             [
              0.7777777777777778,
              "#fb9f3a"
             ],
             [
              0.8888888888888888,
              "#fdca26"
             ],
             [
              1,
              "#f0f921"
             ]
            ],
            "type": "histogram2d"
           }
          ],
          "histogram2dcontour": [
           {
            "colorbar": {
             "outlinewidth": 0,
             "ticks": ""
            },
            "colorscale": [
             [
              0,
              "#0d0887"
             ],
             [
              0.1111111111111111,
              "#46039f"
             ],
             [
              0.2222222222222222,
              "#7201a8"
             ],
             [
              0.3333333333333333,
              "#9c179e"
             ],
             [
              0.4444444444444444,
              "#bd3786"
             ],
             [
              0.5555555555555556,
              "#d8576b"
             ],
             [
              0.6666666666666666,
              "#ed7953"
             ],
             [
              0.7777777777777778,
              "#fb9f3a"
             ],
             [
              0.8888888888888888,
              "#fdca26"
             ],
             [
              1,
              "#f0f921"
             ]
            ],
            "type": "histogram2dcontour"
           }
          ],
          "mesh3d": [
           {
            "colorbar": {
             "outlinewidth": 0,
             "ticks": ""
            },
            "type": "mesh3d"
           }
          ],
          "parcoords": [
           {
            "line": {
             "colorbar": {
              "outlinewidth": 0,
              "ticks": ""
             }
            },
            "type": "parcoords"
           }
          ],
          "pie": [
           {
            "automargin": true,
            "type": "pie"
           }
          ],
          "scatter": [
           {
            "fillpattern": {
             "fillmode": "overlay",
             "size": 10,
             "solidity": 0.2
            },
            "type": "scatter"
           }
          ],
          "scatter3d": [
           {
            "line": {
             "colorbar": {
              "outlinewidth": 0,
              "ticks": ""
             }
            },
            "marker": {
             "colorbar": {
              "outlinewidth": 0,
              "ticks": ""
             }
            },
            "type": "scatter3d"
           }
          ],
          "scattercarpet": [
           {
            "marker": {
             "colorbar": {
              "outlinewidth": 0,
              "ticks": ""
             }
            },
            "type": "scattercarpet"
           }
          ],
          "scattergeo": [
           {
            "marker": {
             "colorbar": {
              "outlinewidth": 0,
              "ticks": ""
             }
            },
            "type": "scattergeo"
           }
          ],
          "scattergl": [
           {
            "marker": {
             "colorbar": {
              "outlinewidth": 0,
              "ticks": ""
             }
            },
            "type": "scattergl"
           }
          ],
          "scattermapbox": [
           {
            "marker": {
             "colorbar": {
              "outlinewidth": 0,
              "ticks": ""
             }
            },
            "type": "scattermapbox"
           }
          ],
          "scatterpolar": [
           {
            "marker": {
             "colorbar": {
              "outlinewidth": 0,
              "ticks": ""
             }
            },
            "type": "scatterpolar"
           }
          ],
          "scatterpolargl": [
           {
            "marker": {
             "colorbar": {
              "outlinewidth": 0,
              "ticks": ""
             }
            },
            "type": "scatterpolargl"
           }
          ],
          "scatterternary": [
           {
            "marker": {
             "colorbar": {
              "outlinewidth": 0,
              "ticks": ""
             }
            },
            "type": "scatterternary"
           }
          ],
          "surface": [
           {
            "colorbar": {
             "outlinewidth": 0,
             "ticks": ""
            },
            "colorscale": [
             [
              0,
              "#0d0887"
             ],
             [
              0.1111111111111111,
              "#46039f"
             ],
             [
              0.2222222222222222,
              "#7201a8"
             ],
             [
              0.3333333333333333,
              "#9c179e"
             ],
             [
              0.4444444444444444,
              "#bd3786"
             ],
             [
              0.5555555555555556,
              "#d8576b"
             ],
             [
              0.6666666666666666,
              "#ed7953"
             ],
             [
              0.7777777777777778,
              "#fb9f3a"
             ],
             [
              0.8888888888888888,
              "#fdca26"
             ],
             [
              1,
              "#f0f921"
             ]
            ],
            "type": "surface"
           }
          ],
          "table": [
           {
            "cells": {
             "fill": {
              "color": "#EBF0F8"
             },
             "line": {
              "color": "white"
             }
            },
            "header": {
             "fill": {
              "color": "#C8D4E3"
             },
             "line": {
              "color": "white"
             }
            },
            "type": "table"
           }
          ]
         },
         "layout": {
          "annotationdefaults": {
           "arrowcolor": "#2a3f5f",
           "arrowhead": 0,
           "arrowwidth": 1
          },
          "autotypenumbers": "strict",
          "coloraxis": {
           "colorbar": {
            "outlinewidth": 0,
            "ticks": ""
           }
          },
          "colorscale": {
           "diverging": [
            [
             0,
             "#8e0152"
            ],
            [
             0.1,
             "#c51b7d"
            ],
            [
             0.2,
             "#de77ae"
            ],
            [
             0.3,
             "#f1b6da"
            ],
            [
             0.4,
             "#fde0ef"
            ],
            [
             0.5,
             "#f7f7f7"
            ],
            [
             0.6,
             "#e6f5d0"
            ],
            [
             0.7,
             "#b8e186"
            ],
            [
             0.8,
             "#7fbc41"
            ],
            [
             0.9,
             "#4d9221"
            ],
            [
             1,
             "#276419"
            ]
           ],
           "sequential": [
            [
             0,
             "#0d0887"
            ],
            [
             0.1111111111111111,
             "#46039f"
            ],
            [
             0.2222222222222222,
             "#7201a8"
            ],
            [
             0.3333333333333333,
             "#9c179e"
            ],
            [
             0.4444444444444444,
             "#bd3786"
            ],
            [
             0.5555555555555556,
             "#d8576b"
            ],
            [
             0.6666666666666666,
             "#ed7953"
            ],
            [
             0.7777777777777778,
             "#fb9f3a"
            ],
            [
             0.8888888888888888,
             "#fdca26"
            ],
            [
             1,
             "#f0f921"
            ]
           ],
           "sequentialminus": [
            [
             0,
             "#0d0887"
            ],
            [
             0.1111111111111111,
             "#46039f"
            ],
            [
             0.2222222222222222,
             "#7201a8"
            ],
            [
             0.3333333333333333,
             "#9c179e"
            ],
            [
             0.4444444444444444,
             "#bd3786"
            ],
            [
             0.5555555555555556,
             "#d8576b"
            ],
            [
             0.6666666666666666,
             "#ed7953"
            ],
            [
             0.7777777777777778,
             "#fb9f3a"
            ],
            [
             0.8888888888888888,
             "#fdca26"
            ],
            [
             1,
             "#f0f921"
            ]
           ]
          },
          "colorway": [
           "#636efa",
           "#EF553B",
           "#00cc96",
           "#ab63fa",
           "#FFA15A",
           "#19d3f3",
           "#FF6692",
           "#B6E880",
           "#FF97FF",
           "#FECB52"
          ],
          "font": {
           "color": "#2a3f5f"
          },
          "geo": {
           "bgcolor": "white",
           "lakecolor": "white",
           "landcolor": "white",
           "showlakes": true,
           "showland": true,
           "subunitcolor": "#C8D4E3"
          },
          "hoverlabel": {
           "align": "left"
          },
          "hovermode": "closest",
          "mapbox": {
           "style": "light"
          },
          "paper_bgcolor": "white",
          "plot_bgcolor": "white",
          "polar": {
           "angularaxis": {
            "gridcolor": "#EBF0F8",
            "linecolor": "#EBF0F8",
            "ticks": ""
           },
           "bgcolor": "white",
           "radialaxis": {
            "gridcolor": "#EBF0F8",
            "linecolor": "#EBF0F8",
            "ticks": ""
           }
          },
          "scene": {
           "xaxis": {
            "backgroundcolor": "white",
            "gridcolor": "#DFE8F3",
            "gridwidth": 2,
            "linecolor": "#EBF0F8",
            "showbackground": true,
            "ticks": "",
            "zerolinecolor": "#EBF0F8"
           },
           "yaxis": {
            "backgroundcolor": "white",
            "gridcolor": "#DFE8F3",
            "gridwidth": 2,
            "linecolor": "#EBF0F8",
            "showbackground": true,
            "ticks": "",
            "zerolinecolor": "#EBF0F8"
           },
           "zaxis": {
            "backgroundcolor": "white",
            "gridcolor": "#DFE8F3",
            "gridwidth": 2,
            "linecolor": "#EBF0F8",
            "showbackground": true,
            "ticks": "",
            "zerolinecolor": "#EBF0F8"
           }
          },
          "shapedefaults": {
           "line": {
            "color": "#2a3f5f"
           }
          },
          "ternary": {
           "aaxis": {
            "gridcolor": "#DFE8F3",
            "linecolor": "#A2B1C6",
            "ticks": ""
           },
           "baxis": {
            "gridcolor": "#DFE8F3",
            "linecolor": "#A2B1C6",
            "ticks": ""
           },
           "bgcolor": "white",
           "caxis": {
            "gridcolor": "#DFE8F3",
            "linecolor": "#A2B1C6",
            "ticks": ""
           }
          },
          "title": {
           "x": 0.05
          },
          "xaxis": {
           "automargin": true,
           "gridcolor": "#EBF0F8",
           "linecolor": "#EBF0F8",
           "ticks": "",
           "title": {
            "standoff": 15
           },
           "zerolinecolor": "#EBF0F8",
           "zerolinewidth": 2
          },
          "yaxis": {
           "automargin": true,
           "gridcolor": "#EBF0F8",
           "linecolor": "#EBF0F8",
           "ticks": "",
           "title": {
            "standoff": 15
           },
           "zerolinecolor": "#EBF0F8",
           "zerolinewidth": 2
          }
         }
        },
        "title": {
         "text": "Publication Numbers of Ciliopathy Related Genes (2000-2022)"
        },
        "width": 1000,
        "xaxis": {
         "anchor": "y",
         "domain": [
          0,
          1
         ],
         "title": {
          "text": "Publication Years"
         }
        },
        "yaxis": {
         "anchor": "x",
         "domain": [
          0,
          1
         ],
         "title": {
          "text": "Publication Numbers"
         }
        }
       }
      }
     },
     "metadata": {},
     "output_type": "display_data"
    }
   ],
   "source": [
    "import plotly.express as px\n",
    "import pandas as pd\n",
    "import random\n",
    "\n",
    "# 生成测试数据\n",
    "years = list(range(2000, 2023))\n",
    "publications = [random.randint(400, 800) for _ in years]\n",
    "keywords = [f\"Keyword_{year}\" for year in years]\n",
    "numbers = [random.randint(1, 10) for _ in years]\n",
    "\n",
    "data = {'Year': years, 'Publications': publications, 'Keywords': keywords, 'Numbers': numbers}\n",
    "\n",
    "df = pd.DataFrame(data)\n",
    "\n",
    "# 使用plotly进行绘图\n",
    "fig = px.scatter(df, \n",
    "                 x='Year', \n",
    "                 y='Publications', \n",
    "                 size='Publications',\n",
    "                 color='Publications',\n",
    "                 hover_name='Keywords',\n",
    "                 hover_data=['Keywords', 'Numbers'],  # 添加了Keywords和Numbers到悬浮数据中\n",
    "                 size_max=20,\n",
    "                 title='Publication Numbers of Ciliopathy Related Genes (2000-2022)',\n",
    "                 labels={\"Publications\": \"Publication Numbers\", \"Year\": \"Publication Years\"},\n",
    "                 color_continuous_scale=\"Geyser\",  # _r表示颜色反转\n",
    "                #  color_continuous_scale=px.colors.sequential.Viridis\n",
    "                 )\n",
    "\n",
    "fig.update_layout(\n",
    "    # font=dict(family=\"Arial\", size=14),\n",
    "    template=\"plotly_white\",\n",
    "    # template=\"simple_white\",\n",
    "    width=1000,  # 图表宽度\n",
    "    height=600,  # 图表高度\n",
    ")\n",
    "\n",
    "# fig.update_traces(marker_symbol='diamond')\n",
    "\n",
    "# 显示图表\n",
    "fig.show()"
   ]
  },
  {
   "cell_type": "markdown",
   "metadata": {},
   "source": [
    "marker_symbol 参数可以设置不同的标记形状,主要有以下几种:\n",
    "\n",
    "'circle' - 默认的圆形标记\n",
    "'square' - 正方形标记\n",
    "'diamond' - 菱形标记\n",
    "'cross' - 十字标记\n",
    "'x' - X形标记\n",
    "'triangle-up' - 向上三角形标记\n",
    "'triangle-down' - 向下三角形标记\n",
    "'triangle-left' - 左向三角形标记\n",
    "'triangle-right' - 右向三角形标记\n",
    "'pentagon' - 五边形标记\n",
    "'hexagon' - 六边形标记\n",
    "'hexagon2' - 六边形标记的另一种样式\n",
    "'octagon' - 八边形标记\n",
    "'star' - 星形标记\n",
    "'line' - 线条标记\n",
    "'dash' - 短线条标记\n",
    "'dot' - 圆点标记\n",
    "'circle-open' - 空心圆标记\n",
    "'circle-dot' - 圆环点标记\n",
    "'square-open' - 空心方块标记\n",
    "'square-dot' - 带圆点的方块标记"
   ]
  },
  {
   "cell_type": "code",
   "execution_count": 9,
   "metadata": {},
   "outputs": [
    {
     "data": {
      "application/vnd.plotly.v1+json": {
       "config": {
        "plotlyServerURL": "https://plot.ly"
       },
       "data": [
        {
         "customdata": [
          [
           2015,
           1
          ],
          [
           2020,
           1
          ],
          [
           2018,
           1
          ],
          [
           2021,
           1
          ],
          [
           2022,
           1
          ],
          [
           2023,
           1
          ],
          [
           2017,
           1
          ],
          [
           2022,
           1
          ],
          [
           2017,
           1
          ],
          [
           2014,
           1
          ],
          [
           2021,
           1
          ],
          [
           2022,
           1
          ],
          [
           2019,
           1
          ],
          [
           2017,
           1
          ],
          [
           2019,
           1
          ],
          [
           2018,
           1
          ],
          [
           2022,
           1
          ],
          [
           2021,
           1
          ],
          [
           2022,
           1
          ],
          [
           2023,
           1
          ],
          [
           2022,
           1
          ],
          [
           2014,
           1
          ],
          [
           2017,
           1
          ],
          [
           2022,
           1
          ],
          [
           2019,
           1
          ],
          [
           2023,
           1
          ],
          [
           2018,
           1
          ],
          [
           2023,
           1
          ],
          [
           2014,
           1
          ],
          [
           2017,
           1
          ],
          [
           2017,
           1
          ],
          [
           2020,
           1
          ],
          [
           2022,
           1
          ],
          [
           2017,
           1
          ],
          [
           2017,
           1
          ],
          [
           2018,
           1
          ],
          [
           2023,
           1
          ],
          [
           2022,
           1
          ],
          [
           2018,
           1
          ],
          [
           2018,
           1
          ],
          [
           2022,
           1
          ],
          [
           2017,
           1
          ],
          [
           2018,
           1
          ],
          [
           2014,
           1
          ],
          [
           2017,
           2
          ],
          [
           2016,
           1
          ],
          [
           2020,
           1
          ],
          [
           2017,
           1
          ],
          [
           2014,
           1
          ],
          [
           2017,
           1
          ],
          [
           2020,
           1
          ],
          [
           2021,
           1
          ],
          [
           2022,
           1
          ],
          [
           2016,
           1
          ],
          [
           2020,
           1
          ],
          [
           2023,
           1
          ],
          [
           2014,
           1
          ],
          [
           2016,
           1
          ],
          [
           2021,
           1
          ],
          [
           2015,
           1
          ],
          [
           2016,
           1
          ],
          [
           2017,
           1
          ],
          [
           2020,
           1
          ],
          [
           2016,
           1
          ],
          [
           2017,
           1
          ],
          [
           2016,
           1
          ],
          [
           2015,
           1
          ],
          [
           2016,
           1
          ],
          [
           2016,
           1
          ],
          [
           2017,
           1
          ],
          [
           2014,
           1
          ],
          [
           2015,
           1
          ],
          [
           2016,
           1
          ],
          [
           2021,
           1
          ],
          [
           2021,
           1
          ],
          [
           2021,
           1
          ],
          [
           2019,
           1
          ],
          [
           2017,
           1
          ],
          [
           2018,
           1
          ],
          [
           2019,
           1
          ],
          [
           2019,
           1
          ],
          [
           2020,
           1
          ],
          [
           2022,
           1
          ],
          [
           2012,
           1
          ],
          [
           2014,
           1
          ],
          [
           2015,
           1
          ],
          [
           2018,
           1
          ],
          [
           2019,
           1
          ],
          [
           2021,
           1
          ],
          [
           2022,
           2
          ],
          [
           2023,
           2
          ],
          [
           2022,
           1
          ],
          [
           2013,
           1
          ],
          [
           2017,
           1
          ],
          [
           2019,
           1
          ],
          [
           2020,
           1
          ],
          [
           2022,
           1
          ],
          [
           2017,
           1
          ],
          [
           2015,
           1
          ],
          [
           2018,
           1
          ],
          [
           2019,
           1
          ],
          [
           2020,
           1
          ],
          [
           2021,
           1
          ],
          [
           2016,
           1
          ],
          [
           2019,
           1
          ],
          [
           2022,
           1
          ],
          [
           2016,
           1
          ],
          [
           2017,
           1
          ],
          [
           2016,
           1
          ],
          [
           2021,
           1
          ],
          [
           2023,
           1
          ],
          [
           2023,
           1
          ],
          [
           2017,
           1
          ],
          [
           2016,
           1
          ],
          [
           2023,
           1
          ],
          [
           2010,
           1
          ],
          [
           2018,
           2
          ],
          [
           2018,
           1
          ],
          [
           2018,
           2
          ],
          [
           2022,
           1
          ],
          [
           2018,
           1
          ],
          [
           2013,
           1
          ],
          [
           2015,
           1
          ],
          [
           2017,
           1
          ],
          [
           2021,
           1
          ],
          [
           2018,
           1
          ],
          [
           2017,
           1
          ],
          [
           2017,
           1
          ],
          [
           2015,
           1
          ],
          [
           2018,
           1
          ],
          [
           2013,
           1
          ],
          [
           2020,
           1
          ],
          [
           2017,
           1
          ],
          [
           2019,
           1
          ],
          [
           2019,
           1
          ],
          [
           2020,
           1
          ],
          [
           2021,
           1
          ],
          [
           2018,
           1
          ],
          [
           2023,
           1
          ],
          [
           2019,
           1
          ],
          [
           2021,
           1
          ],
          [
           2016,
           1
          ],
          [
           2018,
           1
          ],
          [
           2021,
           1
          ],
          [
           2017,
           1
          ],
          [
           2022,
           1
          ],
          [
           2014,
           1
          ],
          [
           2021,
           1
          ],
          [
           2018,
           3
          ],
          [
           2021,
           1
          ],
          [
           2021,
           1
          ],
          [
           2013,
           1
          ],
          [
           2022,
           1
          ],
          [
           2021,
           1
          ],
          [
           2015,
           1
          ],
          [
           2023,
           1
          ],
          [
           2020,
           1
          ],
          [
           2018,
           1
          ],
          [
           2023,
           1
          ],
          [
           2022,
           1
          ],
          [
           2017,
           1
          ],
          [
           2015,
           1
          ],
          [
           2022,
           1
          ],
          [
           2014,
           1
          ],
          [
           2022,
           1
          ],
          [
           2023,
           1
          ],
          [
           2016,
           1
          ],
          [
           2019,
           1
          ],
          [
           2017,
           1
          ],
          [
           2018,
           1
          ],
          [
           2015,
           1
          ],
          [
           2017,
           1
          ],
          [
           2019,
           1
          ],
          [
           2021,
           1
          ],
          [
           2014,
           1
          ],
          [
           2017,
           3
          ],
          [
           2019,
           1
          ],
          [
           2016,
           1
          ],
          [
           2014,
           1
          ],
          [
           2022,
           1
          ],
          [
           2015,
           1
          ],
          [
           2016,
           1
          ],
          [
           2017,
           1
          ],
          [
           2017,
           1
          ],
          [
           2020,
           1
          ],
          [
           2019,
           1
          ],
          [
           2020,
           1
          ],
          [
           2013,
           1
          ],
          [
           2023,
           1
          ],
          [
           2021,
           1
          ],
          [
           2017,
           1
          ],
          [
           2016,
           2
          ],
          [
           2018,
           1
          ],
          [
           2016,
           1
          ],
          [
           2019,
           1
          ],
          [
           2021,
           2
          ],
          [
           2023,
           1
          ],
          [
           2020,
           1
          ],
          [
           2017,
           1
          ],
          [
           2022,
           1
          ],
          [
           2019,
           1
          ],
          [
           2017,
           1
          ],
          [
           2016,
           1
          ],
          [
           2020,
           1
          ],
          [
           2020,
           1
          ],
          [
           2013,
           1
          ],
          [
           2014,
           1
          ],
          [
           2023,
           1
          ],
          [
           2018,
           1
          ],
          [
           2016,
           1
          ],
          [
           2018,
           1
          ],
          [
           2018,
           1
          ],
          [
           2021,
           1
          ],
          [
           2014,
           1
          ],
          [
           2017,
           1
          ],
          [
           2021,
           1
          ],
          [
           2022,
           1
          ],
          [
           2017,
           1
          ],
          [
           2018,
           1
          ],
          [
           2017,
           1
          ],
          [
           2019,
           2
          ],
          [
           2020,
           1
          ],
          [
           2022,
           3
          ],
          [
           2023,
           1
          ],
          [
           2020,
           1
          ],
          [
           2021,
           1
          ],
          [
           2016,
           1
          ],
          [
           2022,
           1
          ],
          [
           2021,
           1
          ],
          [
           2019,
           1
          ],
          [
           2021,
           1
          ],
          [
           2020,
           1
          ],
          [
           2013,
           1
          ],
          [
           2018,
           1
          ],
          [
           2016,
           1
          ],
          [
           2022,
           1
          ],
          [
           2017,
           1
          ],
          [
           2021,
           1
          ],
          [
           2021,
           1
          ],
          [
           2021,
           1
          ],
          [
           2016,
           1
          ],
          [
           2023,
           1
          ],
          [
           2023,
           1
          ],
          [
           2021,
           1
          ],
          [
           2021,
           1
          ],
          [
           2016,
           1
          ],
          [
           2020,
           1
          ],
          [
           2018,
           1
          ],
          [
           2023,
           1
          ],
          [
           2019,
           2
          ],
          [
           2016,
           1
          ],
          [
           2015,
           1
          ],
          [
           2022,
           1
          ],
          [
           2022,
           1
          ],
          [
           2023,
           1
          ],
          [
           2013,
           1
          ],
          [
           2021,
           1
          ],
          [
           2019,
           1
          ],
          [
           2022,
           1
          ],
          [
           2015,
           1
          ],
          [
           2022,
           1
          ],
          [
           2022,
           1
          ],
          [
           2021,
           1
          ],
          [
           2022,
           1
          ],
          [
           2019,
           1
          ],
          [
           2022,
           1
          ],
          [
           2023,
           1
          ],
          [
           2016,
           1
          ],
          [
           2021,
           1
          ],
          [
           2022,
           1
          ],
          [
           2021,
           1
          ],
          [
           2018,
           1
          ],
          [
           2023,
           1
          ],
          [
           2022,
           1
          ],
          [
           2015,
           1
          ],
          [
           2019,
           1
          ],
          [
           2021,
           1
          ],
          [
           2022,
           1
          ],
          [
           2018,
           1
          ],
          [
           2013,
           1
          ],
          [
           2021,
           1
          ],
          [
           2017,
           1
          ],
          [
           2015,
           1
          ],
          [
           2016,
           1
          ],
          [
           2021,
           1
          ],
          [
           2016,
           1
          ],
          [
           2021,
           1
          ],
          [
           2017,
           1
          ],
          [
           2019,
           1
          ],
          [
           2021,
           1
          ],
          [
           2022,
           1
          ],
          [
           2010,
           1
          ],
          [
           2014,
           1
          ],
          [
           2018,
           1
          ],
          [
           2021,
           1
          ],
          [
           2021,
           1
          ],
          [
           2020,
           1
          ],
          [
           2018,
           1
          ],
          [
           2016,
           1
          ],
          [
           2022,
           1
          ],
          [
           2022,
           1
          ],
          [
           2022,
           1
          ],
          [
           2022,
           1
          ],
          [
           2023,
           1
          ],
          [
           2014,
           1
          ],
          [
           2022,
           1
          ],
          [
           2018,
           1
          ],
          [
           2016,
           1
          ],
          [
           2021,
           1
          ],
          [
           2021,
           1
          ],
          [
           2018,
           1
          ],
          [
           2022,
           1
          ],
          [
           2023,
           1
          ],
          [
           2010,
           1
          ],
          [
           2014,
           2
          ],
          [
           2016,
           4
          ],
          [
           2017,
           1
          ],
          [
           2018,
           8
          ],
          [
           2020,
           1
          ],
          [
           2021,
           4
          ],
          [
           2022,
           1
          ],
          [
           2023,
           1
          ],
          [
           2017,
           1
          ],
          [
           2018,
           1
          ],
          [
           2023,
           1
          ],
          [
           2018,
           1
          ],
          [
           2016,
           3
          ],
          [
           2022,
           1
          ],
          [
           2022,
           1
          ],
          [
           2014,
           1
          ],
          [
           2021,
           1
          ],
          [
           2016,
           1
          ],
          [
           2017,
           2
          ],
          [
           2018,
           1
          ],
          [
           2022,
           1
          ],
          [
           2017,
           2
          ],
          [
           2020,
           1
          ],
          [
           2021,
           1
          ],
          [
           2021,
           1
          ],
          [
           2021,
           1
          ],
          [
           2021,
           1
          ],
          [
           2015,
           1
          ],
          [
           2017,
           2
          ],
          [
           2020,
           1
          ],
          [
           2023,
           1
          ],
          [
           2021,
           1
          ],
          [
           2022,
           1
          ],
          [
           2021,
           1
          ],
          [
           2017,
           2
          ],
          [
           2018,
           1
          ],
          [
           2019,
           1
          ],
          [
           2020,
           1
          ],
          [
           2021,
           1
          ],
          [
           2022,
           1
          ],
          [
           2023,
           1
          ],
          [
           2013,
           1
          ],
          [
           2023,
           1
          ],
          [
           2017,
           1
          ],
          [
           2019,
           1
          ],
          [
           2021,
           1
          ],
          [
           2022,
           1
          ],
          [
           2019,
           1
          ],
          [
           2019,
           1
          ],
          [
           2022,
           1
          ],
          [
           2014,
           1
          ],
          [
           2022,
           1
          ],
          [
           2022,
           1
          ],
          [
           2022,
           1
          ],
          [
           2021,
           1
          ],
          [
           2015,
           1
          ],
          [
           2010,
           1
          ],
          [
           2018,
           1
          ],
          [
           2019,
           1
          ],
          [
           2020,
           1
          ],
          [
           2021,
           2
          ],
          [
           2022,
           2
          ],
          [
           2022,
           1
          ],
          [
           2020,
           1
          ],
          [
           2019,
           1
          ],
          [
           2020,
           1
          ],
          [
           2016,
           1
          ],
          [
           2015,
           1
          ],
          [
           2017,
           1
          ],
          [
           2021,
           1
          ],
          [
           2015,
           1
          ],
          [
           2021,
           1
          ],
          [
           2022,
           2
          ],
          [
           2020,
           1
          ],
          [
           2023,
           1
          ],
          [
           2018,
           1
          ],
          [
           2015,
           1
          ],
          [
           2017,
           1
          ],
          [
           2020,
           1
          ],
          [
           2019,
           1
          ],
          [
           2017,
           1
          ],
          [
           2017,
           1
          ],
          [
           2021,
           2
          ],
          [
           2023,
           2
          ],
          [
           2013,
           2
          ],
          [
           2014,
           2
          ],
          [
           2015,
           3
          ],
          [
           2016,
           4
          ],
          [
           2017,
           8
          ],
          [
           2018,
           7
          ],
          [
           2019,
           5
          ],
          [
           2020,
           5
          ],
          [
           2021,
           2
          ],
          [
           2022,
           9
          ],
          [
           2023,
           2
          ],
          [
           2020,
           1
          ],
          [
           2018,
           1
          ],
          [
           2014,
           1
          ],
          [
           2022,
           1
          ],
          [
           2014,
           1
          ],
          [
           2021,
           1
          ],
          [
           2021,
           1
          ],
          [
           2021,
           1
          ],
          [
           2022,
           1
          ],
          [
           2013,
           1
          ],
          [
           2021,
           1
          ],
          [
           2017,
           1
          ],
          [
           2017,
           1
          ],
          [
           2016,
           1
          ],
          [
           2013,
           1
          ],
          [
           2022,
           1
          ],
          [
           2016,
           1
          ],
          [
           2018,
           1
          ],
          [
           2017,
           1
          ],
          [
           2018,
           1
          ],
          [
           2021,
           1
          ],
          [
           2022,
           1
          ],
          [
           2017,
           1
          ],
          [
           2013,
           1
          ],
          [
           2019,
           1
          ],
          [
           2016,
           1
          ],
          [
           2021,
           1
          ],
          [
           2020,
           1
          ],
          [
           2022,
           1
          ],
          [
           2018,
           1
          ],
          [
           2014,
           1
          ],
          [
           2017,
           1
          ],
          [
           2017,
           1
          ],
          [
           2015,
           1
          ],
          [
           2019,
           1
          ],
          [
           2018,
           1
          ],
          [
           2021,
           1
          ],
          [
           2018,
           1
          ],
          [
           2016,
           1
          ],
          [
           2018,
           1
          ],
          [
           2017,
           1
          ],
          [
           2017,
           1
          ],
          [
           2013,
           1
          ],
          [
           2015,
           1
          ],
          [
           2016,
           1
          ],
          [
           2017,
           2
          ],
          [
           2018,
           1
          ],
          [
           2019,
           1
          ],
          [
           2021,
           1
          ],
          [
           2018,
           1
          ],
          [
           2014,
           1
          ],
          [
           2018,
           1
          ],
          [
           2021,
           1
          ],
          [
           2020,
           1
          ],
          [
           2018,
           1
          ],
          [
           2015,
           1
          ],
          [
           2016,
           1
          ],
          [
           2017,
           1
          ],
          [
           2018,
           1
          ],
          [
           2023,
           1
          ],
          [
           2017,
           1
          ],
          [
           2021,
           1
          ],
          [
           2019,
           1
          ],
          [
           2019,
           1
          ],
          [
           2014,
           1
          ],
          [
           2023,
           1
          ],
          [
           2021,
           1
          ],
          [
           2017,
           1
          ],
          [
           2022,
           1
          ],
          [
           2017,
           1
          ],
          [
           2021,
           1
          ],
          [
           2021,
           1
          ],
          [
           2015,
           1
          ],
          [
           2020,
           1
          ],
          [
           2021,
           1
          ],
          [
           2017,
           2
          ],
          [
           2020,
           2
          ],
          [
           2021,
           1
          ],
          [
           2014,
           1
          ],
          [
           2016,
           1
          ],
          [
           2019,
           1
          ],
          [
           2020,
           1
          ],
          [
           2015,
           1
          ],
          [
           2021,
           2
          ],
          [
           2016,
           1
          ],
          [
           2021,
           1
          ],
          [
           2016,
           1
          ],
          [
           2022,
           1
          ],
          [
           2020,
           1
          ],
          [
           2017,
           1
          ],
          [
           2022,
           1
          ],
          [
           2021,
           1
          ],
          [
           2022,
           1
          ],
          [
           2022,
           1
          ],
          [
           2022,
           1
          ],
          [
           2013,
           1
          ],
          [
           2018,
           1
          ],
          [
           2022,
           1
          ],
          [
           2018,
           1
          ],
          [
           2013,
           1
          ],
          [
           2020,
           1
          ],
          [
           2023,
           1
          ],
          [
           2019,
           1
          ],
          [
           2022,
           1
          ],
          [
           2015,
           1
          ],
          [
           2016,
           1
          ],
          [
           2018,
           1
          ],
          [
           2019,
           1
          ],
          [
           2018,
           1
          ],
          [
           2019,
           1
          ],
          [
           2023,
           1
          ],
          [
           2018,
           1
          ],
          [
           2023,
           1
          ],
          [
           2016,
           1
          ],
          [
           2023,
           1
          ],
          [
           2016,
           1
          ],
          [
           2021,
           1
          ],
          [
           2023,
           1
          ],
          [
           2021,
           1
          ],
          [
           2014,
           1
          ],
          [
           2021,
           1
          ],
          [
           2017,
           1
          ],
          [
           2017,
           1
          ],
          [
           2016,
           1
          ],
          [
           2017,
           1
          ],
          [
           2010,
           1
          ],
          [
           2014,
           1
          ],
          [
           2022,
           1
          ],
          [
           2018,
           1
          ],
          [
           2019,
           1
          ],
          [
           2020,
           1
          ],
          [
           2022,
           1
          ],
          [
           2020,
           1
          ],
          [
           2014,
           1
          ],
          [
           2016,
           1
          ],
          [
           2019,
           1
          ],
          [
           2020,
           1
          ],
          [
           2023,
           1
          ],
          [
           2016,
           1
          ],
          [
           2022,
           1
          ],
          [
           2017,
           1
          ],
          [
           2016,
           1
          ],
          [
           2019,
           1
          ],
          [
           2022,
           1
          ],
          [
           2016,
           1
          ],
          [
           2017,
           1
          ],
          [
           2015,
           1
          ],
          [
           2021,
           1
          ],
          [
           2022,
           1
          ],
          [
           2018,
           1
          ],
          [
           2018,
           2
          ],
          [
           2023,
           1
          ],
          [
           2013,
           1
          ],
          [
           2012,
           1
          ],
          [
           2015,
           1
          ],
          [
           2017,
           1
          ],
          [
           2019,
           1
          ],
          [
           2021,
           1
          ],
          [
           2022,
           2
          ],
          [
           2016,
           1
          ],
          [
           2017,
           1
          ],
          [
           2015,
           2
          ],
          [
           2017,
           1
          ],
          [
           2020,
           1
          ],
          [
           2021,
           1
          ],
          [
           2022,
           1
          ],
          [
           2023,
           1
          ],
          [
           2023,
           1
          ],
          [
           2021,
           1
          ],
          [
           2016,
           1
          ],
          [
           2022,
           1
          ],
          [
           2019,
           1
          ],
          [
           2020,
           1
          ],
          [
           2021,
           1
          ],
          [
           2023,
           1
          ],
          [
           2019,
           2
          ],
          [
           2020,
           1
          ],
          [
           2021,
           1
          ],
          [
           2016,
           1
          ],
          [
           2023,
           1
          ],
          [
           2020,
           1
          ],
          [
           2017,
           1
          ],
          [
           2015,
           1
          ],
          [
           2018,
           1
          ],
          [
           2022,
           1
          ],
          [
           2018,
           1
          ],
          [
           2023,
           1
          ],
          [
           2018,
           1
          ],
          [
           2022,
           1
          ],
          [
           2018,
           1
          ],
          [
           2021,
           1
          ],
          [
           2022,
           1
          ],
          [
           2017,
           1
          ],
          [
           2013,
           1
          ],
          [
           2021,
           1
          ],
          [
           2020,
           1
          ],
          [
           2017,
           2
          ],
          [
           2020,
           1
          ],
          [
           2022,
           1
          ],
          [
           2015,
           1
          ],
          [
           2017,
           1
          ],
          [
           2021,
           1
          ],
          [
           2017,
           1
          ],
          [
           2022,
           1
          ],
          [
           2022,
           1
          ],
          [
           2022,
           1
          ],
          [
           2017,
           1
          ],
          [
           2021,
           1
          ],
          [
           2018,
           1
          ],
          [
           2023,
           1
          ],
          [
           2015,
           1
          ],
          [
           2018,
           1
          ],
          [
           2021,
           1
          ],
          [
           2023,
           1
          ],
          [
           2018,
           1
          ],
          [
           2015,
           1
          ],
          [
           2014,
           1
          ],
          [
           2015,
           1
          ],
          [
           2016,
           2
          ],
          [
           2021,
           1
          ],
          [
           2019,
           1
          ],
          [
           2012,
           1
          ],
          [
           2018,
           1
          ],
          [
           2020,
           1
          ],
          [
           2021,
           1
          ],
          [
           2023,
           1
          ],
          [
           2018,
           1
          ],
          [
           2019,
           1
          ],
          [
           2019,
           1
          ],
          [
           2021,
           1
          ],
          [
           2017,
           1
          ],
          [
           2021,
           1
          ],
          [
           2022,
           1
          ],
          [
           2017,
           1
          ],
          [
           2020,
           2
          ],
          [
           2021,
           1
          ],
          [
           2019,
           2
          ],
          [
           2016,
           1
          ],
          [
           2021,
           1
          ],
          [
           2022,
           1
          ],
          [
           2023,
           1
          ]
         ],
         "hovertemplate": "<b>%{hovertext}</b><br><br>Years=%{customdata[0]}<br>Counts=%{y}<br>Numbers=%{marker.color}<extra></extra>",
         "hovertext": [
          "Aagal",
          "Aaox",
          "Abts",
          "Acidic xylooligosaccharides",
          "Active site segment",
          "Acute lymphoblastic leukemia",
          "Additives",
          "Adjuvant",
          "Agaricus bisporus",
          "Agarose",
          "Alkalistable",
          "Alum",
          "Amino acid composition",
          "Amperometric response",
          "Amylose",
          "Amyr",
          "Antibacterial activity",
          "Anticancer",
          "Antifungal activity",
          "Antifungal susceptibility testing",
          "Antigen",
          "Antioxidant",
          "Antioxidant",
          "Antioxidant",
          "Antioxidant peptide",
          "Antioxidase",
          "Aqueous systems",
          "Artp",
          "Ascomycetous strains",
          "Ascomycota",
          "Aspergillus fumigatus",
          "Aspergillus niger",
          "Aspergillus niger",
          "Aspergillus terreus",
          "Bacterial cellulose",
          "Bacterial cellulose",
          "Bacterial laccase",
          "Baculovirus",
          "Bamboo powder",
          "Bamboo tablets",
          "Base editing",
          "Basidiomycota",
          "Bicovalent",
          "Bioaugmentation",
          "Biocatalysis",
          "Biocatalyzed polymerization",
          "Biochemicals",
          "Bioethanol",
          "Biofuels",
          "Biofuels",
          "Biofuels",
          "Biografting",
          "Biomanufacturing",
          "Biomass",
          "Biomass",
          "Biomass conversion",
          "Biomass degradation",
          "Biomolecules",
          "Bioprospecting",
          "Biorefinery",
          "Biorefinery",
          "Biorefinery",
          "Biorefinery",
          "Biotechnological applications",
          "Butyl ferulate",
          "Carbohydrate",
          "Carbohydrate active enzyme database",
          "Carbohydrate processing",
          "Catechol",
          "Catechol oxidase",
          "Cazy",
          "Cazy",
          "Cazy",
          "Cazyme gene regulation",
          "Cazymes",
          "Cbb cycle",
          "Cell factory",
          "Cellobiohydrolase",
          "Cellobiohydrolase",
          "Cellobiohydrolase",
          "Cellobiose",
          "Cellobiose",
          "Cellobiose",
          "Cellulase",
          "Cellulase",
          "Cellulase",
          "Cellulase",
          "Cellulase",
          "Cellulase",
          "Cellulase",
          "Cellulase",
          "Cellulase production",
          "Cellulases",
          "Cellulases",
          "Cellulases",
          "Cellulases",
          "Cellulases",
          "Cellulolytic cocktail improvement",
          "Cellulose",
          "Cellulose",
          "Cellulose",
          "Cellulose",
          "Cellulose",
          "Cellulose degradation",
          "Cellulose degradation",
          "Cellulose degradation",
          "Cellulose hydrolysis",
          "Cellulose hydrolysis",
          "Cellulose oxidation",
          "Cellulose saccharification",
          "Cellulose saccharification",
          "Central composite design",
          "Chaetosartorya cremea",
          "Characterization",
          "Characterization",
          "Chemical modification",
          "Chitin",
          "Chitinase",
          "Chitosan",
          "Chitosan",
          "Chitosan hydrogel",
          "Circular dichroism",
          "Class ii peroxidase",
          "Cloning",
          "Coating",
          "Coatings",
          "Codon optimization",
          "Collagenolytic protease",
          "Computational prediction",
          "Conductive cotton",
          "Conformation",
          "Consolidated bioprocessing",
          "Constitutive expression",
          "Copper",
          "Copper monooxygenase",
          "Corn stover",
          "Coupling",
          "Covalent immobilization",
          "Covalent immobilization",
          "Crispr",
          "Cryopreservation",
          "Crystal structure",
          "Crystal structure",
          "Crystallization",
          "Cyclic voltammetry",
          "Cytosine base editor",
          "Cytotoxicity",
          "Decalin",
          "Decolorization",
          "Decolorization",
          "Deep eutectic solvent",
          "Degree of substitution",
          "Depolymerisation",
          "Different fungal species",
          "Differential scanning calorimetry",
          "Digestibility enhancers",
          "Direct electron transfer",
          "Directed evolution",
          "Disulfide bond",
          "Docking simulation",
          "Dpph",
          "Dsc",
          "Dyadic",
          "Dye",
          "Efficacy",
          "Efficacy",
          "Electron donor",
          "Electroporation",
          "Elenolic acid",
          "Elimination",
          "Endoglucanase",
          "Endoglucanase",
          "Endoxylanase",
          "Endoxylanase",
          "Enzymatic deacetylation",
          "Enzymatic hydrolysis",
          "Enzymatic hydrolysis",
          "Enzymatic oligomerization",
          "Enzymatic oxidation",
          "Enzymatic oxidation",
          "Enzymatic saccharification",
          "Enzymatic saccharification",
          "Enzymatic saccharification",
          "Enzymatic tailoring",
          "Enzyme",
          "Enzyme activity",
          "Enzyme assay",
          "Enzyme electrodes",
          "Enzyme engineering",
          "Enzyme hypersecretion",
          "Enzyme immobilisation",
          "Enzyme immobilization",
          "Enzyme immobilization",
          "Enzyme mixture",
          "Enzyme stability",
          "Enzymes",
          "Enzymes",
          "Epinephrine",
          "Epr",
          "Er stress",
          "Escherichia coli",
          "Esterification",
          "Ethanol",
          "Ethanol",
          "Ethanol fermentation",
          "Ethanol tolerance",
          "Ethyl ferulate",
          "Eucalypt",
          "Eucalyptus globulus",
          "Experimental design",
          "Expression",
          "Expression optimization",
          "Extremozyme",
          "Ferulic acid",
          "Ferulic acid",
          "Ferulic acid",
          "Ferulic acid",
          "Feruloyl esterase",
          "Feruloyl esterase",
          "Filamentous fungi",
          "Filamentous fungi",
          "Filamentous fungi",
          "Filamentous fungi",
          "Filamentous fungi",
          "Filamentous fungus",
          "Fixed bioreactor",
          "Flavonoids",
          "Flow cytometry",
          "Fluorophenol",
          "Food protein",
          "Freezing",
          "Ftacv",
          "Fuel cells",
          "Fumaric acid",
          "Fumed silica nanoparticles",
          "Functional properties",
          "Functionalization",
          "Functionalization",
          "Fungal biotechnology",
          "Fungal enzyme production",
          "Fungal enzymes",
          "Fungal growth",
          "Fungal laccase",
          "Galactose transport",
          "Galactose utilization",
          "Gallic acid",
          "Gene editing",
          "Gene expression",
          "Gene regulation",
          "Genome editing",
          "Glucan",
          "Glucoamylase",
          "Glucoamylase",
          "Glucosamine",
          "Glucose and ethanol tolerance",
          "Glucose oxidation",
          "Glucuronic acid recognition",
          "Glucuronoxylan",
          "Glycans",
          "Glycerol",
          "Glycolysis",
          "Glycoprotein",
          "Glycoside hydrolase",
          "Glycoside hydrolase",
          "Glycoside hydrolases",
          "Glycosylation",
          "Grafting",
          "Green processing",
          "Growth kinetics",
          "Guaiacol",
          "Gum arabic",
          "Hbt",
          "Hemicellulase",
          "Hermetia illucens",
          "Heterologous production",
          "Heterologous production",
          "Heterologous protein expression",
          "Homology modelling",
          "Hpi",
          "Hpsec",
          "Hybrid",
          "Hydrogen peroxide",
          "Hydrolysis",
          "Hydrolysis",
          "Hydrolytic activity",
          "Hydrolytic enzymes",
          "Hydrophobicity",
          "Hydroxytyrosol",
          "Hygromycin b phosphotransferase gene hph",
          "Hymenaea courbaril",
          "Igg",
          "Immobilisation",
          "Immobilization",
          "Immobilization",
          "Immobilization",
          "Improved production",
          "In vivo grna transcription",
          "Industrially relevant fungi",
          "Infant",
          "Influenza vaccine",
          "Insect",
          "Insect cells",
          "Intranasal challenge",
          "Invasive pulmonary infection",
          "Ionic liquid",
          "Ionic liquid",
          "Isocyanide",
          "Itraconazole",
          "Kinetic analysis",
          "Kinetics",
          "Kraft lignin",
          "Kraft lignin",
          "Kraft lignin",
          "Laccase",
          "Laccase",
          "Laccase",
          "Laccase",
          "Laccase",
          "Laccase",
          "Laccase",
          "Laccase",
          "Laccase",
          "Laccase kinetics",
          "Laccases",
          "Laea",
          "Library",
          "Lignin",
          "Lignin",
          "Lignin degrading enzymes",
          "Lignocellulolytic enzymes",
          "Lignocellulolytic enzymes",
          "Lignocellulose",
          "Lignocellulose",
          "Lignocellulose",
          "Lignocellulose",
          "Lignocellulosic biomass",
          "Lignocellulosic biomass",
          "Lignocellulosic biomass",
          "Lignosulfonate",
          "Logistic model",
          "Low temperature",
          "Lpmo",
          "Lpmo",
          "Lpmo",
          "Lpmo",
          "Lpmo biocatalysis",
          "Lpmos",
          "Lyophilization",
          "Lytic polysaccharide monooxygenase",
          "Lytic polysaccharide monooxygenase",
          "Lytic polysaccharide monooxygenase",
          "Lytic polysaccharide monooxygenase",
          "Lytic polysaccharide monooxygenase",
          "Lytic polysaccharide monooxygenase",
          "Lytic polysaccharide monooxygenase",
          "Macromolecular assemblages",
          "Malate export",
          "Malbranchea cinamomea",
          "Malic acid",
          "Malic acid",
          "Malonic acid",
          "Marine fungi",
          "Marker recycling",
          "Mass spectrometric fragmentation",
          "Mass spectrometry",
          "Md simulation",
          "Mdf",
          "Mediator",
          "Melanin",
          "Melting temperature",
          "Mesoporous silicates",
          "Metabolic engineering",
          "Metabolic engineering",
          "Metabolic engineering",
          "Metabolic engineering",
          "Metabolic engineering",
          "Metabolic regulation",
          "Metal ion effect",
          "Metalloprotein",
          "Mhglaa",
          "Micropollutants",
          "Microwaves",
          "Mode of action",
          "Mode of action",
          "Modeling",
          "Modification",
          "Molecular docking",
          "Molecular dynamics",
          "Molecular mechanism",
          "Morphine",
          "Mtgal",
          "Mtperii peroxidase",
          "Multicopper oxidase",
          "Multiplexing",
          "Multivariate analysis",
          "Myceliophthora",
          "Myceliophthora",
          "Myceliophthora",
          "Myceliophthora thermophila",
          "Myceliophthora thermophila",
          "Myceliophthora thermophila",
          "Myceliophthora thermophila",
          "Myceliophthora thermophila",
          "Myceliophthora thermophila",
          "Myceliophthora thermophila",
          "Myceliophthora thermophila",
          "Myceliophthora thermophila",
          "Myceliophthora thermophila",
          "Myceliophthora thermophila",
          "Myceliophthora thermophile",
          "Myceliophthora thermophile laccase",
          "Myceliophtora sp",
          "Mycoprotein",
          "Mycoremediation",
          "Nanocellulose",
          "Natural mediators",
          "Neurospora crassa",
          "Neutralizing antibodies",
          "Nucleocytoplasmic transport",
          "Nutrition",
          "Oleuropein",
          "Oleuropein aglycones",
          "Oligosaccharide",
          "Overexpression",
          "Oxaloacetic acid",
          "Oxidase",
          "Oxidase",
          "Oxidation",
          "Oxidation",
          "Oxidation product",
          "Oxidative cleavage",
          "Oxygen consumption rate",
          "Oxygen reduction",
          "Oxygenase",
          "Ozonolysis",
          "Packing density",
          "Paenibacillus odorifer",
          "Pandemic",
          "Pbmcs",
          "Pcbs",
          "Pectin",
          "Penicillium citrinum",
          "Penicillium verruculosum",
          "Pentose catabolism",
          "Phenol biodegradation",
          "Phenol grafting",
          "Phenolic compound extraction",
          "Phenolics",
          "Phenolics",
          "Phenols",
          "Phenoxy radicals in lignin",
          "Pichia pastoris",
          "Pichia pastoris",
          "Pichia pastoris",
          "Pichia pastoris",
          "Pichia pastoris",
          "Pichia pastoris",
          "Pichia pastoris",
          "Pilot scale",
          "Plant biomass",
          "Plant biomass",
          "Plant biomass",
          "Platform",
          "Polyaniline",
          "Polycatechol",
          "Polymerisation",
          "Polymerization",
          "Polymerization",
          "Polymerization",
          "Polyphenol oxidase",
          "Polyphenol oxidase",
          "Polysaccharide",
          "Polysaccharide monooxygenase",
          "Position of acetyl groups",
          "Poultry",
          "Poultry feed",
          "Ppo",
          "Precise engineering",
          "Prenyl ferulate",
          "Preservation",
          "Pretreated corn cobs",
          "Pretreatment",
          "Pretreatment",
          "Process optimization",
          "Processivity",
          "Processivity",
          "Production",
          "Productivity",
          "Prophylaxis",
          "Protease",
          "Protease",
          "Protein design",
          "Protein engineering",
          "Protein evolution",
          "Purification",
          "Pyrogallol",
          "Rbd",
          "Reaction kinetics",
          "Real time assay",
          "Receptor binding domain",
          "Recombinant cellobiohydrolase",
          "Recombinant protein",
          "Recombinant protein expression",
          "Recombinant protein subunit vaccine",
          "Redox chemistry",
          "Reducing agent",
          "Reduction",
          "Reductive tca",
          "Renatured xanthan",
          "Response surface methodology",
          "Response surface methodology",
          "Rice straw",
          "Rmn",
          "Rna interference",
          "Rna polymerase",
          "Rnai",
          "Rnp",
          "Saccharification",
          "Saccharification",
          "Saccharification",
          "Saccharomyces cerevisiae",
          "Safety",
          "Secondary effluent",
          "Secretome",
          "Secretome composition",
          "Sequential solid state and submerged cultivation",
          "Signal transduction",
          "Single and mixed fungal species cultivation",
          "Solid media",
          "Solvent tolerance",
          "Soy polysaccharides",
          "Soy spent flake",
          "Sporotrichum thermophile",
          "Spray dryer",
          "Stabilisation",
          "Stability",
          "Stability",
          "Starch",
          "Starch",
          "Structural analysis",
          "Structure modelling",
          "Sugar uptake",
          "Sugarcane bagasse",
          "Sugarcane bagasse",
          "Sugarcane bagasse",
          "Sugarcane bagasse",
          "Sugarcane bagasse",
          "Superficial fungal infections",
          "Surface modifacation",
          "Swelling",
          "Synergism",
          "Synergy",
          "Synergy",
          "Systemic fungal infections",
          "Talaromyces leycettanus",
          "Talaromyces stipitatus galactanase",
          "Tamarindus indica",
          "Targeted influenza hemagglutinin",
          "Tempo",
          "Textile dyes",
          "Thermodynamics",
          "Thermophilic",
          "Thermophilic fungi",
          "Thermophilic fungi",
          "Thermophilic fungi",
          "Thermophilic fungi",
          "Thermophilic fungi",
          "Thermophilic fungi",
          "Thermophilic mould",
          "Thermophilic mould",
          "Thermostability",
          "Thermostability",
          "Thermostability",
          "Thermostability",
          "Thermostability",
          "Thermostability",
          "Thermostable",
          "Thermostable cellulose",
          "Thermostable enzymes",
          "Thermothelomyces heterothallica",
          "Thermothelomyces thermophila",
          "Thermothelomyces thermophila",
          "Thermothelomyces thermophila",
          "Thermothelomyces thermophila",
          "Thermothelomyces thermophilus",
          "Thermothelomyces thermophilus",
          "Thermothelomyces thermophilus",
          "Thermotolerant",
          "Thermotolerant mutant",
          "Thielavia australiensis",
          "Thielavia terrestris",
          "Tm",
          "Toxicity",
          "Toxicology",
          "Trametes versicolor",
          "Transceptor",
          "Transcription factor",
          "Transcription factor",
          "Transcriptomic profiles",
          "Transcriptomic profiles",
          "Transcriptomics",
          "Transesterification",
          "Transglycosylation",
          "Transporter",
          "Trehalase",
          "Trichoderma reesei",
          "Trichoderma reesei",
          "Trimeric influenza hemagglutinin",
          "Tsgal",
          "Tyrosinase",
          "Tyrosinase",
          "Ultrasound",
          "Vaccine",
          "Variants of concern",
          "Virus",
          "Viscosity",
          "Viscosity reduction",
          "Wastewater",
          "Weimberg pathway",
          "Wild type",
          "Wood",
          "Wood hydrophobization",
          "Wood hydrophobization",
          "Wound enzymes",
          "Wt",
          "Xanthan conformation",
          "Xylan",
          "Xylan",
          "Xylan",
          "Xylan degradation",
          "Xylanase",
          "Xylanase",
          "Xylanase",
          "Xylanase",
          "Xylanase",
          "Xylanases",
          "Xylanolytic regulator",
          "Xylobiohydrolase",
          "Xylobiohydrolase",
          "Xyloglucan",
          "Xyloglucan",
          "Xyloglucan",
          "Xyloglucanase",
          "Xyloglucanase",
          "Xyloglucanase",
          "Xylooligosaccharides",
          "Xylose",
          "Xylose",
          "Zoonotic",
          "Zootechnical additives"
         ],
         "legendgroup": "",
         "marker": {
          "color": [
           1,
           1,
           1,
           1,
           1,
           1,
           1,
           1,
           1,
           1,
           1,
           1,
           1,
           1,
           1,
           1,
           1,
           1,
           1,
           1,
           1,
           1,
           1,
           1,
           1,
           1,
           1,
           1,
           1,
           1,
           1,
           1,
           1,
           1,
           1,
           1,
           1,
           1,
           1,
           1,
           1,
           1,
           1,
           1,
           2,
           1,
           1,
           1,
           1,
           1,
           1,
           1,
           1,
           1,
           1,
           1,
           1,
           1,
           1,
           1,
           1,
           1,
           1,
           1,
           1,
           1,
           1,
           1,
           1,
           1,
           1,
           1,
           1,
           1,
           1,
           1,
           1,
           1,
           1,
           1,
           1,
           1,
           1,
           1,
           1,
           1,
           1,
           1,
           1,
           2,
           2,
           1,
           1,
           1,
           1,
           1,
           1,
           1,
           1,
           1,
           1,
           1,
           1,
           1,
           1,
           1,
           1,
           1,
           1,
           1,
           1,
           1,
           1,
           1,
           1,
           1,
           2,
           1,
           2,
           1,
           1,
           1,
           1,
           1,
           1,
           1,
           1,
           1,
           1,
           1,
           1,
           1,
           1,
           1,
           1,
           1,
           1,
           1,
           1,
           1,
           1,
           1,
           1,
           1,
           1,
           1,
           1,
           1,
           3,
           1,
           1,
           1,
           1,
           1,
           1,
           1,
           1,
           1,
           1,
           1,
           1,
           1,
           1,
           1,
           1,
           1,
           1,
           1,
           1,
           1,
           1,
           1,
           1,
           1,
           1,
           3,
           1,
           1,
           1,
           1,
           1,
           1,
           1,
           1,
           1,
           1,
           1,
           1,
           1,
           1,
           1,
           2,
           1,
           1,
           1,
           2,
           1,
           1,
           1,
           1,
           1,
           1,
           1,
           1,
           1,
           1,
           1,
           1,
           1,
           1,
           1,
           1,
           1,
           1,
           1,
           1,
           1,
           1,
           1,
           1,
           2,
           1,
           3,
           1,
           1,
           1,
           1,
           1,
           1,
           1,
           1,
           1,
           1,
           1,
           1,
           1,
           1,
           1,
           1,
           1,
           1,
           1,
           1,
           1,
           1,
           1,
           1,
           1,
           1,
           2,
           1,
           1,
           1,
           1,
           1,
           1,
           1,
           1,
           1,
           1,
           1,
           1,
           1,
           1,
           1,
           1,
           1,
           1,
           1,
           1,
           1,
           1,
           1,
           1,
           1,
           1,
           1,
           1,
           1,
           1,
           1,
           1,
           1,
           1,
           1,
           1,
           1,
           1,
           1,
           1,
           1,
           1,
           1,
           1,
           1,
           1,
           1,
           1,
           1,
           1,
           1,
           1,
           1,
           1,
           1,
           1,
           1,
           1,
           1,
           1,
           1,
           1,
           1,
           1,
           2,
           4,
           1,
           8,
           1,
           4,
           1,
           1,
           1,
           1,
           1,
           1,
           3,
           1,
           1,
           1,
           1,
           1,
           2,
           1,
           1,
           2,
           1,
           1,
           1,
           1,
           1,
           1,
           2,
           1,
           1,
           1,
           1,
           1,
           2,
           1,
           1,
           1,
           1,
           1,
           1,
           1,
           1,
           1,
           1,
           1,
           1,
           1,
           1,
           1,
           1,
           1,
           1,
           1,
           1,
           1,
           1,
           1,
           1,
           1,
           2,
           2,
           1,
           1,
           1,
           1,
           1,
           1,
           1,
           1,
           1,
           1,
           2,
           1,
           1,
           1,
           1,
           1,
           1,
           1,
           1,
           1,
           2,
           2,
           2,
           2,
           3,
           4,
           8,
           7,
           5,
           5,
           2,
           9,
           2,
           1,
           1,
           1,
           1,
           1,
           1,
           1,
           1,
           1,
           1,
           1,
           1,
           1,
           1,
           1,
           1,
           1,
           1,
           1,
           1,
           1,
           1,
           1,
           1,
           1,
           1,
           1,
           1,
           1,
           1,
           1,
           1,
           1,
           1,
           1,
           1,
           1,
           1,
           1,
           1,
           1,
           1,
           1,
           1,
           1,
           2,
           1,
           1,
           1,
           1,
           1,
           1,
           1,
           1,
           1,
           1,
           1,
           1,
           1,
           1,
           1,
           1,
           1,
           1,
           1,
           1,
           1,
           1,
           1,
           1,
           1,
           1,
           1,
           1,
           1,
           2,
           2,
           1,
           1,
           1,
           1,
           1,
           1,
           2,
           1,
           1,
           1,
           1,
           1,
           1,
           1,
           1,
           1,
           1,
           1,
           1,
           1,
           1,
           1,
           1,
           1,
           1,
           1,
           1,
           1,
           1,
           1,
           1,
           1,
           1,
           1,
           1,
           1,
           1,
           1,
           1,
           1,
           1,
           1,
           1,
           1,
           1,
           1,
           1,
           1,
           1,
           1,
           1,
           1,
           1,
           1,
           1,
           1,
           1,
           1,
           1,
           1,
           1,
           1,
           1,
           1,
           1,
           1,
           1,
           1,
           1,
           1,
           1,
           1,
           1,
           2,
           1,
           1,
           1,
           1,
           1,
           1,
           1,
           2,
           1,
           1,
           2,
           1,
           1,
           1,
           1,
           1,
           1,
           1,
           1,
           1,
           1,
           1,
           1,
           1,
           2,
           1,
           1,
           1,
           1,
           1,
           1,
           1,
           1,
           1,
           1,
           1,
           1,
           1,
           1,
           1,
           1,
           1,
           1,
           1,
           1,
           2,
           1,
           1,
           1,
           1,
           1,
           1,
           1,
           1,
           1,
           1,
           1,
           1,
           1,
           1,
           1,
           1,
           1,
           1,
           1,
           1,
           1,
           2,
           1,
           1,
           1,
           1,
           1,
           1,
           1,
           1,
           1,
           1,
           1,
           1,
           1,
           1,
           1,
           2,
           1,
           2,
           1,
           1,
           1,
           1
          ],
          "coloraxis": "coloraxis",
          "size": [
           1,
           1,
           1,
           1,
           1,
           1,
           1,
           1,
           1,
           1,
           1,
           1,
           1,
           1,
           1,
           1,
           1,
           1,
           1,
           1,
           1,
           1,
           1,
           1,
           1,
           1,
           1,
           1,
           1,
           1,
           1,
           1,
           1,
           1,
           1,
           1,
           1,
           1,
           1,
           1,
           1,
           1,
           1,
           1,
           2,
           1,
           1,
           1,
           1,
           1,
           1,
           1,
           1,
           1,
           1,
           1,
           1,
           1,
           1,
           1,
           1,
           1,
           1,
           1,
           1,
           1,
           1,
           1,
           1,
           1,
           1,
           1,
           1,
           1,
           1,
           1,
           1,
           1,
           1,
           1,
           1,
           1,
           1,
           1,
           1,
           1,
           1,
           1,
           1,
           2,
           2,
           1,
           1,
           1,
           1,
           1,
           1,
           1,
           1,
           1,
           1,
           1,
           1,
           1,
           1,
           1,
           1,
           1,
           1,
           1,
           1,
           1,
           1,
           1,
           1,
           1,
           2,
           1,
           2,
           1,
           1,
           1,
           1,
           1,
           1,
           1,
           1,
           1,
           1,
           1,
           1,
           1,
           1,
           1,
           1,
           1,
           1,
           1,
           1,
           1,
           1,
           1,
           1,
           1,
           1,
           1,
           1,
           1,
           3,
           1,
           1,
           1,
           1,
           1,
           1,
           1,
           1,
           1,
           1,
           1,
           1,
           1,
           1,
           1,
           1,
           1,
           1,
           1,
           1,
           1,
           1,
           1,
           1,
           1,
           1,
           3,
           1,
           1,
           1,
           1,
           1,
           1,
           1,
           1,
           1,
           1,
           1,
           1,
           1,
           1,
           1,
           2,
           1,
           1,
           1,
           2,
           1,
           1,
           1,
           1,
           1,
           1,
           1,
           1,
           1,
           1,
           1,
           1,
           1,
           1,
           1,
           1,
           1,
           1,
           1,
           1,
           1,
           1,
           1,
           1,
           2,
           1,
           3,
           1,
           1,
           1,
           1,
           1,
           1,
           1,
           1,
           1,
           1,
           1,
           1,
           1,
           1,
           1,
           1,
           1,
           1,
           1,
           1,
           1,
           1,
           1,
           1,
           1,
           1,
           2,
           1,
           1,
           1,
           1,
           1,
           1,
           1,
           1,
           1,
           1,
           1,
           1,
           1,
           1,
           1,
           1,
           1,
           1,
           1,
           1,
           1,
           1,
           1,
           1,
           1,
           1,
           1,
           1,
           1,
           1,
           1,
           1,
           1,
           1,
           1,
           1,
           1,
           1,
           1,
           1,
           1,
           1,
           1,
           1,
           1,
           1,
           1,
           1,
           1,
           1,
           1,
           1,
           1,
           1,
           1,
           1,
           1,
           1,
           1,
           1,
           1,
           1,
           1,
           1,
           2,
           4,
           1,
           8,
           1,
           4,
           1,
           1,
           1,
           1,
           1,
           1,
           3,
           1,
           1,
           1,
           1,
           1,
           2,
           1,
           1,
           2,
           1,
           1,
           1,
           1,
           1,
           1,
           2,
           1,
           1,
           1,
           1,
           1,
           2,
           1,
           1,
           1,
           1,
           1,
           1,
           1,
           1,
           1,
           1,
           1,
           1,
           1,
           1,
           1,
           1,
           1,
           1,
           1,
           1,
           1,
           1,
           1,
           1,
           1,
           2,
           2,
           1,
           1,
           1,
           1,
           1,
           1,
           1,
           1,
           1,
           1,
           2,
           1,
           1,
           1,
           1,
           1,
           1,
           1,
           1,
           1,
           2,
           2,
           2,
           2,
           3,
           4,
           8,
           7,
           5,
           5,
           2,
           9,
           2,
           1,
           1,
           1,
           1,
           1,
           1,
           1,
           1,
           1,
           1,
           1,
           1,
           1,
           1,
           1,
           1,
           1,
           1,
           1,
           1,
           1,
           1,
           1,
           1,
           1,
           1,
           1,
           1,
           1,
           1,
           1,
           1,
           1,
           1,
           1,
           1,
           1,
           1,
           1,
           1,
           1,
           1,
           1,
           1,
           1,
           2,
           1,
           1,
           1,
           1,
           1,
           1,
           1,
           1,
           1,
           1,
           1,
           1,
           1,
           1,
           1,
           1,
           1,
           1,
           1,
           1,
           1,
           1,
           1,
           1,
           1,
           1,
           1,
           1,
           1,
           2,
           2,
           1,
           1,
           1,
           1,
           1,
           1,
           2,
           1,
           1,
           1,
           1,
           1,
           1,
           1,
           1,
           1,
           1,
           1,
           1,
           1,
           1,
           1,
           1,
           1,
           1,
           1,
           1,
           1,
           1,
           1,
           1,
           1,
           1,
           1,
           1,
           1,
           1,
           1,
           1,
           1,
           1,
           1,
           1,
           1,
           1,
           1,
           1,
           1,
           1,
           1,
           1,
           1,
           1,
           1,
           1,
           1,
           1,
           1,
           1,
           1,
           1,
           1,
           1,
           1,
           1,
           1,
           1,
           1,
           1,
           1,
           1,
           1,
           1,
           2,
           1,
           1,
           1,
           1,
           1,
           1,
           1,
           2,
           1,
           1,
           2,
           1,
           1,
           1,
           1,
           1,
           1,
           1,
           1,
           1,
           1,
           1,
           1,
           1,
           2,
           1,
           1,
           1,
           1,
           1,
           1,
           1,
           1,
           1,
           1,
           1,
           1,
           1,
           1,
           1,
           1,
           1,
           1,
           1,
           1,
           2,
           1,
           1,
           1,
           1,
           1,
           1,
           1,
           1,
           1,
           1,
           1,
           1,
           1,
           1,
           1,
           1,
           1,
           1,
           1,
           1,
           1,
           2,
           1,
           1,
           1,
           1,
           1,
           1,
           1,
           1,
           1,
           1,
           1,
           1,
           1,
           1,
           1,
           2,
           1,
           2,
           1,
           1,
           1,
           1
          ],
          "sizemode": "area",
          "sizeref": 0.0225,
          "symbol": "circle"
         },
         "mode": "markers",
         "name": "",
         "orientation": "v",
         "showlegend": false,
         "type": "scatter",
         "x": [
          2014.7259282942266,
          2020.1100690604544,
          2018.1122273476278,
          2021.2674536802335,
          2021.8261600833691,
          2023.2430107698356,
          2016.8890840111558,
          2022.0735546676624,
          2017.0070640709826,
          2013.8942761972785,
          2020.8477155427527,
          2022.15305793724,
          2018.8715981678536,
          2016.9855034122763,
          2019.163023931932,
          2018.1644187558327,
          2021.7092177238756,
          2021.0643276637286,
          2021.7819924095597,
          2023.0668440875054,
          2021.9239670136853,
          2014.2605162176742,
          2017.1180138843135,
          2022.0915550937432,
          2019.168542924477,
          2022.7601017086827,
          2018.0129160887864,
          2022.8559865366417,
          2013.9149432195875,
          2016.7628260045587,
          2016.8335770208437,
          2020.0671910431518,
          2022.2805772434008,
          2017.266090179114,
          2017.239895175927,
          2018.000898473927,
          2023.0502350224692,
          2021.7861945009568,
          2017.9588369859352,
          2018.1976853222766,
          2022.2950719621108,
          2016.8889424286344,
          2018.0373723171601,
          2014.0128467439292,
          2017.2564760167786,
          2015.8109718720646,
          2019.7735977584362,
          2017.028913213818,
          2013.8560719797595,
          2016.861496762563,
          2019.8700706299796,
          2020.7999097503862,
          2022.0210690950018,
          2015.9156638307797,
          2020.1648578683917,
          2022.9348651534758,
          2013.7426356089525,
          2015.8454586056412,
          2021.0457015877835,
          2014.7171719019998,
          2016.006864350585,
          2017.1010906039758,
          2020.0446895699868,
          2015.7011410329826,
          2017.1275483846975,
          2016.189165462236,
          2015.2500140046025,
          2016.2598173426345,
          2016.2893263345547,
          2016.8986365646992,
          2014.2280317190891,
          2015.2898887683461,
          2016.0129057050287,
          2020.8228308122968,
          2020.7845008231411,
          2021.044131802803,
          2018.768169984737,
          2017.097186797479,
          2018.109799655357,
          2019.0035288585082,
          2018.987341510732,
          2020.2429452783383,
          2021.853518872588,
          2011.8852338015126,
          2014.123596641887,
          2014.9700667292434,
          2017.7624576169924,
          2019.2629894587121,
          2020.778229025934,
          2021.767754735927,
          2023.2563854147547,
          2021.8664481195879,
          2012.8624846031803,
          2017.2886392779853,
          2019.168989781697,
          2020.1057002880718,
          2021.8129454706802,
          2016.9968682989027,
          2015.2539558126448,
          2017.787788136315,
          2019.2321953513201,
          2019.8537267674121,
          2020.7509932891094,
          2016.1727946647945,
          2019.103977683462,
          2021.8900156180148,
          2015.7015680123486,
          2016.7496807032005,
          2016.2462480254078,
          2020.7444840901278,
          2023.0421229683623,
          2023.062661587279,
          2017.214251849156,
          2016.0595638980953,
          2022.7179761406564,
          2009.7935280209826,
          2017.8037931786082,
          2018.2421117641463,
          2017.8845300986036,
          2021.8717266754418,
          2018.2646947253545,
          2012.8814447476093,
          2014.792657329005,
          2016.7103585127065,
          2020.977707765822,
          2018.2160655541015,
          2017.0935206281576,
          2016.7721659206509,
          2015.1605930321084,
          2017.7774598891149,
          2012.897405689847,
          2020.2111214004801,
          2016.9526707464286,
          2018.7746209832223,
          2019.100006672275,
          2019.7913985079085,
          2020.7846603284474,
          2018.0996886022392,
          2022.8096737417893,
          2018.9794352590407,
          2020.8581213652062,
          2016.2630555235955,
          2017.7842842993832,
          2020.8311804173338,
          2016.9669709406905,
          2021.9992888346267,
          2014.2840031774754,
          2021.2753470355487,
          2018.0381429778322,
          2020.833720702333,
          2020.7311044586288,
          2013.0743098343025,
          2022.0055962261047,
          2020.9361942745509,
          2014.9365721310037,
          2023.1282527461465,
          2020.1455284607518,
          2017.8001628452216,
          2023.1079573601519,
          2021.7147901463566,
          2016.7486600583743,
          2015.2570947870063,
          2022.0774711630552,
          2014.1303074179857,
          2021.7250297788203,
          2022.9465456041278,
          2015.9396572583712,
          2018.9950218393365,
          2016.7106446718283,
          2018.23363363798,
          2015.076626263387,
          2017.1916378944577,
          2019.0108956963797,
          2021.032785563867,
          2014.1679061383102,
          2016.7180871414987,
          2019.2081893634231,
          2016.033260975121,
          2014.219664725894,
          2022.0178281952165,
          2014.917905889222,
          2016.0901672830223,
          2017.2445323029194,
          2016.7388145433647,
          2019.7161797653037,
          2018.8517957675788,
          2020.2709819940749,
          2012.9948609449216,
          2023.1565443615757,
          2021.0764682272288,
          2017.1552413380246,
          2016.0003014965032,
          2017.8986186919512,
          2015.886777436237,
          2018.886108586662,
          2020.842517421884,
          2023.0841771777216,
          2020.1182321035587,
          2017.2257653052504,
          2022.2311029617874,
          2018.8546461157175,
          2016.8782141515048,
          2016.0543569325066,
          2019.8972198794124,
          2020.2937736243725,
          2012.9918306178256,
          2014.1461599502186,
          2023.190980616754,
          2017.8840115698465,
          2016.2035983537912,
          2017.9074631426315,
          2017.9497379115069,
          2020.862650932101,
          2013.9039937227194,
          2016.9367931391052,
          2020.9438397018207,
          2022.0161916322197,
          2017.1823681068377,
          2017.9916422837834,
          2017.0379085875454,
          2019.2231790310052,
          2020.034130839434,
          2022.0171755731683,
          2023.2627095503467,
          2020.271827483529,
          2020.7879115751025,
          2016.2951330471953,
          2022.1017942861215,
          2021.2707258040816,
          2018.961869996267,
          2020.8794897785372,
          2020.0212718498133,
          2012.7589107779197,
          2017.7889679517878,
          2015.8659324448358,
          2022.1667495458344,
          2017.016761683236,
          2020.9058634664443,
          2020.9024865903414,
          2020.780715864114,
          2015.7430152339657,
          2023.2803226199017,
          2023.1308392800138,
          2021.087794697056,
          2020.9408258422307,
          2015.7511300797405,
          2020.255672209696,
          2017.9329554794406,
          2023.2020250943615,
          2019.1740162967685,
          2015.8002813526828,
          2015.2106085682808,
          2021.8393949198842,
          2022.0416067555373,
          2023.188096428205,
          2012.7440913144121,
          2020.9369948329377,
          2018.8571289271338,
          2022.0569744981728,
          2014.895246667039,
          2021.9327249806197,
          2022.2580295918904,
          2021.2999861758153,
          2022.087109168093,
          2019.0897165657223,
          2022.1380986894621,
          2023.1345304347064,
          2015.8067030135542,
          2021.0295236952477,
          2021.9505681402911,
          2021.0659743643662,
          2018.1838293522094,
          2023.0195174356736,
          2021.8148614318325,
          2014.8727748508948,
          2019.2407716638265,
          2020.805054462628,
          2021.8757981720776,
          2018.0956501122657,
          2013.065812125993,
          2020.9232095182385,
          2017.0281693063987,
          2015.228451988553,
          2016.291357621903,
          2020.7281790300015,
          2015.9562050886389,
          2020.8575985946493,
          2017.1835422107945,
          2019.1460404097927,
          2020.9027805308162,
          2021.9401181633775,
          2010.219819051335,
          2013.9757649806024,
          2017.9776147594048,
          2020.7629034164975,
          2021.2856394475216,
          2020.2654719058064,
          2017.764615387089,
          2016.1859669622304,
          2022.1667693559627,
          2021.781821136951,
          2021.829191638657,
          2022.1730648074551,
          2022.9333858374994,
          2014.1844792188087,
          2022.1534416636198,
          2017.8918156892423,
          2016.0192589681571,
          2021.0521669371249,
          2020.9376688435314,
          2017.975434912488,
          2021.9247088307536,
          2022.8382171842425,
          2010.1315088510594,
          2014.2988118917701,
          2016.0117038758963,
          2017.2100018361984,
          2018.204498558489,
          2020.002601731851,
          2020.9013717026369,
          2022.1890543589175,
          2023.0867211161915,
          2016.7782374670585,
          2017.8975834836858,
          2023.1191485543832,
          2017.9557232986203,
          2015.7334128134496,
          2021.741024864123,
          2021.8506076843767,
          2013.981589818064,
          2020.9256270427777,
          2015.7076859299452,
          2017.0953909456819,
          2018.0260166006776,
          2021.851777179272,
          2016.7879889920368,
          2020.2054007111788,
          2021.2464753578313,
          2021.1271170377206,
          2020.7648840265954,
          2020.7801298433344,
          2014.8423574274545,
          2017.0539102912626,
          2019.943203288874,
          2022.8669973179735,
          2021.2737233148657,
          2021.7070286206508,
          2021.0941789606045,
          2017.1718803045824,
          2018.1326055162624,
          2018.891319966552,
          2020.062548900391,
          2021.1541933305145,
          2022.173735888042,
          2023.0581480085546,
          2012.71604851003,
          2023.2238194365364,
          2017.0578823203957,
          2018.9330758236313,
          2021.1253528116113,
          2021.7967832665122,
          2019.267702125742,
          2018.8767301204928,
          2021.7753227176352,
          2014.0185072338068,
          2022.1308245499029,
          2021.996745403977,
          2021.9544791575718,
          2021.093700092887,
          2015.2457856607575,
          2009.9371763884446,
          2018.2683173284574,
          2019.2580216095466,
          2019.7394474109187,
          2021.0821990735785,
          2021.738210799539,
          2022.1455793733833,
          2020.0585439114204,
          2018.8042905960378,
          2019.809599385953,
          2016.1123502111354,
          2015.0024051525,
          2016.7409898717322,
          2020.9078616668567,
          2014.9946171565348,
          2020.9170446350504,
          2022.118423232996,
          2020.2518037825787,
          2023.2215779874816,
          2017.890303797813,
          2014.9206842682981,
          2016.8256694643508,
          2020.0176863067122,
          2018.9179851338672,
          2016.8003804026712,
          2017.2616479393844,
          2021.0600784795183,
          2023.1879206681504,
          2013.0864089423865,
          2013.7323063849426,
          2015.2744349706957,
          2015.918216087548,
          2016.7850388828804,
          2017.8224544849631,
          2018.8678148984152,
          2020.1948938244664,
          2020.9142674072655,
          2021.7419635869105,
          2022.9328249334083,
          2020.0711739912542,
          2018.2322432312003,
          2014.1624234430008,
          2021.7086899361589,
          2013.9038604861098,
          2021.178161748956,
          2021.2225256195209,
          2020.9751781500506,
          2021.7184043325062,
          2012.8429124935114,
          2021.072421949849,
          2017.2938891020215,
          2016.8770308582418,
          2015.7357071331612,
          2012.8916900199622,
          2021.981918568811,
          2016.0451512793154,
          2018.0843367552786,
          2017.2205600956238,
          2018.1368164001085,
          2020.779027923708,
          2022.1669832753948,
          2016.816566845957,
          2013.0089869566907,
          2018.7074336746675,
          2015.814097827977,
          2021.1826657049896,
          2020.0366084306397,
          2022.0552523419178,
          2018.0308500291826,
          2013.7609106637867,
          2017.006436041755,
          2016.8220541713551,
          2015.118465723702,
          2018.80531342663,
          2017.8060535714717,
          2021.0846670885155,
          2017.8818046041467,
          2016.0915148920164,
          2017.8949602594626,
          2016.7493524996253,
          2017.0941267766304,
          2012.9172002675898,
          2014.728532032713,
          2015.723739748203,
          2016.847662221778,
          2018.0235908309462,
          2018.8078903455723,
          2021.1552792411858,
          2017.730979670277,
          2013.8858567369152,
          2017.7670616701216,
          2020.8679960214338,
          2020.2267983360548,
          2018.2506747876903,
          2015.1426121535399,
          2016.019364804348,
          2016.7433116640564,
          2018.1494662877592,
          2022.945924126537,
          2017.0618020987013,
          2020.931579824918,
          2019.2892863162738,
          2019.0561246870207,
          2013.805598018816,
          2022.7264489198187,
          2020.7183705151394,
          2017.101538356807,
          2022.0153532645645,
          2017.049111143281,
          2020.9329251052181,
          2021.2803679959554,
          2014.717875296964,
          2020.2556334887981,
          2021.1508484876,
          2016.8083690824892,
          2019.9219719986513,
          2020.8709256605819,
          2014.0086273238546,
          2016.127906009587,
          2018.8442996112185,
          2020.0241668576436,
          2014.940260988304,
          2020.702535620133,
          2015.8822669621065,
          2021.2203047647195,
          2015.8715427887198,
          2022.1616261614681,
          2020.0666494976335,
          2016.944741797553,
          2022.2654710472939,
          2020.9619605609944,
          2021.839017333325,
          2021.8459955321837,
          2021.8008176757983,
          2013.1798699853603,
          2018.217539365777,
          2021.8626496932422,
          2017.9218249962425,
          2012.998586759243,
          2019.9273762097255,
          2022.7368950686034,
          2019.1301557833738,
          2021.7809143741426,
          2014.7039467666225,
          2016.0831992320486,
          2018.0073529867368,
          2018.9282782938074,
          2017.711276662813,
          2018.9628622076023,
          2023.1377104787093,
          2017.7118144720994,
          2023.1367799988923,
          2015.867395891358,
          2022.849108275548,
          2015.7337296448454,
          2020.858912663924,
          2023.1943966323443,
          2021.0215178384522,
          2014.2393166434724,
          2021.2792754769255,
          2017.0064632136086,
          2016.9382466866416,
          2016.1419924792772,
          2016.7183170696392,
          2009.7229069380219,
          2013.715084700761,
          2021.8465627122357,
          2018.0864947434184,
          2018.9497489565174,
          2020.1726437512887,
          2021.7181951019327,
          2019.9801437095716,
          2014.1193415519967,
          2015.722149491512,
          2018.7415350612612,
          2019.7184546501317,
          2022.789859162682,
          2015.7074598189581,
          2021.8470006025937,
          2017.102224934211,
          2015.8436903404188,
          2018.9060051589327,
          2021.8354038780578,
          2016.2764083338895,
          2016.7413755490152,
          2014.827931338764,
          2021.2106201247723,
          2021.869827720863,
          2017.8186613321143,
          2017.8232213648903,
          2023.1033356009646,
          2013.0991731221045,
          2012.0451051260454,
          2014.8794269319856,
          2016.9436317296738,
          2018.71394556397,
          2021.278691879118,
          2022.256084960415,
          2016.1506279679954,
          2017.0869007858103,
          2014.9905492364003,
          2017.297840201046,
          2020.0025246816808,
          2020.9127664851828,
          2021.764417083273,
          2022.724080118795,
          2023.0932889154394,
          2020.91597461442,
          2016.2596470256558,
          2022.1892917295881,
          2018.8885689457554,
          2019.9167681254921,
          2020.724876587674,
          2022.7184108836132,
          2018.9289891219514,
          2020.2981602254044,
          2020.7943190166197,
          2016.0241768416852,
          2022.7967650412072,
          2019.9161702057925,
          2017.2694088609958,
          2014.8258869149886,
          2017.8848483993327,
          2022.2533026058588,
          2017.9232034193628,
          2023.073811013406,
          2018.2317434752983,
          2021.8532633153584,
          2017.8276727919229,
          2021.181890712023,
          2021.7125653839275,
          2017.2093151489921,
          2012.765715328286,
          2020.7198772041206,
          2020.0229559933387,
          2017.2558137552023,
          2020.1424593527013,
          2021.9153273827558,
          2015.1131373273308,
          2016.9270653462409,
          2021.2658880496426,
          2017.2992640751584,
          2021.748787980019,
          2021.9746624178358,
          2021.97701072584,
          2017.1899729922338,
          2020.790961587887,
          2017.890635038764,
          2022.975737068778,
          2014.743884932469,
          2018.2466418518823,
          2020.737064200534,
          2023.1477221613845,
          2017.7966889634604,
          2015.1330275235757,
          2014.2600614631788,
          2015.180931955851,
          2016.2615776116884,
          2021.1110961027728,
          2019.2138462946955,
          2011.7095767279588,
          2018.2427254995682,
          2019.9673315945113,
          2021.110735363326,
          2023.1212971914983,
          2018.2251681242385,
          2018.882824761062,
          2018.9375395368486,
          2020.7760064753154,
          2016.8686522010203,
          2020.9494153258818,
          2022.161780441772,
          2017.0679683175958,
          2020.0434202347305,
          2021.0237193905725,
          2019.2171238050837,
          2015.8867911551845,
          2020.8982723757053,
          2022.258995185105,
          2023.2873927621638
         ],
         "xaxis": "x",
         "y": [
          1.4345711778460042,
          0.9660516889316236,
          0.6528663489892043,
          1.4515500990800718,
          0.6120021878063973,
          1.231636453849447,
          1.4492765990868728,
          0.6858579592234868,
          1.1081710165155834,
          1.3294346859507646,
          1.1405854907598245,
          0.9678434648422145,
          1.3702281842220523,
          0.6515685534842679,
          0.7265817941692875,
          1.2082861775129732,
          1.0074441852547653,
          1.3837194517539602,
          0.8310143074328571,
          0.9700991321596404,
          1.0476683377124387,
          0.5907843964517935,
          0.5286840436688075,
          1.201398834484153,
          1.1442473235931117,
          0.8216431705410582,
          1.3951339405855023,
          0.6402195134117877,
          1.3331961196369937,
          1.1429952677519162,
          1.1686433644709902,
          1.052454226158415,
          0.8430303809172961,
          0.8876885551937915,
          0.8584980500921116,
          1.0295259758751203,
          1.0331259406094402,
          0.5231921687942426,
          0.9782226161299518,
          0.6645087015311307,
          1.1736540387505887,
          1.0968551366657602,
          1.3073536683263325,
          0.5585363098197741,
          1.5230979632406658,
          1.2868768835526458,
          0.640888747678707,
          0.9626464835079287,
          1.0636643482957497,
          1.005899300831285,
          1.0735094435232322,
          1.055084942926402,
          0.8330092406251325,
          0.9911427256447027,
          1.4122200001996892,
          1.171586043325527,
          0.8503130323003834,
          0.9792212041353368,
          0.8705106781619683,
          0.8590622817776534,
          1.3359383978297243,
          1.1764459758634116,
          0.7838496154757952,
          1.4380158051701577,
          1.008937789346862,
          0.7264328833793401,
          1.3011251831053319,
          0.5461358956051363,
          0.6785993371641097,
          0.6176461046599369,
          0.6963078314736537,
          1.4923365218121998,
          1.2280136584094175,
          0.6682146339810099,
          0.895509626243594,
          1.0055508545360539,
          1.1856322915241944,
          0.9131936657718411,
          1.2698054188965522,
          1.480550904494672,
          1.1751581171691212,
          1.2115705619137134,
          0.6412790785855059,
          1.2877981586795404,
          1.3778067577375301,
          0.8701512123446945,
          0.5212219119851791,
          1.303160403539708,
          1.3857615172807582,
          2.10508931712047,
          1.5460361374595157,
          1.4559195579384583,
          1.3637993888931548,
          0.7087676343683542,
          0.7741041133054731,
          0.7430142162372793,
          0.779812465932986,
          0.5321731023991793,
          0.5692643547737866,
          0.6865066794954846,
          1.176554271437071,
          0.5218438462420953,
          1.4579475923128713,
          1.0128305356801892,
          0.7787133105461963,
          1.090398604077572,
          1.3498904950949115,
          0.8840167095777084,
          0.720891257515865,
          0.8906746537568216,
          0.9337640226355819,
          0.7558977752360885,
          1.2631028781665186,
          1.1579296055881536,
          0.8794946909214558,
          0.7624469990860401,
          1.8890886123612596,
          0.6837802148575814,
          1.5470666678632026,
          1.2944117818172147,
          0.8478162931042461,
          0.9460302474605015,
          1.1468269324387745,
          1.0134947030686836,
          1.060358966880484,
          0.8345125788657922,
          0.9898661141972052,
          1.2792698240323346,
          0.7490114104946363,
          0.855829963134373,
          0.6067981183900852,
          0.9921922838118482,
          1.4793115131095544,
          1.2940162148214702,
          1.4235679849529304,
          1.366697221375584,
          0.6681848640885859,
          1.211168117720655,
          1.4488329899177388,
          0.6218372579614081,
          0.7803129514052419,
          1.3912944887955427,
          0.8021392997463525,
          0.8032674889500693,
          1.4980802260123633,
          1.2029976577341774,
          0.8520636890493193,
          1.3092404693231243,
          3.4018486881797196,
          1.2496704897207875,
          1.49952876484189,
          1.1250941418790226,
          1.0342157258228868,
          1.0192280383675625,
          0.7041020508391763,
          1.155280792521677,
          1.4715048814188276,
          0.547552651969357,
          0.9360434239046072,
          0.7036847891634642,
          0.9296129694997394,
          1.355400027723718,
          0.5673529509057189,
          1.4349809731491354,
          1.0375212932252729,
          0.7233256801366693,
          0.8880934402569952,
          1.2167014774814575,
          0.618240219973041,
          1.351453279220821,
          1.014135622772268,
          0.7059962216554888,
          1.223881562211646,
          0.7207809662222014,
          1.0861248667293273,
          2.7934868193118856,
          1.000728201427428,
          1.2899928321782497,
          1.2395977837066536,
          1.2957590289395082,
          1.1734503124894884,
          1.0989878285726116,
          1.2313581608008541,
          0.9270749419835463,
          0.7514536806815931,
          1.3804558772443647,
          0.8946417757721817,
          0.5864961793042056,
          1.0608133371252753,
          1.2530438531118118,
          1.0344251465226786,
          1.6487808075824362,
          1.0396342400240923,
          1.056409822863257,
          1.2184299076132548,
          2.3212264634399946,
          0.8897684984217757,
          0.7554908375811666,
          1.4385087949650173,
          0.8789036719427961,
          0.6928264390949932,
          1.0295729279873136,
          1.452030168945143,
          0.7752175735962035,
          1.3285065707478778,
          1.1822868003380254,
          1.062733586786356,
          0.8835321651277713,
          0.7135710928230379,
          0.9184652785729444,
          1.363121894078768,
          1.026453058910949,
          1.0769565095496874,
          1.3248045522682257,
          1.4433943348107174,
          0.7678605250058899,
          1.1085420784776638,
          1.0712466555600177,
          1.242281294903032,
          1.1812205219601775,
          2.0740581145468315,
          0.7708479347583777,
          3.336211609856523,
          0.8154896770693073,
          0.6951475183710751,
          0.8027934414203094,
          1.2454093015414816,
          0.649060586265479,
          1.455160988933382,
          0.6026745540729421,
          0.8873226544048864,
          0.9071400338319221,
          1.1825586883571684,
          1.1535101651859687,
          1.3749415202205097,
          0.7493635516768766,
          0.5714225684312596,
          1.4624978939527158,
          1.1811320106024326,
          0.6803857701272655,
          1.0202665842885303,
          1.4922348349323213,
          1.2510223994747343,
          1.0259691511749067,
          1.1502907422913125,
          0.7533749446582523,
          1.43828853182618,
          1.107544847183915,
          0.7015303254685673,
          2.207041790198025,
          1.2250311147983282,
          0.881055885559039,
          0.7213397953956749,
          1.3150302968825147,
          0.9573692727361092,
          1.272208012880419,
          0.8946214791199737,
          0.7245775053315735,
          0.8967161235392451,
          0.6570627074332809,
          0.9782986367877896,
          1.12612193392755,
          1.0069397995970253,
          1.3616063663209101,
          0.8087575772780193,
          0.5264505653565826,
          1.1296540539536206,
          1.4370525010545032,
          1.4924093623954509,
          1.448456381569783,
          0.6962062862292532,
          0.8108622519968359,
          1.340366493687703,
          0.7398748220408147,
          0.9541345816176071,
          0.7526901964592175,
          1.1268146880477916,
          1.0107329339924078,
          1.337263614252961,
          1.1276106885376265,
          1.0968326987627888,
          1.3657153247010059,
          0.8320437647388013,
          1.0632156870055574,
          0.5092626570905272,
          0.811792399109446,
          0.9241232796451133,
          0.5904409578996885,
          1.2263387145109705,
          1.2812533803462078,
          0.7976644331206948,
          0.7749115552294297,
          1.352616654871349,
          1.0561855059716492,
          1.0388236598325344,
          0.9177632526931979,
          1.433338051032034,
          0.5898340966519278,
          1.088170217507358,
          0.7639432859526814,
          0.6836194112047048,
          0.7686260217064002,
          1.3351710352512811,
          1.049710845227621,
          1.4305716075574328,
          0.8237736624102844,
          0.8072320269147607,
          1.4188889577952097,
          0.809141723017203,
          0.6127158329323643,
          1.1702752148623667,
          0.8355765029114706,
          1.1385092361896043,
          1.3011090928862235,
          2.4588456372999694,
          4.255417032417462,
          0.6746489980853538,
          7.596617314983523,
          1.391675144354313,
          3.702083342863058,
          0.7981653270197138,
          1.3507378798735006,
          1.332568616835668,
          0.8739531017764335,
          0.8071833535580629,
          1.200263597004976,
          3.1198153872921734,
          0.8216981299374807,
          0.6607703923840355,
          0.9841641753065035,
          1.4548811628839085,
          1.35717024985442,
          1.9793503472816738,
          1.1305519426413002,
          1.0691910453934144,
          1.806706390818825,
          1.0513503973340321,
          1.3935684126468488,
          1.097107457479968,
          0.6530107846988175,
          1.4313001501761744,
          1.497625473723983,
          1.909296684743146,
          1.4276382406947579,
          1.1462829051827599,
          1.4108735242779185,
          1.185822189844977,
          1.2356304096284818,
          1.54822935638597,
          0.5960653277499041,
          1.1979584302544928,
          0.5828839088289851,
          0.5618331717548827,
          1.2756710688937591,
          0.889103949837408,
          0.701289797149349,
          0.91810753221135,
          0.6205154052240016,
          0.7844605388248708,
          0.8957063863393455,
          0.560152985914204,
          1.3993472974184546,
          1.027684136784448,
          1.1881173060328716,
          0.7879255840173099,
          1.2164314446860875,
          0.7587250003624291,
          0.5531778356472327,
          0.8293478085606877,
          1.2577124905902592,
          0.9117517810321513,
          1.2647795131633544,
          0.8740865316685807,
          0.7792056182858114,
          2.1853268797941796,
          2.491917169708851,
          1.0869622916364392,
          0.5489678832366884,
          0.9339265726012929,
          0.5887018823536446,
          1.4429442218414539,
          1.0959189537313585,
          1.1373025002760113,
          1.3673731847339017,
          0.9628372070071751,
          1.1429996309911106,
          2.3431162128427867,
          0.9035645595880722,
          1.1111326514815678,
          0.787895014651789,
          1.497716376640731,
          1.4582702650164112,
          1.0461822673322159,
          1.2325927284336342,
          1.2069324158846562,
          1.0956370289008632,
          2.243251586588215,
          1.8530299776086772,
          2.3867687498955803,
          1.77798384269509,
          3.3057668461810192,
          4.278772961746099,
          8.122507720782579,
          6.73627191228969,
          4.967871246906315,
          5.049007678438571,
          2.4356914783698,
          8.956321868897708,
          2.268978436919052,
          1.0027948178381907,
          1.3606198076169722,
          1.0928747396649272,
          1.3780144382338393,
          0.6065757030583534,
          1.1719660273988879,
          0.947417850734514,
          0.6765252091261668,
          1.121376891189799,
          0.7672943216831424,
          0.6002924848626391,
          0.6700563371479125,
          0.7136673023759444,
          0.9983006358888413,
          1.235396714998473,
          1.210975546276586,
          1.4813573533060693,
          1.1663985085466244,
          1.3874872400531406,
          0.5336390889433025,
          0.7476826664025688,
          1.4761598278799324,
          0.6752645092578434,
          1.3674613806761329,
          1.0150332040960228,
          1.0571898572737544,
          1.076487985841946,
          0.5862078508648826,
          0.901969135342328,
          0.519263833559445,
          0.6354573204011094,
          1.355822539612857,
          0.6085387359322347,
          1.3150618622929104,
          0.6189348305820092,
          0.5581503230917473,
          0.7915388933489593,
          0.6008128217421791,
          1.4048443143690315,
          0.83832808610575,
          0.7039238516373357,
          1.0852439935888065,
          0.6173072155000646,
          0.7137872048065228,
          0.8444085456466923,
          2.4834203389699114,
          1.4342752761514728,
          1.0866393145960114,
          0.7129592213605718,
          1.2205497931871925,
          0.7558179110617799,
          0.8586475688484381,
          0.6425820949792419,
          0.5222450093599704,
          1.153676026768545,
          0.565581318069946,
          0.837043384909041,
          0.8718301860521266,
          0.6411455177201896,
          1.2359605333434205,
          0.9208807568922055,
          1.4272538244774062,
          1.223856479318013,
          1.0150035229827625,
          0.7572588795644302,
          1.252228141688188,
          0.6327284275284785,
          0.9984226687391897,
          1.2778848025975647,
          1.2949182479293073,
          0.9272757937258963,
          1.3625549959956706,
          0.5868479231910299,
          1.1094280027655925,
          0.6457151408265137,
          1.7788304807803947,
          1.5184663465114583,
          1.0765475955144777,
          0.9937298722320251,
          1.3357093563243057,
          0.8291806750951505,
          1.0393537398736057,
          0.6793488181055339,
          2.4004361675636714,
          0.5676173989962043,
          0.5238637731713377,
          1.0954208665110774,
          1.1783352832514125,
          1.2326718898034057,
          0.6441329066894051,
          1.0034900477805089,
          1.166276399574056,
          0.6279372924692528,
          1.3572029657061324,
          1.278294291451998,
          1.3894768017437955,
          1.223646640796713,
          1.2511457477269845,
          1.1292371743281446,
          0.5358520851103203,
          1.3223973287712725,
          1.3602275492896565,
          0.5409778302724891,
          0.7346509724310499,
          0.7431067829273589,
          1.361596466064778,
          0.8983210934225172,
          1.2796494781599361,
          0.7491930818550934,
          1.0538155037100974,
          1.0566572598274369,
          0.5681206068848981,
          1.4548202186497932,
          0.8093871954081,
          1.1040632974705347,
          0.6018883571495576,
          1.3481116268438098,
          1.0095069360115985,
          1.1888118163322186,
          1.365722339637912,
          0.7544020884419124,
          0.6281627902497685,
          0.88044378351445,
          0.9498485595865455,
          1.2894285469365392,
          1.4899811584147291,
          0.5702405351816874,
          1.191872024793649,
          0.5037590644688565,
          0.9145287445143868,
          1.043467725672461,
          1.4495353711124064,
          1.2800992495452843,
          1.1928058310798062,
          1.0156426314334825,
          1.1500027897798408,
          1.1856474987110248,
          1.4746374682392318,
          0.9420524477502393,
          1.059007143946296,
          1.2775640936757156,
          0.7914885764397124,
          1.3874704647853555,
          0.535271179950164,
          1.4272703828722677,
          0.6847816930774462,
          0.5040287594494021,
          1.077947653112248,
          0.6434607740248538,
          1.294621557313325,
          2.243422458154305,
          0.764060138062263,
          0.6422864344720233,
          0.6156626544979895,
          0.7209651176604878,
          0.8299854548932262,
          0.6130098193075476,
          1.429360930519552,
          2.0672669259899283,
          0.8320093144633578,
          0.6475314999406605,
          1.6139161964381525,
          1.4015292572278621,
          0.8600726840995453,
          0.9777350130499549,
          0.7975448513201532,
          0.8335013780534861,
          0.8647789993980854,
          0.9523424523219666,
          0.9390294164015127,
          1.4865377202277914,
          0.8862494591471258,
          0.7893428797664418,
          0.6807400984234523,
          1.1620584290433063,
          1.521979260952727,
          1.26469304236622,
          1.4446312378358317,
          1.2520693912603154,
          1.0153493358077363,
          0.6309478298358727,
          0.699883426364836,
          0.5910089108668359,
          1.3527547122759547,
          0.7463170982021943,
          1.0544424714783278,
          0.5058153257751148,
          1.4030806566280605,
          0.6171675995078747,
          1.0976103053633612,
          0.9054344801580354,
          0.5801022597028341,
          0.7058804470096508,
          0.7093150540197205,
          0.5628455213493242,
          1.4231883660972433,
          2.165199717310411,
          0.7628576424956461,
          1.2529872462946439,
          1.1554387628605793,
          1.4441593724622084,
          0.7416111126582386,
          0.6535492198831321,
          1.435800410641527,
          0.9838920028835956,
          0.9584901935323075,
          0.8384305040325523,
          1.1825969046602798,
          0.6439786227402972,
          1.1691688757283671,
          1.4813355083050597,
          0.852846248256589,
          1.0573385188706506,
          0.9049221072549977,
          0.7735291425920987,
          1.4545939034855504,
          1.046433131422993,
          1.0775980361568802,
          1.8681643512858703,
          0.8093289583016587,
          0.7132667496270113,
          1.3255522470417713,
          0.8882443691940288,
          0.733948232279357,
          0.8581706406846352,
          1.4348422812511927,
          0.5469458434570407,
          1.163951224997804,
          0.886030713529161,
          0.9836246927853993,
          1.3933092494585977,
          0.9252910384887104,
          1.048492108144675,
          0.6797935319128207,
          1.9164191823296073,
          0.8713775151030598,
          1.6558959195636653,
          0.9999115849048866,
          1.4706380973313367,
          0.5902891441043384,
          0.7581543513758152
         ],
         "yaxis": "y"
        }
       ],
       "layout": {
        "coloraxis": {
         "colorbar": {
          "title": {
           "text": "Numbers"
          }
         },
         "colorscale": [
          [
           0,
           "rgb(75, 41, 145)"
          ],
          [
           0.16666666666666666,
           "rgb(135, 44, 162)"
          ],
          [
           0.3333333333333333,
           "rgb(192, 54, 157)"
          ],
          [
           0.5,
           "rgb(234, 79, 136)"
          ],
          [
           0.6666666666666666,
           "rgb(250, 120, 118)"
          ],
          [
           0.8333333333333334,
           "rgb(246, 169, 122)"
          ],
          [
           1,
           "rgb(237, 217, 163)"
          ]
         ]
        },
        "height": 600,
        "legend": {
         "itemsizing": "constant",
         "tracegroupgap": 0
        },
        "margin": {
         "t": 60
        },
        "template": {
         "data": {
          "bar": [
           {
            "error_x": {
             "color": "#2a3f5f"
            },
            "error_y": {
             "color": "#2a3f5f"
            },
            "marker": {
             "line": {
              "color": "white",
              "width": 0.5
             },
             "pattern": {
              "fillmode": "overlay",
              "size": 10,
              "solidity": 0.2
             }
            },
            "type": "bar"
           }
          ],
          "barpolar": [
           {
            "marker": {
             "line": {
              "color": "white",
              "width": 0.5
             },
             "pattern": {
              "fillmode": "overlay",
              "size": 10,
              "solidity": 0.2
             }
            },
            "type": "barpolar"
           }
          ],
          "carpet": [
           {
            "aaxis": {
             "endlinecolor": "#2a3f5f",
             "gridcolor": "#C8D4E3",
             "linecolor": "#C8D4E3",
             "minorgridcolor": "#C8D4E3",
             "startlinecolor": "#2a3f5f"
            },
            "baxis": {
             "endlinecolor": "#2a3f5f",
             "gridcolor": "#C8D4E3",
             "linecolor": "#C8D4E3",
             "minorgridcolor": "#C8D4E3",
             "startlinecolor": "#2a3f5f"
            },
            "type": "carpet"
           }
          ],
          "choropleth": [
           {
            "colorbar": {
             "outlinewidth": 0,
             "ticks": ""
            },
            "type": "choropleth"
           }
          ],
          "contour": [
           {
            "colorbar": {
             "outlinewidth": 0,
             "ticks": ""
            },
            "colorscale": [
             [
              0,
              "#0d0887"
             ],
             [
              0.1111111111111111,
              "#46039f"
             ],
             [
              0.2222222222222222,
              "#7201a8"
             ],
             [
              0.3333333333333333,
              "#9c179e"
             ],
             [
              0.4444444444444444,
              "#bd3786"
             ],
             [
              0.5555555555555556,
              "#d8576b"
             ],
             [
              0.6666666666666666,
              "#ed7953"
             ],
             [
              0.7777777777777778,
              "#fb9f3a"
             ],
             [
              0.8888888888888888,
              "#fdca26"
             ],
             [
              1,
              "#f0f921"
             ]
            ],
            "type": "contour"
           }
          ],
          "contourcarpet": [
           {
            "colorbar": {
             "outlinewidth": 0,
             "ticks": ""
            },
            "type": "contourcarpet"
           }
          ],
          "heatmap": [
           {
            "colorbar": {
             "outlinewidth": 0,
             "ticks": ""
            },
            "colorscale": [
             [
              0,
              "#0d0887"
             ],
             [
              0.1111111111111111,
              "#46039f"
             ],
             [
              0.2222222222222222,
              "#7201a8"
             ],
             [
              0.3333333333333333,
              "#9c179e"
             ],
             [
              0.4444444444444444,
              "#bd3786"
             ],
             [
              0.5555555555555556,
              "#d8576b"
             ],
             [
              0.6666666666666666,
              "#ed7953"
             ],
             [
              0.7777777777777778,
              "#fb9f3a"
             ],
             [
              0.8888888888888888,
              "#fdca26"
             ],
             [
              1,
              "#f0f921"
             ]
            ],
            "type": "heatmap"
           }
          ],
          "heatmapgl": [
           {
            "colorbar": {
             "outlinewidth": 0,
             "ticks": ""
            },
            "colorscale": [
             [
              0,
              "#0d0887"
             ],
             [
              0.1111111111111111,
              "#46039f"
             ],
             [
              0.2222222222222222,
              "#7201a8"
             ],
             [
              0.3333333333333333,
              "#9c179e"
             ],
             [
              0.4444444444444444,
              "#bd3786"
             ],
             [
              0.5555555555555556,
              "#d8576b"
             ],
             [
              0.6666666666666666,
              "#ed7953"
             ],
             [
              0.7777777777777778,
              "#fb9f3a"
             ],
             [
              0.8888888888888888,
              "#fdca26"
             ],
             [
              1,
              "#f0f921"
             ]
            ],
            "type": "heatmapgl"
           }
          ],
          "histogram": [
           {
            "marker": {
             "pattern": {
              "fillmode": "overlay",
              "size": 10,
              "solidity": 0.2
             }
            },
            "type": "histogram"
           }
          ],
          "histogram2d": [
           {
            "colorbar": {
             "outlinewidth": 0,
             "ticks": ""
            },
            "colorscale": [
             [
              0,
              "#0d0887"
             ],
             [
              0.1111111111111111,
              "#46039f"
             ],
             [
              0.2222222222222222,
              "#7201a8"
             ],
             [
              0.3333333333333333,
              "#9c179e"
             ],
             [
              0.4444444444444444,
              "#bd3786"
             ],
             [
              0.5555555555555556,
              "#d8576b"
             ],
             [
              0.6666666666666666,
              "#ed7953"
             ],
             [
              0.7777777777777778,
              "#fb9f3a"
             ],
             [
              0.8888888888888888,
              "#fdca26"
             ],
             [
              1,
              "#f0f921"
             ]
            ],
            "type": "histogram2d"
           }
          ],
          "histogram2dcontour": [
           {
            "colorbar": {
             "outlinewidth": 0,
             "ticks": ""
            },
            "colorscale": [
             [
              0,
              "#0d0887"
             ],
             [
              0.1111111111111111,
              "#46039f"
             ],
             [
              0.2222222222222222,
              "#7201a8"
             ],
             [
              0.3333333333333333,
              "#9c179e"
             ],
             [
              0.4444444444444444,
              "#bd3786"
             ],
             [
              0.5555555555555556,
              "#d8576b"
             ],
             [
              0.6666666666666666,
              "#ed7953"
             ],
             [
              0.7777777777777778,
              "#fb9f3a"
             ],
             [
              0.8888888888888888,
              "#fdca26"
             ],
             [
              1,
              "#f0f921"
             ]
            ],
            "type": "histogram2dcontour"
           }
          ],
          "mesh3d": [
           {
            "colorbar": {
             "outlinewidth": 0,
             "ticks": ""
            },
            "type": "mesh3d"
           }
          ],
          "parcoords": [
           {
            "line": {
             "colorbar": {
              "outlinewidth": 0,
              "ticks": ""
             }
            },
            "type": "parcoords"
           }
          ],
          "pie": [
           {
            "automargin": true,
            "type": "pie"
           }
          ],
          "scatter": [
           {
            "fillpattern": {
             "fillmode": "overlay",
             "size": 10,
             "solidity": 0.2
            },
            "type": "scatter"
           }
          ],
          "scatter3d": [
           {
            "line": {
             "colorbar": {
              "outlinewidth": 0,
              "ticks": ""
             }
            },
            "marker": {
             "colorbar": {
              "outlinewidth": 0,
              "ticks": ""
             }
            },
            "type": "scatter3d"
           }
          ],
          "scattercarpet": [
           {
            "marker": {
             "colorbar": {
              "outlinewidth": 0,
              "ticks": ""
             }
            },
            "type": "scattercarpet"
           }
          ],
          "scattergeo": [
           {
            "marker": {
             "colorbar": {
              "outlinewidth": 0,
              "ticks": ""
             }
            },
            "type": "scattergeo"
           }
          ],
          "scattergl": [
           {
            "marker": {
             "colorbar": {
              "outlinewidth": 0,
              "ticks": ""
             }
            },
            "type": "scattergl"
           }
          ],
          "scattermapbox": [
           {
            "marker": {
             "colorbar": {
              "outlinewidth": 0,
              "ticks": ""
             }
            },
            "type": "scattermapbox"
           }
          ],
          "scatterpolar": [
           {
            "marker": {
             "colorbar": {
              "outlinewidth": 0,
              "ticks": ""
             }
            },
            "type": "scatterpolar"
           }
          ],
          "scatterpolargl": [
           {
            "marker": {
             "colorbar": {
              "outlinewidth": 0,
              "ticks": ""
             }
            },
            "type": "scatterpolargl"
           }
          ],
          "scatterternary": [
           {
            "marker": {
             "colorbar": {
              "outlinewidth": 0,
              "ticks": ""
             }
            },
            "type": "scatterternary"
           }
          ],
          "surface": [
           {
            "colorbar": {
             "outlinewidth": 0,
             "ticks": ""
            },
            "colorscale": [
             [
              0,
              "#0d0887"
             ],
             [
              0.1111111111111111,
              "#46039f"
             ],
             [
              0.2222222222222222,
              "#7201a8"
             ],
             [
              0.3333333333333333,
              "#9c179e"
             ],
             [
              0.4444444444444444,
              "#bd3786"
             ],
             [
              0.5555555555555556,
              "#d8576b"
             ],
             [
              0.6666666666666666,
              "#ed7953"
             ],
             [
              0.7777777777777778,
              "#fb9f3a"
             ],
             [
              0.8888888888888888,
              "#fdca26"
             ],
             [
              1,
              "#f0f921"
             ]
            ],
            "type": "surface"
           }
          ],
          "table": [
           {
            "cells": {
             "fill": {
              "color": "#EBF0F8"
             },
             "line": {
              "color": "white"
             }
            },
            "header": {
             "fill": {
              "color": "#C8D4E3"
             },
             "line": {
              "color": "white"
             }
            },
            "type": "table"
           }
          ]
         },
         "layout": {
          "annotationdefaults": {
           "arrowcolor": "#2a3f5f",
           "arrowhead": 0,
           "arrowwidth": 1
          },
          "autotypenumbers": "strict",
          "coloraxis": {
           "colorbar": {
            "outlinewidth": 0,
            "ticks": ""
           }
          },
          "colorscale": {
           "diverging": [
            [
             0,
             "#8e0152"
            ],
            [
             0.1,
             "#c51b7d"
            ],
            [
             0.2,
             "#de77ae"
            ],
            [
             0.3,
             "#f1b6da"
            ],
            [
             0.4,
             "#fde0ef"
            ],
            [
             0.5,
             "#f7f7f7"
            ],
            [
             0.6,
             "#e6f5d0"
            ],
            [
             0.7,
             "#b8e186"
            ],
            [
             0.8,
             "#7fbc41"
            ],
            [
             0.9,
             "#4d9221"
            ],
            [
             1,
             "#276419"
            ]
           ],
           "sequential": [
            [
             0,
             "#0d0887"
            ],
            [
             0.1111111111111111,
             "#46039f"
            ],
            [
             0.2222222222222222,
             "#7201a8"
            ],
            [
             0.3333333333333333,
             "#9c179e"
            ],
            [
             0.4444444444444444,
             "#bd3786"
            ],
            [
             0.5555555555555556,
             "#d8576b"
            ],
            [
             0.6666666666666666,
             "#ed7953"
            ],
            [
             0.7777777777777778,
             "#fb9f3a"
            ],
            [
             0.8888888888888888,
             "#fdca26"
            ],
            [
             1,
             "#f0f921"
            ]
           ],
           "sequentialminus": [
            [
             0,
             "#0d0887"
            ],
            [
             0.1111111111111111,
             "#46039f"
            ],
            [
             0.2222222222222222,
             "#7201a8"
            ],
            [
             0.3333333333333333,
             "#9c179e"
            ],
            [
             0.4444444444444444,
             "#bd3786"
            ],
            [
             0.5555555555555556,
             "#d8576b"
            ],
            [
             0.6666666666666666,
             "#ed7953"
            ],
            [
             0.7777777777777778,
             "#fb9f3a"
            ],
            [
             0.8888888888888888,
             "#fdca26"
            ],
            [
             1,
             "#f0f921"
            ]
           ]
          },
          "colorway": [
           "#636efa",
           "#EF553B",
           "#00cc96",
           "#ab63fa",
           "#FFA15A",
           "#19d3f3",
           "#FF6692",
           "#B6E880",
           "#FF97FF",
           "#FECB52"
          ],
          "font": {
           "color": "#2a3f5f"
          },
          "geo": {
           "bgcolor": "white",
           "lakecolor": "white",
           "landcolor": "white",
           "showlakes": true,
           "showland": true,
           "subunitcolor": "#C8D4E3"
          },
          "hoverlabel": {
           "align": "left"
          },
          "hovermode": "closest",
          "mapbox": {
           "style": "light"
          },
          "paper_bgcolor": "white",
          "plot_bgcolor": "white",
          "polar": {
           "angularaxis": {
            "gridcolor": "#EBF0F8",
            "linecolor": "#EBF0F8",
            "ticks": ""
           },
           "bgcolor": "white",
           "radialaxis": {
            "gridcolor": "#EBF0F8",
            "linecolor": "#EBF0F8",
            "ticks": ""
           }
          },
          "scene": {
           "xaxis": {
            "backgroundcolor": "white",
            "gridcolor": "#DFE8F3",
            "gridwidth": 2,
            "linecolor": "#EBF0F8",
            "showbackground": true,
            "ticks": "",
            "zerolinecolor": "#EBF0F8"
           },
           "yaxis": {
            "backgroundcolor": "white",
            "gridcolor": "#DFE8F3",
            "gridwidth": 2,
            "linecolor": "#EBF0F8",
            "showbackground": true,
            "ticks": "",
            "zerolinecolor": "#EBF0F8"
           },
           "zaxis": {
            "backgroundcolor": "white",
            "gridcolor": "#DFE8F3",
            "gridwidth": 2,
            "linecolor": "#EBF0F8",
            "showbackground": true,
            "ticks": "",
            "zerolinecolor": "#EBF0F8"
           }
          },
          "shapedefaults": {
           "line": {
            "color": "#2a3f5f"
           }
          },
          "ternary": {
           "aaxis": {
            "gridcolor": "#DFE8F3",
            "linecolor": "#A2B1C6",
            "ticks": ""
           },
           "baxis": {
            "gridcolor": "#DFE8F3",
            "linecolor": "#A2B1C6",
            "ticks": ""
           },
           "bgcolor": "white",
           "caxis": {
            "gridcolor": "#DFE8F3",
            "linecolor": "#A2B1C6",
            "ticks": ""
           }
          },
          "title": {
           "x": 0.05
          },
          "xaxis": {
           "automargin": true,
           "gridcolor": "#EBF0F8",
           "linecolor": "#EBF0F8",
           "ticks": "",
           "title": {
            "standoff": 15
           },
           "zerolinecolor": "#EBF0F8",
           "zerolinewidth": 2
          },
          "yaxis": {
           "automargin": true,
           "gridcolor": "#EBF0F8",
           "linecolor": "#EBF0F8",
           "ticks": "",
           "title": {
            "standoff": 15
           },
           "zerolinecolor": "#EBF0F8",
           "zerolinewidth": 2
          }
         }
        },
        "width": 1000,
        "xaxis": {
         "anchor": "y",
         "domain": [
          0,
          1
         ],
         "title": {
          "font": {
           "size": 18
          },
          "text": "Years"
         }
        },
        "yaxis": {
         "anchor": "x",
         "domain": [
          0,
          1
         ],
         "title": {
          "font": {
           "size": 18
          },
          "text": "Number"
         }
        }
       }
      }
     },
     "metadata": {},
     "output_type": "display_data"
    }
   ],
   "source": [
    "import plotly.express as px\n",
    "import pandas as pd\n",
    "import numpy as np\n",
    "\n",
    "df = pd.read_csv('Mt_keywords_counts_year.csv')\n",
    "\n",
    "# df的count列转为float类型\n",
    "df['Count'] = df['Count'].astype(float)\n",
    "df['Counts'] = df['Count'] + np.random.uniform(-0.5, 0.5, size=len(df))\n",
    "df['Years'] = df['Year'] + np.random.uniform(-0.3, 0.3, size=len(df))\n",
    "\n",
    "fig = px.scatter(df, \n",
    "                 x='Years', \n",
    "                 y='Counts', \n",
    "                 size='Count',\n",
    "                 color='Count',\n",
    "                 hover_name='Keyword',  # 使用关键词作为悬浮名称\n",
    "                 hover_data=['Year', 'Count'],  \n",
    "                 size_max=20,\n",
    "                 title='',\n",
    "                 labels={\"Count\": \"Numbers\", \"Year\": \"Years\"},\n",
    "                 color_continuous_scale=\"Agsunset\",\n",
    "                )\n",
    "\n",
    "fig.update_layout(\n",
    "    template=\"plotly_white\",\n",
    "    width=1000,\n",
    "    height=600,\n",
    "    xaxis=dict(title=dict(text='Years', font=dict(size=18))),\n",
    "    yaxis=dict(title=dict(text='Number', font=dict(size=18)),\n",
    "    )\n",
    ")\n",
    "\n",
    "\n",
    "fig.show()"
   ]
  },
  {
   "cell_type": "code",
   "execution_count": 3,
   "metadata": {},
   "outputs": [],
   "source": [
    "import pandas as pd\n",
    "from collections import Counter\n",
    "import json\n",
    "import re"
   ]
  },
  {
   "cell_type": "code",
   "execution_count": 4,
   "metadata": {},
   "outputs": [],
   "source": [
    "# 读取csv数据\n",
    "data = pd.read_csv(\"./Mt_paper_all.csv\").copy()"
   ]
  },
  {
   "cell_type": "code",
   "execution_count": 5,
   "metadata": {},
   "outputs": [
    {
     "data": {
      "text/html": [
       "<div>\n",
       "<style scoped>\n",
       "    .dataframe tbody tr th:only-of-type {\n",
       "        vertical-align: middle;\n",
       "    }\n",
       "\n",
       "    .dataframe tbody tr th {\n",
       "        vertical-align: top;\n",
       "    }\n",
       "\n",
       "    .dataframe thead th {\n",
       "        text-align: right;\n",
       "    }\n",
       "</style>\n",
       "<table border=\"1\" class=\"dataframe\">\n",
       "  <thead>\n",
       "    <tr style=\"text-align: right;\">\n",
       "      <th></th>\n",
       "      <th>PMID</th>\n",
       "      <th>Author</th>\n",
       "      <th>Title</th>\n",
       "      <th>Abstract</th>\n",
       "      <th>Keywords</th>\n",
       "      <th>Journal</th>\n",
       "      <th>Institution</th>\n",
       "      <th>Country</th>\n",
       "      <th>DOI</th>\n",
       "      <th>Publication Year</th>\n",
       "    </tr>\n",
       "  </thead>\n",
       "  <tbody>\n",
       "    <tr>\n",
       "      <th>0</th>\n",
       "      <td>25025273</td>\n",
       "      <td>['Singh, Bijender']</td>\n",
       "      <td>Myceliophthora thermophila syn. Sporotrichum t...</td>\n",
       "      <td>Myceliophthora thermophila syn. Sporotrichum t...</td>\n",
       "      <td>Biomolecules, Myceliophthora thermophila, Spor...</td>\n",
       "      <td>Critical reviews in biotechnology</td>\n",
       "      <td>a Laboratory of Bioprocess Technology, Departm...</td>\n",
       "      <td>India</td>\n",
       "      <td>10.3109/07388551.2014.923985</td>\n",
       "      <td>2016</td>\n",
       "    </tr>\n",
       "    <tr>\n",
       "      <th>1</th>\n",
       "      <td>32640074</td>\n",
       "      <td>['Dos Santos Gomes, A C', 'Casciatori, F P', '...</td>\n",
       "      <td>Growth kinetics of Myceliophthora thermophila ...</td>\n",
       "      <td>AIMS: This work aimed to estimate the growth o...</td>\n",
       "      <td>N-acetylglucosamine, enzymes, growth kinetics,...</td>\n",
       "      <td>Journal of applied microbiology</td>\n",
       "      <td>Instituto de Biociencias, Letras e Ciencias Ex...</td>\n",
       "      <td>Brazil</td>\n",
       "      <td>10.1111/jam.14774</td>\n",
       "      <td>2021</td>\n",
       "    </tr>\n",
       "    <tr>\n",
       "      <th>2</th>\n",
       "      <td>24995002</td>\n",
       "      <td>['Karnaouri, Anthi', 'Topakas, Evangelos', 'An...</td>\n",
       "      <td>Genomic insights into the fungal lignocellulol...</td>\n",
       "      <td>The microbial conversion of solid cellulosic b...</td>\n",
       "      <td>CAZy, Myceliophthora thermophila, biofuels, li...</td>\n",
       "      <td>Frontiers in microbiology</td>\n",
       "      <td>Biotechnology Laboratory, Department of Synthe...</td>\n",
       "      <td>Sweden</td>\n",
       "      <td>10.3389/fmicb.2014.00281</td>\n",
       "      <td>2014</td>\n",
       "    </tr>\n",
       "    <tr>\n",
       "      <th>3</th>\n",
       "      <td>35450635</td>\n",
       "      <td>['Sun, Peicheng', 'de Munnik, Melanie', 'van B...</td>\n",
       "      <td>Extending the diversity of Myceliophthora ther...</td>\n",
       "      <td>Lytic polysaccharide monooxygenases (LPMOs) pl...</td>\n",
       "      <td>Active site segment, LPMOs, Lignocellulose, Ma...</td>\n",
       "      <td>Carbohydrate polymers</td>\n",
       "      <td>Laboratory of Food Chemistry, Wageningen Unive...</td>\n",
       "      <td>the Netherlands. Electronic address: peicheng....</td>\n",
       "      <td>10.1016/j.carbpol.2022.119373</td>\n",
       "      <td>2022</td>\n",
       "    </tr>\n",
       "    <tr>\n",
       "      <th>4</th>\n",
       "      <td>31534479</td>\n",
       "      <td>['Dos Santos Gomes, Ana Carolina', 'Falkoski, ...</td>\n",
       "      <td>Myceliophthora thermophila Xyr1 is predominant...</td>\n",
       "      <td>BACKGROUND: Myceliophthora thermophila is a th...</td>\n",
       "      <td>Cellulose degradation, Myceliophthora thermoph...</td>\n",
       "      <td>Biotechnology for biofuels</td>\n",
       "      <td>1Fungal Physiology, Westerdijk Fungal Biodiver...</td>\n",
       "      <td>The Netherlands. ISNI: 0000000120346234. GRID:...</td>\n",
       "      <td>10.1186/s13068-019-1556-y</td>\n",
       "      <td>2019</td>\n",
       "    </tr>\n",
       "    <tr>\n",
       "      <th>...</th>\n",
       "      <td>...</td>\n",
       "      <td>...</td>\n",
       "      <td>...</td>\n",
       "      <td>...</td>\n",
       "      <td>...</td>\n",
       "      <td>...</td>\n",
       "      <td>...</td>\n",
       "      <td>...</td>\n",
       "      <td>...</td>\n",
       "      <td>...</td>\n",
       "    </tr>\n",
       "    <tr>\n",
       "      <th>245</th>\n",
       "      <td>24128582</td>\n",
       "      <td>['Aljawish, Abdulhadi', 'Chevalot, Isabelle', ...</td>\n",
       "      <td>Laccase-catalysed oxidation of ferulic acid an...</td>\n",
       "      <td>The enzymatic oxidation of ferulic acid (FA) a...</td>\n",
       "      <td>Antioxidant, Cytotoxicity, Dye, Enzymatic oxid...</td>\n",
       "      <td>Food chemistry</td>\n",
       "      <td>Laboratoire d'Ingenierie des Biomolecules (LIB...</td>\n",
       "      <td>France</td>\n",
       "      <td>10.1016/j.foodchem.2013.07.119</td>\n",
       "      <td>2014</td>\n",
       "    </tr>\n",
       "    <tr>\n",
       "      <th>253</th>\n",
       "      <td>30960948</td>\n",
       "      <td>['Su, Jing', 'Shim, Euijin', 'Noro, Jennifer',...</td>\n",
       "      <td>Conductive Cotton by In Situ Laccase-Polymeriz...</td>\n",
       "      <td>Conductive cotton fabrics were obtained via in...</td>\n",
       "      <td>1-hydroxybenzotriazol (HBT), coatings, conduct...</td>\n",
       "      <td>Polymers</td>\n",
       "      <td>International Joint Research Laboratory for Te...</td>\n",
       "      <td>China. jingsu@ceb.uminho.pt</td>\n",
       "      <td>10.3390/polym10091023</td>\n",
       "      <td>2018</td>\n",
       "    </tr>\n",
       "    <tr>\n",
       "      <th>257</th>\n",
       "      <td>33807631</td>\n",
       "      <td>['Contato, Alex Graca', 'de Oliveira, Tassio B...</td>\n",
       "      <td>Prospection of Fungal Lignocellulolytic Enzyme...</td>\n",
       "      <td>The lignocellulosic biomass comprises three ma...</td>\n",
       "      <td>Hymenaea courbaril, Tamarindus indica, biopros...</td>\n",
       "      <td>Microorganisms</td>\n",
       "      <td>Departamento de Bioquimica e Imunologia, Facul...</td>\n",
       "      <td>Brazil</td>\n",
       "      <td>10.3390/microorganisms9030533</td>\n",
       "      <td>2021</td>\n",
       "    </tr>\n",
       "    <tr>\n",
       "      <th>263</th>\n",
       "      <td>36866191</td>\n",
       "      <td>['Bampidis, Vasileios', 'Azimonti, Giovanna', ...</td>\n",
       "      <td>Safety and efficacy of a feed additive consist...</td>\n",
       "      <td>Following a request from the European Commissi...</td>\n",
       "      <td>Natupulse(R), digestibility enhancers, efficac...</td>\n",
       "      <td>EFSA journal. European Food Safety Authority</td>\n",
       "      <td>?</td>\n",
       "      <td>NaN</td>\n",
       "      <td>10.2903/j.efsa.2023.7873</td>\n",
       "      <td>2023</td>\n",
       "    </tr>\n",
       "    <tr>\n",
       "      <th>264</th>\n",
       "      <td>37164048</td>\n",
       "      <td>['Goncalves, Aline Larissa', 'Cunha, Paula Mac...</td>\n",
       "      <td>Production of recombinant lytic polysaccharide...</td>\n",
       "      <td>Lignocellulosic biomass is a promising alterna...</td>\n",
       "      <td>Enzymes, Filamentous fungi, LPMO, Saccharifica...</td>\n",
       "      <td>Biochimica et biophysica acta. Proteins and pr...</td>\n",
       "      <td>Department of Biotechnology, Lorena School of ...</td>\n",
       "      <td>Brazil</td>\n",
       "      <td>10.1016/j.bbapap.2023.140919</td>\n",
       "      <td>2023</td>\n",
       "    </tr>\n",
       "  </tbody>\n",
       "</table>\n",
       "<p>153 rows × 10 columns</p>\n",
       "</div>"
      ],
      "text/plain": [
       "         PMID                                             Author  \\\n",
       "0    25025273                                ['Singh, Bijender']   \n",
       "1    32640074  ['Dos Santos Gomes, A C', 'Casciatori, F P', '...   \n",
       "2    24995002  ['Karnaouri, Anthi', 'Topakas, Evangelos', 'An...   \n",
       "3    35450635  ['Sun, Peicheng', 'de Munnik, Melanie', 'van B...   \n",
       "4    31534479  ['Dos Santos Gomes, Ana Carolina', 'Falkoski, ...   \n",
       "..        ...                                                ...   \n",
       "245  24128582  ['Aljawish, Abdulhadi', 'Chevalot, Isabelle', ...   \n",
       "253  30960948  ['Su, Jing', 'Shim, Euijin', 'Noro, Jennifer',...   \n",
       "257  33807631  ['Contato, Alex Graca', 'de Oliveira, Tassio B...   \n",
       "263  36866191  ['Bampidis, Vasileios', 'Azimonti, Giovanna', ...   \n",
       "264  37164048  ['Goncalves, Aline Larissa', 'Cunha, Paula Mac...   \n",
       "\n",
       "                                                 Title  \\\n",
       "0    Myceliophthora thermophila syn. Sporotrichum t...   \n",
       "1    Growth kinetics of Myceliophthora thermophila ...   \n",
       "2    Genomic insights into the fungal lignocellulol...   \n",
       "3    Extending the diversity of Myceliophthora ther...   \n",
       "4    Myceliophthora thermophila Xyr1 is predominant...   \n",
       "..                                                 ...   \n",
       "245  Laccase-catalysed oxidation of ferulic acid an...   \n",
       "253  Conductive Cotton by In Situ Laccase-Polymeriz...   \n",
       "257  Prospection of Fungal Lignocellulolytic Enzyme...   \n",
       "263  Safety and efficacy of a feed additive consist...   \n",
       "264  Production of recombinant lytic polysaccharide...   \n",
       "\n",
       "                                              Abstract  \\\n",
       "0    Myceliophthora thermophila syn. Sporotrichum t...   \n",
       "1    AIMS: This work aimed to estimate the growth o...   \n",
       "2    The microbial conversion of solid cellulosic b...   \n",
       "3    Lytic polysaccharide monooxygenases (LPMOs) pl...   \n",
       "4    BACKGROUND: Myceliophthora thermophila is a th...   \n",
       "..                                                 ...   \n",
       "245  The enzymatic oxidation of ferulic acid (FA) a...   \n",
       "253  Conductive cotton fabrics were obtained via in...   \n",
       "257  The lignocellulosic biomass comprises three ma...   \n",
       "263  Following a request from the European Commissi...   \n",
       "264  Lignocellulosic biomass is a promising alterna...   \n",
       "\n",
       "                                              Keywords  \\\n",
       "0    Biomolecules, Myceliophthora thermophila, Spor...   \n",
       "1    N-acetylglucosamine, enzymes, growth kinetics,...   \n",
       "2    CAZy, Myceliophthora thermophila, biofuels, li...   \n",
       "3    Active site segment, LPMOs, Lignocellulose, Ma...   \n",
       "4    Cellulose degradation, Myceliophthora thermoph...   \n",
       "..                                                 ...   \n",
       "245  Antioxidant, Cytotoxicity, Dye, Enzymatic oxid...   \n",
       "253  1-hydroxybenzotriazol (HBT), coatings, conduct...   \n",
       "257  Hymenaea courbaril, Tamarindus indica, biopros...   \n",
       "263  Natupulse(R), digestibility enhancers, efficac...   \n",
       "264  Enzymes, Filamentous fungi, LPMO, Saccharifica...   \n",
       "\n",
       "                                               Journal  \\\n",
       "0                    Critical reviews in biotechnology   \n",
       "1                      Journal of applied microbiology   \n",
       "2                            Frontiers in microbiology   \n",
       "3                                Carbohydrate polymers   \n",
       "4                           Biotechnology for biofuels   \n",
       "..                                                 ...   \n",
       "245                                     Food chemistry   \n",
       "253                                           Polymers   \n",
       "257                                     Microorganisms   \n",
       "263       EFSA journal. European Food Safety Authority   \n",
       "264  Biochimica et biophysica acta. Proteins and pr...   \n",
       "\n",
       "                                           Institution  \\\n",
       "0    a Laboratory of Bioprocess Technology, Departm...   \n",
       "1    Instituto de Biociencias, Letras e Ciencias Ex...   \n",
       "2    Biotechnology Laboratory, Department of Synthe...   \n",
       "3    Laboratory of Food Chemistry, Wageningen Unive...   \n",
       "4    1Fungal Physiology, Westerdijk Fungal Biodiver...   \n",
       "..                                                 ...   \n",
       "245  Laboratoire d'Ingenierie des Biomolecules (LIB...   \n",
       "253  International Joint Research Laboratory for Te...   \n",
       "257  Departamento de Bioquimica e Imunologia, Facul...   \n",
       "263                                                  ?   \n",
       "264  Department of Biotechnology, Lorena School of ...   \n",
       "\n",
       "                                               Country  \\\n",
       "0                                                India   \n",
       "1                                               Brazil   \n",
       "2                                               Sweden   \n",
       "3    the Netherlands. Electronic address: peicheng....   \n",
       "4    The Netherlands. ISNI: 0000000120346234. GRID:...   \n",
       "..                                                 ...   \n",
       "245                                             France   \n",
       "253                        China. jingsu@ceb.uminho.pt   \n",
       "257                                             Brazil   \n",
       "263                                                NaN   \n",
       "264                                             Brazil   \n",
       "\n",
       "                                DOI  Publication Year  \n",
       "0      10.3109/07388551.2014.923985              2016  \n",
       "1                 10.1111/jam.14774              2021  \n",
       "2          10.3389/fmicb.2014.00281              2014  \n",
       "3     10.1016/j.carbpol.2022.119373              2022  \n",
       "4         10.1186/s13068-019-1556-y              2019  \n",
       "..                              ...               ...  \n",
       "245  10.1016/j.foodchem.2013.07.119              2014  \n",
       "253           10.3390/polym10091023              2018  \n",
       "257   10.3390/microorganisms9030533              2021  \n",
       "263        10.2903/j.efsa.2023.7873              2023  \n",
       "264    10.1016/j.bbapap.2023.140919              2023  \n",
       "\n",
       "[153 rows x 10 columns]"
      ]
     },
     "execution_count": 5,
     "metadata": {},
     "output_type": "execute_result"
    }
   ],
   "source": [
    "# 如果data_filter中的Keywords列有空值，就删除该行\n",
    "data.dropna(subset=['Keywords'], inplace=True)\n",
    "data"
   ]
  },
  {
   "cell_type": "code",
   "execution_count": null,
   "metadata": {},
   "outputs": [],
   "source": [
    "# data只保留title和keywords两列\n",
    "data_filter = data[['Keywords', 'Publication Year']]\n",
    "\n",
    "# 保存data_filter为csv\n",
    "data_filter.to_csv(\"./Mt_paper_filter.csv\", index=False)"
   ]
  },
  {
   "cell_type": "code",
   "execution_count": null,
   "metadata": {},
   "outputs": [],
   "source": [
    "import pandas as pd\n",
    "from collections import defaultdict\n",
    "import re\n",
    "\n",
    "# 函数用于检查是否是有效的关键词\n",
    "def is_valid_keyword(keyword):\n",
    "    # 这里我们使用正则表达式排除仅包含数字的字符串\n",
    "    # 并且确认关键词长度超过2\n",
    "    return re.match(r'^[A-Za-z\\s]+$', keyword) and len(keyword) > 2\n",
    "\n",
    "# 初始化一个defaultdict来存储关键词计数\n",
    "keywords_yearly_counts = defaultdict(lambda: defaultdict(int))\n",
    "\n",
    "# 遍历DataFrame的每一行\n",
    "for index, row in data_filter.iterrows():\n",
    "    year = row['Publication Year']\n",
    "    keywords = row['Keywords'].split(',')\n",
    "    \n",
    "    # 去除空格并统一格式\n",
    "    keywords = [keyword.strip().capitalize() for keyword in keywords if is_valid_keyword(keyword)]\n",
    "    \n",
    "    for keyword in keywords:\n",
    "        keywords_yearly_counts[keyword][year] += 1\n",
    "\n",
    "# 转换为DataFrame\n",
    "keywords_yearly_df = pd.DataFrame([\n",
    "    {'Keyword': keyword, 'Year': year, 'Count': count}\n",
    "    for keyword, years in keywords_yearly_counts.items()\n",
    "    for year, count in years.items()\n",
    "])\n",
    "\n",
    "# 排序并保存\n",
    "keywords_yearly_df = keywords_yearly_df.sort_values(by=[\"Keyword\", \"Year\"])\n",
    "keywords_yearly_df.to_csv('Mt_keywords_counts_year.csv', index=False)"
   ]
  }
 ],
 "metadata": {
  "kernelspec": {
   "display_name": "code",
   "language": "python",
   "name": "python3"
  },
  "language_info": {
   "codemirror_mode": {
    "name": "ipython",
    "version": 3
   },
   "file_extension": ".py",
   "mimetype": "text/x-python",
   "name": "python",
   "nbconvert_exporter": "python",
   "pygments_lexer": "ipython3",
   "version": "3.10.0"
  }
 },
 "nbformat": 4,
 "nbformat_minor": 2
}
